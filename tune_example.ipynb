{
 "cells": [
  {
   "cell_type": "code",
   "execution_count": 1,
   "metadata": {},
   "outputs": [],
   "source": [
    "\"\"\"Example of using training on CartPole.\"\"\"\n",
    "\n",
    "#import argparse\n",
    "import ray\n",
    "from ray import tune\n",
    "from ray.rllib.contrib.alpha_zero.models.custom_torch_models import DenseModel\n",
    "from ray.rllib.contrib.alpha_zero.environments.cartpole import CartPole\n",
    "from ray.rllib.models.catalog import ModelCatalog\n",
    "\n",
    "train=False\n",
    "#parser = argparse.ArgumentParser()\n",
    "#parser.add_argument(\"--num-workers\", default=6, type=int)\n",
    "#parser.add_argument(\"--training-iteration\", default=10000, type=int)\n",
    "#parser.add_argument(\"--ray-num-cpus\", default=7, type=int)\n",
    "#args = parser.parse_args()\n",
    "ray.shutdown()\n",
    "ray.init(num_cpus=7)\n",
    "\n",
    "ModelCatalog.register_custom_model(\"dense_model\", DenseModel)\n",
    "\n",
    "config={\n",
    "    \"env\": CartPole,\n",
    "    \"num_workers\": 0,\n",
    "    \"rollout_fragment_length\": 50,\n",
    "    \"train_batch_size\": 500,\n",
    "    \"sgd_minibatch_size\": 64,\n",
    "    \"lr\": 1e-4,\n",
    "    \"num_sgd_iter\": 1,\n",
    "    \"mcts_config\": {\n",
    "        \"puct_coefficient\": 1.5,\n",
    "        \"num_simulations\": 100,\n",
    "        \"temperature\": 1.0,\n",
    "        \"dirichlet_epsilon\": 0.20,\n",
    "        \"dirichlet_noise\": 0.03,\n",
    "        \"argmax_tree_policy\": False,\n",
    "        \"add_dirichlet_noise\": True,\n",
    "    },\n",
    "    \"ranked_rewards\": {\n",
    "        \"enable\": True,\n",
    "    },\n",
    "    \"model\": {\n",
    "        \"custom_model\": \"dense_model\",\n",
    "    },\n",
    "}\n"
   ]
  },
  {
   "cell_type": "code",
   "execution_count": 2,
   "metadata": {},
   "outputs": [],
   "source": [
    "if train:\n",
    "    analysis=tune.run(\n",
    "        \"contrib/AlphaZero\",\n",
    "        local_dir=\"/Users/felix/sciebo/masterarbeit/progra/model-based_rl/tune_check\",\n",
    "        stop={\"training_iteration\": 2000},\n",
    "        checkpoint_freq = 1,\n",
    "        max_failures=0,\n",
    "        config=config,\n",
    "    )\n",
    "\n"
   ]
  },
  {
   "cell_type": "code",
   "execution_count": 3,
   "metadata": {},
   "outputs": [
    {
     "name": "stderr",
     "output_type": "stream",
     "text": [
      "2022-08-18 08:46:29,977\tWARNING deprecation.py:46 -- DeprecationWarning: `simple_optimizer` has been deprecated. This will raise an error in the future!\n",
      "2022-08-18 08:46:29,985\tINFO trainer.py:903 -- Current log_level is WARN. For more information, set 'log_level': 'INFO' / 'DEBUG' or use the -v and -vv flags.\n",
      "2022-08-18 08:46:30,005\tWARNING env.py:135 -- Your env doesn't have a .spec.max_episode_steps attribute. This is fine if you have set 'horizon' in your config dictionary, or `soft_horizon`. However, if you haven't, 'horizon' will default to infinity, and your environment will not be reset.\n",
      "2022-08-18 08:46:30,259\tWARNING util.py:65 -- Install gputil for GPU system monitoring.\n",
      "2022-08-18 08:46:30,285\tINFO trainable.py:588 -- Restored on 127.0.0.1 from checkpoint: tune_check/contrib/AlphaZero/contrib_AlphaZero_CartPole_dede1_00000_0_2022-08-17_20-46-14/checkpoint_000040/checkpoint-40\n",
      "2022-08-18 08:46:30,287\tINFO trainable.py:597 -- Current state after restoring: {'_iteration': 40, '_timesteps_total': 29818, '_time_total': 4503.5757784843445, '_episodes_total': 770}\n",
      "2022-08-18 08:46:30,293\tWARNING deprecation.py:46 -- DeprecationWarning: `MultiAgentEpisode` has been deprecated. Use `ray.rllib.evaluation.episode.Episode` instead. This will raise an error in the future!\n"
     ]
    },
    {
     "name": "stdout",
     "output_type": "stream",
     "text": [
      "episode 0 finished\n",
      "episode 1 finished\n",
      "episode 2 finished\n",
      "episode 3 finished\n",
      "episode 4 finished\n",
      "episode 5 finished\n",
      "episode 6 finished\n",
      "episode 7 finished\n",
      "episode 8 finished\n",
      "episode 9 finished\n",
      "episode 10 finished\n",
      "episode 11 finished\n",
      "episode 12 finished\n",
      "episode 13 finished\n",
      "episode 14 finished\n",
      "episode 15 finished\n",
      "episode 16 finished\n",
      "episode 17 finished\n",
      "episode 18 finished\n",
      "episode 19 finished\n"
     ]
    }
   ],
   "source": [
    "from ray.rllib.contrib.alpha_zero.core.alpha_zero_trainer import AlphaZeroTrainer\n",
    "from ray.rllib.policy.sample_batch import DEFAULT_POLICY_ID\n",
    "from ray.rllib.policy.policy_map import PolicyMap\n",
    "from ray.rllib.evaluation.episode import MultiAgentEpisode\n",
    "\n",
    "agent = AlphaZeroTrainer (env = CartPole, config = config)\n",
    "env=CartPole()\n",
    "agent.restore ('tune_check/contrib/AlphaZero/contrib_AlphaZero_CartPole_dede1_00000_0_2022-08-17_20-46-14/checkpoint_000040/checkpoint-40')\n",
    "\n",
    "reward_list=[]\n",
    "for i in range(20):\n",
    "    obs = env.reset()\n",
    "    policy = agent.get_policy(DEFAULT_POLICY_ID)\n",
    "    episode = MultiAgentEpisode(\n",
    "        PolicyMap(0,0),\n",
    "        lambda _, __: DEFAULT_POLICY_ID,\n",
    "        lambda: None,\n",
    "        lambda _: None,\n",
    "        0,\n",
    "    )\n",
    "\n",
    "    episode.user_data['initial_state'] = env.get_state()\n",
    "\n",
    "    done = False\n",
    "\n",
    "    while not done:\n",
    "        action, _, _ = policy.compute_single_action(obs, episode=episode)\n",
    "        obs, reward, done, _ = env.step(action)\n",
    "        #print(reward)\n",
    "        #env.render()\n",
    "        #time.sleep(0.1)\n",
    "        episode.length += 1\n",
    "        \n",
    "    reward_list.append(reward)\n",
    "    print(f\"episode {i} finished\")\n",
    "#env.close()"
   ]
  },
  {
   "cell_type": "code",
   "execution_count": 5,
   "metadata": {},
   "outputs": [
    {
     "data": {
      "image/png": "[encoded data removed]",
      "text/plain": [
       "<Figure size 432x288 with 1 Axes>"
      ]
     },
     "metadata": {
      "needs_background": "light"
     },
     "output_type": "display_data"
    }
   ],
   "source": [
    "import matplotlib.pyplot as plt\n",
    "plt.plot(reward_list,'bs')\n",
    "plt.ylabel('gained reward')\n",
    "plt.xlabel('runs')\n",
    "plt.title('AlphaZero reward in Cartpole Environment over different runs checkpoint_40')\n",
    "plt.show()"
   ]
  }
 ],
 "metadata": {
  "interpreter": {
   "hash": "76fe728b8cb1294c4ac65d2fab506d621708da3fbbfb70b14417e3341c6f7935"
  },
  "kernelspec": {
   "display_name": "Python 3.10.4 64-bit",
   "name": "python3"
  },
  "language_info": {
   "name": "python",
   "version": ""
  },
  "orig_nbformat": 4
 },
 "nbformat": 4,
 "nbformat_minor": 2
}