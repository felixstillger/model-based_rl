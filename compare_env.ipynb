{
 "cells": [
  {
   "cell_type": "code",
   "execution_count": 1,
   "metadata": {},
   "outputs": [],
   "source": [
    "import gym\n",
    "from src.jss_lite.jss_lite import jss_lite\n",
    "\n",
    "\n",
    "def env_creator():\n",
    "    env = jss_lite(instance_path='resources/jsp_instances/standard/ft06.txt')\n",
    "    return env\n",
    "\n",
    "from wrapper.jssp_wrapper import Jssp_wrapper\n",
    "import src.jss_graph_env.disjunctive_graph_jss_env as jss_env\n",
    "import src.jsp_instance_parser \n",
    "from wrapper.jssp_wrapper import jssp_obs_wrapper\n",
    "from wrapper.jssp_wrapper import Jssp_wrapper\n",
    "\n",
    "def env_creator2():\n",
    "    #env = discretetobox(gym.make(\"Taxi-v3\"))\n",
    "    #env = gym.make('LunarLander-v2')\n",
    "    path='resources/jsp_instances/standard/ft06.txt'\n",
    "    curr_instance=src.jsp_instance_parser.parse_jps_standard_specification(path)\n",
    "    res,std_matrix=curr_instance\n",
    "    env = jssp_obs_wrapper(jss_env.DisjunctiveGraphJssEnv(res,default_visualisations='gantt_console'))\n",
    "    return env"
   ]
  },
  {
   "cell_type": "code",
   "execution_count": 2,
   "metadata": {},
   "outputs": [
    {
     "data": {
      "text/html": [
       "<pre style=\"white-space:pre;overflow-x:auto;line-height:normal;font-family:Menlo,'DejaVu Sans Mono',consolas,'Courier New',monospace\"><span style=\"color: #7fbfbf; text-decoration-color: #7fbfbf\">[10:16:27] </span><span style=\"color: #000080; text-decoration-color: #000080\">INFO    </span> parsing file <span style=\"color: #008000; text-decoration-color: #008000\">'resources/jsp_instances/standard/ft06.txt'</span>                                       \n",
       "</pre>\n"
      ],
      "text/plain": [
       "\u001b[2;36m[10:16:27]\u001b[0m\u001b[2;36m \u001b[0m\u001b[34mINFO    \u001b[0m parsing file \u001b[32m'resources/jsp_instances/standard/ft06.txt'\u001b[0m                                       \n"
      ]
     },
     "metadata": {},
     "output_type": "display_data"
    },
    {
     "data": {
      "text/html": [
       "<pre style=\"white-space:pre;overflow-x:auto;line-height:normal;font-family:Menlo,'DejaVu Sans Mono',consolas,'Courier New',monospace\"><span style=\"color: #7fbfbf; text-decoration-color: #7fbfbf\">           </span><span style=\"color: #000080; text-decoration-color: #000080\">INFO    </span> instance appears to contain <span style=\"color: #008080; text-decoration-color: #008080; font-weight: bold\">6</span> jobs, <span style=\"color: #008080; text-decoration-color: #008080; font-weight: bold\">6</span> machines                                                 \n",
       "</pre>\n"
      ],
      "text/plain": [
       "\u001b[2;36m          \u001b[0m\u001b[2;36m \u001b[0m\u001b[34mINFO    \u001b[0m instance appears to contain \u001b[1;36m6\u001b[0m jobs, \u001b[1;36m6\u001b[0m machines                                                 \n"
      ]
     },
     "metadata": {},
     "output_type": "display_data"
    }
   ],
   "source": [
    "env_1=env_creator()\n",
    "env_2=env_creator2()"
   ]
  },
  {
   "cell_type": "code",
   "execution_count": 4,
   "metadata": {},
   "outputs": [
    {
     "name": "stdout",
     "output_type": "stream",
     "text": [
      "[1 1 1 1 1 1 0 0 0 0 0 0]\n",
      "[1 0 0 0 0 0 1 0 0 0 0 0 1 0 0 0 0 0 1 0 0 0 0 0 1 0 0 0 0 0 1 0 0 0 0 0]\n",
      "{'obs': array([1. , 0. , 0.1, 0. , 0. , 0. , 1. , 0. , 0.8, 0. , 0. , 0. , 1. ,\n",
      "       0. , 0.5, 0. , 0. , 0. , 1. , 0. , 0.5, 0. , 0. , 0. , 1. , 0. ,\n",
      "       0.9, 0. , 0. , 0. , 1. , 0. , 0.3, 0. , 0. , 0. , 0. , 0. , 0. ,\n",
      "       0. , 0. , 0. , 1. , 0. , 0. , 0. , 0. , 0. , 1. , 0. , 0. , 0. ,\n",
      "       0. , 0. , 1. , 0. , 0. , 0. , 0. , 0. , 1. , 0. , 0. , 0. , 0. ,\n",
      "       0. , 1. , 0. , 0. , 0. , 0. , 0. ], dtype=float32), 'action_mask': array([1, 1, 1, 1, 1, 1, 0, 0, 0, 0, 0, 0], dtype=int32)}\n",
      "{'obs': array([0. , 0.1, 0. , ..., 0. , 0. , 0.1], dtype=float32), 'action_mask': array([1, 0, 0, 0, 0, 0, 1, 0, 0, 0, 0, 0, 1, 0, 0, 0, 0, 0, 1, 0, 0, 0,\n",
      "       0, 0, 1, 0, 0, 0, 0, 0, 1, 0, 0, 0, 0, 0], dtype=int32)}\n",
      "[1 1 1 1 1 1 0 0 0 0 0 0]\n",
      "[1 0 0 0 0 0 1 0 0 0 0 0 1 0 0 0 0 0 1 0 0 0 0 0 1 0 0 0 0 0 1 0 0 0 0 0]\n"
     ]
    }
   ],
   "source": [
    "import numpy as np\n",
    "reset_1=env_1.reset()\n",
    "reset_2=env_2.reset()\n",
    "print(reset_1['action_mask'])\n",
    "print(reset_2['action_mask'])\n",
    "print(reset_1)\n",
    "print(reset_2)\n",
    "#print(state['obs'].shape)\n",
    "#for i in range(150):\n",
    "legal_action_1=env_1.get_legal_actions(reset_1)\n",
    "print(legal_action_1)\n",
    "action_1=np.random.choice(len(legal_action_1), 1, p=(legal_action_1 / legal_action_1.sum()))[0]\n",
    "\n",
    "legal_action_2=reset_2['action_mask']\n",
    "print(legal_action_2)\n",
    "action_2=np.random.choice(len(legal_action_2), 1, p=(legal_action_2 / legal_action_2.sum()))[0]\n",
    "\n",
    "state_1, reward_1, done_1, info_1=env_1.step(action_1)\n",
    "get_state1=env_1.get_state()\n",
    "\n"
   ]
  },
  {
   "cell_type": "code",
   "execution_count": 7,
   "metadata": {},
   "outputs": [
    {
     "name": "stdout",
     "output_type": "stream",
     "text": [
      "[[1.  0.  0.1 0.  0.  0. ]\n",
      " [0.  0.  0.8 0.  0.  0.5]\n",
      " [1.  0.  0.5 0.  0.  0. ]\n",
      " [0.  0.5 0.5 0.  0.  0. ]\n",
      " [1.  0.  0.9 0.  0.  0. ]\n",
      " [0.  0.  0.3 0.  0.  0. ]\n",
      " [0.  0.  0.  0.  0.  0. ]\n",
      " [0.  0.  0.  0.  0.  0. ]\n",
      " [0.  0.  0.  0.  0.  0. ]\n",
      " [0.  0.  0.  0.  0.  0. ]\n",
      " [0.  0.  0.  0.  0.  0. ]\n",
      " [0.  0.  0.  0.  0.  0. ]]\n",
      "\n",
      "[[1.  0.  0.1 0.  0.  0. ]\n",
      " [0.  0.  0.8 0.  0.  0.5]\n",
      " [1.  0.  0.5 0.  0.  0. ]\n",
      " [0.  0.5 0.5 0.  0.  0. ]\n",
      " [1.  0.  0.9 0.  0.  0. ]\n",
      " [0.  0.  0.3 0.  0.  0. ]\n",
      " [0.  0.  0.  0.  0.  0. ]\n",
      " [0.  0.  0.  0.  0.  0. ]\n",
      " [0.  0.  0.  0.  0.  0. ]\n",
      " [0.  0.  0.  0.  0.  0. ]\n",
      " [0.  0.  0.  0.  0.  0. ]\n",
      " [0.  0.  0.  0.  0.  0. ]]\n",
      "[[nan  0.  0.]\n",
      " [ 3.  5.  0.]\n",
      " [nan  0.  0.]\n",
      " [nan  0.  0.]\n",
      " [nan  0.  0.]\n",
      " [nan  0.  0.]]\n",
      "\n",
      "[[nan  0.  0.]\n",
      " [ 3.  5.  0.]\n",
      " [nan  0.  0.]\n",
      " [nan  0.  0.]\n",
      " [nan  0.  0.]\n",
      " [nan  0.  0.]]\n"
     ]
    }
   ],
   "source": [
    "print(env_1.observation)\n",
    "print(\"\")\n",
    "print(get_state1.observation)\n",
    "\n",
    "print(env_1.get_legal_actions(\"t\"))\n",
    "print(\"\")\n",
    "print(get_state1.get_legal_actions(\"t\"))"
   ]
  },
  {
   "cell_type": "code",
   "execution_count": null,
   "metadata": {},
   "outputs": [],
   "source": []
  },
  {
   "cell_type": "code",
   "execution_count": null,
   "metadata": {},
   "outputs": [],
   "source": []
  },
  {
   "cell_type": "code",
   "execution_count": null,
   "metadata": {},
   "outputs": [],
   "source": []
  },
  {
   "cell_type": "code",
   "execution_count": null,
   "metadata": {},
   "outputs": [],
   "source": []
  },
  {
   "cell_type": "code",
   "execution_count": null,
   "metadata": {},
   "outputs": [],
   "source": []
  },
  {
   "cell_type": "code",
   "execution_count": null,
   "metadata": {},
   "outputs": [],
   "source": []
  },
  {
   "cell_type": "code",
   "execution_count": null,
   "metadata": {},
   "outputs": [],
   "source": []
  },
  {
   "cell_type": "code",
   "execution_count": null,
   "metadata": {},
   "outputs": [],
   "source": []
  },
  {
   "cell_type": "code",
   "execution_count": null,
   "metadata": {},
   "outputs": [],
   "source": []
  },
  {
   "cell_type": "code",
   "execution_count": null,
   "metadata": {},
   "outputs": [],
   "source": []
  }
 ],
 "metadata": {
  "kernelspec": {
   "display_name": "Python 3.10.4 ('customjssp')",
   "language": "python",
   "name": "python3"
  },
  "language_info": {
   "codemirror_mode": {
    "name": "ipython",
    "version": 3
   },
   "file_extension": ".py",
   "mimetype": "text/x-python",
   "name": "python",
   "nbconvert_exporter": "python",
   "pygments_lexer": "ipython3",
   "version": "3.10.4"
  },
  "orig_nbformat": 4,
  "vscode": {
   "interpreter": {
    "hash": "7344f7b5995cbf62a990a56ee6eec8bd53f41a3aff848cd18f1feb05905aa9e3"
   }
  }
 },
 "nbformat": 4,
 "nbformat_minor": 2
}
