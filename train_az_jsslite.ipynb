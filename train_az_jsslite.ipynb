{
 "cells": [
  {
   "cell_type": "code",
   "execution_count": 1,
   "metadata": {},
   "outputs": [
    {
     "name": "stdout",
     "output_type": "stream",
     "text": [
      "myEnvla01 environment registered\n",
      "myEnvla02 environment registered\n",
      "myEnvla03 environment registered\n"
     ]
    }
   ],
   "source": [
    "from ray import rllib, tune\n",
    "import ray\n",
    "from ray.rllib.contrib.alpha_zero.core.alpha_zero_trainer import AlphaZeroTrainer\n",
    "from ray.rllib.policy.sample_batch import DEFAULT_POLICY_ID\n",
    "from ray.rllib.policy.policy_map import PolicyMap\n",
    "from ray.rllib.evaluation.episode import MultiAgentEpisode\n",
    "from ray.tune.registry import register_env\n",
    "from ray.rllib.contrib.alpha_zero.models.custom_torch_models import DenseModel\n",
    "#from src.jss_lite.custom_torch_models import DenseModel\n",
    "from ray.rllib.models.catalog import ModelCatalog\n",
    "import gym\n",
    "from src.jss_lite.jss_lite import jss_lite\n",
    "\n",
    "ModelCatalog.register_custom_model(\"dense_model\", DenseModel)\n",
    "from copy import deepcopy\n",
    "import numpy as np\n",
    "import os\n",
    "def reload_ray():\n",
    "    ray.shutdown()\n",
    "    ModelCatalog.register_custom_model(\"dense_model\", DenseModel)    \n",
    "    tune.register_env('custom_jssp',env_creator)\n",
    "    tune.register_env('custom_jssp_1',env_creator_variable_1)\n",
    "    tune.register_env('custom_jssp_2',env_creator_variable_2)\n",
    "    tune.register_env('custom_jssp_3',env_creator_variable_3)\n",
    "\n",
    "def reload_ray_parameters(list):\n",
    "    ray.shutdown()\n",
    "    def env_creator_variable_instance(config,env_name):\n",
    "        return jssp_light_obs_wrapper_multi_instances([env_name])\n",
    "\n",
    "\n",
    "    for instance_tune in list:\n",
    "        tune.register_env('myEnv'+instance_tune[-8:-4], lambda config:env_creator_variable_instance(config=config,env_name=instance_tune))\n",
    "        print(f\"{'myEnv'+instance_tune[-8:-4]} environment registered\")\n",
    "\n",
    "ray.shutdown()\n",
    "#curr_dir=(os.path.dirname(__file__))\n",
    "curr_dir='/Users/felix/sciebo/masterarbeit/progra/model-based_rl'\n",
    "instance_list_2=['/resources/jsp_instances/standard/la01.txt','/resources/jsp_instances/standard/la02.txt','/resources/jsp_instances/standard/la03.txt']\n",
    "instance_list=['/resources/jsp_instances/standard/la01.txt']\n",
    "#,'/resources/jsp_instances/standard/la04.txt','/resources/jsp_instances/standard/la05.txt'\n",
    "\n",
    "instance_list=[curr_dir + s for s in instance_list]\n",
    "\n",
    "\n",
    "instance_list_2=[curr_dir + s for s in instance_list_2]\n",
    "#instance_list=['resources/jsp_instances/standard/ft06.txt','resources/jsp_instances/standard/ft10.txt','resources/jsp_instances/standard/ft20.txt','resources/jsp_instances/standard/abz5.txt','resources/jsp_instances/standard/abz6.txt','resources/jsp_instances/standard/abz7.txt']\n",
    "#instance_list=['resources/jsp_instances/standard/ft06.txt']\n",
    "\n",
    "train_agent=True\n",
    "#instance_path='resources/jsp_instances/standard/ft06.txt'\n",
    "restore_agent= False\n",
    "num_episodes = 10\n",
    "#restore_path= '/Users/felix/sciebo/masterarbeit/progra/model-based_rl/published_checkpoints/checkpoints_az_tune/ft06/checkpoint_000100/checkpoint-100'\n",
    "config = {\n",
    "    \"framework\": \"torch\",\n",
    "    \"disable_env_checking\":True,\n",
    "    \"num_workers\"       : 6,\n",
    "    \"rollout_fragment_length\": 50,\n",
    "    \"train_batch_size\"  : 500,\n",
    "    \"sgd_minibatch_size\": 64,\n",
    "    #\"lr\"                : 0.0001,\n",
    "    \"lr\"                : 0.001,\n",
    "    \"explore\"           :True,\n",
    "    #\"horizon\"           : 600,\n",
    "    #\"soft_horizon\"      : True,\n",
    "    \"num_sgd_iter\"      : 30,\n",
    "    #\"horizon\"           : 100,\n",
    "    \"mcts_config\"       : {\n",
    "        \"puct_coefficient\"   : 1.5,\n",
    "        \"num_simulations\"    : 100,\n",
    "        \"temperature\"        : 1.0,\n",
    "        \"dirichlet_epsilon\"  : 0.20,\n",
    "        \"dirichlet_noise\"    : 0.03,\n",
    "        \"argmax_tree_policy\" : False,\n",
    "        \"add_dirichlet_noise\": True,\n",
    "    },\n",
    "    \"ranked_rewards\"    : {\n",
    "        \"enable\": True,\n",
    "    },\n",
    "    \"model\"             : {\n",
    "        \"custom_model\": \"dense_model\",\n",
    "\n",
    "    },\n",
    "}\n",
    "\n",
    "# def env_creator(env_config):\n",
    "#     env = jss_lite(instance_path='resources/jsp_instances/standard/ft06.txt')\n",
    "#     return env\n",
    "\n",
    "from wrapper.jssplight_wrapper import jssp_light_obs_wrapper\n",
    "from wrapper.jssplight_wrapper import jssp_light_obs_wrapper_multi_instances\n",
    "\n",
    "def env_creator(config):\n",
    "    #env = jssp_light_obs_wrapper(jss_lite(instance_path=instance_path))\n",
    "    env=jssp_light_obs_wrapper_multi_instances(instances_list=instance_list)\n",
    "    return env\n",
    "\n",
    "def env_creator_variable_1(config):\n",
    "    #env = jssp_light_obs_wrapper(jss_lite(instance_path=instance_path))\n",
    "    i=0\n",
    "    #print(instance_list_2[i])\n",
    "    env=jssp_light_obs_wrapper_multi_instances(instances_list=[instance_list_2[i]])\n",
    "    return env\n",
    "\n",
    "def env_creator_variable_2(config):\n",
    "    #env = jssp_light_obs_wrapper(jss_lite(instance_path=instance_path))\n",
    "    i=1\n",
    "    #print(instance_list_2[i])\n",
    "    env=jssp_light_obs_wrapper_multi_instances(instances_list=[instance_list_2[i]])\n",
    "    return env\n",
    "\n",
    "\n",
    "def env_creator_variable_3(config):\n",
    "    #env = jssp_light_obs_wrapper(jss_lite(instance_path=instance_path))\n",
    "    i=2\n",
    "    #print(instance_list_2[i])\n",
    "    env=jssp_light_obs_wrapper_multi_instances(instances_list=[instance_list_2[i]])\n",
    "    return env\n",
    "# from wrapper.jssp_wrapper_klagenfurt import jssp_klagenfurt_obs_wrapper\n",
    "# import JSSEnv\n",
    "# def env_creator(env_config):\n",
    "#     import JSSEnv\n",
    "#     env = jssp_klagenfurt_obs_wrapper(gym.make('jss-v1', env_config={'instance_path': 'resources/jsp_instances/standard/la01.txt'}))\n",
    "#     return env\n",
    "\n",
    "\n",
    "def env_creator_variable_instance(config,env_name):\n",
    "    #return jssp_light_obs_wrapper_multi_instances(instances_list=[(env_name)])\n",
    "    #print(env_name)\n",
    "    #env_name2=env_name\n",
    "    #return lambda env_name2=env_name:jssp_light_obs_wrapper_multi_instances(env_name2)\n",
    "    return jssp_light_obs_wrapper_multi_instances([env_name])\n",
    "    #return jssp_light_obs_wrapper_multi_instances\n",
    "\n",
    "for instance_tune in instance_list_2:\n",
    "    tune.register_env('myEnv'+instance_tune[-8:-4], lambda config:env_creator_variable_instance(config=config,env_name=instance_tune))\n",
    "    print(f\"{'myEnv'+instance_tune[-8:-4]} environment registered\")\n",
    "\n",
    "\n",
    "ModelCatalog.register_custom_model(\"dense_model\", DenseModel)    \n",
    "\n",
    "# use tune to register the custom environment for the ppo trainer\n",
    "tune.register_env('custom_jssp',env_creator)\n",
    "#tune.register_env('custom_jssp_1',env_creator_variable_1)\n",
    "#tune.register_env('custom_jssp_2',env_creator_variable_2)\n",
    "#tune.register_env('custom_jssp_3',env_creator_variable_3)\n",
    "\n",
    "\n",
    "#agent = AlphaZeroTrainer( config=config, env='custom_jssp')\n",
    "s_path='/Users/felix/sciebo/masterarbeit/progra/model-based_rl/training_checkpoints/la_multi/untrained'\n",
    "#tmp=agent.save_checkpoint(s_path)\n"
   ]
  },
  {
   "cell_type": "code",
   "execution_count": 21,
   "metadata": {},
   "outputs": [
    {
     "name": "stdout",
     "output_type": "stream",
     "text": [
      "start training\n"
     ]
    },
    {
     "name": "stderr",
     "output_type": "stream",
     "text": [
      "2022-10-30 12:09:34,520\tWARNING deprecation.py:46 -- DeprecationWarning: `simple_optimizer` has been deprecated. This will raise an error in the future!\n",
      "2022-10-30 12:10:00,918\tINFO trainable.py:159 -- Trainable.setup took 26.399 seconds. If your trainable is slow to initialize, consider setting reuse_actors=True to reduce actor creation overheads.\n"
     ]
    },
    {
     "name": "stdout",
     "output_type": "stream",
     "text": [
      "training iteration 0 finished after 54.919636964797974 seconds\n",
      "/Users/felix/sciebo/masterarbeit/progra/model-based_rl/training_checkpoints/la_multi/la_01/0/checkpoint-1\n"
     ]
    },
    {
     "name": "stderr",
     "output_type": "stream",
     "text": [
      "2022-10-30 12:10:58,613\tWARNING deprecation.py:46 -- DeprecationWarning: `simple_optimizer` has been deprecated. This will raise an error in the future!\n",
      "2022-10-30 12:11:32,382\tINFO trainable.py:159 -- Trainable.setup took 33.770 seconds. If your trainable is slow to initialize, consider setting reuse_actors=True to reduce actor creation overheads.\n"
     ]
    },
    {
     "name": "stdout",
     "output_type": "stream",
     "text": [
      "training iteration 0 finished after 62.913076877593994 seconds\n"
     ]
    },
    {
     "name": "stderr",
     "output_type": "stream",
     "text": [
      "2022-10-30 12:12:38,297\tWARNING deprecation.py:46 -- DeprecationWarning: `simple_optimizer` has been deprecated. This will raise an error in the future!\n",
      "2022-10-30 12:13:13,289\tINFO trainable.py:159 -- Trainable.setup took 34.997 seconds. If your trainable is slow to initialize, consider setting reuse_actors=True to reduce actor creation overheads.\n"
     ]
    },
    {
     "name": "stdout",
     "output_type": "stream",
     "text": [
      "training iteration 0 finished after 58.118600845336914 seconds\n",
      "/Users/felix/sciebo/masterarbeit/progra/model-based_rl/training_checkpoints/la_multi/la_03/0/checkpoint-1\n"
     ]
    },
    {
     "name": "stderr",
     "output_type": "stream",
     "text": [
      "2022-10-30 12:14:14,535\tWARNING deprecation.py:46 -- DeprecationWarning: `simple_optimizer` has been deprecated. This will raise an error in the future!\n",
      "2022-10-30 12:14:43,846\tINFO trainable.py:159 -- Trainable.setup took 29.313 seconds. If your trainable is slow to initialize, consider setting reuse_actors=True to reduce actor creation overheads.\n"
     ]
    },
    {
     "name": "stdout",
     "output_type": "stream",
     "text": [
      "training iteration 1 finished after 36.31424832344055 seconds\n",
      "/Users/felix/sciebo/masterarbeit/progra/model-based_rl/training_checkpoints/la_multi/la_01/1/checkpoint-1\n"
     ]
    },
    {
     "name": "stderr",
     "output_type": "stream",
     "text": [
      "2022-10-30 12:15:22,725\tWARNING deprecation.py:46 -- DeprecationWarning: `simple_optimizer` has been deprecated. This will raise an error in the future!\n",
      "2022-10-30 12:15:50,704\tINFO trainable.py:159 -- Trainable.setup took 27.982 seconds. If your trainable is slow to initialize, consider setting reuse_actors=True to reduce actor creation overheads.\n"
     ]
    },
    {
     "name": "stdout",
     "output_type": "stream",
     "text": [
      "training iteration 1 finished after 43.74843382835388 seconds\n"
     ]
    },
    {
     "name": "stderr",
     "output_type": "stream",
     "text": [
      "2022-10-30 12:16:37,050\tWARNING deprecation.py:46 -- DeprecationWarning: `simple_optimizer` has been deprecated. This will raise an error in the future!\n",
      "2022-10-30 12:17:06,005\tINFO trainable.py:159 -- Trainable.setup took 28.955 seconds. If your trainable is slow to initialize, consider setting reuse_actors=True to reduce actor creation overheads.\n"
     ]
    },
    {
     "name": "stdout",
     "output_type": "stream",
     "text": [
      "training iteration 1 finished after 46.44478631019592 seconds\n",
      "/Users/felix/sciebo/masterarbeit/progra/model-based_rl/training_checkpoints/la_multi/la_03/1/checkpoint-1\n"
     ]
    },
    {
     "name": "stderr",
     "output_type": "stream",
     "text": [
      "2022-10-30 12:17:55,244\tWARNING deprecation.py:46 -- DeprecationWarning: `simple_optimizer` has been deprecated. This will raise an error in the future!\n",
      "2022-10-30 12:18:22,428\tINFO trainable.py:159 -- Trainable.setup took 27.185 seconds. If your trainable is slow to initialize, consider setting reuse_actors=True to reduce actor creation overheads.\n"
     ]
    },
    {
     "name": "stdout",
     "output_type": "stream",
     "text": [
      "training iteration 2 finished after 42.831072092056274 seconds\n",
      "/Users/felix/sciebo/masterarbeit/progra/model-based_rl/training_checkpoints/la_multi/la_01/2/checkpoint-1\n"
     ]
    },
    {
     "name": "stderr",
     "output_type": "stream",
     "text": [
      "2022-10-30 12:19:07,982\tWARNING deprecation.py:46 -- DeprecationWarning: `simple_optimizer` has been deprecated. This will raise an error in the future!\n",
      "2022-10-30 12:19:32,725\tINFO trainable.py:159 -- Trainable.setup took 24.748 seconds. If your trainable is slow to initialize, consider setting reuse_actors=True to reduce actor creation overheads.\n"
     ]
    },
    {
     "name": "stdout",
     "output_type": "stream",
     "text": [
      "training iteration 2 finished after 45.18281817436218 seconds\n"
     ]
    },
    {
     "name": "stderr",
     "output_type": "stream",
     "text": [
      "2022-10-30 12:20:20,030\tWARNING deprecation.py:46 -- DeprecationWarning: `simple_optimizer` has been deprecated. This will raise an error in the future!\n",
      "2022-10-30 12:20:47,354\tINFO trainable.py:159 -- Trainable.setup took 27.325 seconds. If your trainable is slow to initialize, consider setting reuse_actors=True to reduce actor creation overheads.\n"
     ]
    },
    {
     "name": "stdout",
     "output_type": "stream",
     "text": [
      "training iteration 2 finished after 45.671202182769775 seconds\n",
      "/Users/felix/sciebo/masterarbeit/progra/model-based_rl/training_checkpoints/la_multi/la_03/2/checkpoint-1\n"
     ]
    },
    {
     "name": "stderr",
     "output_type": "stream",
     "text": [
      "2022-10-30 12:21:35,635\tWARNING deprecation.py:46 -- DeprecationWarning: `simple_optimizer` has been deprecated. This will raise an error in the future!\n",
      "2022-10-30 12:22:06,130\tINFO trainable.py:159 -- Trainable.setup took 30.496 seconds. If your trainable is slow to initialize, consider setting reuse_actors=True to reduce actor creation overheads.\n"
     ]
    },
    {
     "name": "stdout",
     "output_type": "stream",
     "text": [
      "training iteration 3 finished after 34.684054136276245 seconds\n",
      "/Users/felix/sciebo/masterarbeit/progra/model-based_rl/training_checkpoints/la_multi/la_01/3/checkpoint-1\n"
     ]
    },
    {
     "name": "stderr",
     "output_type": "stream",
     "text": [
      "2022-10-30 12:22:43,062\tWARNING deprecation.py:46 -- DeprecationWarning: `simple_optimizer` has been deprecated. This will raise an error in the future!\n",
      "2022-10-30 12:23:15,581\tINFO trainable.py:159 -- Trainable.setup took 32.521 seconds. If your trainable is slow to initialize, consider setting reuse_actors=True to reduce actor creation overheads.\n"
     ]
    },
    {
     "name": "stdout",
     "output_type": "stream",
     "text": [
      "training iteration 3 finished after 40.79171586036682 seconds\n"
     ]
    },
    {
     "name": "stderr",
     "output_type": "stream",
     "text": [
      "2022-10-30 12:23:59,027\tWARNING deprecation.py:46 -- DeprecationWarning: `simple_optimizer` has been deprecated. This will raise an error in the future!\n",
      "2022-10-30 12:24:23,229\tINFO trainable.py:159 -- Trainable.setup took 24.204 seconds. If your trainable is slow to initialize, consider setting reuse_actors=True to reduce actor creation overheads.\n"
     ]
    },
    {
     "name": "stdout",
     "output_type": "stream",
     "text": [
      "training iteration 3 finished after 41.928609132766724 seconds\n",
      "/Users/felix/sciebo/masterarbeit/progra/model-based_rl/training_checkpoints/la_multi/la_03/3/checkpoint-1\n"
     ]
    },
    {
     "name": "stderr",
     "output_type": "stream",
     "text": [
      "2022-10-30 12:25:07,750\tWARNING deprecation.py:46 -- DeprecationWarning: `simple_optimizer` has been deprecated. This will raise an error in the future!\n",
      "2022-10-30 12:25:34,134\tINFO trainable.py:159 -- Trainable.setup took 26.386 seconds. If your trainable is slow to initialize, consider setting reuse_actors=True to reduce actor creation overheads.\n"
     ]
    },
    {
     "name": "stdout",
     "output_type": "stream",
     "text": [
      "training iteration 4 finished after 44.688735246658325 seconds\n",
      "/Users/felix/sciebo/masterarbeit/progra/model-based_rl/training_checkpoints/la_multi/la_01/4/checkpoint-1\n"
     ]
    },
    {
     "name": "stderr",
     "output_type": "stream",
     "text": [
      "2022-10-30 12:26:21,308\tWARNING deprecation.py:46 -- DeprecationWarning: `simple_optimizer` has been deprecated. This will raise an error in the future!\n",
      "2022-10-30 12:26:47,002\tINFO trainable.py:159 -- Trainable.setup took 25.695 seconds. If your trainable is slow to initialize, consider setting reuse_actors=True to reduce actor creation overheads.\n"
     ]
    },
    {
     "name": "stdout",
     "output_type": "stream",
     "text": [
      "training iteration 4 finished after 39.79256224632263 seconds\n"
     ]
    },
    {
     "name": "stderr",
     "output_type": "stream",
     "text": [
      "2022-10-30 12:27:29,446\tWARNING deprecation.py:46 -- DeprecationWarning: `simple_optimizer` has been deprecated. This will raise an error in the future!\n",
      "2022-10-30 12:27:59,077\tINFO trainable.py:159 -- Trainable.setup took 29.631 seconds. If your trainable is slow to initialize, consider setting reuse_actors=True to reduce actor creation overheads.\n"
     ]
    },
    {
     "name": "stdout",
     "output_type": "stream",
     "text": [
      "training iteration 4 finished after 31.80705690383911 seconds\n",
      "/Users/felix/sciebo/masterarbeit/progra/model-based_rl/training_checkpoints/la_multi/la_03/4/checkpoint-1\n"
     ]
    }
   ],
   "source": [
    "import os\n",
    "import time\n",
    "if train_agent:\n",
    "    # checkpoint_path = analysis.get_last_checkpoint() or args.checkpoint\n",
    "    ## use string number to restore pre trained agent\n",
    "    # nr_restore=\"10\"\n",
    "    #checkpoint_path=f'checkpoints_az/rllib_checkpoint{nr_restore}/checkpoint_{nr_restore.zfill(6)}/checkpoint-{nr_restore}'\n",
    "    #agent.load_checkpoint(\"training_checkpoints/checkpoints_az_jsslite/checkpoint-5\")\n",
    "    #print(\"awd\")\n",
    "    #agent.restore(\"checkpoints_az/rllib_checkpoint1/checkpoint_000001/checkpoint-1\")\n",
    "    #agent.load_checkpoint(\"published_checkpoints/az_taxi/checkpoint-34\")\n",
    "    print(\"start training\")\n",
    "    for _ in range(0,5):\n",
    "        reload_ray()\n",
    "        agent = AlphaZeroTrainer( config=config, env='custom_jssp_1')\n",
    "        agent.load_checkpoint(tmp)\n",
    "        t=time.time()\n",
    "        agent.train()\n",
    "        print(f\"training iteration {_} finished after {time.time()-t} seconds\")\n",
    "        s_path=(\"/Users/felix/sciebo/masterarbeit/progra/model-based_rl/training_checkpoints/la_multi/la_01/\"+str(_))\n",
    "        if not os.path.exists(s_path):\n",
    "            os.mkdir(s_path)\n",
    "        tmp=agent.save_checkpoint(s_path)\n",
    "        print(tmp)\n",
    "        reload_ray()\n",
    "\n",
    "        agent = AlphaZeroTrainer( config=config, env='custom_jssp_2')\n",
    "        \n",
    "        agent.load_checkpoint(tmp)\n",
    "        t=time.time()\n",
    "        agent.train()\n",
    "        print(f\"training iteration {_} finished after {time.time()-t} seconds\")\n",
    "        s_path=(\"/Users/felix/sciebo/masterarbeit/progra/model-based_rl/training_checkpoints/la_multi/la_02/\"+str(_))\n",
    "        if not os.path.exists(s_path):\n",
    "            os.mkdir(s_path)\n",
    "        tmp=agent.save_checkpoint(s_path)\n",
    "        reload_ray()\n",
    "\n",
    "        agent = AlphaZeroTrainer( config=config, env='custom_jssp_3')\n",
    "        agent.load_checkpoint(tmp)\n",
    "        t=time.time()\n",
    "        agent.train()\n",
    "        print(f\"training iteration {_} finished after {time.time()-t} seconds\")\n",
    "        s_path=(\"/Users/felix/sciebo/masterarbeit/progra/model-based_rl/training_checkpoints/la_multi/la_03/\"+str(_))\n",
    "        if not os.path.exists(s_path):\n",
    "            os.mkdir(s_path)\n",
    "        tmp=agent.save_checkpoint(s_path)\n",
    "        print(tmp)\n",
    "\n",
    "    \n",
    "#if restore_agent:\n",
    "\n",
    "    #agent.load_checkpoint(restore_path)"
   ]
  },
  {
   "cell_type": "code",
   "execution_count": 22,
   "metadata": {},
   "outputs": [
    {
     "name": "stderr",
     "output_type": "stream",
     "text": [
      "2022-10-30 14:30:09,040\tWARNING deprecation.py:46 -- DeprecationWarning: `simple_optimizer` has been deprecated. This will raise an error in the future!\n",
      "2022-10-30 14:30:42,508\tINFO trainable.py:159 -- Trainable.setup took 33.474 seconds. If your trainable is slow to initialize, consider setting reuse_actors=True to reduce actor creation overheads.\n"
     ]
    }
   ],
   "source": [
    "ray.shutdown()\n",
    "\n",
    "ModelCatalog.register_custom_model(\"dense_model\", DenseModel)    \n",
    "tune.register_env('custom_jssp',env_creator)\n",
    "config = {\n",
    "    \"framework\": \"torch\",\n",
    "    \"disable_env_checking\":True,\n",
    "    \"num_workers\"       : 6,\n",
    "    \"rollout_fragment_length\": 50,\n",
    "    \"train_batch_size\"  : 500,\n",
    "    \"sgd_minibatch_size\": 64,\n",
    "    \"lr\"                : 0.0001,\n",
    "    \"explore\"           :False,\n",
    "    #\"horizon\"           : 600,\n",
    "    #\"soft_horizon\"      : True,\n",
    "    \"num_sgd_iter\"      : 1,\n",
    "    #\"horizon\"           : 100,\n",
    "    \"mcts_config\"       : {\n",
    "        \"puct_coefficient\"   : 1.5,\n",
    "        \"num_simulations\"    : 100,\n",
    "        \"temperature\"        : 1,\n",
    "        \"dirichlet_epsilon\"  : 0.20,\n",
    "        \"dirichlet_noise\"    : 0.03,\n",
    "        \"argmax_tree_policy\" : True,\n",
    "        \"add_dirichlet_noise\": False,\n",
    "    },\n",
    "    \"ranked_rewards\"    : {\n",
    "        \"enable\": True,\n",
    "    },\n",
    "    \"model\"             : {\n",
    "        \"custom_model\": \"dense_model\",\n",
    "\n",
    "    },\n",
    "}\n",
    "\n",
    "agent = AlphaZeroTrainer( config=config, env='custom_jssp')\n",
    "#if restore_agent:\n",
    "restore_path='/Users/felix/sciebo/masterarbeit/progra/model-based_rl/training_checkpoints/la_multi/la_03/4/checkpoint-1'\n",
    "#restore_path='/Users/felix/sciebo/masterarbeit/progra/model-based_rl/training_checkpoints/checkpoints_az_jsslite_ft06/checkpoint-10'\n",
    "agent.load_checkpoint(restore_path)\n",
    "\n",
    "#agent.load_checkpoint(\"training_checkpoints/checkpoints_az_jsslite/checkpoint-5\")\n",
    "\n"
   ]
  },
  {
   "cell_type": "code",
   "execution_count": 23,
   "metadata": {},
   "outputs": [
    {
     "name": "stdout",
     "output_type": "stream",
     "text": [
      "instance la01:  in time: 37.80415105819702s\n",
      "0.8603603603603603\n"
     ]
    },
    {
     "data": {
      "application/vnd.plotly.v1+json": {
       "config": {
        "plotlyServerURL": "https://plot.ly"
       },
       "data": [
        {
         "alignmentgroup": "True",
         "base": [
          "2022-01-01T00:09:35",
          "2022-01-01T00:07:15",
          "2022-01-01T00:05:37",
          "2022-01-01T00:02:34",
          "2022-01-01T00:08:54",
          "2022-01-01T00:04:18",
          "2022-01-01T00:01:17",
          "2022-01-01T00:07:31",
          "2022-01-01T00:03:53",
          "2022-01-01T00:00:00"
         ],
         "hovertemplate": "Machine=machine_4<br>Start=%{base}<br>Finish=%{x}<br>Job=%{y}<extra></extra>",
         "legendgroup": "machine_4",
         "marker": {
          "color": "#636efa",
          "pattern": {
           "shape": ""
          }
         },
         "name": "machine_4",
         "offsetgroup": "machine_4",
         "orientation": "h",
         "showlegend": true,
         "textposition": "auto",
         "type": "bar",
         "x": [
          95000,
          16000,
          98000,
          79000,
          37000,
          79000,
          77000,
          83000,
          25000,
          77000
         ],
         "xaxis": "x",
         "y": [
          "job_0",
          "job_1",
          "job_2",
          "job_3",
          "job_4",
          "job_5",
          "job_6",
          "job_7",
          "job_8",
          "job_9"
         ],
         "yaxis": "y"
        },
        {
         "alignmentgroup": "True",
         "base": [
          "2022-01-01T00:11:10",
          "2022-01-01T00:03:58",
          "2022-01-01T00:02:00",
          "2022-01-01T00:04:59",
          "2022-01-01T00:01:26",
          "2022-01-01T00:07:09",
          "2022-01-01T00:00:00",
          "2022-01-01T00:06:16",
          "2022-01-01T00:01:09",
          "2022-01-01T00:02:39"
         ],
         "hovertemplate": "Machine=machine_3<br>Start=%{base}<br>Finish=%{x}<br>Job=%{y}<extra></extra>",
         "legendgroup": "machine_3",
         "marker": {
          "color": "#EF553B",
          "pattern": {
           "shape": ""
          }
         },
         "name": "machine_3",
         "offsetgroup": "machine_3",
         "orientation": "h",
         "showlegend": true,
         "textposition": "auto",
         "type": "bar",
         "x": [
          55000,
          52000,
          39000,
          77000,
          34000,
          62000,
          69000,
          24000,
          17000,
          79000
         ],
         "xaxis": "x",
         "y": [
          "job_0",
          "job_1",
          "job_2",
          "job_3",
          "job_4",
          "job_5",
          "job_6",
          "job_7",
          "job_8",
          "job_9"
         ],
         "yaxis": "y"
        },
        {
         "alignmentgroup": "True",
         "base": [
          "2022-01-01T00:08:42",
          "2022-01-01T00:03:18",
          "2022-01-01T00:11:11",
          "2022-01-01T00:01:23",
          "2022-01-01T00:00:00",
          "2022-01-01T00:05:37",
          "2022-01-01T00:07:09",
          "2022-01-01T00:02:18",
          "2022-01-01T00:04:18",
          "2022-01-01T00:09:35"
         ],
         "hovertemplate": "Machine=machine_0<br>Start=%{base}<br>Finish=%{x}<br>Job=%{y}<extra></extra>",
         "legendgroup": "machine_0",
         "marker": {
          "color": "#00cc96",
          "pattern": {
           "shape": ""
          }
         },
         "name": "machine_0",
         "offsetgroup": "machine_0",
         "orientation": "h",
         "showlegend": true,
         "textposition": "auto",
         "type": "bar",
         "x": [
          53000,
          21000,
          12000,
          55000,
          83000,
          92000,
          93000,
          60000,
          44000,
          96000
         ],
         "xaxis": "x",
         "y": [
          "job_0",
          "job_1",
          "job_2",
          "job_3",
          "job_4",
          "job_5",
          "job_6",
          "job_7",
          "job_8",
          "job_9"
         ],
         "yaxis": "y"
        },
        {
         "alignmentgroup": "True",
         "base": [
          "2022-01-01T00:05:27",
          "2022-01-01T00:09:13",
          "2022-01-01T00:07:15",
          "2022-01-01T00:00:00",
          "2022-01-01T00:05:08",
          "2022-01-01T00:01:17",
          "2022-01-01T00:03:00",
          "2022-01-01T00:04:27",
          "2022-01-01T00:02:11",
          "2022-01-01T00:05:48"
         ],
         "hovertemplate": "Machine=machine_1<br>Start=%{base}<br>Finish=%{x}<br>Job=%{y}<extra></extra>",
         "legendgroup": "machine_1",
         "marker": {
          "color": "#ab63fa",
          "pattern": {
           "shape": ""
          }
         },
         "name": "machine_1",
         "offsetgroup": "machine_1",
         "orientation": "h",
         "showlegend": true,
         "textposition": "auto",
         "type": "bar",
         "x": [
          21000,
          71000,
          42000,
          77000,
          19000,
          54000,
          87000,
          41000,
          49000,
          75000
         ],
         "xaxis": "x",
         "y": [
          "job_0",
          "job_1",
          "job_2",
          "job_3",
          "job_4",
          "job_5",
          "job_6",
          "job_7",
          "job_8",
          "job_9"
         ],
         "yaxis": "y"
        },
        {
         "alignmentgroup": "True",
         "base": [
          "2022-01-01T00:12:05",
          "2022-01-01T00:08:47",
          "2022-01-01T00:09:13",
          "2022-01-01T00:03:53",
          "2022-01-01T00:02:00",
          "2022-01-01T00:03:04",
          "2022-01-01T00:05:42",
          "2022-01-01T00:00:00",
          "2022-01-01T00:07:09",
          "2022-01-01T00:04:59"
         ],
         "hovertemplate": "Machine=machine_2<br>Start=%{base}<br>Finish=%{x}<br>Job=%{y}<extra></extra>",
         "legendgroup": "machine_2",
         "marker": {
          "color": "#FFA15A",
          "pattern": {
           "shape": ""
          }
         },
         "name": "machine_2",
         "offsetgroup": "machine_2",
         "orientation": "h",
         "showlegend": true,
         "textposition": "auto",
         "type": "bar",
         "x": [
          34000,
          26000,
          31000,
          66000,
          64000,
          43000,
          87000,
          38000,
          98000,
          43000
         ],
         "xaxis": "x",
         "y": [
          "job_0",
          "job_1",
          "job_2",
          "job_3",
          "job_4",
          "job_5",
          "job_6",
          "job_7",
          "job_8",
          "job_9"
         ],
         "yaxis": "y"
        }
       ],
       "layout": {
        "barmode": "overlay",
        "legend": {
         "title": {
          "text": "Machine"
         },
         "tracegroupgap": 0
        },
        "margin": {
         "t": 60
        },
        "template": {
         "data": {
          "bar": [
           {
            "error_x": {
             "color": "#2a3f5f"
            },
            "error_y": {
             "color": "#2a3f5f"
            },
            "marker": {
             "line": {
              "color": "#E5ECF6",
              "width": 0.5
             },
             "pattern": {
              "fillmode": "overlay",
              "size": 10,
              "solidity": 0.2
             }
            },
            "type": "bar"
           }
          ],
          "barpolar": [
           {
            "marker": {
             "line": {
              "color": "#E5ECF6",
              "width": 0.5
             },
             "pattern": {
              "fillmode": "overlay",
              "size": 10,
              "solidity": 0.2
             }
            },
            "type": "barpolar"
           }
          ],
          "carpet": [
           {
            "aaxis": {
             "endlinecolor": "#2a3f5f",
             "gridcolor": "white",
             "linecolor": "white",
             "minorgridcolor": "white",
             "startlinecolor": "#2a3f5f"
            },
            "baxis": {
             "endlinecolor": "#2a3f5f",
             "gridcolor": "white",
             "linecolor": "white",
             "minorgridcolor": "white",
             "startlinecolor": "#2a3f5f"
            },
            "type": "carpet"
           }
          ],
          "choropleth": [
           {
            "colorbar": {
             "outlinewidth": 0,
             "ticks": ""
            },
            "type": "choropleth"
           }
          ],
          "contour": [
           {
            "colorbar": {
             "outlinewidth": 0,
             "ticks": ""
            },
            "colorscale": [
             [
              0,
              "#0d0887"
             ],
             [
              0.1111111111111111,
              "#46039f"
             ],
             [
              0.2222222222222222,
              "#7201a8"
             ],
             [
              0.3333333333333333,
              "#9c179e"
             ],
             [
              0.4444444444444444,
              "#bd3786"
             ],
             [
              0.5555555555555556,
              "#d8576b"
             ],
             [
              0.6666666666666666,
              "#ed7953"
             ],
             [
              0.7777777777777778,
              "#fb9f3a"
             ],
             [
              0.8888888888888888,
              "#fdca26"
             ],
             [
              1,
              "#f0f921"
             ]
            ],
            "type": "contour"
           }
          ],
          "contourcarpet": [
           {
            "colorbar": {
             "outlinewidth": 0,
             "ticks": ""
            },
            "type": "contourcarpet"
           }
          ],
          "heatmap": [
           {
            "colorbar": {
             "outlinewidth": 0,
             "ticks": ""
            },
            "colorscale": [
             [
              0,
              "#0d0887"
             ],
             [
              0.1111111111111111,
              "#46039f"
             ],
             [
              0.2222222222222222,
              "#7201a8"
             ],
             [
              0.3333333333333333,
              "#9c179e"
             ],
             [
              0.4444444444444444,
              "#bd3786"
             ],
             [
              0.5555555555555556,
              "#d8576b"
             ],
             [
              0.6666666666666666,
              "#ed7953"
             ],
             [
              0.7777777777777778,
              "#fb9f3a"
             ],
             [
              0.8888888888888888,
              "#fdca26"
             ],
             [
              1,
              "#f0f921"
             ]
            ],
            "type": "heatmap"
           }
          ],
          "heatmapgl": [
           {
            "colorbar": {
             "outlinewidth": 0,
             "ticks": ""
            },
            "colorscale": [
             [
              0,
              "#0d0887"
             ],
             [
              0.1111111111111111,
              "#46039f"
             ],
             [
              0.2222222222222222,
              "#7201a8"
             ],
             [
              0.3333333333333333,
              "#9c179e"
             ],
             [
              0.4444444444444444,
              "#bd3786"
             ],
             [
              0.5555555555555556,
              "#d8576b"
             ],
             [
              0.6666666666666666,
              "#ed7953"
             ],
             [
              0.7777777777777778,
              "#fb9f3a"
             ],
             [
              0.8888888888888888,
              "#fdca26"
             ],
             [
              1,
              "#f0f921"
             ]
            ],
            "type": "heatmapgl"
           }
          ],
          "histogram": [
           {
            "marker": {
             "pattern": {
              "fillmode": "overlay",
              "size": 10,
              "solidity": 0.2
             }
            },
            "type": "histogram"
           }
          ],
          "histogram2d": [
           {
            "colorbar": {
             "outlinewidth": 0,
             "ticks": ""
            },
            "colorscale": [
             [
              0,
              "#0d0887"
             ],
             [
              0.1111111111111111,
              "#46039f"
             ],
             [
              0.2222222222222222,
              "#7201a8"
             ],
             [
              0.3333333333333333,
              "#9c179e"
             ],
             [
              0.4444444444444444,
              "#bd3786"
             ],
             [
              0.5555555555555556,
              "#d8576b"
             ],
             [
              0.6666666666666666,
              "#ed7953"
             ],
             [
              0.7777777777777778,
              "#fb9f3a"
             ],
             [
              0.8888888888888888,
              "#fdca26"
             ],
             [
              1,
              "#f0f921"
             ]
            ],
            "type": "histogram2d"
           }
          ],
          "histogram2dcontour": [
           {
            "colorbar": {
             "outlinewidth": 0,
             "ticks": ""
            },
            "colorscale": [
             [
              0,
              "#0d0887"
             ],
             [
              0.1111111111111111,
              "#46039f"
             ],
             [
              0.2222222222222222,
              "#7201a8"
             ],
             [
              0.3333333333333333,
              "#9c179e"
             ],
             [
              0.4444444444444444,
              "#bd3786"
             ],
             [
              0.5555555555555556,
              "#d8576b"
             ],
             [
              0.6666666666666666,
              "#ed7953"
             ],
             [
              0.7777777777777778,
              "#fb9f3a"
             ],
             [
              0.8888888888888888,
              "#fdca26"
             ],
             [
              1,
              "#f0f921"
             ]
            ],
            "type": "histogram2dcontour"
           }
          ],
          "mesh3d": [
           {
            "colorbar": {
             "outlinewidth": 0,
             "ticks": ""
            },
            "type": "mesh3d"
           }
          ],
          "parcoords": [
           {
            "line": {
             "colorbar": {
              "outlinewidth": 0,
              "ticks": ""
             }
            },
            "type": "parcoords"
           }
          ],
          "pie": [
           {
            "automargin": true,
            "type": "pie"
           }
          ],
          "scatter": [
           {
            "fillpattern": {
             "fillmode": "overlay",
             "size": 10,
             "solidity": 0.2
            },
            "type": "scatter"
           }
          ],
          "scatter3d": [
           {
            "line": {
             "colorbar": {
              "outlinewidth": 0,
              "ticks": ""
             }
            },
            "marker": {
             "colorbar": {
              "outlinewidth": 0,
              "ticks": ""
             }
            },
            "type": "scatter3d"
           }
          ],
          "scattercarpet": [
           {
            "marker": {
             "colorbar": {
              "outlinewidth": 0,
              "ticks": ""
             }
            },
            "type": "scattercarpet"
           }
          ],
          "scattergeo": [
           {
            "marker": {
             "colorbar": {
              "outlinewidth": 0,
              "ticks": ""
             }
            },
            "type": "scattergeo"
           }
          ],
          "scattergl": [
           {
            "marker": {
             "colorbar": {
              "outlinewidth": 0,
              "ticks": ""
             }
            },
            "type": "scattergl"
           }
          ],
          "scattermapbox": [
           {
            "marker": {
             "colorbar": {
              "outlinewidth": 0,
              "ticks": ""
             }
            },
            "type": "scattermapbox"
           }
          ],
          "scatterpolar": [
           {
            "marker": {
             "colorbar": {
              "outlinewidth": 0,
              "ticks": ""
             }
            },
            "type": "scatterpolar"
           }
          ],
          "scatterpolargl": [
           {
            "marker": {
             "colorbar": {
              "outlinewidth": 0,
              "ticks": ""
             }
            },
            "type": "scatterpolargl"
           }
          ],
          "scatterternary": [
           {
            "marker": {
             "colorbar": {
              "outlinewidth": 0,
              "ticks": ""
             }
            },
            "type": "scatterternary"
           }
          ],
          "surface": [
           {
            "colorbar": {
             "outlinewidth": 0,
             "ticks": ""
            },
            "colorscale": [
             [
              0,
              "#0d0887"
             ],
             [
              0.1111111111111111,
              "#46039f"
             ],
             [
              0.2222222222222222,
              "#7201a8"
             ],
             [
              0.3333333333333333,
              "#9c179e"
             ],
             [
              0.4444444444444444,
              "#bd3786"
             ],
             [
              0.5555555555555556,
              "#d8576b"
             ],
             [
              0.6666666666666666,
              "#ed7953"
             ],
             [
              0.7777777777777778,
              "#fb9f3a"
             ],
             [
              0.8888888888888888,
              "#fdca26"
             ],
             [
              1,
              "#f0f921"
             ]
            ],
            "type": "surface"
           }
          ],
          "table": [
           {
            "cells": {
             "fill": {
              "color": "#EBF0F8"
             },
             "line": {
              "color": "white"
             }
            },
            "header": {
             "fill": {
              "color": "#C8D4E3"
             },
             "line": {
              "color": "white"
             }
            },
            "type": "table"
           }
          ]
         },
         "layout": {
          "annotationdefaults": {
           "arrowcolor": "#2a3f5f",
           "arrowhead": 0,
           "arrowwidth": 1
          },
          "autotypenumbers": "strict",
          "coloraxis": {
           "colorbar": {
            "outlinewidth": 0,
            "ticks": ""
           }
          },
          "colorscale": {
           "diverging": [
            [
             0,
             "#8e0152"
            ],
            [
             0.1,
             "#c51b7d"
            ],
            [
             0.2,
             "#de77ae"
            ],
            [
             0.3,
             "#f1b6da"
            ],
            [
             0.4,
             "#fde0ef"
            ],
            [
             0.5,
             "#f7f7f7"
            ],
            [
             0.6,
             "#e6f5d0"
            ],
            [
             0.7,
             "#b8e186"
            ],
            [
             0.8,
             "#7fbc41"
            ],
            [
             0.9,
             "#4d9221"
            ],
            [
             1,
             "#276419"
            ]
           ],
           "sequential": [
            [
             0,
             "#0d0887"
            ],
            [
             0.1111111111111111,
             "#46039f"
            ],
            [
             0.2222222222222222,
             "#7201a8"
            ],
            [
             0.3333333333333333,
             "#9c179e"
            ],
            [
             0.4444444444444444,
             "#bd3786"
            ],
            [
             0.5555555555555556,
             "#d8576b"
            ],
            [
             0.6666666666666666,
             "#ed7953"
            ],
            [
             0.7777777777777778,
             "#fb9f3a"
            ],
            [
             0.8888888888888888,
             "#fdca26"
            ],
            [
             1,
             "#f0f921"
            ]
           ],
           "sequentialminus": [
            [
             0,
             "#0d0887"
            ],
            [
             0.1111111111111111,
             "#46039f"
            ],
            [
             0.2222222222222222,
             "#7201a8"
            ],
            [
             0.3333333333333333,
             "#9c179e"
            ],
            [
             0.4444444444444444,
             "#bd3786"
            ],
            [
             0.5555555555555556,
             "#d8576b"
            ],
            [
             0.6666666666666666,
             "#ed7953"
            ],
            [
             0.7777777777777778,
             "#fb9f3a"
            ],
            [
             0.8888888888888888,
             "#fdca26"
            ],
            [
             1,
             "#f0f921"
            ]
           ]
          },
          "colorway": [
           "#636efa",
           "#EF553B",
           "#00cc96",
           "#ab63fa",
           "#FFA15A",
           "#19d3f3",
           "#FF6692",
           "#B6E880",
           "#FF97FF",
           "#FECB52"
          ],
          "font": {
           "color": "#2a3f5f"
          },
          "geo": {
           "bgcolor": "white",
           "lakecolor": "white",
           "landcolor": "#E5ECF6",
           "showlakes": true,
           "showland": true,
           "subunitcolor": "white"
          },
          "hoverlabel": {
           "align": "left"
          },
          "hovermode": "closest",
          "mapbox": {
           "style": "light"
          },
          "paper_bgcolor": "white",
          "plot_bgcolor": "#E5ECF6",
          "polar": {
           "angularaxis": {
            "gridcolor": "white",
            "linecolor": "white",
            "ticks": ""
           },
           "bgcolor": "#E5ECF6",
           "radialaxis": {
            "gridcolor": "white",
            "linecolor": "white",
            "ticks": ""
           }
          },
          "scene": {
           "xaxis": {
            "backgroundcolor": "#E5ECF6",
            "gridcolor": "white",
            "gridwidth": 2,
            "linecolor": "white",
            "showbackground": true,
            "ticks": "",
            "zerolinecolor": "white"
           },
           "yaxis": {
            "backgroundcolor": "#E5ECF6",
            "gridcolor": "white",
            "gridwidth": 2,
            "linecolor": "white",
            "showbackground": true,
            "ticks": "",
            "zerolinecolor": "white"
           },
           "zaxis": {
            "backgroundcolor": "#E5ECF6",
            "gridcolor": "white",
            "gridwidth": 2,
            "linecolor": "white",
            "showbackground": true,
            "ticks": "",
            "zerolinecolor": "white"
           }
          },
          "shapedefaults": {
           "line": {
            "color": "#2a3f5f"
           }
          },
          "ternary": {
           "aaxis": {
            "gridcolor": "white",
            "linecolor": "white",
            "ticks": ""
           },
           "baxis": {
            "gridcolor": "white",
            "linecolor": "white",
            "ticks": ""
           },
           "bgcolor": "#E5ECF6",
           "caxis": {
            "gridcolor": "white",
            "linecolor": "white",
            "ticks": ""
           }
          },
          "title": {
           "x": 0.05
          },
          "xaxis": {
           "automargin": true,
           "gridcolor": "white",
           "linecolor": "white",
           "ticks": "",
           "title": {
            "standoff": 15
           },
           "zerolinecolor": "white",
           "zerolinewidth": 2
          },
          "yaxis": {
           "automargin": true,
           "gridcolor": "white",
           "linecolor": "white",
           "ticks": "",
           "title": {
            "standoff": 15
           },
           "zerolinecolor": "white",
           "zerolinewidth": 2
          }
         }
        },
        "xaxis": {
         "anchor": "y",
         "domain": [
          0,
          1
         ],
         "type": "date"
        },
        "yaxis": {
         "anchor": "x",
         "domain": [
          0,
          1
         ],
         "title": {
          "text": "Job"
         }
        }
       }
      }
     },
     "metadata": {},
     "output_type": "display_data"
    },
    {
     "name": "stdout",
     "output_type": "stream",
     "text": [
      "instance la02:  in time: 26.746209144592285s\n",
      "0.8351145038167939\n"
     ]
    },
    {
     "data": {
      "application/vnd.plotly.v1+json": {
       "config": {
        "plotlyServerURL": "https://plot.ly"
       },
       "data": [
        {
         "alignmentgroup": "True",
         "base": [
          "2022-01-01T00:00:00",
          "2022-01-01T00:02:52",
          "2022-01-01T00:09:34",
          "2022-01-01T00:08:49",
          "2022-01-01T00:00:55",
          "2022-01-01T00:06:10",
          "2022-01-01T00:04:50",
          "2022-01-01T00:03:16",
          "2022-01-01T00:01:37",
          "2022-01-01T00:07:48"
         ],
         "hovertemplate": "Machine=machine_0<br>Start=%{base}<br>Finish=%{x}<br>Job=%{y}<extra></extra>",
         "legendgroup": "machine_0",
         "marker": {
          "color": "#636efa",
          "pattern": {
           "shape": ""
          }
         },
         "name": "machine_0",
         "offsetgroup": "machine_0",
         "orientation": "h",
         "showlegend": true,
         "textposition": "auto",
         "type": "bar",
         "x": [
          20000,
          24000,
          58000,
          45000,
          42000,
          98000,
          80000,
          94000,
          75000,
          61000
         ],
         "xaxis": "x",
         "y": [
          "job_0",
          "job_1",
          "job_2",
          "job_3",
          "job_4",
          "job_5",
          "job_6",
          "job_7",
          "job_8",
          "job_9"
         ],
         "yaxis": "y"
        },
        {
         "alignmentgroup": "True",
         "base": [
          "2022-01-01T00:00:20",
          "2022-01-01T00:06:29",
          "2022-01-01T00:11:04",
          "2022-01-01T00:09:34",
          "2022-01-01T00:02:06",
          "2022-01-01T00:08:40",
          "2022-01-01T00:01:47",
          "2022-01-01T00:07:50",
          "2022-01-01T00:05:34",
          "2022-01-01T00:04:15"
         ],
         "hovertemplate": "Machine=machine_3<br>Start=%{base}<br>Finish=%{x}<br>Job=%{y}<extra></extra>",
         "legendgroup": "machine_3",
         "marker": {
          "color": "#EF553B",
          "pattern": {
           "shape": ""
          }
         },
         "name": "machine_3",
         "offsetgroup": "machine_3",
         "orientation": "h",
         "showlegend": true,
         "textposition": "auto",
         "type": "bar",
         "x": [
          87000,
          81000,
          99000,
          90000,
          48000,
          27000,
          19000,
          50000,
          55000,
          79000
         ],
         "xaxis": "x",
         "y": [
          "job_0",
          "job_1",
          "job_2",
          "job_3",
          "job_4",
          "job_5",
          "job_6",
          "job_7",
          "job_8",
          "job_9"
         ],
         "yaxis": "y"
        },
        {
         "alignmentgroup": "True",
         "base": [
          "2022-01-01T00:07:18",
          "2022-01-01T00:01:34",
          "2022-01-01T00:07:43",
          "2022-01-01T00:00:00",
          "2022-01-01T00:03:04",
          "2022-01-01T00:09:07",
          "2022-01-01T00:06:28",
          "2022-01-01T00:04:50",
          "2022-01-01T00:03:21",
          "2022-01-01T00:02:46"
         ],
         "hovertemplate": "Machine=machine_2<br>Start=%{base}<br>Finish=%{x}<br>Job=%{y}<extra></extra>",
         "legendgroup": "machine_2",
         "marker": {
          "color": "#00cc96",
          "pattern": {
           "shape": ""
          }
         },
         "name": "machine_2",
         "offsetgroup": "machine_2",
         "orientation": "h",
         "showlegend": true,
         "textposition": "auto",
         "type": "bar",
         "x": [
          17000,
          32000,
          23000,
          86000,
          17000,
          62000,
          50000,
          98000,
          50000,
          18000
         ],
         "xaxis": "x",
         "y": [
          "job_0",
          "job_1",
          "job_2",
          "job_3",
          "job_4",
          "job_5",
          "job_6",
          "job_7",
          "job_8",
          "job_9"
         ],
         "yaxis": "y"
        },
        {
         "alignmentgroup": "True",
         "base": [
          "2022-01-01T00:05:27",
          "2022-01-01T00:01:09",
          "2022-01-01T00:08:36",
          "2022-01-01T00:03:38",
          "2022-01-01T00:00:28",
          "2022-01-01T00:07:48",
          "2022-01-01T00:00:00",
          "2022-01-01T00:09:04",
          "2022-01-01T00:00:55",
          "2022-01-01T00:01:34"
         ],
         "hovertemplate": "Machine=machine_4<br>Start=%{base}<br>Finish=%{x}<br>Job=%{y}<extra></extra>",
         "legendgroup": "machine_4",
         "marker": {
          "color": "#ab63fa",
          "pattern": {
           "shape": ""
          }
         },
         "name": "machine_4",
         "offsetgroup": "machine_4",
         "orientation": "h",
         "showlegend": true,
         "textposition": "auto",
         "type": "bar",
         "x": [
          76000,
          25000,
          28000,
          97000,
          27000,
          48000,
          28000,
          80000,
          14000,
          72000
         ],
         "xaxis": "x",
         "y": [
          "job_0",
          "job_1",
          "job_2",
          "job_3",
          "job_4",
          "job_5",
          "job_6",
          "job_7",
          "job_8",
          "job_9"
         ],
         "yaxis": "y"
        },
        {
         "alignmentgroup": "True",
         "base": [
          "2022-01-01T00:04:56",
          "2022-01-01T00:05:27",
          "2022-01-01T00:06:31",
          "2022-01-01T00:02:22",
          "2022-01-01T00:05:45",
          "2022-01-01T00:00:00",
          "2022-01-01T00:01:07",
          "2022-01-01T00:01:19",
          "2022-01-01T00:04:15",
          "2022-01-01T00:03:38"
         ],
         "hovertemplate": "Machine=machine_1<br>Start=%{base}<br>Finish=%{x}<br>Job=%{y}<extra></extra>",
         "legendgroup": "machine_1",
         "marker": {
          "color": "#FFA15A",
          "pattern": {
           "shape": ""
          }
         },
         "name": "machine_1",
         "offsetgroup": "machine_1",
         "orientation": "h",
         "showlegend": true,
         "textposition": "auto",
         "type": "bar",
         "x": [
          31000,
          18000,
          72000,
          76000,
          46000,
          67000,
          12000,
          63000,
          41000,
          37000
         ],
         "xaxis": "x",
         "y": [
          "job_0",
          "job_1",
          "job_2",
          "job_3",
          "job_4",
          "job_5",
          "job_6",
          "job_7",
          "job_8",
          "job_9"
         ],
         "yaxis": "y"
        }
       ],
       "layout": {
        "barmode": "overlay",
        "legend": {
         "title": {
          "text": "Machine"
         },
         "tracegroupgap": 0
        },
        "margin": {
         "t": 60
        },
        "template": {
         "data": {
          "bar": [
           {
            "error_x": {
             "color": "#2a3f5f"
            },
            "error_y": {
             "color": "#2a3f5f"
            },
            "marker": {
             "line": {
              "color": "#E5ECF6",
              "width": 0.5
             },
             "pattern": {
              "fillmode": "overlay",
              "size": 10,
              "solidity": 0.2
             }
            },
            "type": "bar"
           }
          ],
          "barpolar": [
           {
            "marker": {
             "line": {
              "color": "#E5ECF6",
              "width": 0.5
             },
             "pattern": {
              "fillmode": "overlay",
              "size": 10,
              "solidity": 0.2
             }
            },
            "type": "barpolar"
           }
          ],
          "carpet": [
           {
            "aaxis": {
             "endlinecolor": "#2a3f5f",
             "gridcolor": "white",
             "linecolor": "white",
             "minorgridcolor": "white",
             "startlinecolor": "#2a3f5f"
            },
            "baxis": {
             "endlinecolor": "#2a3f5f",
             "gridcolor": "white",
             "linecolor": "white",
             "minorgridcolor": "white",
             "startlinecolor": "#2a3f5f"
            },
            "type": "carpet"
           }
          ],
          "choropleth": [
           {
            "colorbar": {
             "outlinewidth": 0,
             "ticks": ""
            },
            "type": "choropleth"
           }
          ],
          "contour": [
           {
            "colorbar": {
             "outlinewidth": 0,
             "ticks": ""
            },
            "colorscale": [
             [
              0,
              "#0d0887"
             ],
             [
              0.1111111111111111,
              "#46039f"
             ],
             [
              0.2222222222222222,
              "#7201a8"
             ],
             [
              0.3333333333333333,
              "#9c179e"
             ],
             [
              0.4444444444444444,
              "#bd3786"
             ],
             [
              0.5555555555555556,
              "#d8576b"
             ],
             [
              0.6666666666666666,
              "#ed7953"
             ],
             [
              0.7777777777777778,
              "#fb9f3a"
             ],
             [
              0.8888888888888888,
              "#fdca26"
             ],
             [
              1,
              "#f0f921"
             ]
            ],
            "type": "contour"
           }
          ],
          "contourcarpet": [
           {
            "colorbar": {
             "outlinewidth": 0,
             "ticks": ""
            },
            "type": "contourcarpet"
           }
          ],
          "heatmap": [
           {
            "colorbar": {
             "outlinewidth": 0,
             "ticks": ""
            },
            "colorscale": [
             [
              0,
              "#0d0887"
             ],
             [
              0.1111111111111111,
              "#46039f"
             ],
             [
              0.2222222222222222,
              "#7201a8"
             ],
             [
              0.3333333333333333,
              "#9c179e"
             ],
             [
              0.4444444444444444,
              "#bd3786"
             ],
             [
              0.5555555555555556,
              "#d8576b"
             ],
             [
              0.6666666666666666,
              "#ed7953"
             ],
             [
              0.7777777777777778,
              "#fb9f3a"
             ],
             [
              0.8888888888888888,
              "#fdca26"
             ],
             [
              1,
              "#f0f921"
             ]
            ],
            "type": "heatmap"
           }
          ],
          "heatmapgl": [
           {
            "colorbar": {
             "outlinewidth": 0,
             "ticks": ""
            },
            "colorscale": [
             [
              0,
              "#0d0887"
             ],
             [
              0.1111111111111111,
              "#46039f"
             ],
             [
              0.2222222222222222,
              "#7201a8"
             ],
             [
              0.3333333333333333,
              "#9c179e"
             ],
             [
              0.4444444444444444,
              "#bd3786"
             ],
             [
              0.5555555555555556,
              "#d8576b"
             ],
             [
              0.6666666666666666,
              "#ed7953"
             ],
             [
              0.7777777777777778,
              "#fb9f3a"
             ],
             [
              0.8888888888888888,
              "#fdca26"
             ],
             [
              1,
              "#f0f921"
             ]
            ],
            "type": "heatmapgl"
           }
          ],
          "histogram": [
           {
            "marker": {
             "pattern": {
              "fillmode": "overlay",
              "size": 10,
              "solidity": 0.2
             }
            },
            "type": "histogram"
           }
          ],
          "histogram2d": [
           {
            "colorbar": {
             "outlinewidth": 0,
             "ticks": ""
            },
            "colorscale": [
             [
              0,
              "#0d0887"
             ],
             [
              0.1111111111111111,
              "#46039f"
             ],
             [
              0.2222222222222222,
              "#7201a8"
             ],
             [
              0.3333333333333333,
              "#9c179e"
             ],
             [
              0.4444444444444444,
              "#bd3786"
             ],
             [
              0.5555555555555556,
              "#d8576b"
             ],
             [
              0.6666666666666666,
              "#ed7953"
             ],
             [
              0.7777777777777778,
              "#fb9f3a"
             ],
             [
              0.8888888888888888,
              "#fdca26"
             ],
             [
              1,
              "#f0f921"
             ]
            ],
            "type": "histogram2d"
           }
          ],
          "histogram2dcontour": [
           {
            "colorbar": {
             "outlinewidth": 0,
             "ticks": ""
            },
            "colorscale": [
             [
              0,
              "#0d0887"
             ],
             [
              0.1111111111111111,
              "#46039f"
             ],
             [
              0.2222222222222222,
              "#7201a8"
             ],
             [
              0.3333333333333333,
              "#9c179e"
             ],
             [
              0.4444444444444444,
              "#bd3786"
             ],
             [
              0.5555555555555556,
              "#d8576b"
             ],
             [
              0.6666666666666666,
              "#ed7953"
             ],
             [
              0.7777777777777778,
              "#fb9f3a"
             ],
             [
              0.8888888888888888,
              "#fdca26"
             ],
             [
              1,
              "#f0f921"
             ]
            ],
            "type": "histogram2dcontour"
           }
          ],
          "mesh3d": [
           {
            "colorbar": {
             "outlinewidth": 0,
             "ticks": ""
            },
            "type": "mesh3d"
           }
          ],
          "parcoords": [
           {
            "line": {
             "colorbar": {
              "outlinewidth": 0,
              "ticks": ""
             }
            },
            "type": "parcoords"
           }
          ],
          "pie": [
           {
            "automargin": true,
            "type": "pie"
           }
          ],
          "scatter": [
           {
            "fillpattern": {
             "fillmode": "overlay",
             "size": 10,
             "solidity": 0.2
            },
            "type": "scatter"
           }
          ],
          "scatter3d": [
           {
            "line": {
             "colorbar": {
              "outlinewidth": 0,
              "ticks": ""
             }
            },
            "marker": {
             "colorbar": {
              "outlinewidth": 0,
              "ticks": ""
             }
            },
            "type": "scatter3d"
           }
          ],
          "scattercarpet": [
           {
            "marker": {
             "colorbar": {
              "outlinewidth": 0,
              "ticks": ""
             }
            },
            "type": "scattercarpet"
           }
          ],
          "scattergeo": [
           {
            "marker": {
             "colorbar": {
              "outlinewidth": 0,
              "ticks": ""
             }
            },
            "type": "scattergeo"
           }
          ],
          "scattergl": [
           {
            "marker": {
             "colorbar": {
              "outlinewidth": 0,
              "ticks": ""
             }
            },
            "type": "scattergl"
           }
          ],
          "scattermapbox": [
           {
            "marker": {
             "colorbar": {
              "outlinewidth": 0,
              "ticks": ""
             }
            },
            "type": "scattermapbox"
           }
          ],
          "scatterpolar": [
           {
            "marker": {
             "colorbar": {
              "outlinewidth": 0,
              "ticks": ""
             }
            },
            "type": "scatterpolar"
           }
          ],
          "scatterpolargl": [
           {
            "marker": {
             "colorbar": {
              "outlinewidth": 0,
              "ticks": ""
             }
            },
            "type": "scatterpolargl"
           }
          ],
          "scatterternary": [
           {
            "marker": {
             "colorbar": {
              "outlinewidth": 0,
              "ticks": ""
             }
            },
            "type": "scatterternary"
           }
          ],
          "surface": [
           {
            "colorbar": {
             "outlinewidth": 0,
             "ticks": ""
            },
            "colorscale": [
             [
              0,
              "#0d0887"
             ],
             [
              0.1111111111111111,
              "#46039f"
             ],
             [
              0.2222222222222222,
              "#7201a8"
             ],
             [
              0.3333333333333333,
              "#9c179e"
             ],
             [
              0.4444444444444444,
              "#bd3786"
             ],
             [
              0.5555555555555556,
              "#d8576b"
             ],
             [
              0.6666666666666666,
              "#ed7953"
             ],
             [
              0.7777777777777778,
              "#fb9f3a"
             ],
             [
              0.8888888888888888,
              "#fdca26"
             ],
             [
              1,
              "#f0f921"
             ]
            ],
            "type": "surface"
           }
          ],
          "table": [
           {
            "cells": {
             "fill": {
              "color": "#EBF0F8"
             },
             "line": {
              "color": "white"
             }
            },
            "header": {
             "fill": {
              "color": "#C8D4E3"
             },
             "line": {
              "color": "white"
             }
            },
            "type": "table"
           }
          ]
         },
         "layout": {
          "annotationdefaults": {
           "arrowcolor": "#2a3f5f",
           "arrowhead": 0,
           "arrowwidth": 1
          },
          "autotypenumbers": "strict",
          "coloraxis": {
           "colorbar": {
            "outlinewidth": 0,
            "ticks": ""
           }
          },
          "colorscale": {
           "diverging": [
            [
             0,
             "#8e0152"
            ],
            [
             0.1,
             "#c51b7d"
            ],
            [
             0.2,
             "#de77ae"
            ],
            [
             0.3,
             "#f1b6da"
            ],
            [
             0.4,
             "#fde0ef"
            ],
            [
             0.5,
             "#f7f7f7"
            ],
            [
             0.6,
             "#e6f5d0"
            ],
            [
             0.7,
             "#b8e186"
            ],
            [
             0.8,
             "#7fbc41"
            ],
            [
             0.9,
             "#4d9221"
            ],
            [
             1,
             "#276419"
            ]
           ],
           "sequential": [
            [
             0,
             "#0d0887"
            ],
            [
             0.1111111111111111,
             "#46039f"
            ],
            [
             0.2222222222222222,
             "#7201a8"
            ],
            [
             0.3333333333333333,
             "#9c179e"
            ],
            [
             0.4444444444444444,
             "#bd3786"
            ],
            [
             0.5555555555555556,
             "#d8576b"
            ],
            [
             0.6666666666666666,
             "#ed7953"
            ],
            [
             0.7777777777777778,
             "#fb9f3a"
            ],
            [
             0.8888888888888888,
             "#fdca26"
            ],
            [
             1,
             "#f0f921"
            ]
           ],
           "sequentialminus": [
            [
             0,
             "#0d0887"
            ],
            [
             0.1111111111111111,
             "#46039f"
            ],
            [
             0.2222222222222222,
             "#7201a8"
            ],
            [
             0.3333333333333333,
             "#9c179e"
            ],
            [
             0.4444444444444444,
             "#bd3786"
            ],
            [
             0.5555555555555556,
             "#d8576b"
            ],
            [
             0.6666666666666666,
             "#ed7953"
            ],
            [
             0.7777777777777778,
             "#fb9f3a"
            ],
            [
             0.8888888888888888,
             "#fdca26"
            ],
            [
             1,
             "#f0f921"
            ]
           ]
          },
          "colorway": [
           "#636efa",
           "#EF553B",
           "#00cc96",
           "#ab63fa",
           "#FFA15A",
           "#19d3f3",
           "#FF6692",
           "#B6E880",
           "#FF97FF",
           "#FECB52"
          ],
          "font": {
           "color": "#2a3f5f"
          },
          "geo": {
           "bgcolor": "white",
           "lakecolor": "white",
           "landcolor": "#E5ECF6",
           "showlakes": true,
           "showland": true,
           "subunitcolor": "white"
          },
          "hoverlabel": {
           "align": "left"
          },
          "hovermode": "closest",
          "mapbox": {
           "style": "light"
          },
          "paper_bgcolor": "white",
          "plot_bgcolor": "#E5ECF6",
          "polar": {
           "angularaxis": {
            "gridcolor": "white",
            "linecolor": "white",
            "ticks": ""
           },
           "bgcolor": "#E5ECF6",
           "radialaxis": {
            "gridcolor": "white",
            "linecolor": "white",
            "ticks": ""
           }
          },
          "scene": {
           "xaxis": {
            "backgroundcolor": "#E5ECF6",
            "gridcolor": "white",
            "gridwidth": 2,
            "linecolor": "white",
            "showbackground": true,
            "ticks": "",
            "zerolinecolor": "white"
           },
           "yaxis": {
            "backgroundcolor": "#E5ECF6",
            "gridcolor": "white",
            "gridwidth": 2,
            "linecolor": "white",
            "showbackground": true,
            "ticks": "",
            "zerolinecolor": "white"
           },
           "zaxis": {
            "backgroundcolor": "#E5ECF6",
            "gridcolor": "white",
            "gridwidth": 2,
            "linecolor": "white",
            "showbackground": true,
            "ticks": "",
            "zerolinecolor": "white"
           }
          },
          "shapedefaults": {
           "line": {
            "color": "#2a3f5f"
           }
          },
          "ternary": {
           "aaxis": {
            "gridcolor": "white",
            "linecolor": "white",
            "ticks": ""
           },
           "baxis": {
            "gridcolor": "white",
            "linecolor": "white",
            "ticks": ""
           },
           "bgcolor": "#E5ECF6",
           "caxis": {
            "gridcolor": "white",
            "linecolor": "white",
            "ticks": ""
           }
          },
          "title": {
           "x": 0.05
          },
          "xaxis": {
           "automargin": true,
           "gridcolor": "white",
           "linecolor": "white",
           "ticks": "",
           "title": {
            "standoff": 15
           },
           "zerolinecolor": "white",
           "zerolinewidth": 2
          },
          "yaxis": {
           "automargin": true,
           "gridcolor": "white",
           "linecolor": "white",
           "ticks": "",
           "title": {
            "standoff": 15
           },
           "zerolinecolor": "white",
           "zerolinewidth": 2
          }
         }
        },
        "xaxis": {
         "anchor": "y",
         "domain": [
          0,
          1
         ],
         "type": "date"
        },
        "yaxis": {
         "anchor": "x",
         "domain": [
          0,
          1
         ],
         "title": {
          "text": "Job"
         }
        }
       }
      }
     },
     "metadata": {},
     "output_type": "display_data"
    },
    {
     "name": "stdout",
     "output_type": "stream",
     "text": [
      "instance la03:  in time: 20.718518018722534s\n",
      "0.8626465661641541\n"
     ]
    },
    {
     "data": {
      "application/vnd.plotly.v1+json": {
       "config": {
        "plotlyServerURL": "https://plot.ly"
       },
       "data": [
        {
         "alignmentgroup": "True",
         "base": [
          "2022-01-01T00:00:58",
          "2022-01-01T00:01:43",
          "2022-01-01T00:00:00",
          "2022-01-01T00:03:23",
          "2022-01-01T00:08:59",
          "2022-01-01T00:09:32",
          "2022-01-01T00:00:38",
          "2022-01-01T00:08:04",
          "2022-01-01T00:04:37",
          "2022-01-01T00:11:01"
         ],
         "hovertemplate": "Machine=machine_2<br>Start=%{base}<br>Finish=%{x}<br>Job=%{y}<extra></extra>",
         "legendgroup": "machine_2",
         "marker": {
          "color": "#636efa",
          "pattern": {
           "shape": ""
          }
         },
         "name": "machine_2",
         "offsetgroup": "machine_2",
         "orientation": "h",
         "showlegend": true,
         "textposition": "auto",
         "type": "bar",
         "x": [
          45000,
          21000,
          38000,
          74000,
          30000,
          89000,
          20000,
          55000,
          64000,
          8000
         ],
         "xaxis": "x",
         "y": [
          "job_0",
          "job_1",
          "job_2",
          "job_3",
          "job_4",
          "job_5",
          "job_6",
          "job_7",
          "job_8",
          "job_9"
         ],
         "yaxis": "y"
        },
        {
         "alignmentgroup": "True",
         "base": [
          "2022-01-01T00:04:51",
          "2022-01-01T00:08:56",
          "2022-01-01T00:08:04",
          "2022-01-01T00:02:29",
          "2022-01-01T00:03:30",
          "2022-01-01T00:06:13",
          "2022-01-01T00:00:58",
          "2022-01-01T00:07:32",
          "2022-01-01T00:03:23",
          "2022-01-01T00:09:14"
         ],
         "hovertemplate": "Machine=machine_0<br>Start=%{base}<br>Finish=%{x}<br>Job=%{y}<extra></extra>",
         "legendgroup": "machine_0",
         "marker": {
          "color": "#EF553B",
          "pattern": {
           "shape": ""
          }
         },
         "name": "machine_0",
         "offsetgroup": "machine_0",
         "orientation": "h",
         "showlegend": true,
         "textposition": "auto",
         "type": "bar",
         "x": [
          82000,
          18000,
          52000,
          54000,
          81000,
          79000,
          91000,
          32000,
          7000,
          19000
         ],
         "xaxis": "x",
         "y": [
          "job_0",
          "job_1",
          "job_2",
          "job_3",
          "job_4",
          "job_5",
          "job_6",
          "job_7",
          "job_8",
          "job_9"
         ],
         "yaxis": "y"
        },
        {
         "alignmentgroup": "True",
         "base": [
          "2022-01-01T00:09:14",
          "2022-01-01T00:09:55",
          "2022-01-01T00:00:38",
          "2022-01-01T00:08:09",
          "2022-01-01T00:07:01",
          "2022-01-01T00:11:01",
          "2022-01-01T00:00:00",
          "2022-01-01T00:09:06",
          "2022-01-01T00:03:30",
          "2022-01-01T00:11:12"
         ],
         "hovertemplate": "Machine=machine_3<br>Start=%{base}<br>Finish=%{x}<br>Job=%{y}<extra></extra>",
         "legendgroup": "machine_3",
         "marker": {
          "color": "#00cc96",
          "pattern": {
           "shape": ""
          }
         },
         "name": "machine_3",
         "offsetgroup": "machine_3",
         "orientation": "h",
         "showlegend": true,
         "textposition": "auto",
         "type": "bar",
         "x": [
          38000,
          50000,
          54000,
          57000,
          68000,
          11000,
          33000,
          8000,
          54000,
          7000
         ],
         "xaxis": "x",
         "y": [
          "job_0",
          "job_1",
          "job_2",
          "job_3",
          "job_4",
          "job_5",
          "job_6",
          "job_7",
          "job_8",
          "job_9"
         ],
         "yaxis": "y"
        },
        {
         "alignmentgroup": "True",
         "base": [
          "2022-01-01T00:06:13",
          "2022-01-01T00:09:14",
          "2022-01-01T00:05:15",
          "2022-01-01T00:01:37",
          "2022-01-01T00:00:40",
          "2022-01-01T00:03:54",
          "2022-01-01T00:03:10",
          "2022-01-01T00:03:30",
          "2022-01-01T00:02:14",
          "2022-01-01T00:00:00"
         ],
         "hovertemplate": "Machine=machine_4<br>Start=%{base}<br>Finish=%{x}<br>Job=%{y}<extra></extra>",
         "legendgroup": "machine_4",
         "marker": {
          "color": "#ab63fa",
          "pattern": {
           "shape": ""
          }
         },
         "name": "machine_4",
         "offsetgroup": "machine_4",
         "orientation": "h",
         "showlegend": true,
         "textposition": "auto",
         "type": "bar",
         "x": [
          84000,
          41000,
          16000,
          37000,
          57000,
          81000,
          20000,
          24000,
          56000,
          40000
         ],
         "xaxis": "x",
         "y": [
          "job_0",
          "job_1",
          "job_2",
          "job_3",
          "job_4",
          "job_5",
          "job_6",
          "job_7",
          "job_8",
          "job_9"
         ],
         "yaxis": "y"
        },
        {
         "alignmentgroup": "True",
         "base": [
          "2022-01-01T00:00:00",
          "2022-01-01T00:02:04",
          "2022-01-01T00:10:11",
          "2022-01-01T00:07:01",
          "2022-01-01T00:06:00",
          "2022-01-01T00:08:03",
          "2022-01-01T00:03:30",
          "2022-01-01T00:04:36",
          "2022-01-01T00:09:32",
          "2022-01-01T00:00:40"
         ],
         "hovertemplate": "Machine=machine_1<br>Start=%{base}<br>Finish=%{x}<br>Job=%{y}<extra></extra>",
         "legendgroup": "machine_1",
         "marker": {
          "color": "#FFA15A",
          "pattern": {
           "shape": ""
          }
         },
         "name": "machine_1",
         "offsetgroup": "machine_1",
         "orientation": "h",
         "showlegend": true,
         "textposition": "auto",
         "type": "bar",
         "x": [
          23000,
          29000,
          52000,
          62000,
          61000,
          89000,
          66000,
          84000,
          39000,
          83000
         ],
         "xaxis": "x",
         "y": [
          "job_0",
          "job_1",
          "job_2",
          "job_3",
          "job_4",
          "job_5",
          "job_6",
          "job_7",
          "job_8",
          "job_9"
         ],
         "yaxis": "y"
        }
       ],
       "layout": {
        "barmode": "overlay",
        "legend": {
         "title": {
          "text": "Machine"
         },
         "tracegroupgap": 0
        },
        "margin": {
         "t": 60
        },
        "template": {
         "data": {
          "bar": [
           {
            "error_x": {
             "color": "#2a3f5f"
            },
            "error_y": {
             "color": "#2a3f5f"
            },
            "marker": {
             "line": {
              "color": "#E5ECF6",
              "width": 0.5
             },
             "pattern": {
              "fillmode": "overlay",
              "size": 10,
              "solidity": 0.2
             }
            },
            "type": "bar"
           }
          ],
          "barpolar": [
           {
            "marker": {
             "line": {
              "color": "#E5ECF6",
              "width": 0.5
             },
             "pattern": {
              "fillmode": "overlay",
              "size": 10,
              "solidity": 0.2
             }
            },
            "type": "barpolar"
           }
          ],
          "carpet": [
           {
            "aaxis": {
             "endlinecolor": "#2a3f5f",
             "gridcolor": "white",
             "linecolor": "white",
             "minorgridcolor": "white",
             "startlinecolor": "#2a3f5f"
            },
            "baxis": {
             "endlinecolor": "#2a3f5f",
             "gridcolor": "white",
             "linecolor": "white",
             "minorgridcolor": "white",
             "startlinecolor": "#2a3f5f"
            },
            "type": "carpet"
           }
          ],
          "choropleth": [
           {
            "colorbar": {
             "outlinewidth": 0,
             "ticks": ""
            },
            "type": "choropleth"
           }
          ],
          "contour": [
           {
            "colorbar": {
             "outlinewidth": 0,
             "ticks": ""
            },
            "colorscale": [
             [
              0,
              "#0d0887"
             ],
             [
              0.1111111111111111,
              "#46039f"
             ],
             [
              0.2222222222222222,
              "#7201a8"
             ],
             [
              0.3333333333333333,
              "#9c179e"
             ],
             [
              0.4444444444444444,
              "#bd3786"
             ],
             [
              0.5555555555555556,
              "#d8576b"
             ],
             [
              0.6666666666666666,
              "#ed7953"
             ],
             [
              0.7777777777777778,
              "#fb9f3a"
             ],
             [
              0.8888888888888888,
              "#fdca26"
             ],
             [
              1,
              "#f0f921"
             ]
            ],
            "type": "contour"
           }
          ],
          "contourcarpet": [
           {
            "colorbar": {
             "outlinewidth": 0,
             "ticks": ""
            },
            "type": "contourcarpet"
           }
          ],
          "heatmap": [
           {
            "colorbar": {
             "outlinewidth": 0,
             "ticks": ""
            },
            "colorscale": [
             [
              0,
              "#0d0887"
             ],
             [
              0.1111111111111111,
              "#46039f"
             ],
             [
              0.2222222222222222,
              "#7201a8"
             ],
             [
              0.3333333333333333,
              "#9c179e"
             ],
             [
              0.4444444444444444,
              "#bd3786"
             ],
             [
              0.5555555555555556,
              "#d8576b"
             ],
             [
              0.6666666666666666,
              "#ed7953"
             ],
             [
              0.7777777777777778,
              "#fb9f3a"
             ],
             [
              0.8888888888888888,
              "#fdca26"
             ],
             [
              1,
              "#f0f921"
             ]
            ],
            "type": "heatmap"
           }
          ],
          "heatmapgl": [
           {
            "colorbar": {
             "outlinewidth": 0,
             "ticks": ""
            },
            "colorscale": [
             [
              0,
              "#0d0887"
             ],
             [
              0.1111111111111111,
              "#46039f"
             ],
             [
              0.2222222222222222,
              "#7201a8"
             ],
             [
              0.3333333333333333,
              "#9c179e"
             ],
             [
              0.4444444444444444,
              "#bd3786"
             ],
             [
              0.5555555555555556,
              "#d8576b"
             ],
             [
              0.6666666666666666,
              "#ed7953"
             ],
             [
              0.7777777777777778,
              "#fb9f3a"
             ],
             [
              0.8888888888888888,
              "#fdca26"
             ],
             [
              1,
              "#f0f921"
             ]
            ],
            "type": "heatmapgl"
           }
          ],
          "histogram": [
           {
            "marker": {
             "pattern": {
              "fillmode": "overlay",
              "size": 10,
              "solidity": 0.2
             }
            },
            "type": "histogram"
           }
          ],
          "histogram2d": [
           {
            "colorbar": {
             "outlinewidth": 0,
             "ticks": ""
            },
            "colorscale": [
             [
              0,
              "#0d0887"
             ],
             [
              0.1111111111111111,
              "#46039f"
             ],
             [
              0.2222222222222222,
              "#7201a8"
             ],
             [
              0.3333333333333333,
              "#9c179e"
             ],
             [
              0.4444444444444444,
              "#bd3786"
             ],
             [
              0.5555555555555556,
              "#d8576b"
             ],
             [
              0.6666666666666666,
              "#ed7953"
             ],
             [
              0.7777777777777778,
              "#fb9f3a"
             ],
             [
              0.8888888888888888,
              "#fdca26"
             ],
             [
              1,
              "#f0f921"
             ]
            ],
            "type": "histogram2d"
           }
          ],
          "histogram2dcontour": [
           {
            "colorbar": {
             "outlinewidth": 0,
             "ticks": ""
            },
            "colorscale": [
             [
              0,
              "#0d0887"
             ],
             [
              0.1111111111111111,
              "#46039f"
             ],
             [
              0.2222222222222222,
              "#7201a8"
             ],
             [
              0.3333333333333333,
              "#9c179e"
             ],
             [
              0.4444444444444444,
              "#bd3786"
             ],
             [
              0.5555555555555556,
              "#d8576b"
             ],
             [
              0.6666666666666666,
              "#ed7953"
             ],
             [
              0.7777777777777778,
              "#fb9f3a"
             ],
             [
              0.8888888888888888,
              "#fdca26"
             ],
             [
              1,
              "#f0f921"
             ]
            ],
            "type": "histogram2dcontour"
           }
          ],
          "mesh3d": [
           {
            "colorbar": {
             "outlinewidth": 0,
             "ticks": ""
            },
            "type": "mesh3d"
           }
          ],
          "parcoords": [
           {
            "line": {
             "colorbar": {
              "outlinewidth": 0,
              "ticks": ""
             }
            },
            "type": "parcoords"
           }
          ],
          "pie": [
           {
            "automargin": true,
            "type": "pie"
           }
          ],
          "scatter": [
           {
            "fillpattern": {
             "fillmode": "overlay",
             "size": 10,
             "solidity": 0.2
            },
            "type": "scatter"
           }
          ],
          "scatter3d": [
           {
            "line": {
             "colorbar": {
              "outlinewidth": 0,
              "ticks": ""
             }
            },
            "marker": {
             "colorbar": {
              "outlinewidth": 0,
              "ticks": ""
             }
            },
            "type": "scatter3d"
           }
          ],
          "scattercarpet": [
           {
            "marker": {
             "colorbar": {
              "outlinewidth": 0,
              "ticks": ""
             }
            },
            "type": "scattercarpet"
           }
          ],
          "scattergeo": [
           {
            "marker": {
             "colorbar": {
              "outlinewidth": 0,
              "ticks": ""
             }
            },
            "type": "scattergeo"
           }
          ],
          "scattergl": [
           {
            "marker": {
             "colorbar": {
              "outlinewidth": 0,
              "ticks": ""
             }
            },
            "type": "scattergl"
           }
          ],
          "scattermapbox": [
           {
            "marker": {
             "colorbar": {
              "outlinewidth": 0,
              "ticks": ""
             }
            },
            "type": "scattermapbox"
           }
          ],
          "scatterpolar": [
           {
            "marker": {
             "colorbar": {
              "outlinewidth": 0,
              "ticks": ""
             }
            },
            "type": "scatterpolar"
           }
          ],
          "scatterpolargl": [
           {
            "marker": {
             "colorbar": {
              "outlinewidth": 0,
              "ticks": ""
             }
            },
            "type": "scatterpolargl"
           }
          ],
          "scatterternary": [
           {
            "marker": {
             "colorbar": {
              "outlinewidth": 0,
              "ticks": ""
             }
            },
            "type": "scatterternary"
           }
          ],
          "surface": [
           {
            "colorbar": {
             "outlinewidth": 0,
             "ticks": ""
            },
            "colorscale": [
             [
              0,
              "#0d0887"
             ],
             [
              0.1111111111111111,
              "#46039f"
             ],
             [
              0.2222222222222222,
              "#7201a8"
             ],
             [
              0.3333333333333333,
              "#9c179e"
             ],
             [
              0.4444444444444444,
              "#bd3786"
             ],
             [
              0.5555555555555556,
              "#d8576b"
             ],
             [
              0.6666666666666666,
              "#ed7953"
             ],
             [
              0.7777777777777778,
              "#fb9f3a"
             ],
             [
              0.8888888888888888,
              "#fdca26"
             ],
             [
              1,
              "#f0f921"
             ]
            ],
            "type": "surface"
           }
          ],
          "table": [
           {
            "cells": {
             "fill": {
              "color": "#EBF0F8"
             },
             "line": {
              "color": "white"
             }
            },
            "header": {
             "fill": {
              "color": "#C8D4E3"
             },
             "line": {
              "color": "white"
             }
            },
            "type": "table"
           }
          ]
         },
         "layout": {
          "annotationdefaults": {
           "arrowcolor": "#2a3f5f",
           "arrowhead": 0,
           "arrowwidth": 1
          },
          "autotypenumbers": "strict",
          "coloraxis": {
           "colorbar": {
            "outlinewidth": 0,
            "ticks": ""
           }
          },
          "colorscale": {
           "diverging": [
            [
             0,
             "#8e0152"
            ],
            [
             0.1,
             "#c51b7d"
            ],
            [
             0.2,
             "#de77ae"
            ],
            [
             0.3,
             "#f1b6da"
            ],
            [
             0.4,
             "#fde0ef"
            ],
            [
             0.5,
             "#f7f7f7"
            ],
            [
             0.6,
             "#e6f5d0"
            ],
            [
             0.7,
             "#b8e186"
            ],
            [
             0.8,
             "#7fbc41"
            ],
            [
             0.9,
             "#4d9221"
            ],
            [
             1,
             "#276419"
            ]
           ],
           "sequential": [
            [
             0,
             "#0d0887"
            ],
            [
             0.1111111111111111,
             "#46039f"
            ],
            [
             0.2222222222222222,
             "#7201a8"
            ],
            [
             0.3333333333333333,
             "#9c179e"
            ],
            [
             0.4444444444444444,
             "#bd3786"
            ],
            [
             0.5555555555555556,
             "#d8576b"
            ],
            [
             0.6666666666666666,
             "#ed7953"
            ],
            [
             0.7777777777777778,
             "#fb9f3a"
            ],
            [
             0.8888888888888888,
             "#fdca26"
            ],
            [
             1,
             "#f0f921"
            ]
           ],
           "sequentialminus": [
            [
             0,
             "#0d0887"
            ],
            [
             0.1111111111111111,
             "#46039f"
            ],
            [
             0.2222222222222222,
             "#7201a8"
            ],
            [
             0.3333333333333333,
             "#9c179e"
            ],
            [
             0.4444444444444444,
             "#bd3786"
            ],
            [
             0.5555555555555556,
             "#d8576b"
            ],
            [
             0.6666666666666666,
             "#ed7953"
            ],
            [
             0.7777777777777778,
             "#fb9f3a"
            ],
            [
             0.8888888888888888,
             "#fdca26"
            ],
            [
             1,
             "#f0f921"
            ]
           ]
          },
          "colorway": [
           "#636efa",
           "#EF553B",
           "#00cc96",
           "#ab63fa",
           "#FFA15A",
           "#19d3f3",
           "#FF6692",
           "#B6E880",
           "#FF97FF",
           "#FECB52"
          ],
          "font": {
           "color": "#2a3f5f"
          },
          "geo": {
           "bgcolor": "white",
           "lakecolor": "white",
           "landcolor": "#E5ECF6",
           "showlakes": true,
           "showland": true,
           "subunitcolor": "white"
          },
          "hoverlabel": {
           "align": "left"
          },
          "hovermode": "closest",
          "mapbox": {
           "style": "light"
          },
          "paper_bgcolor": "white",
          "plot_bgcolor": "#E5ECF6",
          "polar": {
           "angularaxis": {
            "gridcolor": "white",
            "linecolor": "white",
            "ticks": ""
           },
           "bgcolor": "#E5ECF6",
           "radialaxis": {
            "gridcolor": "white",
            "linecolor": "white",
            "ticks": ""
           }
          },
          "scene": {
           "xaxis": {
            "backgroundcolor": "#E5ECF6",
            "gridcolor": "white",
            "gridwidth": 2,
            "linecolor": "white",
            "showbackground": true,
            "ticks": "",
            "zerolinecolor": "white"
           },
           "yaxis": {
            "backgroundcolor": "#E5ECF6",
            "gridcolor": "white",
            "gridwidth": 2,
            "linecolor": "white",
            "showbackground": true,
            "ticks": "",
            "zerolinecolor": "white"
           },
           "zaxis": {
            "backgroundcolor": "#E5ECF6",
            "gridcolor": "white",
            "gridwidth": 2,
            "linecolor": "white",
            "showbackground": true,
            "ticks": "",
            "zerolinecolor": "white"
           }
          },
          "shapedefaults": {
           "line": {
            "color": "#2a3f5f"
           }
          },
          "ternary": {
           "aaxis": {
            "gridcolor": "white",
            "linecolor": "white",
            "ticks": ""
           },
           "baxis": {
            "gridcolor": "white",
            "linecolor": "white",
            "ticks": ""
           },
           "bgcolor": "#E5ECF6",
           "caxis": {
            "gridcolor": "white",
            "linecolor": "white",
            "ticks": ""
           }
          },
          "title": {
           "x": 0.05
          },
          "xaxis": {
           "automargin": true,
           "gridcolor": "white",
           "linecolor": "white",
           "ticks": "",
           "title": {
            "standoff": 15
           },
           "zerolinecolor": "white",
           "zerolinewidth": 2
          },
          "yaxis": {
           "automargin": true,
           "gridcolor": "white",
           "linecolor": "white",
           "ticks": "",
           "title": {
            "standoff": 15
           },
           "zerolinecolor": "white",
           "zerolinewidth": 2
          }
         }
        },
        "xaxis": {
         "anchor": "y",
         "domain": [
          0,
          1
         ],
         "type": "date"
        },
        "yaxis": {
         "anchor": "x",
         "domain": [
          0,
          1
         ],
         "title": {
          "text": "Job"
         }
        }
       }
      }
     },
     "metadata": {},
     "output_type": "display_data"
    },
    {
     "name": "stdout",
     "output_type": "stream",
     "text": [
      "instance la04:  in time: 28.415783882141113s\n",
      "0.6423728813559322\n"
     ]
    },
    {
     "data": {
      "application/vnd.plotly.v1+json": {
       "config": {
        "plotlyServerURL": "https://plot.ly"
       },
       "data": [
        {
         "alignmentgroup": "True",
         "base": [
          "2022-01-01T00:00:00",
          "2022-01-01T00:08:30",
          "2022-01-01T00:05:47",
          "2022-01-01T00:10:59",
          "2022-01-01T00:11:06",
          "2022-01-01T00:04:31",
          "2022-01-01T00:03:39",
          "2022-01-01T00:02:37",
          "2022-01-01T00:09:57",
          "2022-01-01T00:07:02"
         ],
         "hovertemplate": "Machine=machine_0<br>Start=%{base}<br>Finish=%{x}<br>Job=%{y}<extra></extra>",
         "legendgroup": "machine_0",
         "marker": {
          "color": "#636efa",
          "pattern": {
           "shape": ""
          }
         },
         "name": "machine_0",
         "offsetgroup": "machine_0",
         "orientation": "h",
         "showlegend": true,
         "textposition": "auto",
         "type": "bar",
         "x": [
          12000,
          87000,
          75000,
          7000,
          15000,
          76000,
          52000,
          62000,
          62000,
          88000
         ],
         "xaxis": "x",
         "y": [
          "job_0",
          "job_1",
          "job_2",
          "job_3",
          "job_4",
          "job_5",
          "job_6",
          "job_7",
          "job_8",
          "job_9"
         ],
         "yaxis": "y"
        },
        {
         "alignmentgroup": "True",
         "base": [
          "2022-01-01T00:05:37",
          "2022-01-01T00:04:14",
          "2022-01-01T00:07:09",
          "2022-01-01T00:11:06",
          "2022-01-01T00:03:41",
          "2022-01-01T00:00:00",
          "2022-01-01T00:04:31",
          "2022-01-01T00:01:28",
          "2022-01-01T00:11:51",
          "2022-01-01T00:02:37"
         ],
         "hovertemplate": "Machine=machine_3<br>Start=%{base}<br>Finish=%{x}<br>Job=%{y}<extra></extra>",
         "legendgroup": "machine_3",
         "marker": {
          "color": "#EF553B",
          "pattern": {
           "shape": ""
          }
         },
         "name": "machine_3",
         "offsetgroup": "machine_3",
         "orientation": "h",
         "showlegend": true,
         "textposition": "auto",
         "type": "bar",
         "x": [
          92000,
          11000,
          13000,
          7000,
          6000,
          77000,
          27000,
          69000,
          90000,
          59000
         ],
         "xaxis": "x",
         "y": [
          "job_0",
          "job_1",
          "job_2",
          "job_3",
          "job_4",
          "job_5",
          "job_6",
          "job_7",
          "job_8",
          "job_9"
         ],
         "yaxis": "y"
        },
        {
         "alignmentgroup": "True",
         "base": [
          "2022-01-01T00:13:08",
          "2022-01-01T00:03:55",
          "2022-01-01T00:03:41",
          "2022-01-01T00:11:51",
          "2022-01-01T00:02:56",
          "2022-01-01T00:09:06",
          "2022-01-01T00:01:28",
          "2022-01-01T00:00:00",
          "2022-01-01T00:10:59",
          "2022-01-01T00:04:14"
         ],
         "hovertemplate": "Machine=machine_1<br>Start=%{base}<br>Finish=%{x}<br>Job=%{y}<extra></extra>",
         "legendgroup": "machine_1",
         "marker": {
          "color": "#00cc96",
          "pattern": {
           "shape": ""
          }
         },
         "name": "machine_1",
         "offsetgroup": "machine_1",
         "orientation": "h",
         "showlegend": true,
         "textposition": "auto",
         "type": "bar",
         "x": [
          7000,
          19000,
          14000,
          77000,
          45000,
          53000,
          88000,
          88000,
          52000,
          15000
         ],
         "xaxis": "x",
         "y": [
          "job_0",
          "job_1",
          "job_2",
          "job_3",
          "job_4",
          "job_5",
          "job_6",
          "job_7",
          "job_8",
          "job_9"
         ],
         "yaxis": "y"
        },
        {
         "alignmentgroup": "True",
         "base": [
          "2022-01-01T00:04:03",
          "2022-01-01T00:07:30",
          "2022-01-01T00:11:00",
          "2022-01-01T00:02:08",
          "2022-01-01T00:11:21",
          "2022-01-01T00:03:43",
          "2022-01-01T00:00:00",
          "2022-01-01T00:06:38",
          "2022-01-01T00:05:37",
          "2022-01-01T00:01:14"
         ],
         "hovertemplate": "Machine=machine_2<br>Start=%{base}<br>Finish=%{x}<br>Job=%{y}<extra></extra>",
         "legendgroup": "machine_2",
         "marker": {
          "color": "#ab63fa",
          "pattern": {
           "shape": ""
          }
         },
         "name": "machine_2",
         "offsetgroup": "machine_2",
         "orientation": "h",
         "showlegend": true,
         "textposition": "auto",
         "type": "bar",
         "x": [
          94000,
          21000,
          20000,
          95000,
          34000,
          20000,
          74000,
          52000,
          61000,
          54000
         ],
         "xaxis": "x",
         "y": [
          "job_0",
          "job_1",
          "job_2",
          "job_3",
          "job_4",
          "job_5",
          "job_6",
          "job_7",
          "job_8",
          "job_9"
         ],
         "yaxis": "y"
        },
        {
         "alignmentgroup": "True",
         "base": [
          "2022-01-01T00:11:00",
          "2022-01-01T00:06:23",
          "2022-01-01T00:10:44",
          "2022-01-01T00:05:17",
          "2022-01-01T00:09:15",
          "2022-01-01T00:07:38",
          "2022-01-01T00:07:29",
          "2022-01-01T00:03:39",
          "2022-01-01T00:09:06",
          "2022-01-01T00:02:08"
         ],
         "hovertemplate": "Machine=machine_4<br>Start=%{base}<br>Finish=%{x}<br>Job=%{y}<extra></extra>",
         "legendgroup": "machine_4",
         "marker": {
          "color": "#FFA15A",
          "pattern": {
           "shape": ""
          }
         },
         "name": "machine_4",
         "offsetgroup": "machine_4",
         "orientation": "h",
         "showlegend": true,
         "textposition": "auto",
         "type": "bar",
         "x": [
          91000,
          66000,
          16000,
          66000,
          89000,
          88000,
          9000,
          98000,
          9000,
          5000
         ],
         "xaxis": "x",
         "y": [
          "job_0",
          "job_1",
          "job_2",
          "job_3",
          "job_4",
          "job_5",
          "job_6",
          "job_7",
          "job_8",
          "job_9"
         ],
         "yaxis": "y"
        }
       ],
       "layout": {
        "barmode": "overlay",
        "legend": {
         "title": {
          "text": "Machine"
         },
         "tracegroupgap": 0
        },
        "margin": {
         "t": 60
        },
        "template": {
         "data": {
          "bar": [
           {
            "error_x": {
             "color": "#2a3f5f"
            },
            "error_y": {
             "color": "#2a3f5f"
            },
            "marker": {
             "line": {
              "color": "#E5ECF6",
              "width": 0.5
             },
             "pattern": {
              "fillmode": "overlay",
              "size": 10,
              "solidity": 0.2
             }
            },
            "type": "bar"
           }
          ],
          "barpolar": [
           {
            "marker": {
             "line": {
              "color": "#E5ECF6",
              "width": 0.5
             },
             "pattern": {
              "fillmode": "overlay",
              "size": 10,
              "solidity": 0.2
             }
            },
            "type": "barpolar"
           }
          ],
          "carpet": [
           {
            "aaxis": {
             "endlinecolor": "#2a3f5f",
             "gridcolor": "white",
             "linecolor": "white",
             "minorgridcolor": "white",
             "startlinecolor": "#2a3f5f"
            },
            "baxis": {
             "endlinecolor": "#2a3f5f",
             "gridcolor": "white",
             "linecolor": "white",
             "minorgridcolor": "white",
             "startlinecolor": "#2a3f5f"
            },
            "type": "carpet"
           }
          ],
          "choropleth": [
           {
            "colorbar": {
             "outlinewidth": 0,
             "ticks": ""
            },
            "type": "choropleth"
           }
          ],
          "contour": [
           {
            "colorbar": {
             "outlinewidth": 0,
             "ticks": ""
            },
            "colorscale": [
             [
              0,
              "#0d0887"
             ],
             [
              0.1111111111111111,
              "#46039f"
             ],
             [
              0.2222222222222222,
              "#7201a8"
             ],
             [
              0.3333333333333333,
              "#9c179e"
             ],
             [
              0.4444444444444444,
              "#bd3786"
             ],
             [
              0.5555555555555556,
              "#d8576b"
             ],
             [
              0.6666666666666666,
              "#ed7953"
             ],
             [
              0.7777777777777778,
              "#fb9f3a"
             ],
             [
              0.8888888888888888,
              "#fdca26"
             ],
             [
              1,
              "#f0f921"
             ]
            ],
            "type": "contour"
           }
          ],
          "contourcarpet": [
           {
            "colorbar": {
             "outlinewidth": 0,
             "ticks": ""
            },
            "type": "contourcarpet"
           }
          ],
          "heatmap": [
           {
            "colorbar": {
             "outlinewidth": 0,
             "ticks": ""
            },
            "colorscale": [
             [
              0,
              "#0d0887"
             ],
             [
              0.1111111111111111,
              "#46039f"
             ],
             [
              0.2222222222222222,
              "#7201a8"
             ],
             [
              0.3333333333333333,
              "#9c179e"
             ],
             [
              0.4444444444444444,
              "#bd3786"
             ],
             [
              0.5555555555555556,
              "#d8576b"
             ],
             [
              0.6666666666666666,
              "#ed7953"
             ],
             [
              0.7777777777777778,
              "#fb9f3a"
             ],
             [
              0.8888888888888888,
              "#fdca26"
             ],
             [
              1,
              "#f0f921"
             ]
            ],
            "type": "heatmap"
           }
          ],
          "heatmapgl": [
           {
            "colorbar": {
             "outlinewidth": 0,
             "ticks": ""
            },
            "colorscale": [
             [
              0,
              "#0d0887"
             ],
             [
              0.1111111111111111,
              "#46039f"
             ],
             [
              0.2222222222222222,
              "#7201a8"
             ],
             [
              0.3333333333333333,
              "#9c179e"
             ],
             [
              0.4444444444444444,
              "#bd3786"
             ],
             [
              0.5555555555555556,
              "#d8576b"
             ],
             [
              0.6666666666666666,
              "#ed7953"
             ],
             [
              0.7777777777777778,
              "#fb9f3a"
             ],
             [
              0.8888888888888888,
              "#fdca26"
             ],
             [
              1,
              "#f0f921"
             ]
            ],
            "type": "heatmapgl"
           }
          ],
          "histogram": [
           {
            "marker": {
             "pattern": {
              "fillmode": "overlay",
              "size": 10,
              "solidity": 0.2
             }
            },
            "type": "histogram"
           }
          ],
          "histogram2d": [
           {
            "colorbar": {
             "outlinewidth": 0,
             "ticks": ""
            },
            "colorscale": [
             [
              0,
              "#0d0887"
             ],
             [
              0.1111111111111111,
              "#46039f"
             ],
             [
              0.2222222222222222,
              "#7201a8"
             ],
             [
              0.3333333333333333,
              "#9c179e"
             ],
             [
              0.4444444444444444,
              "#bd3786"
             ],
             [
              0.5555555555555556,
              "#d8576b"
             ],
             [
              0.6666666666666666,
              "#ed7953"
             ],
             [
              0.7777777777777778,
              "#fb9f3a"
             ],
             [
              0.8888888888888888,
              "#fdca26"
             ],
             [
              1,
              "#f0f921"
             ]
            ],
            "type": "histogram2d"
           }
          ],
          "histogram2dcontour": [
           {
            "colorbar": {
             "outlinewidth": 0,
             "ticks": ""
            },
            "colorscale": [
             [
              0,
              "#0d0887"
             ],
             [
              0.1111111111111111,
              "#46039f"
             ],
             [
              0.2222222222222222,
              "#7201a8"
             ],
             [
              0.3333333333333333,
              "#9c179e"
             ],
             [
              0.4444444444444444,
              "#bd3786"
             ],
             [
              0.5555555555555556,
              "#d8576b"
             ],
             [
              0.6666666666666666,
              "#ed7953"
             ],
             [
              0.7777777777777778,
              "#fb9f3a"
             ],
             [
              0.8888888888888888,
              "#fdca26"
             ],
             [
              1,
              "#f0f921"
             ]
            ],
            "type": "histogram2dcontour"
           }
          ],
          "mesh3d": [
           {
            "colorbar": {
             "outlinewidth": 0,
             "ticks": ""
            },
            "type": "mesh3d"
           }
          ],
          "parcoords": [
           {
            "line": {
             "colorbar": {
              "outlinewidth": 0,
              "ticks": ""
             }
            },
            "type": "parcoords"
           }
          ],
          "pie": [
           {
            "automargin": true,
            "type": "pie"
           }
          ],
          "scatter": [
           {
            "fillpattern": {
             "fillmode": "overlay",
             "size": 10,
             "solidity": 0.2
            },
            "type": "scatter"
           }
          ],
          "scatter3d": [
           {
            "line": {
             "colorbar": {
              "outlinewidth": 0,
              "ticks": ""
             }
            },
            "marker": {
             "colorbar": {
              "outlinewidth": 0,
              "ticks": ""
             }
            },
            "type": "scatter3d"
           }
          ],
          "scattercarpet": [
           {
            "marker": {
             "colorbar": {
              "outlinewidth": 0,
              "ticks": ""
             }
            },
            "type": "scattercarpet"
           }
          ],
          "scattergeo": [
           {
            "marker": {
             "colorbar": {
              "outlinewidth": 0,
              "ticks": ""
             }
            },
            "type": "scattergeo"
           }
          ],
          "scattergl": [
           {
            "marker": {
             "colorbar": {
              "outlinewidth": 0,
              "ticks": ""
             }
            },
            "type": "scattergl"
           }
          ],
          "scattermapbox": [
           {
            "marker": {
             "colorbar": {
              "outlinewidth": 0,
              "ticks": ""
             }
            },
            "type": "scattermapbox"
           }
          ],
          "scatterpolar": [
           {
            "marker": {
             "colorbar": {
              "outlinewidth": 0,
              "ticks": ""
             }
            },
            "type": "scatterpolar"
           }
          ],
          "scatterpolargl": [
           {
            "marker": {
             "colorbar": {
              "outlinewidth": 0,
              "ticks": ""
             }
            },
            "type": "scatterpolargl"
           }
          ],
          "scatterternary": [
           {
            "marker": {
             "colorbar": {
              "outlinewidth": 0,
              "ticks": ""
             }
            },
            "type": "scatterternary"
           }
          ],
          "surface": [
           {
            "colorbar": {
             "outlinewidth": 0,
             "ticks": ""
            },
            "colorscale": [
             [
              0,
              "#0d0887"
             ],
             [
              0.1111111111111111,
              "#46039f"
             ],
             [
              0.2222222222222222,
              "#7201a8"
             ],
             [
              0.3333333333333333,
              "#9c179e"
             ],
             [
              0.4444444444444444,
              "#bd3786"
             ],
             [
              0.5555555555555556,
              "#d8576b"
             ],
             [
              0.6666666666666666,
              "#ed7953"
             ],
             [
              0.7777777777777778,
              "#fb9f3a"
             ],
             [
              0.8888888888888888,
              "#fdca26"
             ],
             [
              1,
              "#f0f921"
             ]
            ],
            "type": "surface"
           }
          ],
          "table": [
           {
            "cells": {
             "fill": {
              "color": "#EBF0F8"
             },
             "line": {
              "color": "white"
             }
            },
            "header": {
             "fill": {
              "color": "#C8D4E3"
             },
             "line": {
              "color": "white"
             }
            },
            "type": "table"
           }
          ]
         },
         "layout": {
          "annotationdefaults": {
           "arrowcolor": "#2a3f5f",
           "arrowhead": 0,
           "arrowwidth": 1
          },
          "autotypenumbers": "strict",
          "coloraxis": {
           "colorbar": {
            "outlinewidth": 0,
            "ticks": ""
           }
          },
          "colorscale": {
           "diverging": [
            [
             0,
             "#8e0152"
            ],
            [
             0.1,
             "#c51b7d"
            ],
            [
             0.2,
             "#de77ae"
            ],
            [
             0.3,
             "#f1b6da"
            ],
            [
             0.4,
             "#fde0ef"
            ],
            [
             0.5,
             "#f7f7f7"
            ],
            [
             0.6,
             "#e6f5d0"
            ],
            [
             0.7,
             "#b8e186"
            ],
            [
             0.8,
             "#7fbc41"
            ],
            [
             0.9,
             "#4d9221"
            ],
            [
             1,
             "#276419"
            ]
           ],
           "sequential": [
            [
             0,
             "#0d0887"
            ],
            [
             0.1111111111111111,
             "#46039f"
            ],
            [
             0.2222222222222222,
             "#7201a8"
            ],
            [
             0.3333333333333333,
             "#9c179e"
            ],
            [
             0.4444444444444444,
             "#bd3786"
            ],
            [
             0.5555555555555556,
             "#d8576b"
            ],
            [
             0.6666666666666666,
             "#ed7953"
            ],
            [
             0.7777777777777778,
             "#fb9f3a"
            ],
            [
             0.8888888888888888,
             "#fdca26"
            ],
            [
             1,
             "#f0f921"
            ]
           ],
           "sequentialminus": [
            [
             0,
             "#0d0887"
            ],
            [
             0.1111111111111111,
             "#46039f"
            ],
            [
             0.2222222222222222,
             "#7201a8"
            ],
            [
             0.3333333333333333,
             "#9c179e"
            ],
            [
             0.4444444444444444,
             "#bd3786"
            ],
            [
             0.5555555555555556,
             "#d8576b"
            ],
            [
             0.6666666666666666,
             "#ed7953"
            ],
            [
             0.7777777777777778,
             "#fb9f3a"
            ],
            [
             0.8888888888888888,
             "#fdca26"
            ],
            [
             1,
             "#f0f921"
            ]
           ]
          },
          "colorway": [
           "#636efa",
           "#EF553B",
           "#00cc96",
           "#ab63fa",
           "#FFA15A",
           "#19d3f3",
           "#FF6692",
           "#B6E880",
           "#FF97FF",
           "#FECB52"
          ],
          "font": {
           "color": "#2a3f5f"
          },
          "geo": {
           "bgcolor": "white",
           "lakecolor": "white",
           "landcolor": "#E5ECF6",
           "showlakes": true,
           "showland": true,
           "subunitcolor": "white"
          },
          "hoverlabel": {
           "align": "left"
          },
          "hovermode": "closest",
          "mapbox": {
           "style": "light"
          },
          "paper_bgcolor": "white",
          "plot_bgcolor": "#E5ECF6",
          "polar": {
           "angularaxis": {
            "gridcolor": "white",
            "linecolor": "white",
            "ticks": ""
           },
           "bgcolor": "#E5ECF6",
           "radialaxis": {
            "gridcolor": "white",
            "linecolor": "white",
            "ticks": ""
           }
          },
          "scene": {
           "xaxis": {
            "backgroundcolor": "#E5ECF6",
            "gridcolor": "white",
            "gridwidth": 2,
            "linecolor": "white",
            "showbackground": true,
            "ticks": "",
            "zerolinecolor": "white"
           },
           "yaxis": {
            "backgroundcolor": "#E5ECF6",
            "gridcolor": "white",
            "gridwidth": 2,
            "linecolor": "white",
            "showbackground": true,
            "ticks": "",
            "zerolinecolor": "white"
           },
           "zaxis": {
            "backgroundcolor": "#E5ECF6",
            "gridcolor": "white",
            "gridwidth": 2,
            "linecolor": "white",
            "showbackground": true,
            "ticks": "",
            "zerolinecolor": "white"
           }
          },
          "shapedefaults": {
           "line": {
            "color": "#2a3f5f"
           }
          },
          "ternary": {
           "aaxis": {
            "gridcolor": "white",
            "linecolor": "white",
            "ticks": ""
           },
           "baxis": {
            "gridcolor": "white",
            "linecolor": "white",
            "ticks": ""
           },
           "bgcolor": "#E5ECF6",
           "caxis": {
            "gridcolor": "white",
            "linecolor": "white",
            "ticks": ""
           }
          },
          "title": {
           "x": 0.05
          },
          "xaxis": {
           "automargin": true,
           "gridcolor": "white",
           "linecolor": "white",
           "ticks": "",
           "title": {
            "standoff": 15
           },
           "zerolinecolor": "white",
           "zerolinewidth": 2
          },
          "yaxis": {
           "automargin": true,
           "gridcolor": "white",
           "linecolor": "white",
           "ticks": "",
           "title": {
            "standoff": 15
           },
           "zerolinecolor": "white",
           "zerolinewidth": 2
          }
         }
        },
        "xaxis": {
         "anchor": "y",
         "domain": [
          0,
          1
         ],
         "type": "date"
        },
        "yaxis": {
         "anchor": "x",
         "domain": [
          0,
          1
         ],
         "title": {
          "text": "Job"
         }
        }
       }
      }
     },
     "metadata": {},
     "output_type": "display_data"
    },
    {
     "name": "stdout",
     "output_type": "stream",
     "text": [
      "instance la05:  in time: 32.72790503501892s\n",
      "0.9072512647554806\n"
     ]
    },
    {
     "data": {
      "application/vnd.plotly.v1+json": {
       "config": {
        "plotlyServerURL": "https://plot.ly"
       },
       "data": [
        {
         "alignmentgroup": "True",
         "base": [
          "2022-01-01T00:07:24",
          "2022-01-01T00:00:28",
          "2022-01-01T00:05:11",
          "2022-01-01T00:04:52",
          "2022-01-01T00:04:10",
          "2022-01-01T00:00:00",
          "2022-01-01T00:01:03",
          "2022-01-01T00:03:37",
          "2022-01-01T00:02:14",
          "2022-01-01T00:04:35"
         ],
         "hovertemplate": "Machine=machine_3<br>Start=%{base}<br>Finish=%{x}<br>Job=%{y}<extra></extra>",
         "legendgroup": "machine_3",
         "marker": {
          "color": "#636efa",
          "pattern": {
           "shape": ""
          }
         },
         "name": "machine_3",
         "offsetgroup": "machine_3",
         "orientation": "h",
         "showlegend": true,
         "textposition": "auto",
         "type": "bar",
         "x": [
          60000,
          35000,
          20000,
          19000,
          25000,
          28000,
          71000,
          33000,
          83000,
          17000
         ],
         "xaxis": "x",
         "y": [
          "job_0",
          "job_1",
          "job_2",
          "job_3",
          "job_4",
          "job_5",
          "job_6",
          "job_7",
          "job_8",
          "job_9"
         ],
         "yaxis": "y"
        },
        {
         "alignmentgroup": "True",
         "base": [
          "2022-01-01T00:00:00",
          "2022-01-01T00:08:40",
          "2022-01-01T00:01:12",
          "2022-01-01T00:06:25",
          "2022-01-01T00:05:44",
          "2022-01-01T00:02:51",
          "2022-01-01T00:02:14",
          "2022-01-01T00:04:49",
          "2022-01-01T00:04:09",
          "2022-01-01T00:06:59"
         ],
         "hovertemplate": "Machine=machine_1<br>Start=%{base}<br>Finish=%{x}<br>Job=%{y}<extra></extra>",
         "legendgroup": "machine_1",
         "marker": {
          "color": "#EF553B",
          "pattern": {
           "shape": ""
          }
         },
         "name": "machine_1",
         "offsetgroup": "machine_1",
         "orientation": "h",
         "showlegend": true,
         "textposition": "auto",
         "type": "bar",
         "x": [
          72000,
          54000,
          46000,
          34000,
          24000,
          78000,
          37000,
          55000,
          40000,
          23000
         ],
         "xaxis": "x",
         "y": [
          "job_0",
          "job_1",
          "job_2",
          "job_3",
          "job_4",
          "job_5",
          "job_6",
          "job_7",
          "job_8",
          "job_9"
         ],
         "yaxis": "y"
        },
        {
         "alignmentgroup": "True",
         "base": [
          "2022-01-01T00:04:04",
          "2022-01-01T00:00:00",
          "2022-01-01T00:09:53",
          "2022-01-01T00:05:39",
          "2022-01-01T00:00:05",
          "2022-01-01T00:02:37",
          "2022-01-01T00:02:51",
          "2022-01-01T00:00:28",
          "2022-01-01T00:07:10",
          "2022-01-01T00:06:25"
         ],
         "hovertemplate": "Machine=machine_4<br>Start=%{base}<br>Finish=%{x}<br>Job=%{y}<extra></extra>",
         "legendgroup": "machine_4",
         "marker": {
          "color": "#00cc96",
          "pattern": {
           "shape": ""
          }
         },
         "name": "machine_4",
         "offsetgroup": "machine_4",
         "orientation": "h",
         "showlegend": true,
         "textposition": "auto",
         "type": "bar",
         "x": [
          95000,
          5000,
          55000,
          46000,
          23000,
          5000,
          29000,
          12000,
          7000,
          27000
         ],
         "xaxis": "x",
         "y": [
          "job_0",
          "job_1",
          "job_2",
          "job_3",
          "job_4",
          "job_5",
          "job_6",
          "job_7",
          "job_8",
          "job_9"
         ],
         "yaxis": "y"
        },
        {
         "alignmentgroup": "True",
         "base": [
          "2022-01-01T00:06:18",
          "2022-01-01T00:08:01",
          "2022-01-01T00:05:57",
          "2022-01-01T00:07:24",
          "2022-01-01T00:00:49",
          "2022-01-01T00:04:34",
          "2022-01-01T00:08:40",
          "2022-01-01T00:02:02",
          "2022-01-01T00:00:00",
          "2022-01-01T00:03:29"
         ],
         "hovertemplate": "Machine=machine_2<br>Start=%{base}<br>Finish=%{x}<br>Job=%{y}<extra></extra>",
         "legendgroup": "machine_2",
         "marker": {
          "color": "#ab63fa",
          "pattern": {
           "shape": ""
          }
         },
         "name": "machine_2",
         "offsetgroup": "machine_2",
         "orientation": "h",
         "showlegend": true,
         "textposition": "auto",
         "type": "bar",
         "x": [
          66000,
          39000,
          21000,
          37000,
          73000,
          83000,
          12000,
          87000,
          49000,
          65000
         ],
         "xaxis": "x",
         "y": [
          "job_0",
          "job_1",
          "job_2",
          "job_3",
          "job_4",
          "job_5",
          "job_6",
          "job_7",
          "job_8",
          "job_9"
         ],
         "yaxis": "y"
        },
        {
         "alignmentgroup": "True",
         "base": [
          "2022-01-01T00:02:37",
          "2022-01-01T00:04:04",
          "2022-01-01T00:08:16",
          "2022-01-01T00:00:53",
          "2022-01-01T00:07:10",
          "2022-01-01T00:01:52",
          "2022-01-01T00:00:00",
          "2022-01-01T00:07:38",
          "2022-01-01T00:06:22",
          "2022-01-01T00:04:52"
         ],
         "hovertemplate": "Machine=machine_0<br>Start=%{base}<br>Finish=%{x}<br>Job=%{y}<extra></extra>",
         "legendgroup": "machine_0",
         "marker": {
          "color": "#FFA15A",
          "pattern": {
           "shape": ""
          }
         },
         "name": "machine_0",
         "offsetgroup": "machine_0",
         "orientation": "h",
         "showlegend": true,
         "textposition": "auto",
         "type": "bar",
         "x": [
          87000,
          48000,
          97000,
          59000,
          28000,
          45000,
          53000,
          38000,
          48000,
          90000
         ],
         "xaxis": "x",
         "y": [
          "job_0",
          "job_1",
          "job_2",
          "job_3",
          "job_4",
          "job_5",
          "job_6",
          "job_7",
          "job_8",
          "job_9"
         ],
         "yaxis": "y"
        }
       ],
       "layout": {
        "barmode": "overlay",
        "legend": {
         "title": {
          "text": "Machine"
         },
         "tracegroupgap": 0
        },
        "margin": {
         "t": 60
        },
        "template": {
         "data": {
          "bar": [
           {
            "error_x": {
             "color": "#2a3f5f"
            },
            "error_y": {
             "color": "#2a3f5f"
            },
            "marker": {
             "line": {
              "color": "#E5ECF6",
              "width": 0.5
             },
             "pattern": {
              "fillmode": "overlay",
              "size": 10,
              "solidity": 0.2
             }
            },
            "type": "bar"
           }
          ],
          "barpolar": [
           {
            "marker": {
             "line": {
              "color": "#E5ECF6",
              "width": 0.5
             },
             "pattern": {
              "fillmode": "overlay",
              "size": 10,
              "solidity": 0.2
             }
            },
            "type": "barpolar"
           }
          ],
          "carpet": [
           {
            "aaxis": {
             "endlinecolor": "#2a3f5f",
             "gridcolor": "white",
             "linecolor": "white",
             "minorgridcolor": "white",
             "startlinecolor": "#2a3f5f"
            },
            "baxis": {
             "endlinecolor": "#2a3f5f",
             "gridcolor": "white",
             "linecolor": "white",
             "minorgridcolor": "white",
             "startlinecolor": "#2a3f5f"
            },
            "type": "carpet"
           }
          ],
          "choropleth": [
           {
            "colorbar": {
             "outlinewidth": 0,
             "ticks": ""
            },
            "type": "choropleth"
           }
          ],
          "contour": [
           {
            "colorbar": {
             "outlinewidth": 0,
             "ticks": ""
            },
            "colorscale": [
             [
              0,
              "#0d0887"
             ],
             [
              0.1111111111111111,
              "#46039f"
             ],
             [
              0.2222222222222222,
              "#7201a8"
             ],
             [
              0.3333333333333333,
              "#9c179e"
             ],
             [
              0.4444444444444444,
              "#bd3786"
             ],
             [
              0.5555555555555556,
              "#d8576b"
             ],
             [
              0.6666666666666666,
              "#ed7953"
             ],
             [
              0.7777777777777778,
              "#fb9f3a"
             ],
             [
              0.8888888888888888,
              "#fdca26"
             ],
             [
              1,
              "#f0f921"
             ]
            ],
            "type": "contour"
           }
          ],
          "contourcarpet": [
           {
            "colorbar": {
             "outlinewidth": 0,
             "ticks": ""
            },
            "type": "contourcarpet"
           }
          ],
          "heatmap": [
           {
            "colorbar": {
             "outlinewidth": 0,
             "ticks": ""
            },
            "colorscale": [
             [
              0,
              "#0d0887"
             ],
             [
              0.1111111111111111,
              "#46039f"
             ],
             [
              0.2222222222222222,
              "#7201a8"
             ],
             [
              0.3333333333333333,
              "#9c179e"
             ],
             [
              0.4444444444444444,
              "#bd3786"
             ],
             [
              0.5555555555555556,
              "#d8576b"
             ],
             [
              0.6666666666666666,
              "#ed7953"
             ],
             [
              0.7777777777777778,
              "#fb9f3a"
             ],
             [
              0.8888888888888888,
              "#fdca26"
             ],
             [
              1,
              "#f0f921"
             ]
            ],
            "type": "heatmap"
           }
          ],
          "heatmapgl": [
           {
            "colorbar": {
             "outlinewidth": 0,
             "ticks": ""
            },
            "colorscale": [
             [
              0,
              "#0d0887"
             ],
             [
              0.1111111111111111,
              "#46039f"
             ],
             [
              0.2222222222222222,
              "#7201a8"
             ],
             [
              0.3333333333333333,
              "#9c179e"
             ],
             [
              0.4444444444444444,
              "#bd3786"
             ],
             [
              0.5555555555555556,
              "#d8576b"
             ],
             [
              0.6666666666666666,
              "#ed7953"
             ],
             [
              0.7777777777777778,
              "#fb9f3a"
             ],
             [
              0.8888888888888888,
              "#fdca26"
             ],
             [
              1,
              "#f0f921"
             ]
            ],
            "type": "heatmapgl"
           }
          ],
          "histogram": [
           {
            "marker": {
             "pattern": {
              "fillmode": "overlay",
              "size": 10,
              "solidity": 0.2
             }
            },
            "type": "histogram"
           }
          ],
          "histogram2d": [
           {
            "colorbar": {
             "outlinewidth": 0,
             "ticks": ""
            },
            "colorscale": [
             [
              0,
              "#0d0887"
             ],
             [
              0.1111111111111111,
              "#46039f"
             ],
             [
              0.2222222222222222,
              "#7201a8"
             ],
             [
              0.3333333333333333,
              "#9c179e"
             ],
             [
              0.4444444444444444,
              "#bd3786"
             ],
             [
              0.5555555555555556,
              "#d8576b"
             ],
             [
              0.6666666666666666,
              "#ed7953"
             ],
             [
              0.7777777777777778,
              "#fb9f3a"
             ],
             [
              0.8888888888888888,
              "#fdca26"
             ],
             [
              1,
              "#f0f921"
             ]
            ],
            "type": "histogram2d"
           }
          ],
          "histogram2dcontour": [
           {
            "colorbar": {
             "outlinewidth": 0,
             "ticks": ""
            },
            "colorscale": [
             [
              0,
              "#0d0887"
             ],
             [
              0.1111111111111111,
              "#46039f"
             ],
             [
              0.2222222222222222,
              "#7201a8"
             ],
             [
              0.3333333333333333,
              "#9c179e"
             ],
             [
              0.4444444444444444,
              "#bd3786"
             ],
             [
              0.5555555555555556,
              "#d8576b"
             ],
             [
              0.6666666666666666,
              "#ed7953"
             ],
             [
              0.7777777777777778,
              "#fb9f3a"
             ],
             [
              0.8888888888888888,
              "#fdca26"
             ],
             [
              1,
              "#f0f921"
             ]
            ],
            "type": "histogram2dcontour"
           }
          ],
          "mesh3d": [
           {
            "colorbar": {
             "outlinewidth": 0,
             "ticks": ""
            },
            "type": "mesh3d"
           }
          ],
          "parcoords": [
           {
            "line": {
             "colorbar": {
              "outlinewidth": 0,
              "ticks": ""
             }
            },
            "type": "parcoords"
           }
          ],
          "pie": [
           {
            "automargin": true,
            "type": "pie"
           }
          ],
          "scatter": [
           {
            "fillpattern": {
             "fillmode": "overlay",
             "size": 10,
             "solidity": 0.2
            },
            "type": "scatter"
           }
          ],
          "scatter3d": [
           {
            "line": {
             "colorbar": {
              "outlinewidth": 0,
              "ticks": ""
             }
            },
            "marker": {
             "colorbar": {
              "outlinewidth": 0,
              "ticks": ""
             }
            },
            "type": "scatter3d"
           }
          ],
          "scattercarpet": [
           {
            "marker": {
             "colorbar": {
              "outlinewidth": 0,
              "ticks": ""
             }
            },
            "type": "scattercarpet"
           }
          ],
          "scattergeo": [
           {
            "marker": {
             "colorbar": {
              "outlinewidth": 0,
              "ticks": ""
             }
            },
            "type": "scattergeo"
           }
          ],
          "scattergl": [
           {
            "marker": {
             "colorbar": {
              "outlinewidth": 0,
              "ticks": ""
             }
            },
            "type": "scattergl"
           }
          ],
          "scattermapbox": [
           {
            "marker": {
             "colorbar": {
              "outlinewidth": 0,
              "ticks": ""
             }
            },
            "type": "scattermapbox"
           }
          ],
          "scatterpolar": [
           {
            "marker": {
             "colorbar": {
              "outlinewidth": 0,
              "ticks": ""
             }
            },
            "type": "scatterpolar"
           }
          ],
          "scatterpolargl": [
           {
            "marker": {
             "colorbar": {
              "outlinewidth": 0,
              "ticks": ""
             }
            },
            "type": "scatterpolargl"
           }
          ],
          "scatterternary": [
           {
            "marker": {
             "colorbar": {
              "outlinewidth": 0,
              "ticks": ""
             }
            },
            "type": "scatterternary"
           }
          ],
          "surface": [
           {
            "colorbar": {
             "outlinewidth": 0,
             "ticks": ""
            },
            "colorscale": [
             [
              0,
              "#0d0887"
             ],
             [
              0.1111111111111111,
              "#46039f"
             ],
             [
              0.2222222222222222,
              "#7201a8"
             ],
             [
              0.3333333333333333,
              "#9c179e"
             ],
             [
              0.4444444444444444,
              "#bd3786"
             ],
             [
              0.5555555555555556,
              "#d8576b"
             ],
             [
              0.6666666666666666,
              "#ed7953"
             ],
             [
              0.7777777777777778,
              "#fb9f3a"
             ],
             [
              0.8888888888888888,
              "#fdca26"
             ],
             [
              1,
              "#f0f921"
             ]
            ],
            "type": "surface"
           }
          ],
          "table": [
           {
            "cells": {
             "fill": {
              "color": "#EBF0F8"
             },
             "line": {
              "color": "white"
             }
            },
            "header": {
             "fill": {
              "color": "#C8D4E3"
             },
             "line": {
              "color": "white"
             }
            },
            "type": "table"
           }
          ]
         },
         "layout": {
          "annotationdefaults": {
           "arrowcolor": "#2a3f5f",
           "arrowhead": 0,
           "arrowwidth": 1
          },
          "autotypenumbers": "strict",
          "coloraxis": {
           "colorbar": {
            "outlinewidth": 0,
            "ticks": ""
           }
          },
          "colorscale": {
           "diverging": [
            [
             0,
             "#8e0152"
            ],
            [
             0.1,
             "#c51b7d"
            ],
            [
             0.2,
             "#de77ae"
            ],
            [
             0.3,
             "#f1b6da"
            ],
            [
             0.4,
             "#fde0ef"
            ],
            [
             0.5,
             "#f7f7f7"
            ],
            [
             0.6,
             "#e6f5d0"
            ],
            [
             0.7,
             "#b8e186"
            ],
            [
             0.8,
             "#7fbc41"
            ],
            [
             0.9,
             "#4d9221"
            ],
            [
             1,
             "#276419"
            ]
           ],
           "sequential": [
            [
             0,
             "#0d0887"
            ],
            [
             0.1111111111111111,
             "#46039f"
            ],
            [
             0.2222222222222222,
             "#7201a8"
            ],
            [
             0.3333333333333333,
             "#9c179e"
            ],
            [
             0.4444444444444444,
             "#bd3786"
            ],
            [
             0.5555555555555556,
             "#d8576b"
            ],
            [
             0.6666666666666666,
             "#ed7953"
            ],
            [
             0.7777777777777778,
             "#fb9f3a"
            ],
            [
             0.8888888888888888,
             "#fdca26"
            ],
            [
             1,
             "#f0f921"
            ]
           ],
           "sequentialminus": [
            [
             0,
             "#0d0887"
            ],
            [
             0.1111111111111111,
             "#46039f"
            ],
            [
             0.2222222222222222,
             "#7201a8"
            ],
            [
             0.3333333333333333,
             "#9c179e"
            ],
            [
             0.4444444444444444,
             "#bd3786"
            ],
            [
             0.5555555555555556,
             "#d8576b"
            ],
            [
             0.6666666666666666,
             "#ed7953"
            ],
            [
             0.7777777777777778,
             "#fb9f3a"
            ],
            [
             0.8888888888888888,
             "#fdca26"
            ],
            [
             1,
             "#f0f921"
            ]
           ]
          },
          "colorway": [
           "#636efa",
           "#EF553B",
           "#00cc96",
           "#ab63fa",
           "#FFA15A",
           "#19d3f3",
           "#FF6692",
           "#B6E880",
           "#FF97FF",
           "#FECB52"
          ],
          "font": {
           "color": "#2a3f5f"
          },
          "geo": {
           "bgcolor": "white",
           "lakecolor": "white",
           "landcolor": "#E5ECF6",
           "showlakes": true,
           "showland": true,
           "subunitcolor": "white"
          },
          "hoverlabel": {
           "align": "left"
          },
          "hovermode": "closest",
          "mapbox": {
           "style": "light"
          },
          "paper_bgcolor": "white",
          "plot_bgcolor": "#E5ECF6",
          "polar": {
           "angularaxis": {
            "gridcolor": "white",
            "linecolor": "white",
            "ticks": ""
           },
           "bgcolor": "#E5ECF6",
           "radialaxis": {
            "gridcolor": "white",
            "linecolor": "white",
            "ticks": ""
           }
          },
          "scene": {
           "xaxis": {
            "backgroundcolor": "#E5ECF6",
            "gridcolor": "white",
            "gridwidth": 2,
            "linecolor": "white",
            "showbackground": true,
            "ticks": "",
            "zerolinecolor": "white"
           },
           "yaxis": {
            "backgroundcolor": "#E5ECF6",
            "gridcolor": "white",
            "gridwidth": 2,
            "linecolor": "white",
            "showbackground": true,
            "ticks": "",
            "zerolinecolor": "white"
           },
           "zaxis": {
            "backgroundcolor": "#E5ECF6",
            "gridcolor": "white",
            "gridwidth": 2,
            "linecolor": "white",
            "showbackground": true,
            "ticks": "",
            "zerolinecolor": "white"
           }
          },
          "shapedefaults": {
           "line": {
            "color": "#2a3f5f"
           }
          },
          "ternary": {
           "aaxis": {
            "gridcolor": "white",
            "linecolor": "white",
            "ticks": ""
           },
           "baxis": {
            "gridcolor": "white",
            "linecolor": "white",
            "ticks": ""
           },
           "bgcolor": "#E5ECF6",
           "caxis": {
            "gridcolor": "white",
            "linecolor": "white",
            "ticks": ""
           }
          },
          "title": {
           "x": 0.05
          },
          "xaxis": {
           "automargin": true,
           "gridcolor": "white",
           "linecolor": "white",
           "ticks": "",
           "title": {
            "standoff": 15
           },
           "zerolinecolor": "white",
           "zerolinewidth": 2
          },
          "yaxis": {
           "automargin": true,
           "gridcolor": "white",
           "linecolor": "white",
           "ticks": "",
           "title": {
            "standoff": 15
           },
           "zerolinecolor": "white",
           "zerolinewidth": 2
          }
         }
        },
        "xaxis": {
         "anchor": "y",
         "domain": [
          0,
          1
         ],
         "type": "date"
        },
        "yaxis": {
         "anchor": "x",
         "domain": [
          0,
          1
         ],
         "title": {
          "text": "Job"
         }
        }
       }
      }
     },
     "metadata": {},
     "output_type": "display_data"
    }
   ],
   "source": [
    "import time\n",
    "length_list=[]\n",
    "reward_list=[]\n",
    "curr_dir='/Users/felix/sciebo/masterarbeit/progra/model-based_rl'\n",
    "val_instances=['/resources/jsp_instances/standard/la01.txt','/resources/jsp_instances/standard/la02.txt','/resources/jsp_instances/standard/la03.txt','/resources/jsp_instances/standard/la04.txt','/resources/jsp_instances/standard/la05.txt']\n",
    "#instance_list=['/resources/jsp_instances/standard/la01.txt']\n",
    "val_instances=[curr_dir + s for s in val_instances]\n",
    "# for i in range(1,4):\n",
    "#     #agent = AlphaZeroTrainer( config=config, env='custom_jssp')\n",
    "# #if restore_agent:\n",
    "#     restore_path='/Users/felix/sciebo/masterarbeit/progra/model-based_rl/training_checkpoints/checkpoints_az_jsslite_la01/checkpoint-'+str(i)\n",
    "#     agent.load_checkpoint(restore_path)\n",
    "\n",
    "for instance_load in val_instances:\n",
    "\n",
    "    policy = agent.get_policy(DEFAULT_POLICY_ID)\n",
    "    action_list=[]\n",
    "    #env = env_creator(\"s\")\n",
    "    env= jssp_light_obs_wrapper_multi_instances(instances_list=[instance_load])\n",
    "    obs = env.reset()\n",
    "    # env2 is copy for later going evaluation\n",
    "\n",
    "\n",
    "    episode = MultiAgentEpisode(\n",
    "        PolicyMap(0,0),\n",
    "        lambda _, __: DEFAULT_POLICY_ID,\n",
    "        lambda: None,\n",
    "        lambda _: None,\n",
    "        0,\n",
    "    )\n",
    "\n",
    "    episode.user_data['initial_state'] = env.get_state()\n",
    "\n",
    "    done = False\n",
    "    t=time.time()\n",
    "    while not done:\n",
    "        action, _, _ = policy.compute_single_action(obs, episode=episode)\n",
    "        action_list.append(action)\n",
    "        #print(f\"outcome action: {action}\")\n",
    "        #print(obs['action_mask'][action])\n",
    "        obs, reward, done, _ = env.step(action)\n",
    "        #print(obs)\n",
    "        #time.sleep(0.1)\n",
    "        episode.length += 1\n",
    "\n",
    "    length_list.append(episode.length)\n",
    "    reward_list.append(reward)\n",
    "    print(f\"instance {env.env.instance}:  in time: {time.time()-t}s\")\n",
    "    print(reward)\n",
    "    env.render()\n",
    "    #env.close()"
   ]
  },
  {
   "cell_type": "code",
   "execution_count": null,
   "metadata": {},
   "outputs": [],
   "source": [
    "env.render()\n",
    "#print(49*60+14-31*60-24)"
   ]
  },
  {
   "cell_type": "code",
   "execution_count": null,
   "metadata": {},
   "outputs": [],
   "source": [
    "for _ in range(15):\n",
    "    policy = agent.get_policy(DEFAULT_POLICY_ID)\n",
    "    action_list=[]\n",
    "    env = env_creator(\"s\")\n",
    "\n",
    "    obs = env.reset()\n",
    "    # env2 is copy for later going evaluation\n",
    "\n",
    "    done = False\n",
    "    t=time.time()\n",
    "    while not done:\n",
    "        legal_action=obs['action_mask']\n",
    "        action=np.random.choice(len(legal_action), 1, p=(legal_action / legal_action.sum()))[0]\n",
    "        action_list.append(action)\n",
    "        #print(action)\n",
    "        #print(obs['action_mask'][action])\n",
    "        obs, reward, done, _ = env.step(action)\n",
    "        #print(obs)\n",
    "        #time.sleep(0.1)\n",
    "        episode.length += 1\n",
    "\n",
    "    length_list.append(episode.length)\n",
    "    reward_list.append(reward)\n",
    "    #print(f\"instance: {env.env.instance} in time: {time.time()-t}s\")\n",
    "    print(reward)\n",
    "    #env.render()\n",
    "    #env.close()"
   ]
  },
  {
   "cell_type": "code",
   "execution_count": null,
   "metadata": {},
   "outputs": [],
   "source": [
    "env=env_creator('a')\n",
    "state_bib=[]\n",
    "obs=env.reset()\n",
    "state_init=obs\n",
    "state_bib.append(obs)\n",
    "env.render()\n",
    "action_bib=[]\n",
    "done=False\n",
    "#for _ in range(5):\n",
    "while not done:\n",
    "    legal_action=obs['action_mask']\n",
    "    action=np.random.choice(len(legal_action), 1, p=(legal_action / legal_action.sum()))[0]\n",
    "    #print(action)\n",
    "    action_bib.append(action)\n",
    "    obs, reward, done, _ = env.step(action)\n",
    "    state_bib.append(obs)\n",
    "    if not np.array_equal(obs,state_bib[-1]):\n",
    "        print(\"error\")\n",
    "        print(obs)\n",
    "        print(\"----------------------------------------------\")\n",
    "        print(state_bib[-1])\n",
    "        break\n",
    "    \n",
    "    #env.render()\n",
    "env.render()\n",
    "\n",
    "#print(obs)\n",
    "#real=np.ravel(obs['real_obs']).astype(np.float64)\n"
   ]
  },
  {
   "cell_type": "code",
   "execution_count": null,
   "metadata": {},
   "outputs": [],
   "source": [
    "env_2=env_creator(\"b\")\n",
    "bib_2=action_bib\n",
    "state_bib_2=[]\n",
    "obs_2=env_2.reset()\n",
    "state_bib_2.append(obs_2)\n",
    "import random\n",
    "counter=0\n",
    "if not np.array_equal(obs_2,state_bib[counter]):\n",
    "    print(\"error\")\n",
    "    #print(obs_2)\n",
    "    #print(state_bib[counter])\n",
    "\n",
    "for action in bib_2:\n",
    "    obs_2, reward, done, _ =env_2.step(action)\n",
    "    state_bib_2.append(obs_2)\n",
    "    counter+=1\n",
    "for k in range(len(state_bib)):   \n",
    "    for i,j in zip(state_bib_2[k]['obs'],state_bib[k]['obs']):\n",
    "        #print(i)\n",
    "        #print(j)\n",
    "        if i!=j:\n",
    "            print(\"error with i and j\")\n",
    "            print(i)\n",
    "            print(j)\n",
    "        else:\n",
    "            #print('good')\n",
    "            pass\n",
    "\n",
    "# for i in obs_2['obs']:\n",
    "\n",
    "#     print(i)\n",
    "#     #print(j)\n",
    "# for j in state_bib[counter+1]['obs']:\n",
    "#     print(j)\n"
   ]
  },
  {
   "cell_type": "code",
   "execution_count": null,
   "metadata": {},
   "outputs": [],
   "source": []
  },
  {
   "cell_type": "code",
   "execution_count": null,
   "metadata": {},
   "outputs": [],
   "source": []
  },
  {
   "cell_type": "code",
   "execution_count": null,
   "metadata": {},
   "outputs": [],
   "source": []
  },
  {
   "cell_type": "code",
   "execution_count": null,
   "metadata": {},
   "outputs": [],
   "source": []
  },
  {
   "cell_type": "code",
   "execution_count": null,
   "metadata": {},
   "outputs": [],
   "source": []
  },
  {
   "cell_type": "code",
   "execution_count": null,
   "metadata": {},
   "outputs": [],
   "source": []
  },
  {
   "cell_type": "code",
   "execution_count": null,
   "metadata": {},
   "outputs": [],
   "source": []
  },
  {
   "cell_type": "code",
   "execution_count": null,
   "metadata": {},
   "outputs": [],
   "source": []
  },
  {
   "cell_type": "code",
   "execution_count": null,
   "metadata": {},
   "outputs": [],
   "source": []
  },
  {
   "cell_type": "code",
   "execution_count": null,
   "metadata": {},
   "outputs": [],
   "source": []
  },
  {
   "cell_type": "code",
   "execution_count": null,
   "metadata": {},
   "outputs": [],
   "source": []
  },
  {
   "cell_type": "code",
   "execution_count": null,
   "metadata": {},
   "outputs": [],
   "source": []
  },
  {
   "cell_type": "code",
   "execution_count": null,
   "metadata": {},
   "outputs": [],
   "source": []
  },
  {
   "cell_type": "code",
   "execution_count": null,
   "metadata": {},
   "outputs": [],
   "source": []
  },
  {
   "cell_type": "code",
   "execution_count": null,
   "metadata": {},
   "outputs": [],
   "source": []
  },
  {
   "cell_type": "code",
   "execution_count": null,
   "metadata": {},
   "outputs": [],
   "source": []
  },
  {
   "cell_type": "code",
   "execution_count": null,
   "metadata": {},
   "outputs": [],
   "source": []
  },
  {
   "cell_type": "code",
   "execution_count": null,
   "metadata": {},
   "outputs": [],
   "source": []
  },
  {
   "cell_type": "code",
   "execution_count": null,
   "metadata": {},
   "outputs": [],
   "source": []
  },
  {
   "cell_type": "code",
   "execution_count": null,
   "metadata": {},
   "outputs": [],
   "source": []
  },
  {
   "cell_type": "code",
   "execution_count": null,
   "metadata": {},
   "outputs": [],
   "source": []
  },
  {
   "cell_type": "code",
   "execution_count": null,
   "metadata": {},
   "outputs": [],
   "source": []
  },
  {
   "cell_type": "code",
   "execution_count": null,
   "metadata": {},
   "outputs": [],
   "source": []
  },
  {
   "cell_type": "code",
   "execution_count": null,
   "metadata": {},
   "outputs": [],
   "source": []
  },
  {
   "cell_type": "code",
   "execution_count": null,
   "metadata": {},
   "outputs": [],
   "source": []
  },
  {
   "cell_type": "code",
   "execution_count": null,
   "metadata": {},
   "outputs": [],
   "source": [
    "ray.shutdown()\n",
    "\n",
    "tune.run(\n",
    "    \"contrib/AlphaZero\",\n",
    "    stop={\"training_iteration\": 10},\n",
    "    max_failures=0,\n",
    "    #restore='/Users/felix/sciebo/masterarbeit/progra/model-based_rl/published_checkpoints/checkpoints_az_tune/checkpoint_000500/checkpoint-500',\n",
    "    config={\n",
    "        \"env\": 'custom_jssp',\n",
    "        \"num_workers\": 4,\n",
    "        \"rollout_fragment_length\": 50,\n",
    "        \"train_batch_size\": 50,\n",
    "        \"sgd_minibatch_size\": 32,\n",
    "        \"lr\": 1e-4,\n",
    "        \"num_sgd_iter\": 1,\n",
    "        \"mcts_config\": {\n",
    "            \"puct_coefficient\": 1.5,\n",
    "            \"num_simulations\": 100,\n",
    "            \"temperature\": 1.0,\n",
    "            \"dirichlet_epsilon\": 0.20,\n",
    "            \"dirichlet_noise\": 0.03,\n",
    "            \"argmax_tree_policy\": False,\n",
    "            \"add_dirichlet_noise\": False,\n",
    "        },\n",
    "        \"ranked_rewards\": {\n",
    "            \"enable\": True,\n",
    "        },\n",
    "        \"model\": {\n",
    "            \"custom_model\": \"dense_model\",\n",
    "        },\n",
    "        \"evaluation_interval\": 1,\n",
    "        \"evaluation_config\": {\n",
    "            \"render_env\": True,\n",
    "            \"mcts_config\": {\n",
    "                \"argmax_tree_policy\": True,\n",
    "                \"add_dirichlet_noise\": False,\n",
    "            },\n",
    "        },\n",
    "    },\n",
    ")"
   ]
  },
  {
   "cell_type": "code",
   "execution_count": null,
   "metadata": {},
   "outputs": [],
   "source": []
  },
  {
   "cell_type": "code",
   "execution_count": null,
   "metadata": {},
   "outputs": [],
   "source": []
  },
  {
   "cell_type": "code",
   "execution_count": null,
   "metadata": {},
   "outputs": [],
   "source": []
  },
  {
   "cell_type": "code",
   "execution_count": null,
   "metadata": {},
   "outputs": [],
   "source": []
  },
  {
   "cell_type": "code",
   "execution_count": null,
   "metadata": {},
   "outputs": [],
   "source": []
  },
  {
   "cell_type": "code",
   "execution_count": null,
   "metadata": {},
   "outputs": [],
   "source": [
    "# env = env_creator(\"setting\")\n",
    "# config.update(\n",
    "#     simple_optimizer=True,\n",
    "#     num_workers=0,\n",
    "#     train_batch_size=0,\n",
    "#     rollout_fragment_length=0,\n",
    "#     timesteps_per_iteration=0,\n",
    "#     evaluation_interval=1,\n",
    "#     # evaluation_num_workers=...,\n",
    "#     # evaluation_config=dict(explore=False),\n",
    "#     # evaluation_num_episodes=...,\n",
    "# )\n",
    "\n",
    "# results = tune.run(\n",
    "#     agent,\n",
    "#     config=config)"
   ]
  },
  {
   "cell_type": "code",
   "execution_count": null,
   "metadata": {},
   "outputs": [],
   "source": [
    "#agent.load_checkpoint(\"training_checkpoints/checkpoints_az_jsslite/checkpoint-5\")\n",
    "for _ in range(10):\n",
    "    import time\n",
    "    length_list=[]\n",
    "    reward_list=[]\n",
    "    for _ in range(1):\n",
    "        policy = agent.get_policy(DEFAULT_POLICY_ID)\n",
    "        action_list=[]\n",
    "        env = env_creator(\"s\")\n",
    "\n",
    "        obs = env.reset()\n",
    "        # env2 is copy for later going evaluation\n",
    "        env2=deepcopy(env)\n",
    "\n",
    "        episode = MultiAgentEpisode(\n",
    "            PolicyMap(0,0),\n",
    "            lambda _, __: DEFAULT_POLICY_ID,\n",
    "            lambda: None,\n",
    "            lambda _: None,\n",
    "            0,\n",
    "        )\n",
    "\n",
    "        episode.user_data['initial_state'] = env.get_state()\n",
    "\n",
    "        done = False\n",
    "\n",
    "        while not done:\n",
    "            action, _, _ = policy.compute_single_action(obs, episode=episode)\n",
    "            action_list.append(action)\n",
    "            #print(action_dic[action])\n",
    "            obs, reward, done, _ = env.step(action)\n",
    "            #print(obs)\n",
    "            #env.render(render_mode='human')\n",
    "            #time.sleep(0.1)\n",
    "            episode.length += 1\n",
    "\n",
    "        length_list.append(episode.length)\n",
    "        reward_list.append(reward)\n",
    "        print(reward)\n",
    "        env.render()\n",
    "        #env.close()"
   ]
  },
  {
   "cell_type": "code",
   "execution_count": null,
   "metadata": {},
   "outputs": [],
   "source": [
    "env.render()"
   ]
  },
  {
   "cell_type": "code",
   "execution_count": null,
   "metadata": {},
   "outputs": [],
   "source": []
  },
  {
   "cell_type": "markdown",
   "metadata": {},
   "source": []
  },
  {
   "cell_type": "code",
   "execution_count": null,
   "metadata": {},
   "outputs": [],
   "source": [
    "print(reward)"
   ]
  },
  {
   "cell_type": "code",
   "execution_count": null,
   "metadata": {},
   "outputs": [],
   "source": []
  },
  {
   "cell_type": "code",
   "execution_count": null,
   "metadata": {},
   "outputs": [],
   "source": [
    "print(env.env.current_timestep)\n"
   ]
  },
  {
   "cell_type": "code",
   "execution_count": null,
   "metadata": {},
   "outputs": [],
   "source": []
  },
  {
   "cell_type": "code",
   "execution_count": null,
   "metadata": {},
   "outputs": [],
   "source": []
  },
  {
   "cell_type": "code",
   "execution_count": null,
   "metadata": {},
   "outputs": [],
   "source": []
  },
  {
   "cell_type": "code",
   "execution_count": null,
   "metadata": {},
   "outputs": [],
   "source": []
  },
  {
   "cell_type": "code",
   "execution_count": null,
   "metadata": {},
   "outputs": [],
   "source": [
    "print(env.env.done)"
   ]
  },
  {
   "cell_type": "code",
   "execution_count": null,
   "metadata": {},
   "outputs": [],
   "source": [
    "print(env.env.production_list)"
   ]
  },
  {
   "cell_type": "code",
   "execution_count": null,
   "metadata": {},
   "outputs": [],
   "source": []
  },
  {
   "cell_type": "code",
   "execution_count": null,
   "metadata": {},
   "outputs": [],
   "source": []
  },
  {
   "cell_type": "code",
   "execution_count": null,
   "metadata": {},
   "outputs": [],
   "source": []
  },
  {
   "cell_type": "code",
   "execution_count": null,
   "metadata": {},
   "outputs": [],
   "source": []
  },
  {
   "cell_type": "code",
   "execution_count": null,
   "metadata": {},
   "outputs": [],
   "source": []
  },
  {
   "cell_type": "code",
   "execution_count": null,
   "metadata": {},
   "outputs": [],
   "source": [
    "obs_1=env.reset()\n",
    "#print(obs_1)\n",
    "\n",
    "env_1=env_creator(\"a\")\n",
    "env_2=env_creator(\"b\")\n",
    "state_1=env_1.reset()\n",
    "state_2=env_2.reset()\n",
    "\n",
    "for a in a_list:\n",
    "    state_1, reward_1, done_1, info_1 = env_1.step(a)\n",
    "    state_2, reward_2, done_2, info_2 = env_2.step(a)\n",
    "\n",
    "    if np.array_equal(state_1['obs'],state_2['obs'])==False :\n",
    "        print(\"error obs\")\n",
    "        print(state_1)\n",
    "        print(state_2)\n",
    "    if np.array_equal(state_1['action_mask'],state_2['action_mask'])==False :\n",
    "        print(\"error mask\")\n",
    "        print(state_1)\n",
    "        print(state_2)"
   ]
  },
  {
   "cell_type": "code",
   "execution_count": null,
   "metadata": {},
   "outputs": [],
   "source": [
    "for i in range(5):\n",
    "    \n",
    "    agent.load_checkpoint('training_checkpoints/checkpoints_az_jsslite/checkpoint-'+str(i+1))\n",
    "    policy = agent.get_policy(DEFAULT_POLICY_ID)\n",
    "    action_list=[]\n",
    "    env = env_creator(\"s\")\n",
    "\n",
    "    obs = env.reset()\n",
    "    # env2 is copy for later going evaluation\n",
    "    #env2=deepcopy(env)\n",
    "\n",
    "    episode = MultiAgentEpisode(\n",
    "        PolicyMap(0,0),\n",
    "        lambda _, __: DEFAULT_POLICY_ID,\n",
    "        lambda: None,\n",
    "        lambda _: None,\n",
    "        0,\n",
    "    )\n",
    "\n",
    "    episode.user_data['initial_state'] = env.get_state()\n",
    "\n",
    "    done = False\n",
    "    steps=0\n",
    "    t=time.time()\n",
    "    while not done:\n",
    "        action, _, _ = policy.compute_single_action(obs, episode=episode)\n",
    "        action_list.append(action)\n",
    "        #print(action_dic[action])\n",
    "        obs, reward, done, _ = env.step(action)\n",
    "        #print(obs)\n",
    "        #env.render(render_mode='human')\n",
    "        #time.sleep(0.1)\n",
    "        steps+=1\n",
    "    print(f\"checkpoint {i} got reward {reward} in {steps} steps and time: {time.time()-t}\")"
   ]
  },
  {
   "cell_type": "code",
   "execution_count": null,
   "metadata": {},
   "outputs": [],
   "source": [
    "env.render()"
   ]
  },
  {
   "cell_type": "code",
   "execution_count": null,
   "metadata": {},
   "outputs": [],
   "source": [
    "print(env.env.job_tasklength_matrix)"
   ]
  },
  {
   "cell_type": "code",
   "execution_count": null,
   "metadata": {},
   "outputs": [],
   "source": []
  },
  {
   "cell_type": "code",
   "execution_count": null,
   "metadata": {},
   "outputs": [],
   "source": []
  },
  {
   "cell_type": "code",
   "execution_count": null,
   "metadata": {},
   "outputs": [],
   "source": []
  },
  {
   "cell_type": "code",
   "execution_count": null,
   "metadata": {},
   "outputs": [],
   "source": [
    "print(reward)\n",
    "print(env.env.count_finished_tasks_job_matrix)\n",
    "env.render()\n",
    "env.render(y_bar=\"Machine\",x_bar=\"Job\")\n"
   ]
  },
  {
   "cell_type": "code",
   "execution_count": null,
   "metadata": {},
   "outputs": [],
   "source": [
    "env.render()\n",
    "#env.render(y_bar=\"Machine\",x_bar=\"Job\")\n",
    "print(done)\n",
    "print(reward)\n",
    "print(env.invalid_actions)"
   ]
  },
  {
   "cell_type": "code",
   "execution_count": null,
   "metadata": {},
   "outputs": [],
   "source": [
    "env.reset()\n",
    "from random import randrange\n",
    "a_list=[]\n",
    "for _ in range(30):\n",
    "    state=env.reset()\n",
    "    done=False\n",
    "    i=0\n",
    "    reward=0\n",
    "    #print(state['obs'].shape)\n",
    "    #for i in range(150):\n",
    "    while not done:\n",
    "        i+=1\n",
    "        legal_action=state['action_mask']\n",
    "        #print(legal_action)\n",
    "        action=np.random.choice(len(legal_action), 1, p=(legal_action / legal_action.sum()))[0]\n",
    "        a_list.append(action)\n",
    "        #action=randrange(env.action_space.n/2)\n",
    "        #print(action)\n",
    "        token=True\n",
    "        #print(\"before:\")\n",
    "        #env.render(start_count=1,x_bar=\"Job\",y_bar=\"Machine\")\n",
    "        state, reward, done, info=env.step(action)\n",
    "    #env.render()\n",
    "    print(reward)\n",
    "    \n",
    "    if reward > -68:\n",
    "        print(env.env.get_legal_actions(\"yy\"))\n",
    "        print(env.done)\n",
    "        print(env.env.done)\n",
    "        print(env.env.production_list)\n",
    "        env.env.render()\n"
   ]
  },
  {
   "cell_type": "code",
   "execution_count": null,
   "metadata": {},
   "outputs": [],
   "source": []
  },
  {
   "cell_type": "code",
   "execution_count": null,
   "metadata": {},
   "outputs": [],
   "source": []
  },
  {
   "cell_type": "code",
   "execution_count": null,
   "metadata": {},
   "outputs": [],
   "source": []
  },
  {
   "cell_type": "code",
   "execution_count": null,
   "metadata": {},
   "outputs": [],
   "source": []
  },
  {
   "cell_type": "code",
   "execution_count": null,
   "metadata": {},
   "outputs": [],
   "source": []
  },
  {
   "cell_type": "code",
   "execution_count": null,
   "metadata": {},
   "outputs": [],
   "source": []
  },
  {
   "cell_type": "code",
   "execution_count": null,
   "metadata": {},
   "outputs": [],
   "source": []
  },
  {
   "cell_type": "code",
   "execution_count": null,
   "metadata": {},
   "outputs": [],
   "source": []
  },
  {
   "cell_type": "code",
   "execution_count": null,
   "metadata": {},
   "outputs": [],
   "source": []
  },
  {
   "cell_type": "code",
   "execution_count": null,
   "metadata": {},
   "outputs": [],
   "source": []
  },
  {
   "cell_type": "code",
   "execution_count": null,
   "metadata": {},
   "outputs": [],
   "source": [
    "print(env.env.get_legal_actions(\"a\"))\n",
    "print(env.env.current_timestep)\n",
    "print(env.env.current_machines_status)\n",
    "print(env.env.processed_and_max_time_job_matrix)"
   ]
  },
  {
   "cell_type": "code",
   "execution_count": null,
   "metadata": {},
   "outputs": [],
   "source": [
    "print(env.env.get_legal_actions(\"a\"))\n",
    "print(env.env.blocked_actions)"
   ]
  },
  {
   "cell_type": "code",
   "execution_count": null,
   "metadata": {},
   "outputs": [],
   "source": [
    "\n",
    "env.render()"
   ]
  },
  {
   "cell_type": "code",
   "execution_count": null,
   "metadata": {},
   "outputs": [],
   "source": [
    "print(env.env.blocked_actions)\n",
    "print(env.env.get_legal_actions(\"obs\"))\n"
   ]
  },
  {
   "cell_type": "code",
   "execution_count": null,
   "metadata": {},
   "outputs": [],
   "source": [
    "x=[[1,2,None],[1,2,3]]\n",
    "if any(x==None for x in x):\n",
    "        print(True)\n",
    "for row in x:\n",
    "    if None in row:\n",
    "        #print(True)\n",
    "        pass"
   ]
  },
  {
   "cell_type": "code",
   "execution_count": null,
   "metadata": {},
   "outputs": [],
   "source": [
    "print(env.env.current_machines_status)\n",
    "print(env.env.get_legal_actions(\"stat\"))"
   ]
  },
  {
   "cell_type": "code",
   "execution_count": 13,
   "metadata": {},
   "outputs": [
    {
     "name": "stderr",
     "output_type": "stream",
     "text": [
      "2022-10-31 17:02:55,033\tWARNING deprecation.py:46 -- DeprecationWarning: `simple_optimizer` has been deprecated. This will raise an error in the future!\n"
     ]
    },
    {
     "name": "stdout",
     "output_type": "stream",
     "text": [
      "myEnvla01 environment registered\n",
      "myEnvla02 environment registered\n",
      "myEnvla03 environment registered\n"
     ]
    },
    {
     "name": "stderr",
     "output_type": "stream",
     "text": [
      "2022-10-31 17:03:18,457\tINFO trainable.py:159 -- Trainable.setup took 23.425 seconds. If your trainable is slow to initialize, consider setting reuse_actors=True to reduce actor creation overheads.\n",
      "2022-10-31 17:03:18,513\tWARNING deprecation.py:46 -- DeprecationWarning: `MultiAgentEpisode` has been deprecated. Use `ray.rllib.evaluation.episode.Episode` instead. This will raise an error in the future!\n"
     ]
    },
    {
     "name": "stdout",
     "output_type": "stream",
     "text": [
      "/Users/felix/sciebo/masterarbeit/progra/model-based_rl/training_checkpoints/la_multi/la03/5 does not exits: break\n"
     ]
    },
    {
     "ename": "ValueError",
     "evalue": "If using all scalar values, you must pass an index",
     "output_type": "error",
     "traceback": [
      "\u001b[0;31m---------------------------------------------------------------------------\u001b[0m",
      "\u001b[0;31mValueError\u001b[0m                                Traceback (most recent call last)",
      "\u001b[1;32m/Users/felix/sciebo/masterarbeit/progra/model-based_rl/train_az_jsslite.ipynb Zelle 85\u001b[0m in \u001b[0;36m<cell line: 121>\u001b[0;34m()\u001b[0m\n\u001b[1;32m    <a href='vscode-notebook-cell:/Users/felix/sciebo/masterarbeit/progra/model-based_rl/train_az_jsslite.ipynb#Y150sZmlsZQ%3D%3D?line=133'>134</a>\u001b[0m         eval_result[\u001b[39mstr\u001b[39m(_),instance,\u001b[39m\"\u001b[39m\u001b[39mreward\u001b[39m\u001b[39m\"\u001b[39m]\u001b[39m=\u001b[39me_reward\n\u001b[1;32m    <a href='vscode-notebook-cell:/Users/felix/sciebo/masterarbeit/progra/model-based_rl/train_az_jsslite.ipynb#Y150sZmlsZQ%3D%3D?line=134'>135</a>\u001b[0m         eval_result[\u001b[39mstr\u001b[39m(_),instance,\u001b[39m\"\u001b[39m\u001b[39mlength\u001b[39m\u001b[39m\"\u001b[39m]\u001b[39m=\u001b[39me_length\n\u001b[0;32m--> <a href='vscode-notebook-cell:/Users/felix/sciebo/masterarbeit/progra/model-based_rl/train_az_jsslite.ipynb#Y150sZmlsZQ%3D%3D?line=135'>136</a>\u001b[0m results\u001b[39m=\u001b[39mpd\u001b[39m.\u001b[39;49mDataFrame\u001b[39m.\u001b[39;49mfrom_dict(eval_result)\n\u001b[1;32m    <a href='vscode-notebook-cell:/Users/felix/sciebo/masterarbeit/progra/model-based_rl/train_az_jsslite.ipynb#Y150sZmlsZQ%3D%3D?line=136'>137</a>\u001b[0m results\u001b[39m.\u001b[39mto_csv(\u001b[39m'\u001b[39m\u001b[39mresults.csv\u001b[39m\u001b[39m'\u001b[39m)\n",
      "File \u001b[0;32m~/miniconda3/envs/customjssp/lib/python3.10/site-packages/pandas/core/frame.py:1677\u001b[0m, in \u001b[0;36mDataFrame.from_dict\u001b[0;34m(cls, data, orient, dtype, columns)\u001b[0m\n\u001b[1;32m   1674\u001b[0m     \u001b[39mraise\u001b[39;00m \u001b[39mValueError\u001b[39;00m(\u001b[39m\"\u001b[39m\u001b[39monly recognize index or columns for orient\u001b[39m\u001b[39m\"\u001b[39m)\n\u001b[1;32m   1676\u001b[0m \u001b[39mif\u001b[39;00m orient \u001b[39m!=\u001b[39m \u001b[39m\"\u001b[39m\u001b[39mtight\u001b[39m\u001b[39m\"\u001b[39m:\n\u001b[0;32m-> 1677\u001b[0m     \u001b[39mreturn\u001b[39;00m \u001b[39mcls\u001b[39;49m(data, index\u001b[39m=\u001b[39;49mindex, columns\u001b[39m=\u001b[39;49mcolumns, dtype\u001b[39m=\u001b[39;49mdtype)\n\u001b[1;32m   1678\u001b[0m \u001b[39melse\u001b[39;00m:\n\u001b[1;32m   1679\u001b[0m     realdata \u001b[39m=\u001b[39m data[\u001b[39m\"\u001b[39m\u001b[39mdata\u001b[39m\u001b[39m\"\u001b[39m]\n",
      "File \u001b[0;32m~/miniconda3/envs/customjssp/lib/python3.10/site-packages/pandas/core/frame.py:636\u001b[0m, in \u001b[0;36mDataFrame.__init__\u001b[0;34m(self, data, index, columns, dtype, copy)\u001b[0m\n\u001b[1;32m    630\u001b[0m     mgr \u001b[39m=\u001b[39m \u001b[39mself\u001b[39m\u001b[39m.\u001b[39m_init_mgr(\n\u001b[1;32m    631\u001b[0m         data, axes\u001b[39m=\u001b[39m{\u001b[39m\"\u001b[39m\u001b[39mindex\u001b[39m\u001b[39m\"\u001b[39m: index, \u001b[39m\"\u001b[39m\u001b[39mcolumns\u001b[39m\u001b[39m\"\u001b[39m: columns}, dtype\u001b[39m=\u001b[39mdtype, copy\u001b[39m=\u001b[39mcopy\n\u001b[1;32m    632\u001b[0m     )\n\u001b[1;32m    634\u001b[0m \u001b[39melif\u001b[39;00m \u001b[39misinstance\u001b[39m(data, \u001b[39mdict\u001b[39m):\n\u001b[1;32m    635\u001b[0m     \u001b[39m# GH#38939 de facto copy defaults to False only in non-dict cases\u001b[39;00m\n\u001b[0;32m--> 636\u001b[0m     mgr \u001b[39m=\u001b[39m dict_to_mgr(data, index, columns, dtype\u001b[39m=\u001b[39;49mdtype, copy\u001b[39m=\u001b[39;49mcopy, typ\u001b[39m=\u001b[39;49mmanager)\n\u001b[1;32m    637\u001b[0m \u001b[39melif\u001b[39;00m \u001b[39misinstance\u001b[39m(data, ma\u001b[39m.\u001b[39mMaskedArray):\n\u001b[1;32m    638\u001b[0m     \u001b[39mimport\u001b[39;00m \u001b[39mnumpy\u001b[39;00m\u001b[39m.\u001b[39;00m\u001b[39mma\u001b[39;00m\u001b[39m.\u001b[39;00m\u001b[39mmrecords\u001b[39;00m \u001b[39mas\u001b[39;00m \u001b[39mmrecords\u001b[39;00m\n",
      "File \u001b[0;32m~/miniconda3/envs/customjssp/lib/python3.10/site-packages/pandas/core/internals/construction.py:502\u001b[0m, in \u001b[0;36mdict_to_mgr\u001b[0;34m(data, index, columns, dtype, typ, copy)\u001b[0m\n\u001b[1;32m    494\u001b[0m     arrays \u001b[39m=\u001b[39m [\n\u001b[1;32m    495\u001b[0m         x\n\u001b[1;32m    496\u001b[0m         \u001b[39mif\u001b[39;00m \u001b[39mnot\u001b[39;00m \u001b[39mhasattr\u001b[39m(x, \u001b[39m\"\u001b[39m\u001b[39mdtype\u001b[39m\u001b[39m\"\u001b[39m) \u001b[39mor\u001b[39;00m \u001b[39mnot\u001b[39;00m \u001b[39misinstance\u001b[39m(x\u001b[39m.\u001b[39mdtype, ExtensionDtype)\n\u001b[1;32m    497\u001b[0m         \u001b[39melse\u001b[39;00m x\u001b[39m.\u001b[39mcopy()\n\u001b[1;32m    498\u001b[0m         \u001b[39mfor\u001b[39;00m x \u001b[39min\u001b[39;00m arrays\n\u001b[1;32m    499\u001b[0m     ]\n\u001b[1;32m    500\u001b[0m     \u001b[39m# TODO: can we get rid of the dt64tz special case above?\u001b[39;00m\n\u001b[0;32m--> 502\u001b[0m \u001b[39mreturn\u001b[39;00m arrays_to_mgr(arrays, columns, index, dtype\u001b[39m=\u001b[39;49mdtype, typ\u001b[39m=\u001b[39;49mtyp, consolidate\u001b[39m=\u001b[39;49mcopy)\n",
      "File \u001b[0;32m~/miniconda3/envs/customjssp/lib/python3.10/site-packages/pandas/core/internals/construction.py:120\u001b[0m, in \u001b[0;36marrays_to_mgr\u001b[0;34m(arrays, columns, index, dtype, verify_integrity, typ, consolidate)\u001b[0m\n\u001b[1;32m    117\u001b[0m \u001b[39mif\u001b[39;00m verify_integrity:\n\u001b[1;32m    118\u001b[0m     \u001b[39m# figure out the index, if necessary\u001b[39;00m\n\u001b[1;32m    119\u001b[0m     \u001b[39mif\u001b[39;00m index \u001b[39mis\u001b[39;00m \u001b[39mNone\u001b[39;00m:\n\u001b[0;32m--> 120\u001b[0m         index \u001b[39m=\u001b[39m _extract_index(arrays)\n\u001b[1;32m    121\u001b[0m     \u001b[39melse\u001b[39;00m:\n\u001b[1;32m    122\u001b[0m         index \u001b[39m=\u001b[39m ensure_index(index)\n",
      "File \u001b[0;32m~/miniconda3/envs/customjssp/lib/python3.10/site-packages/pandas/core/internals/construction.py:664\u001b[0m, in \u001b[0;36m_extract_index\u001b[0;34m(data)\u001b[0m\n\u001b[1;32m    661\u001b[0m         \u001b[39mraise\u001b[39;00m \u001b[39mValueError\u001b[39;00m(\u001b[39m\"\u001b[39m\u001b[39mPer-column arrays must each be 1-dimensional\u001b[39m\u001b[39m\"\u001b[39m)\n\u001b[1;32m    663\u001b[0m \u001b[39mif\u001b[39;00m \u001b[39mnot\u001b[39;00m indexes \u001b[39mand\u001b[39;00m \u001b[39mnot\u001b[39;00m raw_lengths:\n\u001b[0;32m--> 664\u001b[0m     \u001b[39mraise\u001b[39;00m \u001b[39mValueError\u001b[39;00m(\u001b[39m\"\u001b[39m\u001b[39mIf using all scalar values, you must pass an index\u001b[39m\u001b[39m\"\u001b[39m)\n\u001b[1;32m    666\u001b[0m \u001b[39melif\u001b[39;00m have_series:\n\u001b[1;32m    667\u001b[0m     index \u001b[39m=\u001b[39m union_indexes(indexes)\n",
      "\u001b[0;31mValueError\u001b[0m: If using all scalar values, you must pass an index"
     ]
    }
   ],
   "source": [
    "from ray import rllib, tune\n",
    "import ray\n",
    "from ray.rllib.contrib.alpha_zero.core.alpha_zero_trainer import AlphaZeroTrainer\n",
    "from ray.rllib.policy.sample_batch import DEFAULT_POLICY_ID\n",
    "from ray.rllib.policy.policy_map import PolicyMap\n",
    "from ray.rllib.evaluation.episode import MultiAgentEpisode\n",
    "from ray.tune.registry import register_env\n",
    "from ray.rllib.contrib.alpha_zero.models.custom_torch_models import DenseModel\n",
    "#from src.jss_lite.custom_torch_models import DenseModel\n",
    "from ray.rllib.models.catalog import ModelCatalog\n",
    "import gym\n",
    "from src.jss_lite.jss_lite import jss_lite\n",
    "from wrapper.jssplight_wrapper import jssp_light_obs_wrapper\n",
    "from wrapper.jssplight_wrapper import jssp_light_obs_wrapper_multi_instances\n",
    "import time\n",
    "from copy import deepcopy\n",
    "import numpy as np\n",
    "import os\n",
    "import pandas as pd\n",
    "\n",
    "\n",
    "curr_dir='/Users/felix/sciebo/masterarbeit/progra/model-based_rl'\n",
    "instance_list_training=['/resources/jsp_instances/standard/la01.txt','/resources/jsp_instances/standard/la02.txt','/resources/jsp_instances/standard/la03.txt']\n",
    "instance_list_validation=[]\n",
    "\n",
    "huge_inst_train=[\"la01\",\"la02\",\"la03\",\"la16\",\"la17\",\"la18\",\"la06\",\"la07\",\"la08\",\"la09\",\"la21\",\"la22\",\"la23\",\"la24\",\"la25\",\"la36\",\"la37\",\"ta01\",\"ta02\",\"ta03\",\"ta04\",\"ta05\",\"ta06\",\"ta07\",\"abz7\",\"abz9\",\"la26\",\"la27\",\"la28\"]\n",
    "huge_inst_test=[\"la04\",\"la05\",\"la19\",\"la20\",\"la10\",\"la38\",\"la39\",\"la40\",\"ta08\",\"ta09\",\"ta10\",\"la29\",\"la30\"]\n",
    "\n",
    "# add current directory to path\n",
    "instance_list_training=[curr_dir + s for s in instance_list_training]\n",
    "\n",
    "config_eval = {\n",
    "    \"framework\": \"torch\",\n",
    "    \"disable_env_checking\":True,\n",
    "    \"num_workers\"       : 6,\n",
    "    \"rollout_fragment_length\": 50,\n",
    "    \"train_batch_size\"  : 500,\n",
    "    \"sgd_minibatch_size\": 64,\n",
    "    \"lr\"                : 0.0001,\n",
    "    \"explore\"           :False,\n",
    "    #\"horizon\"           : 600,\n",
    "    #\"soft_horizon\"      : True,\n",
    "    \"num_sgd_iter\"      : 1,\n",
    "    #\"horizon\"           : 100,\n",
    "    \"mcts_config\"       : {\n",
    "        \"puct_coefficient\"   : 1.5,\n",
    "        \"num_simulations\"    : 100,\n",
    "        \"temperature\"        : 1,\n",
    "        \"dirichlet_epsilon\"  : 0.20,\n",
    "        \"dirichlet_noise\"    : 0.03,\n",
    "        \"argmax_tree_policy\" : True,\n",
    "        \"add_dirichlet_noise\": False,\n",
    "    },\n",
    "    \"ranked_rewards\"    : {\n",
    "        \"enable\": True,\n",
    "    },\n",
    "    \"model\"             : {\n",
    "        \"custom_model\": \"dense_model\",\n",
    "\n",
    "    },\n",
    "}\n",
    "\n",
    "\n",
    "def env_creator(config):\n",
    "    env=jssp_light_obs_wrapper_multi_instances(instances_list=instance_list)\n",
    "    return env\n",
    "reload_ray_parameters(instance_list_training)\n",
    "tune.register_env('custom_jssp',env_creator)\n",
    "ModelCatalog.register_custom_model(\"dense_model\", DenseModel) \n",
    "train_agent=False   \n",
    "if train_agent:\n",
    "    # init checkpoint for untrained trainer:\n",
    "    agent = AlphaZeroTrainer( config=config, env='custom_jssp')\n",
    "    s_path=curr_dir+'/training_checkpoints/la_multi/untrained'\n",
    "    if not os.path.exists(s_path):\n",
    "        os.mkdir(s_path)\n",
    "\n",
    "    # init untrained checkpoint to load config to\n",
    "    prev_checkpoint=agent.save_checkpoint(s_path)\n",
    "    print(\"start training\")\n",
    "    # training loop:\n",
    "    for episode in range(num_episodes):\n",
    "        for train_instance in instance_list_training:\n",
    "            reload_ray_parameters(instance_list_training)\n",
    "            # store string which instance is currently active\n",
    "            instance_str=train_instance[-8:-4]\n",
    "            agent = AlphaZeroTrainer( config=config, env='myEnv'+instance_str)\n",
    "            agent.load_checkpoint(prev_checkpoint)\n",
    "            t=time.time()\n",
    "            agent.train()\n",
    "            print(f\"training iteration {episode} finished after {time.time()-t} seconds\")\n",
    "            s_path=(curr_dir+\"/training_checkpoints/la_multi/\"+instance_str+\"/\"+str(episode))\n",
    "            if not os.path.exists(s_path):\n",
    "                os.mkdir(s_path)\n",
    "            prev_checkpoint=agent.save_checkpoint(s_path)\n",
    "        print(f\"{episode} of {num_episodes} finished\")\n",
    "\n",
    "def eval_agent_on_instance(_agent,_env):\n",
    "    policy = _agent.get_policy(DEFAULT_POLICY_ID)\n",
    "    obs = _env.reset()\n",
    "    episode = MultiAgentEpisode(\n",
    "        PolicyMap(0,0),\n",
    "        lambda _, __: DEFAULT_POLICY_ID,\n",
    "        lambda: None,\n",
    "        lambda _: None,\n",
    "        0,\n",
    "    )\n",
    "    episode.user_data['initial_state'] = _env.get_state()\n",
    "    done = False\n",
    "    t=time.time()\n",
    "    while not done:\n",
    "        action, _, _ = policy.compute_single_action(obs, episode=episode)\n",
    "        obs, reward, done, _ = _env.step(action)\n",
    "        episode.length += 1\n",
    "    return time.time()-t,reward,episode.length\n",
    " \n",
    "\n",
    "\n",
    "eval_agent=True\n",
    "\n",
    "if eval_agent:\n",
    "    eval_result={}\n",
    "    agent = AlphaZeroTrainer( config=config_eval, env='custom_jssp')\n",
    "    for _ in range(num_episodes):\n",
    "        eval_path='/Users/felix/sciebo/masterarbeit/progra/model-based_rl/training_checkpoints/la_multi'+\"/\"+instance_list_training[-1][-8:-4]+\"/\"+str(_)\n",
    "        if not os.path.exists(eval_path):\n",
    "            print(f\"{eval_path} does not exits: break\")\n",
    "            break\n",
    "        agent.load_checkpoint(eval_path+\"/checkpoint-1\")\n",
    "        for instance in instance_list_training:\n",
    "            eval_env= jssp_light_obs_wrapper_multi_instances([instance])\n",
    "            e_t,e_reward,e_length = eval_agent_on_instance(agent,eval_env)\n",
    "            eval_result[str(_),instance,\"time\"]=e_t\n",
    "            eval_result[str(_),instance,\"reward\"]=e_reward\n",
    "            eval_result[str(_),instance,\"length\"]=e_length\n",
    "    results=pd.DataFrame.from_dict(eval_result)\n",
    "    results.to_csv('results.csv')\n",
    "\n",
    "    \n",
    "    \n",
    "\n"
   ]
  },
  {
   "cell_type": "code",
   "execution_count": 15,
   "metadata": {},
   "outputs": [],
   "source": [
    "results=pd.DataFrame.from_dict(eval_result,orient='index')\n",
    "results.to_csv('results.csv')"
   ]
  }
 ],
 "metadata": {
  "kernelspec": {
   "display_name": "Python 3.10.4 ('customjssp')",
   "language": "python",
   "name": "python3"
  },
  "language_info": {
   "codemirror_mode": {
    "name": "ipython",
    "version": 3
   },
   "file_extension": ".py",
   "mimetype": "text/x-python",
   "name": "python",
   "nbconvert_exporter": "python",
   "pygments_lexer": "ipython3",
   "version": "3.10.4"
  },
  "orig_nbformat": 4,
  "vscode": {
   "interpreter": {
    "hash": "7344f7b5995cbf62a990a56ee6eec8bd53f41a3aff848cd18f1feb05905aa9e3"
   }
  }
 },
 "nbformat": 4,
 "nbformat_minor": 2
}
