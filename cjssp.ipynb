{
 "cells": [
  {
   "cell_type": "code",
   "execution_count": 1,
   "metadata": {},
   "outputs": [],
   "source": [
    "import src.jss_graph_env.disjunctive_graph_jss_env as jss_env\n",
    "import src.jsp_instance_parser \n",
    "from ray.rllib.contrib.alpha_zero.core.alpha_zero_trainer import AlphaZeroTrainer\n",
    "import gym\n",
    "from ray import tune\n",
    "from ray.rllib.contrib.alpha_zero.models.custom_torch_models import DenseModel\n",
    "from ray.rllib.models.catalog import ModelCatalog\n",
    "from wrapper.jssp_wrapper import jssp_obs_wrapper\n",
    "from wrapper.jssp_wrapper import Jssp_wrapper\n",
    "\n",
    "train_agent=True\n",
    "config = {\n",
    "    \"framework\": \"torch\",\n",
    "    \"disable_env_checking\":False,\n",
    "    \"num_workers\"       : 0,\n",
    "    \"rollout_fragment_length\": 50,\n",
    "    \"train_batch_size\"  : 500,\n",
    "    \"sgd_minibatch_size\": 64,\n",
    "    \"lr\"                : 0.0001,\n",
    "    \"num_sgd_iter\"      : 1,\n",
    "    \"mcts_config\"       : {\n",
    "        \"puct_coefficient\"   : 1.5,\n",
    "        \"num_simulations\"    : 100,\n",
    "        \"temperature\"        : 1.0,\n",
    "        \"dirichlet_epsilon\"  : 0.20,\n",
    "        \"dirichlet_noise\"    : 0.03,\n",
    "        \"argmax_tree_policy\" : False,\n",
    "        \"add_dirichlet_noise\": True,\n",
    "    },\n",
    "    \"ranked_rewards\"    : {\n",
    "        \"enable\": False,\n",
    "    },\n",
    "    \"model\"             : {\n",
    "        \"custom_model\": \"dense_model\",\n",
    "\n",
    "    },\n",
    "}"
   ]
  },
  {
   "cell_type": "code",
   "execution_count": null,
   "metadata": {},
   "outputs": [],
   "source": [
    "\n"
   ]
  },
  {
   "cell_type": "code",
   "execution_count": 2,
   "metadata": {},
   "outputs": [
    {
     "name": "stderr",
     "output_type": "stream",
     "text": [
      "2022-09-22 09:07:28,376\tWARNING deprecation.py:46 -- DeprecationWarning: `simple_optimizer` has been deprecated. This will raise an error in the future!\n",
      "2022-09-22 09:07:28,385\tINFO trainer.py:903 -- Current log_level is WARN. For more information, set 'log_level': 'INFO' / 'DEBUG' or use the -v and -vv flags.\n"
     ]
    },
    {
     "name": "stdout",
     "output_type": "stream",
     "text": [
      "\u001b[2m\u001b[36m(RolloutWorker pid=6482)\u001b[0m [09:07:56] INFO     parsing file 'resources/jsp_instances/standard/abz8.txt'    \n",
      "\u001b[2m\u001b[36m(RolloutWorker pid=6482)\u001b[0m            INFO     instance appears to contain 20 jobs, 15 machines            \n",
      "\u001b[2m\u001b[36m(RolloutWorker pid=6484)\u001b[0m [09:07:57] INFO     parsing file 'resources/jsp_instances/standard/abz8.txt'    \n",
      "\u001b[2m\u001b[36m(RolloutWorker pid=6484)\u001b[0m            INFO     instance appears to contain 20 jobs, 15 machines            \n",
      "\u001b[2m\u001b[36m(RolloutWorker pid=6486)\u001b[0m [09:07:57] INFO     parsing file 'resources/jsp_instances/standard/abz8.txt'    \n",
      "\u001b[2m\u001b[36m(RolloutWorker pid=6486)\u001b[0m            INFO     instance appears to contain 20 jobs, 15 machines            \n",
      "\u001b[2m\u001b[36m(RolloutWorker pid=6483)\u001b[0m [09:07:57] INFO     parsing file 'resources/jsp_instances/standard/abz8.txt'    \n",
      "\u001b[2m\u001b[36m(RolloutWorker pid=6483)\u001b[0m            INFO     instance appears to contain 20 jobs, 15 machines            \n",
      "\u001b[2m\u001b[36m(RolloutWorker pid=6489)\u001b[0m [09:07:57] INFO     parsing file 'resources/jsp_instances/standard/abz8.txt'    \n",
      "\u001b[2m\u001b[36m(RolloutWorker pid=6489)\u001b[0m            INFO     instance appears to contain 20 jobs, 15 machines            \n",
      "\u001b[2m\u001b[36m(RolloutWorker pid=6491)\u001b[0m [09:07:57] INFO     parsing file 'resources/jsp_instances/standard/abz8.txt'    \n",
      "\u001b[2m\u001b[36m(RolloutWorker pid=6491)\u001b[0m            INFO     instance appears to contain 20 jobs, 15 machines            \n",
      "\u001b[2m\u001b[36m(RolloutWorker pid=6487)\u001b[0m [09:07:57] INFO     parsing file 'resources/jsp_instances/standard/abz8.txt'    \n",
      "\u001b[2m\u001b[36m(RolloutWorker pid=6487)\u001b[0m            INFO     instance appears to contain 20 jobs, 15 machines            \n",
      "\u001b[2m\u001b[36m(RolloutWorker pid=6482)\u001b[0m [09:07:57] INFO     parsing file 'resources/jsp_instances/standard/abz8.txt'    \n",
      "\u001b[2m\u001b[36m(RolloutWorker pid=6482)\u001b[0m            INFO     instance appears to contain 20 jobs, 15 machines            \n",
      "\u001b[2m\u001b[36m(RolloutWorker pid=6486)\u001b[0m            INFO     parsing file 'resources/jsp_instances/standard/abz8.txt'    \n",
      "\u001b[2m\u001b[36m(RolloutWorker pid=6486)\u001b[0m            INFO     instance appears to contain 20 jobs, 15 machines            \n",
      "\u001b[2m\u001b[36m(RolloutWorker pid=6489)\u001b[0m            INFO     parsing file 'resources/jsp_instances/standard/abz8.txt'    \n",
      "\u001b[2m\u001b[36m(RolloutWorker pid=6489)\u001b[0m            INFO     instance appears to contain 20 jobs, 15 machines            \n",
      "\u001b[2m\u001b[36m(RolloutWorker pid=6483)\u001b[0m            INFO     parsing file 'resources/jsp_instances/standard/abz8.txt'    \n",
      "\u001b[2m\u001b[36m(RolloutWorker pid=6484)\u001b[0m            INFO     parsing file 'resources/jsp_instances/standard/abz8.txt'    \n",
      "\u001b[2m\u001b[36m(RolloutWorker pid=6483)\u001b[0m            INFO     instance appears to contain 20 jobs, 15 machines            \n",
      "\u001b[2m\u001b[36m(RolloutWorker pid=6484)\u001b[0m            INFO     instance appears to contain 20 jobs, 15 machines            \n",
      "\u001b[2m\u001b[36m(RolloutWorker pid=6487)\u001b[0m            INFO     parsing file 'resources/jsp_instances/standard/abz8.txt'    \n",
      "\u001b[2m\u001b[36m(RolloutWorker pid=6491)\u001b[0m            INFO     parsing file 'resources/jsp_instances/standard/abz8.txt'    \n",
      "\u001b[2m\u001b[36m(RolloutWorker pid=6491)\u001b[0m            INFO     instance appears to contain 20 jobs, 15 machines            \n",
      "\u001b[2m\u001b[36m(RolloutWorker pid=6487)\u001b[0m            INFO     instance appears to contain 20 jobs, 15 machines            \n"
     ]
    },
    {
     "data": {
      "text/html": [
       "<pre style=\"white-space:pre;overflow-x:auto;line-height:normal;font-family:Menlo,'DejaVu Sans Mono',consolas,'Courier New',monospace\"><span style=\"color: #7fbfbf; text-decoration-color: #7fbfbf\">[09:07:57] </span><span style=\"color: #000080; text-decoration-color: #000080\">INFO    </span> parsing file <span style=\"color: #008000; text-decoration-color: #008000\">'resources/jsp_instances/standard/abz8.txt'</span>                                       \n",
       "</pre>\n"
      ],
      "text/plain": [
       "\u001b[2;36m[09:07:57]\u001b[0m\u001b[2;36m \u001b[0m\u001b[34mINFO    \u001b[0m parsing file \u001b[32m'resources/jsp_instances/standard/abz8.txt'\u001b[0m                                       \n"
      ]
     },
     "metadata": {},
     "output_type": "display_data"
    },
    {
     "data": {
      "text/html": [
       "<pre style=\"white-space:pre;overflow-x:auto;line-height:normal;font-family:Menlo,'DejaVu Sans Mono',consolas,'Courier New',monospace\"><span style=\"color: #7fbfbf; text-decoration-color: #7fbfbf\">           </span><span style=\"color: #000080; text-decoration-color: #000080\">INFO    </span> instance appears to contain <span style=\"color: #008080; text-decoration-color: #008080; font-weight: bold\">20</span> jobs, <span style=\"color: #008080; text-decoration-color: #008080; font-weight: bold\">15</span> machines                                               \n",
       "</pre>\n"
      ],
      "text/plain": [
       "\u001b[2;36m          \u001b[0m\u001b[2;36m \u001b[0m\u001b[34mINFO    \u001b[0m instance appears to contain \u001b[1;36m20\u001b[0m jobs, \u001b[1;36m15\u001b[0m machines                                               \n"
      ]
     },
     "metadata": {},
     "output_type": "display_data"
    },
    {
     "name": "stderr",
     "output_type": "stream",
     "text": [
      "2022-09-22 09:07:58,046\tINFO trainable.py:159 -- Trainable.setup took 29.672 seconds. If your trainable is slow to initialize, consider setting reuse_actors=True to reduce actor creation overheads.\n"
     ]
    }
   ],
   "source": [
    "\n",
    "from wrapper.jssp_wrapper import Jssp_wrapper\n",
    "\n",
    "\n",
    "def env_creator(config):\n",
    "    #env = discretetobox(gym.make(\"Taxi-v3\"))\n",
    "    #env = gym.make('LunarLander-v2')\n",
    "    path='resources/jsp_instances/standard/abz8.txt'\n",
    "    curr_instance=src.jsp_instance_parser.parse_jps_standard_specification(path)\n",
    "    res,std_matrix=curr_instance\n",
    "    env = jssp_obs_wrapper(jss_env.DisjunctiveGraphJssEnv(res,default_visualisations='gantt_console'))\n",
    "    return env\n",
    "ModelCatalog.register_custom_model(\"dense_model\", DenseModel)    \n",
    "tune.register_env('customjssp',env_creator)\n",
    "\n",
    "agent = AlphaZeroTrainer( config=config, env='customjssp')"
   ]
  },
  {
   "cell_type": "code",
   "execution_count": 4,
   "metadata": {},
   "outputs": [
    {
     "data": {
      "text/html": [
       "<pre style=\"white-space:pre;overflow-x:auto;line-height:normal;font-family:Menlo,'DejaVu Sans Mono',consolas,'Courier New',monospace\"><span style=\"color: #7fbfbf; text-decoration-color: #7fbfbf\">[09:17:28] </span><span style=\"color: #000080; text-decoration-color: #000080\">INFO    </span> parsing file <span style=\"color: #008000; text-decoration-color: #008000\">'resources/jsp_instances/standard/abz8.txt'</span>                                       \n",
       "</pre>\n"
      ],
      "text/plain": [
       "\u001b[2;36m[09:17:28]\u001b[0m\u001b[2;36m \u001b[0m\u001b[34mINFO    \u001b[0m parsing file \u001b[32m'resources/jsp_instances/standard/abz8.txt'\u001b[0m                                       \n"
      ]
     },
     "metadata": {},
     "output_type": "display_data"
    },
    {
     "data": {
      "text/html": [
       "<pre style=\"white-space:pre;overflow-x:auto;line-height:normal;font-family:Menlo,'DejaVu Sans Mono',consolas,'Courier New',monospace\"><span style=\"color: #7fbfbf; text-decoration-color: #7fbfbf\">           </span><span style=\"color: #000080; text-decoration-color: #000080\">INFO    </span> instance appears to contain <span style=\"color: #008080; text-decoration-color: #008080; font-weight: bold\">20</span> jobs, <span style=\"color: #008080; text-decoration-color: #008080; font-weight: bold\">15</span> machines                                               \n",
       "</pre>\n"
      ],
      "text/plain": [
       "\u001b[2;36m          \u001b[0m\u001b[2;36m \u001b[0m\u001b[34mINFO    \u001b[0m instance appears to contain \u001b[1;36m20\u001b[0m jobs, \u001b[1;36m15\u001b[0m machines                                               \n"
      ]
     },
     "metadata": {},
     "output_type": "display_data"
    },
    {
     "name": "stdout",
     "output_type": "stream",
     "text": [
      "{'obs': array([0.   , 0.475, 0.   , ..., 0.   , 0.   , 0.9  ], dtype=float32), 'action_mask': array([1, 0, 0, 0, 0, 0, 0, 0, 0, 0, 0, 0, 0, 0, 0, 1, 0, 0, 0, 0, 0, 0,\n",
      "       0, 0, 0, 0, 0, 0, 0, 0, 1, 0, 0, 0, 0, 0, 0, 0, 0, 0, 0, 0, 0, 0,\n",
      "       0, 1, 0, 0, 0, 0, 0, 0, 0, 0, 0, 0, 0, 0, 0, 0, 1, 0, 0, 0, 0, 0,\n",
      "       0, 0, 0, 0, 0, 0, 0, 0, 0, 1, 0, 0, 0, 0, 0, 0, 0, 0, 0, 0, 0, 0,\n",
      "       0, 0, 1, 0, 0, 0, 0, 0, 0, 0, 0, 0, 0, 0, 0, 0, 0, 1, 0, 0, 0, 0,\n",
      "       0, 0, 0, 0, 0, 0, 0, 0, 0, 0, 1, 0, 0, 0, 0, 0, 0, 0, 0, 0, 0, 0,\n",
      "       0, 0, 0, 1, 0, 0, 0, 0, 0, 0, 0, 0, 0, 0, 0, 0, 0, 0, 1, 0, 0, 0,\n",
      "       0, 0, 0, 0, 0, 0, 0, 0, 0, 0, 0, 1, 0, 0, 0, 0, 0, 0, 0, 0, 0, 0,\n",
      "       0, 0, 0, 0, 1, 0, 0, 0, 0, 0, 0, 0, 0, 0, 0, 0, 0, 0, 0, 1, 0, 0,\n",
      "       0, 0, 0, 0, 0, 0, 0, 0, 0, 0, 0, 0, 1, 0, 0, 0, 0, 0, 0, 0, 0, 0,\n",
      "       0, 0, 0, 0, 0, 1, 0, 0, 0, 0, 0, 0, 0, 0, 0, 0, 0, 0, 0, 0, 1, 0,\n",
      "       0, 0, 0, 0, 0, 0, 0, 0, 0, 0, 0, 0, 0, 1, 0, 0, 0, 0, 0, 0, 0, 0,\n",
      "       0, 0, 0, 0, 0, 0, 1, 0, 0, 0, 0, 0, 0, 0, 0, 0, 0, 0, 0, 0, 0, 1,\n",
      "       0, 0, 0, 0, 0, 0, 0, 0, 0, 0, 0, 0, 0, 0], dtype=int32)}\n"
     ]
    }
   ],
   "source": [
    "env=env_creator(\"test\")\n",
    "state=env.reset()\n",
    "#print(env.observation_space)\n",
    "#print(env.action_space.n)\n",
    "print(state)"
   ]
  },
  {
   "cell_type": "code",
   "execution_count": null,
   "metadata": {},
   "outputs": [],
   "source": []
  },
  {
   "cell_type": "code",
   "execution_count": 4,
   "metadata": {},
   "outputs": [
    {
     "name": "stdout",
     "output_type": "stream",
     "text": [
      "start training\n"
     ]
    },
    {
     "ename": "KeyboardInterrupt",
     "evalue": "",
     "output_type": "error",
     "traceback": [
      "\u001b[0;31m---------------------------------------------------------------------------\u001b[0m",
      "\u001b[0;31mKeyboardInterrupt\u001b[0m                         Traceback (most recent call last)",
      "\u001b[1;32m/Users/felix/sciebo/masterarbeit/progra/model-based_rl/cjssp.ipynb Zelle 6\u001b[0m in \u001b[0;36m<cell line: 1>\u001b[0;34m()\u001b[0m\n\u001b[1;32m      <a href='vscode-notebook-cell:/Users/felix/sciebo/masterarbeit/progra/model-based_rl/cjssp.ipynb#W3sZmlsZQ%3D%3D?line=1'>2</a>\u001b[0m \u001b[39mprint\u001b[39m(\u001b[39m\"\u001b[39m\u001b[39mstart training\u001b[39m\u001b[39m\"\u001b[39m)\n\u001b[1;32m      <a href='vscode-notebook-cell:/Users/felix/sciebo/masterarbeit/progra/model-based_rl/cjssp.ipynb#W3sZmlsZQ%3D%3D?line=2'>3</a>\u001b[0m \u001b[39mfor\u001b[39;00m _ \u001b[39min\u001b[39;00m \u001b[39mrange\u001b[39m(\u001b[39m0\u001b[39m,\u001b[39m150\u001b[39m):\n\u001b[0;32m----> <a href='vscode-notebook-cell:/Users/felix/sciebo/masterarbeit/progra/model-based_rl/cjssp.ipynb#W3sZmlsZQ%3D%3D?line=3'>4</a>\u001b[0m     agent\u001b[39m.\u001b[39;49mtrain()\n\u001b[1;32m      <a href='vscode-notebook-cell:/Users/felix/sciebo/masterarbeit/progra/model-based_rl/cjssp.ipynb#W3sZmlsZQ%3D%3D?line=4'>5</a>\u001b[0m     \u001b[39mprint\u001b[39m(\u001b[39mf\u001b[39m\u001b[39m\"\u001b[39m\u001b[39mtraining iteration \u001b[39m\u001b[39m{\u001b[39;00m_\u001b[39m}\u001b[39;00m\u001b[39m finished\u001b[39m\u001b[39m\"\u001b[39m)\n\u001b[1;32m      <a href='vscode-notebook-cell:/Users/felix/sciebo/masterarbeit/progra/model-based_rl/cjssp.ipynb#W3sZmlsZQ%3D%3D?line=5'>6</a>\u001b[0m     \u001b[39m#agent.save(f\"save_az/rllib_checkpoint{_}\")\u001b[39;00m\n",
      "File \u001b[0;32m~/miniconda3/envs/customjssp/lib/python3.10/site-packages/ray/tune/trainable.py:360\u001b[0m, in \u001b[0;36mTrainable.train\u001b[0;34m(self)\u001b[0m\n\u001b[1;32m    358\u001b[0m     \u001b[39mself\u001b[39m\u001b[39m.\u001b[39m_warmup_time \u001b[39m=\u001b[39m time\u001b[39m.\u001b[39mtime() \u001b[39m-\u001b[39m \u001b[39mself\u001b[39m\u001b[39m.\u001b[39m_start_time\n\u001b[1;32m    359\u001b[0m start \u001b[39m=\u001b[39m time\u001b[39m.\u001b[39mtime()\n\u001b[0;32m--> 360\u001b[0m result \u001b[39m=\u001b[39m \u001b[39mself\u001b[39;49m\u001b[39m.\u001b[39;49mstep()\n\u001b[1;32m    361\u001b[0m \u001b[39massert\u001b[39;00m \u001b[39misinstance\u001b[39m(result, \u001b[39mdict\u001b[39m), \u001b[39m\"\u001b[39m\u001b[39mstep() needs to return a dict.\u001b[39m\u001b[39m\"\u001b[39m\n\u001b[1;32m    363\u001b[0m \u001b[39m# We do not modify internal state nor update this result if duplicate.\u001b[39;00m\n",
      "File \u001b[0;32m~/miniconda3/envs/customjssp/lib/python3.10/site-packages/ray/rllib/agents/trainer.py:1112\u001b[0m, in \u001b[0;36mTrainer.step\u001b[0;34m(self)\u001b[0m\n\u001b[1;32m   1109\u001b[0m \u001b[39mwhile\u001b[39;00m \u001b[39mnot\u001b[39;00m step_ctx\u001b[39m.\u001b[39mshould_stop(step_attempt_results):\n\u001b[1;32m   1110\u001b[0m     \u001b[39m# Try to train one step.\u001b[39;00m\n\u001b[1;32m   1111\u001b[0m     \u001b[39mtry\u001b[39;00m:\n\u001b[0;32m-> 1112\u001b[0m         step_attempt_results \u001b[39m=\u001b[39m \u001b[39mself\u001b[39;49m\u001b[39m.\u001b[39;49mstep_attempt()\n\u001b[1;32m   1113\u001b[0m     \u001b[39m# @ray.remote RolloutWorker failure.\u001b[39;00m\n\u001b[1;32m   1114\u001b[0m     \u001b[39mexcept\u001b[39;00m RayError \u001b[39mas\u001b[39;00m e:\n\u001b[1;32m   1115\u001b[0m         \u001b[39m# Try to recover w/o the failed worker.\u001b[39;00m\n",
      "File \u001b[0;32m~/miniconda3/envs/customjssp/lib/python3.10/site-packages/ray/rllib/agents/trainer.py:1214\u001b[0m, in \u001b[0;36mTrainer.step_attempt\u001b[0;34m(self)\u001b[0m\n\u001b[1;32m   1212\u001b[0m \u001b[39m# No evaluation necessary, just run the next training iteration.\u001b[39;00m\n\u001b[1;32m   1213\u001b[0m \u001b[39mif\u001b[39;00m \u001b[39mnot\u001b[39;00m evaluate_this_iter:\n\u001b[0;32m-> 1214\u001b[0m     step_results \u001b[39m=\u001b[39m \u001b[39mself\u001b[39;49m\u001b[39m.\u001b[39;49m_exec_plan_or_training_iteration_fn()\n\u001b[1;32m   1215\u001b[0m \u001b[39m# We have to evaluate in this training iteration.\u001b[39;00m\n\u001b[1;32m   1216\u001b[0m \u001b[39melse\u001b[39;00m:\n\u001b[1;32m   1217\u001b[0m     \u001b[39m# No parallelism.\u001b[39;00m\n\u001b[1;32m   1218\u001b[0m     \u001b[39mif\u001b[39;00m \u001b[39mnot\u001b[39;00m \u001b[39mself\u001b[39m\u001b[39m.\u001b[39mconfig[\u001b[39m\"\u001b[39m\u001b[39mevaluation_parallel_to_training\u001b[39m\u001b[39m\"\u001b[39m]:\n",
      "File \u001b[0;32m~/miniconda3/envs/customjssp/lib/python3.10/site-packages/ray/rllib/agents/trainer.py:2211\u001b[0m, in \u001b[0;36mTrainer._exec_plan_or_training_iteration_fn\u001b[0;34m(self)\u001b[0m\n\u001b[1;32m   2209\u001b[0m         results \u001b[39m=\u001b[39m \u001b[39mself\u001b[39m\u001b[39m.\u001b[39mtraining_iteration()\n\u001b[1;32m   2210\u001b[0m     \u001b[39melse\u001b[39;00m:\n\u001b[0;32m-> 2211\u001b[0m         results \u001b[39m=\u001b[39m \u001b[39mnext\u001b[39;49m(\u001b[39mself\u001b[39;49m\u001b[39m.\u001b[39;49mtrain_exec_impl)\n\u001b[1;32m   2212\u001b[0m \u001b[39mreturn\u001b[39;00m results\n",
      "File \u001b[0;32m~/miniconda3/envs/customjssp/lib/python3.10/site-packages/ray/util/iter.py:779\u001b[0m, in \u001b[0;36mLocalIterator.__next__\u001b[0;34m(self)\u001b[0m\n\u001b[1;32m    777\u001b[0m \u001b[39mdef\u001b[39;00m \u001b[39m__next__\u001b[39m(\u001b[39mself\u001b[39m):\n\u001b[1;32m    778\u001b[0m     \u001b[39mself\u001b[39m\u001b[39m.\u001b[39m_build_once()\n\u001b[0;32m--> 779\u001b[0m     \u001b[39mreturn\u001b[39;00m \u001b[39mnext\u001b[39;49m(\u001b[39mself\u001b[39;49m\u001b[39m.\u001b[39;49mbuilt_iterator)\n",
      "File \u001b[0;32m~/miniconda3/envs/customjssp/lib/python3.10/site-packages/ray/util/iter.py:807\u001b[0m, in \u001b[0;36mLocalIterator.for_each.<locals>.apply_foreach\u001b[0;34m(it)\u001b[0m\n\u001b[1;32m    806\u001b[0m \u001b[39mdef\u001b[39;00m \u001b[39mapply_foreach\u001b[39m(it):\n\u001b[0;32m--> 807\u001b[0m     \u001b[39mfor\u001b[39;00m item \u001b[39min\u001b[39;00m it:\n\u001b[1;32m    808\u001b[0m         \u001b[39mif\u001b[39;00m \u001b[39misinstance\u001b[39m(item, _NextValueNotReady):\n\u001b[1;32m    809\u001b[0m             \u001b[39myield\u001b[39;00m item\n",
      "File \u001b[0;32m~/miniconda3/envs/customjssp/lib/python3.10/site-packages/ray/util/iter.py:869\u001b[0m, in \u001b[0;36mLocalIterator.filter.<locals>.apply_filter\u001b[0;34m(it)\u001b[0m\n\u001b[1;32m    868\u001b[0m \u001b[39mdef\u001b[39;00m \u001b[39mapply_filter\u001b[39m(it):\n\u001b[0;32m--> 869\u001b[0m     \u001b[39mfor\u001b[39;00m item \u001b[39min\u001b[39;00m it:\n\u001b[1;32m    870\u001b[0m         \u001b[39mwith\u001b[39;00m \u001b[39mself\u001b[39m\u001b[39m.\u001b[39m_metrics_context():\n\u001b[1;32m    871\u001b[0m             \u001b[39mif\u001b[39;00m \u001b[39misinstance\u001b[39m(item, _NextValueNotReady) \u001b[39mor\u001b[39;00m fn(item):\n",
      "File \u001b[0;32m~/miniconda3/envs/customjssp/lib/python3.10/site-packages/ray/util/iter.py:869\u001b[0m, in \u001b[0;36mLocalIterator.filter.<locals>.apply_filter\u001b[0;34m(it)\u001b[0m\n\u001b[1;32m    868\u001b[0m \u001b[39mdef\u001b[39;00m \u001b[39mapply_filter\u001b[39m(it):\n\u001b[0;32m--> 869\u001b[0m     \u001b[39mfor\u001b[39;00m item \u001b[39min\u001b[39;00m it:\n\u001b[1;32m    870\u001b[0m         \u001b[39mwith\u001b[39;00m \u001b[39mself\u001b[39m\u001b[39m.\u001b[39m_metrics_context():\n\u001b[1;32m    871\u001b[0m             \u001b[39mif\u001b[39;00m \u001b[39misinstance\u001b[39m(item, _NextValueNotReady) \u001b[39mor\u001b[39;00m fn(item):\n",
      "File \u001b[0;32m~/miniconda3/envs/customjssp/lib/python3.10/site-packages/ray/util/iter.py:807\u001b[0m, in \u001b[0;36mLocalIterator.for_each.<locals>.apply_foreach\u001b[0;34m(it)\u001b[0m\n\u001b[1;32m    806\u001b[0m \u001b[39mdef\u001b[39;00m \u001b[39mapply_foreach\u001b[39m(it):\n\u001b[0;32m--> 807\u001b[0m     \u001b[39mfor\u001b[39;00m item \u001b[39min\u001b[39;00m it:\n\u001b[1;32m    808\u001b[0m         \u001b[39mif\u001b[39;00m \u001b[39misinstance\u001b[39m(item, _NextValueNotReady):\n\u001b[1;32m    809\u001b[0m             \u001b[39myield\u001b[39;00m item\n",
      "File \u001b[0;32m~/miniconda3/envs/customjssp/lib/python3.10/site-packages/ray/util/iter.py:904\u001b[0m, in \u001b[0;36mLocalIterator.flatten.<locals>.apply_flatten\u001b[0;34m(it)\u001b[0m\n\u001b[1;32m    903\u001b[0m \u001b[39mdef\u001b[39;00m \u001b[39mapply_flatten\u001b[39m(it):\n\u001b[0;32m--> 904\u001b[0m     \u001b[39mfor\u001b[39;00m item \u001b[39min\u001b[39;00m it:\n\u001b[1;32m    905\u001b[0m         \u001b[39mif\u001b[39;00m \u001b[39misinstance\u001b[39m(item, _NextValueNotReady):\n\u001b[1;32m    906\u001b[0m             \u001b[39myield\u001b[39;00m item\n",
      "File \u001b[0;32m~/miniconda3/envs/customjssp/lib/python3.10/site-packages/ray/util/iter.py:807\u001b[0m, in \u001b[0;36mLocalIterator.for_each.<locals>.apply_foreach\u001b[0;34m(it)\u001b[0m\n\u001b[1;32m    806\u001b[0m \u001b[39mdef\u001b[39;00m \u001b[39mapply_foreach\u001b[39m(it):\n\u001b[0;32m--> 807\u001b[0m     \u001b[39mfor\u001b[39;00m item \u001b[39min\u001b[39;00m it:\n\u001b[1;32m    808\u001b[0m         \u001b[39mif\u001b[39;00m \u001b[39misinstance\u001b[39m(item, _NextValueNotReady):\n\u001b[1;32m    809\u001b[0m             \u001b[39myield\u001b[39;00m item\n",
      "File \u001b[0;32m~/miniconda3/envs/customjssp/lib/python3.10/site-packages/ray/util/iter.py:807\u001b[0m, in \u001b[0;36mLocalIterator.for_each.<locals>.apply_foreach\u001b[0;34m(it)\u001b[0m\n\u001b[1;32m    806\u001b[0m \u001b[39mdef\u001b[39;00m \u001b[39mapply_foreach\u001b[39m(it):\n\u001b[0;32m--> 807\u001b[0m     \u001b[39mfor\u001b[39;00m item \u001b[39min\u001b[39;00m it:\n\u001b[1;32m    808\u001b[0m         \u001b[39mif\u001b[39;00m \u001b[39misinstance\u001b[39m(item, _NextValueNotReady):\n\u001b[1;32m    809\u001b[0m             \u001b[39myield\u001b[39;00m item\n",
      "File \u001b[0;32m~/miniconda3/envs/customjssp/lib/python3.10/site-packages/ray/util/iter.py:807\u001b[0m, in \u001b[0;36mLocalIterator.for_each.<locals>.apply_foreach\u001b[0;34m(it)\u001b[0m\n\u001b[1;32m    806\u001b[0m \u001b[39mdef\u001b[39;00m \u001b[39mapply_foreach\u001b[39m(it):\n\u001b[0;32m--> 807\u001b[0m     \u001b[39mfor\u001b[39;00m item \u001b[39min\u001b[39;00m it:\n\u001b[1;32m    808\u001b[0m         \u001b[39mif\u001b[39;00m \u001b[39misinstance\u001b[39m(item, _NextValueNotReady):\n\u001b[1;32m    809\u001b[0m             \u001b[39myield\u001b[39;00m item\n",
      "File \u001b[0;32m~/miniconda3/envs/customjssp/lib/python3.10/site-packages/ray/util/iter.py:492\u001b[0m, in \u001b[0;36mParallelIterator.batch_across_shards.<locals>.base_iterator\u001b[0;34m(timeout)\u001b[0m\n\u001b[1;32m    490\u001b[0m \u001b[39mwhile\u001b[39;00m active:\n\u001b[1;32m    491\u001b[0m     \u001b[39mtry\u001b[39;00m:\n\u001b[0;32m--> 492\u001b[0m         \u001b[39myield\u001b[39;00m ray\u001b[39m.\u001b[39;49mget(futures, timeout\u001b[39m=\u001b[39;49mtimeout)\n\u001b[1;32m    493\u001b[0m         futures \u001b[39m=\u001b[39m [a\u001b[39m.\u001b[39mpar_iter_next\u001b[39m.\u001b[39mremote() \u001b[39mfor\u001b[39;00m a \u001b[39min\u001b[39;00m active]\n\u001b[1;32m    494\u001b[0m         \u001b[39m# Always yield after each round of gets with timeout.\u001b[39;00m\n",
      "File \u001b[0;32m~/miniconda3/envs/customjssp/lib/python3.10/site-packages/ray/_private/client_mode_hook.py:105\u001b[0m, in \u001b[0;36mclient_mode_hook.<locals>.wrapper\u001b[0;34m(*args, **kwargs)\u001b[0m\n\u001b[1;32m    103\u001b[0m     \u001b[39mif\u001b[39;00m func\u001b[39m.\u001b[39m\u001b[39m__name__\u001b[39m \u001b[39m!=\u001b[39m \u001b[39m\"\u001b[39m\u001b[39minit\u001b[39m\u001b[39m\"\u001b[39m \u001b[39mor\u001b[39;00m is_client_mode_enabled_by_default:\n\u001b[1;32m    104\u001b[0m         \u001b[39mreturn\u001b[39;00m \u001b[39mgetattr\u001b[39m(ray, func\u001b[39m.\u001b[39m\u001b[39m__name__\u001b[39m)(\u001b[39m*\u001b[39margs, \u001b[39m*\u001b[39m\u001b[39m*\u001b[39mkwargs)\n\u001b[0;32m--> 105\u001b[0m \u001b[39mreturn\u001b[39;00m func(\u001b[39m*\u001b[39;49margs, \u001b[39m*\u001b[39;49m\u001b[39m*\u001b[39;49mkwargs)\n",
      "File \u001b[0;32m~/miniconda3/envs/customjssp/lib/python3.10/site-packages/ray/worker.py:1825\u001b[0m, in \u001b[0;36mget\u001b[0;34m(object_refs, timeout)\u001b[0m\n\u001b[1;32m   1819\u001b[0m     \u001b[39mraise\u001b[39;00m \u001b[39mValueError\u001b[39;00m(\n\u001b[1;32m   1820\u001b[0m         \u001b[39m\"\u001b[39m\u001b[39m'\u001b[39m\u001b[39mobject_refs\u001b[39m\u001b[39m'\u001b[39m\u001b[39m must either be an object ref \u001b[39m\u001b[39m\"\u001b[39m\n\u001b[1;32m   1821\u001b[0m         \u001b[39m\"\u001b[39m\u001b[39mor a list of object refs.\u001b[39m\u001b[39m\"\u001b[39m\n\u001b[1;32m   1822\u001b[0m     )\n\u001b[1;32m   1824\u001b[0m \u001b[39m# TODO(ujvl): Consider how to allow user to retrieve the ready objects.\u001b[39;00m\n\u001b[0;32m-> 1825\u001b[0m values, debugger_breakpoint \u001b[39m=\u001b[39m worker\u001b[39m.\u001b[39;49mget_objects(object_refs, timeout\u001b[39m=\u001b[39;49mtimeout)\n\u001b[1;32m   1826\u001b[0m \u001b[39mfor\u001b[39;00m i, value \u001b[39min\u001b[39;00m \u001b[39menumerate\u001b[39m(values):\n\u001b[1;32m   1827\u001b[0m     \u001b[39mif\u001b[39;00m \u001b[39misinstance\u001b[39m(value, RayError):\n",
      "File \u001b[0;32m~/miniconda3/envs/customjssp/lib/python3.10/site-packages/ray/worker.py:364\u001b[0m, in \u001b[0;36mWorker.get_objects\u001b[0;34m(self, object_refs, timeout)\u001b[0m\n\u001b[1;32m    358\u001b[0m         \u001b[39mraise\u001b[39;00m \u001b[39mTypeError\u001b[39;00m(\n\u001b[1;32m    359\u001b[0m             \u001b[39mf\u001b[39m\u001b[39m\"\u001b[39m\u001b[39mAttempting to call `get` on the value \u001b[39m\u001b[39m{\u001b[39;00mobject_ref\u001b[39m}\u001b[39;00m\u001b[39m, \u001b[39m\u001b[39m\"\u001b[39m\n\u001b[1;32m    360\u001b[0m             \u001b[39m\"\u001b[39m\u001b[39mwhich is not an ray.ObjectRef.\u001b[39m\u001b[39m\"\u001b[39m\n\u001b[1;32m    361\u001b[0m         )\n\u001b[1;32m    363\u001b[0m timeout_ms \u001b[39m=\u001b[39m \u001b[39mint\u001b[39m(timeout \u001b[39m*\u001b[39m \u001b[39m1000\u001b[39m) \u001b[39mif\u001b[39;00m timeout \u001b[39melse\u001b[39;00m \u001b[39m-\u001b[39m\u001b[39m1\u001b[39m\n\u001b[0;32m--> 364\u001b[0m data_metadata_pairs \u001b[39m=\u001b[39m \u001b[39mself\u001b[39;49m\u001b[39m.\u001b[39;49mcore_worker\u001b[39m.\u001b[39;49mget_objects(\n\u001b[1;32m    365\u001b[0m     object_refs, \u001b[39mself\u001b[39;49m\u001b[39m.\u001b[39;49mcurrent_task_id, timeout_ms\n\u001b[1;32m    366\u001b[0m )\n\u001b[1;32m    367\u001b[0m debugger_breakpoint \u001b[39m=\u001b[39m \u001b[39mb\u001b[39m\u001b[39m\"\u001b[39m\u001b[39m\"\u001b[39m\n\u001b[1;32m    368\u001b[0m \u001b[39mfor\u001b[39;00m (data, metadata) \u001b[39min\u001b[39;00m data_metadata_pairs:\n",
      "File \u001b[0;32mpython/ray/_raylet.pyx:1200\u001b[0m, in \u001b[0;36mray._raylet.CoreWorker.get_objects\u001b[0;34m()\u001b[0m\n",
      "File \u001b[0;32mpython/ray/_raylet.pyx:169\u001b[0m, in \u001b[0;36mray._raylet.check_status\u001b[0;34m()\u001b[0m\n",
      "\u001b[0;31mKeyboardInterrupt\u001b[0m: "
     ]
    }
   ],
   "source": [
    "if train_agent:\n",
    "    print(\"start training\")\n",
    "    for _ in range(0,150):\n",
    "        agent.train()\n",
    "        print(f\"training iteration {_} finished\")\n",
    "        #agent.save(f\"save_az/rllib_checkpoint{_}\")\n",
    "        agent.save_checkpoint(f\"training_checkpoints/checkpoints_az_jsp\")\n",
    "        #agent.save_to_object(f\"objects_az/rllib_checkpoint{_}\")"
   ]
  },
  {
   "cell_type": "code",
   "execution_count": null,
   "metadata": {},
   "outputs": [],
   "source": [
    "from ray.rllib.policy.policy_map import PolicyMap\n",
    "from ray.rllib.evaluation.episode import MultiAgentEpisode\n",
    "from ray.rllib.policy.sample_batch import DEFAULT_POLICY_ID\n",
    "\n",
    "agent.load_checkpoint('training_checkpoints/checkpoints_az_jsp/checkpoint-34')\n",
    "env=env_creator('config')\n",
    "obs = env.reset()\n",
    "# env2 is copy for later going evaluation\n",
    "#env2=deepcopy(env)\n",
    "policy = agent.get_policy(DEFAULT_POLICY_ID)\n",
    "episode = MultiAgentEpisode(\n",
    "    PolicyMap(0,0),\n",
    "    lambda _, __: DEFAULT_POLICY_ID,\n",
    "    lambda: None,\n",
    "    lambda _: None,\n",
    "    0,\n",
    ")\n",
    "\n",
    "episode.user_data['initial_state'] = env.get_state()\n",
    "\n",
    "done = False\n",
    "illegal_action=0\n",
    "while not done:\n",
    "    action, _, _ = policy.compute_single_action(obs, episode=episode)\n",
    "    #print(action_dic[action])\n",
    "    if obs['action_mask'][action]==False:\n",
    "        illegal_action += 1 \n",
    "\n",
    "    obs, reward, done, _ = env.step(action)\n",
    "\n",
    "    #print(obs)\n",
    " \n",
    "    #time.sleep(0.1)\n",
    "    episode.length += 1\n",
    "print(illegal_action)\n",
    "print(episode.length)\n",
    "env.render()\n",
    "env.close()\n",
    "\n"
   ]
  },
  {
   "cell_type": "code",
   "execution_count": null,
   "metadata": {},
   "outputs": [],
   "source": [
    "agent.load_checkpoint('training_checkpoints/checkpoints_az_jsp/checkpoint-34')\n",
    "env=env_creator('config')\n",
    "obs = env.reset()\n",
    "episode_reward = 0\n",
    "done = False\n",
    "obs = env.reset()\n",
    "illegal_action=0\n",
    "steps=0\n",
    "#episode.user_data['initial_state'] = env.get_state()\n",
    "while not done:\n",
    "    steps+=1\n",
    "    print(steps)\n",
    "    action = agent.compute_single_action(obs)\n",
    "    if obs['action_mask'][action]==False:\n",
    "        illegal_action += 1 \n",
    "    \n",
    "    obs, episode_reward, done, info = env.step(action)\n",
    "\n",
    "#print(obs)\n",
    "\n",
    "#time.sleep(0.1)\n",
    "print(illegal_action)\n",
    "print(steps)\n",
    "env.render()\n",
    "env.close()\n"
   ]
  },
  {
   "cell_type": "code",
   "execution_count": null,
   "metadata": {},
   "outputs": [],
   "source": [
    "import numpy as np\n",
    "import random\n",
    "env=env_creator('config')\n",
    "obs_1=env.reset()\n",
    "action_space=env.action_space\n",
    "action_mask=env.valid_action_mask()\n",
    "#task_mask = self.valid_action_mask\n",
    "#job_mask = np.array_split(action_mask, 10)[action]\n",
    "action_list=[]\n",
    "\n",
    "action_list=np.arange(0,env.n_jobs*env.n_machines)\n",
    "\n",
    "\n",
    "for i in range(1):\n",
    "    action_mask=env.valid_action_mask()\n",
    "    actions=action_list[action_mask]\n",
    "    next_action=random.choice(actions)\n",
    "    #next_action=actions[action_mask[0]]\n",
    "    #print(next_action)\n",
    "    state,reward,done,info =env.step(next_action)\n",
    "    if done == True:\n",
    "        print(f\"finished after {i} steps\")\n",
    "        break\n",
    "    #env.render()\n",
    "\n",
    "env.render()\n",
    "observation=(obs_1['obs'])"
   ]
  },
  {
   "cell_type": "code",
   "execution_count": null,
   "metadata": {},
   "outputs": [],
   "source": [
    "env.render()"
   ]
  },
  {
   "cell_type": "code",
   "execution_count": null,
   "metadata": {},
   "outputs": [],
   "source": [
    "import src.modelbased.alphazero as az"
   ]
  },
  {
   "cell_type": "code",
   "execution_count": null,
   "metadata": {},
   "outputs": [],
   "source": []
  },
  {
   "cell_type": "code",
   "execution_count": null,
   "metadata": {},
   "outputs": [],
   "source": [
    "env.close()"
   ]
  }
 ],
 "metadata": {
  "kernelspec": {
   "display_name": "Python 3.10.4 ('customjssp')",
   "language": "python",
   "name": "python3"
  },
  "language_info": {
   "codemirror_mode": {
    "name": "ipython",
    "version": 3
   },
   "file_extension": ".py",
   "mimetype": "text/x-python",
   "name": "python",
   "nbconvert_exporter": "python",
   "pygments_lexer": "ipython3",
   "version": "3.10.4"
  },
  "orig_nbformat": 4,
  "vscode": {
   "interpreter": {
    "hash": "7344f7b5995cbf62a990a56ee6eec8bd53f41a3aff848cd18f1feb05905aa9e3"
   }
  }
 },
 "nbformat": 4,
 "nbformat_minor": 2
}
