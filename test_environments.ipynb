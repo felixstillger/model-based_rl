{
 "cells": [
  {
   "cell_type": "code",
   "execution_count": null,
   "metadata": {},
   "outputs": [],
   "source": [
    "from gym import envs\n",
    "all_envs = envs.registry.all()\n",
    "env_ids = [env_spec.id for env_spec in all_envs]\n",
    "print(sorted(env_ids))"
   ]
  },
  {
   "cell_type": "code",
   "execution_count": null,
   "metadata": {},
   "outputs": [],
   "source": [
    "import numpy as np\n",
    "class ObservationWrapper(gym.ObservationWrapper):\n",
    "    def __init__(self, env):\n",
    "        super().__init__(env)\n",
    "        assert isinstance(env.observation_space, gym.spaces.Discrete), \\\n",
    "            \"Should only be used to wrap Discrete envs.\"\n",
    "        self.n = self.observation_space.n\n",
    "        self.observation_space = gym.spaces.Box(0, 1, (self.n,))\n",
    "    \n",
    "    def observation(self, obs):\n",
    "        new_obs = np.zeros(self.n)\n",
    "        new_obs[obs] = 1\n",
    "        return new_obs"
   ]
  },
  {
   "cell_type": "code",
   "execution_count": null,
   "metadata": {},
   "outputs": [],
   "source": [
    "\n",
    "\n",
    "import gym\n",
    "env = ObservationWrapper(gym.make('Taxi-v3'))\n",
    "#env = gym.make('Taxi-v3')\n",
    "print(env.action_space)\n",
    "print(env.observation_space)\n",
    "\n",
    "\n",
    "\n",
    "env = gym.make('CartPole-v0')\n",
    "print(env.action_space)\n",
    "print(env.observation_space)\n",
    "\n",
    "\n",
    "\n"
   ]
  },
  {
   "cell_type": "code",
   "execution_count": 6,
   "metadata": {},
   "outputs": [
    {
     "name": "stdout",
     "output_type": "stream",
     "text": [
      "finished! no legal actions possible after 195 steps\n",
      "[{'Job': 'job_8', 'Start': datetime.datetime(2022, 1, 1, 0, 0), 'Finish': datetime.datetime(2022, 1, 1, 0, 1, 34), 'Machine': 'machine_0'}, {'Job': 'job_9', 'Start': datetime.datetime(2022, 1, 1, 0, 1, 59), 'Finish': datetime.datetime(2022, 1, 1, 0, 2, 58), 'Machine': 'machine_0'}, {'Job': 'job_2', 'Start': datetime.datetime(2022, 1, 1, 0, 2, 58), 'Finish': datetime.datetime(2022, 1, 1, 0, 4, 21), 'Machine': 'machine_0'}, {'Job': 'job_4', 'Start': datetime.datetime(2022, 1, 1, 0, 8, 52), 'Finish': datetime.datetime(2022, 1, 1, 0, 10, 31), 'Machine': 'machine_0'}, {'Job': 'job_6', 'Start': datetime.datetime(2022, 1, 1, 0, 10, 31), 'Finish': datetime.datetime(2022, 1, 1, 0, 12, 6), 'Machine': 'machine_0'}, {'Job': 'job_7', 'Start': datetime.datetime(2022, 1, 1, 0, 12, 6), 'Finish': datetime.datetime(2022, 1, 1, 0, 13, 8), 'Machine': 'machine_0'}, {'Job': 'job_3', 'Start': datetime.datetime(2022, 1, 1, 0, 13, 8), 'Finish': datetime.datetime(2022, 1, 1, 0, 14, 24), 'Machine': 'machine_0'}, {'Job': 'job_0', 'Start': datetime.datetime(2022, 1, 1, 0, 14, 45), 'Finish': datetime.datetime(2022, 1, 1, 0, 16, 11), 'Machine': 'machine_0'}, {'Job': 'job_1', 'Start': datetime.datetime(2022, 1, 1, 0, 19, 4), 'Finish': datetime.datetime(2022, 1, 1, 0, 20, 36), 'Machine': 'machine_0'}, {'Job': 'job_5', 'Start': datetime.datetime(2022, 1, 1, 0, 22, 57), 'Finish': datetime.datetime(2022, 1, 1, 0, 24, 25), 'Machine': 'machine_0'}, {'Job': 'job_5', 'Start': datetime.datetime(2022, 1, 1, 0, 0), 'Finish': datetime.datetime(2022, 1, 1, 0, 1, 39), 'Machine': 'machine_1'}, {'Job': 'job_6', 'Start': datetime.datetime(2022, 1, 1, 0, 1, 39), 'Finish': datetime.datetime(2022, 1, 1, 0, 3, 5), 'Machine': 'machine_1'}, {'Job': 'job_9', 'Start': datetime.datetime(2022, 1, 1, 0, 3, 5), 'Finish': datetime.datetime(2022, 1, 1, 0, 4, 27), 'Machine': 'machine_1'}, {'Job': 'job_3', 'Start': datetime.datetime(2022, 1, 1, 0, 4, 27), 'Finish': datetime.datetime(2022, 1, 1, 0, 5, 28), 'Machine': 'machine_1'}, {'Job': 'job_2', 'Start': datetime.datetime(2022, 1, 1, 0, 5, 28), 'Finish': datetime.datetime(2022, 1, 1, 0, 6, 33), 'Machine': 'machine_1'}, {'Job': 'job_7', 'Start': datetime.datetime(2022, 1, 1, 0, 6, 33), 'Finish': datetime.datetime(2022, 1, 1, 0, 7, 44), 'Machine': 'machine_1'}, {'Job': 'job_8', 'Start': datetime.datetime(2022, 1, 1, 0, 7, 44), 'Finish': datetime.datetime(2022, 1, 1, 0, 8, 50), 'Machine': 'machine_1'}, {'Job': 'job_0', 'Start': datetime.datetime(2022, 1, 1, 0, 8, 50), 'Finish': datetime.datetime(2022, 1, 1, 0, 9, 57), 'Machine': 'machine_1'}, {'Job': 'job_4', 'Start': datetime.datetime(2022, 1, 1, 0, 16, 46), 'Finish': datetime.datetime(2022, 1, 1, 0, 18, 12), 'Machine': 'machine_1'}, {'Job': 'job_1', 'Start': datetime.datetime(2022, 1, 1, 0, 20, 36), 'Finish': datetime.datetime(2022, 1, 1, 0, 21, 58), 'Machine': 'machine_1'}, {'Job': 'job_3', 'Start': datetime.datetime(2022, 1, 1, 0, 2, 24), 'Finish': datetime.datetime(2022, 1, 1, 0, 3, 32), 'Machine': 'machine_2'}, {'Job': 'job_7', 'Start': datetime.datetime(2022, 1, 1, 0, 5, 32), 'Finish': datetime.datetime(2022, 1, 1, 0, 6, 23), 'Machine': 'machine_2'}, {'Job': 'job_8', 'Start': datetime.datetime(2022, 1, 1, 0, 8, 50), 'Finish': datetime.datetime(2022, 1, 1, 0, 10, 20), 'Machine': 'machine_2'}, {'Job': 'job_0', 'Start': datetime.datetime(2022, 1, 1, 0, 10, 20), 'Finish': datetime.datetime(2022, 1, 1, 0, 11, 49), 'Machine': 'machine_2'}, {'Job': 'job_4', 'Start': datetime.datetime(2022, 1, 1, 0, 11, 49), 'Finish': datetime.datetime(2022, 1, 1, 0, 12, 56), 'Machine': 'machine_2'}, {'Job': 'job_1', 'Start': datetime.datetime(2022, 1, 1, 0, 12, 56), 'Finish': datetime.datetime(2022, 1, 1, 0, 14, 30), 'Machine': 'machine_2'}, {'Job': 'job_2', 'Start': datetime.datetime(2022, 1, 1, 0, 14, 30), 'Finish': datetime.datetime(2022, 1, 1, 0, 15, 25), 'Machine': 'machine_2'}, {'Job': 'job_9', 'Start': datetime.datetime(2022, 1, 1, 0, 15, 25), 'Finish': datetime.datetime(2022, 1, 1, 0, 17, 1), 'Machine': 'machine_2'}, {'Job': 'job_6', 'Start': datetime.datetime(2022, 1, 1, 0, 17, 1), 'Finish': datetime.datetime(2022, 1, 1, 0, 18, 7), 'Machine': 'machine_2'}, {'Job': 'job_5', 'Start': datetime.datetime(2022, 1, 1, 0, 18, 7), 'Finish': datetime.datetime(2022, 1, 1, 0, 19, 27), 'Machine': 'machine_2'}, {'Job': 'job_4', 'Start': datetime.datetime(2022, 1, 1, 0, 0), 'Finish': datetime.datetime(2022, 1, 1, 0, 1, 9), 'Machine': 'machine_3'}, {'Job': 'job_9', 'Start': datetime.datetime(2022, 1, 1, 0, 1, 9), 'Finish': datetime.datetime(2022, 1, 1, 0, 1, 59), 'Machine': 'machine_3'}, {'Job': 'job_1', 'Start': datetime.datetime(2022, 1, 1, 0, 1, 59), 'Finish': datetime.datetime(2022, 1, 1, 0, 2, 49), 'Machine': 'machine_3'}, {'Job': 'job_8', 'Start': datetime.datetime(2022, 1, 1, 0, 2, 49), 'Finish': datetime.datetime(2022, 1, 1, 0, 4, 10), 'Machine': 'machine_3'}, {'Job': 'job_7', 'Start': datetime.datetime(2022, 1, 1, 0, 4, 10), 'Finish': datetime.datetime(2022, 1, 1, 0, 5, 32), 'Machine': 'machine_3'}, {'Job': 'job_6', 'Start': datetime.datetime(2022, 1, 1, 0, 7, 32), 'Finish': datetime.datetime(2022, 1, 1, 0, 9, 8), 'Machine': 'machine_3'}, {'Job': 'job_3', 'Start': datetime.datetime(2022, 1, 1, 0, 9, 11), 'Finish': datetime.datetime(2022, 1, 1, 0, 10, 5), 'Machine': 'machine_3'}, {'Job': 'job_2', 'Start': datetime.datetime(2022, 1, 1, 0, 15, 25), 'Finish': datetime.datetime(2022, 1, 1, 0, 16, 42), 'Machine': 'machine_3'}, {'Job': 'job_0', 'Start': datetime.datetime(2022, 1, 1, 0, 16, 42), 'Finish': datetime.datetime(2022, 1, 1, 0, 18, 14), 'Machine': 'machine_3'}, {'Job': 'job_5', 'Start': datetime.datetime(2022, 1, 1, 0, 21, 38), 'Finish': datetime.datetime(2022, 1, 1, 0, 22, 57), 'Machine': 'machine_3'}, {'Job': 'job_7', 'Start': datetime.datetime(2022, 1, 1, 0, 0), 'Finish': datetime.datetime(2022, 1, 1, 0, 1, 38), 'Machine': 'machine_4'}, {'Job': 'job_0', 'Start': datetime.datetime(2022, 1, 1, 0, 1, 38), 'Finish': datetime.datetime(2022, 1, 1, 0, 3, 6), 'Machine': 'machine_4'}, {'Job': 'job_5', 'Start': datetime.datetime(2022, 1, 1, 0, 3, 6), 'Finish': datetime.datetime(2022, 1, 1, 0, 4, 27), 'Machine': 'machine_4'}, {'Job': 'job_4', 'Start': datetime.datetime(2022, 1, 1, 0, 4, 27), 'Finish': datetime.datetime(2022, 1, 1, 0, 5, 55), 'Machine': 'machine_4'}, {'Job': 'job_6', 'Start': datetime.datetime(2022, 1, 1, 0, 5, 55), 'Finish': datetime.datetime(2022, 1, 1, 0, 7, 32), 'Machine': 'machine_4'}, {'Job': 'job_3', 'Start': datetime.datetime(2022, 1, 1, 0, 7, 32), 'Finish': datetime.datetime(2022, 1, 1, 0, 9, 11), 'Machine': 'machine_4'}, {'Job': 'job_1', 'Start': datetime.datetime(2022, 1, 1, 0, 9, 11), 'Finish': datetime.datetime(2022, 1, 1, 0, 10, 26), 'Machine': 'machine_4'}, {'Job': 'job_9', 'Start': datetime.datetime(2022, 1, 1, 0, 10, 26), 'Finish': datetime.datetime(2022, 1, 1, 0, 11, 47), 'Machine': 'machine_4'}, {'Job': 'job_8', 'Start': datetime.datetime(2022, 1, 1, 0, 11, 47), 'Finish': datetime.datetime(2022, 1, 1, 0, 13, 3), 'Machine': 'machine_4'}, {'Job': 'job_2', 'Start': datetime.datetime(2022, 1, 1, 0, 13, 3), 'Finish': datetime.datetime(2022, 1, 1, 0, 14, 28), 'Machine': 'machine_4'}, {'Job': 'job_1', 'Start': datetime.datetime(2022, 1, 1, 0, 0), 'Finish': datetime.datetime(2022, 1, 1, 0, 1, 12), 'Machine': 'machine_5'}, {'Job': 'job_5', 'Start': datetime.datetime(2022, 1, 1, 0, 4, 27), 'Finish': datetime.datetime(2022, 1, 1, 0, 5, 31), 'Machine': 'machine_5'}, {'Job': 'job_0', 'Start': datetime.datetime(2022, 1, 1, 0, 6, 41), 'Finish': datetime.datetime(2022, 1, 1, 0, 8, 20), 'Machine': 'machine_5'}, {'Job': 'job_7', 'Start': datetime.datetime(2022, 1, 1, 0, 8, 20), 'Finish': datetime.datetime(2022, 1, 1, 0, 9, 54), 'Machine': 'machine_5'}, {'Job': 'job_2', 'Start': datetime.datetime(2022, 1, 1, 0, 9, 54), 'Finish': datetime.datetime(2022, 1, 1, 0, 11, 19), 'Machine': 'machine_5'}, {'Job': 'job_3', 'Start': datetime.datetime(2022, 1, 1, 0, 11, 20), 'Finish': datetime.datetime(2022, 1, 1, 0, 12, 26), 'Machine': 'machine_5'}, {'Job': 'job_9', 'Start': datetime.datetime(2022, 1, 1, 0, 12, 26), 'Finish': datetime.datetime(2022, 1, 1, 0, 13, 25), 'Machine': 'machine_5'}, {'Job': 'job_8', 'Start': datetime.datetime(2022, 1, 1, 0, 13, 25), 'Finish': datetime.datetime(2022, 1, 1, 0, 14, 23), 'Machine': 'machine_5'}, {'Job': 'job_4', 'Start': datetime.datetime(2022, 1, 1, 0, 14, 31), 'Finish': datetime.datetime(2022, 1, 1, 0, 15, 39), 'Machine': 'machine_5'}, {'Job': 'job_6', 'Start': datetime.datetime(2022, 1, 1, 0, 18, 7), 'Finish': datetime.datetime(2022, 1, 1, 0, 19, 46), 'Machine': 'machine_5'}, {'Job': 'job_8', 'Start': datetime.datetime(2022, 1, 1, 0, 1, 34), 'Finish': datetime.datetime(2022, 1, 1, 0, 2, 45), 'Machine': 'machine_6'}, {'Job': 'job_7', 'Start': datetime.datetime(2022, 1, 1, 0, 2, 45), 'Finish': datetime.datetime(2022, 1, 1, 0, 3, 58), 'Machine': 'machine_6'}, {'Job': 'job_1', 'Start': datetime.datetime(2022, 1, 1, 0, 3, 58), 'Finish': datetime.datetime(2022, 1, 1, 0, 5, 7), 'Machine': 'machine_6'}, {'Job': 'job_0', 'Start': datetime.datetime(2022, 1, 1, 0, 5, 7), 'Finish': datetime.datetime(2022, 1, 1, 0, 6, 41), 'Machine': 'machine_6'}, {'Job': 'job_2', 'Start': datetime.datetime(2022, 1, 1, 0, 6, 41), 'Finish': datetime.datetime(2022, 1, 1, 0, 7, 45), 'Machine': 'machine_6'}, {'Job': 'job_5', 'Start': datetime.datetime(2022, 1, 1, 0, 7, 45), 'Finish': datetime.datetime(2022, 1, 1, 0, 8, 51), 'Machine': 'machine_6'}, {'Job': 'job_9', 'Start': datetime.datetime(2022, 1, 1, 0, 8, 53), 'Finish': datetime.datetime(2022, 1, 1, 0, 9, 51), 'Machine': 'machine_6'}, {'Job': 'job_3', 'Start': datetime.datetime(2022, 1, 1, 0, 10, 5), 'Finish': datetime.datetime(2022, 1, 1, 0, 11, 20), 'Machine': 'machine_6'}, {'Job': 'job_4', 'Start': datetime.datetime(2022, 1, 1, 0, 12, 56), 'Finish': datetime.datetime(2022, 1, 1, 0, 14, 31), 'Machine': 'machine_6'}, {'Job': 'job_6', 'Start': datetime.datetime(2022, 1, 1, 0, 19, 46), 'Finish': datetime.datetime(2022, 1, 1, 0, 20, 38), 'Machine': 'machine_6'}, {'Job': 'job_6', 'Start': datetime.datetime(2022, 1, 1, 0, 0), 'Finish': datetime.datetime(2022, 1, 1, 0, 0, 50), 'Machine': 'machine_7'}, {'Job': 'job_3', 'Start': datetime.datetime(2022, 1, 1, 0, 0, 50), 'Finish': datetime.datetime(2022, 1, 1, 0, 2, 24), 'Machine': 'machine_7'}, {'Job': 'job_8', 'Start': datetime.datetime(2022, 1, 1, 0, 4, 10), 'Finish': datetime.datetime(2022, 1, 1, 0, 5, 35), 'Machine': 'machine_7'}, {'Job': 'job_9', 'Start': datetime.datetime(2022, 1, 1, 0, 5, 35), 'Finish': datetime.datetime(2022, 1, 1, 0, 6, 31), 'Machine': 'machine_7'}, {'Job': 'job_7', 'Start': datetime.datetime(2022, 1, 1, 0, 9, 54), 'Finish': datetime.datetime(2022, 1, 1, 0, 11, 19), 'Machine': 'machine_7'}, {'Job': 'job_2', 'Start': datetime.datetime(2022, 1, 1, 0, 11, 19), 'Finish': datetime.datetime(2022, 1, 1, 0, 12, 37), 'Machine': 'machine_7'}, {'Job': 'job_0', 'Start': datetime.datetime(2022, 1, 1, 0, 13, 6), 'Finish': datetime.datetime(2022, 1, 1, 0, 14, 45), 'Machine': 'machine_7'}, {'Job': 'job_4', 'Start': datetime.datetime(2022, 1, 1, 0, 15, 39), 'Finish': datetime.datetime(2022, 1, 1, 0, 16, 46), 'Machine': 'machine_7'}, {'Job': 'job_5', 'Start': datetime.datetime(2022, 1, 1, 0, 19, 27), 'Finish': datetime.datetime(2022, 1, 1, 0, 20, 36), 'Machine': 'machine_7'}, {'Job': 'job_1', 'Start': datetime.datetime(2022, 1, 1, 0, 21, 58), 'Finish': datetime.datetime(2022, 1, 1, 0, 23, 32), 'Machine': 'machine_7'}, {'Job': 'job_2', 'Start': datetime.datetime(2022, 1, 1, 0, 1, 23), 'Finish': datetime.datetime(2022, 1, 1, 0, 2, 24), 'Machine': 'machine_8'}, {'Job': 'job_0', 'Start': datetime.datetime(2022, 1, 1, 0, 3, 6), 'Finish': datetime.datetime(2022, 1, 1, 0, 4, 14), 'Machine': 'machine_8'}, {'Job': 'job_9', 'Start': datetime.datetime(2022, 1, 1, 0, 4, 27), 'Finish': datetime.datetime(2022, 1, 1, 0, 5, 34), 'Machine': 'machine_8'}, {'Job': 'job_4', 'Start': datetime.datetime(2022, 1, 1, 0, 7, 17), 'Finish': datetime.datetime(2022, 1, 1, 0, 8, 52), 'Machine': 'machine_8'}, {'Job': 'job_5', 'Start': datetime.datetime(2022, 1, 1, 0, 8, 52), 'Finish': datetime.datetime(2022, 1, 1, 0, 10, 12), 'Machine': 'machine_8'}, {'Job': 'job_6', 'Start': datetime.datetime(2022, 1, 1, 0, 12, 6), 'Finish': datetime.datetime(2022, 1, 1, 0, 13, 43), 'Machine': 'machine_8'}, {'Job': 'job_7', 'Start': datetime.datetime(2022, 1, 1, 0, 13, 43), 'Finish': datetime.datetime(2022, 1, 1, 0, 15, 18), 'Machine': 'machine_8'}, {'Job': 'job_8', 'Start': datetime.datetime(2022, 1, 1, 0, 15, 18), 'Finish': datetime.datetime(2022, 1, 1, 0, 16, 51), 'Machine': 'machine_8'}, {'Job': 'job_3', 'Start': datetime.datetime(2022, 1, 1, 0, 16, 51), 'Finish': datetime.datetime(2022, 1, 1, 0, 17, 58), 'Machine': 'machine_8'}, {'Job': 'job_1', 'Start': datetime.datetime(2022, 1, 1, 0, 17, 58), 'Finish': datetime.datetime(2022, 1, 1, 0, 19, 4), 'Machine': 'machine_8'}, {'Job': 'job_2', 'Start': datetime.datetime(2022, 1, 1, 0, 0), 'Finish': datetime.datetime(2022, 1, 1, 0, 1, 23), 'Machine': 'machine_9'}, {'Job': 'job_4', 'Start': datetime.datetime(2022, 1, 1, 0, 5, 55), 'Finish': datetime.datetime(2022, 1, 1, 0, 7, 17), 'Machine': 'machine_9'}, {'Job': 'job_9', 'Start': datetime.datetime(2022, 1, 1, 0, 7, 17), 'Finish': datetime.datetime(2022, 1, 1, 0, 8, 53), 'Machine': 'machine_9'}, {'Job': 'job_0', 'Start': datetime.datetime(2022, 1, 1, 0, 11, 49), 'Finish': datetime.datetime(2022, 1, 1, 0, 13, 6), 'Machine': 'machine_9'}, {'Job': 'job_3', 'Start': datetime.datetime(2022, 1, 1, 0, 14, 24), 'Finish': datetime.datetime(2022, 1, 1, 0, 15, 27), 'Machine': 'machine_9'}, {'Job': 'job_7', 'Start': datetime.datetime(2022, 1, 1, 0, 15, 27), 'Finish': datetime.datetime(2022, 1, 1, 0, 16, 46), 'Machine': 'machine_9'}, {'Job': 'job_8', 'Start': datetime.datetime(2022, 1, 1, 0, 16, 51), 'Finish': datetime.datetime(2022, 1, 1, 0, 18, 28), 'Machine': 'machine_9'}, {'Job': 'job_5', 'Start': datetime.datetime(2022, 1, 1, 0, 20, 36), 'Finish': datetime.datetime(2022, 1, 1, 0, 21, 38), 'Machine': 'machine_9'}, {'Job': 'job_6', 'Start': datetime.datetime(2022, 1, 1, 0, 21, 38), 'Finish': datetime.datetime(2022, 1, 1, 0, 22, 49), 'Machine': 'machine_9'}, {'Job': 'job_1', 'Start': datetime.datetime(2022, 1, 1, 0, 23, 32), 'Finish': datetime.datetime(2022, 1, 1, 0, 24, 35), 'Machine': 'machine_9'}]\n"
     ]
    },
    {
     "data": {
      "application/vnd.plotly.v1+json": {
       "config": {
        "plotlyServerURL": "https://plot.ly"
       },
       "data": [
        {
         "alignmentgroup": "True",
         "base": [
          "2022-01-01T00:00:00",
          "2022-01-01T00:07:44",
          "2022-01-01T00:08:50",
          "2022-01-01T00:02:49",
          "2022-01-01T00:11:47",
          "2022-01-01T00:13:25",
          "2022-01-01T00:01:34",
          "2022-01-01T00:04:10",
          "2022-01-01T00:15:18",
          "2022-01-01T00:16:51"
         ],
         "hovertemplate": "Job=job_8<br>Start=%{base}<br>Finish=%{x}<br>Machine=%{y}<extra></extra>",
         "legendgroup": "job_8",
         "marker": {
          "color": "#636efa",
          "pattern": {
           "shape": ""
          }
         },
         "name": "job_8",
         "offsetgroup": "job_8",
         "orientation": "h",
         "showlegend": true,
         "textposition": "auto",
         "type": "bar",
         "x": [
          94000,
          66000,
          90000,
          81000,
          76000,
          58000,
          71000,
          85000,
          93000,
          97000
         ],
         "xaxis": "x",
         "y": [
          "machine_0",
          "machine_1",
          "machine_2",
          "machine_3",
          "machine_4",
          "machine_5",
          "machine_6",
          "machine_7",
          "machine_8",
          "machine_9"
         ],
         "yaxis": "y"
        },
        {
         "alignmentgroup": "True",
         "base": [
          "2022-01-01T00:01:59",
          "2022-01-01T00:03:05",
          "2022-01-01T00:15:25",
          "2022-01-01T00:01:09",
          "2022-01-01T00:10:26",
          "2022-01-01T00:12:26",
          "2022-01-01T00:08:53",
          "2022-01-01T00:05:35",
          "2022-01-01T00:04:27",
          "2022-01-01T00:07:17"
         ],
         "hovertemplate": "Job=job_9<br>Start=%{base}<br>Finish=%{x}<br>Machine=%{y}<extra></extra>",
         "legendgroup": "job_9",
         "marker": {
          "color": "#EF553B",
          "pattern": {
           "shape": ""
          }
         },
         "name": "job_9",
         "offsetgroup": "job_9",
         "orientation": "h",
         "showlegend": true,
         "textposition": "auto",
         "type": "bar",
         "x": [
          59000,
          82000,
          96000,
          50000,
          81000,
          59000,
          58000,
          56000,
          67000,
          96000
         ],
         "xaxis": "x",
         "y": [
          "machine_0",
          "machine_1",
          "machine_2",
          "machine_3",
          "machine_4",
          "machine_5",
          "machine_6",
          "machine_7",
          "machine_8",
          "machine_9"
         ],
         "yaxis": "y"
        },
        {
         "alignmentgroup": "True",
         "base": [
          "2022-01-01T00:02:58",
          "2022-01-01T00:05:28",
          "2022-01-01T00:14:30",
          "2022-01-01T00:15:25",
          "2022-01-01T00:13:03",
          "2022-01-01T00:09:54",
          "2022-01-01T00:06:41",
          "2022-01-01T00:11:19",
          "2022-01-01T00:01:23",
          "2022-01-01T00:00:00"
         ],
         "hovertemplate": "Job=job_2<br>Start=%{base}<br>Finish=%{x}<br>Machine=%{y}<extra></extra>",
         "legendgroup": "job_2",
         "marker": {
          "color": "#00cc96",
          "pattern": {
           "shape": ""
          }
         },
         "name": "job_2",
         "offsetgroup": "job_2",
         "orientation": "h",
         "showlegend": true,
         "textposition": "auto",
         "type": "bar",
         "x": [
          83000,
          65000,
          55000,
          77000,
          85000,
          85000,
          64000,
          78000,
          61000,
          83000
         ],
         "xaxis": "x",
         "y": [
          "machine_0",
          "machine_1",
          "machine_2",
          "machine_3",
          "machine_4",
          "machine_5",
          "machine_6",
          "machine_7",
          "machine_8",
          "machine_9"
         ],
         "yaxis": "y"
        },
        {
         "alignmentgroup": "True",
         "base": [
          "2022-01-01T00:08:52",
          "2022-01-01T00:16:46",
          "2022-01-01T00:11:49",
          "2022-01-01T00:00:00",
          "2022-01-01T00:04:27",
          "2022-01-01T00:14:31",
          "2022-01-01T00:12:56",
          "2022-01-01T00:15:39",
          "2022-01-01T00:07:17",
          "2022-01-01T00:05:55"
         ],
         "hovertemplate": "Job=job_4<br>Start=%{base}<br>Finish=%{x}<br>Machine=%{y}<extra></extra>",
         "legendgroup": "job_4",
         "marker": {
          "color": "#ab63fa",
          "pattern": {
           "shape": ""
          }
         },
         "name": "job_4",
         "offsetgroup": "job_4",
         "orientation": "h",
         "showlegend": true,
         "textposition": "auto",
         "type": "bar",
         "x": [
          99000,
          86000,
          67000,
          69000,
          88000,
          68000,
          95000,
          67000,
          95000,
          82000
         ],
         "xaxis": "x",
         "y": [
          "machine_0",
          "machine_1",
          "machine_2",
          "machine_3",
          "machine_4",
          "machine_5",
          "machine_6",
          "machine_7",
          "machine_8",
          "machine_9"
         ],
         "yaxis": "y"
        },
        {
         "alignmentgroup": "True",
         "base": [
          "2022-01-01T00:10:31",
          "2022-01-01T00:01:39",
          "2022-01-01T00:17:01",
          "2022-01-01T00:07:32",
          "2022-01-01T00:05:55",
          "2022-01-01T00:18:07",
          "2022-01-01T00:19:46",
          "2022-01-01T00:00:00",
          "2022-01-01T00:12:06",
          "2022-01-01T00:21:38"
         ],
         "hovertemplate": "Job=job_6<br>Start=%{base}<br>Finish=%{x}<br>Machine=%{y}<extra></extra>",
         "legendgroup": "job_6",
         "marker": {
          "color": "#FFA15A",
          "pattern": {
           "shape": ""
          }
         },
         "name": "job_6",
         "offsetgroup": "job_6",
         "orientation": "h",
         "showlegend": true,
         "textposition": "auto",
         "type": "bar",
         "x": [
          95000,
          86000,
          66000,
          96000,
          97000,
          99000,
          52000,
          50000,
          97000,
          71000
         ],
         "xaxis": "x",
         "y": [
          "machine_0",
          "machine_1",
          "machine_2",
          "machine_3",
          "machine_4",
          "machine_5",
          "machine_6",
          "machine_7",
          "machine_8",
          "machine_9"
         ],
         "yaxis": "y"
        },
        {
         "alignmentgroup": "True",
         "base": [
          "2022-01-01T00:12:06",
          "2022-01-01T00:06:33",
          "2022-01-01T00:05:32",
          "2022-01-01T00:04:10",
          "2022-01-01T00:00:00",
          "2022-01-01T00:08:20",
          "2022-01-01T00:02:45",
          "2022-01-01T00:09:54",
          "2022-01-01T00:13:43",
          "2022-01-01T00:15:27"
         ],
         "hovertemplate": "Job=job_7<br>Start=%{base}<br>Finish=%{x}<br>Machine=%{y}<extra></extra>",
         "legendgroup": "job_7",
         "marker": {
          "color": "#19d3f3",
          "pattern": {
           "shape": ""
          }
         },
         "name": "job_7",
         "offsetgroup": "job_7",
         "orientation": "h",
         "showlegend": true,
         "textposition": "auto",
         "type": "bar",
         "x": [
          62000,
          71000,
          51000,
          82000,
          98000,
          94000,
          73000,
          85000,
          95000,
          79000
         ],
         "xaxis": "x",
         "y": [
          "machine_0",
          "machine_1",
          "machine_2",
          "machine_3",
          "machine_4",
          "machine_5",
          "machine_6",
          "machine_7",
          "machine_8",
          "machine_9"
         ],
         "yaxis": "y"
        },
        {
         "alignmentgroup": "True",
         "base": [
          "2022-01-01T00:13:08",
          "2022-01-01T00:04:27",
          "2022-01-01T00:02:24",
          "2022-01-01T00:09:11",
          "2022-01-01T00:07:32",
          "2022-01-01T00:11:20",
          "2022-01-01T00:10:05",
          "2022-01-01T00:00:50",
          "2022-01-01T00:16:51",
          "2022-01-01T00:14:24"
         ],
         "hovertemplate": "Job=job_3<br>Start=%{base}<br>Finish=%{x}<br>Machine=%{y}<extra></extra>",
         "legendgroup": "job_3",
         "marker": {
          "color": "#FF6692",
          "pattern": {
           "shape": ""
          }
         },
         "name": "job_3",
         "offsetgroup": "job_3",
         "orientation": "h",
         "showlegend": true,
         "textposition": "auto",
         "type": "bar",
         "x": [
          76000,
          61000,
          68000,
          54000,
          99000,
          66000,
          75000,
          94000,
          67000,
          63000
         ],
         "xaxis": "x",
         "y": [
          "machine_0",
          "machine_1",
          "machine_2",
          "machine_3",
          "machine_4",
          "machine_5",
          "machine_6",
          "machine_7",
          "machine_8",
          "machine_9"
         ],
         "yaxis": "y"
        },
        {
         "alignmentgroup": "True",
         "base": [
          "2022-01-01T00:14:45",
          "2022-01-01T00:08:50",
          "2022-01-01T00:10:20",
          "2022-01-01T00:16:42",
          "2022-01-01T00:01:38",
          "2022-01-01T00:06:41",
          "2022-01-01T00:05:07",
          "2022-01-01T00:13:06",
          "2022-01-01T00:03:06",
          "2022-01-01T00:11:49"
         ],
         "hovertemplate": "Job=job_0<br>Start=%{base}<br>Finish=%{x}<br>Machine=%{y}<extra></extra>",
         "legendgroup": "job_0",
         "marker": {
          "color": "#B6E880",
          "pattern": {
           "shape": ""
          }
         },
         "name": "job_0",
         "offsetgroup": "job_0",
         "orientation": "h",
         "showlegend": true,
         "textposition": "auto",
         "type": "bar",
         "x": [
          86000,
          67000,
          89000,
          92000,
          88000,
          99000,
          94000,
          99000,
          68000,
          77000
         ],
         "xaxis": "x",
         "y": [
          "machine_0",
          "machine_1",
          "machine_2",
          "machine_3",
          "machine_4",
          "machine_5",
          "machine_6",
          "machine_7",
          "machine_8",
          "machine_9"
         ],
         "yaxis": "y"
        },
        {
         "alignmentgroup": "True",
         "base": [
          "2022-01-01T00:19:04",
          "2022-01-01T00:20:36",
          "2022-01-01T00:12:56",
          "2022-01-01T00:01:59",
          "2022-01-01T00:09:11",
          "2022-01-01T00:00:00",
          "2022-01-01T00:03:58",
          "2022-01-01T00:21:58",
          "2022-01-01T00:17:58",
          "2022-01-01T00:23:32"
         ],
         "hovertemplate": "Job=job_1<br>Start=%{base}<br>Finish=%{x}<br>Machine=%{y}<extra></extra>",
         "legendgroup": "job_1",
         "marker": {
          "color": "#FF97FF",
          "pattern": {
           "shape": ""
          }
         },
         "name": "job_1",
         "offsetgroup": "job_1",
         "orientation": "h",
         "showlegend": true,
         "textposition": "auto",
         "type": "bar",
         "x": [
          92000,
          82000,
          94000,
          50000,
          75000,
          72000,
          69000,
          94000,
          66000,
          63000
         ],
         "xaxis": "x",
         "y": [
          "machine_0",
          "machine_1",
          "machine_2",
          "machine_3",
          "machine_4",
          "machine_5",
          "machine_6",
          "machine_7",
          "machine_8",
          "machine_9"
         ],
         "yaxis": "y"
        },
        {
         "alignmentgroup": "True",
         "base": [
          "2022-01-01T00:22:57",
          "2022-01-01T00:00:00",
          "2022-01-01T00:18:07",
          "2022-01-01T00:21:38",
          "2022-01-01T00:03:06",
          "2022-01-01T00:04:27",
          "2022-01-01T00:07:45",
          "2022-01-01T00:19:27",
          "2022-01-01T00:08:52",
          "2022-01-01T00:20:36"
         ],
         "hovertemplate": "Job=job_5<br>Start=%{base}<br>Finish=%{x}<br>Machine=%{y}<extra></extra>",
         "legendgroup": "job_5",
         "marker": {
          "color": "#FECB52",
          "pattern": {
           "shape": ""
          }
         },
         "name": "job_5",
         "offsetgroup": "job_5",
         "orientation": "h",
         "showlegend": true,
         "textposition": "auto",
         "type": "bar",
         "x": [
          88000,
          99000,
          80000,
          79000,
          81000,
          64000,
          66000,
          69000,
          80000,
          62000
         ],
         "xaxis": "x",
         "y": [
          "machine_0",
          "machine_1",
          "machine_2",
          "machine_3",
          "machine_4",
          "machine_5",
          "machine_6",
          "machine_7",
          "machine_8",
          "machine_9"
         ],
         "yaxis": "y"
        }
       ],
       "layout": {
        "barmode": "overlay",
        "legend": {
         "title": {
          "text": "Job"
         },
         "tracegroupgap": 0
        },
        "margin": {
         "t": 60
        },
        "template": {
         "data": {
          "bar": [
           {
            "error_x": {
             "color": "#2a3f5f"
            },
            "error_y": {
             "color": "#2a3f5f"
            },
            "marker": {
             "line": {
              "color": "#E5ECF6",
              "width": 0.5
             },
             "pattern": {
              "fillmode": "overlay",
              "size": 10,
              "solidity": 0.2
             }
            },
            "type": "bar"
           }
          ],
          "barpolar": [
           {
            "marker": {
             "line": {
              "color": "#E5ECF6",
              "width": 0.5
             },
             "pattern": {
              "fillmode": "overlay",
              "size": 10,
              "solidity": 0.2
             }
            },
            "type": "barpolar"
           }
          ],
          "carpet": [
           {
            "aaxis": {
             "endlinecolor": "#2a3f5f",
             "gridcolor": "white",
             "linecolor": "white",
             "minorgridcolor": "white",
             "startlinecolor": "#2a3f5f"
            },
            "baxis": {
             "endlinecolor": "#2a3f5f",
             "gridcolor": "white",
             "linecolor": "white",
             "minorgridcolor": "white",
             "startlinecolor": "#2a3f5f"
            },
            "type": "carpet"
           }
          ],
          "choropleth": [
           {
            "colorbar": {
             "outlinewidth": 0,
             "ticks": ""
            },
            "type": "choropleth"
           }
          ],
          "contour": [
           {
            "colorbar": {
             "outlinewidth": 0,
             "ticks": ""
            },
            "colorscale": [
             [
              0,
              "#0d0887"
             ],
             [
              0.1111111111111111,
              "#46039f"
             ],
             [
              0.2222222222222222,
              "#7201a8"
             ],
             [
              0.3333333333333333,
              "#9c179e"
             ],
             [
              0.4444444444444444,
              "#bd3786"
             ],
             [
              0.5555555555555556,
              "#d8576b"
             ],
             [
              0.6666666666666666,
              "#ed7953"
             ],
             [
              0.7777777777777778,
              "#fb9f3a"
             ],
             [
              0.8888888888888888,
              "#fdca26"
             ],
             [
              1,
              "#f0f921"
             ]
            ],
            "type": "contour"
           }
          ],
          "contourcarpet": [
           {
            "colorbar": {
             "outlinewidth": 0,
             "ticks": ""
            },
            "type": "contourcarpet"
           }
          ],
          "heatmap": [
           {
            "colorbar": {
             "outlinewidth": 0,
             "ticks": ""
            },
            "colorscale": [
             [
              0,
              "#0d0887"
             ],
             [
              0.1111111111111111,
              "#46039f"
             ],
             [
              0.2222222222222222,
              "#7201a8"
             ],
             [
              0.3333333333333333,
              "#9c179e"
             ],
             [
              0.4444444444444444,
              "#bd3786"
             ],
             [
              0.5555555555555556,
              "#d8576b"
             ],
             [
              0.6666666666666666,
              "#ed7953"
             ],
             [
              0.7777777777777778,
              "#fb9f3a"
             ],
             [
              0.8888888888888888,
              "#fdca26"
             ],
             [
              1,
              "#f0f921"
             ]
            ],
            "type": "heatmap"
           }
          ],
          "heatmapgl": [
           {
            "colorbar": {
             "outlinewidth": 0,
             "ticks": ""
            },
            "colorscale": [
             [
              0,
              "#0d0887"
             ],
             [
              0.1111111111111111,
              "#46039f"
             ],
             [
              0.2222222222222222,
              "#7201a8"
             ],
             [
              0.3333333333333333,
              "#9c179e"
             ],
             [
              0.4444444444444444,
              "#bd3786"
             ],
             [
              0.5555555555555556,
              "#d8576b"
             ],
             [
              0.6666666666666666,
              "#ed7953"
             ],
             [
              0.7777777777777778,
              "#fb9f3a"
             ],
             [
              0.8888888888888888,
              "#fdca26"
             ],
             [
              1,
              "#f0f921"
             ]
            ],
            "type": "heatmapgl"
           }
          ],
          "histogram": [
           {
            "marker": {
             "pattern": {
              "fillmode": "overlay",
              "size": 10,
              "solidity": 0.2
             }
            },
            "type": "histogram"
           }
          ],
          "histogram2d": [
           {
            "colorbar": {
             "outlinewidth": 0,
             "ticks": ""
            },
            "colorscale": [
             [
              0,
              "#0d0887"
             ],
             [
              0.1111111111111111,
              "#46039f"
             ],
             [
              0.2222222222222222,
              "#7201a8"
             ],
             [
              0.3333333333333333,
              "#9c179e"
             ],
             [
              0.4444444444444444,
              "#bd3786"
             ],
             [
              0.5555555555555556,
              "#d8576b"
             ],
             [
              0.6666666666666666,
              "#ed7953"
             ],
             [
              0.7777777777777778,
              "#fb9f3a"
             ],
             [
              0.8888888888888888,
              "#fdca26"
             ],
             [
              1,
              "#f0f921"
             ]
            ],
            "type": "histogram2d"
           }
          ],
          "histogram2dcontour": [
           {
            "colorbar": {
             "outlinewidth": 0,
             "ticks": ""
            },
            "colorscale": [
             [
              0,
              "#0d0887"
             ],
             [
              0.1111111111111111,
              "#46039f"
             ],
             [
              0.2222222222222222,
              "#7201a8"
             ],
             [
              0.3333333333333333,
              "#9c179e"
             ],
             [
              0.4444444444444444,
              "#bd3786"
             ],
             [
              0.5555555555555556,
              "#d8576b"
             ],
             [
              0.6666666666666666,
              "#ed7953"
             ],
             [
              0.7777777777777778,
              "#fb9f3a"
             ],
             [
              0.8888888888888888,
              "#fdca26"
             ],
             [
              1,
              "#f0f921"
             ]
            ],
            "type": "histogram2dcontour"
           }
          ],
          "mesh3d": [
           {
            "colorbar": {
             "outlinewidth": 0,
             "ticks": ""
            },
            "type": "mesh3d"
           }
          ],
          "parcoords": [
           {
            "line": {
             "colorbar": {
              "outlinewidth": 0,
              "ticks": ""
             }
            },
            "type": "parcoords"
           }
          ],
          "pie": [
           {
            "automargin": true,
            "type": "pie"
           }
          ],
          "scatter": [
           {
            "fillpattern": {
             "fillmode": "overlay",
             "size": 10,
             "solidity": 0.2
            },
            "type": "scatter"
           }
          ],
          "scatter3d": [
           {
            "line": {
             "colorbar": {
              "outlinewidth": 0,
              "ticks": ""
             }
            },
            "marker": {
             "colorbar": {
              "outlinewidth": 0,
              "ticks": ""
             }
            },
            "type": "scatter3d"
           }
          ],
          "scattercarpet": [
           {
            "marker": {
             "colorbar": {
              "outlinewidth": 0,
              "ticks": ""
             }
            },
            "type": "scattercarpet"
           }
          ],
          "scattergeo": [
           {
            "marker": {
             "colorbar": {
              "outlinewidth": 0,
              "ticks": ""
             }
            },
            "type": "scattergeo"
           }
          ],
          "scattergl": [
           {
            "marker": {
             "colorbar": {
              "outlinewidth": 0,
              "ticks": ""
             }
            },
            "type": "scattergl"
           }
          ],
          "scattermapbox": [
           {
            "marker": {
             "colorbar": {
              "outlinewidth": 0,
              "ticks": ""
             }
            },
            "type": "scattermapbox"
           }
          ],
          "scatterpolar": [
           {
            "marker": {
             "colorbar": {
              "outlinewidth": 0,
              "ticks": ""
             }
            },
            "type": "scatterpolar"
           }
          ],
          "scatterpolargl": [
           {
            "marker": {
             "colorbar": {
              "outlinewidth": 0,
              "ticks": ""
             }
            },
            "type": "scatterpolargl"
           }
          ],
          "scatterternary": [
           {
            "marker": {
             "colorbar": {
              "outlinewidth": 0,
              "ticks": ""
             }
            },
            "type": "scatterternary"
           }
          ],
          "surface": [
           {
            "colorbar": {
             "outlinewidth": 0,
             "ticks": ""
            },
            "colorscale": [
             [
              0,
              "#0d0887"
             ],
             [
              0.1111111111111111,
              "#46039f"
             ],
             [
              0.2222222222222222,
              "#7201a8"
             ],
             [
              0.3333333333333333,
              "#9c179e"
             ],
             [
              0.4444444444444444,
              "#bd3786"
             ],
             [
              0.5555555555555556,
              "#d8576b"
             ],
             [
              0.6666666666666666,
              "#ed7953"
             ],
             [
              0.7777777777777778,
              "#fb9f3a"
             ],
             [
              0.8888888888888888,
              "#fdca26"
             ],
             [
              1,
              "#f0f921"
             ]
            ],
            "type": "surface"
           }
          ],
          "table": [
           {
            "cells": {
             "fill": {
              "color": "#EBF0F8"
             },
             "line": {
              "color": "white"
             }
            },
            "header": {
             "fill": {
              "color": "#C8D4E3"
             },
             "line": {
              "color": "white"
             }
            },
            "type": "table"
           }
          ]
         },
         "layout": {
          "annotationdefaults": {
           "arrowcolor": "#2a3f5f",
           "arrowhead": 0,
           "arrowwidth": 1
          },
          "autotypenumbers": "strict",
          "coloraxis": {
           "colorbar": {
            "outlinewidth": 0,
            "ticks": ""
           }
          },
          "colorscale": {
           "diverging": [
            [
             0,
             "#8e0152"
            ],
            [
             0.1,
             "#c51b7d"
            ],
            [
             0.2,
             "#de77ae"
            ],
            [
             0.3,
             "#f1b6da"
            ],
            [
             0.4,
             "#fde0ef"
            ],
            [
             0.5,
             "#f7f7f7"
            ],
            [
             0.6,
             "#e6f5d0"
            ],
            [
             0.7,
             "#b8e186"
            ],
            [
             0.8,
             "#7fbc41"
            ],
            [
             0.9,
             "#4d9221"
            ],
            [
             1,
             "#276419"
            ]
           ],
           "sequential": [
            [
             0,
             "#0d0887"
            ],
            [
             0.1111111111111111,
             "#46039f"
            ],
            [
             0.2222222222222222,
             "#7201a8"
            ],
            [
             0.3333333333333333,
             "#9c179e"
            ],
            [
             0.4444444444444444,
             "#bd3786"
            ],
            [
             0.5555555555555556,
             "#d8576b"
            ],
            [
             0.6666666666666666,
             "#ed7953"
            ],
            [
             0.7777777777777778,
             "#fb9f3a"
            ],
            [
             0.8888888888888888,
             "#fdca26"
            ],
            [
             1,
             "#f0f921"
            ]
           ],
           "sequentialminus": [
            [
             0,
             "#0d0887"
            ],
            [
             0.1111111111111111,
             "#46039f"
            ],
            [
             0.2222222222222222,
             "#7201a8"
            ],
            [
             0.3333333333333333,
             "#9c179e"
            ],
            [
             0.4444444444444444,
             "#bd3786"
            ],
            [
             0.5555555555555556,
             "#d8576b"
            ],
            [
             0.6666666666666666,
             "#ed7953"
            ],
            [
             0.7777777777777778,
             "#fb9f3a"
            ],
            [
             0.8888888888888888,
             "#fdca26"
            ],
            [
             1,
             "#f0f921"
            ]
           ]
          },
          "colorway": [
           "#636efa",
           "#EF553B",
           "#00cc96",
           "#ab63fa",
           "#FFA15A",
           "#19d3f3",
           "#FF6692",
           "#B6E880",
           "#FF97FF",
           "#FECB52"
          ],
          "font": {
           "color": "#2a3f5f"
          },
          "geo": {
           "bgcolor": "white",
           "lakecolor": "white",
           "landcolor": "#E5ECF6",
           "showlakes": true,
           "showland": true,
           "subunitcolor": "white"
          },
          "hoverlabel": {
           "align": "left"
          },
          "hovermode": "closest",
          "mapbox": {
           "style": "light"
          },
          "paper_bgcolor": "white",
          "plot_bgcolor": "#E5ECF6",
          "polar": {
           "angularaxis": {
            "gridcolor": "white",
            "linecolor": "white",
            "ticks": ""
           },
           "bgcolor": "#E5ECF6",
           "radialaxis": {
            "gridcolor": "white",
            "linecolor": "white",
            "ticks": ""
           }
          },
          "scene": {
           "xaxis": {
            "backgroundcolor": "#E5ECF6",
            "gridcolor": "white",
            "gridwidth": 2,
            "linecolor": "white",
            "showbackground": true,
            "ticks": "",
            "zerolinecolor": "white"
           },
           "yaxis": {
            "backgroundcolor": "#E5ECF6",
            "gridcolor": "white",
            "gridwidth": 2,
            "linecolor": "white",
            "showbackground": true,
            "ticks": "",
            "zerolinecolor": "white"
           },
           "zaxis": {
            "backgroundcolor": "#E5ECF6",
            "gridcolor": "white",
            "gridwidth": 2,
            "linecolor": "white",
            "showbackground": true,
            "ticks": "",
            "zerolinecolor": "white"
           }
          },
          "shapedefaults": {
           "line": {
            "color": "#2a3f5f"
           }
          },
          "ternary": {
           "aaxis": {
            "gridcolor": "white",
            "linecolor": "white",
            "ticks": ""
           },
           "baxis": {
            "gridcolor": "white",
            "linecolor": "white",
            "ticks": ""
           },
           "bgcolor": "#E5ECF6",
           "caxis": {
            "gridcolor": "white",
            "linecolor": "white",
            "ticks": ""
           }
          },
          "title": {
           "x": 0.05
          },
          "xaxis": {
           "automargin": true,
           "gridcolor": "white",
           "linecolor": "white",
           "ticks": "",
           "title": {
            "standoff": 15
           },
           "zerolinecolor": "white",
           "zerolinewidth": 2
          },
          "yaxis": {
           "automargin": true,
           "gridcolor": "white",
           "linecolor": "white",
           "ticks": "",
           "title": {
            "standoff": 15
           },
           "zerolinecolor": "white",
           "zerolinewidth": 2
          }
         }
        },
        "xaxis": {
         "anchor": "y",
         "domain": [
          0,
          1
         ],
         "type": "date"
        },
        "yaxis": {
         "anchor": "x",
         "domain": [
          0,
          1
         ],
         "title": {
          "text": "Machine"
         }
        }
       }
      }
     },
     "metadata": {},
     "output_type": "display_data"
    },
    {
     "name": "stdout",
     "output_type": "stream",
     "text": [
      "[10 10 10 10 10 10 10 10 10 10]\n",
      "[10. 10. 10. 10. 10. 10. 10. 10. 10. 10.]\n"
     ]
    }
   ],
   "source": [
    "import numpy as np\n",
    "from src.jss_lite.jss_lite import jss_lite\n",
    "t=np.empty((4,1),dtype=object)\n",
    "import time\n",
    "env=jss_lite(instance_path='resources/jsp_instances/standard/abz5.txt')\n",
    "\n",
    "\n",
    "state=env.reset()\n",
    "for i in range(99999):\n",
    "    legal_action=env.get_legal_actions(state)\n",
    "    action=np.random.choice(len(legal_action), 1, p=(legal_action / legal_action.sum()))[0]\n",
    "    if action ==10:\n",
    "        state, reward, done, info=env.step(action)\n",
    "\n",
    "    else:\n",
    "        state, reward, done, info=env.step(action)\n",
    "    #print(action)\n",
    "    #tmp=(env.processed_and_max_time_job_matrix)\n",
    "    #print(env.count_finished_tasks_machine_matrix)\n",
    "    #print(env.current_timestep)\n",
    "    #env.render()\n",
    "    if done==True:\n",
    "        print(f\"finished! no legal actions possible after {i} steps\")\n",
    "        break\n",
    "env.render(x_bar=\"Job\",y_bar=\"Machine\")\n",
    "prod=(env.production_list)    \n",
    "print(env.count_finished_tasks_job_matrix)\n",
    "\n",
    "print(env.count_finished_tasks_machine_matrix)"
   ]
  },
  {
   "cell_type": "code",
   "execution_count": null,
   "metadata": {},
   "outputs": [],
   "source": []
  },
  {
   "cell_type": "code",
   "execution_count": null,
   "metadata": {},
   "outputs": [],
   "source": []
  },
  {
   "cell_type": "code",
   "execution_count": 4,
   "metadata": {},
   "outputs": [
    {
     "ename": "TypeError",
     "evalue": "cannot unpack non-iterable int object",
     "output_type": "error",
     "traceback": [
      "\u001b[0;31m---------------------------------------------------------------------------\u001b[0m",
      "\u001b[0;31mTypeError\u001b[0m                                 Traceback (most recent call last)",
      "\u001b[1;32m/Users/felix/sciebo/masterarbeit/progra/model-based_rl/test_environments.ipynb Zelle 5\u001b[0m in \u001b[0;36m<cell line: 4>\u001b[0;34m()\u001b[0m\n\u001b[1;32m      <a href='vscode-notebook-cell:/Users/felix/sciebo/masterarbeit/progra/model-based_rl/test_environments.ipynb#X61sZmlsZQ%3D%3D?line=0'>1</a>\u001b[0m d \u001b[39m=\u001b[39m {\u001b[39m2\u001b[39m:\u001b[39m3\u001b[39m, \u001b[39m1\u001b[39m:\u001b[39m89\u001b[39m, \u001b[39m4\u001b[39m:\u001b[39m5\u001b[39m, \u001b[39m3\u001b[39m:\u001b[39m0\u001b[39m}\n\u001b[1;32m      <a href='vscode-notebook-cell:/Users/felix/sciebo/masterarbeit/progra/model-based_rl/test_environments.ipynb#X61sZmlsZQ%3D%3D?line=1'>2</a>\u001b[0m sd \u001b[39m=\u001b[39m \u001b[39msorted\u001b[39m(d\u001b[39m.\u001b[39mkeys())\n\u001b[0;32m----> <a href='vscode-notebook-cell:/Users/felix/sciebo/masterarbeit/progra/model-based_rl/test_environments.ipynb#X61sZmlsZQ%3D%3D?line=3'>4</a>\u001b[0m \u001b[39mfor\u001b[39;00m k,v \u001b[39min\u001b[39;00m sd:\n\u001b[1;32m      <a href='vscode-notebook-cell:/Users/felix/sciebo/masterarbeit/progra/model-based_rl/test_environments.ipynb#X61sZmlsZQ%3D%3D?line=4'>5</a>\u001b[0m     \u001b[39mprint\u001b[39m (k, v)\n",
      "\u001b[0;31mTypeError\u001b[0m: cannot unpack non-iterable int object"
     ]
    }
   ],
   "source": [
    "d = {'Job': 'job_8', 'Start': datetime.datetime(2022, 1, 1, 0, 0), 'Finish': datetime.datetime(2022, 1, 1, 0, 1, 34), 'Machine': 'machine_0'}, {'Job': 'job_9', 'Start': datetime.datetime(2022, 1, 1, 0, 1, 59), 'Finish': datetime.datetime(2022, 1, 1, 0, 2, 58), 'Machine': 'machine_0'}, {'Job': 'job_2', 'Start': datetime.datetime(2022, 1, 1, 0, 2, 58), 'Finish': datetime.datetime(2022, 1, 1, 0, 4, 21), 'Machine': 'machine_0'}, {'Job': 'job_4', 'Start': datetime.datetime(2022, 1, 1, 0, 8, 52), 'Finish': datetime.datetime(2022, 1, 1, 0, 10, 31), 'Machine': 'machine_0'}, {'Job': 'job_6', 'Start': datetime.datetime(2022, 1, 1, 0, 10, 31), 'Finish': datetime.datetime(2022, 1, 1, 0, 12, 6), 'Machine': 'machine_0'}, {'Job': 'job_7', 'Start': datetime.datetime(2022, 1, 1, 0, 12, 6), 'Finish': datetime.datetime(2022, 1, 1, 0, 13, 8), 'Machine': 'machine_0'}, {'Job': 'job_3', 'Start': datetime.datetime(2022, 1, 1, 0, 13, 8), 'Finish': datetime.datetime(2022, 1, 1, 0, 14, 24), 'Machine': 'machine_0'}, {'Job': 'job_0', 'Start': datetime.datetime(2022, 1, 1, 0, 14, 45), 'Finish': datetime.datetime(2022, 1, 1, 0, 16, 11), 'Machine': 'machine_0'}, {'Job': 'job_1', 'Start': datetime.datetime(2022, 1, 1, 0, 19, 4), 'Finish': datetime.datetime(2022, 1, 1, 0, 20, 36), 'Machine': 'machine_0'}, {'Job': 'job_5', 'Start': datetime.datetime(2022, 1, 1, 0, 22, 57), 'Finish': datetime.datetime(2022, 1, 1, 0, 24, 25), 'Machine': 'machine_0'}, {'Job': 'job_5', 'Start': datetime.datetime(2022, 1, 1, 0, 0), 'Finish': datetime.datetime(2022, 1, 1, 0, 1, 39), 'Machine': 'machine_1'}, {'Job': 'job_6', 'Start': datetime.datetime(2022, 1, 1, 0, 1, 39), 'Finish': datetime.datetime(2022, 1, 1, 0, 3, 5), 'Machine': 'machine_1'}, {'Job': 'job_9', 'Start': datetime.datetime(2022, 1, 1, 0, 3, 5), 'Finish': datetime.datetime(2022, 1, 1, 0, 4, 27), 'Machine': 'machine_1'}, {'Job': 'job_3', 'Start': datetime.datetime(2022, 1, 1, 0, 4, 27), 'Finish': datetime.datetime(2022, 1, 1, 0, 5, 28), 'Machine': 'machine_1'}, {'Job': 'job_2', 'Start': datetime.datetime(2022, 1, 1, 0, 5, 28), 'Finish': datetime.datetime(2022, 1, 1, 0, 6, 33), 'Machine': 'machine_1'}, {'Job': 'job_7', 'Start': datetime.datetime(2022, 1, 1, 0, 6, 33), 'Finish': datetime.datetime(2022, 1, 1, 0, 7, 44), 'Machine': 'machine_1'}, {'Job': 'job_8', 'Start': datetime.datetime(2022, 1, 1, 0, 7, 44), 'Finish': datetime.datetime(2022, 1, 1, 0, 8, 50), 'Machine': 'machine_1'}, {'Job': 'job_0', 'Start': datetime.datetime(2022, 1, 1, 0, 8, 50), 'Finish': datetime.datetime(2022, 1, 1, 0, 9, 57), 'Machine': 'machine_1'}, {'Job': 'job_4', 'Start': datetime.datetime(2022, 1, 1, 0, 16, 46), 'Finish': datetime.datetime(2022, 1, 1, 0, 18, 12), 'Machine': 'machine_1'}, {'Job': 'job_1', 'Start': datetime.datetime(2022, 1, 1, 0, 20, 36), 'Finish': datetime.datetime(2022, 1, 1, 0, 21, 58), 'Machine': 'machine_1'}, {'Job': 'job_3', 'Start': datetime.datetime(2022, 1, 1, 0, 2, 24), 'Finish': datetime.datetime(2022, 1, 1, 0, 3, 32), 'Machine': 'machine_2'}, {'Job': 'job_7', 'Start': datetime.datetime(2022, 1, 1, 0, 5, 32), 'Finish': datetime.datetime(2022, 1, 1, 0, 6, 23), 'Machine': 'machine_2'}, {'Job': 'job_8', 'Start': datetime.datetime(2022, 1, 1, 0, 8, 50), 'Finish': datetime.datetime(2022, 1, 1, 0, 10, 20), 'Machine': 'machine_2'}, {'Job': 'job_0', 'Start': datetime.datetime(2022, 1, 1, 0, 10, 20), 'Finish': datetime.datetime(2022, 1, 1, 0, 11, 49), 'Machine': 'machine_2'}, {'Job': 'job_4', 'Start': datetime.datetime(2022, 1, 1, 0, 11, 49), 'Finish': datetime.datetime(2022, 1, 1, 0, 12, 56), 'Machine': 'machine_2'}, {'Job': 'job_1', 'Start': datetime.datetime(2022, 1, 1, 0, 12, 56), 'Finish': datetime.datetime(2022, 1, 1, 0, 14, 30), 'Machine': 'machine_2'}, {'Job': 'job_2', 'Start': datetime.datetime(2022, 1, 1, 0, 14, 30), 'Finish': datetime.datetime(2022, 1, 1, 0, 15, 25), 'Machine': 'machine_2'}, {'Job': 'job_9', 'Start': datetime.datetime(2022, 1, 1, 0, 15, 25), 'Finish': datetime.datetime(2022, 1, 1, 0, 17, 1), 'Machine': 'machine_2'}, {'Job': 'job_6', 'Start': datetime.datetime(2022, 1, 1, 0, 17, 1), 'Finish': datetime.datetime(2022, 1, 1, 0, 18, 7), 'Machine': 'machine_2'}, {'Job': 'job_5', 'Start': datetime.datetime(2022, 1, 1, 0, 18, 7), 'Finish': datetime.datetime(2022, 1, 1, 0, 19, 27), 'Machine': 'machine_2'}, {'Job': 'job_4', 'Start': datetime.datetime(2022, 1, 1, 0, 0), 'Finish': datetime.datetime(2022, 1, 1, 0, 1, 9), 'Machine': 'machine_3'}, {'Job': 'job_9', 'Start': datetime.datetime(2022, 1, 1, 0, 1, 9), 'Finish': datetime.datetime(2022, 1, 1, 0, 1, 59), 'Machine': 'machine_3'}, {'Job': 'job_1', 'Start': datetime.datetime(2022, 1, 1, 0, 1, 59), 'Finish': datetime.datetime(2022, 1, 1, 0, 2, 49), 'Machine': 'machine_3'}, {'Job': 'job_8', 'Start': datetime.datetime(2022, 1, 1, 0, 2, 49), 'Finish': datetime.datetime(2022, 1, 1, 0, 4, 10), 'Machine': 'machine_3'}, {'Job': 'job_7', 'Start': datetime.datetime(2022, 1, 1, 0, 4, 10), 'Finish': datetime.datetime(2022, 1, 1, 0, 5, 32), 'Machine': 'machine_3'}, {'Job': 'job_6', 'Start': datetime.datetime(2022, 1, 1, 0, 7, 32), 'Finish': datetime.datetime(2022, 1, 1, 0, 9, 8), 'Machine': 'machine_3'}, {'Job': 'job_3', 'Start': datetime.datetime(2022, 1, 1, 0, 9, 11), 'Finish': datetime.datetime(2022, 1, 1, 0, 10, 5), 'Machine': 'machine_3'}, {'Job': 'job_2', 'Start': datetime.datetime(2022, 1, 1, 0, 15, 25), 'Finish': datetime.datetime(2022, 1, 1, 0, 16, 42), 'Machine': 'machine_3'}, {'Job': 'job_0', 'Start': datetime.datetime(2022, 1, 1, 0, 16, 42), 'Finish': datetime.datetime(2022, 1, 1, 0, 18, 14), 'Machine': 'machine_3'}, {'Job': 'job_5', 'Start': datetime.datetime(2022, 1, 1, 0, 21, 38), 'Finish': datetime.datetime(2022, 1, 1, 0, 22, 57), 'Machine': 'machine_3'}, {'Job': 'job_7', 'Start': datetime.datetime(2022, 1, 1, 0, 0), 'Finish': datetime.datetime(2022, 1, 1, 0, 1, 38), 'Machine': 'machine_4'}, {'Job': 'job_0', 'Start': datetime.datetime(2022, 1, 1, 0, 1, 38), 'Finish': datetime.datetime(2022, 1, 1, 0, 3, 6), 'Machine': 'machine_4'}, {'Job': 'job_5', 'Start': datetime.datetime(2022, 1, 1, 0, 3, 6), 'Finish': datetime.datetime(2022, 1, 1, 0, 4, 27), 'Machine': 'machine_4'}, {'Job': 'job_4', 'Start': datetime.datetime(2022, 1, 1, 0, 4, 27), 'Finish': datetime.datetime(2022, 1, 1, 0, 5, 55), 'Machine': 'machine_4'}, {'Job': 'job_6', 'Start': datetime.datetime(2022, 1, 1, 0, 5, 55), 'Finish': datetime.datetime(2022, 1, 1, 0, 7, 32), 'Machine': 'machine_4'}, {'Job': 'job_3', 'Start': datetime.datetime(2022, 1, 1, 0, 7, 32), 'Finish': datetime.datetime(2022, 1, 1, 0, 9, 11), 'Machine': 'machine_4'}, {'Job': 'job_1', 'Start': datetime.datetime(2022, 1, 1, 0, 9, 11), 'Finish': datetime.datetime(2022, 1, 1, 0, 10, 26), 'Machine': 'machine_4'}, {'Job': 'job_9', 'Start': datetime.datetime(2022, 1, 1, 0, 10, 26), 'Finish': datetime.datetime(2022, 1, 1, 0, 11, 47), 'Machine': 'machine_4'}, {'Job': 'job_8', 'Start': datetime.datetime(2022, 1, 1, 0, 11, 47), 'Finish': datetime.datetime(2022, 1, 1, 0, 13, 3), 'Machine': 'machine_4'}, {'Job': 'job_2', 'Start': datetime.datetime(2022, 1, 1, 0, 13, 3), 'Finish': datetime.datetime(2022, 1, 1, 0, 14, 28), 'Machine': 'machine_4'}, {'Job': 'job_1', 'Start': datetime.datetime(2022, 1, 1, 0, 0), 'Finish': datetime.datetime(2022, 1, 1, 0, 1, 12), 'Machine': 'machine_5'}, {'Job': 'job_5', 'Start': datetime.datetime(2022, 1, 1, 0, 4, 27), 'Finish': datetime.datetime(2022, 1, 1, 0, 5, 31), 'Machine': 'machine_5'}, {'Job': 'job_0', 'Start': datetime.datetime(2022, 1, 1, 0, 6, 41), 'Finish': datetime.datetime(2022, 1, 1, 0, 8, 20), 'Machine': 'machine_5'}, {'Job': 'job_7', 'Start': datetime.datetime(2022, 1, 1, 0, 8, 20), 'Finish': datetime.datetime(2022, 1, 1, 0, 9, 54), 'Machine': 'machine_5'}, {'Job': 'job_2', 'Start': datetime.datetime(2022, 1, 1, 0, 9, 54), 'Finish': datetime.datetime(2022, 1, 1, 0, 11, 19), 'Machine': 'machine_5'}, {'Job': 'job_3', 'Start': datetime.datetime(2022, 1, 1, 0, 11, 20), 'Finish': datetime.datetime(2022, 1, 1, 0, 12, 26), 'Machine': 'machine_5'}, {'Job': 'job_9', 'Start': datetime.datetime(2022, 1, 1, 0, 12, 26), 'Finish': datetime.datetime(2022, 1, 1, 0, 13, 25), 'Machine': 'machine_5'}, {'Job': 'job_8', 'Start': datetime.datetime(2022, 1, 1, 0, 13, 25), 'Finish': datetime.datetime(2022, 1, 1, 0, 14, 23), 'Machine': 'machine_5'}, {'Job': 'job_4', 'Start': datetime.datetime(2022, 1, 1, 0, 14, 31), 'Finish': datetime.datetime(2022, 1, 1, 0, 15, 39), 'Machine': 'machine_5'}, {'Job': 'job_6', 'Start': datetime.datetime(2022, 1, 1, 0, 18, 7), 'Finish': datetime.datetime(2022, 1, 1, 0, 19, 46), 'Machine': 'machine_5'}, {'Job': 'job_8', 'Start': datetime.datetime(2022, 1, 1, 0, 1, 34), 'Finish': datetime.datetime(2022, 1, 1, 0, 2, 45), 'Machine': 'machine_6'}, {'Job': 'job_7', 'Start': datetime.datetime(2022, 1, 1, 0, 2, 45), 'Finish': datetime.datetime(2022, 1, 1, 0, 3, 58), 'Machine': 'machine_6'}, {'Job': 'job_1', 'Start': datetime.datetime(2022, 1, 1, 0, 3, 58), 'Finish': datetime.datetime(2022, 1, 1, 0, 5, 7), 'Machine': 'machine_6'}, {'Job': 'job_0', 'Start': datetime.datetime(2022, 1, 1, 0, 5, 7), 'Finish': datetime.datetime(2022, 1, 1, 0, 6, 41), 'Machine': 'machine_6'}, {'Job': 'job_2', 'Start': datetime.datetime(2022, 1, 1, 0, 6, 41), 'Finish': datetime.datetime(2022, 1, 1, 0, 7, 45), 'Machine': 'machine_6'}, {'Job': 'job_5', 'Start': datetime.datetime(2022, 1, 1, 0, 7, 45), 'Finish': datetime.datetime(2022, 1, 1, 0, 8, 51), 'Machine': 'machine_6'}, {'Job': 'job_9', 'Start': datetime.datetime(2022, 1, 1, 0, 8, 53), 'Finish': datetime.datetime(2022, 1, 1, 0, 9, 51), 'Machine': 'machine_6'}, {'Job': 'job_3', 'Start': datetime.datetime(2022, 1, 1, 0, 10, 5), 'Finish': datetime.datetime(2022, 1, 1, 0, 11, 20), 'Machine': 'machine_6'}, {'Job': 'job_4', 'Start': datetime.datetime(2022, 1, 1, 0, 12, 56), 'Finish': datetime.datetime(2022, 1, 1, 0, 14, 31), 'Machine': 'machine_6'}, {'Job': 'job_6', 'Start': datetime.datetime(2022, 1, 1, 0, 19, 46), 'Finish': datetime.datetime(2022, 1, 1, 0, 20, 38), 'Machine': 'machine_6'}, {'Job': 'job_6', 'Start': datetime.datetime(2022, 1, 1, 0, 0), 'Finish': datetime.datetime(2022, 1, 1, 0, 0, 50), 'Machine': 'machine_7'}, {'Job': 'job_3', 'Start': datetime.datetime(2022, 1, 1, 0, 0, 50), 'Finish': datetime.datetime(2022, 1, 1, 0, 2, 24), 'Machine': 'machine_7'}, {'Job': 'job_8', 'Start': datetime.datetime(2022, 1, 1, 0, 4, 10), 'Finish': datetime.datetime(2022, 1, 1, 0, 5, 35), 'Machine': 'machine_7'}, {'Job': 'job_9', 'Start': datetime.datetime(2022, 1, 1, 0, 5, 35), 'Finish': datetime.datetime(2022, 1, 1, 0, 6, 31), 'Machine': 'machine_7'}, {'Job': 'job_7', 'Start': datetime.datetime(2022, 1, 1, 0, 9, 54), 'Finish': datetime.datetime(2022, 1, 1, 0, 11, 19), 'Machine': 'machine_7'}, {'Job': 'job_2', 'Start': datetime.datetime(2022, 1, 1, 0, 11, 19), 'Finish': datetime.datetime(2022, 1, 1, 0, 12, 37), 'Machine': 'machine_7'}, {'Job': 'job_0', 'Start': datetime.datetime(2022, 1, 1, 0, 13, 6), 'Finish': datetime.datetime(2022, 1, 1, 0, 14, 45), 'Machine': 'machine_7'}, {'Job': 'job_4', 'Start': datetime.datetime(2022, 1, 1, 0, 15, 39), 'Finish': datetime.datetime(2022, 1, 1, 0, 16, 46), 'Machine': 'machine_7'}, {'Job': 'job_5', 'Start': datetime.datetime(2022, 1, 1, 0, 19, 27), 'Finish': datetime.datetime(2022, 1, 1, 0, 20, 36), 'Machine': 'machine_7'}, {'Job': 'job_1', 'Start': datetime.datetime(2022, 1, 1, 0, 21, 58), 'Finish': datetime.datetime(2022, 1, 1, 0, 23, 32), 'Machine': 'machine_7'}, {'Job': 'job_2', 'Start': datetime.datetime(2022, 1, 1, 0, 1, 23), 'Finish': datetime.datetime(2022, 1, 1, 0, 2, 24), 'Machine': 'machine_8'}, {'Job': 'job_0', 'Start': datetime.datetime(2022, 1, 1, 0, 3, 6), 'Finish': datetime.datetime(2022, 1, 1, 0, 4, 14), 'Machine': 'machine_8'}, {'Job': 'job_9', 'Start': datetime.datetime(2022, 1, 1, 0, 4, 27), 'Finish': datetime.datetime(2022, 1, 1, 0, 5, 34), 'Machine': 'machine_8'}, {'Job': 'job_4', 'Start': datetime.datetime(2022, 1, 1, 0, 7, 17), 'Finish': datetime.datetime(2022, 1, 1, 0, 8, 52), 'Machine': 'machine_8'}, {'Job': 'job_5', 'Start': datetime.datetime(2022, 1, 1, 0, 8, 52), 'Finish': datetime.datetime(2022, 1, 1, 0, 10, 12), 'Machine': 'machine_8'}, {'Job': 'job_6', 'Start': datetime.datetime(2022, 1, 1, 0, 12, 6), 'Finish': datetime.datetime(2022, 1, 1, 0, 13, 43), 'Machine': 'machine_8'}, {'Job': 'job_7', 'Start': datetime.datetime(2022, 1, 1, 0, 13, 43), 'Finish': datetime.datetime(2022, 1, 1, 0, 15, 18), 'Machine': 'machine_8'}, {'Job': 'job_8', 'Start': datetime.datetime(2022, 1, 1, 0, 15, 18), 'Finish': datetime.datetime(2022, 1, 1, 0, 16, 51), 'Machine': 'machine_8'}, {'Job': 'job_3', 'Start': datetime.datetime(2022, 1, 1, 0, 16, 51), 'Finish': datetime.datetime(2022, 1, 1, 0, 17, 58), 'Machine': 'machine_8'}, {'Job': 'job_1', 'Start': datetime.datetime(2022, 1, 1, 0, 17, 58), 'Finish': datetime.datetime(2022, 1, 1, 0, 19, 4), 'Machine': 'machine_8'}, {'Job': 'job_2', 'Start': datetime.datetime(2022, 1, 1, 0, 0), 'Finish': datetime.datetime(2022, 1, 1, 0, 1, 23), 'Machine': 'machine_9'}, {'Job': 'job_4', 'Start': datetime.datetime(2022, 1, 1, 0, 5, 55), 'Finish': datetime.datetime(2022, 1, 1, 0, 7, 17), 'Machine': 'machine_9'}, {'Job': 'job_9', 'Start': datetime.datetime(2022, 1, 1, 0, 7, 17), 'Finish': datetime.datetime(2022, 1, 1, 0, 8, 53), 'Machine': 'machine_9'}, {'Job': 'job_0', 'Start': datetime.datetime(2022, 1, 1, 0, 11, 49), 'Finish': datetime.datetime(2022, 1, 1, 0, 13, 6), 'Machine': 'machine_9'}, {'Job': 'job_3', 'Start': datetime.datetime(2022, 1, 1, 0, 14, 24), 'Finish': datetime.datetime(2022, 1, 1, 0, 15, 27), 'Machine': 'machine_9'}, {'Job': 'job_7', 'Start': datetime.datetime(2022, 1, 1, 0, 15, 27), 'Finish': datetime.datetime(2022, 1, 1, 0, 16, 46), 'Machine': 'machine_9'}, {'Job': 'job_8', 'Start': datetime.datetime(2022, 1, 1, 0, 16, 51), 'Finish': datetime.datetime(2022, 1, 1, 0, 18, 28), 'Machine': 'machine_9'}, {'Job': 'job_5', 'Start': datetime.datetime(2022, 1, 1, 0, 20, 36), 'Finish': datetime.datetime(2022, 1, 1, 0, 21, 38), 'Machine': 'machine_9'}, {'Job': 'job_6', 'Start': datetime.datetime(2022, 1, 1, 0, 21, 38), 'Finish': datetime.datetime(2022, 1, 1, 0, 22, 49), 'Machine': 'machine_9'}, {'Job': 'job_1', 'Start': datetime.datetime(2022, 1, 1, 0, 23, 32), 'Finish': datetime.datetime(2022, 1, 1, 0, 24, 35), 'Machine': 'machine_9'}\n",
    "sd = sorted(d.items())\n",
    "\n",
    "for k,v in sd:\n",
    "    print (k, v)"
   ]
  },
  {
   "cell_type": "code",
   "execution_count": 3,
   "metadata": {},
   "outputs": [
    {
     "data": {
      "application/vnd.plotly.v1+json": {
       "config": {
        "plotlyServerURL": "https://plot.ly"
       },
       "data": [
        {
         "alignmentgroup": "True",
         "base": [
          "2022-01-01T00:00:00",
          "2022-01-01T00:01:47",
          "2022-01-01T00:02:20",
          "2022-01-01T00:05:33",
          "2022-01-01T00:07:20",
          "2022-01-01T00:10:07",
          "2022-01-01T00:10:43",
          "2022-01-01T00:12:32",
          "2022-01-01T00:15:42",
          "2022-01-01T00:16:39",
          "2022-01-01T00:17:44",
          "2022-01-01T00:18:27",
          "2022-01-01T00:20:12",
          "2022-01-01T00:21:39",
          "2022-01-01T00:23:42",
          "2022-01-01T00:24:47",
          "2022-01-01T00:27:04",
          "2022-01-01T00:27:52",
          "2022-01-01T00:28:08",
          "2022-01-01T00:28:09",
          "2022-01-01T00:30:05",
          "2022-01-01T00:31:08",
          "2022-01-01T00:31:23",
          "2022-01-01T00:31:30",
          "2022-01-01T00:31:34",
          "2022-01-01T00:33:56",
          "2022-01-01T00:35:29",
          "2022-01-01T00:37:41",
          "2022-01-01T00:41:40",
          "2022-01-01T00:45:10",
          "2022-01-01T00:51:00",
          "2022-01-01T00:51:44",
          "2022-01-01T00:54:45",
          "2022-01-01T00:56:18",
          "2022-01-01T00:56:33",
          "2022-01-01T00:56:56",
          "2022-01-01T00:57:59",
          "2022-01-01T00:59:56",
          "2022-01-01T01:02:48",
          "2022-01-01T01:13:06",
          "2022-01-01T01:16:16",
          "2022-01-01T01:19:51",
          "2022-01-01T01:23:08",
          "2022-01-01T01:26:19",
          "2022-01-01T01:26:55",
          "2022-01-01T01:29:25",
          "2022-01-01T01:31:41",
          "2022-01-01T01:35:00",
          "2022-01-01T01:35:43",
          "2022-01-01T01:38:41"
         ],
         "hovertemplate": "Machine=machine_0<br>Start=%{base}<br>Finish=%{x}<br>Job=%{y}<extra></extra>",
         "legendgroup": "machine_0",
         "marker": {
          "color": "#636efa",
          "pattern": {
           "shape": ""
          }
         },
         "name": "machine_0",
         "offsetgroup": "machine_0",
         "orientation": "h",
         "showlegend": true,
         "textposition": "auto",
         "type": "bar",
         "x": [
          107000,
          33000,
          193000,
          107000,
          167000,
          36000,
          109000,
          190000,
          57000,
          65000,
          43000,
          105000,
          44000,
          49000,
          65000,
          137000,
          48000,
          16000,
          1000,
          116000,
          63000,
          15000,
          7000,
          4000,
          142000,
          93000,
          112000,
          113000,
          107000,
          38000,
          24000,
          140000,
          93000,
          15000,
          17000,
          63000,
          88000,
          39000,
          16000,
          190000,
          157000,
          197000,
          191000,
          36000,
          150000,
          83000,
          199000,
          43000,
          178000,
          1000
         ],
         "xaxis": "x",
         "y": [
          "job_37",
          "job_36",
          "job_49",
          "job_13",
          "job_6",
          "job_24",
          "job_7",
          "job_8",
          "job_14",
          "job_17",
          "job_48",
          "job_0",
          "job_3",
          "job_10",
          "job_15",
          "job_21",
          "job_22",
          "job_2",
          "job_43",
          "job_39",
          "job_41",
          "job_46",
          "job_34",
          "job_28",
          "job_26",
          "job_12",
          "job_23",
          "job_11",
          "job_35",
          "job_40",
          "job_5",
          "job_32",
          "job_29",
          "job_30",
          "job_44",
          "job_18",
          "job_1",
          "job_9",
          "job_33",
          "job_20",
          "job_31",
          "job_42",
          "job_47",
          "job_45",
          "job_27",
          "job_16",
          "job_25",
          "job_19",
          "job_38",
          "job_4"
         ],
         "yaxis": "y"
        },
        {
         "alignmentgroup": "True",
         "base": [
          "2022-01-01T00:00:00",
          "2022-01-01T00:00:12",
          "2022-01-01T00:00:50",
          "2022-01-01T00:01:29",
          "2022-01-01T00:03:04",
          "2022-01-01T00:03:34",
          "2022-01-01T00:05:29",
          "2022-01-01T00:07:05",
          "2022-01-01T00:08:00",
          "2022-01-01T00:11:43",
          "2022-01-01T00:13:12",
          "2022-01-01T00:15:26",
          "2022-01-01T00:17:16",
          "2022-01-01T00:20:00",
          "2022-01-01T00:20:26",
          "2022-01-01T00:21:43",
          "2022-01-01T00:23:43",
          "2022-01-01T00:25:18",
          "2022-01-01T00:27:30",
          "2022-01-01T00:30:24",
          "2022-01-01T00:33:05",
          "2022-01-01T00:35:26",
          "2022-01-01T00:36:35",
          "2022-01-01T00:37:42",
          "2022-01-01T00:38:38",
          "2022-01-01T00:39:47",
          "2022-01-01T00:42:15",
          "2022-01-01T00:45:32",
          "2022-01-01T00:46:19",
          "2022-01-01T00:48:26",
          "2022-01-01T00:49:06",
          "2022-01-01T00:50:04",
          "2022-01-01T00:52:09",
          "2022-01-01T00:55:06",
          "2022-01-01T00:57:01",
          "2022-01-01T00:57:48",
          "2022-01-01T01:01:04",
          "2022-01-01T01:04:19",
          "2022-01-01T01:04:59",
          "2022-01-01T01:05:59",
          "2022-01-01T01:06:04",
          "2022-01-01T01:06:18",
          "2022-01-01T01:09:18",
          "2022-01-01T01:11:54",
          "2022-01-01T01:15:56",
          "2022-01-01T01:17:50",
          "2022-01-01T01:17:51",
          "2022-01-01T01:21:01",
          "2022-01-01T01:23:23",
          "2022-01-01T01:24:35"
         ],
         "hovertemplate": "Machine=machine_1<br>Start=%{base}<br>Finish=%{x}<br>Job=%{y}<extra></extra>",
         "legendgroup": "machine_1",
         "marker": {
          "color": "#EF553B",
          "pattern": {
           "shape": ""
          }
         },
         "name": "machine_1",
         "offsetgroup": "machine_1",
         "orientation": "h",
         "showlegend": true,
         "textposition": "auto",
         "type": "bar",
         "x": [
          12000,
          38000,
          39000,
          95000,
          30000,
          65000,
          96000,
          54000,
          182000,
          89000,
          134000,
          110000,
          164000,
          26000,
          77000,
          120000,
          95000,
          132000,
          174000,
          161000,
          141000,
          69000,
          67000,
          56000,
          69000,
          148000,
          197000,
          47000,
          127000,
          40000,
          58000,
          125000,
          177000,
          115000,
          47000,
          196000,
          195000,
          40000,
          60000,
          5000,
          14000,
          180000,
          156000,
          76000,
          114000,
          1000,
          190000,
          122000,
          69000,
          139000
         ],
         "xaxis": "x",
         "y": [
          "job_34",
          "job_11",
          "job_0",
          "job_27",
          "job_39",
          "job_16",
          "job_24",
          "job_1",
          "job_20",
          "job_35",
          "job_41",
          "job_48",
          "job_32",
          "job_45",
          "job_36",
          "job_21",
          "job_42",
          "job_43",
          "job_46",
          "job_6",
          "job_23",
          "job_17",
          "job_40",
          "job_13",
          "job_47",
          "job_33",
          "job_29",
          "job_10",
          "job_5",
          "job_18",
          "job_38",
          "job_9",
          "job_44",
          "job_28",
          "job_14",
          "job_30",
          "job_15",
          "job_7",
          "job_26",
          "job_12",
          "job_22",
          "job_37",
          "job_25",
          "job_31",
          "job_8",
          "job_3",
          "job_19",
          "job_4",
          "job_2",
          "job_49"
         ],
         "yaxis": "y"
        },
        {
         "alignmentgroup": "True",
         "base": [
          "2022-01-01T00:00:00",
          "2022-01-01T00:00:28",
          "2022-01-01T00:03:18",
          "2022-01-01T00:06:18",
          "2022-01-01T00:08:00",
          "2022-01-01T00:09:37",
          "2022-01-01T00:11:43",
          "2022-01-01T00:12:09",
          "2022-01-01T00:13:19",
          "2022-01-01T00:15:34",
          "2022-01-01T00:16:11",
          "2022-01-01T00:17:24",
          "2022-01-01T00:18:06",
          "2022-01-01T00:20:59",
          "2022-01-01T00:23:42",
          "2022-01-01T00:24:00",
          "2022-01-01T00:26:19",
          "2022-01-01T00:29:28",
          "2022-01-01T00:32:04",
          "2022-01-01T00:34:09",
          "2022-01-01T00:36:02",
          "2022-01-01T00:37:41",
          "2022-01-01T00:40:44",
          "2022-01-01T00:41:54",
          "2022-01-01T00:42:48",
          "2022-01-01T00:44:17",
          "2022-01-01T00:47:34",
          "2022-01-01T00:50:33",
          "2022-01-01T00:53:25",
          "2022-01-01T00:54:46",
          "2022-01-01T00:55:48",
          "2022-01-01T00:56:31",
          "2022-01-01T00:57:49",
          "2022-01-01T01:01:05",
          "2022-01-01T01:01:16",
          "2022-01-01T01:01:35",
          "2022-01-01T01:04:38",
          "2022-01-01T01:04:47",
          "2022-01-01T01:04:48",
          "2022-01-01T01:06:57",
          "2022-01-01T01:09:37",
          "2022-01-01T01:15:39",
          "2022-01-01T01:17:51",
          "2022-01-01T01:20:14",
          "2022-01-01T01:21:10",
          "2022-01-01T01:22:36",
          "2022-01-01T01:24:35",
          "2022-01-01T01:27:34",
          "2022-01-01T01:27:56",
          "2022-01-01T01:29:16"
         ],
         "hovertemplate": "Machine=machine_2<br>Start=%{base}<br>Finish=%{x}<br>Job=%{y}<extra></extra>",
         "legendgroup": "machine_2",
         "marker": {
          "color": "#00cc96",
          "pattern": {
           "shape": ""
          }
         },
         "name": "machine_2",
         "offsetgroup": "machine_2",
         "orientation": "h",
         "showlegend": true,
         "textposition": "auto",
         "type": "bar",
         "x": [
          28000,
          170000,
          180000,
          102000,
          97000,
          126000,
          26000,
          70000,
          135000,
          37000,
          73000,
          42000,
          173000,
          163000,
          18000,
          139000,
          189000,
          156000,
          125000,
          113000,
          99000,
          183000,
          70000,
          54000,
          89000,
          197000,
          179000,
          172000,
          81000,
          62000,
          43000,
          78000,
          196000,
          11000,
          19000,
          183000,
          9000,
          1000,
          129000,
          160000,
          169000,
          79000,
          143000,
          56000,
          86000,
          119000,
          179000,
          22000,
          80000,
          112000
         ],
         "xaxis": "x",
         "y": [
          "job_13",
          "job_42",
          "job_9",
          "job_20",
          "job_19",
          "job_35",
          "job_14",
          "job_36",
          "job_32",
          "job_17",
          "job_37",
          "job_29",
          "job_25",
          "job_15",
          "job_30",
          "job_23",
          "job_47",
          "job_43",
          "job_27",
          "job_18",
          "job_11",
          "job_5",
          "job_10",
          "job_24",
          "job_48",
          "job_38",
          "job_46",
          "job_0",
          "job_39",
          "job_45",
          "job_26",
          "job_1",
          "job_22",
          "job_33",
          "job_16",
          "job_6",
          "job_34",
          "job_2",
          "job_40",
          "job_7",
          "job_12",
          "job_21",
          "job_3",
          "job_28",
          "job_41",
          "job_49",
          "job_44",
          "job_8",
          "job_4",
          "job_31"
         ],
         "yaxis": "y"
        },
        {
         "alignmentgroup": "True",
         "base": [
          "2022-01-01T00:00:00",
          "2022-01-01T00:03:18",
          "2022-01-01T00:04:49",
          "2022-01-01T00:05:00",
          "2022-01-01T00:05:52",
          "2022-01-01T00:07:38",
          "2022-01-01T00:09:43",
          "2022-01-01T00:13:02",
          "2022-01-01T00:15:35",
          "2022-01-01T00:17:37",
          "2022-01-01T00:17:47",
          "2022-01-01T00:20:47",
          "2022-01-01T00:21:11",
          "2022-01-01T00:24:03",
          "2022-01-01T00:24:39",
          "2022-01-01T00:26:15",
          "2022-01-01T00:27:21",
          "2022-01-01T00:28:03",
          "2022-01-01T00:28:33",
          "2022-01-01T00:31:31",
          "2022-01-01T00:33:51",
          "2022-01-01T00:33:53",
          "2022-01-01T00:35:36",
          "2022-01-01T00:35:59",
          "2022-01-01T00:37:09",
          "2022-01-01T00:40:02",
          "2022-01-01T00:41:26",
          "2022-01-01T00:44:39",
          "2022-01-01T00:48:56",
          "2022-01-01T00:51:51",
          "2022-01-01T00:54:04",
          "2022-01-01T00:54:43",
          "2022-01-01T01:01:16",
          "2022-01-01T01:02:48",
          "2022-01-01T01:04:05",
          "2022-01-01T01:06:46",
          "2022-01-01T01:07:04",
          "2022-01-01T01:10:03",
          "2022-01-01T01:10:45",
          "2022-01-01T01:12:22",
          "2022-01-01T01:15:04",
          "2022-01-01T01:17:28",
          "2022-01-01T01:17:41",
          "2022-01-01T01:19:36",
          "2022-01-01T01:19:38",
          "2022-01-01T01:21:58",
          "2022-01-01T01:26:19",
          "2022-01-01T01:29:36",
          "2022-01-01T01:35:43",
          "2022-01-01T01:38:41"
         ],
         "hovertemplate": "Machine=machine_3<br>Start=%{base}<br>Finish=%{x}<br>Job=%{y}<extra></extra>",
         "legendgroup": "machine_3",
         "marker": {
          "color": "#ab63fa",
          "pattern": {
           "shape": ""
          }
         },
         "name": "machine_3",
         "offsetgroup": "machine_3",
         "orientation": "h",
         "showlegend": true,
         "textposition": "auto",
         "type": "bar",
         "x": [
          198000,
          91000,
          11000,
          52000,
          106000,
          125000,
          199000,
          153000,
          122000,
          10000,
          180000,
          24000,
          172000,
          36000,
          96000,
          66000,
          42000,
          30000,
          178000,
          140000,
          2000,
          103000,
          23000,
          70000,
          173000,
          84000,
          193000,
          40000,
          38000,
          12000,
          39000,
          87000,
          92000,
          77000,
          161000,
          18000,
          179000,
          42000,
          97000,
          162000,
          144000,
          13000,
          115000,
          2000,
          139000,
          50000,
          197000,
          63000,
          155000,
          187000
         ],
         "xaxis": "x",
         "y": [
          "job_26",
          "job_17",
          "job_5",
          "job_3",
          "job_45",
          "job_24",
          "job_43",
          "job_46",
          "job_7",
          "job_14",
          "job_8",
          "job_0",
          "job_35",
          "job_10",
          "job_29",
          "job_44",
          "job_39",
          "job_23",
          "job_21",
          "job_12",
          "job_41",
          "job_13",
          "job_49",
          "job_1",
          "job_36",
          "job_6",
          "job_9",
          "job_34",
          "job_11",
          "job_18",
          "job_32",
          "job_20",
          "job_33",
          "job_28",
          "job_25",
          "job_16",
          "job_48",
          "job_37",
          "job_30",
          "job_22",
          "job_27",
          "job_42",
          "job_15",
          "job_31",
          "job_2",
          "job_40",
          "job_47",
          "job_4",
          "job_19",
          "job_38"
         ],
         "yaxis": "y"
        },
        {
         "alignmentgroup": "True",
         "base": [
          "2022-01-01T00:00:00",
          "2022-01-01T00:02:52",
          "2022-01-01T00:05:55",
          "2022-01-01T00:07:33",
          "2022-01-01T00:08:01",
          "2022-01-01T00:08:32",
          "2022-01-01T00:11:44",
          "2022-01-01T00:13:04",
          "2022-01-01T00:14:08",
          "2022-01-01T00:17:07",
          "2022-01-01T00:19:57",
          "2022-01-01T00:22:38",
          "2022-01-01T00:22:58",
          "2022-01-01T00:23:56",
          "2022-01-01T00:27:14",
          "2022-01-01T00:29:47",
          "2022-01-01T00:31:31",
          "2022-01-01T00:33:08",
          "2022-01-01T00:35:01",
          "2022-01-01T00:37:18",
          "2022-01-01T00:40:01",
          "2022-01-01T00:42:47",
          "2022-01-01T00:46:00",
          "2022-01-01T00:48:56",
          "2022-01-01T00:51:44",
          "2022-01-01T00:53:49",
          "2022-01-01T00:54:05",
          "2022-01-01T00:55:26",
          "2022-01-01T00:55:53",
          "2022-01-01T00:58:43",
          "2022-01-01T01:01:27",
          "2022-01-01T01:04:47",
          "2022-01-01T01:05:21",
          "2022-01-01T01:06:27",
          "2022-01-01T01:07:48",
          "2022-01-01T01:09:05",
          "2022-01-01T01:09:30",
          "2022-01-01T01:10:10",
          "2022-01-01T01:10:26",
          "2022-01-01T01:13:23",
          "2022-01-01T01:16:19",
          "2022-01-01T01:19:35",
          "2022-01-01T01:21:58",
          "2022-01-01T01:22:05",
          "2022-01-01T01:24:08",
          "2022-01-01T01:24:53",
          "2022-01-01T01:27:06",
          "2022-01-01T01:28:47",
          "2022-01-01T01:29:19",
          "2022-01-01T01:32:01"
         ],
         "hovertemplate": "Machine=machine_4<br>Start=%{base}<br>Finish=%{x}<br>Job=%{y}<extra></extra>",
         "legendgroup": "machine_4",
         "marker": {
          "color": "#FFA15A",
          "pattern": {
           "shape": ""
          }
         },
         "name": "machine_4",
         "offsetgroup": "machine_4",
         "orientation": "h",
         "showlegend": true,
         "textposition": "auto",
         "type": "bar",
         "x": [
          172000,
          183000,
          98000,
          28000,
          31000,
          192000,
          80000,
          64000,
          179000,
          170000,
          161000,
          20000,
          58000,
          198000,
          153000,
          104000,
          97000,
          113000,
          137000,
          163000,
          166000,
          193000,
          176000,
          168000,
          125000,
          16000,
          81000,
          27000,
          170000,
          164000,
          200000,
          34000,
          66000,
          81000,
          77000,
          25000,
          40000,
          16000,
          177000,
          176000,
          196000,
          143000,
          7000,
          123000,
          45000,
          133000,
          101000,
          32000,
          162000,
          112000
         ],
         "xaxis": "x",
         "y": [
          "job_24",
          "job_18",
          "job_10",
          "job_35",
          "job_7",
          "job_27",
          "job_39",
          "job_48",
          "job_21",
          "job_15",
          "job_46",
          "job_5",
          "job_6",
          "job_2",
          "job_1",
          "job_26",
          "job_34",
          "job_9",
          "job_0",
          "job_4",
          "job_30",
          "job_33",
          "job_11",
          "job_32",
          "job_28",
          "job_12",
          "job_23",
          "job_22",
          "job_13",
          "job_29",
          "job_14",
          "job_37",
          "job_36",
          "job_31",
          "job_20",
          "job_19",
          "job_17",
          "job_42",
          "job_3",
          "job_47",
          "job_41",
          "job_40",
          "job_45",
          "job_44",
          "job_43",
          "job_25",
          "job_38",
          "job_16",
          "job_8",
          "job_49"
         ],
         "yaxis": "y"
        },
        {
         "alignmentgroup": "True",
         "base": [
          "2022-01-01T00:00:00",
          "2022-01-01T00:03:11",
          "2022-01-01T00:04:52",
          "2022-01-01T00:05:36",
          "2022-01-01T00:05:44",
          "2022-01-01T00:06:43",
          "2022-01-01T00:09:16",
          "2022-01-01T00:11:07",
          "2022-01-01T00:14:01",
          "2022-01-01T00:17:08",
          "2022-01-01T00:19:29",
          "2022-01-01T00:21:39",
          "2022-01-01T00:24:52",
          "2022-01-01T00:28:11",
          "2022-01-01T00:30:36",
          "2022-01-01T00:33:12",
          "2022-01-01T00:33:42",
          "2022-01-01T00:36:00",
          "2022-01-01T00:36:06",
          "2022-01-01T00:38:33",
          "2022-01-01T00:39:30",
          "2022-01-01T00:42:01",
          "2022-01-01T00:43:35",
          "2022-01-01T00:45:54",
          "2022-01-01T00:49:04",
          "2022-01-01T00:51:00",
          "2022-01-01T00:52:27",
          "2022-01-01T00:53:49",
          "2022-01-01T00:55:55",
          "2022-01-01T00:56:19",
          "2022-01-01T00:56:24",
          "2022-01-01T00:58:50",
          "2022-01-01T01:01:04",
          "2022-01-01T01:06:04",
          "2022-01-01T01:09:37",
          "2022-01-01T01:12:32",
          "2022-01-01T01:13:02",
          "2022-01-01T01:13:06",
          "2022-01-01T01:14:59",
          "2022-01-01T01:16:54",
          "2022-01-01T01:20:00",
          "2022-01-01T01:22:08",
          "2022-01-01T01:24:21",
          "2022-01-01T01:26:08",
          "2022-01-01T01:26:26",
          "2022-01-01T01:26:44",
          "2022-01-01T01:30:48",
          "2022-01-01T01:32:49",
          "2022-01-01T01:33:53",
          "2022-01-01T01:37:11"
         ],
         "hovertemplate": "Machine=machine_5<br>Start=%{base}<br>Finish=%{x}<br>Job=%{y}<extra></extra>",
         "legendgroup": "machine_5",
         "marker": {
          "color": "#19d3f3",
          "pattern": {
           "shape": ""
          }
         },
         "name": "machine_5",
         "offsetgroup": "machine_5",
         "orientation": "h",
         "showlegend": true,
         "textposition": "auto",
         "type": "bar",
         "x": [
          191000,
          101000,
          44000,
          8000,
          59000,
          153000,
          111000,
          174000,
          187000,
          141000,
          130000,
          193000,
          199000,
          145000,
          156000,
          30000,
          138000,
          6000,
          147000,
          57000,
          151000,
          94000,
          139000,
          190000,
          116000,
          87000,
          82000,
          126000,
          24000,
          5000,
          62000,
          65000,
          120000,
          69000,
          175000,
          30000,
          4000,
          113000,
          115000,
          186000,
          128000,
          133000,
          107000,
          18000,
          18000,
          98000,
          121000,
          27000,
          198000,
          26000
         ],
         "xaxis": "x",
         "y": [
          "job_8",
          "job_6",
          "job_14",
          "job_42",
          "job_17",
          "job_11",
          "job_46",
          "job_2",
          "job_35",
          "job_9",
          "job_10",
          "job_39",
          "job_37",
          "job_15",
          "job_31",
          "job_13",
          "job_29",
          "job_41",
          "job_26",
          "job_34",
          "job_40",
          "job_1",
          "job_36",
          "job_0",
          "job_5",
          "job_48",
          "job_18",
          "job_24",
          "job_23",
          "job_33",
          "job_32",
          "job_44",
          "job_30",
          "job_12",
          "job_7",
          "job_28",
          "job_20",
          "job_25",
          "job_3",
          "job_47",
          "job_27",
          "job_45",
          "job_21",
          "job_43",
          "job_22",
          "job_19",
          "job_16",
          "job_38",
          "job_49",
          "job_4"
         ],
         "yaxis": "y"
        },
        {
         "alignmentgroup": "True",
         "base": [
          "2022-01-01T00:00:00",
          "2022-01-01T00:00:23",
          "2022-01-01T00:03:04",
          "2022-01-01T00:03:59",
          "2022-01-01T00:06:37",
          "2022-01-01T00:07:46",
          "2022-01-01T00:09:53",
          "2022-01-01T00:12:40",
          "2022-01-01T00:12:49",
          "2022-01-01T00:13:29",
          "2022-01-01T00:14:20",
          "2022-01-01T00:16:03",
          "2022-01-01T00:18:57",
          "2022-01-01T00:21:19",
          "2022-01-01T00:21:33",
          "2022-01-01T00:23:40",
          "2022-01-01T00:26:18",
          "2022-01-01T00:27:08",
          "2022-01-01T00:27:28",
          "2022-01-01T00:28:52",
          "2022-01-01T00:30:17",
          "2022-01-01T00:31:22",
          "2022-01-01T00:33:08",
          "2022-01-01T00:35:23",
          "2022-01-01T00:37:06",
          "2022-01-01T00:37:17",
          "2022-01-01T00:37:33",
          "2022-01-01T00:39:22",
          "2022-01-01T00:40:45",
          "2022-01-01T00:41:40",
          "2022-01-01T00:43:16",
          "2022-01-01T00:46:12",
          "2022-01-01T00:47:13",
          "2022-01-01T00:48:24",
          "2022-01-01T00:49:43",
          "2022-01-01T00:51:51",
          "2022-01-01T00:54:45",
          "2022-01-01T00:56:54",
          "2022-01-01T00:57:11",
          "2022-01-01T00:58:50",
          "2022-01-01T00:59:56",
          "2022-01-01T01:02:41",
          "2022-01-01T01:05:29",
          "2022-01-01T01:06:31",
          "2022-01-01T01:08:36",
          "2022-01-01T01:11:11",
          "2022-01-01T01:21:17",
          "2022-01-01T01:24:10",
          "2022-01-01T01:29:20",
          "2022-01-01T01:31:41"
         ],
         "hovertemplate": "Machine=machine_6<br>Start=%{base}<br>Finish=%{x}<br>Job=%{y}<extra></extra>",
         "legendgroup": "machine_6",
         "marker": {
          "color": "#FF6692",
          "pattern": {
           "shape": ""
          }
         },
         "name": "machine_6",
         "offsetgroup": "machine_6",
         "orientation": "h",
         "showlegend": true,
         "textposition": "auto",
         "type": "bar",
         "x": [
          23000,
          161000,
          55000,
          158000,
          69000,
          127000,
          167000,
          9000,
          40000,
          51000,
          103000,
          174000,
          142000,
          14000,
          127000,
          158000,
          50000,
          20000,
          84000,
          85000,
          65000,
          106000,
          135000,
          103000,
          11000,
          16000,
          109000,
          83000,
          55000,
          96000,
          141000,
          61000,
          63000,
          79000,
          128000,
          174000,
          129000,
          17000,
          99000,
          66000,
          165000,
          168000,
          62000,
          125000,
          155000,
          142000,
          173000,
          39000,
          141000,
          93000
         ],
         "xaxis": "x",
         "y": [
          "job_47",
          "job_19",
          "job_15",
          "job_1",
          "job_23",
          "job_14",
          "job_11",
          "job_3",
          "job_21",
          "job_33",
          "job_13",
          "job_22",
          "job_5",
          "job_42",
          "job_40",
          "job_31",
          "job_49",
          "job_10",
          "job_41",
          "job_12",
          "job_2",
          "job_38",
          "job_30",
          "job_36",
          "job_37",
          "job_17",
          "job_43",
          "job_16",
          "job_35",
          "job_26",
          "job_6",
          "job_32",
          "job_24",
          "job_20",
          "job_18",
          "job_29",
          "job_0",
          "job_7",
          "job_44",
          "job_9",
          "job_48",
          "job_46",
          "job_34",
          "job_45",
          "job_28",
          "job_39",
          "job_8",
          "job_4",
          "job_25",
          "job_27"
         ],
         "yaxis": "y"
        },
        {
         "alignmentgroup": "True",
         "base": [
          "2022-01-01T00:00:00",
          "2022-01-01T00:00:28",
          "2022-01-01T00:01:25",
          "2022-01-01T00:01:42",
          "2022-01-01T00:04:57",
          "2022-01-01T00:06:28",
          "2022-01-01T00:07:11",
          "2022-01-01T00:10:03",
          "2022-01-01T00:13:06",
          "2022-01-01T00:15:36",
          "2022-01-01T00:17:39",
          "2022-01-01T00:20:03",
          "2022-01-01T00:23:22",
          "2022-01-01T00:26:01",
          "2022-01-01T00:27:35",
          "2022-01-01T00:27:51",
          "2022-01-01T00:30:48",
          "2022-01-01T00:31:54",
          "2022-01-01T00:33:28",
          "2022-01-01T00:36:15",
          "2022-01-01T00:37:48",
          "2022-01-01T00:40:06",
          "2022-01-01T00:41:31",
          "2022-01-01T00:43:54",
          "2022-01-01T00:45:15",
          "2022-01-01T00:46:37",
          "2022-01-01T00:48:24",
          "2022-01-01T00:50:44",
          "2022-01-01T00:51:50",
          "2022-01-01T00:54:53",
          "2022-01-01T00:55:33",
          "2022-01-01T00:58:13",
          "2022-01-01T00:59:16",
          "2022-01-01T01:00:34",
          "2022-01-01T01:01:38",
          "2022-01-01T01:03:27",
          "2022-01-01T01:03:30",
          "2022-01-01T01:05:26",
          "2022-01-01T01:08:40",
          "2022-01-01T01:09:47",
          "2022-01-01T01:12:30",
          "2022-01-01T01:13:07",
          "2022-01-01T01:15:56",
          "2022-01-01T01:16:08",
          "2022-01-01T01:16:50",
          "2022-01-01T01:19:37",
          "2022-01-01T01:19:55",
          "2022-01-01T01:20:03",
          "2022-01-01T01:26:44",
          "2022-01-01T01:28:47"
         ],
         "hovertemplate": "Machine=machine_7<br>Start=%{base}<br>Finish=%{x}<br>Job=%{y}<extra></extra>",
         "legendgroup": "machine_7",
         "marker": {
          "color": "#B6E880",
          "pattern": {
           "shape": ""
          }
         },
         "name": "machine_7",
         "offsetgroup": "machine_7",
         "orientation": "h",
         "showlegend": true,
         "textposition": "auto",
         "type": "bar",
         "x": [
          28000,
          57000,
          17000,
          195000,
          91000,
          43000,
          172000,
          183000,
          150000,
          123000,
          144000,
          199000,
          159000,
          94000,
          16000,
          177000,
          66000,
          94000,
          167000,
          93000,
          138000,
          85000,
          143000,
          81000,
          82000,
          107000,
          140000,
          66000,
          183000,
          40000,
          160000,
          63000,
          78000,
          64000,
          109000,
          3000,
          116000,
          194000,
          67000,
          163000,
          37000,
          169000,
          12000,
          42000,
          167000,
          18000,
          8000,
          89000,
          73000,
          24000
         ],
         "xaxis": "x",
         "y": [
          "job_41",
          "job_9",
          "job_11",
          "job_29",
          "job_39",
          "job_18",
          "job_31",
          "job_23",
          "job_1",
          "job_0",
          "job_26",
          "job_33",
          "job_12",
          "job_5",
          "job_10",
          "job_34",
          "job_17",
          "job_35",
          "job_6",
          "job_14",
          "job_2",
          "job_48",
          "job_32",
          "job_13",
          "job_24",
          "job_20",
          "job_44",
          "job_37",
          "job_30",
          "job_7",
          "job_15",
          "job_3",
          "job_42",
          "job_27",
          "job_25",
          "job_40",
          "job_45",
          "job_43",
          "job_46",
          "job_21",
          "job_36",
          "job_8",
          "job_16",
          "job_19",
          "job_4",
          "job_28",
          "job_49",
          "job_47",
          "job_22",
          "job_38"
         ],
         "yaxis": "y"
        },
        {
         "alignmentgroup": "True",
         "base": [
          "2022-01-01T00:00:00",
          "2022-01-01T00:00:04",
          "2022-01-01T00:00:47",
          "2022-01-01T00:03:15",
          "2022-01-01T00:04:52",
          "2022-01-01T00:05:29",
          "2022-01-01T00:05:30",
          "2022-01-01T00:05:34",
          "2022-01-01T00:05:41",
          "2022-01-01T00:06:23",
          "2022-01-01T00:08:50",
          "2022-01-01T00:12:09",
          "2022-01-01T00:14:50",
          "2022-01-01T00:16:01",
          "2022-01-01T00:18:30",
          "2022-01-01T00:21:13",
          "2022-01-01T00:23:37",
          "2022-01-01T00:27:08",
          "2022-01-01T00:28:53",
          "2022-01-01T00:29:15",
          "2022-01-01T00:33:08",
          "2022-01-01T00:36:28",
          "2022-01-01T00:36:34",
          "2022-01-01T00:37:09",
          "2022-01-01T00:39:54",
          "2022-01-01T00:41:34",
          "2022-01-01T00:41:48",
          "2022-01-01T00:44:42",
          "2022-01-01T00:45:10",
          "2022-01-01T00:47:13",
          "2022-01-01T00:47:21",
          "2022-01-01T00:50:35",
          "2022-01-01T00:52:42",
          "2022-01-01T00:54:50",
          "2022-01-01T00:56:56",
          "2022-01-01T00:59:34",
          "2022-01-01T01:01:35",
          "2022-01-01T01:02:07",
          "2022-01-01T01:04:24",
          "2022-01-01T01:07:33",
          "2022-01-01T01:09:05",
          "2022-01-01T01:11:35",
          "2022-01-01T01:12:54",
          "2022-01-01T01:16:58",
          "2022-01-01T01:22:08",
          "2022-01-01T01:22:56",
          "2022-01-01T01:24:10",
          "2022-01-01T01:26:55",
          "2022-01-01T01:29:11",
          "2022-01-01T01:38:18"
         ],
         "hovertemplate": "Machine=machine_8<br>Start=%{base}<br>Finish=%{x}<br>Job=%{y}<extra></extra>",
         "legendgroup": "machine_8",
         "marker": {
          "color": "#FF97FF",
          "pattern": {
           "shape": ""
          }
         },
         "name": "machine_8",
         "offsetgroup": "machine_8",
         "orientation": "h",
         "showlegend": true,
         "textposition": "auto",
         "type": "bar",
         "x": [
          4000,
          43000,
          148000,
          97000,
          37000,
          1000,
          4000,
          7000,
          42000,
          147000,
          115000,
          161000,
          71000,
          149000,
          163000,
          144000,
          4000,
          105000,
          22000,
          46000,
          200000,
          6000,
          5000,
          165000,
          100000,
          14000,
          174000,
          28000,
          123000,
          8000,
          194000,
          127000,
          128000,
          126000,
          158000,
          121000,
          32000,
          137000,
          189000,
          48000,
          150000,
          79000,
          136000,
          198000,
          48000,
          51000,
          65000,
          2000,
          181000,
          5000
         ],
         "xaxis": "x",
         "y": [
          "job_31",
          "job_39",
          "job_47",
          "job_25",
          "job_24",
          "job_16",
          "job_36",
          "job_11",
          "job_7",
          "job_5",
          "job_0",
          "job_14",
          "job_43",
          "job_3",
          "job_48",
          "job_32",
          "job_46",
          "job_49",
          "job_37",
          "job_10",
          "job_34",
          "job_30",
          "job_35",
          "job_1",
          "job_26",
          "job_4",
          "job_2",
          "job_40",
          "job_9",
          "job_6",
          "job_29",
          "job_13",
          "job_33",
          "job_18",
          "job_12",
          "job_28",
          "job_44",
          "job_23",
          "job_15",
          "job_22",
          "job_20",
          "job_42",
          "job_17",
          "job_21",
          "job_27",
          "job_41",
          "job_8",
          "job_45",
          "job_38",
          "job_19"
         ],
         "yaxis": "y"
        },
        {
         "alignmentgroup": "True",
         "base": [
          "2022-01-01T00:00:00",
          "2022-01-01T00:01:35",
          "2022-01-01T00:02:49",
          "2022-01-01T00:02:55",
          "2022-01-01T00:04:30",
          "2022-01-01T00:07:12",
          "2022-01-01T00:07:22",
          "2022-01-01T00:10:06",
          "2022-01-01T00:12:57",
          "2022-01-01T00:14:07",
          "2022-01-01T00:15:26",
          "2022-01-01T00:17:45",
          "2022-01-01T00:19:19",
          "2022-01-01T00:22:26",
          "2022-01-01T00:25:02",
          "2022-01-01T00:26:38",
          "2022-01-01T00:28:56",
          "2022-01-01T00:29:04",
          "2022-01-01T00:29:37",
          "2022-01-01T00:31:29",
          "2022-01-01T00:32:30",
          "2022-01-01T00:34:15",
          "2022-01-01T00:35:19",
          "2022-01-01T00:36:00",
          "2022-01-01T00:37:48",
          "2022-01-01T00:40:06",
          "2022-01-01T00:43:54",
          "2022-01-01T00:46:12",
          "2022-01-01T00:46:35",
          "2022-01-01T00:47:34",
          "2022-01-01T00:49:06",
          "2022-01-01T00:49:34",
          "2022-01-01T00:51:03",
          "2022-01-01T00:54:04",
          "2022-01-01T00:56:31",
          "2022-01-01T00:58:01",
          "2022-01-01T01:00:35",
          "2022-01-01T01:04:24",
          "2022-01-01T01:05:29",
          "2022-01-01T01:07:48",
          "2022-01-01T01:10:10",
          "2022-01-01T01:12:30",
          "2022-01-01T01:17:41",
          "2022-01-01T01:19:51",
          "2022-01-01T01:21:17",
          "2022-01-01T01:21:57",
          "2022-01-01T01:27:06",
          "2022-01-01T01:29:20",
          "2022-01-01T01:32:09",
          "2022-01-01T01:35:01"
         ],
         "hovertemplate": "Machine=machine_9<br>Start=%{base}<br>Finish=%{x}<br>Job=%{y}<extra></extra>",
         "legendgroup": "machine_9",
         "marker": {
          "color": "#FECB52",
          "pattern": {
           "shape": ""
          }
         },
         "name": "machine_9",
         "offsetgroup": "machine_9",
         "orientation": "h",
         "showlegend": true,
         "textposition": "auto",
         "type": "bar",
         "x": [
          95000,
          74000,
          6000,
          95000,
          162000,
          10000,
          164000,
          171000,
          70000,
          79000,
          139000,
          94000,
          187000,
          156000,
          96000,
          138000,
          8000,
          33000,
          112000,
          61000,
          105000,
          64000,
          4000,
          26000,
          138000,
          89000,
          138000,
          23000,
          4000,
          69000,
          22000,
          89000,
          181000,
          87000,
          90000,
          136000,
          52000,
          37000,
          49000,
          20000,
          129000,
          189000,
          130000,
          86000,
          31000,
          86000,
          134000,
          169000,
          172000,
          11000
         ],
         "xaxis": "x",
         "y": [
          "job_6",
          "job_5",
          "job_35",
          "job_10",
          "job_47",
          "job_3",
          "job_49",
          "job_41",
          "job_0",
          "job_45",
          "job_44",
          "job_30",
          "job_12",
          "job_22",
          "job_39",
          "job_13",
          "job_24",
          "job_16",
          "job_28",
          "job_40",
          "job_43",
          "job_33",
          "job_48",
          "job_29",
          "job_14",
          "job_1",
          "job_32",
          "job_36",
          "job_34",
          "job_38",
          "job_18",
          "job_11",
          "job_20",
          "job_37",
          "job_26",
          "job_7",
          "job_9",
          "job_23",
          "job_46",
          "job_31",
          "job_17",
          "job_21",
          "job_42",
          "job_8",
          "job_15",
          "job_2",
          "job_25",
          "job_19",
          "job_4",
          "job_27"
         ],
         "yaxis": "y"
        },
        {
         "alignmentgroup": "True",
         "base": [
          "2022-01-01T00:47:41",
          "2022-01-01T00:58:05",
          "2022-01-01T00:58:53",
          "2022-01-01T01:01:45",
          "2022-01-01T01:02:41",
          "2022-01-01T01:03:40",
          "2022-01-01T01:06:06",
          "2022-01-01T01:08:51",
          "2022-01-01T01:12:15",
          "2022-01-01T01:13:09",
          "2022-01-01T01:14:19",
          "2022-01-01T01:15:27",
          "2022-01-01T01:16:56",
          "2022-01-01T01:18:46",
          "2022-01-01T01:19:42",
          "2022-01-01T01:20:54",
          "2022-01-01T01:22:07",
          "2022-01-01T01:26:06",
          "2022-01-01T01:28:32",
          "2022-01-01T01:30:53",
          "2022-01-01T01:32:32",
          "2022-01-01T01:42:38",
          "2022-01-01T01:45:41",
          "2022-01-01T01:46:51",
          "2022-01-01T01:47:07",
          "2022-01-01T01:49:06",
          "2022-01-01T01:50:20",
          "2022-01-01T01:52:33",
          "2022-01-01T01:54:29",
          "2022-01-01T01:57:59",
          "2022-01-01T01:59:05",
          "2022-01-01T01:59:13",
          "2022-01-01T02:01:13",
          "2022-01-01T02:04:19",
          "2022-01-01T02:07:24",
          "2022-01-01T02:09:12",
          "2022-01-01T02:14:38",
          "2022-01-01T02:16:43",
          "2022-01-01T02:16:50",
          "2022-01-01T02:20:05",
          "2022-01-01T02:20:21",
          "2022-01-01T02:22:49",
          "2022-01-01T02:23:04",
          "2022-01-01T02:25:20",
          "2022-01-01T02:27:49",
          "2022-01-01T02:30:38",
          "2022-01-01T02:34:28",
          "2022-01-01T02:35:06",
          "2022-01-01T02:35:55",
          "2022-01-01T02:39:14"
         ],
         "hovertemplate": "Machine=machine_10<br>Start=%{base}<br>Finish=%{x}<br>Job=%{y}<extra></extra>",
         "legendgroup": "machine_10",
         "marker": {
          "color": "#636efa",
          "pattern": {
           "shape": ""
          }
         },
         "name": "machine_10",
         "offsetgroup": "machine_10",
         "orientation": "h",
         "showlegend": true,
         "textposition": "auto",
         "type": "bar",
         "x": [
          157000,
          2000,
          172000,
          56000,
          59000,
          32000,
          38000,
          154000,
          54000,
          70000,
          68000,
          89000,
          110000,
          56000,
          72000,
          73000,
          200000,
          123000,
          140000,
          99000,
          74000,
          183000,
          70000,
          5000,
          119000,
          74000,
          133000,
          116000,
          93000,
          66000,
          8000,
          120000,
          186000,
          185000,
          44000,
          117000,
          125000,
          7000,
          195000,
          16000,
          148000,
          15000,
          136000,
          149000,
          169000,
          84000,
          38000,
          49000,
          199000,
          90000
         ],
         "xaxis": "x",
         "y": [
          "job_35",
          "job_10",
          "job_13",
          "job_11",
          "job_1",
          "job_24",
          "job_6",
          "job_26",
          "job_48",
          "job_36",
          "job_46",
          "job_30",
          "job_7",
          "job_0",
          "job_33",
          "job_9",
          "job_29",
          "job_23",
          "job_20",
          "job_45",
          "job_3",
          "job_32",
          "job_39",
          "job_18",
          "job_40",
          "job_38",
          "job_4",
          "job_14",
          "job_17",
          "job_19",
          "job_43",
          "job_21",
          "job_15",
          "job_28",
          "job_5",
          "job_8",
          "job_25",
          "job_34",
          "job_47",
          "job_42",
          "job_22",
          "job_37",
          "job_44",
          "job_49",
          "job_2",
          "job_31",
          "job_12",
          "job_41",
          "job_16",
          "job_27"
         ],
         "yaxis": "y"
        },
        {
         "alignmentgroup": "True",
         "base": [
          "2022-01-01T00:43:47",
          "2022-01-01T00:50:44",
          "2022-01-01T00:58:43",
          "2022-01-01T00:59:55",
          "2022-01-01T01:01:27",
          "2022-01-01T01:04:28",
          "2022-01-01T01:04:42",
          "2022-01-01T01:07:35",
          "2022-01-01T01:09:10",
          "2022-01-01T01:11:24",
          "2022-01-01T01:13:24",
          "2022-01-01T01:14:19",
          "2022-01-01T01:16:40",
          "2022-01-01T01:18:58",
          "2022-01-01T01:20:34",
          "2022-01-01T01:22:00",
          "2022-01-01T01:22:44",
          "2022-01-01T01:24:39",
          "2022-01-01T01:26:56",
          "2022-01-01T01:28:22",
          "2022-01-01T01:31:08",
          "2022-01-01T01:33:59",
          "2022-01-01T01:34:00",
          "2022-01-01T01:36:16",
          "2022-01-01T01:39:15",
          "2022-01-01T01:41:44",
          "2022-01-01T01:42:13",
          "2022-01-01T01:45:08",
          "2022-01-01T01:47:32",
          "2022-01-01T01:49:24",
          "2022-01-01T01:50:33",
          "2022-01-01T01:51:57",
          "2022-01-01T01:53:38",
          "2022-01-01T01:55:58",
          "2022-01-01T01:57:59",
          "2022-01-01T02:00:12",
          "2022-01-01T02:01:12",
          "2022-01-01T02:03:33",
          "2022-01-01T02:05:57",
          "2022-01-01T02:07:41",
          "2022-01-01T02:08:54",
          "2022-01-01T02:09:54",
          "2022-01-01T02:10:47",
          "2022-01-01T02:12:54",
          "2022-01-01T02:16:03",
          "2022-01-01T02:17:57",
          "2022-01-01T02:18:35",
          "2022-01-01T02:19:34",
          "2022-01-01T02:28:53",
          "2022-01-01T02:34:11"
         ],
         "hovertemplate": "Machine=machine_11<br>Start=%{base}<br>Finish=%{x}<br>Job=%{y}<extra></extra>",
         "legendgroup": "machine_11",
         "marker": {
          "color": "#EF553B",
          "pattern": {
           "shape": ""
          }
         },
         "name": "machine_11",
         "offsetgroup": "machine_11",
         "orientation": "h",
         "showlegend": true,
         "textposition": "auto",
         "type": "bar",
         "x": [
          62000,
          35000,
          10000,
          33000,
          181000,
          14000,
          164000,
          95000,
          134000,
          120000,
          55000,
          93000,
          138000,
          96000,
          86000,
          44000,
          115000,
          137000,
          86000,
          166000,
          171000,
          1000,
          136000,
          179000,
          149000,
          29000,
          175000,
          144000,
          112000,
          69000,
          84000,
          101000,
          140000,
          121000,
          133000,
          60000,
          141000,
          144000,
          104000,
          73000,
          60000,
          20000,
          19000,
          20000,
          114000,
          38000,
          59000,
          105000,
          16000,
          33000
         ],
         "xaxis": "x",
         "y": [
          "job_35",
          "job_10",
          "job_13",
          "job_11",
          "job_9",
          "job_32",
          "job_5",
          "job_0",
          "job_24",
          "job_46",
          "job_7",
          "job_1",
          "job_39",
          "job_29",
          "job_30",
          "job_23",
          "job_34",
          "job_15",
          "job_18",
          "job_43",
          "job_31",
          "job_42",
          "job_48",
          "job_27",
          "job_45",
          "job_36",
          "job_33",
          "job_37",
          "job_17",
          "job_12",
          "job_40",
          "job_6",
          "job_3",
          "job_19",
          "job_22",
          "job_44",
          "job_2",
          "job_38",
          "job_16",
          "job_28",
          "job_47",
          "job_26",
          "job_25",
          "job_21",
          "job_49",
          "job_20",
          "job_8",
          "job_4",
          "job_14",
          "job_41"
         ],
         "yaxis": "y"
        },
        {
         "alignmentgroup": "True",
         "base": [
          "2022-01-01T00:44:49",
          "2022-01-01T00:51:19",
          "2022-01-01T00:52:55",
          "2022-01-01T00:59:46",
          "2022-01-01T01:01:21",
          "2022-01-01T01:06:13",
          "2022-01-01T01:09:18",
          "2022-01-01T01:10:50",
          "2022-01-01T01:13:41",
          "2022-01-01T01:15:46",
          "2022-01-01T01:18:57",
          "2022-01-01T01:19:59",
          "2022-01-01T01:22:59",
          "2022-01-01T01:23:39",
          "2022-01-01T01:26:30",
          "2022-01-01T01:28:48",
          "2022-01-01T01:31:01",
          "2022-01-01T01:34:04",
          "2022-01-01T01:34:42",
          "2022-01-01T01:37:55",
          "2022-01-01T01:38:23",
          "2022-01-01T01:41:40",
          "2022-01-01T01:41:58",
          "2022-01-01T01:43:03",
          "2022-01-01T01:44:39",
          "2022-01-01T01:47:07",
          "2022-01-01T01:47:49",
          "2022-01-01T01:50:14",
          "2022-01-01T01:53:10",
          "2022-01-01T01:54:57",
          "2022-01-01T01:56:29",
          "2022-01-01T01:56:38",
          "2022-01-01T02:00:47",
          "2022-01-01T02:02:32",
          "2022-01-01T02:06:17",
          "2022-01-01T02:07:31",
          "2022-01-01T02:09:38",
          "2022-01-01T02:11:06",
          "2022-01-01T02:12:16",
          "2022-01-01T02:14:40",
          "2022-01-01T02:16:50",
          "2022-01-01T02:17:34",
          "2022-01-01T02:18:21",
          "2022-01-01T02:20:05",
          "2022-01-01T02:23:30",
          "2022-01-01T02:27:36",
          "2022-01-01T02:32:02",
          "2022-01-01T02:33:30",
          "2022-01-01T02:34:29",
          "2022-01-01T02:37:11"
         ],
         "hovertemplate": "Machine=machine_12<br>Start=%{base}<br>Finish=%{x}<br>Job=%{y}<extra></extra>",
         "legendgroup": "machine_12",
         "marker": {
          "color": "#00cc96",
          "pattern": {
           "shape": ""
          }
         },
         "name": "machine_12",
         "offsetgroup": "machine_12",
         "orientation": "h",
         "showlegend": true,
         "textposition": "auto",
         "type": "bar",
         "x": [
          172000,
          8000,
          13000,
          95000,
          61000,
          185000,
          92000,
          171000,
          125000,
          191000,
          62000,
          180000,
          40000,
          171000,
          138000,
          133000,
          183000,
          38000,
          193000,
          28000,
          197000,
          18000,
          65000,
          96000,
          148000,
          42000,
          145000,
          176000,
          107000,
          92000,
          9000,
          84000,
          105000,
          129000,
          35000,
          28000,
          1000,
          6000,
          144000,
          88000,
          44000,
          47000,
          32000,
          144000,
          19000,
          89000,
          88000,
          59000,
          162000,
          164000
         ],
         "xaxis": "x",
         "y": [
          "job_35",
          "job_10",
          "job_11",
          "job_24",
          "job_18",
          "job_32",
          "job_0",
          "job_13",
          "job_34",
          "job_23",
          "job_26",
          "job_48",
          "job_46",
          "job_37",
          "job_33",
          "job_9",
          "job_30",
          "job_6",
          "job_7",
          "job_1",
          "job_29",
          "job_3",
          "job_39",
          "job_19",
          "job_40",
          "job_4",
          "job_41",
          "job_17",
          "job_21",
          "job_45",
          "job_5",
          "job_43",
          "job_28",
          "job_36",
          "job_44",
          "job_2",
          "job_20",
          "job_25",
          "job_15",
          "job_8",
          "job_14",
          "job_42",
          "job_49",
          "job_47",
          "job_38",
          "job_22",
          "job_27",
          "job_16",
          "job_31",
          "job_12"
         ],
         "yaxis": "y"
        },
        {
         "alignmentgroup": "True",
         "base": [
          "2022-01-01T00:43:27",
          "2022-01-01T00:51:24",
          "2022-01-01T00:56:54",
          "2022-01-01T00:58:07",
          "2022-01-01T01:00:28",
          "2022-01-01T01:03:40",
          "2022-01-01T01:04:09",
          "2022-01-01T01:06:40",
          "2022-01-01T01:08:44",
          "2022-01-01T01:09:18",
          "2022-01-01T01:13:33",
          "2022-01-01T01:16:40",
          "2022-01-01T01:16:44",
          "2022-01-01T01:22:48",
          "2022-01-01T01:23:39",
          "2022-01-01T01:24:39",
          "2022-01-01T01:25:45",
          "2022-01-01T01:26:19",
          "2022-01-01T01:27:55",
          "2022-01-01T01:29:58",
          "2022-01-01T01:31:45",
          "2022-01-01T01:32:51",
          "2022-01-01T01:33:31",
          "2022-01-01T01:34:26",
          "2022-01-01T01:37:18",
          "2022-01-01T01:38:23",
          "2022-01-01T01:39:38",
          "2022-01-01T01:44:08",
          "2022-01-01T01:45:55",
          "2022-01-01T01:47:05",
          "2022-01-01T01:52:33",
          "2022-01-01T01:54:04",
          "2022-01-01T01:56:00",
          "2022-01-01T01:57:18",
          "2022-01-01T01:59:17",
          "2022-01-01T02:01:13",
          "2022-01-01T02:02:17",
          "2022-01-01T02:05:23",
          "2022-01-01T02:07:31",
          "2022-01-01T02:09:38",
          "2022-01-01T02:16:00",
          "2022-01-01T02:19:46",
          "2022-01-01T02:22:44",
          "2022-01-01T02:26:25",
          "2022-01-01T02:28:53",
          "2022-01-01T02:31:20",
          "2022-01-01T02:34:11",
          "2022-01-01T02:35:14",
          "2022-01-01T02:39:55",
          "2022-01-01T02:45:33"
         ],
         "hovertemplate": "Machine=machine_13<br>Start=%{base}<br>Finish=%{x}<br>Job=%{y}<extra></extra>",
         "legendgroup": "machine_13",
         "marker": {
          "color": "#ab63fa",
          "pattern": {
           "shape": ""
          }
         },
         "name": "machine_13",
         "offsetgroup": "machine_13",
         "orientation": "h",
         "showlegend": true,
         "textposition": "auto",
         "type": "bar",
         "x": [
          20000,
          25000,
          64000,
          118000,
          40000,
          26000,
          44000,
          124000,
          13000,
          174000,
          187000,
          4000,
          89000,
          21000,
          35000,
          66000,
          21000,
          96000,
          123000,
          107000,
          66000,
          40000,
          55000,
          172000,
          65000,
          75000,
          191000,
          47000,
          70000,
          50000,
          91000,
          116000,
          78000,
          119000,
          90000,
          33000,
          186000,
          128000,
          127000,
          69000,
          51000,
          173000,
          46000,
          148000,
          147000,
          171000,
          63000,
          162000,
          40000,
          47000
         ],
         "xaxis": "x",
         "y": [
          "job_35",
          "job_5",
          "job_0",
          "job_10",
          "job_11",
          "job_1",
          "job_29",
          "job_9",
          "job_24",
          "job_32",
          "job_39",
          "job_17",
          "job_36",
          "job_40",
          "job_46",
          "job_34",
          "job_23",
          "job_13",
          "job_30",
          "job_18",
          "job_43",
          "job_8",
          "job_22",
          "job_31",
          "job_6",
          "job_44",
          "job_4",
          "job_47",
          "job_7",
          "job_3",
          "job_19",
          "job_26",
          "job_15",
          "job_37",
          "job_28",
          "job_21",
          "job_33",
          "job_2",
          "job_20",
          "job_25",
          "job_42",
          "job_45",
          "job_38",
          "job_14",
          "job_49",
          "job_41",
          "job_48",
          "job_27",
          "job_12",
          "job_16"
         ],
         "yaxis": "y"
        },
        {
         "alignmentgroup": "True",
         "base": [
          "2022-01-01T00:51:03",
          "2022-01-01T00:54:35",
          "2022-01-01T00:57:58",
          "2022-01-01T01:01:21",
          "2022-01-01T01:03:12",
          "2022-01-01T01:03:51",
          "2022-01-01T01:05:28",
          "2022-01-01T01:07:15",
          "2022-01-01T01:08:51",
          "2022-01-01T01:11:40",
          "2022-01-01T01:13:39",
          "2022-01-01T01:15:48",
          "2022-01-01T01:16:40",
          "2022-01-01T01:16:50",
          "2022-01-01T01:20:10",
          "2022-01-01T01:23:11",
          "2022-01-01T01:25:43",
          "2022-01-01T01:25:57",
          "2022-01-01T01:28:01",
          "2022-01-01T01:31:05",
          "2022-01-01T01:36:42",
          "2022-01-01T01:39:13",
          "2022-01-01T01:47:05",
          "2022-01-01T01:49:06",
          "2022-01-01T01:50:14",
          "2022-01-01T01:51:52",
          "2022-01-01T01:53:07",
          "2022-01-01T01:55:41",
          "2022-01-01T01:59:01",
          "2022-01-01T02:02:15",
          "2022-01-01T02:04:25",
          "2022-01-01T02:04:28",
          "2022-01-01T02:05:57",
          "2022-01-01T02:08:44",
          "2022-01-01T02:10:07",
          "2022-01-01T02:10:24",
          "2022-01-01T02:13:20",
          "2022-01-01T02:14:38",
          "2022-01-01T02:15:32",
          "2022-01-01T02:16:19",
          "2022-01-01T02:16:50",
          "2022-01-01T02:19:53",
          "2022-01-01T02:20:08",
          "2022-01-01T02:20:26",
          "2022-01-01T02:22:12",
          "2022-01-01T02:22:31",
          "2022-01-01T02:30:21",
          "2022-01-01T02:35:12",
          "2022-01-01T02:36:04",
          "2022-01-01T02:46:20"
         ],
         "hovertemplate": "Machine=machine_14<br>Start=%{base}<br>Finish=%{x}<br>Job=%{y}<extra></extra>",
         "legendgroup": "machine_14",
         "marker": {
          "color": "#FFA15A",
          "pattern": {
           "shape": ""
          }
         },
         "name": "machine_14",
         "offsetgroup": "machine_14",
         "orientation": "h",
         "showlegend": true,
         "textposition": "auto",
         "type": "bar",
         "x": [
          112000,
          62000,
          164000,
          111000,
          39000,
          97000,
          107000,
          96000,
          169000,
          119000,
          129000,
          52000,
          10000,
          200000,
          181000,
          152000,
          14000,
          124000,
          172000,
          67000,
          151000,
          65000,
          97000,
          54000,
          13000,
          41000,
          154000,
          200000,
          194000,
          130000,
          3000,
          89000,
          167000,
          83000,
          17000,
          176000,
          78000,
          54000,
          47000,
          31000,
          183000,
          15000,
          18000,
          102000,
          9000,
          124000,
          101000,
          52000,
          65000,
          110000
         ],
         "xaxis": "x",
         "y": [
          "job_11",
          "job_10",
          "job_0",
          "job_24",
          "job_18",
          "job_13",
          "job_23",
          "job_26",
          "job_35",
          "job_1",
          "job_9",
          "job_29",
          "job_32",
          "job_46",
          "job_17",
          "job_20",
          "job_30",
          "job_39",
          "job_45",
          "job_3",
          "job_28",
          "job_49",
          "job_7",
          "job_40",
          "job_41",
          "job_19",
          "job_37",
          "job_6",
          "job_36",
          "job_5",
          "job_44",
          "job_31",
          "job_15",
          "job_33",
          "job_43",
          "job_4",
          "job_25",
          "job_34",
          "job_47",
          "job_14",
          "job_2",
          "job_22",
          "job_38",
          "job_42",
          "job_8",
          "job_21",
          "job_27",
          "job_12",
          "job_48",
          "job_16"
         ],
         "yaxis": "y"
        },
        {
         "alignmentgroup": "True",
         "base": [
          "2022-01-01T00:47:33",
          "2022-01-01T00:50:44",
          "2022-01-01T00:58:17",
          "2022-01-01T00:59:55",
          "2022-01-01T01:02:32",
          "2022-01-01T01:04:56",
          "2022-01-01T01:06:44",
          "2022-01-01T01:12:32",
          "2022-01-01T01:12:46",
          "2022-01-01T01:15:10",
          "2022-01-01T01:15:48",
          "2022-01-01T01:22:00",
          "2022-01-01T01:23:54",
          "2022-01-01T01:25:27",
          "2022-01-01T01:27:07",
          "2022-01-01T01:28:23",
          "2022-01-01T01:31:11",
          "2022-01-01T01:31:47",
          "2022-01-01T01:33:51",
          "2022-01-01T01:36:36",
          "2022-01-01T01:38:47",
          "2022-01-01T01:41:48",
          "2022-01-01T01:42:06",
          "2022-01-01T01:43:35",
          "2022-01-01T01:44:55",
          "2022-01-01T01:46:59",
          "2022-01-01T01:47:23",
          "2022-01-01T01:50:12",
          "2022-01-01T01:52:24",
          "2022-01-01T01:53:54",
          "2022-01-01T01:55:27",
          "2022-01-01T01:55:58",
          "2022-01-01T01:58:16",
          "2022-01-01T01:58:38",
          "2022-01-01T01:58:52",
          "2022-01-01T01:59:47",
          "2022-01-01T02:01:04",
          "2022-01-01T02:03:54",
          "2022-01-01T02:06:29",
          "2022-01-01T02:07:39",
          "2022-01-01T02:09:12",
          "2022-01-01T02:12:04",
          "2022-01-01T02:15:21",
          "2022-01-01T02:18:00",
          "2022-01-01T02:21:16",
          "2022-01-01T02:22:44",
          "2022-01-01T02:25:40",
          "2022-01-01T02:26:25",
          "2022-01-01T02:35:06",
          "2022-01-01T02:37:09"
         ],
         "hovertemplate": "Machine=machine_15<br>Start=%{base}<br>Finish=%{x}<br>Job=%{y}<extra></extra>",
         "legendgroup": "machine_15",
         "marker": {
          "color": "#19d3f3",
          "pattern": {
           "shape": ""
          }
         },
         "name": "machine_15",
         "offsetgroup": "machine_15",
         "orientation": "h",
         "showlegend": true,
         "textposition": "auto",
         "type": "bar",
         "x": [
          191000,
          200000,
          98000,
          157000,
          144000,
          19000,
          3000,
          14000,
          23000,
          33000,
          123000,
          114000,
          71000,
          100000,
          76000,
          168000,
          36000,
          124000,
          165000,
          131000,
          181000,
          18000,
          89000,
          80000,
          124000,
          24000,
          169000,
          132000,
          90000,
          93000,
          1000,
          138000,
          22000,
          14000,
          55000,
          77000,
          170000,
          155000,
          70000,
          93000,
          172000,
          197000,
          159000,
          196000,
          88000,
          176000,
          45000,
          194000,
          6000,
          45000
         ],
         "xaxis": "x",
         "y": [
          "job_10",
          "job_35",
          "job_11",
          "job_5",
          "job_0",
          "job_24",
          "job_6",
          "job_7",
          "job_23",
          "job_17",
          "job_9",
          "job_30",
          "job_40",
          "job_29",
          "job_20",
          "job_1",
          "job_22",
          "job_13",
          "job_33",
          "job_37",
          "job_42",
          "job_2",
          "job_25",
          "job_18",
          "job_34",
          "job_47",
          "job_32",
          "job_28",
          "job_46",
          "job_41",
          "job_19",
          "job_3",
          "job_4",
          "job_49",
          "job_15",
          "job_43",
          "job_31",
          "job_26",
          "job_21",
          "job_8",
          "job_45",
          "job_36",
          "job_44",
          "job_39",
          "job_38",
          "job_16",
          "job_14",
          "job_27",
          "job_12",
          "job_48"
         ],
         "yaxis": "y"
        },
        {
         "alignmentgroup": "True",
         "base": [
          "2022-01-01T00:54:04",
          "2022-01-01T01:00:05",
          "2022-01-01T01:02:51",
          "2022-01-01T01:04:39",
          "2022-01-01T01:06:40",
          "2022-01-01T01:09:34",
          "2022-01-01T01:12:45",
          "2022-01-01T01:13:44",
          "2022-01-01T01:16:21",
          "2022-01-01T01:19:12",
          "2022-01-01T01:21:30",
          "2022-01-01T01:23:07",
          "2022-01-01T01:25:05",
          "2022-01-01T01:26:19",
          "2022-01-01T01:29:39",
          "2022-01-01T01:31:05",
          "2022-01-01T01:32:34",
          "2022-01-01T01:35:16",
          "2022-01-01T01:38:22",
          "2022-01-01T01:39:22",
          "2022-01-01T01:42:19",
          "2022-01-01T01:42:38",
          "2022-01-01T01:44:55",
          "2022-01-01T01:45:42",
          "2022-01-01T01:45:43",
          "2022-01-01T01:49:00",
          "2022-01-01T01:49:01",
          "2022-01-01T01:50:51",
          "2022-01-01T01:53:07",
          "2022-01-01T01:53:12",
          "2022-01-01T01:54:58",
          "2022-01-01T01:55:59",
          "2022-01-01T01:59:09",
          "2022-01-01T02:01:24",
          "2022-01-01T02:04:19",
          "2022-01-01T02:04:38",
          "2022-01-01T02:05:03",
          "2022-01-01T02:05:22",
          "2022-01-01T02:08:02",
          "2022-01-01T02:10:31",
          "2022-01-01T02:10:39",
          "2022-01-01T02:11:58",
          "2022-01-01T02:13:51",
          "2022-01-01T02:15:29",
          "2022-01-01T02:16:00",
          "2022-01-01T02:17:01",
          "2022-01-01T02:19:44",
          "2022-01-01T02:22:11",
          "2022-01-01T02:25:19",
          "2022-01-01T02:39:14"
         ],
         "hovertemplate": "Machine=machine_16<br>Start=%{base}<br>Finish=%{x}<br>Job=%{y}<extra></extra>",
         "legendgroup": "machine_16",
         "marker": {
          "color": "#FF6692",
          "pattern": {
           "shape": ""
          }
         },
         "name": "machine_16",
         "offsetgroup": "machine_16",
         "orientation": "h",
         "showlegend": true,
         "textposition": "auto",
         "type": "bar",
         "x": [
          192000,
          166000,
          108000,
          121000,
          174000,
          191000,
          59000,
          157000,
          171000,
          138000,
          97000,
          118000,
          74000,
          200000,
          86000,
          89000,
          162000,
          186000,
          60000,
          177000,
          19000,
          137000,
          47000,
          1000,
          197000,
          1000,
          110000,
          136000,
          5000,
          106000,
          61000,
          190000,
          135000,
          175000,
          19000,
          25000,
          19000,
          160000,
          149000,
          8000,
          79000,
          113000,
          98000,
          31000,
          61000,
          163000,
          147000,
          188000,
          194000,
          170000
         ],
         "xaxis": "x",
         "y": [
          "job_35",
          "job_10",
          "job_5",
          "job_9",
          "job_11",
          "job_23",
          "job_29",
          "job_0",
          "job_33",
          "job_7",
          "job_13",
          "job_18",
          "job_1",
          "job_28",
          "job_3",
          "job_40",
          "job_12",
          "job_45",
          "job_24",
          "job_17",
          "job_32",
          "job_14",
          "job_46",
          "job_19",
          "job_25",
          "job_22",
          "job_31",
          "job_37",
          "job_26",
          "job_36",
          "job_15",
          "job_21",
          "job_30",
          "job_20",
          "job_34",
          "job_8",
          "job_39",
          "job_47",
          "job_41",
          "job_2",
          "job_43",
          "job_48",
          "job_38",
          "job_42",
          "job_6",
          "job_27",
          "job_44",
          "job_49",
          "job_4",
          "job_16"
         ],
         "yaxis": "y"
        },
        {
         "alignmentgroup": "True",
         "base": [
          "2022-01-01T00:51:27",
          "2022-01-01T00:55:04",
          "2022-01-01T00:58:17",
          "2022-01-01T00:58:39",
          "2022-01-01T01:01:46",
          "2022-01-01T01:03:51",
          "2022-01-01T01:04:09",
          "2022-01-01T01:05:03",
          "2022-01-01T01:05:28",
          "2022-01-01T01:10:03",
          "2022-01-01T01:12:15",
          "2022-01-01T01:12:46",
          "2022-01-01T01:16:16",
          "2022-01-01T01:17:51",
          "2022-01-01T01:19:59",
          "2022-01-01T01:23:08",
          "2022-01-01T01:26:21",
          "2022-01-01T01:28:23",
          "2022-01-01T01:31:08",
          "2022-01-01T01:32:02",
          "2022-01-01T01:34:31",
          "2022-01-01T01:37:13",
          "2022-01-01T01:38:13",
          "2022-01-01T01:39:07",
          "2022-01-01T01:41:37",
          "2022-01-01T01:44:04",
          "2022-01-01T01:46:40",
          "2022-01-01T01:46:59",
          "2022-01-01T01:49:46",
          "2022-01-01T01:49:48",
          "2022-01-01T01:51:20",
          "2022-01-01T01:53:38",
          "2022-01-01T01:56:07",
          "2022-01-01T01:56:29",
          "2022-01-01T01:59:38",
          "2022-01-01T02:02:00",
          "2022-01-01T02:05:06",
          "2022-01-01T02:06:28",
          "2022-01-01T02:07:38",
          "2022-01-01T02:10:13",
          "2022-01-01T02:12:16",
          "2022-01-01T02:14:31",
          "2022-01-01T02:18:00",
          "2022-01-01T02:22:21",
          "2022-01-01T02:24:38",
          "2022-01-01T02:26:55",
          "2022-01-01T02:29:09",
          "2022-01-01T02:29:39",
          "2022-01-01T02:30:38",
          "2022-01-01T02:42:04"
         ],
         "hovertemplate": "Machine=machine_17<br>Start=%{base}<br>Finish=%{x}<br>Job=%{y}<extra></extra>",
         "legendgroup": "machine_17",
         "marker": {
          "color": "#B6E880",
          "pattern": {
           "shape": ""
          }
         },
         "name": "machine_17",
         "offsetgroup": "machine_17",
         "orientation": "h",
         "showlegend": true,
         "textposition": "auto",
         "type": "bar",
         "x": [
          188000,
          193000,
          22000,
          187000,
          125000,
          18000,
          54000,
          25000,
          169000,
          132000,
          31000,
          109000,
          73000,
          24000,
          17000,
          193000,
          122000,
          165000,
          54000,
          149000,
          162000,
          60000,
          54000,
          150000,
          147000,
          156000,
          10000,
          167000,
          2000,
          92000,
          138000,
          149000,
          22000,
          189000,
          142000,
          186000,
          82000,
          70000,
          155000,
          123000,
          135000,
          92000,
          97000,
          137000,
          137000,
          41000,
          16000,
          42000,
          187000,
          73000
         ],
         "xaxis": "x",
         "y": [
          "job_10",
          "job_11",
          "job_5",
          "job_32",
          "job_13",
          "job_29",
          "job_35",
          "job_23",
          "job_24",
          "job_48",
          "job_0",
          "job_30",
          "job_20",
          "job_9",
          "job_26",
          "job_42",
          "job_41",
          "job_21",
          "job_17",
          "job_1",
          "job_46",
          "job_43",
          "job_18",
          "job_6",
          "job_28",
          "job_36",
          "job_3",
          "job_34",
          "job_7",
          "job_25",
          "job_12",
          "job_4",
          "job_31",
          "job_47",
          "job_40",
          "job_19",
          "job_45",
          "job_33",
          "job_37",
          "job_15",
          "job_39",
          "job_49",
          "job_44",
          "job_8",
          "job_38",
          "job_22",
          "job_14",
          "job_27",
          "job_2",
          "job_16"
         ],
         "yaxis": "y"
        },
        {
         "alignmentgroup": "True",
         "base": [
          "2022-01-01T00:46:19",
          "2022-01-01T00:51:49",
          "2022-01-01T00:54:48",
          "2022-01-01T00:57:59",
          "2022-01-01T01:00:45",
          "2022-01-01T01:02:32",
          "2022-01-01T01:04:38",
          "2022-01-01T01:06:06",
          "2022-01-01T01:07:35",
          "2022-01-01T01:10:31",
          "2022-01-01T01:13:09",
          "2022-01-01T01:18:58",
          "2022-01-01T01:21:20",
          "2022-01-01T01:22:41",
          "2022-01-01T01:22:43",
          "2022-01-01T01:25:56",
          "2022-01-01T01:28:08",
          "2022-01-01T01:28:28",
          "2022-01-01T01:28:32",
          "2022-01-01T01:29:46",
          "2022-01-01T01:31:32",
          "2022-01-01T01:33:55",
          "2022-01-01T01:34:09",
          "2022-01-01T01:36:27",
          "2022-01-01T01:38:23",
          "2022-01-01T01:40:17",
          "2022-01-01T01:43:26",
          "2022-01-01T01:45:55",
          "2022-01-01T01:46:10",
          "2022-01-01T01:47:23",
          "2022-01-01T01:50:30",
          "2022-01-01T01:55:27",
          "2022-01-01T01:58:12",
          "2022-01-01T02:01:24",
          "2022-01-01T02:03:12",
          "2022-01-01T02:04:55",
          "2022-01-01T02:07:33",
          "2022-01-01T02:08:42",
          "2022-01-01T02:09:40",
          "2022-01-01T02:12:54",
          "2022-01-01T02:14:02",
          "2022-01-01T02:17:20",
          "2022-01-01T02:18:23",
          "2022-01-01T02:19:09",
          "2022-01-01T02:19:18",
          "2022-01-01T02:22:08",
          "2022-01-01T02:24:27",
          "2022-01-01T02:29:25",
          "2022-01-01T02:31:14",
          "2022-01-01T02:43:17"
         ],
         "hovertemplate": "Machine=machine_18<br>Start=%{base}<br>Finish=%{x}<br>Job=%{y}<extra></extra>",
         "legendgroup": "machine_18",
         "marker": {
          "color": "#FF97FF",
          "pattern": {
           "shape": ""
          }
         },
         "name": "machine_18",
         "offsetgroup": "machine_18",
         "orientation": "h",
         "showlegend": true,
         "textposition": "auto",
         "type": "bar",
         "x": [
          74000,
          179000,
          16000,
          166000,
          107000,
          45000,
          88000,
          89000,
          176000,
          28000,
          61000,
          142000,
          81000,
          2000,
          193000,
          132000,
          20000,
          4000,
          74000,
          106000,
          143000,
          14000,
          138000,
          15000,
          114000,
          189000,
          149000,
          15000,
          58000,
          187000,
          82000,
          165000,
          107000,
          30000,
          103000,
          158000,
          69000,
          58000,
          194000,
          68000,
          198000,
          63000,
          46000,
          9000,
          28000,
          139000,
          135000,
          108000,
          194000,
          136000
         ],
         "xaxis": "x",
         "y": [
          "job_10",
          "job_5",
          "job_11",
          "job_18",
          "job_35",
          "job_32",
          "job_6",
          "job_0",
          "job_13",
          "job_34",
          "job_23",
          "job_39",
          "job_46",
          "job_3",
          "job_33",
          "job_40",
          "job_44",
          "job_20",
          "job_17",
          "job_48",
          "job_2",
          "job_29",
          "job_9",
          "job_28",
          "job_1",
          "job_24",
          "job_7",
          "job_27",
          "job_38",
          "job_47",
          "job_19",
          "job_41",
          "job_26",
          "job_30",
          "job_25",
          "job_36",
          "job_31",
          "job_43",
          "job_21",
          "job_8",
          "job_37",
          "job_4",
          "job_15",
          "job_49",
          "job_45",
          "job_42",
          "job_22",
          "job_14",
          "job_12",
          "job_16"
         ],
         "yaxis": "y"
        },
        {
         "alignmentgroup": "True",
         "base": [
          "2022-01-01T00:54:48",
          "2022-01-01T00:57:25",
          "2022-01-01T00:58:05",
          "2022-01-01T00:58:29",
          "2022-01-01T01:00:42",
          "2022-01-01T01:02:41",
          "2022-01-01T01:04:08",
          "2022-01-01T01:05:53",
          "2022-01-01T01:13:44",
          "2022-01-01T01:15:46",
          "2022-01-01T01:18:19",
          "2022-01-01T01:20:16",
          "2022-01-01T01:22:07",
          "2022-01-01T01:23:36",
          "2022-01-01T01:24:46",
          "2022-01-01T01:26:19",
          "2022-01-01T01:27:46",
          "2022-01-01T01:30:21",
          "2022-01-01T01:33:32",
          "2022-01-01T01:35:24",
          "2022-01-01T01:38:35",
          "2022-01-01T01:39:32",
          "2022-01-01T01:41:29",
          "2022-01-01T01:44:08",
          "2022-01-01T01:45:56",
          "2022-01-01T01:47:39",
          "2022-01-01T01:49:03",
          "2022-01-01T01:50:00",
          "2022-01-01T01:52:49",
          "2022-01-01T01:55:59",
          "2022-01-01T01:57:56",
          "2022-01-01T02:00:23",
          "2022-01-01T02:01:35",
          "2022-01-01T02:02:17",
          "2022-01-01T02:03:12",
          "2022-01-01T02:04:36",
          "2022-01-01T02:06:17",
          "2022-01-01T02:07:53",
          "2022-01-01T02:11:02",
          "2022-01-01T02:13:45",
          "2022-01-01T02:17:03",
          "2022-01-01T02:19:41",
          "2022-01-01T02:22:12",
          "2022-01-01T02:22:31",
          "2022-01-01T02:25:06",
          "2022-01-01T02:26:55",
          "2022-01-01T02:29:47",
          "2022-01-01T02:31:14",
          "2022-01-01T02:32:47",
          "2022-01-01T02:33:30"
         ],
         "hovertemplate": "Machine=machine_19<br>Start=%{base}<br>Finish=%{x}<br>Job=%{y}<extra></extra>",
         "legendgroup": "machine_19",
         "marker": {
          "color": "#FECB52",
          "pattern": {
           "shape": ""
          }
         },
         "name": "machine_19",
         "offsetgroup": "machine_19",
         "orientation": "h",
         "showlegend": true,
         "textposition": "auto",
         "type": "bar",
         "x": [
          157000,
          40000,
          24000,
          77000,
          79000,
          87000,
          105000,
          20000,
          2000,
          153000,
          66000,
          101000,
          89000,
          70000,
          93000,
          87000,
          155000,
          191000,
          112000,
          191000,
          57000,
          117000,
          159000,
          108000,
          103000,
          84000,
          57000,
          169000,
          190000,
          117000,
          147000,
          72000,
          42000,
          55000,
          84000,
          101000,
          96000,
          189000,
          163000,
          198000,
          158000,
          151000,
          19000,
          155000,
          109000,
          172000,
          87000,
          93000,
          9000,
          64000
         ],
         "xaxis": "x",
         "y": [
          "job_5",
          "job_10",
          "job_35",
          "job_24",
          "job_0",
          "job_11",
          "job_1",
          "job_32",
          "job_29",
          "job_34",
          "job_17",
          "job_26",
          "job_9",
          "job_23",
          "job_13",
          "job_30",
          "job_15",
          "job_37",
          "job_39",
          "job_42",
          "job_7",
          "job_18",
          "job_47",
          "job_38",
          "job_19",
          "job_14",
          "job_46",
          "job_22",
          "job_49",
          "job_28",
          "job_45",
          "job_4",
          "job_33",
          "job_25",
          "job_40",
          "job_44",
          "job_43",
          "job_6",
          "job_2",
          "job_20",
          "job_31",
          "job_8",
          "job_21",
          "job_3",
          "job_48",
          "job_41",
          "job_12",
          "job_16",
          "job_36",
          "job_27"
         ],
         "yaxis": "y"
        }
       ],
       "layout": {
        "barmode": "overlay",
        "legend": {
         "title": {
          "text": "Machine"
         },
         "tracegroupgap": 0
        },
        "margin": {
         "t": 60
        },
        "template": {
         "data": {
          "bar": [
           {
            "error_x": {
             "color": "#2a3f5f"
            },
            "error_y": {
             "color": "#2a3f5f"
            },
            "marker": {
             "line": {
              "color": "#E5ECF6",
              "width": 0.5
             },
             "pattern": {
              "fillmode": "overlay",
              "size": 10,
              "solidity": 0.2
             }
            },
            "type": "bar"
           }
          ],
          "barpolar": [
           {
            "marker": {
             "line": {
              "color": "#E5ECF6",
              "width": 0.5
             },
             "pattern": {
              "fillmode": "overlay",
              "size": 10,
              "solidity": 0.2
             }
            },
            "type": "barpolar"
           }
          ],
          "carpet": [
           {
            "aaxis": {
             "endlinecolor": "#2a3f5f",
             "gridcolor": "white",
             "linecolor": "white",
             "minorgridcolor": "white",
             "startlinecolor": "#2a3f5f"
            },
            "baxis": {
             "endlinecolor": "#2a3f5f",
             "gridcolor": "white",
             "linecolor": "white",
             "minorgridcolor": "white",
             "startlinecolor": "#2a3f5f"
            },
            "type": "carpet"
           }
          ],
          "choropleth": [
           {
            "colorbar": {
             "outlinewidth": 0,
             "ticks": ""
            },
            "type": "choropleth"
           }
          ],
          "contour": [
           {
            "colorbar": {
             "outlinewidth": 0,
             "ticks": ""
            },
            "colorscale": [
             [
              0,
              "#0d0887"
             ],
             [
              0.1111111111111111,
              "#46039f"
             ],
             [
              0.2222222222222222,
              "#7201a8"
             ],
             [
              0.3333333333333333,
              "#9c179e"
             ],
             [
              0.4444444444444444,
              "#bd3786"
             ],
             [
              0.5555555555555556,
              "#d8576b"
             ],
             [
              0.6666666666666666,
              "#ed7953"
             ],
             [
              0.7777777777777778,
              "#fb9f3a"
             ],
             [
              0.8888888888888888,
              "#fdca26"
             ],
             [
              1,
              "#f0f921"
             ]
            ],
            "type": "contour"
           }
          ],
          "contourcarpet": [
           {
            "colorbar": {
             "outlinewidth": 0,
             "ticks": ""
            },
            "type": "contourcarpet"
           }
          ],
          "heatmap": [
           {
            "colorbar": {
             "outlinewidth": 0,
             "ticks": ""
            },
            "colorscale": [
             [
              0,
              "#0d0887"
             ],
             [
              0.1111111111111111,
              "#46039f"
             ],
             [
              0.2222222222222222,
              "#7201a8"
             ],
             [
              0.3333333333333333,
              "#9c179e"
             ],
             [
              0.4444444444444444,
              "#bd3786"
             ],
             [
              0.5555555555555556,
              "#d8576b"
             ],
             [
              0.6666666666666666,
              "#ed7953"
             ],
             [
              0.7777777777777778,
              "#fb9f3a"
             ],
             [
              0.8888888888888888,
              "#fdca26"
             ],
             [
              1,
              "#f0f921"
             ]
            ],
            "type": "heatmap"
           }
          ],
          "heatmapgl": [
           {
            "colorbar": {
             "outlinewidth": 0,
             "ticks": ""
            },
            "colorscale": [
             [
              0,
              "#0d0887"
             ],
             [
              0.1111111111111111,
              "#46039f"
             ],
             [
              0.2222222222222222,
              "#7201a8"
             ],
             [
              0.3333333333333333,
              "#9c179e"
             ],
             [
              0.4444444444444444,
              "#bd3786"
             ],
             [
              0.5555555555555556,
              "#d8576b"
             ],
             [
              0.6666666666666666,
              "#ed7953"
             ],
             [
              0.7777777777777778,
              "#fb9f3a"
             ],
             [
              0.8888888888888888,
              "#fdca26"
             ],
             [
              1,
              "#f0f921"
             ]
            ],
            "type": "heatmapgl"
           }
          ],
          "histogram": [
           {
            "marker": {
             "pattern": {
              "fillmode": "overlay",
              "size": 10,
              "solidity": 0.2
             }
            },
            "type": "histogram"
           }
          ],
          "histogram2d": [
           {
            "colorbar": {
             "outlinewidth": 0,
             "ticks": ""
            },
            "colorscale": [
             [
              0,
              "#0d0887"
             ],
             [
              0.1111111111111111,
              "#46039f"
             ],
             [
              0.2222222222222222,
              "#7201a8"
             ],
             [
              0.3333333333333333,
              "#9c179e"
             ],
             [
              0.4444444444444444,
              "#bd3786"
             ],
             [
              0.5555555555555556,
              "#d8576b"
             ],
             [
              0.6666666666666666,
              "#ed7953"
             ],
             [
              0.7777777777777778,
              "#fb9f3a"
             ],
             [
              0.8888888888888888,
              "#fdca26"
             ],
             [
              1,
              "#f0f921"
             ]
            ],
            "type": "histogram2d"
           }
          ],
          "histogram2dcontour": [
           {
            "colorbar": {
             "outlinewidth": 0,
             "ticks": ""
            },
            "colorscale": [
             [
              0,
              "#0d0887"
             ],
             [
              0.1111111111111111,
              "#46039f"
             ],
             [
              0.2222222222222222,
              "#7201a8"
             ],
             [
              0.3333333333333333,
              "#9c179e"
             ],
             [
              0.4444444444444444,
              "#bd3786"
             ],
             [
              0.5555555555555556,
              "#d8576b"
             ],
             [
              0.6666666666666666,
              "#ed7953"
             ],
             [
              0.7777777777777778,
              "#fb9f3a"
             ],
             [
              0.8888888888888888,
              "#fdca26"
             ],
             [
              1,
              "#f0f921"
             ]
            ],
            "type": "histogram2dcontour"
           }
          ],
          "mesh3d": [
           {
            "colorbar": {
             "outlinewidth": 0,
             "ticks": ""
            },
            "type": "mesh3d"
           }
          ],
          "parcoords": [
           {
            "line": {
             "colorbar": {
              "outlinewidth": 0,
              "ticks": ""
             }
            },
            "type": "parcoords"
           }
          ],
          "pie": [
           {
            "automargin": true,
            "type": "pie"
           }
          ],
          "scatter": [
           {
            "fillpattern": {
             "fillmode": "overlay",
             "size": 10,
             "solidity": 0.2
            },
            "type": "scatter"
           }
          ],
          "scatter3d": [
           {
            "line": {
             "colorbar": {
              "outlinewidth": 0,
              "ticks": ""
             }
            },
            "marker": {
             "colorbar": {
              "outlinewidth": 0,
              "ticks": ""
             }
            },
            "type": "scatter3d"
           }
          ],
          "scattercarpet": [
           {
            "marker": {
             "colorbar": {
              "outlinewidth": 0,
              "ticks": ""
             }
            },
            "type": "scattercarpet"
           }
          ],
          "scattergeo": [
           {
            "marker": {
             "colorbar": {
              "outlinewidth": 0,
              "ticks": ""
             }
            },
            "type": "scattergeo"
           }
          ],
          "scattergl": [
           {
            "marker": {
             "colorbar": {
              "outlinewidth": 0,
              "ticks": ""
             }
            },
            "type": "scattergl"
           }
          ],
          "scattermapbox": [
           {
            "marker": {
             "colorbar": {
              "outlinewidth": 0,
              "ticks": ""
             }
            },
            "type": "scattermapbox"
           }
          ],
          "scatterpolar": [
           {
            "marker": {
             "colorbar": {
              "outlinewidth": 0,
              "ticks": ""
             }
            },
            "type": "scatterpolar"
           }
          ],
          "scatterpolargl": [
           {
            "marker": {
             "colorbar": {
              "outlinewidth": 0,
              "ticks": ""
             }
            },
            "type": "scatterpolargl"
           }
          ],
          "scatterternary": [
           {
            "marker": {
             "colorbar": {
              "outlinewidth": 0,
              "ticks": ""
             }
            },
            "type": "scatterternary"
           }
          ],
          "surface": [
           {
            "colorbar": {
             "outlinewidth": 0,
             "ticks": ""
            },
            "colorscale": [
             [
              0,
              "#0d0887"
             ],
             [
              0.1111111111111111,
              "#46039f"
             ],
             [
              0.2222222222222222,
              "#7201a8"
             ],
             [
              0.3333333333333333,
              "#9c179e"
             ],
             [
              0.4444444444444444,
              "#bd3786"
             ],
             [
              0.5555555555555556,
              "#d8576b"
             ],
             [
              0.6666666666666666,
              "#ed7953"
             ],
             [
              0.7777777777777778,
              "#fb9f3a"
             ],
             [
              0.8888888888888888,
              "#fdca26"
             ],
             [
              1,
              "#f0f921"
             ]
            ],
            "type": "surface"
           }
          ],
          "table": [
           {
            "cells": {
             "fill": {
              "color": "#EBF0F8"
             },
             "line": {
              "color": "white"
             }
            },
            "header": {
             "fill": {
              "color": "#C8D4E3"
             },
             "line": {
              "color": "white"
             }
            },
            "type": "table"
           }
          ]
         },
         "layout": {
          "annotationdefaults": {
           "arrowcolor": "#2a3f5f",
           "arrowhead": 0,
           "arrowwidth": 1
          },
          "autotypenumbers": "strict",
          "coloraxis": {
           "colorbar": {
            "outlinewidth": 0,
            "ticks": ""
           }
          },
          "colorscale": {
           "diverging": [
            [
             0,
             "#8e0152"
            ],
            [
             0.1,
             "#c51b7d"
            ],
            [
             0.2,
             "#de77ae"
            ],
            [
             0.3,
             "#f1b6da"
            ],
            [
             0.4,
             "#fde0ef"
            ],
            [
             0.5,
             "#f7f7f7"
            ],
            [
             0.6,
             "#e6f5d0"
            ],
            [
             0.7,
             "#b8e186"
            ],
            [
             0.8,
             "#7fbc41"
            ],
            [
             0.9,
             "#4d9221"
            ],
            [
             1,
             "#276419"
            ]
           ],
           "sequential": [
            [
             0,
             "#0d0887"
            ],
            [
             0.1111111111111111,
             "#46039f"
            ],
            [
             0.2222222222222222,
             "#7201a8"
            ],
            [
             0.3333333333333333,
             "#9c179e"
            ],
            [
             0.4444444444444444,
             "#bd3786"
            ],
            [
             0.5555555555555556,
             "#d8576b"
            ],
            [
             0.6666666666666666,
             "#ed7953"
            ],
            [
             0.7777777777777778,
             "#fb9f3a"
            ],
            [
             0.8888888888888888,
             "#fdca26"
            ],
            [
             1,
             "#f0f921"
            ]
           ],
           "sequentialminus": [
            [
             0,
             "#0d0887"
            ],
            [
             0.1111111111111111,
             "#46039f"
            ],
            [
             0.2222222222222222,
             "#7201a8"
            ],
            [
             0.3333333333333333,
             "#9c179e"
            ],
            [
             0.4444444444444444,
             "#bd3786"
            ],
            [
             0.5555555555555556,
             "#d8576b"
            ],
            [
             0.6666666666666666,
             "#ed7953"
            ],
            [
             0.7777777777777778,
             "#fb9f3a"
            ],
            [
             0.8888888888888888,
             "#fdca26"
            ],
            [
             1,
             "#f0f921"
            ]
           ]
          },
          "colorway": [
           "#636efa",
           "#EF553B",
           "#00cc96",
           "#ab63fa",
           "#FFA15A",
           "#19d3f3",
           "#FF6692",
           "#B6E880",
           "#FF97FF",
           "#FECB52"
          ],
          "font": {
           "color": "#2a3f5f"
          },
          "geo": {
           "bgcolor": "white",
           "lakecolor": "white",
           "landcolor": "#E5ECF6",
           "showlakes": true,
           "showland": true,
           "subunitcolor": "white"
          },
          "hoverlabel": {
           "align": "left"
          },
          "hovermode": "closest",
          "mapbox": {
           "style": "light"
          },
          "paper_bgcolor": "white",
          "plot_bgcolor": "#E5ECF6",
          "polar": {
           "angularaxis": {
            "gridcolor": "white",
            "linecolor": "white",
            "ticks": ""
           },
           "bgcolor": "#E5ECF6",
           "radialaxis": {
            "gridcolor": "white",
            "linecolor": "white",
            "ticks": ""
           }
          },
          "scene": {
           "xaxis": {
            "backgroundcolor": "#E5ECF6",
            "gridcolor": "white",
            "gridwidth": 2,
            "linecolor": "white",
            "showbackground": true,
            "ticks": "",
            "zerolinecolor": "white"
           },
           "yaxis": {
            "backgroundcolor": "#E5ECF6",
            "gridcolor": "white",
            "gridwidth": 2,
            "linecolor": "white",
            "showbackground": true,
            "ticks": "",
            "zerolinecolor": "white"
           },
           "zaxis": {
            "backgroundcolor": "#E5ECF6",
            "gridcolor": "white",
            "gridwidth": 2,
            "linecolor": "white",
            "showbackground": true,
            "ticks": "",
            "zerolinecolor": "white"
           }
          },
          "shapedefaults": {
           "line": {
            "color": "#2a3f5f"
           }
          },
          "ternary": {
           "aaxis": {
            "gridcolor": "white",
            "linecolor": "white",
            "ticks": ""
           },
           "baxis": {
            "gridcolor": "white",
            "linecolor": "white",
            "ticks": ""
           },
           "bgcolor": "#E5ECF6",
           "caxis": {
            "gridcolor": "white",
            "linecolor": "white",
            "ticks": ""
           }
          },
          "title": {
           "x": 0.05
          },
          "xaxis": {
           "automargin": true,
           "gridcolor": "white",
           "linecolor": "white",
           "ticks": "",
           "title": {
            "standoff": 15
           },
           "zerolinecolor": "white",
           "zerolinewidth": 2
          },
          "yaxis": {
           "automargin": true,
           "gridcolor": "white",
           "linecolor": "white",
           "ticks": "",
           "title": {
            "standoff": 15
           },
           "zerolinecolor": "white",
           "zerolinewidth": 2
          }
         }
        },
        "xaxis": {
         "anchor": "y",
         "domain": [
          0,
          1
         ],
         "type": "date"
        },
        "yaxis": {
         "anchor": "x",
         "domain": [
          0,
          1
         ],
         "title": {
          "text": "Job"
         }
        }
       }
      }
     },
     "metadata": {},
     "output_type": "display_data"
    }
   ],
   "source": [
    "env.render(y_bar=\"Job\",x_bar=\"Machine\")"
   ]
  },
  {
   "cell_type": "code",
   "execution_count": null,
   "metadata": {},
   "outputs": [],
   "source": []
  },
  {
   "cell_type": "code",
   "execution_count": 6,
   "metadata": {},
   "outputs": [
    {
     "data": {
      "application/vnd.plotly.v1+json": {
       "config": {
        "plotlyServerURL": "https://plot.ly"
       },
       "data": [
        {
         "alignmentgroup": "True",
         "base": [
          "2022-01-01T00:00:00",
          "2022-01-01T00:03:13",
          "2022-01-01T00:03:46",
          "2022-01-01T00:05:35",
          "2022-01-01T00:07:22",
          "2022-01-01T00:10:09",
          "2022-01-01T00:10:16",
          "2022-01-01T00:12:03",
          "2022-01-01T00:12:04",
          "2022-01-01T00:12:54",
          "2022-01-01T00:16:04",
          "2022-01-01T00:20:15",
          "2022-01-01T00:22:08",
          "2022-01-01T00:22:44",
          "2022-01-01T00:25:06",
          "2022-01-01T00:26:51",
          "2022-01-01T00:27:30",
          "2022-01-01T00:32:03",
          "2022-01-01T00:34:20",
          "2022-01-01T00:36:13",
          "2022-01-01T00:37:46",
          "2022-01-01T00:38:51",
          "2022-01-01T00:39:54",
          "2022-01-01T00:40:43",
          "2022-01-01T00:41:22",
          "2022-01-01T00:43:52",
          "2022-01-01T00:44:57",
          "2022-01-01T00:45:35",
          "2022-01-01T00:47:28",
          "2022-01-01T00:48:44",
          "2022-01-01T00:53:13",
          "2022-01-01T00:53:30",
          "2022-01-01T00:58:04",
          "2022-01-01T00:59:32",
          "2022-01-01T01:01:59",
          "2022-01-01T01:05:10",
          "2022-01-01T01:08:29",
          "2022-01-01T01:08:53",
          "2022-01-01T01:12:12",
          "2022-01-01T01:13:15",
          "2022-01-01T01:14:59",
          "2022-01-01T01:15:50",
          "2022-01-01T01:18:48",
          "2022-01-01T01:22:05",
          "2022-01-01T01:24:25",
          "2022-01-01T01:26:21",
          "2022-01-01T01:29:31",
          "2022-01-01T01:30:54",
          "2022-01-01T01:32:41",
          "2022-01-01T01:32:57"
         ],
         "hovertemplate": "Resource=machine_0<br>Start=%{base}<br>Finish=%{x}<br>Task=%{y}<extra></extra>",
         "legendgroup": "machine_0",
         "marker": {
          "color": "#636efa",
          "pattern": {
           "shape": ""
          }
         },
         "name": "machine_0",
         "offsetgroup": "machine_0",
         "orientation": "h",
         "showlegend": true,
         "textposition": "auto",
         "type": "bar",
         "x": [
          193000,
          33000,
          109000,
          107000,
          167000,
          7000,
          107000,
          1000,
          16000,
          190000,
          43000,
          4000,
          36000,
          142000,
          105000,
          17000,
          48000,
          137000,
          113000,
          93000,
          65000,
          63000,
          49000,
          39000,
          150000,
          65000,
          38000,
          44000,
          15000,
          157000,
          1000,
          93000,
          88000,
          112000,
          191000,
          57000,
          24000,
          199000,
          63000,
          43000,
          15000,
          178000,
          197000,
          140000,
          116000,
          190000,
          83000,
          107000,
          16000,
          36000
         ],
         "xaxis": "x",
         "y": [
          "job_49",
          "job_36",
          "job_7",
          "job_13",
          "job_6",
          "job_34",
          "job_37",
          "job_43",
          "job_2",
          "job_8",
          "job_48",
          "job_28",
          "job_24",
          "job_26",
          "job_0",
          "job_44",
          "job_22",
          "job_21",
          "job_11",
          "job_12",
          "job_17",
          "job_41",
          "job_10",
          "job_9",
          "job_27",
          "job_15",
          "job_40",
          "job_3",
          "job_46",
          "job_31",
          "job_4",
          "job_29",
          "job_1",
          "job_23",
          "job_47",
          "job_14",
          "job_5",
          "job_25",
          "job_18",
          "job_19",
          "job_30",
          "job_38",
          "job_42",
          "job_32",
          "job_39",
          "job_20",
          "job_16",
          "job_35",
          "job_33",
          "job_45"
         ],
         "yaxis": "y"
        },
        {
         "alignmentgroup": "True",
         "base": [
          "2022-01-01T00:00:00",
          "2022-01-01T00:00:38",
          "2022-01-01T00:01:43",
          "2022-01-01T00:01:55",
          "2022-01-01T00:02:34",
          "2022-01-01T00:04:09",
          "2022-01-01T00:05:00",
          "2022-01-01T00:08:02",
          "2022-01-01T00:10:14",
          "2022-01-01T00:11:50",
          "2022-01-01T00:13:40",
          "2022-01-01T00:14:34",
          "2022-01-01T00:17:18",
          "2022-01-01T00:18:27",
          "2022-01-01T00:21:03",
          "2022-01-01T00:24:00",
          "2022-01-01T00:25:17",
          "2022-01-01T00:26:52",
          "2022-01-01T00:28:54",
          "2022-01-01T00:30:03",
          "2022-01-01T00:32:03",
          "2022-01-01T00:34:17",
          "2022-01-01T00:35:24",
          "2022-01-01T00:37:29",
          "2022-01-01T00:38:27",
          "2022-01-01T00:41:44",
          "2022-01-01T00:42:40",
          "2022-01-01T00:44:34",
          "2022-01-01T00:47:28",
          "2022-01-01T00:48:44",
          "2022-01-01T00:49:24",
          "2022-01-01T00:49:38",
          "2022-01-01T00:51:33",
          "2022-01-01T00:52:33",
          "2022-01-01T00:53:13",
          "2022-01-01T00:55:54",
          "2022-01-01T00:57:03",
          "2022-01-01T00:59:24",
          "2022-01-01T01:01:31",
          "2022-01-01T01:01:36",
          "2022-01-01T01:04:46",
          "2022-01-01T01:07:05",
          "2022-01-01T01:10:05",
          "2022-01-01T01:10:06",
          "2022-01-01T01:11:15",
          "2022-01-01T01:12:02",
          "2022-01-01T01:13:31",
          "2022-01-01T01:16:46",
          "2022-01-01T01:21:21",
          "2022-01-01T01:25:08"
         ],
         "hovertemplate": "Resource=machine_1<br>Start=%{base}<br>Finish=%{x}<br>Task=%{y}<extra></extra>",
         "legendgroup": "machine_1",
         "marker": {
          "color": "#EF553B",
          "pattern": {
           "shape": ""
          }
         },
         "name": "machine_1",
         "offsetgroup": "machine_1",
         "orientation": "h",
         "showlegend": true,
         "textposition": "auto",
         "type": "bar",
         "x": [
          38000,
          65000,
          12000,
          39000,
          95000,
          30000,
          182000,
          132000,
          96000,
          110000,
          54000,
          164000,
          26000,
          156000,
          177000,
          77000,
          95000,
          122000,
          69000,
          120000,
          134000,
          67000,
          125000,
          58000,
          197000,
          56000,
          114000,
          174000,
          76000,
          40000,
          14000,
          115000,
          60000,
          40000,
          161000,
          69000,
          141000,
          127000,
          5000,
          190000,
          139000,
          180000,
          1000,
          69000,
          47000,
          89000,
          195000,
          196000,
          148000,
          47000
         ],
         "xaxis": "x",
         "y": [
          "job_11",
          "job_16",
          "job_34",
          "job_0",
          "job_27",
          "job_39",
          "job_20",
          "job_43",
          "job_24",
          "job_48",
          "job_1",
          "job_32",
          "job_45",
          "job_25",
          "job_44",
          "job_36",
          "job_42",
          "job_4",
          "job_47",
          "job_21",
          "job_41",
          "job_40",
          "job_9",
          "job_38",
          "job_29",
          "job_13",
          "job_8",
          "job_46",
          "job_31",
          "job_7",
          "job_22",
          "job_28",
          "job_26",
          "job_18",
          "job_6",
          "job_17",
          "job_23",
          "job_5",
          "job_12",
          "job_19",
          "job_49",
          "job_37",
          "job_3",
          "job_2",
          "job_10",
          "job_35",
          "job_15",
          "job_30",
          "job_33",
          "job_14"
         ],
         "yaxis": "y"
        },
        {
         "alignmentgroup": "True",
         "base": [
          "2022-01-01T00:00:00",
          "2022-01-01T00:02:50",
          "2022-01-01T00:03:18",
          "2022-01-01T00:05:00",
          "2022-01-01T00:07:53",
          "2022-01-01T00:10:08",
          "2022-01-01T00:10:50",
          "2022-01-01T00:13:50",
          "2022-01-01T00:15:03",
          "2022-01-01T00:16:40",
          "2022-01-01T00:19:16",
          "2022-01-01T00:22:25",
          "2022-01-01T00:23:35",
          "2022-01-01T00:25:40",
          "2022-01-01T00:26:34",
          "2022-01-01T00:27:36",
          "2022-01-01T00:30:53",
          "2022-01-01T00:32:32",
          "2022-01-01T00:33:09",
          "2022-01-01T00:33:27",
          "2022-01-01T00:36:10",
          "2022-01-01T00:36:53",
          "2022-01-01T00:40:09",
          "2022-01-01T00:41:29",
          "2022-01-01T00:42:58",
          "2022-01-01T00:45:57",
          "2022-01-01T00:46:06",
          "2022-01-01T00:48:25",
          "2022-01-01T00:50:18",
          "2022-01-01T00:52:58",
          "2022-01-01T00:56:01",
          "2022-01-01T00:56:27",
          "2022-01-01T00:56:46",
          "2022-01-01T00:58:04",
          "2022-01-01T00:59:56",
          "2022-01-01T01:02:05",
          "2022-01-01T01:04:04",
          "2022-01-01T01:04:05",
          "2022-01-01T01:04:27",
          "2022-01-01T01:06:33",
          "2022-01-01T01:09:32",
          "2022-01-01T01:10:42",
          "2022-01-01T01:12:01",
          "2022-01-01T01:14:53",
          "2022-01-01T01:17:42",
          "2022-01-01T01:18:38",
          "2022-01-01T01:21:01",
          "2022-01-01T01:26:21",
          "2022-01-01T01:30:03",
          "2022-01-01T01:30:33"
         ],
         "hovertemplate": "Resource=machine_2<br>Start=%{base}<br>Finish=%{x}<br>Task=%{y}<extra></extra>",
         "legendgroup": "machine_2",
         "marker": {
          "color": "#00cc96",
          "pattern": {
           "shape": ""
          }
         },
         "name": "machine_2",
         "offsetgroup": "machine_2",
         "orientation": "h",
         "showlegend": true,
         "textposition": "auto",
         "type": "bar",
         "x": [
          170000,
          28000,
          102000,
          173000,
          135000,
          42000,
          180000,
          73000,
          97000,
          156000,
          189000,
          70000,
          125000,
          54000,
          62000,
          197000,
          99000,
          37000,
          18000,
          163000,
          43000,
          196000,
          80000,
          89000,
          179000,
          9000,
          139000,
          113000,
          160000,
          183000,
          26000,
          19000,
          78000,
          112000,
          129000,
          119000,
          1000,
          22000,
          126000,
          179000,
          70000,
          79000,
          172000,
          169000,
          56000,
          143000,
          183000,
          81000,
          11000,
          86000
         ],
         "xaxis": "x",
         "y": [
          "job_42",
          "job_13",
          "job_20",
          "job_25",
          "job_32",
          "job_29",
          "job_9",
          "job_37",
          "job_19",
          "job_43",
          "job_47",
          "job_36",
          "job_27",
          "job_24",
          "job_45",
          "job_38",
          "job_11",
          "job_17",
          "job_30",
          "job_15",
          "job_26",
          "job_22",
          "job_4",
          "job_48",
          "job_44",
          "job_34",
          "job_23",
          "job_18",
          "job_7",
          "job_5",
          "job_14",
          "job_16",
          "job_1",
          "job_31",
          "job_40",
          "job_49",
          "job_2",
          "job_8",
          "job_35",
          "job_46",
          "job_10",
          "job_21",
          "job_0",
          "job_12",
          "job_28",
          "job_3",
          "job_6",
          "job_39",
          "job_33",
          "job_41"
         ],
         "yaxis": "y"
        },
        {
         "alignmentgroup": "True",
         "base": [
          "2022-01-01T00:00:00",
          "2022-01-01T00:03:19",
          "2022-01-01T00:06:37",
          "2022-01-01T00:08:23",
          "2022-01-01T00:09:29",
          "2022-01-01T00:11:00",
          "2022-01-01T00:11:11",
          "2022-01-01T00:13:13",
          "2022-01-01T00:15:46",
          "2022-01-01T00:18:27",
          "2022-01-01T00:20:03",
          "2022-01-01T00:22:08",
          "2022-01-01T00:23:00",
          "2022-01-01T00:26:00",
          "2022-01-01T00:29:13",
          "2022-01-01T00:31:37",
          "2022-01-01T00:32:01",
          "2022-01-01T00:34:21",
          "2022-01-01T00:36:04",
          "2022-01-01T00:39:02",
          "2022-01-01T00:39:54",
          "2022-01-01T00:40:01",
          "2022-01-01T00:41:11",
          "2022-01-01T00:41:51",
          "2022-01-01T00:42:54",
          "2022-01-01T00:45:47",
          "2022-01-01T00:48:09",
          "2022-01-01T00:51:08",
          "2022-01-01T00:51:38",
          "2022-01-01T00:54:20",
          "2022-01-01T00:56:46",
          "2022-01-01T00:57:39",
          "2022-01-01T00:59:46",
          "2022-01-01T01:03:44",
          "2022-01-01T01:04:05",
          "2022-01-01T01:06:24",
          "2022-01-01T01:09:41",
          "2022-01-01T01:09:51",
          "2022-01-01T01:10:41",
          "2022-01-01T01:11:38",
          "2022-01-01T01:13:02",
          "2022-01-01T01:13:58",
          "2022-01-01T01:16:33",
          "2022-01-01T01:18:48",
          "2022-01-01T01:21:55",
          "2022-01-01T01:22:37",
          "2022-01-01T01:25:29",
          "2022-01-01T01:26:08",
          "2022-01-01T01:27:45",
          "2022-01-01T01:30:14"
         ],
         "hovertemplate": "Resource=machine_3<br>Start=%{base}<br>Finish=%{x}<br>Task=%{y}<extra></extra>",
         "legendgroup": "machine_3",
         "marker": {
          "color": "#ab63fa",
          "pattern": {
           "shape": ""
          }
         },
         "name": "machine_3",
         "offsetgroup": "machine_3",
         "orientation": "h",
         "showlegend": true,
         "textposition": "auto",
         "type": "bar",
         "x": [
          199000,
          198000,
          106000,
          66000,
          91000,
          11000,
          122000,
          153000,
          161000,
          96000,
          125000,
          52000,
          180000,
          193000,
          144000,
          24000,
          140000,
          103000,
          178000,
          23000,
          2000,
          70000,
          40000,
          63000,
          173000,
          36000,
          179000,
          30000,
          162000,
          2000,
          18000,
          77000,
          87000,
          12000,
          139000,
          197000,
          10000,
          50000,
          42000,
          84000,
          13000,
          155000,
          38000,
          187000,
          42000,
          172000,
          39000,
          97000,
          115000,
          92000
         ],
         "xaxis": "x",
         "y": [
          "job_43",
          "job_26",
          "job_45",
          "job_44",
          "job_17",
          "job_5",
          "job_7",
          "job_46",
          "job_25",
          "job_29",
          "job_24",
          "job_3",
          "job_8",
          "job_9",
          "job_27",
          "job_0",
          "job_12",
          "job_13",
          "job_21",
          "job_49",
          "job_41",
          "job_1",
          "job_34",
          "job_4",
          "job_36",
          "job_10",
          "job_48",
          "job_23",
          "job_22",
          "job_31",
          "job_16",
          "job_28",
          "job_20",
          "job_18",
          "job_2",
          "job_47",
          "job_14",
          "job_40",
          "job_37",
          "job_6",
          "job_42",
          "job_19",
          "job_11",
          "job_38",
          "job_39",
          "job_35",
          "job_32",
          "job_30",
          "job_15",
          "job_33"
         ],
         "yaxis": "y"
        },
        {
         "alignmentgroup": "True",
         "base": [
          "2022-01-01T00:00:00",
          "2022-01-01T00:02:43",
          "2022-01-01T00:03:14",
          "2022-01-01T00:06:32",
          "2022-01-01T00:09:24",
          "2022-01-01T00:10:28",
          "2022-01-01T00:13:40",
          "2022-01-01T00:16:30",
          "2022-01-01T00:17:51",
          "2022-01-01T00:20:54",
          "2022-01-01T00:22:38",
          "2022-01-01T00:24:31",
          "2022-01-01T00:27:30",
          "2022-01-01T00:30:11",
          "2022-01-01T00:30:31",
          "2022-01-01T00:32:08",
          "2022-01-01T00:32:35",
          "2022-01-01T00:34:13",
          "2022-01-01T00:34:58",
          "2022-01-01T00:35:23",
          "2022-01-01T00:37:28",
          "2022-01-01T00:40:01",
          "2022-01-01T00:42:04",
          "2022-01-01T00:42:32",
          "2022-01-01T00:45:28",
          "2022-01-01T00:46:26",
          "2022-01-01T00:48:43",
          "2022-01-01T00:51:29",
          "2022-01-01T00:51:45",
          "2022-01-01T00:54:42",
          "2022-01-01T00:57:32",
          "2022-01-01T01:00:16",
          "2022-01-01T01:02:29",
          "2022-01-01T01:03:50",
          "2022-01-01T01:05:31",
          "2022-01-01T01:06:05",
          "2022-01-01T01:08:28",
          "2022-01-01T01:08:44",
          "2022-01-01T01:10:01",
          "2022-01-01T01:11:21",
          "2022-01-01T01:14:17",
          "2022-01-01T01:14:57",
          "2022-01-01T01:16:03",
          "2022-01-01T01:18:45",
          "2022-01-01T01:21:33",
          "2022-01-01T01:23:25",
          "2022-01-01T01:23:57",
          "2022-01-01T01:27:10",
          "2022-01-01T01:27:17",
          "2022-01-01T01:30:33"
         ],
         "hovertemplate": "Resource=machine_4<br>Start=%{base}<br>Finish=%{x}<br>Task=%{y}<extra></extra>",
         "legendgroup": "machine_4",
         "marker": {
          "color": "#FFA15A",
          "pattern": {
           "shape": ""
          }
         },
         "name": "machine_4",
         "offsetgroup": "machine_4",
         "orientation": "h",
         "showlegend": true,
         "textposition": "auto",
         "type": "bar",
         "x": [
          163000,
          31000,
          198000,
          172000,
          64000,
          192000,
          170000,
          81000,
          183000,
          104000,
          113000,
          179000,
          161000,
          20000,
          97000,
          27000,
          98000,
          45000,
          25000,
          125000,
          153000,
          123000,
          28000,
          176000,
          58000,
          137000,
          166000,
          16000,
          177000,
          170000,
          164000,
          133000,
          81000,
          101000,
          34000,
          143000,
          16000,
          77000,
          80000,
          176000,
          40000,
          66000,
          162000,
          168000,
          112000,
          32000,
          193000,
          7000,
          196000,
          200000
         ],
         "xaxis": "x",
         "y": [
          "job_4",
          "job_7",
          "job_2",
          "job_24",
          "job_48",
          "job_27",
          "job_15",
          "job_31",
          "job_18",
          "job_26",
          "job_9",
          "job_21",
          "job_46",
          "job_5",
          "job_34",
          "job_22",
          "job_10",
          "job_43",
          "job_19",
          "job_28",
          "job_1",
          "job_44",
          "job_35",
          "job_47",
          "job_6",
          "job_0",
          "job_30",
          "job_12",
          "job_3",
          "job_13",
          "job_29",
          "job_25",
          "job_23",
          "job_38",
          "job_37",
          "job_40",
          "job_42",
          "job_20",
          "job_39",
          "job_11",
          "job_17",
          "job_36",
          "job_8",
          "job_32",
          "job_49",
          "job_16",
          "job_33",
          "job_45",
          "job_41",
          "job_14"
         ],
         "yaxis": "y"
        },
        {
         "alignmentgroup": "True",
         "base": [
          "2022-01-01T00:00:00",
          "2022-01-01T00:02:54",
          "2022-01-01T00:04:45",
          "2022-01-01T00:05:29",
          "2022-01-01T00:07:10",
          "2022-01-01T00:09:43",
          "2022-01-01T00:12:54",
          "2022-01-01T00:15:30",
          "2022-01-01T00:17:51",
          "2022-01-01T00:18:50",
          "2022-01-01T00:18:58",
          "2022-01-01T00:22:17",
          "2022-01-01T00:24:10",
          "2022-01-01T00:26:28",
          "2022-01-01T00:31:37",
          "2022-01-01T00:33:45",
          "2022-01-01T00:34:15",
          "2022-01-01T00:35:20",
          "2022-01-01T00:37:30",
          "2022-01-01T00:40:01",
          "2022-01-01T00:40:58",
          "2022-01-01T00:41:04",
          "2022-01-01T00:42:58",
          "2022-01-01T00:44:57",
          "2022-01-01T00:47:22",
          "2022-01-01T00:50:28",
          "2022-01-01T00:52:47",
          "2022-01-01T00:53:13",
          "2022-01-01T00:54:47",
          "2022-01-01T00:55:05",
          "2022-01-01T00:57:11",
          "2022-01-01T01:00:06",
          "2022-01-01T01:02:01",
          "2022-01-01T01:05:11",
          "2022-01-01T01:06:33",
          "2022-01-01T01:08:29",
          "2022-01-01T01:10:07",
          "2022-01-01T01:10:31",
          "2022-01-01T01:11:01",
          "2022-01-01T01:12:10",
          "2022-01-01T01:15:23",
          "2022-01-01T01:15:50",
          "2022-01-01T01:18:57",
          "2022-01-01T01:20:44",
          "2022-01-01T01:22:44",
          "2022-01-01T01:23:25",
          "2022-01-01T01:26:43",
          "2022-01-01T01:27:45",
          "2022-01-01T01:29:58",
          "2022-01-01T01:30:54"
         ],
         "hovertemplate": "Resource=machine_5<br>Start=%{base}<br>Finish=%{x}<br>Task=%{y}<extra></extra>",
         "legendgroup": "machine_5",
         "marker": {
          "color": "#19d3f3",
          "pattern": {
           "shape": ""
          }
         },
         "name": "machine_5",
         "offsetgroup": "machine_5",
         "orientation": "h",
         "showlegend": true,
         "textposition": "auto",
         "type": "bar",
         "x": [
          174000,
          111000,
          44000,
          101000,
          153000,
          191000,
          156000,
          141000,
          59000,
          8000,
          199000,
          113000,
          138000,
          147000,
          128000,
          30000,
          65000,
          130000,
          151000,
          57000,
          6000,
          18000,
          87000,
          145000,
          186000,
          139000,
          26000,
          94000,
          18000,
          126000,
          175000,
          115000,
          190000,
          82000,
          116000,
          98000,
          24000,
          30000,
          69000,
          193000,
          27000,
          187000,
          107000,
          120000,
          4000,
          198000,
          62000,
          133000,
          5000,
          121000
         ],
         "xaxis": "x",
         "y": [
          "job_2",
          "job_46",
          "job_14",
          "job_6",
          "job_11",
          "job_8",
          "job_31",
          "job_9",
          "job_17",
          "job_42",
          "job_37",
          "job_25",
          "job_29",
          "job_26",
          "job_27",
          "job_13",
          "job_44",
          "job_10",
          "job_40",
          "job_34",
          "job_41",
          "job_43",
          "job_48",
          "job_15",
          "job_47",
          "job_36",
          "job_4",
          "job_1",
          "job_22",
          "job_24",
          "job_7",
          "job_3",
          "job_0",
          "job_18",
          "job_5",
          "job_19",
          "job_23",
          "job_28",
          "job_12",
          "job_39",
          "job_38",
          "job_35",
          "job_21",
          "job_30",
          "job_20",
          "job_49",
          "job_32",
          "job_45",
          "job_33",
          "job_16"
         ],
         "yaxis": "y"
        },
        {
         "alignmentgroup": "True",
         "base": [
          "2022-01-01T00:00:00",
          "2022-01-01T00:02:41",
          "2022-01-01T00:03:36",
          "2022-01-01T00:06:30",
          "2022-01-01T00:07:10",
          "2022-01-01T00:09:48",
          "2022-01-01T00:10:11",
          "2022-01-01T00:11:02",
          "2022-01-01T00:13:40",
          "2022-01-01T00:15:47",
          "2022-01-01T00:18:09",
          "2022-01-01T00:19:18",
          "2022-01-01T00:21:04",
          "2022-01-01T00:22:09",
          "2022-01-01T00:23:58",
          "2022-01-01T00:24:09",
          "2022-01-01T00:24:23",
          "2022-01-01T00:27:10",
          "2022-01-01T00:28:35",
          "2022-01-01T00:30:18",
          "2022-01-01T00:31:57",
          "2022-01-01T00:33:33",
          "2022-01-01T00:33:42",
          "2022-01-01T00:34:21",
          "2022-01-01T00:35:11",
          "2022-01-01T00:36:34",
          "2022-01-01T00:37:58",
          "2022-01-01T00:39:04",
          "2022-01-01T00:40:47",
          "2022-01-01T00:41:04",
          "2022-01-01T00:43:09",
          "2022-01-01T00:45:24",
          "2022-01-01T00:48:09",
          "2022-01-01T00:48:29",
          "2022-01-01T00:50:36",
          "2022-01-01T00:53:30",
          "2022-01-01T00:54:33",
          "2022-01-01T00:55:52",
          "2022-01-01T00:58:45",
          "2022-01-01T00:59:47",
          "2022-01-01T01:00:03",
          "2022-01-01T01:01:36",
          "2022-01-01T01:03:44",
          "2022-01-01T01:06:19",
          "2022-01-01T01:08:40",
          "2022-01-01T01:09:41",
          "2022-01-01T01:13:02",
          "2022-01-01T01:15:23",
          "2022-01-01T01:27:08",
          "2022-01-01T01:28:03"
         ],
         "hovertemplate": "Resource=machine_6<br>Start=%{base}<br>Finish=%{x}<br>Task=%{y}<extra></extra>",
         "legendgroup": "machine_6",
         "marker": {
          "color": "#FF6692",
          "pattern": {
           "shape": ""
          }
         },
         "name": "machine_6",
         "offsetgroup": "machine_6",
         "orientation": "h",
         "showlegend": true,
         "textposition": "auto",
         "type": "bar",
         "x": [
          161000,
          55000,
          174000,
          40000,
          158000,
          23000,
          51000,
          158000,
          127000,
          142000,
          69000,
          106000,
          65000,
          109000,
          11000,
          14000,
          167000,
          85000,
          103000,
          99000,
          96000,
          9000,
          39000,
          50000,
          83000,
          84000,
          66000,
          103000,
          17000,
          125000,
          135000,
          165000,
          20000,
          127000,
          174000,
          63000,
          79000,
          173000,
          62000,
          16000,
          93000,
          128000,
          155000,
          141000,
          61000,
          168000,
          141000,
          129000,
          55000,
          142000
         ],
         "xaxis": "x",
         "y": [
          "job_19",
          "job_15",
          "job_22",
          "job_21",
          "job_31",
          "job_47",
          "job_33",
          "job_1",
          "job_40",
          "job_5",
          "job_23",
          "job_38",
          "job_2",
          "job_43",
          "job_37",
          "job_42",
          "job_11",
          "job_12",
          "job_13",
          "job_44",
          "job_26",
          "job_3",
          "job_4",
          "job_49",
          "job_16",
          "job_41",
          "job_9",
          "job_36",
          "job_7",
          "job_45",
          "job_30",
          "job_48",
          "job_10",
          "job_14",
          "job_29",
          "job_24",
          "job_20",
          "job_8",
          "job_34",
          "job_17",
          "job_27",
          "job_18",
          "job_28",
          "job_25",
          "job_32",
          "job_46",
          "job_6",
          "job_0",
          "job_35",
          "job_39"
         ],
         "yaxis": "y"
        },
        {
         "alignmentgroup": "True",
         "base": [
          "2022-01-01T00:00:00",
          "2022-01-01T00:00:28",
          "2022-01-01T00:03:43",
          "2022-01-01T00:06:35",
          "2022-01-01T00:06:52",
          "2022-01-01T00:09:49",
          "2022-01-01T00:10:46",
          "2022-01-01T00:12:35",
          "2022-01-01T00:15:14",
          "2022-01-01T00:17:38",
          "2022-01-01T00:19:58",
          "2022-01-01T00:22:45",
          "2022-01-01T00:24:48",
          "2022-01-01T00:26:19",
          "2022-01-01T00:27:23",
          "2022-01-01T00:30:12",
          "2022-01-01T00:33:26",
          "2022-01-01T00:34:09",
          "2022-01-01T00:36:39",
          "2022-01-01T00:38:04",
          "2022-01-01T00:38:44",
          "2022-01-01T00:40:40",
          "2022-01-01T00:42:14",
          "2022-01-01T00:45:17",
          "2022-01-01T00:47:04",
          "2022-01-01T00:48:07",
          "2022-01-01T00:49:29",
          "2022-01-01T00:49:32",
          "2022-01-01T00:50:53",
          "2022-01-01T00:53:36",
          "2022-01-01T00:54:42",
          "2022-01-01T00:57:00",
          "2022-01-01T00:57:16",
          "2022-01-01T00:58:22",
          "2022-01-01T00:59:40",
          "2022-01-01T01:00:22",
          "2022-01-01T01:00:30",
          "2022-01-01T01:01:59",
          "2022-01-01T01:03:12",
          "2022-01-01T01:05:35",
          "2022-01-01T01:05:47",
          "2022-01-01T01:06:11",
          "2022-01-01T01:08:51",
          "2022-01-01T01:11:38",
          "2022-01-01T01:11:56",
          "2022-01-01T01:14:59",
          "2022-01-01T01:18:18",
          "2022-01-01T01:18:55",
          "2022-01-01T01:20:28",
          "2022-01-01T01:25:29"
         ],
         "hovertemplate": "Resource=machine_7<br>Start=%{base}<br>Finish=%{x}<br>Task=%{y}<extra></extra>",
         "legendgroup": "machine_7",
         "marker": {
          "color": "#B6E880",
          "pattern": {
           "shape": ""
          }
         },
         "name": "machine_7",
         "offsetgroup": "machine_7",
         "orientation": "h",
         "showlegend": true,
         "textposition": "auto",
         "type": "bar",
         "x": [
          28000,
          195000,
          172000,
          17000,
          177000,
          57000,
          109000,
          159000,
          144000,
          140000,
          167000,
          123000,
          91000,
          64000,
          169000,
          194000,
          43000,
          150000,
          85000,
          40000,
          116000,
          94000,
          183000,
          107000,
          63000,
          82000,
          3000,
          81000,
          163000,
          66000,
          138000,
          16000,
          66000,
          78000,
          42000,
          8000,
          89000,
          73000,
          143000,
          12000,
          24000,
          160000,
          167000,
          18000,
          183000,
          199000,
          37000,
          93000,
          67000,
          94000
         ],
         "xaxis": "x",
         "y": [
          "job_41",
          "job_29",
          "job_31",
          "job_11",
          "job_34",
          "job_9",
          "job_25",
          "job_12",
          "job_26",
          "job_44",
          "job_4",
          "job_0",
          "job_39",
          "job_27",
          "job_8",
          "job_43",
          "job_18",
          "job_1",
          "job_48",
          "job_7",
          "job_45",
          "job_5",
          "job_23",
          "job_20",
          "job_3",
          "job_24",
          "job_40",
          "job_13",
          "job_21",
          "job_17",
          "job_2",
          "job_10",
          "job_37",
          "job_42",
          "job_19",
          "job_49",
          "job_47",
          "job_22",
          "job_32",
          "job_16",
          "job_38",
          "job_15",
          "job_6",
          "job_28",
          "job_30",
          "job_33",
          "job_36",
          "job_14",
          "job_46",
          "job_35"
         ],
         "yaxis": "y"
        },
        {
         "alignmentgroup": "True",
         "base": [
          "2022-01-01T00:00:00",
          "2022-01-01T00:00:04",
          "2022-01-01T00:01:41",
          "2022-01-01T00:02:23",
          "2022-01-01T00:03:06",
          "2022-01-01T00:05:01",
          "2022-01-01T00:05:15",
          "2022-01-01T00:05:19",
          "2022-01-01T00:06:30",
          "2022-01-01T00:06:52",
          "2022-01-01T00:09:24",
          "2022-01-01T00:10:11",
          "2022-01-01T00:12:39",
          "2022-01-01T00:16:47",
          "2022-01-01T00:19:30",
          "2022-01-01T00:22:17",
          "2022-01-01T00:28:55",
          "2022-01-01T00:30:35",
          "2022-01-01T00:30:39",
          "2022-01-01T00:32:42",
          "2022-01-01T00:36:02",
          "2022-01-01T00:37:47",
          "2022-01-01T00:38:35",
          "2022-01-01T00:39:07",
          "2022-01-01T00:41:36",
          "2022-01-01T00:44:21",
          "2022-01-01T00:44:49",
          "2022-01-01T00:48:03",
          "2022-01-01T00:49:38",
          "2022-01-01T00:50:53",
          "2022-01-01T00:53:00",
          "2022-01-01T00:55:38",
          "2022-01-01T00:57:39",
          "2022-01-01T01:00:33",
          "2022-01-01T01:01:38",
          "2022-01-01T01:02:24",
          "2022-01-01T01:06:11",
          "2022-01-01T01:09:12",
          "2022-01-01T01:11:18",
          "2022-01-01T01:12:37",
          "2022-01-01T01:14:54",
          "2022-01-01T01:18:12",
          "2022-01-01T01:20:42",
          "2022-01-01T01:20:47",
          "2022-01-01T01:20:55",
          "2022-01-01T01:24:04",
          "2022-01-01T01:27:03",
          "2022-01-01T01:27:10",
          "2022-01-01T01:31:59",
          "2022-01-01T01:33:33"
         ],
         "hovertemplate": "Resource=machine_8<br>Start=%{base}<br>Finish=%{x}<br>Task=%{y}<extra></extra>",
         "legendgroup": "machine_8",
         "marker": {
          "color": "#FF97FF",
          "pattern": {
           "shape": ""
          }
         },
         "name": "machine_8",
         "offsetgroup": "machine_8",
         "orientation": "h",
         "showlegend": true,
         "textposition": "auto",
         "type": "bar",
         "x": [
          4000,
          97000,
          42000,
          43000,
          115000,
          14000,
          4000,
          71000,
          1000,
          7000,
          37000,
          148000,
          147000,
          163000,
          144000,
          22000,
          100000,
          4000,
          123000,
          200000,
          105000,
          48000,
          32000,
          149000,
          165000,
          28000,
          194000,
          6000,
          48000,
          127000,
          158000,
          121000,
          174000,
          65000,
          46000,
          161000,
          181000,
          126000,
          79000,
          137000,
          198000,
          150000,
          5000,
          8000,
          189000,
          136000,
          5000,
          128000,
          51000,
          2000
         ],
         "xaxis": "x",
         "y": [
          "job_31",
          "job_25",
          "job_7",
          "job_39",
          "job_0",
          "job_4",
          "job_36",
          "job_43",
          "job_16",
          "job_11",
          "job_24",
          "job_47",
          "job_5",
          "job_48",
          "job_32",
          "job_37",
          "job_26",
          "job_46",
          "job_9",
          "job_34",
          "job_49",
          "job_27",
          "job_44",
          "job_3",
          "job_1",
          "job_40",
          "job_29",
          "job_30",
          "job_22",
          "job_13",
          "job_12",
          "job_28",
          "job_2",
          "job_8",
          "job_10",
          "job_14",
          "job_38",
          "job_18",
          "job_42",
          "job_23",
          "job_21",
          "job_20",
          "job_19",
          "job_6",
          "job_15",
          "job_17",
          "job_35",
          "job_33",
          "job_41",
          "job_45"
         ],
         "yaxis": "y"
        },
        {
         "alignmentgroup": "True",
         "base": [
          "2022-01-01T00:00:00",
          "2022-01-01T00:01:14",
          "2022-01-01T00:02:49",
          "2022-01-01T00:05:56",
          "2022-01-01T00:08:15",
          "2022-01-01T00:09:25",
          "2022-01-01T00:12:09",
          "2022-01-01T00:13:28",
          "2022-01-01T00:16:10",
          "2022-01-01T00:16:43",
          "2022-01-01T00:18:17",
          "2022-01-01T00:18:23",
          "2022-01-01T00:20:15",
          "2022-01-01T00:22:00",
          "2022-01-01T00:23:01",
          "2022-01-01T00:24:36",
          "2022-01-01T00:24:46",
          "2022-01-01T00:24:54",
          "2022-01-01T00:27:30",
          "2022-01-01T00:27:50",
          "2022-01-01T00:30:41",
          "2022-01-01T00:32:59",
          "2022-01-01T00:33:25",
          "2022-01-01T00:34:34",
          "2022-01-01T00:36:53",
          "2022-01-01T00:41:04",
          "2022-01-01T00:43:20",
          "2022-01-01T00:44:12",
          "2022-01-01T00:44:16",
          "2022-01-01T00:47:08",
          "2022-01-01T00:48:37",
          "2022-01-01T00:52:47",
          "2022-01-01T00:53:13",
          "2022-01-01T00:53:36",
          "2022-01-01T00:56:45",
          "2022-01-01T00:59:46",
          "2022-01-01T01:01:36",
          "2022-01-01T01:02:29",
          "2022-01-01T01:05:35",
          "2022-01-01T01:07:53",
          "2022-01-01T01:10:07",
          "2022-01-01T01:12:56",
          "2022-01-01T01:13:45",
          "2022-01-01T01:15:55",
          "2022-01-01T01:16:32",
          "2022-01-01T01:18:41",
          "2022-01-01T01:20:17",
          "2022-01-01T01:21:21",
          "2022-01-01T01:22:50",
          "2022-01-01T01:29:40"
         ],
         "hovertemplate": "Resource=machine_9<br>Start=%{base}<br>Finish=%{x}<br>Task=%{y}<extra></extra>",
         "legendgroup": "machine_9",
         "marker": {
          "color": "#FECB52",
          "pattern": {
           "shape": ""
          }
         },
         "name": "machine_9",
         "offsetgroup": "machine_9",
         "orientation": "h",
         "showlegend": true,
         "textposition": "auto",
         "type": "bar",
         "x": [
          74000,
          95000,
          187000,
          139000,
          70000,
          164000,
          79000,
          162000,
          33000,
          94000,
          6000,
          112000,
          105000,
          61000,
          95000,
          10000,
          8000,
          156000,
          20000,
          171000,
          138000,
          26000,
          69000,
          4000,
          90000,
          136000,
          52000,
          4000,
          172000,
          89000,
          86000,
          23000,
          22000,
          189000,
          181000,
          87000,
          11000,
          134000,
          138000,
          86000,
          169000,
          49000,
          130000,
          37000,
          129000,
          96000,
          64000,
          89000,
          138000,
          31000
         ],
         "xaxis": "x",
         "y": [
          "job_5",
          "job_6",
          "job_12",
          "job_44",
          "job_0",
          "job_49",
          "job_45",
          "job_47",
          "job_16",
          "job_30",
          "job_35",
          "job_28",
          "job_43",
          "job_40",
          "job_10",
          "job_3",
          "job_24",
          "job_22",
          "job_31",
          "job_41",
          "job_13",
          "job_29",
          "job_38",
          "job_48",
          "job_26",
          "job_7",
          "job_9",
          "job_34",
          "job_4",
          "job_1",
          "job_8",
          "job_36",
          "job_18",
          "job_21",
          "job_20",
          "job_37",
          "job_27",
          "job_25",
          "job_32",
          "job_2",
          "job_19",
          "job_46",
          "job_42",
          "job_23",
          "job_17",
          "job_39",
          "job_33",
          "job_11",
          "job_14",
          "job_15"
         ],
         "yaxis": "y"
        },
        {
         "alignmentgroup": "True",
         "base": [
          "2022-01-01T00:47:38",
          "2022-01-01T00:53:20",
          "2022-01-01T00:55:20",
          "2022-01-01T00:57:54",
          "2022-01-01T01:00:46",
          "2022-01-01T01:03:02",
          "2022-01-01T01:03:34",
          "2022-01-01T01:04:33",
          "2022-01-01T01:06:46",
          "2022-01-01T01:08:01",
          "2022-01-01T01:12:01",
          "2022-01-01T01:17:52",
          "2022-01-01T01:21:12",
          "2022-01-01T01:24:55",
          "2022-01-01T01:31:30",
          "2022-01-01T01:33:30",
          "2022-01-01T01:34:44",
          "2022-01-01T01:35:22",
          "2022-01-01T01:36:51",
          "2022-01-01T01:38:15",
          "2022-01-01T01:39:54",
          "2022-01-01T01:40:50",
          "2022-01-01T01:40:57",
          "2022-01-01T01:42:56",
          "2022-01-01T01:47:19",
          "2022-01-01T01:47:28",
          "2022-01-01T01:49:25",
          "2022-01-01T01:50:39",
          "2022-01-01T01:53:16",
          "2022-01-01T01:54:28",
          "2022-01-01T01:56:31",
          "2022-01-01T01:56:46",
          "2022-01-01T01:58:16",
          "2022-01-01T01:59:00",
          "2022-01-01T02:02:06",
          "2022-01-01T02:04:11",
          "2022-01-01T02:06:31",
          "2022-01-01T02:07:37",
          "2022-01-01T02:09:00",
          "2022-01-01T02:12:20",
          "2022-01-01T02:15:25",
          "2022-01-01T02:16:55",
          "2022-01-01T02:18:36",
          "2022-01-01T02:23:30",
          "2022-01-01T02:25:26",
          "2022-01-01T02:26:59",
          "2022-01-01T02:27:48",
          "2022-01-01T02:29:16",
          "2022-01-01T02:32:05",
          "2022-01-01T02:35:08"
         ],
         "hovertemplate": "Resource=machine_10<br>Start=%{base}<br>Finish=%{x}<br>Task=%{y}<extra></extra>",
         "legendgroup": "machine_10",
         "marker": {
          "color": "#636efa",
          "pattern": {
           "shape": ""
          }
         },
         "name": "machine_10",
         "offsetgroup": "machine_10",
         "orientation": "h",
         "showlegend": true,
         "textposition": "auto",
         "type": "bar",
         "x": [
          8000,
          54000,
          154000,
          172000,
          136000,
          32000,
          59000,
          133000,
          73000,
          110000,
          148000,
          200000,
          70000,
          68000,
          120000,
          74000,
          38000,
          89000,
          84000,
          99000,
          56000,
          7000,
          119000,
          199000,
          2000,
          117000,
          74000,
          157000,
          72000,
          123000,
          15000,
          90000,
          44000,
          186000,
          125000,
          140000,
          66000,
          70000,
          195000,
          185000,
          5000,
          38000,
          16000,
          116000,
          93000,
          49000,
          56000,
          169000,
          183000,
          149000
         ],
         "xaxis": "x",
         "y": [
          "job_43",
          "job_48",
          "job_26",
          "job_13",
          "job_44",
          "job_24",
          "job_1",
          "job_4",
          "job_9",
          "job_7",
          "job_22",
          "job_29",
          "job_36",
          "job_46",
          "job_21",
          "job_3",
          "job_6",
          "job_30",
          "job_31",
          "job_45",
          "job_11",
          "job_34",
          "job_40",
          "job_16",
          "job_10",
          "job_8",
          "job_38",
          "job_35",
          "job_33",
          "job_23",
          "job_37",
          "job_27",
          "job_5",
          "job_15",
          "job_25",
          "job_20",
          "job_19",
          "job_39",
          "job_47",
          "job_28",
          "job_18",
          "job_12",
          "job_42",
          "job_14",
          "job_17",
          "job_41",
          "job_0",
          "job_2",
          "job_32",
          "job_49"
         ],
         "yaxis": "y"
        },
        {
         "alignmentgroup": "True",
         "base": [
          "2022-01-01T00:41:22",
          "2022-01-01T00:44:12",
          "2022-01-01T00:47:32",
          "2022-01-01T00:57:32",
          "2022-01-01T00:59:00",
          "2022-01-01T01:01:16",
          "2022-01-01T01:04:07",
          "2022-01-01T01:07:06",
          "2022-01-01T01:08:01",
          "2022-01-01T01:08:21",
          "2022-01-01T01:10:34",
          "2022-01-01T01:12:48",
          "2022-01-01T01:14:43",
          "2022-01-01T01:16:16",
          "2022-01-01T01:20:31",
          "2022-01-01T01:22:55",
          "2022-01-01T01:24:55",
          "2022-01-01T01:25:24",
          "2022-01-01T01:27:45",
          "2022-01-01T01:28:54",
          "2022-01-01T01:30:39",
          "2022-01-01T01:32:56",
          "2022-01-01T01:32:57",
          "2022-01-01T01:33:32",
          "2022-01-01T01:35:16",
          "2022-01-01T01:37:34",
          "2022-01-01T01:38:07",
          "2022-01-01T01:39:33",
          "2022-01-01T01:39:52",
          "2022-01-01T01:42:01",
          "2022-01-01T01:44:45",
          "2022-01-01T01:46:11",
          "2022-01-01T01:46:55",
          "2022-01-01T01:50:39",
          "2022-01-01T01:54:17",
          "2022-01-01T01:57:08",
          "2022-01-01T01:59:28",
          "2022-01-01T02:01:03",
          "2022-01-01T02:02:44",
          "2022-01-01T02:04:45",
          "2022-01-01T02:06:09",
          "2022-01-01T02:07:09",
          "2022-01-01T02:08:17",
          "2022-01-01T02:11:12",
          "2022-01-01T02:13:04",
          "2022-01-01T02:15:25",
          "2022-01-01T02:24:59",
          "2022-01-01T02:25:32",
          "2022-01-01T02:31:00",
          "2022-01-01T02:31:34"
         ],
         "hovertemplate": "Resource=machine_11<br>Start=%{base}<br>Finish=%{x}<br>Task=%{y}<extra></extra>",
         "legendgroup": "machine_11",
         "marker": {
          "color": "#EF553B",
          "pattern": {
           "shape": ""
          }
         },
         "name": "machine_11",
         "offsetgroup": "machine_11",
         "orientation": "h",
         "showlegend": true,
         "textposition": "auto",
         "type": "bar",
         "x": [
          166000,
          181000,
          60000,
          10000,
          136000,
          171000,
          179000,
          55000,
          20000,
          133000,
          134000,
          115000,
          93000,
          96000,
          144000,
          120000,
          29000,
          141000,
          69000,
          105000,
          137000,
          1000,
          35000,
          104000,
          138000,
          33000,
          86000,
          19000,
          62000,
          164000,
          86000,
          44000,
          20000,
          144000,
          149000,
          140000,
          95000,
          101000,
          121000,
          84000,
          60000,
          14000,
          175000,
          112000,
          59000,
          73000,
          33000,
          114000,
          16000,
          38000
         ],
         "xaxis": "x",
         "y": [
          "job_43",
          "job_9",
          "job_44",
          "job_13",
          "job_48",
          "job_31",
          "job_27",
          "job_7",
          "job_26",
          "job_22",
          "job_24",
          "job_34",
          "job_1",
          "job_29",
          "job_37",
          "job_46",
          "job_36",
          "job_2",
          "job_12",
          "job_4",
          "job_15",
          "job_42",
          "job_10",
          "job_16",
          "job_39",
          "job_11",
          "job_30",
          "job_25",
          "job_35",
          "job_5",
          "job_18",
          "job_23",
          "job_21",
          "job_38",
          "job_45",
          "job_3",
          "job_0",
          "job_6",
          "job_19",
          "job_40",
          "job_47",
          "job_32",
          "job_33",
          "job_17",
          "job_8",
          "job_28",
          "job_41",
          "job_49",
          "job_14",
          "job_20"
         ],
         "yaxis": "y"
        },
        {
         "alignmentgroup": "True",
         "base": [
          "2022-01-01T00:46:14",
          "2022-01-01T00:50:16",
          "2022-01-01T00:54:14",
          "2022-01-01T00:57:14",
          "2022-01-01T00:57:56",
          "2022-01-01T00:58:58",
          "2022-01-01T01:00:33",
          "2022-01-01T01:07:57",
          "2022-01-01T01:11:23",
          "2022-01-01T01:14:14",
          "2022-01-01T01:17:27",
          "2022-01-01T01:20:47",
          "2022-01-01T01:24:03",
          "2022-01-01T01:25:50",
          "2022-01-01T01:27:52",
          "2022-01-01T01:31:09",
          "2022-01-01T01:31:37",
          "2022-01-01T01:33:32",
          "2022-01-01T01:34:44",
          "2022-01-01T01:36:40",
          "2022-01-01T01:39:08",
          "2022-01-01T01:41:50",
          "2022-01-01T01:42:49",
          "2022-01-01T01:46:00",
          "2022-01-01T01:46:28",
          "2022-01-01T01:49:20",
          "2022-01-01T01:49:29",
          "2022-01-01T01:49:35",
          "2022-01-01T01:51:03",
          "2022-01-01T01:53:28",
          "2022-01-01T01:56:46",
          "2022-01-01T01:58:18",
          "2022-01-01T01:59:23",
          "2022-01-01T02:00:52",
          "2022-01-01T02:03:10",
          "2022-01-01T02:04:42",
          "2022-01-01T02:05:22",
          "2022-01-01T02:08:25",
          "2022-01-01T02:10:35",
          "2022-01-01T02:12:20",
          "2022-01-01T02:14:44",
          "2022-01-01T02:17:49",
          "2022-01-01T02:18:36",
          "2022-01-01T02:21:00",
          "2022-01-01T02:23:56",
          "2022-01-01T02:26:40",
          "2022-01-01T02:27:24",
          "2022-01-01T02:27:43",
          "2022-01-01T02:28:15",
          "2022-01-01T02:32:46"
         ],
         "hovertemplate": "Resource=machine_12<br>Start=%{base}<br>Finish=%{x}<br>Task=%{y}<extra></extra>",
         "legendgroup": "machine_12",
         "marker": {
          "color": "#00cc96",
          "pattern": {
           "shape": ""
          }
         },
         "name": "machine_12",
         "offsetgroup": "machine_12",
         "orientation": "h",
         "showlegend": true,
         "textposition": "auto",
         "type": "bar",
         "x": [
          84000,
          35000,
          180000,
          42000,
          62000,
          95000,
          125000,
          171000,
          171000,
          193000,
          133000,
          96000,
          107000,
          13000,
          197000,
          28000,
          61000,
          8000,
          18000,
          148000,
          162000,
          59000,
          191000,
          28000,
          172000,
          9000,
          6000,
          88000,
          145000,
          38000,
          92000,
          65000,
          89000,
          138000,
          92000,
          40000,
          183000,
          88000,
          105000,
          144000,
          185000,
          47000,
          144000,
          176000,
          164000,
          44000,
          19000,
          32000,
          1000,
          129000
         ],
         "xaxis": "x",
         "y": [
          "job_43",
          "job_44",
          "job_48",
          "job_4",
          "job_26",
          "job_24",
          "job_34",
          "job_13",
          "job_37",
          "job_7",
          "job_9",
          "job_19",
          "job_21",
          "job_11",
          "job_29",
          "job_2",
          "job_18",
          "job_10",
          "job_3",
          "job_40",
          "job_31",
          "job_16",
          "job_23",
          "job_1",
          "job_35",
          "job_5",
          "job_25",
          "job_27",
          "job_41",
          "job_6",
          "job_45",
          "job_39",
          "job_22",
          "job_33",
          "job_0",
          "job_46",
          "job_30",
          "job_8",
          "job_28",
          "job_47",
          "job_32",
          "job_42",
          "job_15",
          "job_17",
          "job_12",
          "job_14",
          "job_38",
          "job_49",
          "job_20",
          "job_36"
         ],
         "yaxis": "y"
        },
        {
         "alignmentgroup": "True",
         "base": [
          "2022-01-01T00:44:08",
          "2022-01-01T00:46:17",
          "2022-01-01T00:49:14",
          "2022-01-01T00:53:14",
          "2022-01-01T01:00:34",
          "2022-01-01T01:01:18",
          "2022-01-01T01:03:48",
          "2022-01-01T01:04:43",
          "2022-01-01T01:05:09",
          "2022-01-01T01:08:01",
          "2022-01-01T01:08:53",
          "2022-01-01T01:10:41",
          "2022-01-01T01:14:43",
          "2022-01-01T01:17:32",
          "2022-01-01T01:18:45",
          "2022-01-01T01:19:49",
          "2022-01-01T01:22:22",
          "2022-01-01T01:23:51",
          "2022-01-01T01:25:14",
          "2022-01-01T01:27:22",
          "2022-01-01T01:28:32",
          "2022-01-01T01:30:40",
          "2022-01-01T01:33:47",
          "2022-01-01T01:34:07",
          "2022-01-01T01:35:16",
          "2022-01-01T01:35:20",
          "2022-01-01T01:38:07",
          "2022-01-01T01:41:16",
          "2022-01-01T01:46:11",
          "2022-01-01T01:47:58",
          "2022-01-01T01:49:56",
          "2022-01-01T01:51:11",
          "2022-01-01T01:52:29",
          "2022-01-01T01:55:11",
          "2022-01-01T01:56:18",
          "2022-01-01T01:59:16",
          "2022-01-01T02:02:12",
          "2022-01-01T02:05:22",
          "2022-01-01T02:09:05",
          "2022-01-01T02:11:37",
          "2022-01-01T02:14:30",
          "2022-01-01T02:15:21",
          "2022-01-01T02:18:27",
          "2022-01-01T02:21:21",
          "2022-01-01T02:22:08",
          "2022-01-01T02:24:59",
          "2022-01-01T02:25:45",
          "2022-01-01T02:27:52",
          "2022-01-01T02:28:32",
          "2022-01-01T02:37:37"
         ],
         "hovertemplate": "Resource=machine_13<br>Start=%{base}<br>Finish=%{x}<br>Task=%{y}<extra></extra>",
         "legendgroup": "machine_13",
         "marker": {
          "color": "#ab63fa",
          "pattern": {
           "shape": ""
          }
         },
         "name": "machine_13",
         "offsetgroup": "machine_13",
         "orientation": "h",
         "showlegend": true,
         "textposition": "auto",
         "type": "bar",
         "x": [
          66000,
          75000,
          124000,
          191000,
          44000,
          116000,
          55000,
          26000,
          172000,
          13000,
          25000,
          21000,
          66000,
          64000,
          40000,
          96000,
          89000,
          47000,
          63000,
          70000,
          128000,
          187000,
          20000,
          69000,
          4000,
          33000,
          40000,
          119000,
          107000,
          118000,
          21000,
          78000,
          162000,
          65000,
          50000,
          91000,
          123000,
          35000,
          90000,
          173000,
          51000,
          186000,
          174000,
          47000,
          171000,
          46000,
          127000,
          40000,
          148000,
          147000
         ],
         "xaxis": "x",
         "y": [
          "job_43",
          "job_44",
          "job_9",
          "job_4",
          "job_29",
          "job_26",
          "job_22",
          "job_1",
          "job_31",
          "job_24",
          "job_5",
          "job_40",
          "job_34",
          "job_0",
          "job_8",
          "job_13",
          "job_36",
          "job_47",
          "job_48",
          "job_7",
          "job_2",
          "job_39",
          "job_35",
          "job_25",
          "job_17",
          "job_21",
          "job_11",
          "job_37",
          "job_18",
          "job_10",
          "job_23",
          "job_15",
          "job_27",
          "job_6",
          "job_3",
          "job_19",
          "job_30",
          "job_46",
          "job_28",
          "job_45",
          "job_42",
          "job_33",
          "job_32",
          "job_16",
          "job_41",
          "job_38",
          "job_20",
          "job_12",
          "job_14",
          "job_49"
         ],
         "yaxis": "y"
        },
        {
         "alignmentgroup": "True",
         "base": [
          "2022-01-01T00:48:32",
          "2022-01-01T00:51:18",
          "2022-01-01T00:53:27",
          "2022-01-01T00:53:44",
          "2022-01-01T01:00:33",
          "2022-01-01T01:02:51",
          "2022-01-01T01:08:02",
          "2022-01-01T01:09:47",
          "2022-01-01T01:11:46",
          "2022-01-01T01:12:01",
          "2022-01-01T01:14:57",
          "2022-01-01T01:16:57",
          "2022-01-01T01:18:44",
          "2022-01-01T01:22:50",
          "2022-01-01T01:26:03",
          "2022-01-01T01:29:23",
          "2022-01-01T01:31:00",
          "2022-01-01T01:32:05",
          "2022-01-01T01:33:12",
          "2022-01-01T01:33:51",
          "2022-01-01T01:34:56",
          "2022-01-01T01:37:48",
          "2022-01-01T01:38:42",
          "2022-01-01T01:41:16",
          "2022-01-01T01:42:18",
          "2022-01-01T01:44:50",
          "2022-01-01T01:47:51",
          "2022-01-01T01:49:32",
          "2022-01-01T01:51:36",
          "2022-01-01T01:53:46",
          "2022-01-01T01:55:50",
          "2022-01-01T01:58:21",
          "2022-01-01T01:58:35",
          "2022-01-01T01:59:16",
          "2022-01-01T02:00:34",
          "2022-01-01T02:01:28",
          "2022-01-01T02:02:06",
          "2022-01-01T02:04:53",
          "2022-01-01T02:08:13",
          "2022-01-01T02:11:00",
          "2022-01-01T02:17:14",
          "2022-01-01T02:18:40",
          "2022-01-01T02:19:32",
          "2022-01-01T02:21:14",
          "2022-01-01T02:21:32",
          "2022-01-01T02:22:55",
          "2022-01-01T02:23:05",
          "2022-01-01T02:25:26",
          "2022-01-01T02:26:13",
          "2022-01-01T02:29:32"
         ],
         "hovertemplate": "Resource=machine_14<br>Start=%{base}<br>Finish=%{x}<br>Task=%{y}<extra></extra>",
         "legendgroup": "machine_14",
         "marker": {
          "color": "#FFA15A",
          "pattern": {
           "shape": ""
          }
         },
         "name": "machine_14",
         "offsetgroup": "machine_14",
         "orientation": "h",
         "showlegend": true,
         "textposition": "auto",
         "type": "bar",
         "x": [
          3000,
          129000,
          17000,
          96000,
          111000,
          97000,
          52000,
          119000,
          15000,
          176000,
          89000,
          107000,
          164000,
          112000,
          200000,
          97000,
          65000,
          67000,
          39000,
          65000,
          172000,
          54000,
          154000,
          62000,
          152000,
          181000,
          101000,
          124000,
          130000,
          124000,
          151000,
          14000,
          41000,
          78000,
          54000,
          13000,
          167000,
          200000,
          47000,
          169000,
          9000,
          52000,
          102000,
          18000,
          83000,
          10000,
          110000,
          31000,
          183000,
          194000
         ],
         "xaxis": "x",
         "y": [
          "job_44",
          "job_9",
          "job_43",
          "job_26",
          "job_24",
          "job_13",
          "job_29",
          "job_1",
          "job_22",
          "job_4",
          "job_31",
          "job_23",
          "job_0",
          "job_11",
          "job_46",
          "job_7",
          "job_49",
          "job_3",
          "job_18",
          "job_48",
          "job_45",
          "job_34",
          "job_37",
          "job_10",
          "job_20",
          "job_17",
          "job_27",
          "job_21",
          "job_5",
          "job_39",
          "job_28",
          "job_30",
          "job_19",
          "job_25",
          "job_40",
          "job_41",
          "job_15",
          "job_6",
          "job_47",
          "job_35",
          "job_8",
          "job_12",
          "job_42",
          "job_38",
          "job_33",
          "job_32",
          "job_16",
          "job_14",
          "job_2",
          "job_36"
         ],
         "yaxis": "y"
        },
        {
         "alignmentgroup": "True",
         "base": [
          "2022-01-01T00:47:46",
          "2022-01-01T00:50:51",
          "2022-01-01T00:53:30",
          "2022-01-01T01:00:06",
          "2022-01-01T01:03:12",
          "2022-01-01T01:03:48",
          "2022-01-01T01:05:01",
          "2022-01-01T01:09:25",
          "2022-01-01T01:10:13",
          "2022-01-01T01:13:03",
          "2022-01-01T01:14:32",
          "2022-01-01T01:15:43",
          "2022-01-01T01:18:20",
          "2022-01-01T01:20:31",
          "2022-01-01T01:20:49",
          "2022-01-01T01:22:53",
          "2022-01-01T01:24:57",
          "2022-01-01T01:26:37",
          "2022-01-01T01:29:48",
          "2022-01-01T01:30:12",
          "2022-01-01T01:30:45",
          "2022-01-01T01:33:33",
          "2022-01-01T01:35:11",
          "2022-01-01T01:35:34",
          "2022-01-01T01:38:30",
          "2022-01-01T01:41:44",
          "2022-01-01T01:42:54",
          "2022-01-01T01:45:55",
          "2022-01-01T01:47:28",
          "2022-01-01T01:48:13",
          "2022-01-01T01:49:29",
          "2022-01-01T01:49:43",
          "2022-01-01T01:51:37",
          "2022-01-01T01:51:40",
          "2022-01-01T01:54:04",
          "2022-01-01T01:57:24",
          "2022-01-01T01:59:28",
          "2022-01-01T02:01:46",
          "2022-01-01T02:01:47",
          "2022-01-01T02:03:20",
          "2022-01-01T02:05:32",
          "2022-01-01T02:08:17",
          "2022-01-01T02:11:09",
          "2022-01-01T02:15:18",
          "2022-01-01T02:18:34",
          "2022-01-01T02:21:32",
          "2022-01-01T02:27:24",
          "2022-01-01T02:32:31",
          "2022-01-01T02:35:08",
          "2022-01-01T02:37:57"
         ],
         "hovertemplate": "Resource=machine_15<br>Start=%{base}<br>Finish=%{x}<br>Task=%{y}<extra></extra>",
         "legendgroup": "machine_15",
         "marker": {
          "color": "#19d3f3",
          "pattern": {
           "shape": ""
          }
         },
         "name": "machine_15",
         "offsetgroup": "machine_15",
         "orientation": "h",
         "showlegend": true,
         "textposition": "auto",
         "type": "bar",
         "x": [
          77000,
          159000,
          123000,
          14000,
          36000,
          19000,
          155000,
          22000,
          170000,
          89000,
          71000,
          157000,
          131000,
          18000,
          124000,
          124000,
          100000,
          191000,
          24000,
          33000,
          168000,
          98000,
          23000,
          176000,
          194000,
          70000,
          181000,
          93000,
          45000,
          76000,
          14000,
          114000,
          3000,
          144000,
          200000,
          55000,
          138000,
          1000,
          93000,
          132000,
          165000,
          172000,
          80000,
          196000,
          6000,
          88000,
          45000,
          90000,
          169000,
          197000
         ],
         "xaxis": "x",
         "y": [
          "job_43",
          "job_44",
          "job_9",
          "job_7",
          "job_22",
          "job_24",
          "job_26",
          "job_4",
          "job_31",
          "job_25",
          "job_40",
          "job_5",
          "job_37",
          "job_2",
          "job_34",
          "job_13",
          "job_29",
          "job_10",
          "job_47",
          "job_17",
          "job_1",
          "job_11",
          "job_23",
          "job_16",
          "job_27",
          "job_21",
          "job_42",
          "job_8",
          "job_48",
          "job_20",
          "job_49",
          "job_30",
          "job_6",
          "job_0",
          "job_35",
          "job_15",
          "job_3",
          "job_19",
          "job_41",
          "job_28",
          "job_33",
          "job_45",
          "job_18",
          "job_39",
          "job_12",
          "job_38",
          "job_14",
          "job_46",
          "job_32",
          "job_36"
         ],
         "yaxis": "y"
        },
        {
         "alignmentgroup": "True",
         "base": [
          "2022-01-01T00:47:13",
          "2022-01-01T00:53:44",
          "2022-01-01T00:55:07",
          "2022-01-01T01:00:56",
          "2022-01-01T01:01:16",
          "2022-01-01T01:03:09",
          "2022-01-01T01:04:43",
          "2022-01-01T01:08:01",
          "2022-01-01T01:09:51",
          "2022-01-01T01:12:09",
          "2022-01-01T01:14:52",
          "2022-01-01T01:16:29",
          "2022-01-01T01:19:46",
          "2022-01-01T01:22:57",
          "2022-01-01T01:22:58",
          "2022-01-01T01:25:40",
          "2022-01-01T01:26:54",
          "2022-01-01T01:28:20",
          "2022-01-01T01:31:30",
          "2022-01-01T01:31:55",
          "2022-01-01T01:34:11",
          "2022-01-01T01:35:11",
          "2022-01-01T01:36:40",
          "2022-01-01T01:36:59",
          "2022-01-01T01:40:13",
          "2022-01-01T01:42:01",
          "2022-01-01T01:43:59",
          "2022-01-01T01:47:19",
          "2022-01-01T01:50:10",
          "2022-01-01T01:51:11",
          "2022-01-01T01:54:17",
          "2022-01-01T01:57:11",
          "2022-01-01T01:59:57",
          "2022-01-01T02:03:09",
          "2022-01-01T02:05:49",
          "2022-01-01T02:08:46",
          "2022-01-01T02:11:36",
          "2022-01-01T02:12:07",
          "2022-01-01T02:12:26",
          "2022-01-01T02:14:55",
          "2022-01-01T02:17:10",
          "2022-01-01T02:18:11",
          "2022-01-01T02:19:49",
          "2022-01-01T02:22:06",
          "2022-01-01T02:22:14",
          "2022-01-01T02:25:09",
          "2022-01-01T02:27:46",
          "2022-01-01T02:29:32",
          "2022-01-01T02:30:19",
          "2022-01-01T02:30:38"
         ],
         "hovertemplate": "Resource=machine_16<br>Start=%{base}<br>Finish=%{x}<br>Task=%{y}<extra></extra>",
         "legendgroup": "machine_16",
         "marker": {
          "color": "#FF6692",
          "pattern": {
           "shape": ""
          }
         },
         "name": "machine_16",
         "offsetgroup": "machine_16",
         "orientation": "h",
         "showlegend": true,
         "textposition": "auto",
         "type": "bar",
         "x": [
          121000,
          79000,
          147000,
          5000,
          113000,
          59000,
          1000,
          110000,
          138000,
          163000,
          97000,
          197000,
          191000,
          1000,
          162000,
          74000,
          86000,
          190000,
          25000,
          136000,
          60000,
          89000,
          19000,
          194000,
          108000,
          118000,
          200000,
          171000,
          61000,
          186000,
          174000,
          166000,
          192000,
          160000,
          177000,
          170000,
          31000,
          19000,
          149000,
          135000,
          61000,
          98000,
          137000,
          8000,
          175000,
          157000,
          106000,
          47000,
          19000,
          188000
         ],
         "xaxis": "x",
         "y": [
          "job_9",
          "job_43",
          "job_44",
          "job_26",
          "job_48",
          "job_29",
          "job_22",
          "job_31",
          "job_7",
          "job_27",
          "job_13",
          "job_25",
          "job_23",
          "job_19",
          "job_12",
          "job_1",
          "job_3",
          "job_21",
          "job_8",
          "job_37",
          "job_24",
          "job_40",
          "job_34",
          "job_4",
          "job_5",
          "job_18",
          "job_28",
          "job_33",
          "job_15",
          "job_45",
          "job_11",
          "job_10",
          "job_35",
          "job_47",
          "job_17",
          "job_16",
          "job_42",
          "job_39",
          "job_41",
          "job_30",
          "job_6",
          "job_38",
          "job_14",
          "job_2",
          "job_20",
          "job_0",
          "job_36",
          "job_46",
          "job_32",
          "job_49"
         ],
         "yaxis": "y"
        },
        {
         "alignmentgroup": "True",
         "base": [
          "2022-01-01T00:45:14",
          "2022-01-01T00:51:08",
          "2022-01-01T00:53:30",
          "2022-01-01T00:55:33",
          "2022-01-01T00:58:58",
          "2022-01-01T01:00:16",
          "2022-01-01T01:00:46",
          "2022-01-01T01:04:07",
          "2022-01-01T01:06:56",
          "2022-01-01T01:09:51",
          "2022-01-01T01:15:05",
          "2022-01-01T01:16:32",
          "2022-01-01T01:19:46",
          "2022-01-01T01:21:18",
          "2022-01-01T01:24:03",
          "2022-01-01T01:26:50",
          "2022-01-01T01:30:03",
          "2022-01-01T01:33:16",
          "2022-01-01T01:35:05",
          "2022-01-01T01:38:13",
          "2022-01-01T01:40:42",
          "2022-01-01T01:41:55",
          "2022-01-01T01:44:31",
          "2022-01-01T01:45:13",
          "2022-01-01T01:47:48",
          "2022-01-01T01:49:50",
          "2022-01-01T01:52:59",
          "2022-01-01T01:56:06",
          "2022-01-01T01:56:08",
          "2022-01-01T01:56:18",
          "2022-01-01T01:56:59",
          "2022-01-01T01:57:53",
          "2022-01-01T02:00:23",
          "2022-01-01T02:02:50",
          "2022-01-01T02:03:44",
          "2022-01-01T02:05:06",
          "2022-01-01T02:07:24",
          "2022-01-01T02:10:06",
          "2022-01-01T02:11:00",
          "2022-01-01T02:13:03",
          "2022-01-01T02:15:18",
          "2022-01-01T02:16:31",
          "2022-01-01T02:17:02",
          "2022-01-01T02:20:08",
          "2022-01-01T02:21:18",
          "2022-01-01T02:23:40",
          "2022-01-01T02:25:12",
          "2022-01-01T02:27:43",
          "2022-01-01T02:31:16",
          "2022-01-01T02:32:05"
         ],
         "hovertemplate": "Resource=machine_17<br>Start=%{base}<br>Finish=%{x}<br>Task=%{y}<extra></extra>",
         "legendgroup": "machine_17",
         "marker": {
          "color": "#B6E880",
          "pattern": {
           "shape": ""
          }
         },
         "name": "machine_17",
         "offsetgroup": "machine_17",
         "orientation": "h",
         "showlegend": true,
         "textposition": "auto",
         "type": "bar",
         "x": [
          60000,
          132000,
          97000,
          24000,
          17000,
          18000,
          125000,
          169000,
          149000,
          22000,
          22000,
          25000,
          92000,
          165000,
          167000,
          193000,
          193000,
          109000,
          188000,
          149000,
          73000,
          156000,
          42000,
          155000,
          122000,
          189000,
          187000,
          2000,
          10000,
          41000,
          54000,
          150000,
          147000,
          54000,
          82000,
          138000,
          162000,
          54000,
          123000,
          135000,
          73000,
          31000,
          186000,
          70000,
          142000,
          92000,
          137000,
          137000,
          16000,
          187000
         ],
         "xaxis": "x",
         "y": [
          "job_43",
          "job_48",
          "job_44",
          "job_9",
          "job_26",
          "job_29",
          "job_13",
          "job_24",
          "job_4",
          "job_31",
          "job_5",
          "job_23",
          "job_25",
          "job_21",
          "job_34",
          "job_42",
          "job_11",
          "job_30",
          "job_10",
          "job_1",
          "job_20",
          "job_36",
          "job_27",
          "job_37",
          "job_41",
          "job_47",
          "job_32",
          "job_7",
          "job_3",
          "job_22",
          "job_17",
          "job_6",
          "job_28",
          "job_18",
          "job_45",
          "job_12",
          "job_46",
          "job_35",
          "job_15",
          "job_39",
          "job_16",
          "job_0",
          "job_19",
          "job_33",
          "job_40",
          "job_49",
          "job_8",
          "job_38",
          "job_14",
          "job_2"
         ],
         "yaxis": "y"
        },
        {
         "alignmentgroup": "True",
         "base": [
          "2022-01-01T00:45:57",
          "2022-01-01T00:51:52",
          "2022-01-01T00:57:14",
          "2022-01-01T00:59:47",
          "2022-01-01T01:03:14",
          "2022-01-01T01:05:01",
          "2022-01-01T01:07:57",
          "2022-01-01T01:09:18",
          "2022-01-01T01:12:17",
          "2022-01-01T01:14:40",
          "2022-01-01T01:15:54",
          "2022-01-01T01:18:06",
          "2022-01-01T01:20:21",
          "2022-01-01T01:21:24",
          "2022-01-01T01:21:26",
          "2022-01-01T01:23:44",
          "2022-01-01T01:24:53",
          "2022-01-01T01:27:22",
          "2022-01-01T01:27:38",
          "2022-01-01T01:27:52",
          "2022-01-01T01:30:38",
          "2022-01-01T01:32:06",
          "2022-01-01T01:33:49",
          "2022-01-01T01:36:56",
          "2022-01-01T01:37:57",
          "2022-01-01T01:41:06",
          "2022-01-01T01:43:28",
          "2022-01-01T01:46:42",
          "2022-01-01T01:47:40",
          "2022-01-01T01:49:02",
          "2022-01-01T01:50:56",
          "2022-01-01T01:52:10",
          "2022-01-01T01:52:25",
          "2022-01-01T01:55:43",
          "2022-01-01T01:57:12",
          "2022-01-01T02:00:25",
          "2022-01-01T02:01:33",
          "2022-01-01T02:01:37",
          "2022-01-01T02:02:22",
          "2022-01-01T02:03:43",
          "2022-01-01T02:06:28",
          "2022-01-01T02:11:09",
          "2022-01-01T02:13:41",
          "2022-01-01T02:16:55",
          "2022-01-01T02:19:11",
          "2022-01-01T02:21:00",
          "2022-01-01T02:21:46",
          "2022-01-01T02:28:15",
          "2022-01-01T02:31:32",
          "2022-01-01T02:34:55"
         ],
         "hovertemplate": "Resource=machine_18<br>Start=%{base}<br>Finish=%{x}<br>Task=%{y}<extra></extra>",
         "legendgroup": "machine_18",
         "marker": {
          "color": "#FF97FF",
          "pattern": {
           "shape": ""
          }
         },
         "name": "machine_18",
         "offsetgroup": "machine_18",
         "orientation": "h",
         "showlegend": true,
         "textposition": "auto",
         "type": "bar",
         "x": [
          20000,
          58000,
          106000,
          28000,
          107000,
          176000,
          15000,
          179000,
          143000,
          74000,
          132000,
          135000,
          63000,
          2000,
          138000,
          69000,
          149000,
          16000,
          14000,
          166000,
          88000,
          103000,
          187000,
          61000,
          189000,
          142000,
          194000,
          58000,
          82000,
          114000,
          74000,
          15000,
          198000,
          89000,
          193000,
          68000,
          4000,
          45000,
          81000,
          165000,
          107000,
          28000,
          194000,
          136000,
          30000,
          46000,
          139000,
          9000,
          108000,
          158000
         ],
         "xaxis": "x",
         "y": [
          "job_44",
          "job_43",
          "job_48",
          "job_34",
          "job_26",
          "job_13",
          "job_27",
          "job_5",
          "job_2",
          "job_10",
          "job_40",
          "job_22",
          "job_4",
          "job_3",
          "job_9",
          "job_31",
          "job_7",
          "job_11",
          "job_29",
          "job_18",
          "job_6",
          "job_25",
          "job_47",
          "job_23",
          "job_24",
          "job_39",
          "job_21",
          "job_38",
          "job_19",
          "job_1",
          "job_17",
          "job_28",
          "job_37",
          "job_0",
          "job_33",
          "job_8",
          "job_20",
          "job_32",
          "job_46",
          "job_41",
          "job_35",
          "job_45",
          "job_12",
          "job_16",
          "job_30",
          "job_15",
          "job_42",
          "job_49",
          "job_14",
          "job_36"
         ],
         "yaxis": "y"
        },
        {
         "alignmentgroup": "True",
         "base": [
          "2022-01-01T00:48:35",
          "2022-01-01T00:50:16",
          "2022-01-01T00:57:11",
          "2022-01-01T00:59:15",
          "2022-01-01T01:02:38",
          "2022-01-01T01:05:11",
          "2022-01-01T01:08:00",
          "2022-01-01T01:08:02",
          "2022-01-01T01:09:47",
          "2022-01-01T01:10:59",
          "2022-01-01T01:12:28",
          "2022-01-01T01:15:05",
          "2022-01-01T01:18:16",
          "2022-01-01T01:19:49",
          "2022-01-01T01:22:28",
          "2022-01-01T01:23:25",
          "2022-01-01T01:25:14",
          "2022-01-01T01:26:57",
          "2022-01-01T01:28:45",
          "2022-01-01T01:30:04",
          "2022-01-01T01:30:59",
          "2022-01-01T01:33:37",
          "2022-01-01T01:36:48",
          "2022-01-01T01:39:58",
          "2022-01-01T01:41:31",
          "2022-01-01T01:42:37",
          "2022-01-01T01:44:04",
          "2022-01-01T01:46:39",
          "2022-01-01T01:47:19",
          "2022-01-01T01:47:38",
          "2022-01-01T01:51:03",
          "2022-01-01T01:55:50",
          "2022-01-01T01:58:18",
          "2022-01-01T02:00:45",
          "2022-01-01T02:02:12",
          "2022-01-01T02:04:47",
          "2022-01-01T02:05:11",
          "2022-01-01T02:07:08",
          "2022-01-01T02:09:05",
          "2022-01-01T02:12:14",
          "2022-01-01T02:13:41",
          "2022-01-01T02:14:01",
          "2022-01-01T02:14:43",
          "2022-01-01T02:17:14",
          "2022-01-01T02:22:06",
          "2022-01-01T02:23:30",
          "2022-01-01T02:26:13",
          "2022-01-01T02:28:16",
          "2022-01-01T02:31:34",
          "2022-01-01T02:41:14"
         ],
         "hovertemplate": "Resource=machine_19<br>Start=%{base}<br>Finish=%{x}<br>Task=%{y}<extra></extra>",
         "legendgroup": "machine_19",
         "marker": {
          "color": "#FECB52",
          "pattern": {
           "shape": ""
          }
         },
         "name": "machine_19",
         "offsetgroup": "machine_19",
         "orientation": "h",
         "showlegend": true,
         "textposition": "auto",
         "type": "bar",
         "x": [
          101000,
          96000,
          77000,
          101000,
          153000,
          169000,
          2000,
          105000,
          72000,
          89000,
          157000,
          191000,
          93000,
          159000,
          57000,
          109000,
          103000,
          108000,
          79000,
          55000,
          158000,
          191000,
          190000,
          93000,
          66000,
          87000,
          155000,
          40000,
          19000,
          70000,
          64000,
          112000,
          147000,
          87000,
          155000,
          24000,
          117000,
          117000,
          189000,
          87000,
          20000,
          42000,
          151000,
          172000,
          84000,
          163000,
          84000,
          198000,
          57000,
          9000
         ],
         "xaxis": "x",
         "y": [
          "job_44",
          "job_43",
          "job_24",
          "job_26",
          "job_34",
          "job_22",
          "job_29",
          "job_1",
          "job_4",
          "job_9",
          "job_5",
          "job_37",
          "job_13",
          "job_47",
          "job_7",
          "job_48",
          "job_19",
          "job_38",
          "job_0",
          "job_25",
          "job_31",
          "job_42",
          "job_49",
          "job_16",
          "job_17",
          "job_11",
          "job_15",
          "job_10",
          "job_21",
          "job_23",
          "job_27",
          "job_39",
          "job_45",
          "job_30",
          "job_3",
          "job_35",
          "job_18",
          "job_28",
          "job_6",
          "job_12",
          "job_32",
          "job_33",
          "job_8",
          "job_41",
          "job_14",
          "job_2",
          "job_40",
          "job_20",
          "job_46",
          "job_36"
         ],
         "yaxis": "y"
        }
       ],
       "layout": {
        "barmode": "overlay",
        "legend": {
         "title": {
          "text": "Resource"
         },
         "tracegroupgap": 0
        },
        "margin": {
         "t": 60
        },
        "template": {
         "data": {
          "bar": [
           {
            "error_x": {
             "color": "#2a3f5f"
            },
            "error_y": {
             "color": "#2a3f5f"
            },
            "marker": {
             "line": {
              "color": "#E5ECF6",
              "width": 0.5
             },
             "pattern": {
              "fillmode": "overlay",
              "size": 10,
              "solidity": 0.2
             }
            },
            "type": "bar"
           }
          ],
          "barpolar": [
           {
            "marker": {
             "line": {
              "color": "#E5ECF6",
              "width": 0.5
             },
             "pattern": {
              "fillmode": "overlay",
              "size": 10,
              "solidity": 0.2
             }
            },
            "type": "barpolar"
           }
          ],
          "carpet": [
           {
            "aaxis": {
             "endlinecolor": "#2a3f5f",
             "gridcolor": "white",
             "linecolor": "white",
             "minorgridcolor": "white",
             "startlinecolor": "#2a3f5f"
            },
            "baxis": {
             "endlinecolor": "#2a3f5f",
             "gridcolor": "white",
             "linecolor": "white",
             "minorgridcolor": "white",
             "startlinecolor": "#2a3f5f"
            },
            "type": "carpet"
           }
          ],
          "choropleth": [
           {
            "colorbar": {
             "outlinewidth": 0,
             "ticks": ""
            },
            "type": "choropleth"
           }
          ],
          "contour": [
           {
            "colorbar": {
             "outlinewidth": 0,
             "ticks": ""
            },
            "colorscale": [
             [
              0,
              "#0d0887"
             ],
             [
              0.1111111111111111,
              "#46039f"
             ],
             [
              0.2222222222222222,
              "#7201a8"
             ],
             [
              0.3333333333333333,
              "#9c179e"
             ],
             [
              0.4444444444444444,
              "#bd3786"
             ],
             [
              0.5555555555555556,
              "#d8576b"
             ],
             [
              0.6666666666666666,
              "#ed7953"
             ],
             [
              0.7777777777777778,
              "#fb9f3a"
             ],
             [
              0.8888888888888888,
              "#fdca26"
             ],
             [
              1,
              "#f0f921"
             ]
            ],
            "type": "contour"
           }
          ],
          "contourcarpet": [
           {
            "colorbar": {
             "outlinewidth": 0,
             "ticks": ""
            },
            "type": "contourcarpet"
           }
          ],
          "heatmap": [
           {
            "colorbar": {
             "outlinewidth": 0,
             "ticks": ""
            },
            "colorscale": [
             [
              0,
              "#0d0887"
             ],
             [
              0.1111111111111111,
              "#46039f"
             ],
             [
              0.2222222222222222,
              "#7201a8"
             ],
             [
              0.3333333333333333,
              "#9c179e"
             ],
             [
              0.4444444444444444,
              "#bd3786"
             ],
             [
              0.5555555555555556,
              "#d8576b"
             ],
             [
              0.6666666666666666,
              "#ed7953"
             ],
             [
              0.7777777777777778,
              "#fb9f3a"
             ],
             [
              0.8888888888888888,
              "#fdca26"
             ],
             [
              1,
              "#f0f921"
             ]
            ],
            "type": "heatmap"
           }
          ],
          "heatmapgl": [
           {
            "colorbar": {
             "outlinewidth": 0,
             "ticks": ""
            },
            "colorscale": [
             [
              0,
              "#0d0887"
             ],
             [
              0.1111111111111111,
              "#46039f"
             ],
             [
              0.2222222222222222,
              "#7201a8"
             ],
             [
              0.3333333333333333,
              "#9c179e"
             ],
             [
              0.4444444444444444,
              "#bd3786"
             ],
             [
              0.5555555555555556,
              "#d8576b"
             ],
             [
              0.6666666666666666,
              "#ed7953"
             ],
             [
              0.7777777777777778,
              "#fb9f3a"
             ],
             [
              0.8888888888888888,
              "#fdca26"
             ],
             [
              1,
              "#f0f921"
             ]
            ],
            "type": "heatmapgl"
           }
          ],
          "histogram": [
           {
            "marker": {
             "pattern": {
              "fillmode": "overlay",
              "size": 10,
              "solidity": 0.2
             }
            },
            "type": "histogram"
           }
          ],
          "histogram2d": [
           {
            "colorbar": {
             "outlinewidth": 0,
             "ticks": ""
            },
            "colorscale": [
             [
              0,
              "#0d0887"
             ],
             [
              0.1111111111111111,
              "#46039f"
             ],
             [
              0.2222222222222222,
              "#7201a8"
             ],
             [
              0.3333333333333333,
              "#9c179e"
             ],
             [
              0.4444444444444444,
              "#bd3786"
             ],
             [
              0.5555555555555556,
              "#d8576b"
             ],
             [
              0.6666666666666666,
              "#ed7953"
             ],
             [
              0.7777777777777778,
              "#fb9f3a"
             ],
             [
              0.8888888888888888,
              "#fdca26"
             ],
             [
              1,
              "#f0f921"
             ]
            ],
            "type": "histogram2d"
           }
          ],
          "histogram2dcontour": [
           {
            "colorbar": {
             "outlinewidth": 0,
             "ticks": ""
            },
            "colorscale": [
             [
              0,
              "#0d0887"
             ],
             [
              0.1111111111111111,
              "#46039f"
             ],
             [
              0.2222222222222222,
              "#7201a8"
             ],
             [
              0.3333333333333333,
              "#9c179e"
             ],
             [
              0.4444444444444444,
              "#bd3786"
             ],
             [
              0.5555555555555556,
              "#d8576b"
             ],
             [
              0.6666666666666666,
              "#ed7953"
             ],
             [
              0.7777777777777778,
              "#fb9f3a"
             ],
             [
              0.8888888888888888,
              "#fdca26"
             ],
             [
              1,
              "#f0f921"
             ]
            ],
            "type": "histogram2dcontour"
           }
          ],
          "mesh3d": [
           {
            "colorbar": {
             "outlinewidth": 0,
             "ticks": ""
            },
            "type": "mesh3d"
           }
          ],
          "parcoords": [
           {
            "line": {
             "colorbar": {
              "outlinewidth": 0,
              "ticks": ""
             }
            },
            "type": "parcoords"
           }
          ],
          "pie": [
           {
            "automargin": true,
            "type": "pie"
           }
          ],
          "scatter": [
           {
            "fillpattern": {
             "fillmode": "overlay",
             "size": 10,
             "solidity": 0.2
            },
            "type": "scatter"
           }
          ],
          "scatter3d": [
           {
            "line": {
             "colorbar": {
              "outlinewidth": 0,
              "ticks": ""
             }
            },
            "marker": {
             "colorbar": {
              "outlinewidth": 0,
              "ticks": ""
             }
            },
            "type": "scatter3d"
           }
          ],
          "scattercarpet": [
           {
            "marker": {
             "colorbar": {
              "outlinewidth": 0,
              "ticks": ""
             }
            },
            "type": "scattercarpet"
           }
          ],
          "scattergeo": [
           {
            "marker": {
             "colorbar": {
              "outlinewidth": 0,
              "ticks": ""
             }
            },
            "type": "scattergeo"
           }
          ],
          "scattergl": [
           {
            "marker": {
             "colorbar": {
              "outlinewidth": 0,
              "ticks": ""
             }
            },
            "type": "scattergl"
           }
          ],
          "scattermapbox": [
           {
            "marker": {
             "colorbar": {
              "outlinewidth": 0,
              "ticks": ""
             }
            },
            "type": "scattermapbox"
           }
          ],
          "scatterpolar": [
           {
            "marker": {
             "colorbar": {
              "outlinewidth": 0,
              "ticks": ""
             }
            },
            "type": "scatterpolar"
           }
          ],
          "scatterpolargl": [
           {
            "marker": {
             "colorbar": {
              "outlinewidth": 0,
              "ticks": ""
             }
            },
            "type": "scatterpolargl"
           }
          ],
          "scatterternary": [
           {
            "marker": {
             "colorbar": {
              "outlinewidth": 0,
              "ticks": ""
             }
            },
            "type": "scatterternary"
           }
          ],
          "surface": [
           {
            "colorbar": {
             "outlinewidth": 0,
             "ticks": ""
            },
            "colorscale": [
             [
              0,
              "#0d0887"
             ],
             [
              0.1111111111111111,
              "#46039f"
             ],
             [
              0.2222222222222222,
              "#7201a8"
             ],
             [
              0.3333333333333333,
              "#9c179e"
             ],
             [
              0.4444444444444444,
              "#bd3786"
             ],
             [
              0.5555555555555556,
              "#d8576b"
             ],
             [
              0.6666666666666666,
              "#ed7953"
             ],
             [
              0.7777777777777778,
              "#fb9f3a"
             ],
             [
              0.8888888888888888,
              "#fdca26"
             ],
             [
              1,
              "#f0f921"
             ]
            ],
            "type": "surface"
           }
          ],
          "table": [
           {
            "cells": {
             "fill": {
              "color": "#EBF0F8"
             },
             "line": {
              "color": "white"
             }
            },
            "header": {
             "fill": {
              "color": "#C8D4E3"
             },
             "line": {
              "color": "white"
             }
            },
            "type": "table"
           }
          ]
         },
         "layout": {
          "annotationdefaults": {
           "arrowcolor": "#2a3f5f",
           "arrowhead": 0,
           "arrowwidth": 1
          },
          "autotypenumbers": "strict",
          "coloraxis": {
           "colorbar": {
            "outlinewidth": 0,
            "ticks": ""
           }
          },
          "colorscale": {
           "diverging": [
            [
             0,
             "#8e0152"
            ],
            [
             0.1,
             "#c51b7d"
            ],
            [
             0.2,
             "#de77ae"
            ],
            [
             0.3,
             "#f1b6da"
            ],
            [
             0.4,
             "#fde0ef"
            ],
            [
             0.5,
             "#f7f7f7"
            ],
            [
             0.6,
             "#e6f5d0"
            ],
            [
             0.7,
             "#b8e186"
            ],
            [
             0.8,
             "#7fbc41"
            ],
            [
             0.9,
             "#4d9221"
            ],
            [
             1,
             "#276419"
            ]
           ],
           "sequential": [
            [
             0,
             "#0d0887"
            ],
            [
             0.1111111111111111,
             "#46039f"
            ],
            [
             0.2222222222222222,
             "#7201a8"
            ],
            [
             0.3333333333333333,
             "#9c179e"
            ],
            [
             0.4444444444444444,
             "#bd3786"
            ],
            [
             0.5555555555555556,
             "#d8576b"
            ],
            [
             0.6666666666666666,
             "#ed7953"
            ],
            [
             0.7777777777777778,
             "#fb9f3a"
            ],
            [
             0.8888888888888888,
             "#fdca26"
            ],
            [
             1,
             "#f0f921"
            ]
           ],
           "sequentialminus": [
            [
             0,
             "#0d0887"
            ],
            [
             0.1111111111111111,
             "#46039f"
            ],
            [
             0.2222222222222222,
             "#7201a8"
            ],
            [
             0.3333333333333333,
             "#9c179e"
            ],
            [
             0.4444444444444444,
             "#bd3786"
            ],
            [
             0.5555555555555556,
             "#d8576b"
            ],
            [
             0.6666666666666666,
             "#ed7953"
            ],
            [
             0.7777777777777778,
             "#fb9f3a"
            ],
            [
             0.8888888888888888,
             "#fdca26"
            ],
            [
             1,
             "#f0f921"
            ]
           ]
          },
          "colorway": [
           "#636efa",
           "#EF553B",
           "#00cc96",
           "#ab63fa",
           "#FFA15A",
           "#19d3f3",
           "#FF6692",
           "#B6E880",
           "#FF97FF",
           "#FECB52"
          ],
          "font": {
           "color": "#2a3f5f"
          },
          "geo": {
           "bgcolor": "white",
           "lakecolor": "white",
           "landcolor": "#E5ECF6",
           "showlakes": true,
           "showland": true,
           "subunitcolor": "white"
          },
          "hoverlabel": {
           "align": "left"
          },
          "hovermode": "closest",
          "mapbox": {
           "style": "light"
          },
          "paper_bgcolor": "white",
          "plot_bgcolor": "#E5ECF6",
          "polar": {
           "angularaxis": {
            "gridcolor": "white",
            "linecolor": "white",
            "ticks": ""
           },
           "bgcolor": "#E5ECF6",
           "radialaxis": {
            "gridcolor": "white",
            "linecolor": "white",
            "ticks": ""
           }
          },
          "scene": {
           "xaxis": {
            "backgroundcolor": "#E5ECF6",
            "gridcolor": "white",
            "gridwidth": 2,
            "linecolor": "white",
            "showbackground": true,
            "ticks": "",
            "zerolinecolor": "white"
           },
           "yaxis": {
            "backgroundcolor": "#E5ECF6",
            "gridcolor": "white",
            "gridwidth": 2,
            "linecolor": "white",
            "showbackground": true,
            "ticks": "",
            "zerolinecolor": "white"
           },
           "zaxis": {
            "backgroundcolor": "#E5ECF6",
            "gridcolor": "white",
            "gridwidth": 2,
            "linecolor": "white",
            "showbackground": true,
            "ticks": "",
            "zerolinecolor": "white"
           }
          },
          "shapedefaults": {
           "line": {
            "color": "#2a3f5f"
           }
          },
          "ternary": {
           "aaxis": {
            "gridcolor": "white",
            "linecolor": "white",
            "ticks": ""
           },
           "baxis": {
            "gridcolor": "white",
            "linecolor": "white",
            "ticks": ""
           },
           "bgcolor": "#E5ECF6",
           "caxis": {
            "gridcolor": "white",
            "linecolor": "white",
            "ticks": ""
           }
          },
          "title": {
           "x": 0.05
          },
          "xaxis": {
           "automargin": true,
           "gridcolor": "white",
           "linecolor": "white",
           "ticks": "",
           "title": {
            "standoff": 15
           },
           "zerolinecolor": "white",
           "zerolinewidth": 2
          },
          "yaxis": {
           "automargin": true,
           "gridcolor": "white",
           "linecolor": "white",
           "ticks": "",
           "title": {
            "standoff": 15
           },
           "zerolinecolor": "white",
           "zerolinewidth": 2
          }
         }
        },
        "xaxis": {
         "anchor": "y",
         "domain": [
          0,
          1
         ],
         "type": "date"
        },
        "yaxis": {
         "anchor": "x",
         "domain": [
          0,
          1
         ],
         "title": {
          "text": "Task"
         }
        }
       }
      }
     },
     "metadata": {},
     "output_type": "display_data"
    }
   ],
   "source": [
    "env.render()"
   ]
  },
  {
   "cell_type": "code",
   "execution_count": null,
   "metadata": {},
   "outputs": [],
   "source": []
  },
  {
   "cell_type": "code",
   "execution_count": null,
   "metadata": {},
   "outputs": [],
   "source": []
  },
  {
   "cell_type": "code",
   "execution_count": null,
   "metadata": {},
   "outputs": [],
   "source": []
  },
  {
   "cell_type": "code",
   "execution_count": 18,
   "metadata": {},
   "outputs": [
    {
     "name": "stdout",
     "output_type": "stream",
     "text": [
      "19\n",
      "48\n",
      "70\n",
      "111\n",
      "126\n",
      "212\n",
      "320\n",
      "358\n",
      "378\n",
      "402\n",
      "441\n",
      "467\n",
      "486\n",
      "524\n",
      "563\n",
      "582\n",
      "598\n",
      "655\n",
      "679\n",
      "18\n",
      "69\n",
      "104\n",
      "125\n",
      "225\n",
      "279\n",
      "309\n",
      "339\n",
      "375\n",
      "423\n",
      "462\n",
      "484\n",
      "515\n",
      "542\n",
      "572\n",
      "635\n",
      "683\n",
      "713\n",
      "856\n",
      "12\n",
      "59\n",
      "91\n",
      "148\n",
      "245\n",
      "273\n",
      "364\n",
      "402\n",
      "417\n",
      "446\n",
      "475\n",
      "501\n",
      "528\n",
      "568\n",
      "597\n",
      "632\n",
      "650\n",
      "681\n",
      "712\n",
      "25\n",
      "62\n",
      "78\n",
      "114\n",
      "136\n",
      "182\n",
      "201\n",
      "241\n",
      "280\n",
      "291\n",
      "303\n",
      "331\n",
      "388\n",
      "405\n",
      "425\n",
      "465\n",
      "579\n",
      "638\n",
      "704\n",
      "145\n",
      "200\n",
      "232\n",
      "244\n",
      "285\n",
      "298\n",
      "320\n",
      "341\n",
      "391\n",
      "432\n",
      "444\n",
      "456\n",
      "468\n",
      "485\n",
      "545\n",
      "566\n",
      "599\n",
      "680\n",
      "715\n",
      "120\n",
      "143\n",
      "165\n",
      "192\n",
      "232\n",
      "245\n",
      "277\n",
      "316\n",
      "328\n",
      "354\n",
      "382\n",
      "396\n",
      "426\n",
      "443\n",
      "472\n",
      "512\n",
      "523\n",
      "557\n",
      "605\n",
      "39\n",
      "71\n",
      "104\n",
      "123\n",
      "141\n",
      "183\n",
      "210\n",
      "235\n",
      "252\n",
      "277\n",
      "299\n",
      "330\n",
      "355\n",
      "390\n",
      "426\n",
      "459\n",
      "472\n",
      "630\n",
      "746\n",
      "55\n",
      "117\n",
      "171\n",
      "213\n",
      "244\n",
      "283\n",
      "306\n",
      "324\n",
      "399\n",
      "427\n",
      "481\n",
      "557\n",
      "581\n",
      "610\n",
      "643\n",
      "675\n",
      "688\n",
      "726\n",
      "776\n",
      "31\n",
      "48\n",
      "86\n",
      "106\n",
      "117\n",
      "155\n",
      "176\n",
      "190\n",
      "222\n",
      "247\n",
      "262\n",
      "278\n",
      "312\n",
      "332\n",
      "354\n",
      "373\n",
      "386\n",
      "538\n",
      "673\n",
      "11\n",
      "52\n",
      "65\n",
      "127\n",
      "175\n",
      "186\n",
      "213\n",
      "243\n",
      "281\n",
      "293\n",
      "327\n",
      "346\n",
      "395\n",
      "418\n",
      "456\n",
      "474\n",
      "542\n",
      "586\n",
      "602\n",
      "23\n",
      "45\n",
      "121\n",
      "135\n",
      "152\n",
      "175\n",
      "207\n",
      "246\n",
      "280\n",
      "355\n",
      "379\n",
      "408\n",
      "438\n",
      "471\n",
      "502\n",
      "538\n",
      "563\n",
      "597\n",
      "633\n",
      "18\n",
      "37\n",
      "48\n",
      "59\n",
      "83\n",
      "245\n",
      "305\n",
      "330\n",
      "352\n",
      "374\n",
      "406\n",
      "446\n",
      "488\n",
      "526\n",
      "554\n",
      "591\n",
      "652\n",
      "687\n",
      "742\n",
      "32\n",
      "70\n",
      "92\n",
      "117\n",
      "153\n",
      "170\n",
      "187\n",
      "211\n",
      "222\n",
      "358\n",
      "438\n",
      "479\n",
      "519\n",
      "536\n",
      "596\n",
      "628\n",
      "647\n",
      "668\n",
      "739\n",
      "32\n",
      "83\n",
      "119\n",
      "159\n",
      "177\n",
      "191\n",
      "212\n",
      "229\n",
      "261\n",
      "302\n",
      "323\n",
      "348\n",
      "382\n",
      "560\n",
      "608\n",
      "659\n",
      "683\n",
      "700\n",
      "727\n",
      "16\n",
      "36\n",
      "51\n",
      "73\n",
      "89\n",
      "108\n",
      "135\n",
      "162\n",
      "182\n",
      "217\n",
      "233\n",
      "266\n",
      "294\n",
      "344\n",
      "387\n",
      "504\n",
      "545\n",
      "761\n",
      "798\n"
     ]
    }
   ],
   "source": [
    "for i in range(prod.shape[0]):\n",
    "    for j in range(prod.shape[1]-1):\n",
    "        if prod[i,j][3]<=prod[i,j+1][2]:\n",
    "            print(prod[i,j][3])\n",
    "        else:\n",
    "            print(i,j)"
   ]
  },
  {
   "cell_type": "code",
   "execution_count": null,
   "metadata": {},
   "outputs": [],
   "source": []
  },
  {
   "cell_type": "code",
   "execution_count": null,
   "metadata": {},
   "outputs": [],
   "source": []
  },
  {
   "cell_type": "code",
   "execution_count": 2,
   "metadata": {},
   "outputs": [],
   "source": [
    "prod=(env.production_list)   "
   ]
  },
  {
   "cell_type": "code",
   "execution_count": null,
   "metadata": {},
   "outputs": [],
   "source": []
  },
  {
   "cell_type": "code",
   "execution_count": null,
   "metadata": {},
   "outputs": [],
   "source": []
  },
  {
   "cell_type": "code",
   "execution_count": null,
   "metadata": {},
   "outputs": [],
   "source": []
  },
  {
   "cell_type": "code",
   "execution_count": null,
   "metadata": {},
   "outputs": [],
   "source": []
  },
  {
   "cell_type": "code",
   "execution_count": 4,
   "metadata": {},
   "outputs": [
    {
     "name": "stdout",
     "output_type": "stream",
     "text": [
      "10\n",
      "[False False False False False False False False False False False]\n"
     ]
    },
    {
     "ename": "IndexError",
     "evalue": "index 10 is out of bounds for axis 0 with size 10",
     "output_type": "error",
     "traceback": [
      "\u001b[0;31m---------------------------------------------------------------------------\u001b[0m",
      "\u001b[0;31mIndexError\u001b[0m                                Traceback (most recent call last)",
      "\u001b[1;32m/Users/felix/sciebo/masterarbeit/progra/model-based_rl/test_environments.ipynb Zelle 7\u001b[0m in \u001b[0;36m<cell line: 4>\u001b[0;34m()\u001b[0m\n\u001b[1;32m      <a href='vscode-notebook-cell:/Users/felix/sciebo/masterarbeit/progra/model-based_rl/test_environments.ipynb#W4sZmlsZQ%3D%3D?line=0'>1</a>\u001b[0m \u001b[39mprint\u001b[39m(action)\n\u001b[1;32m      <a href='vscode-notebook-cell:/Users/felix/sciebo/masterarbeit/progra/model-based_rl/test_environments.ipynb#W4sZmlsZQ%3D%3D?line=2'>3</a>\u001b[0m \u001b[39mprint\u001b[39m(env\u001b[39m.\u001b[39mget_legal_actions(state))\n\u001b[0;32m----> <a href='vscode-notebook-cell:/Users/felix/sciebo/masterarbeit/progra/model-based_rl/test_environments.ipynb#W4sZmlsZQ%3D%3D?line=3'>4</a>\u001b[0m \u001b[39mprint\u001b[39m(env\u001b[39m.\u001b[39mjob_machine_matrix[action,env\u001b[39m.\u001b[39;49mcount_finished_tasks_job_matrix[action]])\n\u001b[1;32m      <a href='vscode-notebook-cell:/Users/felix/sciebo/masterarbeit/progra/model-based_rl/test_environments.ipynb#W4sZmlsZQ%3D%3D?line=4'>5</a>\u001b[0m cur_machine\u001b[39m=\u001b[39menv\u001b[39m.\u001b[39mcurrent_machines_status\n\u001b[1;32m      <a href='vscode-notebook-cell:/Users/felix/sciebo/masterarbeit/progra/model-based_rl/test_environments.ipynb#W4sZmlsZQ%3D%3D?line=5'>6</a>\u001b[0m job_ma\u001b[39m=\u001b[39menv\u001b[39m.\u001b[39mjob_machine_matrix\n",
      "\u001b[0;31mIndexError\u001b[0m: index 10 is out of bounds for axis 0 with size 10"
     ]
    }
   ],
   "source": [
    "print(action)\n",
    "\n",
    "print(env.get_legal_actions(state))\n",
    "print(env.job_machine_matrix[action,env.count_finished_tasks_job_matrix[action]])\n",
    "cur_machine=env.current_machines_status\n",
    "job_ma=env.job_machine_matrix\n",
    "print(env.count_finished_tasks_job_matrix[action])\n",
    "#print(env.current_machines_status[env.job_machine_matrix[action,env.count_finished_tasks_job_matrix[action]],:])\n",
    "#print(env.job_machine_matrix[action,env.count_finished_tasks_job_matrix[action]])\n",
    "#print(env.current_machines_status)\n",
    "env.render()\n"
   ]
  },
  {
   "cell_type": "code",
   "execution_count": null,
   "metadata": {},
   "outputs": [],
   "source": []
  },
  {
   "cell_type": "code",
   "execution_count": null,
   "metadata": {},
   "outputs": [],
   "source": []
  },
  {
   "cell_type": "code",
   "execution_count": null,
   "metadata": {},
   "outputs": [],
   "source": []
  },
  {
   "cell_type": "code",
   "execution_count": null,
   "metadata": {},
   "outputs": [],
   "source": []
  },
  {
   "cell_type": "code",
   "execution_count": null,
   "metadata": {},
   "outputs": [],
   "source": []
  },
  {
   "cell_type": "code",
   "execution_count": 2,
   "metadata": {},
   "outputs": [
    {
     "name": "stdout",
     "output_type": "stream",
     "text": [
      "15\n",
      "20\n",
      "15\n",
      "[0. 0. 1. 0. 0. 0. 0. 0. 0. 1. 0. 1. 0. 0. 0.]\n",
      "[[(0, 0, 0, 19) None None None None None None None None None None None\n",
      "  None None None]\n",
      " [(9, 0, 0, 18) None None None None None None None None None None None\n",
      "  None None None]\n",
      " [(19, 0, 0, 12) None None None None None None None None None None None\n",
      "  None None None]\n",
      " [(2, 0, 0, 25) None None None None None None None None None None None\n",
      "  None None None]\n",
      " [None None None None None None None None None None None None None None\n",
      "  None]\n",
      " [None None None None None None None None None None None None None None\n",
      "  None]\n",
      " [(11, 0, 0, 32) None None None None None None None None None None None\n",
      "  None None None]\n",
      " [None None None None None None None None None None None None None None\n",
      "  None]\n",
      " [(15, 0, 0, 38) None None None None None None None None None None None\n",
      "  None None None]\n",
      " [(1, 0, 0, 11) None None None None None None None None None None None\n",
      "  None None None]\n",
      " [(5, 0, 0, 23) None None None None None None None None None None None\n",
      "  None None None]\n",
      " [(7, 0, 0, 11) (17, 0, 11, 29) None None None None None None None None\n",
      "  None None None None None]\n",
      " [(4, 0, 0, 32) None None None None None None None None None None None\n",
      "  None None None]\n",
      " [None None None None None None None None None None None None None None\n",
      "  None]\n",
      " [(3, 0, 0, 22) None None None None None None None None None None None\n",
      "  None None None]]\n"
     ]
    },
    {
     "data": {
      "application/vnd.plotly.v1+json": {
       "config": {
        "plotlyServerURL": "https://plot.ly"
       },
       "data": [
        {
         "alignmentgroup": "True",
         "base": [
          "2022-01-01T00:00:00"
         ],
         "hovertemplate": "Resource=machine_0<br>Start=%{base}<br>Finish=%{x}<br>Task=%{y}<extra></extra>",
         "legendgroup": "machine_0",
         "marker": {
          "color": "#636efa",
          "pattern": {
           "shape": ""
          }
         },
         "name": "machine_0",
         "offsetgroup": "machine_0",
         "orientation": "h",
         "showlegend": true,
         "textposition": "auto",
         "type": "bar",
         "x": [
          19000
         ],
         "xaxis": "x",
         "y": [
          "job_0"
         ],
         "yaxis": "y"
        },
        {
         "alignmentgroup": "True",
         "base": [
          "2022-01-01T00:00:00"
         ],
         "hovertemplate": "Resource=machine_1<br>Start=%{base}<br>Finish=%{x}<br>Task=%{y}<extra></extra>",
         "legendgroup": "machine_1",
         "marker": {
          "color": "#EF553B",
          "pattern": {
           "shape": ""
          }
         },
         "name": "machine_1",
         "offsetgroup": "machine_1",
         "orientation": "h",
         "showlegend": true,
         "textposition": "auto",
         "type": "bar",
         "x": [
          18000
         ],
         "xaxis": "x",
         "y": [
          "job_9"
         ],
         "yaxis": "y"
        },
        {
         "alignmentgroup": "True",
         "base": [
          "2022-01-01T00:00:00"
         ],
         "hovertemplate": "Resource=machine_2<br>Start=%{base}<br>Finish=%{x}<br>Task=%{y}<extra></extra>",
         "legendgroup": "machine_2",
         "marker": {
          "color": "#00cc96",
          "pattern": {
           "shape": ""
          }
         },
         "name": "machine_2",
         "offsetgroup": "machine_2",
         "orientation": "h",
         "showlegend": true,
         "textposition": "auto",
         "type": "bar",
         "x": [
          12000
         ],
         "xaxis": "x",
         "y": [
          "job_19"
         ],
         "yaxis": "y"
        },
        {
         "alignmentgroup": "True",
         "base": [
          "2022-01-01T00:00:00"
         ],
         "hovertemplate": "Resource=machine_3<br>Start=%{base}<br>Finish=%{x}<br>Task=%{y}<extra></extra>",
         "legendgroup": "machine_3",
         "marker": {
          "color": "#ab63fa",
          "pattern": {
           "shape": ""
          }
         },
         "name": "machine_3",
         "offsetgroup": "machine_3",
         "orientation": "h",
         "showlegend": true,
         "textposition": "auto",
         "type": "bar",
         "x": [
          25000
         ],
         "xaxis": "x",
         "y": [
          "job_2"
         ],
         "yaxis": "y"
        },
        {
         "alignmentgroup": "True",
         "base": [
          "2022-01-01T00:00:00"
         ],
         "hovertemplate": "Resource=machine_6<br>Start=%{base}<br>Finish=%{x}<br>Task=%{y}<extra></extra>",
         "legendgroup": "machine_6",
         "marker": {
          "color": "#FFA15A",
          "pattern": {
           "shape": ""
          }
         },
         "name": "machine_6",
         "offsetgroup": "machine_6",
         "orientation": "h",
         "showlegend": true,
         "textposition": "auto",
         "type": "bar",
         "x": [
          32000
         ],
         "xaxis": "x",
         "y": [
          "job_11"
         ],
         "yaxis": "y"
        },
        {
         "alignmentgroup": "True",
         "base": [
          "2022-01-01T00:00:00"
         ],
         "hovertemplate": "Resource=machine_8<br>Start=%{base}<br>Finish=%{x}<br>Task=%{y}<extra></extra>",
         "legendgroup": "machine_8",
         "marker": {
          "color": "#19d3f3",
          "pattern": {
           "shape": ""
          }
         },
         "name": "machine_8",
         "offsetgroup": "machine_8",
         "orientation": "h",
         "showlegend": true,
         "textposition": "auto",
         "type": "bar",
         "x": [
          38000
         ],
         "xaxis": "x",
         "y": [
          "job_15"
         ],
         "yaxis": "y"
        },
        {
         "alignmentgroup": "True",
         "base": [
          "2022-01-01T00:00:00"
         ],
         "hovertemplate": "Resource=machine_9<br>Start=%{base}<br>Finish=%{x}<br>Task=%{y}<extra></extra>",
         "legendgroup": "machine_9",
         "marker": {
          "color": "#FF6692",
          "pattern": {
           "shape": ""
          }
         },
         "name": "machine_9",
         "offsetgroup": "machine_9",
         "orientation": "h",
         "showlegend": true,
         "textposition": "auto",
         "type": "bar",
         "x": [
          11000
         ],
         "xaxis": "x",
         "y": [
          "job_1"
         ],
         "yaxis": "y"
        },
        {
         "alignmentgroup": "True",
         "base": [
          "2022-01-01T00:00:00"
         ],
         "hovertemplate": "Resource=machine_10<br>Start=%{base}<br>Finish=%{x}<br>Task=%{y}<extra></extra>",
         "legendgroup": "machine_10",
         "marker": {
          "color": "#B6E880",
          "pattern": {
           "shape": ""
          }
         },
         "name": "machine_10",
         "offsetgroup": "machine_10",
         "orientation": "h",
         "showlegend": true,
         "textposition": "auto",
         "type": "bar",
         "x": [
          23000
         ],
         "xaxis": "x",
         "y": [
          "job_5"
         ],
         "yaxis": "y"
        },
        {
         "alignmentgroup": "True",
         "base": [
          "2022-01-01T00:00:00",
          "2022-01-01T00:00:11"
         ],
         "hovertemplate": "Resource=machine_11<br>Start=%{base}<br>Finish=%{x}<br>Task=%{y}<extra></extra>",
         "legendgroup": "machine_11",
         "marker": {
          "color": "#FF97FF",
          "pattern": {
           "shape": ""
          }
         },
         "name": "machine_11",
         "offsetgroup": "machine_11",
         "orientation": "h",
         "showlegend": true,
         "textposition": "auto",
         "type": "bar",
         "x": [
          11000,
          18000
         ],
         "xaxis": "x",
         "y": [
          "job_7",
          "job_17"
         ],
         "yaxis": "y"
        },
        {
         "alignmentgroup": "True",
         "base": [
          "2022-01-01T00:00:00"
         ],
         "hovertemplate": "Resource=machine_12<br>Start=%{base}<br>Finish=%{x}<br>Task=%{y}<extra></extra>",
         "legendgroup": "machine_12",
         "marker": {
          "color": "#FECB52",
          "pattern": {
           "shape": ""
          }
         },
         "name": "machine_12",
         "offsetgroup": "machine_12",
         "orientation": "h",
         "showlegend": true,
         "textposition": "auto",
         "type": "bar",
         "x": [
          32000
         ],
         "xaxis": "x",
         "y": [
          "job_4"
         ],
         "yaxis": "y"
        },
        {
         "alignmentgroup": "True",
         "base": [
          "2022-01-01T00:00:00"
         ],
         "hovertemplate": "Resource=machine_14<br>Start=%{base}<br>Finish=%{x}<br>Task=%{y}<extra></extra>",
         "legendgroup": "machine_14",
         "marker": {
          "color": "#636efa",
          "pattern": {
           "shape": ""
          }
         },
         "name": "machine_14",
         "offsetgroup": "machine_14",
         "orientation": "h",
         "showlegend": true,
         "textposition": "auto",
         "type": "bar",
         "x": [
          22000
         ],
         "xaxis": "x",
         "y": [
          "job_3"
         ],
         "yaxis": "y"
        }
       ],
       "layout": {
        "barmode": "overlay",
        "legend": {
         "title": {
          "text": "Resource"
         },
         "tracegroupgap": 0
        },
        "margin": {
         "t": 60
        },
        "template": {
         "data": {
          "bar": [
           {
            "error_x": {
             "color": "#2a3f5f"
            },
            "error_y": {
             "color": "#2a3f5f"
            },
            "marker": {
             "line": {
              "color": "#E5ECF6",
              "width": 0.5
             },
             "pattern": {
              "fillmode": "overlay",
              "size": 10,
              "solidity": 0.2
             }
            },
            "type": "bar"
           }
          ],
          "barpolar": [
           {
            "marker": {
             "line": {
              "color": "#E5ECF6",
              "width": 0.5
             },
             "pattern": {
              "fillmode": "overlay",
              "size": 10,
              "solidity": 0.2
             }
            },
            "type": "barpolar"
           }
          ],
          "carpet": [
           {
            "aaxis": {
             "endlinecolor": "#2a3f5f",
             "gridcolor": "white",
             "linecolor": "white",
             "minorgridcolor": "white",
             "startlinecolor": "#2a3f5f"
            },
            "baxis": {
             "endlinecolor": "#2a3f5f",
             "gridcolor": "white",
             "linecolor": "white",
             "minorgridcolor": "white",
             "startlinecolor": "#2a3f5f"
            },
            "type": "carpet"
           }
          ],
          "choropleth": [
           {
            "colorbar": {
             "outlinewidth": 0,
             "ticks": ""
            },
            "type": "choropleth"
           }
          ],
          "contour": [
           {
            "colorbar": {
             "outlinewidth": 0,
             "ticks": ""
            },
            "colorscale": [
             [
              0,
              "#0d0887"
             ],
             [
              0.1111111111111111,
              "#46039f"
             ],
             [
              0.2222222222222222,
              "#7201a8"
             ],
             [
              0.3333333333333333,
              "#9c179e"
             ],
             [
              0.4444444444444444,
              "#bd3786"
             ],
             [
              0.5555555555555556,
              "#d8576b"
             ],
             [
              0.6666666666666666,
              "#ed7953"
             ],
             [
              0.7777777777777778,
              "#fb9f3a"
             ],
             [
              0.8888888888888888,
              "#fdca26"
             ],
             [
              1,
              "#f0f921"
             ]
            ],
            "type": "contour"
           }
          ],
          "contourcarpet": [
           {
            "colorbar": {
             "outlinewidth": 0,
             "ticks": ""
            },
            "type": "contourcarpet"
           }
          ],
          "heatmap": [
           {
            "colorbar": {
             "outlinewidth": 0,
             "ticks": ""
            },
            "colorscale": [
             [
              0,
              "#0d0887"
             ],
             [
              0.1111111111111111,
              "#46039f"
             ],
             [
              0.2222222222222222,
              "#7201a8"
             ],
             [
              0.3333333333333333,
              "#9c179e"
             ],
             [
              0.4444444444444444,
              "#bd3786"
             ],
             [
              0.5555555555555556,
              "#d8576b"
             ],
             [
              0.6666666666666666,
              "#ed7953"
             ],
             [
              0.7777777777777778,
              "#fb9f3a"
             ],
             [
              0.8888888888888888,
              "#fdca26"
             ],
             [
              1,
              "#f0f921"
             ]
            ],
            "type": "heatmap"
           }
          ],
          "heatmapgl": [
           {
            "colorbar": {
             "outlinewidth": 0,
             "ticks": ""
            },
            "colorscale": [
             [
              0,
              "#0d0887"
             ],
             [
              0.1111111111111111,
              "#46039f"
             ],
             [
              0.2222222222222222,
              "#7201a8"
             ],
             [
              0.3333333333333333,
              "#9c179e"
             ],
             [
              0.4444444444444444,
              "#bd3786"
             ],
             [
              0.5555555555555556,
              "#d8576b"
             ],
             [
              0.6666666666666666,
              "#ed7953"
             ],
             [
              0.7777777777777778,
              "#fb9f3a"
             ],
             [
              0.8888888888888888,
              "#fdca26"
             ],
             [
              1,
              "#f0f921"
             ]
            ],
            "type": "heatmapgl"
           }
          ],
          "histogram": [
           {
            "marker": {
             "pattern": {
              "fillmode": "overlay",
              "size": 10,
              "solidity": 0.2
             }
            },
            "type": "histogram"
           }
          ],
          "histogram2d": [
           {
            "colorbar": {
             "outlinewidth": 0,
             "ticks": ""
            },
            "colorscale": [
             [
              0,
              "#0d0887"
             ],
             [
              0.1111111111111111,
              "#46039f"
             ],
             [
              0.2222222222222222,
              "#7201a8"
             ],
             [
              0.3333333333333333,
              "#9c179e"
             ],
             [
              0.4444444444444444,
              "#bd3786"
             ],
             [
              0.5555555555555556,
              "#d8576b"
             ],
             [
              0.6666666666666666,
              "#ed7953"
             ],
             [
              0.7777777777777778,
              "#fb9f3a"
             ],
             [
              0.8888888888888888,
              "#fdca26"
             ],
             [
              1,
              "#f0f921"
             ]
            ],
            "type": "histogram2d"
           }
          ],
          "histogram2dcontour": [
           {
            "colorbar": {
             "outlinewidth": 0,
             "ticks": ""
            },
            "colorscale": [
             [
              0,
              "#0d0887"
             ],
             [
              0.1111111111111111,
              "#46039f"
             ],
             [
              0.2222222222222222,
              "#7201a8"
             ],
             [
              0.3333333333333333,
              "#9c179e"
             ],
             [
              0.4444444444444444,
              "#bd3786"
             ],
             [
              0.5555555555555556,
              "#d8576b"
             ],
             [
              0.6666666666666666,
              "#ed7953"
             ],
             [
              0.7777777777777778,
              "#fb9f3a"
             ],
             [
              0.8888888888888888,
              "#fdca26"
             ],
             [
              1,
              "#f0f921"
             ]
            ],
            "type": "histogram2dcontour"
           }
          ],
          "mesh3d": [
           {
            "colorbar": {
             "outlinewidth": 0,
             "ticks": ""
            },
            "type": "mesh3d"
           }
          ],
          "parcoords": [
           {
            "line": {
             "colorbar": {
              "outlinewidth": 0,
              "ticks": ""
             }
            },
            "type": "parcoords"
           }
          ],
          "pie": [
           {
            "automargin": true,
            "type": "pie"
           }
          ],
          "scatter": [
           {
            "fillpattern": {
             "fillmode": "overlay",
             "size": 10,
             "solidity": 0.2
            },
            "type": "scatter"
           }
          ],
          "scatter3d": [
           {
            "line": {
             "colorbar": {
              "outlinewidth": 0,
              "ticks": ""
             }
            },
            "marker": {
             "colorbar": {
              "outlinewidth": 0,
              "ticks": ""
             }
            },
            "type": "scatter3d"
           }
          ],
          "scattercarpet": [
           {
            "marker": {
             "colorbar": {
              "outlinewidth": 0,
              "ticks": ""
             }
            },
            "type": "scattercarpet"
           }
          ],
          "scattergeo": [
           {
            "marker": {
             "colorbar": {
              "outlinewidth": 0,
              "ticks": ""
             }
            },
            "type": "scattergeo"
           }
          ],
          "scattergl": [
           {
            "marker": {
             "colorbar": {
              "outlinewidth": 0,
              "ticks": ""
             }
            },
            "type": "scattergl"
           }
          ],
          "scattermapbox": [
           {
            "marker": {
             "colorbar": {
              "outlinewidth": 0,
              "ticks": ""
             }
            },
            "type": "scattermapbox"
           }
          ],
          "scatterpolar": [
           {
            "marker": {
             "colorbar": {
              "outlinewidth": 0,
              "ticks": ""
             }
            },
            "type": "scatterpolar"
           }
          ],
          "scatterpolargl": [
           {
            "marker": {
             "colorbar": {
              "outlinewidth": 0,
              "ticks": ""
             }
            },
            "type": "scatterpolargl"
           }
          ],
          "scatterternary": [
           {
            "marker": {
             "colorbar": {
              "outlinewidth": 0,
              "ticks": ""
             }
            },
            "type": "scatterternary"
           }
          ],
          "surface": [
           {
            "colorbar": {
             "outlinewidth": 0,
             "ticks": ""
            },
            "colorscale": [
             [
              0,
              "#0d0887"
             ],
             [
              0.1111111111111111,
              "#46039f"
             ],
             [
              0.2222222222222222,
              "#7201a8"
             ],
             [
              0.3333333333333333,
              "#9c179e"
             ],
             [
              0.4444444444444444,
              "#bd3786"
             ],
             [
              0.5555555555555556,
              "#d8576b"
             ],
             [
              0.6666666666666666,
              "#ed7953"
             ],
             [
              0.7777777777777778,
              "#fb9f3a"
             ],
             [
              0.8888888888888888,
              "#fdca26"
             ],
             [
              1,
              "#f0f921"
             ]
            ],
            "type": "surface"
           }
          ],
          "table": [
           {
            "cells": {
             "fill": {
              "color": "#EBF0F8"
             },
             "line": {
              "color": "white"
             }
            },
            "header": {
             "fill": {
              "color": "#C8D4E3"
             },
             "line": {
              "color": "white"
             }
            },
            "type": "table"
           }
          ]
         },
         "layout": {
          "annotationdefaults": {
           "arrowcolor": "#2a3f5f",
           "arrowhead": 0,
           "arrowwidth": 1
          },
          "autotypenumbers": "strict",
          "coloraxis": {
           "colorbar": {
            "outlinewidth": 0,
            "ticks": ""
           }
          },
          "colorscale": {
           "diverging": [
            [
             0,
             "#8e0152"
            ],
            [
             0.1,
             "#c51b7d"
            ],
            [
             0.2,
             "#de77ae"
            ],
            [
             0.3,
             "#f1b6da"
            ],
            [
             0.4,
             "#fde0ef"
            ],
            [
             0.5,
             "#f7f7f7"
            ],
            [
             0.6,
             "#e6f5d0"
            ],
            [
             0.7,
             "#b8e186"
            ],
            [
             0.8,
             "#7fbc41"
            ],
            [
             0.9,
             "#4d9221"
            ],
            [
             1,
             "#276419"
            ]
           ],
           "sequential": [
            [
             0,
             "#0d0887"
            ],
            [
             0.1111111111111111,
             "#46039f"
            ],
            [
             0.2222222222222222,
             "#7201a8"
            ],
            [
             0.3333333333333333,
             "#9c179e"
            ],
            [
             0.4444444444444444,
             "#bd3786"
            ],
            [
             0.5555555555555556,
             "#d8576b"
            ],
            [
             0.6666666666666666,
             "#ed7953"
            ],
            [
             0.7777777777777778,
             "#fb9f3a"
            ],
            [
             0.8888888888888888,
             "#fdca26"
            ],
            [
             1,
             "#f0f921"
            ]
           ],
           "sequentialminus": [
            [
             0,
             "#0d0887"
            ],
            [
             0.1111111111111111,
             "#46039f"
            ],
            [
             0.2222222222222222,
             "#7201a8"
            ],
            [
             0.3333333333333333,
             "#9c179e"
            ],
            [
             0.4444444444444444,
             "#bd3786"
            ],
            [
             0.5555555555555556,
             "#d8576b"
            ],
            [
             0.6666666666666666,
             "#ed7953"
            ],
            [
             0.7777777777777778,
             "#fb9f3a"
            ],
            [
             0.8888888888888888,
             "#fdca26"
            ],
            [
             1,
             "#f0f921"
            ]
           ]
          },
          "colorway": [
           "#636efa",
           "#EF553B",
           "#00cc96",
           "#ab63fa",
           "#FFA15A",
           "#19d3f3",
           "#FF6692",
           "#B6E880",
           "#FF97FF",
           "#FECB52"
          ],
          "font": {
           "color": "#2a3f5f"
          },
          "geo": {
           "bgcolor": "white",
           "lakecolor": "white",
           "landcolor": "#E5ECF6",
           "showlakes": true,
           "showland": true,
           "subunitcolor": "white"
          },
          "hoverlabel": {
           "align": "left"
          },
          "hovermode": "closest",
          "mapbox": {
           "style": "light"
          },
          "paper_bgcolor": "white",
          "plot_bgcolor": "#E5ECF6",
          "polar": {
           "angularaxis": {
            "gridcolor": "white",
            "linecolor": "white",
            "ticks": ""
           },
           "bgcolor": "#E5ECF6",
           "radialaxis": {
            "gridcolor": "white",
            "linecolor": "white",
            "ticks": ""
           }
          },
          "scene": {
           "xaxis": {
            "backgroundcolor": "#E5ECF6",
            "gridcolor": "white",
            "gridwidth": 2,
            "linecolor": "white",
            "showbackground": true,
            "ticks": "",
            "zerolinecolor": "white"
           },
           "yaxis": {
            "backgroundcolor": "#E5ECF6",
            "gridcolor": "white",
            "gridwidth": 2,
            "linecolor": "white",
            "showbackground": true,
            "ticks": "",
            "zerolinecolor": "white"
           },
           "zaxis": {
            "backgroundcolor": "#E5ECF6",
            "gridcolor": "white",
            "gridwidth": 2,
            "linecolor": "white",
            "showbackground": true,
            "ticks": "",
            "zerolinecolor": "white"
           }
          },
          "shapedefaults": {
           "line": {
            "color": "#2a3f5f"
           }
          },
          "ternary": {
           "aaxis": {
            "gridcolor": "white",
            "linecolor": "white",
            "ticks": ""
           },
           "baxis": {
            "gridcolor": "white",
            "linecolor": "white",
            "ticks": ""
           },
           "bgcolor": "#E5ECF6",
           "caxis": {
            "gridcolor": "white",
            "linecolor": "white",
            "ticks": ""
           }
          },
          "title": {
           "x": 0.05
          },
          "xaxis": {
           "automargin": true,
           "gridcolor": "white",
           "linecolor": "white",
           "ticks": "",
           "title": {
            "standoff": 15
           },
           "zerolinecolor": "white",
           "zerolinewidth": 2
          },
          "yaxis": {
           "automargin": true,
           "gridcolor": "white",
           "linecolor": "white",
           "ticks": "",
           "title": {
            "standoff": 15
           },
           "zerolinecolor": "white",
           "zerolinewidth": 2
          }
         }
        },
        "xaxis": {
         "anchor": "y",
         "domain": [
          0,
          1
         ],
         "type": "date"
        },
        "yaxis": {
         "anchor": "x",
         "domain": [
          0,
          1
         ],
         "title": {
          "text": "Task"
         }
        }
       }
      }
     },
     "metadata": {},
     "output_type": "display_data"
    }
   ],
   "source": [
    "print(env.n_machines)\n",
    "print(env.n_jobs)\n",
    "print(env.n_tasks)\n",
    "print(env.count_finished_tasks_machine_matrix)\n",
    "print(env.production_list)    \n",
    "env.render()\n"
   ]
  },
  {
   "cell_type": "code",
   "execution_count": null,
   "metadata": {},
   "outputs": [],
   "source": []
  },
  {
   "cell_type": "code",
   "execution_count": null,
   "metadata": {},
   "outputs": [],
   "source": []
  },
  {
   "cell_type": "code",
   "execution_count": null,
   "metadata": {},
   "outputs": [],
   "source": []
  },
  {
   "cell_type": "code",
   "execution_count": null,
   "metadata": {},
   "outputs": [],
   "source": []
  },
  {
   "cell_type": "code",
   "execution_count": null,
   "metadata": {},
   "outputs": [],
   "source": []
  },
  {
   "cell_type": "code",
   "execution_count": null,
   "metadata": {},
   "outputs": [],
   "source": []
  },
  {
   "cell_type": "code",
   "execution_count": null,
   "metadata": {},
   "outputs": [],
   "source": []
  },
  {
   "cell_type": "code",
   "execution_count": null,
   "metadata": {},
   "outputs": [],
   "source": []
  },
  {
   "cell_type": "code",
   "execution_count": null,
   "metadata": {},
   "outputs": [],
   "source": []
  },
  {
   "cell_type": "code",
   "execution_count": null,
   "metadata": {},
   "outputs": [],
   "source": []
  },
  {
   "cell_type": "code",
   "execution_count": null,
   "metadata": {},
   "outputs": [],
   "source": []
  },
  {
   "cell_type": "code",
   "execution_count": null,
   "metadata": {},
   "outputs": [],
   "source": []
  },
  {
   "cell_type": "code",
   "execution_count": null,
   "metadata": {},
   "outputs": [],
   "source": [
    "print(sum(env.count_finished_tasks_job_matrix))\n",
    "print(sum(env.count_finished_tasks_machine_matrix))"
   ]
  },
  {
   "cell_type": "code",
   "execution_count": null,
   "metadata": {},
   "outputs": [],
   "source": [
    "env.render()\n",
    "print(env.production_list)"
   ]
  },
  {
   "cell_type": "code",
   "execution_count": null,
   "metadata": {},
   "outputs": [],
   "source": [
    "import ale_py as ale\n",
    "ale.importroms('/Users/felix/sciebo/masterarbeit/progra/model-based_rl/roms/Space Invaders.bin')\n",
    "import gym\n",
    "env = gym.make('SpaceInvaders-v4')\n",
    "env.reset()\n",
    "env.render()\n"
   ]
  },
  {
   "cell_type": "code",
   "execution_count": 35,
   "metadata": {},
   "outputs": [
    {
     "data": {
      "text/html": [
       "<pre style=\"white-space:pre;overflow-x:auto;line-height:normal;font-family:Menlo,'DejaVu Sans Mono',consolas,'Courier New',monospace\"><span style=\"color: #7fbfbf; text-decoration-color: #7fbfbf\">[18:23:14] </span><span style=\"color: #000080; text-decoration-color: #000080\">INFO    </span> parsing file <span style=\"color: #008000; text-decoration-color: #008000\">'resources/jsp_instances/standard/abz8.txt'</span>                                       \n",
       "</pre>\n"
      ],
      "text/plain": [
       "\u001b[2;36m[18:23:14]\u001b[0m\u001b[2;36m \u001b[0m\u001b[34mINFO    \u001b[0m parsing file \u001b[32m'resources/jsp_instances/standard/abz8.txt'\u001b[0m                                       \n"
      ]
     },
     "metadata": {},
     "output_type": "display_data"
    },
    {
     "data": {
      "text/html": [
       "<pre style=\"white-space:pre;overflow-x:auto;line-height:normal;font-family:Menlo,'DejaVu Sans Mono',consolas,'Courier New',monospace\"><span style=\"color: #7fbfbf; text-decoration-color: #7fbfbf\">           </span><span style=\"color: #000080; text-decoration-color: #000080\">INFO    </span> instance appears to contain <span style=\"color: #008080; text-decoration-color: #008080; font-weight: bold\">20</span> jobs, <span style=\"color: #008080; text-decoration-color: #008080; font-weight: bold\">15</span> machines                                               \n",
       "</pre>\n"
      ],
      "text/plain": [
       "\u001b[2;36m          \u001b[0m\u001b[2;36m \u001b[0m\u001b[34mINFO    \u001b[0m instance appears to contain \u001b[1;36m20\u001b[0m jobs, \u001b[1;36m15\u001b[0m machines                                               \n"
      ]
     },
     "metadata": {},
     "output_type": "display_data"
    },
    {
     "data": {
      "text/html": [
       "<pre style=\"white-space:pre;overflow-x:auto;line-height:normal;font-family:Menlo,'DejaVu Sans Mono',consolas,'Courier New',monospace\"><span style=\"color: #7fbfbf; text-decoration-color: #7fbfbf\">           </span><span style=\"color: #000080; text-decoration-color: #000080\">INFO    </span> parsing file <span style=\"color: #008000; text-decoration-color: #008000\">'resources/jsp_instances/standard/abz8.txt'</span>                                       \n",
       "</pre>\n"
      ],
      "text/plain": [
       "\u001b[2;36m          \u001b[0m\u001b[2;36m \u001b[0m\u001b[34mINFO    \u001b[0m parsing file \u001b[32m'resources/jsp_instances/standard/abz8.txt'\u001b[0m                                       \n"
      ]
     },
     "metadata": {},
     "output_type": "display_data"
    },
    {
     "data": {
      "text/html": [
       "<pre style=\"white-space:pre;overflow-x:auto;line-height:normal;font-family:Menlo,'DejaVu Sans Mono',consolas,'Courier New',monospace\"><span style=\"color: #7fbfbf; text-decoration-color: #7fbfbf\">           </span><span style=\"color: #000080; text-decoration-color: #000080\">INFO    </span> instance appears to contain <span style=\"color: #008080; text-decoration-color: #008080; font-weight: bold\">20</span> jobs, <span style=\"color: #008080; text-decoration-color: #008080; font-weight: bold\">15</span> machines                                               \n",
       "</pre>\n"
      ],
      "text/plain": [
       "\u001b[2;36m          \u001b[0m\u001b[2;36m \u001b[0m\u001b[34mINFO    \u001b[0m instance appears to contain \u001b[1;36m20\u001b[0m jobs, \u001b[1;36m15\u001b[0m machines                                               \n"
      ]
     },
     "metadata": {},
     "output_type": "display_data"
    },
    {
     "data": {
      "text/html": [
       "<pre style=\"white-space:pre;overflow-x:auto;line-height:normal;font-family:Menlo,'DejaVu Sans Mono',consolas,'Courier New',monospace\"><span style=\"color: #7fbfbf; text-decoration-color: #7fbfbf\">           </span><span style=\"color: #000080; text-decoration-color: #000080\">INFO    </span> parsing file <span style=\"color: #008000; text-decoration-color: #008000\">'resources/jsp_instances/standard/abz8.txt'</span>                                       \n",
       "</pre>\n"
      ],
      "text/plain": [
       "\u001b[2;36m          \u001b[0m\u001b[2;36m \u001b[0m\u001b[34mINFO    \u001b[0m parsing file \u001b[32m'resources/jsp_instances/standard/abz8.txt'\u001b[0m                                       \n"
      ]
     },
     "metadata": {},
     "output_type": "display_data"
    },
    {
     "data": {
      "text/html": [
       "<pre style=\"white-space:pre;overflow-x:auto;line-height:normal;font-family:Menlo,'DejaVu Sans Mono',consolas,'Courier New',monospace\"><span style=\"color: #7fbfbf; text-decoration-color: #7fbfbf\">           </span><span style=\"color: #000080; text-decoration-color: #000080\">INFO    </span> instance appears to contain <span style=\"color: #008080; text-decoration-color: #008080; font-weight: bold\">20</span> jobs, <span style=\"color: #008080; text-decoration-color: #008080; font-weight: bold\">15</span> machines                                               \n",
       "</pre>\n"
      ],
      "text/plain": [
       "\u001b[2;36m          \u001b[0m\u001b[2;36m \u001b[0m\u001b[34mINFO    \u001b[0m instance appears to contain \u001b[1;36m20\u001b[0m jobs, \u001b[1;36m15\u001b[0m machines                                               \n"
      ]
     },
     "metadata": {},
     "output_type": "display_data"
    },
    {
     "data": {
      "text/html": [
       "<pre style=\"white-space:pre;overflow-x:auto;line-height:normal;font-family:Menlo,'DejaVu Sans Mono',consolas,'Courier New',monospace\"><span style=\"color: #7fbfbf; text-decoration-color: #7fbfbf\">[18:23:15] </span><span style=\"color: #000080; text-decoration-color: #000080\">INFO    </span> parsing file <span style=\"color: #008000; text-decoration-color: #008000\">'resources/jsp_instances/standard/abz8.txt'</span>                                       \n",
       "</pre>\n"
      ],
      "text/plain": [
       "\u001b[2;36m[18:23:15]\u001b[0m\u001b[2;36m \u001b[0m\u001b[34mINFO    \u001b[0m parsing file \u001b[32m'resources/jsp_instances/standard/abz8.txt'\u001b[0m                                       \n"
      ]
     },
     "metadata": {},
     "output_type": "display_data"
    },
    {
     "data": {
      "text/html": [
       "<pre style=\"white-space:pre;overflow-x:auto;line-height:normal;font-family:Menlo,'DejaVu Sans Mono',consolas,'Courier New',monospace\"><span style=\"color: #7fbfbf; text-decoration-color: #7fbfbf\">           </span><span style=\"color: #000080; text-decoration-color: #000080\">INFO    </span> instance appears to contain <span style=\"color: #008080; text-decoration-color: #008080; font-weight: bold\">20</span> jobs, <span style=\"color: #008080; text-decoration-color: #008080; font-weight: bold\">15</span> machines                                               \n",
       "</pre>\n"
      ],
      "text/plain": [
       "\u001b[2;36m          \u001b[0m\u001b[2;36m \u001b[0m\u001b[34mINFO    \u001b[0m instance appears to contain \u001b[1;36m20\u001b[0m jobs, \u001b[1;36m15\u001b[0m machines                                               \n"
      ]
     },
     "metadata": {},
     "output_type": "display_data"
    },
    {
     "data": {
      "text/html": [
       "<pre style=\"white-space:pre;overflow-x:auto;line-height:normal;font-family:Menlo,'DejaVu Sans Mono',consolas,'Courier New',monospace\"><span style=\"color: #7fbfbf; text-decoration-color: #7fbfbf\">           </span><span style=\"color: #000080; text-decoration-color: #000080\">INFO    </span> parsing file <span style=\"color: #008000; text-decoration-color: #008000\">'resources/jsp_instances/standard/abz8.txt'</span>                                       \n",
       "</pre>\n"
      ],
      "text/plain": [
       "\u001b[2;36m          \u001b[0m\u001b[2;36m \u001b[0m\u001b[34mINFO    \u001b[0m parsing file \u001b[32m'resources/jsp_instances/standard/abz8.txt'\u001b[0m                                       \n"
      ]
     },
     "metadata": {},
     "output_type": "display_data"
    },
    {
     "data": {
      "text/html": [
       "<pre style=\"white-space:pre;overflow-x:auto;line-height:normal;font-family:Menlo,'DejaVu Sans Mono',consolas,'Courier New',monospace\"><span style=\"color: #7fbfbf; text-decoration-color: #7fbfbf\">           </span><span style=\"color: #000080; text-decoration-color: #000080\">INFO    </span> instance appears to contain <span style=\"color: #008080; text-decoration-color: #008080; font-weight: bold\">20</span> jobs, <span style=\"color: #008080; text-decoration-color: #008080; font-weight: bold\">15</span> machines                                               \n",
       "</pre>\n"
      ],
      "text/plain": [
       "\u001b[2;36m          \u001b[0m\u001b[2;36m \u001b[0m\u001b[34mINFO    \u001b[0m instance appears to contain \u001b[1;36m20\u001b[0m jobs, \u001b[1;36m15\u001b[0m machines                                               \n"
      ]
     },
     "metadata": {},
     "output_type": "display_data"
    },
    {
     "data": {
      "text/html": [
       "<pre style=\"white-space:pre;overflow-x:auto;line-height:normal;font-family:Menlo,'DejaVu Sans Mono',consolas,'Courier New',monospace\"><span style=\"color: #7fbfbf; text-decoration-color: #7fbfbf\">           </span><span style=\"color: #000080; text-decoration-color: #000080\">INFO    </span> parsing file <span style=\"color: #008000; text-decoration-color: #008000\">'resources/jsp_instances/standard/abz8.txt'</span>                                       \n",
       "</pre>\n"
      ],
      "text/plain": [
       "\u001b[2;36m          \u001b[0m\u001b[2;36m \u001b[0m\u001b[34mINFO    \u001b[0m parsing file \u001b[32m'resources/jsp_instances/standard/abz8.txt'\u001b[0m                                       \n"
      ]
     },
     "metadata": {},
     "output_type": "display_data"
    },
    {
     "data": {
      "text/html": [
       "<pre style=\"white-space:pre;overflow-x:auto;line-height:normal;font-family:Menlo,'DejaVu Sans Mono',consolas,'Courier New',monospace\"><span style=\"color: #7fbfbf; text-decoration-color: #7fbfbf\">           </span><span style=\"color: #000080; text-decoration-color: #000080\">INFO    </span> instance appears to contain <span style=\"color: #008080; text-decoration-color: #008080; font-weight: bold\">20</span> jobs, <span style=\"color: #008080; text-decoration-color: #008080; font-weight: bold\">15</span> machines                                               \n",
       "</pre>\n"
      ],
      "text/plain": [
       "\u001b[2;36m          \u001b[0m\u001b[2;36m \u001b[0m\u001b[34mINFO    \u001b[0m instance appears to contain \u001b[1;36m20\u001b[0m jobs, \u001b[1;36m15\u001b[0m machines                                               \n"
      ]
     },
     "metadata": {},
     "output_type": "display_data"
    },
    {
     "data": {
      "text/html": [
       "<pre style=\"white-space:pre;overflow-x:auto;line-height:normal;font-family:Menlo,'DejaVu Sans Mono',consolas,'Courier New',monospace\"><span style=\"color: #7fbfbf; text-decoration-color: #7fbfbf\">[18:23:16] </span><span style=\"color: #000080; text-decoration-color: #000080\">INFO    </span> parsing file <span style=\"color: #008000; text-decoration-color: #008000\">'resources/jsp_instances/standard/abz8.txt'</span>                                       \n",
       "</pre>\n"
      ],
      "text/plain": [
       "\u001b[2;36m[18:23:16]\u001b[0m\u001b[2;36m \u001b[0m\u001b[34mINFO    \u001b[0m parsing file \u001b[32m'resources/jsp_instances/standard/abz8.txt'\u001b[0m                                       \n"
      ]
     },
     "metadata": {},
     "output_type": "display_data"
    },
    {
     "data": {
      "text/html": [
       "<pre style=\"white-space:pre;overflow-x:auto;line-height:normal;font-family:Menlo,'DejaVu Sans Mono',consolas,'Courier New',monospace\"><span style=\"color: #7fbfbf; text-decoration-color: #7fbfbf\">           </span><span style=\"color: #000080; text-decoration-color: #000080\">INFO    </span> instance appears to contain <span style=\"color: #008080; text-decoration-color: #008080; font-weight: bold\">20</span> jobs, <span style=\"color: #008080; text-decoration-color: #008080; font-weight: bold\">15</span> machines                                               \n",
       "</pre>\n"
      ],
      "text/plain": [
       "\u001b[2;36m          \u001b[0m\u001b[2;36m \u001b[0m\u001b[34mINFO    \u001b[0m instance appears to contain \u001b[1;36m20\u001b[0m jobs, \u001b[1;36m15\u001b[0m machines                                               \n"
      ]
     },
     "metadata": {},
     "output_type": "display_data"
    },
    {
     "data": {
      "text/html": [
       "<pre style=\"white-space:pre;overflow-x:auto;line-height:normal;font-family:Menlo,'DejaVu Sans Mono',consolas,'Courier New',monospace\"><span style=\"color: #7fbfbf; text-decoration-color: #7fbfbf\">           </span><span style=\"color: #000080; text-decoration-color: #000080\">INFO    </span> parsing file <span style=\"color: #008000; text-decoration-color: #008000\">'resources/jsp_instances/standard/abz8.txt'</span>                                       \n",
       "</pre>\n"
      ],
      "text/plain": [
       "\u001b[2;36m          \u001b[0m\u001b[2;36m \u001b[0m\u001b[34mINFO    \u001b[0m parsing file \u001b[32m'resources/jsp_instances/standard/abz8.txt'\u001b[0m                                       \n"
      ]
     },
     "metadata": {},
     "output_type": "display_data"
    },
    {
     "data": {
      "text/html": [
       "<pre style=\"white-space:pre;overflow-x:auto;line-height:normal;font-family:Menlo,'DejaVu Sans Mono',consolas,'Courier New',monospace\"><span style=\"color: #7fbfbf; text-decoration-color: #7fbfbf\">           </span><span style=\"color: #000080; text-decoration-color: #000080\">INFO    </span> instance appears to contain <span style=\"color: #008080; text-decoration-color: #008080; font-weight: bold\">20</span> jobs, <span style=\"color: #008080; text-decoration-color: #008080; font-weight: bold\">15</span> machines                                               \n",
       "</pre>\n"
      ],
      "text/plain": [
       "\u001b[2;36m          \u001b[0m\u001b[2;36m \u001b[0m\u001b[34mINFO    \u001b[0m instance appears to contain \u001b[1;36m20\u001b[0m jobs, \u001b[1;36m15\u001b[0m machines                                               \n"
      ]
     },
     "metadata": {},
     "output_type": "display_data"
    },
    {
     "data": {
      "text/html": [
       "<pre style=\"white-space:pre;overflow-x:auto;line-height:normal;font-family:Menlo,'DejaVu Sans Mono',consolas,'Courier New',monospace\"><span style=\"color: #7fbfbf; text-decoration-color: #7fbfbf\">           </span><span style=\"color: #000080; text-decoration-color: #000080\">INFO    </span> parsing file <span style=\"color: #008000; text-decoration-color: #008000\">'resources/jsp_instances/standard/abz8.txt'</span>                                       \n",
       "</pre>\n"
      ],
      "text/plain": [
       "\u001b[2;36m          \u001b[0m\u001b[2;36m \u001b[0m\u001b[34mINFO    \u001b[0m parsing file \u001b[32m'resources/jsp_instances/standard/abz8.txt'\u001b[0m                                       \n"
      ]
     },
     "metadata": {},
     "output_type": "display_data"
    },
    {
     "data": {
      "text/html": [
       "<pre style=\"white-space:pre;overflow-x:auto;line-height:normal;font-family:Menlo,'DejaVu Sans Mono',consolas,'Courier New',monospace\"><span style=\"color: #7fbfbf; text-decoration-color: #7fbfbf\">           </span><span style=\"color: #000080; text-decoration-color: #000080\">INFO    </span> instance appears to contain <span style=\"color: #008080; text-decoration-color: #008080; font-weight: bold\">20</span> jobs, <span style=\"color: #008080; text-decoration-color: #008080; font-weight: bold\">15</span> machines                                               \n",
       "</pre>\n"
      ],
      "text/plain": [
       "\u001b[2;36m          \u001b[0m\u001b[2;36m \u001b[0m\u001b[34mINFO    \u001b[0m instance appears to contain \u001b[1;36m20\u001b[0m jobs, \u001b[1;36m15\u001b[0m machines                                               \n"
      ]
     },
     "metadata": {},
     "output_type": "display_data"
    },
    {
     "data": {
      "text/html": [
       "<pre style=\"white-space:pre;overflow-x:auto;line-height:normal;font-family:Menlo,'DejaVu Sans Mono',consolas,'Courier New',monospace\"><span style=\"color: #7fbfbf; text-decoration-color: #7fbfbf\">[18:23:17] </span><span style=\"color: #000080; text-decoration-color: #000080\">INFO    </span> parsing file <span style=\"color: #008000; text-decoration-color: #008000\">'resources/jsp_instances/standard/abz8.txt'</span>                                       \n",
       "</pre>\n"
      ],
      "text/plain": [
       "\u001b[2;36m[18:23:17]\u001b[0m\u001b[2;36m \u001b[0m\u001b[34mINFO    \u001b[0m parsing file \u001b[32m'resources/jsp_instances/standard/abz8.txt'\u001b[0m                                       \n"
      ]
     },
     "metadata": {},
     "output_type": "display_data"
    },
    {
     "data": {
      "text/html": [
       "<pre style=\"white-space:pre;overflow-x:auto;line-height:normal;font-family:Menlo,'DejaVu Sans Mono',consolas,'Courier New',monospace\"><span style=\"color: #7fbfbf; text-decoration-color: #7fbfbf\">           </span><span style=\"color: #000080; text-decoration-color: #000080\">INFO    </span> instance appears to contain <span style=\"color: #008080; text-decoration-color: #008080; font-weight: bold\">20</span> jobs, <span style=\"color: #008080; text-decoration-color: #008080; font-weight: bold\">15</span> machines                                               \n",
       "</pre>\n"
      ],
      "text/plain": [
       "\u001b[2;36m          \u001b[0m\u001b[2;36m \u001b[0m\u001b[34mINFO    \u001b[0m instance appears to contain \u001b[1;36m20\u001b[0m jobs, \u001b[1;36m15\u001b[0m machines                                               \n"
      ]
     },
     "metadata": {},
     "output_type": "display_data"
    },
    {
     "data": {
      "text/html": [
       "<pre style=\"white-space:pre;overflow-x:auto;line-height:normal;font-family:Menlo,'DejaVu Sans Mono',consolas,'Courier New',monospace\"><span style=\"color: #7fbfbf; text-decoration-color: #7fbfbf\">           </span><span style=\"color: #000080; text-decoration-color: #000080\">INFO    </span> parsing file <span style=\"color: #008000; text-decoration-color: #008000\">'resources/jsp_instances/standard/abz8.txt'</span>                                       \n",
       "</pre>\n"
      ],
      "text/plain": [
       "\u001b[2;36m          \u001b[0m\u001b[2;36m \u001b[0m\u001b[34mINFO    \u001b[0m parsing file \u001b[32m'resources/jsp_instances/standard/abz8.txt'\u001b[0m                                       \n"
      ]
     },
     "metadata": {},
     "output_type": "display_data"
    },
    {
     "data": {
      "text/html": [
       "<pre style=\"white-space:pre;overflow-x:auto;line-height:normal;font-family:Menlo,'DejaVu Sans Mono',consolas,'Courier New',monospace\"><span style=\"color: #7fbfbf; text-decoration-color: #7fbfbf\">           </span><span style=\"color: #000080; text-decoration-color: #000080\">INFO    </span> instance appears to contain <span style=\"color: #008080; text-decoration-color: #008080; font-weight: bold\">20</span> jobs, <span style=\"color: #008080; text-decoration-color: #008080; font-weight: bold\">15</span> machines                                               \n",
       "</pre>\n"
      ],
      "text/plain": [
       "\u001b[2;36m          \u001b[0m\u001b[2;36m \u001b[0m\u001b[34mINFO    \u001b[0m instance appears to contain \u001b[1;36m20\u001b[0m jobs, \u001b[1;36m15\u001b[0m machines                                               \n"
      ]
     },
     "metadata": {},
     "output_type": "display_data"
    },
    {
     "data": {
      "text/html": [
       "<pre style=\"white-space:pre;overflow-x:auto;line-height:normal;font-family:Menlo,'DejaVu Sans Mono',consolas,'Courier New',monospace\"><span style=\"color: #7fbfbf; text-decoration-color: #7fbfbf\">           </span><span style=\"color: #000080; text-decoration-color: #000080\">INFO    </span> parsing file <span style=\"color: #008000; text-decoration-color: #008000\">'resources/jsp_instances/standard/abz8.txt'</span>                                       \n",
       "</pre>\n"
      ],
      "text/plain": [
       "\u001b[2;36m          \u001b[0m\u001b[2;36m \u001b[0m\u001b[34mINFO    \u001b[0m parsing file \u001b[32m'resources/jsp_instances/standard/abz8.txt'\u001b[0m                                       \n"
      ]
     },
     "metadata": {},
     "output_type": "display_data"
    },
    {
     "data": {
      "text/html": [
       "<pre style=\"white-space:pre;overflow-x:auto;line-height:normal;font-family:Menlo,'DejaVu Sans Mono',consolas,'Courier New',monospace\"><span style=\"color: #7fbfbf; text-decoration-color: #7fbfbf\">           </span><span style=\"color: #000080; text-decoration-color: #000080\">INFO    </span> instance appears to contain <span style=\"color: #008080; text-decoration-color: #008080; font-weight: bold\">20</span> jobs, <span style=\"color: #008080; text-decoration-color: #008080; font-weight: bold\">15</span> machines                                               \n",
       "</pre>\n"
      ],
      "text/plain": [
       "\u001b[2;36m          \u001b[0m\u001b[2;36m \u001b[0m\u001b[34mINFO    \u001b[0m instance appears to contain \u001b[1;36m20\u001b[0m jobs, \u001b[1;36m15\u001b[0m machines                                               \n"
      ]
     },
     "metadata": {},
     "output_type": "display_data"
    },
    {
     "data": {
      "text/html": [
       "<pre style=\"white-space:pre;overflow-x:auto;line-height:normal;font-family:Menlo,'DejaVu Sans Mono',consolas,'Courier New',monospace\"><span style=\"color: #7fbfbf; text-decoration-color: #7fbfbf\">[18:23:18] </span><span style=\"color: #000080; text-decoration-color: #000080\">INFO    </span> parsing file <span style=\"color: #008000; text-decoration-color: #008000\">'resources/jsp_instances/standard/abz8.txt'</span>                                       \n",
       "</pre>\n"
      ],
      "text/plain": [
       "\u001b[2;36m[18:23:18]\u001b[0m\u001b[2;36m \u001b[0m\u001b[34mINFO    \u001b[0m parsing file \u001b[32m'resources/jsp_instances/standard/abz8.txt'\u001b[0m                                       \n"
      ]
     },
     "metadata": {},
     "output_type": "display_data"
    },
    {
     "data": {
      "text/html": [
       "<pre style=\"white-space:pre;overflow-x:auto;line-height:normal;font-family:Menlo,'DejaVu Sans Mono',consolas,'Courier New',monospace\"><span style=\"color: #7fbfbf; text-decoration-color: #7fbfbf\">           </span><span style=\"color: #000080; text-decoration-color: #000080\">INFO    </span> instance appears to contain <span style=\"color: #008080; text-decoration-color: #008080; font-weight: bold\">20</span> jobs, <span style=\"color: #008080; text-decoration-color: #008080; font-weight: bold\">15</span> machines                                               \n",
       "</pre>\n"
      ],
      "text/plain": [
       "\u001b[2;36m          \u001b[0m\u001b[2;36m \u001b[0m\u001b[34mINFO    \u001b[0m instance appears to contain \u001b[1;36m20\u001b[0m jobs, \u001b[1;36m15\u001b[0m machines                                               \n"
      ]
     },
     "metadata": {},
     "output_type": "display_data"
    },
    {
     "data": {
      "text/html": [
       "<pre style=\"white-space:pre;overflow-x:auto;line-height:normal;font-family:Menlo,'DejaVu Sans Mono',consolas,'Courier New',monospace\"><span style=\"color: #7fbfbf; text-decoration-color: #7fbfbf\">           </span><span style=\"color: #000080; text-decoration-color: #000080\">INFO    </span> parsing file <span style=\"color: #008000; text-decoration-color: #008000\">'resources/jsp_instances/standard/abz8.txt'</span>                                       \n",
       "</pre>\n"
      ],
      "text/plain": [
       "\u001b[2;36m          \u001b[0m\u001b[2;36m \u001b[0m\u001b[34mINFO    \u001b[0m parsing file \u001b[32m'resources/jsp_instances/standard/abz8.txt'\u001b[0m                                       \n"
      ]
     },
     "metadata": {},
     "output_type": "display_data"
    },
    {
     "data": {
      "text/html": [
       "<pre style=\"white-space:pre;overflow-x:auto;line-height:normal;font-family:Menlo,'DejaVu Sans Mono',consolas,'Courier New',monospace\"><span style=\"color: #7fbfbf; text-decoration-color: #7fbfbf\">           </span><span style=\"color: #000080; text-decoration-color: #000080\">INFO    </span> instance appears to contain <span style=\"color: #008080; text-decoration-color: #008080; font-weight: bold\">20</span> jobs, <span style=\"color: #008080; text-decoration-color: #008080; font-weight: bold\">15</span> machines                                               \n",
       "</pre>\n"
      ],
      "text/plain": [
       "\u001b[2;36m          \u001b[0m\u001b[2;36m \u001b[0m\u001b[34mINFO    \u001b[0m instance appears to contain \u001b[1;36m20\u001b[0m jobs, \u001b[1;36m15\u001b[0m machines                                               \n"
      ]
     },
     "metadata": {},
     "output_type": "display_data"
    },
    {
     "data": {
      "text/html": [
       "<pre style=\"white-space:pre;overflow-x:auto;line-height:normal;font-family:Menlo,'DejaVu Sans Mono',consolas,'Courier New',monospace\"><span style=\"color: #7fbfbf; text-decoration-color: #7fbfbf\">           </span><span style=\"color: #000080; text-decoration-color: #000080\">INFO    </span> parsing file <span style=\"color: #008000; text-decoration-color: #008000\">'resources/jsp_instances/standard/abz8.txt'</span>                                       \n",
       "</pre>\n"
      ],
      "text/plain": [
       "\u001b[2;36m          \u001b[0m\u001b[2;36m \u001b[0m\u001b[34mINFO    \u001b[0m parsing file \u001b[32m'resources/jsp_instances/standard/abz8.txt'\u001b[0m                                       \n"
      ]
     },
     "metadata": {},
     "output_type": "display_data"
    },
    {
     "data": {
      "text/html": [
       "<pre style=\"white-space:pre;overflow-x:auto;line-height:normal;font-family:Menlo,'DejaVu Sans Mono',consolas,'Courier New',monospace\"><span style=\"color: #7fbfbf; text-decoration-color: #7fbfbf\">           </span><span style=\"color: #000080; text-decoration-color: #000080\">INFO    </span> instance appears to contain <span style=\"color: #008080; text-decoration-color: #008080; font-weight: bold\">20</span> jobs, <span style=\"color: #008080; text-decoration-color: #008080; font-weight: bold\">15</span> machines                                               \n",
       "</pre>\n"
      ],
      "text/plain": [
       "\u001b[2;36m          \u001b[0m\u001b[2;36m \u001b[0m\u001b[34mINFO    \u001b[0m instance appears to contain \u001b[1;36m20\u001b[0m jobs, \u001b[1;36m15\u001b[0m machines                                               \n"
      ]
     },
     "metadata": {},
     "output_type": "display_data"
    },
    {
     "data": {
      "text/html": [
       "<pre style=\"white-space:pre;overflow-x:auto;line-height:normal;font-family:Menlo,'DejaVu Sans Mono',consolas,'Courier New',monospace\"><span style=\"color: #7fbfbf; text-decoration-color: #7fbfbf\">[18:23:19] </span><span style=\"color: #000080; text-decoration-color: #000080\">INFO    </span> parsing file <span style=\"color: #008000; text-decoration-color: #008000\">'resources/jsp_instances/standard/abz8.txt'</span>                                       \n",
       "</pre>\n"
      ],
      "text/plain": [
       "\u001b[2;36m[18:23:19]\u001b[0m\u001b[2;36m \u001b[0m\u001b[34mINFO    \u001b[0m parsing file \u001b[32m'resources/jsp_instances/standard/abz8.txt'\u001b[0m                                       \n"
      ]
     },
     "metadata": {},
     "output_type": "display_data"
    },
    {
     "data": {
      "text/html": [
       "<pre style=\"white-space:pre;overflow-x:auto;line-height:normal;font-family:Menlo,'DejaVu Sans Mono',consolas,'Courier New',monospace\"><span style=\"color: #7fbfbf; text-decoration-color: #7fbfbf\">           </span><span style=\"color: #000080; text-decoration-color: #000080\">INFO    </span> instance appears to contain <span style=\"color: #008080; text-decoration-color: #008080; font-weight: bold\">20</span> jobs, <span style=\"color: #008080; text-decoration-color: #008080; font-weight: bold\">15</span> machines                                               \n",
       "</pre>\n"
      ],
      "text/plain": [
       "\u001b[2;36m          \u001b[0m\u001b[2;36m \u001b[0m\u001b[34mINFO    \u001b[0m instance appears to contain \u001b[1;36m20\u001b[0m jobs, \u001b[1;36m15\u001b[0m machines                                               \n"
      ]
     },
     "metadata": {},
     "output_type": "display_data"
    },
    {
     "data": {
      "text/html": [
       "<pre style=\"white-space:pre;overflow-x:auto;line-height:normal;font-family:Menlo,'DejaVu Sans Mono',consolas,'Courier New',monospace\"><span style=\"color: #7fbfbf; text-decoration-color: #7fbfbf\">           </span><span style=\"color: #000080; text-decoration-color: #000080\">INFO    </span> parsing file <span style=\"color: #008000; text-decoration-color: #008000\">'resources/jsp_instances/standard/abz8.txt'</span>                                       \n",
       "</pre>\n"
      ],
      "text/plain": [
       "\u001b[2;36m          \u001b[0m\u001b[2;36m \u001b[0m\u001b[34mINFO    \u001b[0m parsing file \u001b[32m'resources/jsp_instances/standard/abz8.txt'\u001b[0m                                       \n"
      ]
     },
     "metadata": {},
     "output_type": "display_data"
    },
    {
     "data": {
      "text/html": [
       "<pre style=\"white-space:pre;overflow-x:auto;line-height:normal;font-family:Menlo,'DejaVu Sans Mono',consolas,'Courier New',monospace\"><span style=\"color: #7fbfbf; text-decoration-color: #7fbfbf\">           </span><span style=\"color: #000080; text-decoration-color: #000080\">INFO    </span> instance appears to contain <span style=\"color: #008080; text-decoration-color: #008080; font-weight: bold\">20</span> jobs, <span style=\"color: #008080; text-decoration-color: #008080; font-weight: bold\">15</span> machines                                               \n",
       "</pre>\n"
      ],
      "text/plain": [
       "\u001b[2;36m          \u001b[0m\u001b[2;36m \u001b[0m\u001b[34mINFO    \u001b[0m instance appears to contain \u001b[1;36m20\u001b[0m jobs, \u001b[1;36m15\u001b[0m machines                                               \n"
      ]
     },
     "metadata": {},
     "output_type": "display_data"
    },
    {
     "data": {
      "text/html": [
       "<pre style=\"white-space:pre;overflow-x:auto;line-height:normal;font-family:Menlo,'DejaVu Sans Mono',consolas,'Courier New',monospace\"><span style=\"color: #7fbfbf; text-decoration-color: #7fbfbf\">           </span><span style=\"color: #000080; text-decoration-color: #000080\">INFO    </span> parsing file <span style=\"color: #008000; text-decoration-color: #008000\">'resources/jsp_instances/standard/abz8.txt'</span>                                       \n",
       "</pre>\n"
      ],
      "text/plain": [
       "\u001b[2;36m          \u001b[0m\u001b[2;36m \u001b[0m\u001b[34mINFO    \u001b[0m parsing file \u001b[32m'resources/jsp_instances/standard/abz8.txt'\u001b[0m                                       \n"
      ]
     },
     "metadata": {},
     "output_type": "display_data"
    },
    {
     "data": {
      "text/html": [
       "<pre style=\"white-space:pre;overflow-x:auto;line-height:normal;font-family:Menlo,'DejaVu Sans Mono',consolas,'Courier New',monospace\"><span style=\"color: #7fbfbf; text-decoration-color: #7fbfbf\">           </span><span style=\"color: #000080; text-decoration-color: #000080\">INFO    </span> instance appears to contain <span style=\"color: #008080; text-decoration-color: #008080; font-weight: bold\">20</span> jobs, <span style=\"color: #008080; text-decoration-color: #008080; font-weight: bold\">15</span> machines                                               \n",
       "</pre>\n"
      ],
      "text/plain": [
       "\u001b[2;36m          \u001b[0m\u001b[2;36m \u001b[0m\u001b[34mINFO    \u001b[0m instance appears to contain \u001b[1;36m20\u001b[0m jobs, \u001b[1;36m15\u001b[0m machines                                               \n"
      ]
     },
     "metadata": {},
     "output_type": "display_data"
    },
    {
     "data": {
      "text/html": [
       "<pre style=\"white-space:pre;overflow-x:auto;line-height:normal;font-family:Menlo,'DejaVu Sans Mono',consolas,'Courier New',monospace\"><span style=\"color: #7fbfbf; text-decoration-color: #7fbfbf\">[18:23:20] </span><span style=\"color: #000080; text-decoration-color: #000080\">INFO    </span> parsing file <span style=\"color: #008000; text-decoration-color: #008000\">'resources/jsp_instances/standard/abz8.txt'</span>                                       \n",
       "</pre>\n"
      ],
      "text/plain": [
       "\u001b[2;36m[18:23:20]\u001b[0m\u001b[2;36m \u001b[0m\u001b[34mINFO    \u001b[0m parsing file \u001b[32m'resources/jsp_instances/standard/abz8.txt'\u001b[0m                                       \n"
      ]
     },
     "metadata": {},
     "output_type": "display_data"
    },
    {
     "data": {
      "text/html": [
       "<pre style=\"white-space:pre;overflow-x:auto;line-height:normal;font-family:Menlo,'DejaVu Sans Mono',consolas,'Courier New',monospace\"><span style=\"color: #7fbfbf; text-decoration-color: #7fbfbf\">           </span><span style=\"color: #000080; text-decoration-color: #000080\">INFO    </span> instance appears to contain <span style=\"color: #008080; text-decoration-color: #008080; font-weight: bold\">20</span> jobs, <span style=\"color: #008080; text-decoration-color: #008080; font-weight: bold\">15</span> machines                                               \n",
       "</pre>\n"
      ],
      "text/plain": [
       "\u001b[2;36m          \u001b[0m\u001b[2;36m \u001b[0m\u001b[34mINFO    \u001b[0m instance appears to contain \u001b[1;36m20\u001b[0m jobs, \u001b[1;36m15\u001b[0m machines                                               \n"
      ]
     },
     "metadata": {},
     "output_type": "display_data"
    },
    {
     "data": {
      "text/html": [
       "<pre style=\"white-space:pre;overflow-x:auto;line-height:normal;font-family:Menlo,'DejaVu Sans Mono',consolas,'Courier New',monospace\"><span style=\"color: #7fbfbf; text-decoration-color: #7fbfbf\">           </span><span style=\"color: #000080; text-decoration-color: #000080\">INFO    </span> parsing file <span style=\"color: #008000; text-decoration-color: #008000\">'resources/jsp_instances/standard/abz8.txt'</span>                                       \n",
       "</pre>\n"
      ],
      "text/plain": [
       "\u001b[2;36m          \u001b[0m\u001b[2;36m \u001b[0m\u001b[34mINFO    \u001b[0m parsing file \u001b[32m'resources/jsp_instances/standard/abz8.txt'\u001b[0m                                       \n"
      ]
     },
     "metadata": {},
     "output_type": "display_data"
    },
    {
     "data": {
      "text/html": [
       "<pre style=\"white-space:pre;overflow-x:auto;line-height:normal;font-family:Menlo,'DejaVu Sans Mono',consolas,'Courier New',monospace\"><span style=\"color: #7fbfbf; text-decoration-color: #7fbfbf\">           </span><span style=\"color: #000080; text-decoration-color: #000080\">INFO    </span> instance appears to contain <span style=\"color: #008080; text-decoration-color: #008080; font-weight: bold\">20</span> jobs, <span style=\"color: #008080; text-decoration-color: #008080; font-weight: bold\">15</span> machines                                               \n",
       "</pre>\n"
      ],
      "text/plain": [
       "\u001b[2;36m          \u001b[0m\u001b[2;36m \u001b[0m\u001b[34mINFO    \u001b[0m instance appears to contain \u001b[1;36m20\u001b[0m jobs, \u001b[1;36m15\u001b[0m machines                                               \n"
      ]
     },
     "metadata": {},
     "output_type": "display_data"
    },
    {
     "data": {
      "text/html": [
       "<pre style=\"white-space:pre;overflow-x:auto;line-height:normal;font-family:Menlo,'DejaVu Sans Mono',consolas,'Courier New',monospace\"><span style=\"color: #7fbfbf; text-decoration-color: #7fbfbf\">           </span><span style=\"color: #000080; text-decoration-color: #000080\">INFO    </span> parsing file <span style=\"color: #008000; text-decoration-color: #008000\">'resources/jsp_instances/standard/abz8.txt'</span>                                       \n",
       "</pre>\n"
      ],
      "text/plain": [
       "\u001b[2;36m          \u001b[0m\u001b[2;36m \u001b[0m\u001b[34mINFO    \u001b[0m parsing file \u001b[32m'resources/jsp_instances/standard/abz8.txt'\u001b[0m                                       \n"
      ]
     },
     "metadata": {},
     "output_type": "display_data"
    },
    {
     "data": {
      "text/html": [
       "<pre style=\"white-space:pre;overflow-x:auto;line-height:normal;font-family:Menlo,'DejaVu Sans Mono',consolas,'Courier New',monospace\"><span style=\"color: #7fbfbf; text-decoration-color: #7fbfbf\">           </span><span style=\"color: #000080; text-decoration-color: #000080\">INFO    </span> instance appears to contain <span style=\"color: #008080; text-decoration-color: #008080; font-weight: bold\">20</span> jobs, <span style=\"color: #008080; text-decoration-color: #008080; font-weight: bold\">15</span> machines                                               \n",
       "</pre>\n"
      ],
      "text/plain": [
       "\u001b[2;36m          \u001b[0m\u001b[2;36m \u001b[0m\u001b[34mINFO    \u001b[0m instance appears to contain \u001b[1;36m20\u001b[0m jobs, \u001b[1;36m15\u001b[0m machines                                               \n"
      ]
     },
     "metadata": {},
     "output_type": "display_data"
    },
    {
     "data": {
      "text/html": [
       "<pre style=\"white-space:pre;overflow-x:auto;line-height:normal;font-family:Menlo,'DejaVu Sans Mono',consolas,'Courier New',monospace\"><span style=\"color: #7fbfbf; text-decoration-color: #7fbfbf\">[18:23:21] </span><span style=\"color: #000080; text-decoration-color: #000080\">INFO    </span> parsing file <span style=\"color: #008000; text-decoration-color: #008000\">'resources/jsp_instances/standard/abz8.txt'</span>                                       \n",
       "</pre>\n"
      ],
      "text/plain": [
       "\u001b[2;36m[18:23:21]\u001b[0m\u001b[2;36m \u001b[0m\u001b[34mINFO    \u001b[0m parsing file \u001b[32m'resources/jsp_instances/standard/abz8.txt'\u001b[0m                                       \n"
      ]
     },
     "metadata": {},
     "output_type": "display_data"
    },
    {
     "data": {
      "text/html": [
       "<pre style=\"white-space:pre;overflow-x:auto;line-height:normal;font-family:Menlo,'DejaVu Sans Mono',consolas,'Courier New',monospace\"><span style=\"color: #7fbfbf; text-decoration-color: #7fbfbf\">           </span><span style=\"color: #000080; text-decoration-color: #000080\">INFO    </span> instance appears to contain <span style=\"color: #008080; text-decoration-color: #008080; font-weight: bold\">20</span> jobs, <span style=\"color: #008080; text-decoration-color: #008080; font-weight: bold\">15</span> machines                                               \n",
       "</pre>\n"
      ],
      "text/plain": [
       "\u001b[2;36m          \u001b[0m\u001b[2;36m \u001b[0m\u001b[34mINFO    \u001b[0m instance appears to contain \u001b[1;36m20\u001b[0m jobs, \u001b[1;36m15\u001b[0m machines                                               \n"
      ]
     },
     "metadata": {},
     "output_type": "display_data"
    },
    {
     "data": {
      "text/html": [
       "<pre style=\"white-space:pre;overflow-x:auto;line-height:normal;font-family:Menlo,'DejaVu Sans Mono',consolas,'Courier New',monospace\"><span style=\"color: #7fbfbf; text-decoration-color: #7fbfbf\">           </span><span style=\"color: #000080; text-decoration-color: #000080\">INFO    </span> parsing file <span style=\"color: #008000; text-decoration-color: #008000\">'resources/jsp_instances/standard/abz8.txt'</span>                                       \n",
       "</pre>\n"
      ],
      "text/plain": [
       "\u001b[2;36m          \u001b[0m\u001b[2;36m \u001b[0m\u001b[34mINFO    \u001b[0m parsing file \u001b[32m'resources/jsp_instances/standard/abz8.txt'\u001b[0m                                       \n"
      ]
     },
     "metadata": {},
     "output_type": "display_data"
    },
    {
     "data": {
      "text/html": [
       "<pre style=\"white-space:pre;overflow-x:auto;line-height:normal;font-family:Menlo,'DejaVu Sans Mono',consolas,'Courier New',monospace\"><span style=\"color: #7fbfbf; text-decoration-color: #7fbfbf\">           </span><span style=\"color: #000080; text-decoration-color: #000080\">INFO    </span> instance appears to contain <span style=\"color: #008080; text-decoration-color: #008080; font-weight: bold\">20</span> jobs, <span style=\"color: #008080; text-decoration-color: #008080; font-weight: bold\">15</span> machines                                               \n",
       "</pre>\n"
      ],
      "text/plain": [
       "\u001b[2;36m          \u001b[0m\u001b[2;36m \u001b[0m\u001b[34mINFO    \u001b[0m instance appears to contain \u001b[1;36m20\u001b[0m jobs, \u001b[1;36m15\u001b[0m machines                                               \n"
      ]
     },
     "metadata": {},
     "output_type": "display_data"
    },
    {
     "data": {
      "text/html": [
       "<pre style=\"white-space:pre;overflow-x:auto;line-height:normal;font-family:Menlo,'DejaVu Sans Mono',consolas,'Courier New',monospace\"><span style=\"color: #7fbfbf; text-decoration-color: #7fbfbf\">           </span><span style=\"color: #000080; text-decoration-color: #000080\">INFO    </span> parsing file <span style=\"color: #008000; text-decoration-color: #008000\">'resources/jsp_instances/standard/abz8.txt'</span>                                       \n",
       "</pre>\n"
      ],
      "text/plain": [
       "\u001b[2;36m          \u001b[0m\u001b[2;36m \u001b[0m\u001b[34mINFO    \u001b[0m parsing file \u001b[32m'resources/jsp_instances/standard/abz8.txt'\u001b[0m                                       \n"
      ]
     },
     "metadata": {},
     "output_type": "display_data"
    },
    {
     "data": {
      "text/html": [
       "<pre style=\"white-space:pre;overflow-x:auto;line-height:normal;font-family:Menlo,'DejaVu Sans Mono',consolas,'Courier New',monospace\"><span style=\"color: #7fbfbf; text-decoration-color: #7fbfbf\">           </span><span style=\"color: #000080; text-decoration-color: #000080\">INFO    </span> instance appears to contain <span style=\"color: #008080; text-decoration-color: #008080; font-weight: bold\">20</span> jobs, <span style=\"color: #008080; text-decoration-color: #008080; font-weight: bold\">15</span> machines                                               \n",
       "</pre>\n"
      ],
      "text/plain": [
       "\u001b[2;36m          \u001b[0m\u001b[2;36m \u001b[0m\u001b[34mINFO    \u001b[0m instance appears to contain \u001b[1;36m20\u001b[0m jobs, \u001b[1;36m15\u001b[0m machines                                               \n"
      ]
     },
     "metadata": {},
     "output_type": "display_data"
    },
    {
     "data": {
      "text/html": [
       "<pre style=\"white-space:pre;overflow-x:auto;line-height:normal;font-family:Menlo,'DejaVu Sans Mono',consolas,'Courier New',monospace\"><span style=\"color: #7fbfbf; text-decoration-color: #7fbfbf\">[18:23:22] </span><span style=\"color: #000080; text-decoration-color: #000080\">INFO    </span> parsing file <span style=\"color: #008000; text-decoration-color: #008000\">'resources/jsp_instances/standard/abz8.txt'</span>                                       \n",
       "</pre>\n"
      ],
      "text/plain": [
       "\u001b[2;36m[18:23:22]\u001b[0m\u001b[2;36m \u001b[0m\u001b[34mINFO    \u001b[0m parsing file \u001b[32m'resources/jsp_instances/standard/abz8.txt'\u001b[0m                                       \n"
      ]
     },
     "metadata": {},
     "output_type": "display_data"
    },
    {
     "data": {
      "text/html": [
       "<pre style=\"white-space:pre;overflow-x:auto;line-height:normal;font-family:Menlo,'DejaVu Sans Mono',consolas,'Courier New',monospace\"><span style=\"color: #7fbfbf; text-decoration-color: #7fbfbf\">           </span><span style=\"color: #000080; text-decoration-color: #000080\">INFO    </span> instance appears to contain <span style=\"color: #008080; text-decoration-color: #008080; font-weight: bold\">20</span> jobs, <span style=\"color: #008080; text-decoration-color: #008080; font-weight: bold\">15</span> machines                                               \n",
       "</pre>\n"
      ],
      "text/plain": [
       "\u001b[2;36m          \u001b[0m\u001b[2;36m \u001b[0m\u001b[34mINFO    \u001b[0m instance appears to contain \u001b[1;36m20\u001b[0m jobs, \u001b[1;36m15\u001b[0m machines                                               \n"
      ]
     },
     "metadata": {},
     "output_type": "display_data"
    },
    {
     "data": {
      "text/html": [
       "<pre style=\"white-space:pre;overflow-x:auto;line-height:normal;font-family:Menlo,'DejaVu Sans Mono',consolas,'Courier New',monospace\"><span style=\"color: #7fbfbf; text-decoration-color: #7fbfbf\">           </span><span style=\"color: #000080; text-decoration-color: #000080\">INFO    </span> parsing file <span style=\"color: #008000; text-decoration-color: #008000\">'resources/jsp_instances/standard/abz8.txt'</span>                                       \n",
       "</pre>\n"
      ],
      "text/plain": [
       "\u001b[2;36m          \u001b[0m\u001b[2;36m \u001b[0m\u001b[34mINFO    \u001b[0m parsing file \u001b[32m'resources/jsp_instances/standard/abz8.txt'\u001b[0m                                       \n"
      ]
     },
     "metadata": {},
     "output_type": "display_data"
    },
    {
     "data": {
      "text/html": [
       "<pre style=\"white-space:pre;overflow-x:auto;line-height:normal;font-family:Menlo,'DejaVu Sans Mono',consolas,'Courier New',monospace\"><span style=\"color: #7fbfbf; text-decoration-color: #7fbfbf\">           </span><span style=\"color: #000080; text-decoration-color: #000080\">INFO    </span> instance appears to contain <span style=\"color: #008080; text-decoration-color: #008080; font-weight: bold\">20</span> jobs, <span style=\"color: #008080; text-decoration-color: #008080; font-weight: bold\">15</span> machines                                               \n",
       "</pre>\n"
      ],
      "text/plain": [
       "\u001b[2;36m          \u001b[0m\u001b[2;36m \u001b[0m\u001b[34mINFO    \u001b[0m instance appears to contain \u001b[1;36m20\u001b[0m jobs, \u001b[1;36m15\u001b[0m machines                                               \n"
      ]
     },
     "metadata": {},
     "output_type": "display_data"
    },
    {
     "data": {
      "text/html": [
       "<pre style=\"white-space:pre;overflow-x:auto;line-height:normal;font-family:Menlo,'DejaVu Sans Mono',consolas,'Courier New',monospace\"><span style=\"color: #7fbfbf; text-decoration-color: #7fbfbf\">           </span><span style=\"color: #000080; text-decoration-color: #000080\">INFO    </span> parsing file <span style=\"color: #008000; text-decoration-color: #008000\">'resources/jsp_instances/standard/abz8.txt'</span>                                       \n",
       "</pre>\n"
      ],
      "text/plain": [
       "\u001b[2;36m          \u001b[0m\u001b[2;36m \u001b[0m\u001b[34mINFO    \u001b[0m parsing file \u001b[32m'resources/jsp_instances/standard/abz8.txt'\u001b[0m                                       \n"
      ]
     },
     "metadata": {},
     "output_type": "display_data"
    },
    {
     "data": {
      "text/html": [
       "<pre style=\"white-space:pre;overflow-x:auto;line-height:normal;font-family:Menlo,'DejaVu Sans Mono',consolas,'Courier New',monospace\"><span style=\"color: #7fbfbf; text-decoration-color: #7fbfbf\">           </span><span style=\"color: #000080; text-decoration-color: #000080\">INFO    </span> instance appears to contain <span style=\"color: #008080; text-decoration-color: #008080; font-weight: bold\">20</span> jobs, <span style=\"color: #008080; text-decoration-color: #008080; font-weight: bold\">15</span> machines                                               \n",
       "</pre>\n"
      ],
      "text/plain": [
       "\u001b[2;36m          \u001b[0m\u001b[2;36m \u001b[0m\u001b[34mINFO    \u001b[0m instance appears to contain \u001b[1;36m20\u001b[0m jobs, \u001b[1;36m15\u001b[0m machines                                               \n"
      ]
     },
     "metadata": {},
     "output_type": "display_data"
    },
    {
     "data": {
      "text/html": [
       "<pre style=\"white-space:pre;overflow-x:auto;line-height:normal;font-family:Menlo,'DejaVu Sans Mono',consolas,'Courier New',monospace\"><span style=\"color: #7fbfbf; text-decoration-color: #7fbfbf\">[18:23:23] </span><span style=\"color: #000080; text-decoration-color: #000080\">INFO    </span> parsing file <span style=\"color: #008000; text-decoration-color: #008000\">'resources/jsp_instances/standard/abz8.txt'</span>                                       \n",
       "</pre>\n"
      ],
      "text/plain": [
       "\u001b[2;36m[18:23:23]\u001b[0m\u001b[2;36m \u001b[0m\u001b[34mINFO    \u001b[0m parsing file \u001b[32m'resources/jsp_instances/standard/abz8.txt'\u001b[0m                                       \n"
      ]
     },
     "metadata": {},
     "output_type": "display_data"
    },
    {
     "data": {
      "text/html": [
       "<pre style=\"white-space:pre;overflow-x:auto;line-height:normal;font-family:Menlo,'DejaVu Sans Mono',consolas,'Courier New',monospace\"><span style=\"color: #7fbfbf; text-decoration-color: #7fbfbf\">           </span><span style=\"color: #000080; text-decoration-color: #000080\">INFO    </span> instance appears to contain <span style=\"color: #008080; text-decoration-color: #008080; font-weight: bold\">20</span> jobs, <span style=\"color: #008080; text-decoration-color: #008080; font-weight: bold\">15</span> machines                                               \n",
       "</pre>\n"
      ],
      "text/plain": [
       "\u001b[2;36m          \u001b[0m\u001b[2;36m \u001b[0m\u001b[34mINFO    \u001b[0m instance appears to contain \u001b[1;36m20\u001b[0m jobs, \u001b[1;36m15\u001b[0m machines                                               \n"
      ]
     },
     "metadata": {},
     "output_type": "display_data"
    },
    {
     "data": {
      "text/html": [
       "<pre style=\"white-space:pre;overflow-x:auto;line-height:normal;font-family:Menlo,'DejaVu Sans Mono',consolas,'Courier New',monospace\"><span style=\"color: #7fbfbf; text-decoration-color: #7fbfbf\">           </span><span style=\"color: #000080; text-decoration-color: #000080\">INFO    </span> parsing file <span style=\"color: #008000; text-decoration-color: #008000\">'resources/jsp_instances/standard/abz8.txt'</span>                                       \n",
       "</pre>\n"
      ],
      "text/plain": [
       "\u001b[2;36m          \u001b[0m\u001b[2;36m \u001b[0m\u001b[34mINFO    \u001b[0m parsing file \u001b[32m'resources/jsp_instances/standard/abz8.txt'\u001b[0m                                       \n"
      ]
     },
     "metadata": {},
     "output_type": "display_data"
    },
    {
     "data": {
      "text/html": [
       "<pre style=\"white-space:pre;overflow-x:auto;line-height:normal;font-family:Menlo,'DejaVu Sans Mono',consolas,'Courier New',monospace\"><span style=\"color: #7fbfbf; text-decoration-color: #7fbfbf\">           </span><span style=\"color: #000080; text-decoration-color: #000080\">INFO    </span> instance appears to contain <span style=\"color: #008080; text-decoration-color: #008080; font-weight: bold\">20</span> jobs, <span style=\"color: #008080; text-decoration-color: #008080; font-weight: bold\">15</span> machines                                               \n",
       "</pre>\n"
      ],
      "text/plain": [
       "\u001b[2;36m          \u001b[0m\u001b[2;36m \u001b[0m\u001b[34mINFO    \u001b[0m instance appears to contain \u001b[1;36m20\u001b[0m jobs, \u001b[1;36m15\u001b[0m machines                                               \n"
      ]
     },
     "metadata": {},
     "output_type": "display_data"
    },
    {
     "data": {
      "text/html": [
       "<pre style=\"white-space:pre;overflow-x:auto;line-height:normal;font-family:Menlo,'DejaVu Sans Mono',consolas,'Courier New',monospace\"><span style=\"color: #7fbfbf; text-decoration-color: #7fbfbf\">           </span><span style=\"color: #000080; text-decoration-color: #000080\">INFO    </span> parsing file <span style=\"color: #008000; text-decoration-color: #008000\">'resources/jsp_instances/standard/abz8.txt'</span>                                       \n",
       "</pre>\n"
      ],
      "text/plain": [
       "\u001b[2;36m          \u001b[0m\u001b[2;36m \u001b[0m\u001b[34mINFO    \u001b[0m parsing file \u001b[32m'resources/jsp_instances/standard/abz8.txt'\u001b[0m                                       \n"
      ]
     },
     "metadata": {},
     "output_type": "display_data"
    },
    {
     "data": {
      "text/html": [
       "<pre style=\"white-space:pre;overflow-x:auto;line-height:normal;font-family:Menlo,'DejaVu Sans Mono',consolas,'Courier New',monospace\"><span style=\"color: #7fbfbf; text-decoration-color: #7fbfbf\">           </span><span style=\"color: #000080; text-decoration-color: #000080\">INFO    </span> instance appears to contain <span style=\"color: #008080; text-decoration-color: #008080; font-weight: bold\">20</span> jobs, <span style=\"color: #008080; text-decoration-color: #008080; font-weight: bold\">15</span> machines                                               \n",
       "</pre>\n"
      ],
      "text/plain": [
       "\u001b[2;36m          \u001b[0m\u001b[2;36m \u001b[0m\u001b[34mINFO    \u001b[0m instance appears to contain \u001b[1;36m20\u001b[0m jobs, \u001b[1;36m15\u001b[0m machines                                               \n"
      ]
     },
     "metadata": {},
     "output_type": "display_data"
    },
    {
     "data": {
      "text/html": [
       "<pre style=\"white-space:pre;overflow-x:auto;line-height:normal;font-family:Menlo,'DejaVu Sans Mono',consolas,'Courier New',monospace\"><span style=\"color: #7fbfbf; text-decoration-color: #7fbfbf\">[18:23:24] </span><span style=\"color: #000080; text-decoration-color: #000080\">INFO    </span> parsing file <span style=\"color: #008000; text-decoration-color: #008000\">'resources/jsp_instances/standard/abz8.txt'</span>                                       \n",
       "</pre>\n"
      ],
      "text/plain": [
       "\u001b[2;36m[18:23:24]\u001b[0m\u001b[2;36m \u001b[0m\u001b[34mINFO    \u001b[0m parsing file \u001b[32m'resources/jsp_instances/standard/abz8.txt'\u001b[0m                                       \n"
      ]
     },
     "metadata": {},
     "output_type": "display_data"
    },
    {
     "data": {
      "text/html": [
       "<pre style=\"white-space:pre;overflow-x:auto;line-height:normal;font-family:Menlo,'DejaVu Sans Mono',consolas,'Courier New',monospace\"><span style=\"color: #7fbfbf; text-decoration-color: #7fbfbf\">           </span><span style=\"color: #000080; text-decoration-color: #000080\">INFO    </span> instance appears to contain <span style=\"color: #008080; text-decoration-color: #008080; font-weight: bold\">20</span> jobs, <span style=\"color: #008080; text-decoration-color: #008080; font-weight: bold\">15</span> machines                                               \n",
       "</pre>\n"
      ],
      "text/plain": [
       "\u001b[2;36m          \u001b[0m\u001b[2;36m \u001b[0m\u001b[34mINFO    \u001b[0m instance appears to contain \u001b[1;36m20\u001b[0m jobs, \u001b[1;36m15\u001b[0m machines                                               \n"
      ]
     },
     "metadata": {},
     "output_type": "display_data"
    },
    {
     "data": {
      "text/html": [
       "<pre style=\"white-space:pre;overflow-x:auto;line-height:normal;font-family:Menlo,'DejaVu Sans Mono',consolas,'Courier New',monospace\"><span style=\"color: #7fbfbf; text-decoration-color: #7fbfbf\">           </span><span style=\"color: #000080; text-decoration-color: #000080\">INFO    </span> parsing file <span style=\"color: #008000; text-decoration-color: #008000\">'resources/jsp_instances/standard/abz8.txt'</span>                                       \n",
       "</pre>\n"
      ],
      "text/plain": [
       "\u001b[2;36m          \u001b[0m\u001b[2;36m \u001b[0m\u001b[34mINFO    \u001b[0m parsing file \u001b[32m'resources/jsp_instances/standard/abz8.txt'\u001b[0m                                       \n"
      ]
     },
     "metadata": {},
     "output_type": "display_data"
    },
    {
     "data": {
      "text/html": [
       "<pre style=\"white-space:pre;overflow-x:auto;line-height:normal;font-family:Menlo,'DejaVu Sans Mono',consolas,'Courier New',monospace\"><span style=\"color: #7fbfbf; text-decoration-color: #7fbfbf\">           </span><span style=\"color: #000080; text-decoration-color: #000080\">INFO    </span> instance appears to contain <span style=\"color: #008080; text-decoration-color: #008080; font-weight: bold\">20</span> jobs, <span style=\"color: #008080; text-decoration-color: #008080; font-weight: bold\">15</span> machines                                               \n",
       "</pre>\n"
      ],
      "text/plain": [
       "\u001b[2;36m          \u001b[0m\u001b[2;36m \u001b[0m\u001b[34mINFO    \u001b[0m instance appears to contain \u001b[1;36m20\u001b[0m jobs, \u001b[1;36m15\u001b[0m machines                                               \n"
      ]
     },
     "metadata": {},
     "output_type": "display_data"
    },
    {
     "data": {
      "text/html": [
       "<pre style=\"white-space:pre;overflow-x:auto;line-height:normal;font-family:Menlo,'DejaVu Sans Mono',consolas,'Courier New',monospace\"><span style=\"color: #7fbfbf; text-decoration-color: #7fbfbf\">           </span><span style=\"color: #000080; text-decoration-color: #000080\">INFO    </span> parsing file <span style=\"color: #008000; text-decoration-color: #008000\">'resources/jsp_instances/standard/abz8.txt'</span>                                       \n",
       "</pre>\n"
      ],
      "text/plain": [
       "\u001b[2;36m          \u001b[0m\u001b[2;36m \u001b[0m\u001b[34mINFO    \u001b[0m parsing file \u001b[32m'resources/jsp_instances/standard/abz8.txt'\u001b[0m                                       \n"
      ]
     },
     "metadata": {},
     "output_type": "display_data"
    },
    {
     "data": {
      "text/html": [
       "<pre style=\"white-space:pre;overflow-x:auto;line-height:normal;font-family:Menlo,'DejaVu Sans Mono',consolas,'Courier New',monospace\"><span style=\"color: #7fbfbf; text-decoration-color: #7fbfbf\">           </span><span style=\"color: #000080; text-decoration-color: #000080\">INFO    </span> instance appears to contain <span style=\"color: #008080; text-decoration-color: #008080; font-weight: bold\">20</span> jobs, <span style=\"color: #008080; text-decoration-color: #008080; font-weight: bold\">15</span> machines                                               \n",
       "</pre>\n"
      ],
      "text/plain": [
       "\u001b[2;36m          \u001b[0m\u001b[2;36m \u001b[0m\u001b[34mINFO    \u001b[0m instance appears to contain \u001b[1;36m20\u001b[0m jobs, \u001b[1;36m15\u001b[0m machines                                               \n"
      ]
     },
     "metadata": {},
     "output_type": "display_data"
    },
    {
     "data": {
      "text/html": [
       "<pre style=\"white-space:pre;overflow-x:auto;line-height:normal;font-family:Menlo,'DejaVu Sans Mono',consolas,'Courier New',monospace\"><span style=\"color: #7fbfbf; text-decoration-color: #7fbfbf\">[18:23:25] </span><span style=\"color: #000080; text-decoration-color: #000080\">INFO    </span> parsing file <span style=\"color: #008000; text-decoration-color: #008000\">'resources/jsp_instances/standard/abz8.txt'</span>                                       \n",
       "</pre>\n"
      ],
      "text/plain": [
       "\u001b[2;36m[18:23:25]\u001b[0m\u001b[2;36m \u001b[0m\u001b[34mINFO    \u001b[0m parsing file \u001b[32m'resources/jsp_instances/standard/abz8.txt'\u001b[0m                                       \n"
      ]
     },
     "metadata": {},
     "output_type": "display_data"
    },
    {
     "data": {
      "text/html": [
       "<pre style=\"white-space:pre;overflow-x:auto;line-height:normal;font-family:Menlo,'DejaVu Sans Mono',consolas,'Courier New',monospace\"><span style=\"color: #7fbfbf; text-decoration-color: #7fbfbf\">           </span><span style=\"color: #000080; text-decoration-color: #000080\">INFO    </span> instance appears to contain <span style=\"color: #008080; text-decoration-color: #008080; font-weight: bold\">20</span> jobs, <span style=\"color: #008080; text-decoration-color: #008080; font-weight: bold\">15</span> machines                                               \n",
       "</pre>\n"
      ],
      "text/plain": [
       "\u001b[2;36m          \u001b[0m\u001b[2;36m \u001b[0m\u001b[34mINFO    \u001b[0m instance appears to contain \u001b[1;36m20\u001b[0m jobs, \u001b[1;36m15\u001b[0m machines                                               \n"
      ]
     },
     "metadata": {},
     "output_type": "display_data"
    },
    {
     "data": {
      "text/html": [
       "<pre style=\"white-space:pre;overflow-x:auto;line-height:normal;font-family:Menlo,'DejaVu Sans Mono',consolas,'Courier New',monospace\"><span style=\"color: #7fbfbf; text-decoration-color: #7fbfbf\">           </span><span style=\"color: #000080; text-decoration-color: #000080\">INFO    </span> parsing file <span style=\"color: #008000; text-decoration-color: #008000\">'resources/jsp_instances/standard/abz8.txt'</span>                                       \n",
       "</pre>\n"
      ],
      "text/plain": [
       "\u001b[2;36m          \u001b[0m\u001b[2;36m \u001b[0m\u001b[34mINFO    \u001b[0m parsing file \u001b[32m'resources/jsp_instances/standard/abz8.txt'\u001b[0m                                       \n"
      ]
     },
     "metadata": {},
     "output_type": "display_data"
    },
    {
     "data": {
      "text/html": [
       "<pre style=\"white-space:pre;overflow-x:auto;line-height:normal;font-family:Menlo,'DejaVu Sans Mono',consolas,'Courier New',monospace\"><span style=\"color: #7fbfbf; text-decoration-color: #7fbfbf\">           </span><span style=\"color: #000080; text-decoration-color: #000080\">INFO    </span> instance appears to contain <span style=\"color: #008080; text-decoration-color: #008080; font-weight: bold\">20</span> jobs, <span style=\"color: #008080; text-decoration-color: #008080; font-weight: bold\">15</span> machines                                               \n",
       "</pre>\n"
      ],
      "text/plain": [
       "\u001b[2;36m          \u001b[0m\u001b[2;36m \u001b[0m\u001b[34mINFO    \u001b[0m instance appears to contain \u001b[1;36m20\u001b[0m jobs, \u001b[1;36m15\u001b[0m machines                                               \n"
      ]
     },
     "metadata": {},
     "output_type": "display_data"
    },
    {
     "data": {
      "text/html": [
       "<pre style=\"white-space:pre;overflow-x:auto;line-height:normal;font-family:Menlo,'DejaVu Sans Mono',consolas,'Courier New',monospace\"><span style=\"color: #7fbfbf; text-decoration-color: #7fbfbf\">           </span><span style=\"color: #000080; text-decoration-color: #000080\">INFO    </span> parsing file <span style=\"color: #008000; text-decoration-color: #008000\">'resources/jsp_instances/standard/abz8.txt'</span>                                       \n",
       "</pre>\n"
      ],
      "text/plain": [
       "\u001b[2;36m          \u001b[0m\u001b[2;36m \u001b[0m\u001b[34mINFO    \u001b[0m parsing file \u001b[32m'resources/jsp_instances/standard/abz8.txt'\u001b[0m                                       \n"
      ]
     },
     "metadata": {},
     "output_type": "display_data"
    },
    {
     "data": {
      "text/html": [
       "<pre style=\"white-space:pre;overflow-x:auto;line-height:normal;font-family:Menlo,'DejaVu Sans Mono',consolas,'Courier New',monospace\"><span style=\"color: #7fbfbf; text-decoration-color: #7fbfbf\">           </span><span style=\"color: #000080; text-decoration-color: #000080\">INFO    </span> instance appears to contain <span style=\"color: #008080; text-decoration-color: #008080; font-weight: bold\">20</span> jobs, <span style=\"color: #008080; text-decoration-color: #008080; font-weight: bold\">15</span> machines                                               \n",
       "</pre>\n"
      ],
      "text/plain": [
       "\u001b[2;36m          \u001b[0m\u001b[2;36m \u001b[0m\u001b[34mINFO    \u001b[0m instance appears to contain \u001b[1;36m20\u001b[0m jobs, \u001b[1;36m15\u001b[0m machines                                               \n"
      ]
     },
     "metadata": {},
     "output_type": "display_data"
    },
    {
     "data": {
      "text/html": [
       "<pre style=\"white-space:pre;overflow-x:auto;line-height:normal;font-family:Menlo,'DejaVu Sans Mono',consolas,'Courier New',monospace\"><span style=\"color: #7fbfbf; text-decoration-color: #7fbfbf\">[18:23:26] </span><span style=\"color: #000080; text-decoration-color: #000080\">INFO    </span> parsing file <span style=\"color: #008000; text-decoration-color: #008000\">'resources/jsp_instances/standard/abz8.txt'</span>                                       \n",
       "</pre>\n"
      ],
      "text/plain": [
       "\u001b[2;36m[18:23:26]\u001b[0m\u001b[2;36m \u001b[0m\u001b[34mINFO    \u001b[0m parsing file \u001b[32m'resources/jsp_instances/standard/abz8.txt'\u001b[0m                                       \n"
      ]
     },
     "metadata": {},
     "output_type": "display_data"
    },
    {
     "data": {
      "text/html": [
       "<pre style=\"white-space:pre;overflow-x:auto;line-height:normal;font-family:Menlo,'DejaVu Sans Mono',consolas,'Courier New',monospace\"><span style=\"color: #7fbfbf; text-decoration-color: #7fbfbf\">           </span><span style=\"color: #000080; text-decoration-color: #000080\">INFO    </span> instance appears to contain <span style=\"color: #008080; text-decoration-color: #008080; font-weight: bold\">20</span> jobs, <span style=\"color: #008080; text-decoration-color: #008080; font-weight: bold\">15</span> machines                                               \n",
       "</pre>\n"
      ],
      "text/plain": [
       "\u001b[2;36m          \u001b[0m\u001b[2;36m \u001b[0m\u001b[34mINFO    \u001b[0m instance appears to contain \u001b[1;36m20\u001b[0m jobs, \u001b[1;36m15\u001b[0m machines                                               \n"
      ]
     },
     "metadata": {},
     "output_type": "display_data"
    },
    {
     "data": {
      "text/html": [
       "<pre style=\"white-space:pre;overflow-x:auto;line-height:normal;font-family:Menlo,'DejaVu Sans Mono',consolas,'Courier New',monospace\"><span style=\"color: #7fbfbf; text-decoration-color: #7fbfbf\">           </span><span style=\"color: #000080; text-decoration-color: #000080\">INFO    </span> parsing file <span style=\"color: #008000; text-decoration-color: #008000\">'resources/jsp_instances/standard/abz8.txt'</span>                                       \n",
       "</pre>\n"
      ],
      "text/plain": [
       "\u001b[2;36m          \u001b[0m\u001b[2;36m \u001b[0m\u001b[34mINFO    \u001b[0m parsing file \u001b[32m'resources/jsp_instances/standard/abz8.txt'\u001b[0m                                       \n"
      ]
     },
     "metadata": {},
     "output_type": "display_data"
    },
    {
     "data": {
      "text/html": [
       "<pre style=\"white-space:pre;overflow-x:auto;line-height:normal;font-family:Menlo,'DejaVu Sans Mono',consolas,'Courier New',monospace\"><span style=\"color: #7fbfbf; text-decoration-color: #7fbfbf\">           </span><span style=\"color: #000080; text-decoration-color: #000080\">INFO    </span> instance appears to contain <span style=\"color: #008080; text-decoration-color: #008080; font-weight: bold\">20</span> jobs, <span style=\"color: #008080; text-decoration-color: #008080; font-weight: bold\">15</span> machines                                               \n",
       "</pre>\n"
      ],
      "text/plain": [
       "\u001b[2;36m          \u001b[0m\u001b[2;36m \u001b[0m\u001b[34mINFO    \u001b[0m instance appears to contain \u001b[1;36m20\u001b[0m jobs, \u001b[1;36m15\u001b[0m machines                                               \n"
      ]
     },
     "metadata": {},
     "output_type": "display_data"
    },
    {
     "data": {
      "text/html": [
       "<pre style=\"white-space:pre;overflow-x:auto;line-height:normal;font-family:Menlo,'DejaVu Sans Mono',consolas,'Courier New',monospace\"><span style=\"color: #7fbfbf; text-decoration-color: #7fbfbf\">           </span><span style=\"color: #000080; text-decoration-color: #000080\">INFO    </span> parsing file <span style=\"color: #008000; text-decoration-color: #008000\">'resources/jsp_instances/standard/abz8.txt'</span>                                       \n",
       "</pre>\n"
      ],
      "text/plain": [
       "\u001b[2;36m          \u001b[0m\u001b[2;36m \u001b[0m\u001b[34mINFO    \u001b[0m parsing file \u001b[32m'resources/jsp_instances/standard/abz8.txt'\u001b[0m                                       \n"
      ]
     },
     "metadata": {},
     "output_type": "display_data"
    },
    {
     "data": {
      "text/html": [
       "<pre style=\"white-space:pre;overflow-x:auto;line-height:normal;font-family:Menlo,'DejaVu Sans Mono',consolas,'Courier New',monospace\"><span style=\"color: #7fbfbf; text-decoration-color: #7fbfbf\">           </span><span style=\"color: #000080; text-decoration-color: #000080\">INFO    </span> instance appears to contain <span style=\"color: #008080; text-decoration-color: #008080; font-weight: bold\">20</span> jobs, <span style=\"color: #008080; text-decoration-color: #008080; font-weight: bold\">15</span> machines                                               \n",
       "</pre>\n"
      ],
      "text/plain": [
       "\u001b[2;36m          \u001b[0m\u001b[2;36m \u001b[0m\u001b[34mINFO    \u001b[0m instance appears to contain \u001b[1;36m20\u001b[0m jobs, \u001b[1;36m15\u001b[0m machines                                               \n"
      ]
     },
     "metadata": {},
     "output_type": "display_data"
    },
    {
     "data": {
      "text/html": [
       "<pre style=\"white-space:pre;overflow-x:auto;line-height:normal;font-family:Menlo,'DejaVu Sans Mono',consolas,'Courier New',monospace\"><span style=\"color: #7fbfbf; text-decoration-color: #7fbfbf\">[18:23:27] </span><span style=\"color: #000080; text-decoration-color: #000080\">INFO    </span> parsing file <span style=\"color: #008000; text-decoration-color: #008000\">'resources/jsp_instances/standard/abz8.txt'</span>                                       \n",
       "</pre>\n"
      ],
      "text/plain": [
       "\u001b[2;36m[18:23:27]\u001b[0m\u001b[2;36m \u001b[0m\u001b[34mINFO    \u001b[0m parsing file \u001b[32m'resources/jsp_instances/standard/abz8.txt'\u001b[0m                                       \n"
      ]
     },
     "metadata": {},
     "output_type": "display_data"
    },
    {
     "data": {
      "text/html": [
       "<pre style=\"white-space:pre;overflow-x:auto;line-height:normal;font-family:Menlo,'DejaVu Sans Mono',consolas,'Courier New',monospace\"><span style=\"color: #7fbfbf; text-decoration-color: #7fbfbf\">           </span><span style=\"color: #000080; text-decoration-color: #000080\">INFO    </span> instance appears to contain <span style=\"color: #008080; text-decoration-color: #008080; font-weight: bold\">20</span> jobs, <span style=\"color: #008080; text-decoration-color: #008080; font-weight: bold\">15</span> machines                                               \n",
       "</pre>\n"
      ],
      "text/plain": [
       "\u001b[2;36m          \u001b[0m\u001b[2;36m \u001b[0m\u001b[34mINFO    \u001b[0m instance appears to contain \u001b[1;36m20\u001b[0m jobs, \u001b[1;36m15\u001b[0m machines                                               \n"
      ]
     },
     "metadata": {},
     "output_type": "display_data"
    },
    {
     "data": {
      "text/html": [
       "<pre style=\"white-space:pre;overflow-x:auto;line-height:normal;font-family:Menlo,'DejaVu Sans Mono',consolas,'Courier New',monospace\"><span style=\"color: #7fbfbf; text-decoration-color: #7fbfbf\">           </span><span style=\"color: #000080; text-decoration-color: #000080\">INFO    </span> parsing file <span style=\"color: #008000; text-decoration-color: #008000\">'resources/jsp_instances/standard/abz8.txt'</span>                                       \n",
       "</pre>\n"
      ],
      "text/plain": [
       "\u001b[2;36m          \u001b[0m\u001b[2;36m \u001b[0m\u001b[34mINFO    \u001b[0m parsing file \u001b[32m'resources/jsp_instances/standard/abz8.txt'\u001b[0m                                       \n"
      ]
     },
     "metadata": {},
     "output_type": "display_data"
    },
    {
     "data": {
      "text/html": [
       "<pre style=\"white-space:pre;overflow-x:auto;line-height:normal;font-family:Menlo,'DejaVu Sans Mono',consolas,'Courier New',monospace\"><span style=\"color: #7fbfbf; text-decoration-color: #7fbfbf\">           </span><span style=\"color: #000080; text-decoration-color: #000080\">INFO    </span> instance appears to contain <span style=\"color: #008080; text-decoration-color: #008080; font-weight: bold\">20</span> jobs, <span style=\"color: #008080; text-decoration-color: #008080; font-weight: bold\">15</span> machines                                               \n",
       "</pre>\n"
      ],
      "text/plain": [
       "\u001b[2;36m          \u001b[0m\u001b[2;36m \u001b[0m\u001b[34mINFO    \u001b[0m instance appears to contain \u001b[1;36m20\u001b[0m jobs, \u001b[1;36m15\u001b[0m machines                                               \n"
      ]
     },
     "metadata": {},
     "output_type": "display_data"
    },
    {
     "data": {
      "text/html": [
       "<pre style=\"white-space:pre;overflow-x:auto;line-height:normal;font-family:Menlo,'DejaVu Sans Mono',consolas,'Courier New',monospace\"><span style=\"color: #7fbfbf; text-decoration-color: #7fbfbf\">           </span><span style=\"color: #000080; text-decoration-color: #000080\">INFO    </span> parsing file <span style=\"color: #008000; text-decoration-color: #008000\">'resources/jsp_instances/standard/abz8.txt'</span>                                       \n",
       "</pre>\n"
      ],
      "text/plain": [
       "\u001b[2;36m          \u001b[0m\u001b[2;36m \u001b[0m\u001b[34mINFO    \u001b[0m parsing file \u001b[32m'resources/jsp_instances/standard/abz8.txt'\u001b[0m                                       \n"
      ]
     },
     "metadata": {},
     "output_type": "display_data"
    },
    {
     "data": {
      "text/html": [
       "<pre style=\"white-space:pre;overflow-x:auto;line-height:normal;font-family:Menlo,'DejaVu Sans Mono',consolas,'Courier New',monospace\"><span style=\"color: #7fbfbf; text-decoration-color: #7fbfbf\">           </span><span style=\"color: #000080; text-decoration-color: #000080\">INFO    </span> instance appears to contain <span style=\"color: #008080; text-decoration-color: #008080; font-weight: bold\">20</span> jobs, <span style=\"color: #008080; text-decoration-color: #008080; font-weight: bold\">15</span> machines                                               \n",
       "</pre>\n"
      ],
      "text/plain": [
       "\u001b[2;36m          \u001b[0m\u001b[2;36m \u001b[0m\u001b[34mINFO    \u001b[0m instance appears to contain \u001b[1;36m20\u001b[0m jobs, \u001b[1;36m15\u001b[0m machines                                               \n"
      ]
     },
     "metadata": {},
     "output_type": "display_data"
    },
    {
     "data": {
      "text/html": [
       "<pre style=\"white-space:pre;overflow-x:auto;line-height:normal;font-family:Menlo,'DejaVu Sans Mono',consolas,'Courier New',monospace\"><span style=\"color: #7fbfbf; text-decoration-color: #7fbfbf\">[18:23:28] </span><span style=\"color: #000080; text-decoration-color: #000080\">INFO    </span> parsing file <span style=\"color: #008000; text-decoration-color: #008000\">'resources/jsp_instances/standard/abz8.txt'</span>                                       \n",
       "</pre>\n"
      ],
      "text/plain": [
       "\u001b[2;36m[18:23:28]\u001b[0m\u001b[2;36m \u001b[0m\u001b[34mINFO    \u001b[0m parsing file \u001b[32m'resources/jsp_instances/standard/abz8.txt'\u001b[0m                                       \n"
      ]
     },
     "metadata": {},
     "output_type": "display_data"
    },
    {
     "data": {
      "text/html": [
       "<pre style=\"white-space:pre;overflow-x:auto;line-height:normal;font-family:Menlo,'DejaVu Sans Mono',consolas,'Courier New',monospace\"><span style=\"color: #7fbfbf; text-decoration-color: #7fbfbf\">           </span><span style=\"color: #000080; text-decoration-color: #000080\">INFO    </span> instance appears to contain <span style=\"color: #008080; text-decoration-color: #008080; font-weight: bold\">20</span> jobs, <span style=\"color: #008080; text-decoration-color: #008080; font-weight: bold\">15</span> machines                                               \n",
       "</pre>\n"
      ],
      "text/plain": [
       "\u001b[2;36m          \u001b[0m\u001b[2;36m \u001b[0m\u001b[34mINFO    \u001b[0m instance appears to contain \u001b[1;36m20\u001b[0m jobs, \u001b[1;36m15\u001b[0m machines                                               \n"
      ]
     },
     "metadata": {},
     "output_type": "display_data"
    },
    {
     "data": {
      "text/html": [
       "<pre style=\"white-space:pre;overflow-x:auto;line-height:normal;font-family:Menlo,'DejaVu Sans Mono',consolas,'Courier New',monospace\"><span style=\"color: #7fbfbf; text-decoration-color: #7fbfbf\">           </span><span style=\"color: #000080; text-decoration-color: #000080\">INFO    </span> parsing file <span style=\"color: #008000; text-decoration-color: #008000\">'resources/jsp_instances/standard/abz8.txt'</span>                                       \n",
       "</pre>\n"
      ],
      "text/plain": [
       "\u001b[2;36m          \u001b[0m\u001b[2;36m \u001b[0m\u001b[34mINFO    \u001b[0m parsing file \u001b[32m'resources/jsp_instances/standard/abz8.txt'\u001b[0m                                       \n"
      ]
     },
     "metadata": {},
     "output_type": "display_data"
    },
    {
     "data": {
      "text/html": [
       "<pre style=\"white-space:pre;overflow-x:auto;line-height:normal;font-family:Menlo,'DejaVu Sans Mono',consolas,'Courier New',monospace\"><span style=\"color: #7fbfbf; text-decoration-color: #7fbfbf\">           </span><span style=\"color: #000080; text-decoration-color: #000080\">INFO    </span> instance appears to contain <span style=\"color: #008080; text-decoration-color: #008080; font-weight: bold\">20</span> jobs, <span style=\"color: #008080; text-decoration-color: #008080; font-weight: bold\">15</span> machines                                               \n",
       "</pre>\n"
      ],
      "text/plain": [
       "\u001b[2;36m          \u001b[0m\u001b[2;36m \u001b[0m\u001b[34mINFO    \u001b[0m instance appears to contain \u001b[1;36m20\u001b[0m jobs, \u001b[1;36m15\u001b[0m machines                                               \n"
      ]
     },
     "metadata": {},
     "output_type": "display_data"
    },
    {
     "data": {
      "text/html": [
       "<pre style=\"white-space:pre;overflow-x:auto;line-height:normal;font-family:Menlo,'DejaVu Sans Mono',consolas,'Courier New',monospace\"><span style=\"color: #7fbfbf; text-decoration-color: #7fbfbf\">           </span><span style=\"color: #000080; text-decoration-color: #000080\">INFO    </span> parsing file <span style=\"color: #008000; text-decoration-color: #008000\">'resources/jsp_instances/standard/abz8.txt'</span>                                       \n",
       "</pre>\n"
      ],
      "text/plain": [
       "\u001b[2;36m          \u001b[0m\u001b[2;36m \u001b[0m\u001b[34mINFO    \u001b[0m parsing file \u001b[32m'resources/jsp_instances/standard/abz8.txt'\u001b[0m                                       \n"
      ]
     },
     "metadata": {},
     "output_type": "display_data"
    },
    {
     "data": {
      "text/html": [
       "<pre style=\"white-space:pre;overflow-x:auto;line-height:normal;font-family:Menlo,'DejaVu Sans Mono',consolas,'Courier New',monospace\"><span style=\"color: #7fbfbf; text-decoration-color: #7fbfbf\">           </span><span style=\"color: #000080; text-decoration-color: #000080\">INFO    </span> instance appears to contain <span style=\"color: #008080; text-decoration-color: #008080; font-weight: bold\">20</span> jobs, <span style=\"color: #008080; text-decoration-color: #008080; font-weight: bold\">15</span> machines                                               \n",
       "</pre>\n"
      ],
      "text/plain": [
       "\u001b[2;36m          \u001b[0m\u001b[2;36m \u001b[0m\u001b[34mINFO    \u001b[0m instance appears to contain \u001b[1;36m20\u001b[0m jobs, \u001b[1;36m15\u001b[0m machines                                               \n"
      ]
     },
     "metadata": {},
     "output_type": "display_data"
    },
    {
     "data": {
      "text/html": [
       "<pre style=\"white-space:pre;overflow-x:auto;line-height:normal;font-family:Menlo,'DejaVu Sans Mono',consolas,'Courier New',monospace\"><span style=\"color: #7fbfbf; text-decoration-color: #7fbfbf\">[18:23:29] </span><span style=\"color: #000080; text-decoration-color: #000080\">INFO    </span> parsing file <span style=\"color: #008000; text-decoration-color: #008000\">'resources/jsp_instances/standard/abz8.txt'</span>                                       \n",
       "</pre>\n"
      ],
      "text/plain": [
       "\u001b[2;36m[18:23:29]\u001b[0m\u001b[2;36m \u001b[0m\u001b[34mINFO    \u001b[0m parsing file \u001b[32m'resources/jsp_instances/standard/abz8.txt'\u001b[0m                                       \n"
      ]
     },
     "metadata": {},
     "output_type": "display_data"
    },
    {
     "data": {
      "text/html": [
       "<pre style=\"white-space:pre;overflow-x:auto;line-height:normal;font-family:Menlo,'DejaVu Sans Mono',consolas,'Courier New',monospace\"><span style=\"color: #7fbfbf; text-decoration-color: #7fbfbf\">           </span><span style=\"color: #000080; text-decoration-color: #000080\">INFO    </span> instance appears to contain <span style=\"color: #008080; text-decoration-color: #008080; font-weight: bold\">20</span> jobs, <span style=\"color: #008080; text-decoration-color: #008080; font-weight: bold\">15</span> machines                                               \n",
       "</pre>\n"
      ],
      "text/plain": [
       "\u001b[2;36m          \u001b[0m\u001b[2;36m \u001b[0m\u001b[34mINFO    \u001b[0m instance appears to contain \u001b[1;36m20\u001b[0m jobs, \u001b[1;36m15\u001b[0m machines                                               \n"
      ]
     },
     "metadata": {},
     "output_type": "display_data"
    },
    {
     "data": {
      "text/html": [
       "<pre style=\"white-space:pre;overflow-x:auto;line-height:normal;font-family:Menlo,'DejaVu Sans Mono',consolas,'Courier New',monospace\"><span style=\"color: #7fbfbf; text-decoration-color: #7fbfbf\">           </span><span style=\"color: #000080; text-decoration-color: #000080\">INFO    </span> parsing file <span style=\"color: #008000; text-decoration-color: #008000\">'resources/jsp_instances/standard/abz8.txt'</span>                                       \n",
       "</pre>\n"
      ],
      "text/plain": [
       "\u001b[2;36m          \u001b[0m\u001b[2;36m \u001b[0m\u001b[34mINFO    \u001b[0m parsing file \u001b[32m'resources/jsp_instances/standard/abz8.txt'\u001b[0m                                       \n"
      ]
     },
     "metadata": {},
     "output_type": "display_data"
    },
    {
     "data": {
      "text/html": [
       "<pre style=\"white-space:pre;overflow-x:auto;line-height:normal;font-family:Menlo,'DejaVu Sans Mono',consolas,'Courier New',monospace\"><span style=\"color: #7fbfbf; text-decoration-color: #7fbfbf\">           </span><span style=\"color: #000080; text-decoration-color: #000080\">INFO    </span> instance appears to contain <span style=\"color: #008080; text-decoration-color: #008080; font-weight: bold\">20</span> jobs, <span style=\"color: #008080; text-decoration-color: #008080; font-weight: bold\">15</span> machines                                               \n",
       "</pre>\n"
      ],
      "text/plain": [
       "\u001b[2;36m          \u001b[0m\u001b[2;36m \u001b[0m\u001b[34mINFO    \u001b[0m instance appears to contain \u001b[1;36m20\u001b[0m jobs, \u001b[1;36m15\u001b[0m machines                                               \n"
      ]
     },
     "metadata": {},
     "output_type": "display_data"
    },
    {
     "data": {
      "text/html": [
       "<pre style=\"white-space:pre;overflow-x:auto;line-height:normal;font-family:Menlo,'DejaVu Sans Mono',consolas,'Courier New',monospace\"><span style=\"color: #7fbfbf; text-decoration-color: #7fbfbf\">           </span><span style=\"color: #000080; text-decoration-color: #000080\">INFO    </span> parsing file <span style=\"color: #008000; text-decoration-color: #008000\">'resources/jsp_instances/standard/abz8.txt'</span>                                       \n",
       "</pre>\n"
      ],
      "text/plain": [
       "\u001b[2;36m          \u001b[0m\u001b[2;36m \u001b[0m\u001b[34mINFO    \u001b[0m parsing file \u001b[32m'resources/jsp_instances/standard/abz8.txt'\u001b[0m                                       \n"
      ]
     },
     "metadata": {},
     "output_type": "display_data"
    },
    {
     "data": {
      "text/html": [
       "<pre style=\"white-space:pre;overflow-x:auto;line-height:normal;font-family:Menlo,'DejaVu Sans Mono',consolas,'Courier New',monospace\"><span style=\"color: #7fbfbf; text-decoration-color: #7fbfbf\">           </span><span style=\"color: #000080; text-decoration-color: #000080\">INFO    </span> instance appears to contain <span style=\"color: #008080; text-decoration-color: #008080; font-weight: bold\">20</span> jobs, <span style=\"color: #008080; text-decoration-color: #008080; font-weight: bold\">15</span> machines                                               \n",
       "</pre>\n"
      ],
      "text/plain": [
       "\u001b[2;36m          \u001b[0m\u001b[2;36m \u001b[0m\u001b[34mINFO    \u001b[0m instance appears to contain \u001b[1;36m20\u001b[0m jobs, \u001b[1;36m15\u001b[0m machines                                               \n"
      ]
     },
     "metadata": {},
     "output_type": "display_data"
    },
    {
     "data": {
      "text/html": [
       "<pre style=\"white-space:pre;overflow-x:auto;line-height:normal;font-family:Menlo,'DejaVu Sans Mono',consolas,'Courier New',monospace\"><span style=\"color: #7fbfbf; text-decoration-color: #7fbfbf\">[18:23:30] </span><span style=\"color: #000080; text-decoration-color: #000080\">INFO    </span> parsing file <span style=\"color: #008000; text-decoration-color: #008000\">'resources/jsp_instances/standard/abz8.txt'</span>                                       \n",
       "</pre>\n"
      ],
      "text/plain": [
       "\u001b[2;36m[18:23:30]\u001b[0m\u001b[2;36m \u001b[0m\u001b[34mINFO    \u001b[0m parsing file \u001b[32m'resources/jsp_instances/standard/abz8.txt'\u001b[0m                                       \n"
      ]
     },
     "metadata": {},
     "output_type": "display_data"
    },
    {
     "data": {
      "text/html": [
       "<pre style=\"white-space:pre;overflow-x:auto;line-height:normal;font-family:Menlo,'DejaVu Sans Mono',consolas,'Courier New',monospace\"><span style=\"color: #7fbfbf; text-decoration-color: #7fbfbf\">           </span><span style=\"color: #000080; text-decoration-color: #000080\">INFO    </span> instance appears to contain <span style=\"color: #008080; text-decoration-color: #008080; font-weight: bold\">20</span> jobs, <span style=\"color: #008080; text-decoration-color: #008080; font-weight: bold\">15</span> machines                                               \n",
       "</pre>\n"
      ],
      "text/plain": [
       "\u001b[2;36m          \u001b[0m\u001b[2;36m \u001b[0m\u001b[34mINFO    \u001b[0m instance appears to contain \u001b[1;36m20\u001b[0m jobs, \u001b[1;36m15\u001b[0m machines                                               \n"
      ]
     },
     "metadata": {},
     "output_type": "display_data"
    },
    {
     "data": {
      "text/html": [
       "<pre style=\"white-space:pre;overflow-x:auto;line-height:normal;font-family:Menlo,'DejaVu Sans Mono',consolas,'Courier New',monospace\"><span style=\"color: #7fbfbf; text-decoration-color: #7fbfbf\">           </span><span style=\"color: #000080; text-decoration-color: #000080\">INFO    </span> parsing file <span style=\"color: #008000; text-decoration-color: #008000\">'resources/jsp_instances/standard/abz8.txt'</span>                                       \n",
       "</pre>\n"
      ],
      "text/plain": [
       "\u001b[2;36m          \u001b[0m\u001b[2;36m \u001b[0m\u001b[34mINFO    \u001b[0m parsing file \u001b[32m'resources/jsp_instances/standard/abz8.txt'\u001b[0m                                       \n"
      ]
     },
     "metadata": {},
     "output_type": "display_data"
    },
    {
     "data": {
      "text/html": [
       "<pre style=\"white-space:pre;overflow-x:auto;line-height:normal;font-family:Menlo,'DejaVu Sans Mono',consolas,'Courier New',monospace\"><span style=\"color: #7fbfbf; text-decoration-color: #7fbfbf\">           </span><span style=\"color: #000080; text-decoration-color: #000080\">INFO    </span> instance appears to contain <span style=\"color: #008080; text-decoration-color: #008080; font-weight: bold\">20</span> jobs, <span style=\"color: #008080; text-decoration-color: #008080; font-weight: bold\">15</span> machines                                               \n",
       "</pre>\n"
      ],
      "text/plain": [
       "\u001b[2;36m          \u001b[0m\u001b[2;36m \u001b[0m\u001b[34mINFO    \u001b[0m instance appears to contain \u001b[1;36m20\u001b[0m jobs, \u001b[1;36m15\u001b[0m machines                                               \n"
      ]
     },
     "metadata": {},
     "output_type": "display_data"
    },
    {
     "data": {
      "text/html": [
       "<pre style=\"white-space:pre;overflow-x:auto;line-height:normal;font-family:Menlo,'DejaVu Sans Mono',consolas,'Courier New',monospace\"><span style=\"color: #7fbfbf; text-decoration-color: #7fbfbf\">           </span><span style=\"color: #000080; text-decoration-color: #000080\">INFO    </span> parsing file <span style=\"color: #008000; text-decoration-color: #008000\">'resources/jsp_instances/standard/abz8.txt'</span>                                       \n",
       "</pre>\n"
      ],
      "text/plain": [
       "\u001b[2;36m          \u001b[0m\u001b[2;36m \u001b[0m\u001b[34mINFO    \u001b[0m parsing file \u001b[32m'resources/jsp_instances/standard/abz8.txt'\u001b[0m                                       \n"
      ]
     },
     "metadata": {},
     "output_type": "display_data"
    },
    {
     "data": {
      "text/html": [
       "<pre style=\"white-space:pre;overflow-x:auto;line-height:normal;font-family:Menlo,'DejaVu Sans Mono',consolas,'Courier New',monospace\"><span style=\"color: #7fbfbf; text-decoration-color: #7fbfbf\">           </span><span style=\"color: #000080; text-decoration-color: #000080\">INFO    </span> instance appears to contain <span style=\"color: #008080; text-decoration-color: #008080; font-weight: bold\">20</span> jobs, <span style=\"color: #008080; text-decoration-color: #008080; font-weight: bold\">15</span> machines                                               \n",
       "</pre>\n"
      ],
      "text/plain": [
       "\u001b[2;36m          \u001b[0m\u001b[2;36m \u001b[0m\u001b[34mINFO    \u001b[0m instance appears to contain \u001b[1;36m20\u001b[0m jobs, \u001b[1;36m15\u001b[0m machines                                               \n"
      ]
     },
     "metadata": {},
     "output_type": "display_data"
    },
    {
     "data": {
      "text/html": [
       "<pre style=\"white-space:pre;overflow-x:auto;line-height:normal;font-family:Menlo,'DejaVu Sans Mono',consolas,'Courier New',monospace\"><span style=\"color: #7fbfbf; text-decoration-color: #7fbfbf\">[18:23:31] </span><span style=\"color: #000080; text-decoration-color: #000080\">INFO    </span> parsing file <span style=\"color: #008000; text-decoration-color: #008000\">'resources/jsp_instances/standard/abz8.txt'</span>                                       \n",
       "</pre>\n"
      ],
      "text/plain": [
       "\u001b[2;36m[18:23:31]\u001b[0m\u001b[2;36m \u001b[0m\u001b[34mINFO    \u001b[0m parsing file \u001b[32m'resources/jsp_instances/standard/abz8.txt'\u001b[0m                                       \n"
      ]
     },
     "metadata": {},
     "output_type": "display_data"
    },
    {
     "data": {
      "text/html": [
       "<pre style=\"white-space:pre;overflow-x:auto;line-height:normal;font-family:Menlo,'DejaVu Sans Mono',consolas,'Courier New',monospace\"><span style=\"color: #7fbfbf; text-decoration-color: #7fbfbf\">           </span><span style=\"color: #000080; text-decoration-color: #000080\">INFO    </span> instance appears to contain <span style=\"color: #008080; text-decoration-color: #008080; font-weight: bold\">20</span> jobs, <span style=\"color: #008080; text-decoration-color: #008080; font-weight: bold\">15</span> machines                                               \n",
       "</pre>\n"
      ],
      "text/plain": [
       "\u001b[2;36m          \u001b[0m\u001b[2;36m \u001b[0m\u001b[34mINFO    \u001b[0m instance appears to contain \u001b[1;36m20\u001b[0m jobs, \u001b[1;36m15\u001b[0m machines                                               \n"
      ]
     },
     "metadata": {},
     "output_type": "display_data"
    },
    {
     "data": {
      "text/html": [
       "<pre style=\"white-space:pre;overflow-x:auto;line-height:normal;font-family:Menlo,'DejaVu Sans Mono',consolas,'Courier New',monospace\"><span style=\"color: #7fbfbf; text-decoration-color: #7fbfbf\">           </span><span style=\"color: #000080; text-decoration-color: #000080\">INFO    </span> parsing file <span style=\"color: #008000; text-decoration-color: #008000\">'resources/jsp_instances/standard/abz8.txt'</span>                                       \n",
       "</pre>\n"
      ],
      "text/plain": [
       "\u001b[2;36m          \u001b[0m\u001b[2;36m \u001b[0m\u001b[34mINFO    \u001b[0m parsing file \u001b[32m'resources/jsp_instances/standard/abz8.txt'\u001b[0m                                       \n"
      ]
     },
     "metadata": {},
     "output_type": "display_data"
    },
    {
     "data": {
      "text/html": [
       "<pre style=\"white-space:pre;overflow-x:auto;line-height:normal;font-family:Menlo,'DejaVu Sans Mono',consolas,'Courier New',monospace\"><span style=\"color: #7fbfbf; text-decoration-color: #7fbfbf\">           </span><span style=\"color: #000080; text-decoration-color: #000080\">INFO    </span> instance appears to contain <span style=\"color: #008080; text-decoration-color: #008080; font-weight: bold\">20</span> jobs, <span style=\"color: #008080; text-decoration-color: #008080; font-weight: bold\">15</span> machines                                               \n",
       "</pre>\n"
      ],
      "text/plain": [
       "\u001b[2;36m          \u001b[0m\u001b[2;36m \u001b[0m\u001b[34mINFO    \u001b[0m instance appears to contain \u001b[1;36m20\u001b[0m jobs, \u001b[1;36m15\u001b[0m machines                                               \n"
      ]
     },
     "metadata": {},
     "output_type": "display_data"
    },
    {
     "data": {
      "text/html": [
       "<pre style=\"white-space:pre;overflow-x:auto;line-height:normal;font-family:Menlo,'DejaVu Sans Mono',consolas,'Courier New',monospace\"><span style=\"color: #7fbfbf; text-decoration-color: #7fbfbf\">           </span><span style=\"color: #000080; text-decoration-color: #000080\">INFO    </span> parsing file <span style=\"color: #008000; text-decoration-color: #008000\">'resources/jsp_instances/standard/abz8.txt'</span>                                       \n",
       "</pre>\n"
      ],
      "text/plain": [
       "\u001b[2;36m          \u001b[0m\u001b[2;36m \u001b[0m\u001b[34mINFO    \u001b[0m parsing file \u001b[32m'resources/jsp_instances/standard/abz8.txt'\u001b[0m                                       \n"
      ]
     },
     "metadata": {},
     "output_type": "display_data"
    },
    {
     "data": {
      "text/html": [
       "<pre style=\"white-space:pre;overflow-x:auto;line-height:normal;font-family:Menlo,'DejaVu Sans Mono',consolas,'Courier New',monospace\"><span style=\"color: #7fbfbf; text-decoration-color: #7fbfbf\">           </span><span style=\"color: #000080; text-decoration-color: #000080\">INFO    </span> instance appears to contain <span style=\"color: #008080; text-decoration-color: #008080; font-weight: bold\">20</span> jobs, <span style=\"color: #008080; text-decoration-color: #008080; font-weight: bold\">15</span> machines                                               \n",
       "</pre>\n"
      ],
      "text/plain": [
       "\u001b[2;36m          \u001b[0m\u001b[2;36m \u001b[0m\u001b[34mINFO    \u001b[0m instance appears to contain \u001b[1;36m20\u001b[0m jobs, \u001b[1;36m15\u001b[0m machines                                               \n"
      ]
     },
     "metadata": {},
     "output_type": "display_data"
    },
    {
     "data": {
      "text/html": [
       "<pre style=\"white-space:pre;overflow-x:auto;line-height:normal;font-family:Menlo,'DejaVu Sans Mono',consolas,'Courier New',monospace\"><span style=\"color: #7fbfbf; text-decoration-color: #7fbfbf\">[18:23:32] </span><span style=\"color: #000080; text-decoration-color: #000080\">INFO    </span> parsing file <span style=\"color: #008000; text-decoration-color: #008000\">'resources/jsp_instances/standard/abz8.txt'</span>                                       \n",
       "</pre>\n"
      ],
      "text/plain": [
       "\u001b[2;36m[18:23:32]\u001b[0m\u001b[2;36m \u001b[0m\u001b[34mINFO    \u001b[0m parsing file \u001b[32m'resources/jsp_instances/standard/abz8.txt'\u001b[0m                                       \n"
      ]
     },
     "metadata": {},
     "output_type": "display_data"
    },
    {
     "data": {
      "text/html": [
       "<pre style=\"white-space:pre;overflow-x:auto;line-height:normal;font-family:Menlo,'DejaVu Sans Mono',consolas,'Courier New',monospace\"><span style=\"color: #7fbfbf; text-decoration-color: #7fbfbf\">           </span><span style=\"color: #000080; text-decoration-color: #000080\">INFO    </span> instance appears to contain <span style=\"color: #008080; text-decoration-color: #008080; font-weight: bold\">20</span> jobs, <span style=\"color: #008080; text-decoration-color: #008080; font-weight: bold\">15</span> machines                                               \n",
       "</pre>\n"
      ],
      "text/plain": [
       "\u001b[2;36m          \u001b[0m\u001b[2;36m \u001b[0m\u001b[34mINFO    \u001b[0m instance appears to contain \u001b[1;36m20\u001b[0m jobs, \u001b[1;36m15\u001b[0m machines                                               \n"
      ]
     },
     "metadata": {},
     "output_type": "display_data"
    },
    {
     "data": {
      "text/html": [
       "<pre style=\"white-space:pre;overflow-x:auto;line-height:normal;font-family:Menlo,'DejaVu Sans Mono',consolas,'Courier New',monospace\"><span style=\"color: #7fbfbf; text-decoration-color: #7fbfbf\">           </span><span style=\"color: #000080; text-decoration-color: #000080\">INFO    </span> parsing file <span style=\"color: #008000; text-decoration-color: #008000\">'resources/jsp_instances/standard/abz8.txt'</span>                                       \n",
       "</pre>\n"
      ],
      "text/plain": [
       "\u001b[2;36m          \u001b[0m\u001b[2;36m \u001b[0m\u001b[34mINFO    \u001b[0m parsing file \u001b[32m'resources/jsp_instances/standard/abz8.txt'\u001b[0m                                       \n"
      ]
     },
     "metadata": {},
     "output_type": "display_data"
    },
    {
     "data": {
      "text/html": [
       "<pre style=\"white-space:pre;overflow-x:auto;line-height:normal;font-family:Menlo,'DejaVu Sans Mono',consolas,'Courier New',monospace\"><span style=\"color: #7fbfbf; text-decoration-color: #7fbfbf\">           </span><span style=\"color: #000080; text-decoration-color: #000080\">INFO    </span> instance appears to contain <span style=\"color: #008080; text-decoration-color: #008080; font-weight: bold\">20</span> jobs, <span style=\"color: #008080; text-decoration-color: #008080; font-weight: bold\">15</span> machines                                               \n",
       "</pre>\n"
      ],
      "text/plain": [
       "\u001b[2;36m          \u001b[0m\u001b[2;36m \u001b[0m\u001b[34mINFO    \u001b[0m instance appears to contain \u001b[1;36m20\u001b[0m jobs, \u001b[1;36m15\u001b[0m machines                                               \n"
      ]
     },
     "metadata": {},
     "output_type": "display_data"
    },
    {
     "data": {
      "text/html": [
       "<pre style=\"white-space:pre;overflow-x:auto;line-height:normal;font-family:Menlo,'DejaVu Sans Mono',consolas,'Courier New',monospace\"><span style=\"color: #7fbfbf; text-decoration-color: #7fbfbf\">[18:23:33] </span><span style=\"color: #000080; text-decoration-color: #000080\">INFO    </span> parsing file <span style=\"color: #008000; text-decoration-color: #008000\">'resources/jsp_instances/standard/abz8.txt'</span>                                       \n",
       "</pre>\n"
      ],
      "text/plain": [
       "\u001b[2;36m[18:23:33]\u001b[0m\u001b[2;36m \u001b[0m\u001b[34mINFO    \u001b[0m parsing file \u001b[32m'resources/jsp_instances/standard/abz8.txt'\u001b[0m                                       \n"
      ]
     },
     "metadata": {},
     "output_type": "display_data"
    },
    {
     "data": {
      "text/html": [
       "<pre style=\"white-space:pre;overflow-x:auto;line-height:normal;font-family:Menlo,'DejaVu Sans Mono',consolas,'Courier New',monospace\"><span style=\"color: #7fbfbf; text-decoration-color: #7fbfbf\">           </span><span style=\"color: #000080; text-decoration-color: #000080\">INFO    </span> instance appears to contain <span style=\"color: #008080; text-decoration-color: #008080; font-weight: bold\">20</span> jobs, <span style=\"color: #008080; text-decoration-color: #008080; font-weight: bold\">15</span> machines                                               \n",
       "</pre>\n"
      ],
      "text/plain": [
       "\u001b[2;36m          \u001b[0m\u001b[2;36m \u001b[0m\u001b[34mINFO    \u001b[0m instance appears to contain \u001b[1;36m20\u001b[0m jobs, \u001b[1;36m15\u001b[0m machines                                               \n"
      ]
     },
     "metadata": {},
     "output_type": "display_data"
    },
    {
     "data": {
      "text/html": [
       "<pre style=\"white-space:pre;overflow-x:auto;line-height:normal;font-family:Menlo,'DejaVu Sans Mono',consolas,'Courier New',monospace\"><span style=\"color: #7fbfbf; text-decoration-color: #7fbfbf\">           </span><span style=\"color: #000080; text-decoration-color: #000080\">INFO    </span> parsing file <span style=\"color: #008000; text-decoration-color: #008000\">'resources/jsp_instances/standard/abz8.txt'</span>                                       \n",
       "</pre>\n"
      ],
      "text/plain": [
       "\u001b[2;36m          \u001b[0m\u001b[2;36m \u001b[0m\u001b[34mINFO    \u001b[0m parsing file \u001b[32m'resources/jsp_instances/standard/abz8.txt'\u001b[0m                                       \n"
      ]
     },
     "metadata": {},
     "output_type": "display_data"
    },
    {
     "data": {
      "text/html": [
       "<pre style=\"white-space:pre;overflow-x:auto;line-height:normal;font-family:Menlo,'DejaVu Sans Mono',consolas,'Courier New',monospace\"><span style=\"color: #7fbfbf; text-decoration-color: #7fbfbf\">           </span><span style=\"color: #000080; text-decoration-color: #000080\">INFO    </span> instance appears to contain <span style=\"color: #008080; text-decoration-color: #008080; font-weight: bold\">20</span> jobs, <span style=\"color: #008080; text-decoration-color: #008080; font-weight: bold\">15</span> machines                                               \n",
       "</pre>\n"
      ],
      "text/plain": [
       "\u001b[2;36m          \u001b[0m\u001b[2;36m \u001b[0m\u001b[34mINFO    \u001b[0m instance appears to contain \u001b[1;36m20\u001b[0m jobs, \u001b[1;36m15\u001b[0m machines                                               \n"
      ]
     },
     "metadata": {},
     "output_type": "display_data"
    },
    {
     "data": {
      "text/html": [
       "<pre style=\"white-space:pre;overflow-x:auto;line-height:normal;font-family:Menlo,'DejaVu Sans Mono',consolas,'Courier New',monospace\"><span style=\"color: #7fbfbf; text-decoration-color: #7fbfbf\">           </span><span style=\"color: #000080; text-decoration-color: #000080\">INFO    </span> parsing file <span style=\"color: #008000; text-decoration-color: #008000\">'resources/jsp_instances/standard/abz8.txt'</span>                                       \n",
       "</pre>\n"
      ],
      "text/plain": [
       "\u001b[2;36m          \u001b[0m\u001b[2;36m \u001b[0m\u001b[34mINFO    \u001b[0m parsing file \u001b[32m'resources/jsp_instances/standard/abz8.txt'\u001b[0m                                       \n"
      ]
     },
     "metadata": {},
     "output_type": "display_data"
    },
    {
     "data": {
      "text/html": [
       "<pre style=\"white-space:pre;overflow-x:auto;line-height:normal;font-family:Menlo,'DejaVu Sans Mono',consolas,'Courier New',monospace\"><span style=\"color: #7fbfbf; text-decoration-color: #7fbfbf\">           </span><span style=\"color: #000080; text-decoration-color: #000080\">INFO    </span> instance appears to contain <span style=\"color: #008080; text-decoration-color: #008080; font-weight: bold\">20</span> jobs, <span style=\"color: #008080; text-decoration-color: #008080; font-weight: bold\">15</span> machines                                               \n",
       "</pre>\n"
      ],
      "text/plain": [
       "\u001b[2;36m          \u001b[0m\u001b[2;36m \u001b[0m\u001b[34mINFO    \u001b[0m instance appears to contain \u001b[1;36m20\u001b[0m jobs, \u001b[1;36m15\u001b[0m machines                                               \n"
      ]
     },
     "metadata": {},
     "output_type": "display_data"
    },
    {
     "data": {
      "text/html": [
       "<pre style=\"white-space:pre;overflow-x:auto;line-height:normal;font-family:Menlo,'DejaVu Sans Mono',consolas,'Courier New',monospace\"><span style=\"color: #7fbfbf; text-decoration-color: #7fbfbf\">[18:23:34] </span><span style=\"color: #000080; text-decoration-color: #000080\">INFO    </span> parsing file <span style=\"color: #008000; text-decoration-color: #008000\">'resources/jsp_instances/standard/abz8.txt'</span>                                       \n",
       "</pre>\n"
      ],
      "text/plain": [
       "\u001b[2;36m[18:23:34]\u001b[0m\u001b[2;36m \u001b[0m\u001b[34mINFO    \u001b[0m parsing file \u001b[32m'resources/jsp_instances/standard/abz8.txt'\u001b[0m                                       \n"
      ]
     },
     "metadata": {},
     "output_type": "display_data"
    },
    {
     "data": {
      "text/html": [
       "<pre style=\"white-space:pre;overflow-x:auto;line-height:normal;font-family:Menlo,'DejaVu Sans Mono',consolas,'Courier New',monospace\"><span style=\"color: #7fbfbf; text-decoration-color: #7fbfbf\">           </span><span style=\"color: #000080; text-decoration-color: #000080\">INFO    </span> instance appears to contain <span style=\"color: #008080; text-decoration-color: #008080; font-weight: bold\">20</span> jobs, <span style=\"color: #008080; text-decoration-color: #008080; font-weight: bold\">15</span> machines                                               \n",
       "</pre>\n"
      ],
      "text/plain": [
       "\u001b[2;36m          \u001b[0m\u001b[2;36m \u001b[0m\u001b[34mINFO    \u001b[0m instance appears to contain \u001b[1;36m20\u001b[0m jobs, \u001b[1;36m15\u001b[0m machines                                               \n"
      ]
     },
     "metadata": {},
     "output_type": "display_data"
    },
    {
     "data": {
      "text/html": [
       "<pre style=\"white-space:pre;overflow-x:auto;line-height:normal;font-family:Menlo,'DejaVu Sans Mono',consolas,'Courier New',monospace\"><span style=\"color: #7fbfbf; text-decoration-color: #7fbfbf\">           </span><span style=\"color: #000080; text-decoration-color: #000080\">INFO    </span> parsing file <span style=\"color: #008000; text-decoration-color: #008000\">'resources/jsp_instances/standard/abz8.txt'</span>                                       \n",
       "</pre>\n"
      ],
      "text/plain": [
       "\u001b[2;36m          \u001b[0m\u001b[2;36m \u001b[0m\u001b[34mINFO    \u001b[0m parsing file \u001b[32m'resources/jsp_instances/standard/abz8.txt'\u001b[0m                                       \n"
      ]
     },
     "metadata": {},
     "output_type": "display_data"
    },
    {
     "data": {
      "text/html": [
       "<pre style=\"white-space:pre;overflow-x:auto;line-height:normal;font-family:Menlo,'DejaVu Sans Mono',consolas,'Courier New',monospace\"><span style=\"color: #7fbfbf; text-decoration-color: #7fbfbf\">           </span><span style=\"color: #000080; text-decoration-color: #000080\">INFO    </span> instance appears to contain <span style=\"color: #008080; text-decoration-color: #008080; font-weight: bold\">20</span> jobs, <span style=\"color: #008080; text-decoration-color: #008080; font-weight: bold\">15</span> machines                                               \n",
       "</pre>\n"
      ],
      "text/plain": [
       "\u001b[2;36m          \u001b[0m\u001b[2;36m \u001b[0m\u001b[34mINFO    \u001b[0m instance appears to contain \u001b[1;36m20\u001b[0m jobs, \u001b[1;36m15\u001b[0m machines                                               \n"
      ]
     },
     "metadata": {},
     "output_type": "display_data"
    },
    {
     "data": {
      "text/html": [
       "<pre style=\"white-space:pre;overflow-x:auto;line-height:normal;font-family:Menlo,'DejaVu Sans Mono',consolas,'Courier New',monospace\"><span style=\"color: #7fbfbf; text-decoration-color: #7fbfbf\">           </span><span style=\"color: #000080; text-decoration-color: #000080\">INFO    </span> parsing file <span style=\"color: #008000; text-decoration-color: #008000\">'resources/jsp_instances/standard/abz8.txt'</span>                                       \n",
       "</pre>\n"
      ],
      "text/plain": [
       "\u001b[2;36m          \u001b[0m\u001b[2;36m \u001b[0m\u001b[34mINFO    \u001b[0m parsing file \u001b[32m'resources/jsp_instances/standard/abz8.txt'\u001b[0m                                       \n"
      ]
     },
     "metadata": {},
     "output_type": "display_data"
    },
    {
     "data": {
      "text/html": [
       "<pre style=\"white-space:pre;overflow-x:auto;line-height:normal;font-family:Menlo,'DejaVu Sans Mono',consolas,'Courier New',monospace\"><span style=\"color: #7fbfbf; text-decoration-color: #7fbfbf\">           </span><span style=\"color: #000080; text-decoration-color: #000080\">INFO    </span> instance appears to contain <span style=\"color: #008080; text-decoration-color: #008080; font-weight: bold\">20</span> jobs, <span style=\"color: #008080; text-decoration-color: #008080; font-weight: bold\">15</span> machines                                               \n",
       "</pre>\n"
      ],
      "text/plain": [
       "\u001b[2;36m          \u001b[0m\u001b[2;36m \u001b[0m\u001b[34mINFO    \u001b[0m instance appears to contain \u001b[1;36m20\u001b[0m jobs, \u001b[1;36m15\u001b[0m machines                                               \n"
      ]
     },
     "metadata": {},
     "output_type": "display_data"
    },
    {
     "data": {
      "text/html": [
       "<pre style=\"white-space:pre;overflow-x:auto;line-height:normal;font-family:Menlo,'DejaVu Sans Mono',consolas,'Courier New',monospace\"><span style=\"color: #7fbfbf; text-decoration-color: #7fbfbf\">[18:23:35] </span><span style=\"color: #000080; text-decoration-color: #000080\">INFO    </span> parsing file <span style=\"color: #008000; text-decoration-color: #008000\">'resources/jsp_instances/standard/abz8.txt'</span>                                       \n",
       "</pre>\n"
      ],
      "text/plain": [
       "\u001b[2;36m[18:23:35]\u001b[0m\u001b[2;36m \u001b[0m\u001b[34mINFO    \u001b[0m parsing file \u001b[32m'resources/jsp_instances/standard/abz8.txt'\u001b[0m                                       \n"
      ]
     },
     "metadata": {},
     "output_type": "display_data"
    },
    {
     "data": {
      "text/html": [
       "<pre style=\"white-space:pre;overflow-x:auto;line-height:normal;font-family:Menlo,'DejaVu Sans Mono',consolas,'Courier New',monospace\"><span style=\"color: #7fbfbf; text-decoration-color: #7fbfbf\">           </span><span style=\"color: #000080; text-decoration-color: #000080\">INFO    </span> instance appears to contain <span style=\"color: #008080; text-decoration-color: #008080; font-weight: bold\">20</span> jobs, <span style=\"color: #008080; text-decoration-color: #008080; font-weight: bold\">15</span> machines                                               \n",
       "</pre>\n"
      ],
      "text/plain": [
       "\u001b[2;36m          \u001b[0m\u001b[2;36m \u001b[0m\u001b[34mINFO    \u001b[0m instance appears to contain \u001b[1;36m20\u001b[0m jobs, \u001b[1;36m15\u001b[0m machines                                               \n"
      ]
     },
     "metadata": {},
     "output_type": "display_data"
    },
    {
     "data": {
      "text/html": [
       "<pre style=\"white-space:pre;overflow-x:auto;line-height:normal;font-family:Menlo,'DejaVu Sans Mono',consolas,'Courier New',monospace\"><span style=\"color: #7fbfbf; text-decoration-color: #7fbfbf\">           </span><span style=\"color: #000080; text-decoration-color: #000080\">INFO    </span> parsing file <span style=\"color: #008000; text-decoration-color: #008000\">'resources/jsp_instances/standard/abz8.txt'</span>                                       \n",
       "</pre>\n"
      ],
      "text/plain": [
       "\u001b[2;36m          \u001b[0m\u001b[2;36m \u001b[0m\u001b[34mINFO    \u001b[0m parsing file \u001b[32m'resources/jsp_instances/standard/abz8.txt'\u001b[0m                                       \n"
      ]
     },
     "metadata": {},
     "output_type": "display_data"
    },
    {
     "data": {
      "text/html": [
       "<pre style=\"white-space:pre;overflow-x:auto;line-height:normal;font-family:Menlo,'DejaVu Sans Mono',consolas,'Courier New',monospace\"><span style=\"color: #7fbfbf; text-decoration-color: #7fbfbf\">           </span><span style=\"color: #000080; text-decoration-color: #000080\">INFO    </span> instance appears to contain <span style=\"color: #008080; text-decoration-color: #008080; font-weight: bold\">20</span> jobs, <span style=\"color: #008080; text-decoration-color: #008080; font-weight: bold\">15</span> machines                                               \n",
       "</pre>\n"
      ],
      "text/plain": [
       "\u001b[2;36m          \u001b[0m\u001b[2;36m \u001b[0m\u001b[34mINFO    \u001b[0m instance appears to contain \u001b[1;36m20\u001b[0m jobs, \u001b[1;36m15\u001b[0m machines                                               \n"
      ]
     },
     "metadata": {},
     "output_type": "display_data"
    },
    {
     "data": {
      "text/html": [
       "<pre style=\"white-space:pre;overflow-x:auto;line-height:normal;font-family:Menlo,'DejaVu Sans Mono',consolas,'Courier New',monospace\"><span style=\"color: #7fbfbf; text-decoration-color: #7fbfbf\">           </span><span style=\"color: #000080; text-decoration-color: #000080\">INFO    </span> parsing file <span style=\"color: #008000; text-decoration-color: #008000\">'resources/jsp_instances/standard/abz8.txt'</span>                                       \n",
       "</pre>\n"
      ],
      "text/plain": [
       "\u001b[2;36m          \u001b[0m\u001b[2;36m \u001b[0m\u001b[34mINFO    \u001b[0m parsing file \u001b[32m'resources/jsp_instances/standard/abz8.txt'\u001b[0m                                       \n"
      ]
     },
     "metadata": {},
     "output_type": "display_data"
    },
    {
     "data": {
      "text/html": [
       "<pre style=\"white-space:pre;overflow-x:auto;line-height:normal;font-family:Menlo,'DejaVu Sans Mono',consolas,'Courier New',monospace\"><span style=\"color: #7fbfbf; text-decoration-color: #7fbfbf\">           </span><span style=\"color: #000080; text-decoration-color: #000080\">INFO    </span> instance appears to contain <span style=\"color: #008080; text-decoration-color: #008080; font-weight: bold\">20</span> jobs, <span style=\"color: #008080; text-decoration-color: #008080; font-weight: bold\">15</span> machines                                               \n",
       "</pre>\n"
      ],
      "text/plain": [
       "\u001b[2;36m          \u001b[0m\u001b[2;36m \u001b[0m\u001b[34mINFO    \u001b[0m instance appears to contain \u001b[1;36m20\u001b[0m jobs, \u001b[1;36m15\u001b[0m machines                                               \n"
      ]
     },
     "metadata": {},
     "output_type": "display_data"
    },
    {
     "data": {
      "text/html": [
       "<pre style=\"white-space:pre;overflow-x:auto;line-height:normal;font-family:Menlo,'DejaVu Sans Mono',consolas,'Courier New',monospace\"><span style=\"color: #7fbfbf; text-decoration-color: #7fbfbf\">[18:23:36] </span><span style=\"color: #000080; text-decoration-color: #000080\">INFO    </span> parsing file <span style=\"color: #008000; text-decoration-color: #008000\">'resources/jsp_instances/standard/abz8.txt'</span>                                       \n",
       "</pre>\n"
      ],
      "text/plain": [
       "\u001b[2;36m[18:23:36]\u001b[0m\u001b[2;36m \u001b[0m\u001b[34mINFO    \u001b[0m parsing file \u001b[32m'resources/jsp_instances/standard/abz8.txt'\u001b[0m                                       \n"
      ]
     },
     "metadata": {},
     "output_type": "display_data"
    },
    {
     "data": {
      "text/html": [
       "<pre style=\"white-space:pre;overflow-x:auto;line-height:normal;font-family:Menlo,'DejaVu Sans Mono',consolas,'Courier New',monospace\"><span style=\"color: #7fbfbf; text-decoration-color: #7fbfbf\">           </span><span style=\"color: #000080; text-decoration-color: #000080\">INFO    </span> instance appears to contain <span style=\"color: #008080; text-decoration-color: #008080; font-weight: bold\">20</span> jobs, <span style=\"color: #008080; text-decoration-color: #008080; font-weight: bold\">15</span> machines                                               \n",
       "</pre>\n"
      ],
      "text/plain": [
       "\u001b[2;36m          \u001b[0m\u001b[2;36m \u001b[0m\u001b[34mINFO    \u001b[0m instance appears to contain \u001b[1;36m20\u001b[0m jobs, \u001b[1;36m15\u001b[0m machines                                               \n"
      ]
     },
     "metadata": {},
     "output_type": "display_data"
    },
    {
     "data": {
      "text/html": [
       "<pre style=\"white-space:pre;overflow-x:auto;line-height:normal;font-family:Menlo,'DejaVu Sans Mono',consolas,'Courier New',monospace\"><span style=\"color: #7fbfbf; text-decoration-color: #7fbfbf\">           </span><span style=\"color: #000080; text-decoration-color: #000080\">INFO    </span> parsing file <span style=\"color: #008000; text-decoration-color: #008000\">'resources/jsp_instances/standard/abz8.txt'</span>                                       \n",
       "</pre>\n"
      ],
      "text/plain": [
       "\u001b[2;36m          \u001b[0m\u001b[2;36m \u001b[0m\u001b[34mINFO    \u001b[0m parsing file \u001b[32m'resources/jsp_instances/standard/abz8.txt'\u001b[0m                                       \n"
      ]
     },
     "metadata": {},
     "output_type": "display_data"
    },
    {
     "data": {
      "text/html": [
       "<pre style=\"white-space:pre;overflow-x:auto;line-height:normal;font-family:Menlo,'DejaVu Sans Mono',consolas,'Courier New',monospace\"><span style=\"color: #7fbfbf; text-decoration-color: #7fbfbf\">           </span><span style=\"color: #000080; text-decoration-color: #000080\">INFO    </span> instance appears to contain <span style=\"color: #008080; text-decoration-color: #008080; font-weight: bold\">20</span> jobs, <span style=\"color: #008080; text-decoration-color: #008080; font-weight: bold\">15</span> machines                                               \n",
       "</pre>\n"
      ],
      "text/plain": [
       "\u001b[2;36m          \u001b[0m\u001b[2;36m \u001b[0m\u001b[34mINFO    \u001b[0m instance appears to contain \u001b[1;36m20\u001b[0m jobs, \u001b[1;36m15\u001b[0m machines                                               \n"
      ]
     },
     "metadata": {},
     "output_type": "display_data"
    },
    {
     "data": {
      "text/html": [
       "<pre style=\"white-space:pre;overflow-x:auto;line-height:normal;font-family:Menlo,'DejaVu Sans Mono',consolas,'Courier New',monospace\"><span style=\"color: #7fbfbf; text-decoration-color: #7fbfbf\">           </span><span style=\"color: #000080; text-decoration-color: #000080\">INFO    </span> parsing file <span style=\"color: #008000; text-decoration-color: #008000\">'resources/jsp_instances/standard/abz8.txt'</span>                                       \n",
       "</pre>\n"
      ],
      "text/plain": [
       "\u001b[2;36m          \u001b[0m\u001b[2;36m \u001b[0m\u001b[34mINFO    \u001b[0m parsing file \u001b[32m'resources/jsp_instances/standard/abz8.txt'\u001b[0m                                       \n"
      ]
     },
     "metadata": {},
     "output_type": "display_data"
    },
    {
     "data": {
      "text/html": [
       "<pre style=\"white-space:pre;overflow-x:auto;line-height:normal;font-family:Menlo,'DejaVu Sans Mono',consolas,'Courier New',monospace\"><span style=\"color: #7fbfbf; text-decoration-color: #7fbfbf\">           </span><span style=\"color: #000080; text-decoration-color: #000080\">INFO    </span> instance appears to contain <span style=\"color: #008080; text-decoration-color: #008080; font-weight: bold\">20</span> jobs, <span style=\"color: #008080; text-decoration-color: #008080; font-weight: bold\">15</span> machines                                               \n",
       "</pre>\n"
      ],
      "text/plain": [
       "\u001b[2;36m          \u001b[0m\u001b[2;36m \u001b[0m\u001b[34mINFO    \u001b[0m instance appears to contain \u001b[1;36m20\u001b[0m jobs, \u001b[1;36m15\u001b[0m machines                                               \n"
      ]
     },
     "metadata": {},
     "output_type": "display_data"
    },
    {
     "data": {
      "text/html": [
       "<pre style=\"white-space:pre;overflow-x:auto;line-height:normal;font-family:Menlo,'DejaVu Sans Mono',consolas,'Courier New',monospace\"><span style=\"color: #7fbfbf; text-decoration-color: #7fbfbf\">[18:23:37] </span><span style=\"color: #000080; text-decoration-color: #000080\">INFO    </span> parsing file <span style=\"color: #008000; text-decoration-color: #008000\">'resources/jsp_instances/standard/abz8.txt'</span>                                       \n",
       "</pre>\n"
      ],
      "text/plain": [
       "\u001b[2;36m[18:23:37]\u001b[0m\u001b[2;36m \u001b[0m\u001b[34mINFO    \u001b[0m parsing file \u001b[32m'resources/jsp_instances/standard/abz8.txt'\u001b[0m                                       \n"
      ]
     },
     "metadata": {},
     "output_type": "display_data"
    },
    {
     "data": {
      "text/html": [
       "<pre style=\"white-space:pre;overflow-x:auto;line-height:normal;font-family:Menlo,'DejaVu Sans Mono',consolas,'Courier New',monospace\"><span style=\"color: #7fbfbf; text-decoration-color: #7fbfbf\">           </span><span style=\"color: #000080; text-decoration-color: #000080\">INFO    </span> instance appears to contain <span style=\"color: #008080; text-decoration-color: #008080; font-weight: bold\">20</span> jobs, <span style=\"color: #008080; text-decoration-color: #008080; font-weight: bold\">15</span> machines                                               \n",
       "</pre>\n"
      ],
      "text/plain": [
       "\u001b[2;36m          \u001b[0m\u001b[2;36m \u001b[0m\u001b[34mINFO    \u001b[0m instance appears to contain \u001b[1;36m20\u001b[0m jobs, \u001b[1;36m15\u001b[0m machines                                               \n"
      ]
     },
     "metadata": {},
     "output_type": "display_data"
    },
    {
     "data": {
      "text/html": [
       "<pre style=\"white-space:pre;overflow-x:auto;line-height:normal;font-family:Menlo,'DejaVu Sans Mono',consolas,'Courier New',monospace\"><span style=\"color: #7fbfbf; text-decoration-color: #7fbfbf\">           </span><span style=\"color: #000080; text-decoration-color: #000080\">INFO    </span> parsing file <span style=\"color: #008000; text-decoration-color: #008000\">'resources/jsp_instances/standard/abz8.txt'</span>                                       \n",
       "</pre>\n"
      ],
      "text/plain": [
       "\u001b[2;36m          \u001b[0m\u001b[2;36m \u001b[0m\u001b[34mINFO    \u001b[0m parsing file \u001b[32m'resources/jsp_instances/standard/abz8.txt'\u001b[0m                                       \n"
      ]
     },
     "metadata": {},
     "output_type": "display_data"
    },
    {
     "data": {
      "text/html": [
       "<pre style=\"white-space:pre;overflow-x:auto;line-height:normal;font-family:Menlo,'DejaVu Sans Mono',consolas,'Courier New',monospace\"><span style=\"color: #7fbfbf; text-decoration-color: #7fbfbf\">           </span><span style=\"color: #000080; text-decoration-color: #000080\">INFO    </span> instance appears to contain <span style=\"color: #008080; text-decoration-color: #008080; font-weight: bold\">20</span> jobs, <span style=\"color: #008080; text-decoration-color: #008080; font-weight: bold\">15</span> machines                                               \n",
       "</pre>\n"
      ],
      "text/plain": [
       "\u001b[2;36m          \u001b[0m\u001b[2;36m \u001b[0m\u001b[34mINFO    \u001b[0m instance appears to contain \u001b[1;36m20\u001b[0m jobs, \u001b[1;36m15\u001b[0m machines                                               \n"
      ]
     },
     "metadata": {},
     "output_type": "display_data"
    },
    {
     "data": {
      "text/html": [
       "<pre style=\"white-space:pre;overflow-x:auto;line-height:normal;font-family:Menlo,'DejaVu Sans Mono',consolas,'Courier New',monospace\"><span style=\"color: #7fbfbf; text-decoration-color: #7fbfbf\">           </span><span style=\"color: #000080; text-decoration-color: #000080\">INFO    </span> parsing file <span style=\"color: #008000; text-decoration-color: #008000\">'resources/jsp_instances/standard/abz8.txt'</span>                                       \n",
       "</pre>\n"
      ],
      "text/plain": [
       "\u001b[2;36m          \u001b[0m\u001b[2;36m \u001b[0m\u001b[34mINFO    \u001b[0m parsing file \u001b[32m'resources/jsp_instances/standard/abz8.txt'\u001b[0m                                       \n"
      ]
     },
     "metadata": {},
     "output_type": "display_data"
    },
    {
     "data": {
      "text/html": [
       "<pre style=\"white-space:pre;overflow-x:auto;line-height:normal;font-family:Menlo,'DejaVu Sans Mono',consolas,'Courier New',monospace\"><span style=\"color: #7fbfbf; text-decoration-color: #7fbfbf\">           </span><span style=\"color: #000080; text-decoration-color: #000080\">INFO    </span> instance appears to contain <span style=\"color: #008080; text-decoration-color: #008080; font-weight: bold\">20</span> jobs, <span style=\"color: #008080; text-decoration-color: #008080; font-weight: bold\">15</span> machines                                               \n",
       "</pre>\n"
      ],
      "text/plain": [
       "\u001b[2;36m          \u001b[0m\u001b[2;36m \u001b[0m\u001b[34mINFO    \u001b[0m instance appears to contain \u001b[1;36m20\u001b[0m jobs, \u001b[1;36m15\u001b[0m machines                                               \n"
      ]
     },
     "metadata": {},
     "output_type": "display_data"
    },
    {
     "data": {
      "text/html": [
       "<pre style=\"white-space:pre;overflow-x:auto;line-height:normal;font-family:Menlo,'DejaVu Sans Mono',consolas,'Courier New',monospace\"><span style=\"color: #7fbfbf; text-decoration-color: #7fbfbf\">[18:23:38] </span><span style=\"color: #000080; text-decoration-color: #000080\">INFO    </span> parsing file <span style=\"color: #008000; text-decoration-color: #008000\">'resources/jsp_instances/standard/abz8.txt'</span>                                       \n",
       "</pre>\n"
      ],
      "text/plain": [
       "\u001b[2;36m[18:23:38]\u001b[0m\u001b[2;36m \u001b[0m\u001b[34mINFO    \u001b[0m parsing file \u001b[32m'resources/jsp_instances/standard/abz8.txt'\u001b[0m                                       \n"
      ]
     },
     "metadata": {},
     "output_type": "display_data"
    },
    {
     "data": {
      "text/html": [
       "<pre style=\"white-space:pre;overflow-x:auto;line-height:normal;font-family:Menlo,'DejaVu Sans Mono',consolas,'Courier New',monospace\"><span style=\"color: #7fbfbf; text-decoration-color: #7fbfbf\">           </span><span style=\"color: #000080; text-decoration-color: #000080\">INFO    </span> instance appears to contain <span style=\"color: #008080; text-decoration-color: #008080; font-weight: bold\">20</span> jobs, <span style=\"color: #008080; text-decoration-color: #008080; font-weight: bold\">15</span> machines                                               \n",
       "</pre>\n"
      ],
      "text/plain": [
       "\u001b[2;36m          \u001b[0m\u001b[2;36m \u001b[0m\u001b[34mINFO    \u001b[0m instance appears to contain \u001b[1;36m20\u001b[0m jobs, \u001b[1;36m15\u001b[0m machines                                               \n"
      ]
     },
     "metadata": {},
     "output_type": "display_data"
    },
    {
     "data": {
      "text/html": [
       "<pre style=\"white-space:pre;overflow-x:auto;line-height:normal;font-family:Menlo,'DejaVu Sans Mono',consolas,'Courier New',monospace\"><span style=\"color: #7fbfbf; text-decoration-color: #7fbfbf\">           </span><span style=\"color: #000080; text-decoration-color: #000080\">INFO    </span> parsing file <span style=\"color: #008000; text-decoration-color: #008000\">'resources/jsp_instances/standard/abz8.txt'</span>                                       \n",
       "</pre>\n"
      ],
      "text/plain": [
       "\u001b[2;36m          \u001b[0m\u001b[2;36m \u001b[0m\u001b[34mINFO    \u001b[0m parsing file \u001b[32m'resources/jsp_instances/standard/abz8.txt'\u001b[0m                                       \n"
      ]
     },
     "metadata": {},
     "output_type": "display_data"
    },
    {
     "data": {
      "text/html": [
       "<pre style=\"white-space:pre;overflow-x:auto;line-height:normal;font-family:Menlo,'DejaVu Sans Mono',consolas,'Courier New',monospace\"><span style=\"color: #7fbfbf; text-decoration-color: #7fbfbf\">           </span><span style=\"color: #000080; text-decoration-color: #000080\">INFO    </span> instance appears to contain <span style=\"color: #008080; text-decoration-color: #008080; font-weight: bold\">20</span> jobs, <span style=\"color: #008080; text-decoration-color: #008080; font-weight: bold\">15</span> machines                                               \n",
       "</pre>\n"
      ],
      "text/plain": [
       "\u001b[2;36m          \u001b[0m\u001b[2;36m \u001b[0m\u001b[34mINFO    \u001b[0m instance appears to contain \u001b[1;36m20\u001b[0m jobs, \u001b[1;36m15\u001b[0m machines                                               \n"
      ]
     },
     "metadata": {},
     "output_type": "display_data"
    },
    {
     "data": {
      "text/html": [
       "<pre style=\"white-space:pre;overflow-x:auto;line-height:normal;font-family:Menlo,'DejaVu Sans Mono',consolas,'Courier New',monospace\"><span style=\"color: #7fbfbf; text-decoration-color: #7fbfbf\">           </span><span style=\"color: #000080; text-decoration-color: #000080\">INFO    </span> parsing file <span style=\"color: #008000; text-decoration-color: #008000\">'resources/jsp_instances/standard/abz8.txt'</span>                                       \n",
       "</pre>\n"
      ],
      "text/plain": [
       "\u001b[2;36m          \u001b[0m\u001b[2;36m \u001b[0m\u001b[34mINFO    \u001b[0m parsing file \u001b[32m'resources/jsp_instances/standard/abz8.txt'\u001b[0m                                       \n"
      ]
     },
     "metadata": {},
     "output_type": "display_data"
    },
    {
     "data": {
      "text/html": [
       "<pre style=\"white-space:pre;overflow-x:auto;line-height:normal;font-family:Menlo,'DejaVu Sans Mono',consolas,'Courier New',monospace\"><span style=\"color: #7fbfbf; text-decoration-color: #7fbfbf\">           </span><span style=\"color: #000080; text-decoration-color: #000080\">INFO    </span> instance appears to contain <span style=\"color: #008080; text-decoration-color: #008080; font-weight: bold\">20</span> jobs, <span style=\"color: #008080; text-decoration-color: #008080; font-weight: bold\">15</span> machines                                               \n",
       "</pre>\n"
      ],
      "text/plain": [
       "\u001b[2;36m          \u001b[0m\u001b[2;36m \u001b[0m\u001b[34mINFO    \u001b[0m instance appears to contain \u001b[1;36m20\u001b[0m jobs, \u001b[1;36m15\u001b[0m machines                                               \n"
      ]
     },
     "metadata": {},
     "output_type": "display_data"
    },
    {
     "data": {
      "text/html": [
       "<pre style=\"white-space:pre;overflow-x:auto;line-height:normal;font-family:Menlo,'DejaVu Sans Mono',consolas,'Courier New',monospace\"><span style=\"color: #7fbfbf; text-decoration-color: #7fbfbf\">[18:23:39] </span><span style=\"color: #000080; text-decoration-color: #000080\">INFO    </span> parsing file <span style=\"color: #008000; text-decoration-color: #008000\">'resources/jsp_instances/standard/abz8.txt'</span>                                       \n",
       "</pre>\n"
      ],
      "text/plain": [
       "\u001b[2;36m[18:23:39]\u001b[0m\u001b[2;36m \u001b[0m\u001b[34mINFO    \u001b[0m parsing file \u001b[32m'resources/jsp_instances/standard/abz8.txt'\u001b[0m                                       \n"
      ]
     },
     "metadata": {},
     "output_type": "display_data"
    },
    {
     "data": {
      "text/html": [
       "<pre style=\"white-space:pre;overflow-x:auto;line-height:normal;font-family:Menlo,'DejaVu Sans Mono',consolas,'Courier New',monospace\"><span style=\"color: #7fbfbf; text-decoration-color: #7fbfbf\">           </span><span style=\"color: #000080; text-decoration-color: #000080\">INFO    </span> instance appears to contain <span style=\"color: #008080; text-decoration-color: #008080; font-weight: bold\">20</span> jobs, <span style=\"color: #008080; text-decoration-color: #008080; font-weight: bold\">15</span> machines                                               \n",
       "</pre>\n"
      ],
      "text/plain": [
       "\u001b[2;36m          \u001b[0m\u001b[2;36m \u001b[0m\u001b[34mINFO    \u001b[0m instance appears to contain \u001b[1;36m20\u001b[0m jobs, \u001b[1;36m15\u001b[0m machines                                               \n"
      ]
     },
     "metadata": {},
     "output_type": "display_data"
    },
    {
     "data": {
      "text/html": [
       "<pre style=\"white-space:pre;overflow-x:auto;line-height:normal;font-family:Menlo,'DejaVu Sans Mono',consolas,'Courier New',monospace\"><span style=\"color: #7fbfbf; text-decoration-color: #7fbfbf\">           </span><span style=\"color: #000080; text-decoration-color: #000080\">INFO    </span> parsing file <span style=\"color: #008000; text-decoration-color: #008000\">'resources/jsp_instances/standard/abz8.txt'</span>                                       \n",
       "</pre>\n"
      ],
      "text/plain": [
       "\u001b[2;36m          \u001b[0m\u001b[2;36m \u001b[0m\u001b[34mINFO    \u001b[0m parsing file \u001b[32m'resources/jsp_instances/standard/abz8.txt'\u001b[0m                                       \n"
      ]
     },
     "metadata": {},
     "output_type": "display_data"
    },
    {
     "data": {
      "text/html": [
       "<pre style=\"white-space:pre;overflow-x:auto;line-height:normal;font-family:Menlo,'DejaVu Sans Mono',consolas,'Courier New',monospace\"><span style=\"color: #7fbfbf; text-decoration-color: #7fbfbf\">           </span><span style=\"color: #000080; text-decoration-color: #000080\">INFO    </span> instance appears to contain <span style=\"color: #008080; text-decoration-color: #008080; font-weight: bold\">20</span> jobs, <span style=\"color: #008080; text-decoration-color: #008080; font-weight: bold\">15</span> machines                                               \n",
       "</pre>\n"
      ],
      "text/plain": [
       "\u001b[2;36m          \u001b[0m\u001b[2;36m \u001b[0m\u001b[34mINFO    \u001b[0m instance appears to contain \u001b[1;36m20\u001b[0m jobs, \u001b[1;36m15\u001b[0m machines                                               \n"
      ]
     },
     "metadata": {},
     "output_type": "display_data"
    },
    {
     "data": {
      "text/html": [
       "<pre style=\"white-space:pre;overflow-x:auto;line-height:normal;font-family:Menlo,'DejaVu Sans Mono',consolas,'Courier New',monospace\"><span style=\"color: #7fbfbf; text-decoration-color: #7fbfbf\">           </span><span style=\"color: #000080; text-decoration-color: #000080\">INFO    </span> parsing file <span style=\"color: #008000; text-decoration-color: #008000\">'resources/jsp_instances/standard/abz8.txt'</span>                                       \n",
       "</pre>\n"
      ],
      "text/plain": [
       "\u001b[2;36m          \u001b[0m\u001b[2;36m \u001b[0m\u001b[34mINFO    \u001b[0m parsing file \u001b[32m'resources/jsp_instances/standard/abz8.txt'\u001b[0m                                       \n"
      ]
     },
     "metadata": {},
     "output_type": "display_data"
    },
    {
     "data": {
      "text/html": [
       "<pre style=\"white-space:pre;overflow-x:auto;line-height:normal;font-family:Menlo,'DejaVu Sans Mono',consolas,'Courier New',monospace\"><span style=\"color: #7fbfbf; text-decoration-color: #7fbfbf\">           </span><span style=\"color: #000080; text-decoration-color: #000080\">INFO    </span> instance appears to contain <span style=\"color: #008080; text-decoration-color: #008080; font-weight: bold\">20</span> jobs, <span style=\"color: #008080; text-decoration-color: #008080; font-weight: bold\">15</span> machines                                               \n",
       "</pre>\n"
      ],
      "text/plain": [
       "\u001b[2;36m          \u001b[0m\u001b[2;36m \u001b[0m\u001b[34mINFO    \u001b[0m instance appears to contain \u001b[1;36m20\u001b[0m jobs, \u001b[1;36m15\u001b[0m machines                                               \n"
      ]
     },
     "metadata": {},
     "output_type": "display_data"
    },
    {
     "data": {
      "text/html": [
       "<pre style=\"white-space:pre;overflow-x:auto;line-height:normal;font-family:Menlo,'DejaVu Sans Mono',consolas,'Courier New',monospace\"><span style=\"color: #7fbfbf; text-decoration-color: #7fbfbf\">[18:23:40] </span><span style=\"color: #000080; text-decoration-color: #000080\">INFO    </span> parsing file <span style=\"color: #008000; text-decoration-color: #008000\">'resources/jsp_instances/standard/abz8.txt'</span>                                       \n",
       "</pre>\n"
      ],
      "text/plain": [
       "\u001b[2;36m[18:23:40]\u001b[0m\u001b[2;36m \u001b[0m\u001b[34mINFO    \u001b[0m parsing file \u001b[32m'resources/jsp_instances/standard/abz8.txt'\u001b[0m                                       \n"
      ]
     },
     "metadata": {},
     "output_type": "display_data"
    },
    {
     "data": {
      "text/html": [
       "<pre style=\"white-space:pre;overflow-x:auto;line-height:normal;font-family:Menlo,'DejaVu Sans Mono',consolas,'Courier New',monospace\"><span style=\"color: #7fbfbf; text-decoration-color: #7fbfbf\">           </span><span style=\"color: #000080; text-decoration-color: #000080\">INFO    </span> instance appears to contain <span style=\"color: #008080; text-decoration-color: #008080; font-weight: bold\">20</span> jobs, <span style=\"color: #008080; text-decoration-color: #008080; font-weight: bold\">15</span> machines                                               \n",
       "</pre>\n"
      ],
      "text/plain": [
       "\u001b[2;36m          \u001b[0m\u001b[2;36m \u001b[0m\u001b[34mINFO    \u001b[0m instance appears to contain \u001b[1;36m20\u001b[0m jobs, \u001b[1;36m15\u001b[0m machines                                               \n"
      ]
     },
     "metadata": {},
     "output_type": "display_data"
    },
    {
     "data": {
      "text/html": [
       "<pre style=\"white-space:pre;overflow-x:auto;line-height:normal;font-family:Menlo,'DejaVu Sans Mono',consolas,'Courier New',monospace\"><span style=\"color: #7fbfbf; text-decoration-color: #7fbfbf\">           </span><span style=\"color: #000080; text-decoration-color: #000080\">INFO    </span> parsing file <span style=\"color: #008000; text-decoration-color: #008000\">'resources/jsp_instances/standard/abz8.txt'</span>                                       \n",
       "</pre>\n"
      ],
      "text/plain": [
       "\u001b[2;36m          \u001b[0m\u001b[2;36m \u001b[0m\u001b[34mINFO    \u001b[0m parsing file \u001b[32m'resources/jsp_instances/standard/abz8.txt'\u001b[0m                                       \n"
      ]
     },
     "metadata": {},
     "output_type": "display_data"
    },
    {
     "data": {
      "text/html": [
       "<pre style=\"white-space:pre;overflow-x:auto;line-height:normal;font-family:Menlo,'DejaVu Sans Mono',consolas,'Courier New',monospace\"><span style=\"color: #7fbfbf; text-decoration-color: #7fbfbf\">           </span><span style=\"color: #000080; text-decoration-color: #000080\">INFO    </span> instance appears to contain <span style=\"color: #008080; text-decoration-color: #008080; font-weight: bold\">20</span> jobs, <span style=\"color: #008080; text-decoration-color: #008080; font-weight: bold\">15</span> machines                                               \n",
       "</pre>\n"
      ],
      "text/plain": [
       "\u001b[2;36m          \u001b[0m\u001b[2;36m \u001b[0m\u001b[34mINFO    \u001b[0m instance appears to contain \u001b[1;36m20\u001b[0m jobs, \u001b[1;36m15\u001b[0m machines                                               \n"
      ]
     },
     "metadata": {},
     "output_type": "display_data"
    },
    {
     "data": {
      "text/html": [
       "<pre style=\"white-space:pre;overflow-x:auto;line-height:normal;font-family:Menlo,'DejaVu Sans Mono',consolas,'Courier New',monospace\"><span style=\"color: #7fbfbf; text-decoration-color: #7fbfbf\">           </span><span style=\"color: #000080; text-decoration-color: #000080\">INFO    </span> parsing file <span style=\"color: #008000; text-decoration-color: #008000\">'resources/jsp_instances/standard/abz8.txt'</span>                                       \n",
       "</pre>\n"
      ],
      "text/plain": [
       "\u001b[2;36m          \u001b[0m\u001b[2;36m \u001b[0m\u001b[34mINFO    \u001b[0m parsing file \u001b[32m'resources/jsp_instances/standard/abz8.txt'\u001b[0m                                       \n"
      ]
     },
     "metadata": {},
     "output_type": "display_data"
    },
    {
     "data": {
      "text/html": [
       "<pre style=\"white-space:pre;overflow-x:auto;line-height:normal;font-family:Menlo,'DejaVu Sans Mono',consolas,'Courier New',monospace\"><span style=\"color: #7fbfbf; text-decoration-color: #7fbfbf\">           </span><span style=\"color: #000080; text-decoration-color: #000080\">INFO    </span> instance appears to contain <span style=\"color: #008080; text-decoration-color: #008080; font-weight: bold\">20</span> jobs, <span style=\"color: #008080; text-decoration-color: #008080; font-weight: bold\">15</span> machines                                               \n",
       "</pre>\n"
      ],
      "text/plain": [
       "\u001b[2;36m          \u001b[0m\u001b[2;36m \u001b[0m\u001b[34mINFO    \u001b[0m instance appears to contain \u001b[1;36m20\u001b[0m jobs, \u001b[1;36m15\u001b[0m machines                                               \n"
      ]
     },
     "metadata": {},
     "output_type": "display_data"
    },
    {
     "data": {
      "text/html": [
       "<pre style=\"white-space:pre;overflow-x:auto;line-height:normal;font-family:Menlo,'DejaVu Sans Mono',consolas,'Courier New',monospace\"><span style=\"color: #7fbfbf; text-decoration-color: #7fbfbf\">[18:23:41] </span><span style=\"color: #000080; text-decoration-color: #000080\">INFO    </span> parsing file <span style=\"color: #008000; text-decoration-color: #008000\">'resources/jsp_instances/standard/abz8.txt'</span>                                       \n",
       "</pre>\n"
      ],
      "text/plain": [
       "\u001b[2;36m[18:23:41]\u001b[0m\u001b[2;36m \u001b[0m\u001b[34mINFO    \u001b[0m parsing file \u001b[32m'resources/jsp_instances/standard/abz8.txt'\u001b[0m                                       \n"
      ]
     },
     "metadata": {},
     "output_type": "display_data"
    },
    {
     "data": {
      "text/html": [
       "<pre style=\"white-space:pre;overflow-x:auto;line-height:normal;font-family:Menlo,'DejaVu Sans Mono',consolas,'Courier New',monospace\"><span style=\"color: #7fbfbf; text-decoration-color: #7fbfbf\">           </span><span style=\"color: #000080; text-decoration-color: #000080\">INFO    </span> instance appears to contain <span style=\"color: #008080; text-decoration-color: #008080; font-weight: bold\">20</span> jobs, <span style=\"color: #008080; text-decoration-color: #008080; font-weight: bold\">15</span> machines                                               \n",
       "</pre>\n"
      ],
      "text/plain": [
       "\u001b[2;36m          \u001b[0m\u001b[2;36m \u001b[0m\u001b[34mINFO    \u001b[0m instance appears to contain \u001b[1;36m20\u001b[0m jobs, \u001b[1;36m15\u001b[0m machines                                               \n"
      ]
     },
     "metadata": {},
     "output_type": "display_data"
    },
    {
     "data": {
      "text/html": [
       "<pre style=\"white-space:pre;overflow-x:auto;line-height:normal;font-family:Menlo,'DejaVu Sans Mono',consolas,'Courier New',monospace\"><span style=\"color: #7fbfbf; text-decoration-color: #7fbfbf\">           </span><span style=\"color: #000080; text-decoration-color: #000080\">INFO    </span> parsing file <span style=\"color: #008000; text-decoration-color: #008000\">'resources/jsp_instances/standard/abz8.txt'</span>                                       \n",
       "</pre>\n"
      ],
      "text/plain": [
       "\u001b[2;36m          \u001b[0m\u001b[2;36m \u001b[0m\u001b[34mINFO    \u001b[0m parsing file \u001b[32m'resources/jsp_instances/standard/abz8.txt'\u001b[0m                                       \n"
      ]
     },
     "metadata": {},
     "output_type": "display_data"
    },
    {
     "data": {
      "text/html": [
       "<pre style=\"white-space:pre;overflow-x:auto;line-height:normal;font-family:Menlo,'DejaVu Sans Mono',consolas,'Courier New',monospace\"><span style=\"color: #7fbfbf; text-decoration-color: #7fbfbf\">           </span><span style=\"color: #000080; text-decoration-color: #000080\">INFO    </span> instance appears to contain <span style=\"color: #008080; text-decoration-color: #008080; font-weight: bold\">20</span> jobs, <span style=\"color: #008080; text-decoration-color: #008080; font-weight: bold\">15</span> machines                                               \n",
       "</pre>\n"
      ],
      "text/plain": [
       "\u001b[2;36m          \u001b[0m\u001b[2;36m \u001b[0m\u001b[34mINFO    \u001b[0m instance appears to contain \u001b[1;36m20\u001b[0m jobs, \u001b[1;36m15\u001b[0m machines                                               \n"
      ]
     },
     "metadata": {},
     "output_type": "display_data"
    },
    {
     "data": {
      "text/html": [
       "<pre style=\"white-space:pre;overflow-x:auto;line-height:normal;font-family:Menlo,'DejaVu Sans Mono',consolas,'Courier New',monospace\"><span style=\"color: #7fbfbf; text-decoration-color: #7fbfbf\">           </span><span style=\"color: #000080; text-decoration-color: #000080\">INFO    </span> parsing file <span style=\"color: #008000; text-decoration-color: #008000\">'resources/jsp_instances/standard/abz8.txt'</span>                                       \n",
       "</pre>\n"
      ],
      "text/plain": [
       "\u001b[2;36m          \u001b[0m\u001b[2;36m \u001b[0m\u001b[34mINFO    \u001b[0m parsing file \u001b[32m'resources/jsp_instances/standard/abz8.txt'\u001b[0m                                       \n"
      ]
     },
     "metadata": {},
     "output_type": "display_data"
    },
    {
     "data": {
      "text/html": [
       "<pre style=\"white-space:pre;overflow-x:auto;line-height:normal;font-family:Menlo,'DejaVu Sans Mono',consolas,'Courier New',monospace\"><span style=\"color: #7fbfbf; text-decoration-color: #7fbfbf\">           </span><span style=\"color: #000080; text-decoration-color: #000080\">INFO    </span> instance appears to contain <span style=\"color: #008080; text-decoration-color: #008080; font-weight: bold\">20</span> jobs, <span style=\"color: #008080; text-decoration-color: #008080; font-weight: bold\">15</span> machines                                               \n",
       "</pre>\n"
      ],
      "text/plain": [
       "\u001b[2;36m          \u001b[0m\u001b[2;36m \u001b[0m\u001b[34mINFO    \u001b[0m instance appears to contain \u001b[1;36m20\u001b[0m jobs, \u001b[1;36m15\u001b[0m machines                                               \n"
      ]
     },
     "metadata": {},
     "output_type": "display_data"
    },
    {
     "data": {
      "text/html": [
       "<pre style=\"white-space:pre;overflow-x:auto;line-height:normal;font-family:Menlo,'DejaVu Sans Mono',consolas,'Courier New',monospace\"><span style=\"color: #7fbfbf; text-decoration-color: #7fbfbf\">[18:23:42] </span><span style=\"color: #000080; text-decoration-color: #000080\">INFO    </span> parsing file <span style=\"color: #008000; text-decoration-color: #008000\">'resources/jsp_instances/standard/abz8.txt'</span>                                       \n",
       "</pre>\n"
      ],
      "text/plain": [
       "\u001b[2;36m[18:23:42]\u001b[0m\u001b[2;36m \u001b[0m\u001b[34mINFO    \u001b[0m parsing file \u001b[32m'resources/jsp_instances/standard/abz8.txt'\u001b[0m                                       \n"
      ]
     },
     "metadata": {},
     "output_type": "display_data"
    },
    {
     "data": {
      "text/html": [
       "<pre style=\"white-space:pre;overflow-x:auto;line-height:normal;font-family:Menlo,'DejaVu Sans Mono',consolas,'Courier New',monospace\"><span style=\"color: #7fbfbf; text-decoration-color: #7fbfbf\">           </span><span style=\"color: #000080; text-decoration-color: #000080\">INFO    </span> instance appears to contain <span style=\"color: #008080; text-decoration-color: #008080; font-weight: bold\">20</span> jobs, <span style=\"color: #008080; text-decoration-color: #008080; font-weight: bold\">15</span> machines                                               \n",
       "</pre>\n"
      ],
      "text/plain": [
       "\u001b[2;36m          \u001b[0m\u001b[2;36m \u001b[0m\u001b[34mINFO    \u001b[0m instance appears to contain \u001b[1;36m20\u001b[0m jobs, \u001b[1;36m15\u001b[0m machines                                               \n"
      ]
     },
     "metadata": {},
     "output_type": "display_data"
    },
    {
     "data": {
      "text/html": [
       "<pre style=\"white-space:pre;overflow-x:auto;line-height:normal;font-family:Menlo,'DejaVu Sans Mono',consolas,'Courier New',monospace\"><span style=\"color: #7fbfbf; text-decoration-color: #7fbfbf\">           </span><span style=\"color: #000080; text-decoration-color: #000080\">INFO    </span> parsing file <span style=\"color: #008000; text-decoration-color: #008000\">'resources/jsp_instances/standard/abz8.txt'</span>                                       \n",
       "</pre>\n"
      ],
      "text/plain": [
       "\u001b[2;36m          \u001b[0m\u001b[2;36m \u001b[0m\u001b[34mINFO    \u001b[0m parsing file \u001b[32m'resources/jsp_instances/standard/abz8.txt'\u001b[0m                                       \n"
      ]
     },
     "metadata": {},
     "output_type": "display_data"
    },
    {
     "data": {
      "text/html": [
       "<pre style=\"white-space:pre;overflow-x:auto;line-height:normal;font-family:Menlo,'DejaVu Sans Mono',consolas,'Courier New',monospace\"><span style=\"color: #7fbfbf; text-decoration-color: #7fbfbf\">           </span><span style=\"color: #000080; text-decoration-color: #000080\">INFO    </span> instance appears to contain <span style=\"color: #008080; text-decoration-color: #008080; font-weight: bold\">20</span> jobs, <span style=\"color: #008080; text-decoration-color: #008080; font-weight: bold\">15</span> machines                                               \n",
       "</pre>\n"
      ],
      "text/plain": [
       "\u001b[2;36m          \u001b[0m\u001b[2;36m \u001b[0m\u001b[34mINFO    \u001b[0m instance appears to contain \u001b[1;36m20\u001b[0m jobs, \u001b[1;36m15\u001b[0m machines                                               \n"
      ]
     },
     "metadata": {},
     "output_type": "display_data"
    },
    {
     "data": {
      "text/html": [
       "<pre style=\"white-space:pre;overflow-x:auto;line-height:normal;font-family:Menlo,'DejaVu Sans Mono',consolas,'Courier New',monospace\"><span style=\"color: #7fbfbf; text-decoration-color: #7fbfbf\">           </span><span style=\"color: #000080; text-decoration-color: #000080\">INFO    </span> parsing file <span style=\"color: #008000; text-decoration-color: #008000\">'resources/jsp_instances/standard/abz8.txt'</span>                                       \n",
       "</pre>\n"
      ],
      "text/plain": [
       "\u001b[2;36m          \u001b[0m\u001b[2;36m \u001b[0m\u001b[34mINFO    \u001b[0m parsing file \u001b[32m'resources/jsp_instances/standard/abz8.txt'\u001b[0m                                       \n"
      ]
     },
     "metadata": {},
     "output_type": "display_data"
    },
    {
     "data": {
      "text/html": [
       "<pre style=\"white-space:pre;overflow-x:auto;line-height:normal;font-family:Menlo,'DejaVu Sans Mono',consolas,'Courier New',monospace\"><span style=\"color: #7fbfbf; text-decoration-color: #7fbfbf\">           </span><span style=\"color: #000080; text-decoration-color: #000080\">INFO    </span> instance appears to contain <span style=\"color: #008080; text-decoration-color: #008080; font-weight: bold\">20</span> jobs, <span style=\"color: #008080; text-decoration-color: #008080; font-weight: bold\">15</span> machines                                               \n",
       "</pre>\n"
      ],
      "text/plain": [
       "\u001b[2;36m          \u001b[0m\u001b[2;36m \u001b[0m\u001b[34mINFO    \u001b[0m instance appears to contain \u001b[1;36m20\u001b[0m jobs, \u001b[1;36m15\u001b[0m machines                                               \n"
      ]
     },
     "metadata": {},
     "output_type": "display_data"
    },
    {
     "data": {
      "text/html": [
       "<pre style=\"white-space:pre;overflow-x:auto;line-height:normal;font-family:Menlo,'DejaVu Sans Mono',consolas,'Courier New',monospace\"><span style=\"color: #7fbfbf; text-decoration-color: #7fbfbf\">[18:23:43] </span><span style=\"color: #000080; text-decoration-color: #000080\">INFO    </span> parsing file <span style=\"color: #008000; text-decoration-color: #008000\">'resources/jsp_instances/standard/abz8.txt'</span>                                       \n",
       "</pre>\n"
      ],
      "text/plain": [
       "\u001b[2;36m[18:23:43]\u001b[0m\u001b[2;36m \u001b[0m\u001b[34mINFO    \u001b[0m parsing file \u001b[32m'resources/jsp_instances/standard/abz8.txt'\u001b[0m                                       \n"
      ]
     },
     "metadata": {},
     "output_type": "display_data"
    },
    {
     "data": {
      "text/html": [
       "<pre style=\"white-space:pre;overflow-x:auto;line-height:normal;font-family:Menlo,'DejaVu Sans Mono',consolas,'Courier New',monospace\"><span style=\"color: #7fbfbf; text-decoration-color: #7fbfbf\">           </span><span style=\"color: #000080; text-decoration-color: #000080\">INFO    </span> instance appears to contain <span style=\"color: #008080; text-decoration-color: #008080; font-weight: bold\">20</span> jobs, <span style=\"color: #008080; text-decoration-color: #008080; font-weight: bold\">15</span> machines                                               \n",
       "</pre>\n"
      ],
      "text/plain": [
       "\u001b[2;36m          \u001b[0m\u001b[2;36m \u001b[0m\u001b[34mINFO    \u001b[0m instance appears to contain \u001b[1;36m20\u001b[0m jobs, \u001b[1;36m15\u001b[0m machines                                               \n"
      ]
     },
     "metadata": {},
     "output_type": "display_data"
    },
    {
     "data": {
      "text/html": [
       "<pre style=\"white-space:pre;overflow-x:auto;line-height:normal;font-family:Menlo,'DejaVu Sans Mono',consolas,'Courier New',monospace\"><span style=\"color: #7fbfbf; text-decoration-color: #7fbfbf\">           </span><span style=\"color: #000080; text-decoration-color: #000080\">INFO    </span> parsing file <span style=\"color: #008000; text-decoration-color: #008000\">'resources/jsp_instances/standard/abz8.txt'</span>                                       \n",
       "</pre>\n"
      ],
      "text/plain": [
       "\u001b[2;36m          \u001b[0m\u001b[2;36m \u001b[0m\u001b[34mINFO    \u001b[0m parsing file \u001b[32m'resources/jsp_instances/standard/abz8.txt'\u001b[0m                                       \n"
      ]
     },
     "metadata": {},
     "output_type": "display_data"
    },
    {
     "data": {
      "text/html": [
       "<pre style=\"white-space:pre;overflow-x:auto;line-height:normal;font-family:Menlo,'DejaVu Sans Mono',consolas,'Courier New',monospace\"><span style=\"color: #7fbfbf; text-decoration-color: #7fbfbf\">           </span><span style=\"color: #000080; text-decoration-color: #000080\">INFO    </span> instance appears to contain <span style=\"color: #008080; text-decoration-color: #008080; font-weight: bold\">20</span> jobs, <span style=\"color: #008080; text-decoration-color: #008080; font-weight: bold\">15</span> machines                                               \n",
       "</pre>\n"
      ],
      "text/plain": [
       "\u001b[2;36m          \u001b[0m\u001b[2;36m \u001b[0m\u001b[34mINFO    \u001b[0m instance appears to contain \u001b[1;36m20\u001b[0m jobs, \u001b[1;36m15\u001b[0m machines                                               \n"
      ]
     },
     "metadata": {},
     "output_type": "display_data"
    },
    {
     "data": {
      "text/html": [
       "<pre style=\"white-space:pre;overflow-x:auto;line-height:normal;font-family:Menlo,'DejaVu Sans Mono',consolas,'Courier New',monospace\"><span style=\"color: #7fbfbf; text-decoration-color: #7fbfbf\">           </span><span style=\"color: #000080; text-decoration-color: #000080\">INFO    </span> parsing file <span style=\"color: #008000; text-decoration-color: #008000\">'resources/jsp_instances/standard/abz8.txt'</span>                                       \n",
       "</pre>\n"
      ],
      "text/plain": [
       "\u001b[2;36m          \u001b[0m\u001b[2;36m \u001b[0m\u001b[34mINFO    \u001b[0m parsing file \u001b[32m'resources/jsp_instances/standard/abz8.txt'\u001b[0m                                       \n"
      ]
     },
     "metadata": {},
     "output_type": "display_data"
    },
    {
     "data": {
      "text/html": [
       "<pre style=\"white-space:pre;overflow-x:auto;line-height:normal;font-family:Menlo,'DejaVu Sans Mono',consolas,'Courier New',monospace\"><span style=\"color: #7fbfbf; text-decoration-color: #7fbfbf\">           </span><span style=\"color: #000080; text-decoration-color: #000080\">INFO    </span> instance appears to contain <span style=\"color: #008080; text-decoration-color: #008080; font-weight: bold\">20</span> jobs, <span style=\"color: #008080; text-decoration-color: #008080; font-weight: bold\">15</span> machines                                               \n",
       "</pre>\n"
      ],
      "text/plain": [
       "\u001b[2;36m          \u001b[0m\u001b[2;36m \u001b[0m\u001b[34mINFO    \u001b[0m instance appears to contain \u001b[1;36m20\u001b[0m jobs, \u001b[1;36m15\u001b[0m machines                                               \n"
      ]
     },
     "metadata": {},
     "output_type": "display_data"
    },
    {
     "data": {
      "text/html": [
       "<pre style=\"white-space:pre;overflow-x:auto;line-height:normal;font-family:Menlo,'DejaVu Sans Mono',consolas,'Courier New',monospace\"><span style=\"color: #7fbfbf; text-decoration-color: #7fbfbf\">[18:23:44] </span><span style=\"color: #000080; text-decoration-color: #000080\">INFO    </span> parsing file <span style=\"color: #008000; text-decoration-color: #008000\">'resources/jsp_instances/standard/abz8.txt'</span>                                       \n",
       "</pre>\n"
      ],
      "text/plain": [
       "\u001b[2;36m[18:23:44]\u001b[0m\u001b[2;36m \u001b[0m\u001b[34mINFO    \u001b[0m parsing file \u001b[32m'resources/jsp_instances/standard/abz8.txt'\u001b[0m                                       \n"
      ]
     },
     "metadata": {},
     "output_type": "display_data"
    },
    {
     "data": {
      "text/html": [
       "<pre style=\"white-space:pre;overflow-x:auto;line-height:normal;font-family:Menlo,'DejaVu Sans Mono',consolas,'Courier New',monospace\"><span style=\"color: #7fbfbf; text-decoration-color: #7fbfbf\">           </span><span style=\"color: #000080; text-decoration-color: #000080\">INFO    </span> instance appears to contain <span style=\"color: #008080; text-decoration-color: #008080; font-weight: bold\">20</span> jobs, <span style=\"color: #008080; text-decoration-color: #008080; font-weight: bold\">15</span> machines                                               \n",
       "</pre>\n"
      ],
      "text/plain": [
       "\u001b[2;36m          \u001b[0m\u001b[2;36m \u001b[0m\u001b[34mINFO    \u001b[0m instance appears to contain \u001b[1;36m20\u001b[0m jobs, \u001b[1;36m15\u001b[0m machines                                               \n"
      ]
     },
     "metadata": {},
     "output_type": "display_data"
    },
    {
     "data": {
      "text/html": [
       "<pre style=\"white-space:pre;overflow-x:auto;line-height:normal;font-family:Menlo,'DejaVu Sans Mono',consolas,'Courier New',monospace\"><span style=\"color: #7fbfbf; text-decoration-color: #7fbfbf\">           </span><span style=\"color: #000080; text-decoration-color: #000080\">INFO    </span> parsing file <span style=\"color: #008000; text-decoration-color: #008000\">'resources/jsp_instances/standard/abz8.txt'</span>                                       \n",
       "</pre>\n"
      ],
      "text/plain": [
       "\u001b[2;36m          \u001b[0m\u001b[2;36m \u001b[0m\u001b[34mINFO    \u001b[0m parsing file \u001b[32m'resources/jsp_instances/standard/abz8.txt'\u001b[0m                                       \n"
      ]
     },
     "metadata": {},
     "output_type": "display_data"
    },
    {
     "data": {
      "text/html": [
       "<pre style=\"white-space:pre;overflow-x:auto;line-height:normal;font-family:Menlo,'DejaVu Sans Mono',consolas,'Courier New',monospace\"><span style=\"color: #7fbfbf; text-decoration-color: #7fbfbf\">           </span><span style=\"color: #000080; text-decoration-color: #000080\">INFO    </span> instance appears to contain <span style=\"color: #008080; text-decoration-color: #008080; font-weight: bold\">20</span> jobs, <span style=\"color: #008080; text-decoration-color: #008080; font-weight: bold\">15</span> machines                                               \n",
       "</pre>\n"
      ],
      "text/plain": [
       "\u001b[2;36m          \u001b[0m\u001b[2;36m \u001b[0m\u001b[34mINFO    \u001b[0m instance appears to contain \u001b[1;36m20\u001b[0m jobs, \u001b[1;36m15\u001b[0m machines                                               \n"
      ]
     },
     "metadata": {},
     "output_type": "display_data"
    },
    {
     "data": {
      "text/html": [
       "<pre style=\"white-space:pre;overflow-x:auto;line-height:normal;font-family:Menlo,'DejaVu Sans Mono',consolas,'Courier New',monospace\"><span style=\"color: #7fbfbf; text-decoration-color: #7fbfbf\">           </span><span style=\"color: #000080; text-decoration-color: #000080\">INFO    </span> parsing file <span style=\"color: #008000; text-decoration-color: #008000\">'resources/jsp_instances/standard/abz8.txt'</span>                                       \n",
       "</pre>\n"
      ],
      "text/plain": [
       "\u001b[2;36m          \u001b[0m\u001b[2;36m \u001b[0m\u001b[34mINFO    \u001b[0m parsing file \u001b[32m'resources/jsp_instances/standard/abz8.txt'\u001b[0m                                       \n"
      ]
     },
     "metadata": {},
     "output_type": "display_data"
    },
    {
     "data": {
      "text/html": [
       "<pre style=\"white-space:pre;overflow-x:auto;line-height:normal;font-family:Menlo,'DejaVu Sans Mono',consolas,'Courier New',monospace\"><span style=\"color: #7fbfbf; text-decoration-color: #7fbfbf\">           </span><span style=\"color: #000080; text-decoration-color: #000080\">INFO    </span> instance appears to contain <span style=\"color: #008080; text-decoration-color: #008080; font-weight: bold\">20</span> jobs, <span style=\"color: #008080; text-decoration-color: #008080; font-weight: bold\">15</span> machines                                               \n",
       "</pre>\n"
      ],
      "text/plain": [
       "\u001b[2;36m          \u001b[0m\u001b[2;36m \u001b[0m\u001b[34mINFO    \u001b[0m instance appears to contain \u001b[1;36m20\u001b[0m jobs, \u001b[1;36m15\u001b[0m machines                                               \n"
      ]
     },
     "metadata": {},
     "output_type": "display_data"
    },
    {
     "data": {
      "text/html": [
       "<pre style=\"white-space:pre;overflow-x:auto;line-height:normal;font-family:Menlo,'DejaVu Sans Mono',consolas,'Courier New',monospace\"><span style=\"color: #7fbfbf; text-decoration-color: #7fbfbf\">[18:23:45] </span><span style=\"color: #000080; text-decoration-color: #000080\">INFO    </span> parsing file <span style=\"color: #008000; text-decoration-color: #008000\">'resources/jsp_instances/standard/abz8.txt'</span>                                       \n",
       "</pre>\n"
      ],
      "text/plain": [
       "\u001b[2;36m[18:23:45]\u001b[0m\u001b[2;36m \u001b[0m\u001b[34mINFO    \u001b[0m parsing file \u001b[32m'resources/jsp_instances/standard/abz8.txt'\u001b[0m                                       \n"
      ]
     },
     "metadata": {},
     "output_type": "display_data"
    },
    {
     "data": {
      "text/html": [
       "<pre style=\"white-space:pre;overflow-x:auto;line-height:normal;font-family:Menlo,'DejaVu Sans Mono',consolas,'Courier New',monospace\"><span style=\"color: #7fbfbf; text-decoration-color: #7fbfbf\">           </span><span style=\"color: #000080; text-decoration-color: #000080\">INFO    </span> instance appears to contain <span style=\"color: #008080; text-decoration-color: #008080; font-weight: bold\">20</span> jobs, <span style=\"color: #008080; text-decoration-color: #008080; font-weight: bold\">15</span> machines                                               \n",
       "</pre>\n"
      ],
      "text/plain": [
       "\u001b[2;36m          \u001b[0m\u001b[2;36m \u001b[0m\u001b[34mINFO    \u001b[0m instance appears to contain \u001b[1;36m20\u001b[0m jobs, \u001b[1;36m15\u001b[0m machines                                               \n"
      ]
     },
     "metadata": {},
     "output_type": "display_data"
    },
    {
     "data": {
      "text/html": [
       "<pre style=\"white-space:pre;overflow-x:auto;line-height:normal;font-family:Menlo,'DejaVu Sans Mono',consolas,'Courier New',monospace\"><span style=\"color: #7fbfbf; text-decoration-color: #7fbfbf\">           </span><span style=\"color: #000080; text-decoration-color: #000080\">INFO    </span> parsing file <span style=\"color: #008000; text-decoration-color: #008000\">'resources/jsp_instances/standard/abz8.txt'</span>                                       \n",
       "</pre>\n"
      ],
      "text/plain": [
       "\u001b[2;36m          \u001b[0m\u001b[2;36m \u001b[0m\u001b[34mINFO    \u001b[0m parsing file \u001b[32m'resources/jsp_instances/standard/abz8.txt'\u001b[0m                                       \n"
      ]
     },
     "metadata": {},
     "output_type": "display_data"
    },
    {
     "data": {
      "text/html": [
       "<pre style=\"white-space:pre;overflow-x:auto;line-height:normal;font-family:Menlo,'DejaVu Sans Mono',consolas,'Courier New',monospace\"><span style=\"color: #7fbfbf; text-decoration-color: #7fbfbf\">           </span><span style=\"color: #000080; text-decoration-color: #000080\">INFO    </span> instance appears to contain <span style=\"color: #008080; text-decoration-color: #008080; font-weight: bold\">20</span> jobs, <span style=\"color: #008080; text-decoration-color: #008080; font-weight: bold\">15</span> machines                                               \n",
       "</pre>\n"
      ],
      "text/plain": [
       "\u001b[2;36m          \u001b[0m\u001b[2;36m \u001b[0m\u001b[34mINFO    \u001b[0m instance appears to contain \u001b[1;36m20\u001b[0m jobs, \u001b[1;36m15\u001b[0m machines                                               \n"
      ]
     },
     "metadata": {},
     "output_type": "display_data"
    },
    {
     "data": {
      "text/html": [
       "<pre style=\"white-space:pre;overflow-x:auto;line-height:normal;font-family:Menlo,'DejaVu Sans Mono',consolas,'Courier New',monospace\"><span style=\"color: #7fbfbf; text-decoration-color: #7fbfbf\">           </span><span style=\"color: #000080; text-decoration-color: #000080\">INFO    </span> parsing file <span style=\"color: #008000; text-decoration-color: #008000\">'resources/jsp_instances/standard/abz8.txt'</span>                                       \n",
       "</pre>\n"
      ],
      "text/plain": [
       "\u001b[2;36m          \u001b[0m\u001b[2;36m \u001b[0m\u001b[34mINFO    \u001b[0m parsing file \u001b[32m'resources/jsp_instances/standard/abz8.txt'\u001b[0m                                       \n"
      ]
     },
     "metadata": {},
     "output_type": "display_data"
    },
    {
     "data": {
      "text/html": [
       "<pre style=\"white-space:pre;overflow-x:auto;line-height:normal;font-family:Menlo,'DejaVu Sans Mono',consolas,'Courier New',monospace\"><span style=\"color: #7fbfbf; text-decoration-color: #7fbfbf\">           </span><span style=\"color: #000080; text-decoration-color: #000080\">INFO    </span> instance appears to contain <span style=\"color: #008080; text-decoration-color: #008080; font-weight: bold\">20</span> jobs, <span style=\"color: #008080; text-decoration-color: #008080; font-weight: bold\">15</span> machines                                               \n",
       "</pre>\n"
      ],
      "text/plain": [
       "\u001b[2;36m          \u001b[0m\u001b[2;36m \u001b[0m\u001b[34mINFO    \u001b[0m instance appears to contain \u001b[1;36m20\u001b[0m jobs, \u001b[1;36m15\u001b[0m machines                                               \n"
      ]
     },
     "metadata": {},
     "output_type": "display_data"
    },
    {
     "data": {
      "text/html": [
       "<pre style=\"white-space:pre;overflow-x:auto;line-height:normal;font-family:Menlo,'DejaVu Sans Mono',consolas,'Courier New',monospace\"><span style=\"color: #7fbfbf; text-decoration-color: #7fbfbf\">[18:23:46] </span><span style=\"color: #000080; text-decoration-color: #000080\">INFO    </span> parsing file <span style=\"color: #008000; text-decoration-color: #008000\">'resources/jsp_instances/standard/abz8.txt'</span>                                       \n",
       "</pre>\n"
      ],
      "text/plain": [
       "\u001b[2;36m[18:23:46]\u001b[0m\u001b[2;36m \u001b[0m\u001b[34mINFO    \u001b[0m parsing file \u001b[32m'resources/jsp_instances/standard/abz8.txt'\u001b[0m                                       \n"
      ]
     },
     "metadata": {},
     "output_type": "display_data"
    },
    {
     "data": {
      "text/html": [
       "<pre style=\"white-space:pre;overflow-x:auto;line-height:normal;font-family:Menlo,'DejaVu Sans Mono',consolas,'Courier New',monospace\"><span style=\"color: #7fbfbf; text-decoration-color: #7fbfbf\">           </span><span style=\"color: #000080; text-decoration-color: #000080\">INFO    </span> instance appears to contain <span style=\"color: #008080; text-decoration-color: #008080; font-weight: bold\">20</span> jobs, <span style=\"color: #008080; text-decoration-color: #008080; font-weight: bold\">15</span> machines                                               \n",
       "</pre>\n"
      ],
      "text/plain": [
       "\u001b[2;36m          \u001b[0m\u001b[2;36m \u001b[0m\u001b[34mINFO    \u001b[0m instance appears to contain \u001b[1;36m20\u001b[0m jobs, \u001b[1;36m15\u001b[0m machines                                               \n"
      ]
     },
     "metadata": {},
     "output_type": "display_data"
    },
    {
     "data": {
      "text/html": [
       "<pre style=\"white-space:pre;overflow-x:auto;line-height:normal;font-family:Menlo,'DejaVu Sans Mono',consolas,'Courier New',monospace\"><span style=\"color: #7fbfbf; text-decoration-color: #7fbfbf\">           </span><span style=\"color: #000080; text-decoration-color: #000080\">INFO    </span> parsing file <span style=\"color: #008000; text-decoration-color: #008000\">'resources/jsp_instances/standard/abz8.txt'</span>                                       \n",
       "</pre>\n"
      ],
      "text/plain": [
       "\u001b[2;36m          \u001b[0m\u001b[2;36m \u001b[0m\u001b[34mINFO    \u001b[0m parsing file \u001b[32m'resources/jsp_instances/standard/abz8.txt'\u001b[0m                                       \n"
      ]
     },
     "metadata": {},
     "output_type": "display_data"
    },
    {
     "data": {
      "text/html": [
       "<pre style=\"white-space:pre;overflow-x:auto;line-height:normal;font-family:Menlo,'DejaVu Sans Mono',consolas,'Courier New',monospace\"><span style=\"color: #7fbfbf; text-decoration-color: #7fbfbf\">           </span><span style=\"color: #000080; text-decoration-color: #000080\">INFO    </span> instance appears to contain <span style=\"color: #008080; text-decoration-color: #008080; font-weight: bold\">20</span> jobs, <span style=\"color: #008080; text-decoration-color: #008080; font-weight: bold\">15</span> machines                                               \n",
       "</pre>\n"
      ],
      "text/plain": [
       "\u001b[2;36m          \u001b[0m\u001b[2;36m \u001b[0m\u001b[34mINFO    \u001b[0m instance appears to contain \u001b[1;36m20\u001b[0m jobs, \u001b[1;36m15\u001b[0m machines                                               \n"
      ]
     },
     "metadata": {},
     "output_type": "display_data"
    },
    {
     "data": {
      "text/html": [
       "<pre style=\"white-space:pre;overflow-x:auto;line-height:normal;font-family:Menlo,'DejaVu Sans Mono',consolas,'Courier New',monospace\"><span style=\"color: #7fbfbf; text-decoration-color: #7fbfbf\">           </span><span style=\"color: #000080; text-decoration-color: #000080\">INFO    </span> parsing file <span style=\"color: #008000; text-decoration-color: #008000\">'resources/jsp_instances/standard/abz8.txt'</span>                                       \n",
       "</pre>\n"
      ],
      "text/plain": [
       "\u001b[2;36m          \u001b[0m\u001b[2;36m \u001b[0m\u001b[34mINFO    \u001b[0m parsing file \u001b[32m'resources/jsp_instances/standard/abz8.txt'\u001b[0m                                       \n"
      ]
     },
     "metadata": {},
     "output_type": "display_data"
    },
    {
     "data": {
      "text/html": [
       "<pre style=\"white-space:pre;overflow-x:auto;line-height:normal;font-family:Menlo,'DejaVu Sans Mono',consolas,'Courier New',monospace\"><span style=\"color: #7fbfbf; text-decoration-color: #7fbfbf\">           </span><span style=\"color: #000080; text-decoration-color: #000080\">INFO    </span> instance appears to contain <span style=\"color: #008080; text-decoration-color: #008080; font-weight: bold\">20</span> jobs, <span style=\"color: #008080; text-decoration-color: #008080; font-weight: bold\">15</span> machines                                               \n",
       "</pre>\n"
      ],
      "text/plain": [
       "\u001b[2;36m          \u001b[0m\u001b[2;36m \u001b[0m\u001b[34mINFO    \u001b[0m instance appears to contain \u001b[1;36m20\u001b[0m jobs, \u001b[1;36m15\u001b[0m machines                                               \n"
      ]
     },
     "metadata": {},
     "output_type": "display_data"
    },
    {
     "data": {
      "text/html": [
       "<pre style=\"white-space:pre;overflow-x:auto;line-height:normal;font-family:Menlo,'DejaVu Sans Mono',consolas,'Courier New',monospace\"><span style=\"color: #7fbfbf; text-decoration-color: #7fbfbf\">[18:23:47] </span><span style=\"color: #000080; text-decoration-color: #000080\">INFO    </span> parsing file <span style=\"color: #008000; text-decoration-color: #008000\">'resources/jsp_instances/standard/abz8.txt'</span>                                       \n",
       "</pre>\n"
      ],
      "text/plain": [
       "\u001b[2;36m[18:23:47]\u001b[0m\u001b[2;36m \u001b[0m\u001b[34mINFO    \u001b[0m parsing file \u001b[32m'resources/jsp_instances/standard/abz8.txt'\u001b[0m                                       \n"
      ]
     },
     "metadata": {},
     "output_type": "display_data"
    },
    {
     "data": {
      "text/html": [
       "<pre style=\"white-space:pre;overflow-x:auto;line-height:normal;font-family:Menlo,'DejaVu Sans Mono',consolas,'Courier New',monospace\"><span style=\"color: #7fbfbf; text-decoration-color: #7fbfbf\">           </span><span style=\"color: #000080; text-decoration-color: #000080\">INFO    </span> instance appears to contain <span style=\"color: #008080; text-decoration-color: #008080; font-weight: bold\">20</span> jobs, <span style=\"color: #008080; text-decoration-color: #008080; font-weight: bold\">15</span> machines                                               \n",
       "</pre>\n"
      ],
      "text/plain": [
       "\u001b[2;36m          \u001b[0m\u001b[2;36m \u001b[0m\u001b[34mINFO    \u001b[0m instance appears to contain \u001b[1;36m20\u001b[0m jobs, \u001b[1;36m15\u001b[0m machines                                               \n"
      ]
     },
     "metadata": {},
     "output_type": "display_data"
    },
    {
     "data": {
      "text/html": [
       "<pre style=\"white-space:pre;overflow-x:auto;line-height:normal;font-family:Menlo,'DejaVu Sans Mono',consolas,'Courier New',monospace\"><span style=\"color: #7fbfbf; text-decoration-color: #7fbfbf\">           </span><span style=\"color: #000080; text-decoration-color: #000080\">INFO    </span> parsing file <span style=\"color: #008000; text-decoration-color: #008000\">'resources/jsp_instances/standard/abz8.txt'</span>                                       \n",
       "</pre>\n"
      ],
      "text/plain": [
       "\u001b[2;36m          \u001b[0m\u001b[2;36m \u001b[0m\u001b[34mINFO    \u001b[0m parsing file \u001b[32m'resources/jsp_instances/standard/abz8.txt'\u001b[0m                                       \n"
      ]
     },
     "metadata": {},
     "output_type": "display_data"
    },
    {
     "data": {
      "text/html": [
       "<pre style=\"white-space:pre;overflow-x:auto;line-height:normal;font-family:Menlo,'DejaVu Sans Mono',consolas,'Courier New',monospace\"><span style=\"color: #7fbfbf; text-decoration-color: #7fbfbf\">           </span><span style=\"color: #000080; text-decoration-color: #000080\">INFO    </span> instance appears to contain <span style=\"color: #008080; text-decoration-color: #008080; font-weight: bold\">20</span> jobs, <span style=\"color: #008080; text-decoration-color: #008080; font-weight: bold\">15</span> machines                                               \n",
       "</pre>\n"
      ],
      "text/plain": [
       "\u001b[2;36m          \u001b[0m\u001b[2;36m \u001b[0m\u001b[34mINFO    \u001b[0m instance appears to contain \u001b[1;36m20\u001b[0m jobs, \u001b[1;36m15\u001b[0m machines                                               \n"
      ]
     },
     "metadata": {},
     "output_type": "display_data"
    }
   ],
   "source": [
    "import JSSEnv\n",
    "import src.jss_graph_env.disjunctive_graph_jss_env as jss_env\n",
    "import src.jsp_instance_parser \n",
    "import time\n",
    "import gym\n",
    "import pandas as pd\n",
    "import random\n",
    "import numpy as np\n",
    "from src.jss_lite.jss_lite import jss_lite\n",
    "\n",
    "index=['klagenfurt','alex','lite']\n",
    "df=pd.DataFrame(np.zeros((3,5)),columns=['setuptime','resettime','50xactiontime','col4','col5'],index=index)\n",
    "#df=pd.DataFrame\n",
    "#df.set_index('index')\n",
    "for i in range(100):\n",
    "\n",
    "    def timer(innerfun):\n",
    "        tmp_t=time.time()\n",
    "        tmp_r=innerfun()\n",
    "        return time.time()-tmp_t,tmp_r\n",
    "\n",
    "    tmp_t=time.time()\n",
    "    env2=gym.make('jss-v1', env_config={'instance_path': 'resources/jsp_instances/standard/abz8.txt'})\n",
    "    t_1=(time.time()-tmp_t)\n",
    "    df['setuptime']['klagenfurt']+=t_1/100\n",
    "    tmp_t=time.time()\n",
    "    env_3=jss_lite()\n",
    "    t_1=time.time()-tmp_t\n",
    "    df['setuptime']['lite']+=t_1/100\n",
    "\n",
    "\n",
    "\n",
    "\n",
    "    tmp_t=time.time()\n",
    "    path='resources/jsp_instances/standard/abz8.txt'\n",
    "    curr_instance=src.jsp_instance_parser.parse_jps_standard_specification(path)\n",
    "    res,std_matrix=curr_instance\n",
    "    env_alex = jss_env.DisjunctiveGraphJssEnv(res,default_visualisations='gantt_console')\n",
    "    t_2=(time.time()-tmp_t)\n",
    "    df['setuptime']['alex']+=t_2/100\n",
    "    tmp_t=time.time()\n",
    "    t=env2.reset()\n",
    "    t_1=(time.time()-tmp_t)\n",
    "    df['resettime']['klagenfurt']+=t_1/100\n",
    "    tmp_t=time.time()\n",
    "    t2=env_alex.reset()\n",
    "    t_2=(time.time()-tmp_t)\n",
    "    df['resettime']['alex']+=t_2/100\n",
    "    tmp_t=time.time()\n",
    "    t=env_3.reset()\n",
    "    t_1=(time.time()-tmp_t)\n",
    "    df['resettime']['lite']+=t_1/100\n",
    "\n",
    "\n",
    "    state=env2.reset()\n",
    "    for i in range(50):\n",
    "        legal_action=state['action_mask']\n",
    "        action=np.random.choice(len(legal_action), 1, p=(legal_action / legal_action.sum()))[0]\n",
    "        tmp_t=time.time()\n",
    "        state, reward, done, info=env2.step(action)\n",
    "        t_1=(time.time()-tmp_t)\n",
    "        df['50xactiontime']['klagenfurt']+=t_1/50\n",
    "\n",
    "        if done==True:\n",
    "            print(f\"finished! no legal actions possible after {i} steps\")\n",
    "            break\n",
    "    state=env_3.reset()\n",
    "    for i in range(50):\n",
    "        legal_action=env_3.get_legal_actions(state)\n",
    "        action=np.random.choice(len(legal_action), 1, p=(legal_action / legal_action.sum()))[0]\n",
    "        tmp_t=time.time()\n",
    "        state, reward, done, info=env_3.step(action)\n",
    "        t_1=(time.time()-tmp_t)\n",
    "        df['50xactiontime']['lite']+=t_1/50\n",
    "\n",
    "        if done==True:\n",
    "            print(f\"finished! no legal actions possible after {i} steps\")\n",
    "            break\n",
    "\n",
    "\n",
    "\n",
    "    action_list=np.arange(0,env_alex.n_jobs*env_alex.n_machines)\n",
    "    for i in range(50):\n",
    "        action_mask=env_alex.valid_action_mask()\n",
    "        actions=action_list[action_mask]\n",
    "        next_action=random.choice(actions)\n",
    "        #next_action=actions[action_mask[0]]\n",
    "        #print(next_action)\n",
    "        tmp_t=time.time()\n",
    "        state,reward,done,info =env_alex.step(next_action)\n",
    "        t_2=(time.time()-tmp_t)\n",
    "        df['50xactiontime']['alex']+=t_2/50\n",
    "        if done == True:\n",
    "            print(f\"finished after {i} steps\")\n",
    "            break\n",
    "        #env.render()\n",
    "\n",
    "\n",
    "\n",
    "\n"
   ]
  },
  {
   "cell_type": "code",
   "execution_count": null,
   "metadata": {},
   "outputs": [],
   "source": [
    "import resource\n",
    "import plotly.express as px\n",
    "import pandas as pd\n",
    "from datetime import datetime, timedelta\n",
    "dt = datetime(2022, 1, 1, 0, 0, 0)\n",
    "#stores quatuple(job,task,start_time,finish_time) \n",
    "time_now=time.time()\n",
    "production_list=env_3.production_list\n",
    "def production_to_dict(input,i,j):\n",
    "    return(dict(Task=f\"job_{input[0]}\", Start=dt + timedelta(seconds=int(input[2])),Finish=dt + timedelta(seconds=int(input[3])),Resource=f\"machine_{i}\"))\n",
    "df=pd.DataFrame()\n",
    "liste=[]\n",
    "for i in range(10):\n",
    "    for j in range(10):\n",
    "        if production_list[i,j] is not None:\n",
    "            liste.append(production_to_dict(production_list[i,j],i,j))\n",
    "\n",
    "df_2=pd.DataFrame(liste)\n",
    "fig = px.timeline(df_2, x_start=\"Start\", x_end=\"Finish\", y=\"Task\", color=\"Resource\")\n",
    "fig.show()\n",
    "\n",
    "df = pd.DataFrame([\n",
    "    dict(Task=\"Job A\", Start='2009-01-01', Finish='2009-02-28', Resource=\"Alex\"),\n",
    "    dict(Task=\"Job B\", Start='2009-03-05', Finish='2009-04-15', Resource=\"Alex\"),\n",
    "    dict(Task=\"Job C\", Start='2009-02-20', Finish='2009-05-30', Resource=\"Max\")\n",
    "])\n",
    "\n",
    "#fig = px.timeline(df, x_start=\"Start\", x_end=\"Finish\", y=\"Resource\", color=\"Resource\")\n",
    "#fig.show()"
   ]
  },
  {
   "cell_type": "code",
   "execution_count": null,
   "metadata": {},
   "outputs": [],
   "source": []
  }
 ],
 "metadata": {
  "kernelspec": {
   "display_name": "Python 3.10.4 ('customjssp')",
   "language": "python",
   "name": "python3"
  },
  "language_info": {
   "codemirror_mode": {
    "name": "ipython",
    "version": 3
   },
   "file_extension": ".py",
   "mimetype": "text/x-python",
   "name": "python",
   "nbconvert_exporter": "python",
   "pygments_lexer": "ipython3",
   "version": "3.10.4"
  },
  "orig_nbformat": 4,
  "vscode": {
   "interpreter": {
    "hash": "7344f7b5995cbf62a990a56ee6eec8bd53f41a3aff848cd18f1feb05905aa9e3"
   }
  }
 },
 "nbformat": 4,
 "nbformat_minor": 2
}
