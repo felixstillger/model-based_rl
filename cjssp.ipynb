{
 "cells": [
  {
   "cell_type": "code",
   "execution_count": null,
   "metadata": {},
   "outputs": [],
   "source": [
    "import src.jss_graph_env.disjunctive_graph_jss_env as jss_env\n",
    "import src.jsp_instance_parser \n",
    "from ray.rllib.contrib.alpha_zero.core.alpha_zero_trainer import AlphaZeroTrainer\n",
    "import gym\n",
    "from ray import tune\n",
    "from ray.rllib.contrib.alpha_zero.models.custom_torch_models import DenseModel\n",
    "from ray.rllib.models.catalog import ModelCatalog\n",
    "from wrapper.jssp_wrapper import jssp_obs_wrapper\n",
    "from wrapper.jssp_wrapper import Jssp_wrapper\n",
    "\n",
    "config = {\n",
    "    \"framework\": \"torch\",\n",
    "    \"disable_env_checking\":True,\n",
    "    \"num_workers\"       : 0,\n",
    "    \"rollout_fragment_length\": 50,\n",
    "    \"train_batch_size\"  : 500,\n",
    "    \"sgd_minibatch_size\": 64,\n",
    "    \"lr\"                : 0.0001,\n",
    "    \"num_sgd_iter\"      : 1,\n",
    "    \"mcts_config\"       : {\n",
    "        \"puct_coefficient\"   : 1.5,\n",
    "        \"num_simulations\"    : 100,\n",
    "        \"temperature\"        : 1.0,\n",
    "        \"dirichlet_epsilon\"  : 0.20,\n",
    "        \"dirichlet_noise\"    : 0.03,\n",
    "        \"argmax_tree_policy\" : False,\n",
    "        \"add_dirichlet_noise\": True,\n",
    "    },\n",
    "    \"ranked_rewards\"    : {\n",
    "        \"enable\": True,\n",
    "    },\n",
    "    \"model\"             : {\n",
    "        \"custom_model\": \"dense_model\",\n",
    "\n",
    "    },\n",
    "}"
   ]
  },
  {
   "cell_type": "code",
   "execution_count": null,
   "metadata": {},
   "outputs": [],
   "source": [
    "\n",
    "from wrapper.jssp_wrapper import Jssp_wrapper\n",
    "\n",
    "\n",
    "def env_creator(env_config):\n",
    "    #env = discretetobox(gym.make(\"Taxi-v3\"))\n",
    "    #env = gym.make('LunarLander-v2')\n",
    "    path='resources/jsp_instances/standard/abz8.txt'\n",
    "    curr_instance=src.jsp_instance_parser.parse_jps_standard_specification(path)\n",
    "    res,std_matrix=curr_instance\n",
    "    env = jssp_obs_wrapper(jss_env.DisjunctiveGraphJssEnv(res,default_visualisations='gantt_console',reward_mode=\"opt_makespan\"))\n",
    "    return env\n",
    "ModelCatalog.register_custom_model(\"dense_model\", DenseModel)    \n",
    "tune.register_env('customjssp',env_creator)\n",
    "\n",
    "agent = AlphaZeroTrainer( config=config, env='customjssp')"
   ]
  },
  {
   "cell_type": "code",
   "execution_count": null,
   "metadata": {},
   "outputs": [],
   "source": [
    "print(\"start training\")\n",
    "for _ in range(0,150):\n",
    "    agent.train()\n",
    "    print(f\"training iteration {_} finished\")\n",
    "    #agent.save(f\"save_az/rllib_checkpoint{_}\")\n",
    "    agent.save_checkpoint(f\"training_checkpoints/checkpoints_az_jsp\")\n",
    "    #agent.save_to_object(f\"objects_az/rllib_checkpoint{_}\")"
   ]
  },
  {
   "cell_type": "code",
   "execution_count": null,
   "metadata": {},
   "outputs": [],
   "source": [
    "import numpy as np\n",
    "import random\n",
    "env.reset()\n",
    "action_space=env.action_space\n",
    "action_mask=env.valid_action_mask()\n",
    "#task_mask = self.valid_action_mask\n",
    "#job_mask = np.array_split(action_mask, 10)[action]\n",
    "action_list=[]\n",
    "\n",
    "action_list=np.arange(0,env.n_jobs*env.n_machines)\n",
    "\n",
    "\n",
    "for i in range(1000):\n",
    "    action_mask=env.valid_action_mask()\n",
    "    actions=action_list[action_mask]\n",
    "    next_action=random.choice(actions)\n",
    "    #next_action=actions[action_mask[0]]\n",
    "    #print(next_action)\n",
    "    state,reward,done,info =env.step(next_action)\n",
    "    if done == True:\n",
    "        print(f\"finished after {i} steps\")\n",
    "        break\n",
    "    #env.render()\n",
    "\n",
    "env.render()"
   ]
  },
  {
   "cell_type": "code",
   "execution_count": null,
   "metadata": {},
   "outputs": [],
   "source": [
    "env.render()"
   ]
  },
  {
   "cell_type": "code",
   "execution_count": null,
   "metadata": {},
   "outputs": [],
   "source": [
    "import src.modelbased.alphazero as az"
   ]
  },
  {
   "cell_type": "code",
   "execution_count": null,
   "metadata": {},
   "outputs": [],
   "source": []
  },
  {
   "cell_type": "code",
   "execution_count": null,
   "metadata": {},
   "outputs": [],
   "source": [
    "env.close()"
   ]
  }
 ],
 "metadata": {
  "kernelspec": {
   "display_name": "Python 3.10.4 ('customjssp')",
   "language": "python",
   "name": "python3"
  },
  "language_info": {
   "codemirror_mode": {
    "name": "ipython",
    "version": 3
   },
   "file_extension": ".py",
   "mimetype": "text/x-python",
   "name": "python",
   "nbconvert_exporter": "python",
   "pygments_lexer": "ipython3",
   "version": "3.10.4"
  },
  "orig_nbformat": 4,
  "vscode": {
   "interpreter": {
    "hash": "7344f7b5995cbf62a990a56ee6eec8bd53f41a3aff848cd18f1feb05905aa9e3"
   }
  }
 },
 "nbformat": 4,
 "nbformat_minor": 2
}
