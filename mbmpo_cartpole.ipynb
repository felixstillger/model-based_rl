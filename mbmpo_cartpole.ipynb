{
 "cells": [
  {
   "cell_type": "code",
   "execution_count": 1,
   "metadata": {},
   "outputs": [],
   "source": [
    "\"\"\"Example of using training on CartPole.\"\"\"\n",
    "\n",
    "#import argparse\n",
    "#/Users/felix/miniconda3/envs/customjssp/lib/python3.10/site-packages/ray/rllib/agents/mbmpo/model_ensemble.py\n",
    "\n",
    "import ray\n",
    "from ray import tune\n",
    "from ray.rllib.agents.mbmpo.model_ensemble import DynamicsEnsembleCustomModel\n",
    "from ray.rllib.examples.env.mbmpo_env import CartPoleWrapper\n",
    "from ray.rllib.models.catalog import ModelCatalog\n",
    "from ray.rllib.agents.mbmpo.utils import MBMPOExploration \n",
    "from ray.rllib.env.wrappers.model_vector_env import model_vector_env\n",
    "from ray.rllib.utils.deprecation import DEPRECATED_VALUE\n",
    "from ray.rllib.agents.mbmpo.mbmpo import MBMPOTrainer\n",
    "train=True\n",
    "#parser = argparse.ArgumentParser()\n",
    "#parser.add_argument(\"--num-workers\", default=6, type=int)\n",
    "#parser.add_argument(\"--training-iteration\", default=10000, type=int)\n",
    "#parser.add_argument(\"--ray-num-cpus\", default=7, type=int)\n",
    "#args = parser.parse_args()\n",
    "ray.shutdown()\n",
    "ray.init(num_cpus=7)\n",
    "\n",
    "ModelCatalog.register_custom_model(\"DynamicsEnsembleCustomModel\", DynamicsEnsembleCustomModel)\n",
    "\n",
    "config={\n",
    "    \"env\": CartPoleWrapper,\n",
    "    \"use_gae\": True,\n",
    "    # GAE(lambda) parameter.\n",
    "    \"lambda\": 1.0,\n",
    "    # Initial coefficient for KL divergence.\n",
    "    \"kl_coeff\": 0.0005,\n",
    "    # Size of batches collected from each worker.\n",
    "    \"rollout_fragment_length\": 200,\n",
    "    # Do create an actual env on the local worker (worker-idx=0).\n",
    "    \"create_env_on_driver\": True,\n",
    "    # Step size of SGD.\n",
    "    \"lr\": 1e-3,\n",
    "    # Coefficient of the value function loss.\n",
    "    \"vf_loss_coeff\": 0.5,\n",
    "    # Coefficient of the entropy regularizer.\n",
    "    \"entropy_coeff\": 0.0,\n",
    "    # PPO clip parameter.\n",
    "    \"clip_param\": 0.5,\n",
    "    # Clip param for the value function. Note that this is sensitive to the\n",
    "    # scale of the rewards. If your expected V is large, increase this.\n",
    "    \"vf_clip_param\": 10.0,\n",
    "    # If specified, clip the global norm of gradients by this amount.\n",
    "    \"grad_clip\": None,\n",
    "    # Target value for KL divergence.\n",
    "    \"kl_target\": 0.01,\n",
    "    # Whether to rollout \"complete_episodes\" or \"truncate_episodes\".\n",
    "    \"batch_mode\": \"complete_episodes\",\n",
    "    # Which observation filter to apply to the observation.\n",
    "    \"observation_filter\": \"NoFilter\",\n",
    "    # Number of Inner adaptation steps for the MAML algorithm.\n",
    "    \"inner_adaptation_steps\": 1,\n",
    "    # Number of MAML steps per meta-update iteration (PPO steps).\n",
    "    \"maml_optimizer_steps\": 8,\n",
    "    # Inner adaptation step size.\n",
    "    \"inner_lr\": 1e-3,\n",
    "    # Horizon of the environment (200 in MB-MPO paper).\n",
    "    \"horizon\": 200,\n",
    "    # Dynamics ensemble hyperparameters.\n",
    "    \"dynamics_model\": {\n",
    "        \"custom_model\": DynamicsEnsembleCustomModel,\n",
    "        # Number of Transition-Dynamics (TD) models in the ensemble.\n",
    "        \"ensemble_size\": 5,\n",
    "        # Hidden layers for each model in the TD-model ensemble.\n",
    "        \"fcnet_hiddens\": [512, 512, 512],\n",
    "        # Model learning rate.\n",
    "        \"lr\": 1e-3,\n",
    "        # Max number of training epochs per MBMPO iter.\n",
    "        \"train_epochs\": 500,\n",
    "        # Model batch size.\n",
    "        \"batch_size\": 500,\n",
    "        # Training/validation split.\n",
    "        \"valid_split_ratio\": 0.2,\n",
    "        # Normalize data (obs, action, and deltas).\n",
    "        \"normalize_data\": True,\n",
    "    },\n",
    "    # Exploration for MB-MPO is based on StochasticSampling, but uses 8000\n",
    "    # random timesteps up-front for worker=0.\n",
    "    \"exploration_config\": {\n",
    "        \"type\": MBMPOExploration,\n",
    "        \"random_timesteps\": 8000,\n",
    "    },\n",
    "    # Workers sample from dynamics models, not from actual envs.\n",
    "    \"custom_vector_env\": model_vector_env,\n",
    "    # How many iterations through MAML per MBMPO iteration.\n",
    "    \"num_maml_steps\": 10,\n",
    "\n",
    "    # Deprecated keys:\n",
    "    # Share layers for value function. If you set this to True, it's important\n",
    "    # to tune vf_loss_coeff.\n",
    "    # Use config.model.vf_share_layers instead.\n",
    "    \"vf_share_layers\": DEPRECATED_VALUE,\n",
    "}\n",
    "\n",
    "from contextlib import contextmanager\n",
    "import sys, os\n",
    "@contextmanager\n",
    "def suppress_stdout():\n",
    "    with open(os.devnull, \"w\") as devnull:\n",
    "        old_stdout = sys.stdout\n",
    "        sys.stdout = devnull\n",
    "        try:  \n",
    "            yield\n",
    "        finally:\n",
    "            sys.stdout = old_stdout"
   ]
  },
  {
   "cell_type": "code",
   "execution_count": null,
   "metadata": {},
   "outputs": [],
   "source": [
    "with suppress_stdout():\n",
    "    trainer = MBMPOTrainer(\n",
    "        config=config,\n",
    "        env=\"ray.rllib.examples.env.mbmpo_env.CartPoleWrapper\")\n",
    "\n",
    "env = CartPoleWrapper()\n",
    "iteration_list=[]\n",
    "epoch_nr=0\n",
    "for _ in range(50):\n",
    "    epoch_nr+=1\n",
    "    trainer.train()\n",
    "    print(f\"trainer trained: {epoch_nr} Epochs\")\n",
    "    trainer.save(\"/Users/felix/sciebo/masterarbeit/progra/model-based_rl/mbmpo_check\")"
   ]
  },
  {
   "cell_type": "code",
   "execution_count": 26,
   "metadata": {},
   "outputs": [
    {
     "name": "stderr",
     "output_type": "stream",
     "text": [
      "2022-08-18 11:21:04,543\tWARNING mbmpo.py:351 -- MB-MPO only supported in PyTorch so far! Switching to `framework=torch`.\n",
      "2022-08-18 11:21:04,618\tWARNING env.py:135 -- Your env doesn't have a .spec.max_episode_steps attribute. This is fine if you have set 'horizon' in your config dictionary, or `soft_horizon`. However, if you haven't, 'horizon' will default to infinity, and your environment will not be reset.\n",
      "\u001b[2m\u001b[36m(RolloutWorker pid=92894)\u001b[0m 2022-08-18 11:21:10,318\tWARNING env.py:135 -- Your env doesn't have a .spec.max_episode_steps attribute. This is fine if you have set 'horizon' in your config dictionary, or `soft_horizon`. However, if you haven't, 'horizon' will default to infinity, and your environment will not be reset.\n",
      "\u001b[2m\u001b[36m(RolloutWorker pid=92895)\u001b[0m 2022-08-18 11:21:10,318\tWARNING env.py:135 -- Your env doesn't have a .spec.max_episode_steps attribute. This is fine if you have set 'horizon' in your config dictionary, or `soft_horizon`. However, if you haven't, 'horizon' will default to infinity, and your environment will not be reset.\n",
      "2022-08-18 11:21:27,774\tINFO trainable.py:159 -- Trainable.setup took 23.232 seconds. If your trainable is slow to initialize, consider setting reuse_actors=True to reduce actor creation overheads.\n",
      "2022-08-18 11:21:27,775\tWARNING util.py:65 -- Install gputil for GPU system monitoring.\n",
      "2022-08-18 11:21:27,787\tINFO trainable.py:588 -- Restored on 127.0.0.1 from checkpoint: mbmpo_check/checkpoint_000036/checkpoint-36\n",
      "2022-08-18 11:21:27,789\tINFO trainable.py:597 -- Current state after restoring: {'_iteration': 36, '_timesteps_total': 28800, '_time_total': 1451.1462399959564, '_episodes_total': 341}\n"
     ]
    }
   ],
   "source": [
    "with suppress_stdout():\n",
    "    trainer = MBMPOTrainer(\n",
    "        config=config,\n",
    "        env=\"ray.rllib.examples.env.mbmpo_env.CartPoleWrapper\")\n",
    "trainer.restore('mbmpo_check/checkpoint_000035/checkpoint-35')"
   ]
  },
  {
   "cell_type": "code",
   "execution_count": 32,
   "metadata": {},
   "outputs": [],
   "source": [
    "reward_list=[]\n",
    "for i in range(20):\n",
    "    env = CartPoleWrapper()\n",
    "    episode_reward = 0\n",
    "    done = False\n",
    "    obs = env.reset()\n",
    "    while not done:\n",
    "        action = trainer.compute_action(obs)\n",
    "        obs, reward, done, info = env.step(action)\n",
    "        episode_reward += reward\n",
    "        #env.render()\n",
    "    env.close()\n",
    "    reward_list.append(episode_reward)"
   ]
  },
  {
   "cell_type": "code",
   "execution_count": 33,
   "metadata": {},
   "outputs": [
    {
     "data": {
      "image/png": "[encoded data removed]",
      "text/plain": [
       "<Figure size 432x288 with 1 Axes>"
      ]
     },
     "metadata": {
      "needs_background": "light"
     },
     "output_type": "display_data"
    }
   ],
   "source": [
    "import matplotlib.pyplot as plt\n",
    "plt.plot(reward_list,'bs')\n",
    "plt.ylabel('gained reward')\n",
    "plt.xlabel('runs')\n",
    "plt.title('MBPO reward in Cartpole Environment over different runs checkpoint_35')\n",
    "plt.show()"
   ]
  }
 ],
 "metadata": {
  "interpreter": {
   "hash": "76fe728b8cb1294c4ac65d2fab506d621708da3fbbfb70b14417e3341c6f7935"
  },
  "kernelspec": {
   "display_name": "Python 3.10.4 64-bit",
   "name": "python3"
  },
  "language_info": {
   "name": "python",
   "version": ""
  },
  "orig_nbformat": 4
 },
 "nbformat": 4,
 "nbformat_minor": 2
}