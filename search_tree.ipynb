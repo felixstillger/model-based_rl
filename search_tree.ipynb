{
 "cells": [
  {
   "cell_type": "code",
   "execution_count": 43,
   "metadata": {},
   "outputs": [],
   "source": [
    "from copy import deepcopy\n",
    "from wrapper.jssplight_wrapper import jssp_light_obs_wrapper\n",
    "from wrapper.jssplight_wrapper import jssp_light_obs_wrapper_multi_instances\n",
    "from wrapper.jssplight_wrapper import jssp_light_obs_wrapper_no_action_mask\n",
    "from src.jss_lite.jss_lite import jss_lite\n",
    "import numpy as np\n",
    "import time\n",
    "class tree_node:\n",
    "    def __init__(self, action=None,parent=None):\n",
    "        self.action=action\n",
    "        self.children=[]\n",
    "        self.state=None\n",
    "        self.parent=parent\n",
    "        self.observation=None\n",
    "        self.visited=False\n",
    "        # extra attributes for search:\n",
    "        self.leaf_closed=False\n",
    "class tree_construct:\n",
    "    def __init__(self):\n",
    "        # threshold for values that are as good as the threshold*max_policy\n",
    "        self.threshold=0.5\n",
    "        curr_dir='/Users/felix/sciebo/masterarbeit/progra/model-based_rl'\n",
    "        inst=curr_dir + '/resources/jsp_instances/standard/la01.txt'\n",
    "        instance_list=['/resources/jsp_instances/standard/la01.txt']#,'/resources/jsp_instances/standard/la02.txt','/resources/jsp_instances/standard/la03.txt','/resources/jsp_instances/standard/la04.txt']\n",
    "        #self.env=jssp_light_obs_wrapper_multi_instances(instances_list=[inst])\n",
    "        self.env=jssp_light_obs_wrapper_no_action_mask(jssp_light_obs_wrapper_multi_instances(instances_list=[inst]))\n",
    "        # create root\n",
    "        self.root=tree_node()\n",
    "        # get initial state into root; todo: change for multi instances, create all childs for instances\n",
    "        self.root.observation=self.env.reset()\n",
    "        self.root.state=self.env.get_state()\n",
    "        self.done=False\n",
    "        self.reward=0\n",
    "        self.trainer=self.load_trainer()\n",
    "        # path management\n",
    "        # open leafs should store the leafs with highest rating\n",
    "        self.open_leafs=[]\n",
    "        self.open_leafs.append(self.root)\n",
    "        self.current_path=self.root\n",
    "        self.sol_pathes=None\n",
    "    def insert(self,action=None,parent=None):\n",
    "        parent.children.append(tree_node(action=action,parent=self))\n",
    "        self.env.set_state(parent.state)\n",
    "        parent.children[-1].observation,reward,done,info=self.env.step(action)\n",
    "        parent.children[-1].state=self.env.get_state()\n",
    "        if done:\n",
    "            self.__on_done(reward)\n",
    "\n",
    "    def __on_done(self,reward):\n",
    "        self.done=True\n",
    "        if reward > self.reward:\n",
    "            self.reward=reward\n",
    "    def load_trainer(self):\n",
    "        from ray.rllib.agents.ppo import PPOTrainer\n",
    "        from ray import tune\n",
    "        import gym\n",
    "        from wrapper.jssplight_wrapper import jssp_light_obs_wrapper\n",
    "        from wrapper.jssplight_wrapper import jssp_light_obs_wrapper_multi_instances\n",
    "        from wrapper.jssplight_wrapper import jssp_light_obs_wrapper_no_action_mask\n",
    "        from src.jss_lite.jss_lite import jss_lite\n",
    "        from ray import tune\n",
    "        curr_dir='/Users/felix/sciebo/masterarbeit/progra/model-based_rl'\n",
    "        inst=curr_dir + '/resources/jsp_instances/standard/la01.txt'\n",
    "        instance_list=['/resources/jsp_instances/standard/la01.txt']#,'/resources/jsp_instances/standard/la02.txt','/resources/jsp_instances/standard/la03.txt','/resources/jsp_instances/standard/la04.txt']\n",
    "        # Configure the algorithm.\n",
    "        def env_creator(env_config):\n",
    "            #env=jssp_light_obs_wrapper_multi_instances(instances_list=[inst])\n",
    "            env=jssp_light_obs_wrapper_no_action_mask(jssp_light_obs_wrapper_multi_instances(instances_list=[inst]))\n",
    "            #env=jss_lite(instance_path=inst)\n",
    "            #env=jssp_light_obs_wrapper_no_action_mask(jss_lite(instance_path=inst))\n",
    "            return env\n",
    "        tune.register_env('custom_jssp',env_creator)\n",
    "        config = {\n",
    "            \"env\": \"custom_jssp\",\n",
    "            \"disable_env_checking\":True,\n",
    "            \"num_workers\": 4,\n",
    "            \"framework\": \"tf\",\n",
    "            \"model\": {\n",
    "                \"fcnet_hiddens\": [64, 64],\n",
    "                \"fcnet_activation\": \"relu\",\n",
    "            },\n",
    "            \"evaluation_num_workers\": 0,\n",
    "            \"evaluation_config\": {\n",
    "                \"render_env\": False,\n",
    "            },\n",
    "            \n",
    "        }\n",
    "        trainer = PPOTrainer(config=config)\n",
    "        trainer.load_checkpoint('/Users/felix/sciebo/masterarbeit/progra/model-based_rl/ppo/checkpoint-4')\n",
    "        return trainer\n",
    "\n",
    "    def propose_actions(self,state,observation):\n",
    "        policy = self.trainer.get_policy()\n",
    "        action, _, info = policy.compute_single_action(observation)\n",
    "        logits = info['action_dist_inputs']\n",
    "        self.env.set_state(state=state)\n",
    "        action_mask = self.env.get_legal_actions().astype(np.float32)\n",
    "        action_mask[action_mask==0] = - np.inf\n",
    "        probs=np.multiply(logits,action_mask)\n",
    "        probs[probs==np.inf]=-np.inf\n",
    "        best_action_id = probs.argmax()  # deterministic\n",
    "        #todo: check if it is good here\n",
    "        out,=np.where(probs>self.threshold*best_action_id)\n",
    "        return out, best_action_id    \n",
    "\n",
    "\n",
    "    def solve(self,max_pathes=None,max_time=None):\n",
    "        # here comes the solving method with abort conditions\n",
    "        start_time=time.time()\n",
    "        p_time=time.time()\n",
    "        self.sol_pathes=0\n",
    "\n",
    "        if max_pathes==None:\n",
    "            max_pathes=1000 \n",
    "        if max_time==None:\n",
    "            max_time=60\n",
    "        #print(self.open_leafs)\n",
    "        while self.open_leafs:\n",
    "            self.sol_pathes+=1\n",
    "            # abort conditions:\n",
    "            node=self.open_leafs.pop()\n",
    "            if self.sol_pathes > max_pathes or time.time()-start_time > max_time:\n",
    "                return False\n",
    "            while not self.done:\n",
    "                loop=0\n",
    "                \n",
    "                #possible_actions=np.random.choice(len(node.observation['action_mask']), p_r, p=(node.observation['action_mask'] / node.observation['action_mask'].sum()))\n",
    "                possible_actions, best_action = self.propose_actions(node.state,node.observation)\n",
    "                for action in set(possible_actions):\n",
    "                    if action!=best_action:\n",
    "                        #print(f\"action is: {action}\")\n",
    "                        self.insert(action=action,parent=node)\n",
    "                #assure that best action is insertet last\n",
    "                self.insert(action=best_action,parent=node)\n",
    "                for child in node.children:\n",
    "                    if child != node.children[-1]:\n",
    "                        #todo: check here if in action mask\n",
    "                        self.open_leafs.append(child)\n",
    "                while True:\n",
    "                    if node.children[-1].visited==False:\n",
    "                        node.children[-1].visited=True\n",
    "                        node=node.children[-1]\n",
    "                        \n",
    "                        break\n",
    "                    loop+=1\n",
    "                    if loop > len(node.children):\n",
    "                        print(\"all childrens visited; return done equal true\")\n",
    "                        self.done=True\n",
    "            self.done=False\n",
    "            \n",
    "\n",
    "\n"
   ]
  },
  {
   "cell_type": "code",
   "execution_count": 44,
   "metadata": {},
   "outputs": [
    {
     "name": "stderr",
     "output_type": "stream",
     "text": [
      "2022-10-26 21:28:21,330\tINFO trainable.py:159 -- Trainable.setup took 22.280 seconds. If your trainable is slow to initialize, consider setting reuse_actors=True to reduce actor creation overheads.\n"
     ]
    },
    {
     "name": "stdout",
     "output_type": "stream",
     "text": [
      "solve\n",
      "0.6126126126126126\n",
      "2\n"
     ]
    }
   ],
   "source": [
    "import ray\n",
    "ray.shutdown()\n",
    "init=tree_construct()\n",
    "print(\"solve\")\n",
    "init.solve()\n",
    "print(init.reward)\n",
    "print(init.sol_pathes)"
   ]
  },
  {
   "cell_type": "code",
   "execution_count": 1,
   "metadata": {},
   "outputs": [
    {
     "name": "stderr",
     "output_type": "stream",
     "text": [
      "2022-10-26 20:33:53,146\tINFO trainable.py:159 -- Trainable.setup took 21.243 seconds. If your trainable is slow to initialize, consider setting reuse_actors=True to reduce actor creation overheads.\n"
     ]
    }
   ],
   "source": [
    "\n",
    "from ray.rllib.agents.ppo import PPOTrainer\n",
    "from ray import tune\n",
    "import gym\n",
    "from wrapper.jssplight_wrapper import jssp_light_obs_wrapper\n",
    "from wrapper.jssplight_wrapper import jssp_light_obs_wrapper_multi_instances\n",
    "from wrapper.jssplight_wrapper import jssp_light_obs_wrapper_no_action_mask\n",
    "from src.jss_lite.jss_lite import jss_lite\n",
    "from ray import tune\n",
    "curr_dir='/Users/felix/sciebo/masterarbeit/progra/model-based_rl'\n",
    "inst=curr_dir + '/resources/jsp_instances/standard/la01.txt'\n",
    "instance_list=['/resources/jsp_instances/standard/la01.txt']#,'/resources/jsp_instances/standard/la02.txt','/resources/jsp_instances/standard/la03.txt','/resources/jsp_instances/standard/la04.txt']\n",
    "# Configure the algorithm.\n",
    "def env_creator(env_config):\n",
    "    #env=jssp_light_obs_wrapper_multi_instances(instances_list=[inst])\n",
    "    env=jssp_light_obs_wrapper_no_action_mask(jssp_light_obs_wrapper_multi_instances(instances_list=[inst]))\n",
    "    #env=jss_lite(instance_path=inst)\n",
    "    #env=jssp_light_obs_wrapper_no_action_mask(jss_lite(instance_path=inst))\n",
    "    return env\n",
    "\n",
    "# use tune to register the custom environment for the ppo trainer\n",
    "tune.register_env('custom_jssp',env_creator)\n",
    "\n",
    "\n",
    "config = {\n",
    "    # Environment (RLlib understands openAI gym registered strings).\n",
    "    #\"env\": \"CartPole-v1\",\n",
    "    \"env\": \"custom_jssp\",\n",
    "    \"disable_env_checking\":True,\n",
    "\n",
    "    # Use 2 environment workers (aka \"rollout workers\") that parallelly\n",
    "    # collect samples from their own environment clone(s).\n",
    "    \"num_workers\": 4,\n",
    "    # Change this to \"framework: torch\", if you are using PyTorch.\n",
    "    # Also, use \"framework: tf2\" for tf2.x eager execution.\n",
    "    \"framework\": \"tf\",\n",
    "    # Tweak the default model provided automatically by RLlib,\n",
    "    # given the environment's observation- and action spaces.\n",
    "    #\"horizon\":1,\n",
    "    #\"evaluation_duration\":0,\n",
    "    \"model\": {\n",
    "        \"fcnet_hiddens\": [64, 64],\n",
    "        \"fcnet_activation\": \"relu\",\n",
    "    },\n",
    "    # Set up a separate evaluation worker set for the\n",
    "    # `trainer.evaluate()` call after training (see below).\n",
    "    \"evaluation_num_workers\": 0,\n",
    "    # Only for evaluation runs, render the env.\n",
    "    \"evaluation_config\": {\n",
    "        \"render_env\": False,\n",
    "    },\n",
    "    \n",
    "}\n",
    "trainer = PPOTrainer(config=config)\n",
    "trainer.load_checkpoint('/Users/felix/sciebo/masterarbeit/progra/model-based_rl/ppo/checkpoint-4')\n",
    "\n",
    "# for _ in range(6):\n",
    "#     print(_)\n",
    "#     trainer.train()\n",
    "\n",
    "\n"
   ]
  },
  {
   "cell_type": "code",
   "execution_count": 3,
   "metadata": {},
   "outputs": [
    {
     "data": {
      "application/vnd.plotly.v1+json": {
       "config": {
        "plotlyServerURL": "https://plot.ly"
       },
       "data": [
        {
         "alignmentgroup": "True",
         "base": [
          "2022-01-01T00:10:07",
          "2022-01-01T00:02:04",
          "2022-01-01T00:07:15",
          "2022-01-01T00:11:31",
          "2022-01-01T00:03:50",
          "2022-01-01T00:00:54",
          "2022-01-01T00:08:40",
          "2022-01-01T00:00:00",
          "2022-01-01T00:05:37",
          "2022-01-01T00:03:07"
         ],
         "hovertemplate": "Machine=machine_2<br>Start=%{base}<br>Finish=%{x}<br>Job=%{y}<extra></extra>",
         "legendgroup": "machine_2",
         "marker": {
          "color": "#636efa",
          "pattern": {
           "shape": ""
          }
         },
         "name": "machine_2",
         "offsetgroup": "machine_2",
         "orientation": "h",
         "showlegend": true,
         "textposition": "auto",
         "type": "bar",
         "x": [
          34000,
          26000,
          31000,
          66000,
          64000,
          43000,
          87000,
          38000,
          98000,
          43000
         ],
         "xaxis": "x",
         "y": [
          "job_0",
          "job_1",
          "job_2",
          "job_3",
          "job_4",
          "job_5",
          "job_6",
          "job_7",
          "job_8",
          "job_9"
         ],
         "yaxis": "y"
        },
        {
         "alignmentgroup": "True",
         "base": [
          "2022-01-01T00:06:10",
          "2022-01-01T00:01:48",
          "2022-01-01T00:02:29",
          "2022-01-01T00:10:12",
          "2022-01-01T00:07:45",
          "2022-01-01T00:08:53",
          "2022-01-01T00:04:53",
          "2022-01-01T00:11:31",
          "2022-01-01T00:02:04",
          "2022-01-01T00:00:00"
         ],
         "hovertemplate": "Machine=machine_4<br>Start=%{base}<br>Finish=%{x}<br>Job=%{y}<extra></extra>",
         "legendgroup": "machine_4",
         "marker": {
          "color": "#EF553B",
          "pattern": {
           "shape": ""
          }
         },
         "name": "machine_4",
         "offsetgroup": "machine_4",
         "orientation": "h",
         "showlegend": true,
         "textposition": "auto",
         "type": "bar",
         "x": [
          95000,
          16000,
          98000,
          79000,
          37000,
          79000,
          77000,
          83000,
          25000,
          77000
         ],
         "xaxis": "x",
         "y": [
          "job_0",
          "job_1",
          "job_2",
          "job_3",
          "job_4",
          "job_5",
          "job_6",
          "job_7",
          "job_8",
          "job_9"
         ],
         "yaxis": "y"
        },
        {
         "alignmentgroup": "True",
         "base": [
          "2022-01-01T00:04:00",
          "2022-01-01T00:00:00",
          "2022-01-01T00:07:46",
          "2022-01-01T00:07:58",
          "2022-01-01T00:00:38",
          "2022-01-01T00:11:45",
          "2022-01-01T00:10:12",
          "2022-01-01T00:03:00",
          "2022-01-01T00:04:53",
          "2022-01-01T00:05:47"
         ],
         "hovertemplate": "Machine=machine_0<br>Start=%{base}<br>Finish=%{x}<br>Job=%{y}<extra></extra>",
         "legendgroup": "machine_0",
         "marker": {
          "color": "#00cc96",
          "pattern": {
           "shape": ""
          }
         },
         "name": "machine_0",
         "offsetgroup": "machine_0",
         "orientation": "h",
         "showlegend": true,
         "textposition": "auto",
         "type": "bar",
         "x": [
          53000,
          21000,
          12000,
          55000,
          83000,
          92000,
          93000,
          60000,
          44000,
          96000
         ],
         "xaxis": "x",
         "y": [
          "job_0",
          "job_1",
          "job_2",
          "job_3",
          "job_4",
          "job_5",
          "job_6",
          "job_7",
          "job_8",
          "job_9"
         ],
         "yaxis": "y"
        },
        {
         "alignmentgroup": "True",
         "base": [
          "2022-01-01T00:03:00",
          "2022-01-01T00:03:21",
          "2022-01-01T00:06:06",
          "2022-01-01T00:01:43",
          "2022-01-01T00:05:47",
          "2022-01-01T00:00:00",
          "2022-01-01T00:06:48",
          "2022-01-01T00:08:15",
          "2022-01-01T00:00:54",
          "2022-01-01T00:04:32"
         ],
         "hovertemplate": "Machine=machine_1<br>Start=%{base}<br>Finish=%{x}<br>Job=%{y}<extra></extra>",
         "legendgroup": "machine_1",
         "marker": {
          "color": "#ab63fa",
          "pattern": {
           "shape": ""
          }
         },
         "name": "machine_1",
         "offsetgroup": "machine_1",
         "orientation": "h",
         "showlegend": true,
         "textposition": "auto",
         "type": "bar",
         "x": [
          21000,
          71000,
          42000,
          77000,
          19000,
          54000,
          87000,
          41000,
          49000,
          75000
         ],
         "xaxis": "x",
         "y": [
          "job_0",
          "job_1",
          "job_2",
          "job_3",
          "job_4",
          "job_5",
          "job_6",
          "job_7",
          "job_8",
          "job_9"
         ],
         "yaxis": "y"
        },
        {
         "alignmentgroup": "True",
         "base": [
          "2022-01-01T00:07:45",
          "2022-01-01T00:00:56",
          "2022-01-01T00:00:17",
          "2022-01-01T00:14:19",
          "2022-01-01T00:03:07",
          "2022-01-01T00:13:17",
          "2022-01-01T00:03:41",
          "2022-01-01T00:08:56",
          "2022-01-01T00:00:00",
          "2022-01-01T00:01:48"
         ],
         "hovertemplate": "Machine=machine_3<br>Start=%{base}<br>Finish=%{x}<br>Job=%{y}<extra></extra>",
         "legendgroup": "machine_3",
         "marker": {
          "color": "#FFA15A",
          "pattern": {
           "shape": ""
          }
         },
         "name": "machine_3",
         "offsetgroup": "machine_3",
         "orientation": "h",
         "showlegend": true,
         "textposition": "auto",
         "type": "bar",
         "x": [
          55000,
          52000,
          39000,
          77000,
          34000,
          62000,
          69000,
          24000,
          17000,
          79000
         ],
         "xaxis": "x",
         "y": [
          "job_0",
          "job_1",
          "job_2",
          "job_3",
          "job_4",
          "job_5",
          "job_6",
          "job_7",
          "job_8",
          "job_9"
         ],
         "yaxis": "y"
        }
       ],
       "layout": {
        "barmode": "overlay",
        "legend": {
         "title": {
          "text": "Machine"
         },
         "tracegroupgap": 0
        },
        "margin": {
         "t": 60
        },
        "template": {
         "data": {
          "bar": [
           {
            "error_x": {
             "color": "#2a3f5f"
            },
            "error_y": {
             "color": "#2a3f5f"
            },
            "marker": {
             "line": {
              "color": "#E5ECF6",
              "width": 0.5
             },
             "pattern": {
              "fillmode": "overlay",
              "size": 10,
              "solidity": 0.2
             }
            },
            "type": "bar"
           }
          ],
          "barpolar": [
           {
            "marker": {
             "line": {
              "color": "#E5ECF6",
              "width": 0.5
             },
             "pattern": {
              "fillmode": "overlay",
              "size": 10,
              "solidity": 0.2
             }
            },
            "type": "barpolar"
           }
          ],
          "carpet": [
           {
            "aaxis": {
             "endlinecolor": "#2a3f5f",
             "gridcolor": "white",
             "linecolor": "white",
             "minorgridcolor": "white",
             "startlinecolor": "#2a3f5f"
            },
            "baxis": {
             "endlinecolor": "#2a3f5f",
             "gridcolor": "white",
             "linecolor": "white",
             "minorgridcolor": "white",
             "startlinecolor": "#2a3f5f"
            },
            "type": "carpet"
           }
          ],
          "choropleth": [
           {
            "colorbar": {
             "outlinewidth": 0,
             "ticks": ""
            },
            "type": "choropleth"
           }
          ],
          "contour": [
           {
            "colorbar": {
             "outlinewidth": 0,
             "ticks": ""
            },
            "colorscale": [
             [
              0,
              "#0d0887"
             ],
             [
              0.1111111111111111,
              "#46039f"
             ],
             [
              0.2222222222222222,
              "#7201a8"
             ],
             [
              0.3333333333333333,
              "#9c179e"
             ],
             [
              0.4444444444444444,
              "#bd3786"
             ],
             [
              0.5555555555555556,
              "#d8576b"
             ],
             [
              0.6666666666666666,
              "#ed7953"
             ],
             [
              0.7777777777777778,
              "#fb9f3a"
             ],
             [
              0.8888888888888888,
              "#fdca26"
             ],
             [
              1,
              "#f0f921"
             ]
            ],
            "type": "contour"
           }
          ],
          "contourcarpet": [
           {
            "colorbar": {
             "outlinewidth": 0,
             "ticks": ""
            },
            "type": "contourcarpet"
           }
          ],
          "heatmap": [
           {
            "colorbar": {
             "outlinewidth": 0,
             "ticks": ""
            },
            "colorscale": [
             [
              0,
              "#0d0887"
             ],
             [
              0.1111111111111111,
              "#46039f"
             ],
             [
              0.2222222222222222,
              "#7201a8"
             ],
             [
              0.3333333333333333,
              "#9c179e"
             ],
             [
              0.4444444444444444,
              "#bd3786"
             ],
             [
              0.5555555555555556,
              "#d8576b"
             ],
             [
              0.6666666666666666,
              "#ed7953"
             ],
             [
              0.7777777777777778,
              "#fb9f3a"
             ],
             [
              0.8888888888888888,
              "#fdca26"
             ],
             [
              1,
              "#f0f921"
             ]
            ],
            "type": "heatmap"
           }
          ],
          "heatmapgl": [
           {
            "colorbar": {
             "outlinewidth": 0,
             "ticks": ""
            },
            "colorscale": [
             [
              0,
              "#0d0887"
             ],
             [
              0.1111111111111111,
              "#46039f"
             ],
             [
              0.2222222222222222,
              "#7201a8"
             ],
             [
              0.3333333333333333,
              "#9c179e"
             ],
             [
              0.4444444444444444,
              "#bd3786"
             ],
             [
              0.5555555555555556,
              "#d8576b"
             ],
             [
              0.6666666666666666,
              "#ed7953"
             ],
             [
              0.7777777777777778,
              "#fb9f3a"
             ],
             [
              0.8888888888888888,
              "#fdca26"
             ],
             [
              1,
              "#f0f921"
             ]
            ],
            "type": "heatmapgl"
           }
          ],
          "histogram": [
           {
            "marker": {
             "pattern": {
              "fillmode": "overlay",
              "size": 10,
              "solidity": 0.2
             }
            },
            "type": "histogram"
           }
          ],
          "histogram2d": [
           {
            "colorbar": {
             "outlinewidth": 0,
             "ticks": ""
            },
            "colorscale": [
             [
              0,
              "#0d0887"
             ],
             [
              0.1111111111111111,
              "#46039f"
             ],
             [
              0.2222222222222222,
              "#7201a8"
             ],
             [
              0.3333333333333333,
              "#9c179e"
             ],
             [
              0.4444444444444444,
              "#bd3786"
             ],
             [
              0.5555555555555556,
              "#d8576b"
             ],
             [
              0.6666666666666666,
              "#ed7953"
             ],
             [
              0.7777777777777778,
              "#fb9f3a"
             ],
             [
              0.8888888888888888,
              "#fdca26"
             ],
             [
              1,
              "#f0f921"
             ]
            ],
            "type": "histogram2d"
           }
          ],
          "histogram2dcontour": [
           {
            "colorbar": {
             "outlinewidth": 0,
             "ticks": ""
            },
            "colorscale": [
             [
              0,
              "#0d0887"
             ],
             [
              0.1111111111111111,
              "#46039f"
             ],
             [
              0.2222222222222222,
              "#7201a8"
             ],
             [
              0.3333333333333333,
              "#9c179e"
             ],
             [
              0.4444444444444444,
              "#bd3786"
             ],
             [
              0.5555555555555556,
              "#d8576b"
             ],
             [
              0.6666666666666666,
              "#ed7953"
             ],
             [
              0.7777777777777778,
              "#fb9f3a"
             ],
             [
              0.8888888888888888,
              "#fdca26"
             ],
             [
              1,
              "#f0f921"
             ]
            ],
            "type": "histogram2dcontour"
           }
          ],
          "mesh3d": [
           {
            "colorbar": {
             "outlinewidth": 0,
             "ticks": ""
            },
            "type": "mesh3d"
           }
          ],
          "parcoords": [
           {
            "line": {
             "colorbar": {
              "outlinewidth": 0,
              "ticks": ""
             }
            },
            "type": "parcoords"
           }
          ],
          "pie": [
           {
            "automargin": true,
            "type": "pie"
           }
          ],
          "scatter": [
           {
            "fillpattern": {
             "fillmode": "overlay",
             "size": 10,
             "solidity": 0.2
            },
            "type": "scatter"
           }
          ],
          "scatter3d": [
           {
            "line": {
             "colorbar": {
              "outlinewidth": 0,
              "ticks": ""
             }
            },
            "marker": {
             "colorbar": {
              "outlinewidth": 0,
              "ticks": ""
             }
            },
            "type": "scatter3d"
           }
          ],
          "scattercarpet": [
           {
            "marker": {
             "colorbar": {
              "outlinewidth": 0,
              "ticks": ""
             }
            },
            "type": "scattercarpet"
           }
          ],
          "scattergeo": [
           {
            "marker": {
             "colorbar": {
              "outlinewidth": 0,
              "ticks": ""
             }
            },
            "type": "scattergeo"
           }
          ],
          "scattergl": [
           {
            "marker": {
             "colorbar": {
              "outlinewidth": 0,
              "ticks": ""
             }
            },
            "type": "scattergl"
           }
          ],
          "scattermapbox": [
           {
            "marker": {
             "colorbar": {
              "outlinewidth": 0,
              "ticks": ""
             }
            },
            "type": "scattermapbox"
           }
          ],
          "scatterpolar": [
           {
            "marker": {
             "colorbar": {
              "outlinewidth": 0,
              "ticks": ""
             }
            },
            "type": "scatterpolar"
           }
          ],
          "scatterpolargl": [
           {
            "marker": {
             "colorbar": {
              "outlinewidth": 0,
              "ticks": ""
             }
            },
            "type": "scatterpolargl"
           }
          ],
          "scatterternary": [
           {
            "marker": {
             "colorbar": {
              "outlinewidth": 0,
              "ticks": ""
             }
            },
            "type": "scatterternary"
           }
          ],
          "surface": [
           {
            "colorbar": {
             "outlinewidth": 0,
             "ticks": ""
            },
            "colorscale": [
             [
              0,
              "#0d0887"
             ],
             [
              0.1111111111111111,
              "#46039f"
             ],
             [
              0.2222222222222222,
              "#7201a8"
             ],
             [
              0.3333333333333333,
              "#9c179e"
             ],
             [
              0.4444444444444444,
              "#bd3786"
             ],
             [
              0.5555555555555556,
              "#d8576b"
             ],
             [
              0.6666666666666666,
              "#ed7953"
             ],
             [
              0.7777777777777778,
              "#fb9f3a"
             ],
             [
              0.8888888888888888,
              "#fdca26"
             ],
             [
              1,
              "#f0f921"
             ]
            ],
            "type": "surface"
           }
          ],
          "table": [
           {
            "cells": {
             "fill": {
              "color": "#EBF0F8"
             },
             "line": {
              "color": "white"
             }
            },
            "header": {
             "fill": {
              "color": "#C8D4E3"
             },
             "line": {
              "color": "white"
             }
            },
            "type": "table"
           }
          ]
         },
         "layout": {
          "annotationdefaults": {
           "arrowcolor": "#2a3f5f",
           "arrowhead": 0,
           "arrowwidth": 1
          },
          "autotypenumbers": "strict",
          "coloraxis": {
           "colorbar": {
            "outlinewidth": 0,
            "ticks": ""
           }
          },
          "colorscale": {
           "diverging": [
            [
             0,
             "#8e0152"
            ],
            [
             0.1,
             "#c51b7d"
            ],
            [
             0.2,
             "#de77ae"
            ],
            [
             0.3,
             "#f1b6da"
            ],
            [
             0.4,
             "#fde0ef"
            ],
            [
             0.5,
             "#f7f7f7"
            ],
            [
             0.6,
             "#e6f5d0"
            ],
            [
             0.7,
             "#b8e186"
            ],
            [
             0.8,
             "#7fbc41"
            ],
            [
             0.9,
             "#4d9221"
            ],
            [
             1,
             "#276419"
            ]
           ],
           "sequential": [
            [
             0,
             "#0d0887"
            ],
            [
             0.1111111111111111,
             "#46039f"
            ],
            [
             0.2222222222222222,
             "#7201a8"
            ],
            [
             0.3333333333333333,
             "#9c179e"
            ],
            [
             0.4444444444444444,
             "#bd3786"
            ],
            [
             0.5555555555555556,
             "#d8576b"
            ],
            [
             0.6666666666666666,
             "#ed7953"
            ],
            [
             0.7777777777777778,
             "#fb9f3a"
            ],
            [
             0.8888888888888888,
             "#fdca26"
            ],
            [
             1,
             "#f0f921"
            ]
           ],
           "sequentialminus": [
            [
             0,
             "#0d0887"
            ],
            [
             0.1111111111111111,
             "#46039f"
            ],
            [
             0.2222222222222222,
             "#7201a8"
            ],
            [
             0.3333333333333333,
             "#9c179e"
            ],
            [
             0.4444444444444444,
             "#bd3786"
            ],
            [
             0.5555555555555556,
             "#d8576b"
            ],
            [
             0.6666666666666666,
             "#ed7953"
            ],
            [
             0.7777777777777778,
             "#fb9f3a"
            ],
            [
             0.8888888888888888,
             "#fdca26"
            ],
            [
             1,
             "#f0f921"
            ]
           ]
          },
          "colorway": [
           "#636efa",
           "#EF553B",
           "#00cc96",
           "#ab63fa",
           "#FFA15A",
           "#19d3f3",
           "#FF6692",
           "#B6E880",
           "#FF97FF",
           "#FECB52"
          ],
          "font": {
           "color": "#2a3f5f"
          },
          "geo": {
           "bgcolor": "white",
           "lakecolor": "white",
           "landcolor": "#E5ECF6",
           "showlakes": true,
           "showland": true,
           "subunitcolor": "white"
          },
          "hoverlabel": {
           "align": "left"
          },
          "hovermode": "closest",
          "mapbox": {
           "style": "light"
          },
          "paper_bgcolor": "white",
          "plot_bgcolor": "#E5ECF6",
          "polar": {
           "angularaxis": {
            "gridcolor": "white",
            "linecolor": "white",
            "ticks": ""
           },
           "bgcolor": "#E5ECF6",
           "radialaxis": {
            "gridcolor": "white",
            "linecolor": "white",
            "ticks": ""
           }
          },
          "scene": {
           "xaxis": {
            "backgroundcolor": "#E5ECF6",
            "gridcolor": "white",
            "gridwidth": 2,
            "linecolor": "white",
            "showbackground": true,
            "ticks": "",
            "zerolinecolor": "white"
           },
           "yaxis": {
            "backgroundcolor": "#E5ECF6",
            "gridcolor": "white",
            "gridwidth": 2,
            "linecolor": "white",
            "showbackground": true,
            "ticks": "",
            "zerolinecolor": "white"
           },
           "zaxis": {
            "backgroundcolor": "#E5ECF6",
            "gridcolor": "white",
            "gridwidth": 2,
            "linecolor": "white",
            "showbackground": true,
            "ticks": "",
            "zerolinecolor": "white"
           }
          },
          "shapedefaults": {
           "line": {
            "color": "#2a3f5f"
           }
          },
          "ternary": {
           "aaxis": {
            "gridcolor": "white",
            "linecolor": "white",
            "ticks": ""
           },
           "baxis": {
            "gridcolor": "white",
            "linecolor": "white",
            "ticks": ""
           },
           "bgcolor": "#E5ECF6",
           "caxis": {
            "gridcolor": "white",
            "linecolor": "white",
            "ticks": ""
           }
          },
          "title": {
           "x": 0.05
          },
          "xaxis": {
           "automargin": true,
           "gridcolor": "white",
           "linecolor": "white",
           "ticks": "",
           "title": {
            "standoff": 15
           },
           "zerolinecolor": "white",
           "zerolinewidth": 2
          },
          "yaxis": {
           "automargin": true,
           "gridcolor": "white",
           "linecolor": "white",
           "ticks": "",
           "title": {
            "standoff": 15
           },
           "zerolinecolor": "white",
           "zerolinewidth": 2
          }
         }
        },
        "xaxis": {
         "anchor": "y",
         "domain": [
          0,
          1
         ],
         "type": "date"
        },
        "yaxis": {
         "anchor": "x",
         "domain": [
          0,
          1
         ],
         "title": {
          "text": "Job"
         }
        }
       }
      }
     },
     "metadata": {},
     "output_type": "display_data"
    },
    {
     "name": "stdout",
     "output_type": "stream",
     "text": [
      "3\n",
      "105\n",
      "0.5945945945945945\n"
     ]
    }
   ],
   "source": [
    "\n",
    "trainer.load_checkpoint('/Users/felix/sciebo/masterarbeit/progra/model-based_rl/ppo/checkpoint-4')\n",
    "import numpy as np\n",
    "#trainer.save_checkpoint(\"ppo\")\n",
    "episode_reward = 0\n",
    "#env=jssp_light_obs_wrapper_multi_instances(instances_list=[inst])\n",
    "#env=jssp_light_obs_wrapper_no_action_mask(jssp_light_obs_wrapper_multi_instances(instances_list=[inst]))\n",
    "env=env_creator(\"s\")\n",
    "done = False\n",
    "obs = env.reset()\n",
    "iterations=0\n",
    "\n",
    "\n",
    "while not done:\n",
    "    policy = trainer.get_policy()\n",
    "    action, _, info = policy.compute_single_action(obs)\n",
    "    logits = info['action_dist_inputs']\n",
    "    action_mask = env.get_legal_actions().astype(np.float32)\n",
    "    action_mask[action_mask==0] = - np.inf\n",
    "    probs=np.multiply(logits,action_mask)\n",
    "    probs[probs==np.inf]=-np.inf\n",
    "    best_action_id = probs.argmax()  # deterministic\n",
    "    #best_action_id = logits.argmax()\n",
    "    #best_action_id = trainer.compute_single_action(obs)\n",
    "    obs, reward, done, info = env.step(best_action_id)\n",
    "    episode_reward += reward\n",
    "    iterations += 1\n",
    "env.render()\n",
    "print(best_action_id)\n",
    "print(iterations)\n",
    "print(reward)"
   ]
  },
  {
   "cell_type": "code",
   "execution_count": null,
   "metadata": {},
   "outputs": [],
   "source": [
    "env.render()"
   ]
  },
  {
   "cell_type": "code",
   "execution_count": null,
   "metadata": {},
   "outputs": [],
   "source": [
    "print(info)\n",
    "print(len(info['action_dist_inputs']))"
   ]
  },
  {
   "cell_type": "code",
   "execution_count": null,
   "metadata": {},
   "outputs": [],
   "source": [
    "import numpy as np\n",
    "import time\n",
    "from wrapper.jssplight_wrapper import jssp_light_obs_wrapper\n",
    "from wrapper.jssplight_wrapper import jssp_light_obs_wrapper_multi_instances\n",
    "from src.jss_lite.jss_lite import jss_lite\n",
    "curr_dir='/Users/felix/sciebo/masterarbeit/progra/model-based_rl'\n",
    "inst=curr_dir + '/resources/jsp_instances/standard/ft06.txt'\n",
    "instance_list=['/resources/jsp_instances/standard/la01.txt']#,'/resources/jsp_instances/standard/la02.txt','/resources/jsp_instances/standard/la03.txt','/resources/jsp_instances/standard/la04.txt']\n",
    "# Configure the algorithm.\n",
    "def env_creator(env_config):\n",
    "    env=jssp_light_obs_wrapper_multi_instances(instances_list=[inst])\n",
    "    #env=jss_lite(instance_path=inst)\n",
    "    return env\n",
    "# get random actions:\n",
    "reward=0\n",
    "while reward <0.95:\n",
    "#for _ in range(100):\n",
    "    action_list=[]\n",
    "    env = env_creator(\"s\")\n",
    "\n",
    "    obs = env.reset()\n",
    "    # env2 is copy for later going evaluation\n",
    "    counter=0\n",
    "    done = False\n",
    "    t=time.time()\n",
    "    while not done:\n",
    "        legal_action=obs['action_mask']\n",
    "        action=np.random.choice(len(legal_action), 1, p=(legal_action / legal_action.sum()))[0]\n",
    "        action_list.append(action)\n",
    "        #print(action)\n",
    "        #print(obs['action_mask'][action])\n",
    "        obs, reward, done, _ = env.step(action)\n",
    "        counter+=1\n",
    "    #print(f\"instance: {env.env.instance} in time: {time.time()-t}s\")\n",
    "    \n",
    "    #env.render()\n",
    "    #env.close()\n",
    "print(counter)\n",
    "print(reward)\n",
    "env.render()"
   ]
  },
  {
   "cell_type": "code",
   "execution_count": 38,
   "metadata": {},
   "outputs": [
    {
     "name": "stdout",
     "output_type": "stream",
     "text": [
      "12\n",
      "0\n",
      "1\n",
      "2\n",
      "3\n",
      "4\n",
      "5\n",
      "6\n",
      "7\n",
      "8\n",
      "9\n",
      "10\n",
      "11\n",
      "12\n"
     ]
    }
   ],
   "source": [
    "import numpy as np\n",
    "x=np.array([2,2,2,2,2,2,2,2,2,2,2,2,4])\n",
    "print(x[x>=0.8*2].argmax())\n",
    "y,=(np.where(x>=2))\n",
    "\n",
    "for i in y:\n",
    "    print(i)"
   ]
  }
 ],
 "metadata": {
  "kernelspec": {
   "display_name": "Python 3.10.4 ('customjssp')",
   "language": "python",
   "name": "python3"
  },
  "language_info": {
   "codemirror_mode": {
    "name": "ipython",
    "version": 3
   },
   "file_extension": ".py",
   "mimetype": "text/x-python",
   "name": "python",
   "nbconvert_exporter": "python",
   "pygments_lexer": "ipython3",
   "version": "3.10.4"
  },
  "orig_nbformat": 4,
  "vscode": {
   "interpreter": {
    "hash": "7344f7b5995cbf62a990a56ee6eec8bd53f41a3aff848cd18f1feb05905aa9e3"
   }
  }
 },
 "nbformat": 4,
 "nbformat_minor": 2
}
