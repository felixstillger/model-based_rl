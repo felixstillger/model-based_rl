{
 "cells": [
  {
   "cell_type": "code",
   "execution_count": 1,
   "metadata": {},
   "outputs": [],
   "source": [
    "from ray.rllib.agents.ppo import PPOTrainer\n",
    "from ray import tune\n",
    "import gym\n",
    "\n",
    "from ray import tune\n",
    "\n",
    "train_agent=True\n",
    "instance_path='resources/jsp_instances/standard/ft06.txt'\n",
    "restore_agent= False\n",
    "num_episodes = 10\n",
    "#restore_path= 'training_checkpoints/checkpoints_az_jsslite/checkpoint-6'\n",
    "\n",
    "config = {\n",
    "    # Environment (RLlib understands openAI gym registered strings).\n",
    "    #\"env\": \"CartPole-v1\",\n",
    "    \"env\": \"custom_jssp\",\n",
    "    # Use 2 environment workers (aka \"rollout workers\") that parallelly\n",
    "    # collect samples from their own environment clone(s).\n",
    "    \"num_workers\": 1,\n",
    "    # Change this to \"framework: torch\", if you are using PyTorch.\n",
    "    # Also, use \"framework: tf2\" for tf2.x eager execution.\n",
    "    \"framework\": \"tf\",\n",
    "    # Tweak the default model provided automatically by RLlib,\n",
    "    # given the environment's observation- and action spaces.\n",
    "    #\"horizon\":1,\n",
    "    \"evaluation_duration\":10,\n",
    "    \"model\": {\n",
    "        \"fcnet_hiddens\": [128, 128],\n",
    "        \"fcnet_activation\": \"relu\",\n",
    "    },\n",
    "    # Set up a separate evaluation worker set for the\n",
    "    # `trainer.evaluate()` call after training (see below).\n",
    "    \"evaluation_num_workers\": 1,\n",
    "    # Only for evaluation runs, render the env.\n",
    "    \"evaluation_config\": {\n",
    "        \"render_env\": True,\n",
    "    },\n",
    "    \n",
    "}\n",
    "\n",
    "\n",
    "\n",
    "\n"
   ]
  },
  {
   "cell_type": "code",
   "execution_count": 2,
   "metadata": {},
   "outputs": [
    {
     "name": "stderr",
     "output_type": "stream",
     "text": [
      "2022-09-28 10:53:43,925\tWARNING trainer.py:2540 -- You have specified 1 evaluation workers, but your `evaluation_interval` is None! Therefore, evaluation will not occur automatically with each call to `Trainer.train()`. Instead, you will have to call `Trainer.evaluate()` manually in order to trigger an evaluation run.\n",
      "\u001b[2m\u001b[36m(RolloutWorker pid=57077)\u001b[0m 2022-09-28 10:53:54,182\tWARNING env.py:135 -- Your env doesn't have a .spec.max_episode_steps attribute. This is fine if you have set 'horizon' in your config dictionary, or `soft_horizon`. However, if you haven't, 'horizon' will default to infinity, and your environment will not be reset.\n",
      "2022-09-28 10:53:55,660\tWARNING deprecation.py:46 -- DeprecationWarning: `simple_optimizer` has been deprecated. This will raise an error in the future!\n",
      "2022-09-28 10:53:55,661\tWARNING trainer.py:2540 -- You have specified 1 evaluation workers, but your `evaluation_interval` is None! Therefore, evaluation will not occur automatically with each call to `Trainer.train()`. Instead, you will have to call `Trainer.evaluate()` manually in order to trigger an evaluation run.\n",
      "2022-09-28 10:53:55,719\tINFO trainable.py:159 -- Trainable.setup took 11.799 seconds. If your trainable is slow to initialize, consider setting reuse_actors=True to reduce actor creation overheads.\n"
     ]
    }
   ],
   "source": [
    "from wrapper.jssplight_wrapper import jssp_light_obs_wrapper\n",
    "from src.jss_lite.jss_lite import jss_lite\n",
    "\n",
    "def env_creator(config):\n",
    "    env = jssp_light_obs_wrapper(jss_lite(instance_path=instance_path))\n",
    "    return env\n",
    "\n",
    "\n",
    "# use tune to register the custom environment for the ppo trainer\n",
    "tune.register_env('custom_jssp',env_creator)\n",
    "\n",
    "trainer = PPOTrainer(config=config)"
   ]
  },
  {
   "cell_type": "code",
   "execution_count": 7,
   "metadata": {},
   "outputs": [
    {
     "name": "stdout",
     "output_type": "stream",
     "text": [
      "0 episode\n",
      "episode reward:-23\n",
      "reward:30\n",
      "count iterations:102\n",
      "1 episode\n",
      "episode reward:11\n",
      "reward:44\n",
      "count iterations:80\n",
      "2 episode\n",
      "episode reward:6\n",
      "reward:34\n",
      "count iterations:74\n",
      "3 episode\n",
      "episode reward:23\n",
      "reward:41\n",
      "count iterations:64\n",
      "4 episode\n",
      "episode reward:24\n",
      "reward:39\n",
      "count iterations:53\n",
      "5 episode\n",
      "episode reward:35\n",
      "reward:45\n",
      "count iterations:47\n",
      "6 episode\n",
      "episode reward:44\n",
      "reward:49\n",
      "count iterations:47\n",
      "7 episode\n",
      "episode reward:17\n",
      "reward:41\n",
      "count iterations:63\n",
      "8 episode\n",
      "episode reward:28\n",
      "reward:40\n",
      "count iterations:51\n",
      "9 episode\n",
      "episode reward:33\n",
      "reward:40\n",
      "count iterations:45\n",
      "10 episode\n",
      "episode reward:39\n",
      "reward:44\n",
      "count iterations:46\n",
      "11 episode\n",
      "episode reward:40\n",
      "reward:44\n",
      "count iterations:44\n",
      "12 episode\n",
      "episode reward:41\n",
      "reward:51\n",
      "count iterations:48\n",
      "13 episode\n",
      "episode reward:42\n",
      "reward:50\n",
      "count iterations:47\n",
      "14 episode\n",
      "episode reward:36\n",
      "reward:41\n",
      "count iterations:44\n",
      "15 episode\n",
      "episode reward:38\n",
      "reward:50\n",
      "count iterations:50\n",
      "16 episode\n",
      "episode reward:44\n",
      "reward:47\n",
      "count iterations:40\n",
      "17 episode\n",
      "episode reward:35\n",
      "reward:40\n",
      "count iterations:45\n",
      "18 episode\n",
      "episode reward:37\n",
      "reward:41\n",
      "count iterations:40\n",
      "19 episode\n",
      "episode reward:43\n",
      "reward:46\n",
      "count iterations:40\n",
      "20 episode\n",
      "episode reward:31\n",
      "reward:42\n",
      "count iterations:51\n",
      "21 episode\n",
      "episode reward:44\n",
      "reward:45\n",
      "count iterations:37\n",
      "22 episode\n",
      "episode reward:46\n",
      "reward:46\n",
      "count iterations:37\n",
      "23 episode\n",
      "episode reward:42\n",
      "reward:48\n",
      "count iterations:45\n",
      "24 episode\n",
      "episode reward:40\n",
      "reward:44\n",
      "count iterations:47\n",
      "25 episode\n",
      "episode reward:47\n",
      "reward:48\n",
      "count iterations:41\n",
      "26 episode\n",
      "episode reward:40\n",
      "reward:41\n",
      "count iterations:37\n",
      "27 episode\n",
      "episode reward:39\n",
      "reward:42\n",
      "count iterations:42\n",
      "28 episode\n",
      "episode reward:39\n",
      "reward:43\n",
      "count iterations:40\n",
      "29 episode\n",
      "episode reward:45\n",
      "reward:47\n",
      "count iterations:42\n",
      "30 episode\n",
      "episode reward:47\n",
      "reward:48\n",
      "count iterations:42\n",
      "31 episode\n",
      "episode reward:41\n",
      "reward:43\n",
      "count iterations:39\n",
      "32 episode\n",
      "episode reward:48\n",
      "reward:50\n",
      "count iterations:40\n",
      "33 episode\n",
      "episode reward:48\n",
      "reward:49\n",
      "count iterations:38\n",
      "34 episode\n",
      "episode reward:45\n",
      "reward:48\n",
      "count iterations:43\n",
      "35 episode\n",
      "episode reward:43\n",
      "reward:45\n",
      "count iterations:44\n",
      "36 episode\n",
      "episode reward:47\n",
      "reward:47\n",
      "count iterations:39\n",
      "37 episode\n",
      "episode reward:47\n",
      "reward:48\n",
      "count iterations:40\n",
      "38 episode\n",
      "episode reward:49\n",
      "reward:51\n",
      "count iterations:42\n",
      "39 episode\n",
      "episode reward:46\n",
      "reward:46\n",
      "count iterations:40\n",
      "40 episode\n",
      "episode reward:39\n",
      "reward:42\n",
      "count iterations:46\n",
      "41 episode\n",
      "episode reward:39\n",
      "reward:40\n",
      "count iterations:40\n",
      "42 episode\n",
      "episode reward:46\n",
      "reward:47\n",
      "count iterations:38\n",
      "43 episode\n",
      "episode reward:45\n",
      "reward:46\n",
      "count iterations:38\n",
      "44 episode\n",
      "episode reward:50\n",
      "reward:51\n",
      "count iterations:41\n",
      "45 episode\n",
      "episode reward:48\n",
      "reward:49\n",
      "count iterations:39\n",
      "46 episode\n",
      "episode reward:47\n",
      "reward:49\n",
      "count iterations:38\n",
      "47 episode\n",
      "episode reward:48\n",
      "reward:49\n",
      "count iterations:38\n",
      "48 episode\n",
      "episode reward:50\n",
      "reward:51\n",
      "count iterations:38\n",
      "49 episode\n",
      "episode reward:46\n",
      "reward:50\n",
      "count iterations:42\n",
      "50 episode\n",
      "episode reward:39\n",
      "reward:42\n",
      "count iterations:42\n",
      "51 episode\n",
      "episode reward:25\n",
      "reward:26\n",
      "count iterations:39\n",
      "52 episode\n",
      "episode reward:49\n",
      "reward:51\n",
      "count iterations:41\n",
      "53 episode\n",
      "episode reward:40\n",
      "reward:43\n",
      "count iterations:47\n",
      "54 episode\n",
      "episode reward:50\n",
      "reward:51\n",
      "count iterations:40\n",
      "55 episode\n",
      "episode reward:44\n",
      "reward:47\n",
      "count iterations:45\n",
      "56 episode\n",
      "episode reward:48\n",
      "reward:49\n",
      "count iterations:40\n",
      "57 episode\n",
      "episode reward:44\n",
      "reward:48\n",
      "count iterations:43\n",
      "58 episode\n",
      "episode reward:44\n",
      "reward:46\n",
      "count iterations:43\n",
      "59 episode\n",
      "episode reward:49\n",
      "reward:51\n",
      "count iterations:41\n"
     ]
    }
   ],
   "source": [
    "import time\n",
    "epoch_nr=0\n",
    "\n",
    "for _ in range(60):\n",
    "    epoch_nr+=1\n",
    "    t=time.time()\n",
    "    trainer.train()\n",
    "    episode_reward = 0\n",
    "    env = env_creator(\"config\")\n",
    "    done = False\n",
    "    obs = env.reset()\n",
    "    iterations=0\n",
    "    while not done:\n",
    "        action = trainer.compute_action(obs)\n",
    "        #print(f\"action: {action}\")\n",
    "        obs, reward, done, info = env.step(action)\n",
    "        episode_reward += reward\n",
    "        #env.render(mode=\"human\")\n",
    "        iterations += 1\n",
    "    #env.render()\n",
    "    #env.close()\n",
    "    print(f\"{_+60} episode\")\n",
    "    print(f\"episode reward:{episode_reward}\")\n",
    "    print(f\"reward:{reward}\")\n",
    "    print(f\"count iterations:{iterations}\")\n",
    "    #print(f\"trainer trained: {epoch_nr} Epochs in {time.time()-t} seconds for new episode\")"
   ]
  },
  {
   "cell_type": "code",
   "execution_count": 8,
   "metadata": {},
   "outputs": [
    {
     "data": {
      "application/vnd.plotly.v1+json": {
       "config": {
        "plotlyServerURL": "https://plot.ly"
       },
       "data": [
        {
         "alignmentgroup": "True",
         "base": [
          "2022-01-01T00:00:37",
          "2022-01-01T00:00:54",
          "2022-01-01T00:00:05",
          "2022-01-01T00:00:25",
          "2022-01-01T00:00:44",
          "2022-01-01T00:00:16"
         ],
         "hovertemplate": "Machine=machine_3<br>Start=%{base}<br>Finish=%{x}<br>Job=%{y}<extra></extra>",
         "legendgroup": "machine_3",
         "marker": {
          "color": "#636efa",
          "pattern": {
           "shape": ""
          }
         },
         "name": "machine_3",
         "offsetgroup": "machine_3",
         "orientation": "h",
         "showlegend": true,
         "textposition": "auto",
         "type": "bar",
         "x": [
          7000,
          4000,
          4000,
          3000,
          1000,
          3000
         ],
         "xaxis": "x",
         "y": [
          "job_0",
          "job_1",
          "job_2",
          "job_3",
          "job_4",
          "job_5"
         ],
         "yaxis": "y"
        },
        {
         "alignmentgroup": "True",
         "base": [
          "2022-01-01T00:00:19",
          "2022-01-01T00:00:14",
          "2022-01-01T00:00:00",
          "2022-01-01T00:00:20",
          "2022-01-01T00:00:05",
          "2022-01-01T00:00:53"
         ],
         "hovertemplate": "Machine=machine_2<br>Start=%{base}<br>Finish=%{x}<br>Job=%{y}<extra></extra>",
         "legendgroup": "machine_2",
         "marker": {
          "color": "#EF553B",
          "pattern": {
           "shape": ""
          }
         },
         "name": "machine_2",
         "offsetgroup": "machine_2",
         "orientation": "h",
         "showlegend": true,
         "textposition": "auto",
         "type": "bar",
         "x": [
          1000,
          5000,
          5000,
          5000,
          9000,
          1000
         ],
         "xaxis": "x",
         "y": [
          "job_0",
          "job_1",
          "job_2",
          "job_3",
          "job_4",
          "job_5"
         ],
         "yaxis": "y"
        },
        {
         "alignmentgroup": "True",
         "base": [
          "2022-01-01T00:00:31",
          "2022-01-01T00:00:00",
          "2022-01-01T00:00:28",
          "2022-01-01T00:00:08",
          "2022-01-01T00:00:16",
          "2022-01-01T00:00:13"
         ],
         "hovertemplate": "Machine=machine_1<br>Start=%{base}<br>Finish=%{x}<br>Job=%{y}<extra></extra>",
         "legendgroup": "machine_1",
         "marker": {
          "color": "#00cc96",
          "pattern": {
           "shape": ""
          }
         },
         "name": "machine_1",
         "offsetgroup": "machine_1",
         "orientation": "h",
         "showlegend": true,
         "textposition": "auto",
         "type": "bar",
         "x": [
          6000,
          8000,
          1000,
          5000,
          3000,
          3000
         ],
         "xaxis": "x",
         "y": [
          "job_0",
          "job_1",
          "job_2",
          "job_3",
          "job_4",
          "job_5"
         ],
         "yaxis": "y"
        },
        {
         "alignmentgroup": "True",
         "base": [
          "2022-01-01T00:00:53",
          "2022-01-01T00:00:24",
          "2022-01-01T00:00:42",
          "2022-01-01T00:00:34",
          "2022-01-01T00:00:19",
          "2022-01-01T00:00:49"
         ],
         "hovertemplate": "Machine=machine_4<br>Start=%{base}<br>Finish=%{x}<br>Job=%{y}<extra></extra>",
         "legendgroup": "machine_4",
         "marker": {
          "color": "#ab63fa",
          "pattern": {
           "shape": ""
          }
         },
         "name": "machine_4",
         "offsetgroup": "machine_4",
         "orientation": "h",
         "showlegend": true,
         "textposition": "auto",
         "type": "bar",
         "x": [
          6000,
          10000,
          7000,
          8000,
          5000,
          4000
         ],
         "xaxis": "x",
         "y": [
          "job_0",
          "job_1",
          "job_2",
          "job_3",
          "job_4",
          "job_5"
         ],
         "yaxis": "y"
        },
        {
         "alignmentgroup": "True",
         "base": [
          "2022-01-01T00:00:44",
          "2022-01-01T00:00:34",
          "2022-01-01T00:00:09",
          "2022-01-01T00:00:47",
          "2022-01-01T00:00:29",
          "2022-01-01T00:00:20"
         ],
         "hovertemplate": "Machine=machine_5<br>Start=%{base}<br>Finish=%{x}<br>Job=%{y}<extra></extra>",
         "legendgroup": "machine_5",
         "marker": {
          "color": "#FFA15A",
          "pattern": {
           "shape": ""
          }
         },
         "name": "machine_5",
         "offsetgroup": "machine_5",
         "orientation": "h",
         "showlegend": true,
         "textposition": "auto",
         "type": "bar",
         "x": [
          3000,
          10000,
          8000,
          9000,
          4000,
          9000
         ],
         "xaxis": "x",
         "y": [
          "job_0",
          "job_1",
          "job_2",
          "job_3",
          "job_4",
          "job_5"
         ],
         "yaxis": "y"
        },
        {
         "alignmentgroup": "True",
         "base": [
          "2022-01-01T00:00:28",
          "2022-01-01T00:00:44",
          "2022-01-01T00:00:19",
          "2022-01-01T00:00:13",
          "2022-01-01T00:00:41",
          "2022-01-01T00:00:31"
         ],
         "hovertemplate": "Machine=machine_0<br>Start=%{base}<br>Finish=%{x}<br>Job=%{y}<extra></extra>",
         "legendgroup": "machine_0",
         "marker": {
          "color": "#19d3f3",
          "pattern": {
           "shape": ""
          }
         },
         "name": "machine_0",
         "offsetgroup": "machine_0",
         "orientation": "h",
         "showlegend": true,
         "textposition": "auto",
         "type": "bar",
         "x": [
          3000,
          10000,
          9000,
          5000,
          3000,
          10000
         ],
         "xaxis": "x",
         "y": [
          "job_0",
          "job_1",
          "job_2",
          "job_3",
          "job_4",
          "job_5"
         ],
         "yaxis": "y"
        }
       ],
       "layout": {
        "barmode": "overlay",
        "legend": {
         "title": {
          "text": "Machine"
         },
         "tracegroupgap": 0
        },
        "margin": {
         "t": 60
        },
        "template": {
         "data": {
          "bar": [
           {
            "error_x": {
             "color": "#2a3f5f"
            },
            "error_y": {
             "color": "#2a3f5f"
            },
            "marker": {
             "line": {
              "color": "#E5ECF6",
              "width": 0.5
             },
             "pattern": {
              "fillmode": "overlay",
              "size": 10,
              "solidity": 0.2
             }
            },
            "type": "bar"
           }
          ],
          "barpolar": [
           {
            "marker": {
             "line": {
              "color": "#E5ECF6",
              "width": 0.5
             },
             "pattern": {
              "fillmode": "overlay",
              "size": 10,
              "solidity": 0.2
             }
            },
            "type": "barpolar"
           }
          ],
          "carpet": [
           {
            "aaxis": {
             "endlinecolor": "#2a3f5f",
             "gridcolor": "white",
             "linecolor": "white",
             "minorgridcolor": "white",
             "startlinecolor": "#2a3f5f"
            },
            "baxis": {
             "endlinecolor": "#2a3f5f",
             "gridcolor": "white",
             "linecolor": "white",
             "minorgridcolor": "white",
             "startlinecolor": "#2a3f5f"
            },
            "type": "carpet"
           }
          ],
          "choropleth": [
           {
            "colorbar": {
             "outlinewidth": 0,
             "ticks": ""
            },
            "type": "choropleth"
           }
          ],
          "contour": [
           {
            "colorbar": {
             "outlinewidth": 0,
             "ticks": ""
            },
            "colorscale": [
             [
              0,
              "#0d0887"
             ],
             [
              0.1111111111111111,
              "#46039f"
             ],
             [
              0.2222222222222222,
              "#7201a8"
             ],
             [
              0.3333333333333333,
              "#9c179e"
             ],
             [
              0.4444444444444444,
              "#bd3786"
             ],
             [
              0.5555555555555556,
              "#d8576b"
             ],
             [
              0.6666666666666666,
              "#ed7953"
             ],
             [
              0.7777777777777778,
              "#fb9f3a"
             ],
             [
              0.8888888888888888,
              "#fdca26"
             ],
             [
              1,
              "#f0f921"
             ]
            ],
            "type": "contour"
           }
          ],
          "contourcarpet": [
           {
            "colorbar": {
             "outlinewidth": 0,
             "ticks": ""
            },
            "type": "contourcarpet"
           }
          ],
          "heatmap": [
           {
            "colorbar": {
             "outlinewidth": 0,
             "ticks": ""
            },
            "colorscale": [
             [
              0,
              "#0d0887"
             ],
             [
              0.1111111111111111,
              "#46039f"
             ],
             [
              0.2222222222222222,
              "#7201a8"
             ],
             [
              0.3333333333333333,
              "#9c179e"
             ],
             [
              0.4444444444444444,
              "#bd3786"
             ],
             [
              0.5555555555555556,
              "#d8576b"
             ],
             [
              0.6666666666666666,
              "#ed7953"
             ],
             [
              0.7777777777777778,
              "#fb9f3a"
             ],
             [
              0.8888888888888888,
              "#fdca26"
             ],
             [
              1,
              "#f0f921"
             ]
            ],
            "type": "heatmap"
           }
          ],
          "heatmapgl": [
           {
            "colorbar": {
             "outlinewidth": 0,
             "ticks": ""
            },
            "colorscale": [
             [
              0,
              "#0d0887"
             ],
             [
              0.1111111111111111,
              "#46039f"
             ],
             [
              0.2222222222222222,
              "#7201a8"
             ],
             [
              0.3333333333333333,
              "#9c179e"
             ],
             [
              0.4444444444444444,
              "#bd3786"
             ],
             [
              0.5555555555555556,
              "#d8576b"
             ],
             [
              0.6666666666666666,
              "#ed7953"
             ],
             [
              0.7777777777777778,
              "#fb9f3a"
             ],
             [
              0.8888888888888888,
              "#fdca26"
             ],
             [
              1,
              "#f0f921"
             ]
            ],
            "type": "heatmapgl"
           }
          ],
          "histogram": [
           {
            "marker": {
             "pattern": {
              "fillmode": "overlay",
              "size": 10,
              "solidity": 0.2
             }
            },
            "type": "histogram"
           }
          ],
          "histogram2d": [
           {
            "colorbar": {
             "outlinewidth": 0,
             "ticks": ""
            },
            "colorscale": [
             [
              0,
              "#0d0887"
             ],
             [
              0.1111111111111111,
              "#46039f"
             ],
             [
              0.2222222222222222,
              "#7201a8"
             ],
             [
              0.3333333333333333,
              "#9c179e"
             ],
             [
              0.4444444444444444,
              "#bd3786"
             ],
             [
              0.5555555555555556,
              "#d8576b"
             ],
             [
              0.6666666666666666,
              "#ed7953"
             ],
             [
              0.7777777777777778,
              "#fb9f3a"
             ],
             [
              0.8888888888888888,
              "#fdca26"
             ],
             [
              1,
              "#f0f921"
             ]
            ],
            "type": "histogram2d"
           }
          ],
          "histogram2dcontour": [
           {
            "colorbar": {
             "outlinewidth": 0,
             "ticks": ""
            },
            "colorscale": [
             [
              0,
              "#0d0887"
             ],
             [
              0.1111111111111111,
              "#46039f"
             ],
             [
              0.2222222222222222,
              "#7201a8"
             ],
             [
              0.3333333333333333,
              "#9c179e"
             ],
             [
              0.4444444444444444,
              "#bd3786"
             ],
             [
              0.5555555555555556,
              "#d8576b"
             ],
             [
              0.6666666666666666,
              "#ed7953"
             ],
             [
              0.7777777777777778,
              "#fb9f3a"
             ],
             [
              0.8888888888888888,
              "#fdca26"
             ],
             [
              1,
              "#f0f921"
             ]
            ],
            "type": "histogram2dcontour"
           }
          ],
          "mesh3d": [
           {
            "colorbar": {
             "outlinewidth": 0,
             "ticks": ""
            },
            "type": "mesh3d"
           }
          ],
          "parcoords": [
           {
            "line": {
             "colorbar": {
              "outlinewidth": 0,
              "ticks": ""
             }
            },
            "type": "parcoords"
           }
          ],
          "pie": [
           {
            "automargin": true,
            "type": "pie"
           }
          ],
          "scatter": [
           {
            "fillpattern": {
             "fillmode": "overlay",
             "size": 10,
             "solidity": 0.2
            },
            "type": "scatter"
           }
          ],
          "scatter3d": [
           {
            "line": {
             "colorbar": {
              "outlinewidth": 0,
              "ticks": ""
             }
            },
            "marker": {
             "colorbar": {
              "outlinewidth": 0,
              "ticks": ""
             }
            },
            "type": "scatter3d"
           }
          ],
          "scattercarpet": [
           {
            "marker": {
             "colorbar": {
              "outlinewidth": 0,
              "ticks": ""
             }
            },
            "type": "scattercarpet"
           }
          ],
          "scattergeo": [
           {
            "marker": {
             "colorbar": {
              "outlinewidth": 0,
              "ticks": ""
             }
            },
            "type": "scattergeo"
           }
          ],
          "scattergl": [
           {
            "marker": {
             "colorbar": {
              "outlinewidth": 0,
              "ticks": ""
             }
            },
            "type": "scattergl"
           }
          ],
          "scattermapbox": [
           {
            "marker": {
             "colorbar": {
              "outlinewidth": 0,
              "ticks": ""
             }
            },
            "type": "scattermapbox"
           }
          ],
          "scatterpolar": [
           {
            "marker": {
             "colorbar": {
              "outlinewidth": 0,
              "ticks": ""
             }
            },
            "type": "scatterpolar"
           }
          ],
          "scatterpolargl": [
           {
            "marker": {
             "colorbar": {
              "outlinewidth": 0,
              "ticks": ""
             }
            },
            "type": "scatterpolargl"
           }
          ],
          "scatterternary": [
           {
            "marker": {
             "colorbar": {
              "outlinewidth": 0,
              "ticks": ""
             }
            },
            "type": "scatterternary"
           }
          ],
          "surface": [
           {
            "colorbar": {
             "outlinewidth": 0,
             "ticks": ""
            },
            "colorscale": [
             [
              0,
              "#0d0887"
             ],
             [
              0.1111111111111111,
              "#46039f"
             ],
             [
              0.2222222222222222,
              "#7201a8"
             ],
             [
              0.3333333333333333,
              "#9c179e"
             ],
             [
              0.4444444444444444,
              "#bd3786"
             ],
             [
              0.5555555555555556,
              "#d8576b"
             ],
             [
              0.6666666666666666,
              "#ed7953"
             ],
             [
              0.7777777777777778,
              "#fb9f3a"
             ],
             [
              0.8888888888888888,
              "#fdca26"
             ],
             [
              1,
              "#f0f921"
             ]
            ],
            "type": "surface"
           }
          ],
          "table": [
           {
            "cells": {
             "fill": {
              "color": "#EBF0F8"
             },
             "line": {
              "color": "white"
             }
            },
            "header": {
             "fill": {
              "color": "#C8D4E3"
             },
             "line": {
              "color": "white"
             }
            },
            "type": "table"
           }
          ]
         },
         "layout": {
          "annotationdefaults": {
           "arrowcolor": "#2a3f5f",
           "arrowhead": 0,
           "arrowwidth": 1
          },
          "autotypenumbers": "strict",
          "coloraxis": {
           "colorbar": {
            "outlinewidth": 0,
            "ticks": ""
           }
          },
          "colorscale": {
           "diverging": [
            [
             0,
             "#8e0152"
            ],
            [
             0.1,
             "#c51b7d"
            ],
            [
             0.2,
             "#de77ae"
            ],
            [
             0.3,
             "#f1b6da"
            ],
            [
             0.4,
             "#fde0ef"
            ],
            [
             0.5,
             "#f7f7f7"
            ],
            [
             0.6,
             "#e6f5d0"
            ],
            [
             0.7,
             "#b8e186"
            ],
            [
             0.8,
             "#7fbc41"
            ],
            [
             0.9,
             "#4d9221"
            ],
            [
             1,
             "#276419"
            ]
           ],
           "sequential": [
            [
             0,
             "#0d0887"
            ],
            [
             0.1111111111111111,
             "#46039f"
            ],
            [
             0.2222222222222222,
             "#7201a8"
            ],
            [
             0.3333333333333333,
             "#9c179e"
            ],
            [
             0.4444444444444444,
             "#bd3786"
            ],
            [
             0.5555555555555556,
             "#d8576b"
            ],
            [
             0.6666666666666666,
             "#ed7953"
            ],
            [
             0.7777777777777778,
             "#fb9f3a"
            ],
            [
             0.8888888888888888,
             "#fdca26"
            ],
            [
             1,
             "#f0f921"
            ]
           ],
           "sequentialminus": [
            [
             0,
             "#0d0887"
            ],
            [
             0.1111111111111111,
             "#46039f"
            ],
            [
             0.2222222222222222,
             "#7201a8"
            ],
            [
             0.3333333333333333,
             "#9c179e"
            ],
            [
             0.4444444444444444,
             "#bd3786"
            ],
            [
             0.5555555555555556,
             "#d8576b"
            ],
            [
             0.6666666666666666,
             "#ed7953"
            ],
            [
             0.7777777777777778,
             "#fb9f3a"
            ],
            [
             0.8888888888888888,
             "#fdca26"
            ],
            [
             1,
             "#f0f921"
            ]
           ]
          },
          "colorway": [
           "#636efa",
           "#EF553B",
           "#00cc96",
           "#ab63fa",
           "#FFA15A",
           "#19d3f3",
           "#FF6692",
           "#B6E880",
           "#FF97FF",
           "#FECB52"
          ],
          "font": {
           "color": "#2a3f5f"
          },
          "geo": {
           "bgcolor": "white",
           "lakecolor": "white",
           "landcolor": "#E5ECF6",
           "showlakes": true,
           "showland": true,
           "subunitcolor": "white"
          },
          "hoverlabel": {
           "align": "left"
          },
          "hovermode": "closest",
          "mapbox": {
           "style": "light"
          },
          "paper_bgcolor": "white",
          "plot_bgcolor": "#E5ECF6",
          "polar": {
           "angularaxis": {
            "gridcolor": "white",
            "linecolor": "white",
            "ticks": ""
           },
           "bgcolor": "#E5ECF6",
           "radialaxis": {
            "gridcolor": "white",
            "linecolor": "white",
            "ticks": ""
           }
          },
          "scene": {
           "xaxis": {
            "backgroundcolor": "#E5ECF6",
            "gridcolor": "white",
            "gridwidth": 2,
            "linecolor": "white",
            "showbackground": true,
            "ticks": "",
            "zerolinecolor": "white"
           },
           "yaxis": {
            "backgroundcolor": "#E5ECF6",
            "gridcolor": "white",
            "gridwidth": 2,
            "linecolor": "white",
            "showbackground": true,
            "ticks": "",
            "zerolinecolor": "white"
           },
           "zaxis": {
            "backgroundcolor": "#E5ECF6",
            "gridcolor": "white",
            "gridwidth": 2,
            "linecolor": "white",
            "showbackground": true,
            "ticks": "",
            "zerolinecolor": "white"
           }
          },
          "shapedefaults": {
           "line": {
            "color": "#2a3f5f"
           }
          },
          "ternary": {
           "aaxis": {
            "gridcolor": "white",
            "linecolor": "white",
            "ticks": ""
           },
           "baxis": {
            "gridcolor": "white",
            "linecolor": "white",
            "ticks": ""
           },
           "bgcolor": "#E5ECF6",
           "caxis": {
            "gridcolor": "white",
            "linecolor": "white",
            "ticks": ""
           }
          },
          "title": {
           "x": 0.05
          },
          "xaxis": {
           "automargin": true,
           "gridcolor": "white",
           "linecolor": "white",
           "ticks": "",
           "title": {
            "standoff": 15
           },
           "zerolinecolor": "white",
           "zerolinewidth": 2
          },
          "yaxis": {
           "automargin": true,
           "gridcolor": "white",
           "linecolor": "white",
           "ticks": "",
           "title": {
            "standoff": 15
           },
           "zerolinecolor": "white",
           "zerolinewidth": 2
          }
         }
        },
        "xaxis": {
         "anchor": "y",
         "domain": [
          0,
          1
         ],
         "type": "date"
        },
        "yaxis": {
         "anchor": "x",
         "domain": [
          0,
          1
         ],
         "title": {
          "text": "Job"
         }
        }
       }
      }
     },
     "metadata": {},
     "output_type": "display_data"
    }
   ],
   "source": [
    "env.render()"
   ]
  },
  {
   "cell_type": "code",
   "execution_count": null,
   "metadata": {},
   "outputs": [],
   "source": []
  },
  {
   "cell_type": "code",
   "execution_count": null,
   "metadata": {},
   "outputs": [],
   "source": []
  },
  {
   "cell_type": "code",
   "execution_count": 4,
   "metadata": {},
   "outputs": [
    {
     "data": {
      "application/vnd.plotly.v1+json": {
       "config": {
        "plotlyServerURL": "https://plot.ly"
       },
       "data": [
        {
         "alignmentgroup": "True",
         "base": [
          "2022-01-01T00:00:03",
          "2022-01-01T00:00:45",
          "2022-01-01T00:00:26",
          "2022-01-01T00:00:35",
          "2022-01-01T00:00:40",
          "2022-01-01T00:00:16"
         ],
         "hovertemplate": "Machine=machine_0<br>Start=%{base}<br>Finish=%{x}<br>Job=%{y}<extra></extra>",
         "legendgroup": "machine_0",
         "marker": {
          "color": "#636efa",
          "pattern": {
           "shape": ""
          }
         },
         "name": "machine_0",
         "offsetgroup": "machine_0",
         "orientation": "h",
         "showlegend": true,
         "textposition": "auto",
         "type": "bar",
         "x": [
          3000,
          10000,
          9000,
          5000,
          3000,
          10000
         ],
         "xaxis": "x",
         "y": [
          "job_0",
          "job_1",
          "job_2",
          "job_3",
          "job_4",
          "job_5"
         ],
         "yaxis": "y"
        },
        {
         "alignmentgroup": "True",
         "base": [
          "2022-01-01T00:00:32",
          "2022-01-01T00:00:35",
          "2022-01-01T00:00:16",
          "2022-01-01T00:00:59",
          "2022-01-01T00:00:24",
          "2022-01-01T00:00:07"
         ],
         "hovertemplate": "Machine=machine_5<br>Start=%{base}<br>Finish=%{x}<br>Job=%{y}<extra></extra>",
         "legendgroup": "machine_5",
         "marker": {
          "color": "#EF553B",
          "pattern": {
           "shape": ""
          }
         },
         "name": "machine_5",
         "offsetgroup": "machine_5",
         "orientation": "h",
         "showlegend": true,
         "textposition": "auto",
         "type": "bar",
         "x": [
          3000,
          10000,
          8000,
          9000,
          4000,
          9000
         ],
         "xaxis": "x",
         "y": [
          "job_0",
          "job_1",
          "job_2",
          "job_3",
          "job_4",
          "job_5"
         ],
         "yaxis": "y"
        },
        {
         "alignmentgroup": "True",
         "base": [
          "2022-01-01T00:00:00",
          "2022-01-01T00:00:15",
          "2022-01-01T00:00:01",
          "2022-01-01T00:00:43",
          "2022-01-01T00:00:06",
          "2022-01-01T00:00:38"
         ],
         "hovertemplate": "Machine=machine_2<br>Start=%{base}<br>Finish=%{x}<br>Job=%{y}<extra></extra>",
         "legendgroup": "machine_2",
         "marker": {
          "color": "#00cc96",
          "pattern": {
           "shape": ""
          }
         },
         "name": "machine_2",
         "offsetgroup": "machine_2",
         "orientation": "h",
         "showlegend": true,
         "textposition": "auto",
         "type": "bar",
         "x": [
          1000,
          5000,
          5000,
          5000,
          9000,
          1000
         ],
         "xaxis": "x",
         "y": [
          "job_0",
          "job_1",
          "job_2",
          "job_3",
          "job_4",
          "job_5"
         ],
         "yaxis": "y"
        },
        {
         "alignmentgroup": "True",
         "base": [
          "2022-01-01T00:00:19",
          "2022-01-01T00:00:03",
          "2022-01-01T00:00:35",
          "2022-01-01T00:00:11",
          "2022-01-01T00:00:16",
          "2022-01-01T00:00:00"
         ],
         "hovertemplate": "Machine=machine_1<br>Start=%{base}<br>Finish=%{x}<br>Job=%{y}<extra></extra>",
         "legendgroup": "machine_1",
         "marker": {
          "color": "#ab63fa",
          "pattern": {
           "shape": ""
          }
         },
         "name": "machine_1",
         "offsetgroup": "machine_1",
         "orientation": "h",
         "showlegend": true,
         "textposition": "auto",
         "type": "bar",
         "x": [
          6000,
          8000,
          1000,
          5000,
          3000,
          3000
         ],
         "xaxis": "x",
         "y": [
          "job_0",
          "job_1",
          "job_2",
          "job_3",
          "job_4",
          "job_5"
         ],
         "yaxis": "y"
        },
        {
         "alignmentgroup": "True",
         "base": [
          "2022-01-01T00:00:25",
          "2022-01-01T00:00:55",
          "2022-01-01T00:00:07",
          "2022-01-01T00:00:48",
          "2022-01-01T00:00:43",
          "2022-01-01T00:00:04"
         ],
         "hovertemplate": "Machine=machine_3<br>Start=%{base}<br>Finish=%{x}<br>Job=%{y}<extra></extra>",
         "legendgroup": "machine_3",
         "marker": {
          "color": "#FFA15A",
          "pattern": {
           "shape": ""
          }
         },
         "name": "machine_3",
         "offsetgroup": "machine_3",
         "orientation": "h",
         "showlegend": true,
         "textposition": "auto",
         "type": "bar",
         "x": [
          7000,
          4000,
          4000,
          3000,
          1000,
          3000
         ],
         "xaxis": "x",
         "y": [
          "job_0",
          "job_1",
          "job_2",
          "job_3",
          "job_4",
          "job_5"
         ],
         "yaxis": "y"
        },
        {
         "alignmentgroup": "True",
         "base": [
          "2022-01-01T00:00:38",
          "2022-01-01T00:00:24",
          "2022-01-01T00:00:44",
          "2022-01-01T00:00:51",
          "2022-01-01T00:00:19",
          "2022-01-01T00:00:34"
         ],
         "hovertemplate": "Machine=machine_4<br>Start=%{base}<br>Finish=%{x}<br>Job=%{y}<extra></extra>",
         "legendgroup": "machine_4",
         "marker": {
          "color": "#19d3f3",
          "pattern": {
           "shape": ""
          }
         },
         "name": "machine_4",
         "offsetgroup": "machine_4",
         "orientation": "h",
         "showlegend": true,
         "textposition": "auto",
         "type": "bar",
         "x": [
          6000,
          10000,
          7000,
          8000,
          5000,
          4000
         ],
         "xaxis": "x",
         "y": [
          "job_0",
          "job_1",
          "job_2",
          "job_3",
          "job_4",
          "job_5"
         ],
         "yaxis": "y"
        }
       ],
       "layout": {
        "barmode": "overlay",
        "legend": {
         "title": {
          "text": "Machine"
         },
         "tracegroupgap": 0
        },
        "margin": {
         "t": 60
        },
        "template": {
         "data": {
          "bar": [
           {
            "error_x": {
             "color": "#2a3f5f"
            },
            "error_y": {
             "color": "#2a3f5f"
            },
            "marker": {
             "line": {
              "color": "#E5ECF6",
              "width": 0.5
             },
             "pattern": {
              "fillmode": "overlay",
              "size": 10,
              "solidity": 0.2
             }
            },
            "type": "bar"
           }
          ],
          "barpolar": [
           {
            "marker": {
             "line": {
              "color": "#E5ECF6",
              "width": 0.5
             },
             "pattern": {
              "fillmode": "overlay",
              "size": 10,
              "solidity": 0.2
             }
            },
            "type": "barpolar"
           }
          ],
          "carpet": [
           {
            "aaxis": {
             "endlinecolor": "#2a3f5f",
             "gridcolor": "white",
             "linecolor": "white",
             "minorgridcolor": "white",
             "startlinecolor": "#2a3f5f"
            },
            "baxis": {
             "endlinecolor": "#2a3f5f",
             "gridcolor": "white",
             "linecolor": "white",
             "minorgridcolor": "white",
             "startlinecolor": "#2a3f5f"
            },
            "type": "carpet"
           }
          ],
          "choropleth": [
           {
            "colorbar": {
             "outlinewidth": 0,
             "ticks": ""
            },
            "type": "choropleth"
           }
          ],
          "contour": [
           {
            "colorbar": {
             "outlinewidth": 0,
             "ticks": ""
            },
            "colorscale": [
             [
              0,
              "#0d0887"
             ],
             [
              0.1111111111111111,
              "#46039f"
             ],
             [
              0.2222222222222222,
              "#7201a8"
             ],
             [
              0.3333333333333333,
              "#9c179e"
             ],
             [
              0.4444444444444444,
              "#bd3786"
             ],
             [
              0.5555555555555556,
              "#d8576b"
             ],
             [
              0.6666666666666666,
              "#ed7953"
             ],
             [
              0.7777777777777778,
              "#fb9f3a"
             ],
             [
              0.8888888888888888,
              "#fdca26"
             ],
             [
              1,
              "#f0f921"
             ]
            ],
            "type": "contour"
           }
          ],
          "contourcarpet": [
           {
            "colorbar": {
             "outlinewidth": 0,
             "ticks": ""
            },
            "type": "contourcarpet"
           }
          ],
          "heatmap": [
           {
            "colorbar": {
             "outlinewidth": 0,
             "ticks": ""
            },
            "colorscale": [
             [
              0,
              "#0d0887"
             ],
             [
              0.1111111111111111,
              "#46039f"
             ],
             [
              0.2222222222222222,
              "#7201a8"
             ],
             [
              0.3333333333333333,
              "#9c179e"
             ],
             [
              0.4444444444444444,
              "#bd3786"
             ],
             [
              0.5555555555555556,
              "#d8576b"
             ],
             [
              0.6666666666666666,
              "#ed7953"
             ],
             [
              0.7777777777777778,
              "#fb9f3a"
             ],
             [
              0.8888888888888888,
              "#fdca26"
             ],
             [
              1,
              "#f0f921"
             ]
            ],
            "type": "heatmap"
           }
          ],
          "heatmapgl": [
           {
            "colorbar": {
             "outlinewidth": 0,
             "ticks": ""
            },
            "colorscale": [
             [
              0,
              "#0d0887"
             ],
             [
              0.1111111111111111,
              "#46039f"
             ],
             [
              0.2222222222222222,
              "#7201a8"
             ],
             [
              0.3333333333333333,
              "#9c179e"
             ],
             [
              0.4444444444444444,
              "#bd3786"
             ],
             [
              0.5555555555555556,
              "#d8576b"
             ],
             [
              0.6666666666666666,
              "#ed7953"
             ],
             [
              0.7777777777777778,
              "#fb9f3a"
             ],
             [
              0.8888888888888888,
              "#fdca26"
             ],
             [
              1,
              "#f0f921"
             ]
            ],
            "type": "heatmapgl"
           }
          ],
          "histogram": [
           {
            "marker": {
             "pattern": {
              "fillmode": "overlay",
              "size": 10,
              "solidity": 0.2
             }
            },
            "type": "histogram"
           }
          ],
          "histogram2d": [
           {
            "colorbar": {
             "outlinewidth": 0,
             "ticks": ""
            },
            "colorscale": [
             [
              0,
              "#0d0887"
             ],
             [
              0.1111111111111111,
              "#46039f"
             ],
             [
              0.2222222222222222,
              "#7201a8"
             ],
             [
              0.3333333333333333,
              "#9c179e"
             ],
             [
              0.4444444444444444,
              "#bd3786"
             ],
             [
              0.5555555555555556,
              "#d8576b"
             ],
             [
              0.6666666666666666,
              "#ed7953"
             ],
             [
              0.7777777777777778,
              "#fb9f3a"
             ],
             [
              0.8888888888888888,
              "#fdca26"
             ],
             [
              1,
              "#f0f921"
             ]
            ],
            "type": "histogram2d"
           }
          ],
          "histogram2dcontour": [
           {
            "colorbar": {
             "outlinewidth": 0,
             "ticks": ""
            },
            "colorscale": [
             [
              0,
              "#0d0887"
             ],
             [
              0.1111111111111111,
              "#46039f"
             ],
             [
              0.2222222222222222,
              "#7201a8"
             ],
             [
              0.3333333333333333,
              "#9c179e"
             ],
             [
              0.4444444444444444,
              "#bd3786"
             ],
             [
              0.5555555555555556,
              "#d8576b"
             ],
             [
              0.6666666666666666,
              "#ed7953"
             ],
             [
              0.7777777777777778,
              "#fb9f3a"
             ],
             [
              0.8888888888888888,
              "#fdca26"
             ],
             [
              1,
              "#f0f921"
             ]
            ],
            "type": "histogram2dcontour"
           }
          ],
          "mesh3d": [
           {
            "colorbar": {
             "outlinewidth": 0,
             "ticks": ""
            },
            "type": "mesh3d"
           }
          ],
          "parcoords": [
           {
            "line": {
             "colorbar": {
              "outlinewidth": 0,
              "ticks": ""
             }
            },
            "type": "parcoords"
           }
          ],
          "pie": [
           {
            "automargin": true,
            "type": "pie"
           }
          ],
          "scatter": [
           {
            "fillpattern": {
             "fillmode": "overlay",
             "size": 10,
             "solidity": 0.2
            },
            "type": "scatter"
           }
          ],
          "scatter3d": [
           {
            "line": {
             "colorbar": {
              "outlinewidth": 0,
              "ticks": ""
             }
            },
            "marker": {
             "colorbar": {
              "outlinewidth": 0,
              "ticks": ""
             }
            },
            "type": "scatter3d"
           }
          ],
          "scattercarpet": [
           {
            "marker": {
             "colorbar": {
              "outlinewidth": 0,
              "ticks": ""
             }
            },
            "type": "scattercarpet"
           }
          ],
          "scattergeo": [
           {
            "marker": {
             "colorbar": {
              "outlinewidth": 0,
              "ticks": ""
             }
            },
            "type": "scattergeo"
           }
          ],
          "scattergl": [
           {
            "marker": {
             "colorbar": {
              "outlinewidth": 0,
              "ticks": ""
             }
            },
            "type": "scattergl"
           }
          ],
          "scattermapbox": [
           {
            "marker": {
             "colorbar": {
              "outlinewidth": 0,
              "ticks": ""
             }
            },
            "type": "scattermapbox"
           }
          ],
          "scatterpolar": [
           {
            "marker": {
             "colorbar": {
              "outlinewidth": 0,
              "ticks": ""
             }
            },
            "type": "scatterpolar"
           }
          ],
          "scatterpolargl": [
           {
            "marker": {
             "colorbar": {
              "outlinewidth": 0,
              "ticks": ""
             }
            },
            "type": "scatterpolargl"
           }
          ],
          "scatterternary": [
           {
            "marker": {
             "colorbar": {
              "outlinewidth": 0,
              "ticks": ""
             }
            },
            "type": "scatterternary"
           }
          ],
          "surface": [
           {
            "colorbar": {
             "outlinewidth": 0,
             "ticks": ""
            },
            "colorscale": [
             [
              0,
              "#0d0887"
             ],
             [
              0.1111111111111111,
              "#46039f"
             ],
             [
              0.2222222222222222,
              "#7201a8"
             ],
             [
              0.3333333333333333,
              "#9c179e"
             ],
             [
              0.4444444444444444,
              "#bd3786"
             ],
             [
              0.5555555555555556,
              "#d8576b"
             ],
             [
              0.6666666666666666,
              "#ed7953"
             ],
             [
              0.7777777777777778,
              "#fb9f3a"
             ],
             [
              0.8888888888888888,
              "#fdca26"
             ],
             [
              1,
              "#f0f921"
             ]
            ],
            "type": "surface"
           }
          ],
          "table": [
           {
            "cells": {
             "fill": {
              "color": "#EBF0F8"
             },
             "line": {
              "color": "white"
             }
            },
            "header": {
             "fill": {
              "color": "#C8D4E3"
             },
             "line": {
              "color": "white"
             }
            },
            "type": "table"
           }
          ]
         },
         "layout": {
          "annotationdefaults": {
           "arrowcolor": "#2a3f5f",
           "arrowhead": 0,
           "arrowwidth": 1
          },
          "autotypenumbers": "strict",
          "coloraxis": {
           "colorbar": {
            "outlinewidth": 0,
            "ticks": ""
           }
          },
          "colorscale": {
           "diverging": [
            [
             0,
             "#8e0152"
            ],
            [
             0.1,
             "#c51b7d"
            ],
            [
             0.2,
             "#de77ae"
            ],
            [
             0.3,
             "#f1b6da"
            ],
            [
             0.4,
             "#fde0ef"
            ],
            [
             0.5,
             "#f7f7f7"
            ],
            [
             0.6,
             "#e6f5d0"
            ],
            [
             0.7,
             "#b8e186"
            ],
            [
             0.8,
             "#7fbc41"
            ],
            [
             0.9,
             "#4d9221"
            ],
            [
             1,
             "#276419"
            ]
           ],
           "sequential": [
            [
             0,
             "#0d0887"
            ],
            [
             0.1111111111111111,
             "#46039f"
            ],
            [
             0.2222222222222222,
             "#7201a8"
            ],
            [
             0.3333333333333333,
             "#9c179e"
            ],
            [
             0.4444444444444444,
             "#bd3786"
            ],
            [
             0.5555555555555556,
             "#d8576b"
            ],
            [
             0.6666666666666666,
             "#ed7953"
            ],
            [
             0.7777777777777778,
             "#fb9f3a"
            ],
            [
             0.8888888888888888,
             "#fdca26"
            ],
            [
             1,
             "#f0f921"
            ]
           ],
           "sequentialminus": [
            [
             0,
             "#0d0887"
            ],
            [
             0.1111111111111111,
             "#46039f"
            ],
            [
             0.2222222222222222,
             "#7201a8"
            ],
            [
             0.3333333333333333,
             "#9c179e"
            ],
            [
             0.4444444444444444,
             "#bd3786"
            ],
            [
             0.5555555555555556,
             "#d8576b"
            ],
            [
             0.6666666666666666,
             "#ed7953"
            ],
            [
             0.7777777777777778,
             "#fb9f3a"
            ],
            [
             0.8888888888888888,
             "#fdca26"
            ],
            [
             1,
             "#f0f921"
            ]
           ]
          },
          "colorway": [
           "#636efa",
           "#EF553B",
           "#00cc96",
           "#ab63fa",
           "#FFA15A",
           "#19d3f3",
           "#FF6692",
           "#B6E880",
           "#FF97FF",
           "#FECB52"
          ],
          "font": {
           "color": "#2a3f5f"
          },
          "geo": {
           "bgcolor": "white",
           "lakecolor": "white",
           "landcolor": "#E5ECF6",
           "showlakes": true,
           "showland": true,
           "subunitcolor": "white"
          },
          "hoverlabel": {
           "align": "left"
          },
          "hovermode": "closest",
          "mapbox": {
           "style": "light"
          },
          "paper_bgcolor": "white",
          "plot_bgcolor": "#E5ECF6",
          "polar": {
           "angularaxis": {
            "gridcolor": "white",
            "linecolor": "white",
            "ticks": ""
           },
           "bgcolor": "#E5ECF6",
           "radialaxis": {
            "gridcolor": "white",
            "linecolor": "white",
            "ticks": ""
           }
          },
          "scene": {
           "xaxis": {
            "backgroundcolor": "#E5ECF6",
            "gridcolor": "white",
            "gridwidth": 2,
            "linecolor": "white",
            "showbackground": true,
            "ticks": "",
            "zerolinecolor": "white"
           },
           "yaxis": {
            "backgroundcolor": "#E5ECF6",
            "gridcolor": "white",
            "gridwidth": 2,
            "linecolor": "white",
            "showbackground": true,
            "ticks": "",
            "zerolinecolor": "white"
           },
           "zaxis": {
            "backgroundcolor": "#E5ECF6",
            "gridcolor": "white",
            "gridwidth": 2,
            "linecolor": "white",
            "showbackground": true,
            "ticks": "",
            "zerolinecolor": "white"
           }
          },
          "shapedefaults": {
           "line": {
            "color": "#2a3f5f"
           }
          },
          "ternary": {
           "aaxis": {
            "gridcolor": "white",
            "linecolor": "white",
            "ticks": ""
           },
           "baxis": {
            "gridcolor": "white",
            "linecolor": "white",
            "ticks": ""
           },
           "bgcolor": "#E5ECF6",
           "caxis": {
            "gridcolor": "white",
            "linecolor": "white",
            "ticks": ""
           }
          },
          "title": {
           "x": 0.05
          },
          "xaxis": {
           "automargin": true,
           "gridcolor": "white",
           "linecolor": "white",
           "ticks": "",
           "title": {
            "standoff": 15
           },
           "zerolinecolor": "white",
           "zerolinewidth": 2
          },
          "yaxis": {
           "automargin": true,
           "gridcolor": "white",
           "linecolor": "white",
           "ticks": "",
           "title": {
            "standoff": 15
           },
           "zerolinecolor": "white",
           "zerolinewidth": 2
          }
         }
        },
        "xaxis": {
         "anchor": "y",
         "domain": [
          0,
          1
         ],
         "type": "date"
        },
        "yaxis": {
         "anchor": "x",
         "domain": [
          0,
          1
         ],
         "title": {
          "text": "Job"
         }
        }
       }
      }
     },
     "metadata": {},
     "output_type": "display_data"
    },
    {
     "name": "stdout",
     "output_type": "stream",
     "text": [
      "2\n",
      "83\n"
     ]
    }
   ],
   "source": [
    "episode_reward = 0\n",
    "env = env_creator(\"config\")\n",
    "\n",
    "done = False\n",
    "obs = env.reset()\n",
    "iterations=0\n",
    "while not done:\n",
    "    action = trainer.compute_action(obs)\n",
    "    #print(f\"action: {action}\")\n",
    "    obs, reward, done, info = env.step(action)\n",
    "    episode_reward += reward\n",
    "    #env.render(mode=\"human\")\n",
    "    iterations += 1\n",
    "env.render()\n",
    "env.close()\n",
    "print(episode_reward)\n",
    "print(iterations)"
   ]
  },
  {
   "cell_type": "code",
   "execution_count": 5,
   "metadata": {},
   "outputs": [
    {
     "name": "stdout",
     "output_type": "stream",
     "text": [
      "{'obs': array([0.    , 0.6   , 0.6   , 0.    , 0.8333, 1.    , 0.    , 0.4   ,\n",
      "       0.4   , 0.    , 0.8333, 0.1   , 0.    , 0.7   , 0.7   , 0.    ,\n",
      "       0.8333, 0.5   , 0.    , 0.9   , 0.9   , 0.    , 0.8333, 0.4   ,\n",
      "       0.    , 0.1   , 0.1   , 0.    , 0.8333, 0.8   , 0.    , 0.1   ,\n",
      "       0.1   , 0.    , 0.8333, 0.9   , 0.    , 0.    , 0.    , 0.    ,\n",
      "       0.    , 0.    , 0.    , 0.    , 0.    , 0.    , 0.    , 0.    ,\n",
      "       0.    , 0.    , 0.    , 0.    , 0.    , 0.    , 0.    , 0.    ,\n",
      "       0.    , 0.    , 0.    , 0.    , 0.    , 0.    , 0.    , 0.    ,\n",
      "       0.    , 0.    , 0.    , 0.    , 0.    , 0.    , 0.    , 0.    ],\n",
      "      dtype=float32), 'action_mask': array([0, 0, 0, 0, 0, 0, 0, 0, 0, 0, 0, 0], dtype=int32)}\n",
      "68\n"
     ]
    }
   ],
   "source": [
    "print(obs)\n",
    "print(env.env.current_timestep)"
   ]
  },
  {
   "cell_type": "code",
   "execution_count": 6,
   "metadata": {},
   "outputs": [
    {
     "data": {
      "text/plain": [
       "array([[(0, 1, 3, 6), (5, 3, 16, 26), (2, 3, 26, 35), (3, 1, 35, 40),\n",
       "        (4, 4, 40, 43), (1, 4, 45, 55)],\n",
       "       [(5, 0, 0, 3), (1, 0, 3, 11), (3, 0, 11, 16), (4, 1, 16, 19),\n",
       "        (0, 2, 19, 25), (2, 4, 35, 36)],\n",
       "       [(0, 0, 0, 1), (2, 0, 1, 6), (4, 0, 6, 15), (1, 1, 15, 20),\n",
       "        (5, 5, 38, 39), (3, 2, 43, 48)],\n",
       "       [(5, 1, 4, 7), (2, 1, 7, 11), (0, 3, 25, 32), (4, 5, 43, 44),\n",
       "        (3, 3, 48, 51), (1, 5, 55, 59)],\n",
       "       [(4, 2, 19, 24), (1, 2, 24, 34), (5, 4, 34, 38), (0, 5, 38, 44),\n",
       "        (2, 5, 44, 51), (3, 4, 51, 59)],\n",
       "       [(5, 2, 7, 16), (2, 2, 16, 24), (4, 3, 24, 28), (0, 4, 32, 35),\n",
       "        (1, 3, 35, 45), (3, 5, 59, 68)]], dtype=object)"
      ]
     },
     "metadata": {},
     "output_type": "display_data"
    }
   ],
   "source": [
    "import numpy as np\n",
    "display(env.env.production_list)"
   ]
  },
  {
   "cell_type": "code",
   "execution_count": null,
   "metadata": {},
   "outputs": [],
   "source": []
  },
  {
   "cell_type": "code",
   "execution_count": null,
   "metadata": {},
   "outputs": [],
   "source": []
  },
  {
   "cell_type": "code",
   "execution_count": null,
   "metadata": {},
   "outputs": [],
   "source": []
  }
 ],
 "metadata": {
  "kernelspec": {
   "display_name": "Python 3.10.4 ('customjssp')",
   "language": "python",
   "name": "python3"
  },
  "language_info": {
   "codemirror_mode": {
    "name": "ipython",
    "version": 3
   },
   "file_extension": ".py",
   "mimetype": "text/x-python",
   "name": "python",
   "nbconvert_exporter": "python",
   "pygments_lexer": "ipython3",
   "version": "3.10.4"
  },
  "orig_nbformat": 4,
  "vscode": {
   "interpreter": {
    "hash": "7344f7b5995cbf62a990a56ee6eec8bd53f41a3aff848cd18f1feb05905aa9e3"
   }
  }
 },
 "nbformat": 4,
 "nbformat_minor": 2
}
