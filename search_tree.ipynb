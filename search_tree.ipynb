{
 "cells": [
  {
   "cell_type": "code",
   "execution_count": 47,
   "metadata": {},
   "outputs": [],
   "source": [
    "from copy import deepcopy\n",
    "from wrapper.jssplight_wrapper import jssp_light_obs_wrapper\n",
    "from wrapper.jssplight_wrapper import jssp_light_obs_wrapper_multi_instances\n",
    "from wrapper.jssplight_wrapper import jssp_light_obs_wrapper_no_action_mask\n",
    "from src.jss_lite.jss_lite import jss_lite\n",
    "import numpy as np\n",
    "import time\n",
    "class tree_node:\n",
    "    def __init__(self, action=None,parent=None):\n",
    "        self.action=action\n",
    "        self.children=[]\n",
    "        self.state=None\n",
    "        self.parent=parent\n",
    "        self.observation=None\n",
    "        self.visited=False\n",
    "        # extra attributes for search:\n",
    "        self.leaf_closed=False\n",
    "class tree_construct:\n",
    "    def __init__(self):\n",
    "        # threshold for values that are as good as the threshold*max_policy\n",
    "        self.threshold=0.7\n",
    "        curr_dir='/Users/felix/sciebo/masterarbeit/progra/model-based_rl'\n",
    "        inst=curr_dir + '/resources/jsp_instances/standard/la01.txt'\n",
    "        instance_list=['/resources/jsp_instances/standard/la01.txt']#,'/resources/jsp_instances/standard/la02.txt','/resources/jsp_instances/standard/la03.txt','/resources/jsp_instances/standard/la04.txt']\n",
    "        #self.env=jssp_light_obs_wrapper_multi_instances(instances_list=[inst])\n",
    "        self.env=jssp_light_obs_wrapper_no_action_mask(jssp_light_obs_wrapper_multi_instances(instances_list=[inst]))\n",
    "        \n",
    "        \n",
    "        from wrapper.jssp_wrapper_klagenfurt import jssp_klagenfurt_obs_wrapper\n",
    "        import JSSEnv\n",
    "        import gym\n",
    "        \n",
    "        #self.env=jssp_light_obs_wrapper_no_action_mask(jssp_klagenfurt_obs_wrapper(gym.make('jss-v1', env_config={'instance_path': 'resources/jsp_instances/standard/la01.txt'})))\n",
    "        # create root\n",
    "        self.root=tree_node()\n",
    "        # get initial state into root; todo: change for multi instances, create all childs for instances\n",
    "        self.root.observation=self.env.reset()\n",
    "        self.root.state=self.env.get_state()\n",
    "        self.done=False\n",
    "        self.reward=0\n",
    "        self.trainer=self.load_trainer()\n",
    "        # path management\n",
    "        # open leafs should store the leafs with highest rating\n",
    "        self.open_leafs=[]\n",
    "        self.open_leafs.append(self.root)\n",
    "        self.current_path=self.root\n",
    "        self.sol_pathes=None\n",
    "    def insert(self,action=None,parent=None):\n",
    "        parent.children.append(tree_node(action=action,parent=self))\n",
    "        self.env.set_state(parent.state)\n",
    "        parent.children[-1].observation,reward,done,info=self.env.step(action)\n",
    "        parent.children[-1].state=self.env.get_state()\n",
    "        if done:\n",
    "            #this goes for klagenfurt jssp\n",
    "            #needed_time=self.env.env.env.last_time_step\n",
    "            #optimal_value=666\n",
    "            #reward=100-((needed_time-optimal_value)/optimal_value)\n",
    "            self.__on_done(100*reward)\n",
    "            \n",
    "\n",
    "\n",
    "    def __on_done(self,reward):\n",
    "        self.done=True\n",
    "        if reward > self.reward:\n",
    "            self.reward=reward\n",
    "    def load_trainer(self):\n",
    "        from ray.rllib.agents.ppo import PPOTrainer\n",
    "        from ray import tune\n",
    "        import gym\n",
    "        from wrapper.jssplight_wrapper import jssp_light_obs_wrapper\n",
    "        from wrapper.jssplight_wrapper import jssp_light_obs_wrapper_multi_instances\n",
    "        from wrapper.jssplight_wrapper import jssp_light_obs_wrapper_no_action_mask\n",
    "        from src.jss_lite.jss_lite import jss_lite\n",
    "        from ray import tune\n",
    "        curr_dir='/Users/felix/sciebo/masterarbeit/progra/model-based_rl'\n",
    "        inst=curr_dir + '/resources/jsp_instances/standard/la01.txt'\n",
    "        instance_list=['/resources/jsp_instances/standard/la01.txt']#,'/resources/jsp_instances/standard/la02.txt','/resources/jsp_instances/standard/la03.txt','/resources/jsp_instances/standard/la04.txt']\n",
    "        # Configure the algorithm.\n",
    "        def env_creator(env_config):\n",
    "            #env=jssp_light_obs_wrapper_multi_instances(instances_list=[inst])\n",
    "            env=jssp_light_obs_wrapper_no_action_mask(jssp_light_obs_wrapper_multi_instances(instances_list=[inst]))\n",
    "            #env=jss_lite(instance_path=inst)\n",
    "            #env=jssp_light_obs_wrapper_no_action_mask(jss_lite(instance_path=inst))\n",
    "            return env\n",
    "        # from wrapper.jssp_wrapper_klagenfurt import jssp_klagenfurt_obs_wrapper\n",
    "        # import JSSEnv\n",
    "        # #Configure the algorithm.\n",
    "        # def env_creator(env_config):\n",
    "        #     import JSSEnv\n",
    "        #     env = jssp_light_obs_wrapper_no_action_mask(jssp_klagenfurt_obs_wrapper(gym.make('jss-v1', env_config={'instance_path': 'resources/jsp_instances/standard/la01.txt'})))\n",
    "        #     return env\n",
    "        \n",
    "        tune.register_env('custom_jssp',env_creator)\n",
    "        config = {\n",
    "            \"env\": \"custom_jssp\",\n",
    "            \"disable_env_checking\":True,\n",
    "            \"num_workers\": 4,\n",
    "            \"framework\": \"tf\",\n",
    "            \"model\": {\n",
    "                \"fcnet_hiddens\": [64, 64],\n",
    "                \"fcnet_activation\": \"relu\",\n",
    "            },\n",
    "            \"evaluation_num_workers\": 0,\n",
    "            \"evaluation_config\": {\n",
    "                \"render_env\": False,\n",
    "            },\n",
    "            \n",
    "        }\n",
    "        trainer = PPOTrainer(config=config)\n",
    "        # following for customjssp:\n",
    "        trainer.load_checkpoint('/Users/felix/sciebo/masterarbeit/progra/model-based_rl/training_checkpoints/custom_ppo/checkpoint-60')\n",
    "        # for klagenfurt:\n",
    "        #trainer.load_checkpoint('/Users/felix/sciebo/masterarbeit/progra/model-based_rl/training_checkpoints/klagen_ppo/checkpoint-50')\n",
    "\n",
    "        return trainer\n",
    "\n",
    "    def propose_actions(self,state,observation):\n",
    "        policy = self.trainer.get_policy()\n",
    "        action, _, info = policy.compute_single_action(observation)\n",
    "        logits = info['action_dist_inputs']\n",
    "        self.env.set_state(state=state)\n",
    "        action_mask = self.env.get_legal_actions().astype(np.float32)\n",
    "        action_mask[action_mask==0] = - np.inf\n",
    "        probs=np.multiply(logits,action_mask)\n",
    "        probs[probs==np.inf]=-np.inf\n",
    "        best_action_id = probs.argmax()  # deterministic\n",
    "        highest_prob=probs.max()\n",
    "        #todo: check if it is good here\n",
    "        out,=np.where(probs>self.threshold*highest_prob)\n",
    "        return out, best_action_id    \n",
    "\n",
    "\n",
    "    def solve(self,max_pathes=None,max_time=None):\n",
    "        # here comes the solving method with abort conditions\n",
    "        start_time=time.time()\n",
    "        p_time=time.time()\n",
    "        self.sol_pathes=0\n",
    "\n",
    "        if max_pathes==None:\n",
    "            max_pathes=1000 \n",
    "        if max_time==None:\n",
    "            max_time=60\n",
    "        #print(self.open_leafs)\n",
    "        while self.open_leafs:\n",
    "            self.sol_pathes+=1\n",
    "            # abort conditions:\n",
    "            node=self.open_leafs.pop()\n",
    "            if self.sol_pathes > max_pathes or time.time()-start_time > max_time:\n",
    "                return False\n",
    "            while not self.done:\n",
    "                loop=0\n",
    "                \n",
    "                #possible_actions=np.random.choice(len(node.observation['action_mask']), p_r, p=(node.observation['action_mask'] / node.observation['action_mask'].sum()))\n",
    "                possible_actions, best_action = self.propose_actions(node.state,node.observation)\n",
    "                for action in set(possible_actions):\n",
    "                    if action!=best_action:\n",
    "                        #print(f\"action is: {action}\")\n",
    "                        self.insert(action=action,parent=node)\n",
    "                #assure that best action is insertet last\n",
    "                self.insert(action=best_action,parent=node)\n",
    "                for child in node.children:\n",
    "                    if child != node.children[-1]:\n",
    "                        #todo: check here if in action mask\n",
    "                        self.open_leafs.append(child)\n",
    "                while True:\n",
    "                    if node.children[-1].visited==False:\n",
    "                        node.children[-1].visited=True\n",
    "                        node=node.children[-1]\n",
    "                        \n",
    "                        break\n",
    "                    loop+=1\n",
    "                    if loop > len(node.children):\n",
    "                        print(\"all childrens visited; return done equal true\")\n",
    "                        self.done=True\n",
    "            self.done=False\n",
    "            \n",
    "\n",
    "\n"
   ]
  },
  {
   "cell_type": "code",
   "execution_count": 48,
   "metadata": {},
   "outputs": [
    {
     "name": "stderr",
     "output_type": "stream",
     "text": [
      "2022-10-27 10:52:46,201\tINFO trainable.py:159 -- Trainable.setup took 16.591 seconds. If your trainable is slow to initialize, consider setting reuse_actors=True to reduce actor creation overheads.\n"
     ]
    },
    {
     "name": "stdout",
     "output_type": "stream",
     "text": [
      "solve\n",
      "75.97597597597597\n",
      "1001\n"
     ]
    }
   ],
   "source": [
    "import ray\n",
    "ray.shutdown()\n",
    "init=tree_construct()\n",
    "print(\"solve\")\n",
    "init.solve()\n",
    "print(init.reward)\n",
    "print(init.sol_pathes)"
   ]
  },
  {
   "cell_type": "code",
   "execution_count": 58,
   "metadata": {},
   "outputs": [
    {
     "name": "stderr",
     "output_type": "stream",
     "text": [
      "2022-10-27 11:19:22,764\tINFO trainable.py:159 -- Trainable.setup took 15.827 seconds. If your trainable is slow to initialize, consider setting reuse_actors=True to reduce actor creation overheads.\n"
     ]
    }
   ],
   "source": [
    "\n",
    "from ray.rllib.agents.ppo import PPOTrainer\n",
    "from ray import tune\n",
    "import ray\n",
    "import gym\n",
    "from wrapper.jssplight_wrapper import jssp_light_obs_wrapper\n",
    "from wrapper.jssplight_wrapper import jssp_light_obs_wrapper_multi_instances\n",
    "from wrapper.jssplight_wrapper import jssp_light_obs_wrapper_no_action_mask\n",
    "from src.jss_lite.jss_lite import jss_lite\n",
    "from ray import tune\n",
    "curr_dir='/Users/felix/sciebo/masterarbeit/progra/model-based_rl'\n",
    "inst=curr_dir + '/resources/jsp_instances/standard/la01.txt'\n",
    "instance_list=['/resources/jsp_instances/standard/la01.txt']#,'/resources/jsp_instances/standard/la02.txt','/resources/jsp_instances/standard/la03.txt','/resources/jsp_instances/standard/la04.txt']\n",
    "# Configure the algorithm.\n",
    "# def env_creator(env_config):\n",
    "#     #env=jssp_light_obs_wrapper_multi_instances(instances_list=[inst])\n",
    "#     env=jssp_light_obs_wrapper_no_action_mask(jssp_light_obs_wrapper_multi_instances(instances_list=[inst]))\n",
    "#     #env=jss_lite(instance_path=inst)\n",
    "#     #env=jssp_light_obs_wrapper_no_action_mask(jss_lite(instance_path=inst))\n",
    "#     return env\n",
    "from wrapper.jssp_wrapper_klagenfurt import jssp_klagenfurt_obs_wrapper\n",
    "import JSSEnv\n",
    "#Configure the algorithm.\n",
    "def env_creator(env_config):\n",
    "    import JSSEnv\n",
    "    env = jssp_light_obs_wrapper_no_action_mask(jssp_klagenfurt_obs_wrapper(gym.make('jss-v1', env_config={'instance_path': 'resources/jsp_instances/standard/la01.txt'})))\n",
    "    return env\n",
    "\n",
    "ray.shutdown()\n",
    "# use tune to register the custom environment for the ppo trainer\n",
    "tune.register_env('custom_jssp',env_creator)\n",
    "\n",
    "\n",
    "config = {\n",
    "    \"env\": \"custom_jssp\",\n",
    "    \"disable_env_checking\":True,\n",
    "    \"num_workers\": 4,\n",
    "    \"framework\": \"tf\",\n",
    "    \"model\": {\n",
    "        \"fcnet_hiddens\": [64, 64],\n",
    "        \"fcnet_activation\": \"relu\",\n",
    "    },\n",
    "    \"evaluation_num_workers\": 0,\n",
    "    \"evaluation_config\": {\n",
    "        \"render_env\": False,\n",
    "    },\n",
    "    \n",
    "}\n",
    "trainer = PPOTrainer(config=config)\n",
    "#trainer.load_checkpoint('/Users/felix/sciebo/masterarbeit/progra/model-based_rl/ppo/checkpoint-4')\n",
    "trainer.load_checkpoint('/Users/felix/sciebo/masterarbeit/progra/model-based_rl/training_checkpoints/klagen_ppo/checkpoint-50')\n",
    "\n",
    "# for _ in range(60):\n",
    "#     print(_)\n",
    "#     trainer.train()\n",
    "#     trainer.save_checkpoint(\"training_checkpoints/custom_ppo\")\n",
    "\n",
    "\n"
   ]
  },
  {
   "cell_type": "code",
   "execution_count": 59,
   "metadata": {},
   "outputs": [],
   "source": [
    "for _ in range(50,50):\n",
    "    print('/Users/felix/sciebo/masterarbeit/progra/model-based_rl/training_checkpoints/klagen_ppo/checkpoint-'+str(_))\n",
    "    trainer.load_checkpoint('/Users/felix/sciebo/masterarbeit/progra/model-based_rl/training_checkpoints/klagen_ppo/checkpoint-'+str(_))\n",
    "    import numpy as np\n",
    "    #trainer.save_checkpoint(\"ppo\")\n",
    "    episode_reward = 0\n",
    "    #env=jssp_light_obs_wrapper_multi_instances(instances_list=[inst])\n",
    "    #env=jssp_light_obs_wrapper_no_action_mask(jssp_light_obs_wrapper_multi_instances(instances_list=[inst]))\n",
    "    env=env_creator(\"s\")\n",
    "    done = False\n",
    "    obs = env.reset()\n",
    "    iterations=0\n",
    "\n",
    "\n",
    "    while not done:\n",
    "        policy = trainer.get_policy()\n",
    "        action, _, info = policy.compute_single_action(obs)\n",
    "        logits = info['action_dist_inputs']\n",
    "        action_mask = env.get_legal_actions().astype(np.float32)\n",
    "        action_mask[action_mask==0] = - np.inf\n",
    "        probs=np.multiply(logits,action_mask)\n",
    "        probs[probs==np.inf]=-np.inf\n",
    "        best_action_id = probs.argmax()  # deterministic\n",
    "        #best_action_id = logits.argmax()\n",
    "        #best_action_id = trainer.compute_single_action(obs)\n",
    "        obs, reward, done, info = env.step(best_action_id)\n",
    "        episode_reward += reward\n",
    "        iterations += 1\n",
    "\n",
    "        #print(best_action_id)\n",
    "    #env.env.env.render()\n",
    "    #print(iterations)\n",
    "    #print(reward)\n",
    "    print(env.env.env.last_time_step-666)"
   ]
  },
  {
   "cell_type": "code",
   "execution_count": 60,
   "metadata": {},
   "outputs": [
    {
     "name": "stdout",
     "output_type": "stream",
     "text": [
      "99.71471471471472\n"
     ]
    }
   ],
   "source": [
    "\n",
    "needed_time=env.env.env.last_time_step\n",
    "optimal_value=666\n",
    "reward=100-((needed_time-optimal_value)/optimal_value)\n",
    "import datetime\n",
    "print(reward)\n",
    "#print(datetime.datetime.fromtimestamp(env.env.env.start_timestamp+env.env.env.last_time_step))\n",
    "#print((env.env.env.start_timestamp))\n",
    "#print(datetime.datetime.fromtimestamp(env.env.env.start_timestamp))\n",
    "\n",
    "#print(env.env.env.last_time_step)\n",
    "#print(datetime.datetime.fromtimestamp(env.env.env.last_time_step))\n",
    "#print(10*60*60-9*60*60+6*60-54*60+56-2)\n",
    "\n"
   ]
  },
  {
   "cell_type": "code",
   "execution_count": 36,
   "metadata": {},
   "outputs": [
    {
     "data": {
      "application/vnd.plotly.v1+json": {
       "config": {
        "plotlyServerURL": "https://plot.ly"
       },
       "data": [
        {
         "fill": "toself",
         "fillcolor": "rgb(194, 86, 229)",
         "hoverinfo": "name",
         "legendgroup": "rgb(194, 86, 229)",
         "mode": "none",
         "name": "Machine 4",
         "showlegend": true,
         "type": "scatter",
         "x": [
          "2022-10-27T10:33:23.406612",
          "2022-10-27T10:34:58.406612",
          "2022-10-27T10:34:58.406612",
          "2022-10-27T10:33:23.406612",
          "2022-10-27T10:33:23.406612",
          "2022-10-27T10:40:41.406612",
          "2022-10-27T10:40:57.406612",
          "2022-10-27T10:40:57.406612",
          "2022-10-27T10:40:41.406612",
          "2022-10-27T10:40:41.406612",
          "2022-10-27T10:31:45.406612",
          "2022-10-27T10:33:23.406612",
          "2022-10-27T10:33:23.406612",
          "2022-10-27T10:31:45.406612",
          "2022-10-27T10:31:45.406612",
          "2022-10-27T10:34:58.406612",
          "2022-10-27T10:36:17.406612",
          "2022-10-27T10:36:17.406612",
          "2022-10-27T10:34:58.406612",
          "2022-10-27T10:34:58.406612",
          "2022-10-27T10:40:57.406612",
          "2022-10-27T10:41:34.406612",
          "2022-10-27T10:41:34.406612",
          "2022-10-27T10:40:57.406612",
          "2022-10-27T10:40:57.406612",
          "2022-10-27T10:36:42.406612",
          "2022-10-27T10:38:01.406612",
          "2022-10-27T10:38:01.406612",
          "2022-10-27T10:36:42.406612",
          "2022-10-27T10:36:42.406612",
          "2022-10-27T10:38:01.406612",
          "2022-10-27T10:39:18.406612",
          "2022-10-27T10:39:18.406612",
          "2022-10-27T10:38:01.406612",
          "2022-10-27T10:38:01.406612",
          "2022-10-27T10:39:18.406612",
          "2022-10-27T10:40:41.406612",
          "2022-10-27T10:40:41.406612",
          "2022-10-27T10:39:18.406612",
          "2022-10-27T10:39:18.406612",
          "2022-10-27T10:36:17.406612",
          "2022-10-27T10:36:42.406612",
          "2022-10-27T10:36:42.406612",
          "2022-10-27T10:36:17.406612",
          "2022-10-27T10:36:17.406612",
          "2022-10-27T10:30:28.406612",
          "2022-10-27T10:31:45.406612",
          "2022-10-27T10:31:45.406612",
          "2022-10-27T10:30:28.406612"
         ],
         "y": [
          8.8,
          8.8,
          9.2,
          9.2,
          null,
          7.8,
          7.8,
          8.2,
          8.2,
          null,
          6.8,
          6.8,
          7.2,
          7.2,
          null,
          5.8,
          5.8,
          6.2,
          6.2,
          null,
          4.8,
          4.8,
          5.2,
          5.2,
          null,
          3.8,
          3.8,
          4.2,
          4.2,
          null,
          2.8,
          2.8,
          3.2,
          3.2,
          null,
          1.8,
          1.8,
          2.2,
          2.2,
          null,
          0.8,
          0.8,
          1.2,
          1.2,
          null,
          -0.2,
          -0.2,
          0.2,
          0.2
         ]
        },
        {
         "fill": "toself",
         "fillcolor": "rgb(236, 197, 124)",
         "hoverinfo": "name",
         "legendgroup": "rgb(236, 197, 124)",
         "mode": "none",
         "name": "Machine 0",
         "showlegend": true,
         "type": "scatter",
         "x": [
          "2022-10-27T10:31:51.406612",
          "2022-10-27T10:32:44.406612",
          "2022-10-27T10:32:44.406612",
          "2022-10-27T10:31:51.406612",
          "2022-10-27T10:31:51.406612",
          "2022-10-27T10:34:39.406612",
          "2022-10-27T10:35:00.406612",
          "2022-10-27T10:35:00.406612",
          "2022-10-27T10:34:39.406612",
          "2022-10-27T10:34:39.406612",
          "2022-10-27T10:35:00.406612",
          "2022-10-27T10:35:12.406612",
          "2022-10-27T10:35:12.406612",
          "2022-10-27T10:35:00.406612",
          "2022-10-27T10:35:00.406612",
          "2022-10-27T10:32:44.406612",
          "2022-10-27T10:33:39.406612",
          "2022-10-27T10:33:39.406612",
          "2022-10-27T10:32:44.406612",
          "2022-10-27T10:32:44.406612",
          "2022-10-27T10:30:28.406612",
          "2022-10-27T10:31:51.406612",
          "2022-10-27T10:31:51.406612",
          "2022-10-27T10:30:28.406612",
          "2022-10-27T10:30:28.406612",
          "2022-10-27T10:38:29.406612",
          "2022-10-27T10:40:01.406612",
          "2022-10-27T10:40:01.406612",
          "2022-10-27T10:38:29.406612",
          "2022-10-27T10:38:29.406612",
          "2022-10-27T10:42:12.406612",
          "2022-10-27T10:43:45.406612",
          "2022-10-27T10:43:45.406612",
          "2022-10-27T10:42:12.406612",
          "2022-10-27T10:42:12.406612",
          "2022-10-27T10:33:39.406612",
          "2022-10-27T10:34:39.406612",
          "2022-10-27T10:34:39.406612",
          "2022-10-27T10:33:39.406612",
          "2022-10-27T10:33:39.406612",
          "2022-10-27T10:37:45.406612",
          "2022-10-27T10:38:29.406612",
          "2022-10-27T10:38:29.406612",
          "2022-10-27T10:37:45.406612",
          "2022-10-27T10:37:45.406612",
          "2022-10-27T10:36:09.406612",
          "2022-10-27T10:37:45.406612",
          "2022-10-27T10:37:45.406612",
          "2022-10-27T10:36:09.406612"
         ],
         "y": [
          8.8,
          8.8,
          9.2,
          9.2,
          null,
          7.8,
          7.8,
          8.2,
          8.2,
          null,
          6.8,
          6.8,
          7.2,
          7.2,
          null,
          5.8,
          5.8,
          6.2,
          6.2,
          null,
          4.8,
          4.8,
          5.2,
          5.2,
          null,
          3.8,
          3.8,
          4.2,
          4.2,
          null,
          2.8,
          2.8,
          3.2,
          3.2,
          null,
          1.8,
          1.8,
          2.2,
          2.2,
          null,
          0.8,
          0.8,
          1.2,
          1.2,
          null,
          -0.2,
          -0.2,
          0.2,
          0.2
         ]
        },
        {
         "fill": "toself",
         "fillcolor": "rgb(29, 87, 171)",
         "hoverinfo": "name",
         "legendgroup": "rgb(29, 87, 171)",
         "mode": "none",
         "name": "Machine 1",
         "showlegend": true,
         "type": "scatter",
         "x": [
          "2022-10-27T10:30:28.406612",
          "2022-10-27T10:30:49.406612",
          "2022-10-27T10:30:49.406612",
          "2022-10-27T10:30:28.406612",
          "2022-10-27T10:30:28.406612",
          "2022-10-27T10:42:38.406612",
          "2022-10-27T10:43:49.406612",
          "2022-10-27T10:43:49.406612",
          "2022-10-27T10:42:38.406612",
          "2022-10-27T10:42:38.406612",
          "2022-10-27T10:33:23.406612",
          "2022-10-27T10:34:05.406612",
          "2022-10-27T10:34:05.406612",
          "2022-10-27T10:33:23.406612",
          "2022-10-27T10:33:23.406612",
          "2022-10-27T10:30:49.406612",
          "2022-10-27T10:32:06.406612",
          "2022-10-27T10:32:06.406612",
          "2022-10-27T10:30:49.406612",
          "2022-10-27T10:30:49.406612",
          "2022-10-27T10:36:50.406612",
          "2022-10-27T10:37:09.406612",
          "2022-10-27T10:37:09.406612",
          "2022-10-27T10:36:50.406612",
          "2022-10-27T10:36:50.406612",
          "2022-10-27T10:32:06.406612",
          "2022-10-27T10:33:00.406612",
          "2022-10-27T10:33:00.406612",
          "2022-10-27T10:32:06.406612",
          "2022-10-27T10:32:06.406612",
          "2022-10-27T10:39:18.406612",
          "2022-10-27T10:40:45.406612",
          "2022-10-27T10:40:45.406612",
          "2022-10-27T10:39:18.406612",
          "2022-10-27T10:39:18.406612",
          "2022-10-27T10:36:09.406612",
          "2022-10-27T10:36:50.406612",
          "2022-10-27T10:36:50.406612",
          "2022-10-27T10:36:09.406612",
          "2022-10-27T10:36:09.406612",
          "2022-10-27T10:34:05.406612",
          "2022-10-27T10:34:54.406612",
          "2022-10-27T10:34:54.406612",
          "2022-10-27T10:34:05.406612",
          "2022-10-27T10:34:05.406612",
          "2022-10-27T10:34:54.406612",
          "2022-10-27T10:36:09.406612",
          "2022-10-27T10:36:09.406612",
          "2022-10-27T10:34:54.406612"
         ],
         "y": [
          8.8,
          8.8,
          9.2,
          9.2,
          null,
          7.8,
          7.8,
          8.2,
          8.2,
          null,
          6.8,
          6.8,
          7.2,
          7.2,
          null,
          5.8,
          5.8,
          6.2,
          6.2,
          null,
          4.8,
          4.8,
          5.2,
          5.2,
          null,
          3.8,
          3.8,
          4.2,
          4.2,
          null,
          2.8,
          2.8,
          3.2,
          3.2,
          null,
          1.8,
          1.8,
          2.2,
          2.2,
          null,
          0.8,
          0.8,
          1.2,
          1.2,
          null,
          -0.2,
          -0.2,
          0.2,
          0.2
         ]
        },
        {
         "fill": "toself",
         "fillcolor": "rgb(57, 173, 27)",
         "hoverinfo": "name",
         "legendgroup": "rgb(57, 173, 27)",
         "mode": "none",
         "name": "Machine 2",
         "showlegend": true,
         "type": "scatter",
         "x": [
          "2022-10-27T10:36:01.406612",
          "2022-10-27T10:36:35.406612",
          "2022-10-27T10:36:35.406612",
          "2022-10-27T10:36:01.406612",
          "2022-10-27T10:36:01.406612",
          "2022-10-27T10:42:12.406612",
          "2022-10-27T10:42:38.406612",
          "2022-10-27T10:42:38.406612",
          "2022-10-27T10:42:12.406612",
          "2022-10-27T10:42:12.406612",
          "2022-10-27T10:34:26.406612",
          "2022-10-27T10:34:57.406612",
          "2022-10-27T10:34:57.406612",
          "2022-10-27T10:34:26.406612",
          "2022-10-27T10:34:26.406612",
          "2022-10-27T10:36:35.406612",
          "2022-10-27T10:37:41.406612",
          "2022-10-27T10:37:41.406612",
          "2022-10-27T10:36:35.406612",
          "2022-10-27T10:36:35.406612",
          "2022-10-27T10:34:57.406612",
          "2022-10-27T10:36:01.406612",
          "2022-10-27T10:36:01.406612",
          "2022-10-27T10:34:57.406612",
          "2022-10-27T10:34:57.406612",
          "2022-10-27T10:33:00.406612",
          "2022-10-27T10:33:43.406612",
          "2022-10-27T10:33:43.406612",
          "2022-10-27T10:33:00.406612",
          "2022-10-27T10:33:00.406612",
          "2022-10-27T10:40:45.406612",
          "2022-10-27T10:42:12.406612",
          "2022-10-27T10:42:12.406612",
          "2022-10-27T10:40:45.406612",
          "2022-10-27T10:40:45.406612",
          "2022-10-27T10:30:28.406612",
          "2022-10-27T10:31:06.406612",
          "2022-10-27T10:31:06.406612",
          "2022-10-27T10:30:28.406612",
          "2022-10-27T10:30:28.406612",
          "2022-10-27T10:38:29.406612",
          "2022-10-27T10:40:07.406612",
          "2022-10-27T10:40:07.406612",
          "2022-10-27T10:38:29.406612",
          "2022-10-27T10:38:29.406612",
          "2022-10-27T10:33:43.406612",
          "2022-10-27T10:34:26.406612",
          "2022-10-27T10:34:26.406612",
          "2022-10-27T10:33:43.406612"
         ],
         "y": [
          8.8,
          8.8,
          9.2,
          9.2,
          null,
          7.8,
          7.8,
          8.2,
          8.2,
          null,
          6.8,
          6.8,
          7.2,
          7.2,
          null,
          5.8,
          5.8,
          6.2,
          6.2,
          null,
          4.8,
          4.8,
          5.2,
          5.2,
          null,
          3.8,
          3.8,
          4.2,
          4.2,
          null,
          2.8,
          2.8,
          3.2,
          3.2,
          null,
          1.8,
          1.8,
          2.2,
          2.2,
          null,
          0.8,
          0.8,
          1.2,
          1.2,
          null,
          -0.2,
          -0.2,
          0.2,
          0.2
         ]
        },
        {
         "fill": "toself",
         "fillcolor": "rgb(78, 78, 127)",
         "hoverinfo": "name",
         "legendgroup": "rgb(78, 78, 127)",
         "mode": "none",
         "name": "Machine 3",
         "showlegend": true,
         "type": "scatter",
         "x": [
          "2022-10-27T10:34:58.406612",
          "2022-10-27T10:35:53.406612",
          "2022-10-27T10:35:53.406612",
          "2022-10-27T10:34:58.406612",
          "2022-10-27T10:34:58.406612",
          "2022-10-27T10:35:53.406612",
          "2022-10-27T10:36:45.406612",
          "2022-10-27T10:36:45.406612",
          "2022-10-27T10:35:53.406612",
          "2022-10-27T10:35:53.406612",
          "2022-10-27T10:30:28.406612",
          "2022-10-27T10:31:07.406612",
          "2022-10-27T10:31:07.406612",
          "2022-10-27T10:30:28.406612",
          "2022-10-27T10:30:28.406612",
          "2022-10-27T10:37:41.406612",
          "2022-10-27T10:38:58.406612",
          "2022-10-27T10:38:58.406612",
          "2022-10-27T10:37:41.406612",
          "2022-10-27T10:37:41.406612",
          "2022-10-27T10:33:52.406612",
          "2022-10-27T10:34:26.406612",
          "2022-10-27T10:34:26.406612",
          "2022-10-27T10:33:52.406612",
          "2022-10-27T10:33:52.406612",
          "2022-10-27T10:40:01.406612",
          "2022-10-27T10:41:03.406612",
          "2022-10-27T10:41:03.406612",
          "2022-10-27T10:40:01.406612",
          "2022-10-27T10:40:01.406612",
          "2022-10-27T10:31:07.406612",
          "2022-10-27T10:32:16.406612",
          "2022-10-27T10:32:16.406612",
          "2022-10-27T10:31:07.406612",
          "2022-10-27T10:31:07.406612",
          "2022-10-27T10:36:50.406612",
          "2022-10-27T10:37:14.406612",
          "2022-10-27T10:37:14.406612",
          "2022-10-27T10:36:50.406612",
          "2022-10-27T10:36:50.406612",
          "2022-10-27T10:33:35.406612",
          "2022-10-27T10:33:52.406612",
          "2022-10-27T10:33:52.406612",
          "2022-10-27T10:33:35.406612",
          "2022-10-27T10:33:35.406612",
          "2022-10-27T10:32:16.406612",
          "2022-10-27T10:33:35.406612",
          "2022-10-27T10:33:35.406612",
          "2022-10-27T10:32:16.406612"
         ],
         "y": [
          8.8,
          8.8,
          9.2,
          9.2,
          null,
          7.8,
          7.8,
          8.2,
          8.2,
          null,
          6.8,
          6.8,
          7.2,
          7.2,
          null,
          5.8,
          5.8,
          6.2,
          6.2,
          null,
          4.8,
          4.8,
          5.2,
          5.2,
          null,
          3.8,
          3.8,
          4.2,
          4.2,
          null,
          2.8,
          2.8,
          3.2,
          3.2,
          null,
          1.8,
          1.8,
          2.2,
          2.2,
          null,
          0.8,
          0.8,
          1.2,
          1.2,
          null,
          -0.2,
          -0.2,
          0.2,
          0.2
         ]
        },
        {
         "legendgroup": "rgb(194, 86, 229)",
         "marker": {
          "color": "rgb(194, 86, 229)",
          "opacity": 0,
          "size": 1
         },
         "mode": "markers",
         "name": "",
         "showlegend": false,
         "text": [
          null,
          null,
          null,
          null,
          null,
          null,
          null,
          null,
          null,
          null,
          null,
          null,
          null,
          null,
          null,
          null,
          null,
          null,
          null,
          null
         ],
         "type": "scatter",
         "x": [
          "2022-10-27T10:33:23.406612",
          "2022-10-27T10:34:58.406612",
          "2022-10-27T10:40:41.406612",
          "2022-10-27T10:40:57.406612",
          "2022-10-27T10:31:45.406612",
          "2022-10-27T10:33:23.406612",
          "2022-10-27T10:34:58.406612",
          "2022-10-27T10:36:17.406612",
          "2022-10-27T10:40:57.406612",
          "2022-10-27T10:41:34.406612",
          "2022-10-27T10:36:42.406612",
          "2022-10-27T10:38:01.406612",
          "2022-10-27T10:38:01.406612",
          "2022-10-27T10:39:18.406612",
          "2022-10-27T10:39:18.406612",
          "2022-10-27T10:40:41.406612",
          "2022-10-27T10:36:17.406612",
          "2022-10-27T10:36:42.406612",
          "2022-10-27T10:30:28.406612",
          "2022-10-27T10:31:45.406612"
         ],
         "y": [
          9,
          9,
          8,
          8,
          7,
          7,
          6,
          6,
          5,
          5,
          4,
          4,
          3,
          3,
          2,
          2,
          1,
          1,
          0,
          0
         ]
        },
        {
         "legendgroup": "rgb(236, 197, 124)",
         "marker": {
          "color": "rgb(236, 197, 124)",
          "opacity": 0,
          "size": 1
         },
         "mode": "markers",
         "name": "",
         "showlegend": false,
         "text": [
          null,
          null,
          null,
          null,
          null,
          null,
          null,
          null,
          null,
          null,
          null,
          null,
          null,
          null,
          null,
          null,
          null,
          null,
          null,
          null
         ],
         "type": "scatter",
         "x": [
          "2022-10-27T10:31:51.406612",
          "2022-10-27T10:32:44.406612",
          "2022-10-27T10:34:39.406612",
          "2022-10-27T10:35:00.406612",
          "2022-10-27T10:35:00.406612",
          "2022-10-27T10:35:12.406612",
          "2022-10-27T10:32:44.406612",
          "2022-10-27T10:33:39.406612",
          "2022-10-27T10:30:28.406612",
          "2022-10-27T10:31:51.406612",
          "2022-10-27T10:38:29.406612",
          "2022-10-27T10:40:01.406612",
          "2022-10-27T10:42:12.406612",
          "2022-10-27T10:43:45.406612",
          "2022-10-27T10:33:39.406612",
          "2022-10-27T10:34:39.406612",
          "2022-10-27T10:37:45.406612",
          "2022-10-27T10:38:29.406612",
          "2022-10-27T10:36:09.406612",
          "2022-10-27T10:37:45.406612"
         ],
         "y": [
          9,
          9,
          8,
          8,
          7,
          7,
          6,
          6,
          5,
          5,
          4,
          4,
          3,
          3,
          2,
          2,
          1,
          1,
          0,
          0
         ]
        },
        {
         "legendgroup": "rgb(29, 87, 171)",
         "marker": {
          "color": "rgb(29, 87, 171)",
          "opacity": 0,
          "size": 1
         },
         "mode": "markers",
         "name": "",
         "showlegend": false,
         "text": [
          null,
          null,
          null,
          null,
          null,
          null,
          null,
          null,
          null,
          null,
          null,
          null,
          null,
          null,
          null,
          null,
          null,
          null,
          null,
          null
         ],
         "type": "scatter",
         "x": [
          "2022-10-27T10:30:28.406612",
          "2022-10-27T10:30:49.406612",
          "2022-10-27T10:42:38.406612",
          "2022-10-27T10:43:49.406612",
          "2022-10-27T10:33:23.406612",
          "2022-10-27T10:34:05.406612",
          "2022-10-27T10:30:49.406612",
          "2022-10-27T10:32:06.406612",
          "2022-10-27T10:36:50.406612",
          "2022-10-27T10:37:09.406612",
          "2022-10-27T10:32:06.406612",
          "2022-10-27T10:33:00.406612",
          "2022-10-27T10:39:18.406612",
          "2022-10-27T10:40:45.406612",
          "2022-10-27T10:36:09.406612",
          "2022-10-27T10:36:50.406612",
          "2022-10-27T10:34:05.406612",
          "2022-10-27T10:34:54.406612",
          "2022-10-27T10:34:54.406612",
          "2022-10-27T10:36:09.406612"
         ],
         "y": [
          9,
          9,
          8,
          8,
          7,
          7,
          6,
          6,
          5,
          5,
          4,
          4,
          3,
          3,
          2,
          2,
          1,
          1,
          0,
          0
         ]
        },
        {
         "legendgroup": "rgb(57, 173, 27)",
         "marker": {
          "color": "rgb(57, 173, 27)",
          "opacity": 0,
          "size": 1
         },
         "mode": "markers",
         "name": "",
         "showlegend": false,
         "text": [
          null,
          null,
          null,
          null,
          null,
          null,
          null,
          null,
          null,
          null,
          null,
          null,
          null,
          null,
          null,
          null,
          null,
          null,
          null,
          null
         ],
         "type": "scatter",
         "x": [
          "2022-10-27T10:36:01.406612",
          "2022-10-27T10:36:35.406612",
          "2022-10-27T10:42:12.406612",
          "2022-10-27T10:42:38.406612",
          "2022-10-27T10:34:26.406612",
          "2022-10-27T10:34:57.406612",
          "2022-10-27T10:36:35.406612",
          "2022-10-27T10:37:41.406612",
          "2022-10-27T10:34:57.406612",
          "2022-10-27T10:36:01.406612",
          "2022-10-27T10:33:00.406612",
          "2022-10-27T10:33:43.406612",
          "2022-10-27T10:40:45.406612",
          "2022-10-27T10:42:12.406612",
          "2022-10-27T10:30:28.406612",
          "2022-10-27T10:31:06.406612",
          "2022-10-27T10:38:29.406612",
          "2022-10-27T10:40:07.406612",
          "2022-10-27T10:33:43.406612",
          "2022-10-27T10:34:26.406612"
         ],
         "y": [
          9,
          9,
          8,
          8,
          7,
          7,
          6,
          6,
          5,
          5,
          4,
          4,
          3,
          3,
          2,
          2,
          1,
          1,
          0,
          0
         ]
        },
        {
         "legendgroup": "rgb(78, 78, 127)",
         "marker": {
          "color": "rgb(78, 78, 127)",
          "opacity": 0,
          "size": 1
         },
         "mode": "markers",
         "name": "",
         "showlegend": false,
         "text": [
          null,
          null,
          null,
          null,
          null,
          null,
          null,
          null,
          null,
          null,
          null,
          null,
          null,
          null,
          null,
          null,
          null,
          null,
          null,
          null
         ],
         "type": "scatter",
         "x": [
          "2022-10-27T10:34:58.406612",
          "2022-10-27T10:35:53.406612",
          "2022-10-27T10:35:53.406612",
          "2022-10-27T10:36:45.406612",
          "2022-10-27T10:30:28.406612",
          "2022-10-27T10:31:07.406612",
          "2022-10-27T10:37:41.406612",
          "2022-10-27T10:38:58.406612",
          "2022-10-27T10:33:52.406612",
          "2022-10-27T10:34:26.406612",
          "2022-10-27T10:40:01.406612",
          "2022-10-27T10:41:03.406612",
          "2022-10-27T10:31:07.406612",
          "2022-10-27T10:32:16.406612",
          "2022-10-27T10:36:50.406612",
          "2022-10-27T10:37:14.406612",
          "2022-10-27T10:33:35.406612",
          "2022-10-27T10:33:52.406612",
          "2022-10-27T10:32:16.406612",
          "2022-10-27T10:33:35.406612"
         ],
         "y": [
          9,
          9,
          8,
          8,
          7,
          7,
          6,
          6,
          5,
          5,
          4,
          4,
          3,
          3,
          2,
          2,
          1,
          1,
          0,
          0
         ]
        }
       ],
       "layout": {
        "height": 600,
        "hovermode": "closest",
        "showlegend": true,
        "template": {
         "data": {
          "bar": [
           {
            "error_x": {
             "color": "#2a3f5f"
            },
            "error_y": {
             "color": "#2a3f5f"
            },
            "marker": {
             "line": {
              "color": "#E5ECF6",
              "width": 0.5
             },
             "pattern": {
              "fillmode": "overlay",
              "size": 10,
              "solidity": 0.2
             }
            },
            "type": "bar"
           }
          ],
          "barpolar": [
           {
            "marker": {
             "line": {
              "color": "#E5ECF6",
              "width": 0.5
             },
             "pattern": {
              "fillmode": "overlay",
              "size": 10,
              "solidity": 0.2
             }
            },
            "type": "barpolar"
           }
          ],
          "carpet": [
           {
            "aaxis": {
             "endlinecolor": "#2a3f5f",
             "gridcolor": "white",
             "linecolor": "white",
             "minorgridcolor": "white",
             "startlinecolor": "#2a3f5f"
            },
            "baxis": {
             "endlinecolor": "#2a3f5f",
             "gridcolor": "white",
             "linecolor": "white",
             "minorgridcolor": "white",
             "startlinecolor": "#2a3f5f"
            },
            "type": "carpet"
           }
          ],
          "choropleth": [
           {
            "colorbar": {
             "outlinewidth": 0,
             "ticks": ""
            },
            "type": "choropleth"
           }
          ],
          "contour": [
           {
            "colorbar": {
             "outlinewidth": 0,
             "ticks": ""
            },
            "colorscale": [
             [
              0,
              "#0d0887"
             ],
             [
              0.1111111111111111,
              "#46039f"
             ],
             [
              0.2222222222222222,
              "#7201a8"
             ],
             [
              0.3333333333333333,
              "#9c179e"
             ],
             [
              0.4444444444444444,
              "#bd3786"
             ],
             [
              0.5555555555555556,
              "#d8576b"
             ],
             [
              0.6666666666666666,
              "#ed7953"
             ],
             [
              0.7777777777777778,
              "#fb9f3a"
             ],
             [
              0.8888888888888888,
              "#fdca26"
             ],
             [
              1,
              "#f0f921"
             ]
            ],
            "type": "contour"
           }
          ],
          "contourcarpet": [
           {
            "colorbar": {
             "outlinewidth": 0,
             "ticks": ""
            },
            "type": "contourcarpet"
           }
          ],
          "heatmap": [
           {
            "colorbar": {
             "outlinewidth": 0,
             "ticks": ""
            },
            "colorscale": [
             [
              0,
              "#0d0887"
             ],
             [
              0.1111111111111111,
              "#46039f"
             ],
             [
              0.2222222222222222,
              "#7201a8"
             ],
             [
              0.3333333333333333,
              "#9c179e"
             ],
             [
              0.4444444444444444,
              "#bd3786"
             ],
             [
              0.5555555555555556,
              "#d8576b"
             ],
             [
              0.6666666666666666,
              "#ed7953"
             ],
             [
              0.7777777777777778,
              "#fb9f3a"
             ],
             [
              0.8888888888888888,
              "#fdca26"
             ],
             [
              1,
              "#f0f921"
             ]
            ],
            "type": "heatmap"
           }
          ],
          "heatmapgl": [
           {
            "colorbar": {
             "outlinewidth": 0,
             "ticks": ""
            },
            "colorscale": [
             [
              0,
              "#0d0887"
             ],
             [
              0.1111111111111111,
              "#46039f"
             ],
             [
              0.2222222222222222,
              "#7201a8"
             ],
             [
              0.3333333333333333,
              "#9c179e"
             ],
             [
              0.4444444444444444,
              "#bd3786"
             ],
             [
              0.5555555555555556,
              "#d8576b"
             ],
             [
              0.6666666666666666,
              "#ed7953"
             ],
             [
              0.7777777777777778,
              "#fb9f3a"
             ],
             [
              0.8888888888888888,
              "#fdca26"
             ],
             [
              1,
              "#f0f921"
             ]
            ],
            "type": "heatmapgl"
           }
          ],
          "histogram": [
           {
            "marker": {
             "pattern": {
              "fillmode": "overlay",
              "size": 10,
              "solidity": 0.2
             }
            },
            "type": "histogram"
           }
          ],
          "histogram2d": [
           {
            "colorbar": {
             "outlinewidth": 0,
             "ticks": ""
            },
            "colorscale": [
             [
              0,
              "#0d0887"
             ],
             [
              0.1111111111111111,
              "#46039f"
             ],
             [
              0.2222222222222222,
              "#7201a8"
             ],
             [
              0.3333333333333333,
              "#9c179e"
             ],
             [
              0.4444444444444444,
              "#bd3786"
             ],
             [
              0.5555555555555556,
              "#d8576b"
             ],
             [
              0.6666666666666666,
              "#ed7953"
             ],
             [
              0.7777777777777778,
              "#fb9f3a"
             ],
             [
              0.8888888888888888,
              "#fdca26"
             ],
             [
              1,
              "#f0f921"
             ]
            ],
            "type": "histogram2d"
           }
          ],
          "histogram2dcontour": [
           {
            "colorbar": {
             "outlinewidth": 0,
             "ticks": ""
            },
            "colorscale": [
             [
              0,
              "#0d0887"
             ],
             [
              0.1111111111111111,
              "#46039f"
             ],
             [
              0.2222222222222222,
              "#7201a8"
             ],
             [
              0.3333333333333333,
              "#9c179e"
             ],
             [
              0.4444444444444444,
              "#bd3786"
             ],
             [
              0.5555555555555556,
              "#d8576b"
             ],
             [
              0.6666666666666666,
              "#ed7953"
             ],
             [
              0.7777777777777778,
              "#fb9f3a"
             ],
             [
              0.8888888888888888,
              "#fdca26"
             ],
             [
              1,
              "#f0f921"
             ]
            ],
            "type": "histogram2dcontour"
           }
          ],
          "mesh3d": [
           {
            "colorbar": {
             "outlinewidth": 0,
             "ticks": ""
            },
            "type": "mesh3d"
           }
          ],
          "parcoords": [
           {
            "line": {
             "colorbar": {
              "outlinewidth": 0,
              "ticks": ""
             }
            },
            "type": "parcoords"
           }
          ],
          "pie": [
           {
            "automargin": true,
            "type": "pie"
           }
          ],
          "scatter": [
           {
            "fillpattern": {
             "fillmode": "overlay",
             "size": 10,
             "solidity": 0.2
            },
            "type": "scatter"
           }
          ],
          "scatter3d": [
           {
            "line": {
             "colorbar": {
              "outlinewidth": 0,
              "ticks": ""
             }
            },
            "marker": {
             "colorbar": {
              "outlinewidth": 0,
              "ticks": ""
             }
            },
            "type": "scatter3d"
           }
          ],
          "scattercarpet": [
           {
            "marker": {
             "colorbar": {
              "outlinewidth": 0,
              "ticks": ""
             }
            },
            "type": "scattercarpet"
           }
          ],
          "scattergeo": [
           {
            "marker": {
             "colorbar": {
              "outlinewidth": 0,
              "ticks": ""
             }
            },
            "type": "scattergeo"
           }
          ],
          "scattergl": [
           {
            "marker": {
             "colorbar": {
              "outlinewidth": 0,
              "ticks": ""
             }
            },
            "type": "scattergl"
           }
          ],
          "scattermapbox": [
           {
            "marker": {
             "colorbar": {
              "outlinewidth": 0,
              "ticks": ""
             }
            },
            "type": "scattermapbox"
           }
          ],
          "scatterpolar": [
           {
            "marker": {
             "colorbar": {
              "outlinewidth": 0,
              "ticks": ""
             }
            },
            "type": "scatterpolar"
           }
          ],
          "scatterpolargl": [
           {
            "marker": {
             "colorbar": {
              "outlinewidth": 0,
              "ticks": ""
             }
            },
            "type": "scatterpolargl"
           }
          ],
          "scatterternary": [
           {
            "marker": {
             "colorbar": {
              "outlinewidth": 0,
              "ticks": ""
             }
            },
            "type": "scatterternary"
           }
          ],
          "surface": [
           {
            "colorbar": {
             "outlinewidth": 0,
             "ticks": ""
            },
            "colorscale": [
             [
              0,
              "#0d0887"
             ],
             [
              0.1111111111111111,
              "#46039f"
             ],
             [
              0.2222222222222222,
              "#7201a8"
             ],
             [
              0.3333333333333333,
              "#9c179e"
             ],
             [
              0.4444444444444444,
              "#bd3786"
             ],
             [
              0.5555555555555556,
              "#d8576b"
             ],
             [
              0.6666666666666666,
              "#ed7953"
             ],
             [
              0.7777777777777778,
              "#fb9f3a"
             ],
             [
              0.8888888888888888,
              "#fdca26"
             ],
             [
              1,
              "#f0f921"
             ]
            ],
            "type": "surface"
           }
          ],
          "table": [
           {
            "cells": {
             "fill": {
              "color": "#EBF0F8"
             },
             "line": {
              "color": "white"
             }
            },
            "header": {
             "fill": {
              "color": "#C8D4E3"
             },
             "line": {
              "color": "white"
             }
            },
            "type": "table"
           }
          ]
         },
         "layout": {
          "annotationdefaults": {
           "arrowcolor": "#2a3f5f",
           "arrowhead": 0,
           "arrowwidth": 1
          },
          "autotypenumbers": "strict",
          "coloraxis": {
           "colorbar": {
            "outlinewidth": 0,
            "ticks": ""
           }
          },
          "colorscale": {
           "diverging": [
            [
             0,
             "#8e0152"
            ],
            [
             0.1,
             "#c51b7d"
            ],
            [
             0.2,
             "#de77ae"
            ],
            [
             0.3,
             "#f1b6da"
            ],
            [
             0.4,
             "#fde0ef"
            ],
            [
             0.5,
             "#f7f7f7"
            ],
            [
             0.6,
             "#e6f5d0"
            ],
            [
             0.7,
             "#b8e186"
            ],
            [
             0.8,
             "#7fbc41"
            ],
            [
             0.9,
             "#4d9221"
            ],
            [
             1,
             "#276419"
            ]
           ],
           "sequential": [
            [
             0,
             "#0d0887"
            ],
            [
             0.1111111111111111,
             "#46039f"
            ],
            [
             0.2222222222222222,
             "#7201a8"
            ],
            [
             0.3333333333333333,
             "#9c179e"
            ],
            [
             0.4444444444444444,
             "#bd3786"
            ],
            [
             0.5555555555555556,
             "#d8576b"
            ],
            [
             0.6666666666666666,
             "#ed7953"
            ],
            [
             0.7777777777777778,
             "#fb9f3a"
            ],
            [
             0.8888888888888888,
             "#fdca26"
            ],
            [
             1,
             "#f0f921"
            ]
           ],
           "sequentialminus": [
            [
             0,
             "#0d0887"
            ],
            [
             0.1111111111111111,
             "#46039f"
            ],
            [
             0.2222222222222222,
             "#7201a8"
            ],
            [
             0.3333333333333333,
             "#9c179e"
            ],
            [
             0.4444444444444444,
             "#bd3786"
            ],
            [
             0.5555555555555556,
             "#d8576b"
            ],
            [
             0.6666666666666666,
             "#ed7953"
            ],
            [
             0.7777777777777778,
             "#fb9f3a"
            ],
            [
             0.8888888888888888,
             "#fdca26"
            ],
            [
             1,
             "#f0f921"
            ]
           ]
          },
          "colorway": [
           "#636efa",
           "#EF553B",
           "#00cc96",
           "#ab63fa",
           "#FFA15A",
           "#19d3f3",
           "#FF6692",
           "#B6E880",
           "#FF97FF",
           "#FECB52"
          ],
          "font": {
           "color": "#2a3f5f"
          },
          "geo": {
           "bgcolor": "white",
           "lakecolor": "white",
           "landcolor": "#E5ECF6",
           "showlakes": true,
           "showland": true,
           "subunitcolor": "white"
          },
          "hoverlabel": {
           "align": "left"
          },
          "hovermode": "closest",
          "mapbox": {
           "style": "light"
          },
          "paper_bgcolor": "white",
          "plot_bgcolor": "#E5ECF6",
          "polar": {
           "angularaxis": {
            "gridcolor": "white",
            "linecolor": "white",
            "ticks": ""
           },
           "bgcolor": "#E5ECF6",
           "radialaxis": {
            "gridcolor": "white",
            "linecolor": "white",
            "ticks": ""
           }
          },
          "scene": {
           "xaxis": {
            "backgroundcolor": "#E5ECF6",
            "gridcolor": "white",
            "gridwidth": 2,
            "linecolor": "white",
            "showbackground": true,
            "ticks": "",
            "zerolinecolor": "white"
           },
           "yaxis": {
            "backgroundcolor": "#E5ECF6",
            "gridcolor": "white",
            "gridwidth": 2,
            "linecolor": "white",
            "showbackground": true,
            "ticks": "",
            "zerolinecolor": "white"
           },
           "zaxis": {
            "backgroundcolor": "#E5ECF6",
            "gridcolor": "white",
            "gridwidth": 2,
            "linecolor": "white",
            "showbackground": true,
            "ticks": "",
            "zerolinecolor": "white"
           }
          },
          "shapedefaults": {
           "line": {
            "color": "#2a3f5f"
           }
          },
          "ternary": {
           "aaxis": {
            "gridcolor": "white",
            "linecolor": "white",
            "ticks": ""
           },
           "baxis": {
            "gridcolor": "white",
            "linecolor": "white",
            "ticks": ""
           },
           "bgcolor": "#E5ECF6",
           "caxis": {
            "gridcolor": "white",
            "linecolor": "white",
            "ticks": ""
           }
          },
          "title": {
           "x": 0.05
          },
          "xaxis": {
           "automargin": true,
           "gridcolor": "white",
           "linecolor": "white",
           "ticks": "",
           "title": {
            "standoff": 15
           },
           "zerolinecolor": "white",
           "zerolinewidth": 2
          },
          "yaxis": {
           "automargin": true,
           "gridcolor": "white",
           "linecolor": "white",
           "ticks": "",
           "title": {
            "standoff": 15
           },
           "zerolinecolor": "white",
           "zerolinewidth": 2
          }
         }
        },
        "title": {
         "text": "Gantt Chart"
        },
        "xaxis": {
         "rangeselector": {
          "buttons": [
           {
            "count": 7,
            "label": "1w",
            "step": "day",
            "stepmode": "backward"
           },
           {
            "count": 1,
            "label": "1m",
            "step": "month",
            "stepmode": "backward"
           },
           {
            "count": 6,
            "label": "6m",
            "step": "month",
            "stepmode": "backward"
           },
           {
            "count": 1,
            "label": "YTD",
            "step": "year",
            "stepmode": "todate"
           },
           {
            "count": 1,
            "label": "1y",
            "step": "year",
            "stepmode": "backward"
           },
           {
            "step": "all"
           }
          ]
         },
         "showgrid": false,
         "type": "date",
         "zeroline": false
        },
        "yaxis": {
         "autorange": "reversed",
         "range": [
          -1,
          11
         ],
         "showgrid": false,
         "ticktext": [
          "Job 9",
          "Job 8",
          "Job 7",
          "Job 6",
          "Job 5",
          "Job 4",
          "Job 3",
          "Job 2",
          "Job 1",
          "Job 0"
         ],
         "tickvals": [
          0,
          1,
          2,
          3,
          4,
          5,
          6,
          7,
          8,
          9
         ],
         "zeroline": false
        }
       }
      }
     },
     "metadata": {},
     "output_type": "display_data"
    }
   ],
   "source": [
    "env.env.env.render()"
   ]
  },
  {
   "cell_type": "code",
   "execution_count": null,
   "metadata": {},
   "outputs": [],
   "source": [
    "env_2=jssp_light_obs_wrapper_multi_instances(instances_list=[inst])\n",
    "x,=env_2.observation_space['obs'].shape\n",
    "print(x)"
   ]
  },
  {
   "cell_type": "code",
   "execution_count": null,
   "metadata": {},
   "outputs": [],
   "source": [
    "print(iterations)\n",
    "env.render()"
   ]
  },
  {
   "cell_type": "code",
   "execution_count": null,
   "metadata": {},
   "outputs": [],
   "source": [
    "print(info)\n",
    "print(len(info['action_dist_inputs']))"
   ]
  },
  {
   "cell_type": "code",
   "execution_count": null,
   "metadata": {},
   "outputs": [],
   "source": [
    "import numpy as np\n",
    "import time\n",
    "from wrapper.jssplight_wrapper import jssp_light_obs_wrapper\n",
    "from wrapper.jssplight_wrapper import jssp_light_obs_wrapper_multi_instances\n",
    "from src.jss_lite.jss_lite import jss_lite\n",
    "curr_dir='/Users/felix/sciebo/masterarbeit/progra/model-based_rl'\n",
    "inst=curr_dir + '/resources/jsp_instances/standard/ft06.txt'\n",
    "instance_list=['/resources/jsp_instances/standard/la01.txt']#,'/resources/jsp_instances/standard/la02.txt','/resources/jsp_instances/standard/la03.txt','/resources/jsp_instances/standard/la04.txt']\n",
    "# Configure the algorithm.\n",
    "def env_creator(env_config):\n",
    "    env=jssp_light_obs_wrapper_multi_instances(instances_list=[inst])\n",
    "    #env=jss_lite(instance_path=inst)\n",
    "    return env\n",
    "# get random actions:\n",
    "reward=0\n",
    "while reward <0.95:\n",
    "#for _ in range(100):\n",
    "    action_list=[]\n",
    "    env = env_creator(\"s\")\n",
    "\n",
    "    obs = env.reset()\n",
    "    # env2 is copy for later going evaluation\n",
    "    counter=0\n",
    "    done = False\n",
    "    t=time.time()\n",
    "    while not done:\n",
    "        legal_action=obs['action_mask']\n",
    "        action=np.random.choice(len(legal_action), 1, p=(legal_action / legal_action.sum()))[0]\n",
    "        action_list.append(action)\n",
    "        #print(action)\n",
    "        #print(obs['action_mask'][action])\n",
    "        obs, reward, done, _ = env.step(action)\n",
    "        counter+=1\n",
    "    #print(f\"instance: {env.env.instance} in time: {time.time()-t}s\")\n",
    "    \n",
    "    #env.render()\n",
    "    #env.close()\n",
    "print(counter)\n",
    "print(reward)\n",
    "env.render()"
   ]
  },
  {
   "cell_type": "code",
   "execution_count": null,
   "metadata": {},
   "outputs": [],
   "source": [
    "import numpy as np\n",
    "x=np.array([2,2,2,2,2,2,2,2,2,2,2,2,4])\n",
    "print(x[x>=0.8*2].argmax())\n",
    "y,=(np.where(x>=2))\n",
    "\n",
    "for i in y:\n",
    "    print(i)"
   ]
  }
 ],
 "metadata": {
  "kernelspec": {
   "display_name": "Python 3.10.4 ('customjssp')",
   "language": "python",
   "name": "python3"
  },
  "language_info": {
   "codemirror_mode": {
    "name": "ipython",
    "version": 3
   },
   "file_extension": ".py",
   "mimetype": "text/x-python",
   "name": "python",
   "nbconvert_exporter": "python",
   "pygments_lexer": "ipython3",
   "version": "3.10.4"
  },
  "orig_nbformat": 4,
  "vscode": {
   "interpreter": {
    "hash": "7344f7b5995cbf62a990a56ee6eec8bd53f41a3aff848cd18f1feb05905aa9e3"
   }
  }
 },
 "nbformat": 4,
 "nbformat_minor": 2
}
