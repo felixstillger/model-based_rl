{
 "cells": [
  {
   "cell_type": "code",
   "execution_count": 63,
   "metadata": {},
   "outputs": [],
   "source": [
    "\n",
    "from os.path import exists\n",
    "import numpy as np\n",
    "#get_self: n_jobs,n_machines\n",
    "instance_path = \"/Users/felix/sciebo/masterarbeit/progra/model-based_rl/resources/jsp_instances/standard/abz5.txt\"\n",
    "if not exists(instance_path):\n",
    "    raise FileExistsError(f\"File does not exists or {instance_path} is no valid path\")\n",
    "if instance_path is None:\n",
    "    raise ValueError(\"no instance is given\")\n",
    "    # here begins instance parser\n",
    "if any(x in instance_path for x in [\"abz\",\"dmu\",\"yn\",\"ta\",\"swv\",\"orb\",\"la\",\"ft\"]):\n",
    "    n_line = 0\n",
    "    with open(instance_path, 'r') as text:\n",
    "        for line_txt in text.readlines():\n",
    "            n_line+=1\n",
    "            if n_line == 1:\n",
    "                n_jobs,n_machines=map(int,line_txt.split())\n",
    "                # matrix contains machine and coresponding job lenth\n",
    "                job_machine_matrix = np.zeros((n_jobs,n_machines), dtype=(np.int32))\n",
    "                job_tasklength_matrix=np.zeros((n_jobs,n_machines), dtype=(np.int32))\n",
    "                # contains time to complete jobs\n",
    "                job_length = np.zeros(n_jobs, dtype=np.int32)\n",
    "            else:\n",
    "                j=0\n",
    "                nr_job=n_line-1\n",
    "                cum_jobtime=0\n",
    "                for i in line_txt.split(\"\t\"):\n",
    "                    i=int(i)\n",
    "                    if j%2==0:\n",
    "                        job_machine_matrix[nr_job-1][int((j)/2)]= i \n",
    "                    else:\n",
    "                        job_tasklength_matrix[nr_job-1][int((j-1)/2)]= i \n",
    "                        cum_jobtime+=i\n",
    "                    j+=1    \n",
    "                job_length[nr_job-1]= cum_jobtime\n",
    "        #todo: implement more conventions, e.g. IMA or Taillard\n",
    "else:\n",
    "    raise NotImplementedError(\"till now only standard instances are implemented\")\n",
    "\n",
    "\n",
    "observation_space_shape=(max(n_jobs+1,n_machines),6)    \n",
    "import gym\n",
    "action_space = gym.spaces.Discrete(n_jobs+1) \n",
    "# observation space contains for every job:\n",
    "    #   - task can be assigned (previouse task of job is finished! and machine is free -> legal action mask)\n",
    "    #   - process time for next task // normalized by longest task over all jobs\n",
    "    #   - seconds this job needs in best case // normalized by longest job\n",
    "\n",
    "    #   - earliest time next task from different job needs this machine\n",
    "    #   - smth. like % of next task or duration of task\n",
    "\n",
    "# observation space contains for every machine:\n",
    "    #   - time which this machine has to be running in total // normalized by all jobs: beginning-> 1, finish ->0\n",
    "    #   -             \n",
    "observation_space = gym.spaces.Dict({\n",
    "        \"action_mask\": gym.spaces.Box(0, 1, shape=(action_space.n,), dtype=np.int32),\n",
    "        \"obs\": gym.spaces.Box(low=0.0,high=1.0,\n",
    "            shape=observation_space_shape,dtype=np.float64)   \n",
    "                                                            }\n",
    "                                                )\n",
    "    \n"
   ]
  },
  {
   "cell_type": "code",
   "execution_count": 64,
   "metadata": {},
   "outputs": [],
   "source": [
    "\n",
    "\n",
    "from math import ceil\n",
    "import math\n",
    "\n",
    "def norm_with_max(value,max_value):\n",
    "    # just a function to norm towards a max value to use the same round metric and to get values between 0 and 1\n",
    "    return round(value/max_value,4)\n",
    "\n",
    "def denorm_with_max(normed_value,max_value):\n",
    "    return ceil(normed_value*max_value)\n",
    "\n",
    "\n",
    "def get_legal_actions(obs):\n",
    "    action_mask=np.full((n_jobs+1,),False)\n",
    "    avail_machines=[]\n",
    "    for i in range(n_machines):\n",
    "        print(current_machines_status[i][0])\n",
    "        if math.isnan(current_machines_status[i][0]):\n",
    "            avail_machines.append(i)\n",
    "    print(\"avail machines:\")\n",
    "    print(avail_machines)\n",
    "    for i in range(n_jobs):\n",
    "        #obs i 5 is normed count of finished tasks\n",
    "        if job_machine_matrix[i][denorm_with_max(obs[i][5],n_tasks)] in avail_machines:\n",
    "            action_mask[i]=True\n",
    "\n",
    "    # definition for timestep skipping, by now just skip if there is no free machine for current job, \n",
    "    # todo: define when it is necessary to skip jobs.\n",
    "    if True not in action_mask:\n",
    "        action_mask[n_jobs]=True\n",
    "\n",
    "    return action_mask\n",
    "\n",
    "count_finished_tasks_job_matrix=np.zeros(n_jobs,dtype=np.int32)\n",
    "current_timestep=0\n",
    "longest_tasklength=np.amax(job_tasklength_matrix)\n",
    "n_tasks=job_tasklength_matrix.shape[1]\n",
    "# first entry stores active processed time of job, second entry overall task time\n",
    "processed_and_max_time_job_matrix=np.zeros((n_jobs,2))\n",
    "# machine status stores: current job, time operation/task left, total time working\n",
    "current_machines_status=np.zeros((n_machines,3))\n",
    "# set current job to nan because no job is assigned to the machines\n",
    "current_machines_status[:,0]=np.nan\n",
    "\n",
    "for i in range(n_jobs):\n",
    "    processed_and_max_time_job_matrix[i][1]=sum(job_tasklength_matrix[i])\n",
    "\n",
    "\n",
    "# observation space contains for every job:\n",
    "            #   - task can be assigned (previouse task of job is finished! and machine is free -> legal action mask)\n",
    "            #   - process time for next task // normalized by longest task over all jobs\n",
    "            #   - seconds this job needs in best case // normalized by longest job\n",
    "\n",
    "            #   - earliest time next task from different job needs this machine\n",
    "            #   - smth. like % of next task or duration of task\n",
    "\n",
    "        # observation space contains for every machine:\n",
    "            #   - time which this machine has to be running in total // normalized by all jobs: beginning-> 1, finish ->0\n",
    "            #   -             \n",
    "\"\"\"\n",
    "    -Legal job\n",
    "            -Left over time on the current op\n",
    "            -Current operation %\n",
    "            -Total left over time\n",
    "            -When next machine available\n",
    "            -Time since IDLE: 0 if not available, time otherwise\n",
    "            -Total IDLE time in the schedule\n",
    "\"\"\"\n",
    "\n",
    "# inital observation\n",
    "observation= np.zeros(shape=observation_space_shape)\n",
    "# first row is legal action mask\n",
    "observation[:,0]=np.full((n_jobs+1,),True)\n",
    "# set skip timestep to False\n",
    "observation[n_jobs][0]=False\n",
    "\n",
    "\n",
    "for i in range(n_jobs):\n",
    "    # second attribute: current time left on current task:\n",
    "    observation[i,1]=norm_with_max(0,longest_tasklength)\n",
    "    # third attribute: process time of next scheduled task\n",
    "    observation[i,2]=norm_with_max(job_tasklength_matrix[i][count_finished_tasks_job_matrix[i]],longest_tasklength)\n",
    "    #fourth attribute: process on current job in percent\n",
    "    observation[i,3]=norm_with_max(processed_and_max_time_job_matrix[i][0],processed_and_max_time_job_matrix[i][1])\n",
    "    # count finished tasks// normalized\n",
    "    observation[i][4]=norm_with_max(count_finished_tasks_job_matrix[i],n_tasks)\n",
    "for i in range(n_machines):\n",
    "    # time to next machine available\n",
    "    observation[i][5]=norm_with_max(current_machines_status[i][1],longest_tasklength)\n",
    "\n",
    "    \n",
    "\n",
    "\n"
   ]
  },
  {
   "cell_type": "code",
   "execution_count": 65,
   "metadata": {},
   "outputs": [],
   "source": [
    "import math\n",
    "\"\"\"\n",
    "for i in range(n_jobs):\n",
    "        #obs i 5 is normed count of finished tasks\n",
    "        if job_machine_matrix[i][denorm_with_max(count_finished_tasks_job_matrix[i],n_tasks)] in avail_machines:\n",
    "            action_mask[i]=True\n",
    "    observation[:,0]=action_mask\n",
    "    for i in range(n_jobs):\n",
    "\n",
    "        # third attribute: process time of next scheduled task\n",
    "        observation[i,2]=norm_with_max(job_tasklength_matrix[i][count_finished_tasks_job_matrix[i]],longest_tasklength)\n",
    "        #fourth attribute: process on current job in percent\n",
    "        observation[i,3]=norm_with_max(processed_and_max_time_job_matrix[i][0],processed_and_max_time_job_matrix[i][1])\n",
    "        # count finished tasks// normalized\n",
    "        observation[i][4]=norm_with_max(count_finished_tasks_job_matrix[i],n_tasks)\n",
    "\n",
    "    observation[:,1]=np.zeros(n_jobs)    \n",
    "    for i in range(n_machines):\n",
    "        # time to next machine available\n",
    "        observation[i][5]=norm_with_max(current_machines_status[i][1],longest_tasklength)\n",
    "        # second attribute: current time left on current task, if task is not assigned it got value 0: todo: checkout it 0 or full time makes sense\n",
    "        observation[current_machines\n",
    "\"\"\"\n",
    "def observation_to_state(obs):\n",
    "    #todo: complete function\n",
    "    state=np.concatenate(np.ravel(obs[0:n_jobs+1,0]),np.ravel(obs[0:n_jobs,1:4]),np.ravel(obs[0:n_machines,5]),axis=None)\n",
    "    return state\n",
    "# stores all timestemps\n",
    "timestemp_list=[]\n",
    "done=False\n",
    "#stores quatuple(job,task,start_time,finish_time) \n",
    "production_list=np.empty((n_machines,n_tasks),dtype=object)\n",
    "\n",
    "#\n",
    "count_finished_tasks_machine_matrix=np.zeros(n_machines)\n",
    "# starting point\n",
    "timestemp_list.append(0)\n",
    "\n",
    "\n",
    "def step(action):\n",
    "    reward=0\n",
    "    if observation[action,0]==False:\n",
    "        raise ValueError(\"action is not in legal actions: implement to do nothing...\")\n",
    "    if action==n_jobs:\n",
    "        #implement to jump to next timestemp\n",
    "        #check if done? todo: add aditional checks like are all tasks done and satisfied or just problems with timestemp?\n",
    "        if not timestemp_list:\n",
    "            # this is reward to mini makespan: todo:implement utilisation etc.\n",
    "            reward=-current_timestep\n",
    "            done=True\n",
    "        else:\n",
    "            # temp. saving timestep\n",
    "            forward_timestep=current_timestep\n",
    "            timestemp_list.sort()\n",
    "            current_timestep=timestemp_list.pop(0)\n",
    "            # how large is the timestep?\n",
    "            forward_timestep=current_timestep-forward_timestep\n",
    "            # substract forwarded time from current production, update on all active machines:\n",
    "            for i in range(n_machines):\n",
    "                #check if machine is active, active if 0th entry is not nan\n",
    "                if math.isnan(current_machines_status[i,0])==False:\n",
    "                    job=current_machines_status[i,0]\n",
    "                    processed_and_max_time_job_matrix[job,1]=processed_and_max_time_job_matrix[job,1]+forward_timestep\n",
    "                    # leftover time for task on machine i\n",
    "                    current_machines_status[i,1]-=forward_timestep\n",
    "                    #total time of machine working\n",
    "                    current_machines_status[i,2]+=forward_timestep\n",
    "                    if processed_and_max_time_job_matrix[job,1] >= processed_and_max_time_job_matrix[job,1]:\n",
    "                        #machine is finished with task, need reward before\n",
    "                        current_machines_status[i,0]=np.nan\n",
    "                        # residual time of job, obviously =0\n",
    "                        if current_machines_status[i,1]!=0:\n",
    "                            raise ValueError(\"Problems with left over time for task\") \n",
    "                        count_finished_tasks_job_matrix[job]+=1\n",
    "                        count_finished_tasks_machine_matrix[i]+=1 \n",
    "    else:        \n",
    "        # assign task (from action) to available machine and update the machine status\n",
    "        #set task length:\n",
    "        processed_and_max_time_job_matrix[action,1]=job_tasklength_matrix[action,count_finished_tasks_job_matrix[action]]\n",
    "        processed_and_max_time_job_matrix[action,1]=0\n",
    "        # block the free machine with current job\n",
    "        #todo: delete error\n",
    "        if math.isnan(current_machines_status[job_machine_matrix[action,count_finished_tasks_job_matrix[action]],0])==False:\n",
    "            raise ValueError(\"machine is not free\") \n",
    "        current_machines_status[job_machine_matrix[action,count_finished_tasks_job_matrix[action]],0]=action\n",
    "        current_machines_status[job_machine_matrix[action,count_finished_tasks_job_matrix[action]],1]=job_tasklength_matrix[action,count_finished_tasks_job_matrix[action]]\n",
    "        # update production_list:(job,tas,start,finish)\n",
    "        production_list[job_machine_matrix[action,count_finished_tasks_job_matrix[action]],count_finished_tasks_job_matrix[job_machine_matrix[action,count_finished_tasks_job_matrix[action]]]]=(action,count_finished_tasks_job_matrix[action],current_timestep,current_timestep+job_tasklength_matrix[action,count_finished_tasks_job_matrix[action]])\n",
    "        # add end time to timestemp list, first check if value is not already in list:\n",
    "        if current_timestep+job_tasklength_matrix[action,count_finished_tasks_job_matrix[action]] not in timestemp_list:\n",
    "            timestemp_list.append(current_timestep+job_tasklength_matrix[action,count_finished_tasks_job_matrix[action]])\n",
    "    # update observation:\n",
    "\n",
    "    action_mask=np.full((n_jobs+1,),False)\n",
    "    avail_machines=[]\n",
    "    for i in range(n_machines):\n",
    "        if math.isnan(current_machines_status[i][0]):\n",
    "            avail_machines.append(i)\n",
    "    for i in range(n_jobs):\n",
    "        #obs i 5 is normed count of finished tasks\n",
    "        if job_machine_matrix[i][denorm_with_max(count_finished_tasks_job_matrix[i],n_tasks)] in avail_machines:\n",
    "            action_mask[i]=True\n",
    "    observation[:,0]=action_mask\n",
    "    for i in range(n_jobs):\n",
    "\n",
    "        # third attribute: process time of next scheduled task\n",
    "        observation[i,2]=norm_with_max(job_tasklength_matrix[i][count_finished_tasks_job_matrix[i]],longest_tasklength)\n",
    "        #fourth attribute: process on current job in percent\n",
    "        observation[i,3]=norm_with_max(processed_and_max_time_job_matrix[i][0],processed_and_max_time_job_matrix[i][1])\n",
    "        # count finished tasks// normalized\n",
    "        observation[i][4]=norm_with_max(count_finished_tasks_job_matrix[i],n_tasks)\n",
    "\n",
    "    observation[:,1]=np.zeros(n_jobs)    \n",
    "    for i in range(n_machines):\n",
    "        # time to next machine available\n",
    "        observation[i][5]=norm_with_max(current_machines_status[i][1],longest_tasklength)\n",
    "        # second attribute: current time left on current task, if task is not assigned it got value 0: todo: checkout it 0 or full time makes sense\n",
    "        observation[current_machines_status[i,0],1]=norm_with_max(current_machines_status[i][1],longest_tasklength)\n",
    "    info=\"everything fine\"\n",
    "    state=observation_to_state(observation)\n",
    "    return state, reward, done, info\n",
    "\n",
    "    \n",
    "\n",
    "        \n",
    "\n",
    "        "
   ]
  },
  {
   "cell_type": "code",
   "execution_count": 66,
   "metadata": {},
   "outputs": [
    {
     "name": "stdout",
     "output_type": "stream",
     "text": [
      "nan\n",
      "nan\n",
      "nan\n",
      "nan\n",
      "nan\n",
      "nan\n",
      "nan\n",
      "nan\n",
      "nan\n",
      "nan\n",
      "avail machines:\n",
      "[0, 1, 2, 3, 4, 5, 6, 7, 8, 9]\n"
     ]
    }
   ],
   "source": [
    "action_mask=get_legal_actions(observation)\n",
    "production_list=np.empty((n_machines,n_tasks),dtype=object)\n",
    "x=(1,2,3,4)\n",
    "production_list[1,1]=x\n",
    "\n"
   ]
  },
  {
   "cell_type": "code",
   "execution_count": 67,
   "metadata": {},
   "outputs": [],
   "source": [
    "current_machines_status=np.zeros((n_machines,3))\n",
    "# set current job to nan because no job is assigned to the machines\n",
    "current_machines_status[:,0]=np.nan"
   ]
  },
  {
   "cell_type": "code",
   "execution_count": 68,
   "metadata": {},
   "outputs": [
    {
     "name": "stdout",
     "output_type": "stream",
     "text": [
      "10\n"
     ]
    },
    {
     "data": {
      "text/plain": [
       "11"
      ]
     },
     "execution_count": 68,
     "metadata": {},
     "output_type": "execute_result"
    }
   ],
   "source": [
    "print(job_tasklength_matrix.shape[1])\n",
    "max(n_jobs+1,n_machines)"
   ]
  },
  {
   "cell_type": "code",
   "execution_count": 69,
   "metadata": {},
   "outputs": [
    {
     "name": "stdout",
     "output_type": "stream",
     "text": [
      "[1, 5, 2, 3, 4, 5]\n",
      "[1, 2, 3, 4, 5, 5]\n",
      "2\n",
      "[1, 3, 4, 5, 5]\n",
      "None\n"
     ]
    }
   ],
   "source": [
    "timestemp_list=[1,5,2,3,4,5]\n",
    "print(timestemp_list)\n",
    "tmp=timestemp_list.sort()\n",
    "print(timestemp_list)\n",
    "x=timestemp_list.pop(1)\n",
    "print(x)\n",
    "print(timestemp_list)\n",
    "print(tmp)"
   ]
  },
  {
   "cell_type": "code",
   "execution_count": 70,
   "metadata": {},
   "outputs": [
    {
     "name": "stdout",
     "output_type": "stream",
     "text": [
      "[1. 0. 1. 0. 1. 0. 1. 0. 1. 0. 1. 0. 1. 0. 1. 0. 1. 0. 1. 0. 0. 0.]\n",
      "[0. 0. 0. 0. 0. 0. 0. 0. 0. 0.]\n",
      "[2. 0. 0. 0. 0. 0. 0. 0. 0. 0. 0.]\n"
     ]
    }
   ],
   "source": [
    "y=(np.ravel(observation[0:n_jobs+1,0:2]))\n",
    "z=np.ravel(observation[0:n_jobs,1])\n",
    "x=np.concatenate((x,z),axis=None)\n",
    "print(y)\n",
    "print(z)\n",
    "print(x)\n"
   ]
  },
  {
   "cell_type": "code",
   "execution_count": null,
   "metadata": {},
   "outputs": [],
   "source": [
    "def render():\n",
    "\n",
    "    production_list\n"
   ]
  },
  {
   "cell_type": "code",
   "execution_count": 3,
   "metadata": {},
   "outputs": [
    {
     "data": {
      "application/vnd.plotly.v1+json": {
       "config": {
        "plotlyServerURL": "https://plot.ly"
       },
       "data": [
        {
         "fill": "toself",
         "fillcolor": "rgb(0, 255, 100)",
         "hoverinfo": "name",
         "legendgroup": "rgb(0, 255, 100)",
         "mode": "none",
         "name": "Complete",
         "type": "scatter",
         "x": [
          "0",
          "20",
          "20",
          "0"
         ],
         "y": [
          0.8,
          0.8,
          1.2,
          1.2
         ]
        },
        {
         "fill": "toself",
         "fillcolor": "rgb(220, 0, 0)",
         "hoverinfo": "name",
         "legendgroup": "rgb(220, 0, 0)",
         "mode": "none",
         "name": "Not Started",
         "type": "scatter",
         "x": [
          "10",
          "40",
          "40",
          "10"
         ],
         "y": [
          -0.2,
          -0.2,
          0.2,
          0.2
         ]
        },
        {
         "fill": "toself",
         "fillcolor": "rgb(255, 230, 41)",
         "hoverinfo": "name",
         "legendgroup": "rgb(255, 230, 41)",
         "mode": "none",
         "name": "Incomplete",
         "type": "scatter",
         "x": [
          "25",
          "30",
          "30",
          "25"
         ],
         "y": [
          0.8,
          0.8,
          1.2,
          1.2
         ]
        },
        {
         "legendgroup": "rgb(0, 255, 100)",
         "marker": {
          "color": "rgb(0, 255, 100)",
          "opacity": 0,
          "size": 1
         },
         "mode": "markers",
         "name": "",
         "showlegend": false,
         "text": [
          null,
          null
         ],
         "type": "scatter",
         "x": [
          "0",
          "20"
         ],
         "y": [
          1,
          1
         ]
        },
        {
         "legendgroup": "rgb(220, 0, 0)",
         "marker": {
          "color": "rgb(220, 0, 0)",
          "opacity": 0,
          "size": 1
         },
         "mode": "markers",
         "name": "",
         "showlegend": false,
         "text": [
          null,
          null
         ],
         "type": "scatter",
         "x": [
          "10",
          "40"
         ],
         "y": [
          0,
          0
         ]
        },
        {
         "legendgroup": "rgb(255, 230, 41)",
         "marker": {
          "color": "rgb(255, 230, 41)",
          "opacity": 0,
          "size": 1
         },
         "mode": "markers",
         "name": "",
         "showlegend": false,
         "text": [
          null,
          null
         ],
         "type": "scatter",
         "x": [
          "25",
          "30"
         ],
         "y": [
          1,
          1
         ]
        }
       ],
       "layout": {
        "height": 600,
        "hovermode": "closest",
        "showlegend": true,
        "template": {
         "data": {
          "bar": [
           {
            "error_x": {
             "color": "#2a3f5f"
            },
            "error_y": {
             "color": "#2a3f5f"
            },
            "marker": {
             "line": {
              "color": "#E5ECF6",
              "width": 0.5
             },
             "pattern": {
              "fillmode": "overlay",
              "size": 10,
              "solidity": 0.2
             }
            },
            "type": "bar"
           }
          ],
          "barpolar": [
           {
            "marker": {
             "line": {
              "color": "#E5ECF6",
              "width": 0.5
             },
             "pattern": {
              "fillmode": "overlay",
              "size": 10,
              "solidity": 0.2
             }
            },
            "type": "barpolar"
           }
          ],
          "carpet": [
           {
            "aaxis": {
             "endlinecolor": "#2a3f5f",
             "gridcolor": "white",
             "linecolor": "white",
             "minorgridcolor": "white",
             "startlinecolor": "#2a3f5f"
            },
            "baxis": {
             "endlinecolor": "#2a3f5f",
             "gridcolor": "white",
             "linecolor": "white",
             "minorgridcolor": "white",
             "startlinecolor": "#2a3f5f"
            },
            "type": "carpet"
           }
          ],
          "choropleth": [
           {
            "colorbar": {
             "outlinewidth": 0,
             "ticks": ""
            },
            "type": "choropleth"
           }
          ],
          "contour": [
           {
            "colorbar": {
             "outlinewidth": 0,
             "ticks": ""
            },
            "colorscale": [
             [
              0,
              "#0d0887"
             ],
             [
              0.1111111111111111,
              "#46039f"
             ],
             [
              0.2222222222222222,
              "#7201a8"
             ],
             [
              0.3333333333333333,
              "#9c179e"
             ],
             [
              0.4444444444444444,
              "#bd3786"
             ],
             [
              0.5555555555555556,
              "#d8576b"
             ],
             [
              0.6666666666666666,
              "#ed7953"
             ],
             [
              0.7777777777777778,
              "#fb9f3a"
             ],
             [
              0.8888888888888888,
              "#fdca26"
             ],
             [
              1,
              "#f0f921"
             ]
            ],
            "type": "contour"
           }
          ],
          "contourcarpet": [
           {
            "colorbar": {
             "outlinewidth": 0,
             "ticks": ""
            },
            "type": "contourcarpet"
           }
          ],
          "heatmap": [
           {
            "colorbar": {
             "outlinewidth": 0,
             "ticks": ""
            },
            "colorscale": [
             [
              0,
              "#0d0887"
             ],
             [
              0.1111111111111111,
              "#46039f"
             ],
             [
              0.2222222222222222,
              "#7201a8"
             ],
             [
              0.3333333333333333,
              "#9c179e"
             ],
             [
              0.4444444444444444,
              "#bd3786"
             ],
             [
              0.5555555555555556,
              "#d8576b"
             ],
             [
              0.6666666666666666,
              "#ed7953"
             ],
             [
              0.7777777777777778,
              "#fb9f3a"
             ],
             [
              0.8888888888888888,
              "#fdca26"
             ],
             [
              1,
              "#f0f921"
             ]
            ],
            "type": "heatmap"
           }
          ],
          "heatmapgl": [
           {
            "colorbar": {
             "outlinewidth": 0,
             "ticks": ""
            },
            "colorscale": [
             [
              0,
              "#0d0887"
             ],
             [
              0.1111111111111111,
              "#46039f"
             ],
             [
              0.2222222222222222,
              "#7201a8"
             ],
             [
              0.3333333333333333,
              "#9c179e"
             ],
             [
              0.4444444444444444,
              "#bd3786"
             ],
             [
              0.5555555555555556,
              "#d8576b"
             ],
             [
              0.6666666666666666,
              "#ed7953"
             ],
             [
              0.7777777777777778,
              "#fb9f3a"
             ],
             [
              0.8888888888888888,
              "#fdca26"
             ],
             [
              1,
              "#f0f921"
             ]
            ],
            "type": "heatmapgl"
           }
          ],
          "histogram": [
           {
            "marker": {
             "pattern": {
              "fillmode": "overlay",
              "size": 10,
              "solidity": 0.2
             }
            },
            "type": "histogram"
           }
          ],
          "histogram2d": [
           {
            "colorbar": {
             "outlinewidth": 0,
             "ticks": ""
            },
            "colorscale": [
             [
              0,
              "#0d0887"
             ],
             [
              0.1111111111111111,
              "#46039f"
             ],
             [
              0.2222222222222222,
              "#7201a8"
             ],
             [
              0.3333333333333333,
              "#9c179e"
             ],
             [
              0.4444444444444444,
              "#bd3786"
             ],
             [
              0.5555555555555556,
              "#d8576b"
             ],
             [
              0.6666666666666666,
              "#ed7953"
             ],
             [
              0.7777777777777778,
              "#fb9f3a"
             ],
             [
              0.8888888888888888,
              "#fdca26"
             ],
             [
              1,
              "#f0f921"
             ]
            ],
            "type": "histogram2d"
           }
          ],
          "histogram2dcontour": [
           {
            "colorbar": {
             "outlinewidth": 0,
             "ticks": ""
            },
            "colorscale": [
             [
              0,
              "#0d0887"
             ],
             [
              0.1111111111111111,
              "#46039f"
             ],
             [
              0.2222222222222222,
              "#7201a8"
             ],
             [
              0.3333333333333333,
              "#9c179e"
             ],
             [
              0.4444444444444444,
              "#bd3786"
             ],
             [
              0.5555555555555556,
              "#d8576b"
             ],
             [
              0.6666666666666666,
              "#ed7953"
             ],
             [
              0.7777777777777778,
              "#fb9f3a"
             ],
             [
              0.8888888888888888,
              "#fdca26"
             ],
             [
              1,
              "#f0f921"
             ]
            ],
            "type": "histogram2dcontour"
           }
          ],
          "mesh3d": [
           {
            "colorbar": {
             "outlinewidth": 0,
             "ticks": ""
            },
            "type": "mesh3d"
           }
          ],
          "parcoords": [
           {
            "line": {
             "colorbar": {
              "outlinewidth": 0,
              "ticks": ""
             }
            },
            "type": "parcoords"
           }
          ],
          "pie": [
           {
            "automargin": true,
            "type": "pie"
           }
          ],
          "scatter": [
           {
            "fillpattern": {
             "fillmode": "overlay",
             "size": 10,
             "solidity": 0.2
            },
            "type": "scatter"
           }
          ],
          "scatter3d": [
           {
            "line": {
             "colorbar": {
              "outlinewidth": 0,
              "ticks": ""
             }
            },
            "marker": {
             "colorbar": {
              "outlinewidth": 0,
              "ticks": ""
             }
            },
            "type": "scatter3d"
           }
          ],
          "scattercarpet": [
           {
            "marker": {
             "colorbar": {
              "outlinewidth": 0,
              "ticks": ""
             }
            },
            "type": "scattercarpet"
           }
          ],
          "scattergeo": [
           {
            "marker": {
             "colorbar": {
              "outlinewidth": 0,
              "ticks": ""
             }
            },
            "type": "scattergeo"
           }
          ],
          "scattergl": [
           {
            "marker": {
             "colorbar": {
              "outlinewidth": 0,
              "ticks": ""
             }
            },
            "type": "scattergl"
           }
          ],
          "scattermapbox": [
           {
            "marker": {
             "colorbar": {
              "outlinewidth": 0,
              "ticks": ""
             }
            },
            "type": "scattermapbox"
           }
          ],
          "scatterpolar": [
           {
            "marker": {
             "colorbar": {
              "outlinewidth": 0,
              "ticks": ""
             }
            },
            "type": "scatterpolar"
           }
          ],
          "scatterpolargl": [
           {
            "marker": {
             "colorbar": {
              "outlinewidth": 0,
              "ticks": ""
             }
            },
            "type": "scatterpolargl"
           }
          ],
          "scatterternary": [
           {
            "marker": {
             "colorbar": {
              "outlinewidth": 0,
              "ticks": ""
             }
            },
            "type": "scatterternary"
           }
          ],
          "surface": [
           {
            "colorbar": {
             "outlinewidth": 0,
             "ticks": ""
            },
            "colorscale": [
             [
              0,
              "#0d0887"
             ],
             [
              0.1111111111111111,
              "#46039f"
             ],
             [
              0.2222222222222222,
              "#7201a8"
             ],
             [
              0.3333333333333333,
              "#9c179e"
             ],
             [
              0.4444444444444444,
              "#bd3786"
             ],
             [
              0.5555555555555556,
              "#d8576b"
             ],
             [
              0.6666666666666666,
              "#ed7953"
             ],
             [
              0.7777777777777778,
              "#fb9f3a"
             ],
             [
              0.8888888888888888,
              "#fdca26"
             ],
             [
              1,
              "#f0f921"
             ]
            ],
            "type": "surface"
           }
          ],
          "table": [
           {
            "cells": {
             "fill": {
              "color": "#EBF0F8"
             },
             "line": {
              "color": "white"
             }
            },
            "header": {
             "fill": {
              "color": "#C8D4E3"
             },
             "line": {
              "color": "white"
             }
            },
            "type": "table"
           }
          ]
         },
         "layout": {
          "annotationdefaults": {
           "arrowcolor": "#2a3f5f",
           "arrowhead": 0,
           "arrowwidth": 1
          },
          "autotypenumbers": "strict",
          "coloraxis": {
           "colorbar": {
            "outlinewidth": 0,
            "ticks": ""
           }
          },
          "colorscale": {
           "diverging": [
            [
             0,
             "#8e0152"
            ],
            [
             0.1,
             "#c51b7d"
            ],
            [
             0.2,
             "#de77ae"
            ],
            [
             0.3,
             "#f1b6da"
            ],
            [
             0.4,
             "#fde0ef"
            ],
            [
             0.5,
             "#f7f7f7"
            ],
            [
             0.6,
             "#e6f5d0"
            ],
            [
             0.7,
             "#b8e186"
            ],
            [
             0.8,
             "#7fbc41"
            ],
            [
             0.9,
             "#4d9221"
            ],
            [
             1,
             "#276419"
            ]
           ],
           "sequential": [
            [
             0,
             "#0d0887"
            ],
            [
             0.1111111111111111,
             "#46039f"
            ],
            [
             0.2222222222222222,
             "#7201a8"
            ],
            [
             0.3333333333333333,
             "#9c179e"
            ],
            [
             0.4444444444444444,
             "#bd3786"
            ],
            [
             0.5555555555555556,
             "#d8576b"
            ],
            [
             0.6666666666666666,
             "#ed7953"
            ],
            [
             0.7777777777777778,
             "#fb9f3a"
            ],
            [
             0.8888888888888888,
             "#fdca26"
            ],
            [
             1,
             "#f0f921"
            ]
           ],
           "sequentialminus": [
            [
             0,
             "#0d0887"
            ],
            [
             0.1111111111111111,
             "#46039f"
            ],
            [
             0.2222222222222222,
             "#7201a8"
            ],
            [
             0.3333333333333333,
             "#9c179e"
            ],
            [
             0.4444444444444444,
             "#bd3786"
            ],
            [
             0.5555555555555556,
             "#d8576b"
            ],
            [
             0.6666666666666666,
             "#ed7953"
            ],
            [
             0.7777777777777778,
             "#fb9f3a"
            ],
            [
             0.8888888888888888,
             "#fdca26"
            ],
            [
             1,
             "#f0f921"
            ]
           ]
          },
          "colorway": [
           "#636efa",
           "#EF553B",
           "#00cc96",
           "#ab63fa",
           "#FFA15A",
           "#19d3f3",
           "#FF6692",
           "#B6E880",
           "#FF97FF",
           "#FECB52"
          ],
          "font": {
           "color": "#2a3f5f"
          },
          "geo": {
           "bgcolor": "white",
           "lakecolor": "white",
           "landcolor": "#E5ECF6",
           "showlakes": true,
           "showland": true,
           "subunitcolor": "white"
          },
          "hoverlabel": {
           "align": "left"
          },
          "hovermode": "closest",
          "mapbox": {
           "style": "light"
          },
          "paper_bgcolor": "white",
          "plot_bgcolor": "#E5ECF6",
          "polar": {
           "angularaxis": {
            "gridcolor": "white",
            "linecolor": "white",
            "ticks": ""
           },
           "bgcolor": "#E5ECF6",
           "radialaxis": {
            "gridcolor": "white",
            "linecolor": "white",
            "ticks": ""
           }
          },
          "scene": {
           "xaxis": {
            "backgroundcolor": "#E5ECF6",
            "gridcolor": "white",
            "gridwidth": 2,
            "linecolor": "white",
            "showbackground": true,
            "ticks": "",
            "zerolinecolor": "white"
           },
           "yaxis": {
            "backgroundcolor": "#E5ECF6",
            "gridcolor": "white",
            "gridwidth": 2,
            "linecolor": "white",
            "showbackground": true,
            "ticks": "",
            "zerolinecolor": "white"
           },
           "zaxis": {
            "backgroundcolor": "#E5ECF6",
            "gridcolor": "white",
            "gridwidth": 2,
            "linecolor": "white",
            "showbackground": true,
            "ticks": "",
            "zerolinecolor": "white"
           }
          },
          "shapedefaults": {
           "line": {
            "color": "#2a3f5f"
           }
          },
          "ternary": {
           "aaxis": {
            "gridcolor": "white",
            "linecolor": "white",
            "ticks": ""
           },
           "baxis": {
            "gridcolor": "white",
            "linecolor": "white",
            "ticks": ""
           },
           "bgcolor": "#E5ECF6",
           "caxis": {
            "gridcolor": "white",
            "linecolor": "white",
            "ticks": ""
           }
          },
          "title": {
           "x": 0.05
          },
          "xaxis": {
           "automargin": true,
           "gridcolor": "white",
           "linecolor": "white",
           "ticks": "",
           "title": {
            "standoff": 15
           },
           "zerolinecolor": "white",
           "zerolinewidth": 2
          },
          "yaxis": {
           "automargin": true,
           "gridcolor": "white",
           "linecolor": "white",
           "ticks": "",
           "title": {
            "standoff": 15
           },
           "zerolinecolor": "white",
           "zerolinewidth": 2
          }
         }
        },
        "title": {
         "text": "Gantt Chart"
        },
        "xaxis": {
         "rangeselector": {
          "buttons": [
           {
            "count": 7,
            "label": "1w",
            "step": "day",
            "stepmode": "backward"
           },
           {
            "count": 1,
            "label": "1m",
            "step": "month",
            "stepmode": "backward"
           },
           {
            "count": 6,
            "label": "6m",
            "step": "month",
            "stepmode": "backward"
           },
           {
            "count": 1,
            "label": "YTD",
            "step": "year",
            "stepmode": "todate"
           },
           {
            "count": 1,
            "label": "1y",
            "step": "year",
            "stepmode": "backward"
           },
           {
            "step": "all"
           }
          ]
         },
         "showgrid": false,
         "type": "date",
         "zeroline": false
        },
        "yaxis": {
         "autorange": false,
         "range": [
          -1,
          3
         ],
         "showgrid": false,
         "ticktext": [
          "Job-2",
          "Job-1"
         ],
         "tickvals": [
          0,
          1
         ],
         "zeroline": false
        }
       }
      }
     },
     "metadata": {},
     "output_type": "display_data"
    }
   ],
   "source": [
    "import plotly.figure_factory as ff\n",
    "\n",
    "df = [dict(Task=\"Job-1\", Start='0', Finish='20', Resource='Complete'),\n",
    "      dict(Task=\"Job-1\", Start='25', Finish='30', Resource='Incomplete'),\n",
    "      dict(Task=\"Job-2\", Start='10', Finish='40', Resource='Not Started'),\n",
    "     ]\n",
    "\n",
    "colors = {'Not Started': 'rgb(220, 0, 0)',\n",
    "          'Incomplete': (1, 0.9, 0.16),\n",
    "          'Complete': 'rgb(0, 255, 100)'}\n",
    "\n",
    "fig = ff.create_gantt(df, colors=colors, index_col='Resource', show_colorbar=True,\n",
    "                      group_tasks=True)\n",
    "fig.show()"
   ]
  }
 ],
 "metadata": {
  "kernelspec": {
   "display_name": "Python 3.10.4 ('customjssp')",
   "language": "python",
   "name": "python3"
  },
  "language_info": {
   "codemirror_mode": {
    "name": "ipython",
    "version": 3
   },
   "file_extension": ".py",
   "mimetype": "text/x-python",
   "name": "python",
   "nbconvert_exporter": "python",
   "pygments_lexer": "ipython3",
   "version": "3.10.4"
  },
  "orig_nbformat": 4,
  "vscode": {
   "interpreter": {
    "hash": "7344f7b5995cbf62a990a56ee6eec8bd53f41a3aff848cd18f1feb05905aa9e3"
   }
  }
 },
 "nbformat": 4,
 "nbformat_minor": 2
}
