{
 "cells": [
  {
   "cell_type": "code",
   "execution_count": null,
   "metadata": {},
   "outputs": [],
   "source": [
    "from gym import envs\n",
    "all_envs = envs.registry.all()\n",
    "env_ids = [env_spec.id for env_spec in all_envs]\n",
    "print(sorted(env_ids))"
   ]
  },
  {
   "cell_type": "code",
   "execution_count": null,
   "metadata": {},
   "outputs": [],
   "source": [
    "import numpy as np\n",
    "class ObservationWrapper(gym.ObservationWrapper):\n",
    "    def __init__(self, env):\n",
    "        super().__init__(env)\n",
    "        assert isinstance(env.observation_space, gym.spaces.Discrete), \\\n",
    "            \"Should only be used to wrap Discrete envs.\"\n",
    "        self.n = self.observation_space.n\n",
    "        self.observation_space = gym.spaces.Box(0, 1, (self.n,))\n",
    "    \n",
    "    def observation(self, obs):\n",
    "        new_obs = np.zeros(self.n)\n",
    "        new_obs[obs] = 1\n",
    "        return new_obs"
   ]
  },
  {
   "cell_type": "code",
   "execution_count": null,
   "metadata": {},
   "outputs": [],
   "source": [
    "\n",
    "\n",
    "import gym\n",
    "env = ObservationWrapper(gym.make('Taxi-v3'))\n",
    "#env = gym.make('Taxi-v3')\n",
    "print(env.action_space)\n",
    "print(env.observation_space)\n",
    "\n",
    "\n",
    "\n",
    "env = gym.make('CartPole-v0')\n",
    "print(env.action_space)\n",
    "print(env.observation_space)\n",
    "\n",
    "\n",
    "\n"
   ]
  },
  {
   "cell_type": "code",
   "execution_count": 8,
   "metadata": {},
   "outputs": [
    {
     "name": "stdout",
     "output_type": "stream",
     "text": [
      "finished! no legal actions possible after 130 steps\n"
     ]
    },
    {
     "data": {
      "application/vnd.plotly.v1+json": {
       "config": {
        "plotlyServerURL": "https://plot.ly"
       },
       "data": [
        {
         "alignmentgroup": "True",
         "base": [
          "2022-01-01T00:00:01",
          "2022-01-01T00:09:55",
          "2022-01-01T00:11:39",
          "2022-01-01T00:02:53",
          "2022-01-01T00:13:09",
          "2022-01-01T00:15:46",
          "2022-01-01T00:01:35",
          "2022-01-01T00:04:14",
          "2022-01-01T00:16:46",
          "2022-01-01T00:18:21"
         ],
         "hovertemplate": "Job=job_09<br>Start=%{base}<br>Finish=%{x}<br>Machine=%{y}<extra></extra>",
         "legendgroup": "job_09",
         "marker": {
          "color": "#636efa",
          "pattern": {
           "shape": ""
          }
         },
         "name": "job_09",
         "offsetgroup": "job_09",
         "orientation": "h",
         "showlegend": true,
         "textposition": "auto",
         "type": "bar",
         "x": [
          93000,
          65000,
          89000,
          80000,
          75000,
          57000,
          70000,
          84000,
          92000,
          96000
         ],
         "xaxis": "x",
         "y": [
          "machine_01",
          "machine_02",
          "machine_03",
          "machine_04",
          "machine_05",
          "machine_06",
          "machine_07",
          "machine_08",
          "machine_09",
          "machine_10"
         ],
         "yaxis": "y"
        },
        {
         "alignmentgroup": "True",
         "base": [
          "2022-01-01T00:02:03",
          "2022-01-01T00:05:10",
          "2022-01-01T00:16:02",
          "2022-01-01T00:01:13",
          "2022-01-01T00:11:39",
          "2022-01-01T00:13:00",
          "2022-01-01T00:10:41",
          "2022-01-01T00:07:56",
          "2022-01-01T00:06:49",
          "2022-01-01T00:08:52"
         ],
         "hovertemplate": "Job=job_10<br>Start=%{base}<br>Finish=%{x}<br>Machine=%{y}<extra></extra>",
         "legendgroup": "job_10",
         "marker": {
          "color": "#EF553B",
          "pattern": {
           "shape": ""
          }
         },
         "name": "job_10",
         "offsetgroup": "job_10",
         "orientation": "h",
         "showlegend": true,
         "textposition": "auto",
         "type": "bar",
         "x": [
          58000,
          81000,
          95000,
          49000,
          80000,
          58000,
          57000,
          55000,
          66000,
          95000
         ],
         "xaxis": "x",
         "y": [
          "machine_01",
          "machine_02",
          "machine_03",
          "machine_04",
          "machine_05",
          "machine_06",
          "machine_07",
          "machine_08",
          "machine_09",
          "machine_10"
         ],
         "yaxis": "y"
        },
        {
         "alignmentgroup": "True",
         "base": [
          "2022-01-01T00:03:02",
          "2022-01-01T00:07:43",
          "2022-01-01T00:17:38",
          "2022-01-01T00:18:33",
          "2022-01-01T00:15:38",
          "2022-01-01T00:11:08",
          "2022-01-01T00:09:37",
          "2022-01-01T00:14:20",
          "2022-01-01T00:01:24",
          "2022-01-01T00:00:01"
         ],
         "hovertemplate": "Job=job_03<br>Start=%{base}<br>Finish=%{x}<br>Machine=%{y}<extra></extra>",
         "legendgroup": "job_03",
         "marker": {
          "color": "#00cc96",
          "pattern": {
           "shape": ""
          }
         },
         "name": "job_03",
         "offsetgroup": "job_03",
         "orientation": "h",
         "showlegend": true,
         "textposition": "auto",
         "type": "bar",
         "x": [
          82000,
          64000,
          54000,
          76000,
          84000,
          84000,
          63000,
          77000,
          60000,
          82000
         ],
         "xaxis": "x",
         "y": [
          "machine_01",
          "machine_02",
          "machine_03",
          "machine_04",
          "machine_05",
          "machine_06",
          "machine_07",
          "machine_08",
          "machine_09",
          "machine_10"
         ],
         "yaxis": "y"
        },
        {
         "alignmentgroup": "True",
         "base": [
          "2022-01-01T00:08:40",
          "2022-01-01T00:02:43",
          "2022-01-01T00:14:56",
          "2022-01-01T00:07:04",
          "2022-01-01T00:05:27",
          "2022-01-01T00:16:44",
          "2022-01-01T00:18:23",
          "2022-01-01T00:01:35",
          "2022-01-01T00:10:15",
          "2022-01-01T00:19:58"
         ],
         "hovertemplate": "Job=job_07<br>Start=%{base}<br>Finish=%{x}<br>Machine=%{y}<extra></extra>",
         "legendgroup": "job_07",
         "marker": {
          "color": "#ab63fa",
          "pattern": {
           "shape": ""
          }
         },
         "name": "job_07",
         "offsetgroup": "job_07",
         "orientation": "h",
         "showlegend": true,
         "textposition": "auto",
         "type": "bar",
         "x": [
          94000,
          85000,
          65000,
          95000,
          96000,
          98000,
          51000,
          49000,
          96000,
          70000
         ],
         "xaxis": "x",
         "y": [
          "machine_01",
          "machine_02",
          "machine_03",
          "machine_04",
          "machine_05",
          "machine_06",
          "machine_07",
          "machine_08",
          "machine_09",
          "machine_10"
         ],
         "yaxis": "y"
        },
        {
         "alignmentgroup": "True",
         "base": [
          "2022-01-01T00:10:41",
          "2022-01-01T00:23:41",
          "2022-01-01T00:18:33",
          "2022-01-01T00:00:01",
          "2022-01-01T00:03:59",
          "2022-01-01T00:21:15",
          "2022-01-01T00:19:40",
          "2022-01-01T00:22:34",
          "2022-01-01T00:07:56",
          "2022-01-01T00:05:27"
         ],
         "hovertemplate": "Job=job_05<br>Start=%{base}<br>Finish=%{x}<br>Machine=%{y}<extra></extra>",
         "legendgroup": "job_05",
         "marker": {
          "color": "#FFA15A",
          "pattern": {
           "shape": ""
          }
         },
         "name": "job_05",
         "offsetgroup": "job_05",
         "orientation": "h",
         "showlegend": true,
         "textposition": "auto",
         "type": "bar",
         "x": [
          98000,
          85000,
          66000,
          68000,
          87000,
          67000,
          94000,
          66000,
          94000,
          81000
         ],
         "xaxis": "x",
         "y": [
          "machine_01",
          "machine_02",
          "machine_03",
          "machine_04",
          "machine_05",
          "machine_06",
          "machine_07",
          "machine_08",
          "machine_09",
          "machine_10"
         ],
         "yaxis": "y"
        },
        {
         "alignmentgroup": "True",
         "base": [
          "2022-01-01T00:12:20",
          "2022-01-01T00:06:32",
          "2022-01-01T00:05:36",
          "2022-01-01T00:04:14",
          "2022-01-01T00:00:01",
          "2022-01-01T00:08:21",
          "2022-01-01T00:02:46",
          "2022-01-01T00:09:55",
          "2022-01-01T00:14:05",
          "2022-01-01T00:15:40"
         ],
         "hovertemplate": "Job=job_08<br>Start=%{base}<br>Finish=%{x}<br>Machine=%{y}<extra></extra>",
         "legendgroup": "job_08",
         "marker": {
          "color": "#19d3f3",
          "pattern": {
           "shape": ""
          }
         },
         "name": "job_08",
         "offsetgroup": "job_08",
         "orientation": "h",
         "showlegend": true,
         "textposition": "auto",
         "type": "bar",
         "x": [
          61000,
          70000,
          50000,
          81000,
          97000,
          93000,
          72000,
          84000,
          94000,
          78000
         ],
         "xaxis": "x",
         "y": [
          "machine_01",
          "machine_02",
          "machine_03",
          "machine_04",
          "machine_05",
          "machine_06",
          "machine_07",
          "machine_08",
          "machine_09",
          "machine_10"
         ],
         "yaxis": "y"
        },
        {
         "alignmentgroup": "True",
         "base": [
          "2022-01-01T00:14:20",
          "2022-01-01T00:08:48",
          "2022-01-01T00:09:55",
          "2022-01-01T00:15:46",
          "2022-01-01T00:01:39",
          "2022-01-01T00:06:42",
          "2022-01-01T00:05:08",
          "2022-01-01T00:12:41",
          "2022-01-01T00:03:07",
          "2022-01-01T00:11:24"
         ],
         "hovertemplate": "Job=job_01<br>Start=%{base}<br>Finish=%{x}<br>Machine=%{y}<extra></extra>",
         "legendgroup": "job_01",
         "marker": {
          "color": "#FF6692",
          "pattern": {
           "shape": ""
          }
         },
         "name": "job_01",
         "offsetgroup": "job_01",
         "orientation": "h",
         "showlegend": true,
         "textposition": "auto",
         "type": "bar",
         "x": [
          85000,
          66000,
          88000,
          91000,
          87000,
          98000,
          93000,
          98000,
          67000,
          76000
         ],
         "xaxis": "x",
         "y": [
          "machine_01",
          "machine_02",
          "machine_03",
          "machine_04",
          "machine_05",
          "machine_06",
          "machine_07",
          "machine_08",
          "machine_09",
          "machine_10"
         ],
         "yaxis": "y"
        },
        {
         "alignmentgroup": "True",
         "base": [
          "2022-01-01T00:16:02",
          "2022-01-01T00:04:09",
          "2022-01-01T00:01:35",
          "2022-01-01T00:08:43",
          "2022-01-01T00:07:04",
          "2022-01-01T00:14:20",
          "2022-01-01T00:12:45",
          "2022-01-01T00:00:01",
          "2022-01-01T00:18:21",
          "2022-01-01T00:17:18"
         ],
         "hovertemplate": "Job=job_04<br>Start=%{base}<br>Finish=%{x}<br>Machine=%{y}<extra></extra>",
         "legendgroup": "job_04",
         "marker": {
          "color": "#B6E880",
          "pattern": {
           "shape": ""
          }
         },
         "name": "job_04",
         "offsetgroup": "job_04",
         "orientation": "h",
         "showlegend": true,
         "textposition": "auto",
         "type": "bar",
         "x": [
          75000,
          60000,
          67000,
          53000,
          98000,
          65000,
          74000,
          93000,
          66000,
          62000
         ],
         "xaxis": "x",
         "y": [
          "machine_01",
          "machine_02",
          "machine_03",
          "machine_04",
          "machine_05",
          "machine_06",
          "machine_07",
          "machine_08",
          "machine_09",
          "machine_10"
         ],
         "yaxis": "y"
        },
        {
         "alignmentgroup": "True",
         "base": [
          "2022-01-01T00:17:18",
          "2022-01-01T00:18:50",
          "2022-01-01T00:13:22",
          "2022-01-01T00:02:03",
          "2022-01-01T00:10:04",
          "2022-01-01T00:00:01",
          "2022-01-01T00:03:59",
          "2022-01-01T00:21:00",
          "2022-01-01T00:15:40",
          "2022-01-01T00:22:34"
         ],
         "hovertemplate": "Job=job_02<br>Start=%{base}<br>Finish=%{x}<br>Machine=%{y}<extra></extra>",
         "legendgroup": "job_02",
         "marker": {
          "color": "#FF97FF",
          "pattern": {
           "shape": ""
          }
         },
         "name": "job_02",
         "offsetgroup": "job_02",
         "orientation": "h",
         "showlegend": true,
         "textposition": "auto",
         "type": "bar",
         "x": [
          91000,
          81000,
          93000,
          49000,
          74000,
          71000,
          68000,
          93000,
          65000,
          62000
         ],
         "xaxis": "x",
         "y": [
          "machine_01",
          "machine_02",
          "machine_03",
          "machine_04",
          "machine_05",
          "machine_06",
          "machine_07",
          "machine_08",
          "machine_09",
          "machine_10"
         ],
         "yaxis": "y"
        },
        {
         "alignmentgroup": "True",
         "base": [
          "2022-01-01T00:27:11",
          "2022-01-01T00:00:01",
          "2022-01-01T00:19:40",
          "2022-01-01T00:25:52",
          "2022-01-01T00:08:43",
          "2022-01-01T00:10:04",
          "2022-01-01T00:11:39",
          "2022-01-01T00:23:41",
          "2022-01-01T00:12:45",
          "2022-01-01T00:24:50"
         ],
         "hovertemplate": "Job=job_06<br>Start=%{base}<br>Finish=%{x}<br>Machine=%{y}<extra></extra>",
         "legendgroup": "job_06",
         "marker": {
          "color": "#FECB52",
          "pattern": {
           "shape": ""
          }
         },
         "name": "job_06",
         "offsetgroup": "job_06",
         "orientation": "h",
         "showlegend": true,
         "textposition": "auto",
         "type": "bar",
         "x": [
          87000,
          98000,
          79000,
          78000,
          80000,
          63000,
          65000,
          68000,
          79000,
          61000
         ],
         "xaxis": "x",
         "y": [
          "machine_01",
          "machine_02",
          "machine_03",
          "machine_04",
          "machine_05",
          "machine_06",
          "machine_07",
          "machine_08",
          "machine_09",
          "machine_10"
         ],
         "yaxis": "y"
        }
       ],
       "layout": {
        "barmode": "overlay",
        "legend": {
         "title": {
          "text": "Job"
         },
         "tracegroupgap": 0
        },
        "margin": {
         "t": 60
        },
        "template": {
         "data": {
          "bar": [
           {
            "error_x": {
             "color": "#2a3f5f"
            },
            "error_y": {
             "color": "#2a3f5f"
            },
            "marker": {
             "line": {
              "color": "#E5ECF6",
              "width": 0.5
             },
             "pattern": {
              "fillmode": "overlay",
              "size": 10,
              "solidity": 0.2
             }
            },
            "type": "bar"
           }
          ],
          "barpolar": [
           {
            "marker": {
             "line": {
              "color": "#E5ECF6",
              "width": 0.5
             },
             "pattern": {
              "fillmode": "overlay",
              "size": 10,
              "solidity": 0.2
             }
            },
            "type": "barpolar"
           }
          ],
          "carpet": [
           {
            "aaxis": {
             "endlinecolor": "#2a3f5f",
             "gridcolor": "white",
             "linecolor": "white",
             "minorgridcolor": "white",
             "startlinecolor": "#2a3f5f"
            },
            "baxis": {
             "endlinecolor": "#2a3f5f",
             "gridcolor": "white",
             "linecolor": "white",
             "minorgridcolor": "white",
             "startlinecolor": "#2a3f5f"
            },
            "type": "carpet"
           }
          ],
          "choropleth": [
           {
            "colorbar": {
             "outlinewidth": 0,
             "ticks": ""
            },
            "type": "choropleth"
           }
          ],
          "contour": [
           {
            "colorbar": {
             "outlinewidth": 0,
             "ticks": ""
            },
            "colorscale": [
             [
              0,
              "#0d0887"
             ],
             [
              0.1111111111111111,
              "#46039f"
             ],
             [
              0.2222222222222222,
              "#7201a8"
             ],
             [
              0.3333333333333333,
              "#9c179e"
             ],
             [
              0.4444444444444444,
              "#bd3786"
             ],
             [
              0.5555555555555556,
              "#d8576b"
             ],
             [
              0.6666666666666666,
              "#ed7953"
             ],
             [
              0.7777777777777778,
              "#fb9f3a"
             ],
             [
              0.8888888888888888,
              "#fdca26"
             ],
             [
              1,
              "#f0f921"
             ]
            ],
            "type": "contour"
           }
          ],
          "contourcarpet": [
           {
            "colorbar": {
             "outlinewidth": 0,
             "ticks": ""
            },
            "type": "contourcarpet"
           }
          ],
          "heatmap": [
           {
            "colorbar": {
             "outlinewidth": 0,
             "ticks": ""
            },
            "colorscale": [
             [
              0,
              "#0d0887"
             ],
             [
              0.1111111111111111,
              "#46039f"
             ],
             [
              0.2222222222222222,
              "#7201a8"
             ],
             [
              0.3333333333333333,
              "#9c179e"
             ],
             [
              0.4444444444444444,
              "#bd3786"
             ],
             [
              0.5555555555555556,
              "#d8576b"
             ],
             [
              0.6666666666666666,
              "#ed7953"
             ],
             [
              0.7777777777777778,
              "#fb9f3a"
             ],
             [
              0.8888888888888888,
              "#fdca26"
             ],
             [
              1,
              "#f0f921"
             ]
            ],
            "type": "heatmap"
           }
          ],
          "heatmapgl": [
           {
            "colorbar": {
             "outlinewidth": 0,
             "ticks": ""
            },
            "colorscale": [
             [
              0,
              "#0d0887"
             ],
             [
              0.1111111111111111,
              "#46039f"
             ],
             [
              0.2222222222222222,
              "#7201a8"
             ],
             [
              0.3333333333333333,
              "#9c179e"
             ],
             [
              0.4444444444444444,
              "#bd3786"
             ],
             [
              0.5555555555555556,
              "#d8576b"
             ],
             [
              0.6666666666666666,
              "#ed7953"
             ],
             [
              0.7777777777777778,
              "#fb9f3a"
             ],
             [
              0.8888888888888888,
              "#fdca26"
             ],
             [
              1,
              "#f0f921"
             ]
            ],
            "type": "heatmapgl"
           }
          ],
          "histogram": [
           {
            "marker": {
             "pattern": {
              "fillmode": "overlay",
              "size": 10,
              "solidity": 0.2
             }
            },
            "type": "histogram"
           }
          ],
          "histogram2d": [
           {
            "colorbar": {
             "outlinewidth": 0,
             "ticks": ""
            },
            "colorscale": [
             [
              0,
              "#0d0887"
             ],
             [
              0.1111111111111111,
              "#46039f"
             ],
             [
              0.2222222222222222,
              "#7201a8"
             ],
             [
              0.3333333333333333,
              "#9c179e"
             ],
             [
              0.4444444444444444,
              "#bd3786"
             ],
             [
              0.5555555555555556,
              "#d8576b"
             ],
             [
              0.6666666666666666,
              "#ed7953"
             ],
             [
              0.7777777777777778,
              "#fb9f3a"
             ],
             [
              0.8888888888888888,
              "#fdca26"
             ],
             [
              1,
              "#f0f921"
             ]
            ],
            "type": "histogram2d"
           }
          ],
          "histogram2dcontour": [
           {
            "colorbar": {
             "outlinewidth": 0,
             "ticks": ""
            },
            "colorscale": [
             [
              0,
              "#0d0887"
             ],
             [
              0.1111111111111111,
              "#46039f"
             ],
             [
              0.2222222222222222,
              "#7201a8"
             ],
             [
              0.3333333333333333,
              "#9c179e"
             ],
             [
              0.4444444444444444,
              "#bd3786"
             ],
             [
              0.5555555555555556,
              "#d8576b"
             ],
             [
              0.6666666666666666,
              "#ed7953"
             ],
             [
              0.7777777777777778,
              "#fb9f3a"
             ],
             [
              0.8888888888888888,
              "#fdca26"
             ],
             [
              1,
              "#f0f921"
             ]
            ],
            "type": "histogram2dcontour"
           }
          ],
          "mesh3d": [
           {
            "colorbar": {
             "outlinewidth": 0,
             "ticks": ""
            },
            "type": "mesh3d"
           }
          ],
          "parcoords": [
           {
            "line": {
             "colorbar": {
              "outlinewidth": 0,
              "ticks": ""
             }
            },
            "type": "parcoords"
           }
          ],
          "pie": [
           {
            "automargin": true,
            "type": "pie"
           }
          ],
          "scatter": [
           {
            "fillpattern": {
             "fillmode": "overlay",
             "size": 10,
             "solidity": 0.2
            },
            "type": "scatter"
           }
          ],
          "scatter3d": [
           {
            "line": {
             "colorbar": {
              "outlinewidth": 0,
              "ticks": ""
             }
            },
            "marker": {
             "colorbar": {
              "outlinewidth": 0,
              "ticks": ""
             }
            },
            "type": "scatter3d"
           }
          ],
          "scattercarpet": [
           {
            "marker": {
             "colorbar": {
              "outlinewidth": 0,
              "ticks": ""
             }
            },
            "type": "scattercarpet"
           }
          ],
          "scattergeo": [
           {
            "marker": {
             "colorbar": {
              "outlinewidth": 0,
              "ticks": ""
             }
            },
            "type": "scattergeo"
           }
          ],
          "scattergl": [
           {
            "marker": {
             "colorbar": {
              "outlinewidth": 0,
              "ticks": ""
             }
            },
            "type": "scattergl"
           }
          ],
          "scattermapbox": [
           {
            "marker": {
             "colorbar": {
              "outlinewidth": 0,
              "ticks": ""
             }
            },
            "type": "scattermapbox"
           }
          ],
          "scatterpolar": [
           {
            "marker": {
             "colorbar": {
              "outlinewidth": 0,
              "ticks": ""
             }
            },
            "type": "scatterpolar"
           }
          ],
          "scatterpolargl": [
           {
            "marker": {
             "colorbar": {
              "outlinewidth": 0,
              "ticks": ""
             }
            },
            "type": "scatterpolargl"
           }
          ],
          "scatterternary": [
           {
            "marker": {
             "colorbar": {
              "outlinewidth": 0,
              "ticks": ""
             }
            },
            "type": "scatterternary"
           }
          ],
          "surface": [
           {
            "colorbar": {
             "outlinewidth": 0,
             "ticks": ""
            },
            "colorscale": [
             [
              0,
              "#0d0887"
             ],
             [
              0.1111111111111111,
              "#46039f"
             ],
             [
              0.2222222222222222,
              "#7201a8"
             ],
             [
              0.3333333333333333,
              "#9c179e"
             ],
             [
              0.4444444444444444,
              "#bd3786"
             ],
             [
              0.5555555555555556,
              "#d8576b"
             ],
             [
              0.6666666666666666,
              "#ed7953"
             ],
             [
              0.7777777777777778,
              "#fb9f3a"
             ],
             [
              0.8888888888888888,
              "#fdca26"
             ],
             [
              1,
              "#f0f921"
             ]
            ],
            "type": "surface"
           }
          ],
          "table": [
           {
            "cells": {
             "fill": {
              "color": "#EBF0F8"
             },
             "line": {
              "color": "white"
             }
            },
            "header": {
             "fill": {
              "color": "#C8D4E3"
             },
             "line": {
              "color": "white"
             }
            },
            "type": "table"
           }
          ]
         },
         "layout": {
          "annotationdefaults": {
           "arrowcolor": "#2a3f5f",
           "arrowhead": 0,
           "arrowwidth": 1
          },
          "autotypenumbers": "strict",
          "coloraxis": {
           "colorbar": {
            "outlinewidth": 0,
            "ticks": ""
           }
          },
          "colorscale": {
           "diverging": [
            [
             0,
             "#8e0152"
            ],
            [
             0.1,
             "#c51b7d"
            ],
            [
             0.2,
             "#de77ae"
            ],
            [
             0.3,
             "#f1b6da"
            ],
            [
             0.4,
             "#fde0ef"
            ],
            [
             0.5,
             "#f7f7f7"
            ],
            [
             0.6,
             "#e6f5d0"
            ],
            [
             0.7,
             "#b8e186"
            ],
            [
             0.8,
             "#7fbc41"
            ],
            [
             0.9,
             "#4d9221"
            ],
            [
             1,
             "#276419"
            ]
           ],
           "sequential": [
            [
             0,
             "#0d0887"
            ],
            [
             0.1111111111111111,
             "#46039f"
            ],
            [
             0.2222222222222222,
             "#7201a8"
            ],
            [
             0.3333333333333333,
             "#9c179e"
            ],
            [
             0.4444444444444444,
             "#bd3786"
            ],
            [
             0.5555555555555556,
             "#d8576b"
            ],
            [
             0.6666666666666666,
             "#ed7953"
            ],
            [
             0.7777777777777778,
             "#fb9f3a"
            ],
            [
             0.8888888888888888,
             "#fdca26"
            ],
            [
             1,
             "#f0f921"
            ]
           ],
           "sequentialminus": [
            [
             0,
             "#0d0887"
            ],
            [
             0.1111111111111111,
             "#46039f"
            ],
            [
             0.2222222222222222,
             "#7201a8"
            ],
            [
             0.3333333333333333,
             "#9c179e"
            ],
            [
             0.4444444444444444,
             "#bd3786"
            ],
            [
             0.5555555555555556,
             "#d8576b"
            ],
            [
             0.6666666666666666,
             "#ed7953"
            ],
            [
             0.7777777777777778,
             "#fb9f3a"
            ],
            [
             0.8888888888888888,
             "#fdca26"
            ],
            [
             1,
             "#f0f921"
            ]
           ]
          },
          "colorway": [
           "#636efa",
           "#EF553B",
           "#00cc96",
           "#ab63fa",
           "#FFA15A",
           "#19d3f3",
           "#FF6692",
           "#B6E880",
           "#FF97FF",
           "#FECB52"
          ],
          "font": {
           "color": "#2a3f5f"
          },
          "geo": {
           "bgcolor": "white",
           "lakecolor": "white",
           "landcolor": "#E5ECF6",
           "showlakes": true,
           "showland": true,
           "subunitcolor": "white"
          },
          "hoverlabel": {
           "align": "left"
          },
          "hovermode": "closest",
          "mapbox": {
           "style": "light"
          },
          "paper_bgcolor": "white",
          "plot_bgcolor": "#E5ECF6",
          "polar": {
           "angularaxis": {
            "gridcolor": "white",
            "linecolor": "white",
            "ticks": ""
           },
           "bgcolor": "#E5ECF6",
           "radialaxis": {
            "gridcolor": "white",
            "linecolor": "white",
            "ticks": ""
           }
          },
          "scene": {
           "xaxis": {
            "backgroundcolor": "#E5ECF6",
            "gridcolor": "white",
            "gridwidth": 2,
            "linecolor": "white",
            "showbackground": true,
            "ticks": "",
            "zerolinecolor": "white"
           },
           "yaxis": {
            "backgroundcolor": "#E5ECF6",
            "gridcolor": "white",
            "gridwidth": 2,
            "linecolor": "white",
            "showbackground": true,
            "ticks": "",
            "zerolinecolor": "white"
           },
           "zaxis": {
            "backgroundcolor": "#E5ECF6",
            "gridcolor": "white",
            "gridwidth": 2,
            "linecolor": "white",
            "showbackground": true,
            "ticks": "",
            "zerolinecolor": "white"
           }
          },
          "shapedefaults": {
           "line": {
            "color": "#2a3f5f"
           }
          },
          "ternary": {
           "aaxis": {
            "gridcolor": "white",
            "linecolor": "white",
            "ticks": ""
           },
           "baxis": {
            "gridcolor": "white",
            "linecolor": "white",
            "ticks": ""
           },
           "bgcolor": "#E5ECF6",
           "caxis": {
            "gridcolor": "white",
            "linecolor": "white",
            "ticks": ""
           }
          },
          "title": {
           "x": 0.05
          },
          "xaxis": {
           "automargin": true,
           "gridcolor": "white",
           "linecolor": "white",
           "ticks": "",
           "title": {
            "standoff": 15
           },
           "zerolinecolor": "white",
           "zerolinewidth": 2
          },
          "yaxis": {
           "automargin": true,
           "gridcolor": "white",
           "linecolor": "white",
           "ticks": "",
           "title": {
            "standoff": 15
           },
           "zerolinecolor": "white",
           "zerolinewidth": 2
          }
         }
        },
        "xaxis": {
         "anchor": "y",
         "domain": [
          0,
          1
         ],
         "type": "date"
        },
        "yaxis": {
         "anchor": "x",
         "domain": [
          0,
          1
         ],
         "title": {
          "text": "Machine"
         }
        }
       }
      }
     },
     "metadata": {},
     "output_type": "display_data"
    },
    {
     "name": "stdout",
     "output_type": "stream",
     "text": [
      "finished! no legal actions possible after 132 steps\n"
     ]
    },
    {
     "data": {
      "application/vnd.plotly.v1+json": {
       "config": {
        "plotlyServerURL": "https://plot.ly"
       },
       "data": [
        {
         "alignmentgroup": "True",
         "base": [
          "2022-01-01T00:00:01",
          "2022-01-01T00:06:11",
          "2022-01-01T00:07:17",
          "2022-01-01T00:02:50",
          "2022-01-01T00:11:04",
          "2022-01-01T00:12:20",
          "2022-01-01T00:01:35",
          "2022-01-01T00:04:11",
          "2022-01-01T00:13:18",
          "2022-01-01T00:14:51"
         ],
         "hovertemplate": "Job=job_09<br>Start=%{base}<br>Finish=%{x}<br>Machine=%{y}<extra></extra>",
         "legendgroup": "job_09",
         "marker": {
          "color": "#636efa",
          "pattern": {
           "shape": ""
          }
         },
         "name": "job_09",
         "offsetgroup": "job_09",
         "orientation": "h",
         "showlegend": true,
         "textposition": "auto",
         "type": "bar",
         "x": [
          93000,
          65000,
          89000,
          80000,
          75000,
          57000,
          70000,
          84000,
          92000,
          96000
         ],
         "xaxis": "x",
         "y": [
          "machine_01",
          "machine_02",
          "machine_03",
          "machine_04",
          "machine_05",
          "machine_06",
          "machine_07",
          "machine_08",
          "machine_09",
          "machine_10"
         ],
         "yaxis": "y"
        },
        {
         "alignmentgroup": "True",
         "base": [
          "2022-01-01T00:02:00",
          "2022-01-01T00:03:44",
          "2022-01-01T00:18:07",
          "2022-01-01T00:01:10",
          "2022-01-01T00:15:00",
          "2022-01-01T00:16:21",
          "2022-01-01T00:09:48",
          "2022-01-01T00:06:13",
          "2022-01-01T00:05:06",
          "2022-01-01T00:07:09"
         ],
         "hovertemplate": "Job=job_10<br>Start=%{base}<br>Finish=%{x}<br>Machine=%{y}<extra></extra>",
         "legendgroup": "job_10",
         "marker": {
          "color": "#EF553B",
          "pattern": {
           "shape": ""
          }
         },
         "name": "job_10",
         "offsetgroup": "job_10",
         "orientation": "h",
         "showlegend": true,
         "textposition": "auto",
         "type": "bar",
         "x": [
          58000,
          81000,
          95000,
          49000,
          80000,
          58000,
          57000,
          55000,
          66000,
          95000
         ],
         "xaxis": "x",
         "y": [
          "machine_01",
          "machine_02",
          "machine_03",
          "machine_04",
          "machine_05",
          "machine_06",
          "machine_07",
          "machine_08",
          "machine_09",
          "machine_10"
         ],
         "yaxis": "y"
        },
        {
         "alignmentgroup": "True",
         "base": [
          "2022-01-01T00:02:59",
          "2022-01-01T00:05:06",
          "2022-01-01T00:14:32",
          "2022-01-01T00:15:27",
          "2022-01-01T00:12:20",
          "2022-01-01T00:07:24",
          "2022-01-01T00:06:20",
          "2022-01-01T00:08:49",
          "2022-01-01T00:01:24",
          "2022-01-01T00:00:01"
         ],
         "hovertemplate": "Job=job_03<br>Start=%{base}<br>Finish=%{x}<br>Machine=%{y}<extra></extra>",
         "legendgroup": "job_03",
         "marker": {
          "color": "#00cc96",
          "pattern": {
           "shape": ""
          }
         },
         "name": "job_03",
         "offsetgroup": "job_03",
         "orientation": "h",
         "showlegend": true,
         "textposition": "auto",
         "type": "bar",
         "x": [
          82000,
          64000,
          54000,
          76000,
          84000,
          84000,
          63000,
          77000,
          60000,
          82000
         ],
         "xaxis": "x",
         "y": [
          "machine_01",
          "machine_02",
          "machine_03",
          "machine_04",
          "machine_05",
          "machine_06",
          "machine_07",
          "machine_08",
          "machine_09",
          "machine_10"
         ],
         "yaxis": "y"
        },
        {
         "alignmentgroup": "True",
         "base": [
          "2022-01-01T00:07:48",
          "2022-01-01T00:18:46",
          "2022-01-01T00:11:47",
          "2022-01-01T00:00:01",
          "2022-01-01T00:03:13",
          "2022-01-01T00:14:52",
          "2022-01-01T00:12:54",
          "2022-01-01T00:17:39",
          "2022-01-01T00:06:13",
          "2022-01-01T00:04:41"
         ],
         "hovertemplate": "Job=job_05<br>Start=%{base}<br>Finish=%{x}<br>Machine=%{y}<extra></extra>",
         "legendgroup": "job_05",
         "marker": {
          "color": "#ab63fa",
          "pattern": {
           "shape": ""
          }
         },
         "name": "job_05",
         "offsetgroup": "job_05",
         "orientation": "h",
         "showlegend": true,
         "textposition": "auto",
         "type": "bar",
         "x": [
          98000,
          85000,
          66000,
          68000,
          87000,
          67000,
          94000,
          66000,
          94000,
          81000
         ],
         "xaxis": "x",
         "y": [
          "machine_01",
          "machine_02",
          "machine_03",
          "machine_04",
          "machine_05",
          "machine_06",
          "machine_07",
          "machine_08",
          "machine_09",
          "machine_10"
         ],
         "yaxis": "y"
        },
        {
         "alignmentgroup": "True",
         "base": [
          "2022-01-01T00:10:59",
          "2022-01-01T00:02:43",
          "2022-01-01T00:01:35",
          "2022-01-01T00:06:20",
          "2022-01-01T00:04:41",
          "2022-01-01T00:09:53",
          "2022-01-01T00:07:24",
          "2022-01-01T00:00:01",
          "2022-01-01T00:16:28",
          "2022-01-01T00:12:15"
         ],
         "hovertemplate": "Job=job_04<br>Start=%{base}<br>Finish=%{x}<br>Machine=%{y}<extra></extra>",
         "legendgroup": "job_04",
         "marker": {
          "color": "#FFA15A",
          "pattern": {
           "shape": ""
          }
         },
         "name": "job_04",
         "offsetgroup": "job_04",
         "orientation": "h",
         "showlegend": true,
         "textposition": "auto",
         "type": "bar",
         "x": [
          75000,
          60000,
          67000,
          53000,
          98000,
          65000,
          74000,
          93000,
          66000,
          62000
         ],
         "xaxis": "x",
         "y": [
          "machine_01",
          "machine_02",
          "machine_03",
          "machine_04",
          "machine_05",
          "machine_06",
          "machine_07",
          "machine_08",
          "machine_09",
          "machine_10"
         ],
         "yaxis": "y"
        },
        {
         "alignmentgroup": "True",
         "base": [
          "2022-01-01T00:12:40",
          "2022-01-01T00:07:17",
          "2022-01-01T00:17:01",
          "2022-01-01T00:11:04",
          "2022-01-01T00:09:27",
          "2022-01-01T00:18:07",
          "2022-01-01T00:19:46",
          "2022-01-01T00:01:35",
          "2022-01-01T00:14:51",
          "2022-01-01T00:20:38"
         ],
         "hovertemplate": "Job=job_07<br>Start=%{base}<br>Finish=%{x}<br>Machine=%{y}<extra></extra>",
         "legendgroup": "job_07",
         "marker": {
          "color": "#19d3f3",
          "pattern": {
           "shape": ""
          }
         },
         "name": "job_07",
         "offsetgroup": "job_07",
         "orientation": "h",
         "showlegend": true,
         "textposition": "auto",
         "type": "bar",
         "x": [
          94000,
          85000,
          65000,
          95000,
          96000,
          98000,
          51000,
          49000,
          96000,
          70000
         ],
         "xaxis": "x",
         "y": [
          "machine_01",
          "machine_02",
          "machine_03",
          "machine_04",
          "machine_05",
          "machine_06",
          "machine_07",
          "machine_08",
          "machine_09",
          "machine_10"
         ],
         "yaxis": "y"
        },
        {
         "alignmentgroup": "True",
         "base": [
          "2022-01-01T00:17:39",
          "2022-01-01T00:08:43",
          "2022-01-01T00:10:18",
          "2022-01-01T00:19:05",
          "2022-01-01T00:00:01",
          "2022-01-01T00:05:07",
          "2022-01-01T00:03:33",
          "2022-01-01T00:16:00",
          "2022-01-01T00:02:25",
          "2022-01-01T00:13:18"
         ],
         "hovertemplate": "Job=job_01<br>Start=%{base}<br>Finish=%{x}<br>Machine=%{y}<extra></extra>",
         "legendgroup": "job_01",
         "marker": {
          "color": "#FF6692",
          "pattern": {
           "shape": ""
          }
         },
         "name": "job_01",
         "offsetgroup": "job_01",
         "orientation": "h",
         "showlegend": true,
         "textposition": "auto",
         "type": "bar",
         "x": [
          85000,
          66000,
          88000,
          91000,
          87000,
          98000,
          93000,
          98000,
          67000,
          76000
         ],
         "xaxis": "x",
         "y": [
          "machine_01",
          "machine_02",
          "machine_03",
          "machine_04",
          "machine_05",
          "machine_06",
          "machine_07",
          "machine_08",
          "machine_09",
          "machine_10"
         ],
         "yaxis": "y"
        },
        {
         "alignmentgroup": "True",
         "base": [
          "2022-01-01T00:19:46",
          "2022-01-01T00:00:01",
          "2022-01-01T00:13:12",
          "2022-01-01T00:17:30",
          "2022-01-01T00:06:20",
          "2022-01-01T00:08:49",
          "2022-01-01T00:10:46",
          "2022-01-01T00:14:32",
          "2022-01-01T00:11:52",
          "2022-01-01T00:16:28"
         ],
         "hovertemplate": "Job=job_06<br>Start=%{base}<br>Finish=%{x}<br>Machine=%{y}<extra></extra>",
         "legendgroup": "job_06",
         "marker": {
          "color": "#B6E880",
          "pattern": {
           "shape": ""
          }
         },
         "name": "job_06",
         "offsetgroup": "job_06",
         "orientation": "h",
         "showlegend": true,
         "textposition": "auto",
         "type": "bar",
         "x": [
          87000,
          98000,
          79000,
          78000,
          80000,
          63000,
          65000,
          68000,
          79000,
          61000
         ],
         "xaxis": "x",
         "y": [
          "machine_01",
          "machine_02",
          "machine_03",
          "machine_04",
          "machine_05",
          "machine_06",
          "machine_07",
          "machine_08",
          "machine_09",
          "machine_10"
         ],
         "yaxis": "y"
        },
        {
         "alignmentgroup": "True",
         "base": [
          "2022-01-01T00:21:14",
          "2022-01-01T00:22:46",
          "2022-01-01T00:15:27",
          "2022-01-01T00:02:00",
          "2022-01-01T00:13:45",
          "2022-01-01T00:00:01",
          "2022-01-01T00:08:39",
          "2022-01-01T00:24:08",
          "2022-01-01T00:17:35",
          "2022-01-01T00:25:42"
         ],
         "hovertemplate": "Job=job_02<br>Start=%{base}<br>Finish=%{x}<br>Machine=%{y}<extra></extra>",
         "legendgroup": "job_02",
         "marker": {
          "color": "#FF97FF",
          "pattern": {
           "shape": ""
          }
         },
         "name": "job_02",
         "offsetgroup": "job_02",
         "orientation": "h",
         "showlegend": true,
         "textposition": "auto",
         "type": "bar",
         "x": [
          91000,
          81000,
          93000,
          49000,
          74000,
          71000,
          68000,
          93000,
          65000,
          62000
         ],
         "xaxis": "x",
         "y": [
          "machine_01",
          "machine_02",
          "machine_03",
          "machine_04",
          "machine_05",
          "machine_06",
          "machine_07",
          "machine_08",
          "machine_09",
          "machine_10"
         ],
         "yaxis": "y"
        },
        {
         "alignmentgroup": "True",
         "base": [
          "2022-01-01T00:22:46",
          "2022-01-01T00:10:18",
          "2022-01-01T00:09:27",
          "2022-01-01T00:07:14",
          "2022-01-01T00:01:35",
          "2022-01-01T00:13:18",
          "2022-01-01T00:05:07",
          "2022-01-01T00:18:46",
          "2022-01-01T00:23:48",
          "2022-01-01T00:26:45"
         ],
         "hovertemplate": "Job=job_08<br>Start=%{base}<br>Finish=%{x}<br>Machine=%{y}<extra></extra>",
         "legendgroup": "job_08",
         "marker": {
          "color": "#FECB52",
          "pattern": {
           "shape": ""
          }
         },
         "name": "job_08",
         "offsetgroup": "job_08",
         "orientation": "h",
         "showlegend": true,
         "textposition": "auto",
         "type": "bar",
         "x": [
          61000,
          70000,
          50000,
          81000,
          97000,
          93000,
          72000,
          84000,
          94000,
          78000
         ],
         "xaxis": "x",
         "y": [
          "machine_01",
          "machine_02",
          "machine_03",
          "machine_04",
          "machine_05",
          "machine_06",
          "machine_07",
          "machine_08",
          "machine_09",
          "machine_10"
         ],
         "yaxis": "y"
        }
       ],
       "layout": {
        "barmode": "overlay",
        "legend": {
         "title": {
          "text": "Job"
         },
         "tracegroupgap": 0
        },
        "margin": {
         "t": 60
        },
        "template": {
         "data": {
          "bar": [
           {
            "error_x": {
             "color": "#2a3f5f"
            },
            "error_y": {
             "color": "#2a3f5f"
            },
            "marker": {
             "line": {
              "color": "#E5ECF6",
              "width": 0.5
             },
             "pattern": {
              "fillmode": "overlay",
              "size": 10,
              "solidity": 0.2
             }
            },
            "type": "bar"
           }
          ],
          "barpolar": [
           {
            "marker": {
             "line": {
              "color": "#E5ECF6",
              "width": 0.5
             },
             "pattern": {
              "fillmode": "overlay",
              "size": 10,
              "solidity": 0.2
             }
            },
            "type": "barpolar"
           }
          ],
          "carpet": [
           {
            "aaxis": {
             "endlinecolor": "#2a3f5f",
             "gridcolor": "white",
             "linecolor": "white",
             "minorgridcolor": "white",
             "startlinecolor": "#2a3f5f"
            },
            "baxis": {
             "endlinecolor": "#2a3f5f",
             "gridcolor": "white",
             "linecolor": "white",
             "minorgridcolor": "white",
             "startlinecolor": "#2a3f5f"
            },
            "type": "carpet"
           }
          ],
          "choropleth": [
           {
            "colorbar": {
             "outlinewidth": 0,
             "ticks": ""
            },
            "type": "choropleth"
           }
          ],
          "contour": [
           {
            "colorbar": {
             "outlinewidth": 0,
             "ticks": ""
            },
            "colorscale": [
             [
              0,
              "#0d0887"
             ],
             [
              0.1111111111111111,
              "#46039f"
             ],
             [
              0.2222222222222222,
              "#7201a8"
             ],
             [
              0.3333333333333333,
              "#9c179e"
             ],
             [
              0.4444444444444444,
              "#bd3786"
             ],
             [
              0.5555555555555556,
              "#d8576b"
             ],
             [
              0.6666666666666666,
              "#ed7953"
             ],
             [
              0.7777777777777778,
              "#fb9f3a"
             ],
             [
              0.8888888888888888,
              "#fdca26"
             ],
             [
              1,
              "#f0f921"
             ]
            ],
            "type": "contour"
           }
          ],
          "contourcarpet": [
           {
            "colorbar": {
             "outlinewidth": 0,
             "ticks": ""
            },
            "type": "contourcarpet"
           }
          ],
          "heatmap": [
           {
            "colorbar": {
             "outlinewidth": 0,
             "ticks": ""
            },
            "colorscale": [
             [
              0,
              "#0d0887"
             ],
             [
              0.1111111111111111,
              "#46039f"
             ],
             [
              0.2222222222222222,
              "#7201a8"
             ],
             [
              0.3333333333333333,
              "#9c179e"
             ],
             [
              0.4444444444444444,
              "#bd3786"
             ],
             [
              0.5555555555555556,
              "#d8576b"
             ],
             [
              0.6666666666666666,
              "#ed7953"
             ],
             [
              0.7777777777777778,
              "#fb9f3a"
             ],
             [
              0.8888888888888888,
              "#fdca26"
             ],
             [
              1,
              "#f0f921"
             ]
            ],
            "type": "heatmap"
           }
          ],
          "heatmapgl": [
           {
            "colorbar": {
             "outlinewidth": 0,
             "ticks": ""
            },
            "colorscale": [
             [
              0,
              "#0d0887"
             ],
             [
              0.1111111111111111,
              "#46039f"
             ],
             [
              0.2222222222222222,
              "#7201a8"
             ],
             [
              0.3333333333333333,
              "#9c179e"
             ],
             [
              0.4444444444444444,
              "#bd3786"
             ],
             [
              0.5555555555555556,
              "#d8576b"
             ],
             [
              0.6666666666666666,
              "#ed7953"
             ],
             [
              0.7777777777777778,
              "#fb9f3a"
             ],
             [
              0.8888888888888888,
              "#fdca26"
             ],
             [
              1,
              "#f0f921"
             ]
            ],
            "type": "heatmapgl"
           }
          ],
          "histogram": [
           {
            "marker": {
             "pattern": {
              "fillmode": "overlay",
              "size": 10,
              "solidity": 0.2
             }
            },
            "type": "histogram"
           }
          ],
          "histogram2d": [
           {
            "colorbar": {
             "outlinewidth": 0,
             "ticks": ""
            },
            "colorscale": [
             [
              0,
              "#0d0887"
             ],
             [
              0.1111111111111111,
              "#46039f"
             ],
             [
              0.2222222222222222,
              "#7201a8"
             ],
             [
              0.3333333333333333,
              "#9c179e"
             ],
             [
              0.4444444444444444,
              "#bd3786"
             ],
             [
              0.5555555555555556,
              "#d8576b"
             ],
             [
              0.6666666666666666,
              "#ed7953"
             ],
             [
              0.7777777777777778,
              "#fb9f3a"
             ],
             [
              0.8888888888888888,
              "#fdca26"
             ],
             [
              1,
              "#f0f921"
             ]
            ],
            "type": "histogram2d"
           }
          ],
          "histogram2dcontour": [
           {
            "colorbar": {
             "outlinewidth": 0,
             "ticks": ""
            },
            "colorscale": [
             [
              0,
              "#0d0887"
             ],
             [
              0.1111111111111111,
              "#46039f"
             ],
             [
              0.2222222222222222,
              "#7201a8"
             ],
             [
              0.3333333333333333,
              "#9c179e"
             ],
             [
              0.4444444444444444,
              "#bd3786"
             ],
             [
              0.5555555555555556,
              "#d8576b"
             ],
             [
              0.6666666666666666,
              "#ed7953"
             ],
             [
              0.7777777777777778,
              "#fb9f3a"
             ],
             [
              0.8888888888888888,
              "#fdca26"
             ],
             [
              1,
              "#f0f921"
             ]
            ],
            "type": "histogram2dcontour"
           }
          ],
          "mesh3d": [
           {
            "colorbar": {
             "outlinewidth": 0,
             "ticks": ""
            },
            "type": "mesh3d"
           }
          ],
          "parcoords": [
           {
            "line": {
             "colorbar": {
              "outlinewidth": 0,
              "ticks": ""
             }
            },
            "type": "parcoords"
           }
          ],
          "pie": [
           {
            "automargin": true,
            "type": "pie"
           }
          ],
          "scatter": [
           {
            "fillpattern": {
             "fillmode": "overlay",
             "size": 10,
             "solidity": 0.2
            },
            "type": "scatter"
           }
          ],
          "scatter3d": [
           {
            "line": {
             "colorbar": {
              "outlinewidth": 0,
              "ticks": ""
             }
            },
            "marker": {
             "colorbar": {
              "outlinewidth": 0,
              "ticks": ""
             }
            },
            "type": "scatter3d"
           }
          ],
          "scattercarpet": [
           {
            "marker": {
             "colorbar": {
              "outlinewidth": 0,
              "ticks": ""
             }
            },
            "type": "scattercarpet"
           }
          ],
          "scattergeo": [
           {
            "marker": {
             "colorbar": {
              "outlinewidth": 0,
              "ticks": ""
             }
            },
            "type": "scattergeo"
           }
          ],
          "scattergl": [
           {
            "marker": {
             "colorbar": {
              "outlinewidth": 0,
              "ticks": ""
             }
            },
            "type": "scattergl"
           }
          ],
          "scattermapbox": [
           {
            "marker": {
             "colorbar": {
              "outlinewidth": 0,
              "ticks": ""
             }
            },
            "type": "scattermapbox"
           }
          ],
          "scatterpolar": [
           {
            "marker": {
             "colorbar": {
              "outlinewidth": 0,
              "ticks": ""
             }
            },
            "type": "scatterpolar"
           }
          ],
          "scatterpolargl": [
           {
            "marker": {
             "colorbar": {
              "outlinewidth": 0,
              "ticks": ""
             }
            },
            "type": "scatterpolargl"
           }
          ],
          "scatterternary": [
           {
            "marker": {
             "colorbar": {
              "outlinewidth": 0,
              "ticks": ""
             }
            },
            "type": "scatterternary"
           }
          ],
          "surface": [
           {
            "colorbar": {
             "outlinewidth": 0,
             "ticks": ""
            },
            "colorscale": [
             [
              0,
              "#0d0887"
             ],
             [
              0.1111111111111111,
              "#46039f"
             ],
             [
              0.2222222222222222,
              "#7201a8"
             ],
             [
              0.3333333333333333,
              "#9c179e"
             ],
             [
              0.4444444444444444,
              "#bd3786"
             ],
             [
              0.5555555555555556,
              "#d8576b"
             ],
             [
              0.6666666666666666,
              "#ed7953"
             ],
             [
              0.7777777777777778,
              "#fb9f3a"
             ],
             [
              0.8888888888888888,
              "#fdca26"
             ],
             [
              1,
              "#f0f921"
             ]
            ],
            "type": "surface"
           }
          ],
          "table": [
           {
            "cells": {
             "fill": {
              "color": "#EBF0F8"
             },
             "line": {
              "color": "white"
             }
            },
            "header": {
             "fill": {
              "color": "#C8D4E3"
             },
             "line": {
              "color": "white"
             }
            },
            "type": "table"
           }
          ]
         },
         "layout": {
          "annotationdefaults": {
           "arrowcolor": "#2a3f5f",
           "arrowhead": 0,
           "arrowwidth": 1
          },
          "autotypenumbers": "strict",
          "coloraxis": {
           "colorbar": {
            "outlinewidth": 0,
            "ticks": ""
           }
          },
          "colorscale": {
           "diverging": [
            [
             0,
             "#8e0152"
            ],
            [
             0.1,
             "#c51b7d"
            ],
            [
             0.2,
             "#de77ae"
            ],
            [
             0.3,
             "#f1b6da"
            ],
            [
             0.4,
             "#fde0ef"
            ],
            [
             0.5,
             "#f7f7f7"
            ],
            [
             0.6,
             "#e6f5d0"
            ],
            [
             0.7,
             "#b8e186"
            ],
            [
             0.8,
             "#7fbc41"
            ],
            [
             0.9,
             "#4d9221"
            ],
            [
             1,
             "#276419"
            ]
           ],
           "sequential": [
            [
             0,
             "#0d0887"
            ],
            [
             0.1111111111111111,
             "#46039f"
            ],
            [
             0.2222222222222222,
             "#7201a8"
            ],
            [
             0.3333333333333333,
             "#9c179e"
            ],
            [
             0.4444444444444444,
             "#bd3786"
            ],
            [
             0.5555555555555556,
             "#d8576b"
            ],
            [
             0.6666666666666666,
             "#ed7953"
            ],
            [
             0.7777777777777778,
             "#fb9f3a"
            ],
            [
             0.8888888888888888,
             "#fdca26"
            ],
            [
             1,
             "#f0f921"
            ]
           ],
           "sequentialminus": [
            [
             0,
             "#0d0887"
            ],
            [
             0.1111111111111111,
             "#46039f"
            ],
            [
             0.2222222222222222,
             "#7201a8"
            ],
            [
             0.3333333333333333,
             "#9c179e"
            ],
            [
             0.4444444444444444,
             "#bd3786"
            ],
            [
             0.5555555555555556,
             "#d8576b"
            ],
            [
             0.6666666666666666,
             "#ed7953"
            ],
            [
             0.7777777777777778,
             "#fb9f3a"
            ],
            [
             0.8888888888888888,
             "#fdca26"
            ],
            [
             1,
             "#f0f921"
            ]
           ]
          },
          "colorway": [
           "#636efa",
           "#EF553B",
           "#00cc96",
           "#ab63fa",
           "#FFA15A",
           "#19d3f3",
           "#FF6692",
           "#B6E880",
           "#FF97FF",
           "#FECB52"
          ],
          "font": {
           "color": "#2a3f5f"
          },
          "geo": {
           "bgcolor": "white",
           "lakecolor": "white",
           "landcolor": "#E5ECF6",
           "showlakes": true,
           "showland": true,
           "subunitcolor": "white"
          },
          "hoverlabel": {
           "align": "left"
          },
          "hovermode": "closest",
          "mapbox": {
           "style": "light"
          },
          "paper_bgcolor": "white",
          "plot_bgcolor": "#E5ECF6",
          "polar": {
           "angularaxis": {
            "gridcolor": "white",
            "linecolor": "white",
            "ticks": ""
           },
           "bgcolor": "#E5ECF6",
           "radialaxis": {
            "gridcolor": "white",
            "linecolor": "white",
            "ticks": ""
           }
          },
          "scene": {
           "xaxis": {
            "backgroundcolor": "#E5ECF6",
            "gridcolor": "white",
            "gridwidth": 2,
            "linecolor": "white",
            "showbackground": true,
            "ticks": "",
            "zerolinecolor": "white"
           },
           "yaxis": {
            "backgroundcolor": "#E5ECF6",
            "gridcolor": "white",
            "gridwidth": 2,
            "linecolor": "white",
            "showbackground": true,
            "ticks": "",
            "zerolinecolor": "white"
           },
           "zaxis": {
            "backgroundcolor": "#E5ECF6",
            "gridcolor": "white",
            "gridwidth": 2,
            "linecolor": "white",
            "showbackground": true,
            "ticks": "",
            "zerolinecolor": "white"
           }
          },
          "shapedefaults": {
           "line": {
            "color": "#2a3f5f"
           }
          },
          "ternary": {
           "aaxis": {
            "gridcolor": "white",
            "linecolor": "white",
            "ticks": ""
           },
           "baxis": {
            "gridcolor": "white",
            "linecolor": "white",
            "ticks": ""
           },
           "bgcolor": "#E5ECF6",
           "caxis": {
            "gridcolor": "white",
            "linecolor": "white",
            "ticks": ""
           }
          },
          "title": {
           "x": 0.05
          },
          "xaxis": {
           "automargin": true,
           "gridcolor": "white",
           "linecolor": "white",
           "ticks": "",
           "title": {
            "standoff": 15
           },
           "zerolinecolor": "white",
           "zerolinewidth": 2
          },
          "yaxis": {
           "automargin": true,
           "gridcolor": "white",
           "linecolor": "white",
           "ticks": "",
           "title": {
            "standoff": 15
           },
           "zerolinecolor": "white",
           "zerolinewidth": 2
          }
         }
        },
        "xaxis": {
         "anchor": "y",
         "domain": [
          0,
          1
         ],
         "type": "date"
        },
        "yaxis": {
         "anchor": "x",
         "domain": [
          0,
          1
         ],
         "title": {
          "text": "Machine"
         }
        }
       }
      }
     },
     "metadata": {},
     "output_type": "display_data"
    },
    {
     "name": "stdout",
     "output_type": "stream",
     "text": [
      "finished! no legal actions possible after 123 steps\n"
     ]
    },
    {
     "data": {
      "application/vnd.plotly.v1+json": {
       "config": {
        "plotlyServerURL": "https://plot.ly"
       },
       "data": [
        {
         "alignmentgroup": "True",
         "base": [
          "2022-01-01T00:00:51",
          "2022-01-01T00:04:49",
          "2022-01-01T00:16:41",
          "2022-01-01T00:00:01",
          "2022-01-01T00:12:55",
          "2022-01-01T00:14:16",
          "2022-01-01T00:11:57",
          "2022-01-01T00:07:18",
          "2022-01-01T00:06:11",
          "2022-01-01T00:09:16"
         ],
         "hovertemplate": "Job=job_10<br>Start=%{base}<br>Finish=%{x}<br>Machine=%{y}<extra></extra>",
         "legendgroup": "job_10",
         "marker": {
          "color": "#636efa",
          "pattern": {
           "shape": ""
          }
         },
         "name": "job_10",
         "offsetgroup": "job_10",
         "orientation": "h",
         "showlegend": true,
         "textposition": "auto",
         "type": "bar",
         "x": [
          58000,
          81000,
          95000,
          49000,
          80000,
          58000,
          57000,
          55000,
          66000,
          95000
         ],
         "xaxis": "x",
         "y": [
          "machine_01",
          "machine_02",
          "machine_03",
          "machine_04",
          "machine_05",
          "machine_06",
          "machine_07",
          "machine_08",
          "machine_09",
          "machine_10"
         ],
         "yaxis": "y"
        },
        {
         "alignmentgroup": "True",
         "base": [
          "2022-01-01T00:02:00",
          "2022-01-01T00:11:13",
          "2022-01-01T00:13:37",
          "2022-01-01T00:08:27",
          "2022-01-01T00:15:41",
          "2022-01-01T00:16:57",
          "2022-01-01T00:07:16",
          "2022-01-01T00:09:48",
          "2022-01-01T00:19:43",
          "2022-01-01T00:21:16"
         ],
         "hovertemplate": "Job=job_09<br>Start=%{base}<br>Finish=%{x}<br>Machine=%{y}<extra></extra>",
         "legendgroup": "job_09",
         "marker": {
          "color": "#EF553B",
          "pattern": {
           "shape": ""
          }
         },
         "name": "job_09",
         "offsetgroup": "job_09",
         "orientation": "h",
         "showlegend": true,
         "textposition": "auto",
         "type": "bar",
         "x": [
          93000,
          65000,
          89000,
          80000,
          75000,
          57000,
          70000,
          84000,
          92000,
          96000
         ],
         "xaxis": "x",
         "y": [
          "machine_01",
          "machine_02",
          "machine_03",
          "machine_04",
          "machine_05",
          "machine_06",
          "machine_07",
          "machine_08",
          "machine_09",
          "machine_10"
         ],
         "yaxis": "y"
        },
        {
         "alignmentgroup": "True",
         "base": [
          "2022-01-01T00:03:34",
          "2022-01-01T00:06:11",
          "2022-01-01T00:19:24",
          "2022-01-01T00:20:26",
          "2022-01-01T00:14:16",
          "2022-01-01T00:09:31",
          "2022-01-01T00:08:27",
          "2022-01-01T00:11:57",
          "2022-01-01T00:01:24",
          "2022-01-01T00:00:01"
         ],
         "hovertemplate": "Job=job_03<br>Start=%{base}<br>Finish=%{x}<br>Machine=%{y}<extra></extra>",
         "legendgroup": "job_03",
         "marker": {
          "color": "#00cc96",
          "pattern": {
           "shape": ""
          }
         },
         "name": "job_03",
         "offsetgroup": "job_03",
         "orientation": "h",
         "showlegend": true,
         "textposition": "auto",
         "type": "bar",
         "x": [
          82000,
          64000,
          54000,
          76000,
          84000,
          84000,
          63000,
          77000,
          60000,
          82000
         ],
         "xaxis": "x",
         "y": [
          "machine_01",
          "machine_02",
          "machine_03",
          "machine_04",
          "machine_05",
          "machine_06",
          "machine_07",
          "machine_08",
          "machine_09",
          "machine_10"
         ],
         "yaxis": "y"
        },
        {
         "alignmentgroup": "True",
         "base": [
          "2022-01-01T00:08:26",
          "2022-01-01T00:01:40",
          "2022-01-01T00:20:19",
          "2022-01-01T00:06:50",
          "2022-01-01T00:04:49",
          "2022-01-01T00:22:07",
          "2022-01-01T00:23:46",
          "2022-01-01T00:00:01",
          "2022-01-01T00:12:11",
          "2022-01-01T00:24:44"
         ],
         "hovertemplate": "Job=job_07<br>Start=%{base}<br>Finish=%{x}<br>Machine=%{y}<extra></extra>",
         "legendgroup": "job_07",
         "marker": {
          "color": "#ab63fa",
          "pattern": {
           "shape": ""
          }
         },
         "name": "job_07",
         "offsetgroup": "job_07",
         "orientation": "h",
         "showlegend": true,
         "textposition": "auto",
         "type": "bar",
         "x": [
          94000,
          85000,
          65000,
          95000,
          96000,
          98000,
          51000,
          49000,
          96000,
          70000
         ],
         "xaxis": "x",
         "y": [
          "machine_01",
          "machine_02",
          "machine_03",
          "machine_04",
          "machine_05",
          "machine_06",
          "machine_07",
          "machine_08",
          "machine_09",
          "machine_10"
         ],
         "yaxis": "y"
        },
        {
         "alignmentgroup": "True",
         "base": [
          "2022-01-01T00:10:51",
          "2022-01-01T00:24:48",
          "2022-01-01T00:18:17",
          "2022-01-01T00:00:51",
          "2022-01-01T00:06:26",
          "2022-01-01T00:20:59",
          "2022-01-01T00:19:24",
          "2022-01-01T00:23:41",
          "2022-01-01T00:09:16",
          "2022-01-01T00:07:54"
         ],
         "hovertemplate": "Job=job_05<br>Start=%{base}<br>Finish=%{x}<br>Machine=%{y}<extra></extra>",
         "legendgroup": "job_05",
         "marker": {
          "color": "#FFA15A",
          "pattern": {
           "shape": ""
          }
         },
         "name": "job_05",
         "offsetgroup": "job_05",
         "orientation": "h",
         "showlegend": true,
         "textposition": "auto",
         "type": "bar",
         "x": [
          98000,
          85000,
          66000,
          68000,
          87000,
          67000,
          94000,
          66000,
          94000,
          81000
         ],
         "xaxis": "x",
         "y": [
          "machine_01",
          "machine_02",
          "machine_03",
          "machine_04",
          "machine_05",
          "machine_06",
          "machine_07",
          "machine_08",
          "machine_09",
          "machine_10"
         ],
         "yaxis": "y"
        },
        {
         "alignmentgroup": "True",
         "base": [
          "2022-01-01T00:13:36",
          "2022-01-01T00:03:33",
          "2022-01-01T00:02:25",
          "2022-01-01T00:09:48",
          "2022-01-01T00:07:54",
          "2022-01-01T00:12:30",
          "2022-01-01T00:10:42",
          "2022-01-01T00:00:51",
          "2022-01-01T00:18:36",
          "2022-01-01T00:14:52"
         ],
         "hovertemplate": "Job=job_04<br>Start=%{base}<br>Finish=%{x}<br>Machine=%{y}<extra></extra>",
         "legendgroup": "job_04",
         "marker": {
          "color": "#19d3f3",
          "pattern": {
           "shape": ""
          }
         },
         "name": "job_04",
         "offsetgroup": "job_04",
         "orientation": "h",
         "showlegend": true,
         "textposition": "auto",
         "type": "bar",
         "x": [
          75000,
          60000,
          67000,
          53000,
          98000,
          65000,
          74000,
          93000,
          66000,
          62000
         ],
         "xaxis": "x",
         "y": [
          "machine_01",
          "machine_02",
          "machine_03",
          "machine_04",
          "machine_05",
          "machine_06",
          "machine_07",
          "machine_08",
          "machine_09",
          "machine_10"
         ],
         "yaxis": "y"
        },
        {
         "alignmentgroup": "True",
         "base": [
          "2022-01-01T00:14:52",
          "2022-01-01T00:08:26",
          "2022-01-01T00:06:50",
          "2022-01-01T00:05:28",
          "2022-01-01T00:01:50",
          "2022-01-01T00:10:56",
          "2022-01-01T00:04:15",
          "2022-01-01T00:13:15",
          "2022-01-01T00:15:55",
          "2022-01-01T00:17:30"
         ],
         "hovertemplate": "Job=job_08<br>Start=%{base}<br>Finish=%{x}<br>Machine=%{y}<extra></extra>",
         "legendgroup": "job_08",
         "marker": {
          "color": "#FF6692",
          "pattern": {
           "shape": ""
          }
         },
         "name": "job_08",
         "offsetgroup": "job_08",
         "orientation": "h",
         "showlegend": true,
         "textposition": "auto",
         "type": "bar",
         "x": [
          61000,
          70000,
          50000,
          81000,
          97000,
          93000,
          72000,
          84000,
          94000,
          78000
         ],
         "xaxis": "x",
         "y": [
          "machine_01",
          "machine_02",
          "machine_03",
          "machine_04",
          "machine_05",
          "machine_06",
          "machine_07",
          "machine_08",
          "machine_09",
          "machine_10"
         ],
         "yaxis": "y"
        },
        {
         "alignmentgroup": "True",
         "base": [
          "2022-01-01T00:17:28",
          "2022-01-01T00:09:37",
          "2022-01-01T00:10:48",
          "2022-01-01T00:18:54",
          "2022-01-01T00:00:01",
          "2022-01-01T00:07:02",
          "2022-01-01T00:05:28",
          "2022-01-01T00:15:49",
          "2022-01-01T00:02:25",
          "2022-01-01T00:12:17"
         ],
         "hovertemplate": "Job=job_01<br>Start=%{base}<br>Finish=%{x}<br>Machine=%{y}<extra></extra>",
         "legendgroup": "job_01",
         "marker": {
          "color": "#B6E880",
          "pattern": {
           "shape": ""
          }
         },
         "name": "job_01",
         "offsetgroup": "job_01",
         "orientation": "h",
         "showlegend": true,
         "textposition": "auto",
         "type": "bar",
         "x": [
          85000,
          66000,
          88000,
          91000,
          87000,
          98000,
          93000,
          98000,
          67000,
          76000
         ],
         "xaxis": "x",
         "y": [
          "machine_01",
          "machine_02",
          "machine_03",
          "machine_04",
          "machine_05",
          "machine_06",
          "machine_07",
          "machine_08",
          "machine_09",
          "machine_10"
         ],
         "yaxis": "y"
        },
        {
         "alignmentgroup": "True",
         "base": [
          "2022-01-01T00:18:54",
          "2022-01-01T00:20:26",
          "2022-01-01T00:15:07",
          "2022-01-01T00:02:00",
          "2022-01-01T00:09:33",
          "2022-01-01T00:00:01",
          "2022-01-01T00:03:06",
          "2022-01-01T00:22:07",
          "2022-01-01T00:17:30",
          "2022-01-01T00:23:41"
         ],
         "hovertemplate": "Job=job_02<br>Start=%{base}<br>Finish=%{x}<br>Machine=%{y}<extra></extra>",
         "legendgroup": "job_02",
         "marker": {
          "color": "#FF97FF",
          "pattern": {
           "shape": ""
          }
         },
         "name": "job_02",
         "offsetgroup": "job_02",
         "orientation": "h",
         "showlegend": true,
         "textposition": "auto",
         "type": "bar",
         "x": [
          91000,
          81000,
          93000,
          49000,
          74000,
          71000,
          68000,
          93000,
          65000,
          62000
         ],
         "xaxis": "x",
         "y": [
          "machine_01",
          "machine_02",
          "machine_03",
          "machine_04",
          "machine_05",
          "machine_06",
          "machine_07",
          "machine_08",
          "machine_09",
          "machine_10"
         ],
         "yaxis": "y"
        },
        {
         "alignmentgroup": "True",
         "base": [
          "2022-01-01T00:20:26",
          "2022-01-01T00:00:01",
          "2022-01-01T00:12:17",
          "2022-01-01T00:16:57",
          "2022-01-01T00:03:28",
          "2022-01-01T00:04:49",
          "2022-01-01T00:09:31",
          "2022-01-01T00:14:40",
          "2022-01-01T00:10:51",
          "2022-01-01T00:15:55"
         ],
         "hovertemplate": "Job=job_06<br>Start=%{base}<br>Finish=%{x}<br>Machine=%{y}<extra></extra>",
         "legendgroup": "job_06",
         "marker": {
          "color": "#FECB52",
          "pattern": {
           "shape": ""
          }
         },
         "name": "job_06",
         "offsetgroup": "job_06",
         "orientation": "h",
         "showlegend": true,
         "textposition": "auto",
         "type": "bar",
         "x": [
          87000,
          98000,
          79000,
          78000,
          80000,
          63000,
          65000,
          68000,
          79000,
          61000
         ],
         "xaxis": "x",
         "y": [
          "machine_01",
          "machine_02",
          "machine_03",
          "machine_04",
          "machine_05",
          "machine_06",
          "machine_07",
          "machine_08",
          "machine_09",
          "machine_10"
         ],
         "yaxis": "y"
        }
       ],
       "layout": {
        "barmode": "overlay",
        "legend": {
         "title": {
          "text": "Job"
         },
         "tracegroupgap": 0
        },
        "margin": {
         "t": 60
        },
        "template": {
         "data": {
          "bar": [
           {
            "error_x": {
             "color": "#2a3f5f"
            },
            "error_y": {
             "color": "#2a3f5f"
            },
            "marker": {
             "line": {
              "color": "#E5ECF6",
              "width": 0.5
             },
             "pattern": {
              "fillmode": "overlay",
              "size": 10,
              "solidity": 0.2
             }
            },
            "type": "bar"
           }
          ],
          "barpolar": [
           {
            "marker": {
             "line": {
              "color": "#E5ECF6",
              "width": 0.5
             },
             "pattern": {
              "fillmode": "overlay",
              "size": 10,
              "solidity": 0.2
             }
            },
            "type": "barpolar"
           }
          ],
          "carpet": [
           {
            "aaxis": {
             "endlinecolor": "#2a3f5f",
             "gridcolor": "white",
             "linecolor": "white",
             "minorgridcolor": "white",
             "startlinecolor": "#2a3f5f"
            },
            "baxis": {
             "endlinecolor": "#2a3f5f",
             "gridcolor": "white",
             "linecolor": "white",
             "minorgridcolor": "white",
             "startlinecolor": "#2a3f5f"
            },
            "type": "carpet"
           }
          ],
          "choropleth": [
           {
            "colorbar": {
             "outlinewidth": 0,
             "ticks": ""
            },
            "type": "choropleth"
           }
          ],
          "contour": [
           {
            "colorbar": {
             "outlinewidth": 0,
             "ticks": ""
            },
            "colorscale": [
             [
              0,
              "#0d0887"
             ],
             [
              0.1111111111111111,
              "#46039f"
             ],
             [
              0.2222222222222222,
              "#7201a8"
             ],
             [
              0.3333333333333333,
              "#9c179e"
             ],
             [
              0.4444444444444444,
              "#bd3786"
             ],
             [
              0.5555555555555556,
              "#d8576b"
             ],
             [
              0.6666666666666666,
              "#ed7953"
             ],
             [
              0.7777777777777778,
              "#fb9f3a"
             ],
             [
              0.8888888888888888,
              "#fdca26"
             ],
             [
              1,
              "#f0f921"
             ]
            ],
            "type": "contour"
           }
          ],
          "contourcarpet": [
           {
            "colorbar": {
             "outlinewidth": 0,
             "ticks": ""
            },
            "type": "contourcarpet"
           }
          ],
          "heatmap": [
           {
            "colorbar": {
             "outlinewidth": 0,
             "ticks": ""
            },
            "colorscale": [
             [
              0,
              "#0d0887"
             ],
             [
              0.1111111111111111,
              "#46039f"
             ],
             [
              0.2222222222222222,
              "#7201a8"
             ],
             [
              0.3333333333333333,
              "#9c179e"
             ],
             [
              0.4444444444444444,
              "#bd3786"
             ],
             [
              0.5555555555555556,
              "#d8576b"
             ],
             [
              0.6666666666666666,
              "#ed7953"
             ],
             [
              0.7777777777777778,
              "#fb9f3a"
             ],
             [
              0.8888888888888888,
              "#fdca26"
             ],
             [
              1,
              "#f0f921"
             ]
            ],
            "type": "heatmap"
           }
          ],
          "heatmapgl": [
           {
            "colorbar": {
             "outlinewidth": 0,
             "ticks": ""
            },
            "colorscale": [
             [
              0,
              "#0d0887"
             ],
             [
              0.1111111111111111,
              "#46039f"
             ],
             [
              0.2222222222222222,
              "#7201a8"
             ],
             [
              0.3333333333333333,
              "#9c179e"
             ],
             [
              0.4444444444444444,
              "#bd3786"
             ],
             [
              0.5555555555555556,
              "#d8576b"
             ],
             [
              0.6666666666666666,
              "#ed7953"
             ],
             [
              0.7777777777777778,
              "#fb9f3a"
             ],
             [
              0.8888888888888888,
              "#fdca26"
             ],
             [
              1,
              "#f0f921"
             ]
            ],
            "type": "heatmapgl"
           }
          ],
          "histogram": [
           {
            "marker": {
             "pattern": {
              "fillmode": "overlay",
              "size": 10,
              "solidity": 0.2
             }
            },
            "type": "histogram"
           }
          ],
          "histogram2d": [
           {
            "colorbar": {
             "outlinewidth": 0,
             "ticks": ""
            },
            "colorscale": [
             [
              0,
              "#0d0887"
             ],
             [
              0.1111111111111111,
              "#46039f"
             ],
             [
              0.2222222222222222,
              "#7201a8"
             ],
             [
              0.3333333333333333,
              "#9c179e"
             ],
             [
              0.4444444444444444,
              "#bd3786"
             ],
             [
              0.5555555555555556,
              "#d8576b"
             ],
             [
              0.6666666666666666,
              "#ed7953"
             ],
             [
              0.7777777777777778,
              "#fb9f3a"
             ],
             [
              0.8888888888888888,
              "#fdca26"
             ],
             [
              1,
              "#f0f921"
             ]
            ],
            "type": "histogram2d"
           }
          ],
          "histogram2dcontour": [
           {
            "colorbar": {
             "outlinewidth": 0,
             "ticks": ""
            },
            "colorscale": [
             [
              0,
              "#0d0887"
             ],
             [
              0.1111111111111111,
              "#46039f"
             ],
             [
              0.2222222222222222,
              "#7201a8"
             ],
             [
              0.3333333333333333,
              "#9c179e"
             ],
             [
              0.4444444444444444,
              "#bd3786"
             ],
             [
              0.5555555555555556,
              "#d8576b"
             ],
             [
              0.6666666666666666,
              "#ed7953"
             ],
             [
              0.7777777777777778,
              "#fb9f3a"
             ],
             [
              0.8888888888888888,
              "#fdca26"
             ],
             [
              1,
              "#f0f921"
             ]
            ],
            "type": "histogram2dcontour"
           }
          ],
          "mesh3d": [
           {
            "colorbar": {
             "outlinewidth": 0,
             "ticks": ""
            },
            "type": "mesh3d"
           }
          ],
          "parcoords": [
           {
            "line": {
             "colorbar": {
              "outlinewidth": 0,
              "ticks": ""
             }
            },
            "type": "parcoords"
           }
          ],
          "pie": [
           {
            "automargin": true,
            "type": "pie"
           }
          ],
          "scatter": [
           {
            "fillpattern": {
             "fillmode": "overlay",
             "size": 10,
             "solidity": 0.2
            },
            "type": "scatter"
           }
          ],
          "scatter3d": [
           {
            "line": {
             "colorbar": {
              "outlinewidth": 0,
              "ticks": ""
             }
            },
            "marker": {
             "colorbar": {
              "outlinewidth": 0,
              "ticks": ""
             }
            },
            "type": "scatter3d"
           }
          ],
          "scattercarpet": [
           {
            "marker": {
             "colorbar": {
              "outlinewidth": 0,
              "ticks": ""
             }
            },
            "type": "scattercarpet"
           }
          ],
          "scattergeo": [
           {
            "marker": {
             "colorbar": {
              "outlinewidth": 0,
              "ticks": ""
             }
            },
            "type": "scattergeo"
           }
          ],
          "scattergl": [
           {
            "marker": {
             "colorbar": {
              "outlinewidth": 0,
              "ticks": ""
             }
            },
            "type": "scattergl"
           }
          ],
          "scattermapbox": [
           {
            "marker": {
             "colorbar": {
              "outlinewidth": 0,
              "ticks": ""
             }
            },
            "type": "scattermapbox"
           }
          ],
          "scatterpolar": [
           {
            "marker": {
             "colorbar": {
              "outlinewidth": 0,
              "ticks": ""
             }
            },
            "type": "scatterpolar"
           }
          ],
          "scatterpolargl": [
           {
            "marker": {
             "colorbar": {
              "outlinewidth": 0,
              "ticks": ""
             }
            },
            "type": "scatterpolargl"
           }
          ],
          "scatterternary": [
           {
            "marker": {
             "colorbar": {
              "outlinewidth": 0,
              "ticks": ""
             }
            },
            "type": "scatterternary"
           }
          ],
          "surface": [
           {
            "colorbar": {
             "outlinewidth": 0,
             "ticks": ""
            },
            "colorscale": [
             [
              0,
              "#0d0887"
             ],
             [
              0.1111111111111111,
              "#46039f"
             ],
             [
              0.2222222222222222,
              "#7201a8"
             ],
             [
              0.3333333333333333,
              "#9c179e"
             ],
             [
              0.4444444444444444,
              "#bd3786"
             ],
             [
              0.5555555555555556,
              "#d8576b"
             ],
             [
              0.6666666666666666,
              "#ed7953"
             ],
             [
              0.7777777777777778,
              "#fb9f3a"
             ],
             [
              0.8888888888888888,
              "#fdca26"
             ],
             [
              1,
              "#f0f921"
             ]
            ],
            "type": "surface"
           }
          ],
          "table": [
           {
            "cells": {
             "fill": {
              "color": "#EBF0F8"
             },
             "line": {
              "color": "white"
             }
            },
            "header": {
             "fill": {
              "color": "#C8D4E3"
             },
             "line": {
              "color": "white"
             }
            },
            "type": "table"
           }
          ]
         },
         "layout": {
          "annotationdefaults": {
           "arrowcolor": "#2a3f5f",
           "arrowhead": 0,
           "arrowwidth": 1
          },
          "autotypenumbers": "strict",
          "coloraxis": {
           "colorbar": {
            "outlinewidth": 0,
            "ticks": ""
           }
          },
          "colorscale": {
           "diverging": [
            [
             0,
             "#8e0152"
            ],
            [
             0.1,
             "#c51b7d"
            ],
            [
             0.2,
             "#de77ae"
            ],
            [
             0.3,
             "#f1b6da"
            ],
            [
             0.4,
             "#fde0ef"
            ],
            [
             0.5,
             "#f7f7f7"
            ],
            [
             0.6,
             "#e6f5d0"
            ],
            [
             0.7,
             "#b8e186"
            ],
            [
             0.8,
             "#7fbc41"
            ],
            [
             0.9,
             "#4d9221"
            ],
            [
             1,
             "#276419"
            ]
           ],
           "sequential": [
            [
             0,
             "#0d0887"
            ],
            [
             0.1111111111111111,
             "#46039f"
            ],
            [
             0.2222222222222222,
             "#7201a8"
            ],
            [
             0.3333333333333333,
             "#9c179e"
            ],
            [
             0.4444444444444444,
             "#bd3786"
            ],
            [
             0.5555555555555556,
             "#d8576b"
            ],
            [
             0.6666666666666666,
             "#ed7953"
            ],
            [
             0.7777777777777778,
             "#fb9f3a"
            ],
            [
             0.8888888888888888,
             "#fdca26"
            ],
            [
             1,
             "#f0f921"
            ]
           ],
           "sequentialminus": [
            [
             0,
             "#0d0887"
            ],
            [
             0.1111111111111111,
             "#46039f"
            ],
            [
             0.2222222222222222,
             "#7201a8"
            ],
            [
             0.3333333333333333,
             "#9c179e"
            ],
            [
             0.4444444444444444,
             "#bd3786"
            ],
            [
             0.5555555555555556,
             "#d8576b"
            ],
            [
             0.6666666666666666,
             "#ed7953"
            ],
            [
             0.7777777777777778,
             "#fb9f3a"
            ],
            [
             0.8888888888888888,
             "#fdca26"
            ],
            [
             1,
             "#f0f921"
            ]
           ]
          },
          "colorway": [
           "#636efa",
           "#EF553B",
           "#00cc96",
           "#ab63fa",
           "#FFA15A",
           "#19d3f3",
           "#FF6692",
           "#B6E880",
           "#FF97FF",
           "#FECB52"
          ],
          "font": {
           "color": "#2a3f5f"
          },
          "geo": {
           "bgcolor": "white",
           "lakecolor": "white",
           "landcolor": "#E5ECF6",
           "showlakes": true,
           "showland": true,
           "subunitcolor": "white"
          },
          "hoverlabel": {
           "align": "left"
          },
          "hovermode": "closest",
          "mapbox": {
           "style": "light"
          },
          "paper_bgcolor": "white",
          "plot_bgcolor": "#E5ECF6",
          "polar": {
           "angularaxis": {
            "gridcolor": "white",
            "linecolor": "white",
            "ticks": ""
           },
           "bgcolor": "#E5ECF6",
           "radialaxis": {
            "gridcolor": "white",
            "linecolor": "white",
            "ticks": ""
           }
          },
          "scene": {
           "xaxis": {
            "backgroundcolor": "#E5ECF6",
            "gridcolor": "white",
            "gridwidth": 2,
            "linecolor": "white",
            "showbackground": true,
            "ticks": "",
            "zerolinecolor": "white"
           },
           "yaxis": {
            "backgroundcolor": "#E5ECF6",
            "gridcolor": "white",
            "gridwidth": 2,
            "linecolor": "white",
            "showbackground": true,
            "ticks": "",
            "zerolinecolor": "white"
           },
           "zaxis": {
            "backgroundcolor": "#E5ECF6",
            "gridcolor": "white",
            "gridwidth": 2,
            "linecolor": "white",
            "showbackground": true,
            "ticks": "",
            "zerolinecolor": "white"
           }
          },
          "shapedefaults": {
           "line": {
            "color": "#2a3f5f"
           }
          },
          "ternary": {
           "aaxis": {
            "gridcolor": "white",
            "linecolor": "white",
            "ticks": ""
           },
           "baxis": {
            "gridcolor": "white",
            "linecolor": "white",
            "ticks": ""
           },
           "bgcolor": "#E5ECF6",
           "caxis": {
            "gridcolor": "white",
            "linecolor": "white",
            "ticks": ""
           }
          },
          "title": {
           "x": 0.05
          },
          "xaxis": {
           "automargin": true,
           "gridcolor": "white",
           "linecolor": "white",
           "ticks": "",
           "title": {
            "standoff": 15
           },
           "zerolinecolor": "white",
           "zerolinewidth": 2
          },
          "yaxis": {
           "automargin": true,
           "gridcolor": "white",
           "linecolor": "white",
           "ticks": "",
           "title": {
            "standoff": 15
           },
           "zerolinecolor": "white",
           "zerolinewidth": 2
          }
         }
        },
        "xaxis": {
         "anchor": "y",
         "domain": [
          0,
          1
         ],
         "type": "date"
        },
        "yaxis": {
         "anchor": "x",
         "domain": [
          0,
          1
         ],
         "title": {
          "text": "Machine"
         }
        }
       }
      }
     },
     "metadata": {},
     "output_type": "display_data"
    },
    {
     "name": "stdout",
     "output_type": "stream",
     "text": [
      "finished! no legal actions possible after 137 steps\n"
     ]
    },
    {
     "data": {
      "application/vnd.plotly.v1+json": {
       "config": {
        "plotlyServerURL": "https://plot.ly"
       },
       "data": [
        {
         "alignmentgroup": "True",
         "base": [
          "2022-01-01T00:00:01",
          "2022-01-01T00:07:04",
          "2022-01-01T00:10:17",
          "2022-01-01T00:03:20",
          "2022-01-01T00:12:36",
          "2022-01-01T00:14:03",
          "2022-01-01T00:01:35",
          "2022-01-01T00:04:41",
          "2022-01-01T00:16:16",
          "2022-01-01T00:17:49"
         ],
         "hovertemplate": "Job=job_09<br>Start=%{base}<br>Finish=%{x}<br>Machine=%{y}<extra></extra>",
         "legendgroup": "job_09",
         "marker": {
          "color": "#636efa",
          "pattern": {
           "shape": ""
          }
         },
         "name": "job_09",
         "offsetgroup": "job_09",
         "orientation": "h",
         "showlegend": true,
         "textposition": "auto",
         "type": "bar",
         "x": [
          93000,
          65000,
          89000,
          80000,
          75000,
          57000,
          70000,
          84000,
          92000,
          96000
         ],
         "xaxis": "x",
         "y": [
          "machine_01",
          "machine_02",
          "machine_03",
          "machine_04",
          "machine_05",
          "machine_06",
          "machine_07",
          "machine_08",
          "machine_09",
          "machine_10"
         ],
         "yaxis": "y"
        },
        {
         "alignmentgroup": "True",
         "base": [
          "2022-01-01T00:02:00",
          "2022-01-01T00:03:20",
          "2022-01-01T00:17:36",
          "2022-01-01T00:01:10",
          "2022-01-01T00:13:52",
          "2022-01-01T00:16:35",
          "2022-01-01T00:11:59",
          "2022-01-01T00:07:04",
          "2022-01-01T00:05:57",
          "2022-01-01T00:08:00"
         ],
         "hovertemplate": "Job=job_10<br>Start=%{base}<br>Finish=%{x}<br>Machine=%{y}<extra></extra>",
         "legendgroup": "job_10",
         "marker": {
          "color": "#EF553B",
          "pattern": {
           "shape": ""
          }
         },
         "name": "job_10",
         "offsetgroup": "job_10",
         "orientation": "h",
         "showlegend": true,
         "textposition": "auto",
         "type": "bar",
         "x": [
          58000,
          81000,
          95000,
          49000,
          80000,
          58000,
          57000,
          55000,
          66000,
          95000
         ],
         "xaxis": "x",
         "y": [
          "machine_01",
          "machine_02",
          "machine_03",
          "machine_04",
          "machine_05",
          "machine_06",
          "machine_07",
          "machine_08",
          "machine_09",
          "machine_10"
         ],
         "yaxis": "y"
        },
        {
         "alignmentgroup": "True",
         "base": [
          "2022-01-01T00:02:59",
          "2022-01-01T00:05:57",
          "2022-01-01T00:15:21",
          "2022-01-01T00:16:16",
          "2022-01-01T00:11:11",
          "2022-01-01T00:08:28",
          "2022-01-01T00:07:24",
          "2022-01-01T00:09:53",
          "2022-01-01T00:01:29",
          "2022-01-01T00:00:01"
         ],
         "hovertemplate": "Job=job_03<br>Start=%{base}<br>Finish=%{x}<br>Machine=%{y}<extra></extra>",
         "legendgroup": "job_03",
         "marker": {
          "color": "#00cc96",
          "pattern": {
           "shape": ""
          }
         },
         "name": "job_03",
         "offsetgroup": "job_03",
         "orientation": "h",
         "showlegend": true,
         "textposition": "auto",
         "type": "bar",
         "x": [
          82000,
          64000,
          54000,
          76000,
          84000,
          84000,
          63000,
          77000,
          60000,
          82000
         ],
         "xaxis": "x",
         "y": [
          "machine_01",
          "machine_02",
          "machine_03",
          "machine_04",
          "machine_05",
          "machine_06",
          "machine_07",
          "machine_08",
          "machine_09",
          "machine_10"
         ],
         "yaxis": "y"
        },
        {
         "alignmentgroup": "True",
         "base": [
          "2022-01-01T00:05:57",
          "2022-01-01T00:14:06",
          "2022-01-01T00:07:36",
          "2022-01-01T00:00:01",
          "2022-01-01T00:01:29",
          "2022-01-01T00:10:43",
          "2022-01-01T00:09:08",
          "2022-01-01T00:11:51",
          "2022-01-01T00:04:22",
          "2022-01-01T00:02:57"
         ],
         "hovertemplate": "Job=job_05<br>Start=%{base}<br>Finish=%{x}<br>Machine=%{y}<extra></extra>",
         "legendgroup": "job_05",
         "marker": {
          "color": "#ab63fa",
          "pattern": {
           "shape": ""
          }
         },
         "name": "job_05",
         "offsetgroup": "job_05",
         "orientation": "h",
         "showlegend": true,
         "textposition": "auto",
         "type": "bar",
         "x": [
          98000,
          85000,
          66000,
          68000,
          87000,
          67000,
          94000,
          66000,
          94000,
          81000
         ],
         "xaxis": "x",
         "y": [
          "machine_01",
          "machine_02",
          "machine_03",
          "machine_04",
          "machine_05",
          "machine_06",
          "machine_07",
          "machine_08",
          "machine_09",
          "machine_10"
         ],
         "yaxis": "y"
        },
        {
         "alignmentgroup": "True",
         "base": [
          "2022-01-01T00:07:50",
          "2022-01-01T00:01:40",
          "2022-01-01T00:12:42",
          "2022-01-01T00:06:14",
          "2022-01-01T00:04:37",
          "2022-01-01T00:17:34",
          "2022-01-01T00:19:13",
          "2022-01-01T00:00:01",
          "2022-01-01T00:09:50",
          "2022-01-01T00:22:22"
         ],
         "hovertemplate": "Job=job_07<br>Start=%{base}<br>Finish=%{x}<br>Machine=%{y}<extra></extra>",
         "legendgroup": "job_07",
         "marker": {
          "color": "#FFA15A",
          "pattern": {
           "shape": ""
          }
         },
         "name": "job_07",
         "offsetgroup": "job_07",
         "orientation": "h",
         "showlegend": true,
         "textposition": "auto",
         "type": "bar",
         "x": [
          94000,
          85000,
          65000,
          95000,
          96000,
          98000,
          51000,
          49000,
          96000,
          70000
         ],
         "xaxis": "x",
         "y": [
          "machine_01",
          "machine_02",
          "machine_03",
          "machine_04",
          "machine_05",
          "machine_06",
          "machine_07",
          "machine_08",
          "machine_09",
          "machine_10"
         ],
         "yaxis": "y"
        },
        {
         "alignmentgroup": "True",
         "base": [
          "2022-01-01T00:12:33",
          "2022-01-01T00:15:32",
          "2022-01-01T00:08:43",
          "2022-01-01T00:02:30",
          "2022-01-01T00:06:14",
          "2022-01-01T00:00:01",
          "2022-01-01T00:03:20",
          "2022-01-01T00:18:00",
          "2022-01-01T00:11:27",
          "2022-01-01T00:19:34"
         ],
         "hovertemplate": "Job=job_02<br>Start=%{base}<br>Finish=%{x}<br>Machine=%{y}<extra></extra>",
         "legendgroup": "job_02",
         "marker": {
          "color": "#19d3f3",
          "pattern": {
           "shape": ""
          }
         },
         "name": "job_02",
         "offsetgroup": "job_02",
         "orientation": "h",
         "showlegend": true,
         "textposition": "auto",
         "type": "bar",
         "x": [
          91000,
          81000,
          93000,
          49000,
          74000,
          71000,
          68000,
          93000,
          65000,
          62000
         ],
         "xaxis": "x",
         "y": [
          "machine_01",
          "machine_02",
          "machine_03",
          "machine_04",
          "machine_05",
          "machine_06",
          "machine_07",
          "machine_08",
          "machine_09",
          "machine_10"
         ],
         "yaxis": "y"
        },
        {
         "alignmentgroup": "True",
         "base": [
          "2022-01-01T00:14:05",
          "2022-01-01T00:04:42",
          "2022-01-01T00:02:25",
          "2022-01-01T00:09:50",
          "2022-01-01T00:07:29",
          "2022-01-01T00:12:55",
          "2022-01-01T00:10:44",
          "2022-01-01T00:00:51",
          "2022-01-01T00:17:49",
          "2022-01-01T00:15:21"
         ],
         "hovertemplate": "Job=job_04<br>Start=%{base}<br>Finish=%{x}<br>Machine=%{y}<extra></extra>",
         "legendgroup": "job_04",
         "marker": {
          "color": "#FF6692",
          "pattern": {
           "shape": ""
          }
         },
         "name": "job_04",
         "offsetgroup": "job_04",
         "orientation": "h",
         "showlegend": true,
         "textposition": "auto",
         "type": "bar",
         "x": [
          75000,
          60000,
          67000,
          53000,
          98000,
          65000,
          74000,
          93000,
          66000,
          62000
         ],
         "xaxis": "x",
         "y": [
          "machine_01",
          "machine_02",
          "machine_03",
          "machine_04",
          "machine_05",
          "machine_06",
          "machine_07",
          "machine_08",
          "machine_09",
          "machine_10"
         ],
         "yaxis": "y"
        },
        {
         "alignmentgroup": "True",
         "base": [
          "2022-01-01T00:18:00",
          "2022-01-01T00:12:55",
          "2022-01-01T00:11:51",
          "2022-01-01T00:08:28",
          "2022-01-01T00:02:59",
          "2022-01-01T00:15:01",
          "2022-01-01T00:06:11",
          "2022-01-01T00:16:35",
          "2022-01-01T00:19:02",
          "2022-01-01T00:20:37"
         ],
         "hovertemplate": "Job=job_08<br>Start=%{base}<br>Finish=%{x}<br>Machine=%{y}<extra></extra>",
         "legendgroup": "job_08",
         "marker": {
          "color": "#B6E880",
          "pattern": {
           "shape": ""
          }
         },
         "name": "job_08",
         "offsetgroup": "job_08",
         "orientation": "h",
         "showlegend": true,
         "textposition": "auto",
         "type": "bar",
         "x": [
          61000,
          70000,
          50000,
          81000,
          97000,
          93000,
          72000,
          84000,
          94000,
          78000
         ],
         "xaxis": "x",
         "y": [
          "machine_01",
          "machine_02",
          "machine_03",
          "machine_04",
          "machine_05",
          "machine_06",
          "machine_07",
          "machine_08",
          "machine_09",
          "machine_10"
         ],
         "yaxis": "y"
        },
        {
         "alignmentgroup": "True",
         "base": [
          "2022-01-01T00:21:13",
          "2022-01-01T00:08:10",
          "2022-01-01T00:13:48",
          "2022-01-01T00:22:39",
          "2022-01-01T00:00:01",
          "2022-01-01T00:06:11",
          "2022-01-01T00:04:37",
          "2022-01-01T00:19:34",
          "2022-01-01T00:02:30",
          "2022-01-01T00:16:24"
         ],
         "hovertemplate": "Job=job_01<br>Start=%{base}<br>Finish=%{x}<br>Machine=%{y}<extra></extra>",
         "legendgroup": "job_01",
         "marker": {
          "color": "#FF97FF",
          "pattern": {
           "shape": ""
          }
         },
         "name": "job_01",
         "offsetgroup": "job_01",
         "orientation": "h",
         "showlegend": true,
         "textposition": "auto",
         "type": "bar",
         "x": [
          85000,
          66000,
          88000,
          91000,
          87000,
          98000,
          93000,
          98000,
          67000,
          76000
         ],
         "xaxis": "x",
         "y": [
          "machine_01",
          "machine_02",
          "machine_03",
          "machine_04",
          "machine_05",
          "machine_06",
          "machine_07",
          "machine_08",
          "machine_09",
          "machine_10"
         ],
         "yaxis": "y"
        },
        {
         "alignmentgroup": "True",
         "base": [
          "2022-01-01T00:25:54",
          "2022-01-01T00:00:01",
          "2022-01-01T00:16:16",
          "2022-01-01T00:24:35",
          "2022-01-01T00:09:08",
          "2022-01-01T00:11:51",
          "2022-01-01T00:12:57",
          "2022-01-01T00:21:13",
          "2022-01-01T00:14:05",
          "2022-01-01T00:23:33"
         ],
         "hovertemplate": "Job=job_06<br>Start=%{base}<br>Finish=%{x}<br>Machine=%{y}<extra></extra>",
         "legendgroup": "job_06",
         "marker": {
          "color": "#FECB52",
          "pattern": {
           "shape": ""
          }
         },
         "name": "job_06",
         "offsetgroup": "job_06",
         "orientation": "h",
         "showlegend": true,
         "textposition": "auto",
         "type": "bar",
         "x": [
          87000,
          98000,
          79000,
          78000,
          80000,
          63000,
          65000,
          68000,
          79000,
          61000
         ],
         "xaxis": "x",
         "y": [
          "machine_01",
          "machine_02",
          "machine_03",
          "machine_04",
          "machine_05",
          "machine_06",
          "machine_07",
          "machine_08",
          "machine_09",
          "machine_10"
         ],
         "yaxis": "y"
        }
       ],
       "layout": {
        "barmode": "overlay",
        "legend": {
         "title": {
          "text": "Job"
         },
         "tracegroupgap": 0
        },
        "margin": {
         "t": 60
        },
        "template": {
         "data": {
          "bar": [
           {
            "error_x": {
             "color": "#2a3f5f"
            },
            "error_y": {
             "color": "#2a3f5f"
            },
            "marker": {
             "line": {
              "color": "#E5ECF6",
              "width": 0.5
             },
             "pattern": {
              "fillmode": "overlay",
              "size": 10,
              "solidity": 0.2
             }
            },
            "type": "bar"
           }
          ],
          "barpolar": [
           {
            "marker": {
             "line": {
              "color": "#E5ECF6",
              "width": 0.5
             },
             "pattern": {
              "fillmode": "overlay",
              "size": 10,
              "solidity": 0.2
             }
            },
            "type": "barpolar"
           }
          ],
          "carpet": [
           {
            "aaxis": {
             "endlinecolor": "#2a3f5f",
             "gridcolor": "white",
             "linecolor": "white",
             "minorgridcolor": "white",
             "startlinecolor": "#2a3f5f"
            },
            "baxis": {
             "endlinecolor": "#2a3f5f",
             "gridcolor": "white",
             "linecolor": "white",
             "minorgridcolor": "white",
             "startlinecolor": "#2a3f5f"
            },
            "type": "carpet"
           }
          ],
          "choropleth": [
           {
            "colorbar": {
             "outlinewidth": 0,
             "ticks": ""
            },
            "type": "choropleth"
           }
          ],
          "contour": [
           {
            "colorbar": {
             "outlinewidth": 0,
             "ticks": ""
            },
            "colorscale": [
             [
              0,
              "#0d0887"
             ],
             [
              0.1111111111111111,
              "#46039f"
             ],
             [
              0.2222222222222222,
              "#7201a8"
             ],
             [
              0.3333333333333333,
              "#9c179e"
             ],
             [
              0.4444444444444444,
              "#bd3786"
             ],
             [
              0.5555555555555556,
              "#d8576b"
             ],
             [
              0.6666666666666666,
              "#ed7953"
             ],
             [
              0.7777777777777778,
              "#fb9f3a"
             ],
             [
              0.8888888888888888,
              "#fdca26"
             ],
             [
              1,
              "#f0f921"
             ]
            ],
            "type": "contour"
           }
          ],
          "contourcarpet": [
           {
            "colorbar": {
             "outlinewidth": 0,
             "ticks": ""
            },
            "type": "contourcarpet"
           }
          ],
          "heatmap": [
           {
            "colorbar": {
             "outlinewidth": 0,
             "ticks": ""
            },
            "colorscale": [
             [
              0,
              "#0d0887"
             ],
             [
              0.1111111111111111,
              "#46039f"
             ],
             [
              0.2222222222222222,
              "#7201a8"
             ],
             [
              0.3333333333333333,
              "#9c179e"
             ],
             [
              0.4444444444444444,
              "#bd3786"
             ],
             [
              0.5555555555555556,
              "#d8576b"
             ],
             [
              0.6666666666666666,
              "#ed7953"
             ],
             [
              0.7777777777777778,
              "#fb9f3a"
             ],
             [
              0.8888888888888888,
              "#fdca26"
             ],
             [
              1,
              "#f0f921"
             ]
            ],
            "type": "heatmap"
           }
          ],
          "heatmapgl": [
           {
            "colorbar": {
             "outlinewidth": 0,
             "ticks": ""
            },
            "colorscale": [
             [
              0,
              "#0d0887"
             ],
             [
              0.1111111111111111,
              "#46039f"
             ],
             [
              0.2222222222222222,
              "#7201a8"
             ],
             [
              0.3333333333333333,
              "#9c179e"
             ],
             [
              0.4444444444444444,
              "#bd3786"
             ],
             [
              0.5555555555555556,
              "#d8576b"
             ],
             [
              0.6666666666666666,
              "#ed7953"
             ],
             [
              0.7777777777777778,
              "#fb9f3a"
             ],
             [
              0.8888888888888888,
              "#fdca26"
             ],
             [
              1,
              "#f0f921"
             ]
            ],
            "type": "heatmapgl"
           }
          ],
          "histogram": [
           {
            "marker": {
             "pattern": {
              "fillmode": "overlay",
              "size": 10,
              "solidity": 0.2
             }
            },
            "type": "histogram"
           }
          ],
          "histogram2d": [
           {
            "colorbar": {
             "outlinewidth": 0,
             "ticks": ""
            },
            "colorscale": [
             [
              0,
              "#0d0887"
             ],
             [
              0.1111111111111111,
              "#46039f"
             ],
             [
              0.2222222222222222,
              "#7201a8"
             ],
             [
              0.3333333333333333,
              "#9c179e"
             ],
             [
              0.4444444444444444,
              "#bd3786"
             ],
             [
              0.5555555555555556,
              "#d8576b"
             ],
             [
              0.6666666666666666,
              "#ed7953"
             ],
             [
              0.7777777777777778,
              "#fb9f3a"
             ],
             [
              0.8888888888888888,
              "#fdca26"
             ],
             [
              1,
              "#f0f921"
             ]
            ],
            "type": "histogram2d"
           }
          ],
          "histogram2dcontour": [
           {
            "colorbar": {
             "outlinewidth": 0,
             "ticks": ""
            },
            "colorscale": [
             [
              0,
              "#0d0887"
             ],
             [
              0.1111111111111111,
              "#46039f"
             ],
             [
              0.2222222222222222,
              "#7201a8"
             ],
             [
              0.3333333333333333,
              "#9c179e"
             ],
             [
              0.4444444444444444,
              "#bd3786"
             ],
             [
              0.5555555555555556,
              "#d8576b"
             ],
             [
              0.6666666666666666,
              "#ed7953"
             ],
             [
              0.7777777777777778,
              "#fb9f3a"
             ],
             [
              0.8888888888888888,
              "#fdca26"
             ],
             [
              1,
              "#f0f921"
             ]
            ],
            "type": "histogram2dcontour"
           }
          ],
          "mesh3d": [
           {
            "colorbar": {
             "outlinewidth": 0,
             "ticks": ""
            },
            "type": "mesh3d"
           }
          ],
          "parcoords": [
           {
            "line": {
             "colorbar": {
              "outlinewidth": 0,
              "ticks": ""
             }
            },
            "type": "parcoords"
           }
          ],
          "pie": [
           {
            "automargin": true,
            "type": "pie"
           }
          ],
          "scatter": [
           {
            "fillpattern": {
             "fillmode": "overlay",
             "size": 10,
             "solidity": 0.2
            },
            "type": "scatter"
           }
          ],
          "scatter3d": [
           {
            "line": {
             "colorbar": {
              "outlinewidth": 0,
              "ticks": ""
             }
            },
            "marker": {
             "colorbar": {
              "outlinewidth": 0,
              "ticks": ""
             }
            },
            "type": "scatter3d"
           }
          ],
          "scattercarpet": [
           {
            "marker": {
             "colorbar": {
              "outlinewidth": 0,
              "ticks": ""
             }
            },
            "type": "scattercarpet"
           }
          ],
          "scattergeo": [
           {
            "marker": {
             "colorbar": {
              "outlinewidth": 0,
              "ticks": ""
             }
            },
            "type": "scattergeo"
           }
          ],
          "scattergl": [
           {
            "marker": {
             "colorbar": {
              "outlinewidth": 0,
              "ticks": ""
             }
            },
            "type": "scattergl"
           }
          ],
          "scattermapbox": [
           {
            "marker": {
             "colorbar": {
              "outlinewidth": 0,
              "ticks": ""
             }
            },
            "type": "scattermapbox"
           }
          ],
          "scatterpolar": [
           {
            "marker": {
             "colorbar": {
              "outlinewidth": 0,
              "ticks": ""
             }
            },
            "type": "scatterpolar"
           }
          ],
          "scatterpolargl": [
           {
            "marker": {
             "colorbar": {
              "outlinewidth": 0,
              "ticks": ""
             }
            },
            "type": "scatterpolargl"
           }
          ],
          "scatterternary": [
           {
            "marker": {
             "colorbar": {
              "outlinewidth": 0,
              "ticks": ""
             }
            },
            "type": "scatterternary"
           }
          ],
          "surface": [
           {
            "colorbar": {
             "outlinewidth": 0,
             "ticks": ""
            },
            "colorscale": [
             [
              0,
              "#0d0887"
             ],
             [
              0.1111111111111111,
              "#46039f"
             ],
             [
              0.2222222222222222,
              "#7201a8"
             ],
             [
              0.3333333333333333,
              "#9c179e"
             ],
             [
              0.4444444444444444,
              "#bd3786"
             ],
             [
              0.5555555555555556,
              "#d8576b"
             ],
             [
              0.6666666666666666,
              "#ed7953"
             ],
             [
              0.7777777777777778,
              "#fb9f3a"
             ],
             [
              0.8888888888888888,
              "#fdca26"
             ],
             [
              1,
              "#f0f921"
             ]
            ],
            "type": "surface"
           }
          ],
          "table": [
           {
            "cells": {
             "fill": {
              "color": "#EBF0F8"
             },
             "line": {
              "color": "white"
             }
            },
            "header": {
             "fill": {
              "color": "#C8D4E3"
             },
             "line": {
              "color": "white"
             }
            },
            "type": "table"
           }
          ]
         },
         "layout": {
          "annotationdefaults": {
           "arrowcolor": "#2a3f5f",
           "arrowhead": 0,
           "arrowwidth": 1
          },
          "autotypenumbers": "strict",
          "coloraxis": {
           "colorbar": {
            "outlinewidth": 0,
            "ticks": ""
           }
          },
          "colorscale": {
           "diverging": [
            [
             0,
             "#8e0152"
            ],
            [
             0.1,
             "#c51b7d"
            ],
            [
             0.2,
             "#de77ae"
            ],
            [
             0.3,
             "#f1b6da"
            ],
            [
             0.4,
             "#fde0ef"
            ],
            [
             0.5,
             "#f7f7f7"
            ],
            [
             0.6,
             "#e6f5d0"
            ],
            [
             0.7,
             "#b8e186"
            ],
            [
             0.8,
             "#7fbc41"
            ],
            [
             0.9,
             "#4d9221"
            ],
            [
             1,
             "#276419"
            ]
           ],
           "sequential": [
            [
             0,
             "#0d0887"
            ],
            [
             0.1111111111111111,
             "#46039f"
            ],
            [
             0.2222222222222222,
             "#7201a8"
            ],
            [
             0.3333333333333333,
             "#9c179e"
            ],
            [
             0.4444444444444444,
             "#bd3786"
            ],
            [
             0.5555555555555556,
             "#d8576b"
            ],
            [
             0.6666666666666666,
             "#ed7953"
            ],
            [
             0.7777777777777778,
             "#fb9f3a"
            ],
            [
             0.8888888888888888,
             "#fdca26"
            ],
            [
             1,
             "#f0f921"
            ]
           ],
           "sequentialminus": [
            [
             0,
             "#0d0887"
            ],
            [
             0.1111111111111111,
             "#46039f"
            ],
            [
             0.2222222222222222,
             "#7201a8"
            ],
            [
             0.3333333333333333,
             "#9c179e"
            ],
            [
             0.4444444444444444,
             "#bd3786"
            ],
            [
             0.5555555555555556,
             "#d8576b"
            ],
            [
             0.6666666666666666,
             "#ed7953"
            ],
            [
             0.7777777777777778,
             "#fb9f3a"
            ],
            [
             0.8888888888888888,
             "#fdca26"
            ],
            [
             1,
             "#f0f921"
            ]
           ]
          },
          "colorway": [
           "#636efa",
           "#EF553B",
           "#00cc96",
           "#ab63fa",
           "#FFA15A",
           "#19d3f3",
           "#FF6692",
           "#B6E880",
           "#FF97FF",
           "#FECB52"
          ],
          "font": {
           "color": "#2a3f5f"
          },
          "geo": {
           "bgcolor": "white",
           "lakecolor": "white",
           "landcolor": "#E5ECF6",
           "showlakes": true,
           "showland": true,
           "subunitcolor": "white"
          },
          "hoverlabel": {
           "align": "left"
          },
          "hovermode": "closest",
          "mapbox": {
           "style": "light"
          },
          "paper_bgcolor": "white",
          "plot_bgcolor": "#E5ECF6",
          "polar": {
           "angularaxis": {
            "gridcolor": "white",
            "linecolor": "white",
            "ticks": ""
           },
           "bgcolor": "#E5ECF6",
           "radialaxis": {
            "gridcolor": "white",
            "linecolor": "white",
            "ticks": ""
           }
          },
          "scene": {
           "xaxis": {
            "backgroundcolor": "#E5ECF6",
            "gridcolor": "white",
            "gridwidth": 2,
            "linecolor": "white",
            "showbackground": true,
            "ticks": "",
            "zerolinecolor": "white"
           },
           "yaxis": {
            "backgroundcolor": "#E5ECF6",
            "gridcolor": "white",
            "gridwidth": 2,
            "linecolor": "white",
            "showbackground": true,
            "ticks": "",
            "zerolinecolor": "white"
           },
           "zaxis": {
            "backgroundcolor": "#E5ECF6",
            "gridcolor": "white",
            "gridwidth": 2,
            "linecolor": "white",
            "showbackground": true,
            "ticks": "",
            "zerolinecolor": "white"
           }
          },
          "shapedefaults": {
           "line": {
            "color": "#2a3f5f"
           }
          },
          "ternary": {
           "aaxis": {
            "gridcolor": "white",
            "linecolor": "white",
            "ticks": ""
           },
           "baxis": {
            "gridcolor": "white",
            "linecolor": "white",
            "ticks": ""
           },
           "bgcolor": "#E5ECF6",
           "caxis": {
            "gridcolor": "white",
            "linecolor": "white",
            "ticks": ""
           }
          },
          "title": {
           "x": 0.05
          },
          "xaxis": {
           "automargin": true,
           "gridcolor": "white",
           "linecolor": "white",
           "ticks": "",
           "title": {
            "standoff": 15
           },
           "zerolinecolor": "white",
           "zerolinewidth": 2
          },
          "yaxis": {
           "automargin": true,
           "gridcolor": "white",
           "linecolor": "white",
           "ticks": "",
           "title": {
            "standoff": 15
           },
           "zerolinecolor": "white",
           "zerolinewidth": 2
          }
         }
        },
        "xaxis": {
         "anchor": "y",
         "domain": [
          0,
          1
         ],
         "type": "date"
        },
        "yaxis": {
         "anchor": "x",
         "domain": [
          0,
          1
         ],
         "title": {
          "text": "Machine"
         }
        }
       }
      }
     },
     "metadata": {},
     "output_type": "display_data"
    },
    {
     "name": "stdout",
     "output_type": "stream",
     "text": [
      "finished! no legal actions possible after 143 steps\n"
     ]
    },
    {
     "data": {
      "application/vnd.plotly.v1+json": {
       "config": {
        "plotlyServerURL": "https://plot.ly"
       },
       "data": [
        {
         "alignmentgroup": "True",
         "base": [
          "2022-01-01T00:00:01",
          "2022-01-01T00:06:41",
          "2022-01-01T00:07:47",
          "2022-01-01T00:03:36",
          "2022-01-01T00:10:27",
          "2022-01-01T00:13:21",
          "2022-01-01T00:01:35",
          "2022-01-01T00:04:57",
          "2022-01-01T00:14:19",
          "2022-01-01T00:15:52"
         ],
         "hovertemplate": "Job=job_09<br>Start=%{base}<br>Finish=%{x}<br>Machine=%{y}<extra></extra>",
         "legendgroup": "job_09",
         "marker": {
          "color": "#636efa",
          "pattern": {
           "shape": ""
          }
         },
         "name": "job_09",
         "offsetgroup": "job_09",
         "orientation": "h",
         "showlegend": true,
         "textposition": "auto",
         "type": "bar",
         "x": [
          93000,
          65000,
          89000,
          80000,
          75000,
          57000,
          70000,
          84000,
          92000,
          96000
         ],
         "xaxis": "x",
         "y": [
          "machine_01",
          "machine_02",
          "machine_03",
          "machine_04",
          "machine_05",
          "machine_06",
          "machine_07",
          "machine_08",
          "machine_09",
          "machine_10"
         ],
         "yaxis": "y"
        },
        {
         "alignmentgroup": "True",
         "base": [
          "2022-01-01T00:02:25",
          "2022-01-01T00:05:36",
          "2022-01-01T00:16:04",
          "2022-01-01T00:16:59",
          "2022-01-01T00:11:43",
          "2022-01-01T00:08:33",
          "2022-01-01T00:07:29",
          "2022-01-01T00:09:58",
          "2022-01-01T00:01:24",
          "2022-01-01T00:00:01"
         ],
         "hovertemplate": "Job=job_03<br>Start=%{base}<br>Finish=%{x}<br>Machine=%{y}<extra></extra>",
         "legendgroup": "job_03",
         "marker": {
          "color": "#EF553B",
          "pattern": {
           "shape": ""
          }
         },
         "name": "job_03",
         "offsetgroup": "job_03",
         "orientation": "h",
         "showlegend": true,
         "textposition": "auto",
         "type": "bar",
         "x": [
          82000,
          64000,
          54000,
          76000,
          84000,
          84000,
          63000,
          77000,
          60000,
          82000
         ],
         "xaxis": "x",
         "y": [
          "machine_01",
          "machine_02",
          "machine_03",
          "machine_04",
          "machine_05",
          "machine_06",
          "machine_07",
          "machine_08",
          "machine_09",
          "machine_10"
         ],
         "yaxis": "y"
        },
        {
         "alignmentgroup": "True",
         "base": [
          "2022-01-01T00:03:48",
          "2022-01-01T00:07:47",
          "2022-01-01T00:17:45",
          "2022-01-01T00:01:13",
          "2022-01-01T00:15:25",
          "2022-01-01T00:16:46",
          "2022-01-01T00:14:27",
          "2022-01-01T00:11:16",
          "2022-01-01T00:09:09",
          "2022-01-01T00:12:12"
         ],
         "hovertemplate": "Job=job_10<br>Start=%{base}<br>Finish=%{x}<br>Machine=%{y}<extra></extra>",
         "legendgroup": "job_10",
         "marker": {
          "color": "#00cc96",
          "pattern": {
           "shape": ""
          }
         },
         "name": "job_10",
         "offsetgroup": "job_10",
         "orientation": "h",
         "showlegend": true,
         "textposition": "auto",
         "type": "bar",
         "x": [
          58000,
          81000,
          95000,
          49000,
          80000,
          58000,
          57000,
          55000,
          66000,
          95000
         ],
         "xaxis": "x",
         "y": [
          "machine_01",
          "machine_02",
          "machine_03",
          "machine_04",
          "machine_05",
          "machine_06",
          "machine_07",
          "machine_08",
          "machine_09",
          "machine_10"
         ],
         "yaxis": "y"
        },
        {
         "alignmentgroup": "True",
         "base": [
          "2022-01-01T00:08:33",
          "2022-01-01T00:17:51",
          "2022-01-01T00:10:12",
          "2022-01-01T00:00:01",
          "2022-01-01T00:03:07",
          "2022-01-01T00:15:25",
          "2022-01-01T00:11:19",
          "2022-01-01T00:16:44",
          "2022-01-01T00:05:57",
          "2022-01-01T00:04:35"
         ],
         "hovertemplate": "Job=job_05<br>Start=%{base}<br>Finish=%{x}<br>Machine=%{y}<extra></extra>",
         "legendgroup": "job_05",
         "marker": {
          "color": "#ab63fa",
          "pattern": {
           "shape": ""
          }
         },
         "name": "job_05",
         "offsetgroup": "job_05",
         "orientation": "h",
         "showlegend": true,
         "textposition": "auto",
         "type": "bar",
         "x": [
          98000,
          85000,
          66000,
          68000,
          87000,
          67000,
          94000,
          66000,
          94000,
          81000
         ],
         "xaxis": "x",
         "y": [
          "machine_01",
          "machine_02",
          "machine_03",
          "machine_04",
          "machine_05",
          "machine_06",
          "machine_07",
          "machine_08",
          "machine_09",
          "machine_10"
         ],
         "yaxis": "y"
        },
        {
         "alignmentgroup": "True",
         "base": [
          "2022-01-01T00:10:12",
          "2022-01-01T00:02:25",
          "2022-01-01T00:13:24",
          "2022-01-01T00:06:58",
          "2022-01-01T00:04:35",
          "2022-01-01T00:17:45",
          "2022-01-01T00:19:24",
          "2022-01-01T00:01:35",
          "2022-01-01T00:11:47",
          "2022-01-01T00:20:16"
         ],
         "hovertemplate": "Job=job_07<br>Start=%{base}<br>Finish=%{x}<br>Machine=%{y}<extra></extra>",
         "legendgroup": "job_07",
         "marker": {
          "color": "#FFA15A",
          "pattern": {
           "shape": ""
          }
         },
         "name": "job_07",
         "offsetgroup": "job_07",
         "orientation": "h",
         "showlegend": true,
         "textposition": "auto",
         "type": "bar",
         "x": [
          94000,
          85000,
          65000,
          95000,
          96000,
          98000,
          51000,
          49000,
          96000,
          70000
         ],
         "xaxis": "x",
         "y": [
          "machine_01",
          "machine_02",
          "machine_03",
          "machine_04",
          "machine_05",
          "machine_06",
          "machine_07",
          "machine_08",
          "machine_09",
          "machine_10"
         ],
         "yaxis": "y"
        },
        {
         "alignmentgroup": "True",
         "base": [
          "2022-01-01T00:15:05",
          "2022-01-01T00:10:16",
          "2022-01-01T00:09:17",
          "2022-01-01T00:05:36",
          "2022-01-01T00:01:29",
          "2022-01-01T00:11:47",
          "2022-01-01T00:03:33",
          "2022-01-01T00:13:21",
          "2022-01-01T00:19:59",
          "2022-01-01T00:21:34"
         ],
         "hovertemplate": "Job=job_08<br>Start=%{base}<br>Finish=%{x}<br>Machine=%{y}<extra></extra>",
         "legendgroup": "job_08",
         "marker": {
          "color": "#19d3f3",
          "pattern": {
           "shape": ""
          }
         },
         "name": "job_08",
         "offsetgroup": "job_08",
         "orientation": "h",
         "showlegend": true,
         "textposition": "auto",
         "type": "bar",
         "x": [
          61000,
          70000,
          50000,
          81000,
          97000,
          93000,
          72000,
          84000,
          94000,
          78000
         ],
         "xaxis": "x",
         "y": [
          "machine_01",
          "machine_02",
          "machine_03",
          "machine_04",
          "machine_05",
          "machine_06",
          "machine_07",
          "machine_08",
          "machine_09",
          "machine_10"
         ],
         "yaxis": "y"
        },
        {
         "alignmentgroup": "True",
         "base": [
          "2022-01-01T00:16:33",
          "2022-01-01T00:04:35",
          "2022-01-01T00:01:35",
          "2022-01-01T00:08:34",
          "2022-01-01T00:06:12",
          "2022-01-01T00:14:19",
          "2022-01-01T00:09:28",
          "2022-01-01T00:00:01",
          "2022-01-01T00:18:52",
          "2022-01-01T00:17:49"
         ],
         "hovertemplate": "Job=job_04<br>Start=%{base}<br>Finish=%{x}<br>Machine=%{y}<extra></extra>",
         "legendgroup": "job_04",
         "marker": {
          "color": "#FF6692",
          "pattern": {
           "shape": ""
          }
         },
         "name": "job_04",
         "offsetgroup": "job_04",
         "orientation": "h",
         "showlegend": true,
         "textposition": "auto",
         "type": "bar",
         "x": [
          75000,
          60000,
          67000,
          53000,
          98000,
          65000,
          74000,
          93000,
          66000,
          62000
         ],
         "xaxis": "x",
         "y": [
          "machine_01",
          "machine_02",
          "machine_03",
          "machine_04",
          "machine_05",
          "machine_06",
          "machine_07",
          "machine_08",
          "machine_09",
          "machine_10"
         ],
         "yaxis": "y"
        },
        {
         "alignmentgroup": "True",
         "base": [
          "2022-01-01T00:17:51",
          "2022-01-01T00:09:09",
          "2022-01-01T00:11:19",
          "2022-01-01T00:19:17",
          "2022-01-01T00:00:01",
          "2022-01-01T00:06:20",
          "2022-01-01T00:04:46",
          "2022-01-01T00:15:05",
          "2022-01-01T00:02:25",
          "2022-01-01T00:13:48"
         ],
         "hovertemplate": "Job=job_01<br>Start=%{base}<br>Finish=%{x}<br>Machine=%{y}<extra></extra>",
         "legendgroup": "job_01",
         "marker": {
          "color": "#B6E880",
          "pattern": {
           "shape": ""
          }
         },
         "name": "job_01",
         "offsetgroup": "job_01",
         "orientation": "h",
         "showlegend": true,
         "textposition": "auto",
         "type": "bar",
         "x": [
          85000,
          66000,
          88000,
          91000,
          87000,
          98000,
          93000,
          98000,
          67000,
          76000
         ],
         "xaxis": "x",
         "y": [
          "machine_01",
          "machine_02",
          "machine_03",
          "machine_04",
          "machine_05",
          "machine_06",
          "machine_07",
          "machine_08",
          "machine_09",
          "machine_10"
         ],
         "yaxis": "y"
        },
        {
         "alignmentgroup": "True",
         "base": [
          "2022-01-01T00:19:17",
          "2022-01-01T00:20:49",
          "2022-01-01T00:14:30",
          "2022-01-01T00:02:46",
          "2022-01-01T00:07:51",
          "2022-01-01T00:00:01",
          "2022-01-01T00:06:20",
          "2022-01-01T00:22:11",
          "2022-01-01T00:17:27",
          "2022-01-01T00:23:55"
         ],
         "hovertemplate": "Job=job_02<br>Start=%{base}<br>Finish=%{x}<br>Machine=%{y}<extra></extra>",
         "legendgroup": "job_02",
         "marker": {
          "color": "#FF97FF",
          "pattern": {
           "shape": ""
          }
         },
         "name": "job_02",
         "offsetgroup": "job_02",
         "orientation": "h",
         "showlegend": true,
         "textposition": "auto",
         "type": "bar",
         "x": [
          91000,
          81000,
          93000,
          49000,
          74000,
          71000,
          68000,
          93000,
          65000,
          62000
         ],
         "xaxis": "x",
         "y": [
          "machine_01",
          "machine_02",
          "machine_03",
          "machine_04",
          "machine_05",
          "machine_06",
          "machine_07",
          "machine_08",
          "machine_09",
          "machine_10"
         ],
         "yaxis": "y"
        },
        {
         "alignmentgroup": "True",
         "base": [
          "2022-01-01T00:25:14",
          "2022-01-01T00:00:01",
          "2022-01-01T00:19:21",
          "2022-01-01T00:23:55",
          "2022-01-01T00:09:06",
          "2022-01-01T00:10:43",
          "2022-01-01T00:13:21",
          "2022-01-01T00:20:41",
          "2022-01-01T00:16:07",
          "2022-01-01T00:22:53"
         ],
         "hovertemplate": "Job=job_06<br>Start=%{base}<br>Finish=%{x}<br>Machine=%{y}<extra></extra>",
         "legendgroup": "job_06",
         "marker": {
          "color": "#FECB52",
          "pattern": {
           "shape": ""
          }
         },
         "name": "job_06",
         "offsetgroup": "job_06",
         "orientation": "h",
         "showlegend": true,
         "textposition": "auto",
         "type": "bar",
         "x": [
          87000,
          98000,
          79000,
          78000,
          80000,
          63000,
          65000,
          68000,
          79000,
          61000
         ],
         "xaxis": "x",
         "y": [
          "machine_01",
          "machine_02",
          "machine_03",
          "machine_04",
          "machine_05",
          "machine_06",
          "machine_07",
          "machine_08",
          "machine_09",
          "machine_10"
         ],
         "yaxis": "y"
        }
       ],
       "layout": {
        "barmode": "overlay",
        "legend": {
         "title": {
          "text": "Job"
         },
         "tracegroupgap": 0
        },
        "margin": {
         "t": 60
        },
        "template": {
         "data": {
          "bar": [
           {
            "error_x": {
             "color": "#2a3f5f"
            },
            "error_y": {
             "color": "#2a3f5f"
            },
            "marker": {
             "line": {
              "color": "#E5ECF6",
              "width": 0.5
             },
             "pattern": {
              "fillmode": "overlay",
              "size": 10,
              "solidity": 0.2
             }
            },
            "type": "bar"
           }
          ],
          "barpolar": [
           {
            "marker": {
             "line": {
              "color": "#E5ECF6",
              "width": 0.5
             },
             "pattern": {
              "fillmode": "overlay",
              "size": 10,
              "solidity": 0.2
             }
            },
            "type": "barpolar"
           }
          ],
          "carpet": [
           {
            "aaxis": {
             "endlinecolor": "#2a3f5f",
             "gridcolor": "white",
             "linecolor": "white",
             "minorgridcolor": "white",
             "startlinecolor": "#2a3f5f"
            },
            "baxis": {
             "endlinecolor": "#2a3f5f",
             "gridcolor": "white",
             "linecolor": "white",
             "minorgridcolor": "white",
             "startlinecolor": "#2a3f5f"
            },
            "type": "carpet"
           }
          ],
          "choropleth": [
           {
            "colorbar": {
             "outlinewidth": 0,
             "ticks": ""
            },
            "type": "choropleth"
           }
          ],
          "contour": [
           {
            "colorbar": {
             "outlinewidth": 0,
             "ticks": ""
            },
            "colorscale": [
             [
              0,
              "#0d0887"
             ],
             [
              0.1111111111111111,
              "#46039f"
             ],
             [
              0.2222222222222222,
              "#7201a8"
             ],
             [
              0.3333333333333333,
              "#9c179e"
             ],
             [
              0.4444444444444444,
              "#bd3786"
             ],
             [
              0.5555555555555556,
              "#d8576b"
             ],
             [
              0.6666666666666666,
              "#ed7953"
             ],
             [
              0.7777777777777778,
              "#fb9f3a"
             ],
             [
              0.8888888888888888,
              "#fdca26"
             ],
             [
              1,
              "#f0f921"
             ]
            ],
            "type": "contour"
           }
          ],
          "contourcarpet": [
           {
            "colorbar": {
             "outlinewidth": 0,
             "ticks": ""
            },
            "type": "contourcarpet"
           }
          ],
          "heatmap": [
           {
            "colorbar": {
             "outlinewidth": 0,
             "ticks": ""
            },
            "colorscale": [
             [
              0,
              "#0d0887"
             ],
             [
              0.1111111111111111,
              "#46039f"
             ],
             [
              0.2222222222222222,
              "#7201a8"
             ],
             [
              0.3333333333333333,
              "#9c179e"
             ],
             [
              0.4444444444444444,
              "#bd3786"
             ],
             [
              0.5555555555555556,
              "#d8576b"
             ],
             [
              0.6666666666666666,
              "#ed7953"
             ],
             [
              0.7777777777777778,
              "#fb9f3a"
             ],
             [
              0.8888888888888888,
              "#fdca26"
             ],
             [
              1,
              "#f0f921"
             ]
            ],
            "type": "heatmap"
           }
          ],
          "heatmapgl": [
           {
            "colorbar": {
             "outlinewidth": 0,
             "ticks": ""
            },
            "colorscale": [
             [
              0,
              "#0d0887"
             ],
             [
              0.1111111111111111,
              "#46039f"
             ],
             [
              0.2222222222222222,
              "#7201a8"
             ],
             [
              0.3333333333333333,
              "#9c179e"
             ],
             [
              0.4444444444444444,
              "#bd3786"
             ],
             [
              0.5555555555555556,
              "#d8576b"
             ],
             [
              0.6666666666666666,
              "#ed7953"
             ],
             [
              0.7777777777777778,
              "#fb9f3a"
             ],
             [
              0.8888888888888888,
              "#fdca26"
             ],
             [
              1,
              "#f0f921"
             ]
            ],
            "type": "heatmapgl"
           }
          ],
          "histogram": [
           {
            "marker": {
             "pattern": {
              "fillmode": "overlay",
              "size": 10,
              "solidity": 0.2
             }
            },
            "type": "histogram"
           }
          ],
          "histogram2d": [
           {
            "colorbar": {
             "outlinewidth": 0,
             "ticks": ""
            },
            "colorscale": [
             [
              0,
              "#0d0887"
             ],
             [
              0.1111111111111111,
              "#46039f"
             ],
             [
              0.2222222222222222,
              "#7201a8"
             ],
             [
              0.3333333333333333,
              "#9c179e"
             ],
             [
              0.4444444444444444,
              "#bd3786"
             ],
             [
              0.5555555555555556,
              "#d8576b"
             ],
             [
              0.6666666666666666,
              "#ed7953"
             ],
             [
              0.7777777777777778,
              "#fb9f3a"
             ],
             [
              0.8888888888888888,
              "#fdca26"
             ],
             [
              1,
              "#f0f921"
             ]
            ],
            "type": "histogram2d"
           }
          ],
          "histogram2dcontour": [
           {
            "colorbar": {
             "outlinewidth": 0,
             "ticks": ""
            },
            "colorscale": [
             [
              0,
              "#0d0887"
             ],
             [
              0.1111111111111111,
              "#46039f"
             ],
             [
              0.2222222222222222,
              "#7201a8"
             ],
             [
              0.3333333333333333,
              "#9c179e"
             ],
             [
              0.4444444444444444,
              "#bd3786"
             ],
             [
              0.5555555555555556,
              "#d8576b"
             ],
             [
              0.6666666666666666,
              "#ed7953"
             ],
             [
              0.7777777777777778,
              "#fb9f3a"
             ],
             [
              0.8888888888888888,
              "#fdca26"
             ],
             [
              1,
              "#f0f921"
             ]
            ],
            "type": "histogram2dcontour"
           }
          ],
          "mesh3d": [
           {
            "colorbar": {
             "outlinewidth": 0,
             "ticks": ""
            },
            "type": "mesh3d"
           }
          ],
          "parcoords": [
           {
            "line": {
             "colorbar": {
              "outlinewidth": 0,
              "ticks": ""
             }
            },
            "type": "parcoords"
           }
          ],
          "pie": [
           {
            "automargin": true,
            "type": "pie"
           }
          ],
          "scatter": [
           {
            "fillpattern": {
             "fillmode": "overlay",
             "size": 10,
             "solidity": 0.2
            },
            "type": "scatter"
           }
          ],
          "scatter3d": [
           {
            "line": {
             "colorbar": {
              "outlinewidth": 0,
              "ticks": ""
             }
            },
            "marker": {
             "colorbar": {
              "outlinewidth": 0,
              "ticks": ""
             }
            },
            "type": "scatter3d"
           }
          ],
          "scattercarpet": [
           {
            "marker": {
             "colorbar": {
              "outlinewidth": 0,
              "ticks": ""
             }
            },
            "type": "scattercarpet"
           }
          ],
          "scattergeo": [
           {
            "marker": {
             "colorbar": {
              "outlinewidth": 0,
              "ticks": ""
             }
            },
            "type": "scattergeo"
           }
          ],
          "scattergl": [
           {
            "marker": {
             "colorbar": {
              "outlinewidth": 0,
              "ticks": ""
             }
            },
            "type": "scattergl"
           }
          ],
          "scattermapbox": [
           {
            "marker": {
             "colorbar": {
              "outlinewidth": 0,
              "ticks": ""
             }
            },
            "type": "scattermapbox"
           }
          ],
          "scatterpolar": [
           {
            "marker": {
             "colorbar": {
              "outlinewidth": 0,
              "ticks": ""
             }
            },
            "type": "scatterpolar"
           }
          ],
          "scatterpolargl": [
           {
            "marker": {
             "colorbar": {
              "outlinewidth": 0,
              "ticks": ""
             }
            },
            "type": "scatterpolargl"
           }
          ],
          "scatterternary": [
           {
            "marker": {
             "colorbar": {
              "outlinewidth": 0,
              "ticks": ""
             }
            },
            "type": "scatterternary"
           }
          ],
          "surface": [
           {
            "colorbar": {
             "outlinewidth": 0,
             "ticks": ""
            },
            "colorscale": [
             [
              0,
              "#0d0887"
             ],
             [
              0.1111111111111111,
              "#46039f"
             ],
             [
              0.2222222222222222,
              "#7201a8"
             ],
             [
              0.3333333333333333,
              "#9c179e"
             ],
             [
              0.4444444444444444,
              "#bd3786"
             ],
             [
              0.5555555555555556,
              "#d8576b"
             ],
             [
              0.6666666666666666,
              "#ed7953"
             ],
             [
              0.7777777777777778,
              "#fb9f3a"
             ],
             [
              0.8888888888888888,
              "#fdca26"
             ],
             [
              1,
              "#f0f921"
             ]
            ],
            "type": "surface"
           }
          ],
          "table": [
           {
            "cells": {
             "fill": {
              "color": "#EBF0F8"
             },
             "line": {
              "color": "white"
             }
            },
            "header": {
             "fill": {
              "color": "#C8D4E3"
             },
             "line": {
              "color": "white"
             }
            },
            "type": "table"
           }
          ]
         },
         "layout": {
          "annotationdefaults": {
           "arrowcolor": "#2a3f5f",
           "arrowhead": 0,
           "arrowwidth": 1
          },
          "autotypenumbers": "strict",
          "coloraxis": {
           "colorbar": {
            "outlinewidth": 0,
            "ticks": ""
           }
          },
          "colorscale": {
           "diverging": [
            [
             0,
             "#8e0152"
            ],
            [
             0.1,
             "#c51b7d"
            ],
            [
             0.2,
             "#de77ae"
            ],
            [
             0.3,
             "#f1b6da"
            ],
            [
             0.4,
             "#fde0ef"
            ],
            [
             0.5,
             "#f7f7f7"
            ],
            [
             0.6,
             "#e6f5d0"
            ],
            [
             0.7,
             "#b8e186"
            ],
            [
             0.8,
             "#7fbc41"
            ],
            [
             0.9,
             "#4d9221"
            ],
            [
             1,
             "#276419"
            ]
           ],
           "sequential": [
            [
             0,
             "#0d0887"
            ],
            [
             0.1111111111111111,
             "#46039f"
            ],
            [
             0.2222222222222222,
             "#7201a8"
            ],
            [
             0.3333333333333333,
             "#9c179e"
            ],
            [
             0.4444444444444444,
             "#bd3786"
            ],
            [
             0.5555555555555556,
             "#d8576b"
            ],
            [
             0.6666666666666666,
             "#ed7953"
            ],
            [
             0.7777777777777778,
             "#fb9f3a"
            ],
            [
             0.8888888888888888,
             "#fdca26"
            ],
            [
             1,
             "#f0f921"
            ]
           ],
           "sequentialminus": [
            [
             0,
             "#0d0887"
            ],
            [
             0.1111111111111111,
             "#46039f"
            ],
            [
             0.2222222222222222,
             "#7201a8"
            ],
            [
             0.3333333333333333,
             "#9c179e"
            ],
            [
             0.4444444444444444,
             "#bd3786"
            ],
            [
             0.5555555555555556,
             "#d8576b"
            ],
            [
             0.6666666666666666,
             "#ed7953"
            ],
            [
             0.7777777777777778,
             "#fb9f3a"
            ],
            [
             0.8888888888888888,
             "#fdca26"
            ],
            [
             1,
             "#f0f921"
            ]
           ]
          },
          "colorway": [
           "#636efa",
           "#EF553B",
           "#00cc96",
           "#ab63fa",
           "#FFA15A",
           "#19d3f3",
           "#FF6692",
           "#B6E880",
           "#FF97FF",
           "#FECB52"
          ],
          "font": {
           "color": "#2a3f5f"
          },
          "geo": {
           "bgcolor": "white",
           "lakecolor": "white",
           "landcolor": "#E5ECF6",
           "showlakes": true,
           "showland": true,
           "subunitcolor": "white"
          },
          "hoverlabel": {
           "align": "left"
          },
          "hovermode": "closest",
          "mapbox": {
           "style": "light"
          },
          "paper_bgcolor": "white",
          "plot_bgcolor": "#E5ECF6",
          "polar": {
           "angularaxis": {
            "gridcolor": "white",
            "linecolor": "white",
            "ticks": ""
           },
           "bgcolor": "#E5ECF6",
           "radialaxis": {
            "gridcolor": "white",
            "linecolor": "white",
            "ticks": ""
           }
          },
          "scene": {
           "xaxis": {
            "backgroundcolor": "#E5ECF6",
            "gridcolor": "white",
            "gridwidth": 2,
            "linecolor": "white",
            "showbackground": true,
            "ticks": "",
            "zerolinecolor": "white"
           },
           "yaxis": {
            "backgroundcolor": "#E5ECF6",
            "gridcolor": "white",
            "gridwidth": 2,
            "linecolor": "white",
            "showbackground": true,
            "ticks": "",
            "zerolinecolor": "white"
           },
           "zaxis": {
            "backgroundcolor": "#E5ECF6",
            "gridcolor": "white",
            "gridwidth": 2,
            "linecolor": "white",
            "showbackground": true,
            "ticks": "",
            "zerolinecolor": "white"
           }
          },
          "shapedefaults": {
           "line": {
            "color": "#2a3f5f"
           }
          },
          "ternary": {
           "aaxis": {
            "gridcolor": "white",
            "linecolor": "white",
            "ticks": ""
           },
           "baxis": {
            "gridcolor": "white",
            "linecolor": "white",
            "ticks": ""
           },
           "bgcolor": "#E5ECF6",
           "caxis": {
            "gridcolor": "white",
            "linecolor": "white",
            "ticks": ""
           }
          },
          "title": {
           "x": 0.05
          },
          "xaxis": {
           "automargin": true,
           "gridcolor": "white",
           "linecolor": "white",
           "ticks": "",
           "title": {
            "standoff": 15
           },
           "zerolinecolor": "white",
           "zerolinewidth": 2
          },
          "yaxis": {
           "automargin": true,
           "gridcolor": "white",
           "linecolor": "white",
           "ticks": "",
           "title": {
            "standoff": 15
           },
           "zerolinecolor": "white",
           "zerolinewidth": 2
          }
         }
        },
        "xaxis": {
         "anchor": "y",
         "domain": [
          0,
          1
         ],
         "type": "date"
        },
        "yaxis": {
         "anchor": "x",
         "domain": [
          0,
          1
         ],
         "title": {
          "text": "Machine"
         }
        }
       }
      }
     },
     "metadata": {},
     "output_type": "display_data"
    },
    {
     "name": "stdout",
     "output_type": "stream",
     "text": [
      "finished! no legal actions possible after 131 steps\n"
     ]
    },
    {
     "data": {
      "application/vnd.plotly.v1+json": {
       "config": {
        "plotlyServerURL": "https://plot.ly"
       },
       "data": [
        {
         "alignmentgroup": "True",
         "base": [
          "2022-01-01T00:00:01",
          "2022-01-01T00:06:27",
          "2022-01-01T00:08:48",
          "2022-01-01T00:02:50",
          "2022-01-01T00:10:37",
          "2022-01-01T00:13:40",
          "2022-01-01T00:01:35",
          "2022-01-01T00:04:20",
          "2022-01-01T00:14:38",
          "2022-01-01T00:17:31"
         ],
         "hovertemplate": "Job=job_09<br>Start=%{base}<br>Finish=%{x}<br>Machine=%{y}<extra></extra>",
         "legendgroup": "job_09",
         "marker": {
          "color": "#636efa",
          "pattern": {
           "shape": ""
          }
         },
         "name": "job_09",
         "offsetgroup": "job_09",
         "orientation": "h",
         "showlegend": true,
         "textposition": "auto",
         "type": "bar",
         "x": [
          93000,
          65000,
          89000,
          80000,
          75000,
          57000,
          70000,
          84000,
          92000,
          96000
         ],
         "xaxis": "x",
         "y": [
          "machine_01",
          "machine_02",
          "machine_03",
          "machine_04",
          "machine_05",
          "machine_06",
          "machine_07",
          "machine_08",
          "machine_09",
          "machine_10"
         ],
         "yaxis": "y"
        },
        {
         "alignmentgroup": "True",
         "base": [
          "2022-01-01T00:01:35",
          "2022-01-01T00:02:34",
          "2022-01-01T00:19:30",
          "2022-01-01T00:00:01",
          "2022-01-01T00:11:53",
          "2022-01-01T00:18:31",
          "2022-01-01T00:08:38",
          "2022-01-01T00:05:45",
          "2022-01-01T00:03:56",
          "2022-01-01T00:06:41"
         ],
         "hovertemplate": "Job=job_10<br>Start=%{base}<br>Finish=%{x}<br>Machine=%{y}<extra></extra>",
         "legendgroup": "job_10",
         "marker": {
          "color": "#EF553B",
          "pattern": {
           "shape": ""
          }
         },
         "name": "job_10",
         "offsetgroup": "job_10",
         "orientation": "h",
         "showlegend": true,
         "textposition": "auto",
         "type": "bar",
         "x": [
          58000,
          81000,
          95000,
          49000,
          80000,
          58000,
          57000,
          55000,
          66000,
          95000
         ],
         "xaxis": "x",
         "y": [
          "machine_01",
          "machine_02",
          "machine_03",
          "machine_04",
          "machine_05",
          "machine_06",
          "machine_07",
          "machine_08",
          "machine_09",
          "machine_10"
         ],
         "yaxis": "y"
        },
        {
         "alignmentgroup": "True",
         "base": [
          "2022-01-01T00:02:34",
          "2022-01-01T00:05:22",
          "2022-01-01T00:17:31",
          "2022-01-01T00:18:26",
          "2022-01-01T00:16:06",
          "2022-01-01T00:12:15",
          "2022-01-01T00:09:36",
          "2022-01-01T00:14:48",
          "2022-01-01T00:01:24",
          "2022-01-01T00:00:01"
         ],
         "hovertemplate": "Job=job_03<br>Start=%{base}<br>Finish=%{x}<br>Machine=%{y}<extra></extra>",
         "legendgroup": "job_03",
         "marker": {
          "color": "#00cc96",
          "pattern": {
           "shape": ""
          }
         },
         "name": "job_03",
         "offsetgroup": "job_03",
         "orientation": "h",
         "showlegend": true,
         "textposition": "auto",
         "type": "bar",
         "x": [
          82000,
          64000,
          54000,
          76000,
          84000,
          84000,
          63000,
          77000,
          60000,
          82000
         ],
         "xaxis": "x",
         "y": [
          "machine_01",
          "machine_02",
          "machine_03",
          "machine_04",
          "machine_05",
          "machine_06",
          "machine_07",
          "machine_08",
          "machine_09",
          "machine_10"
         ],
         "yaxis": "y"
        },
        {
         "alignmentgroup": "True",
         "base": [
          "2022-01-01T00:07:32",
          "2022-01-01T00:20:26",
          "2022-01-01T00:10:18",
          "2022-01-01T00:00:51",
          "2022-01-01T00:03:07",
          "2022-01-01T00:14:38",
          "2022-01-01T00:11:25",
          "2022-01-01T00:19:19",
          "2022-01-01T00:05:57",
          "2022-01-01T00:04:35"
         ],
         "hovertemplate": "Job=job_05<br>Start=%{base}<br>Finish=%{x}<br>Machine=%{y}<extra></extra>",
         "legendgroup": "job_05",
         "marker": {
          "color": "#ab63fa",
          "pattern": {
           "shape": ""
          }
         },
         "name": "job_05",
         "offsetgroup": "job_05",
         "orientation": "h",
         "showlegend": true,
         "textposition": "auto",
         "type": "bar",
         "x": [
          98000,
          85000,
          66000,
          68000,
          87000,
          67000,
          94000,
          66000,
          94000,
          81000
         ],
         "xaxis": "x",
         "y": [
          "machine_01",
          "machine_02",
          "machine_03",
          "machine_04",
          "machine_05",
          "machine_06",
          "machine_07",
          "machine_08",
          "machine_09",
          "machine_10"
         ],
         "yaxis": "y"
        },
        {
         "alignmentgroup": "True",
         "base": [
          "2022-01-01T00:10:40",
          "2022-01-01T00:03:56",
          "2022-01-01T00:14:29",
          "2022-01-01T00:08:48",
          "2022-01-01T00:07:11",
          "2022-01-01T00:15:46",
          "2022-01-01T00:17:25",
          "2022-01-01T00:01:35",
          "2022-01-01T00:12:15",
          "2022-01-01T00:22:03"
         ],
         "hovertemplate": "Job=job_07<br>Start=%{base}<br>Finish=%{x}<br>Machine=%{y}<extra></extra>",
         "legendgroup": "job_07",
         "marker": {
          "color": "#FFA15A",
          "pattern": {
           "shape": ""
          }
         },
         "name": "job_07",
         "offsetgroup": "job_07",
         "orientation": "h",
         "showlegend": true,
         "textposition": "auto",
         "type": "bar",
         "x": [
          94000,
          85000,
          65000,
          95000,
          96000,
          98000,
          51000,
          49000,
          96000,
          70000
         ],
         "xaxis": "x",
         "y": [
          "machine_01",
          "machine_02",
          "machine_03",
          "machine_04",
          "machine_05",
          "machine_06",
          "machine_07",
          "machine_08",
          "machine_09",
          "machine_10"
         ],
         "yaxis": "y"
        },
        {
         "alignmentgroup": "True",
         "base": [
          "2022-01-01T00:12:15",
          "2022-01-01T00:13:47",
          "2022-01-01T00:07:11",
          "2022-01-01T00:02:00",
          "2022-01-01T00:05:56",
          "2022-01-01T00:00:01",
          "2022-01-01T00:04:20",
          "2022-01-01T00:16:06",
          "2022-01-01T00:10:05",
          "2022-01-01T00:19:08"
         ],
         "hovertemplate": "Job=job_02<br>Start=%{base}<br>Finish=%{x}<br>Machine=%{y}<extra></extra>",
         "legendgroup": "job_02",
         "marker": {
          "color": "#19d3f3",
          "pattern": {
           "shape": ""
          }
         },
         "name": "job_02",
         "offsetgroup": "job_02",
         "orientation": "h",
         "showlegend": true,
         "textposition": "auto",
         "type": "bar",
         "x": [
          91000,
          81000,
          93000,
          49000,
          74000,
          71000,
          68000,
          93000,
          65000,
          62000
         ],
         "xaxis": "x",
         "y": [
          "machine_01",
          "machine_02",
          "machine_03",
          "machine_04",
          "machine_05",
          "machine_06",
          "machine_07",
          "machine_08",
          "machine_09",
          "machine_10"
         ],
         "yaxis": "y"
        },
        {
         "alignmentgroup": "True",
         "base": [
          "2022-01-01T00:13:47",
          "2022-01-01T00:08:34",
          "2022-01-01T00:05:42",
          "2022-01-01T00:04:20",
          "2022-01-01T00:01:29",
          "2022-01-01T00:10:40",
          "2022-01-01T00:03:07",
          "2022-01-01T00:12:14",
          "2022-01-01T00:16:11",
          "2022-01-01T00:23:14"
         ],
         "hovertemplate": "Job=job_08<br>Start=%{base}<br>Finish=%{x}<br>Machine=%{y}<extra></extra>",
         "legendgroup": "job_08",
         "marker": {
          "color": "#FF6692",
          "pattern": {
           "shape": ""
          }
         },
         "name": "job_08",
         "offsetgroup": "job_08",
         "orientation": "h",
         "showlegend": true,
         "textposition": "auto",
         "type": "bar",
         "x": [
          61000,
          70000,
          50000,
          81000,
          97000,
          93000,
          72000,
          84000,
          94000,
          78000
         ],
         "xaxis": "x",
         "y": [
          "machine_01",
          "machine_02",
          "machine_03",
          "machine_04",
          "machine_05",
          "machine_06",
          "machine_07",
          "machine_08",
          "machine_09",
          "machine_10"
         ],
         "yaxis": "y"
        },
        {
         "alignmentgroup": "True",
         "base": [
          "2022-01-01T00:18:16",
          "2022-01-01T00:00:01",
          "2022-01-01T00:11:25",
          "2022-01-01T00:16:57",
          "2022-01-01T00:04:35",
          "2022-01-01T00:05:56",
          "2022-01-01T00:07:32",
          "2022-01-01T00:13:39",
          "2022-01-01T00:08:45",
          "2022-01-01T00:15:55"
         ],
         "hovertemplate": "Job=job_06<br>Start=%{base}<br>Finish=%{x}<br>Machine=%{y}<extra></extra>",
         "legendgroup": "job_06",
         "marker": {
          "color": "#B6E880",
          "pattern": {
           "shape": ""
          }
         },
         "name": "job_06",
         "offsetgroup": "job_06",
         "orientation": "h",
         "showlegend": true,
         "textposition": "auto",
         "type": "bar",
         "x": [
          87000,
          98000,
          79000,
          78000,
          80000,
          63000,
          65000,
          68000,
          79000,
          61000
         ],
         "xaxis": "x",
         "y": [
          "machine_01",
          "machine_02",
          "machine_03",
          "machine_04",
          "machine_05",
          "machine_06",
          "machine_07",
          "machine_08",
          "machine_09",
          "machine_10"
         ],
         "yaxis": "y"
        },
        {
         "alignmentgroup": "True",
         "base": [
          "2022-01-01T00:19:44",
          "2022-01-01T00:07:33",
          "2022-01-01T00:01:35",
          "2022-01-01T00:10:37",
          "2022-01-01T00:08:58",
          "2022-01-01T00:17:25",
          "2022-01-01T00:13:00",
          "2022-01-01T00:00:01",
          "2022-01-01T00:22:03",
          "2022-01-01T00:21:00"
         ],
         "hovertemplate": "Job=job_04<br>Start=%{base}<br>Finish=%{x}<br>Machine=%{y}<extra></extra>",
         "legendgroup": "job_04",
         "marker": {
          "color": "#FF97FF",
          "pattern": {
           "shape": ""
          }
         },
         "name": "job_04",
         "offsetgroup": "job_04",
         "orientation": "h",
         "showlegend": true,
         "textposition": "auto",
         "type": "bar",
         "x": [
          75000,
          60000,
          67000,
          53000,
          98000,
          65000,
          74000,
          93000,
          66000,
          62000
         ],
         "xaxis": "x",
         "y": [
          "machine_01",
          "machine_02",
          "machine_03",
          "machine_04",
          "machine_05",
          "machine_06",
          "machine_07",
          "machine_08",
          "machine_09",
          "machine_10"
         ],
         "yaxis": "y"
        },
        {
         "alignmentgroup": "True",
         "base": [
          "2022-01-01T00:21:00",
          "2022-01-01T00:09:45",
          "2022-01-01T00:13:00",
          "2022-01-01T00:22:26",
          "2022-01-01T00:00:01",
          "2022-01-01T00:07:19",
          "2022-01-01T00:05:45",
          "2022-01-01T00:17:40",
          "2022-01-01T00:02:25",
          "2022-01-01T00:14:38"
         ],
         "hovertemplate": "Job=job_01<br>Start=%{base}<br>Finish=%{x}<br>Machine=%{y}<extra></extra>",
         "legendgroup": "job_01",
         "marker": {
          "color": "#FECB52",
          "pattern": {
           "shape": ""
          }
         },
         "name": "job_01",
         "offsetgroup": "job_01",
         "orientation": "h",
         "showlegend": true,
         "textposition": "auto",
         "type": "bar",
         "x": [
          85000,
          66000,
          88000,
          91000,
          87000,
          98000,
          93000,
          98000,
          67000,
          76000
         ],
         "xaxis": "x",
         "y": [
          "machine_01",
          "machine_02",
          "machine_03",
          "machine_04",
          "machine_05",
          "machine_06",
          "machine_07",
          "machine_08",
          "machine_09",
          "machine_10"
         ],
         "yaxis": "y"
        }
       ],
       "layout": {
        "barmode": "overlay",
        "legend": {
         "title": {
          "text": "Job"
         },
         "tracegroupgap": 0
        },
        "margin": {
         "t": 60
        },
        "template": {
         "data": {
          "bar": [
           {
            "error_x": {
             "color": "#2a3f5f"
            },
            "error_y": {
             "color": "#2a3f5f"
            },
            "marker": {
             "line": {
              "color": "#E5ECF6",
              "width": 0.5
             },
             "pattern": {
              "fillmode": "overlay",
              "size": 10,
              "solidity": 0.2
             }
            },
            "type": "bar"
           }
          ],
          "barpolar": [
           {
            "marker": {
             "line": {
              "color": "#E5ECF6",
              "width": 0.5
             },
             "pattern": {
              "fillmode": "overlay",
              "size": 10,
              "solidity": 0.2
             }
            },
            "type": "barpolar"
           }
          ],
          "carpet": [
           {
            "aaxis": {
             "endlinecolor": "#2a3f5f",
             "gridcolor": "white",
             "linecolor": "white",
             "minorgridcolor": "white",
             "startlinecolor": "#2a3f5f"
            },
            "baxis": {
             "endlinecolor": "#2a3f5f",
             "gridcolor": "white",
             "linecolor": "white",
             "minorgridcolor": "white",
             "startlinecolor": "#2a3f5f"
            },
            "type": "carpet"
           }
          ],
          "choropleth": [
           {
            "colorbar": {
             "outlinewidth": 0,
             "ticks": ""
            },
            "type": "choropleth"
           }
          ],
          "contour": [
           {
            "colorbar": {
             "outlinewidth": 0,
             "ticks": ""
            },
            "colorscale": [
             [
              0,
              "#0d0887"
             ],
             [
              0.1111111111111111,
              "#46039f"
             ],
             [
              0.2222222222222222,
              "#7201a8"
             ],
             [
              0.3333333333333333,
              "#9c179e"
             ],
             [
              0.4444444444444444,
              "#bd3786"
             ],
             [
              0.5555555555555556,
              "#d8576b"
             ],
             [
              0.6666666666666666,
              "#ed7953"
             ],
             [
              0.7777777777777778,
              "#fb9f3a"
             ],
             [
              0.8888888888888888,
              "#fdca26"
             ],
             [
              1,
              "#f0f921"
             ]
            ],
            "type": "contour"
           }
          ],
          "contourcarpet": [
           {
            "colorbar": {
             "outlinewidth": 0,
             "ticks": ""
            },
            "type": "contourcarpet"
           }
          ],
          "heatmap": [
           {
            "colorbar": {
             "outlinewidth": 0,
             "ticks": ""
            },
            "colorscale": [
             [
              0,
              "#0d0887"
             ],
             [
              0.1111111111111111,
              "#46039f"
             ],
             [
              0.2222222222222222,
              "#7201a8"
             ],
             [
              0.3333333333333333,
              "#9c179e"
             ],
             [
              0.4444444444444444,
              "#bd3786"
             ],
             [
              0.5555555555555556,
              "#d8576b"
             ],
             [
              0.6666666666666666,
              "#ed7953"
             ],
             [
              0.7777777777777778,
              "#fb9f3a"
             ],
             [
              0.8888888888888888,
              "#fdca26"
             ],
             [
              1,
              "#f0f921"
             ]
            ],
            "type": "heatmap"
           }
          ],
          "heatmapgl": [
           {
            "colorbar": {
             "outlinewidth": 0,
             "ticks": ""
            },
            "colorscale": [
             [
              0,
              "#0d0887"
             ],
             [
              0.1111111111111111,
              "#46039f"
             ],
             [
              0.2222222222222222,
              "#7201a8"
             ],
             [
              0.3333333333333333,
              "#9c179e"
             ],
             [
              0.4444444444444444,
              "#bd3786"
             ],
             [
              0.5555555555555556,
              "#d8576b"
             ],
             [
              0.6666666666666666,
              "#ed7953"
             ],
             [
              0.7777777777777778,
              "#fb9f3a"
             ],
             [
              0.8888888888888888,
              "#fdca26"
             ],
             [
              1,
              "#f0f921"
             ]
            ],
            "type": "heatmapgl"
           }
          ],
          "histogram": [
           {
            "marker": {
             "pattern": {
              "fillmode": "overlay",
              "size": 10,
              "solidity": 0.2
             }
            },
            "type": "histogram"
           }
          ],
          "histogram2d": [
           {
            "colorbar": {
             "outlinewidth": 0,
             "ticks": ""
            },
            "colorscale": [
             [
              0,
              "#0d0887"
             ],
             [
              0.1111111111111111,
              "#46039f"
             ],
             [
              0.2222222222222222,
              "#7201a8"
             ],
             [
              0.3333333333333333,
              "#9c179e"
             ],
             [
              0.4444444444444444,
              "#bd3786"
             ],
             [
              0.5555555555555556,
              "#d8576b"
             ],
             [
              0.6666666666666666,
              "#ed7953"
             ],
             [
              0.7777777777777778,
              "#fb9f3a"
             ],
             [
              0.8888888888888888,
              "#fdca26"
             ],
             [
              1,
              "#f0f921"
             ]
            ],
            "type": "histogram2d"
           }
          ],
          "histogram2dcontour": [
           {
            "colorbar": {
             "outlinewidth": 0,
             "ticks": ""
            },
            "colorscale": [
             [
              0,
              "#0d0887"
             ],
             [
              0.1111111111111111,
              "#46039f"
             ],
             [
              0.2222222222222222,
              "#7201a8"
             ],
             [
              0.3333333333333333,
              "#9c179e"
             ],
             [
              0.4444444444444444,
              "#bd3786"
             ],
             [
              0.5555555555555556,
              "#d8576b"
             ],
             [
              0.6666666666666666,
              "#ed7953"
             ],
             [
              0.7777777777777778,
              "#fb9f3a"
             ],
             [
              0.8888888888888888,
              "#fdca26"
             ],
             [
              1,
              "#f0f921"
             ]
            ],
            "type": "histogram2dcontour"
           }
          ],
          "mesh3d": [
           {
            "colorbar": {
             "outlinewidth": 0,
             "ticks": ""
            },
            "type": "mesh3d"
           }
          ],
          "parcoords": [
           {
            "line": {
             "colorbar": {
              "outlinewidth": 0,
              "ticks": ""
             }
            },
            "type": "parcoords"
           }
          ],
          "pie": [
           {
            "automargin": true,
            "type": "pie"
           }
          ],
          "scatter": [
           {
            "fillpattern": {
             "fillmode": "overlay",
             "size": 10,
             "solidity": 0.2
            },
            "type": "scatter"
           }
          ],
          "scatter3d": [
           {
            "line": {
             "colorbar": {
              "outlinewidth": 0,
              "ticks": ""
             }
            },
            "marker": {
             "colorbar": {
              "outlinewidth": 0,
              "ticks": ""
             }
            },
            "type": "scatter3d"
           }
          ],
          "scattercarpet": [
           {
            "marker": {
             "colorbar": {
              "outlinewidth": 0,
              "ticks": ""
             }
            },
            "type": "scattercarpet"
           }
          ],
          "scattergeo": [
           {
            "marker": {
             "colorbar": {
              "outlinewidth": 0,
              "ticks": ""
             }
            },
            "type": "scattergeo"
           }
          ],
          "scattergl": [
           {
            "marker": {
             "colorbar": {
              "outlinewidth": 0,
              "ticks": ""
             }
            },
            "type": "scattergl"
           }
          ],
          "scattermapbox": [
           {
            "marker": {
             "colorbar": {
              "outlinewidth": 0,
              "ticks": ""
             }
            },
            "type": "scattermapbox"
           }
          ],
          "scatterpolar": [
           {
            "marker": {
             "colorbar": {
              "outlinewidth": 0,
              "ticks": ""
             }
            },
            "type": "scatterpolar"
           }
          ],
          "scatterpolargl": [
           {
            "marker": {
             "colorbar": {
              "outlinewidth": 0,
              "ticks": ""
             }
            },
            "type": "scatterpolargl"
           }
          ],
          "scatterternary": [
           {
            "marker": {
             "colorbar": {
              "outlinewidth": 0,
              "ticks": ""
             }
            },
            "type": "scatterternary"
           }
          ],
          "surface": [
           {
            "colorbar": {
             "outlinewidth": 0,
             "ticks": ""
            },
            "colorscale": [
             [
              0,
              "#0d0887"
             ],
             [
              0.1111111111111111,
              "#46039f"
             ],
             [
              0.2222222222222222,
              "#7201a8"
             ],
             [
              0.3333333333333333,
              "#9c179e"
             ],
             [
              0.4444444444444444,
              "#bd3786"
             ],
             [
              0.5555555555555556,
              "#d8576b"
             ],
             [
              0.6666666666666666,
              "#ed7953"
             ],
             [
              0.7777777777777778,
              "#fb9f3a"
             ],
             [
              0.8888888888888888,
              "#fdca26"
             ],
             [
              1,
              "#f0f921"
             ]
            ],
            "type": "surface"
           }
          ],
          "table": [
           {
            "cells": {
             "fill": {
              "color": "#EBF0F8"
             },
             "line": {
              "color": "white"
             }
            },
            "header": {
             "fill": {
              "color": "#C8D4E3"
             },
             "line": {
              "color": "white"
             }
            },
            "type": "table"
           }
          ]
         },
         "layout": {
          "annotationdefaults": {
           "arrowcolor": "#2a3f5f",
           "arrowhead": 0,
           "arrowwidth": 1
          },
          "autotypenumbers": "strict",
          "coloraxis": {
           "colorbar": {
            "outlinewidth": 0,
            "ticks": ""
           }
          },
          "colorscale": {
           "diverging": [
            [
             0,
             "#8e0152"
            ],
            [
             0.1,
             "#c51b7d"
            ],
            [
             0.2,
             "#de77ae"
            ],
            [
             0.3,
             "#f1b6da"
            ],
            [
             0.4,
             "#fde0ef"
            ],
            [
             0.5,
             "#f7f7f7"
            ],
            [
             0.6,
             "#e6f5d0"
            ],
            [
             0.7,
             "#b8e186"
            ],
            [
             0.8,
             "#7fbc41"
            ],
            [
             0.9,
             "#4d9221"
            ],
            [
             1,
             "#276419"
            ]
           ],
           "sequential": [
            [
             0,
             "#0d0887"
            ],
            [
             0.1111111111111111,
             "#46039f"
            ],
            [
             0.2222222222222222,
             "#7201a8"
            ],
            [
             0.3333333333333333,
             "#9c179e"
            ],
            [
             0.4444444444444444,
             "#bd3786"
            ],
            [
             0.5555555555555556,
             "#d8576b"
            ],
            [
             0.6666666666666666,
             "#ed7953"
            ],
            [
             0.7777777777777778,
             "#fb9f3a"
            ],
            [
             0.8888888888888888,
             "#fdca26"
            ],
            [
             1,
             "#f0f921"
            ]
           ],
           "sequentialminus": [
            [
             0,
             "#0d0887"
            ],
            [
             0.1111111111111111,
             "#46039f"
            ],
            [
             0.2222222222222222,
             "#7201a8"
            ],
            [
             0.3333333333333333,
             "#9c179e"
            ],
            [
             0.4444444444444444,
             "#bd3786"
            ],
            [
             0.5555555555555556,
             "#d8576b"
            ],
            [
             0.6666666666666666,
             "#ed7953"
            ],
            [
             0.7777777777777778,
             "#fb9f3a"
            ],
            [
             0.8888888888888888,
             "#fdca26"
            ],
            [
             1,
             "#f0f921"
            ]
           ]
          },
          "colorway": [
           "#636efa",
           "#EF553B",
           "#00cc96",
           "#ab63fa",
           "#FFA15A",
           "#19d3f3",
           "#FF6692",
           "#B6E880",
           "#FF97FF",
           "#FECB52"
          ],
          "font": {
           "color": "#2a3f5f"
          },
          "geo": {
           "bgcolor": "white",
           "lakecolor": "white",
           "landcolor": "#E5ECF6",
           "showlakes": true,
           "showland": true,
           "subunitcolor": "white"
          },
          "hoverlabel": {
           "align": "left"
          },
          "hovermode": "closest",
          "mapbox": {
           "style": "light"
          },
          "paper_bgcolor": "white",
          "plot_bgcolor": "#E5ECF6",
          "polar": {
           "angularaxis": {
            "gridcolor": "white",
            "linecolor": "white",
            "ticks": ""
           },
           "bgcolor": "#E5ECF6",
           "radialaxis": {
            "gridcolor": "white",
            "linecolor": "white",
            "ticks": ""
           }
          },
          "scene": {
           "xaxis": {
            "backgroundcolor": "#E5ECF6",
            "gridcolor": "white",
            "gridwidth": 2,
            "linecolor": "white",
            "showbackground": true,
            "ticks": "",
            "zerolinecolor": "white"
           },
           "yaxis": {
            "backgroundcolor": "#E5ECF6",
            "gridcolor": "white",
            "gridwidth": 2,
            "linecolor": "white",
            "showbackground": true,
            "ticks": "",
            "zerolinecolor": "white"
           },
           "zaxis": {
            "backgroundcolor": "#E5ECF6",
            "gridcolor": "white",
            "gridwidth": 2,
            "linecolor": "white",
            "showbackground": true,
            "ticks": "",
            "zerolinecolor": "white"
           }
          },
          "shapedefaults": {
           "line": {
            "color": "#2a3f5f"
           }
          },
          "ternary": {
           "aaxis": {
            "gridcolor": "white",
            "linecolor": "white",
            "ticks": ""
           },
           "baxis": {
            "gridcolor": "white",
            "linecolor": "white",
            "ticks": ""
           },
           "bgcolor": "#E5ECF6",
           "caxis": {
            "gridcolor": "white",
            "linecolor": "white",
            "ticks": ""
           }
          },
          "title": {
           "x": 0.05
          },
          "xaxis": {
           "automargin": true,
           "gridcolor": "white",
           "linecolor": "white",
           "ticks": "",
           "title": {
            "standoff": 15
           },
           "zerolinecolor": "white",
           "zerolinewidth": 2
          },
          "yaxis": {
           "automargin": true,
           "gridcolor": "white",
           "linecolor": "white",
           "ticks": "",
           "title": {
            "standoff": 15
           },
           "zerolinecolor": "white",
           "zerolinewidth": 2
          }
         }
        },
        "xaxis": {
         "anchor": "y",
         "domain": [
          0,
          1
         ],
         "type": "date"
        },
        "yaxis": {
         "anchor": "x",
         "domain": [
          0,
          1
         ],
         "title": {
          "text": "Machine"
         }
        }
       }
      }
     },
     "metadata": {},
     "output_type": "display_data"
    },
    {
     "name": "stdout",
     "output_type": "stream",
     "text": [
      "finished! no legal actions possible after 131 steps\n"
     ]
    },
    {
     "data": {
      "application/vnd.plotly.v1+json": {
       "config": {
        "plotlyServerURL": "https://plot.ly"
       },
       "data": [
        {
         "alignmentgroup": "True",
         "base": [
          "2022-01-01T00:00:01",
          "2022-01-01T00:07:24",
          "2022-01-01T00:09:49",
          "2022-01-01T00:02:50",
          "2022-01-01T00:13:46",
          "2022-01-01T00:16:26",
          "2022-01-01T00:01:35",
          "2022-01-01T00:04:11",
          "2022-01-01T00:18:57",
          "2022-01-01T00:21:17"
         ],
         "hovertemplate": "Job=job_09<br>Start=%{base}<br>Finish=%{x}<br>Machine=%{y}<extra></extra>",
         "legendgroup": "job_09",
         "marker": {
          "color": "#636efa",
          "pattern": {
           "shape": ""
          }
         },
         "name": "job_09",
         "offsetgroup": "job_09",
         "orientation": "h",
         "showlegend": true,
         "textposition": "auto",
         "type": "bar",
         "x": [
          93000,
          65000,
          89000,
          80000,
          75000,
          57000,
          70000,
          84000,
          92000,
          96000
         ],
         "xaxis": "x",
         "y": [
          "machine_01",
          "machine_02",
          "machine_03",
          "machine_04",
          "machine_05",
          "machine_06",
          "machine_07",
          "machine_08",
          "machine_09",
          "machine_10"
         ],
         "yaxis": "y"
        },
        {
         "alignmentgroup": "True",
         "base": [
          "2022-01-01T00:02:25",
          "2022-01-01T00:03:56",
          "2022-01-01T00:15:46",
          "2022-01-01T00:01:10",
          "2022-01-01T00:11:00",
          "2022-01-01T00:14:19",
          "2022-01-01T00:09:08",
          "2022-01-01T00:06:36",
          "2022-01-01T00:05:29",
          "2022-01-01T00:07:32"
         ],
         "hovertemplate": "Job=job_10<br>Start=%{base}<br>Finish=%{x}<br>Machine=%{y}<extra></extra>",
         "legendgroup": "job_10",
         "marker": {
          "color": "#EF553B",
          "pattern": {
           "shape": ""
          }
         },
         "name": "job_10",
         "offsetgroup": "job_10",
         "orientation": "h",
         "showlegend": true,
         "textposition": "auto",
         "type": "bar",
         "x": [
          58000,
          81000,
          95000,
          49000,
          80000,
          58000,
          57000,
          55000,
          66000,
          95000
         ],
         "xaxis": "x",
         "y": [
          "machine_01",
          "machine_02",
          "machine_03",
          "machine_04",
          "machine_05",
          "machine_06",
          "machine_07",
          "machine_08",
          "machine_09",
          "machine_10"
         ],
         "yaxis": "y"
        },
        {
         "alignmentgroup": "True",
         "base": [
          "2022-01-01T00:03:24",
          "2022-01-01T00:06:19",
          "2022-01-01T00:18:28",
          "2022-01-01T00:19:58",
          "2022-01-01T00:12:21",
          "2022-01-01T00:08:42",
          "2022-01-01T00:07:24",
          "2022-01-01T00:10:07",
          "2022-01-01T00:01:24",
          "2022-01-01T00:00:01"
         ],
         "hovertemplate": "Job=job_03<br>Start=%{base}<br>Finish=%{x}<br>Machine=%{y}<extra></extra>",
         "legendgroup": "job_03",
         "marker": {
          "color": "#00cc96",
          "pattern": {
           "shape": ""
          }
         },
         "name": "job_03",
         "offsetgroup": "job_03",
         "orientation": "h",
         "showlegend": true,
         "textposition": "auto",
         "type": "bar",
         "x": [
          82000,
          64000,
          54000,
          76000,
          84000,
          84000,
          63000,
          77000,
          60000,
          82000
         ],
         "xaxis": "x",
         "y": [
          "machine_01",
          "machine_02",
          "machine_03",
          "machine_04",
          "machine_05",
          "machine_06",
          "machine_07",
          "machine_08",
          "machine_09",
          "machine_10"
         ],
         "yaxis": "y"
        },
        {
         "alignmentgroup": "True",
         "base": [
          "2022-01-01T00:08:11",
          "2022-01-01T00:21:05",
          "2022-01-01T00:11:19",
          "2022-01-01T00:00:01",
          "2022-01-01T00:03:07",
          "2022-01-01T00:15:18",
          "2022-01-01T00:12:37",
          "2022-01-01T00:19:58",
          "2022-01-01T00:06:36",
          "2022-01-01T00:04:35"
         ],
         "hovertemplate": "Job=job_05<br>Start=%{base}<br>Finish=%{x}<br>Machine=%{y}<extra></extra>",
         "legendgroup": "job_05",
         "marker": {
          "color": "#ab63fa",
          "pattern": {
           "shape": ""
          }
         },
         "name": "job_05",
         "offsetgroup": "job_05",
         "orientation": "h",
         "showlegend": true,
         "textposition": "auto",
         "type": "bar",
         "x": [
          98000,
          85000,
          66000,
          68000,
          87000,
          67000,
          94000,
          66000,
          94000,
          81000
         ],
         "xaxis": "x",
         "y": [
          "machine_01",
          "machine_02",
          "machine_03",
          "machine_04",
          "machine_05",
          "machine_06",
          "machine_07",
          "machine_08",
          "machine_09",
          "machine_10"
         ],
         "yaxis": "y"
        },
        {
         "alignmentgroup": "True",
         "base": [
          "2022-01-01T00:09:50",
          "2022-01-01T00:00:51",
          "2022-01-01T00:17:22",
          "2022-01-01T00:07:27",
          "2022-01-01T00:05:50",
          "2022-01-01T00:18:28",
          "2022-01-01T00:20:07",
          "2022-01-01T00:00:01",
          "2022-01-01T00:11:25",
          "2022-01-01T00:23:56"
         ],
         "hovertemplate": "Job=job_07<br>Start=%{base}<br>Finish=%{x}<br>Machine=%{y}<extra></extra>",
         "legendgroup": "job_07",
         "marker": {
          "color": "#FFA15A",
          "pattern": {
           "shape": ""
          }
         },
         "name": "job_07",
         "offsetgroup": "job_07",
         "orientation": "h",
         "showlegend": true,
         "textposition": "auto",
         "type": "bar",
         "x": [
          94000,
          85000,
          65000,
          95000,
          96000,
          98000,
          51000,
          49000,
          96000,
          70000
         ],
         "xaxis": "x",
         "y": [
          "machine_01",
          "machine_02",
          "machine_03",
          "machine_04",
          "machine_05",
          "machine_06",
          "machine_07",
          "machine_08",
          "machine_09",
          "machine_10"
         ],
         "yaxis": "y"
        },
        {
         "alignmentgroup": "True",
         "base": [
          "2022-01-01T00:11:25",
          "2022-01-01T00:12:57",
          "2022-01-01T00:06:19",
          "2022-01-01T00:02:00",
          "2022-01-01T00:04:35",
          "2022-01-01T00:00:01",
          "2022-01-01T00:03:07",
          "2022-01-01T00:15:36",
          "2022-01-01T00:08:11",
          "2022-01-01T00:17:10"
         ],
         "hovertemplate": "Job=job_02<br>Start=%{base}<br>Finish=%{x}<br>Machine=%{y}<extra></extra>",
         "legendgroup": "job_02",
         "marker": {
          "color": "#19d3f3",
          "pattern": {
           "shape": ""
          }
         },
         "name": "job_02",
         "offsetgroup": "job_02",
         "orientation": "h",
         "showlegend": true,
         "textposition": "auto",
         "type": "bar",
         "x": [
          91000,
          81000,
          93000,
          49000,
          74000,
          71000,
          68000,
          93000,
          65000,
          62000
         ],
         "xaxis": "x",
         "y": [
          "machine_01",
          "machine_02",
          "machine_03",
          "machine_04",
          "machine_05",
          "machine_06",
          "machine_07",
          "machine_08",
          "machine_09",
          "machine_10"
         ],
         "yaxis": "y"
        },
        {
         "alignmentgroup": "True",
         "base": [
          "2022-01-01T00:12:57",
          "2022-01-01T00:05:18",
          "2022-01-01T00:02:25",
          "2022-01-01T00:09:06",
          "2022-01-01T00:07:27",
          "2022-01-01T00:11:31",
          "2022-01-01T00:10:06",
          "2022-01-01T00:00:51",
          "2022-01-01T00:15:16",
          "2022-01-01T00:14:13"
         ],
         "hovertemplate": "Job=job_04<br>Start=%{base}<br>Finish=%{x}<br>Machine=%{y}<extra></extra>",
         "legendgroup": "job_04",
         "marker": {
          "color": "#FF6692",
          "pattern": {
           "shape": ""
          }
         },
         "name": "job_04",
         "offsetgroup": "job_04",
         "orientation": "h",
         "showlegend": true,
         "textposition": "auto",
         "type": "bar",
         "x": [
          75000,
          60000,
          67000,
          53000,
          98000,
          65000,
          74000,
          93000,
          66000,
          62000
         ],
         "xaxis": "x",
         "y": [
          "machine_01",
          "machine_02",
          "machine_03",
          "machine_04",
          "machine_05",
          "machine_06",
          "machine_07",
          "machine_08",
          "machine_09",
          "machine_10"
         ],
         "yaxis": "y"
        },
        {
         "alignmentgroup": "True",
         "base": [
          "2022-01-01T00:15:36",
          "2022-01-01T00:09:49",
          "2022-01-01T00:08:11",
          "2022-01-01T00:05:29",
          "2022-01-01T00:01:29",
          "2022-01-01T00:12:37",
          "2022-01-01T00:04:16",
          "2022-01-01T00:14:11",
          "2022-01-01T00:17:22",
          "2022-01-01T00:19:58"
         ],
         "hovertemplate": "Job=job_08<br>Start=%{base}<br>Finish=%{x}<br>Machine=%{y}<extra></extra>",
         "legendgroup": "job_08",
         "marker": {
          "color": "#B6E880",
          "pattern": {
           "shape": ""
          }
         },
         "name": "job_08",
         "offsetgroup": "job_08",
         "orientation": "h",
         "showlegend": true,
         "textposition": "auto",
         "type": "bar",
         "x": [
          61000,
          70000,
          50000,
          81000,
          97000,
          93000,
          72000,
          84000,
          94000,
          78000
         ],
         "xaxis": "x",
         "y": [
          "machine_01",
          "machine_02",
          "machine_03",
          "machine_04",
          "machine_05",
          "machine_06",
          "machine_07",
          "machine_08",
          "machine_09",
          "machine_10"
         ],
         "yaxis": "y"
        },
        {
         "alignmentgroup": "True",
         "base": [
          "2022-01-01T00:18:49",
          "2022-01-01T00:08:42",
          "2022-01-01T00:12:57",
          "2022-01-01T00:21:15",
          "2022-01-01T00:00:01",
          "2022-01-01T00:07:03",
          "2022-01-01T00:05:29",
          "2022-01-01T00:17:10",
          "2022-01-01T00:02:25",
          "2022-01-01T00:15:16"
         ],
         "hovertemplate": "Job=job_01<br>Start=%{base}<br>Finish=%{x}<br>Machine=%{y}<extra></extra>",
         "legendgroup": "job_01",
         "marker": {
          "color": "#FF97FF",
          "pattern": {
           "shape": ""
          }
         },
         "name": "job_01",
         "offsetgroup": "job_01",
         "orientation": "h",
         "showlegend": true,
         "textposition": "auto",
         "type": "bar",
         "x": [
          85000,
          66000,
          88000,
          91000,
          87000,
          98000,
          93000,
          98000,
          67000,
          76000
         ],
         "xaxis": "x",
         "y": [
          "machine_01",
          "machine_02",
          "machine_03",
          "machine_04",
          "machine_05",
          "machine_06",
          "machine_07",
          "machine_08",
          "machine_09",
          "machine_10"
         ],
         "yaxis": "y"
        },
        {
         "alignmentgroup": "True",
         "base": [
          "2022-01-01T00:25:15",
          "2022-01-01T00:02:17",
          "2022-01-01T00:14:26",
          "2022-01-01T00:23:56",
          "2022-01-01T00:09:06",
          "2022-01-01T00:10:27",
          "2022-01-01T00:11:31",
          "2022-01-01T00:18:49",
          "2022-01-01T00:13:02",
          "2022-01-01T00:22:54"
         ],
         "hovertemplate": "Job=job_06<br>Start=%{base}<br>Finish=%{x}<br>Machine=%{y}<extra></extra>",
         "legendgroup": "job_06",
         "marker": {
          "color": "#FECB52",
          "pattern": {
           "shape": ""
          }
         },
         "name": "job_06",
         "offsetgroup": "job_06",
         "orientation": "h",
         "showlegend": true,
         "textposition": "auto",
         "type": "bar",
         "x": [
          87000,
          98000,
          79000,
          78000,
          80000,
          63000,
          65000,
          68000,
          79000,
          61000
         ],
         "xaxis": "x",
         "y": [
          "machine_01",
          "machine_02",
          "machine_03",
          "machine_04",
          "machine_05",
          "machine_06",
          "machine_07",
          "machine_08",
          "machine_09",
          "machine_10"
         ],
         "yaxis": "y"
        }
       ],
       "layout": {
        "barmode": "overlay",
        "legend": {
         "title": {
          "text": "Job"
         },
         "tracegroupgap": 0
        },
        "margin": {
         "t": 60
        },
        "template": {
         "data": {
          "bar": [
           {
            "error_x": {
             "color": "#2a3f5f"
            },
            "error_y": {
             "color": "#2a3f5f"
            },
            "marker": {
             "line": {
              "color": "#E5ECF6",
              "width": 0.5
             },
             "pattern": {
              "fillmode": "overlay",
              "size": 10,
              "solidity": 0.2
             }
            },
            "type": "bar"
           }
          ],
          "barpolar": [
           {
            "marker": {
             "line": {
              "color": "#E5ECF6",
              "width": 0.5
             },
             "pattern": {
              "fillmode": "overlay",
              "size": 10,
              "solidity": 0.2
             }
            },
            "type": "barpolar"
           }
          ],
          "carpet": [
           {
            "aaxis": {
             "endlinecolor": "#2a3f5f",
             "gridcolor": "white",
             "linecolor": "white",
             "minorgridcolor": "white",
             "startlinecolor": "#2a3f5f"
            },
            "baxis": {
             "endlinecolor": "#2a3f5f",
             "gridcolor": "white",
             "linecolor": "white",
             "minorgridcolor": "white",
             "startlinecolor": "#2a3f5f"
            },
            "type": "carpet"
           }
          ],
          "choropleth": [
           {
            "colorbar": {
             "outlinewidth": 0,
             "ticks": ""
            },
            "type": "choropleth"
           }
          ],
          "contour": [
           {
            "colorbar": {
             "outlinewidth": 0,
             "ticks": ""
            },
            "colorscale": [
             [
              0,
              "#0d0887"
             ],
             [
              0.1111111111111111,
              "#46039f"
             ],
             [
              0.2222222222222222,
              "#7201a8"
             ],
             [
              0.3333333333333333,
              "#9c179e"
             ],
             [
              0.4444444444444444,
              "#bd3786"
             ],
             [
              0.5555555555555556,
              "#d8576b"
             ],
             [
              0.6666666666666666,
              "#ed7953"
             ],
             [
              0.7777777777777778,
              "#fb9f3a"
             ],
             [
              0.8888888888888888,
              "#fdca26"
             ],
             [
              1,
              "#f0f921"
             ]
            ],
            "type": "contour"
           }
          ],
          "contourcarpet": [
           {
            "colorbar": {
             "outlinewidth": 0,
             "ticks": ""
            },
            "type": "contourcarpet"
           }
          ],
          "heatmap": [
           {
            "colorbar": {
             "outlinewidth": 0,
             "ticks": ""
            },
            "colorscale": [
             [
              0,
              "#0d0887"
             ],
             [
              0.1111111111111111,
              "#46039f"
             ],
             [
              0.2222222222222222,
              "#7201a8"
             ],
             [
              0.3333333333333333,
              "#9c179e"
             ],
             [
              0.4444444444444444,
              "#bd3786"
             ],
             [
              0.5555555555555556,
              "#d8576b"
             ],
             [
              0.6666666666666666,
              "#ed7953"
             ],
             [
              0.7777777777777778,
              "#fb9f3a"
             ],
             [
              0.8888888888888888,
              "#fdca26"
             ],
             [
              1,
              "#f0f921"
             ]
            ],
            "type": "heatmap"
           }
          ],
          "heatmapgl": [
           {
            "colorbar": {
             "outlinewidth": 0,
             "ticks": ""
            },
            "colorscale": [
             [
              0,
              "#0d0887"
             ],
             [
              0.1111111111111111,
              "#46039f"
             ],
             [
              0.2222222222222222,
              "#7201a8"
             ],
             [
              0.3333333333333333,
              "#9c179e"
             ],
             [
              0.4444444444444444,
              "#bd3786"
             ],
             [
              0.5555555555555556,
              "#d8576b"
             ],
             [
              0.6666666666666666,
              "#ed7953"
             ],
             [
              0.7777777777777778,
              "#fb9f3a"
             ],
             [
              0.8888888888888888,
              "#fdca26"
             ],
             [
              1,
              "#f0f921"
             ]
            ],
            "type": "heatmapgl"
           }
          ],
          "histogram": [
           {
            "marker": {
             "pattern": {
              "fillmode": "overlay",
              "size": 10,
              "solidity": 0.2
             }
            },
            "type": "histogram"
           }
          ],
          "histogram2d": [
           {
            "colorbar": {
             "outlinewidth": 0,
             "ticks": ""
            },
            "colorscale": [
             [
              0,
              "#0d0887"
             ],
             [
              0.1111111111111111,
              "#46039f"
             ],
             [
              0.2222222222222222,
              "#7201a8"
             ],
             [
              0.3333333333333333,
              "#9c179e"
             ],
             [
              0.4444444444444444,
              "#bd3786"
             ],
             [
              0.5555555555555556,
              "#d8576b"
             ],
             [
              0.6666666666666666,
              "#ed7953"
             ],
             [
              0.7777777777777778,
              "#fb9f3a"
             ],
             [
              0.8888888888888888,
              "#fdca26"
             ],
             [
              1,
              "#f0f921"
             ]
            ],
            "type": "histogram2d"
           }
          ],
          "histogram2dcontour": [
           {
            "colorbar": {
             "outlinewidth": 0,
             "ticks": ""
            },
            "colorscale": [
             [
              0,
              "#0d0887"
             ],
             [
              0.1111111111111111,
              "#46039f"
             ],
             [
              0.2222222222222222,
              "#7201a8"
             ],
             [
              0.3333333333333333,
              "#9c179e"
             ],
             [
              0.4444444444444444,
              "#bd3786"
             ],
             [
              0.5555555555555556,
              "#d8576b"
             ],
             [
              0.6666666666666666,
              "#ed7953"
             ],
             [
              0.7777777777777778,
              "#fb9f3a"
             ],
             [
              0.8888888888888888,
              "#fdca26"
             ],
             [
              1,
              "#f0f921"
             ]
            ],
            "type": "histogram2dcontour"
           }
          ],
          "mesh3d": [
           {
            "colorbar": {
             "outlinewidth": 0,
             "ticks": ""
            },
            "type": "mesh3d"
           }
          ],
          "parcoords": [
           {
            "line": {
             "colorbar": {
              "outlinewidth": 0,
              "ticks": ""
             }
            },
            "type": "parcoords"
           }
          ],
          "pie": [
           {
            "automargin": true,
            "type": "pie"
           }
          ],
          "scatter": [
           {
            "fillpattern": {
             "fillmode": "overlay",
             "size": 10,
             "solidity": 0.2
            },
            "type": "scatter"
           }
          ],
          "scatter3d": [
           {
            "line": {
             "colorbar": {
              "outlinewidth": 0,
              "ticks": ""
             }
            },
            "marker": {
             "colorbar": {
              "outlinewidth": 0,
              "ticks": ""
             }
            },
            "type": "scatter3d"
           }
          ],
          "scattercarpet": [
           {
            "marker": {
             "colorbar": {
              "outlinewidth": 0,
              "ticks": ""
             }
            },
            "type": "scattercarpet"
           }
          ],
          "scattergeo": [
           {
            "marker": {
             "colorbar": {
              "outlinewidth": 0,
              "ticks": ""
             }
            },
            "type": "scattergeo"
           }
          ],
          "scattergl": [
           {
            "marker": {
             "colorbar": {
              "outlinewidth": 0,
              "ticks": ""
             }
            },
            "type": "scattergl"
           }
          ],
          "scattermapbox": [
           {
            "marker": {
             "colorbar": {
              "outlinewidth": 0,
              "ticks": ""
             }
            },
            "type": "scattermapbox"
           }
          ],
          "scatterpolar": [
           {
            "marker": {
             "colorbar": {
              "outlinewidth": 0,
              "ticks": ""
             }
            },
            "type": "scatterpolar"
           }
          ],
          "scatterpolargl": [
           {
            "marker": {
             "colorbar": {
              "outlinewidth": 0,
              "ticks": ""
             }
            },
            "type": "scatterpolargl"
           }
          ],
          "scatterternary": [
           {
            "marker": {
             "colorbar": {
              "outlinewidth": 0,
              "ticks": ""
             }
            },
            "type": "scatterternary"
           }
          ],
          "surface": [
           {
            "colorbar": {
             "outlinewidth": 0,
             "ticks": ""
            },
            "colorscale": [
             [
              0,
              "#0d0887"
             ],
             [
              0.1111111111111111,
              "#46039f"
             ],
             [
              0.2222222222222222,
              "#7201a8"
             ],
             [
              0.3333333333333333,
              "#9c179e"
             ],
             [
              0.4444444444444444,
              "#bd3786"
             ],
             [
              0.5555555555555556,
              "#d8576b"
             ],
             [
              0.6666666666666666,
              "#ed7953"
             ],
             [
              0.7777777777777778,
              "#fb9f3a"
             ],
             [
              0.8888888888888888,
              "#fdca26"
             ],
             [
              1,
              "#f0f921"
             ]
            ],
            "type": "surface"
           }
          ],
          "table": [
           {
            "cells": {
             "fill": {
              "color": "#EBF0F8"
             },
             "line": {
              "color": "white"
             }
            },
            "header": {
             "fill": {
              "color": "#C8D4E3"
             },
             "line": {
              "color": "white"
             }
            },
            "type": "table"
           }
          ]
         },
         "layout": {
          "annotationdefaults": {
           "arrowcolor": "#2a3f5f",
           "arrowhead": 0,
           "arrowwidth": 1
          },
          "autotypenumbers": "strict",
          "coloraxis": {
           "colorbar": {
            "outlinewidth": 0,
            "ticks": ""
           }
          },
          "colorscale": {
           "diverging": [
            [
             0,
             "#8e0152"
            ],
            [
             0.1,
             "#c51b7d"
            ],
            [
             0.2,
             "#de77ae"
            ],
            [
             0.3,
             "#f1b6da"
            ],
            [
             0.4,
             "#fde0ef"
            ],
            [
             0.5,
             "#f7f7f7"
            ],
            [
             0.6,
             "#e6f5d0"
            ],
            [
             0.7,
             "#b8e186"
            ],
            [
             0.8,
             "#7fbc41"
            ],
            [
             0.9,
             "#4d9221"
            ],
            [
             1,
             "#276419"
            ]
           ],
           "sequential": [
            [
             0,
             "#0d0887"
            ],
            [
             0.1111111111111111,
             "#46039f"
            ],
            [
             0.2222222222222222,
             "#7201a8"
            ],
            [
             0.3333333333333333,
             "#9c179e"
            ],
            [
             0.4444444444444444,
             "#bd3786"
            ],
            [
             0.5555555555555556,
             "#d8576b"
            ],
            [
             0.6666666666666666,
             "#ed7953"
            ],
            [
             0.7777777777777778,
             "#fb9f3a"
            ],
            [
             0.8888888888888888,
             "#fdca26"
            ],
            [
             1,
             "#f0f921"
            ]
           ],
           "sequentialminus": [
            [
             0,
             "#0d0887"
            ],
            [
             0.1111111111111111,
             "#46039f"
            ],
            [
             0.2222222222222222,
             "#7201a8"
            ],
            [
             0.3333333333333333,
             "#9c179e"
            ],
            [
             0.4444444444444444,
             "#bd3786"
            ],
            [
             0.5555555555555556,
             "#d8576b"
            ],
            [
             0.6666666666666666,
             "#ed7953"
            ],
            [
             0.7777777777777778,
             "#fb9f3a"
            ],
            [
             0.8888888888888888,
             "#fdca26"
            ],
            [
             1,
             "#f0f921"
            ]
           ]
          },
          "colorway": [
           "#636efa",
           "#EF553B",
           "#00cc96",
           "#ab63fa",
           "#FFA15A",
           "#19d3f3",
           "#FF6692",
           "#B6E880",
           "#FF97FF",
           "#FECB52"
          ],
          "font": {
           "color": "#2a3f5f"
          },
          "geo": {
           "bgcolor": "white",
           "lakecolor": "white",
           "landcolor": "#E5ECF6",
           "showlakes": true,
           "showland": true,
           "subunitcolor": "white"
          },
          "hoverlabel": {
           "align": "left"
          },
          "hovermode": "closest",
          "mapbox": {
           "style": "light"
          },
          "paper_bgcolor": "white",
          "plot_bgcolor": "#E5ECF6",
          "polar": {
           "angularaxis": {
            "gridcolor": "white",
            "linecolor": "white",
            "ticks": ""
           },
           "bgcolor": "#E5ECF6",
           "radialaxis": {
            "gridcolor": "white",
            "linecolor": "white",
            "ticks": ""
           }
          },
          "scene": {
           "xaxis": {
            "backgroundcolor": "#E5ECF6",
            "gridcolor": "white",
            "gridwidth": 2,
            "linecolor": "white",
            "showbackground": true,
            "ticks": "",
            "zerolinecolor": "white"
           },
           "yaxis": {
            "backgroundcolor": "#E5ECF6",
            "gridcolor": "white",
            "gridwidth": 2,
            "linecolor": "white",
            "showbackground": true,
            "ticks": "",
            "zerolinecolor": "white"
           },
           "zaxis": {
            "backgroundcolor": "#E5ECF6",
            "gridcolor": "white",
            "gridwidth": 2,
            "linecolor": "white",
            "showbackground": true,
            "ticks": "",
            "zerolinecolor": "white"
           }
          },
          "shapedefaults": {
           "line": {
            "color": "#2a3f5f"
           }
          },
          "ternary": {
           "aaxis": {
            "gridcolor": "white",
            "linecolor": "white",
            "ticks": ""
           },
           "baxis": {
            "gridcolor": "white",
            "linecolor": "white",
            "ticks": ""
           },
           "bgcolor": "#E5ECF6",
           "caxis": {
            "gridcolor": "white",
            "linecolor": "white",
            "ticks": ""
           }
          },
          "title": {
           "x": 0.05
          },
          "xaxis": {
           "automargin": true,
           "gridcolor": "white",
           "linecolor": "white",
           "ticks": "",
           "title": {
            "standoff": 15
           },
           "zerolinecolor": "white",
           "zerolinewidth": 2
          },
          "yaxis": {
           "automargin": true,
           "gridcolor": "white",
           "linecolor": "white",
           "ticks": "",
           "title": {
            "standoff": 15
           },
           "zerolinecolor": "white",
           "zerolinewidth": 2
          }
         }
        },
        "xaxis": {
         "anchor": "y",
         "domain": [
          0,
          1
         ],
         "type": "date"
        },
        "yaxis": {
         "anchor": "x",
         "domain": [
          0,
          1
         ],
         "title": {
          "text": "Machine"
         }
        }
       }
      }
     },
     "metadata": {},
     "output_type": "display_data"
    },
    {
     "name": "stdout",
     "output_type": "stream",
     "text": [
      "finished! no legal actions possible after 138 steps\n"
     ]
    },
    {
     "data": {
      "application/vnd.plotly.v1+json": {
       "config": {
        "plotlyServerURL": "https://plot.ly"
       },
       "data": [
        {
         "alignmentgroup": "True",
         "base": [
          "2022-01-01T00:00:01",
          "2022-01-01T00:07:50",
          "2022-01-01T00:08:59",
          "2022-01-01T00:02:53",
          "2022-01-01T00:12:05",
          "2022-01-01T00:14:20",
          "2022-01-01T00:01:35",
          "2022-01-01T00:04:14",
          "2022-01-01T00:15:18",
          "2022-01-01T00:16:51"
         ],
         "hovertemplate": "Job=job_09<br>Start=%{base}<br>Finish=%{x}<br>Machine=%{y}<extra></extra>",
         "legendgroup": "job_09",
         "marker": {
          "color": "#636efa",
          "pattern": {
           "shape": ""
          }
         },
         "name": "job_09",
         "offsetgroup": "job_09",
         "orientation": "h",
         "showlegend": true,
         "textposition": "auto",
         "type": "bar",
         "x": [
          93000,
          65000,
          89000,
          80000,
          75000,
          57000,
          70000,
          84000,
          92000,
          96000
         ],
         "xaxis": "x",
         "y": [
          "machine_01",
          "machine_02",
          "machine_03",
          "machine_04",
          "machine_05",
          "machine_06",
          "machine_07",
          "machine_08",
          "machine_09",
          "machine_10"
         ],
         "yaxis": "y"
        },
        {
         "alignmentgroup": "True",
         "base": [
          "2022-01-01T00:02:25",
          "2022-01-01T00:04:09",
          "2022-01-01T00:14:44",
          "2022-01-01T00:01:13",
          "2022-01-01T00:10:44",
          "2022-01-01T00:13:21",
          "2022-01-01T00:09:10",
          "2022-01-01T00:06:38",
          "2022-01-01T00:05:31",
          "2022-01-01T00:07:34"
         ],
         "hovertemplate": "Job=job_10<br>Start=%{base}<br>Finish=%{x}<br>Machine=%{y}<extra></extra>",
         "legendgroup": "job_10",
         "marker": {
          "color": "#EF553B",
          "pattern": {
           "shape": ""
          }
         },
         "name": "job_10",
         "offsetgroup": "job_10",
         "orientation": "h",
         "showlegend": true,
         "textposition": "auto",
         "type": "bar",
         "x": [
          58000,
          81000,
          95000,
          49000,
          80000,
          58000,
          57000,
          55000,
          66000,
          95000
         ],
         "xaxis": "x",
         "y": [
          "machine_01",
          "machine_02",
          "machine_03",
          "machine_04",
          "machine_05",
          "machine_06",
          "machine_07",
          "machine_08",
          "machine_09",
          "machine_10"
         ],
         "yaxis": "y"
        },
        {
         "alignmentgroup": "True",
         "base": [
          "2022-01-01T00:03:24",
          "2022-01-01T00:05:39",
          "2022-01-01T00:17:49",
          "2022-01-01T00:18:44",
          "2022-01-01T00:13:21",
          "2022-01-01T00:08:59",
          "2022-01-01T00:07:55",
          "2022-01-01T00:10:24",
          "2022-01-01T00:01:24",
          "2022-01-01T00:00:01"
         ],
         "hovertemplate": "Job=job_03<br>Start=%{base}<br>Finish=%{x}<br>Machine=%{y}<extra></extra>",
         "legendgroup": "job_03",
         "marker": {
          "color": "#00cc96",
          "pattern": {
           "shape": ""
          }
         },
         "name": "job_03",
         "offsetgroup": "job_03",
         "orientation": "h",
         "showlegend": true,
         "textposition": "auto",
         "type": "bar",
         "x": [
          82000,
          64000,
          54000,
          76000,
          84000,
          84000,
          63000,
          77000,
          60000,
          82000
         ],
         "xaxis": "x",
         "y": [
          "machine_01",
          "machine_02",
          "machine_03",
          "machine_04",
          "machine_05",
          "machine_06",
          "machine_07",
          "machine_08",
          "machine_09",
          "machine_10"
         ],
         "yaxis": "y"
        },
        {
         "alignmentgroup": "True",
         "base": [
          "2022-01-01T00:08:13",
          "2022-01-01T00:02:43",
          "2022-01-01T00:13:38",
          "2022-01-01T00:06:37",
          "2022-01-01T00:04:39",
          "2022-01-01T00:16:24",
          "2022-01-01T00:18:03",
          "2022-01-01T00:01:35",
          "2022-01-01T00:10:08",
          "2022-01-01T00:19:15"
         ],
         "hovertemplate": "Job=job_07<br>Start=%{base}<br>Finish=%{x}<br>Machine=%{y}<extra></extra>",
         "legendgroup": "job_07",
         "marker": {
          "color": "#ab63fa",
          "pattern": {
           "shape": ""
          }
         },
         "name": "job_07",
         "offsetgroup": "job_07",
         "orientation": "h",
         "showlegend": true,
         "textposition": "auto",
         "type": "bar",
         "x": [
          94000,
          85000,
          65000,
          95000,
          96000,
          98000,
          51000,
          49000,
          96000,
          70000
         ],
         "xaxis": "x",
         "y": [
          "machine_01",
          "machine_02",
          "machine_03",
          "machine_04",
          "machine_05",
          "machine_06",
          "machine_07",
          "machine_08",
          "machine_09",
          "machine_10"
         ],
         "yaxis": "y"
        },
        {
         "alignmentgroup": "True",
         "base": [
          "2022-01-01T00:13:20",
          "2022-01-01T00:25:20",
          "2022-01-01T00:18:44",
          "2022-01-01T00:00:01",
          "2022-01-01T00:06:16",
          "2022-01-01T00:21:26",
          "2022-01-01T00:19:51",
          "2022-01-01T00:24:13",
          "2022-01-01T00:11:45",
          "2022-01-01T00:09:10"
         ],
         "hovertemplate": "Job=job_05<br>Start=%{base}<br>Finish=%{x}<br>Machine=%{y}<extra></extra>",
         "legendgroup": "job_05",
         "marker": {
          "color": "#FFA15A",
          "pattern": {
           "shape": ""
          }
         },
         "name": "job_05",
         "offsetgroup": "job_05",
         "orientation": "h",
         "showlegend": true,
         "textposition": "auto",
         "type": "bar",
         "x": [
          98000,
          85000,
          66000,
          68000,
          87000,
          67000,
          94000,
          66000,
          94000,
          81000
         ],
         "xaxis": "x",
         "y": [
          "machine_01",
          "machine_02",
          "machine_03",
          "machine_04",
          "machine_05",
          "machine_06",
          "machine_07",
          "machine_08",
          "machine_09",
          "machine_10"
         ],
         "yaxis": "y"
        },
        {
         "alignmentgroup": "True",
         "base": [
          "2022-01-01T00:14:59",
          "2022-01-01T00:16:31",
          "2022-01-01T00:12:04",
          "2022-01-01T00:02:03",
          "2022-01-01T00:09:29",
          "2022-01-01T00:00:01",
          "2022-01-01T00:02:53",
          "2022-01-01T00:17:53",
          "2022-01-01T00:13:38",
          "2022-01-01T00:21:43"
         ],
         "hovertemplate": "Job=job_02<br>Start=%{base}<br>Finish=%{x}<br>Machine=%{y}<extra></extra>",
         "legendgroup": "job_02",
         "marker": {
          "color": "#19d3f3",
          "pattern": {
           "shape": ""
          }
         },
         "name": "job_02",
         "offsetgroup": "job_02",
         "orientation": "h",
         "showlegend": true,
         "textposition": "auto",
         "type": "bar",
         "x": [
          91000,
          81000,
          93000,
          49000,
          74000,
          71000,
          68000,
          93000,
          65000,
          62000
         ],
         "xaxis": "x",
         "y": [
          "machine_01",
          "machine_02",
          "machine_03",
          "machine_04",
          "machine_05",
          "machine_06",
          "machine_07",
          "machine_08",
          "machine_09",
          "machine_10"
         ],
         "yaxis": "y"
        },
        {
         "alignmentgroup": "True",
         "base": [
          "2022-01-01T00:16:31",
          "2022-01-01T00:06:49",
          "2022-01-01T00:01:35",
          "2022-01-01T00:09:29",
          "2022-01-01T00:07:50",
          "2022-01-01T00:15:18",
          "2022-01-01T00:10:23",
          "2022-01-01T00:00:01",
          "2022-01-01T00:23:49",
          "2022-01-01T00:22:46"
         ],
         "hovertemplate": "Job=job_04<br>Start=%{base}<br>Finish=%{x}<br>Machine=%{y}<extra></extra>",
         "legendgroup": "job_04",
         "marker": {
          "color": "#FF6692",
          "pattern": {
           "shape": ""
          }
         },
         "name": "job_04",
         "offsetgroup": "job_04",
         "orientation": "h",
         "showlegend": true,
         "textposition": "auto",
         "type": "bar",
         "x": [
          75000,
          60000,
          67000,
          53000,
          98000,
          65000,
          74000,
          93000,
          66000,
          62000
         ],
         "xaxis": "x",
         "y": [
          "machine_01",
          "machine_02",
          "machine_03",
          "machine_04",
          "machine_05",
          "machine_06",
          "machine_07",
          "machine_08",
          "machine_09",
          "machine_10"
         ],
         "yaxis": "y"
        },
        {
         "alignmentgroup": "True",
         "base": [
          "2022-01-01T00:17:47",
          "2022-01-01T00:00:01",
          "2022-01-01T00:10:44",
          "2022-01-01T00:16:24",
          "2022-01-01T00:03:18",
          "2022-01-01T00:04:39",
          "2022-01-01T00:06:49",
          "2022-01-01T00:14:13",
          "2022-01-01T00:07:55",
          "2022-01-01T00:15:22"
         ],
         "hovertemplate": "Job=job_06<br>Start=%{base}<br>Finish=%{x}<br>Machine=%{y}<extra></extra>",
         "legendgroup": "job_06",
         "marker": {
          "color": "#B6E880",
          "pattern": {
           "shape": ""
          }
         },
         "name": "job_06",
         "offsetgroup": "job_06",
         "orientation": "h",
         "showlegend": true,
         "textposition": "auto",
         "type": "bar",
         "x": [
          87000,
          98000,
          79000,
          78000,
          80000,
          63000,
          65000,
          68000,
          79000,
          61000
         ],
         "xaxis": "x",
         "y": [
          "machine_01",
          "machine_02",
          "machine_03",
          "machine_04",
          "machine_05",
          "machine_06",
          "machine_07",
          "machine_08",
          "machine_09",
          "machine_10"
         ],
         "yaxis": "y"
        },
        {
         "alignmentgroup": "True",
         "base": [
          "2022-01-01T00:19:15",
          "2022-01-01T00:10:03",
          "2022-01-01T00:06:37",
          "2022-01-01T00:05:15",
          "2022-01-01T00:01:40",
          "2022-01-01T00:11:14",
          "2022-01-01T00:04:02",
          "2022-01-01T00:12:48",
          "2022-01-01T00:20:17",
          "2022-01-01T00:23:49"
         ],
         "hovertemplate": "Job=job_08<br>Start=%{base}<br>Finish=%{x}<br>Machine=%{y}<extra></extra>",
         "legendgroup": "job_08",
         "marker": {
          "color": "#FF97FF",
          "pattern": {
           "shape": ""
          }
         },
         "name": "job_08",
         "offsetgroup": "job_08",
         "orientation": "h",
         "showlegend": true,
         "textposition": "auto",
         "type": "bar",
         "x": [
          61000,
          70000,
          50000,
          81000,
          97000,
          93000,
          72000,
          84000,
          94000,
          78000
         ],
         "xaxis": "x",
         "y": [
          "machine_01",
          "machine_02",
          "machine_03",
          "machine_04",
          "machine_05",
          "machine_06",
          "machine_07",
          "machine_08",
          "machine_09",
          "machine_10"
         ],
         "yaxis": "y"
        },
        {
         "alignmentgroup": "True",
         "base": [
          "2022-01-01T00:24:13",
          "2022-01-01T00:08:56",
          "2022-01-01T00:16:20",
          "2022-01-01T00:25:39",
          "2022-01-01T00:00:01",
          "2022-01-01T00:06:49",
          "2022-01-01T00:05:15",
          "2022-01-01T00:22:34",
          "2022-01-01T00:02:25",
          "2022-01-01T00:20:26"
         ],
         "hovertemplate": "Job=job_01<br>Start=%{base}<br>Finish=%{x}<br>Machine=%{y}<extra></extra>",
         "legendgroup": "job_01",
         "marker": {
          "color": "#FECB52",
          "pattern": {
           "shape": ""
          }
         },
         "name": "job_01",
         "offsetgroup": "job_01",
         "orientation": "h",
         "showlegend": true,
         "textposition": "auto",
         "type": "bar",
         "x": [
          85000,
          66000,
          88000,
          91000,
          87000,
          98000,
          93000,
          98000,
          67000,
          76000
         ],
         "xaxis": "x",
         "y": [
          "machine_01",
          "machine_02",
          "machine_03",
          "machine_04",
          "machine_05",
          "machine_06",
          "machine_07",
          "machine_08",
          "machine_09",
          "machine_10"
         ],
         "yaxis": "y"
        }
       ],
       "layout": {
        "barmode": "overlay",
        "legend": {
         "title": {
          "text": "Job"
         },
         "tracegroupgap": 0
        },
        "margin": {
         "t": 60
        },
        "template": {
         "data": {
          "bar": [
           {
            "error_x": {
             "color": "#2a3f5f"
            },
            "error_y": {
             "color": "#2a3f5f"
            },
            "marker": {
             "line": {
              "color": "#E5ECF6",
              "width": 0.5
             },
             "pattern": {
              "fillmode": "overlay",
              "size": 10,
              "solidity": 0.2
             }
            },
            "type": "bar"
           }
          ],
          "barpolar": [
           {
            "marker": {
             "line": {
              "color": "#E5ECF6",
              "width": 0.5
             },
             "pattern": {
              "fillmode": "overlay",
              "size": 10,
              "solidity": 0.2
             }
            },
            "type": "barpolar"
           }
          ],
          "carpet": [
           {
            "aaxis": {
             "endlinecolor": "#2a3f5f",
             "gridcolor": "white",
             "linecolor": "white",
             "minorgridcolor": "white",
             "startlinecolor": "#2a3f5f"
            },
            "baxis": {
             "endlinecolor": "#2a3f5f",
             "gridcolor": "white",
             "linecolor": "white",
             "minorgridcolor": "white",
             "startlinecolor": "#2a3f5f"
            },
            "type": "carpet"
           }
          ],
          "choropleth": [
           {
            "colorbar": {
             "outlinewidth": 0,
             "ticks": ""
            },
            "type": "choropleth"
           }
          ],
          "contour": [
           {
            "colorbar": {
             "outlinewidth": 0,
             "ticks": ""
            },
            "colorscale": [
             [
              0,
              "#0d0887"
             ],
             [
              0.1111111111111111,
              "#46039f"
             ],
             [
              0.2222222222222222,
              "#7201a8"
             ],
             [
              0.3333333333333333,
              "#9c179e"
             ],
             [
              0.4444444444444444,
              "#bd3786"
             ],
             [
              0.5555555555555556,
              "#d8576b"
             ],
             [
              0.6666666666666666,
              "#ed7953"
             ],
             [
              0.7777777777777778,
              "#fb9f3a"
             ],
             [
              0.8888888888888888,
              "#fdca26"
             ],
             [
              1,
              "#f0f921"
             ]
            ],
            "type": "contour"
           }
          ],
          "contourcarpet": [
           {
            "colorbar": {
             "outlinewidth": 0,
             "ticks": ""
            },
            "type": "contourcarpet"
           }
          ],
          "heatmap": [
           {
            "colorbar": {
             "outlinewidth": 0,
             "ticks": ""
            },
            "colorscale": [
             [
              0,
              "#0d0887"
             ],
             [
              0.1111111111111111,
              "#46039f"
             ],
             [
              0.2222222222222222,
              "#7201a8"
             ],
             [
              0.3333333333333333,
              "#9c179e"
             ],
             [
              0.4444444444444444,
              "#bd3786"
             ],
             [
              0.5555555555555556,
              "#d8576b"
             ],
             [
              0.6666666666666666,
              "#ed7953"
             ],
             [
              0.7777777777777778,
              "#fb9f3a"
             ],
             [
              0.8888888888888888,
              "#fdca26"
             ],
             [
              1,
              "#f0f921"
             ]
            ],
            "type": "heatmap"
           }
          ],
          "heatmapgl": [
           {
            "colorbar": {
             "outlinewidth": 0,
             "ticks": ""
            },
            "colorscale": [
             [
              0,
              "#0d0887"
             ],
             [
              0.1111111111111111,
              "#46039f"
             ],
             [
              0.2222222222222222,
              "#7201a8"
             ],
             [
              0.3333333333333333,
              "#9c179e"
             ],
             [
              0.4444444444444444,
              "#bd3786"
             ],
             [
              0.5555555555555556,
              "#d8576b"
             ],
             [
              0.6666666666666666,
              "#ed7953"
             ],
             [
              0.7777777777777778,
              "#fb9f3a"
             ],
             [
              0.8888888888888888,
              "#fdca26"
             ],
             [
              1,
              "#f0f921"
             ]
            ],
            "type": "heatmapgl"
           }
          ],
          "histogram": [
           {
            "marker": {
             "pattern": {
              "fillmode": "overlay",
              "size": 10,
              "solidity": 0.2
             }
            },
            "type": "histogram"
           }
          ],
          "histogram2d": [
           {
            "colorbar": {
             "outlinewidth": 0,
             "ticks": ""
            },
            "colorscale": [
             [
              0,
              "#0d0887"
             ],
             [
              0.1111111111111111,
              "#46039f"
             ],
             [
              0.2222222222222222,
              "#7201a8"
             ],
             [
              0.3333333333333333,
              "#9c179e"
             ],
             [
              0.4444444444444444,
              "#bd3786"
             ],
             [
              0.5555555555555556,
              "#d8576b"
             ],
             [
              0.6666666666666666,
              "#ed7953"
             ],
             [
              0.7777777777777778,
              "#fb9f3a"
             ],
             [
              0.8888888888888888,
              "#fdca26"
             ],
             [
              1,
              "#f0f921"
             ]
            ],
            "type": "histogram2d"
           }
          ],
          "histogram2dcontour": [
           {
            "colorbar": {
             "outlinewidth": 0,
             "ticks": ""
            },
            "colorscale": [
             [
              0,
              "#0d0887"
             ],
             [
              0.1111111111111111,
              "#46039f"
             ],
             [
              0.2222222222222222,
              "#7201a8"
             ],
             [
              0.3333333333333333,
              "#9c179e"
             ],
             [
              0.4444444444444444,
              "#bd3786"
             ],
             [
              0.5555555555555556,
              "#d8576b"
             ],
             [
              0.6666666666666666,
              "#ed7953"
             ],
             [
              0.7777777777777778,
              "#fb9f3a"
             ],
             [
              0.8888888888888888,
              "#fdca26"
             ],
             [
              1,
              "#f0f921"
             ]
            ],
            "type": "histogram2dcontour"
           }
          ],
          "mesh3d": [
           {
            "colorbar": {
             "outlinewidth": 0,
             "ticks": ""
            },
            "type": "mesh3d"
           }
          ],
          "parcoords": [
           {
            "line": {
             "colorbar": {
              "outlinewidth": 0,
              "ticks": ""
             }
            },
            "type": "parcoords"
           }
          ],
          "pie": [
           {
            "automargin": true,
            "type": "pie"
           }
          ],
          "scatter": [
           {
            "fillpattern": {
             "fillmode": "overlay",
             "size": 10,
             "solidity": 0.2
            },
            "type": "scatter"
           }
          ],
          "scatter3d": [
           {
            "line": {
             "colorbar": {
              "outlinewidth": 0,
              "ticks": ""
             }
            },
            "marker": {
             "colorbar": {
              "outlinewidth": 0,
              "ticks": ""
             }
            },
            "type": "scatter3d"
           }
          ],
          "scattercarpet": [
           {
            "marker": {
             "colorbar": {
              "outlinewidth": 0,
              "ticks": ""
             }
            },
            "type": "scattercarpet"
           }
          ],
          "scattergeo": [
           {
            "marker": {
             "colorbar": {
              "outlinewidth": 0,
              "ticks": ""
             }
            },
            "type": "scattergeo"
           }
          ],
          "scattergl": [
           {
            "marker": {
             "colorbar": {
              "outlinewidth": 0,
              "ticks": ""
             }
            },
            "type": "scattergl"
           }
          ],
          "scattermapbox": [
           {
            "marker": {
             "colorbar": {
              "outlinewidth": 0,
              "ticks": ""
             }
            },
            "type": "scattermapbox"
           }
          ],
          "scatterpolar": [
           {
            "marker": {
             "colorbar": {
              "outlinewidth": 0,
              "ticks": ""
             }
            },
            "type": "scatterpolar"
           }
          ],
          "scatterpolargl": [
           {
            "marker": {
             "colorbar": {
              "outlinewidth": 0,
              "ticks": ""
             }
            },
            "type": "scatterpolargl"
           }
          ],
          "scatterternary": [
           {
            "marker": {
             "colorbar": {
              "outlinewidth": 0,
              "ticks": ""
             }
            },
            "type": "scatterternary"
           }
          ],
          "surface": [
           {
            "colorbar": {
             "outlinewidth": 0,
             "ticks": ""
            },
            "colorscale": [
             [
              0,
              "#0d0887"
             ],
             [
              0.1111111111111111,
              "#46039f"
             ],
             [
              0.2222222222222222,
              "#7201a8"
             ],
             [
              0.3333333333333333,
              "#9c179e"
             ],
             [
              0.4444444444444444,
              "#bd3786"
             ],
             [
              0.5555555555555556,
              "#d8576b"
             ],
             [
              0.6666666666666666,
              "#ed7953"
             ],
             [
              0.7777777777777778,
              "#fb9f3a"
             ],
             [
              0.8888888888888888,
              "#fdca26"
             ],
             [
              1,
              "#f0f921"
             ]
            ],
            "type": "surface"
           }
          ],
          "table": [
           {
            "cells": {
             "fill": {
              "color": "#EBF0F8"
             },
             "line": {
              "color": "white"
             }
            },
            "header": {
             "fill": {
              "color": "#C8D4E3"
             },
             "line": {
              "color": "white"
             }
            },
            "type": "table"
           }
          ]
         },
         "layout": {
          "annotationdefaults": {
           "arrowcolor": "#2a3f5f",
           "arrowhead": 0,
           "arrowwidth": 1
          },
          "autotypenumbers": "strict",
          "coloraxis": {
           "colorbar": {
            "outlinewidth": 0,
            "ticks": ""
           }
          },
          "colorscale": {
           "diverging": [
            [
             0,
             "#8e0152"
            ],
            [
             0.1,
             "#c51b7d"
            ],
            [
             0.2,
             "#de77ae"
            ],
            [
             0.3,
             "#f1b6da"
            ],
            [
             0.4,
             "#fde0ef"
            ],
            [
             0.5,
             "#f7f7f7"
            ],
            [
             0.6,
             "#e6f5d0"
            ],
            [
             0.7,
             "#b8e186"
            ],
            [
             0.8,
             "#7fbc41"
            ],
            [
             0.9,
             "#4d9221"
            ],
            [
             1,
             "#276419"
            ]
           ],
           "sequential": [
            [
             0,
             "#0d0887"
            ],
            [
             0.1111111111111111,
             "#46039f"
            ],
            [
             0.2222222222222222,
             "#7201a8"
            ],
            [
             0.3333333333333333,
             "#9c179e"
            ],
            [
             0.4444444444444444,
             "#bd3786"
            ],
            [
             0.5555555555555556,
             "#d8576b"
            ],
            [
             0.6666666666666666,
             "#ed7953"
            ],
            [
             0.7777777777777778,
             "#fb9f3a"
            ],
            [
             0.8888888888888888,
             "#fdca26"
            ],
            [
             1,
             "#f0f921"
            ]
           ],
           "sequentialminus": [
            [
             0,
             "#0d0887"
            ],
            [
             0.1111111111111111,
             "#46039f"
            ],
            [
             0.2222222222222222,
             "#7201a8"
            ],
            [
             0.3333333333333333,
             "#9c179e"
            ],
            [
             0.4444444444444444,
             "#bd3786"
            ],
            [
             0.5555555555555556,
             "#d8576b"
            ],
            [
             0.6666666666666666,
             "#ed7953"
            ],
            [
             0.7777777777777778,
             "#fb9f3a"
            ],
            [
             0.8888888888888888,
             "#fdca26"
            ],
            [
             1,
             "#f0f921"
            ]
           ]
          },
          "colorway": [
           "#636efa",
           "#EF553B",
           "#00cc96",
           "#ab63fa",
           "#FFA15A",
           "#19d3f3",
           "#FF6692",
           "#B6E880",
           "#FF97FF",
           "#FECB52"
          ],
          "font": {
           "color": "#2a3f5f"
          },
          "geo": {
           "bgcolor": "white",
           "lakecolor": "white",
           "landcolor": "#E5ECF6",
           "showlakes": true,
           "showland": true,
           "subunitcolor": "white"
          },
          "hoverlabel": {
           "align": "left"
          },
          "hovermode": "closest",
          "mapbox": {
           "style": "light"
          },
          "paper_bgcolor": "white",
          "plot_bgcolor": "#E5ECF6",
          "polar": {
           "angularaxis": {
            "gridcolor": "white",
            "linecolor": "white",
            "ticks": ""
           },
           "bgcolor": "#E5ECF6",
           "radialaxis": {
            "gridcolor": "white",
            "linecolor": "white",
            "ticks": ""
           }
          },
          "scene": {
           "xaxis": {
            "backgroundcolor": "#E5ECF6",
            "gridcolor": "white",
            "gridwidth": 2,
            "linecolor": "white",
            "showbackground": true,
            "ticks": "",
            "zerolinecolor": "white"
           },
           "yaxis": {
            "backgroundcolor": "#E5ECF6",
            "gridcolor": "white",
            "gridwidth": 2,
            "linecolor": "white",
            "showbackground": true,
            "ticks": "",
            "zerolinecolor": "white"
           },
           "zaxis": {
            "backgroundcolor": "#E5ECF6",
            "gridcolor": "white",
            "gridwidth": 2,
            "linecolor": "white",
            "showbackground": true,
            "ticks": "",
            "zerolinecolor": "white"
           }
          },
          "shapedefaults": {
           "line": {
            "color": "#2a3f5f"
           }
          },
          "ternary": {
           "aaxis": {
            "gridcolor": "white",
            "linecolor": "white",
            "ticks": ""
           },
           "baxis": {
            "gridcolor": "white",
            "linecolor": "white",
            "ticks": ""
           },
           "bgcolor": "#E5ECF6",
           "caxis": {
            "gridcolor": "white",
            "linecolor": "white",
            "ticks": ""
           }
          },
          "title": {
           "x": 0.05
          },
          "xaxis": {
           "automargin": true,
           "gridcolor": "white",
           "linecolor": "white",
           "ticks": "",
           "title": {
            "standoff": 15
           },
           "zerolinecolor": "white",
           "zerolinewidth": 2
          },
          "yaxis": {
           "automargin": true,
           "gridcolor": "white",
           "linecolor": "white",
           "ticks": "",
           "title": {
            "standoff": 15
           },
           "zerolinecolor": "white",
           "zerolinewidth": 2
          }
         }
        },
        "xaxis": {
         "anchor": "y",
         "domain": [
          0,
          1
         ],
         "type": "date"
        },
        "yaxis": {
         "anchor": "x",
         "domain": [
          0,
          1
         ],
         "title": {
          "text": "Machine"
         }
        }
       }
      }
     },
     "metadata": {},
     "output_type": "display_data"
    },
    {
     "name": "stdout",
     "output_type": "stream",
     "text": [
      "finished! no legal actions possible after 139 steps\n"
     ]
    },
    {
     "data": {
      "application/vnd.plotly.v1+json": {
       "config": {
        "plotlyServerURL": "https://plot.ly"
       },
       "data": [
        {
         "alignmentgroup": "True",
         "base": [
          "2022-01-01T00:00:01",
          "2022-01-01T00:09:12",
          "2022-01-01T00:12:18",
          "2022-01-01T00:05:12",
          "2022-01-01T00:13:48",
          "2022-01-01T00:15:04",
          "2022-01-01T00:04:01",
          "2022-01-01T00:06:33",
          "2022-01-01T00:19:05",
          "2022-01-01T00:22:14"
         ],
         "hovertemplate": "Job=job_09<br>Start=%{base}<br>Finish=%{x}<br>Machine=%{y}<extra></extra>",
         "legendgroup": "job_09",
         "marker": {
          "color": "#636efa",
          "pattern": {
           "shape": ""
          }
         },
         "name": "job_09",
         "offsetgroup": "job_09",
         "orientation": "h",
         "showlegend": true,
         "textposition": "auto",
         "type": "bar",
         "x": [
          93000,
          65000,
          89000,
          80000,
          75000,
          57000,
          70000,
          84000,
          92000,
          96000
         ],
         "xaxis": "x",
         "y": [
          "machine_01",
          "machine_02",
          "machine_03",
          "machine_04",
          "machine_05",
          "machine_06",
          "machine_07",
          "machine_08",
          "machine_09",
          "machine_10"
         ],
         "yaxis": "y"
        },
        {
         "alignmentgroup": "True",
         "base": [
          "2022-01-01T00:02:25",
          "2022-01-01T00:03:51",
          "2022-01-01T00:14:08",
          "2022-01-01T00:15:04",
          "2022-01-01T00:11:03",
          "2022-01-01T00:06:16",
          "2022-01-01T00:05:12",
          "2022-01-01T00:07:58",
          "2022-01-01T00:01:24",
          "2022-01-01T00:00:01"
         ],
         "hovertemplate": "Job=job_03<br>Start=%{base}<br>Finish=%{x}<br>Machine=%{y}<extra></extra>",
         "legendgroup": "job_03",
         "marker": {
          "color": "#EF553B",
          "pattern": {
           "shape": ""
          }
         },
         "name": "job_03",
         "offsetgroup": "job_03",
         "orientation": "h",
         "showlegend": true,
         "textposition": "auto",
         "type": "bar",
         "x": [
          82000,
          64000,
          54000,
          76000,
          84000,
          84000,
          63000,
          77000,
          60000,
          82000
         ],
         "xaxis": "x",
         "y": [
          "machine_01",
          "machine_02",
          "machine_03",
          "machine_04",
          "machine_05",
          "machine_06",
          "machine_07",
          "machine_08",
          "machine_09",
          "machine_10"
         ],
         "yaxis": "y"
        },
        {
         "alignmentgroup": "True",
         "base": [
          "2022-01-01T00:03:48",
          "2022-01-01T00:07:50",
          "2022-01-01T00:25:32",
          "2022-01-01T00:02:52",
          "2022-01-01T00:23:12",
          "2022-01-01T00:24:33",
          "2022-01-01T00:22:14",
          "2022-01-01T00:16:52",
          "2022-01-01T00:15:45",
          "2022-01-01T00:20:38"
         ],
         "hovertemplate": "Job=job_10<br>Start=%{base}<br>Finish=%{x}<br>Machine=%{y}<extra></extra>",
         "legendgroup": "job_10",
         "marker": {
          "color": "#00cc96",
          "pattern": {
           "shape": ""
          }
         },
         "name": "job_10",
         "offsetgroup": "job_10",
         "orientation": "h",
         "showlegend": true,
         "textposition": "auto",
         "type": "bar",
         "x": [
          58000,
          81000,
          95000,
          49000,
          80000,
          58000,
          57000,
          55000,
          66000,
          95000
         ],
         "xaxis": "x",
         "y": [
          "machine_01",
          "machine_02",
          "machine_03",
          "machine_04",
          "machine_05",
          "machine_06",
          "machine_07",
          "machine_08",
          "machine_09",
          "machine_10"
         ],
         "yaxis": "y"
        },
        {
         "alignmentgroup": "True",
         "base": [
          "2022-01-01T00:08:17",
          "2022-01-01T00:02:25",
          "2022-01-01T00:17:39",
          "2022-01-01T00:06:41",
          "2022-01-01T00:05:04",
          "2022-01-01T00:19:08",
          "2022-01-01T00:20:47",
          "2022-01-01T00:01:35",
          "2022-01-01T00:14:08",
          "2022-01-01T00:24:28"
         ],
         "hovertemplate": "Job=job_07<br>Start=%{base}<br>Finish=%{x}<br>Machine=%{y}<extra></extra>",
         "legendgroup": "job_07",
         "marker": {
          "color": "#ab63fa",
          "pattern": {
           "shape": ""
          }
         },
         "name": "job_07",
         "offsetgroup": "job_07",
         "orientation": "h",
         "showlegend": true,
         "textposition": "auto",
         "type": "bar",
         "x": [
          94000,
          85000,
          65000,
          95000,
          96000,
          98000,
          51000,
          49000,
          96000,
          70000
         ],
         "xaxis": "x",
         "y": [
          "machine_01",
          "machine_02",
          "machine_03",
          "machine_04",
          "machine_05",
          "machine_06",
          "machine_07",
          "machine_08",
          "machine_09",
          "machine_10"
         ],
         "yaxis": "y"
        },
        {
         "alignmentgroup": "True",
         "base": [
          "2022-01-01T00:10:49",
          "2022-01-01T00:05:57",
          "2022-01-01T00:05:04",
          "2022-01-01T00:03:42",
          "2022-01-01T00:00:01",
          "2022-01-01T00:07:50",
          "2022-01-01T00:01:39",
          "2022-01-01T00:09:24",
          "2022-01-01T00:12:33",
          "2022-01-01T00:17:54"
         ],
         "hovertemplate": "Job=job_08<br>Start=%{base}<br>Finish=%{x}<br>Machine=%{y}<extra></extra>",
         "legendgroup": "job_08",
         "marker": {
          "color": "#FFA15A",
          "pattern": {
           "shape": ""
          }
         },
         "name": "job_08",
         "offsetgroup": "job_08",
         "orientation": "h",
         "showlegend": true,
         "textposition": "auto",
         "type": "bar",
         "x": [
          61000,
          70000,
          50000,
          81000,
          97000,
          93000,
          72000,
          84000,
          94000,
          78000
         ],
         "xaxis": "x",
         "y": [
          "machine_01",
          "machine_02",
          "machine_03",
          "machine_04",
          "machine_05",
          "machine_06",
          "machine_07",
          "machine_08",
          "machine_09",
          "machine_10"
         ],
         "yaxis": "y"
        },
        {
         "alignmentgroup": "True",
         "base": [
          "2022-01-01T00:12:33",
          "2022-01-01T00:23:02",
          "2022-01-01T00:16:32",
          "2022-01-01T00:00:01",
          "2022-01-01T00:06:41",
          "2022-01-01T00:20:47",
          "2022-01-01T00:17:39",
          "2022-01-01T00:21:55",
          "2022-01-01T00:10:58",
          "2022-01-01T00:08:09"
         ],
         "hovertemplate": "Job=job_05<br>Start=%{base}<br>Finish=%{x}<br>Machine=%{y}<extra></extra>",
         "legendgroup": "job_05",
         "marker": {
          "color": "#19d3f3",
          "pattern": {
           "shape": ""
          }
         },
         "name": "job_05",
         "offsetgroup": "job_05",
         "orientation": "h",
         "showlegend": true,
         "textposition": "auto",
         "type": "bar",
         "x": [
          98000,
          85000,
          66000,
          68000,
          87000,
          67000,
          94000,
          66000,
          94000,
          81000
         ],
         "xaxis": "x",
         "y": [
          "machine_01",
          "machine_02",
          "machine_03",
          "machine_04",
          "machine_05",
          "machine_06",
          "machine_07",
          "machine_08",
          "machine_09",
          "machine_10"
         ],
         "yaxis": "y"
        },
        {
         "alignmentgroup": "True",
         "base": [
          "2022-01-01T00:14:18",
          "2022-01-01T00:04:56",
          "2022-01-01T00:01:35",
          "2022-01-01T00:11:03",
          "2022-01-01T00:09:24",
          "2022-01-01T00:13:12",
          "2022-01-01T00:11:57",
          "2022-01-01T00:00:01",
          "2022-01-01T00:17:58",
          "2022-01-01T00:15:34"
         ],
         "hovertemplate": "Job=job_04<br>Start=%{base}<br>Finish=%{x}<br>Machine=%{y}<extra></extra>",
         "legendgroup": "job_04",
         "marker": {
          "color": "#FF6692",
          "pattern": {
           "shape": ""
          }
         },
         "name": "job_04",
         "offsetgroup": "job_04",
         "orientation": "h",
         "showlegend": true,
         "textposition": "auto",
         "type": "bar",
         "x": [
          75000,
          60000,
          67000,
          53000,
          98000,
          65000,
          74000,
          93000,
          66000,
          62000
         ],
         "xaxis": "x",
         "y": [
          "machine_01",
          "machine_02",
          "machine_03",
          "machine_04",
          "machine_05",
          "machine_06",
          "machine_07",
          "machine_08",
          "machine_09",
          "machine_10"
         ],
         "yaxis": "y"
        },
        {
         "alignmentgroup": "True",
         "base": [
          "2022-01-01T00:17:40",
          "2022-01-01T00:00:01",
          "2022-01-01T00:10:58",
          "2022-01-01T00:16:21",
          "2022-01-01T00:03:42",
          "2022-01-01T00:05:03",
          "2022-01-01T00:07:50",
          "2022-01-01T00:12:18",
          "2022-01-01T00:09:12",
          "2022-01-01T00:14:08"
         ],
         "hovertemplate": "Job=job_06<br>Start=%{base}<br>Finish=%{x}<br>Machine=%{y}<extra></extra>",
         "legendgroup": "job_06",
         "marker": {
          "color": "#B6E880",
          "pattern": {
           "shape": ""
          }
         },
         "name": "job_06",
         "offsetgroup": "job_06",
         "orientation": "h",
         "showlegend": true,
         "textposition": "auto",
         "type": "bar",
         "x": [
          87000,
          98000,
          79000,
          78000,
          80000,
          63000,
          65000,
          68000,
          79000,
          61000
         ],
         "xaxis": "x",
         "y": [
          "machine_01",
          "machine_02",
          "machine_03",
          "machine_04",
          "machine_05",
          "machine_06",
          "machine_07",
          "machine_08",
          "machine_09",
          "machine_10"
         ],
         "yaxis": "y"
        },
        {
         "alignmentgroup": "True",
         "base": [
          "2022-01-01T00:19:08",
          "2022-01-01T00:20:40",
          "2022-01-01T00:09:24",
          "2022-01-01T00:01:13",
          "2022-01-01T00:08:09",
          "2022-01-01T00:00:01",
          "2022-01-01T00:02:52",
          "2022-01-01T00:23:02",
          "2022-01-01T00:16:52",
          "2022-01-01T00:25:39"
         ],
         "hovertemplate": "Job=job_02<br>Start=%{base}<br>Finish=%{x}<br>Machine=%{y}<extra></extra>",
         "legendgroup": "job_02",
         "marker": {
          "color": "#FF97FF",
          "pattern": {
           "shape": ""
          }
         },
         "name": "job_02",
         "offsetgroup": "job_02",
         "orientation": "h",
         "showlegend": true,
         "textposition": "auto",
         "type": "bar",
         "x": [
          91000,
          81000,
          93000,
          49000,
          74000,
          71000,
          68000,
          93000,
          65000,
          62000
         ],
         "xaxis": "x",
         "y": [
          "machine_01",
          "machine_02",
          "machine_03",
          "machine_04",
          "machine_05",
          "machine_06",
          "machine_07",
          "machine_08",
          "machine_09",
          "machine_10"
         ],
         "yaxis": "y"
        },
        {
         "alignmentgroup": "True",
         "base": [
          "2022-01-01T00:20:40",
          "2022-01-01T00:11:03",
          "2022-01-01T00:15:03",
          "2022-01-01T00:22:06",
          "2022-01-01T00:01:40",
          "2022-01-01T00:09:24",
          "2022-01-01T00:06:16",
          "2022-01-01T00:17:54",
          "2022-01-01T00:03:08",
          "2022-01-01T00:16:37"
         ],
         "hovertemplate": "Job=job_01<br>Start=%{base}<br>Finish=%{x}<br>Machine=%{y}<extra></extra>",
         "legendgroup": "job_01",
         "marker": {
          "color": "#FECB52",
          "pattern": {
           "shape": ""
          }
         },
         "name": "job_01",
         "offsetgroup": "job_01",
         "orientation": "h",
         "showlegend": true,
         "textposition": "auto",
         "type": "bar",
         "x": [
          85000,
          66000,
          88000,
          91000,
          87000,
          98000,
          93000,
          98000,
          67000,
          76000
         ],
         "xaxis": "x",
         "y": [
          "machine_01",
          "machine_02",
          "machine_03",
          "machine_04",
          "machine_05",
          "machine_06",
          "machine_07",
          "machine_08",
          "machine_09",
          "machine_10"
         ],
         "yaxis": "y"
        }
       ],
       "layout": {
        "barmode": "overlay",
        "legend": {
         "title": {
          "text": "Job"
         },
         "tracegroupgap": 0
        },
        "margin": {
         "t": 60
        },
        "template": {
         "data": {
          "bar": [
           {
            "error_x": {
             "color": "#2a3f5f"
            },
            "error_y": {
             "color": "#2a3f5f"
            },
            "marker": {
             "line": {
              "color": "#E5ECF6",
              "width": 0.5
             },
             "pattern": {
              "fillmode": "overlay",
              "size": 10,
              "solidity": 0.2
             }
            },
            "type": "bar"
           }
          ],
          "barpolar": [
           {
            "marker": {
             "line": {
              "color": "#E5ECF6",
              "width": 0.5
             },
             "pattern": {
              "fillmode": "overlay",
              "size": 10,
              "solidity": 0.2
             }
            },
            "type": "barpolar"
           }
          ],
          "carpet": [
           {
            "aaxis": {
             "endlinecolor": "#2a3f5f",
             "gridcolor": "white",
             "linecolor": "white",
             "minorgridcolor": "white",
             "startlinecolor": "#2a3f5f"
            },
            "baxis": {
             "endlinecolor": "#2a3f5f",
             "gridcolor": "white",
             "linecolor": "white",
             "minorgridcolor": "white",
             "startlinecolor": "#2a3f5f"
            },
            "type": "carpet"
           }
          ],
          "choropleth": [
           {
            "colorbar": {
             "outlinewidth": 0,
             "ticks": ""
            },
            "type": "choropleth"
           }
          ],
          "contour": [
           {
            "colorbar": {
             "outlinewidth": 0,
             "ticks": ""
            },
            "colorscale": [
             [
              0,
              "#0d0887"
             ],
             [
              0.1111111111111111,
              "#46039f"
             ],
             [
              0.2222222222222222,
              "#7201a8"
             ],
             [
              0.3333333333333333,
              "#9c179e"
             ],
             [
              0.4444444444444444,
              "#bd3786"
             ],
             [
              0.5555555555555556,
              "#d8576b"
             ],
             [
              0.6666666666666666,
              "#ed7953"
             ],
             [
              0.7777777777777778,
              "#fb9f3a"
             ],
             [
              0.8888888888888888,
              "#fdca26"
             ],
             [
              1,
              "#f0f921"
             ]
            ],
            "type": "contour"
           }
          ],
          "contourcarpet": [
           {
            "colorbar": {
             "outlinewidth": 0,
             "ticks": ""
            },
            "type": "contourcarpet"
           }
          ],
          "heatmap": [
           {
            "colorbar": {
             "outlinewidth": 0,
             "ticks": ""
            },
            "colorscale": [
             [
              0,
              "#0d0887"
             ],
             [
              0.1111111111111111,
              "#46039f"
             ],
             [
              0.2222222222222222,
              "#7201a8"
             ],
             [
              0.3333333333333333,
              "#9c179e"
             ],
             [
              0.4444444444444444,
              "#bd3786"
             ],
             [
              0.5555555555555556,
              "#d8576b"
             ],
             [
              0.6666666666666666,
              "#ed7953"
             ],
             [
              0.7777777777777778,
              "#fb9f3a"
             ],
             [
              0.8888888888888888,
              "#fdca26"
             ],
             [
              1,
              "#f0f921"
             ]
            ],
            "type": "heatmap"
           }
          ],
          "heatmapgl": [
           {
            "colorbar": {
             "outlinewidth": 0,
             "ticks": ""
            },
            "colorscale": [
             [
              0,
              "#0d0887"
             ],
             [
              0.1111111111111111,
              "#46039f"
             ],
             [
              0.2222222222222222,
              "#7201a8"
             ],
             [
              0.3333333333333333,
              "#9c179e"
             ],
             [
              0.4444444444444444,
              "#bd3786"
             ],
             [
              0.5555555555555556,
              "#d8576b"
             ],
             [
              0.6666666666666666,
              "#ed7953"
             ],
             [
              0.7777777777777778,
              "#fb9f3a"
             ],
             [
              0.8888888888888888,
              "#fdca26"
             ],
             [
              1,
              "#f0f921"
             ]
            ],
            "type": "heatmapgl"
           }
          ],
          "histogram": [
           {
            "marker": {
             "pattern": {
              "fillmode": "overlay",
              "size": 10,
              "solidity": 0.2
             }
            },
            "type": "histogram"
           }
          ],
          "histogram2d": [
           {
            "colorbar": {
             "outlinewidth": 0,
             "ticks": ""
            },
            "colorscale": [
             [
              0,
              "#0d0887"
             ],
             [
              0.1111111111111111,
              "#46039f"
             ],
             [
              0.2222222222222222,
              "#7201a8"
             ],
             [
              0.3333333333333333,
              "#9c179e"
             ],
             [
              0.4444444444444444,
              "#bd3786"
             ],
             [
              0.5555555555555556,
              "#d8576b"
             ],
             [
              0.6666666666666666,
              "#ed7953"
             ],
             [
              0.7777777777777778,
              "#fb9f3a"
             ],
             [
              0.8888888888888888,
              "#fdca26"
             ],
             [
              1,
              "#f0f921"
             ]
            ],
            "type": "histogram2d"
           }
          ],
          "histogram2dcontour": [
           {
            "colorbar": {
             "outlinewidth": 0,
             "ticks": ""
            },
            "colorscale": [
             [
              0,
              "#0d0887"
             ],
             [
              0.1111111111111111,
              "#46039f"
             ],
             [
              0.2222222222222222,
              "#7201a8"
             ],
             [
              0.3333333333333333,
              "#9c179e"
             ],
             [
              0.4444444444444444,
              "#bd3786"
             ],
             [
              0.5555555555555556,
              "#d8576b"
             ],
             [
              0.6666666666666666,
              "#ed7953"
             ],
             [
              0.7777777777777778,
              "#fb9f3a"
             ],
             [
              0.8888888888888888,
              "#fdca26"
             ],
             [
              1,
              "#f0f921"
             ]
            ],
            "type": "histogram2dcontour"
           }
          ],
          "mesh3d": [
           {
            "colorbar": {
             "outlinewidth": 0,
             "ticks": ""
            },
            "type": "mesh3d"
           }
          ],
          "parcoords": [
           {
            "line": {
             "colorbar": {
              "outlinewidth": 0,
              "ticks": ""
             }
            },
            "type": "parcoords"
           }
          ],
          "pie": [
           {
            "automargin": true,
            "type": "pie"
           }
          ],
          "scatter": [
           {
            "fillpattern": {
             "fillmode": "overlay",
             "size": 10,
             "solidity": 0.2
            },
            "type": "scatter"
           }
          ],
          "scatter3d": [
           {
            "line": {
             "colorbar": {
              "outlinewidth": 0,
              "ticks": ""
             }
            },
            "marker": {
             "colorbar": {
              "outlinewidth": 0,
              "ticks": ""
             }
            },
            "type": "scatter3d"
           }
          ],
          "scattercarpet": [
           {
            "marker": {
             "colorbar": {
              "outlinewidth": 0,
              "ticks": ""
             }
            },
            "type": "scattercarpet"
           }
          ],
          "scattergeo": [
           {
            "marker": {
             "colorbar": {
              "outlinewidth": 0,
              "ticks": ""
             }
            },
            "type": "scattergeo"
           }
          ],
          "scattergl": [
           {
            "marker": {
             "colorbar": {
              "outlinewidth": 0,
              "ticks": ""
             }
            },
            "type": "scattergl"
           }
          ],
          "scattermapbox": [
           {
            "marker": {
             "colorbar": {
              "outlinewidth": 0,
              "ticks": ""
             }
            },
            "type": "scattermapbox"
           }
          ],
          "scatterpolar": [
           {
            "marker": {
             "colorbar": {
              "outlinewidth": 0,
              "ticks": ""
             }
            },
            "type": "scatterpolar"
           }
          ],
          "scatterpolargl": [
           {
            "marker": {
             "colorbar": {
              "outlinewidth": 0,
              "ticks": ""
             }
            },
            "type": "scatterpolargl"
           }
          ],
          "scatterternary": [
           {
            "marker": {
             "colorbar": {
              "outlinewidth": 0,
              "ticks": ""
             }
            },
            "type": "scatterternary"
           }
          ],
          "surface": [
           {
            "colorbar": {
             "outlinewidth": 0,
             "ticks": ""
            },
            "colorscale": [
             [
              0,
              "#0d0887"
             ],
             [
              0.1111111111111111,
              "#46039f"
             ],
             [
              0.2222222222222222,
              "#7201a8"
             ],
             [
              0.3333333333333333,
              "#9c179e"
             ],
             [
              0.4444444444444444,
              "#bd3786"
             ],
             [
              0.5555555555555556,
              "#d8576b"
             ],
             [
              0.6666666666666666,
              "#ed7953"
             ],
             [
              0.7777777777777778,
              "#fb9f3a"
             ],
             [
              0.8888888888888888,
              "#fdca26"
             ],
             [
              1,
              "#f0f921"
             ]
            ],
            "type": "surface"
           }
          ],
          "table": [
           {
            "cells": {
             "fill": {
              "color": "#EBF0F8"
             },
             "line": {
              "color": "white"
             }
            },
            "header": {
             "fill": {
              "color": "#C8D4E3"
             },
             "line": {
              "color": "white"
             }
            },
            "type": "table"
           }
          ]
         },
         "layout": {
          "annotationdefaults": {
           "arrowcolor": "#2a3f5f",
           "arrowhead": 0,
           "arrowwidth": 1
          },
          "autotypenumbers": "strict",
          "coloraxis": {
           "colorbar": {
            "outlinewidth": 0,
            "ticks": ""
           }
          },
          "colorscale": {
           "diverging": [
            [
             0,
             "#8e0152"
            ],
            [
             0.1,
             "#c51b7d"
            ],
            [
             0.2,
             "#de77ae"
            ],
            [
             0.3,
             "#f1b6da"
            ],
            [
             0.4,
             "#fde0ef"
            ],
            [
             0.5,
             "#f7f7f7"
            ],
            [
             0.6,
             "#e6f5d0"
            ],
            [
             0.7,
             "#b8e186"
            ],
            [
             0.8,
             "#7fbc41"
            ],
            [
             0.9,
             "#4d9221"
            ],
            [
             1,
             "#276419"
            ]
           ],
           "sequential": [
            [
             0,
             "#0d0887"
            ],
            [
             0.1111111111111111,
             "#46039f"
            ],
            [
             0.2222222222222222,
             "#7201a8"
            ],
            [
             0.3333333333333333,
             "#9c179e"
            ],
            [
             0.4444444444444444,
             "#bd3786"
            ],
            [
             0.5555555555555556,
             "#d8576b"
            ],
            [
             0.6666666666666666,
             "#ed7953"
            ],
            [
             0.7777777777777778,
             "#fb9f3a"
            ],
            [
             0.8888888888888888,
             "#fdca26"
            ],
            [
             1,
             "#f0f921"
            ]
           ],
           "sequentialminus": [
            [
             0,
             "#0d0887"
            ],
            [
             0.1111111111111111,
             "#46039f"
            ],
            [
             0.2222222222222222,
             "#7201a8"
            ],
            [
             0.3333333333333333,
             "#9c179e"
            ],
            [
             0.4444444444444444,
             "#bd3786"
            ],
            [
             0.5555555555555556,
             "#d8576b"
            ],
            [
             0.6666666666666666,
             "#ed7953"
            ],
            [
             0.7777777777777778,
             "#fb9f3a"
            ],
            [
             0.8888888888888888,
             "#fdca26"
            ],
            [
             1,
             "#f0f921"
            ]
           ]
          },
          "colorway": [
           "#636efa",
           "#EF553B",
           "#00cc96",
           "#ab63fa",
           "#FFA15A",
           "#19d3f3",
           "#FF6692",
           "#B6E880",
           "#FF97FF",
           "#FECB52"
          ],
          "font": {
           "color": "#2a3f5f"
          },
          "geo": {
           "bgcolor": "white",
           "lakecolor": "white",
           "landcolor": "#E5ECF6",
           "showlakes": true,
           "showland": true,
           "subunitcolor": "white"
          },
          "hoverlabel": {
           "align": "left"
          },
          "hovermode": "closest",
          "mapbox": {
           "style": "light"
          },
          "paper_bgcolor": "white",
          "plot_bgcolor": "#E5ECF6",
          "polar": {
           "angularaxis": {
            "gridcolor": "white",
            "linecolor": "white",
            "ticks": ""
           },
           "bgcolor": "#E5ECF6",
           "radialaxis": {
            "gridcolor": "white",
            "linecolor": "white",
            "ticks": ""
           }
          },
          "scene": {
           "xaxis": {
            "backgroundcolor": "#E5ECF6",
            "gridcolor": "white",
            "gridwidth": 2,
            "linecolor": "white",
            "showbackground": true,
            "ticks": "",
            "zerolinecolor": "white"
           },
           "yaxis": {
            "backgroundcolor": "#E5ECF6",
            "gridcolor": "white",
            "gridwidth": 2,
            "linecolor": "white",
            "showbackground": true,
            "ticks": "",
            "zerolinecolor": "white"
           },
           "zaxis": {
            "backgroundcolor": "#E5ECF6",
            "gridcolor": "white",
            "gridwidth": 2,
            "linecolor": "white",
            "showbackground": true,
            "ticks": "",
            "zerolinecolor": "white"
           }
          },
          "shapedefaults": {
           "line": {
            "color": "#2a3f5f"
           }
          },
          "ternary": {
           "aaxis": {
            "gridcolor": "white",
            "linecolor": "white",
            "ticks": ""
           },
           "baxis": {
            "gridcolor": "white",
            "linecolor": "white",
            "ticks": ""
           },
           "bgcolor": "#E5ECF6",
           "caxis": {
            "gridcolor": "white",
            "linecolor": "white",
            "ticks": ""
           }
          },
          "title": {
           "x": 0.05
          },
          "xaxis": {
           "automargin": true,
           "gridcolor": "white",
           "linecolor": "white",
           "ticks": "",
           "title": {
            "standoff": 15
           },
           "zerolinecolor": "white",
           "zerolinewidth": 2
          },
          "yaxis": {
           "automargin": true,
           "gridcolor": "white",
           "linecolor": "white",
           "ticks": "",
           "title": {
            "standoff": 15
           },
           "zerolinecolor": "white",
           "zerolinewidth": 2
          }
         }
        },
        "xaxis": {
         "anchor": "y",
         "domain": [
          0,
          1
         ],
         "type": "date"
        },
        "yaxis": {
         "anchor": "x",
         "domain": [
          0,
          1
         ],
         "title": {
          "text": "Machine"
         }
        }
       }
      }
     },
     "metadata": {},
     "output_type": "display_data"
    },
    {
     "name": "stdout",
     "output_type": "stream",
     "text": [
      "finished! no legal actions possible after 134 steps\n"
     ]
    },
    {
     "data": {
      "application/vnd.plotly.v1+json": {
       "config": {
        "plotlyServerURL": "https://plot.ly"
       },
       "data": [
        {
         "alignmentgroup": "True",
         "base": [
          "2022-01-01T00:00:01",
          "2022-01-01T00:09:19",
          "2022-01-01T00:10:25",
          "2022-01-01T00:03:12",
          "2022-01-01T00:13:12",
          "2022-01-01T00:14:28",
          "2022-01-01T00:01:35",
          "2022-01-01T00:04:33",
          "2022-01-01T00:18:25",
          "2022-01-01T00:19:58"
         ],
         "hovertemplate": "Job=job_09<br>Start=%{base}<br>Finish=%{x}<br>Machine=%{y}<extra></extra>",
         "legendgroup": "job_09",
         "marker": {
          "color": "#636efa",
          "pattern": {
           "shape": ""
          }
         },
         "name": "job_09",
         "offsetgroup": "job_09",
         "orientation": "h",
         "showlegend": true,
         "textposition": "auto",
         "type": "bar",
         "x": [
          93000,
          65000,
          89000,
          80000,
          75000,
          57000,
          70000,
          84000,
          92000,
          96000
         ],
         "xaxis": "x",
         "y": [
          "machine_01",
          "machine_02",
          "machine_03",
          "machine_04",
          "machine_05",
          "machine_06",
          "machine_07",
          "machine_08",
          "machine_09",
          "machine_10"
         ],
         "yaxis": "y"
        },
        {
         "alignmentgroup": "True",
         "base": [
          "2022-01-01T00:01:35",
          "2022-01-01T00:06:29",
          "2022-01-01T00:18:06",
          "2022-01-01T00:00:01",
          "2022-01-01T00:14:28",
          "2022-01-01T00:15:49",
          "2022-01-01T00:13:02",
          "2022-01-01T00:09:33",
          "2022-01-01T00:08:25",
          "2022-01-01T00:10:29"
         ],
         "hovertemplate": "Job=job_10<br>Start=%{base}<br>Finish=%{x}<br>Machine=%{y}<extra></extra>",
         "legendgroup": "job_10",
         "marker": {
          "color": "#EF553B",
          "pattern": {
           "shape": ""
          }
         },
         "name": "job_10",
         "offsetgroup": "job_10",
         "orientation": "h",
         "showlegend": true,
         "textposition": "auto",
         "type": "bar",
         "x": [
          58000,
          81000,
          95000,
          49000,
          80000,
          58000,
          57000,
          55000,
          66000,
          95000
         ],
         "xaxis": "x",
         "y": [
          "machine_01",
          "machine_02",
          "machine_03",
          "machine_04",
          "machine_05",
          "machine_06",
          "machine_07",
          "machine_08",
          "machine_09",
          "machine_10"
         ],
         "yaxis": "y"
        },
        {
         "alignmentgroup": "True",
         "base": [
          "2022-01-01T00:02:34",
          "2022-01-01T00:04:00",
          "2022-01-01T00:16:05",
          "2022-01-01T00:17:00",
          "2022-01-01T00:11:47",
          "2022-01-01T00:08:08",
          "2022-01-01T00:06:00",
          "2022-01-01T00:10:29",
          "2022-01-01T00:01:24",
          "2022-01-01T00:00:01"
         ],
         "hovertemplate": "Job=job_03<br>Start=%{base}<br>Finish=%{x}<br>Machine=%{y}<extra></extra>",
         "legendgroup": "job_03",
         "marker": {
          "color": "#00cc96",
          "pattern": {
           "shape": ""
          }
         },
         "name": "job_03",
         "offsetgroup": "job_03",
         "orientation": "h",
         "showlegend": true,
         "textposition": "auto",
         "type": "bar",
         "x": [
          82000,
          64000,
          54000,
          76000,
          84000,
          84000,
          63000,
          77000,
          60000,
          82000
         ],
         "xaxis": "x",
         "y": [
          "machine_01",
          "machine_02",
          "machine_03",
          "machine_04",
          "machine_05",
          "machine_06",
          "machine_07",
          "machine_08",
          "machine_09",
          "machine_10"
         ],
         "yaxis": "y"
        },
        {
         "alignmentgroup": "True",
         "base": [
          "2022-01-01T00:08:26",
          "2022-01-01T00:24:04",
          "2022-01-01T00:14:58",
          "2022-01-01T00:02:03",
          "2022-01-01T00:04:00",
          "2022-01-01T00:17:40",
          "2022-01-01T00:16:05",
          "2022-01-01T00:22:57",
          "2022-01-01T00:06:50",
          "2022-01-01T00:05:28"
         ],
         "hovertemplate": "Job=job_05<br>Start=%{base}<br>Finish=%{x}<br>Machine=%{y}<extra></extra>",
         "legendgroup": "job_05",
         "marker": {
          "color": "#ab63fa",
          "pattern": {
           "shape": ""
          }
         },
         "name": "job_05",
         "offsetgroup": "job_05",
         "orientation": "h",
         "showlegend": true,
         "textposition": "auto",
         "type": "bar",
         "x": [
          98000,
          85000,
          66000,
          68000,
          87000,
          67000,
          94000,
          66000,
          94000,
          81000
         ],
         "xaxis": "x",
         "y": [
          "machine_01",
          "machine_02",
          "machine_03",
          "machine_04",
          "machine_05",
          "machine_06",
          "machine_07",
          "machine_08",
          "machine_09",
          "machine_10"
         ],
         "yaxis": "y"
        },
        {
         "alignmentgroup": "True",
         "base": [
          "2022-01-01T00:10:05",
          "2022-01-01T00:02:34",
          "2022-01-01T00:17:00",
          "2022-01-01T00:07:05",
          "2022-01-01T00:05:28",
          "2022-01-01T00:18:48",
          "2022-01-01T00:20:27",
          "2022-01-01T00:01:35",
          "2022-01-01T00:11:40",
          "2022-01-01T00:21:40"
         ],
         "hovertemplate": "Job=job_07<br>Start=%{base}<br>Finish=%{x}<br>Machine=%{y}<extra></extra>",
         "legendgroup": "job_07",
         "marker": {
          "color": "#FFA15A",
          "pattern": {
           "shape": ""
          }
         },
         "name": "job_07",
         "offsetgroup": "job_07",
         "orientation": "h",
         "showlegend": true,
         "textposition": "auto",
         "type": "bar",
         "x": [
          94000,
          85000,
          65000,
          95000,
          96000,
          98000,
          51000,
          49000,
          96000,
          70000
         ],
         "xaxis": "x",
         "y": [
          "machine_01",
          "machine_02",
          "machine_03",
          "machine_04",
          "machine_05",
          "machine_06",
          "machine_07",
          "machine_08",
          "machine_09",
          "machine_10"
         ],
         "yaxis": "y"
        },
        {
         "alignmentgroup": "True",
         "base": [
          "2022-01-01T00:13:36",
          "2022-01-01T00:08:08",
          "2022-01-01T00:05:55",
          "2022-01-01T00:04:33",
          "2022-01-01T00:01:35",
          "2022-01-01T00:10:37",
          "2022-01-01T00:03:13",
          "2022-01-01T00:12:11",
          "2022-01-01T00:15:43",
          "2022-01-01T00:18:35"
         ],
         "hovertemplate": "Job=job_08<br>Start=%{base}<br>Finish=%{x}<br>Machine=%{y}<extra></extra>",
         "legendgroup": "job_08",
         "marker": {
          "color": "#19d3f3",
          "pattern": {
           "shape": ""
          }
         },
         "name": "job_08",
         "offsetgroup": "job_08",
         "orientation": "h",
         "showlegend": true,
         "textposition": "auto",
         "type": "bar",
         "x": [
          61000,
          70000,
          50000,
          81000,
          97000,
          93000,
          72000,
          84000,
          94000,
          78000
         ],
         "xaxis": "x",
         "y": [
          "machine_01",
          "machine_02",
          "machine_03",
          "machine_04",
          "machine_05",
          "machine_06",
          "machine_07",
          "machine_08",
          "machine_09",
          "machine_10"
         ],
         "yaxis": "y"
        },
        {
         "alignmentgroup": "True",
         "base": [
          "2022-01-01T00:14:38",
          "2022-01-01T00:05:28",
          "2022-01-01T00:01:35",
          "2022-01-01T00:10:05",
          "2022-01-01T00:08:26",
          "2022-01-01T00:13:02",
          "2022-01-01T00:11:47",
          "2022-01-01T00:00:01",
          "2022-01-01T00:17:18",
          "2022-01-01T00:15:54"
         ],
         "hovertemplate": "Job=job_04<br>Start=%{base}<br>Finish=%{x}<br>Machine=%{y}<extra></extra>",
         "legendgroup": "job_04",
         "marker": {
          "color": "#FF6692",
          "pattern": {
           "shape": ""
          }
         },
         "name": "job_04",
         "offsetgroup": "job_04",
         "orientation": "h",
         "showlegend": true,
         "textposition": "auto",
         "type": "bar",
         "x": [
          75000,
          60000,
          67000,
          53000,
          98000,
          65000,
          74000,
          93000,
          66000,
          62000
         ],
         "xaxis": "x",
         "y": [
          "machine_01",
          "machine_02",
          "machine_03",
          "machine_04",
          "machine_05",
          "machine_06",
          "machine_07",
          "machine_08",
          "machine_09",
          "machine_10"
         ],
         "yaxis": "y"
        },
        {
         "alignmentgroup": "True",
         "base": [
          "2022-01-01T00:15:54",
          "2022-01-01T00:17:26",
          "2022-01-01T00:11:55",
          "2022-01-01T00:01:13",
          "2022-01-01T00:10:05",
          "2022-01-01T00:00:01",
          "2022-01-01T00:07:04",
          "2022-01-01T00:20:14",
          "2022-01-01T00:14:37",
          "2022-01-01T00:22:57"
         ],
         "hovertemplate": "Job=job_02<br>Start=%{base}<br>Finish=%{x}<br>Machine=%{y}<extra></extra>",
         "legendgroup": "job_02",
         "marker": {
          "color": "#B6E880",
          "pattern": {
           "shape": ""
          }
         },
         "name": "job_02",
         "offsetgroup": "job_02",
         "orientation": "h",
         "showlegend": true,
         "textposition": "auto",
         "type": "bar",
         "x": [
          91000,
          81000,
          93000,
          49000,
          74000,
          71000,
          68000,
          93000,
          65000,
          62000
         ],
         "xaxis": "x",
         "y": [
          "machine_01",
          "machine_02",
          "machine_03",
          "machine_04",
          "machine_05",
          "machine_06",
          "machine_07",
          "machine_08",
          "machine_09",
          "machine_10"
         ],
         "yaxis": "y"
        },
        {
         "alignmentgroup": "True",
         "base": [
          "2022-01-01T00:20:14",
          "2022-01-01T00:10:25",
          "2022-01-01T00:13:29",
          "2022-01-01T00:21:40",
          "2022-01-01T00:00:01",
          "2022-01-01T00:06:29",
          "2022-01-01T00:04:26",
          "2022-01-01T00:18:35",
          "2022-01-01T00:02:25",
          "2022-01-01T00:17:18"
         ],
         "hovertemplate": "Job=job_01<br>Start=%{base}<br>Finish=%{x}<br>Machine=%{y}<extra></extra>",
         "legendgroup": "job_01",
         "marker": {
          "color": "#FF97FF",
          "pattern": {
           "shape": ""
          }
         },
         "name": "job_01",
         "offsetgroup": "job_01",
         "orientation": "h",
         "showlegend": true,
         "textposition": "auto",
         "type": "bar",
         "x": [
          85000,
          66000,
          88000,
          91000,
          87000,
          98000,
          93000,
          98000,
          67000,
          76000
         ],
         "xaxis": "x",
         "y": [
          "machine_01",
          "machine_02",
          "machine_03",
          "machine_04",
          "machine_05",
          "machine_06",
          "machine_07",
          "machine_08",
          "machine_09",
          "machine_10"
         ],
         "yaxis": "y"
        },
        {
         "alignmentgroup": "True",
         "base": [
          "2022-01-01T00:26:21",
          "2022-01-01T00:00:01",
          "2022-01-01T00:19:42",
          "2022-01-01T00:25:02",
          "2022-01-01T00:07:05",
          "2022-01-01T00:09:33",
          "2022-01-01T00:10:37",
          "2022-01-01T00:21:48",
          "2022-01-01T00:13:17",
          "2022-01-01T00:24:00"
         ],
         "hovertemplate": "Job=job_06<br>Start=%{base}<br>Finish=%{x}<br>Machine=%{y}<extra></extra>",
         "legendgroup": "job_06",
         "marker": {
          "color": "#FECB52",
          "pattern": {
           "shape": ""
          }
         },
         "name": "job_06",
         "offsetgroup": "job_06",
         "orientation": "h",
         "showlegend": true,
         "textposition": "auto",
         "type": "bar",
         "x": [
          87000,
          98000,
          79000,
          78000,
          80000,
          63000,
          65000,
          68000,
          79000,
          61000
         ],
         "xaxis": "x",
         "y": [
          "machine_01",
          "machine_02",
          "machine_03",
          "machine_04",
          "machine_05",
          "machine_06",
          "machine_07",
          "machine_08",
          "machine_09",
          "machine_10"
         ],
         "yaxis": "y"
        }
       ],
       "layout": {
        "barmode": "overlay",
        "legend": {
         "title": {
          "text": "Job"
         },
         "tracegroupgap": 0
        },
        "margin": {
         "t": 60
        },
        "template": {
         "data": {
          "bar": [
           {
            "error_x": {
             "color": "#2a3f5f"
            },
            "error_y": {
             "color": "#2a3f5f"
            },
            "marker": {
             "line": {
              "color": "#E5ECF6",
              "width": 0.5
             },
             "pattern": {
              "fillmode": "overlay",
              "size": 10,
              "solidity": 0.2
             }
            },
            "type": "bar"
           }
          ],
          "barpolar": [
           {
            "marker": {
             "line": {
              "color": "#E5ECF6",
              "width": 0.5
             },
             "pattern": {
              "fillmode": "overlay",
              "size": 10,
              "solidity": 0.2
             }
            },
            "type": "barpolar"
           }
          ],
          "carpet": [
           {
            "aaxis": {
             "endlinecolor": "#2a3f5f",
             "gridcolor": "white",
             "linecolor": "white",
             "minorgridcolor": "white",
             "startlinecolor": "#2a3f5f"
            },
            "baxis": {
             "endlinecolor": "#2a3f5f",
             "gridcolor": "white",
             "linecolor": "white",
             "minorgridcolor": "white",
             "startlinecolor": "#2a3f5f"
            },
            "type": "carpet"
           }
          ],
          "choropleth": [
           {
            "colorbar": {
             "outlinewidth": 0,
             "ticks": ""
            },
            "type": "choropleth"
           }
          ],
          "contour": [
           {
            "colorbar": {
             "outlinewidth": 0,
             "ticks": ""
            },
            "colorscale": [
             [
              0,
              "#0d0887"
             ],
             [
              0.1111111111111111,
              "#46039f"
             ],
             [
              0.2222222222222222,
              "#7201a8"
             ],
             [
              0.3333333333333333,
              "#9c179e"
             ],
             [
              0.4444444444444444,
              "#bd3786"
             ],
             [
              0.5555555555555556,
              "#d8576b"
             ],
             [
              0.6666666666666666,
              "#ed7953"
             ],
             [
              0.7777777777777778,
              "#fb9f3a"
             ],
             [
              0.8888888888888888,
              "#fdca26"
             ],
             [
              1,
              "#f0f921"
             ]
            ],
            "type": "contour"
           }
          ],
          "contourcarpet": [
           {
            "colorbar": {
             "outlinewidth": 0,
             "ticks": ""
            },
            "type": "contourcarpet"
           }
          ],
          "heatmap": [
           {
            "colorbar": {
             "outlinewidth": 0,
             "ticks": ""
            },
            "colorscale": [
             [
              0,
              "#0d0887"
             ],
             [
              0.1111111111111111,
              "#46039f"
             ],
             [
              0.2222222222222222,
              "#7201a8"
             ],
             [
              0.3333333333333333,
              "#9c179e"
             ],
             [
              0.4444444444444444,
              "#bd3786"
             ],
             [
              0.5555555555555556,
              "#d8576b"
             ],
             [
              0.6666666666666666,
              "#ed7953"
             ],
             [
              0.7777777777777778,
              "#fb9f3a"
             ],
             [
              0.8888888888888888,
              "#fdca26"
             ],
             [
              1,
              "#f0f921"
             ]
            ],
            "type": "heatmap"
           }
          ],
          "heatmapgl": [
           {
            "colorbar": {
             "outlinewidth": 0,
             "ticks": ""
            },
            "colorscale": [
             [
              0,
              "#0d0887"
             ],
             [
              0.1111111111111111,
              "#46039f"
             ],
             [
              0.2222222222222222,
              "#7201a8"
             ],
             [
              0.3333333333333333,
              "#9c179e"
             ],
             [
              0.4444444444444444,
              "#bd3786"
             ],
             [
              0.5555555555555556,
              "#d8576b"
             ],
             [
              0.6666666666666666,
              "#ed7953"
             ],
             [
              0.7777777777777778,
              "#fb9f3a"
             ],
             [
              0.8888888888888888,
              "#fdca26"
             ],
             [
              1,
              "#f0f921"
             ]
            ],
            "type": "heatmapgl"
           }
          ],
          "histogram": [
           {
            "marker": {
             "pattern": {
              "fillmode": "overlay",
              "size": 10,
              "solidity": 0.2
             }
            },
            "type": "histogram"
           }
          ],
          "histogram2d": [
           {
            "colorbar": {
             "outlinewidth": 0,
             "ticks": ""
            },
            "colorscale": [
             [
              0,
              "#0d0887"
             ],
             [
              0.1111111111111111,
              "#46039f"
             ],
             [
              0.2222222222222222,
              "#7201a8"
             ],
             [
              0.3333333333333333,
              "#9c179e"
             ],
             [
              0.4444444444444444,
              "#bd3786"
             ],
             [
              0.5555555555555556,
              "#d8576b"
             ],
             [
              0.6666666666666666,
              "#ed7953"
             ],
             [
              0.7777777777777778,
              "#fb9f3a"
             ],
             [
              0.8888888888888888,
              "#fdca26"
             ],
             [
              1,
              "#f0f921"
             ]
            ],
            "type": "histogram2d"
           }
          ],
          "histogram2dcontour": [
           {
            "colorbar": {
             "outlinewidth": 0,
             "ticks": ""
            },
            "colorscale": [
             [
              0,
              "#0d0887"
             ],
             [
              0.1111111111111111,
              "#46039f"
             ],
             [
              0.2222222222222222,
              "#7201a8"
             ],
             [
              0.3333333333333333,
              "#9c179e"
             ],
             [
              0.4444444444444444,
              "#bd3786"
             ],
             [
              0.5555555555555556,
              "#d8576b"
             ],
             [
              0.6666666666666666,
              "#ed7953"
             ],
             [
              0.7777777777777778,
              "#fb9f3a"
             ],
             [
              0.8888888888888888,
              "#fdca26"
             ],
             [
              1,
              "#f0f921"
             ]
            ],
            "type": "histogram2dcontour"
           }
          ],
          "mesh3d": [
           {
            "colorbar": {
             "outlinewidth": 0,
             "ticks": ""
            },
            "type": "mesh3d"
           }
          ],
          "parcoords": [
           {
            "line": {
             "colorbar": {
              "outlinewidth": 0,
              "ticks": ""
             }
            },
            "type": "parcoords"
           }
          ],
          "pie": [
           {
            "automargin": true,
            "type": "pie"
           }
          ],
          "scatter": [
           {
            "fillpattern": {
             "fillmode": "overlay",
             "size": 10,
             "solidity": 0.2
            },
            "type": "scatter"
           }
          ],
          "scatter3d": [
           {
            "line": {
             "colorbar": {
              "outlinewidth": 0,
              "ticks": ""
             }
            },
            "marker": {
             "colorbar": {
              "outlinewidth": 0,
              "ticks": ""
             }
            },
            "type": "scatter3d"
           }
          ],
          "scattercarpet": [
           {
            "marker": {
             "colorbar": {
              "outlinewidth": 0,
              "ticks": ""
             }
            },
            "type": "scattercarpet"
           }
          ],
          "scattergeo": [
           {
            "marker": {
             "colorbar": {
              "outlinewidth": 0,
              "ticks": ""
             }
            },
            "type": "scattergeo"
           }
          ],
          "scattergl": [
           {
            "marker": {
             "colorbar": {
              "outlinewidth": 0,
              "ticks": ""
             }
            },
            "type": "scattergl"
           }
          ],
          "scattermapbox": [
           {
            "marker": {
             "colorbar": {
              "outlinewidth": 0,
              "ticks": ""
             }
            },
            "type": "scattermapbox"
           }
          ],
          "scatterpolar": [
           {
            "marker": {
             "colorbar": {
              "outlinewidth": 0,
              "ticks": ""
             }
            },
            "type": "scatterpolar"
           }
          ],
          "scatterpolargl": [
           {
            "marker": {
             "colorbar": {
              "outlinewidth": 0,
              "ticks": ""
             }
            },
            "type": "scatterpolargl"
           }
          ],
          "scatterternary": [
           {
            "marker": {
             "colorbar": {
              "outlinewidth": 0,
              "ticks": ""
             }
            },
            "type": "scatterternary"
           }
          ],
          "surface": [
           {
            "colorbar": {
             "outlinewidth": 0,
             "ticks": ""
            },
            "colorscale": [
             [
              0,
              "#0d0887"
             ],
             [
              0.1111111111111111,
              "#46039f"
             ],
             [
              0.2222222222222222,
              "#7201a8"
             ],
             [
              0.3333333333333333,
              "#9c179e"
             ],
             [
              0.4444444444444444,
              "#bd3786"
             ],
             [
              0.5555555555555556,
              "#d8576b"
             ],
             [
              0.6666666666666666,
              "#ed7953"
             ],
             [
              0.7777777777777778,
              "#fb9f3a"
             ],
             [
              0.8888888888888888,
              "#fdca26"
             ],
             [
              1,
              "#f0f921"
             ]
            ],
            "type": "surface"
           }
          ],
          "table": [
           {
            "cells": {
             "fill": {
              "color": "#EBF0F8"
             },
             "line": {
              "color": "white"
             }
            },
            "header": {
             "fill": {
              "color": "#C8D4E3"
             },
             "line": {
              "color": "white"
             }
            },
            "type": "table"
           }
          ]
         },
         "layout": {
          "annotationdefaults": {
           "arrowcolor": "#2a3f5f",
           "arrowhead": 0,
           "arrowwidth": 1
          },
          "autotypenumbers": "strict",
          "coloraxis": {
           "colorbar": {
            "outlinewidth": 0,
            "ticks": ""
           }
          },
          "colorscale": {
           "diverging": [
            [
             0,
             "#8e0152"
            ],
            [
             0.1,
             "#c51b7d"
            ],
            [
             0.2,
             "#de77ae"
            ],
            [
             0.3,
             "#f1b6da"
            ],
            [
             0.4,
             "#fde0ef"
            ],
            [
             0.5,
             "#f7f7f7"
            ],
            [
             0.6,
             "#e6f5d0"
            ],
            [
             0.7,
             "#b8e186"
            ],
            [
             0.8,
             "#7fbc41"
            ],
            [
             0.9,
             "#4d9221"
            ],
            [
             1,
             "#276419"
            ]
           ],
           "sequential": [
            [
             0,
             "#0d0887"
            ],
            [
             0.1111111111111111,
             "#46039f"
            ],
            [
             0.2222222222222222,
             "#7201a8"
            ],
            [
             0.3333333333333333,
             "#9c179e"
            ],
            [
             0.4444444444444444,
             "#bd3786"
            ],
            [
             0.5555555555555556,
             "#d8576b"
            ],
            [
             0.6666666666666666,
             "#ed7953"
            ],
            [
             0.7777777777777778,
             "#fb9f3a"
            ],
            [
             0.8888888888888888,
             "#fdca26"
            ],
            [
             1,
             "#f0f921"
            ]
           ],
           "sequentialminus": [
            [
             0,
             "#0d0887"
            ],
            [
             0.1111111111111111,
             "#46039f"
            ],
            [
             0.2222222222222222,
             "#7201a8"
            ],
            [
             0.3333333333333333,
             "#9c179e"
            ],
            [
             0.4444444444444444,
             "#bd3786"
            ],
            [
             0.5555555555555556,
             "#d8576b"
            ],
            [
             0.6666666666666666,
             "#ed7953"
            ],
            [
             0.7777777777777778,
             "#fb9f3a"
            ],
            [
             0.8888888888888888,
             "#fdca26"
            ],
            [
             1,
             "#f0f921"
            ]
           ]
          },
          "colorway": [
           "#636efa",
           "#EF553B",
           "#00cc96",
           "#ab63fa",
           "#FFA15A",
           "#19d3f3",
           "#FF6692",
           "#B6E880",
           "#FF97FF",
           "#FECB52"
          ],
          "font": {
           "color": "#2a3f5f"
          },
          "geo": {
           "bgcolor": "white",
           "lakecolor": "white",
           "landcolor": "#E5ECF6",
           "showlakes": true,
           "showland": true,
           "subunitcolor": "white"
          },
          "hoverlabel": {
           "align": "left"
          },
          "hovermode": "closest",
          "mapbox": {
           "style": "light"
          },
          "paper_bgcolor": "white",
          "plot_bgcolor": "#E5ECF6",
          "polar": {
           "angularaxis": {
            "gridcolor": "white",
            "linecolor": "white",
            "ticks": ""
           },
           "bgcolor": "#E5ECF6",
           "radialaxis": {
            "gridcolor": "white",
            "linecolor": "white",
            "ticks": ""
           }
          },
          "scene": {
           "xaxis": {
            "backgroundcolor": "#E5ECF6",
            "gridcolor": "white",
            "gridwidth": 2,
            "linecolor": "white",
            "showbackground": true,
            "ticks": "",
            "zerolinecolor": "white"
           },
           "yaxis": {
            "backgroundcolor": "#E5ECF6",
            "gridcolor": "white",
            "gridwidth": 2,
            "linecolor": "white",
            "showbackground": true,
            "ticks": "",
            "zerolinecolor": "white"
           },
           "zaxis": {
            "backgroundcolor": "#E5ECF6",
            "gridcolor": "white",
            "gridwidth": 2,
            "linecolor": "white",
            "showbackground": true,
            "ticks": "",
            "zerolinecolor": "white"
           }
          },
          "shapedefaults": {
           "line": {
            "color": "#2a3f5f"
           }
          },
          "ternary": {
           "aaxis": {
            "gridcolor": "white",
            "linecolor": "white",
            "ticks": ""
           },
           "baxis": {
            "gridcolor": "white",
            "linecolor": "white",
            "ticks": ""
           },
           "bgcolor": "#E5ECF6",
           "caxis": {
            "gridcolor": "white",
            "linecolor": "white",
            "ticks": ""
           }
          },
          "title": {
           "x": 0.05
          },
          "xaxis": {
           "automargin": true,
           "gridcolor": "white",
           "linecolor": "white",
           "ticks": "",
           "title": {
            "standoff": 15
           },
           "zerolinecolor": "white",
           "zerolinewidth": 2
          },
          "yaxis": {
           "automargin": true,
           "gridcolor": "white",
           "linecolor": "white",
           "ticks": "",
           "title": {
            "standoff": 15
           },
           "zerolinecolor": "white",
           "zerolinewidth": 2
          }
         }
        },
        "xaxis": {
         "anchor": "y",
         "domain": [
          0,
          1
         ],
         "type": "date"
        },
        "yaxis": {
         "anchor": "x",
         "domain": [
          0,
          1
         ],
         "title": {
          "text": "Machine"
         }
        }
       }
      }
     },
     "metadata": {},
     "output_type": "display_data"
    },
    {
     "name": "stdout",
     "output_type": "stream",
     "text": [
      "finished! no legal actions possible after 140 steps\n"
     ]
    },
    {
     "data": {
      "application/vnd.plotly.v1+json": {
       "config": {
        "plotlyServerURL": "https://plot.ly"
       },
       "data": [
        {
         "alignmentgroup": "True",
         "base": [
          "2022-01-01T00:00:01",
          "2022-01-01T00:05:39",
          "2022-01-01T00:07:29",
          "2022-01-01T00:02:46",
          "2022-01-01T00:11:10",
          "2022-01-01T00:16:53",
          "2022-01-01T00:01:35",
          "2022-01-01T00:04:07",
          "2022-01-01T00:19:11",
          "2022-01-01T00:22:41"
         ],
         "hovertemplate": "Job=job_09<br>Start=%{base}<br>Finish=%{x}<br>Machine=%{y}<extra></extra>",
         "legendgroup": "job_09",
         "marker": {
          "color": "#636efa",
          "pattern": {
           "shape": ""
          }
         },
         "name": "job_09",
         "offsetgroup": "job_09",
         "orientation": "h",
         "showlegend": true,
         "textposition": "auto",
         "type": "bar",
         "x": [
          93000,
          65000,
          89000,
          80000,
          75000,
          57000,
          70000,
          84000,
          92000,
          96000
         ],
         "xaxis": "x",
         "y": [
          "machine_01",
          "machine_02",
          "machine_03",
          "machine_04",
          "machine_05",
          "machine_06",
          "machine_07",
          "machine_08",
          "machine_09",
          "machine_10"
         ],
         "yaxis": "y"
        },
        {
         "alignmentgroup": "True",
         "base": [
          "2022-01-01T00:02:25",
          "2022-01-01T00:04:34",
          "2022-01-01T00:14:20",
          "2022-01-01T00:15:15",
          "2022-01-01T00:12:26",
          "2022-01-01T00:08:41",
          "2022-01-01T00:07:30",
          "2022-01-01T00:10:06",
          "2022-01-01T00:01:24",
          "2022-01-01T00:00:01"
         ],
         "hovertemplate": "Job=job_03<br>Start=%{base}<br>Finish=%{x}<br>Machine=%{y}<extra></extra>",
         "legendgroup": "job_03",
         "marker": {
          "color": "#EF553B",
          "pattern": {
           "shape": ""
          }
         },
         "name": "job_03",
         "offsetgroup": "job_03",
         "orientation": "h",
         "showlegend": true,
         "textposition": "auto",
         "type": "bar",
         "x": [
          82000,
          64000,
          54000,
          76000,
          84000,
          84000,
          63000,
          77000,
          60000,
          82000
         ],
         "xaxis": "x",
         "y": [
          "machine_01",
          "machine_02",
          "machine_03",
          "machine_04",
          "machine_05",
          "machine_06",
          "machine_07",
          "machine_08",
          "machine_09",
          "machine_10"
         ],
         "yaxis": "y"
        },
        {
         "alignmentgroup": "True",
         "base": [
          "2022-01-01T00:03:48",
          "2022-01-01T00:08:41",
          "2022-01-01T00:20:55",
          "2022-01-01T00:01:10",
          "2022-01-01T00:17:27",
          "2022-01-01T00:19:56",
          "2022-01-01T00:16:29",
          "2022-01-01T00:13:05",
          "2022-01-01T00:11:26",
          "2022-01-01T00:14:01"
         ],
         "hovertemplate": "Job=job_10<br>Start=%{base}<br>Finish=%{x}<br>Machine=%{y}<extra></extra>",
         "legendgroup": "job_10",
         "marker": {
          "color": "#00cc96",
          "pattern": {
           "shape": ""
          }
         },
         "name": "job_10",
         "offsetgroup": "job_10",
         "orientation": "h",
         "showlegend": true,
         "textposition": "auto",
         "type": "bar",
         "x": [
          58000,
          81000,
          95000,
          49000,
          80000,
          58000,
          57000,
          55000,
          66000,
          95000
         ],
         "xaxis": "x",
         "y": [
          "machine_01",
          "machine_02",
          "machine_03",
          "machine_04",
          "machine_05",
          "machine_06",
          "machine_07",
          "machine_08",
          "machine_09",
          "machine_10"
         ],
         "yaxis": "y"
        },
        {
         "alignmentgroup": "True",
         "base": [
          "2022-01-01T00:08:14",
          "2022-01-01T00:01:40",
          "2022-01-01T00:13:14",
          "2022-01-01T00:06:38",
          "2022-01-01T00:03:13",
          "2022-01-01T00:15:14",
          "2022-01-01T00:17:27",
          "2022-01-01T00:00:01",
          "2022-01-01T00:09:49",
          "2022-01-01T00:20:28"
         ],
         "hovertemplate": "Job=job_07<br>Start=%{base}<br>Finish=%{x}<br>Machine=%{y}<extra></extra>",
         "legendgroup": "job_07",
         "marker": {
          "color": "#ab63fa",
          "pattern": {
           "shape": ""
          }
         },
         "name": "job_07",
         "offsetgroup": "job_07",
         "orientation": "h",
         "showlegend": true,
         "textposition": "auto",
         "type": "bar",
         "x": [
          94000,
          85000,
          65000,
          95000,
          96000,
          98000,
          51000,
          49000,
          96000,
          70000
         ],
         "xaxis": "x",
         "y": [
          "machine_01",
          "machine_02",
          "machine_03",
          "machine_04",
          "machine_05",
          "machine_06",
          "machine_07",
          "machine_08",
          "machine_09",
          "machine_10"
         ],
         "yaxis": "y"
        },
        {
         "alignmentgroup": "True",
         "base": [
          "2022-01-01T00:09:49",
          "2022-01-01T00:23:51",
          "2022-01-01T00:12:07",
          "2022-01-01T00:00:01",
          "2022-01-01T00:04:50",
          "2022-01-01T00:18:48",
          "2022-01-01T00:13:39",
          "2022-01-01T00:22:44",
          "2022-01-01T00:07:40",
          "2022-01-01T00:06:18"
         ],
         "hovertemplate": "Job=job_05<br>Start=%{base}<br>Finish=%{x}<br>Machine=%{y}<extra></extra>",
         "legendgroup": "job_05",
         "marker": {
          "color": "#FFA15A",
          "pattern": {
           "shape": ""
          }
         },
         "name": "job_05",
         "offsetgroup": "job_05",
         "orientation": "h",
         "showlegend": true,
         "textposition": "auto",
         "type": "bar",
         "x": [
          98000,
          85000,
          66000,
          68000,
          87000,
          67000,
          94000,
          66000,
          94000,
          81000
         ],
         "xaxis": "x",
         "y": [
          "machine_01",
          "machine_02",
          "machine_03",
          "machine_04",
          "machine_05",
          "machine_06",
          "machine_07",
          "machine_08",
          "machine_09",
          "machine_10"
         ],
         "yaxis": "y"
        },
        {
         "alignmentgroup": "True",
         "base": [
          "2022-01-01T00:13:05",
          "2022-01-01T00:07:30",
          "2022-01-01T00:06:38",
          "2022-01-01T00:05:16",
          "2022-01-01T00:01:35",
          "2022-01-01T00:10:06",
          "2022-01-01T00:03:13",
          "2022-01-01T00:11:40",
          "2022-01-01T00:14:07",
          "2022-01-01T00:17:51"
         ],
         "hovertemplate": "Job=job_08<br>Start=%{base}<br>Finish=%{x}<br>Machine=%{y}<extra></extra>",
         "legendgroup": "job_08",
         "marker": {
          "color": "#19d3f3",
          "pattern": {
           "shape": ""
          }
         },
         "name": "job_08",
         "offsetgroup": "job_08",
         "orientation": "h",
         "showlegend": true,
         "textposition": "auto",
         "type": "bar",
         "x": [
          61000,
          70000,
          50000,
          81000,
          97000,
          93000,
          72000,
          84000,
          94000,
          78000
         ],
         "xaxis": "x",
         "y": [
          "machine_01",
          "machine_02",
          "machine_03",
          "machine_04",
          "machine_05",
          "machine_06",
          "machine_07",
          "machine_08",
          "machine_09",
          "machine_10"
         ],
         "yaxis": "y"
        },
        {
         "alignmentgroup": "True",
         "base": [
          "2022-01-01T00:14:07",
          "2022-01-01T00:03:33",
          "2022-01-01T00:02:25",
          "2022-01-01T00:08:14",
          "2022-01-01T00:06:18",
          "2022-01-01T00:12:07",
          "2022-01-01T00:09:08",
          "2022-01-01T00:00:51",
          "2022-01-01T00:18:04",
          "2022-01-01T00:16:29"
         ],
         "hovertemplate": "Job=job_04<br>Start=%{base}<br>Finish=%{x}<br>Machine=%{y}<extra></extra>",
         "legendgroup": "job_04",
         "marker": {
          "color": "#FF6692",
          "pattern": {
           "shape": ""
          }
         },
         "name": "job_04",
         "offsetgroup": "job_04",
         "orientation": "h",
         "showlegend": true,
         "textposition": "auto",
         "type": "bar",
         "x": [
          75000,
          60000,
          67000,
          53000,
          98000,
          65000,
          74000,
          93000,
          66000,
          62000
         ],
         "xaxis": "x",
         "y": [
          "machine_01",
          "machine_02",
          "machine_03",
          "machine_04",
          "machine_05",
          "machine_06",
          "machine_07",
          "machine_08",
          "machine_09",
          "machine_10"
         ],
         "yaxis": "y"
        },
        {
         "alignmentgroup": "True",
         "base": [
          "2022-01-01T00:15:23",
          "2022-01-01T00:16:55",
          "2022-01-01T00:10:33",
          "2022-01-01T00:04:26",
          "2022-01-01T00:09:18",
          "2022-01-01T00:00:01",
          "2022-01-01T00:06:21",
          "2022-01-01T00:18:17",
          "2022-01-01T00:12:33",
          "2022-01-01T00:24:18"
         ],
         "hovertemplate": "Job=job_02<br>Start=%{base}<br>Finish=%{x}<br>Machine=%{y}<extra></extra>",
         "legendgroup": "job_02",
         "marker": {
          "color": "#B6E880",
          "pattern": {
           "shape": ""
          }
         },
         "name": "job_02",
         "offsetgroup": "job_02",
         "orientation": "h",
         "showlegend": true,
         "textposition": "auto",
         "type": "bar",
         "x": [
          91000,
          81000,
          93000,
          49000,
          74000,
          71000,
          68000,
          93000,
          65000,
          62000
         ],
         "xaxis": "x",
         "y": [
          "machine_01",
          "machine_02",
          "machine_03",
          "machine_04",
          "machine_05",
          "machine_06",
          "machine_07",
          "machine_08",
          "machine_09",
          "machine_10"
         ],
         "yaxis": "y"
        },
        {
         "alignmentgroup": "True",
         "base": [
          "2022-01-01T00:24:00",
          "2022-01-01T00:00:01",
          "2022-01-01T00:18:04",
          "2022-01-01T00:22:41",
          "2022-01-01T00:07:57",
          "2022-01-01T00:13:13",
          "2022-01-01T00:15:23",
          "2022-01-01T00:19:56",
          "2022-01-01T00:16:44",
          "2022-01-01T00:21:39"
         ],
         "hovertemplate": "Job=job_06<br>Start=%{base}<br>Finish=%{x}<br>Machine=%{y}<extra></extra>",
         "legendgroup": "job_06",
         "marker": {
          "color": "#FF97FF",
          "pattern": {
           "shape": ""
          }
         },
         "name": "job_06",
         "offsetgroup": "job_06",
         "orientation": "h",
         "showlegend": true,
         "textposition": "auto",
         "type": "bar",
         "x": [
          87000,
          98000,
          79000,
          78000,
          80000,
          63000,
          65000,
          68000,
          79000,
          61000
         ],
         "xaxis": "x",
         "y": [
          "machine_01",
          "machine_02",
          "machine_03",
          "machine_04",
          "machine_05",
          "machine_06",
          "machine_07",
          "machine_08",
          "machine_09",
          "machine_10"
         ],
         "yaxis": "y"
        },
        {
         "alignmentgroup": "True",
         "base": [
          "2022-01-01T00:25:28",
          "2022-01-01T00:10:03",
          "2022-01-01T00:15:15",
          "2022-01-01T00:26:54",
          "2022-01-01T00:00:01",
          "2022-01-01T00:06:21",
          "2022-01-01T00:04:47",
          "2022-01-01T00:21:05",
          "2022-01-01T00:02:25",
          "2022-01-01T00:19:11"
         ],
         "hovertemplate": "Job=job_01<br>Start=%{base}<br>Finish=%{x}<br>Machine=%{y}<extra></extra>",
         "legendgroup": "job_01",
         "marker": {
          "color": "#FECB52",
          "pattern": {
           "shape": ""
          }
         },
         "name": "job_01",
         "offsetgroup": "job_01",
         "orientation": "h",
         "showlegend": true,
         "textposition": "auto",
         "type": "bar",
         "x": [
          85000,
          66000,
          88000,
          91000,
          87000,
          98000,
          93000,
          98000,
          67000,
          76000
         ],
         "xaxis": "x",
         "y": [
          "machine_01",
          "machine_02",
          "machine_03",
          "machine_04",
          "machine_05",
          "machine_06",
          "machine_07",
          "machine_08",
          "machine_09",
          "machine_10"
         ],
         "yaxis": "y"
        }
       ],
       "layout": {
        "barmode": "overlay",
        "legend": {
         "title": {
          "text": "Job"
         },
         "tracegroupgap": 0
        },
        "margin": {
         "t": 60
        },
        "template": {
         "data": {
          "bar": [
           {
            "error_x": {
             "color": "#2a3f5f"
            },
            "error_y": {
             "color": "#2a3f5f"
            },
            "marker": {
             "line": {
              "color": "#E5ECF6",
              "width": 0.5
             },
             "pattern": {
              "fillmode": "overlay",
              "size": 10,
              "solidity": 0.2
             }
            },
            "type": "bar"
           }
          ],
          "barpolar": [
           {
            "marker": {
             "line": {
              "color": "#E5ECF6",
              "width": 0.5
             },
             "pattern": {
              "fillmode": "overlay",
              "size": 10,
              "solidity": 0.2
             }
            },
            "type": "barpolar"
           }
          ],
          "carpet": [
           {
            "aaxis": {
             "endlinecolor": "#2a3f5f",
             "gridcolor": "white",
             "linecolor": "white",
             "minorgridcolor": "white",
             "startlinecolor": "#2a3f5f"
            },
            "baxis": {
             "endlinecolor": "#2a3f5f",
             "gridcolor": "white",
             "linecolor": "white",
             "minorgridcolor": "white",
             "startlinecolor": "#2a3f5f"
            },
            "type": "carpet"
           }
          ],
          "choropleth": [
           {
            "colorbar": {
             "outlinewidth": 0,
             "ticks": ""
            },
            "type": "choropleth"
           }
          ],
          "contour": [
           {
            "colorbar": {
             "outlinewidth": 0,
             "ticks": ""
            },
            "colorscale": [
             [
              0,
              "#0d0887"
             ],
             [
              0.1111111111111111,
              "#46039f"
             ],
             [
              0.2222222222222222,
              "#7201a8"
             ],
             [
              0.3333333333333333,
              "#9c179e"
             ],
             [
              0.4444444444444444,
              "#bd3786"
             ],
             [
              0.5555555555555556,
              "#d8576b"
             ],
             [
              0.6666666666666666,
              "#ed7953"
             ],
             [
              0.7777777777777778,
              "#fb9f3a"
             ],
             [
              0.8888888888888888,
              "#fdca26"
             ],
             [
              1,
              "#f0f921"
             ]
            ],
            "type": "contour"
           }
          ],
          "contourcarpet": [
           {
            "colorbar": {
             "outlinewidth": 0,
             "ticks": ""
            },
            "type": "contourcarpet"
           }
          ],
          "heatmap": [
           {
            "colorbar": {
             "outlinewidth": 0,
             "ticks": ""
            },
            "colorscale": [
             [
              0,
              "#0d0887"
             ],
             [
              0.1111111111111111,
              "#46039f"
             ],
             [
              0.2222222222222222,
              "#7201a8"
             ],
             [
              0.3333333333333333,
              "#9c179e"
             ],
             [
              0.4444444444444444,
              "#bd3786"
             ],
             [
              0.5555555555555556,
              "#d8576b"
             ],
             [
              0.6666666666666666,
              "#ed7953"
             ],
             [
              0.7777777777777778,
              "#fb9f3a"
             ],
             [
              0.8888888888888888,
              "#fdca26"
             ],
             [
              1,
              "#f0f921"
             ]
            ],
            "type": "heatmap"
           }
          ],
          "heatmapgl": [
           {
            "colorbar": {
             "outlinewidth": 0,
             "ticks": ""
            },
            "colorscale": [
             [
              0,
              "#0d0887"
             ],
             [
              0.1111111111111111,
              "#46039f"
             ],
             [
              0.2222222222222222,
              "#7201a8"
             ],
             [
              0.3333333333333333,
              "#9c179e"
             ],
             [
              0.4444444444444444,
              "#bd3786"
             ],
             [
              0.5555555555555556,
              "#d8576b"
             ],
             [
              0.6666666666666666,
              "#ed7953"
             ],
             [
              0.7777777777777778,
              "#fb9f3a"
             ],
             [
              0.8888888888888888,
              "#fdca26"
             ],
             [
              1,
              "#f0f921"
             ]
            ],
            "type": "heatmapgl"
           }
          ],
          "histogram": [
           {
            "marker": {
             "pattern": {
              "fillmode": "overlay",
              "size": 10,
              "solidity": 0.2
             }
            },
            "type": "histogram"
           }
          ],
          "histogram2d": [
           {
            "colorbar": {
             "outlinewidth": 0,
             "ticks": ""
            },
            "colorscale": [
             [
              0,
              "#0d0887"
             ],
             [
              0.1111111111111111,
              "#46039f"
             ],
             [
              0.2222222222222222,
              "#7201a8"
             ],
             [
              0.3333333333333333,
              "#9c179e"
             ],
             [
              0.4444444444444444,
              "#bd3786"
             ],
             [
              0.5555555555555556,
              "#d8576b"
             ],
             [
              0.6666666666666666,
              "#ed7953"
             ],
             [
              0.7777777777777778,
              "#fb9f3a"
             ],
             [
              0.8888888888888888,
              "#fdca26"
             ],
             [
              1,
              "#f0f921"
             ]
            ],
            "type": "histogram2d"
           }
          ],
          "histogram2dcontour": [
           {
            "colorbar": {
             "outlinewidth": 0,
             "ticks": ""
            },
            "colorscale": [
             [
              0,
              "#0d0887"
             ],
             [
              0.1111111111111111,
              "#46039f"
             ],
             [
              0.2222222222222222,
              "#7201a8"
             ],
             [
              0.3333333333333333,
              "#9c179e"
             ],
             [
              0.4444444444444444,
              "#bd3786"
             ],
             [
              0.5555555555555556,
              "#d8576b"
             ],
             [
              0.6666666666666666,
              "#ed7953"
             ],
             [
              0.7777777777777778,
              "#fb9f3a"
             ],
             [
              0.8888888888888888,
              "#fdca26"
             ],
             [
              1,
              "#f0f921"
             ]
            ],
            "type": "histogram2dcontour"
           }
          ],
          "mesh3d": [
           {
            "colorbar": {
             "outlinewidth": 0,
             "ticks": ""
            },
            "type": "mesh3d"
           }
          ],
          "parcoords": [
           {
            "line": {
             "colorbar": {
              "outlinewidth": 0,
              "ticks": ""
             }
            },
            "type": "parcoords"
           }
          ],
          "pie": [
           {
            "automargin": true,
            "type": "pie"
           }
          ],
          "scatter": [
           {
            "fillpattern": {
             "fillmode": "overlay",
             "size": 10,
             "solidity": 0.2
            },
            "type": "scatter"
           }
          ],
          "scatter3d": [
           {
            "line": {
             "colorbar": {
              "outlinewidth": 0,
              "ticks": ""
             }
            },
            "marker": {
             "colorbar": {
              "outlinewidth": 0,
              "ticks": ""
             }
            },
            "type": "scatter3d"
           }
          ],
          "scattercarpet": [
           {
            "marker": {
             "colorbar": {
              "outlinewidth": 0,
              "ticks": ""
             }
            },
            "type": "scattercarpet"
           }
          ],
          "scattergeo": [
           {
            "marker": {
             "colorbar": {
              "outlinewidth": 0,
              "ticks": ""
             }
            },
            "type": "scattergeo"
           }
          ],
          "scattergl": [
           {
            "marker": {
             "colorbar": {
              "outlinewidth": 0,
              "ticks": ""
             }
            },
            "type": "scattergl"
           }
          ],
          "scattermapbox": [
           {
            "marker": {
             "colorbar": {
              "outlinewidth": 0,
              "ticks": ""
             }
            },
            "type": "scattermapbox"
           }
          ],
          "scatterpolar": [
           {
            "marker": {
             "colorbar": {
              "outlinewidth": 0,
              "ticks": ""
             }
            },
            "type": "scatterpolar"
           }
          ],
          "scatterpolargl": [
           {
            "marker": {
             "colorbar": {
              "outlinewidth": 0,
              "ticks": ""
             }
            },
            "type": "scatterpolargl"
           }
          ],
          "scatterternary": [
           {
            "marker": {
             "colorbar": {
              "outlinewidth": 0,
              "ticks": ""
             }
            },
            "type": "scatterternary"
           }
          ],
          "surface": [
           {
            "colorbar": {
             "outlinewidth": 0,
             "ticks": ""
            },
            "colorscale": [
             [
              0,
              "#0d0887"
             ],
             [
              0.1111111111111111,
              "#46039f"
             ],
             [
              0.2222222222222222,
              "#7201a8"
             ],
             [
              0.3333333333333333,
              "#9c179e"
             ],
             [
              0.4444444444444444,
              "#bd3786"
             ],
             [
              0.5555555555555556,
              "#d8576b"
             ],
             [
              0.6666666666666666,
              "#ed7953"
             ],
             [
              0.7777777777777778,
              "#fb9f3a"
             ],
             [
              0.8888888888888888,
              "#fdca26"
             ],
             [
              1,
              "#f0f921"
             ]
            ],
            "type": "surface"
           }
          ],
          "table": [
           {
            "cells": {
             "fill": {
              "color": "#EBF0F8"
             },
             "line": {
              "color": "white"
             }
            },
            "header": {
             "fill": {
              "color": "#C8D4E3"
             },
             "line": {
              "color": "white"
             }
            },
            "type": "table"
           }
          ]
         },
         "layout": {
          "annotationdefaults": {
           "arrowcolor": "#2a3f5f",
           "arrowhead": 0,
           "arrowwidth": 1
          },
          "autotypenumbers": "strict",
          "coloraxis": {
           "colorbar": {
            "outlinewidth": 0,
            "ticks": ""
           }
          },
          "colorscale": {
           "diverging": [
            [
             0,
             "#8e0152"
            ],
            [
             0.1,
             "#c51b7d"
            ],
            [
             0.2,
             "#de77ae"
            ],
            [
             0.3,
             "#f1b6da"
            ],
            [
             0.4,
             "#fde0ef"
            ],
            [
             0.5,
             "#f7f7f7"
            ],
            [
             0.6,
             "#e6f5d0"
            ],
            [
             0.7,
             "#b8e186"
            ],
            [
             0.8,
             "#7fbc41"
            ],
            [
             0.9,
             "#4d9221"
            ],
            [
             1,
             "#276419"
            ]
           ],
           "sequential": [
            [
             0,
             "#0d0887"
            ],
            [
             0.1111111111111111,
             "#46039f"
            ],
            [
             0.2222222222222222,
             "#7201a8"
            ],
            [
             0.3333333333333333,
             "#9c179e"
            ],
            [
             0.4444444444444444,
             "#bd3786"
            ],
            [
             0.5555555555555556,
             "#d8576b"
            ],
            [
             0.6666666666666666,
             "#ed7953"
            ],
            [
             0.7777777777777778,
             "#fb9f3a"
            ],
            [
             0.8888888888888888,
             "#fdca26"
            ],
            [
             1,
             "#f0f921"
            ]
           ],
           "sequentialminus": [
            [
             0,
             "#0d0887"
            ],
            [
             0.1111111111111111,
             "#46039f"
            ],
            [
             0.2222222222222222,
             "#7201a8"
            ],
            [
             0.3333333333333333,
             "#9c179e"
            ],
            [
             0.4444444444444444,
             "#bd3786"
            ],
            [
             0.5555555555555556,
             "#d8576b"
            ],
            [
             0.6666666666666666,
             "#ed7953"
            ],
            [
             0.7777777777777778,
             "#fb9f3a"
            ],
            [
             0.8888888888888888,
             "#fdca26"
            ],
            [
             1,
             "#f0f921"
            ]
           ]
          },
          "colorway": [
           "#636efa",
           "#EF553B",
           "#00cc96",
           "#ab63fa",
           "#FFA15A",
           "#19d3f3",
           "#FF6692",
           "#B6E880",
           "#FF97FF",
           "#FECB52"
          ],
          "font": {
           "color": "#2a3f5f"
          },
          "geo": {
           "bgcolor": "white",
           "lakecolor": "white",
           "landcolor": "#E5ECF6",
           "showlakes": true,
           "showland": true,
           "subunitcolor": "white"
          },
          "hoverlabel": {
           "align": "left"
          },
          "hovermode": "closest",
          "mapbox": {
           "style": "light"
          },
          "paper_bgcolor": "white",
          "plot_bgcolor": "#E5ECF6",
          "polar": {
           "angularaxis": {
            "gridcolor": "white",
            "linecolor": "white",
            "ticks": ""
           },
           "bgcolor": "#E5ECF6",
           "radialaxis": {
            "gridcolor": "white",
            "linecolor": "white",
            "ticks": ""
           }
          },
          "scene": {
           "xaxis": {
            "backgroundcolor": "#E5ECF6",
            "gridcolor": "white",
            "gridwidth": 2,
            "linecolor": "white",
            "showbackground": true,
            "ticks": "",
            "zerolinecolor": "white"
           },
           "yaxis": {
            "backgroundcolor": "#E5ECF6",
            "gridcolor": "white",
            "gridwidth": 2,
            "linecolor": "white",
            "showbackground": true,
            "ticks": "",
            "zerolinecolor": "white"
           },
           "zaxis": {
            "backgroundcolor": "#E5ECF6",
            "gridcolor": "white",
            "gridwidth": 2,
            "linecolor": "white",
            "showbackground": true,
            "ticks": "",
            "zerolinecolor": "white"
           }
          },
          "shapedefaults": {
           "line": {
            "color": "#2a3f5f"
           }
          },
          "ternary": {
           "aaxis": {
            "gridcolor": "white",
            "linecolor": "white",
            "ticks": ""
           },
           "baxis": {
            "gridcolor": "white",
            "linecolor": "white",
            "ticks": ""
           },
           "bgcolor": "#E5ECF6",
           "caxis": {
            "gridcolor": "white",
            "linecolor": "white",
            "ticks": ""
           }
          },
          "title": {
           "x": 0.05
          },
          "xaxis": {
           "automargin": true,
           "gridcolor": "white",
           "linecolor": "white",
           "ticks": "",
           "title": {
            "standoff": 15
           },
           "zerolinecolor": "white",
           "zerolinewidth": 2
          },
          "yaxis": {
           "automargin": true,
           "gridcolor": "white",
           "linecolor": "white",
           "ticks": "",
           "title": {
            "standoff": 15
           },
           "zerolinecolor": "white",
           "zerolinewidth": 2
          }
         }
        },
        "xaxis": {
         "anchor": "y",
         "domain": [
          0,
          1
         ],
         "type": "date"
        },
        "yaxis": {
         "anchor": "x",
         "domain": [
          0,
          1
         ],
         "title": {
          "text": "Machine"
         }
        }
       }
      }
     },
     "metadata": {},
     "output_type": "display_data"
    },
    {
     "name": "stdout",
     "output_type": "stream",
     "text": [
      "finished! no legal actions possible after 137 steps\n"
     ]
    },
    {
     "data": {
      "application/vnd.plotly.v1+json": {
       "config": {
        "plotlyServerURL": "https://plot.ly"
       },
       "data": [
        {
         "alignmentgroup": "True",
         "base": [
          "2022-01-01T00:00:51",
          "2022-01-01T00:12:12",
          "2022-01-01T00:13:18",
          "2022-01-01T00:08:16",
          "2022-01-01T00:16:13",
          "2022-01-01T00:17:29",
          "2022-01-01T00:07:05",
          "2022-01-01T00:09:59",
          "2022-01-01T00:18:27",
          "2022-01-01T00:20:00"
         ],
         "hovertemplate": "Job=job_09<br>Start=%{base}<br>Finish=%{x}<br>Machine=%{y}<extra></extra>",
         "legendgroup": "job_09",
         "marker": {
          "color": "#636efa",
          "pattern": {
           "shape": ""
          }
         },
         "name": "job_09",
         "offsetgroup": "job_09",
         "orientation": "h",
         "showlegend": true,
         "textposition": "auto",
         "type": "bar",
         "x": [
          93000,
          65000,
          89000,
          80000,
          75000,
          57000,
          70000,
          84000,
          92000,
          96000
         ],
         "xaxis": "x",
         "y": [
          "machine_01",
          "machine_02",
          "machine_03",
          "machine_04",
          "machine_05",
          "machine_06",
          "machine_07",
          "machine_08",
          "machine_09",
          "machine_10"
         ],
         "yaxis": "y"
        },
        {
         "alignmentgroup": "True",
         "base": [
          "2022-01-01T00:02:25",
          "2022-01-01T00:06:36",
          "2022-01-01T00:18:18",
          "2022-01-01T00:20:00",
          "2022-01-01T00:14:48",
          "2022-01-01T00:09:20",
          "2022-01-01T00:08:16",
          "2022-01-01T00:11:58",
          "2022-01-01T00:01:24",
          "2022-01-01T00:00:01"
         ],
         "hovertemplate": "Job=job_03<br>Start=%{base}<br>Finish=%{x}<br>Machine=%{y}<extra></extra>",
         "legendgroup": "job_03",
         "marker": {
          "color": "#EF553B",
          "pattern": {
           "shape": ""
          }
         },
         "name": "job_03",
         "offsetgroup": "job_03",
         "orientation": "h",
         "showlegend": true,
         "textposition": "auto",
         "type": "bar",
         "x": [
          82000,
          64000,
          54000,
          76000,
          84000,
          84000,
          63000,
          77000,
          60000,
          82000
         ],
         "xaxis": "x",
         "y": [
          "machine_01",
          "machine_02",
          "machine_03",
          "machine_04",
          "machine_05",
          "machine_06",
          "machine_07",
          "machine_08",
          "machine_09",
          "machine_10"
         ],
         "yaxis": "y"
        },
        {
         "alignmentgroup": "True",
         "base": [
          "2022-01-01T00:03:48",
          "2022-01-01T00:05:14",
          "2022-01-01T00:15:36",
          "2022-01-01T00:00:01",
          "2022-01-01T00:13:16",
          "2022-01-01T00:14:37",
          "2022-01-01T00:11:46",
          "2022-01-01T00:08:12",
          "2022-01-01T00:07:05",
          "2022-01-01T00:09:37"
         ],
         "hovertemplate": "Job=job_10<br>Start=%{base}<br>Finish=%{x}<br>Machine=%{y}<extra></extra>",
         "legendgroup": "job_10",
         "marker": {
          "color": "#00cc96",
          "pattern": {
           "shape": ""
          }
         },
         "name": "job_10",
         "offsetgroup": "job_10",
         "orientation": "h",
         "showlegend": true,
         "textposition": "auto",
         "type": "bar",
         "x": [
          58000,
          81000,
          95000,
          49000,
          80000,
          58000,
          57000,
          55000,
          66000,
          95000
         ],
         "xaxis": "x",
         "y": [
          "machine_01",
          "machine_02",
          "machine_03",
          "machine_04",
          "machine_05",
          "machine_06",
          "machine_07",
          "machine_08",
          "machine_09",
          "machine_10"
         ],
         "yaxis": "y"
        },
        {
         "alignmentgroup": "True",
         "base": [
          "2022-01-01T00:09:18",
          "2022-01-01T00:10:50",
          "2022-01-01T00:06:38",
          "2022-01-01T00:01:13",
          "2022-01-01T00:04:33",
          "2022-01-01T00:00:01",
          "2022-01-01T00:02:03",
          "2022-01-01T00:14:25",
          "2022-01-01T00:08:12",
          "2022-01-01T00:16:30"
         ],
         "hovertemplate": "Job=job_02<br>Start=%{base}<br>Finish=%{x}<br>Machine=%{y}<extra></extra>",
         "legendgroup": "job_02",
         "marker": {
          "color": "#ab63fa",
          "pattern": {
           "shape": ""
          }
         },
         "name": "job_02",
         "offsetgroup": "job_02",
         "orientation": "h",
         "showlegend": true,
         "textposition": "auto",
         "type": "bar",
         "x": [
          91000,
          81000,
          93000,
          49000,
          74000,
          71000,
          68000,
          93000,
          65000,
          62000
         ],
         "xaxis": "x",
         "y": [
          "machine_01",
          "machine_02",
          "machine_03",
          "machine_04",
          "machine_05",
          "machine_06",
          "machine_07",
          "machine_08",
          "machine_09",
          "machine_10"
         ],
         "yaxis": "y"
        },
        {
         "alignmentgroup": "True",
         "base": [
          "2022-01-01T00:12:08",
          "2022-01-01T00:03:48",
          "2022-01-01T00:17:12",
          "2022-01-01T00:10:32",
          "2022-01-01T00:08:55",
          "2022-01-01T00:18:27",
          "2022-01-01T00:21:55",
          "2022-01-01T00:01:35",
          "2022-01-01T00:13:43",
          "2022-01-01T00:22:49"
         ],
         "hovertemplate": "Job=job_07<br>Start=%{base}<br>Finish=%{x}<br>Machine=%{y}<extra></extra>",
         "legendgroup": "job_07",
         "marker": {
          "color": "#FFA15A",
          "pattern": {
           "shape": ""
          }
         },
         "name": "job_07",
         "offsetgroup": "job_07",
         "orientation": "h",
         "showlegend": true,
         "textposition": "auto",
         "type": "bar",
         "x": [
          94000,
          85000,
          65000,
          95000,
          96000,
          98000,
          51000,
          49000,
          96000,
          70000
         ],
         "xaxis": "x",
         "y": [
          "machine_01",
          "machine_02",
          "machine_03",
          "machine_04",
          "machine_05",
          "machine_06",
          "machine_07",
          "machine_08",
          "machine_09",
          "machine_10"
         ],
         "yaxis": "y"
        },
        {
         "alignmentgroup": "True",
         "base": [
          "2022-01-01T00:13:43",
          "2022-01-01T00:02:43",
          "2022-01-01T00:01:35",
          "2022-01-01T00:09:37",
          "2022-01-01T00:07:16",
          "2022-01-01T00:11:46",
          "2022-01-01T00:10:31",
          "2022-01-01T00:00:01",
          "2022-01-01T00:16:30",
          "2022-01-01T00:15:27"
         ],
         "hovertemplate": "Job=job_04<br>Start=%{base}<br>Finish=%{x}<br>Machine=%{y}<extra></extra>",
         "legendgroup": "job_04",
         "marker": {
          "color": "#19d3f3",
          "pattern": {
           "shape": ""
          }
         },
         "name": "job_04",
         "offsetgroup": "job_04",
         "orientation": "h",
         "showlegend": true,
         "textposition": "auto",
         "type": "bar",
         "x": [
          75000,
          60000,
          67000,
          53000,
          98000,
          65000,
          74000,
          93000,
          66000,
          62000
         ],
         "xaxis": "x",
         "y": [
          "machine_01",
          "machine_02",
          "machine_03",
          "machine_04",
          "machine_05",
          "machine_06",
          "machine_07",
          "machine_08",
          "machine_09",
          "machine_10"
         ],
         "yaxis": "y"
        },
        {
         "alignmentgroup": "True",
         "base": [
          "2022-01-01T00:14:59",
          "2022-01-01T00:24:10",
          "2022-01-01T00:19:13",
          "2022-01-01T00:02:03",
          "2022-01-01T00:05:48",
          "2022-01-01T00:21:55",
          "2022-01-01T00:20:20",
          "2022-01-01T00:23:03",
          "2022-01-01T00:10:38",
          "2022-01-01T00:07:16"
         ],
         "hovertemplate": "Job=job_05<br>Start=%{base}<br>Finish=%{x}<br>Machine=%{y}<extra></extra>",
         "legendgroup": "job_05",
         "marker": {
          "color": "#FF6692",
          "pattern": {
           "shape": ""
          }
         },
         "name": "job_05",
         "offsetgroup": "job_05",
         "orientation": "h",
         "showlegend": true,
         "textposition": "auto",
         "type": "bar",
         "x": [
          98000,
          85000,
          66000,
          68000,
          87000,
          67000,
          94000,
          66000,
          94000,
          81000
         ],
         "xaxis": "x",
         "y": [
          "machine_01",
          "machine_02",
          "machine_03",
          "machine_04",
          "machine_05",
          "machine_06",
          "machine_07",
          "machine_08",
          "machine_09",
          "machine_10"
         ],
         "yaxis": "y"
        },
        {
         "alignmentgroup": "True",
         "base": [
          "2022-01-01T00:17:24",
          "2022-01-01T00:00:01",
          "2022-01-01T00:10:38",
          "2022-01-01T00:15:27",
          "2022-01-01T00:03:12",
          "2022-01-01T00:04:33",
          "2022-01-01T00:05:59",
          "2022-01-01T00:13:16",
          "2022-01-01T00:09:18",
          "2022-01-01T00:14:25"
         ],
         "hovertemplate": "Job=job_06<br>Start=%{base}<br>Finish=%{x}<br>Machine=%{y}<extra></extra>",
         "legendgroup": "job_06",
         "marker": {
          "color": "#B6E880",
          "pattern": {
           "shape": ""
          }
         },
         "name": "job_06",
         "offsetgroup": "job_06",
         "orientation": "h",
         "showlegend": true,
         "textposition": "auto",
         "type": "bar",
         "x": [
          87000,
          98000,
          79000,
          78000,
          80000,
          63000,
          65000,
          68000,
          79000,
          61000
         ],
         "xaxis": "x",
         "y": [
          "machine_01",
          "machine_02",
          "machine_03",
          "machine_04",
          "machine_05",
          "machine_06",
          "machine_07",
          "machine_08",
          "machine_09",
          "machine_10"
         ],
         "yaxis": "y"
        },
        {
         "alignmentgroup": "True",
         "base": [
          "2022-01-01T00:19:03",
          "2022-01-01T00:07:41",
          "2022-01-01T00:08:48",
          "2022-01-01T00:21:17",
          "2022-01-01T00:00:01",
          "2022-01-01T00:05:59",
          "2022-01-01T00:04:25",
          "2022-01-01T00:17:24",
          "2022-01-01T00:02:25",
          "2022-01-01T00:11:13"
         ],
         "hovertemplate": "Job=job_01<br>Start=%{base}<br>Finish=%{x}<br>Machine=%{y}<extra></extra>",
         "legendgroup": "job_01",
         "marker": {
          "color": "#FF97FF",
          "pattern": {
           "shape": ""
          }
         },
         "name": "job_01",
         "offsetgroup": "job_01",
         "orientation": "h",
         "showlegend": true,
         "textposition": "auto",
         "type": "bar",
         "x": [
          85000,
          66000,
          88000,
          91000,
          87000,
          98000,
          93000,
          98000,
          67000,
          76000
         ],
         "xaxis": "x",
         "y": [
          "machine_01",
          "machine_02",
          "machine_03",
          "machine_04",
          "machine_05",
          "machine_06",
          "machine_07",
          "machine_08",
          "machine_09",
          "machine_10"
         ],
         "yaxis": "y"
        },
        {
         "alignmentgroup": "True",
         "base": [
          "2022-01-01T00:20:29",
          "2022-01-01T00:08:48",
          "2022-01-01T00:05:47",
          "2022-01-01T00:04:25",
          "2022-01-01T00:01:29",
          "2022-01-01T00:12:52",
          "2022-01-01T00:03:12",
          "2022-01-01T00:15:59",
          "2022-01-01T00:21:31",
          "2022-01-01T00:24:00"
         ],
         "hovertemplate": "Job=job_08<br>Start=%{base}<br>Finish=%{x}<br>Machine=%{y}<extra></extra>",
         "legendgroup": "job_08",
         "marker": {
          "color": "#FECB52",
          "pattern": {
           "shape": ""
          }
         },
         "name": "job_08",
         "offsetgroup": "job_08",
         "orientation": "h",
         "showlegend": true,
         "textposition": "auto",
         "type": "bar",
         "x": [
          61000,
          70000,
          50000,
          81000,
          97000,
          93000,
          72000,
          84000,
          94000,
          78000
         ],
         "xaxis": "x",
         "y": [
          "machine_01",
          "machine_02",
          "machine_03",
          "machine_04",
          "machine_05",
          "machine_06",
          "machine_07",
          "machine_08",
          "machine_09",
          "machine_10"
         ],
         "yaxis": "y"
        }
       ],
       "layout": {
        "barmode": "overlay",
        "legend": {
         "title": {
          "text": "Job"
         },
         "tracegroupgap": 0
        },
        "margin": {
         "t": 60
        },
        "template": {
         "data": {
          "bar": [
           {
            "error_x": {
             "color": "#2a3f5f"
            },
            "error_y": {
             "color": "#2a3f5f"
            },
            "marker": {
             "line": {
              "color": "#E5ECF6",
              "width": 0.5
             },
             "pattern": {
              "fillmode": "overlay",
              "size": 10,
              "solidity": 0.2
             }
            },
            "type": "bar"
           }
          ],
          "barpolar": [
           {
            "marker": {
             "line": {
              "color": "#E5ECF6",
              "width": 0.5
             },
             "pattern": {
              "fillmode": "overlay",
              "size": 10,
              "solidity": 0.2
             }
            },
            "type": "barpolar"
           }
          ],
          "carpet": [
           {
            "aaxis": {
             "endlinecolor": "#2a3f5f",
             "gridcolor": "white",
             "linecolor": "white",
             "minorgridcolor": "white",
             "startlinecolor": "#2a3f5f"
            },
            "baxis": {
             "endlinecolor": "#2a3f5f",
             "gridcolor": "white",
             "linecolor": "white",
             "minorgridcolor": "white",
             "startlinecolor": "#2a3f5f"
            },
            "type": "carpet"
           }
          ],
          "choropleth": [
           {
            "colorbar": {
             "outlinewidth": 0,
             "ticks": ""
            },
            "type": "choropleth"
           }
          ],
          "contour": [
           {
            "colorbar": {
             "outlinewidth": 0,
             "ticks": ""
            },
            "colorscale": [
             [
              0,
              "#0d0887"
             ],
             [
              0.1111111111111111,
              "#46039f"
             ],
             [
              0.2222222222222222,
              "#7201a8"
             ],
             [
              0.3333333333333333,
              "#9c179e"
             ],
             [
              0.4444444444444444,
              "#bd3786"
             ],
             [
              0.5555555555555556,
              "#d8576b"
             ],
             [
              0.6666666666666666,
              "#ed7953"
             ],
             [
              0.7777777777777778,
              "#fb9f3a"
             ],
             [
              0.8888888888888888,
              "#fdca26"
             ],
             [
              1,
              "#f0f921"
             ]
            ],
            "type": "contour"
           }
          ],
          "contourcarpet": [
           {
            "colorbar": {
             "outlinewidth": 0,
             "ticks": ""
            },
            "type": "contourcarpet"
           }
          ],
          "heatmap": [
           {
            "colorbar": {
             "outlinewidth": 0,
             "ticks": ""
            },
            "colorscale": [
             [
              0,
              "#0d0887"
             ],
             [
              0.1111111111111111,
              "#46039f"
             ],
             [
              0.2222222222222222,
              "#7201a8"
             ],
             [
              0.3333333333333333,
              "#9c179e"
             ],
             [
              0.4444444444444444,
              "#bd3786"
             ],
             [
              0.5555555555555556,
              "#d8576b"
             ],
             [
              0.6666666666666666,
              "#ed7953"
             ],
             [
              0.7777777777777778,
              "#fb9f3a"
             ],
             [
              0.8888888888888888,
              "#fdca26"
             ],
             [
              1,
              "#f0f921"
             ]
            ],
            "type": "heatmap"
           }
          ],
          "heatmapgl": [
           {
            "colorbar": {
             "outlinewidth": 0,
             "ticks": ""
            },
            "colorscale": [
             [
              0,
              "#0d0887"
             ],
             [
              0.1111111111111111,
              "#46039f"
             ],
             [
              0.2222222222222222,
              "#7201a8"
             ],
             [
              0.3333333333333333,
              "#9c179e"
             ],
             [
              0.4444444444444444,
              "#bd3786"
             ],
             [
              0.5555555555555556,
              "#d8576b"
             ],
             [
              0.6666666666666666,
              "#ed7953"
             ],
             [
              0.7777777777777778,
              "#fb9f3a"
             ],
             [
              0.8888888888888888,
              "#fdca26"
             ],
             [
              1,
              "#f0f921"
             ]
            ],
            "type": "heatmapgl"
           }
          ],
          "histogram": [
           {
            "marker": {
             "pattern": {
              "fillmode": "overlay",
              "size": 10,
              "solidity": 0.2
             }
            },
            "type": "histogram"
           }
          ],
          "histogram2d": [
           {
            "colorbar": {
             "outlinewidth": 0,
             "ticks": ""
            },
            "colorscale": [
             [
              0,
              "#0d0887"
             ],
             [
              0.1111111111111111,
              "#46039f"
             ],
             [
              0.2222222222222222,
              "#7201a8"
             ],
             [
              0.3333333333333333,
              "#9c179e"
             ],
             [
              0.4444444444444444,
              "#bd3786"
             ],
             [
              0.5555555555555556,
              "#d8576b"
             ],
             [
              0.6666666666666666,
              "#ed7953"
             ],
             [
              0.7777777777777778,
              "#fb9f3a"
             ],
             [
              0.8888888888888888,
              "#fdca26"
             ],
             [
              1,
              "#f0f921"
             ]
            ],
            "type": "histogram2d"
           }
          ],
          "histogram2dcontour": [
           {
            "colorbar": {
             "outlinewidth": 0,
             "ticks": ""
            },
            "colorscale": [
             [
              0,
              "#0d0887"
             ],
             [
              0.1111111111111111,
              "#46039f"
             ],
             [
              0.2222222222222222,
              "#7201a8"
             ],
             [
              0.3333333333333333,
              "#9c179e"
             ],
             [
              0.4444444444444444,
              "#bd3786"
             ],
             [
              0.5555555555555556,
              "#d8576b"
             ],
             [
              0.6666666666666666,
              "#ed7953"
             ],
             [
              0.7777777777777778,
              "#fb9f3a"
             ],
             [
              0.8888888888888888,
              "#fdca26"
             ],
             [
              1,
              "#f0f921"
             ]
            ],
            "type": "histogram2dcontour"
           }
          ],
          "mesh3d": [
           {
            "colorbar": {
             "outlinewidth": 0,
             "ticks": ""
            },
            "type": "mesh3d"
           }
          ],
          "parcoords": [
           {
            "line": {
             "colorbar": {
              "outlinewidth": 0,
              "ticks": ""
             }
            },
            "type": "parcoords"
           }
          ],
          "pie": [
           {
            "automargin": true,
            "type": "pie"
           }
          ],
          "scatter": [
           {
            "fillpattern": {
             "fillmode": "overlay",
             "size": 10,
             "solidity": 0.2
            },
            "type": "scatter"
           }
          ],
          "scatter3d": [
           {
            "line": {
             "colorbar": {
              "outlinewidth": 0,
              "ticks": ""
             }
            },
            "marker": {
             "colorbar": {
              "outlinewidth": 0,
              "ticks": ""
             }
            },
            "type": "scatter3d"
           }
          ],
          "scattercarpet": [
           {
            "marker": {
             "colorbar": {
              "outlinewidth": 0,
              "ticks": ""
             }
            },
            "type": "scattercarpet"
           }
          ],
          "scattergeo": [
           {
            "marker": {
             "colorbar": {
              "outlinewidth": 0,
              "ticks": ""
             }
            },
            "type": "scattergeo"
           }
          ],
          "scattergl": [
           {
            "marker": {
             "colorbar": {
              "outlinewidth": 0,
              "ticks": ""
             }
            },
            "type": "scattergl"
           }
          ],
          "scattermapbox": [
           {
            "marker": {
             "colorbar": {
              "outlinewidth": 0,
              "ticks": ""
             }
            },
            "type": "scattermapbox"
           }
          ],
          "scatterpolar": [
           {
            "marker": {
             "colorbar": {
              "outlinewidth": 0,
              "ticks": ""
             }
            },
            "type": "scatterpolar"
           }
          ],
          "scatterpolargl": [
           {
            "marker": {
             "colorbar": {
              "outlinewidth": 0,
              "ticks": ""
             }
            },
            "type": "scatterpolargl"
           }
          ],
          "scatterternary": [
           {
            "marker": {
             "colorbar": {
              "outlinewidth": 0,
              "ticks": ""
             }
            },
            "type": "scatterternary"
           }
          ],
          "surface": [
           {
            "colorbar": {
             "outlinewidth": 0,
             "ticks": ""
            },
            "colorscale": [
             [
              0,
              "#0d0887"
             ],
             [
              0.1111111111111111,
              "#46039f"
             ],
             [
              0.2222222222222222,
              "#7201a8"
             ],
             [
              0.3333333333333333,
              "#9c179e"
             ],
             [
              0.4444444444444444,
              "#bd3786"
             ],
             [
              0.5555555555555556,
              "#d8576b"
             ],
             [
              0.6666666666666666,
              "#ed7953"
             ],
             [
              0.7777777777777778,
              "#fb9f3a"
             ],
             [
              0.8888888888888888,
              "#fdca26"
             ],
             [
              1,
              "#f0f921"
             ]
            ],
            "type": "surface"
           }
          ],
          "table": [
           {
            "cells": {
             "fill": {
              "color": "#EBF0F8"
             },
             "line": {
              "color": "white"
             }
            },
            "header": {
             "fill": {
              "color": "#C8D4E3"
             },
             "line": {
              "color": "white"
             }
            },
            "type": "table"
           }
          ]
         },
         "layout": {
          "annotationdefaults": {
           "arrowcolor": "#2a3f5f",
           "arrowhead": 0,
           "arrowwidth": 1
          },
          "autotypenumbers": "strict",
          "coloraxis": {
           "colorbar": {
            "outlinewidth": 0,
            "ticks": ""
           }
          },
          "colorscale": {
           "diverging": [
            [
             0,
             "#8e0152"
            ],
            [
             0.1,
             "#c51b7d"
            ],
            [
             0.2,
             "#de77ae"
            ],
            [
             0.3,
             "#f1b6da"
            ],
            [
             0.4,
             "#fde0ef"
            ],
            [
             0.5,
             "#f7f7f7"
            ],
            [
             0.6,
             "#e6f5d0"
            ],
            [
             0.7,
             "#b8e186"
            ],
            [
             0.8,
             "#7fbc41"
            ],
            [
             0.9,
             "#4d9221"
            ],
            [
             1,
             "#276419"
            ]
           ],
           "sequential": [
            [
             0,
             "#0d0887"
            ],
            [
             0.1111111111111111,
             "#46039f"
            ],
            [
             0.2222222222222222,
             "#7201a8"
            ],
            [
             0.3333333333333333,
             "#9c179e"
            ],
            [
             0.4444444444444444,
             "#bd3786"
            ],
            [
             0.5555555555555556,
             "#d8576b"
            ],
            [
             0.6666666666666666,
             "#ed7953"
            ],
            [
             0.7777777777777778,
             "#fb9f3a"
            ],
            [
             0.8888888888888888,
             "#fdca26"
            ],
            [
             1,
             "#f0f921"
            ]
           ],
           "sequentialminus": [
            [
             0,
             "#0d0887"
            ],
            [
             0.1111111111111111,
             "#46039f"
            ],
            [
             0.2222222222222222,
             "#7201a8"
            ],
            [
             0.3333333333333333,
             "#9c179e"
            ],
            [
             0.4444444444444444,
             "#bd3786"
            ],
            [
             0.5555555555555556,
             "#d8576b"
            ],
            [
             0.6666666666666666,
             "#ed7953"
            ],
            [
             0.7777777777777778,
             "#fb9f3a"
            ],
            [
             0.8888888888888888,
             "#fdca26"
            ],
            [
             1,
             "#f0f921"
            ]
           ]
          },
          "colorway": [
           "#636efa",
           "#EF553B",
           "#00cc96",
           "#ab63fa",
           "#FFA15A",
           "#19d3f3",
           "#FF6692",
           "#B6E880",
           "#FF97FF",
           "#FECB52"
          ],
          "font": {
           "color": "#2a3f5f"
          },
          "geo": {
           "bgcolor": "white",
           "lakecolor": "white",
           "landcolor": "#E5ECF6",
           "showlakes": true,
           "showland": true,
           "subunitcolor": "white"
          },
          "hoverlabel": {
           "align": "left"
          },
          "hovermode": "closest",
          "mapbox": {
           "style": "light"
          },
          "paper_bgcolor": "white",
          "plot_bgcolor": "#E5ECF6",
          "polar": {
           "angularaxis": {
            "gridcolor": "white",
            "linecolor": "white",
            "ticks": ""
           },
           "bgcolor": "#E5ECF6",
           "radialaxis": {
            "gridcolor": "white",
            "linecolor": "white",
            "ticks": ""
           }
          },
          "scene": {
           "xaxis": {
            "backgroundcolor": "#E5ECF6",
            "gridcolor": "white",
            "gridwidth": 2,
            "linecolor": "white",
            "showbackground": true,
            "ticks": "",
            "zerolinecolor": "white"
           },
           "yaxis": {
            "backgroundcolor": "#E5ECF6",
            "gridcolor": "white",
            "gridwidth": 2,
            "linecolor": "white",
            "showbackground": true,
            "ticks": "",
            "zerolinecolor": "white"
           },
           "zaxis": {
            "backgroundcolor": "#E5ECF6",
            "gridcolor": "white",
            "gridwidth": 2,
            "linecolor": "white",
            "showbackground": true,
            "ticks": "",
            "zerolinecolor": "white"
           }
          },
          "shapedefaults": {
           "line": {
            "color": "#2a3f5f"
           }
          },
          "ternary": {
           "aaxis": {
            "gridcolor": "white",
            "linecolor": "white",
            "ticks": ""
           },
           "baxis": {
            "gridcolor": "white",
            "linecolor": "white",
            "ticks": ""
           },
           "bgcolor": "#E5ECF6",
           "caxis": {
            "gridcolor": "white",
            "linecolor": "white",
            "ticks": ""
           }
          },
          "title": {
           "x": 0.05
          },
          "xaxis": {
           "automargin": true,
           "gridcolor": "white",
           "linecolor": "white",
           "ticks": "",
           "title": {
            "standoff": 15
           },
           "zerolinecolor": "white",
           "zerolinewidth": 2
          },
          "yaxis": {
           "automargin": true,
           "gridcolor": "white",
           "linecolor": "white",
           "ticks": "",
           "title": {
            "standoff": 15
           },
           "zerolinecolor": "white",
           "zerolinewidth": 2
          }
         }
        },
        "xaxis": {
         "anchor": "y",
         "domain": [
          0,
          1
         ],
         "type": "date"
        },
        "yaxis": {
         "anchor": "x",
         "domain": [
          0,
          1
         ],
         "title": {
          "text": "Machine"
         }
        }
       }
      }
     },
     "metadata": {},
     "output_type": "display_data"
    },
    {
     "name": "stdout",
     "output_type": "stream",
     "text": [
      "finished! no legal actions possible after 135 steps\n"
     ]
    },
    {
     "data": {
      "application/vnd.plotly.v1+json": {
       "config": {
        "plotlyServerURL": "https://plot.ly"
       },
       "data": [
        {
         "alignmentgroup": "True",
         "base": [
          "2022-01-01T00:00:01",
          "2022-01-01T00:08:31",
          "2022-01-01T00:09:50",
          "2022-01-01T00:02:53",
          "2022-01-01T00:13:32",
          "2022-01-01T00:15:37",
          "2022-01-01T00:01:35",
          "2022-01-01T00:04:14",
          "2022-01-01T00:19:53",
          "2022-01-01T00:21:26"
         ],
         "hovertemplate": "Job=job_09<br>Start=%{base}<br>Finish=%{x}<br>Machine=%{y}<extra></extra>",
         "legendgroup": "job_09",
         "marker": {
          "color": "#636efa",
          "pattern": {
           "shape": ""
          }
         },
         "name": "job_09",
         "offsetgroup": "job_09",
         "orientation": "h",
         "showlegend": true,
         "textposition": "auto",
         "type": "bar",
         "x": [
          93000,
          65000,
          89000,
          80000,
          75000,
          57000,
          70000,
          84000,
          92000,
          96000
         ],
         "xaxis": "x",
         "y": [
          "machine_01",
          "machine_02",
          "machine_03",
          "machine_04",
          "machine_05",
          "machine_06",
          "machine_07",
          "machine_08",
          "machine_09",
          "machine_10"
         ],
         "yaxis": "y"
        },
        {
         "alignmentgroup": "True",
         "base": [
          "2022-01-01T00:02:03",
          "2022-01-01T00:04:57",
          "2022-01-01T00:15:37",
          "2022-01-01T00:01:13",
          "2022-01-01T00:12:11",
          "2022-01-01T00:14:38",
          "2022-01-01T00:11:13",
          "2022-01-01T00:07:26",
          "2022-01-01T00:06:19",
          "2022-01-01T00:08:22"
         ],
         "hovertemplate": "Job=job_10<br>Start=%{base}<br>Finish=%{x}<br>Machine=%{y}<extra></extra>",
         "legendgroup": "job_10",
         "marker": {
          "color": "#EF553B",
          "pattern": {
           "shape": ""
          }
         },
         "name": "job_10",
         "offsetgroup": "job_10",
         "orientation": "h",
         "showlegend": true,
         "textposition": "auto",
         "type": "bar",
         "x": [
          58000,
          81000,
          95000,
          49000,
          80000,
          58000,
          57000,
          55000,
          66000,
          95000
         ],
         "xaxis": "x",
         "y": [
          "machine_01",
          "machine_02",
          "machine_03",
          "machine_04",
          "machine_05",
          "machine_06",
          "machine_07",
          "machine_08",
          "machine_09",
          "machine_10"
         ],
         "yaxis": "y"
        },
        {
         "alignmentgroup": "True",
         "base": [
          "2022-01-01T00:03:38",
          "2022-01-01T00:06:19",
          "2022-01-01T00:17:13",
          "2022-01-01T00:18:08",
          "2022-01-01T00:14:48",
          "2022-01-01T00:09:34",
          "2022-01-01T00:08:30",
          "2022-01-01T00:10:59",
          "2022-01-01T00:02:37",
          "2022-01-01T00:00:01"
         ],
         "hovertemplate": "Job=job_03<br>Start=%{base}<br>Finish=%{x}<br>Machine=%{y}<extra></extra>",
         "legendgroup": "job_03",
         "marker": {
          "color": "#00cc96",
          "pattern": {
           "shape": ""
          }
         },
         "name": "job_03",
         "offsetgroup": "job_03",
         "orientation": "h",
         "showlegend": true,
         "textposition": "auto",
         "type": "bar",
         "x": [
          82000,
          64000,
          54000,
          76000,
          84000,
          84000,
          63000,
          77000,
          60000,
          82000
         ],
         "xaxis": "x",
         "y": [
          "machine_01",
          "machine_02",
          "machine_03",
          "machine_04",
          "machine_05",
          "machine_06",
          "machine_07",
          "machine_08",
          "machine_09",
          "machine_10"
         ],
         "yaxis": "y"
        },
        {
         "alignmentgroup": "True",
         "base": [
          "2022-01-01T00:06:00",
          "2022-01-01T00:19:43",
          "2022-01-01T00:11:20",
          "2022-01-01T00:00:01",
          "2022-01-01T00:01:35",
          "2022-01-01T00:16:35",
          "2022-01-01T00:12:27",
          "2022-01-01T00:18:36",
          "2022-01-01T00:04:25",
          "2022-01-01T00:03:03"
         ],
         "hovertemplate": "Job=job_05<br>Start=%{base}<br>Finish=%{x}<br>Machine=%{y}<extra></extra>",
         "legendgroup": "job_05",
         "marker": {
          "color": "#ab63fa",
          "pattern": {
           "shape": ""
          }
         },
         "name": "job_05",
         "offsetgroup": "job_05",
         "orientation": "h",
         "showlegend": true,
         "textposition": "auto",
         "type": "bar",
         "x": [
          98000,
          85000,
          66000,
          68000,
          87000,
          67000,
          94000,
          66000,
          94000,
          81000
         ],
         "xaxis": "x",
         "y": [
          "machine_01",
          "machine_02",
          "machine_03",
          "machine_04",
          "machine_05",
          "machine_06",
          "machine_07",
          "machine_08",
          "machine_09",
          "machine_10"
         ],
         "yaxis": "y"
        },
        {
         "alignmentgroup": "True",
         "base": [
          "2022-01-01T00:11:17",
          "2022-01-01T00:12:49",
          "2022-01-01T00:07:17",
          "2022-01-01T00:02:03",
          "2022-01-01T00:06:02",
          "2022-01-01T00:00:01",
          "2022-01-01T00:04:20",
          "2022-01-01T00:15:23",
          "2022-01-01T00:10:11",
          "2022-01-01T00:18:46"
         ],
         "hovertemplate": "Job=job_02<br>Start=%{base}<br>Finish=%{x}<br>Machine=%{y}<extra></extra>",
         "legendgroup": "job_02",
         "marker": {
          "color": "#FFA15A",
          "pattern": {
           "shape": ""
          }
         },
         "name": "job_02",
         "offsetgroup": "job_02",
         "orientation": "h",
         "showlegend": true,
         "textposition": "auto",
         "type": "bar",
         "x": [
          91000,
          81000,
          93000,
          49000,
          74000,
          71000,
          68000,
          93000,
          65000,
          62000
         ],
         "xaxis": "x",
         "y": [
          "machine_01",
          "machine_02",
          "machine_03",
          "machine_04",
          "machine_05",
          "machine_06",
          "machine_07",
          "machine_08",
          "machine_09",
          "machine_10"
         ],
         "yaxis": "y"
        },
        {
         "alignmentgroup": "True",
         "base": [
          "2022-01-01T00:12:49",
          "2022-01-01T00:02:30",
          "2022-01-01T00:18:08",
          "2022-01-01T00:10:33",
          "2022-01-01T00:08:56",
          "2022-01-01T00:19:14",
          "2022-01-01T00:20:53",
          "2022-01-01T00:00:01",
          "2022-01-01T00:14:24",
          "2022-01-01T00:23:03"
         ],
         "hovertemplate": "Job=job_07<br>Start=%{base}<br>Finish=%{x}<br>Machine=%{y}<extra></extra>",
         "legendgroup": "job_07",
         "marker": {
          "color": "#19d3f3",
          "pattern": {
           "shape": ""
          }
         },
         "name": "job_07",
         "offsetgroup": "job_07",
         "orientation": "h",
         "showlegend": true,
         "textposition": "auto",
         "type": "bar",
         "x": [
          94000,
          85000,
          65000,
          95000,
          96000,
          98000,
          51000,
          49000,
          96000,
          70000
         ],
         "xaxis": "x",
         "y": [
          "machine_01",
          "machine_02",
          "machine_03",
          "machine_04",
          "machine_05",
          "machine_06",
          "machine_07",
          "machine_08",
          "machine_09",
          "machine_10"
         ],
         "yaxis": "y"
        },
        {
         "alignmentgroup": "True",
         "base": [
          "2022-01-01T00:14:38",
          "2022-01-01T00:03:56",
          "2022-01-01T00:02:25",
          "2022-01-01T00:08:56",
          "2022-01-01T00:07:17",
          "2022-01-01T00:13:32",
          "2022-01-01T00:09:58",
          "2022-01-01T00:00:51",
          "2022-01-01T00:18:46",
          "2022-01-01T00:17:43"
         ],
         "hovertemplate": "Job=job_04<br>Start=%{base}<br>Finish=%{x}<br>Machine=%{y}<extra></extra>",
         "legendgroup": "job_04",
         "marker": {
          "color": "#FF6692",
          "pattern": {
           "shape": ""
          }
         },
         "name": "job_04",
         "offsetgroup": "job_04",
         "orientation": "h",
         "showlegend": true,
         "textposition": "auto",
         "type": "bar",
         "x": [
          75000,
          60000,
          67000,
          53000,
          98000,
          65000,
          74000,
          93000,
          66000,
          62000
         ],
         "xaxis": "x",
         "y": [
          "machine_01",
          "machine_02",
          "machine_03",
          "machine_04",
          "machine_05",
          "machine_06",
          "machine_07",
          "machine_08",
          "machine_09",
          "machine_10"
         ],
         "yaxis": "y"
        },
        {
         "alignmentgroup": "True",
         "base": [
          "2022-01-01T00:15:54",
          "2022-01-01T00:09:42",
          "2022-01-01T00:08:51",
          "2022-01-01T00:06:42",
          "2022-01-01T00:03:03",
          "2022-01-01T00:10:59",
          "2022-01-01T00:05:29",
          "2022-01-01T00:12:49",
          "2022-01-01T00:16:56",
          "2022-01-01T00:19:49"
         ],
         "hovertemplate": "Job=job_08<br>Start=%{base}<br>Finish=%{x}<br>Machine=%{y}<extra></extra>",
         "legendgroup": "job_08",
         "marker": {
          "color": "#B6E880",
          "pattern": {
           "shape": ""
          }
         },
         "name": "job_08",
         "offsetgroup": "job_08",
         "orientation": "h",
         "showlegend": true,
         "textposition": "auto",
         "type": "bar",
         "x": [
          61000,
          70000,
          50000,
          81000,
          97000,
          93000,
          72000,
          84000,
          94000,
          78000
         ],
         "xaxis": "x",
         "y": [
          "machine_01",
          "machine_02",
          "machine_03",
          "machine_04",
          "machine_05",
          "machine_06",
          "machine_07",
          "machine_08",
          "machine_09",
          "machine_10"
         ],
         "yaxis": "y"
        },
        {
         "alignmentgroup": "True",
         "base": [
          "2022-01-01T00:18:36",
          "2022-01-01T00:07:24",
          "2022-01-01T00:13:47",
          "2022-01-01T00:20:44",
          "2022-01-01T00:00:01",
          "2022-01-01T00:04:20",
          "2022-01-01T00:02:46",
          "2022-01-01T00:16:57",
          "2022-01-01T00:01:29",
          "2022-01-01T00:15:23"
         ],
         "hovertemplate": "Job=job_01<br>Start=%{base}<br>Finish=%{x}<br>Machine=%{y}<extra></extra>",
         "legendgroup": "job_01",
         "marker": {
          "color": "#FF97FF",
          "pattern": {
           "shape": ""
          }
         },
         "name": "job_01",
         "offsetgroup": "job_01",
         "orientation": "h",
         "showlegend": true,
         "textposition": "auto",
         "type": "bar",
         "x": [
          85000,
          66000,
          88000,
          91000,
          87000,
          98000,
          93000,
          98000,
          67000,
          76000
         ],
         "xaxis": "x",
         "y": [
          "machine_01",
          "machine_02",
          "machine_03",
          "machine_04",
          "machine_05",
          "machine_06",
          "machine_07",
          "machine_08",
          "machine_09",
          "machine_10"
         ],
         "yaxis": "y"
        },
        {
         "alignmentgroup": "True",
         "base": [
          "2022-01-01T00:20:44",
          "2022-01-01T00:00:51",
          "2022-01-01T00:12:27",
          "2022-01-01T00:19:25",
          "2022-01-01T00:04:41",
          "2022-01-01T00:06:02",
          "2022-01-01T00:07:24",
          "2022-01-01T00:14:14",
          "2022-01-01T00:08:51",
          "2022-01-01T00:16:40"
         ],
         "hovertemplate": "Job=job_06<br>Start=%{base}<br>Finish=%{x}<br>Machine=%{y}<extra></extra>",
         "legendgroup": "job_06",
         "marker": {
          "color": "#FECB52",
          "pattern": {
           "shape": ""
          }
         },
         "name": "job_06",
         "offsetgroup": "job_06",
         "orientation": "h",
         "showlegend": true,
         "textposition": "auto",
         "type": "bar",
         "x": [
          87000,
          98000,
          79000,
          78000,
          80000,
          63000,
          65000,
          68000,
          79000,
          61000
         ],
         "xaxis": "x",
         "y": [
          "machine_01",
          "machine_02",
          "machine_03",
          "machine_04",
          "machine_05",
          "machine_06",
          "machine_07",
          "machine_08",
          "machine_09",
          "machine_10"
         ],
         "yaxis": "y"
        }
       ],
       "layout": {
        "barmode": "overlay",
        "legend": {
         "title": {
          "text": "Job"
         },
         "tracegroupgap": 0
        },
        "margin": {
         "t": 60
        },
        "template": {
         "data": {
          "bar": [
           {
            "error_x": {
             "color": "#2a3f5f"
            },
            "error_y": {
             "color": "#2a3f5f"
            },
            "marker": {
             "line": {
              "color": "#E5ECF6",
              "width": 0.5
             },
             "pattern": {
              "fillmode": "overlay",
              "size": 10,
              "solidity": 0.2
             }
            },
            "type": "bar"
           }
          ],
          "barpolar": [
           {
            "marker": {
             "line": {
              "color": "#E5ECF6",
              "width": 0.5
             },
             "pattern": {
              "fillmode": "overlay",
              "size": 10,
              "solidity": 0.2
             }
            },
            "type": "barpolar"
           }
          ],
          "carpet": [
           {
            "aaxis": {
             "endlinecolor": "#2a3f5f",
             "gridcolor": "white",
             "linecolor": "white",
             "minorgridcolor": "white",
             "startlinecolor": "#2a3f5f"
            },
            "baxis": {
             "endlinecolor": "#2a3f5f",
             "gridcolor": "white",
             "linecolor": "white",
             "minorgridcolor": "white",
             "startlinecolor": "#2a3f5f"
            },
            "type": "carpet"
           }
          ],
          "choropleth": [
           {
            "colorbar": {
             "outlinewidth": 0,
             "ticks": ""
            },
            "type": "choropleth"
           }
          ],
          "contour": [
           {
            "colorbar": {
             "outlinewidth": 0,
             "ticks": ""
            },
            "colorscale": [
             [
              0,
              "#0d0887"
             ],
             [
              0.1111111111111111,
              "#46039f"
             ],
             [
              0.2222222222222222,
              "#7201a8"
             ],
             [
              0.3333333333333333,
              "#9c179e"
             ],
             [
              0.4444444444444444,
              "#bd3786"
             ],
             [
              0.5555555555555556,
              "#d8576b"
             ],
             [
              0.6666666666666666,
              "#ed7953"
             ],
             [
              0.7777777777777778,
              "#fb9f3a"
             ],
             [
              0.8888888888888888,
              "#fdca26"
             ],
             [
              1,
              "#f0f921"
             ]
            ],
            "type": "contour"
           }
          ],
          "contourcarpet": [
           {
            "colorbar": {
             "outlinewidth": 0,
             "ticks": ""
            },
            "type": "contourcarpet"
           }
          ],
          "heatmap": [
           {
            "colorbar": {
             "outlinewidth": 0,
             "ticks": ""
            },
            "colorscale": [
             [
              0,
              "#0d0887"
             ],
             [
              0.1111111111111111,
              "#46039f"
             ],
             [
              0.2222222222222222,
              "#7201a8"
             ],
             [
              0.3333333333333333,
              "#9c179e"
             ],
             [
              0.4444444444444444,
              "#bd3786"
             ],
             [
              0.5555555555555556,
              "#d8576b"
             ],
             [
              0.6666666666666666,
              "#ed7953"
             ],
             [
              0.7777777777777778,
              "#fb9f3a"
             ],
             [
              0.8888888888888888,
              "#fdca26"
             ],
             [
              1,
              "#f0f921"
             ]
            ],
            "type": "heatmap"
           }
          ],
          "heatmapgl": [
           {
            "colorbar": {
             "outlinewidth": 0,
             "ticks": ""
            },
            "colorscale": [
             [
              0,
              "#0d0887"
             ],
             [
              0.1111111111111111,
              "#46039f"
             ],
             [
              0.2222222222222222,
              "#7201a8"
             ],
             [
              0.3333333333333333,
              "#9c179e"
             ],
             [
              0.4444444444444444,
              "#bd3786"
             ],
             [
              0.5555555555555556,
              "#d8576b"
             ],
             [
              0.6666666666666666,
              "#ed7953"
             ],
             [
              0.7777777777777778,
              "#fb9f3a"
             ],
             [
              0.8888888888888888,
              "#fdca26"
             ],
             [
              1,
              "#f0f921"
             ]
            ],
            "type": "heatmapgl"
           }
          ],
          "histogram": [
           {
            "marker": {
             "pattern": {
              "fillmode": "overlay",
              "size": 10,
              "solidity": 0.2
             }
            },
            "type": "histogram"
           }
          ],
          "histogram2d": [
           {
            "colorbar": {
             "outlinewidth": 0,
             "ticks": ""
            },
            "colorscale": [
             [
              0,
              "#0d0887"
             ],
             [
              0.1111111111111111,
              "#46039f"
             ],
             [
              0.2222222222222222,
              "#7201a8"
             ],
             [
              0.3333333333333333,
              "#9c179e"
             ],
             [
              0.4444444444444444,
              "#bd3786"
             ],
             [
              0.5555555555555556,
              "#d8576b"
             ],
             [
              0.6666666666666666,
              "#ed7953"
             ],
             [
              0.7777777777777778,
              "#fb9f3a"
             ],
             [
              0.8888888888888888,
              "#fdca26"
             ],
             [
              1,
              "#f0f921"
             ]
            ],
            "type": "histogram2d"
           }
          ],
          "histogram2dcontour": [
           {
            "colorbar": {
             "outlinewidth": 0,
             "ticks": ""
            },
            "colorscale": [
             [
              0,
              "#0d0887"
             ],
             [
              0.1111111111111111,
              "#46039f"
             ],
             [
              0.2222222222222222,
              "#7201a8"
             ],
             [
              0.3333333333333333,
              "#9c179e"
             ],
             [
              0.4444444444444444,
              "#bd3786"
             ],
             [
              0.5555555555555556,
              "#d8576b"
             ],
             [
              0.6666666666666666,
              "#ed7953"
             ],
             [
              0.7777777777777778,
              "#fb9f3a"
             ],
             [
              0.8888888888888888,
              "#fdca26"
             ],
             [
              1,
              "#f0f921"
             ]
            ],
            "type": "histogram2dcontour"
           }
          ],
          "mesh3d": [
           {
            "colorbar": {
             "outlinewidth": 0,
             "ticks": ""
            },
            "type": "mesh3d"
           }
          ],
          "parcoords": [
           {
            "line": {
             "colorbar": {
              "outlinewidth": 0,
              "ticks": ""
             }
            },
            "type": "parcoords"
           }
          ],
          "pie": [
           {
            "automargin": true,
            "type": "pie"
           }
          ],
          "scatter": [
           {
            "fillpattern": {
             "fillmode": "overlay",
             "size": 10,
             "solidity": 0.2
            },
            "type": "scatter"
           }
          ],
          "scatter3d": [
           {
            "line": {
             "colorbar": {
              "outlinewidth": 0,
              "ticks": ""
             }
            },
            "marker": {
             "colorbar": {
              "outlinewidth": 0,
              "ticks": ""
             }
            },
            "type": "scatter3d"
           }
          ],
          "scattercarpet": [
           {
            "marker": {
             "colorbar": {
              "outlinewidth": 0,
              "ticks": ""
             }
            },
            "type": "scattercarpet"
           }
          ],
          "scattergeo": [
           {
            "marker": {
             "colorbar": {
              "outlinewidth": 0,
              "ticks": ""
             }
            },
            "type": "scattergeo"
           }
          ],
          "scattergl": [
           {
            "marker": {
             "colorbar": {
              "outlinewidth": 0,
              "ticks": ""
             }
            },
            "type": "scattergl"
           }
          ],
          "scattermapbox": [
           {
            "marker": {
             "colorbar": {
              "outlinewidth": 0,
              "ticks": ""
             }
            },
            "type": "scattermapbox"
           }
          ],
          "scatterpolar": [
           {
            "marker": {
             "colorbar": {
              "outlinewidth": 0,
              "ticks": ""
             }
            },
            "type": "scatterpolar"
           }
          ],
          "scatterpolargl": [
           {
            "marker": {
             "colorbar": {
              "outlinewidth": 0,
              "ticks": ""
             }
            },
            "type": "scatterpolargl"
           }
          ],
          "scatterternary": [
           {
            "marker": {
             "colorbar": {
              "outlinewidth": 0,
              "ticks": ""
             }
            },
            "type": "scatterternary"
           }
          ],
          "surface": [
           {
            "colorbar": {
             "outlinewidth": 0,
             "ticks": ""
            },
            "colorscale": [
             [
              0,
              "#0d0887"
             ],
             [
              0.1111111111111111,
              "#46039f"
             ],
             [
              0.2222222222222222,
              "#7201a8"
             ],
             [
              0.3333333333333333,
              "#9c179e"
             ],
             [
              0.4444444444444444,
              "#bd3786"
             ],
             [
              0.5555555555555556,
              "#d8576b"
             ],
             [
              0.6666666666666666,
              "#ed7953"
             ],
             [
              0.7777777777777778,
              "#fb9f3a"
             ],
             [
              0.8888888888888888,
              "#fdca26"
             ],
             [
              1,
              "#f0f921"
             ]
            ],
            "type": "surface"
           }
          ],
          "table": [
           {
            "cells": {
             "fill": {
              "color": "#EBF0F8"
             },
             "line": {
              "color": "white"
             }
            },
            "header": {
             "fill": {
              "color": "#C8D4E3"
             },
             "line": {
              "color": "white"
             }
            },
            "type": "table"
           }
          ]
         },
         "layout": {
          "annotationdefaults": {
           "arrowcolor": "#2a3f5f",
           "arrowhead": 0,
           "arrowwidth": 1
          },
          "autotypenumbers": "strict",
          "coloraxis": {
           "colorbar": {
            "outlinewidth": 0,
            "ticks": ""
           }
          },
          "colorscale": {
           "diverging": [
            [
             0,
             "#8e0152"
            ],
            [
             0.1,
             "#c51b7d"
            ],
            [
             0.2,
             "#de77ae"
            ],
            [
             0.3,
             "#f1b6da"
            ],
            [
             0.4,
             "#fde0ef"
            ],
            [
             0.5,
             "#f7f7f7"
            ],
            [
             0.6,
             "#e6f5d0"
            ],
            [
             0.7,
             "#b8e186"
            ],
            [
             0.8,
             "#7fbc41"
            ],
            [
             0.9,
             "#4d9221"
            ],
            [
             1,
             "#276419"
            ]
           ],
           "sequential": [
            [
             0,
             "#0d0887"
            ],
            [
             0.1111111111111111,
             "#46039f"
            ],
            [
             0.2222222222222222,
             "#7201a8"
            ],
            [
             0.3333333333333333,
             "#9c179e"
            ],
            [
             0.4444444444444444,
             "#bd3786"
            ],
            [
             0.5555555555555556,
             "#d8576b"
            ],
            [
             0.6666666666666666,
             "#ed7953"
            ],
            [
             0.7777777777777778,
             "#fb9f3a"
            ],
            [
             0.8888888888888888,
             "#fdca26"
            ],
            [
             1,
             "#f0f921"
            ]
           ],
           "sequentialminus": [
            [
             0,
             "#0d0887"
            ],
            [
             0.1111111111111111,
             "#46039f"
            ],
            [
             0.2222222222222222,
             "#7201a8"
            ],
            [
             0.3333333333333333,
             "#9c179e"
            ],
            [
             0.4444444444444444,
             "#bd3786"
            ],
            [
             0.5555555555555556,
             "#d8576b"
            ],
            [
             0.6666666666666666,
             "#ed7953"
            ],
            [
             0.7777777777777778,
             "#fb9f3a"
            ],
            [
             0.8888888888888888,
             "#fdca26"
            ],
            [
             1,
             "#f0f921"
            ]
           ]
          },
          "colorway": [
           "#636efa",
           "#EF553B",
           "#00cc96",
           "#ab63fa",
           "#FFA15A",
           "#19d3f3",
           "#FF6692",
           "#B6E880",
           "#FF97FF",
           "#FECB52"
          ],
          "font": {
           "color": "#2a3f5f"
          },
          "geo": {
           "bgcolor": "white",
           "lakecolor": "white",
           "landcolor": "#E5ECF6",
           "showlakes": true,
           "showland": true,
           "subunitcolor": "white"
          },
          "hoverlabel": {
           "align": "left"
          },
          "hovermode": "closest",
          "mapbox": {
           "style": "light"
          },
          "paper_bgcolor": "white",
          "plot_bgcolor": "#E5ECF6",
          "polar": {
           "angularaxis": {
            "gridcolor": "white",
            "linecolor": "white",
            "ticks": ""
           },
           "bgcolor": "#E5ECF6",
           "radialaxis": {
            "gridcolor": "white",
            "linecolor": "white",
            "ticks": ""
           }
          },
          "scene": {
           "xaxis": {
            "backgroundcolor": "#E5ECF6",
            "gridcolor": "white",
            "gridwidth": 2,
            "linecolor": "white",
            "showbackground": true,
            "ticks": "",
            "zerolinecolor": "white"
           },
           "yaxis": {
            "backgroundcolor": "#E5ECF6",
            "gridcolor": "white",
            "gridwidth": 2,
            "linecolor": "white",
            "showbackground": true,
            "ticks": "",
            "zerolinecolor": "white"
           },
           "zaxis": {
            "backgroundcolor": "#E5ECF6",
            "gridcolor": "white",
            "gridwidth": 2,
            "linecolor": "white",
            "showbackground": true,
            "ticks": "",
            "zerolinecolor": "white"
           }
          },
          "shapedefaults": {
           "line": {
            "color": "#2a3f5f"
           }
          },
          "ternary": {
           "aaxis": {
            "gridcolor": "white",
            "linecolor": "white",
            "ticks": ""
           },
           "baxis": {
            "gridcolor": "white",
            "linecolor": "white",
            "ticks": ""
           },
           "bgcolor": "#E5ECF6",
           "caxis": {
            "gridcolor": "white",
            "linecolor": "white",
            "ticks": ""
           }
          },
          "title": {
           "x": 0.05
          },
          "xaxis": {
           "automargin": true,
           "gridcolor": "white",
           "linecolor": "white",
           "ticks": "",
           "title": {
            "standoff": 15
           },
           "zerolinecolor": "white",
           "zerolinewidth": 2
          },
          "yaxis": {
           "automargin": true,
           "gridcolor": "white",
           "linecolor": "white",
           "ticks": "",
           "title": {
            "standoff": 15
           },
           "zerolinecolor": "white",
           "zerolinewidth": 2
          }
         }
        },
        "xaxis": {
         "anchor": "y",
         "domain": [
          0,
          1
         ],
         "type": "date"
        },
        "yaxis": {
         "anchor": "x",
         "domain": [
          0,
          1
         ],
         "title": {
          "text": "Machine"
         }
        }
       }
      }
     },
     "metadata": {},
     "output_type": "display_data"
    },
    {
     "name": "stdout",
     "output_type": "stream",
     "text": [
      "finished! no legal actions possible after 125 steps\n"
     ]
    },
    {
     "data": {
      "application/vnd.plotly.v1+json": {
       "config": {
        "plotlyServerURL": "https://plot.ly"
       },
       "data": [
        {
         "alignmentgroup": "True",
         "base": [
          "2022-01-01T00:00:01",
          "2022-01-01T00:09:47",
          "2022-01-01T00:16:42",
          "2022-01-01T00:03:59",
          "2022-01-01T00:18:12",
          "2022-01-01T00:20:57",
          "2022-01-01T00:01:35",
          "2022-01-01T00:06:31",
          "2022-01-01T00:21:55",
          "2022-01-01T00:24:27"
         ],
         "hovertemplate": "Job=job_09<br>Start=%{base}<br>Finish=%{x}<br>Machine=%{y}<extra></extra>",
         "legendgroup": "job_09",
         "marker": {
          "color": "#636efa",
          "pattern": {
           "shape": ""
          }
         },
         "name": "job_09",
         "offsetgroup": "job_09",
         "orientation": "h",
         "showlegend": true,
         "textposition": "auto",
         "type": "bar",
         "x": [
          93000,
          65000,
          89000,
          80000,
          75000,
          57000,
          70000,
          84000,
          92000,
          96000
         ],
         "xaxis": "x",
         "y": [
          "machine_01",
          "machine_02",
          "machine_03",
          "machine_04",
          "machine_05",
          "machine_06",
          "machine_07",
          "machine_08",
          "machine_09",
          "machine_10"
         ],
         "yaxis": "y"
        },
        {
         "alignmentgroup": "True",
         "base": [
          "2022-01-01T00:01:39",
          "2022-01-01T00:03:06",
          "2022-01-01T00:15:06",
          "2022-01-01T00:00:01",
          "2022-01-01T00:10:28",
          "2022-01-01T00:11:52",
          "2022-01-01T00:08:33",
          "2022-01-01T00:05:35",
          "2022-01-01T00:04:28",
          "2022-01-01T00:06:31"
         ],
         "hovertemplate": "Job=job_10<br>Start=%{base}<br>Finish=%{x}<br>Machine=%{y}<extra></extra>",
         "legendgroup": "job_10",
         "marker": {
          "color": "#EF553B",
          "pattern": {
           "shape": ""
          }
         },
         "name": "job_10",
         "offsetgroup": "job_10",
         "orientation": "h",
         "showlegend": true,
         "textposition": "auto",
         "type": "bar",
         "x": [
          58000,
          81000,
          95000,
          49000,
          80000,
          58000,
          57000,
          55000,
          66000,
          95000
         ],
         "xaxis": "x",
         "y": [
          "machine_01",
          "machine_02",
          "machine_03",
          "machine_04",
          "machine_05",
          "machine_06",
          "machine_07",
          "machine_08",
          "machine_09",
          "machine_10"
         ],
         "yaxis": "y"
        },
        {
         "alignmentgroup": "True",
         "base": [
          "2022-01-01T00:02:38",
          "2022-01-01T00:04:28",
          "2022-01-01T00:14:11",
          "2022-01-01T00:15:06",
          "2022-01-01T00:11:49",
          "2022-01-01T00:08:33",
          "2022-01-01T00:05:50",
          "2022-01-01T00:09:58",
          "2022-01-01T00:01:24",
          "2022-01-01T00:00:01"
         ],
         "hovertemplate": "Job=job_03<br>Start=%{base}<br>Finish=%{x}<br>Machine=%{y}<extra></extra>",
         "legendgroup": "job_03",
         "marker": {
          "color": "#00cc96",
          "pattern": {
           "shape": ""
          }
         },
         "name": "job_03",
         "offsetgroup": "job_03",
         "orientation": "h",
         "showlegend": true,
         "textposition": "auto",
         "type": "bar",
         "x": [
          82000,
          64000,
          54000,
          76000,
          84000,
          84000,
          63000,
          77000,
          60000,
          82000
         ],
         "xaxis": "x",
         "y": [
          "machine_01",
          "machine_02",
          "machine_03",
          "machine_04",
          "machine_05",
          "machine_06",
          "machine_07",
          "machine_08",
          "machine_09",
          "machine_10"
         ],
         "yaxis": "y"
        },
        {
         "alignmentgroup": "True",
         "base": [
          "2022-01-01T00:07:33",
          "2022-01-01T00:24:39",
          "2022-01-01T00:19:18",
          "2022-01-01T00:00:51",
          "2022-01-01T00:03:08",
          "2022-01-01T00:22:24",
          "2022-01-01T00:20:49",
          "2022-01-01T00:23:32",
          "2022-01-01T00:05:58",
          "2022-01-01T00:04:36"
         ],
         "hovertemplate": "Job=job_05<br>Start=%{base}<br>Finish=%{x}<br>Machine=%{y}<extra></extra>",
         "legendgroup": "job_05",
         "marker": {
          "color": "#ab63fa",
          "pattern": {
           "shape": ""
          }
         },
         "name": "job_05",
         "offsetgroup": "job_05",
         "orientation": "h",
         "showlegend": true,
         "textposition": "auto",
         "type": "bar",
         "x": [
          98000,
          85000,
          66000,
          68000,
          87000,
          67000,
          94000,
          66000,
          94000,
          81000
         ],
         "xaxis": "x",
         "y": [
          "machine_01",
          "machine_02",
          "machine_03",
          "machine_04",
          "machine_05",
          "machine_06",
          "machine_07",
          "machine_08",
          "machine_09",
          "machine_10"
         ],
         "yaxis": "y"
        },
        {
         "alignmentgroup": "True",
         "base": [
          "2022-01-01T00:09:12",
          "2022-01-01T00:01:40",
          "2022-01-01T00:18:12",
          "2022-01-01T00:07:34",
          "2022-01-01T00:05:57",
          "2022-01-01T00:19:18",
          "2022-01-01T00:22:24",
          "2022-01-01T00:00:01",
          "2022-01-01T00:11:59",
          "2022-01-01T00:23:16"
         ],
         "hovertemplate": "Job=job_07<br>Start=%{base}<br>Finish=%{x}<br>Machine=%{y}<extra></extra>",
         "legendgroup": "job_07",
         "marker": {
          "color": "#FFA15A",
          "pattern": {
           "shape": ""
          }
         },
         "name": "job_07",
         "offsetgroup": "job_07",
         "orientation": "h",
         "showlegend": true,
         "textposition": "auto",
         "type": "bar",
         "x": [
          94000,
          85000,
          65000,
          95000,
          96000,
          98000,
          51000,
          49000,
          96000,
          70000
         ],
         "xaxis": "x",
         "y": [
          "machine_01",
          "machine_02",
          "machine_03",
          "machine_04",
          "machine_05",
          "machine_06",
          "machine_07",
          "machine_08",
          "machine_09",
          "machine_10"
         ],
         "yaxis": "y"
        },
        {
         "alignmentgroup": "True",
         "base": [
          "2022-01-01T00:14:11",
          "2022-01-01T00:05:33",
          "2022-01-01T00:02:25",
          "2022-01-01T00:09:13",
          "2022-01-01T00:07:34",
          "2022-01-01T00:12:51",
          "2022-01-01T00:10:37",
          "2022-01-01T00:00:51",
          "2022-01-01T00:19:42",
          "2022-01-01T00:17:04"
         ],
         "hovertemplate": "Job=job_04<br>Start=%{base}<br>Finish=%{x}<br>Machine=%{y}<extra></extra>",
         "legendgroup": "job_04",
         "marker": {
          "color": "#19d3f3",
          "pattern": {
           "shape": ""
          }
         },
         "name": "job_04",
         "offsetgroup": "job_04",
         "orientation": "h",
         "showlegend": true,
         "textposition": "auto",
         "type": "bar",
         "x": [
          75000,
          60000,
          67000,
          53000,
          98000,
          65000,
          74000,
          93000,
          66000,
          62000
         ],
         "xaxis": "x",
         "y": [
          "machine_01",
          "machine_02",
          "machine_03",
          "machine_04",
          "machine_05",
          "machine_06",
          "machine_07",
          "machine_08",
          "machine_09",
          "machine_10"
         ],
         "yaxis": "y"
        },
        {
         "alignmentgroup": "True",
         "base": [
          "2022-01-01T00:15:27",
          "2022-01-01T00:16:59",
          "2022-01-01T00:10:39",
          "2022-01-01T00:02:46",
          "2022-01-01T00:09:13",
          "2022-01-01T00:00:01",
          "2022-01-01T00:06:54",
          "2022-01-01T00:18:21",
          "2022-01-01T00:13:36",
          "2022-01-01T00:21:01"
         ],
         "hovertemplate": "Job=job_02<br>Start=%{base}<br>Finish=%{x}<br>Machine=%{y}<extra></extra>",
         "legendgroup": "job_02",
         "marker": {
          "color": "#FF6692",
          "pattern": {
           "shape": ""
          }
         },
         "name": "job_02",
         "offsetgroup": "job_02",
         "orientation": "h",
         "showlegend": true,
         "textposition": "auto",
         "type": "bar",
         "x": [
          91000,
          81000,
          93000,
          49000,
          74000,
          71000,
          68000,
          93000,
          65000,
          62000
         ],
         "xaxis": "x",
         "y": [
          "machine_01",
          "machine_02",
          "machine_03",
          "machine_04",
          "machine_05",
          "machine_06",
          "machine_07",
          "machine_08",
          "machine_09",
          "machine_10"
         ],
         "yaxis": "y"
        },
        {
         "alignmentgroup": "True",
         "base": [
          "2022-01-01T00:16:59",
          "2022-01-01T00:08:36",
          "2022-01-01T00:06:42",
          "2022-01-01T00:05:20",
          "2022-01-01T00:00:01",
          "2022-01-01T00:09:58",
          "2022-01-01T00:02:46",
          "2022-01-01T00:11:49",
          "2022-01-01T00:18:07",
          "2022-01-01T00:19:42"
         ],
         "hovertemplate": "Job=job_08<br>Start=%{base}<br>Finish=%{x}<br>Machine=%{y}<extra></extra>",
         "legendgroup": "job_08",
         "marker": {
          "color": "#B6E880",
          "pattern": {
           "shape": ""
          }
         },
         "name": "job_08",
         "offsetgroup": "job_08",
         "orientation": "h",
         "showlegend": true,
         "textposition": "auto",
         "type": "bar",
         "x": [
          61000,
          70000,
          50000,
          81000,
          97000,
          93000,
          72000,
          84000,
          94000,
          78000
         ],
         "xaxis": "x",
         "y": [
          "machine_01",
          "machine_02",
          "machine_03",
          "machine_04",
          "machine_05",
          "machine_06",
          "machine_07",
          "machine_08",
          "machine_09",
          "machine_10"
         ],
         "yaxis": "y"
        },
        {
         "alignmentgroup": "True",
         "base": [
          "2022-01-01T00:18:01",
          "2022-01-01T00:07:29",
          "2022-01-01T00:09:10",
          "2022-01-01T00:19:27",
          "2022-01-01T00:01:40",
          "2022-01-01T00:05:50",
          "2022-01-01T00:04:16",
          "2022-01-01T00:13:14",
          "2022-01-01T00:03:08",
          "2022-01-01T00:10:39"
         ],
         "hovertemplate": "Job=job_01<br>Start=%{base}<br>Finish=%{x}<br>Machine=%{y}<extra></extra>",
         "legendgroup": "job_01",
         "marker": {
          "color": "#FF97FF",
          "pattern": {
           "shape": ""
          }
         },
         "name": "job_01",
         "offsetgroup": "job_01",
         "orientation": "h",
         "showlegend": true,
         "textposition": "auto",
         "type": "bar",
         "x": [
          85000,
          66000,
          88000,
          91000,
          87000,
          98000,
          93000,
          98000,
          67000,
          76000
         ],
         "xaxis": "x",
         "y": [
          "machine_01",
          "machine_02",
          "machine_03",
          "machine_04",
          "machine_05",
          "machine_06",
          "machine_07",
          "machine_08",
          "machine_09",
          "machine_10"
         ],
         "yaxis": "y"
        },
        {
         "alignmentgroup": "True",
         "base": [
          "2022-01-01T00:19:27",
          "2022-01-01T00:00:01",
          "2022-01-01T00:12:51",
          "2022-01-01T00:17:04",
          "2022-01-01T00:04:36",
          "2022-01-01T00:07:29",
          "2022-01-01T00:09:31",
          "2022-01-01T00:14:53",
          "2022-01-01T00:10:39",
          "2022-01-01T00:16:02"
         ],
         "hovertemplate": "Job=job_06<br>Start=%{base}<br>Finish=%{x}<br>Machine=%{y}<extra></extra>",
         "legendgroup": "job_06",
         "marker": {
          "color": "#FECB52",
          "pattern": {
           "shape": ""
          }
         },
         "name": "job_06",
         "offsetgroup": "job_06",
         "orientation": "h",
         "showlegend": true,
         "textposition": "auto",
         "type": "bar",
         "x": [
          87000,
          98000,
          79000,
          78000,
          80000,
          63000,
          65000,
          68000,
          79000,
          61000
         ],
         "xaxis": "x",
         "y": [
          "machine_01",
          "machine_02",
          "machine_03",
          "machine_04",
          "machine_05",
          "machine_06",
          "machine_07",
          "machine_08",
          "machine_09",
          "machine_10"
         ],
         "yaxis": "y"
        }
       ],
       "layout": {
        "barmode": "overlay",
        "legend": {
         "title": {
          "text": "Job"
         },
         "tracegroupgap": 0
        },
        "margin": {
         "t": 60
        },
        "template": {
         "data": {
          "bar": [
           {
            "error_x": {
             "color": "#2a3f5f"
            },
            "error_y": {
             "color": "#2a3f5f"
            },
            "marker": {
             "line": {
              "color": "#E5ECF6",
              "width": 0.5
             },
             "pattern": {
              "fillmode": "overlay",
              "size": 10,
              "solidity": 0.2
             }
            },
            "type": "bar"
           }
          ],
          "barpolar": [
           {
            "marker": {
             "line": {
              "color": "#E5ECF6",
              "width": 0.5
             },
             "pattern": {
              "fillmode": "overlay",
              "size": 10,
              "solidity": 0.2
             }
            },
            "type": "barpolar"
           }
          ],
          "carpet": [
           {
            "aaxis": {
             "endlinecolor": "#2a3f5f",
             "gridcolor": "white",
             "linecolor": "white",
             "minorgridcolor": "white",
             "startlinecolor": "#2a3f5f"
            },
            "baxis": {
             "endlinecolor": "#2a3f5f",
             "gridcolor": "white",
             "linecolor": "white",
             "minorgridcolor": "white",
             "startlinecolor": "#2a3f5f"
            },
            "type": "carpet"
           }
          ],
          "choropleth": [
           {
            "colorbar": {
             "outlinewidth": 0,
             "ticks": ""
            },
            "type": "choropleth"
           }
          ],
          "contour": [
           {
            "colorbar": {
             "outlinewidth": 0,
             "ticks": ""
            },
            "colorscale": [
             [
              0,
              "#0d0887"
             ],
             [
              0.1111111111111111,
              "#46039f"
             ],
             [
              0.2222222222222222,
              "#7201a8"
             ],
             [
              0.3333333333333333,
              "#9c179e"
             ],
             [
              0.4444444444444444,
              "#bd3786"
             ],
             [
              0.5555555555555556,
              "#d8576b"
             ],
             [
              0.6666666666666666,
              "#ed7953"
             ],
             [
              0.7777777777777778,
              "#fb9f3a"
             ],
             [
              0.8888888888888888,
              "#fdca26"
             ],
             [
              1,
              "#f0f921"
             ]
            ],
            "type": "contour"
           }
          ],
          "contourcarpet": [
           {
            "colorbar": {
             "outlinewidth": 0,
             "ticks": ""
            },
            "type": "contourcarpet"
           }
          ],
          "heatmap": [
           {
            "colorbar": {
             "outlinewidth": 0,
             "ticks": ""
            },
            "colorscale": [
             [
              0,
              "#0d0887"
             ],
             [
              0.1111111111111111,
              "#46039f"
             ],
             [
              0.2222222222222222,
              "#7201a8"
             ],
             [
              0.3333333333333333,
              "#9c179e"
             ],
             [
              0.4444444444444444,
              "#bd3786"
             ],
             [
              0.5555555555555556,
              "#d8576b"
             ],
             [
              0.6666666666666666,
              "#ed7953"
             ],
             [
              0.7777777777777778,
              "#fb9f3a"
             ],
             [
              0.8888888888888888,
              "#fdca26"
             ],
             [
              1,
              "#f0f921"
             ]
            ],
            "type": "heatmap"
           }
          ],
          "heatmapgl": [
           {
            "colorbar": {
             "outlinewidth": 0,
             "ticks": ""
            },
            "colorscale": [
             [
              0,
              "#0d0887"
             ],
             [
              0.1111111111111111,
              "#46039f"
             ],
             [
              0.2222222222222222,
              "#7201a8"
             ],
             [
              0.3333333333333333,
              "#9c179e"
             ],
             [
              0.4444444444444444,
              "#bd3786"
             ],
             [
              0.5555555555555556,
              "#d8576b"
             ],
             [
              0.6666666666666666,
              "#ed7953"
             ],
             [
              0.7777777777777778,
              "#fb9f3a"
             ],
             [
              0.8888888888888888,
              "#fdca26"
             ],
             [
              1,
              "#f0f921"
             ]
            ],
            "type": "heatmapgl"
           }
          ],
          "histogram": [
           {
            "marker": {
             "pattern": {
              "fillmode": "overlay",
              "size": 10,
              "solidity": 0.2
             }
            },
            "type": "histogram"
           }
          ],
          "histogram2d": [
           {
            "colorbar": {
             "outlinewidth": 0,
             "ticks": ""
            },
            "colorscale": [
             [
              0,
              "#0d0887"
             ],
             [
              0.1111111111111111,
              "#46039f"
             ],
             [
              0.2222222222222222,
              "#7201a8"
             ],
             [
              0.3333333333333333,
              "#9c179e"
             ],
             [
              0.4444444444444444,
              "#bd3786"
             ],
             [
              0.5555555555555556,
              "#d8576b"
             ],
             [
              0.6666666666666666,
              "#ed7953"
             ],
             [
              0.7777777777777778,
              "#fb9f3a"
             ],
             [
              0.8888888888888888,
              "#fdca26"
             ],
             [
              1,
              "#f0f921"
             ]
            ],
            "type": "histogram2d"
           }
          ],
          "histogram2dcontour": [
           {
            "colorbar": {
             "outlinewidth": 0,
             "ticks": ""
            },
            "colorscale": [
             [
              0,
              "#0d0887"
             ],
             [
              0.1111111111111111,
              "#46039f"
             ],
             [
              0.2222222222222222,
              "#7201a8"
             ],
             [
              0.3333333333333333,
              "#9c179e"
             ],
             [
              0.4444444444444444,
              "#bd3786"
             ],
             [
              0.5555555555555556,
              "#d8576b"
             ],
             [
              0.6666666666666666,
              "#ed7953"
             ],
             [
              0.7777777777777778,
              "#fb9f3a"
             ],
             [
              0.8888888888888888,
              "#fdca26"
             ],
             [
              1,
              "#f0f921"
             ]
            ],
            "type": "histogram2dcontour"
           }
          ],
          "mesh3d": [
           {
            "colorbar": {
             "outlinewidth": 0,
             "ticks": ""
            },
            "type": "mesh3d"
           }
          ],
          "parcoords": [
           {
            "line": {
             "colorbar": {
              "outlinewidth": 0,
              "ticks": ""
             }
            },
            "type": "parcoords"
           }
          ],
          "pie": [
           {
            "automargin": true,
            "type": "pie"
           }
          ],
          "scatter": [
           {
            "fillpattern": {
             "fillmode": "overlay",
             "size": 10,
             "solidity": 0.2
            },
            "type": "scatter"
           }
          ],
          "scatter3d": [
           {
            "line": {
             "colorbar": {
              "outlinewidth": 0,
              "ticks": ""
             }
            },
            "marker": {
             "colorbar": {
              "outlinewidth": 0,
              "ticks": ""
             }
            },
            "type": "scatter3d"
           }
          ],
          "scattercarpet": [
           {
            "marker": {
             "colorbar": {
              "outlinewidth": 0,
              "ticks": ""
             }
            },
            "type": "scattercarpet"
           }
          ],
          "scattergeo": [
           {
            "marker": {
             "colorbar": {
              "outlinewidth": 0,
              "ticks": ""
             }
            },
            "type": "scattergeo"
           }
          ],
          "scattergl": [
           {
            "marker": {
             "colorbar": {
              "outlinewidth": 0,
              "ticks": ""
             }
            },
            "type": "scattergl"
           }
          ],
          "scattermapbox": [
           {
            "marker": {
             "colorbar": {
              "outlinewidth": 0,
              "ticks": ""
             }
            },
            "type": "scattermapbox"
           }
          ],
          "scatterpolar": [
           {
            "marker": {
             "colorbar": {
              "outlinewidth": 0,
              "ticks": ""
             }
            },
            "type": "scatterpolar"
           }
          ],
          "scatterpolargl": [
           {
            "marker": {
             "colorbar": {
              "outlinewidth": 0,
              "ticks": ""
             }
            },
            "type": "scatterpolargl"
           }
          ],
          "scatterternary": [
           {
            "marker": {
             "colorbar": {
              "outlinewidth": 0,
              "ticks": ""
             }
            },
            "type": "scatterternary"
           }
          ],
          "surface": [
           {
            "colorbar": {
             "outlinewidth": 0,
             "ticks": ""
            },
            "colorscale": [
             [
              0,
              "#0d0887"
             ],
             [
              0.1111111111111111,
              "#46039f"
             ],
             [
              0.2222222222222222,
              "#7201a8"
             ],
             [
              0.3333333333333333,
              "#9c179e"
             ],
             [
              0.4444444444444444,
              "#bd3786"
             ],
             [
              0.5555555555555556,
              "#d8576b"
             ],
             [
              0.6666666666666666,
              "#ed7953"
             ],
             [
              0.7777777777777778,
              "#fb9f3a"
             ],
             [
              0.8888888888888888,
              "#fdca26"
             ],
             [
              1,
              "#f0f921"
             ]
            ],
            "type": "surface"
           }
          ],
          "table": [
           {
            "cells": {
             "fill": {
              "color": "#EBF0F8"
             },
             "line": {
              "color": "white"
             }
            },
            "header": {
             "fill": {
              "color": "#C8D4E3"
             },
             "line": {
              "color": "white"
             }
            },
            "type": "table"
           }
          ]
         },
         "layout": {
          "annotationdefaults": {
           "arrowcolor": "#2a3f5f",
           "arrowhead": 0,
           "arrowwidth": 1
          },
          "autotypenumbers": "strict",
          "coloraxis": {
           "colorbar": {
            "outlinewidth": 0,
            "ticks": ""
           }
          },
          "colorscale": {
           "diverging": [
            [
             0,
             "#8e0152"
            ],
            [
             0.1,
             "#c51b7d"
            ],
            [
             0.2,
             "#de77ae"
            ],
            [
             0.3,
             "#f1b6da"
            ],
            [
             0.4,
             "#fde0ef"
            ],
            [
             0.5,
             "#f7f7f7"
            ],
            [
             0.6,
             "#e6f5d0"
            ],
            [
             0.7,
             "#b8e186"
            ],
            [
             0.8,
             "#7fbc41"
            ],
            [
             0.9,
             "#4d9221"
            ],
            [
             1,
             "#276419"
            ]
           ],
           "sequential": [
            [
             0,
             "#0d0887"
            ],
            [
             0.1111111111111111,
             "#46039f"
            ],
            [
             0.2222222222222222,
             "#7201a8"
            ],
            [
             0.3333333333333333,
             "#9c179e"
            ],
            [
             0.4444444444444444,
             "#bd3786"
            ],
            [
             0.5555555555555556,
             "#d8576b"
            ],
            [
             0.6666666666666666,
             "#ed7953"
            ],
            [
             0.7777777777777778,
             "#fb9f3a"
            ],
            [
             0.8888888888888888,
             "#fdca26"
            ],
            [
             1,
             "#f0f921"
            ]
           ],
           "sequentialminus": [
            [
             0,
             "#0d0887"
            ],
            [
             0.1111111111111111,
             "#46039f"
            ],
            [
             0.2222222222222222,
             "#7201a8"
            ],
            [
             0.3333333333333333,
             "#9c179e"
            ],
            [
             0.4444444444444444,
             "#bd3786"
            ],
            [
             0.5555555555555556,
             "#d8576b"
            ],
            [
             0.6666666666666666,
             "#ed7953"
            ],
            [
             0.7777777777777778,
             "#fb9f3a"
            ],
            [
             0.8888888888888888,
             "#fdca26"
            ],
            [
             1,
             "#f0f921"
            ]
           ]
          },
          "colorway": [
           "#636efa",
           "#EF553B",
           "#00cc96",
           "#ab63fa",
           "#FFA15A",
           "#19d3f3",
           "#FF6692",
           "#B6E880",
           "#FF97FF",
           "#FECB52"
          ],
          "font": {
           "color": "#2a3f5f"
          },
          "geo": {
           "bgcolor": "white",
           "lakecolor": "white",
           "landcolor": "#E5ECF6",
           "showlakes": true,
           "showland": true,
           "subunitcolor": "white"
          },
          "hoverlabel": {
           "align": "left"
          },
          "hovermode": "closest",
          "mapbox": {
           "style": "light"
          },
          "paper_bgcolor": "white",
          "plot_bgcolor": "#E5ECF6",
          "polar": {
           "angularaxis": {
            "gridcolor": "white",
            "linecolor": "white",
            "ticks": ""
           },
           "bgcolor": "#E5ECF6",
           "radialaxis": {
            "gridcolor": "white",
            "linecolor": "white",
            "ticks": ""
           }
          },
          "scene": {
           "xaxis": {
            "backgroundcolor": "#E5ECF6",
            "gridcolor": "white",
            "gridwidth": 2,
            "linecolor": "white",
            "showbackground": true,
            "ticks": "",
            "zerolinecolor": "white"
           },
           "yaxis": {
            "backgroundcolor": "#E5ECF6",
            "gridcolor": "white",
            "gridwidth": 2,
            "linecolor": "white",
            "showbackground": true,
            "ticks": "",
            "zerolinecolor": "white"
           },
           "zaxis": {
            "backgroundcolor": "#E5ECF6",
            "gridcolor": "white",
            "gridwidth": 2,
            "linecolor": "white",
            "showbackground": true,
            "ticks": "",
            "zerolinecolor": "white"
           }
          },
          "shapedefaults": {
           "line": {
            "color": "#2a3f5f"
           }
          },
          "ternary": {
           "aaxis": {
            "gridcolor": "white",
            "linecolor": "white",
            "ticks": ""
           },
           "baxis": {
            "gridcolor": "white",
            "linecolor": "white",
            "ticks": ""
           },
           "bgcolor": "#E5ECF6",
           "caxis": {
            "gridcolor": "white",
            "linecolor": "white",
            "ticks": ""
           }
          },
          "title": {
           "x": 0.05
          },
          "xaxis": {
           "automargin": true,
           "gridcolor": "white",
           "linecolor": "white",
           "ticks": "",
           "title": {
            "standoff": 15
           },
           "zerolinecolor": "white",
           "zerolinewidth": 2
          },
          "yaxis": {
           "automargin": true,
           "gridcolor": "white",
           "linecolor": "white",
           "ticks": "",
           "title": {
            "standoff": 15
           },
           "zerolinecolor": "white",
           "zerolinewidth": 2
          }
         }
        },
        "xaxis": {
         "anchor": "y",
         "domain": [
          0,
          1
         ],
         "type": "date"
        },
        "yaxis": {
         "anchor": "x",
         "domain": [
          0,
          1
         ],
         "title": {
          "text": "Machine"
         }
        }
       }
      }
     },
     "metadata": {},
     "output_type": "display_data"
    },
    {
     "name": "stdout",
     "output_type": "stream",
     "text": [
      "finished! no legal actions possible after 123 steps\n"
     ]
    },
    {
     "data": {
      "application/vnd.plotly.v1+json": {
       "config": {
        "plotlyServerURL": "https://plot.ly"
       },
       "data": [
        {
         "alignmentgroup": "True",
         "base": [
          "2022-01-01T00:00:01",
          "2022-01-01T00:09:01",
          "2022-01-01T00:10:07",
          "2022-01-01T00:05:27",
          "2022-01-01T00:11:37",
          "2022-01-01T00:12:53",
          "2022-01-01T00:04:16",
          "2022-01-01T00:06:48",
          "2022-01-01T00:13:51",
          "2022-01-01T00:15:30"
         ],
         "hovertemplate": "Job=job_09<br>Start=%{base}<br>Finish=%{x}<br>Machine=%{y}<extra></extra>",
         "legendgroup": "job_09",
         "marker": {
          "color": "#636efa",
          "pattern": {
           "shape": ""
          }
         },
         "name": "job_09",
         "offsetgroup": "job_09",
         "orientation": "h",
         "showlegend": true,
         "textposition": "auto",
         "type": "bar",
         "x": [
          93000,
          65000,
          89000,
          80000,
          75000,
          57000,
          70000,
          84000,
          92000,
          96000
         ],
         "xaxis": "x",
         "y": [
          "machine_01",
          "machine_02",
          "machine_03",
          "machine_04",
          "machine_05",
          "machine_06",
          "machine_07",
          "machine_08",
          "machine_09",
          "machine_10"
         ],
         "yaxis": "y"
        },
        {
         "alignmentgroup": "True",
         "base": [
          "2022-01-01T00:02:00",
          "2022-01-01T00:04:22",
          "2022-01-01T00:16:39",
          "2022-01-01T00:01:10",
          "2022-01-01T00:12:53",
          "2022-01-01T00:14:14",
          "2022-01-01T00:10:45",
          "2022-01-01T00:08:13",
          "2022-01-01T00:05:44",
          "2022-01-01T00:09:09"
         ],
         "hovertemplate": "Job=job_10<br>Start=%{base}<br>Finish=%{x}<br>Machine=%{y}<extra></extra>",
         "legendgroup": "job_10",
         "marker": {
          "color": "#EF553B",
          "pattern": {
           "shape": ""
          }
         },
         "name": "job_10",
         "offsetgroup": "job_10",
         "orientation": "h",
         "showlegend": true,
         "textposition": "auto",
         "type": "bar",
         "x": [
          58000,
          81000,
          95000,
          49000,
          80000,
          58000,
          57000,
          55000,
          66000,
          95000
         ],
         "xaxis": "x",
         "y": [
          "machine_01",
          "machine_02",
          "machine_03",
          "machine_04",
          "machine_05",
          "machine_06",
          "machine_07",
          "machine_08",
          "machine_09",
          "machine_10"
         ],
         "yaxis": "y"
        },
        {
         "alignmentgroup": "True",
         "base": [
          "2022-01-01T00:02:59",
          "2022-01-01T00:05:44",
          "2022-01-01T00:18:15",
          "2022-01-01T00:19:10",
          "2022-01-01T00:14:14",
          "2022-01-01T00:10:35",
          "2022-01-01T00:07:01",
          "2022-01-01T00:12:00",
          "2022-01-01T00:01:24",
          "2022-01-01T00:00:01"
         ],
         "hovertemplate": "Job=job_03<br>Start=%{base}<br>Finish=%{x}<br>Machine=%{y}<extra></extra>",
         "legendgroup": "job_03",
         "marker": {
          "color": "#00cc96",
          "pattern": {
           "shape": ""
          }
         },
         "name": "job_03",
         "offsetgroup": "job_03",
         "orientation": "h",
         "showlegend": true,
         "textposition": "auto",
         "type": "bar",
         "x": [
          82000,
          64000,
          54000,
          76000,
          84000,
          84000,
          63000,
          77000,
          60000,
          82000
         ],
         "xaxis": "x",
         "y": [
          "machine_01",
          "machine_02",
          "machine_03",
          "machine_04",
          "machine_05",
          "machine_06",
          "machine_07",
          "machine_08",
          "machine_09",
          "machine_10"
         ],
         "yaxis": "y"
        },
        {
         "alignmentgroup": "True",
         "base": [
          "2022-01-01T00:08:54",
          "2022-01-01T00:19:33",
          "2022-01-01T00:11:37",
          "2022-01-01T00:00:01",
          "2022-01-01T00:04:29",
          "2022-01-01T00:16:19",
          "2022-01-01T00:12:58",
          "2022-01-01T00:18:26",
          "2022-01-01T00:07:19",
          "2022-01-01T00:05:57"
         ],
         "hovertemplate": "Job=job_05<br>Start=%{base}<br>Finish=%{x}<br>Machine=%{y}<extra></extra>",
         "legendgroup": "job_05",
         "marker": {
          "color": "#ab63fa",
          "pattern": {
           "shape": ""
          }
         },
         "name": "job_05",
         "offsetgroup": "job_05",
         "orientation": "h",
         "showlegend": true,
         "textposition": "auto",
         "type": "bar",
         "x": [
          98000,
          85000,
          66000,
          68000,
          87000,
          67000,
          94000,
          66000,
          94000,
          81000
         ],
         "xaxis": "x",
         "y": [
          "machine_01",
          "machine_02",
          "machine_03",
          "machine_04",
          "machine_05",
          "machine_06",
          "machine_07",
          "machine_08",
          "machine_09",
          "machine_10"
         ],
         "yaxis": "y"
        },
        {
         "alignmentgroup": "True",
         "base": [
          "2022-01-01T00:10:33",
          "2022-01-01T00:02:50",
          "2022-01-01T00:15:33",
          "2022-01-01T00:08:49",
          "2022-01-01T00:07:12",
          "2022-01-01T00:17:27",
          "2022-01-01T00:19:06",
          "2022-01-01T00:01:35",
          "2022-01-01T00:12:08",
          "2022-01-01T00:20:42"
         ],
         "hovertemplate": "Job=job_07<br>Start=%{base}<br>Finish=%{x}<br>Machine=%{y}<extra></extra>",
         "legendgroup": "job_07",
         "marker": {
          "color": "#FFA15A",
          "pattern": {
           "shape": ""
          }
         },
         "name": "job_07",
         "offsetgroup": "job_07",
         "orientation": "h",
         "showlegend": true,
         "textposition": "auto",
         "type": "bar",
         "x": [
          94000,
          85000,
          65000,
          95000,
          96000,
          98000,
          51000,
          49000,
          96000,
          70000
         ],
         "xaxis": "x",
         "y": [
          "machine_01",
          "machine_02",
          "machine_03",
          "machine_04",
          "machine_05",
          "machine_06",
          "machine_07",
          "machine_08",
          "machine_09",
          "machine_10"
         ],
         "yaxis": "y"
        },
        {
         "alignmentgroup": "True",
         "base": [
          "2022-01-01T00:12:08",
          "2022-01-01T00:13:40",
          "2022-01-01T00:07:12",
          "2022-01-01T00:02:00",
          "2022-01-01T00:05:57",
          "2022-01-01T00:00:01",
          "2022-01-01T00:02:52",
          "2022-01-01T00:15:13",
          "2022-01-01T00:09:01",
          "2022-01-01T00:17:07"
         ],
         "hovertemplate": "Job=job_02<br>Start=%{base}<br>Finish=%{x}<br>Machine=%{y}<extra></extra>",
         "legendgroup": "job_02",
         "marker": {
          "color": "#19d3f3",
          "pattern": {
           "shape": ""
          }
         },
         "name": "job_02",
         "offsetgroup": "job_02",
         "orientation": "h",
         "showlegend": true,
         "textposition": "auto",
         "type": "bar",
         "x": [
          91000,
          81000,
          93000,
          49000,
          74000,
          71000,
          68000,
          93000,
          65000,
          62000
         ],
         "xaxis": "x",
         "y": [
          "machine_01",
          "machine_02",
          "machine_03",
          "machine_04",
          "machine_05",
          "machine_06",
          "machine_07",
          "machine_08",
          "machine_09",
          "machine_10"
         ],
         "yaxis": "y"
        },
        {
         "alignmentgroup": "True",
         "base": [
          "2022-01-01T00:13:40",
          "2022-01-01T00:07:50",
          "2022-01-01T00:04:14",
          "2022-01-01T00:02:52",
          "2022-01-01T00:00:01",
          "2022-01-01T00:09:01",
          "2022-01-01T00:01:39",
          "2022-01-01T00:10:35",
          "2022-01-01T00:15:24",
          "2022-01-01T00:18:10"
         ],
         "hovertemplate": "Job=job_08<br>Start=%{base}<br>Finish=%{x}<br>Machine=%{y}<extra></extra>",
         "legendgroup": "job_08",
         "marker": {
          "color": "#FF6692",
          "pattern": {
           "shape": ""
          }
         },
         "name": "job_08",
         "offsetgroup": "job_08",
         "orientation": "h",
         "showlegend": true,
         "textposition": "auto",
         "type": "bar",
         "x": [
          61000,
          70000,
          50000,
          81000,
          97000,
          93000,
          72000,
          84000,
          94000,
          78000
         ],
         "xaxis": "x",
         "y": [
          "machine_01",
          "machine_02",
          "machine_03",
          "machine_04",
          "machine_05",
          "machine_06",
          "machine_07",
          "machine_08",
          "machine_09",
          "machine_10"
         ],
         "yaxis": "y"
        },
        {
         "alignmentgroup": "True",
         "base": [
          "2022-01-01T00:16:19",
          "2022-01-01T00:06:49",
          "2022-01-01T00:01:35",
          "2022-01-01T00:10:28",
          "2022-01-01T00:08:49",
          "2022-01-01T00:15:13",
          "2022-01-01T00:11:43",
          "2022-01-01T00:00:01",
          "2022-01-01T00:20:32",
          "2022-01-01T00:19:29"
         ],
         "hovertemplate": "Job=job_04<br>Start=%{base}<br>Finish=%{x}<br>Machine=%{y}<extra></extra>",
         "legendgroup": "job_04",
         "marker": {
          "color": "#B6E880",
          "pattern": {
           "shape": ""
          }
         },
         "name": "job_04",
         "offsetgroup": "job_04",
         "orientation": "h",
         "showlegend": true,
         "textposition": "auto",
         "type": "bar",
         "x": [
          75000,
          60000,
          67000,
          53000,
          98000,
          65000,
          74000,
          93000,
          66000,
          62000
         ],
         "xaxis": "x",
         "y": [
          "machine_01",
          "machine_02",
          "machine_03",
          "machine_04",
          "machine_05",
          "machine_06",
          "machine_07",
          "machine_08",
          "machine_09",
          "machine_10"
         ],
         "yaxis": "y"
        },
        {
         "alignmentgroup": "True",
         "base": [
          "2022-01-01T00:18:26",
          "2022-01-01T00:10:07",
          "2022-01-01T00:12:44",
          "2022-01-01T00:20:27",
          "2022-01-01T00:01:40",
          "2022-01-01T00:07:01",
          "2022-01-01T00:05:27",
          "2022-01-01T00:16:47",
          "2022-01-01T00:03:08",
          "2022-01-01T00:14:13"
         ],
         "hovertemplate": "Job=job_01<br>Start=%{base}<br>Finish=%{x}<br>Machine=%{y}<extra></extra>",
         "legendgroup": "job_01",
         "marker": {
          "color": "#FF97FF",
          "pattern": {
           "shape": ""
          }
         },
         "name": "job_01",
         "offsetgroup": "job_01",
         "orientation": "h",
         "showlegend": true,
         "textposition": "auto",
         "type": "bar",
         "x": [
          85000,
          66000,
          88000,
          91000,
          87000,
          98000,
          93000,
          98000,
          67000,
          76000
         ],
         "xaxis": "x",
         "y": [
          "machine_01",
          "machine_02",
          "machine_03",
          "machine_04",
          "machine_05",
          "machine_06",
          "machine_07",
          "machine_08",
          "machine_09",
          "machine_10"
         ],
         "yaxis": "y"
        },
        {
         "alignmentgroup": "True",
         "base": [
          "2022-01-01T00:24:14",
          "2022-01-01T00:00:01",
          "2022-01-01T00:14:13",
          "2022-01-01T00:22:55",
          "2022-01-01T00:03:08",
          "2022-01-01T00:04:29",
          "2022-01-01T00:08:05",
          "2022-01-01T00:19:33",
          "2022-01-01T00:10:07",
          "2022-01-01T00:21:53"
         ],
         "hovertemplate": "Job=job_06<br>Start=%{base}<br>Finish=%{x}<br>Machine=%{y}<extra></extra>",
         "legendgroup": "job_06",
         "marker": {
          "color": "#FECB52",
          "pattern": {
           "shape": ""
          }
         },
         "name": "job_06",
         "offsetgroup": "job_06",
         "orientation": "h",
         "showlegend": true,
         "textposition": "auto",
         "type": "bar",
         "x": [
          87000,
          98000,
          79000,
          78000,
          80000,
          63000,
          65000,
          68000,
          79000,
          61000
         ],
         "xaxis": "x",
         "y": [
          "machine_01",
          "machine_02",
          "machine_03",
          "machine_04",
          "machine_05",
          "machine_06",
          "machine_07",
          "machine_08",
          "machine_09",
          "machine_10"
         ],
         "yaxis": "y"
        }
       ],
       "layout": {
        "barmode": "overlay",
        "legend": {
         "title": {
          "text": "Job"
         },
         "tracegroupgap": 0
        },
        "margin": {
         "t": 60
        },
        "template": {
         "data": {
          "bar": [
           {
            "error_x": {
             "color": "#2a3f5f"
            },
            "error_y": {
             "color": "#2a3f5f"
            },
            "marker": {
             "line": {
              "color": "#E5ECF6",
              "width": 0.5
             },
             "pattern": {
              "fillmode": "overlay",
              "size": 10,
              "solidity": 0.2
             }
            },
            "type": "bar"
           }
          ],
          "barpolar": [
           {
            "marker": {
             "line": {
              "color": "#E5ECF6",
              "width": 0.5
             },
             "pattern": {
              "fillmode": "overlay",
              "size": 10,
              "solidity": 0.2
             }
            },
            "type": "barpolar"
           }
          ],
          "carpet": [
           {
            "aaxis": {
             "endlinecolor": "#2a3f5f",
             "gridcolor": "white",
             "linecolor": "white",
             "minorgridcolor": "white",
             "startlinecolor": "#2a3f5f"
            },
            "baxis": {
             "endlinecolor": "#2a3f5f",
             "gridcolor": "white",
             "linecolor": "white",
             "minorgridcolor": "white",
             "startlinecolor": "#2a3f5f"
            },
            "type": "carpet"
           }
          ],
          "choropleth": [
           {
            "colorbar": {
             "outlinewidth": 0,
             "ticks": ""
            },
            "type": "choropleth"
           }
          ],
          "contour": [
           {
            "colorbar": {
             "outlinewidth": 0,
             "ticks": ""
            },
            "colorscale": [
             [
              0,
              "#0d0887"
             ],
             [
              0.1111111111111111,
              "#46039f"
             ],
             [
              0.2222222222222222,
              "#7201a8"
             ],
             [
              0.3333333333333333,
              "#9c179e"
             ],
             [
              0.4444444444444444,
              "#bd3786"
             ],
             [
              0.5555555555555556,
              "#d8576b"
             ],
             [
              0.6666666666666666,
              "#ed7953"
             ],
             [
              0.7777777777777778,
              "#fb9f3a"
             ],
             [
              0.8888888888888888,
              "#fdca26"
             ],
             [
              1,
              "#f0f921"
             ]
            ],
            "type": "contour"
           }
          ],
          "contourcarpet": [
           {
            "colorbar": {
             "outlinewidth": 0,
             "ticks": ""
            },
            "type": "contourcarpet"
           }
          ],
          "heatmap": [
           {
            "colorbar": {
             "outlinewidth": 0,
             "ticks": ""
            },
            "colorscale": [
             [
              0,
              "#0d0887"
             ],
             [
              0.1111111111111111,
              "#46039f"
             ],
             [
              0.2222222222222222,
              "#7201a8"
             ],
             [
              0.3333333333333333,
              "#9c179e"
             ],
             [
              0.4444444444444444,
              "#bd3786"
             ],
             [
              0.5555555555555556,
              "#d8576b"
             ],
             [
              0.6666666666666666,
              "#ed7953"
             ],
             [
              0.7777777777777778,
              "#fb9f3a"
             ],
             [
              0.8888888888888888,
              "#fdca26"
             ],
             [
              1,
              "#f0f921"
             ]
            ],
            "type": "heatmap"
           }
          ],
          "heatmapgl": [
           {
            "colorbar": {
             "outlinewidth": 0,
             "ticks": ""
            },
            "colorscale": [
             [
              0,
              "#0d0887"
             ],
             [
              0.1111111111111111,
              "#46039f"
             ],
             [
              0.2222222222222222,
              "#7201a8"
             ],
             [
              0.3333333333333333,
              "#9c179e"
             ],
             [
              0.4444444444444444,
              "#bd3786"
             ],
             [
              0.5555555555555556,
              "#d8576b"
             ],
             [
              0.6666666666666666,
              "#ed7953"
             ],
             [
              0.7777777777777778,
              "#fb9f3a"
             ],
             [
              0.8888888888888888,
              "#fdca26"
             ],
             [
              1,
              "#f0f921"
             ]
            ],
            "type": "heatmapgl"
           }
          ],
          "histogram": [
           {
            "marker": {
             "pattern": {
              "fillmode": "overlay",
              "size": 10,
              "solidity": 0.2
             }
            },
            "type": "histogram"
           }
          ],
          "histogram2d": [
           {
            "colorbar": {
             "outlinewidth": 0,
             "ticks": ""
            },
            "colorscale": [
             [
              0,
              "#0d0887"
             ],
             [
              0.1111111111111111,
              "#46039f"
             ],
             [
              0.2222222222222222,
              "#7201a8"
             ],
             [
              0.3333333333333333,
              "#9c179e"
             ],
             [
              0.4444444444444444,
              "#bd3786"
             ],
             [
              0.5555555555555556,
              "#d8576b"
             ],
             [
              0.6666666666666666,
              "#ed7953"
             ],
             [
              0.7777777777777778,
              "#fb9f3a"
             ],
             [
              0.8888888888888888,
              "#fdca26"
             ],
             [
              1,
              "#f0f921"
             ]
            ],
            "type": "histogram2d"
           }
          ],
          "histogram2dcontour": [
           {
            "colorbar": {
             "outlinewidth": 0,
             "ticks": ""
            },
            "colorscale": [
             [
              0,
              "#0d0887"
             ],
             [
              0.1111111111111111,
              "#46039f"
             ],
             [
              0.2222222222222222,
              "#7201a8"
             ],
             [
              0.3333333333333333,
              "#9c179e"
             ],
             [
              0.4444444444444444,
              "#bd3786"
             ],
             [
              0.5555555555555556,
              "#d8576b"
             ],
             [
              0.6666666666666666,
              "#ed7953"
             ],
             [
              0.7777777777777778,
              "#fb9f3a"
             ],
             [
              0.8888888888888888,
              "#fdca26"
             ],
             [
              1,
              "#f0f921"
             ]
            ],
            "type": "histogram2dcontour"
           }
          ],
          "mesh3d": [
           {
            "colorbar": {
             "outlinewidth": 0,
             "ticks": ""
            },
            "type": "mesh3d"
           }
          ],
          "parcoords": [
           {
            "line": {
             "colorbar": {
              "outlinewidth": 0,
              "ticks": ""
             }
            },
            "type": "parcoords"
           }
          ],
          "pie": [
           {
            "automargin": true,
            "type": "pie"
           }
          ],
          "scatter": [
           {
            "fillpattern": {
             "fillmode": "overlay",
             "size": 10,
             "solidity": 0.2
            },
            "type": "scatter"
           }
          ],
          "scatter3d": [
           {
            "line": {
             "colorbar": {
              "outlinewidth": 0,
              "ticks": ""
             }
            },
            "marker": {
             "colorbar": {
              "outlinewidth": 0,
              "ticks": ""
             }
            },
            "type": "scatter3d"
           }
          ],
          "scattercarpet": [
           {
            "marker": {
             "colorbar": {
              "outlinewidth": 0,
              "ticks": ""
             }
            },
            "type": "scattercarpet"
           }
          ],
          "scattergeo": [
           {
            "marker": {
             "colorbar": {
              "outlinewidth": 0,
              "ticks": ""
             }
            },
            "type": "scattergeo"
           }
          ],
          "scattergl": [
           {
            "marker": {
             "colorbar": {
              "outlinewidth": 0,
              "ticks": ""
             }
            },
            "type": "scattergl"
           }
          ],
          "scattermapbox": [
           {
            "marker": {
             "colorbar": {
              "outlinewidth": 0,
              "ticks": ""
             }
            },
            "type": "scattermapbox"
           }
          ],
          "scatterpolar": [
           {
            "marker": {
             "colorbar": {
              "outlinewidth": 0,
              "ticks": ""
             }
            },
            "type": "scatterpolar"
           }
          ],
          "scatterpolargl": [
           {
            "marker": {
             "colorbar": {
              "outlinewidth": 0,
              "ticks": ""
             }
            },
            "type": "scatterpolargl"
           }
          ],
          "scatterternary": [
           {
            "marker": {
             "colorbar": {
              "outlinewidth": 0,
              "ticks": ""
             }
            },
            "type": "scatterternary"
           }
          ],
          "surface": [
           {
            "colorbar": {
             "outlinewidth": 0,
             "ticks": ""
            },
            "colorscale": [
             [
              0,
              "#0d0887"
             ],
             [
              0.1111111111111111,
              "#46039f"
             ],
             [
              0.2222222222222222,
              "#7201a8"
             ],
             [
              0.3333333333333333,
              "#9c179e"
             ],
             [
              0.4444444444444444,
              "#bd3786"
             ],
             [
              0.5555555555555556,
              "#d8576b"
             ],
             [
              0.6666666666666666,
              "#ed7953"
             ],
             [
              0.7777777777777778,
              "#fb9f3a"
             ],
             [
              0.8888888888888888,
              "#fdca26"
             ],
             [
              1,
              "#f0f921"
             ]
            ],
            "type": "surface"
           }
          ],
          "table": [
           {
            "cells": {
             "fill": {
              "color": "#EBF0F8"
             },
             "line": {
              "color": "white"
             }
            },
            "header": {
             "fill": {
              "color": "#C8D4E3"
             },
             "line": {
              "color": "white"
             }
            },
            "type": "table"
           }
          ]
         },
         "layout": {
          "annotationdefaults": {
           "arrowcolor": "#2a3f5f",
           "arrowhead": 0,
           "arrowwidth": 1
          },
          "autotypenumbers": "strict",
          "coloraxis": {
           "colorbar": {
            "outlinewidth": 0,
            "ticks": ""
           }
          },
          "colorscale": {
           "diverging": [
            [
             0,
             "#8e0152"
            ],
            [
             0.1,
             "#c51b7d"
            ],
            [
             0.2,
             "#de77ae"
            ],
            [
             0.3,
             "#f1b6da"
            ],
            [
             0.4,
             "#fde0ef"
            ],
            [
             0.5,
             "#f7f7f7"
            ],
            [
             0.6,
             "#e6f5d0"
            ],
            [
             0.7,
             "#b8e186"
            ],
            [
             0.8,
             "#7fbc41"
            ],
            [
             0.9,
             "#4d9221"
            ],
            [
             1,
             "#276419"
            ]
           ],
           "sequential": [
            [
             0,
             "#0d0887"
            ],
            [
             0.1111111111111111,
             "#46039f"
            ],
            [
             0.2222222222222222,
             "#7201a8"
            ],
            [
             0.3333333333333333,
             "#9c179e"
            ],
            [
             0.4444444444444444,
             "#bd3786"
            ],
            [
             0.5555555555555556,
             "#d8576b"
            ],
            [
             0.6666666666666666,
             "#ed7953"
            ],
            [
             0.7777777777777778,
             "#fb9f3a"
            ],
            [
             0.8888888888888888,
             "#fdca26"
            ],
            [
             1,
             "#f0f921"
            ]
           ],
           "sequentialminus": [
            [
             0,
             "#0d0887"
            ],
            [
             0.1111111111111111,
             "#46039f"
            ],
            [
             0.2222222222222222,
             "#7201a8"
            ],
            [
             0.3333333333333333,
             "#9c179e"
            ],
            [
             0.4444444444444444,
             "#bd3786"
            ],
            [
             0.5555555555555556,
             "#d8576b"
            ],
            [
             0.6666666666666666,
             "#ed7953"
            ],
            [
             0.7777777777777778,
             "#fb9f3a"
            ],
            [
             0.8888888888888888,
             "#fdca26"
            ],
            [
             1,
             "#f0f921"
            ]
           ]
          },
          "colorway": [
           "#636efa",
           "#EF553B",
           "#00cc96",
           "#ab63fa",
           "#FFA15A",
           "#19d3f3",
           "#FF6692",
           "#B6E880",
           "#FF97FF",
           "#FECB52"
          ],
          "font": {
           "color": "#2a3f5f"
          },
          "geo": {
           "bgcolor": "white",
           "lakecolor": "white",
           "landcolor": "#E5ECF6",
           "showlakes": true,
           "showland": true,
           "subunitcolor": "white"
          },
          "hoverlabel": {
           "align": "left"
          },
          "hovermode": "closest",
          "mapbox": {
           "style": "light"
          },
          "paper_bgcolor": "white",
          "plot_bgcolor": "#E5ECF6",
          "polar": {
           "angularaxis": {
            "gridcolor": "white",
            "linecolor": "white",
            "ticks": ""
           },
           "bgcolor": "#E5ECF6",
           "radialaxis": {
            "gridcolor": "white",
            "linecolor": "white",
            "ticks": ""
           }
          },
          "scene": {
           "xaxis": {
            "backgroundcolor": "#E5ECF6",
            "gridcolor": "white",
            "gridwidth": 2,
            "linecolor": "white",
            "showbackground": true,
            "ticks": "",
            "zerolinecolor": "white"
           },
           "yaxis": {
            "backgroundcolor": "#E5ECF6",
            "gridcolor": "white",
            "gridwidth": 2,
            "linecolor": "white",
            "showbackground": true,
            "ticks": "",
            "zerolinecolor": "white"
           },
           "zaxis": {
            "backgroundcolor": "#E5ECF6",
            "gridcolor": "white",
            "gridwidth": 2,
            "linecolor": "white",
            "showbackground": true,
            "ticks": "",
            "zerolinecolor": "white"
           }
          },
          "shapedefaults": {
           "line": {
            "color": "#2a3f5f"
           }
          },
          "ternary": {
           "aaxis": {
            "gridcolor": "white",
            "linecolor": "white",
            "ticks": ""
           },
           "baxis": {
            "gridcolor": "white",
            "linecolor": "white",
            "ticks": ""
           },
           "bgcolor": "#E5ECF6",
           "caxis": {
            "gridcolor": "white",
            "linecolor": "white",
            "ticks": ""
           }
          },
          "title": {
           "x": 0.05
          },
          "xaxis": {
           "automargin": true,
           "gridcolor": "white",
           "linecolor": "white",
           "ticks": "",
           "title": {
            "standoff": 15
           },
           "zerolinecolor": "white",
           "zerolinewidth": 2
          },
          "yaxis": {
           "automargin": true,
           "gridcolor": "white",
           "linecolor": "white",
           "ticks": "",
           "title": {
            "standoff": 15
           },
           "zerolinecolor": "white",
           "zerolinewidth": 2
          }
         }
        },
        "xaxis": {
         "anchor": "y",
         "domain": [
          0,
          1
         ],
         "type": "date"
        },
        "yaxis": {
         "anchor": "x",
         "domain": [
          0,
          1
         ],
         "title": {
          "text": "Machine"
         }
        }
       }
      }
     },
     "metadata": {},
     "output_type": "display_data"
    },
    {
     "name": "stdout",
     "output_type": "stream",
     "text": [
      "finished! no legal actions possible after 133 steps\n"
     ]
    },
    {
     "data": {
      "application/vnd.plotly.v1+json": {
       "config": {
        "plotlyServerURL": "https://plot.ly"
       },
       "data": [
        {
         "alignmentgroup": "True",
         "base": [
          "2022-01-01T00:00:01",
          "2022-01-01T00:06:19",
          "2022-01-01T00:07:34",
          "2022-01-01T00:03:33",
          "2022-01-01T00:11:40",
          "2022-01-01T00:13:55",
          "2022-01-01T00:01:35",
          "2022-01-01T00:04:54",
          "2022-01-01T00:18:12",
          "2022-01-01T00:19:45"
         ],
         "hovertemplate": "Job=job_09<br>Start=%{base}<br>Finish=%{x}<br>Machine=%{y}<extra></extra>",
         "legendgroup": "job_09",
         "marker": {
          "color": "#636efa",
          "pattern": {
           "shape": ""
          }
         },
         "name": "job_09",
         "offsetgroup": "job_09",
         "orientation": "h",
         "showlegend": true,
         "textposition": "auto",
         "type": "bar",
         "x": [
          93000,
          65000,
          89000,
          80000,
          75000,
          57000,
          70000,
          84000,
          92000,
          96000
         ],
         "xaxis": "x",
         "y": [
          "machine_01",
          "machine_02",
          "machine_03",
          "machine_04",
          "machine_05",
          "machine_06",
          "machine_07",
          "machine_08",
          "machine_09",
          "machine_10"
         ],
         "yaxis": "y"
        },
        {
         "alignmentgroup": "True",
         "base": [
          "2022-01-01T00:02:30",
          "2022-01-01T00:03:44",
          "2022-01-01T00:17:19",
          "2022-01-01T00:01:13",
          "2022-01-01T00:14:22",
          "2022-01-01T00:16:20",
          "2022-01-01T00:12:34",
          "2022-01-01T00:07:34",
          "2022-01-01T00:06:27",
          "2022-01-01T00:08:30"
         ],
         "hovertemplate": "Job=job_10<br>Start=%{base}<br>Finish=%{x}<br>Machine=%{y}<extra></extra>",
         "legendgroup": "job_10",
         "marker": {
          "color": "#EF553B",
          "pattern": {
           "shape": ""
          }
         },
         "name": "job_10",
         "offsetgroup": "job_10",
         "orientation": "h",
         "showlegend": true,
         "textposition": "auto",
         "type": "bar",
         "x": [
          58000,
          81000,
          95000,
          49000,
          80000,
          58000,
          57000,
          55000,
          66000,
          95000
         ],
         "xaxis": "x",
         "y": [
          "machine_01",
          "machine_02",
          "machine_03",
          "machine_04",
          "machine_05",
          "machine_06",
          "machine_07",
          "machine_08",
          "machine_09",
          "machine_10"
         ],
         "yaxis": "y"
        },
        {
         "alignmentgroup": "True",
         "base": [
          "2022-01-01T00:03:29",
          "2022-01-01T00:05:06",
          "2022-01-01T00:15:25",
          "2022-01-01T00:16:20",
          "2022-01-01T00:12:57",
          "2022-01-01T00:09:00",
          "2022-01-01T00:07:27",
          "2022-01-01T00:10:25",
          "2022-01-01T00:01:29",
          "2022-01-01T00:00:01"
         ],
         "hovertemplate": "Job=job_03<br>Start=%{base}<br>Finish=%{x}<br>Machine=%{y}<extra></extra>",
         "legendgroup": "job_03",
         "marker": {
          "color": "#00cc96",
          "pattern": {
           "shape": ""
          }
         },
         "name": "job_03",
         "offsetgroup": "job_03",
         "orientation": "h",
         "showlegend": true,
         "textposition": "auto",
         "type": "bar",
         "x": [
          82000,
          64000,
          54000,
          76000,
          84000,
          84000,
          63000,
          77000,
          60000,
          82000
         ],
         "xaxis": "x",
         "y": [
          "machine_01",
          "machine_02",
          "machine_03",
          "machine_04",
          "machine_05",
          "machine_06",
          "machine_07",
          "machine_08",
          "machine_09",
          "machine_10"
         ],
         "yaxis": "y"
        },
        {
         "alignmentgroup": "True",
         "base": [
          "2022-01-01T00:06:27",
          "2022-01-01T00:16:36",
          "2022-01-01T00:09:04",
          "2022-01-01T00:00:01",
          "2022-01-01T00:01:29",
          "2022-01-01T00:12:47",
          "2022-01-01T00:10:59",
          "2022-01-01T00:14:36",
          "2022-01-01T00:04:52",
          "2022-01-01T00:02:57"
         ],
         "hovertemplate": "Job=job_05<br>Start=%{base}<br>Finish=%{x}<br>Machine=%{y}<extra></extra>",
         "legendgroup": "job_05",
         "marker": {
          "color": "#ab63fa",
          "pattern": {
           "shape": ""
          }
         },
         "name": "job_05",
         "offsetgroup": "job_05",
         "orientation": "h",
         "showlegend": true,
         "textposition": "auto",
         "type": "bar",
         "x": [
          98000,
          85000,
          66000,
          68000,
          87000,
          67000,
          94000,
          66000,
          94000,
          81000
         ],
         "xaxis": "x",
         "y": [
          "machine_01",
          "machine_02",
          "machine_03",
          "machine_04",
          "machine_05",
          "machine_06",
          "machine_07",
          "machine_08",
          "machine_09",
          "machine_10"
         ],
         "yaxis": "y"
        },
        {
         "alignmentgroup": "True",
         "base": [
          "2022-01-01T00:11:31",
          "2022-01-01T00:02:43",
          "2022-01-01T00:01:35",
          "2022-01-01T00:06:33",
          "2022-01-01T00:04:54",
          "2022-01-01T00:10:25",
          "2022-01-01T00:08:31",
          "2022-01-01T00:00:01",
          "2022-01-01T00:14:22",
          "2022-01-01T00:12:57"
         ],
         "hovertemplate": "Job=job_04<br>Start=%{base}<br>Finish=%{x}<br>Machine=%{y}<extra></extra>",
         "legendgroup": "job_04",
         "marker": {
          "color": "#FFA15A",
          "pattern": {
           "shape": ""
          }
         },
         "name": "job_04",
         "offsetgroup": "job_04",
         "orientation": "h",
         "showlegend": true,
         "textposition": "auto",
         "type": "bar",
         "x": [
          75000,
          60000,
          67000,
          53000,
          98000,
          65000,
          74000,
          93000,
          66000,
          62000
         ],
         "xaxis": "x",
         "y": [
          "machine_01",
          "machine_02",
          "machine_03",
          "machine_04",
          "machine_05",
          "machine_06",
          "machine_07",
          "machine_08",
          "machine_09",
          "machine_10"
         ],
         "yaxis": "y"
        },
        {
         "alignmentgroup": "True",
         "base": [
          "2022-01-01T00:13:57",
          "2022-01-01T00:07:34",
          "2022-01-01T00:18:55",
          "2022-01-01T00:12:21",
          "2022-01-01T00:09:26",
          "2022-01-01T00:20:01",
          "2022-01-01T00:21:40",
          "2022-01-01T00:01:35",
          "2022-01-01T00:16:35",
          "2022-01-01T00:24:42"
         ],
         "hovertemplate": "Job=job_07<br>Start=%{base}<br>Finish=%{x}<br>Machine=%{y}<extra></extra>",
         "legendgroup": "job_07",
         "marker": {
          "color": "#19d3f3",
          "pattern": {
           "shape": ""
          }
         },
         "name": "job_07",
         "offsetgroup": "job_07",
         "orientation": "h",
         "showlegend": true,
         "textposition": "auto",
         "type": "bar",
         "x": [
          94000,
          85000,
          65000,
          95000,
          96000,
          98000,
          51000,
          49000,
          96000,
          70000
         ],
         "xaxis": "x",
         "y": [
          "machine_01",
          "machine_02",
          "machine_03",
          "machine_04",
          "machine_05",
          "machine_06",
          "machine_07",
          "machine_08",
          "machine_09",
          "machine_10"
         ],
         "yaxis": "y"
        },
        {
         "alignmentgroup": "True",
         "base": [
          "2022-01-01T00:16:20",
          "2022-01-01T00:09:00",
          "2022-01-01T00:10:11",
          "2022-01-01T00:19:13",
          "2022-01-01T00:00:01",
          "2022-01-01T00:06:21",
          "2022-01-01T00:04:47",
          "2022-01-01T00:12:57",
          "2022-01-01T00:02:30",
          "2022-01-01T00:11:40"
         ],
         "hovertemplate": "Job=job_01<br>Start=%{base}<br>Finish=%{x}<br>Machine=%{y}<extra></extra>",
         "legendgroup": "job_01",
         "marker": {
          "color": "#FF6692",
          "pattern": {
           "shape": ""
          }
         },
         "name": "job_01",
         "offsetgroup": "job_01",
         "orientation": "h",
         "showlegend": true,
         "textposition": "auto",
         "type": "bar",
         "x": [
          85000,
          66000,
          88000,
          91000,
          87000,
          98000,
          93000,
          98000,
          67000,
          76000
         ],
         "xaxis": "x",
         "y": [
          "machine_01",
          "machine_02",
          "machine_03",
          "machine_04",
          "machine_05",
          "machine_06",
          "machine_07",
          "machine_08",
          "machine_09",
          "machine_10"
         ],
         "yaxis": "y"
        },
        {
         "alignmentgroup": "True",
         "base": [
          "2022-01-01T00:17:46",
          "2022-01-01T00:19:18",
          "2022-01-01T00:13:00",
          "2022-01-01T00:02:43",
          "2022-01-01T00:06:33",
          "2022-01-01T00:00:01",
          "2022-01-01T00:03:38",
          "2022-01-01T00:20:40",
          "2022-01-01T00:15:29",
          "2022-01-01T00:22:14"
         ],
         "hovertemplate": "Job=job_02<br>Start=%{base}<br>Finish=%{x}<br>Machine=%{y}<extra></extra>",
         "legendgroup": "job_02",
         "marker": {
          "color": "#B6E880",
          "pattern": {
           "shape": ""
          }
         },
         "name": "job_02",
         "offsetgroup": "job_02",
         "orientation": "h",
         "showlegend": true,
         "textposition": "auto",
         "type": "bar",
         "x": [
          91000,
          81000,
          93000,
          49000,
          74000,
          71000,
          68000,
          93000,
          65000,
          62000
         ],
         "xaxis": "x",
         "y": [
          "machine_01",
          "machine_02",
          "machine_03",
          "machine_04",
          "machine_05",
          "machine_06",
          "machine_07",
          "machine_08",
          "machine_09",
          "machine_10"
         ],
         "yaxis": "y"
        },
        {
         "alignmentgroup": "True",
         "base": [
          "2022-01-01T00:19:18",
          "2022-01-01T00:00:01",
          "2022-01-01T00:11:40",
          "2022-01-01T00:17:54",
          "2022-01-01T00:03:33",
          "2022-01-01T00:04:54",
          "2022-01-01T00:06:21",
          "2022-01-01T00:15:43",
          "2022-01-01T00:07:34",
          "2022-01-01T00:16:52"
         ],
         "hovertemplate": "Job=job_06<br>Start=%{base}<br>Finish=%{x}<br>Machine=%{y}<extra></extra>",
         "legendgroup": "job_06",
         "marker": {
          "color": "#FF97FF",
          "pattern": {
           "shape": ""
          }
         },
         "name": "job_06",
         "offsetgroup": "job_06",
         "orientation": "h",
         "showlegend": true,
         "textposition": "auto",
         "type": "bar",
         "x": [
          87000,
          98000,
          79000,
          78000,
          80000,
          63000,
          65000,
          68000,
          79000,
          61000
         ],
         "xaxis": "x",
         "y": [
          "machine_01",
          "machine_02",
          "machine_03",
          "machine_04",
          "machine_05",
          "machine_06",
          "machine_07",
          "machine_08",
          "machine_09",
          "machine_10"
         ],
         "yaxis": "y"
        },
        {
         "alignmentgroup": "True",
         "base": [
          "2022-01-01T00:20:46",
          "2022-01-01T00:15:25",
          "2022-01-01T00:14:34",
          "2022-01-01T00:10:59",
          "2022-01-01T00:07:48",
          "2022-01-01T00:17:19",
          "2022-01-01T00:09:46",
          "2022-01-01T00:18:53",
          "2022-01-01T00:21:48",
          "2022-01-01T00:23:23"
         ],
         "hovertemplate": "Job=job_08<br>Start=%{base}<br>Finish=%{x}<br>Machine=%{y}<extra></extra>",
         "legendgroup": "job_08",
         "marker": {
          "color": "#FECB52",
          "pattern": {
           "shape": ""
          }
         },
         "name": "job_08",
         "offsetgroup": "job_08",
         "orientation": "h",
         "showlegend": true,
         "textposition": "auto",
         "type": "bar",
         "x": [
          61000,
          70000,
          50000,
          81000,
          97000,
          93000,
          72000,
          84000,
          94000,
          78000
         ],
         "xaxis": "x",
         "y": [
          "machine_01",
          "machine_02",
          "machine_03",
          "machine_04",
          "machine_05",
          "machine_06",
          "machine_07",
          "machine_08",
          "machine_09",
          "machine_10"
         ],
         "yaxis": "y"
        }
       ],
       "layout": {
        "barmode": "overlay",
        "legend": {
         "title": {
          "text": "Job"
         },
         "tracegroupgap": 0
        },
        "margin": {
         "t": 60
        },
        "template": {
         "data": {
          "bar": [
           {
            "error_x": {
             "color": "#2a3f5f"
            },
            "error_y": {
             "color": "#2a3f5f"
            },
            "marker": {
             "line": {
              "color": "#E5ECF6",
              "width": 0.5
             },
             "pattern": {
              "fillmode": "overlay",
              "size": 10,
              "solidity": 0.2
             }
            },
            "type": "bar"
           }
          ],
          "barpolar": [
           {
            "marker": {
             "line": {
              "color": "#E5ECF6",
              "width": 0.5
             },
             "pattern": {
              "fillmode": "overlay",
              "size": 10,
              "solidity": 0.2
             }
            },
            "type": "barpolar"
           }
          ],
          "carpet": [
           {
            "aaxis": {
             "endlinecolor": "#2a3f5f",
             "gridcolor": "white",
             "linecolor": "white",
             "minorgridcolor": "white",
             "startlinecolor": "#2a3f5f"
            },
            "baxis": {
             "endlinecolor": "#2a3f5f",
             "gridcolor": "white",
             "linecolor": "white",
             "minorgridcolor": "white",
             "startlinecolor": "#2a3f5f"
            },
            "type": "carpet"
           }
          ],
          "choropleth": [
           {
            "colorbar": {
             "outlinewidth": 0,
             "ticks": ""
            },
            "type": "choropleth"
           }
          ],
          "contour": [
           {
            "colorbar": {
             "outlinewidth": 0,
             "ticks": ""
            },
            "colorscale": [
             [
              0,
              "#0d0887"
             ],
             [
              0.1111111111111111,
              "#46039f"
             ],
             [
              0.2222222222222222,
              "#7201a8"
             ],
             [
              0.3333333333333333,
              "#9c179e"
             ],
             [
              0.4444444444444444,
              "#bd3786"
             ],
             [
              0.5555555555555556,
              "#d8576b"
             ],
             [
              0.6666666666666666,
              "#ed7953"
             ],
             [
              0.7777777777777778,
              "#fb9f3a"
             ],
             [
              0.8888888888888888,
              "#fdca26"
             ],
             [
              1,
              "#f0f921"
             ]
            ],
            "type": "contour"
           }
          ],
          "contourcarpet": [
           {
            "colorbar": {
             "outlinewidth": 0,
             "ticks": ""
            },
            "type": "contourcarpet"
           }
          ],
          "heatmap": [
           {
            "colorbar": {
             "outlinewidth": 0,
             "ticks": ""
            },
            "colorscale": [
             [
              0,
              "#0d0887"
             ],
             [
              0.1111111111111111,
              "#46039f"
             ],
             [
              0.2222222222222222,
              "#7201a8"
             ],
             [
              0.3333333333333333,
              "#9c179e"
             ],
             [
              0.4444444444444444,
              "#bd3786"
             ],
             [
              0.5555555555555556,
              "#d8576b"
             ],
             [
              0.6666666666666666,
              "#ed7953"
             ],
             [
              0.7777777777777778,
              "#fb9f3a"
             ],
             [
              0.8888888888888888,
              "#fdca26"
             ],
             [
              1,
              "#f0f921"
             ]
            ],
            "type": "heatmap"
           }
          ],
          "heatmapgl": [
           {
            "colorbar": {
             "outlinewidth": 0,
             "ticks": ""
            },
            "colorscale": [
             [
              0,
              "#0d0887"
             ],
             [
              0.1111111111111111,
              "#46039f"
             ],
             [
              0.2222222222222222,
              "#7201a8"
             ],
             [
              0.3333333333333333,
              "#9c179e"
             ],
             [
              0.4444444444444444,
              "#bd3786"
             ],
             [
              0.5555555555555556,
              "#d8576b"
             ],
             [
              0.6666666666666666,
              "#ed7953"
             ],
             [
              0.7777777777777778,
              "#fb9f3a"
             ],
             [
              0.8888888888888888,
              "#fdca26"
             ],
             [
              1,
              "#f0f921"
             ]
            ],
            "type": "heatmapgl"
           }
          ],
          "histogram": [
           {
            "marker": {
             "pattern": {
              "fillmode": "overlay",
              "size": 10,
              "solidity": 0.2
             }
            },
            "type": "histogram"
           }
          ],
          "histogram2d": [
           {
            "colorbar": {
             "outlinewidth": 0,
             "ticks": ""
            },
            "colorscale": [
             [
              0,
              "#0d0887"
             ],
             [
              0.1111111111111111,
              "#46039f"
             ],
             [
              0.2222222222222222,
              "#7201a8"
             ],
             [
              0.3333333333333333,
              "#9c179e"
             ],
             [
              0.4444444444444444,
              "#bd3786"
             ],
             [
              0.5555555555555556,
              "#d8576b"
             ],
             [
              0.6666666666666666,
              "#ed7953"
             ],
             [
              0.7777777777777778,
              "#fb9f3a"
             ],
             [
              0.8888888888888888,
              "#fdca26"
             ],
             [
              1,
              "#f0f921"
             ]
            ],
            "type": "histogram2d"
           }
          ],
          "histogram2dcontour": [
           {
            "colorbar": {
             "outlinewidth": 0,
             "ticks": ""
            },
            "colorscale": [
             [
              0,
              "#0d0887"
             ],
             [
              0.1111111111111111,
              "#46039f"
             ],
             [
              0.2222222222222222,
              "#7201a8"
             ],
             [
              0.3333333333333333,
              "#9c179e"
             ],
             [
              0.4444444444444444,
              "#bd3786"
             ],
             [
              0.5555555555555556,
              "#d8576b"
             ],
             [
              0.6666666666666666,
              "#ed7953"
             ],
             [
              0.7777777777777778,
              "#fb9f3a"
             ],
             [
              0.8888888888888888,
              "#fdca26"
             ],
             [
              1,
              "#f0f921"
             ]
            ],
            "type": "histogram2dcontour"
           }
          ],
          "mesh3d": [
           {
            "colorbar": {
             "outlinewidth": 0,
             "ticks": ""
            },
            "type": "mesh3d"
           }
          ],
          "parcoords": [
           {
            "line": {
             "colorbar": {
              "outlinewidth": 0,
              "ticks": ""
             }
            },
            "type": "parcoords"
           }
          ],
          "pie": [
           {
            "automargin": true,
            "type": "pie"
           }
          ],
          "scatter": [
           {
            "fillpattern": {
             "fillmode": "overlay",
             "size": 10,
             "solidity": 0.2
            },
            "type": "scatter"
           }
          ],
          "scatter3d": [
           {
            "line": {
             "colorbar": {
              "outlinewidth": 0,
              "ticks": ""
             }
            },
            "marker": {
             "colorbar": {
              "outlinewidth": 0,
              "ticks": ""
             }
            },
            "type": "scatter3d"
           }
          ],
          "scattercarpet": [
           {
            "marker": {
             "colorbar": {
              "outlinewidth": 0,
              "ticks": ""
             }
            },
            "type": "scattercarpet"
           }
          ],
          "scattergeo": [
           {
            "marker": {
             "colorbar": {
              "outlinewidth": 0,
              "ticks": ""
             }
            },
            "type": "scattergeo"
           }
          ],
          "scattergl": [
           {
            "marker": {
             "colorbar": {
              "outlinewidth": 0,
              "ticks": ""
             }
            },
            "type": "scattergl"
           }
          ],
          "scattermapbox": [
           {
            "marker": {
             "colorbar": {
              "outlinewidth": 0,
              "ticks": ""
             }
            },
            "type": "scattermapbox"
           }
          ],
          "scatterpolar": [
           {
            "marker": {
             "colorbar": {
              "outlinewidth": 0,
              "ticks": ""
             }
            },
            "type": "scatterpolar"
           }
          ],
          "scatterpolargl": [
           {
            "marker": {
             "colorbar": {
              "outlinewidth": 0,
              "ticks": ""
             }
            },
            "type": "scatterpolargl"
           }
          ],
          "scatterternary": [
           {
            "marker": {
             "colorbar": {
              "outlinewidth": 0,
              "ticks": ""
             }
            },
            "type": "scatterternary"
           }
          ],
          "surface": [
           {
            "colorbar": {
             "outlinewidth": 0,
             "ticks": ""
            },
            "colorscale": [
             [
              0,
              "#0d0887"
             ],
             [
              0.1111111111111111,
              "#46039f"
             ],
             [
              0.2222222222222222,
              "#7201a8"
             ],
             [
              0.3333333333333333,
              "#9c179e"
             ],
             [
              0.4444444444444444,
              "#bd3786"
             ],
             [
              0.5555555555555556,
              "#d8576b"
             ],
             [
              0.6666666666666666,
              "#ed7953"
             ],
             [
              0.7777777777777778,
              "#fb9f3a"
             ],
             [
              0.8888888888888888,
              "#fdca26"
             ],
             [
              1,
              "#f0f921"
             ]
            ],
            "type": "surface"
           }
          ],
          "table": [
           {
            "cells": {
             "fill": {
              "color": "#EBF0F8"
             },
             "line": {
              "color": "white"
             }
            },
            "header": {
             "fill": {
              "color": "#C8D4E3"
             },
             "line": {
              "color": "white"
             }
            },
            "type": "table"
           }
          ]
         },
         "layout": {
          "annotationdefaults": {
           "arrowcolor": "#2a3f5f",
           "arrowhead": 0,
           "arrowwidth": 1
          },
          "autotypenumbers": "strict",
          "coloraxis": {
           "colorbar": {
            "outlinewidth": 0,
            "ticks": ""
           }
          },
          "colorscale": {
           "diverging": [
            [
             0,
             "#8e0152"
            ],
            [
             0.1,
             "#c51b7d"
            ],
            [
             0.2,
             "#de77ae"
            ],
            [
             0.3,
             "#f1b6da"
            ],
            [
             0.4,
             "#fde0ef"
            ],
            [
             0.5,
             "#f7f7f7"
            ],
            [
             0.6,
             "#e6f5d0"
            ],
            [
             0.7,
             "#b8e186"
            ],
            [
             0.8,
             "#7fbc41"
            ],
            [
             0.9,
             "#4d9221"
            ],
            [
             1,
             "#276419"
            ]
           ],
           "sequential": [
            [
             0,
             "#0d0887"
            ],
            [
             0.1111111111111111,
             "#46039f"
            ],
            [
             0.2222222222222222,
             "#7201a8"
            ],
            [
             0.3333333333333333,
             "#9c179e"
            ],
            [
             0.4444444444444444,
             "#bd3786"
            ],
            [
             0.5555555555555556,
             "#d8576b"
            ],
            [
             0.6666666666666666,
             "#ed7953"
            ],
            [
             0.7777777777777778,
             "#fb9f3a"
            ],
            [
             0.8888888888888888,
             "#fdca26"
            ],
            [
             1,
             "#f0f921"
            ]
           ],
           "sequentialminus": [
            [
             0,
             "#0d0887"
            ],
            [
             0.1111111111111111,
             "#46039f"
            ],
            [
             0.2222222222222222,
             "#7201a8"
            ],
            [
             0.3333333333333333,
             "#9c179e"
            ],
            [
             0.4444444444444444,
             "#bd3786"
            ],
            [
             0.5555555555555556,
             "#d8576b"
            ],
            [
             0.6666666666666666,
             "#ed7953"
            ],
            [
             0.7777777777777778,
             "#fb9f3a"
            ],
            [
             0.8888888888888888,
             "#fdca26"
            ],
            [
             1,
             "#f0f921"
            ]
           ]
          },
          "colorway": [
           "#636efa",
           "#EF553B",
           "#00cc96",
           "#ab63fa",
           "#FFA15A",
           "#19d3f3",
           "#FF6692",
           "#B6E880",
           "#FF97FF",
           "#FECB52"
          ],
          "font": {
           "color": "#2a3f5f"
          },
          "geo": {
           "bgcolor": "white",
           "lakecolor": "white",
           "landcolor": "#E5ECF6",
           "showlakes": true,
           "showland": true,
           "subunitcolor": "white"
          },
          "hoverlabel": {
           "align": "left"
          },
          "hovermode": "closest",
          "mapbox": {
           "style": "light"
          },
          "paper_bgcolor": "white",
          "plot_bgcolor": "#E5ECF6",
          "polar": {
           "angularaxis": {
            "gridcolor": "white",
            "linecolor": "white",
            "ticks": ""
           },
           "bgcolor": "#E5ECF6",
           "radialaxis": {
            "gridcolor": "white",
            "linecolor": "white",
            "ticks": ""
           }
          },
          "scene": {
           "xaxis": {
            "backgroundcolor": "#E5ECF6",
            "gridcolor": "white",
            "gridwidth": 2,
            "linecolor": "white",
            "showbackground": true,
            "ticks": "",
            "zerolinecolor": "white"
           },
           "yaxis": {
            "backgroundcolor": "#E5ECF6",
            "gridcolor": "white",
            "gridwidth": 2,
            "linecolor": "white",
            "showbackground": true,
            "ticks": "",
            "zerolinecolor": "white"
           },
           "zaxis": {
            "backgroundcolor": "#E5ECF6",
            "gridcolor": "white",
            "gridwidth": 2,
            "linecolor": "white",
            "showbackground": true,
            "ticks": "",
            "zerolinecolor": "white"
           }
          },
          "shapedefaults": {
           "line": {
            "color": "#2a3f5f"
           }
          },
          "ternary": {
           "aaxis": {
            "gridcolor": "white",
            "linecolor": "white",
            "ticks": ""
           },
           "baxis": {
            "gridcolor": "white",
            "linecolor": "white",
            "ticks": ""
           },
           "bgcolor": "#E5ECF6",
           "caxis": {
            "gridcolor": "white",
            "linecolor": "white",
            "ticks": ""
           }
          },
          "title": {
           "x": 0.05
          },
          "xaxis": {
           "automargin": true,
           "gridcolor": "white",
           "linecolor": "white",
           "ticks": "",
           "title": {
            "standoff": 15
           },
           "zerolinecolor": "white",
           "zerolinewidth": 2
          },
          "yaxis": {
           "automargin": true,
           "gridcolor": "white",
           "linecolor": "white",
           "ticks": "",
           "title": {
            "standoff": 15
           },
           "zerolinecolor": "white",
           "zerolinewidth": 2
          }
         }
        },
        "xaxis": {
         "anchor": "y",
         "domain": [
          0,
          1
         ],
         "type": "date"
        },
        "yaxis": {
         "anchor": "x",
         "domain": [
          0,
          1
         ],
         "title": {
          "text": "Machine"
         }
        }
       }
      }
     },
     "metadata": {},
     "output_type": "display_data"
    },
    {
     "name": "stdout",
     "output_type": "stream",
     "text": [
      "finished! no legal actions possible after 124 steps\n"
     ]
    },
    {
     "data": {
      "application/vnd.plotly.v1+json": {
       "config": {
        "plotlyServerURL": "https://plot.ly"
       },
       "data": [
        {
         "alignmentgroup": "True",
         "base": [
          "2022-01-01T00:00:01",
          "2022-01-01T00:08:26",
          "2022-01-01T00:12:40",
          "2022-01-01T00:03:34",
          "2022-01-01T00:14:10",
          "2022-01-01T00:16:28",
          "2022-01-01T00:01:35",
          "2022-01-01T00:04:55",
          "2022-01-01T00:17:26",
          "2022-01-01T00:21:18"
         ],
         "hovertemplate": "Job=job_09<br>Start=%{base}<br>Finish=%{x}<br>Machine=%{y}<extra></extra>",
         "legendgroup": "job_09",
         "marker": {
          "color": "#636efa",
          "pattern": {
           "shape": ""
          }
         },
         "name": "job_09",
         "offsetgroup": "job_09",
         "orientation": "h",
         "showlegend": true,
         "textposition": "auto",
         "type": "bar",
         "x": [
          93000,
          65000,
          89000,
          80000,
          75000,
          57000,
          70000,
          84000,
          92000,
          96000
         ],
         "xaxis": "x",
         "y": [
          "machine_01",
          "machine_02",
          "machine_03",
          "machine_04",
          "machine_05",
          "machine_06",
          "machine_07",
          "machine_08",
          "machine_09",
          "machine_10"
         ],
         "yaxis": "y"
        },
        {
         "alignmentgroup": "True",
         "base": [
          "2022-01-01T00:01:35",
          "2022-01-01T00:04:52",
          "2022-01-01T00:16:32",
          "2022-01-01T00:00:01",
          "2022-01-01T00:10:51",
          "2022-01-01T00:12:32",
          "2022-01-01T00:09:53",
          "2022-01-01T00:07:21",
          "2022-01-01T00:06:14",
          "2022-01-01T00:08:17"
         ],
         "hovertemplate": "Job=job_10<br>Start=%{base}<br>Finish=%{x}<br>Machine=%{y}<extra></extra>",
         "legendgroup": "job_10",
         "marker": {
          "color": "#EF553B",
          "pattern": {
           "shape": ""
          }
         },
         "name": "job_10",
         "offsetgroup": "job_10",
         "orientation": "h",
         "showlegend": true,
         "textposition": "auto",
         "type": "bar",
         "x": [
          58000,
          81000,
          95000,
          49000,
          80000,
          58000,
          57000,
          55000,
          66000,
          95000
         ],
         "xaxis": "x",
         "y": [
          "machine_01",
          "machine_02",
          "machine_03",
          "machine_04",
          "machine_05",
          "machine_06",
          "machine_07",
          "machine_08",
          "machine_09",
          "machine_10"
         ],
         "yaxis": "y"
        },
        {
         "alignmentgroup": "True",
         "base": [
          "2022-01-01T00:03:38",
          "2022-01-01T00:06:14",
          "2022-01-01T00:14:10",
          "2022-01-01T00:15:46",
          "2022-01-01T00:12:12",
          "2022-01-01T00:09:27",
          "2022-01-01T00:08:23",
          "2022-01-01T00:10:52",
          "2022-01-01T00:02:37",
          "2022-01-01T00:00:01"
         ],
         "hovertemplate": "Job=job_03<br>Start=%{base}<br>Finish=%{x}<br>Machine=%{y}<extra></extra>",
         "legendgroup": "job_03",
         "marker": {
          "color": "#00cc96",
          "pattern": {
           "shape": ""
          }
         },
         "name": "job_03",
         "offsetgroup": "job_03",
         "orientation": "h",
         "showlegend": true,
         "textposition": "auto",
         "type": "bar",
         "x": [
          82000,
          64000,
          54000,
          76000,
          84000,
          84000,
          63000,
          77000,
          60000,
          82000
         ],
         "xaxis": "x",
         "y": [
          "machine_01",
          "machine_02",
          "machine_03",
          "machine_04",
          "machine_05",
          "machine_06",
          "machine_07",
          "machine_08",
          "machine_09",
          "machine_10"
         ],
         "yaxis": "y"
        },
        {
         "alignmentgroup": "True",
         "base": [
          "2022-01-01T00:07:50",
          "2022-01-01T00:02:25",
          "2022-01-01T00:15:26",
          "2022-01-01T00:06:14",
          "2022-01-01T00:04:34",
          "2022-01-01T00:17:26",
          "2022-01-01T00:19:05",
          "2022-01-01T00:01:35",
          "2022-01-01T00:11:15",
          "2022-01-01T00:20:02"
         ],
         "hovertemplate": "Job=job_07<br>Start=%{base}<br>Finish=%{x}<br>Machine=%{y}<extra></extra>",
         "legendgroup": "job_07",
         "marker": {
          "color": "#ab63fa",
          "pattern": {
           "shape": ""
          }
         },
         "name": "job_07",
         "offsetgroup": "job_07",
         "orientation": "h",
         "showlegend": true,
         "textposition": "auto",
         "type": "bar",
         "x": [
          94000,
          85000,
          65000,
          95000,
          96000,
          98000,
          51000,
          49000,
          96000,
          70000
         ],
         "xaxis": "x",
         "y": [
          "machine_01",
          "machine_02",
          "machine_03",
          "machine_04",
          "machine_05",
          "machine_06",
          "machine_07",
          "machine_08",
          "machine_09",
          "machine_10"
         ],
         "yaxis": "y"
        },
        {
         "alignmentgroup": "True",
         "base": [
          "2022-01-01T00:10:49",
          "2022-01-01T00:12:21",
          "2022-01-01T00:07:26",
          "2022-01-01T00:01:13",
          "2022-01-01T00:06:11",
          "2022-01-01T00:00:01",
          "2022-01-01T00:04:20",
          "2022-01-01T00:15:05",
          "2022-01-01T00:09:43",
          "2022-01-01T00:16:39"
         ],
         "hovertemplate": "Job=job_02<br>Start=%{base}<br>Finish=%{x}<br>Machine=%{y}<extra></extra>",
         "legendgroup": "job_02",
         "marker": {
          "color": "#FFA15A",
          "pattern": {
           "shape": ""
          }
         },
         "name": "job_02",
         "offsetgroup": "job_02",
         "orientation": "h",
         "showlegend": true,
         "textposition": "auto",
         "type": "bar",
         "x": [
          91000,
          81000,
          93000,
          49000,
          74000,
          71000,
          68000,
          93000,
          65000,
          62000
         ],
         "xaxis": "x",
         "y": [
          "machine_01",
          "machine_02",
          "machine_03",
          "machine_04",
          "machine_05",
          "machine_06",
          "machine_07",
          "machine_08",
          "machine_09",
          "machine_10"
         ],
         "yaxis": "y"
        },
        {
         "alignmentgroup": "True",
         "base": [
          "2022-01-01T00:14:27",
          "2022-01-01T00:23:47",
          "2022-01-01T00:18:08",
          "2022-01-01T00:02:25",
          "2022-01-01T00:07:26",
          "2022-01-01T00:21:32",
          "2022-01-01T00:19:57",
          "2022-01-01T00:22:40",
          "2022-01-01T00:12:52",
          "2022-01-01T00:09:53"
         ],
         "hovertemplate": "Job=job_05<br>Start=%{base}<br>Finish=%{x}<br>Machine=%{y}<extra></extra>",
         "legendgroup": "job_05",
         "marker": {
          "color": "#19d3f3",
          "pattern": {
           "shape": ""
          }
         },
         "name": "job_05",
         "offsetgroup": "job_05",
         "orientation": "h",
         "showlegend": true,
         "textposition": "auto",
         "type": "bar",
         "x": [
          98000,
          85000,
          66000,
          68000,
          87000,
          67000,
          94000,
          66000,
          94000,
          81000
         ],
         "xaxis": "x",
         "y": [
          "machine_01",
          "machine_02",
          "machine_03",
          "machine_04",
          "machine_05",
          "machine_06",
          "machine_07",
          "machine_08",
          "machine_09",
          "machine_10"
         ],
         "yaxis": "y"
        },
        {
         "alignmentgroup": "True",
         "base": [
          "2022-01-01T00:16:06",
          "2022-01-01T00:07:19",
          "2022-01-01T00:09:00",
          "2022-01-01T00:17:32",
          "2022-01-01T00:00:01",
          "2022-01-01T00:05:38",
          "2022-01-01T00:02:46",
          "2022-01-01T00:13:19",
          "2022-01-01T00:01:29",
          "2022-01-01T00:11:15"
         ],
         "hovertemplate": "Job=job_01<br>Start=%{base}<br>Finish=%{x}<br>Machine=%{y}<extra></extra>",
         "legendgroup": "job_01",
         "marker": {
          "color": "#FF6692",
          "pattern": {
           "shape": ""
          }
         },
         "name": "job_01",
         "offsetgroup": "job_01",
         "orientation": "h",
         "showlegend": true,
         "textposition": "auto",
         "type": "bar",
         "x": [
          85000,
          66000,
          88000,
          91000,
          87000,
          98000,
          93000,
          98000,
          67000,
          76000
         ],
         "xaxis": "x",
         "y": [
          "machine_01",
          "machine_02",
          "machine_03",
          "machine_04",
          "machine_05",
          "machine_06",
          "machine_07",
          "machine_08",
          "machine_09",
          "machine_10"
         ],
         "yaxis": "y"
        },
        {
         "alignmentgroup": "True",
         "base": [
          "2022-01-01T00:17:32",
          "2022-01-01T00:03:51",
          "2022-01-01T00:01:35",
          "2022-01-01T00:10:33",
          "2022-01-01T00:08:54",
          "2022-01-01T00:13:31",
          "2022-01-01T00:11:27",
          "2022-01-01T00:00:01",
          "2022-01-01T00:21:37",
          "2022-01-01T00:18:59"
         ],
         "hovertemplate": "Job=job_04<br>Start=%{base}<br>Finish=%{x}<br>Machine=%{y}<extra></extra>",
         "legendgroup": "job_04",
         "marker": {
          "color": "#B6E880",
          "pattern": {
           "shape": ""
          }
         },
         "name": "job_04",
         "offsetgroup": "job_04",
         "orientation": "h",
         "showlegend": true,
         "textposition": "auto",
         "type": "bar",
         "x": [
          75000,
          60000,
          67000,
          53000,
          98000,
          65000,
          74000,
          93000,
          66000,
          62000
         ],
         "xaxis": "x",
         "y": [
          "machine_01",
          "machine_02",
          "machine_03",
          "machine_04",
          "machine_05",
          "machine_06",
          "machine_07",
          "machine_08",
          "machine_09",
          "machine_10"
         ],
         "yaxis": "y"
        },
        {
         "alignmentgroup": "True",
         "base": [
          "2022-01-01T00:18:48",
          "2022-01-01T00:13:43",
          "2022-01-01T00:11:49",
          "2022-01-01T00:07:50",
          "2022-01-01T00:01:35",
          "2022-01-01T00:14:54",
          "2022-01-01T00:05:29",
          "2022-01-01T00:16:39",
          "2022-01-01T00:20:02",
          "2022-01-01T00:22:55"
         ],
         "hovertemplate": "Job=job_08<br>Start=%{base}<br>Finish=%{x}<br>Machine=%{y}<extra></extra>",
         "legendgroup": "job_08",
         "marker": {
          "color": "#FF97FF",
          "pattern": {
           "shape": ""
          }
         },
         "name": "job_08",
         "offsetgroup": "job_08",
         "orientation": "h",
         "showlegend": true,
         "textposition": "auto",
         "type": "bar",
         "x": [
          61000,
          70000,
          50000,
          81000,
          97000,
          93000,
          72000,
          84000,
          94000,
          78000
         ],
         "xaxis": "x",
         "y": [
          "machine_01",
          "machine_02",
          "machine_03",
          "machine_04",
          "machine_05",
          "machine_06",
          "machine_07",
          "machine_08",
          "machine_09",
          "machine_10"
         ],
         "yaxis": "y"
        },
        {
         "alignmentgroup": "True",
         "base": [
          "2022-01-01T00:19:50",
          "2022-01-01T00:00:01",
          "2022-01-01T00:10:29",
          "2022-01-01T00:14:27",
          "2022-01-01T00:03:13",
          "2022-01-01T00:04:34",
          "2022-01-01T00:07:17",
          "2022-01-01T00:12:10",
          "2022-01-01T00:08:23",
          "2022-01-01T00:13:19"
         ],
         "hovertemplate": "Job=job_06<br>Start=%{base}<br>Finish=%{x}<br>Machine=%{y}<extra></extra>",
         "legendgroup": "job_06",
         "marker": {
          "color": "#FECB52",
          "pattern": {
           "shape": ""
          }
         },
         "name": "job_06",
         "offsetgroup": "job_06",
         "orientation": "h",
         "showlegend": true,
         "textposition": "auto",
         "type": "bar",
         "x": [
          87000,
          98000,
          79000,
          78000,
          80000,
          63000,
          65000,
          68000,
          79000,
          61000
         ],
         "xaxis": "x",
         "y": [
          "machine_01",
          "machine_02",
          "machine_03",
          "machine_04",
          "machine_05",
          "machine_06",
          "machine_07",
          "machine_08",
          "machine_09",
          "machine_10"
         ],
         "yaxis": "y"
        }
       ],
       "layout": {
        "barmode": "overlay",
        "legend": {
         "title": {
          "text": "Job"
         },
         "tracegroupgap": 0
        },
        "margin": {
         "t": 60
        },
        "template": {
         "data": {
          "bar": [
           {
            "error_x": {
             "color": "#2a3f5f"
            },
            "error_y": {
             "color": "#2a3f5f"
            },
            "marker": {
             "line": {
              "color": "#E5ECF6",
              "width": 0.5
             },
             "pattern": {
              "fillmode": "overlay",
              "size": 10,
              "solidity": 0.2
             }
            },
            "type": "bar"
           }
          ],
          "barpolar": [
           {
            "marker": {
             "line": {
              "color": "#E5ECF6",
              "width": 0.5
             },
             "pattern": {
              "fillmode": "overlay",
              "size": 10,
              "solidity": 0.2
             }
            },
            "type": "barpolar"
           }
          ],
          "carpet": [
           {
            "aaxis": {
             "endlinecolor": "#2a3f5f",
             "gridcolor": "white",
             "linecolor": "white",
             "minorgridcolor": "white",
             "startlinecolor": "#2a3f5f"
            },
            "baxis": {
             "endlinecolor": "#2a3f5f",
             "gridcolor": "white",
             "linecolor": "white",
             "minorgridcolor": "white",
             "startlinecolor": "#2a3f5f"
            },
            "type": "carpet"
           }
          ],
          "choropleth": [
           {
            "colorbar": {
             "outlinewidth": 0,
             "ticks": ""
            },
            "type": "choropleth"
           }
          ],
          "contour": [
           {
            "colorbar": {
             "outlinewidth": 0,
             "ticks": ""
            },
            "colorscale": [
             [
              0,
              "#0d0887"
             ],
             [
              0.1111111111111111,
              "#46039f"
             ],
             [
              0.2222222222222222,
              "#7201a8"
             ],
             [
              0.3333333333333333,
              "#9c179e"
             ],
             [
              0.4444444444444444,
              "#bd3786"
             ],
             [
              0.5555555555555556,
              "#d8576b"
             ],
             [
              0.6666666666666666,
              "#ed7953"
             ],
             [
              0.7777777777777778,
              "#fb9f3a"
             ],
             [
              0.8888888888888888,
              "#fdca26"
             ],
             [
              1,
              "#f0f921"
             ]
            ],
            "type": "contour"
           }
          ],
          "contourcarpet": [
           {
            "colorbar": {
             "outlinewidth": 0,
             "ticks": ""
            },
            "type": "contourcarpet"
           }
          ],
          "heatmap": [
           {
            "colorbar": {
             "outlinewidth": 0,
             "ticks": ""
            },
            "colorscale": [
             [
              0,
              "#0d0887"
             ],
             [
              0.1111111111111111,
              "#46039f"
             ],
             [
              0.2222222222222222,
              "#7201a8"
             ],
             [
              0.3333333333333333,
              "#9c179e"
             ],
             [
              0.4444444444444444,
              "#bd3786"
             ],
             [
              0.5555555555555556,
              "#d8576b"
             ],
             [
              0.6666666666666666,
              "#ed7953"
             ],
             [
              0.7777777777777778,
              "#fb9f3a"
             ],
             [
              0.8888888888888888,
              "#fdca26"
             ],
             [
              1,
              "#f0f921"
             ]
            ],
            "type": "heatmap"
           }
          ],
          "heatmapgl": [
           {
            "colorbar": {
             "outlinewidth": 0,
             "ticks": ""
            },
            "colorscale": [
             [
              0,
              "#0d0887"
             ],
             [
              0.1111111111111111,
              "#46039f"
             ],
             [
              0.2222222222222222,
              "#7201a8"
             ],
             [
              0.3333333333333333,
              "#9c179e"
             ],
             [
              0.4444444444444444,
              "#bd3786"
             ],
             [
              0.5555555555555556,
              "#d8576b"
             ],
             [
              0.6666666666666666,
              "#ed7953"
             ],
             [
              0.7777777777777778,
              "#fb9f3a"
             ],
             [
              0.8888888888888888,
              "#fdca26"
             ],
             [
              1,
              "#f0f921"
             ]
            ],
            "type": "heatmapgl"
           }
          ],
          "histogram": [
           {
            "marker": {
             "pattern": {
              "fillmode": "overlay",
              "size": 10,
              "solidity": 0.2
             }
            },
            "type": "histogram"
           }
          ],
          "histogram2d": [
           {
            "colorbar": {
             "outlinewidth": 0,
             "ticks": ""
            },
            "colorscale": [
             [
              0,
              "#0d0887"
             ],
             [
              0.1111111111111111,
              "#46039f"
             ],
             [
              0.2222222222222222,
              "#7201a8"
             ],
             [
              0.3333333333333333,
              "#9c179e"
             ],
             [
              0.4444444444444444,
              "#bd3786"
             ],
             [
              0.5555555555555556,
              "#d8576b"
             ],
             [
              0.6666666666666666,
              "#ed7953"
             ],
             [
              0.7777777777777778,
              "#fb9f3a"
             ],
             [
              0.8888888888888888,
              "#fdca26"
             ],
             [
              1,
              "#f0f921"
             ]
            ],
            "type": "histogram2d"
           }
          ],
          "histogram2dcontour": [
           {
            "colorbar": {
             "outlinewidth": 0,
             "ticks": ""
            },
            "colorscale": [
             [
              0,
              "#0d0887"
             ],
             [
              0.1111111111111111,
              "#46039f"
             ],
             [
              0.2222222222222222,
              "#7201a8"
             ],
             [
              0.3333333333333333,
              "#9c179e"
             ],
             [
              0.4444444444444444,
              "#bd3786"
             ],
             [
              0.5555555555555556,
              "#d8576b"
             ],
             [
              0.6666666666666666,
              "#ed7953"
             ],
             [
              0.7777777777777778,
              "#fb9f3a"
             ],
             [
              0.8888888888888888,
              "#fdca26"
             ],
             [
              1,
              "#f0f921"
             ]
            ],
            "type": "histogram2dcontour"
           }
          ],
          "mesh3d": [
           {
            "colorbar": {
             "outlinewidth": 0,
             "ticks": ""
            },
            "type": "mesh3d"
           }
          ],
          "parcoords": [
           {
            "line": {
             "colorbar": {
              "outlinewidth": 0,
              "ticks": ""
             }
            },
            "type": "parcoords"
           }
          ],
          "pie": [
           {
            "automargin": true,
            "type": "pie"
           }
          ],
          "scatter": [
           {
            "fillpattern": {
             "fillmode": "overlay",
             "size": 10,
             "solidity": 0.2
            },
            "type": "scatter"
           }
          ],
          "scatter3d": [
           {
            "line": {
             "colorbar": {
              "outlinewidth": 0,
              "ticks": ""
             }
            },
            "marker": {
             "colorbar": {
              "outlinewidth": 0,
              "ticks": ""
             }
            },
            "type": "scatter3d"
           }
          ],
          "scattercarpet": [
           {
            "marker": {
             "colorbar": {
              "outlinewidth": 0,
              "ticks": ""
             }
            },
            "type": "scattercarpet"
           }
          ],
          "scattergeo": [
           {
            "marker": {
             "colorbar": {
              "outlinewidth": 0,
              "ticks": ""
             }
            },
            "type": "scattergeo"
           }
          ],
          "scattergl": [
           {
            "marker": {
             "colorbar": {
              "outlinewidth": 0,
              "ticks": ""
             }
            },
            "type": "scattergl"
           }
          ],
          "scattermapbox": [
           {
            "marker": {
             "colorbar": {
              "outlinewidth": 0,
              "ticks": ""
             }
            },
            "type": "scattermapbox"
           }
          ],
          "scatterpolar": [
           {
            "marker": {
             "colorbar": {
              "outlinewidth": 0,
              "ticks": ""
             }
            },
            "type": "scatterpolar"
           }
          ],
          "scatterpolargl": [
           {
            "marker": {
             "colorbar": {
              "outlinewidth": 0,
              "ticks": ""
             }
            },
            "type": "scatterpolargl"
           }
          ],
          "scatterternary": [
           {
            "marker": {
             "colorbar": {
              "outlinewidth": 0,
              "ticks": ""
             }
            },
            "type": "scatterternary"
           }
          ],
          "surface": [
           {
            "colorbar": {
             "outlinewidth": 0,
             "ticks": ""
            },
            "colorscale": [
             [
              0,
              "#0d0887"
             ],
             [
              0.1111111111111111,
              "#46039f"
             ],
             [
              0.2222222222222222,
              "#7201a8"
             ],
             [
              0.3333333333333333,
              "#9c179e"
             ],
             [
              0.4444444444444444,
              "#bd3786"
             ],
             [
              0.5555555555555556,
              "#d8576b"
             ],
             [
              0.6666666666666666,
              "#ed7953"
             ],
             [
              0.7777777777777778,
              "#fb9f3a"
             ],
             [
              0.8888888888888888,
              "#fdca26"
             ],
             [
              1,
              "#f0f921"
             ]
            ],
            "type": "surface"
           }
          ],
          "table": [
           {
            "cells": {
             "fill": {
              "color": "#EBF0F8"
             },
             "line": {
              "color": "white"
             }
            },
            "header": {
             "fill": {
              "color": "#C8D4E3"
             },
             "line": {
              "color": "white"
             }
            },
            "type": "table"
           }
          ]
         },
         "layout": {
          "annotationdefaults": {
           "arrowcolor": "#2a3f5f",
           "arrowhead": 0,
           "arrowwidth": 1
          },
          "autotypenumbers": "strict",
          "coloraxis": {
           "colorbar": {
            "outlinewidth": 0,
            "ticks": ""
           }
          },
          "colorscale": {
           "diverging": [
            [
             0,
             "#8e0152"
            ],
            [
             0.1,
             "#c51b7d"
            ],
            [
             0.2,
             "#de77ae"
            ],
            [
             0.3,
             "#f1b6da"
            ],
            [
             0.4,
             "#fde0ef"
            ],
            [
             0.5,
             "#f7f7f7"
            ],
            [
             0.6,
             "#e6f5d0"
            ],
            [
             0.7,
             "#b8e186"
            ],
            [
             0.8,
             "#7fbc41"
            ],
            [
             0.9,
             "#4d9221"
            ],
            [
             1,
             "#276419"
            ]
           ],
           "sequential": [
            [
             0,
             "#0d0887"
            ],
            [
             0.1111111111111111,
             "#46039f"
            ],
            [
             0.2222222222222222,
             "#7201a8"
            ],
            [
             0.3333333333333333,
             "#9c179e"
            ],
            [
             0.4444444444444444,
             "#bd3786"
            ],
            [
             0.5555555555555556,
             "#d8576b"
            ],
            [
             0.6666666666666666,
             "#ed7953"
            ],
            [
             0.7777777777777778,
             "#fb9f3a"
            ],
            [
             0.8888888888888888,
             "#fdca26"
            ],
            [
             1,
             "#f0f921"
            ]
           ],
           "sequentialminus": [
            [
             0,
             "#0d0887"
            ],
            [
             0.1111111111111111,
             "#46039f"
            ],
            [
             0.2222222222222222,
             "#7201a8"
            ],
            [
             0.3333333333333333,
             "#9c179e"
            ],
            [
             0.4444444444444444,
             "#bd3786"
            ],
            [
             0.5555555555555556,
             "#d8576b"
            ],
            [
             0.6666666666666666,
             "#ed7953"
            ],
            [
             0.7777777777777778,
             "#fb9f3a"
            ],
            [
             0.8888888888888888,
             "#fdca26"
            ],
            [
             1,
             "#f0f921"
            ]
           ]
          },
          "colorway": [
           "#636efa",
           "#EF553B",
           "#00cc96",
           "#ab63fa",
           "#FFA15A",
           "#19d3f3",
           "#FF6692",
           "#B6E880",
           "#FF97FF",
           "#FECB52"
          ],
          "font": {
           "color": "#2a3f5f"
          },
          "geo": {
           "bgcolor": "white",
           "lakecolor": "white",
           "landcolor": "#E5ECF6",
           "showlakes": true,
           "showland": true,
           "subunitcolor": "white"
          },
          "hoverlabel": {
           "align": "left"
          },
          "hovermode": "closest",
          "mapbox": {
           "style": "light"
          },
          "paper_bgcolor": "white",
          "plot_bgcolor": "#E5ECF6",
          "polar": {
           "angularaxis": {
            "gridcolor": "white",
            "linecolor": "white",
            "ticks": ""
           },
           "bgcolor": "#E5ECF6",
           "radialaxis": {
            "gridcolor": "white",
            "linecolor": "white",
            "ticks": ""
           }
          },
          "scene": {
           "xaxis": {
            "backgroundcolor": "#E5ECF6",
            "gridcolor": "white",
            "gridwidth": 2,
            "linecolor": "white",
            "showbackground": true,
            "ticks": "",
            "zerolinecolor": "white"
           },
           "yaxis": {
            "backgroundcolor": "#E5ECF6",
            "gridcolor": "white",
            "gridwidth": 2,
            "linecolor": "white",
            "showbackground": true,
            "ticks": "",
            "zerolinecolor": "white"
           },
           "zaxis": {
            "backgroundcolor": "#E5ECF6",
            "gridcolor": "white",
            "gridwidth": 2,
            "linecolor": "white",
            "showbackground": true,
            "ticks": "",
            "zerolinecolor": "white"
           }
          },
          "shapedefaults": {
           "line": {
            "color": "#2a3f5f"
           }
          },
          "ternary": {
           "aaxis": {
            "gridcolor": "white",
            "linecolor": "white",
            "ticks": ""
           },
           "baxis": {
            "gridcolor": "white",
            "linecolor": "white",
            "ticks": ""
           },
           "bgcolor": "#E5ECF6",
           "caxis": {
            "gridcolor": "white",
            "linecolor": "white",
            "ticks": ""
           }
          },
          "title": {
           "x": 0.05
          },
          "xaxis": {
           "automargin": true,
           "gridcolor": "white",
           "linecolor": "white",
           "ticks": "",
           "title": {
            "standoff": 15
           },
           "zerolinecolor": "white",
           "zerolinewidth": 2
          },
          "yaxis": {
           "automargin": true,
           "gridcolor": "white",
           "linecolor": "white",
           "ticks": "",
           "title": {
            "standoff": 15
           },
           "zerolinecolor": "white",
           "zerolinewidth": 2
          }
         }
        },
        "xaxis": {
         "anchor": "y",
         "domain": [
          0,
          1
         ],
         "type": "date"
        },
        "yaxis": {
         "anchor": "x",
         "domain": [
          0,
          1
         ],
         "title": {
          "text": "Machine"
         }
        }
       }
      }
     },
     "metadata": {},
     "output_type": "display_data"
    },
    {
     "name": "stdout",
     "output_type": "stream",
     "text": [
      "finished! no legal actions possible after 129 steps\n"
     ]
    },
    {
     "ename": "KeyboardInterrupt",
     "evalue": "",
     "output_type": "error",
     "traceback": [
      "\u001b[0;31m---------------------------------------------------------------------------\u001b[0m",
      "\u001b[0;31mKeyboardInterrupt\u001b[0m                         Traceback (most recent call last)",
      "\u001b[1;32m/Users/felix/sciebo/masterarbeit/progra/model-based_rl/test_environments.ipynb Zelle 4\u001b[0m in \u001b[0;36m<cell line: 7>\u001b[0;34m()\u001b[0m\n\u001b[1;32m     <a href='vscode-notebook-cell:/Users/felix/sciebo/masterarbeit/progra/model-based_rl/test_environments.ipynb#W3sZmlsZQ%3D%3D?line=31'>32</a>\u001b[0m         \u001b[39mprint\u001b[39m(\u001b[39mf\u001b[39m\u001b[39m\"\u001b[39m\u001b[39mfinished! no legal actions possible after \u001b[39m\u001b[39m{\u001b[39;00mi\u001b[39m+\u001b[39m\u001b[39m1\u001b[39m\u001b[39m}\u001b[39;00m\u001b[39m steps\u001b[39m\u001b[39m\"\u001b[39m)\n\u001b[1;32m     <a href='vscode-notebook-cell:/Users/felix/sciebo/masterarbeit/progra/model-based_rl/test_environments.ipynb#W3sZmlsZQ%3D%3D?line=32'>33</a>\u001b[0m         \u001b[39mbreak\u001b[39;00m\n\u001b[0;32m---> <a href='vscode-notebook-cell:/Users/felix/sciebo/masterarbeit/progra/model-based_rl/test_environments.ipynb#W3sZmlsZQ%3D%3D?line=33'>34</a>\u001b[0m env\u001b[39m.\u001b[39;49mrender(start_count\u001b[39m=\u001b[39;49m\u001b[39m1\u001b[39;49m,x_bar\u001b[39m=\u001b[39;49m\u001b[39m\"\u001b[39;49m\u001b[39mJob\u001b[39;49m\u001b[39m\"\u001b[39;49m,y_bar\u001b[39m=\u001b[39;49m\u001b[39m\"\u001b[39;49m\u001b[39mMachine\u001b[39;49m\u001b[39m\"\u001b[39;49m)\n",
      "File \u001b[0;32m~/sciebo/masterarbeit/progra/model-based_rl/src/jss_lite/jss_lite.py:284\u001b[0m, in \u001b[0;36mjss_lite.render\u001b[0;34m(self, x_bar, y_bar, start_count)\u001b[0m\n\u001b[1;32m    282\u001b[0m         \u001b[39mif\u001b[39;00m \u001b[39mself\u001b[39m\u001b[39m.\u001b[39mproduction_list[i,j] \u001b[39mis\u001b[39;00m \u001b[39mnot\u001b[39;00m \u001b[39mNone\u001b[39;00m:\n\u001b[1;32m    283\u001b[0m             liste\u001b[39m.\u001b[39mappend(production_to_dict(\u001b[39mself\u001b[39m\u001b[39m.\u001b[39mproduction_list[i,j],i,j))\n\u001b[0;32m--> 284\u001b[0m df_render\u001b[39m=\u001b[39mpd\u001b[39m.\u001b[39;49mDataFrame(liste)\n\u001b[1;32m    285\u001b[0m df_render\u001b[39m.\u001b[39msort_values(by\u001b[39m=\u001b[39my_bar,inplace\u001b[39m=\u001b[39m\u001b[39mTrue\u001b[39;00m)\n\u001b[1;32m    286\u001b[0m \u001b[39m#fig = px.timeline(df_render, x_start=\"Start\", x_end=\"Finish\", y=\"Task\", color=\"Resource\")\u001b[39;00m\n",
      "File \u001b[0;32m~/miniconda3/envs/customjssp/lib/python3.10/site-packages/pandas/core/frame.py:721\u001b[0m, in \u001b[0;36mDataFrame.__init__\u001b[0;34m(self, data, index, columns, dtype, copy)\u001b[0m\n\u001b[1;32m    716\u001b[0m     \u001b[39mif\u001b[39;00m columns \u001b[39mis\u001b[39;00m \u001b[39mnot\u001b[39;00m \u001b[39mNone\u001b[39;00m:\n\u001b[1;32m    717\u001b[0m         \u001b[39m# error: Argument 1 to \"ensure_index\" has incompatible type\u001b[39;00m\n\u001b[1;32m    718\u001b[0m         \u001b[39m# \"Collection[Any]\"; expected \"Union[Union[Union[ExtensionArray,\u001b[39;00m\n\u001b[1;32m    719\u001b[0m         \u001b[39m# ndarray], Index, Series], Sequence[Any]]\"\u001b[39;00m\n\u001b[1;32m    720\u001b[0m         columns \u001b[39m=\u001b[39m ensure_index(columns)  \u001b[39m# type: ignore[arg-type]\u001b[39;00m\n\u001b[0;32m--> 721\u001b[0m     arrays, columns, index \u001b[39m=\u001b[39m nested_data_to_arrays(\n\u001b[1;32m    722\u001b[0m         \u001b[39m# error: Argument 3 to \"nested_data_to_arrays\" has incompatible\u001b[39;49;00m\n\u001b[1;32m    723\u001b[0m         \u001b[39m# type \"Optional[Collection[Any]]\"; expected \"Optional[Index]\"\u001b[39;49;00m\n\u001b[1;32m    724\u001b[0m         data,\n\u001b[1;32m    725\u001b[0m         columns,\n\u001b[1;32m    726\u001b[0m         index,  \u001b[39m# type: ignore[arg-type]\u001b[39;49;00m\n\u001b[1;32m    727\u001b[0m         dtype,\n\u001b[1;32m    728\u001b[0m     )\n\u001b[1;32m    729\u001b[0m     mgr \u001b[39m=\u001b[39m arrays_to_mgr(\n\u001b[1;32m    730\u001b[0m         arrays,\n\u001b[1;32m    731\u001b[0m         columns,\n\u001b[0;32m   (...)\u001b[0m\n\u001b[1;32m    734\u001b[0m         typ\u001b[39m=\u001b[39mmanager,\n\u001b[1;32m    735\u001b[0m     )\n\u001b[1;32m    736\u001b[0m \u001b[39melse\u001b[39;00m:\n",
      "File \u001b[0;32m~/miniconda3/envs/customjssp/lib/python3.10/site-packages/pandas/core/internals/construction.py:519\u001b[0m, in \u001b[0;36mnested_data_to_arrays\u001b[0;34m(data, columns, index, dtype)\u001b[0m\n\u001b[1;32m    516\u001b[0m \u001b[39mif\u001b[39;00m is_named_tuple(data[\u001b[39m0\u001b[39m]) \u001b[39mand\u001b[39;00m columns \u001b[39mis\u001b[39;00m \u001b[39mNone\u001b[39;00m:\n\u001b[1;32m    517\u001b[0m     columns \u001b[39m=\u001b[39m ensure_index(data[\u001b[39m0\u001b[39m]\u001b[39m.\u001b[39m_fields)\n\u001b[0;32m--> 519\u001b[0m arrays, columns \u001b[39m=\u001b[39m to_arrays(data, columns, dtype\u001b[39m=\u001b[39;49mdtype)\n\u001b[1;32m    520\u001b[0m columns \u001b[39m=\u001b[39m ensure_index(columns)\n\u001b[1;32m    522\u001b[0m \u001b[39mif\u001b[39;00m index \u001b[39mis\u001b[39;00m \u001b[39mNone\u001b[39;00m:\n",
      "File \u001b[0;32m~/miniconda3/envs/customjssp/lib/python3.10/site-packages/pandas/core/internals/construction.py:883\u001b[0m, in \u001b[0;36mto_arrays\u001b[0;34m(data, columns, dtype)\u001b[0m\n\u001b[1;32m    880\u001b[0m     data \u001b[39m=\u001b[39m [\u001b[39mtuple\u001b[39m(x) \u001b[39mfor\u001b[39;00m x \u001b[39min\u001b[39;00m data]\n\u001b[1;32m    881\u001b[0m     arr \u001b[39m=\u001b[39m _list_to_arrays(data)\n\u001b[0;32m--> 883\u001b[0m content, columns \u001b[39m=\u001b[39m _finalize_columns_and_data(arr, columns, dtype)\n\u001b[1;32m    884\u001b[0m \u001b[39mreturn\u001b[39;00m content, columns\n",
      "File \u001b[0;32m~/miniconda3/envs/customjssp/lib/python3.10/site-packages/pandas/core/internals/construction.py:988\u001b[0m, in \u001b[0;36m_finalize_columns_and_data\u001b[0;34m(content, columns, dtype)\u001b[0m\n\u001b[1;32m    985\u001b[0m     \u001b[39mraise\u001b[39;00m \u001b[39mValueError\u001b[39;00m(err) \u001b[39mfrom\u001b[39;00m \u001b[39merr\u001b[39;00m\n\u001b[1;32m    987\u001b[0m \u001b[39mif\u001b[39;00m \u001b[39mlen\u001b[39m(contents) \u001b[39mand\u001b[39;00m contents[\u001b[39m0\u001b[39m]\u001b[39m.\u001b[39mdtype \u001b[39m==\u001b[39m np\u001b[39m.\u001b[39mobject_:\n\u001b[0;32m--> 988\u001b[0m     contents \u001b[39m=\u001b[39m _convert_object_array(contents, dtype\u001b[39m=\u001b[39;49mdtype)\n\u001b[1;32m    990\u001b[0m \u001b[39mreturn\u001b[39;00m contents, columns\n",
      "File \u001b[0;32m~/miniconda3/envs/customjssp/lib/python3.10/site-packages/pandas/core/internals/construction.py:1073\u001b[0m, in \u001b[0;36m_convert_object_array\u001b[0;34m(content, dtype)\u001b[0m\n\u001b[1;32m   1070\u001b[0m         arr \u001b[39m=\u001b[39m maybe_cast_to_datetime(arr, dtype)\n\u001b[1;32m   1071\u001b[0m     \u001b[39mreturn\u001b[39;00m arr\n\u001b[0;32m-> 1073\u001b[0m arrays \u001b[39m=\u001b[39m [convert(arr) \u001b[39mfor\u001b[39;00m arr \u001b[39min\u001b[39;00m content]\n\u001b[1;32m   1075\u001b[0m \u001b[39mreturn\u001b[39;00m arrays\n",
      "File \u001b[0;32m~/miniconda3/envs/customjssp/lib/python3.10/site-packages/pandas/core/internals/construction.py:1073\u001b[0m, in \u001b[0;36m<listcomp>\u001b[0;34m(.0)\u001b[0m\n\u001b[1;32m   1070\u001b[0m         arr \u001b[39m=\u001b[39m maybe_cast_to_datetime(arr, dtype)\n\u001b[1;32m   1071\u001b[0m     \u001b[39mreturn\u001b[39;00m arr\n\u001b[0;32m-> 1073\u001b[0m arrays \u001b[39m=\u001b[39m [convert(arr) \u001b[39mfor\u001b[39;00m arr \u001b[39min\u001b[39;00m content]\n\u001b[1;32m   1075\u001b[0m \u001b[39mreturn\u001b[39;00m arrays\n",
      "File \u001b[0;32m~/miniconda3/envs/customjssp/lib/python3.10/site-packages/pandas/core/internals/construction.py:1070\u001b[0m, in \u001b[0;36m_convert_object_array.<locals>.convert\u001b[0;34m(arr)\u001b[0m\n\u001b[1;32m   1068\u001b[0m \u001b[39mif\u001b[39;00m dtype \u001b[39m!=\u001b[39m np\u001b[39m.\u001b[39mdtype(\u001b[39m\"\u001b[39m\u001b[39mO\u001b[39m\u001b[39m\"\u001b[39m):\n\u001b[1;32m   1069\u001b[0m     arr \u001b[39m=\u001b[39m lib\u001b[39m.\u001b[39mmaybe_convert_objects(arr)\n\u001b[0;32m-> 1070\u001b[0m     arr \u001b[39m=\u001b[39m maybe_cast_to_datetime(arr, dtype)\n\u001b[1;32m   1071\u001b[0m \u001b[39mreturn\u001b[39;00m arr\n",
      "File \u001b[0;32m~/miniconda3/envs/customjssp/lib/python3.10/site-packages/pandas/core/dtypes/cast.py:1699\u001b[0m, in \u001b[0;36mmaybe_cast_to_datetime\u001b[0;34m(value, dtype)\u001b[0m\n\u001b[1;32m   1696\u001b[0m         value \u001b[39m=\u001b[39m sanitize_to_nanoseconds(value)\n\u001b[1;32m   1698\u001b[0m     \u001b[39melif\u001b[39;00m value\u001b[39m.\u001b[39mdtype \u001b[39m==\u001b[39m _dtype_obj:\n\u001b[0;32m-> 1699\u001b[0m         value \u001b[39m=\u001b[39m maybe_infer_to_datetimelike(value)\n\u001b[1;32m   1701\u001b[0m \u001b[39melif\u001b[39;00m \u001b[39misinstance\u001b[39m(value, \u001b[39mlist\u001b[39m):\n\u001b[1;32m   1702\u001b[0m     \u001b[39m# we only get here with dtype=None, which we do not allow\u001b[39;00m\n\u001b[1;32m   1703\u001b[0m     \u001b[39mraise\u001b[39;00m \u001b[39mValueError\u001b[39;00m(\n\u001b[1;32m   1704\u001b[0m         \u001b[39m\"\u001b[39m\u001b[39mmaybe_cast_to_datetime allows a list *only* if dtype is not None\u001b[39m\u001b[39m\"\u001b[39m\n\u001b[1;32m   1705\u001b[0m     )\n",
      "File \u001b[0;32m~/miniconda3/envs/customjssp/lib/python3.10/site-packages/pandas/core/dtypes/cast.py:1543\u001b[0m, in \u001b[0;36mmaybe_infer_to_datetimelike\u001b[0;34m(value)\u001b[0m\n\u001b[1;32m   1536\u001b[0m     \u001b[39mreturn\u001b[39;00m lib\u001b[39m.\u001b[39mmaybe_convert_objects(  \u001b[39m# type: ignore[return-value]\u001b[39;00m\n\u001b[1;32m   1537\u001b[0m         v, convert_period\u001b[39m=\u001b[39m\u001b[39mTrue\u001b[39;00m, convert_interval\u001b[39m=\u001b[39m\u001b[39mTrue\u001b[39;00m\n\u001b[1;32m   1538\u001b[0m     )\n\u001b[1;32m   1540\u001b[0m \u001b[39mif\u001b[39;00m inferred_type \u001b[39m==\u001b[39m \u001b[39m\"\u001b[39m\u001b[39mdatetime\u001b[39m\u001b[39m\"\u001b[39m:\n\u001b[1;32m   1541\u001b[0m     \u001b[39m# error: Incompatible types in assignment (expression has type \"ExtensionArray\",\u001b[39;00m\n\u001b[1;32m   1542\u001b[0m     \u001b[39m# variable has type \"Union[ndarray, List[Any]]\")\u001b[39;00m\n\u001b[0;32m-> 1543\u001b[0m     value \u001b[39m=\u001b[39m try_datetime(v)  \u001b[39m# type: ignore[assignment]\u001b[39;00m\n\u001b[1;32m   1544\u001b[0m \u001b[39melif\u001b[39;00m inferred_type \u001b[39m==\u001b[39m \u001b[39m\"\u001b[39m\u001b[39mtimedelta\u001b[39m\u001b[39m\"\u001b[39m:\n\u001b[1;32m   1545\u001b[0m     value \u001b[39m=\u001b[39m try_timedelta(v)\n",
      "File \u001b[0;32m~/miniconda3/envs/customjssp/lib/python3.10/site-packages/pandas/core/dtypes/cast.py:1507\u001b[0m, in \u001b[0;36mmaybe_infer_to_datetimelike.<locals>.try_datetime\u001b[0;34m(v)\u001b[0m\n\u001b[1;32m   1502\u001b[0m \u001b[39mfrom\u001b[39;00m \u001b[39mpandas\u001b[39;00m\u001b[39m.\u001b[39;00m\u001b[39mcore\u001b[39;00m\u001b[39m.\u001b[39;00m\u001b[39marrays\u001b[39;00m\u001b[39m.\u001b[39;00m\u001b[39mdatetimes\u001b[39;00m \u001b[39mimport\u001b[39;00m sequence_to_datetimes\n\u001b[1;32m   1504\u001b[0m \u001b[39mtry\u001b[39;00m:\n\u001b[1;32m   1505\u001b[0m     \u001b[39m# GH#19671 we pass require_iso8601 to be relatively strict\u001b[39;00m\n\u001b[1;32m   1506\u001b[0m     \u001b[39m#  when parsing strings.\u001b[39;00m\n\u001b[0;32m-> 1507\u001b[0m     dta \u001b[39m=\u001b[39m sequence_to_datetimes(v, require_iso8601\u001b[39m=\u001b[39;49m\u001b[39mTrue\u001b[39;49;00m)\n\u001b[1;32m   1508\u001b[0m \u001b[39mexcept\u001b[39;00m (\u001b[39mValueError\u001b[39;00m, \u001b[39mTypeError\u001b[39;00m):\n\u001b[1;32m   1509\u001b[0m     \u001b[39m# e.g. <class 'numpy.timedelta64'> is not convertible to datetime\u001b[39;00m\n\u001b[1;32m   1510\u001b[0m     \u001b[39mreturn\u001b[39;00m v\u001b[39m.\u001b[39mreshape(shape)\n",
      "File \u001b[0;32m~/miniconda3/envs/customjssp/lib/python3.10/site-packages/pandas/core/arrays/datetimes.py:1979\u001b[0m, in \u001b[0;36msequence_to_datetimes\u001b[0;34m(data, require_iso8601)\u001b[0m\n\u001b[1;32m   1970\u001b[0m         \u001b[39mreturn\u001b[39;00m tda\u001b[39m.\u001b[39mstd(\n\u001b[1;32m   1971\u001b[0m             axis\u001b[39m=\u001b[39maxis, dtype\u001b[39m=\u001b[39mdtype, out\u001b[39m=\u001b[39mout, ddof\u001b[39m=\u001b[39mddof, keepdims\u001b[39m=\u001b[39mkeepdims, skipna\u001b[39m=\u001b[39mskipna\n\u001b[1;32m   1972\u001b[0m         )\n\u001b[1;32m   1975\u001b[0m \u001b[39m# -------------------------------------------------------------------\u001b[39;00m\n\u001b[1;32m   1976\u001b[0m \u001b[39m# Constructor Helpers\u001b[39;00m\n\u001b[0;32m-> 1979\u001b[0m \u001b[39mdef\u001b[39;00m \u001b[39msequence_to_datetimes\u001b[39m(data, require_iso8601: \u001b[39mbool\u001b[39m \u001b[39m=\u001b[39m \u001b[39mFalse\u001b[39;00m) \u001b[39m-\u001b[39m\u001b[39m>\u001b[39m DatetimeArray:\n\u001b[1;32m   1980\u001b[0m     \u001b[39m\"\"\"\u001b[39;00m\n\u001b[1;32m   1981\u001b[0m \u001b[39m    Parse/convert the passed data to either DatetimeArray or np.ndarray[object].\u001b[39;00m\n\u001b[1;32m   1982\u001b[0m \u001b[39m    \"\"\"\u001b[39;00m\n\u001b[1;32m   1983\u001b[0m     result, tz, freq \u001b[39m=\u001b[39m _sequence_to_dt64ns(\n\u001b[1;32m   1984\u001b[0m         data,\n\u001b[1;32m   1985\u001b[0m         allow_mixed\u001b[39m=\u001b[39m\u001b[39mTrue\u001b[39;00m,\n\u001b[1;32m   1986\u001b[0m         require_iso8601\u001b[39m=\u001b[39mrequire_iso8601,\n\u001b[1;32m   1987\u001b[0m     )\n",
      "\u001b[0;31mKeyboardInterrupt\u001b[0m: "
     ]
    }
   ],
   "source": [
    "import numpy as np\n",
    "from src.jss_lite.jss_lite import jss_lite\n",
    "t=np.empty((4,1),dtype=object)\n",
    "import time\n",
    "env=jss_lite(instance_path='resources/jsp_instances/standard/abz5.txt')\n",
    "\n",
    "for _ in range(50):\n",
    "    token=False\n",
    "    state=env.reset()\n",
    "    for i in range(150):\n",
    "        legal_action=env.get_legal_actions(state)\n",
    "        action=np.random.choice(len(legal_action), 1, p=(legal_action / legal_action.sum()))[0]\n",
    "        if action > env.action_space.n/2:\n",
    "            token=True\n",
    "            #print(\"before:\")\n",
    "            #env.render(start_count=1,x_bar=\"Job\",y_bar=\"Machine\")\n",
    "            state, reward, done, info=env.step(action)\n",
    "\n",
    "\n",
    "        else:\n",
    "            state, reward, done, info=env.step(action)\n",
    "            if token:\n",
    "                token=False\n",
    "                #print(\"after:\")\n",
    "                #env.render(start_count=1,x_bar=\"Job\",y_bar=\"Machine\")\n",
    "        #print(action)\n",
    "        #tmp=(env.processed_and_max_time_job_matrix)\n",
    "        #print(env.count_finished_tasks_machine_matrix)\n",
    "        #print(env.production_list)\n",
    "        #env.render()\n",
    "        if done==True:\n",
    "            print(f\"finished! no legal actions possible after {i+1} steps\")\n",
    "            break\n",
    "    #env.render(start_count=1,x_bar=\"Job\",y_bar=\"Machine\")\n",
    "\n"
   ]
  },
  {
   "cell_type": "code",
   "execution_count": null,
   "metadata": {},
   "outputs": [],
   "source": []
  },
  {
   "cell_type": "code",
   "execution_count": null,
   "metadata": {},
   "outputs": [],
   "source": []
  },
  {
   "cell_type": "code",
   "execution_count": null,
   "metadata": {},
   "outputs": [],
   "source": []
  },
  {
   "cell_type": "code",
   "execution_count": null,
   "metadata": {},
   "outputs": [],
   "source": []
  },
  {
   "cell_type": "code",
   "execution_count": null,
   "metadata": {},
   "outputs": [],
   "source": []
  },
  {
   "cell_type": "code",
   "execution_count": null,
   "metadata": {},
   "outputs": [],
   "source": []
  },
  {
   "cell_type": "code",
   "execution_count": null,
   "metadata": {},
   "outputs": [],
   "source": []
  },
  {
   "cell_type": "code",
   "execution_count": null,
   "metadata": {},
   "outputs": [],
   "source": []
  },
  {
   "cell_type": "code",
   "execution_count": null,
   "metadata": {},
   "outputs": [],
   "source": []
  },
  {
   "cell_type": "code",
   "execution_count": null,
   "metadata": {},
   "outputs": [],
   "source": []
  },
  {
   "cell_type": "code",
   "execution_count": null,
   "metadata": {},
   "outputs": [],
   "source": []
  },
  {
   "cell_type": "code",
   "execution_count": null,
   "metadata": {},
   "outputs": [],
   "source": []
  },
  {
   "cell_type": "code",
   "execution_count": null,
   "metadata": {},
   "outputs": [],
   "source": []
  },
  {
   "cell_type": "code",
   "execution_count": 6,
   "metadata": {},
   "outputs": [
    {
     "data": {
      "application/vnd.plotly.v1+json": {
       "config": {
        "plotlyServerURL": "https://plot.ly"
       },
       "data": [
        {
         "alignmentgroup": "True",
         "base": [
          "2022-01-01T00:24:53",
          "2022-01-01T00:10:37",
          "2022-01-01T01:19:06",
          "2022-01-01T01:21:24",
          "2022-01-01T00:04:58",
          "2022-01-01T01:17:32",
          "2022-01-01T00:49:34",
          "2022-01-01T01:01:30",
          "2022-01-01T00:56:38",
          "2022-01-01T00:00:01",
          "2022-01-01T00:40:40",
          "2022-01-01T00:04:13",
          "2022-01-01T00:42:27",
          "2022-01-01T01:00:09",
          "2022-01-01T00:46:55",
          "2022-01-01T00:20:48",
          "2022-01-01T00:34:25",
          "2022-01-01T00:48:28",
          "2022-01-01T01:22:27",
          "2022-01-01T00:59:27",
          "2022-01-01T00:32:38",
          "2022-01-01T00:53:55",
          "2022-01-01T01:11:08",
          "2022-01-01T00:37:37",
          "2022-01-01T01:05:03",
          "2022-01-01T00:45:06",
          "2022-01-01T00:18:24",
          "2022-01-01T00:36:33",
          "2022-01-01T01:15:48",
          "2022-01-01T00:00:58",
          "2022-01-01T01:12:21",
          "2022-01-01T00:07:45",
          "2022-01-01T00:30:15",
          "2022-01-01T00:26:56",
          "2022-01-01T00:15:27",
          "2022-01-01T00:52:21",
          "2022-01-01T01:04:26",
          "2022-01-01T01:02:13",
          "2022-01-01T01:15:24",
          "2022-01-01T00:40:56",
          "2022-01-01T01:02:10",
          "2022-01-01T00:04:30",
          "2022-01-01T01:16:06",
          "2022-01-01T01:06:25",
          "2022-01-01T00:13:07",
          "2022-01-01T00:34:37",
          "2022-01-01T01:03:19",
          "2022-01-01T01:09:39",
          "2022-01-01T00:23:28",
          "2022-01-01T01:17:24"
         ],
         "hovertemplate": "Machine=machine_08<br>Start=%{base}<br>Finish=%{x}<br>Job=%{y}<extra></extra>",
         "legendgroup": "machine_08",
         "marker": {
          "color": "#636efa",
          "pattern": {
           "shape": ""
          }
         },
         "name": "machine_08",
         "offsetgroup": "machine_08",
         "orientation": "h",
         "showlegend": true,
         "textposition": "auto",
         "type": "bar",
         "x": [
          122000,
          149000,
          137000,
          62000,
          166000,
          93000,
          166000,
          39000,
          168000,
          56000,
          15000,
          16000,
          158000,
          80000,
          92000,
          159000,
          11000,
          65000,
          42000,
          41000,
          106000,
          162000,
          72000,
          182000,
          81000,
          108000,
          143000,
          63000,
          17000,
          194000,
          182000,
          171000,
          142000,
          198000,
          176000,
          93000,
          36000,
          65000,
          23000,
          90000,
          2000,
          27000,
          77000,
          193000,
          139000,
          115000,
          66000,
          88000,
          84000,
          7000
         ],
         "xaxis": "x",
         "y": [
          "job_01",
          "job_02",
          "job_03",
          "job_04",
          "job_05",
          "job_06",
          "job_07",
          "job_08",
          "job_09",
          "job_10",
          "job_11",
          "job_12",
          "job_13",
          "job_14",
          "job_15",
          "job_16",
          "job_17",
          "job_18",
          "job_19",
          "job_20",
          "job_21",
          "job_22",
          "job_23",
          "job_24",
          "job_25",
          "job_26",
          "job_27",
          "job_28",
          "job_29",
          "job_30",
          "job_31",
          "job_32",
          "job_33",
          "job_34",
          "job_35",
          "job_36",
          "job_37",
          "job_38",
          "job_39",
          "job_40",
          "job_41",
          "job_42",
          "job_43",
          "job_44",
          "job_45",
          "job_46",
          "job_47",
          "job_48",
          "job_49",
          "job_50"
         ],
         "yaxis": "y"
        },
        {
         "alignmentgroup": "True",
         "base": [
          "2022-01-01T00:57:26",
          "2022-01-01T01:25:51",
          "2022-01-01T02:23:00",
          "2022-01-01T02:18:11",
          "2022-01-01T00:39:31",
          "2022-01-01T01:35:10",
          "2022-01-01T01:38:11",
          "2022-01-01T01:58:42",
          "2022-01-01T01:51:15",
          "2022-01-01T01:08:22",
          "2022-01-01T01:59:39",
          "2022-01-01T01:29:24",
          "2022-01-01T02:25:43",
          "2022-01-01T02:16:38",
          "2022-01-01T01:11:32",
          "2022-01-01T00:48:44",
          "2022-01-01T01:01:18",
          "2022-01-01T01:46:58",
          "2022-01-01T02:28:46",
          "2022-01-01T01:42:02",
          "2022-01-01T02:12:16",
          "2022-01-01T01:58:23",
          "2022-01-01T01:23:02",
          "2022-01-01T02:20:46",
          "2022-01-01T01:12:56",
          "2022-01-01T02:15:43",
          "2022-01-01T01:02:55",
          "2022-01-01T02:21:56",
          "2022-01-01T02:07:25",
          "2022-01-01T02:12:14",
          "2022-01-01T01:56:56",
          "2022-01-01T02:00:19",
          "2022-01-01T02:02:57",
          "2022-01-01T01:41:20",
          "2022-01-01T00:58:45",
          "2022-01-01T01:37:47",
          "2022-01-01T02:15:34",
          "2022-01-01T01:48:04",
          "2022-01-01T01:27:36",
          "2022-01-01T01:33:18",
          "2022-01-01T01:43:45",
          "2022-01-01T02:09:22",
          "2022-01-01T02:04:14",
          "2022-01-01T02:27:10",
          "2022-01-01T01:09:51",
          "2022-01-01T01:30:51",
          "2022-01-01T02:03:17",
          "2022-01-01T01:20:23",
          "2022-01-01T01:45:09",
          "2022-01-01T01:53:46"
         ],
         "hovertemplate": "Machine=machine_20<br>Start=%{base}<br>Finish=%{x}<br>Job=%{y}<extra></extra>",
         "legendgroup": "machine_20",
         "marker": {
          "color": "#EF553B",
          "pattern": {
           "shape": ""
          }
         },
         "name": "machine_20",
         "offsetgroup": "machine_20",
         "orientation": "h",
         "showlegend": true,
         "textposition": "auto",
         "type": "bar",
         "x": [
          78000,
          104000,
          162000,
          154000,
          71000,
          156000,
          188000,
          56000,
          150000,
          88000,
          39000,
          86000,
          86000,
          92000,
          83000,
          154000,
          92000,
          65000,
          116000,
          102000,
          197000,
          18000,
          168000,
          69000,
          76000,
          54000,
          100000,
          63000,
          116000,
          1000,
          86000,
          157000,
          19000,
          41000,
          152000,
          23000,
          8000,
          190000,
          107000,
          111000,
          83000,
          171000,
          190000,
          95000,
          100000,
          146000,
          56000,
          158000,
          108000,
          189000
         ],
         "xaxis": "x",
         "y": [
          "job_01",
          "job_02",
          "job_03",
          "job_04",
          "job_05",
          "job_06",
          "job_07",
          "job_08",
          "job_09",
          "job_10",
          "job_11",
          "job_12",
          "job_13",
          "job_14",
          "job_15",
          "job_16",
          "job_17",
          "job_18",
          "job_19",
          "job_20",
          "job_21",
          "job_22",
          "job_23",
          "job_24",
          "job_25",
          "job_26",
          "job_27",
          "job_28",
          "job_29",
          "job_30",
          "job_31",
          "job_32",
          "job_33",
          "job_34",
          "job_35",
          "job_36",
          "job_37",
          "job_38",
          "job_39",
          "job_40",
          "job_41",
          "job_42",
          "job_43",
          "job_44",
          "job_45",
          "job_46",
          "job_47",
          "job_48",
          "job_49",
          "job_50"
         ],
         "yaxis": "y"
        },
        {
         "alignmentgroup": "True",
         "base": [
          "2022-01-01T00:09:41",
          "2022-01-01T00:54:02",
          "2022-01-01T01:30:40",
          "2022-01-01T00:27:42",
          "2022-01-01T00:22:14",
          "2022-01-01T00:03:55",
          "2022-01-01T00:02:20",
          "2022-01-01T01:03:00",
          "2022-01-01T01:08:23",
          "2022-01-01T00:44:53",
          "2022-01-01T00:08:06",
          "2022-01-01T01:05:16",
          "2022-01-01T00:28:26",
          "2022-01-01T00:18:04",
          "2022-01-01T00:50:10",
          "2022-01-01T00:45:45",
          "2022-01-01T00:11:52",
          "2022-01-01T01:23:19",
          "2022-01-01T01:27:57",
          "2022-01-01T01:12:05",
          "2022-01-01T00:47:09",
          "2022-01-01T00:56:38",
          "2022-01-01T00:25:06",
          "2022-01-01T01:32:06",
          "2022-01-01T00:27:52",
          "2022-01-01T01:17:09",
          "2022-01-01T00:52:32",
          "2022-01-01T01:08:12",
          "2022-01-01T00:20:22",
          "2022-01-01T00:28:00",
          "2022-01-01T00:16:26",
          "2022-01-01T00:46:35",
          "2022-01-01T00:37:29",
          "2022-01-01T00:33:18",
          "2022-01-01T00:52:28",
          "2022-01-01T00:05:09",
          "2022-01-01T00:37:06",
          "2022-01-01T01:06:45",
          "2022-01-01T00:40:48",
          "2022-01-01T00:59:47",
          "2022-01-01T00:10:51",
          "2022-01-01T00:05:15",
          "2022-01-01T01:33:34",
          "2022-01-01T00:31:33",
          "2022-01-01T00:00:01",
          "2022-01-01T00:15:07",
          "2022-01-01T00:42:07",
          "2022-01-01T00:12:25",
          "2022-01-01T00:18:00",
          "2022-01-01T00:34:22"
         ],
         "hovertemplate": "Machine=machine_10<br>Start=%{base}<br>Finish=%{x}<br>Job=%{y}<extra></extra>",
         "legendgroup": "machine_10",
         "marker": {
          "color": "#00cc96",
          "pattern": {
           "shape": ""
          }
         },
         "name": "machine_10",
         "offsetgroup": "machine_10",
         "orientation": "h",
         "showlegend": true,
         "textposition": "auto",
         "type": "bar",
         "x": [
          69000,
          88000,
          85000,
          9000,
          171000,
          73000,
          94000,
          135000,
          85000,
          51000,
          94000,
          88000,
          186000,
          137000,
          137000,
          30000,
          32000,
          128000,
          21000,
          168000,
          180000,
          188000,
          155000,
          36000,
          7000,
          133000,
          89000,
          10000,
          111000,
          25000,
          93000,
          19000,
          137000,
          63000,
          3000,
          5000,
          22000,
          86000,
          68000,
          95000,
          60000,
          170000,
          129000,
          104000,
          138000,
          78000,
          48000,
          161000,
          3000,
          163000
         ],
         "xaxis": "x",
         "y": [
          "job_01",
          "job_02",
          "job_03",
          "job_04",
          "job_05",
          "job_06",
          "job_07",
          "job_08",
          "job_09",
          "job_10",
          "job_11",
          "job_12",
          "job_13",
          "job_14",
          "job_15",
          "job_16",
          "job_17",
          "job_18",
          "job_19",
          "job_20",
          "job_21",
          "job_22",
          "job_23",
          "job_24",
          "job_25",
          "job_26",
          "job_27",
          "job_28",
          "job_29",
          "job_30",
          "job_31",
          "job_32",
          "job_33",
          "job_34",
          "job_35",
          "job_36",
          "job_37",
          "job_38",
          "job_39",
          "job_40",
          "job_41",
          "job_42",
          "job_43",
          "job_44",
          "job_45",
          "job_46",
          "job_47",
          "job_48",
          "job_49",
          "job_50"
         ],
         "yaxis": "y"
        },
        {
         "alignmentgroup": "True",
         "base": [
          "2022-01-01T01:12:04",
          "2022-01-01T01:53:23",
          "2022-01-01T01:58:10",
          "2022-01-01T01:58:38",
          "2022-01-01T00:33:45",
          "2022-01-01T02:14:21",
          "2022-01-01T01:22:22",
          "2022-01-01T01:36:20",
          "2022-01-01T01:39:33",
          "2022-01-01T01:09:51",
          "2022-01-01T01:26:08",
          "2022-01-01T01:08:55",
          "2022-01-01T02:41:01",
          "2022-01-01T02:05:42",
          "2022-01-01T01:21:38",
          "2022-01-01T01:06:01",
          "2022-01-01T01:02:51",
          "2022-01-01T02:35:09",
          "2022-01-01T01:42:06",
          "2022-01-01T01:31:53",
          "2022-01-01T02:11:38",
          "2022-01-01T01:30:06",
          "2022-01-01T02:14:30",
          "2022-01-01T01:58:56",
          "2022-01-01T01:17:03",
          "2022-01-01T02:20:36",
          "2022-01-01T01:01:36",
          "2022-01-01T02:19:08",
          "2022-01-01T02:17:23",
          "2022-01-01T02:22:04",
          "2022-01-01T02:02:07",
          "2022-01-01T02:11:39",
          "2022-01-01T02:08:33",
          "2022-01-01T01:26:16",
          "2022-01-01T00:56:38",
          "2022-01-01T01:14:11",
          "2022-01-01T01:56:01",
          "2022-01-01T01:33:29",
          "2022-01-01T01:53:56",
          "2022-01-01T01:41:01",
          "2022-01-01T01:23:40",
          "2022-01-01T00:52:51",
          "2022-01-01T02:30:52",
          "2022-01-01T02:15:59",
          "2022-01-01T01:13:36",
          "2022-01-01T01:28:34",
          "2022-01-01T01:23:00",
          "2022-01-01T02:28:26",
          "2022-01-01T01:18:38",
          "2022-01-01T02:05:10"
         ],
         "hovertemplate": "Machine=machine_13<br>Start=%{base}<br>Finish=%{x}<br>Job=%{y}<extra></extra>",
         "legendgroup": "machine_13",
         "marker": {
          "color": "#ab63fa",
          "pattern": {
           "shape": ""
          }
         },
         "name": "machine_13",
         "offsetgroup": "machine_13",
         "orientation": "h",
         "showlegend": true,
         "textposition": "auto",
         "type": "bar",
         "x": [
          91000,
          27000,
          27000,
          17000,
          41000,
          8000,
          37000,
          192000,
          87000,
          132000,
          7000,
          12000,
          163000,
          170000,
          43000,
          143000,
          58000,
          175000,
          60000,
          95000,
          0,
          106000,
          88000,
          190000,
          94000,
          5000,
          61000,
          87000,
          104000,
          196000,
          182000,
          161000,
          184000,
          137000,
          124000,
          171000,
          128000,
          170000,
          18000,
          64000,
          147000,
          144000,
          46000,
          83000,
          34000,
          91000,
          39000,
          143000,
          179000,
          31000
         ],
         "xaxis": "x",
         "y": [
          "job_01",
          "job_02",
          "job_03",
          "job_04",
          "job_05",
          "job_06",
          "job_07",
          "job_08",
          "job_09",
          "job_10",
          "job_11",
          "job_12",
          "job_13",
          "job_14",
          "job_15",
          "job_16",
          "job_17",
          "job_18",
          "job_19",
          "job_20",
          "job_21",
          "job_22",
          "job_23",
          "job_24",
          "job_25",
          "job_26",
          "job_27",
          "job_28",
          "job_29",
          "job_30",
          "job_31",
          "job_32",
          "job_33",
          "job_34",
          "job_35",
          "job_36",
          "job_37",
          "job_38",
          "job_39",
          "job_40",
          "job_41",
          "job_42",
          "job_43",
          "job_44",
          "job_45",
          "job_46",
          "job_47",
          "job_48",
          "job_49",
          "job_50"
         ],
         "yaxis": "y"
        },
        {
         "alignmentgroup": "True",
         "base": [
          "2022-01-01T01:04:15",
          "2022-01-01T01:56:28",
          "2022-01-01T01:36:21",
          "2022-01-01T01:41:30",
          "2022-01-01T00:43:39",
          "2022-01-01T01:31:01",
          "2022-01-01T01:02:47",
          "2022-01-01T02:03:56",
          "2022-01-01T01:34:00",
          "2022-01-01T01:12:11",
          "2022-01-01T00:58:56",
          "2022-01-01T01:11:09",
          "2022-01-01T02:30:27",
          "2022-01-01T02:01:00",
          "2022-01-01T02:06:34",
          "2022-01-01T01:11:25",
          "2022-01-01T01:14:29",
          "2022-01-01T01:54:13",
          "2022-01-01T01:38:44",
          "2022-01-01T01:45:38",
          "2022-01-01T01:43:19",
          "2022-01-01T01:50:59",
          "2022-01-01T01:43:23",
          "2022-01-01T01:55:27",
          "2022-01-01T02:18:41",
          "2022-01-01T02:16:38",
          "2022-01-01T01:06:37",
          "2022-01-01T01:16:45",
          "2022-01-01T01:35:08",
          "2022-01-01T02:21:50",
          "2022-01-01T02:23:36",
          "2022-01-01T01:47:00",
          "2022-01-01T01:48:09",
          "2022-01-01T01:20:33",
          "2022-01-01T00:56:10",
          "2022-01-01T01:41:32",
          "2022-01-01T01:58:22",
          "2022-01-01T02:26:11",
          "2022-01-01T01:35:23",
          "2022-01-01T01:25:32",
          "2022-01-01T01:17:00",
          "2022-01-01T01:08:24",
          "2022-01-01T02:40:09",
          "2022-01-01T02:29:29",
          "2022-01-01T01:00:10",
          "2022-01-01T01:49:49",
          "2022-01-01T01:19:12",
          "2022-01-01T01:27:54",
          "2022-01-01T01:23:46",
          "2022-01-01T02:06:25"
         ],
         "hovertemplate": "Machine=machine_19<br>Start=%{base}<br>Finish=%{x}<br>Job=%{y}<extra></extra>",
         "legendgroup": "machine_19",
         "marker": {
          "color": "#FFA15A",
          "pattern": {
           "shape": ""
          }
         },
         "name": "machine_19",
         "offsetgroup": "machine_19",
         "orientation": "h",
         "showlegend": true,
         "textposition": "auto",
         "type": "bar",
         "x": [
          88000,
          113000,
          142000,
          1000,
          62000,
          178000,
          87000,
          148000,
          67000,
          137000,
          73000,
          15000,
          193000,
          175000,
          107000,
          45000,
          135000,
          73000,
          165000,
          81000,
          3000,
          193000,
          134000,
          60000,
          188000,
          102000,
          106000,
          14000,
          14000,
          13000,
          29000,
          68000,
          44000,
          192000,
          27000,
          106000,
          157000,
          197000,
          57000,
          141000,
          131000,
          164000,
          138000,
          57000,
          19000,
          27000,
          80000,
          186000,
          105000,
          8000
         ],
         "xaxis": "x",
         "y": [
          "job_01",
          "job_02",
          "job_03",
          "job_04",
          "job_05",
          "job_06",
          "job_07",
          "job_08",
          "job_09",
          "job_10",
          "job_11",
          "job_12",
          "job_13",
          "job_14",
          "job_15",
          "job_16",
          "job_17",
          "job_18",
          "job_19",
          "job_20",
          "job_21",
          "job_22",
          "job_23",
          "job_24",
          "job_25",
          "job_26",
          "job_27",
          "job_28",
          "job_29",
          "job_30",
          "job_31",
          "job_32",
          "job_33",
          "job_34",
          "job_35",
          "job_36",
          "job_37",
          "job_38",
          "job_39",
          "job_40",
          "job_41",
          "job_42",
          "job_43",
          "job_44",
          "job_45",
          "job_46",
          "job_47",
          "job_48",
          "job_49",
          "job_50"
         ],
         "yaxis": "y"
        },
        {
         "alignmentgroup": "True",
         "base": [
          "2022-01-01T00:40:48",
          "2022-01-01T01:08:18",
          "2022-01-01T01:25:23",
          "2022-01-01T01:34:10",
          "2022-01-01T00:18:12",
          "2022-01-01T01:19:31",
          "2022-01-01T00:59:44",
          "2022-01-01T01:10:57",
          "2022-01-01T01:15:35",
          "2022-01-01T00:02:16",
          "2022-01-01T00:46:03",
          "2022-01-01T00:51:41",
          "2022-01-01T01:22:34",
          "2022-01-01T00:09:19",
          "2022-01-01T00:29:39",
          "2022-01-01T00:12:11",
          "2022-01-01T00:27:41",
          "2022-01-01T00:29:02",
          "2022-01-01T01:25:24",
          "2022-01-01T00:30:05",
          "2022-01-01T00:10:29",
          "2022-01-01T01:04:50",
          "2022-01-01T00:53:29",
          "2022-01-01T00:48:39",
          "2022-01-01T00:43:40",
          "2022-01-01T00:05:16",
          "2022-01-01T00:50:58",
          "2022-01-01T00:16:07",
          "2022-01-01T01:16:06",
          "2022-01-01T00:09:47",
          "2022-01-01T00:25:17",
          "2022-01-01T01:02:47",
          "2022-01-01T00:00:01",
          "2022-01-01T01:04:39",
          "2022-01-01T00:53:20",
          "2022-01-01T00:25:35",
          "2022-01-01T00:08:09",
          "2022-01-01T00:14:54",
          "2022-01-01T00:37:31",
          "2022-01-01T01:09:36",
          "2022-01-01T01:06:09",
          "2022-01-01T00:47:13",
          "2022-01-01T00:31:42",
          "2022-01-01T00:22:41",
          "2022-01-01T00:56:45",
          "2022-01-01T00:28:00",
          "2022-01-01T00:34:32",
          "2022-01-01T00:19:32",
          "2022-01-01T00:44:34",
          "2022-01-01T01:17:32"
         ],
         "hovertemplate": "Machine=machine_03<br>Start=%{base}<br>Finish=%{x}<br>Job=%{y}<extra></extra>",
         "legendgroup": "machine_03",
         "marker": {
          "color": "#19d3f3",
          "pattern": {
           "shape": ""
          }
         },
         "name": "machine_03",
         "offsetgroup": "machine_03",
         "orientation": "h",
         "showlegend": true,
         "textposition": "auto",
         "type": "bar",
         "x": [
          171000,
          77000,
          0,
          142000,
          79000,
          182000,
          182000,
          159000,
          21000,
          179000,
          69000,
          98000,
          168000,
          27000,
          25000,
          162000,
          18000,
          36000,
          112000,
          96000,
          101000,
          78000,
          195000,
          138000,
          53000,
          172000,
          42000,
          124000,
          55000,
          41000,
          17000,
          111000,
          134000,
          10000,
          8000,
          125000,
          69000,
          72000,
          196000,
          80000,
          128000,
          85000,
          169000,
          155000,
          178000,
          61000,
          178000,
          188000,
          88000,
          118000
         ],
         "xaxis": "x",
         "y": [
          "job_01",
          "job_02",
          "job_03",
          "job_04",
          "job_05",
          "job_06",
          "job_07",
          "job_08",
          "job_09",
          "job_10",
          "job_11",
          "job_12",
          "job_13",
          "job_14",
          "job_15",
          "job_16",
          "job_17",
          "job_18",
          "job_19",
          "job_20",
          "job_21",
          "job_22",
          "job_23",
          "job_24",
          "job_25",
          "job_26",
          "job_27",
          "job_28",
          "job_29",
          "job_30",
          "job_31",
          "job_32",
          "job_33",
          "job_34",
          "job_35",
          "job_36",
          "job_37",
          "job_38",
          "job_39",
          "job_40",
          "job_41",
          "job_42",
          "job_43",
          "job_44",
          "job_45",
          "job_46",
          "job_47",
          "job_48",
          "job_49",
          "job_50"
         ],
         "yaxis": "y"
        },
        {
         "alignmentgroup": "True",
         "base": [
          "2022-01-01T00:30:39",
          "2022-01-01T00:42:03",
          "2022-01-01T01:28:21",
          "2022-01-01T00:24:22",
          "2022-01-01T00:19:38",
          "2022-01-01T00:11:44",
          "2022-01-01T00:54:28",
          "2022-01-01T00:40:01",
          "2022-01-01T00:08:44",
          "2022-01-01T00:27:08",
          "2022-01-01T00:31:03",
          "2022-01-01T01:03:07",
          "2022-01-01T00:51:38",
          "2022-01-01T00:33:02",
          "2022-01-01T00:34:45",
          "2022-01-01T00:43:13",
          "2022-01-01T00:30:21",
          "2022-01-01T00:15:14",
          "2022-01-01T01:30:40",
          "2022-01-01T01:20:23",
          "2022-01-01T00:55:52",
          "2022-01-01T00:45:08",
          "2022-01-01T01:00:25",
          "2022-01-01T00:53:58",
          "2022-01-01T00:22:17",
          "2022-01-01T00:57:19",
          "2022-01-01T00:01:47",
          "2022-01-01T00:37:37",
          "2022-01-01T01:04:27",
          "2022-01-01T00:20:41",
          "2022-01-01T01:26:44",
          "2022-01-01T01:00:23",
          "2022-01-01T01:26:05",
          "2022-01-01T01:05:44",
          "2022-01-01T00:48:06",
          "2022-01-01T00:48:46",
          "2022-01-01T00:16:45",
          "2022-01-01T01:31:04",
          "2022-01-01T01:22:58",
          "2022-01-01T01:03:45",
          "2022-01-01T01:11:36",
          "2022-01-01T00:31:39",
          "2022-01-01T01:33:21",
          "2022-01-01T00:11:55",
          "2022-01-01T00:07:38",
          "2022-01-01T00:00:01",
          "2022-01-01T00:05:05",
          "2022-01-01T01:17:06",
          "2022-01-01T01:07:18",
          "2022-01-01T01:00:00"
         ],
         "hovertemplate": "Machine=machine_04<br>Start=%{base}<br>Finish=%{x}<br>Job=%{y}<extra></extra>",
         "legendgroup": "machine_04",
         "marker": {
          "color": "#FF6692",
          "pattern": {
           "shape": ""
          }
         },
         "name": "machine_04",
         "offsetgroup": "machine_04",
         "orientation": "h",
         "showlegend": true,
         "textposition": "auto",
         "type": "bar",
         "x": [
          23000,
          69000,
          138000,
          51000,
          62000,
          10000,
          83000,
          121000,
          179000,
          192000,
          35000,
          37000,
          139000,
          102000,
          9000,
          114000,
          17000,
          90000,
          11000,
          154000,
          86000,
          177000,
          161000,
          29000,
          124000,
          160000,
          197000,
          143000,
          76000,
          95000,
          96000,
          1000,
          38000,
          91000,
          39000,
          171000,
          172000,
          41000,
          186000,
          41000,
          49000,
          1000,
          12000,
          198000,
          65000,
          105000,
          152000,
          196000,
          178000,
          22000
         ],
         "xaxis": "x",
         "y": [
          "job_01",
          "job_02",
          "job_03",
          "job_04",
          "job_05",
          "job_06",
          "job_07",
          "job_08",
          "job_09",
          "job_10",
          "job_11",
          "job_12",
          "job_13",
          "job_14",
          "job_15",
          "job_16",
          "job_17",
          "job_18",
          "job_19",
          "job_20",
          "job_21",
          "job_22",
          "job_23",
          "job_24",
          "job_25",
          "job_26",
          "job_27",
          "job_28",
          "job_29",
          "job_30",
          "job_31",
          "job_32",
          "job_33",
          "job_34",
          "job_35",
          "job_36",
          "job_37",
          "job_38",
          "job_39",
          "job_40",
          "job_41",
          "job_42",
          "job_43",
          "job_44",
          "job_45",
          "job_46",
          "job_47",
          "job_48",
          "job_49",
          "job_50"
         ],
         "yaxis": "y"
        },
        {
         "alignmentgroup": "True",
         "base": [
          "2022-01-01T01:00:40",
          "2022-01-01T01:37:51",
          "2022-01-01T01:46:39",
          "2022-01-01T02:12:24",
          "2022-01-01T00:39:09",
          "2022-01-01T02:01:59",
          "2022-01-01T01:14:30",
          "2022-01-01T01:18:59",
          "2022-01-01T01:28:08",
          "2022-01-01T01:03:04",
          "2022-01-01T01:06:40",
          "2022-01-01T01:19:13",
          "2022-01-01T02:38:40",
          "2022-01-01T02:21:37",
          "2022-01-01T01:32:26",
          "2022-01-01T00:53:38",
          "2022-01-01T00:57:44",
          "2022-01-01T01:34:40",
          "2022-01-01T02:30:43",
          "2022-01-01T01:50:59",
          "2022-01-01T01:40:39",
          "2022-01-01T01:49:49",
          "2022-01-01T01:14:33",
          "2022-01-01T01:54:51",
          "2022-01-01T01:27:49",
          "2022-01-01T01:33:11",
          "2022-01-01T01:09:51",
          "2022-01-01T01:24:11",
          "2022-01-01T01:59:47",
          "2022-01-01T02:18:04",
          "2022-01-01T01:44:45",
          "2022-01-01T01:41:55",
          "2022-01-01T02:35:51",
          "2022-01-01T01:29:41",
          "2022-01-01T01:12:26",
          "2022-01-01T01:20:51",
          "2022-01-01T02:06:06",
          "2022-01-01T01:52:28",
          "2022-01-01T01:51:00",
          "2022-01-01T02:32:35",
          "2022-01-01T01:15:09",
          "2022-01-01T01:05:07",
          "2022-01-01T02:09:23",
          "2022-01-01T02:19:44",
          "2022-01-01T01:16:20",
          "2022-01-01T01:46:57",
          "2022-01-01T02:04:36",
          "2022-01-01T01:27:25",
          "2022-01-01T02:14:42",
          "2022-01-01T01:56:56"
         ],
         "hovertemplate": "Machine=machine_16<br>Start=%{base}<br>Finish=%{x}<br>Job=%{y}<extra></extra>",
         "legendgroup": "machine_16",
         "marker": {
          "color": "#B6E880",
          "pattern": {
           "shape": ""
          }
         },
         "name": "machine_16",
         "offsetgroup": "machine_16",
         "orientation": "h",
         "showlegend": true,
         "textposition": "auto",
         "type": "bar",
         "x": [
          143000,
          167000,
          17000,
          137000,
          21000,
          156000,
          2000,
          13000,
          92000,
          122000,
          190000,
          97000,
          5000,
          123000,
          44000,
          54000,
          175000,
          32000,
          79000,
          0,
          75000,
          69000,
          35000,
          22000,
          18000,
          88000,
          154000,
          193000,
          131000,
          99000,
          113000,
          169000,
          168000,
          164000,
          123000,
          199000,
          196000,
          130000,
          87000,
          195000,
          70000,
          92000,
          180000,
          76000,
          158000,
          171000,
          89000,
          23000,
          44000,
          13000
         ],
         "xaxis": "x",
         "y": [
          "job_01",
          "job_02",
          "job_03",
          "job_04",
          "job_05",
          "job_06",
          "job_07",
          "job_08",
          "job_09",
          "job_10",
          "job_11",
          "job_12",
          "job_13",
          "job_14",
          "job_15",
          "job_16",
          "job_17",
          "job_18",
          "job_19",
          "job_20",
          "job_21",
          "job_22",
          "job_23",
          "job_24",
          "job_25",
          "job_26",
          "job_27",
          "job_28",
          "job_29",
          "job_30",
          "job_31",
          "job_32",
          "job_33",
          "job_34",
          "job_35",
          "job_36",
          "job_37",
          "job_38",
          "job_39",
          "job_40",
          "job_41",
          "job_42",
          "job_43",
          "job_44",
          "job_45",
          "job_46",
          "job_47",
          "job_48",
          "job_49",
          "job_50"
         ],
         "yaxis": "y"
        },
        {
         "alignmentgroup": "True",
         "base": [
          "2022-01-01T01:09:17",
          "2022-01-01T01:31:52",
          "2022-01-01T01:49:12",
          "2022-01-01T02:03:57",
          "2022-01-01T00:44:42",
          "2022-01-01T02:10:03",
          "2022-01-01T01:30:01",
          "2022-01-01T01:19:13",
          "2022-01-01T01:47:59",
          "2022-01-01T00:48:44",
          "2022-01-01T01:15:22",
          "2022-01-01T01:24:55",
          "2022-01-01T01:40:30",
          "2022-01-01T01:31:42",
          "2022-01-01T01:47:43",
          "2022-01-01T00:46:27",
          "2022-01-01T00:56:00",
          "2022-01-01T02:33:17",
          "2022-01-01T02:06:17",
          "2022-01-01T01:51:34",
          "2022-01-01T02:15:34",
          "2022-01-01T01:54:13",
          "2022-01-01T01:27:48",
          "2022-01-01T02:03:13",
          "2022-01-01T01:45:29",
          "2022-01-01T02:20:01",
          "2022-01-01T01:15:57",
          "2022-01-01T01:11:54",
          "2022-01-01T02:22:50",
          "2022-01-01T02:13:08",
          "2022-01-01T01:41:39",
          "2022-01-01T01:06:26",
          "2022-01-01T01:48:58",
          "2022-01-01T01:34:49",
          "2022-01-01T01:01:18",
          "2022-01-01T01:10:52",
          "2022-01-01T01:14:53",
          "2022-01-01T01:54:39",
          "2022-01-01T01:43:05",
          "2022-01-01T01:22:37",
          "2022-01-01T01:33:25",
          "2022-01-01T02:16:12",
          "2022-01-01T01:51:33",
          "2022-01-01T01:37:44",
          "2022-01-01T01:03:13",
          "2022-01-01T01:20:08",
          "2022-01-01T01:04:26",
          "2022-01-01T02:21:21",
          "2022-01-01T01:25:32",
          "2022-01-01T02:01:19"
         ],
         "hovertemplate": "Machine=machine_12<br>Start=%{base}<br>Finish=%{x}<br>Job=%{y}<extra></extra>",
         "legendgroup": "machine_12",
         "marker": {
          "color": "#FF97FF",
          "pattern": {
           "shape": ""
          }
         },
         "name": "machine_12",
         "offsetgroup": "machine_12",
         "orientation": "h",
         "showlegend": true,
         "textposition": "auto",
         "type": "bar",
         "x": [
          94000,
          92000,
          140000,
          139000,
          104000,
          163000,
          100000,
          54000,
          58000,
          180000,
          34000,
          32000,
          68000,
          9000,
          15000,
          136000,
          103000,
          111000,
          85000,
          120000,
          37000,
          19000,
          132000,
          43000,
          133000,
          18000,
          19000,
          178000,
          72000,
          95000,
          85000,
          170000,
          13000,
          174000,
          114000,
          61000,
          28000,
          143000,
          143000,
          137000,
          83000,
          32000,
          0,
          165000,
          59000,
          148000,
          119000,
          59000,
          135000,
          113000
         ],
         "xaxis": "x",
         "y": [
          "job_01",
          "job_02",
          "job_03",
          "job_04",
          "job_05",
          "job_06",
          "job_07",
          "job_08",
          "job_09",
          "job_10",
          "job_11",
          "job_12",
          "job_13",
          "job_14",
          "job_15",
          "job_16",
          "job_17",
          "job_18",
          "job_19",
          "job_20",
          "job_21",
          "job_22",
          "job_23",
          "job_24",
          "job_25",
          "job_26",
          "job_27",
          "job_28",
          "job_29",
          "job_30",
          "job_31",
          "job_32",
          "job_33",
          "job_34",
          "job_35",
          "job_36",
          "job_37",
          "job_38",
          "job_39",
          "job_40",
          "job_41",
          "job_42",
          "job_43",
          "job_44",
          "job_45",
          "job_46",
          "job_47",
          "job_48",
          "job_49",
          "job_50"
         ],
         "yaxis": "y"
        },
        {
         "alignmentgroup": "True",
         "base": [
          "2022-01-01T00:03:58",
          "2022-01-01T00:44:44",
          "2022-01-01T01:21:24",
          "2022-01-01T00:47:29",
          "2022-01-01T00:03:12",
          "2022-01-01T00:13:33",
          "2022-01-01T00:59:27",
          "2022-01-01T00:01:38",
          "2022-01-01T01:14:30",
          "2022-01-01T00:32:46",
          "2022-01-01T00:43:26",
          "2022-01-01T00:05:53",
          "2022-01-01T01:11:52",
          "2022-01-01T01:01:48",
          "2022-01-01T00:30:05",
          "2022-01-01T00:35:11",
          "2022-01-01T00:02:20",
          "2022-01-01T01:25:28",
          "2022-01-01T01:33:21",
          "2022-01-01T01:24:18",
          "2022-01-01T01:03:55",
          "2022-01-01T01:06:25",
          "2022-01-01T00:58:39",
          "2022-01-01T01:28:25",
          "2022-01-01T00:06:40",
          "2022-01-01T00:00:01",
          "2022-01-01T00:38:20",
          "2022-01-01T00:57:51",
          "2022-01-01T00:52:34",
          "2022-01-01T00:54:35",
          "2022-01-01T00:40:00",
          "2022-01-01T00:03:08",
          "2022-01-01T00:16:00",
          "2022-01-01T00:59:35",
          "2022-01-01T00:40:06",
          "2022-01-01T01:01:43",
          "2022-01-01T00:02:21",
          "2022-01-01T00:34:49",
          "2022-01-01T01:15:48",
          "2022-01-01T00:02:25",
          "2022-01-01T00:20:55",
          "2022-01-01T00:49:58",
          "2022-01-01T01:32:02",
          "2022-01-01T00:18:24",
          "2022-01-01T00:44:12",
          "2022-01-01T00:57:49",
          "2022-01-01T00:21:53",
          "2022-01-01T00:08:22",
          "2022-01-01T00:10:50",
          "2022-01-01T00:50:49"
         ],
         "hovertemplate": "Machine=machine_09<br>Start=%{base}<br>Finish=%{x}<br>Job=%{y}<extra></extra>",
         "legendgroup": "machine_09",
         "marker": {
          "color": "#FECB52",
          "pattern": {
           "shape": ""
          }
         },
         "name": "machine_09",
         "offsetgroup": "machine_09",
         "orientation": "h",
         "showlegend": true,
         "textposition": "auto",
         "type": "bar",
         "x": [
          114000,
          164000,
          173000,
          148000,
          13000,
          146000,
          7000,
          41000,
          64000,
          122000,
          45000,
          6000,
          157000,
          126000,
          160000,
          188000,
          0,
          135000,
          125000,
          4000,
          149000,
          197000,
          47000,
          136000,
          36000,
          96000,
          99000,
          47000,
          120000,
          193000,
          5000,
          3000,
          143000,
          127000,
          199000,
          4000,
          3000,
          21000,
          180000,
          42000,
          27000,
          50000,
          78000,
          70000,
          31000,
          1000,
          3000,
          147000,
          162000,
          104000
         ],
         "xaxis": "x",
         "y": [
          "job_01",
          "job_02",
          "job_03",
          "job_04",
          "job_05",
          "job_06",
          "job_07",
          "job_08",
          "job_09",
          "job_10",
          "job_11",
          "job_12",
          "job_13",
          "job_14",
          "job_15",
          "job_16",
          "job_17",
          "job_18",
          "job_19",
          "job_20",
          "job_21",
          "job_22",
          "job_23",
          "job_24",
          "job_25",
          "job_26",
          "job_27",
          "job_28",
          "job_29",
          "job_30",
          "job_31",
          "job_32",
          "job_33",
          "job_34",
          "job_35",
          "job_36",
          "job_37",
          "job_38",
          "job_39",
          "job_40",
          "job_41",
          "job_42",
          "job_43",
          "job_44",
          "job_45",
          "job_46",
          "job_47",
          "job_48",
          "job_49",
          "job_50"
         ],
         "yaxis": "y"
        },
        {
         "alignmentgroup": "True",
         "base": [
          "2022-01-01T00:35:29",
          "2022-01-01T00:59:13",
          "2022-01-01T00:05:47",
          "2022-01-01T01:32:14",
          "2022-01-01T00:28:41",
          "2022-01-01T01:25:03",
          "2022-01-01T00:13:35",
          "2022-01-01T01:14:22",
          "2022-01-01T00:00:01",
          "2022-01-01T00:08:41",
          "2022-01-01T00:25:32",
          "2022-01-01T00:11:02",
          "2022-01-01T01:17:17",
          "2022-01-01T00:32:32",
          "2022-01-01T00:05:03",
          "2022-01-01T00:15:59",
          "2022-01-01T00:53:59",
          "2022-01-01T00:27:42",
          "2022-01-01T01:30:52",
          "2022-01-01T01:10:27",
          "2022-01-01T01:06:25",
          "2022-01-01T01:12:05",
          "2022-01-01T01:03:07",
          "2022-01-01T01:28:01",
          "2022-01-01T01:08:21",
          "2022-01-01T01:03:53",
          "2022-01-01T00:33:02",
          "2022-01-01T00:42:28",
          "2022-01-01T01:13:52",
          "2022-01-01T00:23:14",
          "2022-01-01T01:20:37",
          "2022-01-01T00:39:52",
          "2022-01-01T01:26:59",
          "2022-01-01T01:02:14",
          "2022-01-01T00:44:36",
          "2022-01-01T00:45:33",
          "2022-01-01T00:20:55",
          "2022-01-01T00:29:07",
          "2022-01-01T01:18:49",
          "2022-01-01T00:56:00",
          "2022-01-01T00:18:24",
          "2022-01-01T00:32:26",
          "2022-01-01T00:38:39",
          "2022-01-01T01:34:09",
          "2022-01-01T00:38:47",
          "2022-01-01T00:48:40",
          "2022-01-01T00:03:12",
          "2022-01-01T00:50:53",
          "2022-01-01T01:00:47",
          "2022-01-01T01:34:27"
         ],
         "hovertemplate": "Machine=machine_06<br>Start=%{base}<br>Finish=%{x}<br>Job=%{y}<extra></extra>",
         "legendgroup": "machine_06",
         "marker": {
          "color": "#636efa",
          "pattern": {
           "shape": ""
          }
         },
         "name": "machine_06",
         "offsetgroup": "machine_06",
         "orientation": "h",
         "showlegend": true,
         "textposition": "auto",
         "type": "bar",
         "x": [
          189000,
          93000,
          173000,
          114000,
          25000,
          115000,
          100000,
          174000,
          190000,
          140000,
          129000,
          152000,
          68000,
          29000,
          43000,
          144000,
          120000,
          58000,
          81000,
          97000,
          3000,
          106000,
          17000,
          23000,
          125000,
          112000,
          146000,
          127000,
          29000,
          137000,
          119000,
          155000,
          61000,
          4000,
          56000,
          186000,
          138000,
          198000,
          26000,
          192000,
          150000,
          5000,
          7000,
          17000,
          64000,
          132000,
          110000,
          185000,
          86000,
          197000
         ],
         "xaxis": "x",
         "y": [
          "job_01",
          "job_02",
          "job_03",
          "job_04",
          "job_05",
          "job_06",
          "job_07",
          "job_08",
          "job_09",
          "job_10",
          "job_11",
          "job_12",
          "job_13",
          "job_14",
          "job_15",
          "job_16",
          "job_17",
          "job_18",
          "job_19",
          "job_20",
          "job_21",
          "job_22",
          "job_23",
          "job_24",
          "job_25",
          "job_26",
          "job_27",
          "job_28",
          "job_29",
          "job_30",
          "job_31",
          "job_32",
          "job_33",
          "job_34",
          "job_35",
          "job_36",
          "job_37",
          "job_38",
          "job_39",
          "job_40",
          "job_41",
          "job_42",
          "job_43",
          "job_44",
          "job_45",
          "job_46",
          "job_47",
          "job_48",
          "job_49",
          "job_50"
         ],
         "yaxis": "y"
        },
        {
         "alignmentgroup": "True",
         "base": [
          "2022-01-01T00:03:19",
          "2022-01-01T00:03:58",
          "2022-01-01T01:32:06",
          "2022-01-01T01:34:09",
          "2022-01-01T00:11:25",
          "2022-01-01T01:22:56",
          "2022-01-01T00:34:19",
          "2022-01-01T01:08:57",
          "2022-01-01T01:03:53",
          "2022-01-01T00:39:00",
          "2022-01-01T00:58:09",
          "2022-01-01T00:00:01",
          "2022-01-01T01:14:30",
          "2022-01-01T00:41:05",
          "2022-01-01T00:54:33",
          "2022-01-01T00:28:07",
          "2022-01-01T00:00:39",
          "2022-01-01T00:51:10",
          "2022-01-01T01:27:17",
          "2022-01-01T01:05:47",
          "2022-01-01T00:16:10",
          "2022-01-01T00:37:00",
          "2022-01-01T00:57:55",
          "2022-01-01T00:58:56",
          "2022-01-01T00:13:27",
          "2022-01-01T01:01:17",
          "2022-01-01T00:55:20",
          "2022-01-01T00:01:44",
          "2022-01-01T00:43:30",
          "2022-01-01T00:45:25",
          "2022-01-01T01:17:21",
          "2022-01-01T00:53:17",
          "2022-01-01T00:07:24",
          "2022-01-01T00:48:42",
          "2022-01-01T00:07:12",
          "2022-01-01T00:42:01",
          "2022-01-01T00:10:08",
          "2022-01-01T01:28:04",
          "2022-01-01T00:52:19",
          "2022-01-01T00:06:42",
          "2022-01-01T00:15:03",
          "2022-01-01T00:21:50",
          "2022-01-01T00:56:20",
          "2022-01-01T00:19:38",
          "2022-01-01T00:31:22",
          "2022-01-01T00:19:12",
          "2022-01-01T00:24:04",
          "2022-01-01T00:26:58",
          "2022-01-01T00:04:52",
          "2022-01-01T01:20:37"
         ],
         "hovertemplate": "Machine=machine_02<br>Start=%{base}<br>Finish=%{x}<br>Job=%{y}<extra></extra>",
         "legendgroup": "machine_02",
         "marker": {
          "color": "#EF553B",
          "pattern": {
           "shape": ""
          }
         },
         "name": "machine_02",
         "offsetgroup": "machine_02",
         "orientation": "h",
         "showlegend": true,
         "textposition": "auto",
         "type": "bar",
         "x": [
          38000,
          53000,
          68000,
          0,
          121000,
          126000,
          160000,
          39000,
          113000,
          124000,
          46000,
          37000,
          4000,
          55000,
          46000,
          194000,
          64000,
          68000,
          39000,
          189000,
          181000,
          119000,
          13000,
          140000,
          95000,
          155000,
          59000,
          94000,
          114000,
          196000,
          195000,
          75000,
          163000,
          147000,
          11000,
          88000,
          76000,
          179000,
          57000,
          29000,
          66000,
          133000,
          94000,
          131000,
          176000,
          25000,
          173000,
          68000,
          109000,
          138000
         ],
         "xaxis": "x",
         "y": [
          "job_01",
          "job_02",
          "job_03",
          "job_04",
          "job_05",
          "job_06",
          "job_07",
          "job_08",
          "job_09",
          "job_10",
          "job_11",
          "job_12",
          "job_13",
          "job_14",
          "job_15",
          "job_16",
          "job_17",
          "job_18",
          "job_19",
          "job_20",
          "job_21",
          "job_22",
          "job_23",
          "job_24",
          "job_25",
          "job_26",
          "job_27",
          "job_28",
          "job_29",
          "job_30",
          "job_31",
          "job_32",
          "job_33",
          "job_34",
          "job_35",
          "job_36",
          "job_37",
          "job_38",
          "job_39",
          "job_40",
          "job_41",
          "job_42",
          "job_43",
          "job_44",
          "job_45",
          "job_46",
          "job_47",
          "job_48",
          "job_49",
          "job_50"
         ],
         "yaxis": "y"
        },
        {
         "alignmentgroup": "True",
         "base": [
          "2022-01-01T00:53:38",
          "2022-01-01T01:20:05",
          "2022-01-01T01:53:56",
          "2022-01-01T02:02:24",
          "2022-01-01T00:30:34",
          "2022-01-01T01:28:17",
          "2022-01-01T01:24:06",
          "2022-01-01T02:06:25",
          "2022-01-01T01:22:39",
          "2022-01-01T00:54:42",
          "2022-01-01T02:00:26",
          "2022-01-01T01:25:46",
          "2022-01-01T02:43:45",
          "2022-01-01T02:20:01",
          "2022-01-01T01:33:11",
          "2022-01-01T00:52:20",
          "2022-01-01T01:19:18",
          "2022-01-01T01:35:39",
          "2022-01-01T02:07:43",
          "2022-01-01T01:48:34",
          "2022-01-01T02:09:30",
          "2022-01-01T01:48:01",
          "2022-01-01T01:15:09",
          "2022-01-01T02:23:36",
          "2022-01-01T01:35:43",
          "2022-01-01T02:18:52",
          "2022-01-01T01:04:41",
          "2022-01-01T02:23:57",
          "2022-01-01T02:11:37",
          "2022-01-01T01:26:26",
          "2022-01-01T01:58:23",
          "2022-01-01T01:09:17",
          "2022-01-01T02:15:58",
          "2022-01-01T01:42:02",
          "2022-01-01T01:03:13",
          "2022-01-01T01:07:05",
          "2022-01-01T01:12:09",
          "2022-01-01T02:21:37",
          "2022-01-01T01:53:10",
          "2022-01-01T01:16:11",
          "2022-01-01T01:13:38",
          "2022-01-01T02:13:07",
          "2022-01-01T02:30:01",
          "2022-01-01T01:40:30",
          "2022-01-01T01:00:30",
          "2022-01-01T01:50:17",
          "2022-01-01T01:25:11",
          "2022-01-01T01:23:19",
          "2022-01-01T01:46:58",
          "2022-01-01T02:45:23"
         ],
         "hovertemplate": "Machine=machine_14<br>Start=%{base}<br>Finish=%{x}<br>Job=%{y}<extra></extra>",
         "legendgroup": "machine_14",
         "marker": {
          "color": "#00cc96",
          "pattern": {
           "shape": ""
          }
         },
         "name": "machine_14",
         "offsetgroup": "machine_14",
         "orientation": "h",
         "showlegend": true,
         "textposition": "auto",
         "type": "bar",
         "x": [
          63000,
          25000,
          127000,
          49000,
          190000,
          24000,
          64000,
          69000,
          39000,
          123000,
          117000,
          39000,
          39000,
          95000,
          147000,
          77000,
          46000,
          3000,
          106000,
          90000,
          126000,
          32000,
          54000,
          20000,
          12000,
          68000,
          115000,
          161000,
          89000,
          43000,
          122000,
          171000,
          173000,
          185000,
          65000,
          19000,
          88000,
          118000,
          45000,
          186000,
          20000,
          170000,
          50000,
          65000,
          74000,
          172000,
          34000,
          46000,
          62000,
          146000
         ],
         "xaxis": "x",
         "y": [
          "job_01",
          "job_02",
          "job_03",
          "job_04",
          "job_05",
          "job_06",
          "job_07",
          "job_08",
          "job_09",
          "job_10",
          "job_11",
          "job_12",
          "job_13",
          "job_14",
          "job_15",
          "job_16",
          "job_17",
          "job_18",
          "job_19",
          "job_20",
          "job_21",
          "job_22",
          "job_23",
          "job_24",
          "job_25",
          "job_26",
          "job_27",
          "job_28",
          "job_29",
          "job_30",
          "job_31",
          "job_32",
          "job_33",
          "job_34",
          "job_35",
          "job_36",
          "job_37",
          "job_38",
          "job_39",
          "job_40",
          "job_41",
          "job_42",
          "job_43",
          "job_44",
          "job_45",
          "job_46",
          "job_47",
          "job_48",
          "job_49",
          "job_50"
         ],
         "yaxis": "y"
        },
        {
         "alignmentgroup": "True",
         "base": [
          "2022-01-01T01:13:42",
          "2022-01-01T01:50:54",
          "2022-01-01T02:42:54",
          "2022-01-01T02:01:41",
          "2022-01-01T00:36:40",
          "2022-01-01T02:01:19",
          "2022-01-01T01:25:52",
          "2022-01-01T02:14:25",
          "2022-01-01T02:20:31",
          "2022-01-01T01:06:01",
          "2022-01-01T01:35:06",
          "2022-01-01T01:14:13",
          "2022-01-01T02:11:26",
          "2022-01-01T01:54:17",
          "2022-01-01T01:57:04",
          "2022-01-01T01:03:58",
          "2022-01-01T01:12:29",
          "2022-01-01T02:14:27",
          "2022-01-01T02:19:37",
          "2022-01-01T02:15:21",
          "2022-01-01T01:28:22",
          "2022-01-01T01:23:07",
          "2022-01-01T02:13:44",
          "2022-01-01T01:47:16",
          "2022-01-01T01:32:17",
          "2022-01-01T02:01:51",
          "2022-01-01T01:02:38",
          "2022-01-01T01:56:22",
          "2022-01-01T01:57:20",
          "2022-01-01T01:22:49",
          "2022-01-01T01:38:14",
          "2022-01-01T01:40:03",
          "2022-01-01T01:44:09",
          "2022-01-01T02:18:27",
          "2022-01-01T01:17:26",
          "2022-01-01T01:53:23",
          "2022-01-01T01:20:13",
          "2022-01-01T02:23:36",
          "2022-01-01T02:03:23",
          "2022-01-01T02:30:20",
          "2022-01-01T01:40:25",
          "2022-01-01T00:50:49",
          "2022-01-01T01:47:41",
          "2022-01-01T02:08:49",
          "2022-01-01T02:09:49",
          "2022-01-01T01:42:47",
          "2022-01-01T01:29:35",
          "2022-01-01T02:05:40",
          "2022-01-01T01:10:17",
          "2022-01-01T01:59:47"
         ],
         "hovertemplate": "Machine=machine_18<br>Start=%{base}<br>Finish=%{x}<br>Job=%{y}<extra></extra>",
         "legendgroup": "machine_18",
         "marker": {
          "color": "#ab63fa",
          "pattern": {
           "shape": ""
          }
         },
         "name": "machine_18",
         "offsetgroup": "machine_18",
         "orientation": "h",
         "showlegend": true,
         "textposition": "auto",
         "type": "bar",
         "x": [
          30000,
          148000,
          186000,
          9000,
          148000,
          21000,
          149000,
          1000,
          136000,
          23000,
          187000,
          192000,
          137000,
          124000,
          15000,
          122000,
          72000,
          53000,
          53000,
          185000,
          72000,
          164000,
          40000,
          24000,
          168000,
          91000,
          16000,
          41000,
          146000,
          17000,
          108000,
          21000,
          186000,
          69000,
          166000,
          53000,
          155000,
          154000,
          136000,
          134000,
          141000,
          121000,
          192000,
          59000,
          96000,
          81000,
          161000,
          188000,
          131000,
          91000
         ],
         "xaxis": "x",
         "y": [
          "job_01",
          "job_02",
          "job_03",
          "job_04",
          "job_05",
          "job_06",
          "job_07",
          "job_08",
          "job_09",
          "job_10",
          "job_11",
          "job_12",
          "job_13",
          "job_14",
          "job_15",
          "job_16",
          "job_17",
          "job_18",
          "job_19",
          "job_20",
          "job_21",
          "job_22",
          "job_23",
          "job_24",
          "job_25",
          "job_26",
          "job_27",
          "job_28",
          "job_29",
          "job_30",
          "job_31",
          "job_32",
          "job_33",
          "job_34",
          "job_35",
          "job_36",
          "job_37",
          "job_38",
          "job_39",
          "job_40",
          "job_41",
          "job_42",
          "job_43",
          "job_44",
          "job_45",
          "job_46",
          "job_47",
          "job_48",
          "job_49",
          "job_50"
         ],
         "yaxis": "y"
        },
        {
         "alignmentgroup": "True",
         "base": [
          "2022-01-01T01:58:22",
          "2022-01-01T01:16:59",
          "2022-01-01T02:40:05",
          "2022-01-01T01:57:08",
          "2022-01-01T00:34:27",
          "2022-01-01T02:18:04",
          "2022-01-01T01:09:32",
          "2022-01-01T01:21:07",
          "2022-01-01T01:29:41",
          "2022-01-01T01:07:09",
          "2022-01-01T02:00:19",
          "2022-01-01T01:28:07",
          "2022-01-01T02:36:03",
          "2022-01-01T01:31:52",
          "2022-01-01T01:12:57",
          "2022-01-01T00:54:33",
          "2022-01-01T01:03:50",
          "2022-01-01T02:38:27",
          "2022-01-01T02:40:00",
          "2022-01-01T01:53:35",
          "2022-01-01T01:43:23",
          "2022-01-01T01:45:49",
          "2022-01-01T01:36:08",
          "2022-01-01T02:28:26",
          "2022-01-01T01:20:35",
          "2022-01-01T02:23:06",
          "2022-01-01T00:59:02",
          "2022-01-01T02:36:41",
          "2022-01-01T02:19:45",
          "2022-01-01T02:14:44",
          "2022-01-01T01:40:03",
          "2022-01-01T02:02:57",
          "2022-01-01T02:30:29",
          "2022-01-01T01:15:47",
          "2022-01-01T01:25:12",
          "2022-01-01T01:17:58",
          "2022-01-01T01:08:22",
          "2022-01-01T02:33:32",
          "2022-01-01T01:38:36",
          "2022-01-01T01:42:06",
          "2022-01-01T01:26:08",
          "2022-01-01T02:18:56",
          "2022-01-01T02:38:11",
          "2022-01-01T02:18:48",
          "2022-01-01T02:33:47",
          "2022-01-01T01:10:10",
          "2022-01-01T01:11:49",
          "2022-01-01T02:25:11",
          "2022-01-01T01:14:53",
          "2022-01-01T02:42:54"
         ],
         "hovertemplate": "Machine=machine_11<br>Start=%{base}<br>Finish=%{x}<br>Job=%{y}<extra></extra>",
         "legendgroup": "machine_11",
         "marker": {
          "color": "#FFA15A",
          "pattern": {
           "shape": ""
          }
         },
         "name": "machine_11",
         "offsetgroup": "machine_11",
         "orientation": "h",
         "showlegend": true,
         "textposition": "auto",
         "type": "bar",
         "x": [
          55000,
          58000,
          168000,
          73000,
          132000,
          43000,
          37000,
          109000,
          116000,
          72000,
          1000,
          55000,
          37000,
          171000,
          115000,
          185000,
          198000,
          92000,
          4000,
          65000,
          139000,
          119000,
          147000,
          122000,
          31000,
          124000,
          153000,
          89000,
          184000,
          199000,
          88000,
          83000,
          182000,
          71000,
          6000,
          156000,
          69000,
          14000,
          73000,
          69000,
          118000,
          48000,
          15000,
          7000,
          135000,
          98000,
          67000,
          194000,
          53000,
          148000
         ],
         "xaxis": "x",
         "y": [
          "job_01",
          "job_02",
          "job_03",
          "job_04",
          "job_05",
          "job_06",
          "job_07",
          "job_08",
          "job_09",
          "job_10",
          "job_11",
          "job_12",
          "job_13",
          "job_14",
          "job_15",
          "job_16",
          "job_17",
          "job_18",
          "job_19",
          "job_20",
          "job_21",
          "job_22",
          "job_23",
          "job_24",
          "job_25",
          "job_26",
          "job_27",
          "job_28",
          "job_29",
          "job_30",
          "job_31",
          "job_32",
          "job_33",
          "job_34",
          "job_35",
          "job_36",
          "job_37",
          "job_38",
          "job_39",
          "job_40",
          "job_41",
          "job_42",
          "job_43",
          "job_44",
          "job_45",
          "job_46",
          "job_47",
          "job_48",
          "job_49",
          "job_50"
         ],
         "yaxis": "y"
        },
        {
         "alignmentgroup": "True",
         "base": [
          "2022-01-01T01:54:51",
          "2022-01-01T01:36:37",
          "2022-01-01T02:08:07",
          "2022-01-01T01:48:28",
          "2022-01-01T00:46:27",
          "2022-01-01T02:08:15",
          "2022-01-01T01:45:49",
          "2022-01-01T01:27:38",
          "2022-01-01T01:23:34",
          "2022-01-01T00:52:20",
          "2022-01-01T02:12:39",
          "2022-01-01T01:39:45",
          "2022-01-01T01:29:56",
          "2022-01-01T02:11:02",
          "2022-01-01T01:06:27",
          "2022-01-01T00:51:19",
          "2022-01-01T01:08:44",
          "2022-01-01T02:30:20",
          "2022-01-01T02:03:14",
          "2022-01-01T01:39:44",
          "2022-01-01T02:05:12",
          "2022-01-01T01:42:39",
          "2022-01-01T01:22:04",
          "2022-01-01T01:51:40",
          "2022-01-01T02:17:41",
          "2022-01-01T01:57:28",
          "2022-01-01T01:04:36",
          "2022-01-01T01:19:21",
          "2022-01-01T01:24:18",
          "2022-01-01T02:10:03",
          "2022-01-01T02:21:21",
          "2022-01-01T01:14:25",
          "2022-01-01T02:26:03",
          "2022-01-01T01:11:34",
          "2022-01-01T01:23:59",
          "2022-01-01T01:32:38",
          "2022-01-01T01:49:54",
          "2022-01-01T02:15:25",
          "2022-01-01T01:46:50",
          "2022-01-01T02:30:01",
          "2022-01-01T01:22:05",
          "2022-01-01T02:00:45",
          "2022-01-01T02:29:30",
          "2022-01-01T02:33:17",
          "2022-01-01T02:23:36",
          "2022-01-01T01:16:15",
          "2022-01-01T01:35:50",
          "2022-01-01T02:18:41",
          "2022-01-01T01:37:51",
          "2022-01-01T02:26:22"
         ],
         "hovertemplate": "Machine=machine_17<br>Start=%{base}<br>Finish=%{x}<br>Job=%{y}<extra></extra>",
         "legendgroup": "machine_17",
         "marker": {
          "color": "#19d3f3",
          "pattern": {
           "shape": ""
          }
         },
         "name": "machine_17",
         "offsetgroup": "machine_17",
         "orientation": "h",
         "showlegend": true,
         "textposition": "auto",
         "type": "bar",
         "x": [
          156000,
          73000,
          7000,
          85000,
          193000,
          107000,
          60000,
          137000,
          24000,
          120000,
          165000,
          173000,
          161000,
          96000,
          136000,
          60000,
          169000,
          176000,
          117000,
          0,
          174000,
          189000,
          0,
          190000,
          59000,
          196000,
          4000,
          162000,
          199000,
          58000,
          134000,
          109000,
          18000,
          170000,
          18000,
          191000,
          105000,
          135000,
          97000,
          18000,
          88000,
          148000,
          30000,
          78000,
          146000,
          185000,
          46000,
          159000,
          112000,
          187000
         ],
         "xaxis": "x",
         "y": [
          "job_01",
          "job_02",
          "job_03",
          "job_04",
          "job_05",
          "job_06",
          "job_07",
          "job_08",
          "job_09",
          "job_10",
          "job_11",
          "job_12",
          "job_13",
          "job_14",
          "job_15",
          "job_16",
          "job_17",
          "job_18",
          "job_19",
          "job_20",
          "job_21",
          "job_22",
          "job_23",
          "job_24",
          "job_25",
          "job_26",
          "job_27",
          "job_28",
          "job_29",
          "job_30",
          "job_31",
          "job_32",
          "job_33",
          "job_34",
          "job_35",
          "job_36",
          "job_37",
          "job_38",
          "job_39",
          "job_40",
          "job_41",
          "job_42",
          "job_43",
          "job_44",
          "job_45",
          "job_46",
          "job_47",
          "job_48",
          "job_49",
          "job_50"
         ],
         "yaxis": "y"
        },
        {
         "alignmentgroup": "True",
         "base": [
          "2022-01-01T00:26:56",
          "2022-01-01T01:12:27",
          "2022-01-01T00:32:42",
          "2022-01-01T00:49:58",
          "2022-01-01T00:30:33",
          "2022-01-01T01:27:53",
          "2022-01-01T00:15:59",
          "2022-01-01T00:35:49",
          "2022-01-01T00:05:34",
          "2022-01-01T00:44:14",
          "2022-01-01T00:28:41",
          "2022-01-01T00:53:20",
          "2022-01-01T00:57:50",
          "2022-01-01T00:09:47",
          "2022-01-01T00:32:58",
          "2022-01-01T00:14:54",
          "2022-01-01T00:47:07",
          "2022-01-01T00:31:37",
          "2022-01-01T01:35:27",
          "2022-01-01T01:17:21",
          "2022-01-01T01:09:17",
          "2022-01-01T00:39:00",
          "2022-01-01T00:29:30",
          "2022-01-01T01:03:26",
          "2022-01-01T00:25:59",
          "2022-01-01T01:24:34",
          "2022-01-01T00:23:37",
          "2022-01-01T00:59:23",
          "2022-01-01T00:22:14",
          "2022-01-01T01:01:53",
          "2022-01-01T01:17:06",
          "2022-01-01T00:55:13",
          "2022-01-01T01:22:14",
          "2022-01-01T01:09:01",
          "2022-01-01T00:18:46",
          "2022-01-01T01:05:18",
          "2022-01-01T00:00:01",
          "2022-01-01T00:00:34",
          "2022-01-01T01:19:16",
          "2022-01-01T01:07:05",
          "2022-01-01T00:21:23",
          "2022-01-01T00:30:34",
          "2022-01-01T01:36:30",
          "2022-01-01T00:22:01",
          "2022-01-01T00:34:19",
          "2022-01-01T00:50:53",
          "2022-01-01T00:30:18",
          "2022-01-01T01:13:55",
          "2022-01-01T00:08:44",
          "2022-01-01T00:02:21"
         ],
         "hovertemplate": "Machine=machine_01<br>Start=%{base}<br>Finish=%{x}<br>Job=%{y}<extra></extra>",
         "legendgroup": "machine_01",
         "marker": {
          "color": "#FF6692",
          "pattern": {
           "shape": ""
          }
         },
         "name": "machine_01",
         "offsetgroup": "machine_01",
         "orientation": "h",
         "showlegend": true,
         "textposition": "auto",
         "type": "bar",
         "x": [
          104000,
          87000,
          15000,
          43000,
          0,
          23000,
          166000,
          108000,
          189000,
          38000,
          48000,
          112000,
          92000,
          106000,
          56000,
          64000,
          82000,
          64000,
          62000,
          42000,
          189000,
          136000,
          47000,
          111000,
          35000,
          198000,
          141000,
          149000,
          3000,
          92000,
          14000,
          156000,
          139000,
          15000,
          6000,
          106000,
          32000,
          106000,
          177000,
          115000,
          37000,
          62000,
          196000,
          0,
          16000,
          35000,
          14000,
          190000,
          42000,
          192000
         ],
         "xaxis": "x",
         "y": [
          "job_01",
          "job_02",
          "job_03",
          "job_04",
          "job_05",
          "job_06",
          "job_07",
          "job_08",
          "job_09",
          "job_10",
          "job_11",
          "job_12",
          "job_13",
          "job_14",
          "job_15",
          "job_16",
          "job_17",
          "job_18",
          "job_19",
          "job_20",
          "job_21",
          "job_22",
          "job_23",
          "job_24",
          "job_25",
          "job_26",
          "job_27",
          "job_28",
          "job_29",
          "job_30",
          "job_31",
          "job_32",
          "job_33",
          "job_34",
          "job_35",
          "job_36",
          "job_37",
          "job_38",
          "job_39",
          "job_40",
          "job_41",
          "job_42",
          "job_43",
          "job_44",
          "job_45",
          "job_46",
          "job_47",
          "job_48",
          "job_49",
          "job_50"
         ],
         "yaxis": "y"
        },
        {
         "alignmentgroup": "True",
         "base": [
          "2022-01-01T00:50:40",
          "2022-01-01T00:00:01",
          "2022-01-01T00:48:10",
          "2022-01-01T00:30:04",
          "2022-01-01T00:16:02",
          "2022-01-01T00:21:05",
          "2022-01-01T00:56:10",
          "2022-01-01T01:02:43",
          "2022-01-01T01:10:56",
          "2022-01-01T00:43:08",
          "2022-01-01T00:33:00",
          "2022-01-01T00:30:13",
          "2022-01-01T00:49:15",
          "2022-01-01T00:12:36",
          "2022-01-01T00:10:29",
          "2022-01-01T00:02:39",
          "2022-01-01T00:26:08",
          "2022-01-01T00:52:49",
          "2022-01-01T01:28:19",
          "2022-01-01T00:23:27",
          "2022-01-01T00:45:50",
          "2022-01-01T00:03:34",
          "2022-01-01T00:04:14",
          "2022-01-01T00:27:31",
          "2022-01-01T01:07:18",
          "2022-01-01T01:19:23",
          "2022-01-01T00:44:14",
          "2022-01-01T01:03:00",
          "2022-01-01T01:08:21",
          "2022-01-01T00:58:31",
          "2022-01-01T00:33:20",
          "2022-01-01T00:16:41",
          "2022-01-01T00:42:07",
          "2022-01-01T00:07:08",
          "2022-01-01T00:55:08",
          "2022-01-01T01:01:48",
          "2022-01-01T00:14:19",
          "2022-01-01T00:47:59",
          "2022-01-01T00:19:19",
          "2022-01-01T01:13:49",
          "2022-01-01T00:08:22",
          "2022-01-01T00:28:40",
          "2022-01-01T00:54:54",
          "2022-01-01T00:53:05",
          "2022-01-01T00:35:35",
          "2022-01-01T00:37:14",
          "2022-01-01T00:39:19",
          "2022-01-01T00:07:59",
          "2022-01-01T01:04:33",
          "2022-01-01T00:47:09"
         ],
         "hovertemplate": "Machine=machine_07<br>Start=%{base}<br>Finish=%{x}<br>Job=%{y}<extra></extra>",
         "legendgroup": "machine_07",
         "marker": {
          "color": "#B6E880",
          "pattern": {
           "shape": ""
          }
         },
         "name": "machine_07",
         "offsetgroup": "machine_07",
         "orientation": "h",
         "showlegend": true,
         "textposition": "auto",
         "type": "bar",
         "x": [
          128000,
          157000,
          64000,
          8000,
          38000,
          141000,
          140000,
          16000,
          172000,
          65000,
          19000,
          166000,
          84000,
          102000,
          126000,
          54000,
          82000,
          15000,
          127000,
          160000,
          78000,
          39000,
          173000,
          68000,
          62000,
          140000,
          95000,
          92000,
          154000,
          173000,
          134000,
          157000,
          60000,
          50000,
          61000,
          54000,
          102000,
          10000,
          105000,
          141000,
          126000,
          83000,
          13000,
          108000,
          98000,
          124000,
          167000,
          22000,
          164000,
          49000
         ],
         "xaxis": "x",
         "y": [
          "job_01",
          "job_02",
          "job_03",
          "job_04",
          "job_05",
          "job_06",
          "job_07",
          "job_08",
          "job_09",
          "job_10",
          "job_11",
          "job_12",
          "job_13",
          "job_14",
          "job_15",
          "job_16",
          "job_17",
          "job_18",
          "job_19",
          "job_20",
          "job_21",
          "job_22",
          "job_23",
          "job_24",
          "job_25",
          "job_26",
          "job_27",
          "job_28",
          "job_29",
          "job_30",
          "job_31",
          "job_32",
          "job_33",
          "job_34",
          "job_35",
          "job_36",
          "job_37",
          "job_38",
          "job_39",
          "job_40",
          "job_41",
          "job_42",
          "job_43",
          "job_44",
          "job_45",
          "job_46",
          "job_47",
          "job_48",
          "job_49",
          "job_50"
         ],
         "yaxis": "y"
        },
        {
         "alignmentgroup": "True",
         "base": [
          "2022-01-01T00:31:24",
          "2022-01-01T00:35:49",
          "2022-01-01T00:27:08",
          "2022-01-01T01:28:04",
          "2022-01-01T00:00:01",
          "2022-01-01T01:11:52",
          "2022-01-01T00:30:26",
          "2022-01-01T00:35:18",
          "2022-01-01T01:19:57",
          "2022-01-01T00:25:15",
          "2022-01-01T00:23:37",
          "2022-01-01T00:58:54",
          "2022-01-01T01:11:36",
          "2022-01-01T01:23:19",
          "2022-01-01T01:03:07",
          "2022-01-01T00:06:40",
          "2022-01-01T00:46:35",
          "2022-01-01T01:22:39",
          "2022-01-01T00:12:42",
          "2022-01-01T00:38:22",
          "2022-01-01T01:01:50",
          "2022-01-01T00:15:45",
          "2022-01-01T00:51:30",
          "2022-01-01T01:26:09",
          "2022-01-01T00:03:48",
          "2022-01-01T01:14:56",
          "2022-01-01T00:21:53",
          "2022-01-01T00:09:30",
          "2022-01-01T00:38:47",
          "2022-01-01T01:12:12",
          "2022-01-01T01:06:27",
          "2022-01-01T00:45:14",
          "2022-01-01T01:17:09",
          "2022-01-01T00:54:00",
          "2022-01-01T00:33:41",
          "2022-01-01T00:18:44",
          "2022-01-01T00:40:52",
          "2022-01-01T01:27:30",
          "2022-01-01T00:57:13",
          "2022-01-01T00:50:10",
          "2022-01-01T01:09:13",
          "2022-01-01T00:41:58",
          "2022-01-01T01:31:46",
          "2022-01-01T01:31:01",
          "2022-01-01T00:51:57",
          "2022-01-01T00:47:07",
          "2022-01-01T00:19:12",
          "2022-01-01T00:47:14",
          "2022-01-01T00:02:44",
          "2022-01-01T01:32:02"
         ],
         "hovertemplate": "Machine=machine_05<br>Start=%{base}<br>Finish=%{x}<br>Job=%{y}<extra></extra>",
         "legendgroup": "machine_05",
         "marker": {
          "color": "#FF97FF",
          "pattern": {
           "shape": ""
          }
         },
         "name": "machine_05",
         "offsetgroup": "machine_05",
         "orientation": "h",
         "showlegend": true,
         "textposition": "auto",
         "type": "bar",
         "x": [
          136000,
          152000,
          197000,
          176000,
          162000,
          19000,
          57000,
          30000,
          161000,
          112000,
          97000,
          175000,
          15000,
          169000,
          199000,
          169000,
          31000,
          39000,
          182000,
          24000,
          76000,
          178000,
          26000,
          80000,
          171000,
          132000,
          103000,
          191000,
          124000,
          163000,
          165000,
          80000,
          167000,
          192000,
          96000,
          27000,
          65000,
          33000,
          100000,
          79000,
          142000,
          195000,
          15000,
          44000,
          122000,
          6000,
          160000,
          175000,
          63000,
          111000
         ],
         "xaxis": "x",
         "y": [
          "job_01",
          "job_02",
          "job_03",
          "job_04",
          "job_05",
          "job_06",
          "job_07",
          "job_08",
          "job_09",
          "job_10",
          "job_11",
          "job_12",
          "job_13",
          "job_14",
          "job_15",
          "job_16",
          "job_17",
          "job_18",
          "job_19",
          "job_20",
          "job_21",
          "job_22",
          "job_23",
          "job_24",
          "job_25",
          "job_26",
          "job_27",
          "job_28",
          "job_29",
          "job_30",
          "job_31",
          "job_32",
          "job_33",
          "job_34",
          "job_35",
          "job_36",
          "job_37",
          "job_38",
          "job_39",
          "job_40",
          "job_41",
          "job_42",
          "job_43",
          "job_44",
          "job_45",
          "job_46",
          "job_47",
          "job_48",
          "job_49",
          "job_50"
         ],
         "yaxis": "y"
        },
        {
         "alignmentgroup": "True",
         "base": [
          "2022-01-01T00:54:42",
          "2022-01-01T01:27:36",
          "2022-01-01T02:25:43",
          "2022-01-01T01:56:01",
          "2022-01-01T00:40:43",
          "2022-01-01T02:14:30",
          "2022-01-01T01:32:33",
          "2022-01-01T02:07:35",
          "2022-01-01T02:03:38",
          "2022-01-01T00:59:02",
          "2022-01-01T01:41:11",
          "2022-01-01T01:07:03",
          "2022-01-01T02:40:09",
          "2022-01-01T01:57:08",
          "2022-01-01T01:16:17",
          "2022-01-01T01:01:11",
          "2022-01-01T01:20:29",
          "2022-01-01T01:49:46",
          "2022-01-01T01:43:18",
          "2022-01-01T01:47:00",
          "2022-01-01T01:36:08",
          "2022-01-01T01:58:45",
          "2022-01-01T01:35:53",
          "2022-01-01T01:47:41",
          "2022-01-01T01:18:38",
          "2022-01-01T02:21:48",
          "2022-01-01T00:57:26",
          "2022-01-01T02:03:47",
          "2022-01-01T01:38:40",
          "2022-01-01T02:12:16",
          "2022-01-01T01:46:39",
          "2022-01-01T01:44:45",
          "2022-01-01T02:21:38",
          "2022-01-01T02:20:15",
          "2022-01-01T01:24:18",
          "2022-01-01T02:00:49",
          "2022-01-01T01:52:47",
          "2022-01-01T02:17:41",
          "2022-01-01T01:49:28",
          "2022-01-01T01:29:35",
          "2022-01-01T01:31:39",
          "2022-01-01T01:03:58",
          "2022-01-01T02:38:27",
          "2022-01-01T02:30:27",
          "2022-01-01T01:08:55",
          "2022-01-01T01:04:11",
          "2022-01-01T01:12:57",
          "2022-01-01T02:23:06",
          "2022-01-01T02:05:28",
          "2022-01-01T01:42:13"
         ],
         "hovertemplate": "Machine=machine_15<br>Start=%{base}<br>Finish=%{x}<br>Job=%{y}<extra></extra>",
         "legendgroup": "machine_15",
         "marker": {
          "color": "#FECB52",
          "pattern": {
           "shape": ""
          }
         },
         "name": "machine_15",
         "offsetgroup": "machine_15",
         "orientation": "h",
         "showlegend": true,
         "textposition": "auto",
         "type": "bar",
         "x": [
          163000,
          118000,
          182000,
          66000,
          175000,
          129000,
          199000,
          96000,
          8000,
          128000,
          61000,
          111000,
          51000,
          96000,
          30000,
          166000,
          109000,
          180000,
          38000,
          40000,
          151000,
          123000,
          14000,
          106000,
          110000,
          77000,
          95000,
          100000,
          150000,
          51000,
          13000,
          88000,
          9000,
          82000,
          53000,
          168000,
          193000,
          153000,
          17000,
          123000,
          53000,
          12000,
          101000,
          16000,
          2000,
          171000,
          199000,
          46000,
          64000,
          64000
         ],
         "xaxis": "x",
         "y": [
          "job_01",
          "job_02",
          "job_03",
          "job_04",
          "job_05",
          "job_06",
          "job_07",
          "job_08",
          "job_09",
          "job_10",
          "job_11",
          "job_12",
          "job_13",
          "job_14",
          "job_15",
          "job_16",
          "job_17",
          "job_18",
          "job_19",
          "job_20",
          "job_21",
          "job_22",
          "job_23",
          "job_24",
          "job_25",
          "job_26",
          "job_27",
          "job_28",
          "job_29",
          "job_30",
          "job_31",
          "job_32",
          "job_33",
          "job_34",
          "job_35",
          "job_36",
          "job_37",
          "job_38",
          "job_39",
          "job_40",
          "job_41",
          "job_42",
          "job_43",
          "job_44",
          "job_45",
          "job_46",
          "job_47",
          "job_48",
          "job_49",
          "job_50"
         ],
         "yaxis": "y"
        }
       ],
       "layout": {
        "barmode": "overlay",
        "legend": {
         "title": {
          "text": "Machine"
         },
         "tracegroupgap": 0
        },
        "margin": {
         "t": 60
        },
        "template": {
         "data": {
          "bar": [
           {
            "error_x": {
             "color": "#2a3f5f"
            },
            "error_y": {
             "color": "#2a3f5f"
            },
            "marker": {
             "line": {
              "color": "#E5ECF6",
              "width": 0.5
             },
             "pattern": {
              "fillmode": "overlay",
              "size": 10,
              "solidity": 0.2
             }
            },
            "type": "bar"
           }
          ],
          "barpolar": [
           {
            "marker": {
             "line": {
              "color": "#E5ECF6",
              "width": 0.5
             },
             "pattern": {
              "fillmode": "overlay",
              "size": 10,
              "solidity": 0.2
             }
            },
            "type": "barpolar"
           }
          ],
          "carpet": [
           {
            "aaxis": {
             "endlinecolor": "#2a3f5f",
             "gridcolor": "white",
             "linecolor": "white",
             "minorgridcolor": "white",
             "startlinecolor": "#2a3f5f"
            },
            "baxis": {
             "endlinecolor": "#2a3f5f",
             "gridcolor": "white",
             "linecolor": "white",
             "minorgridcolor": "white",
             "startlinecolor": "#2a3f5f"
            },
            "type": "carpet"
           }
          ],
          "choropleth": [
           {
            "colorbar": {
             "outlinewidth": 0,
             "ticks": ""
            },
            "type": "choropleth"
           }
          ],
          "contour": [
           {
            "colorbar": {
             "outlinewidth": 0,
             "ticks": ""
            },
            "colorscale": [
             [
              0,
              "#0d0887"
             ],
             [
              0.1111111111111111,
              "#46039f"
             ],
             [
              0.2222222222222222,
              "#7201a8"
             ],
             [
              0.3333333333333333,
              "#9c179e"
             ],
             [
              0.4444444444444444,
              "#bd3786"
             ],
             [
              0.5555555555555556,
              "#d8576b"
             ],
             [
              0.6666666666666666,
              "#ed7953"
             ],
             [
              0.7777777777777778,
              "#fb9f3a"
             ],
             [
              0.8888888888888888,
              "#fdca26"
             ],
             [
              1,
              "#f0f921"
             ]
            ],
            "type": "contour"
           }
          ],
          "contourcarpet": [
           {
            "colorbar": {
             "outlinewidth": 0,
             "ticks": ""
            },
            "type": "contourcarpet"
           }
          ],
          "heatmap": [
           {
            "colorbar": {
             "outlinewidth": 0,
             "ticks": ""
            },
            "colorscale": [
             [
              0,
              "#0d0887"
             ],
             [
              0.1111111111111111,
              "#46039f"
             ],
             [
              0.2222222222222222,
              "#7201a8"
             ],
             [
              0.3333333333333333,
              "#9c179e"
             ],
             [
              0.4444444444444444,
              "#bd3786"
             ],
             [
              0.5555555555555556,
              "#d8576b"
             ],
             [
              0.6666666666666666,
              "#ed7953"
             ],
             [
              0.7777777777777778,
              "#fb9f3a"
             ],
             [
              0.8888888888888888,
              "#fdca26"
             ],
             [
              1,
              "#f0f921"
             ]
            ],
            "type": "heatmap"
           }
          ],
          "heatmapgl": [
           {
            "colorbar": {
             "outlinewidth": 0,
             "ticks": ""
            },
            "colorscale": [
             [
              0,
              "#0d0887"
             ],
             [
              0.1111111111111111,
              "#46039f"
             ],
             [
              0.2222222222222222,
              "#7201a8"
             ],
             [
              0.3333333333333333,
              "#9c179e"
             ],
             [
              0.4444444444444444,
              "#bd3786"
             ],
             [
              0.5555555555555556,
              "#d8576b"
             ],
             [
              0.6666666666666666,
              "#ed7953"
             ],
             [
              0.7777777777777778,
              "#fb9f3a"
             ],
             [
              0.8888888888888888,
              "#fdca26"
             ],
             [
              1,
              "#f0f921"
             ]
            ],
            "type": "heatmapgl"
           }
          ],
          "histogram": [
           {
            "marker": {
             "pattern": {
              "fillmode": "overlay",
              "size": 10,
              "solidity": 0.2
             }
            },
            "type": "histogram"
           }
          ],
          "histogram2d": [
           {
            "colorbar": {
             "outlinewidth": 0,
             "ticks": ""
            },
            "colorscale": [
             [
              0,
              "#0d0887"
             ],
             [
              0.1111111111111111,
              "#46039f"
             ],
             [
              0.2222222222222222,
              "#7201a8"
             ],
             [
              0.3333333333333333,
              "#9c179e"
             ],
             [
              0.4444444444444444,
              "#bd3786"
             ],
             [
              0.5555555555555556,
              "#d8576b"
             ],
             [
              0.6666666666666666,
              "#ed7953"
             ],
             [
              0.7777777777777778,
              "#fb9f3a"
             ],
             [
              0.8888888888888888,
              "#fdca26"
             ],
             [
              1,
              "#f0f921"
             ]
            ],
            "type": "histogram2d"
           }
          ],
          "histogram2dcontour": [
           {
            "colorbar": {
             "outlinewidth": 0,
             "ticks": ""
            },
            "colorscale": [
             [
              0,
              "#0d0887"
             ],
             [
              0.1111111111111111,
              "#46039f"
             ],
             [
              0.2222222222222222,
              "#7201a8"
             ],
             [
              0.3333333333333333,
              "#9c179e"
             ],
             [
              0.4444444444444444,
              "#bd3786"
             ],
             [
              0.5555555555555556,
              "#d8576b"
             ],
             [
              0.6666666666666666,
              "#ed7953"
             ],
             [
              0.7777777777777778,
              "#fb9f3a"
             ],
             [
              0.8888888888888888,
              "#fdca26"
             ],
             [
              1,
              "#f0f921"
             ]
            ],
            "type": "histogram2dcontour"
           }
          ],
          "mesh3d": [
           {
            "colorbar": {
             "outlinewidth": 0,
             "ticks": ""
            },
            "type": "mesh3d"
           }
          ],
          "parcoords": [
           {
            "line": {
             "colorbar": {
              "outlinewidth": 0,
              "ticks": ""
             }
            },
            "type": "parcoords"
           }
          ],
          "pie": [
           {
            "automargin": true,
            "type": "pie"
           }
          ],
          "scatter": [
           {
            "fillpattern": {
             "fillmode": "overlay",
             "size": 10,
             "solidity": 0.2
            },
            "type": "scatter"
           }
          ],
          "scatter3d": [
           {
            "line": {
             "colorbar": {
              "outlinewidth": 0,
              "ticks": ""
             }
            },
            "marker": {
             "colorbar": {
              "outlinewidth": 0,
              "ticks": ""
             }
            },
            "type": "scatter3d"
           }
          ],
          "scattercarpet": [
           {
            "marker": {
             "colorbar": {
              "outlinewidth": 0,
              "ticks": ""
             }
            },
            "type": "scattercarpet"
           }
          ],
          "scattergeo": [
           {
            "marker": {
             "colorbar": {
              "outlinewidth": 0,
              "ticks": ""
             }
            },
            "type": "scattergeo"
           }
          ],
          "scattergl": [
           {
            "marker": {
             "colorbar": {
              "outlinewidth": 0,
              "ticks": ""
             }
            },
            "type": "scattergl"
           }
          ],
          "scattermapbox": [
           {
            "marker": {
             "colorbar": {
              "outlinewidth": 0,
              "ticks": ""
             }
            },
            "type": "scattermapbox"
           }
          ],
          "scatterpolar": [
           {
            "marker": {
             "colorbar": {
              "outlinewidth": 0,
              "ticks": ""
             }
            },
            "type": "scatterpolar"
           }
          ],
          "scatterpolargl": [
           {
            "marker": {
             "colorbar": {
              "outlinewidth": 0,
              "ticks": ""
             }
            },
            "type": "scatterpolargl"
           }
          ],
          "scatterternary": [
           {
            "marker": {
             "colorbar": {
              "outlinewidth": 0,
              "ticks": ""
             }
            },
            "type": "scatterternary"
           }
          ],
          "surface": [
           {
            "colorbar": {
             "outlinewidth": 0,
             "ticks": ""
            },
            "colorscale": [
             [
              0,
              "#0d0887"
             ],
             [
              0.1111111111111111,
              "#46039f"
             ],
             [
              0.2222222222222222,
              "#7201a8"
             ],
             [
              0.3333333333333333,
              "#9c179e"
             ],
             [
              0.4444444444444444,
              "#bd3786"
             ],
             [
              0.5555555555555556,
              "#d8576b"
             ],
             [
              0.6666666666666666,
              "#ed7953"
             ],
             [
              0.7777777777777778,
              "#fb9f3a"
             ],
             [
              0.8888888888888888,
              "#fdca26"
             ],
             [
              1,
              "#f0f921"
             ]
            ],
            "type": "surface"
           }
          ],
          "table": [
           {
            "cells": {
             "fill": {
              "color": "#EBF0F8"
             },
             "line": {
              "color": "white"
             }
            },
            "header": {
             "fill": {
              "color": "#C8D4E3"
             },
             "line": {
              "color": "white"
             }
            },
            "type": "table"
           }
          ]
         },
         "layout": {
          "annotationdefaults": {
           "arrowcolor": "#2a3f5f",
           "arrowhead": 0,
           "arrowwidth": 1
          },
          "autotypenumbers": "strict",
          "coloraxis": {
           "colorbar": {
            "outlinewidth": 0,
            "ticks": ""
           }
          },
          "colorscale": {
           "diverging": [
            [
             0,
             "#8e0152"
            ],
            [
             0.1,
             "#c51b7d"
            ],
            [
             0.2,
             "#de77ae"
            ],
            [
             0.3,
             "#f1b6da"
            ],
            [
             0.4,
             "#fde0ef"
            ],
            [
             0.5,
             "#f7f7f7"
            ],
            [
             0.6,
             "#e6f5d0"
            ],
            [
             0.7,
             "#b8e186"
            ],
            [
             0.8,
             "#7fbc41"
            ],
            [
             0.9,
             "#4d9221"
            ],
            [
             1,
             "#276419"
            ]
           ],
           "sequential": [
            [
             0,
             "#0d0887"
            ],
            [
             0.1111111111111111,
             "#46039f"
            ],
            [
             0.2222222222222222,
             "#7201a8"
            ],
            [
             0.3333333333333333,
             "#9c179e"
            ],
            [
             0.4444444444444444,
             "#bd3786"
            ],
            [
             0.5555555555555556,
             "#d8576b"
            ],
            [
             0.6666666666666666,
             "#ed7953"
            ],
            [
             0.7777777777777778,
             "#fb9f3a"
            ],
            [
             0.8888888888888888,
             "#fdca26"
            ],
            [
             1,
             "#f0f921"
            ]
           ],
           "sequentialminus": [
            [
             0,
             "#0d0887"
            ],
            [
             0.1111111111111111,
             "#46039f"
            ],
            [
             0.2222222222222222,
             "#7201a8"
            ],
            [
             0.3333333333333333,
             "#9c179e"
            ],
            [
             0.4444444444444444,
             "#bd3786"
            ],
            [
             0.5555555555555556,
             "#d8576b"
            ],
            [
             0.6666666666666666,
             "#ed7953"
            ],
            [
             0.7777777777777778,
             "#fb9f3a"
            ],
            [
             0.8888888888888888,
             "#fdca26"
            ],
            [
             1,
             "#f0f921"
            ]
           ]
          },
          "colorway": [
           "#636efa",
           "#EF553B",
           "#00cc96",
           "#ab63fa",
           "#FFA15A",
           "#19d3f3",
           "#FF6692",
           "#B6E880",
           "#FF97FF",
           "#FECB52"
          ],
          "font": {
           "color": "#2a3f5f"
          },
          "geo": {
           "bgcolor": "white",
           "lakecolor": "white",
           "landcolor": "#E5ECF6",
           "showlakes": true,
           "showland": true,
           "subunitcolor": "white"
          },
          "hoverlabel": {
           "align": "left"
          },
          "hovermode": "closest",
          "mapbox": {
           "style": "light"
          },
          "paper_bgcolor": "white",
          "plot_bgcolor": "#E5ECF6",
          "polar": {
           "angularaxis": {
            "gridcolor": "white",
            "linecolor": "white",
            "ticks": ""
           },
           "bgcolor": "#E5ECF6",
           "radialaxis": {
            "gridcolor": "white",
            "linecolor": "white",
            "ticks": ""
           }
          },
          "scene": {
           "xaxis": {
            "backgroundcolor": "#E5ECF6",
            "gridcolor": "white",
            "gridwidth": 2,
            "linecolor": "white",
            "showbackground": true,
            "ticks": "",
            "zerolinecolor": "white"
           },
           "yaxis": {
            "backgroundcolor": "#E5ECF6",
            "gridcolor": "white",
            "gridwidth": 2,
            "linecolor": "white",
            "showbackground": true,
            "ticks": "",
            "zerolinecolor": "white"
           },
           "zaxis": {
            "backgroundcolor": "#E5ECF6",
            "gridcolor": "white",
            "gridwidth": 2,
            "linecolor": "white",
            "showbackground": true,
            "ticks": "",
            "zerolinecolor": "white"
           }
          },
          "shapedefaults": {
           "line": {
            "color": "#2a3f5f"
           }
          },
          "ternary": {
           "aaxis": {
            "gridcolor": "white",
            "linecolor": "white",
            "ticks": ""
           },
           "baxis": {
            "gridcolor": "white",
            "linecolor": "white",
            "ticks": ""
           },
           "bgcolor": "#E5ECF6",
           "caxis": {
            "gridcolor": "white",
            "linecolor": "white",
            "ticks": ""
           }
          },
          "title": {
           "x": 0.05
          },
          "xaxis": {
           "automargin": true,
           "gridcolor": "white",
           "linecolor": "white",
           "ticks": "",
           "title": {
            "standoff": 15
           },
           "zerolinecolor": "white",
           "zerolinewidth": 2
          },
          "yaxis": {
           "automargin": true,
           "gridcolor": "white",
           "linecolor": "white",
           "ticks": "",
           "title": {
            "standoff": 15
           },
           "zerolinecolor": "white",
           "zerolinewidth": 2
          }
         }
        },
        "xaxis": {
         "anchor": "y",
         "domain": [
          0,
          1
         ],
         "type": "date"
        },
        "yaxis": {
         "anchor": "x",
         "domain": [
          0,
          1
         ],
         "title": {
          "text": "Job"
         }
        }
       }
      }
     },
     "metadata": {},
     "output_type": "display_data"
    }
   ],
   "source": [
    "import plotly.express as px\n",
    "x_bar=\"Machine\"\n",
    "y_bar=\"Job\"\n",
    "df.sort_values(inplace=True,by=\"Job\")\n",
    "fig = px.timeline(df, x_start=\"Start\", x_end=\"Finish\", color=x_bar, y=y_bar)\n",
    "\n",
    "fig.show()"
   ]
  },
  {
   "cell_type": "code",
   "execution_count": 4,
   "metadata": {},
   "outputs": [
    {
     "name": "stdout",
     "output_type": "stream",
     "text": [
      "10\n",
      "[False False False False False False False False False False False]\n"
     ]
    },
    {
     "ename": "IndexError",
     "evalue": "index 10 is out of bounds for axis 0 with size 10",
     "output_type": "error",
     "traceback": [
      "\u001b[0;31m---------------------------------------------------------------------------\u001b[0m",
      "\u001b[0;31mIndexError\u001b[0m                                Traceback (most recent call last)",
      "\u001b[1;32m/Users/felix/sciebo/masterarbeit/progra/model-based_rl/test_environments.ipynb Zelle 7\u001b[0m in \u001b[0;36m<cell line: 4>\u001b[0;34m()\u001b[0m\n\u001b[1;32m      <a href='vscode-notebook-cell:/Users/felix/sciebo/masterarbeit/progra/model-based_rl/test_environments.ipynb#W4sZmlsZQ%3D%3D?line=0'>1</a>\u001b[0m \u001b[39mprint\u001b[39m(action)\n\u001b[1;32m      <a href='vscode-notebook-cell:/Users/felix/sciebo/masterarbeit/progra/model-based_rl/test_environments.ipynb#W4sZmlsZQ%3D%3D?line=2'>3</a>\u001b[0m \u001b[39mprint\u001b[39m(env\u001b[39m.\u001b[39mget_legal_actions(state))\n\u001b[0;32m----> <a href='vscode-notebook-cell:/Users/felix/sciebo/masterarbeit/progra/model-based_rl/test_environments.ipynb#W4sZmlsZQ%3D%3D?line=3'>4</a>\u001b[0m \u001b[39mprint\u001b[39m(env\u001b[39m.\u001b[39mjob_machine_matrix[action,env\u001b[39m.\u001b[39;49mcount_finished_tasks_job_matrix[action]])\n\u001b[1;32m      <a href='vscode-notebook-cell:/Users/felix/sciebo/masterarbeit/progra/model-based_rl/test_environments.ipynb#W4sZmlsZQ%3D%3D?line=4'>5</a>\u001b[0m cur_machine\u001b[39m=\u001b[39menv\u001b[39m.\u001b[39mcurrent_machines_status\n\u001b[1;32m      <a href='vscode-notebook-cell:/Users/felix/sciebo/masterarbeit/progra/model-based_rl/test_environments.ipynb#W4sZmlsZQ%3D%3D?line=5'>6</a>\u001b[0m job_ma\u001b[39m=\u001b[39menv\u001b[39m.\u001b[39mjob_machine_matrix\n",
      "\u001b[0;31mIndexError\u001b[0m: index 10 is out of bounds for axis 0 with size 10"
     ]
    }
   ],
   "source": [
    "print(action)\n",
    "\n",
    "print(env.get_legal_actions(state))\n",
    "print(env.job_machine_matrix[action,env.count_finished_tasks_job_matrix[action]])\n",
    "cur_machine=env.current_machines_status\n",
    "job_ma=env.job_machine_matrix\n",
    "print(env.count_finished_tasks_job_matrix[action])\n",
    "#print(env.current_machines_status[env.job_machine_matrix[action,env.count_finished_tasks_job_matrix[action]],:])\n",
    "#print(env.job_machine_matrix[action,env.count_finished_tasks_job_matrix[action]])\n",
    "#print(env.current_machines_status)\n",
    "env.render()\n"
   ]
  },
  {
   "cell_type": "code",
   "execution_count": null,
   "metadata": {},
   "outputs": [],
   "source": [
    "import ale_py as ale\n",
    "ale.importroms('/Users/felix/sciebo/masterarbeit/progra/model-based_rl/roms/Space Invaders.bin')\n",
    "import gym\n",
    "env = gym.make('SpaceInvaders-v4')\n",
    "env.reset()\n",
    "env.render()\n"
   ]
  },
  {
   "cell_type": "code",
   "execution_count": 3,
   "metadata": {},
   "outputs": [
    {
     "name": "stdout",
     "output_type": "stream",
     "text": [
      "            setuptime  resettime  50xactiontime  col4  col5\n",
      "klagenfurt   0.000000   0.000000       0.000000   0.0   0.0\n",
      "alex         0.000000   0.000000       0.000000   0.0   0.0\n",
      "lite         0.001373   0.000762       0.107003   0.0   0.0\n"
     ]
    }
   ],
   "source": [
    "import JSSEnv\n",
    "import src.jss_graph_env.disjunctive_graph_jss_env as jss_env\n",
    "import src.jsp_instance_parser \n",
    "import time\n",
    "import gym\n",
    "import pandas as pd\n",
    "import random\n",
    "import numpy as np\n",
    "from src.jss_lite.jss_lite import jss_lite\n",
    "\n",
    "index=['klagenfurt','alex','lite']\n",
    "df=pd.DataFrame(np.zeros((3,5)),columns=['setuptime','resettime','50xactiontime','col4','col5'],index=index)\n",
    "#df=pd.DataFrame\n",
    "#df.set_index('index')\n",
    "for i in range(100):\n",
    "\n",
    "    # def timer(innerfun):\n",
    "    #     tmp_t=time.time()\n",
    "    #     tmp_r=innerfun()\n",
    "    #     return time.time()-tmp_t,tmp_r\n",
    "\n",
    "    # tmp_t=time.time()\n",
    "    # env2=gym.make('jss-v1', env_config={'instance_path': 'resources/jsp_instances/standard/abz8.txt'})\n",
    "    # t_1=(time.time()-tmp_t)\n",
    "    # df['setuptime']['klagenfurt']+=t_1/100\n",
    "    tmp_t=time.time()\n",
    "    env_3=jss_lite(instance_path='resources/jsp_instances/standard/abz8.txt')\n",
    "    t_1=time.time()-tmp_t\n",
    "    df['setuptime']['lite']+=t_1/100\n",
    "\n",
    "\n",
    "\n",
    "\n",
    "    # tmp_t=time.time()\n",
    "    # path='resources/jsp_instances/standard/abz8.txt'\n",
    "    # curr_instance=src.jsp_instance_parser.parse_jps_standard_specification(path)\n",
    "    # res,std_matrix=curr_instance\n",
    "    # env_alex = jss_env.DisjunctiveGraphJssEnv(res,default_visualisations='gantt_console')\n",
    "    # t_2=(time.time()-tmp_t)\n",
    "    # df['setuptime']['alex']+=t_2/100\n",
    "    # tmp_t=time.time()\n",
    "    # t=env2.reset()\n",
    "    # t_1=(time.time()-tmp_t)\n",
    "    # df['resettime']['klagenfurt']+=t_1/100\n",
    "    # tmp_t=time.time()\n",
    "    # t2=env_alex.reset()\n",
    "    # t_2=(time.time()-tmp_t)\n",
    "    # df['resettime']['alex']+=t_2/100\n",
    "    tmp_t=time.time()\n",
    "    t=env_3.reset()\n",
    "    t_1=(time.time()-tmp_t)\n",
    "    df['resettime']['lite']+=t_1/100\n",
    "\n",
    "\n",
    "    # state=env2.reset()\n",
    "    # for i in range(50):\n",
    "    #     legal_action=state['action_mask']\n",
    "    #     action=np.random.choice(len(legal_action), 1, p=(legal_action / legal_action.sum()))[0]\n",
    "    #     tmp_t=time.time()\n",
    "    #     state, reward, done, info=env2.step(action)\n",
    "    #     t_1=(time.time()-tmp_t)\n",
    "    #     df['50xactiontime']['klagenfurt']+=t_1/50\n",
    "\n",
    "    #     if done==True:\n",
    "    #         print(f\"finished! no legal actions possible after {i} steps\")\n",
    "    #         break\n",
    "    state=env_3.reset()\n",
    "    for i in range(50):\n",
    "        legal_action=env_3.get_legal_actions(state)\n",
    "        action=np.random.choice(len(legal_action), 1, p=(legal_action / legal_action.sum()))[0]\n",
    "        tmp_t=time.time()\n",
    "        state, reward, done, info=env_3.step(action)\n",
    "        t_1=(time.time()-tmp_t)\n",
    "        df['50xactiontime']['lite']+=t_1/50\n",
    "\n",
    "        if done==True:\n",
    "            print(f\"finished! no legal actions possible after {i} steps\")\n",
    "            break\n",
    "\n",
    "\n",
    "\n",
    "    # action_list=np.arange(0,env_alex.n_jobs*env_alex.n_machines)\n",
    "    # for i in range(50):\n",
    "    #     action_mask=env_alex.valid_action_mask()\n",
    "    #     actions=action_list[action_mask]\n",
    "    #     next_action=random.choice(actions)\n",
    "    #     #next_action=actions[action_mask[0]]\n",
    "    #     #print(next_action)\n",
    "    #     tmp_t=time.time()\n",
    "    #     state,reward,done,info =env_alex.step(next_action)\n",
    "    #     t_2=(time.time()-tmp_t)\n",
    "    #     df['50xactiontime']['alex']+=t_2/50\n",
    "    #     if done == True:\n",
    "    #         print(f\"finished after {i} steps\")\n",
    "    #         break\n",
    "        #env.render()\n",
    "\n",
    "\n",
    "print(df)\n",
    "\n"
   ]
  },
  {
   "cell_type": "code",
   "execution_count": null,
   "metadata": {},
   "outputs": [],
   "source": []
  },
  {
   "cell_type": "code",
   "execution_count": null,
   "metadata": {},
   "outputs": [],
   "source": []
  },
  {
   "cell_type": "code",
   "execution_count": null,
   "metadata": {},
   "outputs": [],
   "source": []
  },
  {
   "cell_type": "code",
   "execution_count": null,
   "metadata": {},
   "outputs": [],
   "source": []
  },
  {
   "cell_type": "code",
   "execution_count": null,
   "metadata": {},
   "outputs": [],
   "source": [
    "import resource\n",
    "import plotly.express as px\n",
    "import pandas as pd\n",
    "from datetime import datetime, timedelta\n",
    "dt = datetime(2022, 1, 1, 0, 0, 0)\n",
    "#stores quatuple(job,task,start_time,finish_time) \n",
    "time_now=time.time()\n",
    "production_list=env_3.production_list\n",
    "def production_to_dict(input,i,j):\n",
    "    return(dict(Task=f\"job_{input[0]}\", Start=dt + timedelta(seconds=int(input[2])),Finish=dt + timedelta(seconds=int(input[3])),Resource=f\"machine_{i}\"))\n",
    "df=pd.DataFrame()\n",
    "liste=[]\n",
    "for i in range(10):\n",
    "    for j in range(10):\n",
    "        if production_list[i,j] is not None:\n",
    "            liste.append(production_to_dict(production_list[i,j],i,j))\n",
    "\n",
    "df_2=pd.DataFrame(liste)\n",
    "fig = px.timeline(df_2, x_start=\"Start\", x_end=\"Finish\", y=\"Task\", color=\"Resource\")\n",
    "fig.show()\n",
    "\n",
    "df = pd.DataFrame([\n",
    "    dict(Task=\"Job A\", Start='2009-01-01', Finish='2009-02-28', Resource=\"Alex\"),\n",
    "    dict(Task=\"Job B\", Start='2009-03-05', Finish='2009-04-15', Resource=\"Alex\"),\n",
    "    dict(Task=\"Job C\", Start='2009-02-20', Finish='2009-05-30', Resource=\"Max\")\n",
    "])\n",
    "\n",
    "#fig = px.timeline(df, x_start=\"Start\", x_end=\"Finish\", y=\"Resource\", color=\"Resource\")\n",
    "#fig.show()"
   ]
  },
  {
   "cell_type": "code",
   "execution_count": null,
   "metadata": {},
   "outputs": [],
   "source": []
  }
 ],
 "metadata": {
  "kernelspec": {
   "display_name": "Python 3.10.4 ('customjssp')",
   "language": "python",
   "name": "python3"
  },
  "language_info": {
   "codemirror_mode": {
    "name": "ipython",
    "version": 3
   },
   "file_extension": ".py",
   "mimetype": "text/x-python",
   "name": "python",
   "nbconvert_exporter": "python",
   "pygments_lexer": "ipython3",
   "version": "3.10.4"
  },
  "orig_nbformat": 4,
  "vscode": {
   "interpreter": {
    "hash": "7344f7b5995cbf62a990a56ee6eec8bd53f41a3aff848cd18f1feb05905aa9e3"
   }
  }
 },
 "nbformat": 4,
 "nbformat_minor": 2
}
