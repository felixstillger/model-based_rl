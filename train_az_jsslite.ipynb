{
 "cells": [
  {
   "cell_type": "code",
   "execution_count": 1,
   "metadata": {},
   "outputs": [
    {
     "name": "stdout",
     "output_type": "stream",
     "text": [
      "myEnvla01 environment registered\n",
      "myEnvla02 environment registered\n",
      "myEnvla03 environment registered\n"
     ]
    }
   ],
   "source": [
    "from ray import rllib, tune\n",
    "import ray\n",
    "from ray.rllib.contrib.alpha_zero.core.alpha_zero_trainer import AlphaZeroTrainer\n",
    "from ray.rllib.policy.sample_batch import DEFAULT_POLICY_ID\n",
    "from ray.rllib.policy.policy_map import PolicyMap\n",
    "from ray.rllib.evaluation.episode import MultiAgentEpisode\n",
    "from ray.tune.registry import register_env\n",
    "from ray.rllib.contrib.alpha_zero.models.custom_torch_models import DenseModel\n",
    "#from src.jss_lite.custom_torch_models import DenseModel\n",
    "from ray.rllib.models.catalog import ModelCatalog\n",
    "import gym\n",
    "from src.jss_lite.jss_lite import jss_lite\n",
    "\n",
    "ModelCatalog.register_custom_model(\"dense_model\", DenseModel)\n",
    "from copy import deepcopy\n",
    "import numpy as np\n",
    "import os\n",
    "def reload_ray():\n",
    "    ray.shutdown()\n",
    "    ModelCatalog.register_custom_model(\"dense_model\", DenseModel)    \n",
    "    tune.register_env('custom_jssp',env_creator)\n",
    "    tune.register_env('custom_jssp_1',env_creator_variable_1)\n",
    "    tune.register_env('custom_jssp_2',env_creator_variable_2)\n",
    "    tune.register_env('custom_jssp_3',env_creator_variable_3)\n",
    "\n",
    "def reload_ray_parameters(list):\n",
    "    ray.shutdown()\n",
    "    def env_creator_variable_instance(config,env_name):\n",
    "        return jssp_light_obs_wrapper_multi_instances([env_name])\n",
    "    for instance_tune in list:\n",
    "        tune.register_env('myEnv'+instance_tune[-8:-4], lambda config:env_creator_variable_instance(config=config,env_name=instance_tune))\n",
    "        print(f\"{'myEnv'+instance_tune[-8:-4]} environment registered\")\n",
    "\n",
    "ray.shutdown()\n",
    "#curr_dir=(os.path.dirname(__file__))\n",
    "curr_dir='/Users/felix/sciebo/masterarbeit/progra/model-based_rl'\n",
    "instance_list_2=['/resources/jsp_instances/standard/la01.txt','/resources/jsp_instances/standard/la02.txt','/resources/jsp_instances/standard/la03.txt']\n",
    "instance_list=['/resources/jsp_instances/standard/la01.txt']\n",
    "#,'/resources/jsp_instances/standard/la04.txt','/resources/jsp_instances/standard/la05.txt'\n",
    "\n",
    "instance_list=[curr_dir + s for s in instance_list]\n",
    "\n",
    "\n",
    "instance_list_2=[curr_dir + s for s in instance_list_2]\n",
    "#instance_list=['resources/jsp_instances/standard/ft06.txt','resources/jsp_instances/standard/ft10.txt','resources/jsp_instances/standard/ft20.txt','resources/jsp_instances/standard/abz5.txt','resources/jsp_instances/standard/abz6.txt','resources/jsp_instances/standard/abz7.txt']\n",
    "#instance_list=['resources/jsp_instances/standard/ft06.txt']\n",
    "\n",
    "train_agent=False\n",
    "instance_path='resources/jsp_instances/standard/la21.txt'\n",
    "restore_agent= False\n",
    "num_episodes = 10\n",
    "restore_path= 'training_checkpoints/cluster_data/training_checkpoints/la_multi_huge/ta07/1/checkpoint-1'\n",
    "config = {\n",
    "    \"framework\": \"torch\",\n",
    "    \"disable_env_checking\":True,\n",
    "    \"num_workers\"       : 6,\n",
    "    \"rollout_fragment_length\": 50,\n",
    "    \"train_batch_size\"  : 500,\n",
    "    \"sgd_minibatch_size\": 64,\n",
    "    #\"lr\"                : 0.0001,\n",
    "    \"lr\"                : 0.001,\n",
    "    \"explore\"           :True,\n",
    "    #\"horizon\"           : 600,\n",
    "    #\"soft_horizon\"      : True,\n",
    "    \"num_sgd_iter\"      : 30,\n",
    "    #\"horizon\"           : 100,\n",
    "    \"mcts_config\"       : {\n",
    "        \"puct_coefficient\"   : 1.5,\n",
    "        \"num_simulations\"    : 100,\n",
    "        \"temperature\"        : 1.0,\n",
    "        \"dirichlet_epsilon\"  : 0.20,\n",
    "        \"dirichlet_noise\"    : 0.03,\n",
    "        \"argmax_tree_policy\" : False,\n",
    "        \"add_dirichlet_noise\": True,\n",
    "    },\n",
    "    \"ranked_rewards\"    : {\n",
    "        \"enable\": True,\n",
    "    },\n",
    "    \"model\"             : {\n",
    "        \"custom_model\": \"dense_model\",\n",
    "\n",
    "    },\n",
    "}\n",
    "\n",
    "# def env_creator(env_config):\n",
    "#     env = jss_lite(instance_path='resources/jsp_instances/standard/ft06.txt')\n",
    "#     return env\n",
    "\n",
    "from wrapper.jssplight_wrapper import jssp_light_obs_wrapper\n",
    "from wrapper.jssplight_wrapper import jssp_light_obs_wrapper_multi_instances\n",
    "\n",
    "def env_creator(config):\n",
    "    #env = jssp_light_obs_wrapper(jss_lite(instance_path=instance_path))\n",
    "    #env=jssp_light_obs_wrapper_multi_instances(instances_list=instance_list)\n",
    "    env=jssp_light_obs_wrapper_multi_instances(instances_list=[instance_path])\n",
    "\n",
    "    return env\n",
    "\n",
    "def env_creator_variable_1(config):\n",
    "    #env = jssp_light_obs_wrapper(jss_lite(instance_path=instance_path))\n",
    "    i=0\n",
    "    #print(instance_list_2[i])\n",
    "    env=jssp_light_obs_wrapper_multi_instances(instances_list=[instance_list_2[i]])\n",
    "    return env\n",
    "\n",
    "def env_creator_variable_2(config):\n",
    "    #env = jssp_light_obs_wrapper(jss_lite(instance_path=instance_path))\n",
    "    i=1\n",
    "    #print(instance_list_2[i])\n",
    "    env=jssp_light_obs_wrapper_multi_instances(instances_list=[instance_list_2[i]])\n",
    "    return env\n",
    "\n",
    "\n",
    "def env_creator_variable_3(config):\n",
    "    #env = jssp_light_obs_wrapper(jss_lite(instance_path=instance_path))\n",
    "    i=2\n",
    "    #print(instance_list_2[i])\n",
    "    env=jssp_light_obs_wrapper_multi_instances(instances_list=[instance_list_2[i]])\n",
    "    return env\n",
    "# from wrapper.jssp_wrapper_klagenfurt import jssp_klagenfurt_obs_wrapper\n",
    "# import JSSEnv\n",
    "# def env_creator(env_config):\n",
    "#     import JSSEnv\n",
    "#     env = jssp_klagenfurt_obs_wrapper(gym.make('jss-v1', env_config={'instance_path': 'resources/jsp_instances/standard/la01.txt'}))\n",
    "#     return env\n",
    "\n",
    "\n",
    "def env_creator_variable_instance(config,env_name):\n",
    "    #return jssp_light_obs_wrapper_multi_instances(instances_list=[(env_name)])\n",
    "    #print(env_name)\n",
    "    #env_name2=env_name\n",
    "    #return lambda env_name2=env_name:jssp_light_obs_wrapper_multi_instances(env_name2)\n",
    "    return jssp_light_obs_wrapper_multi_instances([env_name])\n",
    "    #return jssp_light_obs_wrapper_multi_instances\n",
    "\n",
    "for instance_tune in instance_list_2:\n",
    "    tune.register_env('myEnv'+instance_tune[-8:-4], lambda config:env_creator_variable_instance(config=config,env_name=instance_tune))\n",
    "    print(f\"{'myEnv'+instance_tune[-8:-4]} environment registered\")\n",
    "\n",
    "\n",
    "ModelCatalog.register_custom_model(\"dense_model\", DenseModel)    \n",
    "\n",
    "# use tune to register the custom environment for the ppo trainer\n",
    "tune.register_env('custom_jssp',env_creator)\n",
    "#tune.register_env('custom_jssp_1',env_creator_variable_1)\n",
    "#tune.register_env('custom_jssp_2',env_creator_variable_2)\n",
    "#tune.register_env('custom_jssp_3',env_creator_variable_3)\n",
    "\n",
    "\n",
    "#agent = AlphaZeroTrainer( config=config, env='custom_jssp')\n",
    "s_path='/Users/felix/sciebo/masterarbeit/progra/model-based_rl/training_checkpoints/la_multi/untrained'\n",
    "#tmp=agent.save_checkpoint(s_path)\n"
   ]
  },
  {
   "cell_type": "code",
   "execution_count": 2,
   "metadata": {},
   "outputs": [
    {
     "name": "stderr",
     "output_type": "stream",
     "text": [
      "2022-11-03 11:51:27,791\tWARNING deprecation.py:46 -- DeprecationWarning: `simple_optimizer` has been deprecated. This will raise an error in the future!\n"
     ]
    },
    {
     "name": "stdout",
     "output_type": "stream",
     "text": [
      "start training\n"
     ]
    },
    {
     "name": "stderr",
     "output_type": "stream",
     "text": [
      "2022-11-03 11:51:51,602\tINFO trainable.py:159 -- Trainable.setup took 23.813 seconds. If your trainable is slow to initialize, consider setting reuse_actors=True to reduce actor creation overheads.\n"
     ]
    },
    {
     "ename": "NameError",
     "evalue": "name 'tmp' is not defined",
     "output_type": "error",
     "traceback": [
      "\u001b[0;31m---------------------------------------------------------------------------\u001b[0m",
      "\u001b[0;31mNameError\u001b[0m                                 Traceback (most recent call last)",
      "\u001b[1;32m/Users/felix/sciebo/masterarbeit/progra/model-based_rl/train_az_jsslite.ipynb Zelle 2\u001b[0m in \u001b[0;36m<cell line: 3>\u001b[0;34m()\u001b[0m\n\u001b[1;32m     <a href='vscode-notebook-cell:/Users/felix/sciebo/masterarbeit/progra/model-based_rl/train_az_jsslite.ipynb#W1sZmlsZQ%3D%3D?line=13'>14</a>\u001b[0m reload_ray()\n\u001b[1;32m     <a href='vscode-notebook-cell:/Users/felix/sciebo/masterarbeit/progra/model-based_rl/train_az_jsslite.ipynb#W1sZmlsZQ%3D%3D?line=14'>15</a>\u001b[0m agent \u001b[39m=\u001b[39m AlphaZeroTrainer( config\u001b[39m=\u001b[39mconfig, env\u001b[39m=\u001b[39m\u001b[39m'\u001b[39m\u001b[39mcustom_jssp_1\u001b[39m\u001b[39m'\u001b[39m)\n\u001b[0;32m---> <a href='vscode-notebook-cell:/Users/felix/sciebo/masterarbeit/progra/model-based_rl/train_az_jsslite.ipynb#W1sZmlsZQ%3D%3D?line=15'>16</a>\u001b[0m agent\u001b[39m.\u001b[39mload_checkpoint(tmp)\n\u001b[1;32m     <a href='vscode-notebook-cell:/Users/felix/sciebo/masterarbeit/progra/model-based_rl/train_az_jsslite.ipynb#W1sZmlsZQ%3D%3D?line=16'>17</a>\u001b[0m t\u001b[39m=\u001b[39mtime\u001b[39m.\u001b[39mtime()\n\u001b[1;32m     <a href='vscode-notebook-cell:/Users/felix/sciebo/masterarbeit/progra/model-based_rl/train_az_jsslite.ipynb#W1sZmlsZQ%3D%3D?line=17'>18</a>\u001b[0m agent\u001b[39m.\u001b[39mtrain()\n",
      "\u001b[0;31mNameError\u001b[0m: name 'tmp' is not defined"
     ]
    }
   ],
   "source": [
    "import os\n",
    "import time\n",
    "if train_agent:\n",
    "    # checkpoint_path = analysis.get_last_checkpoint() or args.checkpoint\n",
    "    ## use string number to restore pre trained agent\n",
    "    # nr_restore=\"10\"\n",
    "    #checkpoint_path=f'checkpoints_az/rllib_checkpoint{nr_restore}/checkpoint_{nr_restore.zfill(6)}/checkpoint-{nr_restore}'\n",
    "    #agent.load_checkpoint(\"training_checkpoints/checkpoints_az_jsslite/checkpoint-5\")\n",
    "    #print(\"awd\")\n",
    "    #agent.restore(\"checkpoints_az/rllib_checkpoint1/checkpoint_000001/checkpoint-1\")\n",
    "    #agent.load_checkpoint(\"published_checkpoints/az_taxi/checkpoint-34\")\n",
    "    print(\"start training\")\n",
    "    for _ in range(0,5):\n",
    "        reload_ray()\n",
    "        agent = AlphaZeroTrainer( config=config, env='custom_jssp_1')\n",
    "        agent.load_checkpoint(tmp)\n",
    "        t=time.time()\n",
    "        agent.train()\n",
    "        print(f\"training iteration {_} finished after {time.time()-t} seconds\")\n",
    "        s_path=(\"/Users/felix/sciebo/masterarbeit/progra/model-based_rl/training_checkpoints/la_multi/la_01/\"+str(_))\n",
    "        if not os.path.exists(s_path):\n",
    "            os.mkdir(s_path)\n",
    "        tmp=agent.save_checkpoint(s_path)\n",
    "        print(tmp)\n",
    "        reload_ray()\n",
    "\n",
    "        agent = AlphaZeroTrainer( config=config, env='custom_jssp_2')\n",
    "        \n",
    "        agent.load_checkpoint(tmp)\n",
    "        t=time.time()\n",
    "        agent.train()\n",
    "        print(f\"training iteration {_} finished after {time.time()-t} seconds\")\n",
    "        s_path=(\"/Users/felix/sciebo/masterarbeit/progra/model-based_rl/training_checkpoints/la_multi/la_02/\"+str(_))\n",
    "        if not os.path.exists(s_path):\n",
    "            os.mkdir(s_path)\n",
    "        tmp=agent.save_checkpoint(s_path)\n",
    "        reload_ray()\n",
    "\n",
    "        agent = AlphaZeroTrainer( config=config, env='custom_jssp_3')\n",
    "        agent.load_checkpoint(tmp)\n",
    "        t=time.time()\n",
    "        agent.train()\n",
    "        print(f\"training iteration {_} finished after {time.time()-t} seconds\")\n",
    "        s_path=(\"/Users/felix/sciebo/masterarbeit/progra/model-based_rl/training_checkpoints/la_multi/la_03/\"+str(_))\n",
    "        if not os.path.exists(s_path):\n",
    "            os.mkdir(s_path)\n",
    "        tmp=agent.save_checkpoint(s_path)\n",
    "        print(tmp)\n",
    "\n",
    "    \n",
    "#if restore_agent:\n",
    "\n",
    "    #agent.load_checkpoint(restore_path)"
   ]
  },
  {
   "cell_type": "code",
   "execution_count": 8,
   "metadata": {},
   "outputs": [
    {
     "name": "stderr",
     "output_type": "stream",
     "text": [
      "2022-11-03 12:34:29,477\tWARNING deprecation.py:46 -- DeprecationWarning: `simple_optimizer` has been deprecated. This will raise an error in the future!\n",
      "2022-11-03 12:35:33,180\tINFO trainable.py:159 -- Trainable.setup took 63.704 seconds. If your trainable is slow to initialize, consider setting reuse_actors=True to reduce actor creation overheads.\n"
     ]
    }
   ],
   "source": [
    "ray.shutdown()\n",
    "\n",
    "ModelCatalog.register_custom_model(\"dense_model\", DenseModel)    \n",
    "tune.register_env('custom_jssp',env_creator)\n",
    "config = {\n",
    "    \"framework\": \"torch\",\n",
    "    \"disable_env_checking\":True,\n",
    "    \"num_workers\"       : 6,\n",
    "    \"rollout_fragment_length\": 50,\n",
    "    \"train_batch_size\"  : 500,\n",
    "    \"sgd_minibatch_size\": 64,\n",
    "    \"lr\"                : 0.0001,\n",
    "    \"explore\"           :False,\n",
    "    #\"horizon\"           : 600,\n",
    "    #\"soft_horizon\"      : True,\n",
    "    \"num_sgd_iter\"      : 1,\n",
    "    #\"horizon\"           : 100,\n",
    "    \"mcts_config\"       : {\n",
    "        \"puct_coefficient\"   : 1.5,\n",
    "        \"num_simulations\"    : 100,\n",
    "        \"temperature\"        : 1,\n",
    "        \"dirichlet_epsilon\"  : 0.20,\n",
    "        \"dirichlet_noise\"    : 0.03,\n",
    "        \"argmax_tree_policy\" : True,\n",
    "        \"add_dirichlet_noise\": False,\n",
    "    },\n",
    "    \"ranked_rewards\"    : {\n",
    "        \"enable\": True,\n",
    "    },\n",
    "    \"model\"             : {\n",
    "        \"custom_model\": \"dense_model\",\n",
    "\n",
    "    },\n",
    "}\n",
    "\n",
    "agent = AlphaZeroTrainer( config=config, env='custom_jssp')\n",
    "#if restore_agent:\n",
    "restore_path='training_checkpoints/cluster_data/training_checkpoints/la_multi_huge/ta07/0/checkpoint-1'\n",
    "#restore_path='/Users/felix/sciebo/masterarbeit/progra/model-based_rl/training_checkpoints/checkpoints_az_jsslite_ft06/checkpoint-10'\n",
    "agent.load_checkpoint(restore_path)\n",
    "\n",
    "#agent.load_checkpoint(\"training_checkpoints/checkpoints_az_jsslite/checkpoint-5\")\n",
    "\n"
   ]
  },
  {
   "cell_type": "code",
   "execution_count": 9,
   "metadata": {},
   "outputs": [
    {
     "name": "stdout",
     "output_type": "stream",
     "text": [
      "instance la21:  in time: 134.45661211013794s\n",
      "0.5401529636711281\n"
     ]
    },
    {
     "data": {
      "application/vnd.plotly.v1+json": {
       "config": {
        "plotlyServerURL": "https://plot.ly"
       },
       "data": [
        {
         "alignmentgroup": "True",
         "base": [
          "2022-01-01T00:04:33",
          "2022-01-01T00:15:48",
          "2022-01-01T00:19:19",
          "2022-01-01T00:10:35",
          "2022-01-01T00:17:26",
          "2022-01-01T00:06:08",
          "2022-01-01T00:00:37",
          "2022-01-01T00:00:28",
          "2022-01-01T00:02:04",
          "2022-01-01T00:02:55",
          "2022-01-01T00:07:27",
          "2022-01-01T00:01:36",
          "2022-01-01T00:00:00",
          "2022-01-01T00:09:40",
          "2022-01-01T00:04:19"
         ],
         "hovertemplate": "Machine=machine_05<br>Start=%{base}<br>Finish=%{x}<br>Job=%{y}<extra></extra>",
         "legendgroup": "machine_05",
         "marker": {
          "color": "#636efa",
          "pattern": {
           "shape": ""
          }
         },
         "name": "machine_05",
         "offsetgroup": "machine_05",
         "orientation": "h",
         "showlegend": true,
         "textposition": "auto",
         "type": "bar",
         "x": [
          95000,
          98000,
          37000,
          77000,
          25000,
          28000,
          59000,
          9000,
          33000,
          84000,
          76000,
          28000,
          27000,
          28000,
          14000
         ],
         "xaxis": "x",
         "y": [
          "job_00",
          "job_01",
          "job_02",
          "job_03",
          "job_04",
          "job_05",
          "job_06",
          "job_07",
          "job_08",
          "job_09",
          "job_10",
          "job_11",
          "job_12",
          "job_13",
          "job_14"
         ],
         "yaxis": "y"
        },
        {
         "alignmentgroup": "True",
         "base": [
          "2022-01-01T00:07:27",
          "2022-01-01T00:10:21",
          "2022-01-01T00:16:58",
          "2022-01-01T00:19:59",
          "2022-01-01T00:01:54",
          "2022-01-01T00:03:54",
          "2022-01-01T00:03:11",
          "2022-01-01T00:12:22",
          "2022-01-01T00:11:40",
          "2022-01-01T00:06:06",
          "2022-01-01T00:05:41",
          "2022-01-01T00:04:04",
          "2022-01-01T00:00:27",
          "2022-01-01T00:07:43",
          "2022-01-01T00:13:48"
         ],
         "hovertemplate": "Machine=machine_09<br>Start=%{base}<br>Finish=%{x}<br>Job=%{y}<extra></extra>",
         "legendgroup": "machine_09",
         "marker": {
          "color": "#EF553B",
          "pattern": {
           "shape": ""
          }
         },
         "name": "machine_09",
         "offsetgroup": "machine_09",
         "orientation": "h",
         "showlegend": true,
         "textposition": "auto",
         "type": "bar",
         "x": [
          16000,
          79000,
          79000,
          83000,
          77000,
          10000,
          43000,
          43000,
          42000,
          81000,
          25000,
          97000,
          48000,
          80000,
          72000
         ],
         "xaxis": "x",
         "y": [
          "job_00",
          "job_01",
          "job_02",
          "job_03",
          "job_04",
          "job_05",
          "job_06",
          "job_07",
          "job_08",
          "job_09",
          "job_10",
          "job_11",
          "job_12",
          "job_13",
          "job_14"
         ],
         "yaxis": "y"
        },
        {
         "alignmentgroup": "True",
         "base": [
          "2022-01-01T00:23:48",
          "2022-01-01T00:13:07",
          "2022-01-01T00:18:17",
          "2022-01-01T00:10:11",
          "2022-01-01T00:00:35",
          "2022-01-01T00:00:00",
          "2022-01-01T00:09:21",
          "2022-01-01T00:14:24",
          "2022-01-01T00:07:46",
          "2022-01-01T00:10:39",
          "2022-01-01T00:06:06",
          "2022-01-01T00:21:31",
          "2022-01-01T00:02:44",
          "2022-01-01T00:01:54",
          "2022-01-01T00:11:48"
         ],
         "hovertemplate": "Machine=machine_08<br>Start=%{base}<br>Finish=%{x}<br>Job=%{y}<extra></extra>",
         "legendgroup": "machine_08",
         "marker": {
          "color": "#00cc96",
          "pattern": {
           "shape": ""
          }
         },
         "name": "machine_08",
         "offsetgroup": "machine_08",
         "orientation": "h",
         "showlegend": true,
         "textposition": "auto",
         "type": "bar",
         "x": [
          52000,
          77000,
          62000,
          24000,
          79000,
          35000,
          50000,
          14000,
          66000,
          69000,
          81000,
          90000,
          27000,
          50000,
          79000
         ],
         "xaxis": "x",
         "y": [
          "job_00",
          "job_01",
          "job_02",
          "job_03",
          "job_04",
          "job_05",
          "job_06",
          "job_07",
          "job_08",
          "job_09",
          "job_10",
          "job_11",
          "job_12",
          "job_13",
          "job_14"
         ],
         "yaxis": "y"
        },
        {
         "alignmentgroup": "True",
         "base": [
          "2022-01-01T00:08:12",
          "2022-01-01T00:18:34",
          "2022-01-01T00:14:32",
          "2022-01-01T00:02:13",
          "2022-01-01T00:05:51",
          "2022-01-01T00:08:33",
          "2022-01-01T00:00:00",
          "2022-01-01T00:01:53",
          "2022-01-01T00:12:22",
          "2022-01-01T00:16:58",
          "2022-01-01T00:01:29",
          "2022-01-01T00:07:27",
          "2022-01-01T00:04:13",
          "2022-01-01T00:12:58",
          "2022-01-01T00:00:28"
         ],
         "hovertemplate": "Machine=machine_04<br>Start=%{base}<br>Finish=%{x}<br>Job=%{y}<extra></extra>",
         "legendgroup": "machine_04",
         "marker": {
          "color": "#ab63fa",
          "pattern": {
           "shape": ""
          }
         },
         "name": "machine_04",
         "offsetgroup": "machine_04",
         "orientation": "h",
         "showlegend": true,
         "textposition": "auto",
         "type": "bar",
         "x": [
          21000,
          55000,
          92000,
          60000,
          96000,
          61000,
          28000,
          20000,
          33000,
          96000,
          24000,
          45000,
          98000,
          94000,
          61000
         ],
         "xaxis": "x",
         "y": [
          "job_00",
          "job_01",
          "job_02",
          "job_03",
          "job_04",
          "job_05",
          "job_06",
          "job_07",
          "job_08",
          "job_09",
          "job_10",
          "job_11",
          "job_12",
          "job_13",
          "job_14"
         ],
         "yaxis": "y"
        },
        {
         "alignmentgroup": "True",
         "base": [
          "2022-01-01T00:24:40",
          "2022-01-01T00:02:25",
          "2022-01-01T00:01:11",
          "2022-01-01T00:17:51",
          "2022-01-01T00:16:02",
          "2022-01-01T00:05:48",
          "2022-01-01T00:14:31",
          "2022-01-01T00:04:12",
          "2022-01-01T00:00:31",
          "2022-01-01T00:07:27",
          "2022-01-01T00:00:00",
          "2022-01-01T00:20:19",
          "2022-01-01T00:09:36",
          "2022-01-01T00:00:59",
          "2022-01-01T00:13:07"
         ],
         "hovertemplate": "Machine=machine_01<br>Start=%{base}<br>Finish=%{x}<br>Job=%{y}<extra></extra>",
         "legendgroup": "machine_01",
         "marker": {
          "color": "#FFA15A",
          "pattern": {
           "shape": ""
          }
         },
         "name": "machine_01",
         "offsetgroup": "machine_01",
         "orientation": "h",
         "showlegend": true,
         "textposition": "auto",
         "type": "bar",
         "x": [
          21000,
          42000,
          19000,
          87000,
          49000,
          7000,
          91000,
          45000,
          28000,
          74000,
          31000,
          72000,
          46000,
          12000,
          41000
         ],
         "xaxis": "x",
         "y": [
          "job_00",
          "job_01",
          "job_02",
          "job_03",
          "job_04",
          "job_05",
          "job_06",
          "job_07",
          "job_08",
          "job_09",
          "job_10",
          "job_11",
          "job_12",
          "job_13",
          "job_14"
         ],
         "yaxis": "y"
        },
        {
         "alignmentgroup": "True",
         "base": [
          "2022-01-01T00:02:55",
          "2022-01-01T00:00:00",
          "2022-01-01T00:12:20",
          "2022-01-01T00:12:58",
          "2022-01-01T00:07:46",
          "2022-01-01T00:14:07",
          "2022-01-01T00:02:39",
          "2022-01-01T00:11:39",
          "2022-01-01T00:03:55",
          "2022-01-01T00:08:54",
          "2022-01-01T00:09:40",
          "2022-01-01T00:18:14",
          "2022-01-01T00:06:58",
          "2022-01-01T00:09:21",
          "2022-01-01T00:01:29"
         ],
         "hovertemplate": "Machine=machine_03<br>Start=%{base}<br>Finish=%{x}<br>Job=%{y}<extra></extra>",
         "legendgroup": "machine_03",
         "marker": {
          "color": "#19d3f3",
          "pattern": {
           "shape": ""
          }
         },
         "name": "machine_03",
         "offsetgroup": "machine_03",
         "orientation": "h",
         "showlegend": true,
         "textposition": "auto",
         "type": "bar",
         "x": [
          55000,
          39000,
          34000,
          69000,
          17000,
          76000,
          16000,
          41000,
          26000,
          27000,
          87000,
          99000,
          48000,
          19000,
          55000
         ],
         "xaxis": "x",
         "y": [
          "job_00",
          "job_01",
          "job_02",
          "job_03",
          "job_04",
          "job_05",
          "job_06",
          "job_07",
          "job_08",
          "job_09",
          "job_10",
          "job_11",
          "job_12",
          "job_13",
          "job_14"
         ],
         "yaxis": "y"
        },
        {
         "alignmentgroup": "True",
         "base": [
          "2022-01-01T00:25:01",
          "2022-01-01T00:19:29",
          "2022-01-01T00:21:23",
          "2022-01-01T00:17:13",
          "2022-01-01T00:10:20",
          "2022-01-01T00:00:35",
          "2022-01-01T00:11:55",
          "2022-01-01T00:04:57",
          "2022-01-01T00:07:15",
          "2022-01-01T00:16:10",
          "2022-01-01T00:11:07",
          "2022-01-01T00:23:01",
          "2022-01-01T00:03:11",
          "2022-01-01T00:14:32",
          "2022-01-01T00:16:55"
         ],
         "hovertemplate": "Machine=machine_07<br>Start=%{base}<br>Finish=%{x}<br>Job=%{y}<extra></extra>",
         "legendgroup": "machine_07",
         "marker": {
          "color": "#FF6692",
          "pattern": {
           "shape": ""
          }
         },
         "name": "machine_07",
         "offsetgroup": "machine_07",
         "orientation": "h",
         "showlegend": true,
         "textposition": "auto",
         "type": "bar",
         "x": [
          26000,
          66000,
          43000,
          38000,
          43000,
          95000,
          27000,
          71000,
          8000,
          45000,
          32000,
          86000,
          62000,
          98000,
          18000
         ],
         "xaxis": "x",
         "y": [
          "job_00",
          "job_01",
          "job_02",
          "job_03",
          "job_04",
          "job_05",
          "job_06",
          "job_07",
          "job_08",
          "job_09",
          "job_10",
          "job_11",
          "job_12",
          "job_13",
          "job_14"
         ],
         "yaxis": "y"
        },
        {
         "alignmentgroup": "True",
         "base": [
          "2022-01-01T00:02:05",
          "2022-01-01T00:01:34",
          "2022-01-01T00:20:19",
          "2022-01-01T00:08:05",
          "2022-01-01T00:03:35",
          "2022-01-01T00:05:13",
          "2022-01-01T00:12:22",
          "2022-01-01T00:02:39",
          "2022-01-01T00:06:38",
          "2022-01-01T00:00:00",
          "2022-01-01T00:03:18",
          "2022-01-01T00:19:56",
          "2022-01-01T00:10:22",
          "2022-01-01T00:05:48",
          "2022-01-01T00:07:15"
         ],
         "hovertemplate": "Machine=machine_02<br>Start=%{base}<br>Finish=%{x}<br>Job=%{y}<extra></extra>",
         "legendgroup": "machine_02",
         "marker": {
          "color": "#B6E880",
          "pattern": {
           "shape": ""
          }
         },
         "name": "machine_02",
         "offsetgroup": "machine_02",
         "orientation": "h",
         "showlegend": true,
         "textposition": "auto",
         "type": "bar",
         "x": [
          34000,
          31000,
          64000,
          87000,
          98000,
          35000,
          59000,
          39000,
          37000,
          94000,
          17000,
          23000,
          17000,
          50000,
          50000
         ],
         "xaxis": "x",
         "y": [
          "job_00",
          "job_01",
          "job_02",
          "job_03",
          "job_04",
          "job_05",
          "job_06",
          "job_07",
          "job_08",
          "job_09",
          "job_10",
          "job_11",
          "job_12",
          "job_13",
          "job_14"
         ],
         "yaxis": "y"
        },
        {
         "alignmentgroup": "True",
         "base": [
          "2022-01-01T00:22:55",
          "2022-01-01T00:02:13",
          "2022-01-01T00:10:20",
          "2022-01-01T00:21:22",
          "2022-01-01T00:09:36",
          "2022-01-01T00:11:43",
          "2022-01-01T00:06:39",
          "2022-01-01T00:07:27",
          "2022-01-01T00:02:37",
          "2022-01-01T00:13:18",
          "2022-01-01T00:01:53",
          "2022-01-01T00:05:41",
          "2022-01-01T00:08:54",
          "2022-01-01T00:03:55",
          "2022-01-01T00:17:13"
         ],
         "hovertemplate": "Machine=machine_00<br>Start=%{base}<br>Finish=%{x}<br>Job=%{y}<extra></extra>",
         "legendgroup": "machine_00",
         "marker": {
          "color": "#FF97FF",
          "pattern": {
           "shape": ""
          }
         },
         "name": "machine_00",
         "offsetgroup": "machine_00",
         "orientation": "h",
         "showlegend": true,
         "textposition": "auto",
         "type": "bar",
         "x": [
          53000,
          12000,
          83000,
          93000,
          44000,
          95000,
          46000,
          87000,
          78000,
          69000,
          20000,
          58000,
          42000,
          80000,
          75000
         ],
         "xaxis": "x",
         "y": [
          "job_00",
          "job_01",
          "job_02",
          "job_03",
          "job_04",
          "job_05",
          "job_06",
          "job_07",
          "job_08",
          "job_09",
          "job_10",
          "job_11",
          "job_12",
          "job_13",
          "job_14"
         ],
         "yaxis": "y"
        },
        {
         "alignmentgroup": "True",
         "base": [
          "2022-01-01T00:19:59",
          "2022-01-01T00:14:31",
          "2022-01-01T00:16:04",
          "2022-01-01T00:19:18",
          "2022-01-01T00:13:16",
          "2022-01-01T00:02:10",
          "2022-01-01T00:11:03",
          "2022-01-01T00:03:18",
          "2022-01-01T00:08:52",
          "2022-01-01T00:04:19",
          "2022-01-01T00:12:58",
          "2022-01-01T00:16:58",
          "2022-01-01T00:05:51",
          "2022-01-01T00:11:55",
          "2022-01-01T00:02:24"
         ],
         "hovertemplate": "Machine=machine_06<br>Start=%{base}<br>Finish=%{x}<br>Job=%{y}<extra></extra>",
         "legendgroup": "machine_06",
         "marker": {
          "color": "#FECB52",
          "pattern": {
           "shape": ""
          }
         },
         "name": "machine_06",
         "offsetgroup": "machine_06",
         "orientation": "h",
         "showlegend": true,
         "textposition": "auto",
         "type": "bar",
         "x": [
          71000,
          77000,
          54000,
          41000,
          75000,
          9000,
          52000,
          54000,
          89000,
          78000,
          18000,
          76000,
          67000,
          63000,
          37000
         ],
         "xaxis": "x",
         "y": [
          "job_00",
          "job_01",
          "job_02",
          "job_03",
          "job_04",
          "job_05",
          "job_06",
          "job_07",
          "job_08",
          "job_09",
          "job_10",
          "job_11",
          "job_12",
          "job_13",
          "job_14"
         ],
         "yaxis": "y"
        }
       ],
       "layout": {
        "barmode": "overlay",
        "legend": {
         "title": {
          "text": "Machine"
         },
         "tracegroupgap": 0
        },
        "margin": {
         "t": 60
        },
        "template": {
         "data": {
          "bar": [
           {
            "error_x": {
             "color": "#2a3f5f"
            },
            "error_y": {
             "color": "#2a3f5f"
            },
            "marker": {
             "line": {
              "color": "#E5ECF6",
              "width": 0.5
             },
             "pattern": {
              "fillmode": "overlay",
              "size": 10,
              "solidity": 0.2
             }
            },
            "type": "bar"
           }
          ],
          "barpolar": [
           {
            "marker": {
             "line": {
              "color": "#E5ECF6",
              "width": 0.5
             },
             "pattern": {
              "fillmode": "overlay",
              "size": 10,
              "solidity": 0.2
             }
            },
            "type": "barpolar"
           }
          ],
          "carpet": [
           {
            "aaxis": {
             "endlinecolor": "#2a3f5f",
             "gridcolor": "white",
             "linecolor": "white",
             "minorgridcolor": "white",
             "startlinecolor": "#2a3f5f"
            },
            "baxis": {
             "endlinecolor": "#2a3f5f",
             "gridcolor": "white",
             "linecolor": "white",
             "minorgridcolor": "white",
             "startlinecolor": "#2a3f5f"
            },
            "type": "carpet"
           }
          ],
          "choropleth": [
           {
            "colorbar": {
             "outlinewidth": 0,
             "ticks": ""
            },
            "type": "choropleth"
           }
          ],
          "contour": [
           {
            "colorbar": {
             "outlinewidth": 0,
             "ticks": ""
            },
            "colorscale": [
             [
              0,
              "#0d0887"
             ],
             [
              0.1111111111111111,
              "#46039f"
             ],
             [
              0.2222222222222222,
              "#7201a8"
             ],
             [
              0.3333333333333333,
              "#9c179e"
             ],
             [
              0.4444444444444444,
              "#bd3786"
             ],
             [
              0.5555555555555556,
              "#d8576b"
             ],
             [
              0.6666666666666666,
              "#ed7953"
             ],
             [
              0.7777777777777778,
              "#fb9f3a"
             ],
             [
              0.8888888888888888,
              "#fdca26"
             ],
             [
              1,
              "#f0f921"
             ]
            ],
            "type": "contour"
           }
          ],
          "contourcarpet": [
           {
            "colorbar": {
             "outlinewidth": 0,
             "ticks": ""
            },
            "type": "contourcarpet"
           }
          ],
          "heatmap": [
           {
            "colorbar": {
             "outlinewidth": 0,
             "ticks": ""
            },
            "colorscale": [
             [
              0,
              "#0d0887"
             ],
             [
              0.1111111111111111,
              "#46039f"
             ],
             [
              0.2222222222222222,
              "#7201a8"
             ],
             [
              0.3333333333333333,
              "#9c179e"
             ],
             [
              0.4444444444444444,
              "#bd3786"
             ],
             [
              0.5555555555555556,
              "#d8576b"
             ],
             [
              0.6666666666666666,
              "#ed7953"
             ],
             [
              0.7777777777777778,
              "#fb9f3a"
             ],
             [
              0.8888888888888888,
              "#fdca26"
             ],
             [
              1,
              "#f0f921"
             ]
            ],
            "type": "heatmap"
           }
          ],
          "heatmapgl": [
           {
            "colorbar": {
             "outlinewidth": 0,
             "ticks": ""
            },
            "colorscale": [
             [
              0,
              "#0d0887"
             ],
             [
              0.1111111111111111,
              "#46039f"
             ],
             [
              0.2222222222222222,
              "#7201a8"
             ],
             [
              0.3333333333333333,
              "#9c179e"
             ],
             [
              0.4444444444444444,
              "#bd3786"
             ],
             [
              0.5555555555555556,
              "#d8576b"
             ],
             [
              0.6666666666666666,
              "#ed7953"
             ],
             [
              0.7777777777777778,
              "#fb9f3a"
             ],
             [
              0.8888888888888888,
              "#fdca26"
             ],
             [
              1,
              "#f0f921"
             ]
            ],
            "type": "heatmapgl"
           }
          ],
          "histogram": [
           {
            "marker": {
             "pattern": {
              "fillmode": "overlay",
              "size": 10,
              "solidity": 0.2
             }
            },
            "type": "histogram"
           }
          ],
          "histogram2d": [
           {
            "colorbar": {
             "outlinewidth": 0,
             "ticks": ""
            },
            "colorscale": [
             [
              0,
              "#0d0887"
             ],
             [
              0.1111111111111111,
              "#46039f"
             ],
             [
              0.2222222222222222,
              "#7201a8"
             ],
             [
              0.3333333333333333,
              "#9c179e"
             ],
             [
              0.4444444444444444,
              "#bd3786"
             ],
             [
              0.5555555555555556,
              "#d8576b"
             ],
             [
              0.6666666666666666,
              "#ed7953"
             ],
             [
              0.7777777777777778,
              "#fb9f3a"
             ],
             [
              0.8888888888888888,
              "#fdca26"
             ],
             [
              1,
              "#f0f921"
             ]
            ],
            "type": "histogram2d"
           }
          ],
          "histogram2dcontour": [
           {
            "colorbar": {
             "outlinewidth": 0,
             "ticks": ""
            },
            "colorscale": [
             [
              0,
              "#0d0887"
             ],
             [
              0.1111111111111111,
              "#46039f"
             ],
             [
              0.2222222222222222,
              "#7201a8"
             ],
             [
              0.3333333333333333,
              "#9c179e"
             ],
             [
              0.4444444444444444,
              "#bd3786"
             ],
             [
              0.5555555555555556,
              "#d8576b"
             ],
             [
              0.6666666666666666,
              "#ed7953"
             ],
             [
              0.7777777777777778,
              "#fb9f3a"
             ],
             [
              0.8888888888888888,
              "#fdca26"
             ],
             [
              1,
              "#f0f921"
             ]
            ],
            "type": "histogram2dcontour"
           }
          ],
          "mesh3d": [
           {
            "colorbar": {
             "outlinewidth": 0,
             "ticks": ""
            },
            "type": "mesh3d"
           }
          ],
          "parcoords": [
           {
            "line": {
             "colorbar": {
              "outlinewidth": 0,
              "ticks": ""
             }
            },
            "type": "parcoords"
           }
          ],
          "pie": [
           {
            "automargin": true,
            "type": "pie"
           }
          ],
          "scatter": [
           {
            "fillpattern": {
             "fillmode": "overlay",
             "size": 10,
             "solidity": 0.2
            },
            "type": "scatter"
           }
          ],
          "scatter3d": [
           {
            "line": {
             "colorbar": {
              "outlinewidth": 0,
              "ticks": ""
             }
            },
            "marker": {
             "colorbar": {
              "outlinewidth": 0,
              "ticks": ""
             }
            },
            "type": "scatter3d"
           }
          ],
          "scattercarpet": [
           {
            "marker": {
             "colorbar": {
              "outlinewidth": 0,
              "ticks": ""
             }
            },
            "type": "scattercarpet"
           }
          ],
          "scattergeo": [
           {
            "marker": {
             "colorbar": {
              "outlinewidth": 0,
              "ticks": ""
             }
            },
            "type": "scattergeo"
           }
          ],
          "scattergl": [
           {
            "marker": {
             "colorbar": {
              "outlinewidth": 0,
              "ticks": ""
             }
            },
            "type": "scattergl"
           }
          ],
          "scattermapbox": [
           {
            "marker": {
             "colorbar": {
              "outlinewidth": 0,
              "ticks": ""
             }
            },
            "type": "scattermapbox"
           }
          ],
          "scatterpolar": [
           {
            "marker": {
             "colorbar": {
              "outlinewidth": 0,
              "ticks": ""
             }
            },
            "type": "scatterpolar"
           }
          ],
          "scatterpolargl": [
           {
            "marker": {
             "colorbar": {
              "outlinewidth": 0,
              "ticks": ""
             }
            },
            "type": "scatterpolargl"
           }
          ],
          "scatterternary": [
           {
            "marker": {
             "colorbar": {
              "outlinewidth": 0,
              "ticks": ""
             }
            },
            "type": "scatterternary"
           }
          ],
          "surface": [
           {
            "colorbar": {
             "outlinewidth": 0,
             "ticks": ""
            },
            "colorscale": [
             [
              0,
              "#0d0887"
             ],
             [
              0.1111111111111111,
              "#46039f"
             ],
             [
              0.2222222222222222,
              "#7201a8"
             ],
             [
              0.3333333333333333,
              "#9c179e"
             ],
             [
              0.4444444444444444,
              "#bd3786"
             ],
             [
              0.5555555555555556,
              "#d8576b"
             ],
             [
              0.6666666666666666,
              "#ed7953"
             ],
             [
              0.7777777777777778,
              "#fb9f3a"
             ],
             [
              0.8888888888888888,
              "#fdca26"
             ],
             [
              1,
              "#f0f921"
             ]
            ],
            "type": "surface"
           }
          ],
          "table": [
           {
            "cells": {
             "fill": {
              "color": "#EBF0F8"
             },
             "line": {
              "color": "white"
             }
            },
            "header": {
             "fill": {
              "color": "#C8D4E3"
             },
             "line": {
              "color": "white"
             }
            },
            "type": "table"
           }
          ]
         },
         "layout": {
          "annotationdefaults": {
           "arrowcolor": "#2a3f5f",
           "arrowhead": 0,
           "arrowwidth": 1
          },
          "autotypenumbers": "strict",
          "coloraxis": {
           "colorbar": {
            "outlinewidth": 0,
            "ticks": ""
           }
          },
          "colorscale": {
           "diverging": [
            [
             0,
             "#8e0152"
            ],
            [
             0.1,
             "#c51b7d"
            ],
            [
             0.2,
             "#de77ae"
            ],
            [
             0.3,
             "#f1b6da"
            ],
            [
             0.4,
             "#fde0ef"
            ],
            [
             0.5,
             "#f7f7f7"
            ],
            [
             0.6,
             "#e6f5d0"
            ],
            [
             0.7,
             "#b8e186"
            ],
            [
             0.8,
             "#7fbc41"
            ],
            [
             0.9,
             "#4d9221"
            ],
            [
             1,
             "#276419"
            ]
           ],
           "sequential": [
            [
             0,
             "#0d0887"
            ],
            [
             0.1111111111111111,
             "#46039f"
            ],
            [
             0.2222222222222222,
             "#7201a8"
            ],
            [
             0.3333333333333333,
             "#9c179e"
            ],
            [
             0.4444444444444444,
             "#bd3786"
            ],
            [
             0.5555555555555556,
             "#d8576b"
            ],
            [
             0.6666666666666666,
             "#ed7953"
            ],
            [
             0.7777777777777778,
             "#fb9f3a"
            ],
            [
             0.8888888888888888,
             "#fdca26"
            ],
            [
             1,
             "#f0f921"
            ]
           ],
           "sequentialminus": [
            [
             0,
             "#0d0887"
            ],
            [
             0.1111111111111111,
             "#46039f"
            ],
            [
             0.2222222222222222,
             "#7201a8"
            ],
            [
             0.3333333333333333,
             "#9c179e"
            ],
            [
             0.4444444444444444,
             "#bd3786"
            ],
            [
             0.5555555555555556,
             "#d8576b"
            ],
            [
             0.6666666666666666,
             "#ed7953"
            ],
            [
             0.7777777777777778,
             "#fb9f3a"
            ],
            [
             0.8888888888888888,
             "#fdca26"
            ],
            [
             1,
             "#f0f921"
            ]
           ]
          },
          "colorway": [
           "#636efa",
           "#EF553B",
           "#00cc96",
           "#ab63fa",
           "#FFA15A",
           "#19d3f3",
           "#FF6692",
           "#B6E880",
           "#FF97FF",
           "#FECB52"
          ],
          "font": {
           "color": "#2a3f5f"
          },
          "geo": {
           "bgcolor": "white",
           "lakecolor": "white",
           "landcolor": "#E5ECF6",
           "showlakes": true,
           "showland": true,
           "subunitcolor": "white"
          },
          "hoverlabel": {
           "align": "left"
          },
          "hovermode": "closest",
          "mapbox": {
           "style": "light"
          },
          "paper_bgcolor": "white",
          "plot_bgcolor": "#E5ECF6",
          "polar": {
           "angularaxis": {
            "gridcolor": "white",
            "linecolor": "white",
            "ticks": ""
           },
           "bgcolor": "#E5ECF6",
           "radialaxis": {
            "gridcolor": "white",
            "linecolor": "white",
            "ticks": ""
           }
          },
          "scene": {
           "xaxis": {
            "backgroundcolor": "#E5ECF6",
            "gridcolor": "white",
            "gridwidth": 2,
            "linecolor": "white",
            "showbackground": true,
            "ticks": "",
            "zerolinecolor": "white"
           },
           "yaxis": {
            "backgroundcolor": "#E5ECF6",
            "gridcolor": "white",
            "gridwidth": 2,
            "linecolor": "white",
            "showbackground": true,
            "ticks": "",
            "zerolinecolor": "white"
           },
           "zaxis": {
            "backgroundcolor": "#E5ECF6",
            "gridcolor": "white",
            "gridwidth": 2,
            "linecolor": "white",
            "showbackground": true,
            "ticks": "",
            "zerolinecolor": "white"
           }
          },
          "shapedefaults": {
           "line": {
            "color": "#2a3f5f"
           }
          },
          "ternary": {
           "aaxis": {
            "gridcolor": "white",
            "linecolor": "white",
            "ticks": ""
           },
           "baxis": {
            "gridcolor": "white",
            "linecolor": "white",
            "ticks": ""
           },
           "bgcolor": "#E5ECF6",
           "caxis": {
            "gridcolor": "white",
            "linecolor": "white",
            "ticks": ""
           }
          },
          "title": {
           "x": 0.05
          },
          "xaxis": {
           "automargin": true,
           "gridcolor": "white",
           "linecolor": "white",
           "ticks": "",
           "title": {
            "standoff": 15
           },
           "zerolinecolor": "white",
           "zerolinewidth": 2
          },
          "yaxis": {
           "automargin": true,
           "gridcolor": "white",
           "linecolor": "white",
           "ticks": "",
           "title": {
            "standoff": 15
           },
           "zerolinecolor": "white",
           "zerolinewidth": 2
          }
         }
        },
        "xaxis": {
         "anchor": "y",
         "domain": [
          0,
          1
         ],
         "type": "date"
        },
        "yaxis": {
         "anchor": "x",
         "domain": [
          0,
          1
         ],
         "title": {
          "text": "Job"
         }
        }
       }
      }
     },
     "metadata": {},
     "output_type": "display_data"
    }
   ],
   "source": [
    "import time\n",
    "length_list=[]\n",
    "reward_list=[]\n",
    "curr_dir='/Users/felix/sciebo/masterarbeit/progra/model-based_rl'\n",
    "val_instances=['/resources/jsp_instances/standard/la01.txt','/resources/jsp_instances/standard/la02.txt','/resources/jsp_instances/standard/la03.txt','/resources/jsp_instances/standard/la04.txt','/resources/jsp_instances/standard/la05.txt']\n",
    "#instance_list=['/resources/jsp_instances/standard/la01.txt']\n",
    "val_instances=['/resources/jsp_instances/standard/la21.txt']\n",
    "\n",
    "val_instances=[curr_dir + s for s in val_instances]\n",
    "# for i in range(1,4):\n",
    "#     #agent = AlphaZeroTrainer( config=config, env='custom_jssp')\n",
    "# #if restore_agent:\n",
    "#     restore_path='/Users/felix/sciebo/masterarbeit/progra/model-based_rl/training_checkpoints/checkpoints_az_jsslite_la01/checkpoint-'+str(i)\n",
    "#     agent.load_checkpoint(restore_path)\n",
    "obs_list=[]\n",
    "for instance_load in val_instances:\n",
    "\n",
    "    policy = agent.get_policy(DEFAULT_POLICY_ID)\n",
    "    action_list=[]\n",
    "    #env = env_creator(\"s\")\n",
    "    env= jssp_light_obs_wrapper_multi_instances(instances_list=[instance_load])\n",
    "    #env = jssp_light_obs_wrapper(jss_lite(instance_path=instance_load))\n",
    "    obs = env.reset()\n",
    "    # env2 is copy for later going evaluation\n",
    "    obs_list.append(obs)\n",
    "\n",
    "\n",
    "    episode = MultiAgentEpisode(\n",
    "        PolicyMap(0,0),\n",
    "        lambda _, __: DEFAULT_POLICY_ID,\n",
    "        lambda: None,\n",
    "        lambda _: None,\n",
    "        0,\n",
    "    )\n",
    "\n",
    "    episode.user_data['initial_state'] = env.get_state()\n",
    "    obs_old=obs\n",
    "    done = False\n",
    "    t=time.time()\n",
    "    while not done:\n",
    "        action, _, _ = policy.compute_single_action(obs, episode=episode)\n",
    "        action_list.append(action)\n",
    "        #print(f\"outcome action: {action}\")\n",
    "        #print(obs['action_mask'][action])\n",
    "        if obs['action_mask'][action]==0:\n",
    "            print(obs)\n",
    "            print(action)\n",
    "        obs, reward, done, _ = env.step(action)\n",
    "        obs_list.append(obs)\n",
    "        if np.array_equal(obs_list[-1],obs_list[-2]):\n",
    "            print(action_list[-1])\n",
    "            print(action_list[-2])\n",
    "        \n",
    "        #env.env.render()\n",
    "        #time.sleep(0.1)\n",
    "        episode.length += 1\n",
    "        obs_old=obs\n",
    "    length_list.append(episode.length)\n",
    "    reward_list.append(reward)\n",
    "    print(f\"instance {env.env.instance}:  in time: {time.time()-t}s\")\n",
    "    print(reward)\n",
    "    env.render()\n",
    "    #env.close()"
   ]
  },
  {
   "cell_type": "code",
   "execution_count": 9,
   "metadata": {},
   "outputs": [
    {
     "data": {
      "application/vnd.plotly.v1+json": {
       "config": {
        "plotlyServerURL": "https://plot.ly"
       },
       "data": [
        {
         "alignmentgroup": "True",
         "base": [
          "2022-01-01T00:00:39",
          "2022-01-01T00:00:00",
          "2022-01-01T00:13:25",
          "2022-01-01T00:14:02",
          "2022-01-01T00:15:11",
          "2022-01-01T00:10:01",
          "2022-01-01T00:04:08",
          "2022-01-01T00:11:17",
          "2022-01-01T00:08:01",
          "2022-01-01T00:17:03",
          "2022-01-01T00:11:58",
          "2022-01-01T00:06:22",
          "2022-01-01T00:15:28",
          "2022-01-01T00:16:16",
          "2022-01-01T00:01:34"
         ],
         "hovertemplate": "Machine=machine_03<br>Start=%{base}<br>Finish=%{x}<br>Job=%{y}<extra></extra>",
         "legendgroup": "machine_03",
         "marker": {
          "color": "#636efa",
          "pattern": {
           "shape": ""
          }
         },
         "name": "machine_03",
         "offsetgroup": "machine_03",
         "orientation": "h",
         "showlegend": true,
         "textposition": "auto",
         "type": "bar",
         "x": [
          55000,
          39000,
          34000,
          69000,
          17000,
          76000,
          16000,
          41000,
          26000,
          27000,
          87000,
          99000,
          48000,
          19000,
          55000
         ],
         "xaxis": "x",
         "y": [
          "job_00",
          "job_01",
          "job_02",
          "job_03",
          "job_04",
          "job_05",
          "job_06",
          "job_07",
          "job_08",
          "job_09",
          "job_10",
          "job_11",
          "job_12",
          "job_13",
          "job_14"
         ],
         "yaxis": "y"
        },
        {
         "alignmentgroup": "True",
         "base": [
          "2022-01-01T00:15:28",
          "2022-01-01T00:03:02",
          "2022-01-01T00:01:11",
          "2022-01-01T00:17:49",
          "2022-01-01T00:20:31",
          "2022-01-01T00:04:37",
          "2022-01-01T00:13:57",
          "2022-01-01T00:07:16",
          "2022-01-01T00:00:12",
          "2022-01-01T00:15:49",
          "2022-01-01T00:00:40",
          "2022-01-01T00:08:24",
          "2022-01-01T00:17:03",
          "2022-01-01T00:00:00",
          "2022-01-01T00:12:50"
         ],
         "hovertemplate": "Machine=machine_01<br>Start=%{base}<br>Finish=%{x}<br>Job=%{y}<extra></extra>",
         "legendgroup": "machine_01",
         "marker": {
          "color": "#EF553B",
          "pattern": {
           "shape": ""
          }
         },
         "name": "machine_01",
         "offsetgroup": "machine_01",
         "orientation": "h",
         "showlegend": true,
         "textposition": "auto",
         "type": "bar",
         "x": [
          21000,
          42000,
          19000,
          87000,
          49000,
          7000,
          91000,
          45000,
          28000,
          74000,
          31000,
          72000,
          46000,
          12000,
          41000
         ],
         "xaxis": "x",
         "y": [
          "job_00",
          "job_01",
          "job_02",
          "job_03",
          "job_04",
          "job_05",
          "job_06",
          "job_07",
          "job_08",
          "job_09",
          "job_10",
          "job_11",
          "job_12",
          "job_13",
          "job_14"
         ],
         "yaxis": "y"
        },
        {
         "alignmentgroup": "True",
         "base": [
          "2022-01-01T00:00:00",
          "2022-01-01T00:02:08",
          "2022-01-01T00:20:50",
          "2022-01-01T00:04:58",
          "2022-01-01T00:09:51",
          "2022-01-01T00:04:02",
          "2022-01-01T00:11:29",
          "2022-01-01T00:03:23",
          "2022-01-01T00:09:14",
          "2022-01-01T00:00:34",
          "2022-01-01T00:04:37",
          "2022-01-01T00:08:01",
          "2022-01-01T00:17:49",
          "2022-01-01T00:08:24",
          "2022-01-01T00:06:25"
         ],
         "hovertemplate": "Machine=machine_02<br>Start=%{base}<br>Finish=%{x}<br>Job=%{y}<extra></extra>",
         "legendgroup": "machine_02",
         "marker": {
          "color": "#00cc96",
          "pattern": {
           "shape": ""
          }
         },
         "name": "machine_02",
         "offsetgroup": "machine_02",
         "orientation": "h",
         "showlegend": true,
         "textposition": "auto",
         "type": "bar",
         "x": [
          34000,
          31000,
          64000,
          87000,
          98000,
          35000,
          59000,
          39000,
          37000,
          94000,
          17000,
          23000,
          17000,
          50000,
          50000
         ],
         "xaxis": "x",
         "y": [
          "job_00",
          "job_01",
          "job_02",
          "job_03",
          "job_04",
          "job_05",
          "job_06",
          "job_07",
          "job_08",
          "job_09",
          "job_10",
          "job_11",
          "job_12",
          "job_13",
          "job_14"
         ],
         "yaxis": "y"
        },
        {
         "alignmentgroup": "True",
         "base": [
          "2022-01-01T00:17:38",
          "2022-01-01T00:15:49",
          "2022-01-01T00:21:54",
          "2022-01-01T00:15:11",
          "2022-01-01T00:16:55",
          "2022-01-01T00:00:35",
          "2022-01-01T00:10:53",
          "2022-01-01T00:08:01",
          "2022-01-01T00:10:14",
          "2022-01-01T00:21:03",
          "2022-01-01T00:13:25",
          "2022-01-01T00:11:31",
          "2022-01-01T00:09:12",
          "2022-01-01T00:22:37",
          "2022-01-01T00:18:04"
         ],
         "hovertemplate": "Machine=machine_07<br>Start=%{base}<br>Finish=%{x}<br>Job=%{y}<extra></extra>",
         "legendgroup": "machine_07",
         "marker": {
          "color": "#ab63fa",
          "pattern": {
           "shape": ""
          }
         },
         "name": "machine_07",
         "offsetgroup": "machine_07",
         "orientation": "h",
         "showlegend": true,
         "textposition": "auto",
         "type": "bar",
         "x": [
          26000,
          66000,
          43000,
          38000,
          43000,
          95000,
          27000,
          71000,
          8000,
          45000,
          32000,
          86000,
          62000,
          98000,
          18000
         ],
         "xaxis": "x",
         "y": [
          "job_00",
          "job_01",
          "job_02",
          "job_03",
          "job_04",
          "job_05",
          "job_06",
          "job_07",
          "job_08",
          "job_09",
          "job_10",
          "job_11",
          "job_12",
          "job_13",
          "job_14"
         ],
         "yaxis": "y"
        },
        {
         "alignmentgroup": "True",
         "base": [
          "2022-01-01T00:13:56",
          "2022-01-01T00:05:42",
          "2022-01-01T00:19:11",
          "2022-01-01T00:08:47",
          "2022-01-01T00:01:25",
          "2022-01-01T00:00:00",
          "2022-01-01T00:09:11",
          "2022-01-01T00:14:48",
          "2022-01-01T00:12:50",
          "2022-01-01T00:17:30",
          "2022-01-01T00:06:59",
          "2022-01-01T00:10:01",
          "2022-01-01T00:08:20",
          "2022-01-01T00:00:35",
          "2022-01-01T00:11:31"
         ],
         "hovertemplate": "Machine=machine_08<br>Start=%{base}<br>Finish=%{x}<br>Job=%{y}<extra></extra>",
         "legendgroup": "machine_08",
         "marker": {
          "color": "#FFA15A",
          "pattern": {
           "shape": ""
          }
         },
         "name": "machine_08",
         "offsetgroup": "machine_08",
         "orientation": "h",
         "showlegend": true,
         "textposition": "auto",
         "type": "bar",
         "x": [
          52000,
          77000,
          62000,
          24000,
          79000,
          35000,
          50000,
          14000,
          66000,
          69000,
          81000,
          90000,
          27000,
          50000,
          79000
         ],
         "xaxis": "x",
         "y": [
          "job_00",
          "job_01",
          "job_02",
          "job_03",
          "job_04",
          "job_05",
          "job_06",
          "job_07",
          "job_08",
          "job_09",
          "job_10",
          "job_11",
          "job_12",
          "job_13",
          "job_14"
         ],
         "yaxis": "y"
        },
        {
         "alignmentgroup": "True",
         "base": [
          "2022-01-01T00:08:46",
          "2022-01-01T00:02:50",
          "2022-01-01T00:11:06",
          "2022-01-01T00:22:35",
          "2022-01-01T00:15:28",
          "2022-01-01T00:07:11",
          "2022-01-01T00:06:25",
          "2022-01-01T00:09:39",
          "2022-01-01T00:04:41",
          "2022-01-01T00:19:54",
          "2022-01-01T00:04:00",
          "2022-01-01T00:03:02",
          "2022-01-01T00:16:16",
          "2022-01-01T00:01:30",
          "2022-01-01T00:18:39"
         ],
         "hovertemplate": "Machine=machine_00<br>Start=%{base}<br>Finish=%{x}<br>Job=%{y}<extra></extra>",
         "legendgroup": "machine_00",
         "marker": {
          "color": "#19d3f3",
          "pattern": {
           "shape": ""
          }
         },
         "name": "machine_00",
         "offsetgroup": "machine_00",
         "orientation": "h",
         "showlegend": true,
         "textposition": "auto",
         "type": "bar",
         "x": [
          53000,
          12000,
          83000,
          93000,
          44000,
          95000,
          46000,
          87000,
          78000,
          69000,
          20000,
          58000,
          42000,
          80000,
          75000
         ],
         "xaxis": "x",
         "y": [
          "job_00",
          "job_01",
          "job_02",
          "job_03",
          "job_04",
          "job_05",
          "job_06",
          "job_07",
          "job_08",
          "job_09",
          "job_10",
          "job_11",
          "job_12",
          "job_13",
          "job_14"
         ],
         "yaxis": "y"
        },
        {
         "alignmentgroup": "True",
         "base": [
          "2022-01-01T00:01:34",
          "2022-01-01T00:09:44",
          "2022-01-01T00:20:13",
          "2022-01-01T00:11:22",
          "2022-01-01T00:21:20",
          "2022-01-01T00:04:58",
          "2022-01-01T00:03:09",
          "2022-01-01T00:00:28",
          "2022-01-01T00:04:08",
          "2022-01-01T00:05:26",
          "2022-01-01T00:08:20",
          "2022-01-01T00:00:00",
          "2022-01-01T00:00:37",
          "2022-01-01T00:16:35",
          "2022-01-01T00:04:44"
         ],
         "hovertemplate": "Machine=machine_05<br>Start=%{base}<br>Finish=%{x}<br>Job=%{y}<extra></extra>",
         "legendgroup": "machine_05",
         "marker": {
          "color": "#FF6692",
          "pattern": {
           "shape": ""
          }
         },
         "name": "machine_05",
         "offsetgroup": "machine_05",
         "orientation": "h",
         "showlegend": true,
         "textposition": "auto",
         "type": "bar",
         "x": [
          95000,
          98000,
          37000,
          77000,
          25000,
          28000,
          59000,
          9000,
          33000,
          84000,
          76000,
          28000,
          27000,
          28000,
          14000
         ],
         "xaxis": "x",
         "y": [
          "job_00",
          "job_01",
          "job_02",
          "job_03",
          "job_04",
          "job_05",
          "job_06",
          "job_07",
          "job_08",
          "job_09",
          "job_10",
          "job_11",
          "job_12",
          "job_13",
          "job_14"
         ],
         "yaxis": "y"
        },
        {
         "alignmentgroup": "True",
         "base": [
          "2022-01-01T00:04:45",
          "2022-01-01T00:14:31",
          "2022-01-01T00:15:26",
          "2022-01-01T00:02:23",
          "2022-01-01T00:12:55",
          "2022-01-01T00:05:26",
          "2022-01-01T00:01:11",
          "2022-01-01T00:02:03",
          "2022-01-01T00:16:58",
          "2022-01-01T00:21:48",
          "2022-01-01T00:01:39",
          "2022-01-01T00:04:00",
          "2022-01-01T00:11:17",
          "2022-01-01T00:18:55",
          "2022-01-01T00:00:00"
         ],
         "hovertemplate": "Machine=machine_04<br>Start=%{base}<br>Finish=%{x}<br>Job=%{y}<extra></extra>",
         "legendgroup": "machine_04",
         "marker": {
          "color": "#B6E880",
          "pattern": {
           "shape": ""
          }
         },
         "name": "machine_04",
         "offsetgroup": "machine_04",
         "orientation": "h",
         "showlegend": true,
         "textposition": "auto",
         "type": "bar",
         "x": [
          21000,
          55000,
          92000,
          60000,
          96000,
          61000,
          28000,
          20000,
          33000,
          96000,
          24000,
          45000,
          98000,
          94000,
          61000
         ],
         "xaxis": "x",
         "y": [
          "job_00",
          "job_01",
          "job_02",
          "job_03",
          "job_04",
          "job_05",
          "job_06",
          "job_07",
          "job_08",
          "job_09",
          "job_10",
          "job_11",
          "job_12",
          "job_13",
          "job_14"
         ],
         "yaxis": "y"
        },
        {
         "alignmentgroup": "True",
         "base": [
          "2022-01-01T00:04:07",
          "2022-01-01T00:04:23",
          "2022-01-01T00:17:52",
          "2022-01-01T00:21:12",
          "2022-01-01T00:02:50",
          "2022-01-01T00:02:19",
          "2022-01-01T00:05:42",
          "2022-01-01T00:12:11",
          "2022-01-01T00:16:00",
          "2022-01-01T00:13:25",
          "2022-01-01T00:06:25",
          "2022-01-01T00:00:28",
          "2022-01-01T00:06:50",
          "2022-01-01T00:09:14",
          "2022-01-01T00:14:48"
         ],
         "hovertemplate": "Machine=machine_09<br>Start=%{base}<br>Finish=%{x}<br>Job=%{y}<extra></extra>",
         "legendgroup": "machine_09",
         "marker": {
          "color": "#FF97FF",
          "pattern": {
           "shape": ""
          }
         },
         "name": "machine_09",
         "offsetgroup": "machine_09",
         "orientation": "h",
         "showlegend": true,
         "textposition": "auto",
         "type": "bar",
         "x": [
          16000,
          79000,
          79000,
          83000,
          77000,
          10000,
          43000,
          43000,
          42000,
          81000,
          25000,
          97000,
          48000,
          80000,
          72000
         ],
         "xaxis": "x",
         "y": [
          "job_00",
          "job_01",
          "job_02",
          "job_03",
          "job_04",
          "job_05",
          "job_06",
          "job_07",
          "job_08",
          "job_09",
          "job_10",
          "job_11",
          "job_12",
          "job_13",
          "job_14"
         ],
         "yaxis": "y"
        },
        {
         "alignmentgroup": "True",
         "base": [
          "2022-01-01T00:07:16",
          "2022-01-01T00:08:27",
          "2022-01-01T00:16:58",
          "2022-01-01T00:20:31",
          "2022-01-01T00:19:16",
          "2022-01-01T00:02:10",
          "2022-01-01T00:10:01",
          "2022-01-01T00:06:22",
          "2022-01-01T00:14:02",
          "2022-01-01T00:10:53",
          "2022-01-01T00:15:31",
          "2022-01-01T00:05:06",
          "2022-01-01T00:12:55",
          "2022-01-01T00:17:52",
          "2022-01-01T00:02:29"
         ],
         "hovertemplate": "Machine=machine_06<br>Start=%{base}<br>Finish=%{x}<br>Job=%{y}<extra></extra>",
         "legendgroup": "machine_06",
         "marker": {
          "color": "#FECB52",
          "pattern": {
           "shape": ""
          }
         },
         "name": "machine_06",
         "offsetgroup": "machine_06",
         "orientation": "h",
         "showlegend": true,
         "textposition": "auto",
         "type": "bar",
         "x": [
          71000,
          77000,
          54000,
          41000,
          75000,
          9000,
          52000,
          54000,
          89000,
          78000,
          18000,
          76000,
          67000,
          63000,
          37000
         ],
         "xaxis": "x",
         "y": [
          "job_00",
          "job_01",
          "job_02",
          "job_03",
          "job_04",
          "job_05",
          "job_06",
          "job_07",
          "job_08",
          "job_09",
          "job_10",
          "job_11",
          "job_12",
          "job_13",
          "job_14"
         ],
         "yaxis": "y"
        }
       ],
       "layout": {
        "barmode": "overlay",
        "legend": {
         "title": {
          "text": "Machine"
         },
         "tracegroupgap": 0
        },
        "margin": {
         "t": 60
        },
        "template": {
         "data": {
          "bar": [
           {
            "error_x": {
             "color": "#2a3f5f"
            },
            "error_y": {
             "color": "#2a3f5f"
            },
            "marker": {
             "line": {
              "color": "#E5ECF6",
              "width": 0.5
             },
             "pattern": {
              "fillmode": "overlay",
              "size": 10,
              "solidity": 0.2
             }
            },
            "type": "bar"
           }
          ],
          "barpolar": [
           {
            "marker": {
             "line": {
              "color": "#E5ECF6",
              "width": 0.5
             },
             "pattern": {
              "fillmode": "overlay",
              "size": 10,
              "solidity": 0.2
             }
            },
            "type": "barpolar"
           }
          ],
          "carpet": [
           {
            "aaxis": {
             "endlinecolor": "#2a3f5f",
             "gridcolor": "white",
             "linecolor": "white",
             "minorgridcolor": "white",
             "startlinecolor": "#2a3f5f"
            },
            "baxis": {
             "endlinecolor": "#2a3f5f",
             "gridcolor": "white",
             "linecolor": "white",
             "minorgridcolor": "white",
             "startlinecolor": "#2a3f5f"
            },
            "type": "carpet"
           }
          ],
          "choropleth": [
           {
            "colorbar": {
             "outlinewidth": 0,
             "ticks": ""
            },
            "type": "choropleth"
           }
          ],
          "contour": [
           {
            "colorbar": {
             "outlinewidth": 0,
             "ticks": ""
            },
            "colorscale": [
             [
              0,
              "#0d0887"
             ],
             [
              0.1111111111111111,
              "#46039f"
             ],
             [
              0.2222222222222222,
              "#7201a8"
             ],
             [
              0.3333333333333333,
              "#9c179e"
             ],
             [
              0.4444444444444444,
              "#bd3786"
             ],
             [
              0.5555555555555556,
              "#d8576b"
             ],
             [
              0.6666666666666666,
              "#ed7953"
             ],
             [
              0.7777777777777778,
              "#fb9f3a"
             ],
             [
              0.8888888888888888,
              "#fdca26"
             ],
             [
              1,
              "#f0f921"
             ]
            ],
            "type": "contour"
           }
          ],
          "contourcarpet": [
           {
            "colorbar": {
             "outlinewidth": 0,
             "ticks": ""
            },
            "type": "contourcarpet"
           }
          ],
          "heatmap": [
           {
            "colorbar": {
             "outlinewidth": 0,
             "ticks": ""
            },
            "colorscale": [
             [
              0,
              "#0d0887"
             ],
             [
              0.1111111111111111,
              "#46039f"
             ],
             [
              0.2222222222222222,
              "#7201a8"
             ],
             [
              0.3333333333333333,
              "#9c179e"
             ],
             [
              0.4444444444444444,
              "#bd3786"
             ],
             [
              0.5555555555555556,
              "#d8576b"
             ],
             [
              0.6666666666666666,
              "#ed7953"
             ],
             [
              0.7777777777777778,
              "#fb9f3a"
             ],
             [
              0.8888888888888888,
              "#fdca26"
             ],
             [
              1,
              "#f0f921"
             ]
            ],
            "type": "heatmap"
           }
          ],
          "heatmapgl": [
           {
            "colorbar": {
             "outlinewidth": 0,
             "ticks": ""
            },
            "colorscale": [
             [
              0,
              "#0d0887"
             ],
             [
              0.1111111111111111,
              "#46039f"
             ],
             [
              0.2222222222222222,
              "#7201a8"
             ],
             [
              0.3333333333333333,
              "#9c179e"
             ],
             [
              0.4444444444444444,
              "#bd3786"
             ],
             [
              0.5555555555555556,
              "#d8576b"
             ],
             [
              0.6666666666666666,
              "#ed7953"
             ],
             [
              0.7777777777777778,
              "#fb9f3a"
             ],
             [
              0.8888888888888888,
              "#fdca26"
             ],
             [
              1,
              "#f0f921"
             ]
            ],
            "type": "heatmapgl"
           }
          ],
          "histogram": [
           {
            "marker": {
             "pattern": {
              "fillmode": "overlay",
              "size": 10,
              "solidity": 0.2
             }
            },
            "type": "histogram"
           }
          ],
          "histogram2d": [
           {
            "colorbar": {
             "outlinewidth": 0,
             "ticks": ""
            },
            "colorscale": [
             [
              0,
              "#0d0887"
             ],
             [
              0.1111111111111111,
              "#46039f"
             ],
             [
              0.2222222222222222,
              "#7201a8"
             ],
             [
              0.3333333333333333,
              "#9c179e"
             ],
             [
              0.4444444444444444,
              "#bd3786"
             ],
             [
              0.5555555555555556,
              "#d8576b"
             ],
             [
              0.6666666666666666,
              "#ed7953"
             ],
             [
              0.7777777777777778,
              "#fb9f3a"
             ],
             [
              0.8888888888888888,
              "#fdca26"
             ],
             [
              1,
              "#f0f921"
             ]
            ],
            "type": "histogram2d"
           }
          ],
          "histogram2dcontour": [
           {
            "colorbar": {
             "outlinewidth": 0,
             "ticks": ""
            },
            "colorscale": [
             [
              0,
              "#0d0887"
             ],
             [
              0.1111111111111111,
              "#46039f"
             ],
             [
              0.2222222222222222,
              "#7201a8"
             ],
             [
              0.3333333333333333,
              "#9c179e"
             ],
             [
              0.4444444444444444,
              "#bd3786"
             ],
             [
              0.5555555555555556,
              "#d8576b"
             ],
             [
              0.6666666666666666,
              "#ed7953"
             ],
             [
              0.7777777777777778,
              "#fb9f3a"
             ],
             [
              0.8888888888888888,
              "#fdca26"
             ],
             [
              1,
              "#f0f921"
             ]
            ],
            "type": "histogram2dcontour"
           }
          ],
          "mesh3d": [
           {
            "colorbar": {
             "outlinewidth": 0,
             "ticks": ""
            },
            "type": "mesh3d"
           }
          ],
          "parcoords": [
           {
            "line": {
             "colorbar": {
              "outlinewidth": 0,
              "ticks": ""
             }
            },
            "type": "parcoords"
           }
          ],
          "pie": [
           {
            "automargin": true,
            "type": "pie"
           }
          ],
          "scatter": [
           {
            "fillpattern": {
             "fillmode": "overlay",
             "size": 10,
             "solidity": 0.2
            },
            "type": "scatter"
           }
          ],
          "scatter3d": [
           {
            "line": {
             "colorbar": {
              "outlinewidth": 0,
              "ticks": ""
             }
            },
            "marker": {
             "colorbar": {
              "outlinewidth": 0,
              "ticks": ""
             }
            },
            "type": "scatter3d"
           }
          ],
          "scattercarpet": [
           {
            "marker": {
             "colorbar": {
              "outlinewidth": 0,
              "ticks": ""
             }
            },
            "type": "scattercarpet"
           }
          ],
          "scattergeo": [
           {
            "marker": {
             "colorbar": {
              "outlinewidth": 0,
              "ticks": ""
             }
            },
            "type": "scattergeo"
           }
          ],
          "scattergl": [
           {
            "marker": {
             "colorbar": {
              "outlinewidth": 0,
              "ticks": ""
             }
            },
            "type": "scattergl"
           }
          ],
          "scattermapbox": [
           {
            "marker": {
             "colorbar": {
              "outlinewidth": 0,
              "ticks": ""
             }
            },
            "type": "scattermapbox"
           }
          ],
          "scatterpolar": [
           {
            "marker": {
             "colorbar": {
              "outlinewidth": 0,
              "ticks": ""
             }
            },
            "type": "scatterpolar"
           }
          ],
          "scatterpolargl": [
           {
            "marker": {
             "colorbar": {
              "outlinewidth": 0,
              "ticks": ""
             }
            },
            "type": "scatterpolargl"
           }
          ],
          "scatterternary": [
           {
            "marker": {
             "colorbar": {
              "outlinewidth": 0,
              "ticks": ""
             }
            },
            "type": "scatterternary"
           }
          ],
          "surface": [
           {
            "colorbar": {
             "outlinewidth": 0,
             "ticks": ""
            },
            "colorscale": [
             [
              0,
              "#0d0887"
             ],
             [
              0.1111111111111111,
              "#46039f"
             ],
             [
              0.2222222222222222,
              "#7201a8"
             ],
             [
              0.3333333333333333,
              "#9c179e"
             ],
             [
              0.4444444444444444,
              "#bd3786"
             ],
             [
              0.5555555555555556,
              "#d8576b"
             ],
             [
              0.6666666666666666,
              "#ed7953"
             ],
             [
              0.7777777777777778,
              "#fb9f3a"
             ],
             [
              0.8888888888888888,
              "#fdca26"
             ],
             [
              1,
              "#f0f921"
             ]
            ],
            "type": "surface"
           }
          ],
          "table": [
           {
            "cells": {
             "fill": {
              "color": "#EBF0F8"
             },
             "line": {
              "color": "white"
             }
            },
            "header": {
             "fill": {
              "color": "#C8D4E3"
             },
             "line": {
              "color": "white"
             }
            },
            "type": "table"
           }
          ]
         },
         "layout": {
          "annotationdefaults": {
           "arrowcolor": "#2a3f5f",
           "arrowhead": 0,
           "arrowwidth": 1
          },
          "autotypenumbers": "strict",
          "coloraxis": {
           "colorbar": {
            "outlinewidth": 0,
            "ticks": ""
           }
          },
          "colorscale": {
           "diverging": [
            [
             0,
             "#8e0152"
            ],
            [
             0.1,
             "#c51b7d"
            ],
            [
             0.2,
             "#de77ae"
            ],
            [
             0.3,
             "#f1b6da"
            ],
            [
             0.4,
             "#fde0ef"
            ],
            [
             0.5,
             "#f7f7f7"
            ],
            [
             0.6,
             "#e6f5d0"
            ],
            [
             0.7,
             "#b8e186"
            ],
            [
             0.8,
             "#7fbc41"
            ],
            [
             0.9,
             "#4d9221"
            ],
            [
             1,
             "#276419"
            ]
           ],
           "sequential": [
            [
             0,
             "#0d0887"
            ],
            [
             0.1111111111111111,
             "#46039f"
            ],
            [
             0.2222222222222222,
             "#7201a8"
            ],
            [
             0.3333333333333333,
             "#9c179e"
            ],
            [
             0.4444444444444444,
             "#bd3786"
            ],
            [
             0.5555555555555556,
             "#d8576b"
            ],
            [
             0.6666666666666666,
             "#ed7953"
            ],
            [
             0.7777777777777778,
             "#fb9f3a"
            ],
            [
             0.8888888888888888,
             "#fdca26"
            ],
            [
             1,
             "#f0f921"
            ]
           ],
           "sequentialminus": [
            [
             0,
             "#0d0887"
            ],
            [
             0.1111111111111111,
             "#46039f"
            ],
            [
             0.2222222222222222,
             "#7201a8"
            ],
            [
             0.3333333333333333,
             "#9c179e"
            ],
            [
             0.4444444444444444,
             "#bd3786"
            ],
            [
             0.5555555555555556,
             "#d8576b"
            ],
            [
             0.6666666666666666,
             "#ed7953"
            ],
            [
             0.7777777777777778,
             "#fb9f3a"
            ],
            [
             0.8888888888888888,
             "#fdca26"
            ],
            [
             1,
             "#f0f921"
            ]
           ]
          },
          "colorway": [
           "#636efa",
           "#EF553B",
           "#00cc96",
           "#ab63fa",
           "#FFA15A",
           "#19d3f3",
           "#FF6692",
           "#B6E880",
           "#FF97FF",
           "#FECB52"
          ],
          "font": {
           "color": "#2a3f5f"
          },
          "geo": {
           "bgcolor": "white",
           "lakecolor": "white",
           "landcolor": "#E5ECF6",
           "showlakes": true,
           "showland": true,
           "subunitcolor": "white"
          },
          "hoverlabel": {
           "align": "left"
          },
          "hovermode": "closest",
          "mapbox": {
           "style": "light"
          },
          "paper_bgcolor": "white",
          "plot_bgcolor": "#E5ECF6",
          "polar": {
           "angularaxis": {
            "gridcolor": "white",
            "linecolor": "white",
            "ticks": ""
           },
           "bgcolor": "#E5ECF6",
           "radialaxis": {
            "gridcolor": "white",
            "linecolor": "white",
            "ticks": ""
           }
          },
          "scene": {
           "xaxis": {
            "backgroundcolor": "#E5ECF6",
            "gridcolor": "white",
            "gridwidth": 2,
            "linecolor": "white",
            "showbackground": true,
            "ticks": "",
            "zerolinecolor": "white"
           },
           "yaxis": {
            "backgroundcolor": "#E5ECF6",
            "gridcolor": "white",
            "gridwidth": 2,
            "linecolor": "white",
            "showbackground": true,
            "ticks": "",
            "zerolinecolor": "white"
           },
           "zaxis": {
            "backgroundcolor": "#E5ECF6",
            "gridcolor": "white",
            "gridwidth": 2,
            "linecolor": "white",
            "showbackground": true,
            "ticks": "",
            "zerolinecolor": "white"
           }
          },
          "shapedefaults": {
           "line": {
            "color": "#2a3f5f"
           }
          },
          "ternary": {
           "aaxis": {
            "gridcolor": "white",
            "linecolor": "white",
            "ticks": ""
           },
           "baxis": {
            "gridcolor": "white",
            "linecolor": "white",
            "ticks": ""
           },
           "bgcolor": "#E5ECF6",
           "caxis": {
            "gridcolor": "white",
            "linecolor": "white",
            "ticks": ""
           }
          },
          "title": {
           "x": 0.05
          },
          "xaxis": {
           "automargin": true,
           "gridcolor": "white",
           "linecolor": "white",
           "ticks": "",
           "title": {
            "standoff": 15
           },
           "zerolinecolor": "white",
           "zerolinewidth": 2
          },
          "yaxis": {
           "automargin": true,
           "gridcolor": "white",
           "linecolor": "white",
           "ticks": "",
           "title": {
            "standoff": 15
           },
           "zerolinecolor": "white",
           "zerolinewidth": 2
          }
         }
        },
        "xaxis": {
         "anchor": "y",
         "domain": [
          0,
          1
         ],
         "type": "date"
        },
        "yaxis": {
         "anchor": "x",
         "domain": [
          0,
          1
         ],
         "title": {
          "text": "Job"
         }
        }
       }
      }
     },
     "metadata": {},
     "output_type": "display_data"
    },
    {
     "name": "stdout",
     "output_type": "stream",
     "text": [
      "[0 0 0 0 0 0 0 0 0 0 0 0 0 0 0 0 0 0 0 0 0 0 0 0 0 0 0 0 0 0]\n",
      "1455\n",
      "540\n",
      "276\n"
     ]
    }
   ],
   "source": [
    "env.render()\n",
    "print(obs['action_mask'])\n",
    "#print(49*60+14-31*60-24)\n",
    "print(env.env.current_timestep)\n",
    "print(9*60)\n",
    "print(episode.length)"
   ]
  },
  {
   "cell_type": "code",
   "execution_count": null,
   "metadata": {},
   "outputs": [],
   "source": [
    "for _ in range(15):\n",
    "    policy = agent.get_policy(DEFAULT_POLICY_ID)\n",
    "    action_list=[]\n",
    "    env = env_creator(\"s\")\n",
    "\n",
    "    obs = env.reset()\n",
    "    # env2 is copy for later going evaluation\n",
    "\n",
    "    done = False\n",
    "    t=time.time()\n",
    "    while not done:\n",
    "        legal_action=obs['action_mask']\n",
    "        action=np.random.choice(len(legal_action), 1, p=(legal_action / legal_action.sum()))[0]\n",
    "        action_list.append(action)\n",
    "        #print(action)\n",
    "        #print(obs['action_mask'][action])\n",
    "        obs, reward, done, _ = env.step(action)\n",
    "        #print(obs)\n",
    "        #time.sleep(0.1)\n",
    "        episode.length += 1\n",
    "\n",
    "    length_list.append(episode.length)\n",
    "    reward_list.append(reward)\n",
    "    #print(f\"instance: {env.env.instance} in time: {time.time()-t}s\")\n",
    "    print(reward)\n",
    "    #env.render()\n",
    "    #env.close()"
   ]
  },
  {
   "cell_type": "code",
   "execution_count": null,
   "metadata": {},
   "outputs": [],
   "source": [
    "env=env_creator('a')\n",
    "state_bib=[]\n",
    "obs=env.reset()\n",
    "state_init=obs\n",
    "state_bib.append(obs)\n",
    "env.render()\n",
    "action_bib=[]\n",
    "done=False\n",
    "#for _ in range(5):\n",
    "while not done:\n",
    "    legal_action=obs['action_mask']\n",
    "    action=np.random.choice(len(legal_action), 1, p=(legal_action / legal_action.sum()))[0]\n",
    "    #print(action)\n",
    "    action_bib.append(action)\n",
    "    obs, reward, done, _ = env.step(action)\n",
    "    state_bib.append(obs)\n",
    "    if not np.array_equal(obs,state_bib[-1]):\n",
    "        print(\"error\")\n",
    "        print(obs)\n",
    "        print(\"----------------------------------------------\")\n",
    "        print(state_bib[-1])\n",
    "        break\n",
    "    \n",
    "    #env.render()\n",
    "env.render()\n",
    "\n",
    "#print(obs)\n",
    "#real=np.ravel(obs['real_obs']).astype(np.float64)\n"
   ]
  },
  {
   "cell_type": "code",
   "execution_count": null,
   "metadata": {},
   "outputs": [],
   "source": [
    "env_2=env_creator(\"b\")\n",
    "bib_2=action_bib\n",
    "state_bib_2=[]\n",
    "obs_2=env_2.reset()\n",
    "state_bib_2.append(obs_2)\n",
    "import random\n",
    "counter=0\n",
    "if not np.array_equal(obs_2,state_bib[counter]):\n",
    "    print(\"error\")\n",
    "    #print(obs_2)\n",
    "    #print(state_bib[counter])\n",
    "\n",
    "for action in bib_2:\n",
    "    obs_2, reward, done, _ =env_2.step(action)\n",
    "    state_bib_2.append(obs_2)\n",
    "    counter+=1\n",
    "for k in range(len(state_bib)):   \n",
    "    for i,j in zip(state_bib_2[k]['obs'],state_bib[k]['obs']):\n",
    "        #print(i)\n",
    "        #print(j)\n",
    "        if i!=j:\n",
    "            print(\"error with i and j\")\n",
    "            print(i)\n",
    "            print(j)\n",
    "        else:\n",
    "            #print('good')\n",
    "            pass\n",
    "\n",
    "# for i in obs_2['obs']:\n",
    "\n",
    "#     print(i)\n",
    "#     #print(j)\n",
    "# for j in state_bib[counter+1]['obs']:\n",
    "#     print(j)\n"
   ]
  },
  {
   "cell_type": "code",
   "execution_count": null,
   "metadata": {},
   "outputs": [],
   "source": [
    "ray.shutdown()\n",
    "\n",
    "tune.run(\n",
    "    \"contrib/AlphaZero\",\n",
    "    stop={\"training_iteration\": 10},\n",
    "    max_failures=0,\n",
    "    #restore='/Users/felix/sciebo/masterarbeit/progra/model-based_rl/published_checkpoints/checkpoints_az_tune/checkpoint_000500/checkpoint-500',\n",
    "    config={\n",
    "        \"env\": 'custom_jssp',\n",
    "        \"num_workers\": 4,\n",
    "        \"rollout_fragment_length\": 50,\n",
    "        \"train_batch_size\": 50,\n",
    "        \"sgd_minibatch_size\": 32,\n",
    "        \"lr\": 1e-4,\n",
    "        \"num_sgd_iter\": 1,\n",
    "        \"mcts_config\": {\n",
    "            \"puct_coefficient\": 1.5,\n",
    "            \"num_simulations\": 100,\n",
    "            \"temperature\": 1.0,\n",
    "            \"dirichlet_epsilon\": 0.20,\n",
    "            \"dirichlet_noise\": 0.03,\n",
    "            \"argmax_tree_policy\": False,\n",
    "            \"add_dirichlet_noise\": False,\n",
    "        },\n",
    "        \"ranked_rewards\": {\n",
    "            \"enable\": True,\n",
    "        },\n",
    "        \"model\": {\n",
    "            \"custom_model\": \"dense_model\",\n",
    "        },\n",
    "        \"evaluation_interval\": 1,\n",
    "        \"evaluation_config\": {\n",
    "            \"render_env\": True,\n",
    "            \"mcts_config\": {\n",
    "                \"argmax_tree_policy\": True,\n",
    "                \"add_dirichlet_noise\": False,\n",
    "            },\n",
    "        },\n",
    "    },\n",
    ")"
   ]
  },
  {
   "cell_type": "code",
   "execution_count": null,
   "metadata": {},
   "outputs": [],
   "source": []
  },
  {
   "cell_type": "code",
   "execution_count": null,
   "metadata": {},
   "outputs": [],
   "source": []
  },
  {
   "cell_type": "code",
   "execution_count": null,
   "metadata": {},
   "outputs": [],
   "source": []
  },
  {
   "cell_type": "code",
   "execution_count": null,
   "metadata": {},
   "outputs": [],
   "source": []
  },
  {
   "cell_type": "code",
   "execution_count": null,
   "metadata": {},
   "outputs": [],
   "source": []
  },
  {
   "cell_type": "code",
   "execution_count": null,
   "metadata": {},
   "outputs": [],
   "source": [
    "# env = env_creator(\"setting\")\n",
    "# config.update(\n",
    "#     simple_optimizer=True,\n",
    "#     num_workers=0,\n",
    "#     train_batch_size=0,\n",
    "#     rollout_fragment_length=0,\n",
    "#     timesteps_per_iteration=0,\n",
    "#     evaluation_interval=1,\n",
    "#     # evaluation_num_workers=...,\n",
    "#     # evaluation_config=dict(explore=False),\n",
    "#     # evaluation_num_episodes=...,\n",
    "# )\n",
    "\n",
    "# results = tune.run(\n",
    "#     agent,\n",
    "#     config=config)"
   ]
  },
  {
   "cell_type": "code",
   "execution_count": null,
   "metadata": {},
   "outputs": [],
   "source": [
    "#agent.load_checkpoint(\"training_checkpoints/checkpoints_az_jsslite/checkpoint-5\")\n",
    "for _ in range(10):\n",
    "    import time\n",
    "    length_list=[]\n",
    "    reward_list=[]\n",
    "    for _ in range(1):\n",
    "        policy = agent.get_policy(DEFAULT_POLICY_ID)\n",
    "        action_list=[]\n",
    "        env = env_creator(\"s\")\n",
    "\n",
    "        obs = env.reset()\n",
    "        # env2 is copy for later going evaluation\n",
    "        env2=deepcopy(env)\n",
    "\n",
    "        episode = MultiAgentEpisode(\n",
    "            PolicyMap(0,0),\n",
    "            lambda _, __: DEFAULT_POLICY_ID,\n",
    "            lambda: None,\n",
    "            lambda _: None,\n",
    "            0,\n",
    "        )\n",
    "\n",
    "        episode.user_data['initial_state'] = env.get_state()\n",
    "\n",
    "        done = False\n",
    "\n",
    "        while not done:\n",
    "            action, _, _ = policy.compute_single_action(obs, episode=episode)\n",
    "            action_list.append(action)\n",
    "            #print(action_dic[action])\n",
    "            obs, reward, done, _ = env.step(action)\n",
    "            #print(obs)\n",
    "            #env.render(render_mode='human')\n",
    "            #time.sleep(0.1)\n",
    "            episode.length += 1\n",
    "\n",
    "        length_list.append(episode.length)\n",
    "        reward_list.append(reward)\n",
    "        print(reward)\n",
    "        env.render()\n",
    "        #env.close()"
   ]
  },
  {
   "cell_type": "code",
   "execution_count": null,
   "metadata": {},
   "outputs": [],
   "source": [
    "env.render()"
   ]
  },
  {
   "cell_type": "code",
   "execution_count": null,
   "metadata": {},
   "outputs": [],
   "source": []
  },
  {
   "cell_type": "markdown",
   "metadata": {},
   "source": []
  },
  {
   "cell_type": "code",
   "execution_count": null,
   "metadata": {},
   "outputs": [],
   "source": [
    "print(reward)"
   ]
  },
  {
   "cell_type": "code",
   "execution_count": null,
   "metadata": {},
   "outputs": [],
   "source": []
  },
  {
   "cell_type": "code",
   "execution_count": null,
   "metadata": {},
   "outputs": [],
   "source": [
    "print(env.env.current_timestep)\n"
   ]
  },
  {
   "cell_type": "code",
   "execution_count": null,
   "metadata": {},
   "outputs": [],
   "source": []
  },
  {
   "cell_type": "code",
   "execution_count": null,
   "metadata": {},
   "outputs": [],
   "source": []
  },
  {
   "cell_type": "code",
   "execution_count": null,
   "metadata": {},
   "outputs": [],
   "source": []
  },
  {
   "cell_type": "code",
   "execution_count": null,
   "metadata": {},
   "outputs": [],
   "source": []
  },
  {
   "cell_type": "code",
   "execution_count": null,
   "metadata": {},
   "outputs": [],
   "source": [
    "print(env.env.done)"
   ]
  },
  {
   "cell_type": "code",
   "execution_count": null,
   "metadata": {},
   "outputs": [],
   "source": [
    "print(env.env.production_list)"
   ]
  },
  {
   "cell_type": "code",
   "execution_count": null,
   "metadata": {},
   "outputs": [],
   "source": []
  },
  {
   "cell_type": "code",
   "execution_count": null,
   "metadata": {},
   "outputs": [],
   "source": []
  },
  {
   "cell_type": "code",
   "execution_count": null,
   "metadata": {},
   "outputs": [],
   "source": []
  },
  {
   "cell_type": "code",
   "execution_count": null,
   "metadata": {},
   "outputs": [],
   "source": []
  },
  {
   "cell_type": "code",
   "execution_count": null,
   "metadata": {},
   "outputs": [],
   "source": []
  },
  {
   "cell_type": "code",
   "execution_count": null,
   "metadata": {},
   "outputs": [],
   "source": [
    "obs_1=env.reset()\n",
    "#print(obs_1)\n",
    "\n",
    "env_1=env_creator(\"a\")\n",
    "env_2=env_creator(\"b\")\n",
    "state_1=env_1.reset()\n",
    "state_2=env_2.reset()\n",
    "\n",
    "for a in a_list:\n",
    "    state_1, reward_1, done_1, info_1 = env_1.step(a)\n",
    "    state_2, reward_2, done_2, info_2 = env_2.step(a)\n",
    "\n",
    "    if np.array_equal(state_1['obs'],state_2['obs'])==False :\n",
    "        print(\"error obs\")\n",
    "        print(state_1)\n",
    "        print(state_2)\n",
    "    if np.array_equal(state_1['action_mask'],state_2['action_mask'])==False :\n",
    "        print(\"error mask\")\n",
    "        print(state_1)\n",
    "        print(state_2)"
   ]
  },
  {
   "cell_type": "code",
   "execution_count": null,
   "metadata": {},
   "outputs": [],
   "source": [
    "for i in range(5):\n",
    "    \n",
    "    agent.load_checkpoint('training_checkpoints/checkpoints_az_jsslite/checkpoint-'+str(i+1))\n",
    "    policy = agent.get_policy(DEFAULT_POLICY_ID)\n",
    "    action_list=[]\n",
    "    env = env_creator(\"s\")\n",
    "\n",
    "    obs = env.reset()\n",
    "    # env2 is copy for later going evaluation\n",
    "    #env2=deepcopy(env)\n",
    "\n",
    "    episode = MultiAgentEpisode(\n",
    "        PolicyMap(0,0),\n",
    "        lambda _, __: DEFAULT_POLICY_ID,\n",
    "        lambda: None,\n",
    "        lambda _: None,\n",
    "        0,\n",
    "    )\n",
    "\n",
    "    episode.user_data['initial_state'] = env.get_state()\n",
    "\n",
    "    done = False\n",
    "    steps=0\n",
    "    t=time.time()\n",
    "    while not done:\n",
    "        action, _, _ = policy.compute_single_action(obs, episode=episode)\n",
    "        action_list.append(action)\n",
    "        #print(action_dic[action])\n",
    "        obs, reward, done, _ = env.step(action)\n",
    "        #print(obs)\n",
    "        #env.render(render_mode='human')\n",
    "        #time.sleep(0.1)\n",
    "        steps+=1\n",
    "    print(f\"checkpoint {i} got reward {reward} in {steps} steps and time: {time.time()-t}\")"
   ]
  },
  {
   "cell_type": "code",
   "execution_count": null,
   "metadata": {},
   "outputs": [],
   "source": [
    "env.render()"
   ]
  },
  {
   "cell_type": "code",
   "execution_count": null,
   "metadata": {},
   "outputs": [],
   "source": [
    "print(env.env.job_tasklength_matrix)"
   ]
  },
  {
   "cell_type": "code",
   "execution_count": null,
   "metadata": {},
   "outputs": [],
   "source": []
  },
  {
   "cell_type": "code",
   "execution_count": null,
   "metadata": {},
   "outputs": [],
   "source": []
  },
  {
   "cell_type": "code",
   "execution_count": null,
   "metadata": {},
   "outputs": [],
   "source": []
  },
  {
   "cell_type": "code",
   "execution_count": null,
   "metadata": {},
   "outputs": [],
   "source": [
    "print(reward)\n",
    "print(env.env.count_finished_tasks_job_matrix)\n",
    "env.render()\n",
    "env.render(y_bar=\"Machine\",x_bar=\"Job\")\n"
   ]
  },
  {
   "cell_type": "code",
   "execution_count": null,
   "metadata": {},
   "outputs": [],
   "source": [
    "env.render()\n",
    "#env.render(y_bar=\"Machine\",x_bar=\"Job\")\n",
    "print(done)\n",
    "print(reward)\n",
    "print(env.invalid_actions)"
   ]
  },
  {
   "cell_type": "code",
   "execution_count": null,
   "metadata": {},
   "outputs": [],
   "source": [
    "env.reset()\n",
    "from random import randrange\n",
    "a_list=[]\n",
    "for _ in range(30):\n",
    "    state=env.reset()\n",
    "    done=False\n",
    "    i=0\n",
    "    reward=0\n",
    "    #print(state['obs'].shape)\n",
    "    #for i in range(150):\n",
    "    while not done:\n",
    "        i+=1\n",
    "        legal_action=state['action_mask']\n",
    "        #print(legal_action)\n",
    "        action=np.random.choice(len(legal_action), 1, p=(legal_action / legal_action.sum()))[0]\n",
    "        a_list.append(action)\n",
    "        #action=randrange(env.action_space.n/2)\n",
    "        #print(action)\n",
    "        token=True\n",
    "        #print(\"before:\")\n",
    "        #env.render(start_count=1,x_bar=\"Job\",y_bar=\"Machine\")\n",
    "        state, reward, done, info=env.step(action)\n",
    "    #env.render()\n",
    "    print(reward)\n",
    "    \n",
    "    if reward > -68:\n",
    "        print(env.env.get_legal_actions(\"yy\"))\n",
    "        print(env.done)\n",
    "        print(env.env.done)\n",
    "        print(env.env.production_list)\n",
    "        env.env.render()\n"
   ]
  },
  {
   "cell_type": "code",
   "execution_count": null,
   "metadata": {},
   "outputs": [],
   "source": []
  },
  {
   "cell_type": "code",
   "execution_count": null,
   "metadata": {},
   "outputs": [],
   "source": []
  },
  {
   "cell_type": "code",
   "execution_count": null,
   "metadata": {},
   "outputs": [],
   "source": []
  },
  {
   "cell_type": "code",
   "execution_count": null,
   "metadata": {},
   "outputs": [],
   "source": []
  },
  {
   "cell_type": "code",
   "execution_count": null,
   "metadata": {},
   "outputs": [],
   "source": []
  },
  {
   "cell_type": "code",
   "execution_count": null,
   "metadata": {},
   "outputs": [],
   "source": []
  },
  {
   "cell_type": "code",
   "execution_count": null,
   "metadata": {},
   "outputs": [],
   "source": []
  },
  {
   "cell_type": "code",
   "execution_count": null,
   "metadata": {},
   "outputs": [],
   "source": []
  },
  {
   "cell_type": "code",
   "execution_count": null,
   "metadata": {},
   "outputs": [],
   "source": []
  },
  {
   "cell_type": "code",
   "execution_count": null,
   "metadata": {},
   "outputs": [],
   "source": []
  },
  {
   "cell_type": "code",
   "execution_count": null,
   "metadata": {},
   "outputs": [],
   "source": [
    "print(env.env.get_legal_actions(\"a\"))\n",
    "print(env.env.current_timestep)\n",
    "print(env.env.current_machines_status)\n",
    "print(env.env.processed_and_max_time_job_matrix)"
   ]
  },
  {
   "cell_type": "code",
   "execution_count": null,
   "metadata": {},
   "outputs": [],
   "source": [
    "print(env.env.get_legal_actions(\"a\"))\n",
    "print(env.env.blocked_actions)"
   ]
  },
  {
   "cell_type": "code",
   "execution_count": null,
   "metadata": {},
   "outputs": [],
   "source": [
    "\n",
    "env.render()"
   ]
  },
  {
   "cell_type": "code",
   "execution_count": null,
   "metadata": {},
   "outputs": [],
   "source": [
    "print(env.env.blocked_actions)\n",
    "print(env.env.get_legal_actions(\"obs\"))\n"
   ]
  },
  {
   "cell_type": "code",
   "execution_count": null,
   "metadata": {},
   "outputs": [],
   "source": [
    "x=[[1,2,None],[1,2,3]]\n",
    "if any(x==None for x in x):\n",
    "        print(True)\n",
    "for row in x:\n",
    "    if None in row:\n",
    "        #print(True)\n",
    "        pass"
   ]
  },
  {
   "cell_type": "code",
   "execution_count": null,
   "metadata": {},
   "outputs": [],
   "source": [
    "print(env.env.current_machines_status)\n",
    "print(env.env.get_legal_actions(\"stat\"))"
   ]
  },
  {
   "cell_type": "code",
   "execution_count": null,
   "metadata": {},
   "outputs": [],
   "source": [
    "from ray import rllib, tune\n",
    "import ray\n",
    "from ray.rllib.contrib.alpha_zero.core.alpha_zero_trainer import AlphaZeroTrainer\n",
    "from ray.rllib.policy.sample_batch import DEFAULT_POLICY_ID\n",
    "from ray.rllib.policy.policy_map import PolicyMap\n",
    "from ray.rllib.evaluation.episode import MultiAgentEpisode\n",
    "from ray.tune.registry import register_env\n",
    "from ray.rllib.contrib.alpha_zero.models.custom_torch_models import DenseModel\n",
    "#from src.jss_lite.custom_torch_models import DenseModel\n",
    "from ray.rllib.models.catalog import ModelCatalog\n",
    "import gym\n",
    "from src.jss_lite.jss_lite import jss_lite\n",
    "from wrapper.jssplight_wrapper import jssp_light_obs_wrapper\n",
    "from wrapper.jssplight_wrapper import jssp_light_obs_wrapper_multi_instances\n",
    "import time\n",
    "from copy import deepcopy\n",
    "import numpy as np\n",
    "import os\n",
    "import pandas as pd\n",
    "\n",
    "\n",
    "curr_dir='/Users/felix/sciebo/masterarbeit/progra/model-based_rl'\n",
    "instance_list_training=['/resources/jsp_instances/standard/la01.txt','/resources/jsp_instances/standard/la02.txt','/resources/jsp_instances/standard/la03.txt']\n",
    "instance_list_validation=[]\n",
    "\n",
    "huge_inst_train=[\"la01\",\"la02\",\"la03\",\"la16\",\"la17\",\"la18\",\"la06\",\"la07\",\"la08\",\"la09\",\"la21\",\"la22\",\"la23\",\"la24\",\"la25\",\"la36\",\"la37\",\"ta01\",\"ta02\",\"ta03\",\"ta04\",\"ta05\",\"ta06\",\"ta07\",\"abz7\",\"abz9\",\"la26\",\"la27\",\"la28\"]\n",
    "huge_inst_test=[\"la04\",\"la05\",\"la19\",\"la20\",\"la10\",\"la38\",\"la39\",\"la40\",\"ta08\",\"ta09\",\"ta10\",\"la29\",\"la30\"]\n",
    "\n",
    "# add current directory to path\n",
    "instance_list_training=[curr_dir + s for s in instance_list_training]\n",
    "\n",
    "config_eval = {\n",
    "    \"framework\": \"torch\",\n",
    "    \"disable_env_checking\":True,\n",
    "    \"num_workers\"       : 6,\n",
    "    \"rollout_fragment_length\": 50,\n",
    "    \"train_batch_size\"  : 500,\n",
    "    \"sgd_minibatch_size\": 64,\n",
    "    \"lr\"                : 0.0001,\n",
    "    \"explore\"           :False,\n",
    "    #\"horizon\"           : 600,\n",
    "    #\"soft_horizon\"      : True,\n",
    "    \"num_sgd_iter\"      : 1,\n",
    "    #\"horizon\"           : 100,\n",
    "    \"mcts_config\"       : {\n",
    "        \"puct_coefficient\"   : 1.5,\n",
    "        \"num_simulations\"    : 100,\n",
    "        \"temperature\"        : 1,\n",
    "        \"dirichlet_epsilon\"  : 0.20,\n",
    "        \"dirichlet_noise\"    : 0.03,\n",
    "        \"argmax_tree_policy\" : True,\n",
    "        \"add_dirichlet_noise\": False,\n",
    "    },\n",
    "    \"ranked_rewards\"    : {\n",
    "        \"enable\": True,\n",
    "    },\n",
    "    \"model\"             : {\n",
    "        \"custom_model\": \"dense_model\",\n",
    "\n",
    "    },\n",
    "}\n",
    "\n",
    "\n",
    "def env_creator(config):\n",
    "    env=jssp_light_obs_wrapper_multi_instances(instances_list=instance_list)\n",
    "    return env\n",
    "reload_ray_parameters(instance_list_training)\n",
    "tune.register_env('custom_jssp',env_creator)\n",
    "ModelCatalog.register_custom_model(\"dense_model\", DenseModel) \n",
    "train_agent=False   \n",
    "if train_agent:\n",
    "    # init checkpoint for untrained trainer:\n",
    "    agent = AlphaZeroTrainer( config=config, env='custom_jssp')\n",
    "    s_path=curr_dir+'/training_checkpoints/la_multi/untrained'\n",
    "    if not os.path.exists(s_path):\n",
    "        os.mkdir(s_path)\n",
    "\n",
    "    # init untrained checkpoint to load config to\n",
    "    prev_checkpoint=agent.save_checkpoint(s_path)\n",
    "    print(\"start training\")\n",
    "    # training loop:\n",
    "    for episode in range(num_episodes):\n",
    "        for train_instance in instance_list_training:\n",
    "            reload_ray_parameters(instance_list_training)\n",
    "            # store string which instance is currently active\n",
    "            instance_str=train_instance[-8:-4]\n",
    "            agent = AlphaZeroTrainer( config=config, env='myEnv'+instance_str)\n",
    "            agent.load_checkpoint(prev_checkpoint)\n",
    "            t=time.time()\n",
    "            agent.train()\n",
    "            print(f\"training iteration {episode} finished after {time.time()-t} seconds\")\n",
    "            s_path=(curr_dir+\"/training_checkpoints/la_multi/\"+instance_str+\"/\"+str(episode))\n",
    "            if not os.path.exists(s_path):\n",
    "                os.mkdir(s_path)\n",
    "            prev_checkpoint=agent.save_checkpoint(s_path)\n",
    "        print(f\"{episode} of {num_episodes} finished\")\n",
    "\n",
    "def eval_agent_on_instance(_agent,_env):\n",
    "    policy = _agent.get_policy(DEFAULT_POLICY_ID)\n",
    "    obs = _env.reset()\n",
    "    episode = MultiAgentEpisode(\n",
    "        PolicyMap(0,0),\n",
    "        lambda _, __: DEFAULT_POLICY_ID,\n",
    "        lambda: None,\n",
    "        lambda _: None,\n",
    "        0,\n",
    "    )\n",
    "    episode.user_data['initial_state'] = _env.get_state()\n",
    "    done = False\n",
    "    t=time.time()\n",
    "    while not done:\n",
    "        action, _, _ = policy.compute_single_action(obs, episode=episode)\n",
    "        obs, reward, done, _ = _env.step(action)\n",
    "        episode.length += 1\n",
    "    return time.time()-t,reward,episode.length\n",
    " \n",
    "\n",
    "\n",
    "eval_agent=True\n",
    "\n",
    "if eval_agent:\n",
    "    eval_result={}\n",
    "    agent = AlphaZeroTrainer( config=config_eval, env='custom_jssp')\n",
    "    for _ in range(num_episodes):\n",
    "        eval_path='/Users/felix/sciebo/masterarbeit/progra/model-based_rl/training_checkpoints/la_multi'+\"/\"+instance_list_training[-1][-8:-4]+\"/\"+str(_)\n",
    "        if not os.path.exists(eval_path):\n",
    "            print(f\"{eval_path} does not exits: break\")\n",
    "            break\n",
    "        agent.load_checkpoint(eval_path+\"/checkpoint-1\")\n",
    "        for instance in instance_list_training:\n",
    "            eval_env= jssp_light_obs_wrapper_multi_instances([instance])\n",
    "            e_t,e_reward,e_length = eval_agent_on_instance(agent,eval_env)\n",
    "            eval_result[str(_),instance,\"time\"]=e_t\n",
    "            eval_result[str(_),instance,\"reward\"]=e_reward\n",
    "            eval_result[str(_),instance,\"length\"]=e_length\n",
    "    results=pd.DataFrame.from_dict(eval_result)\n",
    "    results.to_csv('results.csv')\n",
    "\n",
    "    \n",
    "    \n",
    "\n"
   ]
  },
  {
   "cell_type": "code",
   "execution_count": null,
   "metadata": {},
   "outputs": [],
   "source": [
    "results=pd.DataFrame.from_dict(eval_result,orient='index')\n",
    "results.to_csv('results.csv')"
   ]
  }
 ],
 "metadata": {
  "kernelspec": {
   "display_name": "Python 3.10.4 ('customjssp')",
   "language": "python",
   "name": "python3"
  },
  "language_info": {
   "codemirror_mode": {
    "name": "ipython",
    "version": 3
   },
   "file_extension": ".py",
   "mimetype": "text/x-python",
   "name": "python",
   "nbconvert_exporter": "python",
   "pygments_lexer": "ipython3",
   "version": "3.10.4"
  },
  "orig_nbformat": 4,
  "vscode": {
   "interpreter": {
    "hash": "7344f7b5995cbf62a990a56ee6eec8bd53f41a3aff848cd18f1feb05905aa9e3"
   }
  }
 },
 "nbformat": 4,
 "nbformat_minor": 2
}
