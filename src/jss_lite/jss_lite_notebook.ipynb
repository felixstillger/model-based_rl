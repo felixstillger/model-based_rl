{
 "cells": [
  {
   "cell_type": "code",
   "execution_count": 52,
   "metadata": {},
   "outputs": [],
   "source": [
    "\n",
    "from os.path import exists\n",
    "import numpy as np\n",
    "#get_self: n_jobs,n_machines\n",
    "instance_path = \"/Users/felix/sciebo/masterarbeit/progra/model-based_rl/resources/jsp_instances/standard/abz5.txt\"\n",
    "if not exists(instance_path):\n",
    "    raise FileExistsError(f\"File does not exists or {instance_path} is no valid path\")\n",
    "if instance_path is None:\n",
    "    raise ValueError(\"no instance is given\")\n",
    "    # here begins instance parser\n",
    "if any(x in instance_path for x in [\"abz\",\"dmu\",\"yn\",\"ta\",\"swv\",\"orb\",\"la\",\"ft\"]):\n",
    "    n_line = 0\n",
    "    with open(instance_path, 'r') as text:\n",
    "        for line_txt in text.readlines():\n",
    "            n_line+=1\n",
    "            if n_line == 1:\n",
    "                n_jobs,n_machines=map(int,line_txt.split())\n",
    "                # matrix contains machine and coresponding job lenth\n",
    "                job_machine_matrix = np.zeros((n_jobs,n_machines), dtype=(np.int32))\n",
    "                job_tasklength_matrix=np.zeros((n_jobs,n_machines), dtype=(np.int32))\n",
    "                # contains time to complete jobs\n",
    "                job_length = np.zeros(n_jobs, dtype=np.int32)\n",
    "            else:\n",
    "                j=0\n",
    "                nr_job=n_line-1\n",
    "                cum_jobtime=0\n",
    "                for i in line_txt.split(\"\t\"):\n",
    "                    i=int(i)\n",
    "                    if j%2==0:\n",
    "                        job_machine_matrix[nr_job-1][int((j)/2)]= i \n",
    "                    else:\n",
    "                        job_tasklength_matrix[nr_job-1][int((j-1)/2)]= i \n",
    "                        cum_jobtime+=i\n",
    "                    j+=1    \n",
    "                job_length[nr_job-1]= cum_jobtime\n",
    "        #todo: implement more conventions, e.g. IMA or Taillard\n",
    "else:\n",
    "    raise NotImplementedError(\"till now only standard instances are implemented\")\n"
   ]
  }
 ],
 "metadata": {
  "kernelspec": {
   "display_name": "Python 3.10.4 ('customjssp')",
   "language": "python",
   "name": "python3"
  },
  "language_info": {
   "codemirror_mode": {
    "name": "ipython",
    "version": 3
   },
   "file_extension": ".py",
   "mimetype": "text/x-python",
   "name": "python",
   "nbconvert_exporter": "python",
   "pygments_lexer": "ipython3",
   "version": "3.10.4"
  },
  "orig_nbformat": 4,
  "vscode": {
   "interpreter": {
    "hash": "7344f7b5995cbf62a990a56ee6eec8bd53f41a3aff848cd18f1feb05905aa9e3"
   }
  }
 },
 "nbformat": 4,
 "nbformat_minor": 2
}
