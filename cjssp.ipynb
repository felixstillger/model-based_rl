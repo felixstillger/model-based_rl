{
 "cells": [
  {
   "cell_type": "code",
   "execution_count": 1,
   "metadata": {},
   "outputs": [],
   "source": [
    "import src.jss_graph_env.disjunctive_graph_jss_env as jss_env\n",
    "import src.jsp_instance_parser \n",
    "from ray.rllib.contrib.alpha_zero.core.alpha_zero_trainer import AlphaZeroTrainer\n",
    "import gym\n",
    "from ray import tune\n",
    "from ray.rllib.contrib.alpha_zero.models.custom_torch_models import DenseModel\n",
    "from ray.rllib.models.catalog import ModelCatalog\n",
    "from wrapper.jssp_wrapper import jssp_obs_wrapper\n",
    "from wrapper.jssp_wrapper import Jssp_wrapper\n",
    "\n",
    "train_agent=False\n",
    "config = {\n",
    "    \"framework\": \"torch\",\n",
    "    \"disable_env_checking\":True,\n",
    "    \"num_workers\"       : 7,\n",
    "    \"rollout_fragment_length\": 50,\n",
    "    \"train_batch_size\"  : 500,\n",
    "    \"sgd_minibatch_size\": 64,\n",
    "    \"lr\"                : 0.0001,\n",
    "    \"num_sgd_iter\"      : 1,\n",
    "    \"mcts_config\"       : {\n",
    "        \"puct_coefficient\"   : 1.5,\n",
    "        \"num_simulations\"    : 100,\n",
    "        \"temperature\"        : 1.0,\n",
    "        \"dirichlet_epsilon\"  : 0.20,\n",
    "        \"dirichlet_noise\"    : 0.03,\n",
    "        \"argmax_tree_policy\" : False,\n",
    "        \"add_dirichlet_noise\": True,\n",
    "    },\n",
    "    \"ranked_rewards\"    : {\n",
    "        \"enable\": False,\n",
    "    },\n",
    "    \"model\"             : {\n",
    "        \"custom_model\": \"dense_model\",\n",
    "\n",
    "    },\n",
    "}"
   ]
  },
  {
   "cell_type": "code",
   "execution_count": 7,
   "metadata": {},
   "outputs": [
    {
     "ename": "NameError",
     "evalue": "name 'a' is not defined",
     "output_type": "error",
     "traceback": [
      "\u001b[0;31m---------------------------------------------------------------------------\u001b[0m",
      "\u001b[0;31mNameError\u001b[0m                                 Traceback (most recent call last)",
      "\u001b[1;32m/Users/felix/sciebo/masterarbeit/progra/model-based_rl/cjssp.ipynb Zelle 2\u001b[0m in \u001b[0;36m<cell line: 4>\u001b[0;34m()\u001b[0m\n\u001b[1;32m      <a href='vscode-notebook-cell:/Users/felix/sciebo/masterarbeit/progra/model-based_rl/cjssp.ipynb#X13sZmlsZQ%3D%3D?line=1'>2</a>\u001b[0m     \u001b[39mdef\u001b[39;00m \u001b[39m_a\u001b[39m():\n\u001b[1;32m      <a href='vscode-notebook-cell:/Users/felix/sciebo/masterarbeit/progra/model-based_rl/cjssp.ipynb#X13sZmlsZQ%3D%3D?line=2'>3</a>\u001b[0m         \u001b[39mprint\u001b[39m(\u001b[39m\"\u001b[39m\u001b[39ma\u001b[39m\u001b[39m\"\u001b[39m)\n\u001b[0;32m----> <a href='vscode-notebook-cell:/Users/felix/sciebo/masterarbeit/progra/model-based_rl/cjssp.ipynb#X13sZmlsZQ%3D%3D?line=3'>4</a>\u001b[0m \u001b[39mclass\u001b[39;00m \u001b[39mmyclassod2\u001b[39;00m(myclassod):\n\u001b[1;32m      <a href='vscode-notebook-cell:/Users/felix/sciebo/masterarbeit/progra/model-based_rl/cjssp.ipynb#X13sZmlsZQ%3D%3D?line=4'>5</a>\u001b[0m     a()\n",
      "\u001b[1;32m/Users/felix/sciebo/masterarbeit/progra/model-based_rl/cjssp.ipynb Zelle 2\u001b[0m in \u001b[0;36mmyclassod2\u001b[0;34m()\u001b[0m\n\u001b[1;32m      <a href='vscode-notebook-cell:/Users/felix/sciebo/masterarbeit/progra/model-based_rl/cjssp.ipynb#X13sZmlsZQ%3D%3D?line=3'>4</a>\u001b[0m \u001b[39mclass\u001b[39;00m \u001b[39mmyclassod2\u001b[39;00m(myclassod):\n\u001b[0;32m----> <a href='vscode-notebook-cell:/Users/felix/sciebo/masterarbeit/progra/model-based_rl/cjssp.ipynb#X13sZmlsZQ%3D%3D?line=4'>5</a>\u001b[0m     a()\n",
      "\u001b[0;31mNameError\u001b[0m: name 'a' is not defined"
     ]
    }
   ],
   "source": [
    "\n"
   ]
  },
  {
   "cell_type": "code",
   "execution_count": 2,
   "metadata": {},
   "outputs": [
    {
     "name": "stderr",
     "output_type": "stream",
     "text": [
      "2022-09-05 12:16:30,710\tWARNING deprecation.py:46 -- DeprecationWarning: `simple_optimizer` has been deprecated. This will raise an error in the future!\n",
      "2022-09-05 12:16:30,717\tINFO trainer.py:903 -- Current log_level is WARN. For more information, set 'log_level': 'INFO' / 'DEBUG' or use the -v and -vv flags.\n"
     ]
    },
    {
     "name": "stdout",
     "output_type": "stream",
     "text": [
      "\u001b[2m\u001b[36m(RolloutWorker pid=47340)\u001b[0m [12:16:49] INFO     parsing file 'resources/jsp_instances/standard/abz8.txt'    \n",
      "\u001b[2m\u001b[36m(RolloutWorker pid=47340)\u001b[0m            INFO     instance appears to contain 20 jobs, 15 machines            \n",
      "\u001b[2m\u001b[36m(RolloutWorker pid=47341)\u001b[0m [12:16:49] INFO     parsing file 'resources/jsp_instances/standard/abz8.txt'    \n",
      "\u001b[2m\u001b[36m(RolloutWorker pid=47341)\u001b[0m            INFO     instance appears to contain 20 jobs, 15 machines            \n",
      "\u001b[2m\u001b[36m(RolloutWorker pid=47346)\u001b[0m [12:16:49] INFO     parsing file 'resources/jsp_instances/standard/abz8.txt'    \n",
      "\u001b[2m\u001b[36m(RolloutWorker pid=47346)\u001b[0m            INFO     instance appears to contain 20 jobs, 15 machines            \n",
      "\u001b[2m\u001b[36m(RolloutWorker pid=47345)\u001b[0m [12:16:49] INFO     parsing file 'resources/jsp_instances/standard/abz8.txt'    \n",
      "\u001b[2m\u001b[36m(RolloutWorker pid=47345)\u001b[0m            INFO     instance appears to contain 20 jobs, 15 machines            \n",
      "\u001b[2m\u001b[36m(RolloutWorker pid=47344)\u001b[0m [12:16:49] INFO     parsing file 'resources/jsp_instances/standard/abz8.txt'    \n",
      "\u001b[2m\u001b[36m(RolloutWorker pid=47344)\u001b[0m            INFO     instance appears to contain 20 jobs, 15 machines            \n",
      "\u001b[2m\u001b[36m(RolloutWorker pid=47343)\u001b[0m [12:16:49] INFO     parsing file 'resources/jsp_instances/standard/abz8.txt'    \n",
      "\u001b[2m\u001b[36m(RolloutWorker pid=47343)\u001b[0m            INFO     instance appears to contain 20 jobs, 15 machines            \n",
      "\u001b[2m\u001b[36m(RolloutWorker pid=47342)\u001b[0m [12:16:49] INFO     parsing file 'resources/jsp_instances/standard/abz8.txt'    \n",
      "\u001b[2m\u001b[36m(RolloutWorker pid=47342)\u001b[0m            INFO     instance appears to contain 20 jobs, 15 machines            \n",
      "\u001b[2m\u001b[36m(RolloutWorker pid=47344)\u001b[0m [12:16:50] INFO     parsing file 'resources/jsp_instances/standard/abz8.txt'    \n",
      "\u001b[2m\u001b[36m(RolloutWorker pid=47344)\u001b[0m            INFO     instance appears to contain 20 jobs, 15 machines            \n",
      "\u001b[2m\u001b[36m(RolloutWorker pid=47341)\u001b[0m [12:16:50] INFO     parsing file 'resources/jsp_instances/standard/abz8.txt'    \n",
      "\u001b[2m\u001b[36m(RolloutWorker pid=47341)\u001b[0m            INFO     instance appears to contain 20 jobs, 15 machines            \n",
      "\u001b[2m\u001b[36m(RolloutWorker pid=47346)\u001b[0m [12:16:50] INFO     parsing file 'resources/jsp_instances/standard/abz8.txt'    \n",
      "\u001b[2m\u001b[36m(RolloutWorker pid=47343)\u001b[0m [12:16:50] INFO     parsing file 'resources/jsp_instances/standard/abz8.txt'    \n",
      "\u001b[2m\u001b[36m(RolloutWorker pid=47342)\u001b[0m [12:16:50] INFO     parsing file 'resources/jsp_instances/standard/abz8.txt'    \n",
      "\u001b[2m\u001b[36m(RolloutWorker pid=47342)\u001b[0m            INFO     instance appears to contain 20 jobs, 15 machines            \n",
      "\u001b[2m\u001b[36m(RolloutWorker pid=47346)\u001b[0m            INFO     instance appears to contain 20 jobs, 15 machines            \n",
      "\u001b[2m\u001b[36m(RolloutWorker pid=47343)\u001b[0m            INFO     instance appears to contain 20 jobs, 15 machines            \n",
      "\u001b[2m\u001b[36m(RolloutWorker pid=47340)\u001b[0m [12:16:50] INFO     parsing file 'resources/jsp_instances/standard/abz8.txt'    \n",
      "\u001b[2m\u001b[36m(RolloutWorker pid=47340)\u001b[0m            INFO     instance appears to contain 20 jobs, 15 machines            \n",
      "\u001b[2m\u001b[36m(RolloutWorker pid=47345)\u001b[0m [12:16:50] INFO     parsing file 'resources/jsp_instances/standard/abz8.txt'    \n",
      "\u001b[2m\u001b[36m(RolloutWorker pid=47345)\u001b[0m            INFO     instance appears to contain 20 jobs, 15 machines            \n"
     ]
    },
    {
     "data": {
      "text/html": [
       "<pre style=\"white-space:pre;overflow-x:auto;line-height:normal;font-family:Menlo,'DejaVu Sans Mono',consolas,'Courier New',monospace\"><span style=\"color: #7fbfbf; text-decoration-color: #7fbfbf\">[12:16:50] </span><span style=\"color: #000080; text-decoration-color: #000080\">INFO    </span> parsing file <span style=\"color: #008000; text-decoration-color: #008000\">'resources/jsp_instances/standard/abz8.txt'</span>                                       \n",
       "</pre>\n"
      ],
      "text/plain": [
       "\u001b[2;36m[12:16:50]\u001b[0m\u001b[2;36m \u001b[0m\u001b[34mINFO    \u001b[0m parsing file \u001b[32m'resources/jsp_instances/standard/abz8.txt'\u001b[0m                                       \n"
      ]
     },
     "metadata": {},
     "output_type": "display_data"
    },
    {
     "data": {
      "text/html": [
       "<pre style=\"white-space:pre;overflow-x:auto;line-height:normal;font-family:Menlo,'DejaVu Sans Mono',consolas,'Courier New',monospace\"><span style=\"color: #7fbfbf; text-decoration-color: #7fbfbf\">           </span><span style=\"color: #000080; text-decoration-color: #000080\">INFO    </span> instance appears to contain <span style=\"color: #008080; text-decoration-color: #008080; font-weight: bold\">20</span> jobs, <span style=\"color: #008080; text-decoration-color: #008080; font-weight: bold\">15</span> machines                                               \n",
       "</pre>\n"
      ],
      "text/plain": [
       "\u001b[2;36m          \u001b[0m\u001b[2;36m \u001b[0m\u001b[34mINFO    \u001b[0m instance appears to contain \u001b[1;36m20\u001b[0m jobs, \u001b[1;36m15\u001b[0m machines                                               \n"
      ]
     },
     "metadata": {},
     "output_type": "display_data"
    },
    {
     "name": "stderr",
     "output_type": "stream",
     "text": [
      "2022-09-05 12:16:50,774\tINFO trainable.py:159 -- Trainable.setup took 20.067 seconds. If your trainable is slow to initialize, consider setting reuse_actors=True to reduce actor creation overheads.\n"
     ]
    }
   ],
   "source": [
    "\n",
    "from wrapper.jssp_wrapper import Jssp_wrapper\n",
    "\n",
    "\n",
    "def env_creator(config):\n",
    "    #env = discretetobox(gym.make(\"Taxi-v3\"))\n",
    "    #env = gym.make('LunarLander-v2')\n",
    "    path='resources/jsp_instances/standard/abz8.txt'\n",
    "    curr_instance=src.jsp_instance_parser.parse_jps_standard_specification(path)\n",
    "    res,std_matrix=curr_instance\n",
    "    env = jssp_obs_wrapper(jss_env.DisjunctiveGraphJssEnv(res,default_visualisations='gantt_console'))\n",
    "    return env\n",
    "ModelCatalog.register_custom_model(\"dense_model\", DenseModel)    \n",
    "tune.register_env('customjssp',env_creator)\n",
    "\n",
    "agent = AlphaZeroTrainer( config=config, env='customjssp')"
   ]
  },
  {
   "cell_type": "code",
   "execution_count": 3,
   "metadata": {},
   "outputs": [],
   "source": [
    "if train_agent:\n",
    "    print(\"start training\")\n",
    "    for _ in range(0,150):\n",
    "        agent.train()\n",
    "        print(f\"training iteration {_} finished\")\n",
    "        #agent.save(f\"save_az/rllib_checkpoint{_}\")\n",
    "        agent.save_checkpoint(f\"training_checkpoints/checkpoints_az_jsp\")\n",
    "        #agent.save_to_object(f\"objects_az/rllib_checkpoint{_}\")"
   ]
  },
  {
   "cell_type": "code",
   "execution_count": null,
   "metadata": {},
   "outputs": [
    {
     "data": {
      "text/html": [
       "<pre style=\"white-space:pre;overflow-x:auto;line-height:normal;font-family:Menlo,'DejaVu Sans Mono',consolas,'Courier New',monospace\"><span style=\"color: #7fbfbf; text-decoration-color: #7fbfbf\">[14:36:26] </span><span style=\"color: #000080; text-decoration-color: #000080\">INFO    </span> parsing file <span style=\"color: #008000; text-decoration-color: #008000\">'resources/jsp_instances/standard/abz8.txt'</span>                                       \n",
       "</pre>\n"
      ],
      "text/plain": [
       "\u001b[2;36m[14:36:26]\u001b[0m\u001b[2;36m \u001b[0m\u001b[34mINFO    \u001b[0m parsing file \u001b[32m'resources/jsp_instances/standard/abz8.txt'\u001b[0m                                       \n"
      ]
     },
     "metadata": {},
     "output_type": "display_data"
    },
    {
     "data": {
      "text/html": [
       "<pre style=\"white-space:pre;overflow-x:auto;line-height:normal;font-family:Menlo,'DejaVu Sans Mono',consolas,'Courier New',monospace\"><span style=\"color: #7fbfbf; text-decoration-color: #7fbfbf\">           </span><span style=\"color: #000080; text-decoration-color: #000080\">INFO    </span> instance appears to contain <span style=\"color: #008080; text-decoration-color: #008080; font-weight: bold\">20</span> jobs, <span style=\"color: #008080; text-decoration-color: #008080; font-weight: bold\">15</span> machines                                               \n",
       "</pre>\n"
      ],
      "text/plain": [
       "\u001b[2;36m          \u001b[0m\u001b[2;36m \u001b[0m\u001b[34mINFO    \u001b[0m instance appears to contain \u001b[1;36m20\u001b[0m jobs, \u001b[1;36m15\u001b[0m machines                                               \n"
      ]
     },
     "metadata": {},
     "output_type": "display_data"
    },
    {
     "name": "stderr",
     "output_type": "stream",
     "text": [
      "OMP: Warning #190: Forking a process while a parallel region is active is potentially unsafe.\n",
      "OMP: Warning #190: Forking a process while a parallel region is active is potentially unsafe.\n",
      "OMP: Warning #190: Forking a process while a parallel region is active is potentially unsafe.\n",
      "OMP: Warning #190: Forking a process while a parallel region is active is potentially unsafe.\n",
      "OMP: Warning #190: Forking a process while a parallel region is active is potentially unsafe.\n",
      "OMP: Warning #190: Forking a process while a parallel region is active is potentially unsafe.\n",
      "OMP: Warning #190: Forking a process while a parallel region is active is potentially unsafe.\n",
      "OMP: Warning #190: Forking a process while a parallel region is active is potentially unsafe.\n",
      "OMP: Warning #190: Forking a process while a parallel region is active is potentially unsafe.\n",
      "OMP: Warning #190: Forking a process while a parallel region is active is potentially unsafe.\n",
      "OMP: Warning #190: Forking a process while a parallel region is active is potentially unsafe.\n",
      "OMP: Warning #190: Forking a process while a parallel region is active is potentially unsafe.\n",
      "OMP: Warning #190: Forking a process while a parallel region is active is potentially unsafe.\n",
      "OMP: Warning #190: Forking a process while a parallel region is active is potentially unsafe.\n",
      "OMP: Warning #190: Forking a process while a parallel region is active is potentially unsafe.\n",
      "OMP: Warning #190: Forking a process while a parallel region is active is potentially unsafe.\n",
      "OMP: Warning #190: Forking a process while a parallel region is active is potentially unsafe.\n",
      "OMP: Warning #190: Forking a process while a parallel region is active is potentially unsafe.\n",
      "OMP: Warning #190: Forking a process while a parallel region is active is potentially unsafe.\n",
      "OMP: Warning #190: Forking a process while a parallel region is active is potentially unsafe.\n",
      "OMP: Warning #190: Forking a process while a parallel region is active is potentially unsafe.\n",
      "OMP: Warning #190: Forking a process while a parallel region is active is potentially unsafe.\n",
      "OMP: Warning #190: Forking a process while a parallel region is active is potentially unsafe.\n",
      "OMP: Warning #190: Forking a process while a parallel region is active is potentially unsafe.\n",
      "OMP: Warning #190: Forking a process while a parallel region is active is potentially unsafe.\n",
      "OMP: Warning #190: Forking a process while a parallel region is active is potentially unsafe.\n",
      "OMP: Warning #190: Forking a process while a parallel region is active is potentially unsafe.\n",
      "OMP: Warning #190: Forking a process while a parallel region is active is potentially unsafe.\n",
      "OMP: Warning #190: Forking a process while a parallel region is active is potentially unsafe.\n",
      "OMP: Warning #190: Forking a process while a parallel region is active is potentially unsafe.\n",
      "OMP: Warning #190: Forking a process while a parallel region is active is potentially unsafe.\n",
      "OMP: Warning #190: Forking a process while a parallel region is active is potentially unsafe.\n",
      "OMP: Warning #190: Forking a process while a parallel region is active is potentially unsafe.\n",
      "OMP: Warning #190: Forking a process while a parallel region is active is potentially unsafe.\n",
      "OMP: Warning #190: Forking a process while a parallel region is active is potentially unsafe.\n",
      "OMP: Warning #190: Forking a process while a parallel region is active is potentially unsafe.\n",
      "OMP: Warning #190: Forking a process while a parallel region is active is potentially unsafe.\n",
      "OMP: Warning #190: Forking a process while a parallel region is active is potentially unsafe.\n",
      "OMP: Warning #190: Forking a process while a parallel region is active is potentially unsafe.\n",
      "OMP: Warning #190: Forking a process while a parallel region is active is potentially unsafe.\n",
      "OMP: Warning #190: Forking a process while a parallel region is active is potentially unsafe.\n",
      "OMP: Warning #190: Forking a process while a parallel region is active is potentially unsafe.\n",
      "OMP: Warning #190: Forking a process while a parallel region is active is potentially unsafe.\n",
      "OMP: Warning #190: Forking a process while a parallel region is active is potentially unsafe.\n",
      "OMP: Warning #190: Forking a process while a parallel region is active is potentially unsafe.\n",
      "OMP: Warning #190: Forking a process while a parallel region is active is potentially unsafe.\n",
      "OMP: Warning #190: Forking a process while a parallel region is active is potentially unsafe.\n",
      "OMP: Warning #190: Forking a process while a parallel region is active is potentially unsafe.\n",
      "OMP: Warning #190: Forking a process while a parallel region is active is potentially unsafe.\n",
      "OMP: Warning #190: Forking a process while a parallel region is active is potentially unsafe.\n",
      "OMP: Warning #190: Forking a process while a parallel region is active is potentially unsafe.\n",
      "OMP: Warning #190: Forking a process while a parallel region is active is potentially unsafe.\n",
      "OMP: Warning #190: Forking a process while a parallel region is active is potentially unsafe.\n",
      "OMP: Warning #190: Forking a process while a parallel region is active is potentially unsafe.\n",
      "OMP: Warning #190: Forking a process while a parallel region is active is potentially unsafe.\n",
      "OMP: Warning #190: Forking a process while a parallel region is active is potentially unsafe.\n",
      "OMP: Warning #190: Forking a process while a parallel region is active is potentially unsafe.\n",
      "OMP: Warning #190: Forking a process while a parallel region is active is potentially unsafe.\n",
      "OMP: Warning #190: Forking a process while a parallel region is active is potentially unsafe.\n",
      "OMP: Warning #190: Forking a process while a parallel region is active is potentially unsafe.\n",
      "OMP: Warning #190: Forking a process while a parallel region is active is potentially unsafe.\n",
      "OMP: Warning #190: Forking a process while a parallel region is active is potentially unsafe.\n",
      "OMP: Warning #190: Forking a process while a parallel region is active is potentially unsafe.\n",
      "OMP: Warning #190: Forking a process while a parallel region is active is potentially unsafe.\n",
      "OMP: Warning #190: Forking a process while a parallel region is active is potentially unsafe.\n",
      "OMP: Warning #190: Forking a process while a parallel region is active is potentially unsafe.\n",
      "OMP: Warning #190: Forking a process while a parallel region is active is potentially unsafe.\n",
      "OMP: Warning #190: Forking a process while a parallel region is active is potentially unsafe.\n",
      "OMP: Warning #190: Forking a process while a parallel region is active is potentially unsafe.\n",
      "OMP: Warning #190: Forking a process while a parallel region is active is potentially unsafe.\n",
      "OMP: Warning #190: Forking a process while a parallel region is active is potentially unsafe.\n",
      "OMP: Warning #190: Forking a process while a parallel region is active is potentially unsafe.\n",
      "OMP: Warning #190: Forking a process while a parallel region is active is potentially unsafe.\n",
      "OMP: Warning #190: Forking a process while a parallel region is active is potentially unsafe.\n",
      "OMP: Warning #190: Forking a process while a parallel region is active is potentially unsafe.\n",
      "OMP: Warning #190: Forking a process while a parallel region is active is potentially unsafe.\n",
      "OMP: Warning #190: Forking a process while a parallel region is active is potentially unsafe.\n",
      "OMP: Warning #190: Forking a process while a parallel region is active is potentially unsafe.\n",
      "OMP: Warning #190: Forking a process while a parallel region is active is potentially unsafe.\n",
      "OMP: Warning #190: Forking a process while a parallel region is active is potentially unsafe.\n",
      "OMP: Warning #190: Forking a process while a parallel region is active is potentially unsafe.\n",
      "OMP: Warning #190: Forking a process while a parallel region is active is potentially unsafe.\n",
      "OMP: Warning #190: Forking a process while a parallel region is active is potentially unsafe.\n",
      "OMP: Warning #190: Forking a process while a parallel region is active is potentially unsafe.\n",
      "OMP: Warning #190: Forking a process while a parallel region is active is potentially unsafe.\n",
      "OMP: Warning #190: Forking a process while a parallel region is active is potentially unsafe.\n",
      "OMP: Warning #190: Forking a process while a parallel region is active is potentially unsafe.\n",
      "OMP: Warning #190: Forking a process while a parallel region is active is potentially unsafe.\n",
      "OMP: Warning #190: Forking a process while a parallel region is active is potentially unsafe.\n",
      "OMP: Warning #190: Forking a process while a parallel region is active is potentially unsafe.\n",
      "OMP: Warning #190: Forking a process while a parallel region is active is potentially unsafe.\n",
      "OMP: Warning #190: Forking a process while a parallel region is active is potentially unsafe.\n",
      "OMP: Warning #190: Forking a process while a parallel region is active is potentially unsafe.\n",
      "OMP: Warning #190: Forking a process while a parallel region is active is potentially unsafe.\n"
     ]
    },
    {
     "name": "stdout",
     "output_type": "stream",
     "text": [
      "0\n",
      "300\n",
      "         ╔═══════════════════════════════════════════════════════╗\n",
      "Job 0    ║\u001b[38;2;127;0;255m█\u001b[38;2;127;0;255m█\u001b[38;2;200;229;135m█\u001b[38;2;55;109;248m█\u001b[38;2;55;109;248m█ \u001b[38;2;255;56;28m█\u001b[38;2;236;199;110m█\u001b[38;2;236;199;110m█ \u001b[38;2;164;248;158m█\u001b[38;2;164;248;158m█   \u001b[38;2;90;248;199m█\u001b[38;2;18;199;229m█\u001b[38;2;18;199;229m█    \u001b[38;2;255;157;83m█\u001b[38;2;255;157;83m█   \u001b[38;2;255;109;56m█\u001b[38;2;255;109;56m█  \u001b[38;2;91;56;253m█\u001b[38;2;255;0;0m█\u001b[38;2;255;0;0m█\u001b[38;2;19;157;241m█\u001b[38;2;19;157;241m█\u001b[38;2;54;229;215m█\u001b[38;2;128;254;179m█                 \u001b[0m║ Machine 0   \u001b[38;2;127;0;255m█\u001b[0m\n",
      "Job 1    ║\u001b[38;2;200;229;135m█ \u001b[38;2;236;199;110m█          \u001b[38;2;255;0;0m█  \u001b[38;2;54;229;215m█    \u001b[38;2;18;199;229m█\u001b[38;2;18;199;229m█      \u001b[38;2;90;248;199m█\u001b[38;2;90;248;199m█\u001b[38;2;127;0;255m█\u001b[38;2;128;254;179m█\u001b[38;2;128;254;179m█\u001b[38;2;255;56;28m█\u001b[38;2;255;157;83m█\u001b[38;2;255;157;83m█\u001b[38;2;91;56;253m█\u001b[38;2;19;157;241m█\u001b[38;2;55;109;248m█\u001b[38;2;55;109;248m█\u001b[38;2;255;109;56m█\u001b[38;2;164;248;158m█\u001b[38;2;164;248;158m█           \u001b[0m║ Machine 1   \u001b[38;2;91;56;253m█\u001b[0m\n",
      "Job 10   ║  \u001b[38;2;255;157;83m█\u001b[38;2;127;0;255m█\u001b[38;2;255;56;28m█\u001b[38;2;255;56;28m█\u001b[38;2;90;248;199m█\u001b[38;2;54;229;215m█\u001b[38;2;19;157;241m█\u001b[38;2;255;0;0m█\u001b[38;2;255;0;0m█\u001b[38;2;236;199;110m█\u001b[38;2;236;199;110m█\u001b[38;2;128;254;179m█    \u001b[38;2;164;248;158m█\u001b[38;2;55;109;248m█\u001b[38;2;55;109;248m█ \u001b[38;2;91;56;253m█\u001b[38;2;255;109;56m█  \u001b[38;2;18;199;229m█\u001b[38;2;18;199;229m█ \u001b[38;2;200;229;135m█\u001b[38;2;200;229;135m█                        \u001b[0m║ Machine 10  \u001b[38;2;236;199;110m█\u001b[0m\n",
      "Job 11   ║   \u001b[38;2;90;248;199m█ \u001b[38;2;19;157;241m█\u001b[38;2;255;109;56m█\u001b[38;2;255;109;56m█\u001b[38;2;54;229;215m█ \u001b[38;2;18;199;229m█\u001b[38;2;91;56;253m█  \u001b[38;2;255;56;28m█\u001b[38;2;255;56;28m█    \u001b[38;2;164;248;158m█\u001b[38;2;55;109;248m█\u001b[38;2;236;199;110m█\u001b[38;2;236;199;110m█\u001b[38;2;255;157;83m█\u001b[38;2;255;0;0m█     \u001b[38;2;200;229;135m█\u001b[38;2;200;229;135m█   \u001b[38;2;128;254;179m█                  \u001b[0m║ Machine 11  \u001b[38;2;255;157;83m█\u001b[0m\n",
      "Job 12   ║   \u001b[38;2;255;0;0m█   \u001b[38;2;255;56;28m█\u001b[38;2;91;56;253m█\u001b[38;2;91;56;253m█   \u001b[38;2;164;248;158m█\u001b[38;2;164;248;158m█\u001b[38;2;55;109;248m█\u001b[38;2;19;157;241m█\u001b[38;2;200;229;135m█\u001b[38;2;200;229;135m█\u001b[38;2;127;0;255m█\u001b[38;2;90;248;199m█\u001b[38;2;90;248;199m█    \u001b[38;2;54;229;215m█\u001b[38;2;236;199;110m█\u001b[38;2;236;199;110m█\u001b[38;2;128;254;179m█\u001b[38;2;128;254;179m█\u001b[38;2;255;157;83m█                       \u001b[0m║ Machine 12  \u001b[38;2;255;109;56m█\u001b[0m\n",
      "Job 13   ║   \u001b[38;2;164;248;158m█ \u001b[38;2;236;199;110m█\u001b[38;2;236;199;110m█\u001b[38;2;255;157;83m█ \u001b[38;2;200;229;135m█\u001b[38;2;200;229;135m█    \u001b[38;2;54;229;215m█\u001b[38;2;255;109;56m█\u001b[38;2;255;109;56m█\u001b[38;2;255;109;56m█ \u001b[38;2;128;254;179m█\u001b[38;2;128;254;179m█            \u001b[38;2;18;199;229m█\u001b[38;2;18;199;229m█\u001b[38;2;55;109;248m█ \u001b[38;2;255;0;0m█\u001b[38;2;255;0;0m█  \u001b[38;2;19;157;241m█\u001b[38;2;19;157;241m█\u001b[38;2;90;248;199m█\u001b[38;2;90;248;199m█\u001b[38;2;91;56;253m█\u001b[38;2;91;56;253m█\u001b[38;2;127;0;255m█      \u001b[0m║ Machine 13  \u001b[38;2;255;56;28m█\u001b[0m\n",
      "Job 14   ║               \u001b[38;2;164;248;158m█\u001b[38;2;127;0;255m█        \u001b[38;2;200;229;135m█\u001b[38;2;91;56;253m█  \u001b[38;2;236;199;110m█        \u001b[38;2;128;254;179m█\u001b[38;2;255;56;28m█\u001b[38;2;19;157;241m█\u001b[38;2;19;157;241m█   \u001b[38;2;54;229;215m█\u001b[38;2;255;157;83m█\u001b[38;2;255;157;83m█\u001b[38;2;55;109;248m█\u001b[38;2;55;109;248m█\u001b[38;2;255;0;0m█\u001b[38;2;90;248;199m█\u001b[38;2;255;109;56m█\u001b[38;2;255;109;56m█\u001b[38;2;18;199;229m█\u001b[0m║ Machine 14  \u001b[38;2;255;0;0m█\u001b[0m\n",
      "Job 15   ║\u001b[38;2;164;248;158m█\u001b[38;2;164;248;158m█\u001b[38;2;164;248;158m█      \u001b[38;2;255;109;56m█\u001b[38;2;255;56;28m█ \u001b[38;2;18;199;229m█\u001b[38;2;91;56;253m█\u001b[38;2;91;56;253m█            \u001b[38;2;90;248;199m█\u001b[38;2;90;248;199m█\u001b[38;2;127;0;255m█   \u001b[38;2;236;199;110m█\u001b[38;2;236;199;110m█\u001b[38;2;128;254;179m█\u001b[38;2;200;229;135m█\u001b[38;2;200;229;135m█   \u001b[38;2;55;109;248m█\u001b[38;2;55;109;248m█\u001b[38;2;54;229;215m█\u001b[38;2;54;229;215m█\u001b[38;2;255;157;83m█\u001b[38;2;255;0;0m█\u001b[38;2;255;0;0m█\u001b[38;2;255;0;0m█      \u001b[0m║ Machine 2   \u001b[38;2;55;109;248m█\u001b[0m\n",
      "Job 16   ║  \u001b[38;2;255;0;0m█ \u001b[38;2;19;157;241m█\u001b[38;2;127;0;255m█\u001b[38;2;127;0;255m█  \u001b[38;2;236;199;110m█ \u001b[38;2;54;229;215m█\u001b[38;2;54;229;215m█ \u001b[38;2;128;254;179m█\u001b[38;2;128;254;179m█   \u001b[38;2;164;248;158m█    \u001b[38;2;90;248;199m█\u001b[38;2;255;109;56m█\u001b[38;2;255;109;56m█\u001b[38;2;200;229;135m█\u001b[38;2;200;229;135m█ \u001b[38;2;18;199;229m█\u001b[38;2;18;199;229m█\u001b[38;2;18;199;229m█\u001b[38;2;55;109;248m█   \u001b[38;2;255;157;83m█\u001b[38;2;255;157;83m█\u001b[38;2;91;56;253m█\u001b[38;2;91;56;253m█\u001b[38;2;255;56;28m█\u001b[38;2;255;56;28m█            \u001b[0m║ Machine 3   \u001b[38;2;19;157;241m█\u001b[0m\n",
      "Job 17   ║   \u001b[38;2;255;157;83m█  \u001b[38;2;19;157;241m█\u001b[38;2;19;157;241m█    \u001b[38;2;255;0;0m█        \u001b[38;2;164;248;158m█  \u001b[38;2;255;109;56m█ \u001b[38;2;255;56;28m█\u001b[38;2;255;56;28m█ \u001b[38;2;54;229;215m█    \u001b[38;2;91;56;253m█\u001b[38;2;236;199;110m█\u001b[38;2;236;199;110m█  \u001b[38;2;128;254;179m█\u001b[38;2;18;199;229m█\u001b[38;2;200;229;135m█        \u001b[38;2;55;109;248m█\u001b[38;2;127;0;255m█\u001b[38;2;127;0;255m█  \u001b[0m║ Machine 4   \u001b[38;2;18;199;229m█\u001b[0m\n",
      "Job 18   ║\u001b[38;2;255;157;83m█\u001b[38;2;55;109;248m█        \u001b[38;2;255;109;56m█        \u001b[38;2;200;229;135m█\u001b[38;2;200;229;135m█\u001b[38;2;255;0;0m█\u001b[38;2;128;254;179m█\u001b[38;2;128;254;179m█         \u001b[38;2;18;199;229m█  \u001b[38;2;19;157;241m█\u001b[38;2;19;157;241m█\u001b[38;2;54;229;215m█\u001b[38;2;54;229;215m█\u001b[38;2;90;248;199m█\u001b[38;2;236;199;110m█\u001b[38;2;236;199;110m█\u001b[38;2;91;56;253m█\u001b[38;2;91;56;253m█\u001b[38;2;127;0;255m█\u001b[38;2;127;0;255m█\u001b[38;2;164;248;158m█\u001b[38;2;164;248;158m█      \u001b[0m║ Machine 5   \u001b[38;2;54;229;215m█\u001b[0m\n",
      "Job 19   ║\u001b[38;2;55;109;248m█\u001b[38;2;255;109;56m█\u001b[38;2;255;109;56m█\u001b[38;2;54;229;215m█        \u001b[38;2;164;248;158m█\u001b[38;2;90;248;199m█\u001b[38;2;90;248;199m█\u001b[38;2;200;229;135m█\u001b[38;2;255;0;0m█\u001b[38;2;255;0;0m█ \u001b[38;2;255;157;83m█\u001b[38;2;255;157;83m█\u001b[38;2;255;157;83m█ \u001b[38;2;19;157;241m█\u001b[38;2;255;56;28m█\u001b[38;2;255;56;28m█  \u001b[38;2;128;254;179m█\u001b[38;2;91;56;253m█\u001b[38;2;91;56;253m█     \u001b[38;2;127;0;255m█\u001b[38;2;236;199;110m█\u001b[38;2;236;199;110m█                \u001b[0m║ Machine 6   \u001b[38;2;90;248;199m█\u001b[0m\n",
      "Job 2    ║\u001b[38;2;19;157;241m█\u001b[38;2;19;157;241m█     \u001b[38;2;164;248;158m█\u001b[38;2;255;157;83m█   \u001b[38;2;255;56;28m█\u001b[38;2;255;56;28m█\u001b[38;2;236;199;110m█\u001b[38;2;236;199;110m█  \u001b[38;2;255;0;0m█\u001b[38;2;54;229;215m█\u001b[38;2;54;229;215m█     \u001b[38;2;200;229;135m█\u001b[38;2;127;0;255m█    \u001b[38;2;91;56;253m█\u001b[38;2;91;56;253m█  \u001b[38;2;18;199;229m█      \u001b[38;2;55;109;248m█\u001b[38;2;55;109;248m█\u001b[38;2;128;254;179m█\u001b[38;2;128;254;179m█\u001b[38;2;90;248;199m█\u001b[38;2;255;109;56m█\u001b[38;2;255;109;56m█     \u001b[0m║ Machine 7   \u001b[38;2;128;254;179m█\u001b[0m\n",
      "Job 3    ║\u001b[38;2;255;0;0m█\u001b[38;2;255;0;0m█\u001b[38;2;19;157;241m█\u001b[38;2;19;157;241m█ \u001b[38;2;55;109;248m█\u001b[38;2;55;109;248m█ \u001b[38;2;255;109;56m█\u001b[38;2;18;199;229m█ \u001b[38;2;255;56;28m█\u001b[38;2;91;56;253m█   \u001b[38;2;90;248;199m█  \u001b[38;2;128;254;179m█\u001b[38;2;236;199;110m█\u001b[38;2;236;199;110m█\u001b[38;2;127;0;255m█\u001b[38;2;127;0;255m█   \u001b[38;2;54;229;215m█\u001b[38;2;54;229;215m█\u001b[38;2;164;248;158m█\u001b[38;2;164;248;158m█ \u001b[38;2;255;157;83m█\u001b[38;2;255;157;83m█                     \u001b[0m║ Machine 8   \u001b[38;2;164;248;158m█\u001b[0m\n",
      "Job 4    ║   \u001b[38;2;255;109;56m█\u001b[38;2;255;0;0m█\u001b[38;2;91;56;253m█\u001b[38;2;91;56;253m█\u001b[38;2;128;254;179m█        \u001b[38;2;164;248;158m█\u001b[38;2;164;248;158m█\u001b[38;2;255;157;83m█   \u001b[38;2;90;248;199m█\u001b[38;2;90;248;199m█\u001b[38;2;18;199;229m█\u001b[38;2;127;0;255m█\u001b[38;2;127;0;255m█\u001b[38;2;55;109;248m█\u001b[38;2;55;109;248m█\u001b[38;2;19;157;241m█\u001b[38;2;19;157;241m█\u001b[38;2;236;199;110m█\u001b[38;2;236;199;110m█\u001b[38;2;54;229;215m█ \u001b[38;2;255;56;28m█\u001b[38;2;255;56;28m█\u001b[38;2;255;56;28m█\u001b[38;2;200;229;135m█                \u001b[0m║ Machine 9   \u001b[38;2;200;229;135m█\u001b[0m\n",
      "Job 5    ║\u001b[38;2;236;199;110m█\u001b[38;2;236;199;110m█  \u001b[38;2;255;109;56m█\u001b[38;2;255;109;56m█\u001b[38;2;164;248;158m█\u001b[38;2;255;0;0m█\u001b[38;2;255;0;0m█\u001b[38;2;90;248;199m█\u001b[38;2;90;248;199m█\u001b[38;2;18;199;229m█\u001b[38;2;55;109;248m█\u001b[38;2;55;109;248m█\u001b[38;2;255;157;83m█ \u001b[38;2;128;254;179m█\u001b[38;2;128;254;179m█\u001b[38;2;19;157;241m█\u001b[38;2;255;56;28m█\u001b[38;2;127;0;255m█\u001b[38;2;127;0;255m█ \u001b[38;2;91;56;253m█                               \u001b[0m║              \n",
      "Job 6    ║\u001b[38;2;90;248;199m█\u001b[38;2;90;248;199m█\u001b[38;2;90;248;199m█     \u001b[38;2;164;248;158m█\u001b[38;2;164;248;158m█\u001b[38;2;127;0;255m█\u001b[38;2;255;109;56m█ \u001b[38;2;236;199;110m█         \u001b[38;2;200;229;135m█\u001b[38;2;200;229;135m█\u001b[38;2;55;109;248m█\u001b[38;2;55;109;248m█ \u001b[38;2;18;199;229m█\u001b[38;2;18;199;229m█ \u001b[38;2;19;157;241m█\u001b[38;2;255;56;28m█ \u001b[38;2;255;0;0m█    \u001b[38;2;255;157;83m█\u001b[38;2;54;229;215m█\u001b[38;2;128;254;179m█\u001b[38;2;128;254;179m█     \u001b[38;2;91;56;253m█\u001b[38;2;91;56;253m█     \u001b[0m║              \n",
      "Job 7    ║ \u001b[38;2;255;157;83m█\u001b[38;2;255;56;28m█\u001b[38;2;236;199;110m█\u001b[38;2;236;199;110m█\u001b[38;2;164;248;158m█\u001b[38;2;200;229;135m█    \u001b[38;2;255;0;0m█ \u001b[38;2;54;229;215m█\u001b[38;2;54;229;215m█\u001b[38;2;127;0;255m█\u001b[38;2;55;109;248m█\u001b[38;2;55;109;248m█\u001b[38;2;90;248;199m█\u001b[38;2;90;248;199m█\u001b[38;2;255;109;56m█\u001b[38;2;91;56;253m█\u001b[38;2;19;157;241m█  \u001b[38;2;18;199;229m█\u001b[38;2;128;254;179m█\u001b[38;2;128;254;179m█                           \u001b[0m║              \n",
      "Job 8    ║    \u001b[38;2;164;248;158m█\u001b[38;2;90;248;199m█   \u001b[38;2;54;229;215m█\u001b[38;2;19;157;241m█\u001b[38;2;19;157;241m█\u001b[38;2;200;229;135m█\u001b[38;2;200;229;135m█\u001b[38;2;127;0;255m█   \u001b[38;2;55;109;248m█\u001b[38;2;18;199;229m█\u001b[38;2;18;199;229m█\u001b[38;2;255;109;56m█\u001b[38;2;255;109;56m█ \u001b[38;2;236;199;110m█\u001b[38;2;255;157;83m█     \u001b[38;2;128;254;179m█   \u001b[38;2;255;0;0m█       \u001b[38;2;255;56;28m█ \u001b[38;2;91;56;253m█         \u001b[0m║              \n",
      "Job 9    ║\u001b[38;2;91;56;253m█\u001b[38;2;91;56;253m█\u001b[38;2;128;254;179m█\u001b[38;2;128;254;179m█ \u001b[38;2;255;0;0m█\u001b[38;2;255;0;0m█              \u001b[38;2;200;229;135m█\u001b[38;2;200;229;135m█\u001b[38;2;54;229;215m█\u001b[38;2;54;229;215m█\u001b[38;2;54;229;215m█\u001b[38;2;90;248;199m█\u001b[38;2;164;248;158m█\u001b[38;2;19;157;241m█ \u001b[38;2;236;199;110m█ \u001b[38;2;127;0;255m█\u001b[38;2;127;0;255m█   \u001b[38;2;18;199;229m█\u001b[38;2;255;109;56m█\u001b[38;2;255;109;56m█\u001b[38;2;255;157;83m█\u001b[38;2;255;157;83m█  \u001b[38;2;255;56;28m█\u001b[38;2;55;109;248m█\u001b[38;2;55;109;248m█        \u001b[0m║              \n",
      "         ╚╦════╤════╤════╤════╤════╦════╤════╤════╤════╤════╦════╝\n",
      "          0.0                      448.6                    897.3\n"
     ]
    }
   ],
   "source": [
    "from ray.rllib.policy.policy_map import PolicyMap\n",
    "from ray.rllib.evaluation.episode import MultiAgentEpisode\n",
    "from ray.rllib.policy.sample_batch import DEFAULT_POLICY_ID\n",
    "\n",
    "agent.load_checkpoint('training_checkpoints/checkpoints_az_jsp/checkpoint-34')\n",
    "env=env_creator('config')\n",
    "obs = env.reset()\n",
    "# env2 is copy for later going evaluation\n",
    "#env2=deepcopy(env)\n",
    "policy = agent.get_policy(DEFAULT_POLICY_ID)\n",
    "episode = MultiAgentEpisode(\n",
    "    PolicyMap(0,0),\n",
    "    lambda _, __: DEFAULT_POLICY_ID,\n",
    "    lambda: None,\n",
    "    lambda _: None,\n",
    "    0,\n",
    ")\n",
    "\n",
    "episode.user_data['initial_state'] = env.get_state()\n",
    "\n",
    "done = False\n",
    "illegal_action=0\n",
    "while not done:\n",
    "    action, _, _ = policy.compute_single_action(obs, episode=episode)\n",
    "    #print(action_dic[action])\n",
    "    if obs['action_mask'][action]==False:\n",
    "        illegal_action += 1 \n",
    "\n",
    "    obs, reward, done, _ = env.step(action)\n",
    "\n",
    "    #print(obs)\n",
    " \n",
    "    #time.sleep(0.1)\n",
    "    episode.length += 1\n",
    "print(illegal_action)\n",
    "print(episode.length)\n",
    "env.render()\n",
    "env.close()\n",
    "\n"
   ]
  },
  {
   "cell_type": "code",
   "execution_count": null,
   "metadata": {},
   "outputs": [
    {
     "data": {
      "text/html": [
       "<pre style=\"white-space:pre;overflow-x:auto;line-height:normal;font-family:Menlo,'DejaVu Sans Mono',consolas,'Courier New',monospace\"><span style=\"color: #7fbfbf; text-decoration-color: #7fbfbf\">[15:31:00] </span><span style=\"color: #000080; text-decoration-color: #000080\">INFO    </span> parsing file <span style=\"color: #008000; text-decoration-color: #008000\">'resources/jsp_instances/standard/abz8.txt'</span>                                       \n",
       "</pre>\n"
      ],
      "text/plain": [
       "\u001b[2;36m[15:31:00]\u001b[0m\u001b[2;36m \u001b[0m\u001b[34mINFO    \u001b[0m parsing file \u001b[32m'resources/jsp_instances/standard/abz8.txt'\u001b[0m                                       \n"
      ]
     },
     "metadata": {},
     "output_type": "display_data"
    },
    {
     "data": {
      "text/html": [
       "<pre style=\"white-space:pre;overflow-x:auto;line-height:normal;font-family:Menlo,'DejaVu Sans Mono',consolas,'Courier New',monospace\"><span style=\"color: #7fbfbf; text-decoration-color: #7fbfbf\">           </span><span style=\"color: #000080; text-decoration-color: #000080\">INFO    </span> instance appears to contain <span style=\"color: #008080; text-decoration-color: #008080; font-weight: bold\">20</span> jobs, <span style=\"color: #008080; text-decoration-color: #008080; font-weight: bold\">15</span> machines                                               \n",
       "</pre>\n"
      ],
      "text/plain": [
       "\u001b[2;36m          \u001b[0m\u001b[2;36m \u001b[0m\u001b[34mINFO    \u001b[0m instance appears to contain \u001b[1;36m20\u001b[0m jobs, \u001b[1;36m15\u001b[0m machines                                               \n"
      ]
     },
     "metadata": {},
     "output_type": "display_data"
    },
    {
     "name": "stdout",
     "output_type": "stream",
     "text": [
      "1\n"
     ]
    },
    {
     "ename": "TypeError",
     "evalue": "'NoneType' object is not iterable",
     "output_type": "error",
     "traceback": [
      "\u001b[0;31m---------------------------------------------------------------------------\u001b[0m",
      "\u001b[0;31mTypeError\u001b[0m                                 Traceback (most recent call last)",
      "\u001b[1;32m/Users/felix/sciebo/masterarbeit/progra/model-based_rl/cjssp.ipynb Zelle 5\u001b[0m in \u001b[0;36m<cell line: 10>\u001b[0;34m()\u001b[0m\n\u001b[1;32m     <a href='vscode-notebook-cell:/Users/felix/sciebo/masterarbeit/progra/model-based_rl/cjssp.ipynb#X12sZmlsZQ%3D%3D?line=10'>11</a>\u001b[0m steps\u001b[39m+\u001b[39m\u001b[39m=\u001b[39m\u001b[39m1\u001b[39m\n\u001b[1;32m     <a href='vscode-notebook-cell:/Users/felix/sciebo/masterarbeit/progra/model-based_rl/cjssp.ipynb#X12sZmlsZQ%3D%3D?line=11'>12</a>\u001b[0m \u001b[39mprint\u001b[39m(steps)\n\u001b[0;32m---> <a href='vscode-notebook-cell:/Users/felix/sciebo/masterarbeit/progra/model-based_rl/cjssp.ipynb#X12sZmlsZQ%3D%3D?line=12'>13</a>\u001b[0m action \u001b[39m=\u001b[39m agent\u001b[39m.\u001b[39;49mcompute_single_action(obs)\n\u001b[1;32m     <a href='vscode-notebook-cell:/Users/felix/sciebo/masterarbeit/progra/model-based_rl/cjssp.ipynb#X12sZmlsZQ%3D%3D?line=13'>14</a>\u001b[0m \u001b[39mif\u001b[39;00m obs[\u001b[39m'\u001b[39m\u001b[39maction_mask\u001b[39m\u001b[39m'\u001b[39m][action]\u001b[39m==\u001b[39m\u001b[39mFalse\u001b[39;00m:\n\u001b[1;32m     <a href='vscode-notebook-cell:/Users/felix/sciebo/masterarbeit/progra/model-based_rl/cjssp.ipynb#X12sZmlsZQ%3D%3D?line=14'>15</a>\u001b[0m     illegal_action \u001b[39m+\u001b[39m\u001b[39m=\u001b[39m \u001b[39m1\u001b[39m \n",
      "File \u001b[0;32m~/miniconda3/envs/customjssp/lib/python3.10/site-packages/ray/rllib/agents/trainer.py:1656\u001b[0m, in \u001b[0;36mTrainer.compute_single_action\u001b[0;34m(self, observation, state, prev_action, prev_reward, info, input_dict, policy_id, full_fetch, explore, timestep, episode, unsquash_action, clip_action, unsquash_actions, clip_actions, **kwargs)\u001b[0m\n\u001b[1;32m   1648\u001b[0m     action, state, extra \u001b[39m=\u001b[39m policy\u001b[39m.\u001b[39mcompute_single_action(\n\u001b[1;32m   1649\u001b[0m         input_dict\u001b[39m=\u001b[39minput_dict,\n\u001b[1;32m   1650\u001b[0m         explore\u001b[39m=\u001b[39mexplore,\n\u001b[1;32m   1651\u001b[0m         timestep\u001b[39m=\u001b[39mtimestep,\n\u001b[1;32m   1652\u001b[0m         episode\u001b[39m=\u001b[39mepisode,\n\u001b[1;32m   1653\u001b[0m     )\n\u001b[1;32m   1654\u001b[0m \u001b[39m# Individual args.\u001b[39;00m\n\u001b[1;32m   1655\u001b[0m \u001b[39melse\u001b[39;00m:\n\u001b[0;32m-> 1656\u001b[0m     action, state, extra \u001b[39m=\u001b[39m policy\u001b[39m.\u001b[39;49mcompute_single_action(\n\u001b[1;32m   1657\u001b[0m         obs\u001b[39m=\u001b[39;49mobservation,\n\u001b[1;32m   1658\u001b[0m         state\u001b[39m=\u001b[39;49mstate,\n\u001b[1;32m   1659\u001b[0m         prev_action\u001b[39m=\u001b[39;49mprev_action,\n\u001b[1;32m   1660\u001b[0m         prev_reward\u001b[39m=\u001b[39;49mprev_reward,\n\u001b[1;32m   1661\u001b[0m         info\u001b[39m=\u001b[39;49minfo,\n\u001b[1;32m   1662\u001b[0m         explore\u001b[39m=\u001b[39;49mexplore,\n\u001b[1;32m   1663\u001b[0m         timestep\u001b[39m=\u001b[39;49mtimestep,\n\u001b[1;32m   1664\u001b[0m         episode\u001b[39m=\u001b[39;49mepisode,\n\u001b[1;32m   1665\u001b[0m     )\n\u001b[1;32m   1667\u001b[0m \u001b[39m# If we work in normalized action space (normalize_actions=True),\u001b[39;00m\n\u001b[1;32m   1668\u001b[0m \u001b[39m# we re-translate here into the env's action space.\u001b[39;00m\n\u001b[1;32m   1669\u001b[0m \u001b[39mif\u001b[39;00m unsquash_action:\n",
      "File \u001b[0;32m~/miniconda3/envs/customjssp/lib/python3.10/site-packages/ray/rllib/policy/policy.py:255\u001b[0m, in \u001b[0;36mPolicy.compute_single_action\u001b[0;34m(self, obs, state, prev_action, prev_reward, info, input_dict, episode, explore, timestep, **kwargs)\u001b[0m\n\u001b[1;32m    252\u001b[0m \u001b[39mif\u001b[39;00m episode \u001b[39mis\u001b[39;00m \u001b[39mnot\u001b[39;00m \u001b[39mNone\u001b[39;00m:\n\u001b[1;32m    253\u001b[0m     episodes \u001b[39m=\u001b[39m [episode]\n\u001b[0;32m--> 255\u001b[0m out \u001b[39m=\u001b[39m \u001b[39mself\u001b[39;49m\u001b[39m.\u001b[39;49mcompute_actions_from_input_dict(\n\u001b[1;32m    256\u001b[0m     input_dict\u001b[39m=\u001b[39;49mSampleBatch(input_dict),\n\u001b[1;32m    257\u001b[0m     episodes\u001b[39m=\u001b[39;49mepisodes,\n\u001b[1;32m    258\u001b[0m     explore\u001b[39m=\u001b[39;49mexplore,\n\u001b[1;32m    259\u001b[0m     timestep\u001b[39m=\u001b[39;49mtimestep,\n\u001b[1;32m    260\u001b[0m )\n\u001b[1;32m    262\u001b[0m \u001b[39m# Some policies don't return a tuple, but always just a single action.\u001b[39;00m\n\u001b[1;32m    263\u001b[0m \u001b[39m# E.g. ES and ARS.\u001b[39;00m\n\u001b[1;32m    264\u001b[0m \u001b[39mif\u001b[39;00m \u001b[39mnot\u001b[39;00m \u001b[39misinstance\u001b[39m(out, \u001b[39mtuple\u001b[39m):\n",
      "File \u001b[0;32m~/miniconda3/envs/customjssp/lib/python3.10/site-packages/ray/rllib/contrib/alpha_zero/core/alpha_zero_policy.py:72\u001b[0m, in \u001b[0;36mAlphaZeroPolicy.compute_actions_from_input_dict\u001b[0;34m(self, input_dict, explore, timestep, episodes, **kwargs)\u001b[0m\n\u001b[1;32m     70\u001b[0m \u001b[39mwith\u001b[39;00m torch\u001b[39m.\u001b[39mno_grad():\n\u001b[1;32m     71\u001b[0m     actions \u001b[39m=\u001b[39m []\n\u001b[0;32m---> 72\u001b[0m     \u001b[39mfor\u001b[39;00m i, episode \u001b[39min\u001b[39;00m \u001b[39menumerate\u001b[39;49m(episodes):\n\u001b[1;32m     73\u001b[0m         \u001b[39mif\u001b[39;00m episode\u001b[39m.\u001b[39mlength \u001b[39m==\u001b[39m \u001b[39m0\u001b[39m:\n\u001b[1;32m     74\u001b[0m             \u001b[39m# if first time step of episode, get initial env state\u001b[39;00m\n\u001b[1;32m     75\u001b[0m             env_state \u001b[39m=\u001b[39m episode\u001b[39m.\u001b[39muser_data[\u001b[39m\"\u001b[39m\u001b[39minitial_state\u001b[39m\u001b[39m\"\u001b[39m]\n",
      "\u001b[0;31mTypeError\u001b[0m: 'NoneType' object is not iterable"
     ]
    }
   ],
   "source": [
    "agent.load_checkpoint('training_checkpoints/checkpoints_az_jsp/checkpoint-34')\n",
    "env=env_creator('config')\n",
    "obs = env.reset()\n",
    "episode_reward = 0\n",
    "done = False\n",
    "obs = env.reset()\n",
    "illegal_action=0\n",
    "steps=0\n",
    "#episode.user_data['initial_state'] = env.get_state()\n",
    "while not done:\n",
    "    steps+=1\n",
    "    print(steps)\n",
    "    action = agent.compute_single_action(obs)\n",
    "    if obs['action_mask'][action]==False:\n",
    "        illegal_action += 1 \n",
    "    \n",
    "    obs, episode_reward, done, info = env.step(action)\n",
    "\n",
    "#print(obs)\n",
    "\n",
    "#time.sleep(0.1)\n",
    "print(illegal_action)\n",
    "print(steps)\n",
    "env.render()\n",
    "env.close()\n"
   ]
  },
  {
   "cell_type": "code",
   "execution_count": 7,
   "metadata": {},
   "outputs": [
    {
     "data": {
      "text/html": [
       "<pre style=\"white-space:pre;overflow-x:auto;line-height:normal;font-family:Menlo,'DejaVu Sans Mono',consolas,'Courier New',monospace\"><span style=\"color: #7fbfbf; text-decoration-color: #7fbfbf\">[12:18:33] </span><span style=\"color: #000080; text-decoration-color: #000080\">INFO    </span> parsing file <span style=\"color: #008000; text-decoration-color: #008000\">'resources/jsp_instances/standard/abz8.txt'</span>                                       \n",
       "</pre>\n"
      ],
      "text/plain": [
       "\u001b[2;36m[12:18:33]\u001b[0m\u001b[2;36m \u001b[0m\u001b[34mINFO    \u001b[0m parsing file \u001b[32m'resources/jsp_instances/standard/abz8.txt'\u001b[0m                                       \n"
      ]
     },
     "metadata": {},
     "output_type": "display_data"
    },
    {
     "data": {
      "text/html": [
       "<pre style=\"white-space:pre;overflow-x:auto;line-height:normal;font-family:Menlo,'DejaVu Sans Mono',consolas,'Courier New',monospace\"><span style=\"color: #7fbfbf; text-decoration-color: #7fbfbf\">           </span><span style=\"color: #000080; text-decoration-color: #000080\">INFO    </span> instance appears to contain <span style=\"color: #008080; text-decoration-color: #008080; font-weight: bold\">20</span> jobs, <span style=\"color: #008080; text-decoration-color: #008080; font-weight: bold\">15</span> machines                                               \n",
       "</pre>\n"
      ],
      "text/plain": [
       "\u001b[2;36m          \u001b[0m\u001b[2;36m \u001b[0m\u001b[34mINFO    \u001b[0m instance appears to contain \u001b[1;36m20\u001b[0m jobs, \u001b[1;36m15\u001b[0m machines                                               \n"
      ]
     },
     "metadata": {},
     "output_type": "display_data"
    },
    {
     "name": "stdout",
     "output_type": "stream",
     "text": [
      "         ╔═══════════════════════════════════════════════════════╗\n",
      "Job 11   ║\u001b[38;2;90;248;199m█\u001b[38;2;90;248;199m█\u001b[38;2;90;248;199m█\u001b[38;2;90;248;199m█\u001b[38;2;90;248;199m█\u001b[38;2;90;248;199m█\u001b[38;2;90;248;199m█\u001b[38;2;90;248;199m█\u001b[38;2;90;248;199m█\u001b[38;2;90;248;199m█\u001b[38;2;90;248;199m█\u001b[38;2;90;248;199m█\u001b[38;2;90;248;199m█\u001b[38;2;90;248;199m█\u001b[38;2;90;248;199m█\u001b[38;2;90;248;199m█\u001b[38;2;90;248;199m█\u001b[38;2;90;248;199m█\u001b[38;2;90;248;199m█\u001b[38;2;90;248;199m█\u001b[38;2;90;248;199m█\u001b[38;2;90;248;199m█\u001b[38;2;90;248;199m█\u001b[38;2;90;248;199m█\u001b[38;2;90;248;199m█\u001b[38;2;90;248;199m█\u001b[38;2;90;248;199m█\u001b[38;2;90;248;199m█\u001b[38;2;90;248;199m█\u001b[38;2;90;248;199m█\u001b[38;2;90;248;199m█\u001b[38;2;90;248;199m█\u001b[38;2;90;248;199m█\u001b[38;2;90;248;199m█\u001b[38;2;90;248;199m█\u001b[38;2;90;248;199m█\u001b[38;2;90;248;199m█\u001b[38;2;90;248;199m█\u001b[38;2;90;248;199m█\u001b[38;2;90;248;199m█\u001b[38;2;90;248;199m█\u001b[38;2;90;248;199m█\u001b[38;2;90;248;199m█\u001b[38;2;90;248;199m█\u001b[38;2;90;248;199m█\u001b[38;2;90;248;199m█\u001b[38;2;90;248;199m█\u001b[38;2;90;248;199m█\u001b[38;2;90;248;199m█\u001b[38;2;90;248;199m█\u001b[38;2;90;248;199m█\u001b[38;2;90;248;199m█\u001b[38;2;90;248;199m█\u001b[38;2;90;248;199m█ \u001b[0m║ Machine 6   \u001b[38;2;90;248;199m█\u001b[0m\n",
      "         ╚╦════╤════╤════╤════╤════╦════╤════╤════╤════╤════╦════╝\n",
      "          0.0                      15.0                     30.0 \n"
     ]
    }
   ],
   "source": [
    "import numpy as np\n",
    "import random\n",
    "env=env_creator('config')\n",
    "obs_1=env.reset()\n",
    "action_space=env.action_space\n",
    "action_mask=env.valid_action_mask()\n",
    "#task_mask = self.valid_action_mask\n",
    "#job_mask = np.array_split(action_mask, 10)[action]\n",
    "action_list=[]\n",
    "\n",
    "action_list=np.arange(0,env.n_jobs*env.n_machines)\n",
    "\n",
    "\n",
    "for i in range(1):\n",
    "    action_mask=env.valid_action_mask()\n",
    "    actions=action_list[action_mask]\n",
    "    next_action=random.choice(actions)\n",
    "    #next_action=actions[action_mask[0]]\n",
    "    #print(next_action)\n",
    "    state,reward,done,info =env.step(next_action)\n",
    "    if done == True:\n",
    "        print(f\"finished after {i} steps\")\n",
    "        break\n",
    "    #env.render()\n",
    "\n",
    "env.render()\n",
    "observation=(obs_1['obs'])"
   ]
  },
  {
   "cell_type": "code",
   "execution_count": null,
   "metadata": {},
   "outputs": [],
   "source": [
    "env.render()"
   ]
  },
  {
   "cell_type": "code",
   "execution_count": null,
   "metadata": {},
   "outputs": [],
   "source": [
    "import src.modelbased.alphazero as az"
   ]
  },
  {
   "cell_type": "code",
   "execution_count": 4,
   "metadata": {},
   "outputs": [
    {
     "data": {
      "text/html": [
       "<pre style=\"white-space:pre;overflow-x:auto;line-height:normal;font-family:Menlo,'DejaVu Sans Mono',consolas,'Courier New',monospace\"><span style=\"color: #7fbfbf; text-decoration-color: #7fbfbf\">[09:42:46] </span><span style=\"color: #000080; text-decoration-color: #000080\">INFO    </span> parsing file <span style=\"color: #008000; text-decoration-color: #008000\">'resources/jsp_instances/standard/abz8.txt'</span>                                       \n",
       "</pre>\n"
      ],
      "text/plain": [
       "\u001b[2;36m[09:42:46]\u001b[0m\u001b[2;36m \u001b[0m\u001b[34mINFO    \u001b[0m parsing file \u001b[32m'resources/jsp_instances/standard/abz8.txt'\u001b[0m                                       \n"
      ]
     },
     "metadata": {},
     "output_type": "display_data"
    },
    {
     "data": {
      "text/html": [
       "<pre style=\"white-space:pre;overflow-x:auto;line-height:normal;font-family:Menlo,'DejaVu Sans Mono',consolas,'Courier New',monospace\"><span style=\"color: #7fbfbf; text-decoration-color: #7fbfbf\">           </span><span style=\"color: #000080; text-decoration-color: #000080\">INFO    </span> instance appears to contain <span style=\"color: #008080; text-decoration-color: #008080; font-weight: bold\">20</span> jobs, <span style=\"color: #008080; text-decoration-color: #008080; font-weight: bold\">15</span> machines                                               \n",
       "</pre>\n"
      ],
      "text/plain": [
       "\u001b[2;36m          \u001b[0m\u001b[2;36m \u001b[0m\u001b[34mINFO    \u001b[0m instance appears to contain \u001b[1;36m20\u001b[0m jobs, \u001b[1;36m15\u001b[0m machines                                               \n"
      ]
     },
     "metadata": {},
     "output_type": "display_data"
    },
    {
     "name": "stderr",
     "output_type": "stream",
     "text": [
      "2022-08-31 09:42:46,280\tWARNING deprecation.py:46 -- DeprecationWarning: `MultiAgentEpisode` has been deprecated. Use `ray.rllib.evaluation.episode.Episode` instead. This will raise an error in the future!\n",
      "OMP: Warning #190: Forking a process while a parallel region is active is potentially unsafe.\n",
      "OMP: Warning #190: Forking a process while a parallel region is active is potentially unsafe.\n",
      "OMP: Warning #190: Forking a process while a parallel region is active is potentially unsafe.\n"
     ]
    }
   ],
   "source": []
  },
  {
   "cell_type": "code",
   "execution_count": null,
   "metadata": {},
   "outputs": [],
   "source": [
    "env.close()"
   ]
  }
 ],
 "metadata": {
  "kernelspec": {
   "display_name": "Python 3.10.4 ('customjssp')",
   "language": "python",
   "name": "python3"
  },
  "language_info": {
   "codemirror_mode": {
    "name": "ipython",
    "version": 3
   },
   "file_extension": ".py",
   "mimetype": "text/x-python",
   "name": "python",
   "nbconvert_exporter": "python",
   "pygments_lexer": "ipython3",
   "version": "3.10.4"
  },
  "orig_nbformat": 4,
  "vscode": {
   "interpreter": {
    "hash": "7344f7b5995cbf62a990a56ee6eec8bd53f41a3aff848cd18f1feb05905aa9e3"
   }
  }
 },
 "nbformat": 4,
 "nbformat_minor": 2
}
