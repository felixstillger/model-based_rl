{
 "cells": [
  {
   "cell_type": "code",
   "execution_count": null,
   "metadata": {},
   "outputs": [],
   "source": [
    "from gym import envs\n",
    "all_envs = envs.registry.all()\n",
    "env_ids = [env_spec.id for env_spec in all_envs]\n",
    "print(sorted(env_ids))"
   ]
  },
  {
   "cell_type": "code",
   "execution_count": null,
   "metadata": {},
   "outputs": [],
   "source": [
    "import numpy as np\n",
    "class ObservationWrapper(gym.ObservationWrapper):\n",
    "    def __init__(self, env):\n",
    "        super().__init__(env)\n",
    "        assert isinstance(env.observation_space, gym.spaces.Discrete), \\\n",
    "            \"Should only be used to wrap Discrete envs.\"\n",
    "        self.n = self.observation_space.n\n",
    "        self.observation_space = gym.spaces.Box(0, 1, (self.n,))\n",
    "    \n",
    "    def observation(self, obs):\n",
    "        new_obs = np.zeros(self.n)\n",
    "        new_obs[obs] = 1\n",
    "        return new_obs"
   ]
  },
  {
   "cell_type": "code",
   "execution_count": null,
   "metadata": {},
   "outputs": [],
   "source": [
    "\n",
    "\n",
    "import gym\n",
    "env = ObservationWrapper(gym.make('Taxi-v3'))\n",
    "#env = gym.make('Taxi-v3')\n",
    "print(env.action_space)\n",
    "print(env.observation_space)\n",
    "\n",
    "\n",
    "\n",
    "env = gym.make('CartPole-v0')\n",
    "print(env.action_space)\n",
    "print(env.observation_space)\n",
    "\n",
    "\n",
    "\n"
   ]
  },
  {
   "cell_type": "code",
   "execution_count": null,
   "metadata": {},
   "outputs": [],
   "source": []
  },
  {
   "cell_type": "code",
   "execution_count": null,
   "metadata": {},
   "outputs": [],
   "source": [
    "import ale_py as ale\n",
    "ale.importroms('/Users/felix/sciebo/masterarbeit/progra/model-based_rl/roms/Space Invaders.bin')\n",
    "import gym\n",
    "env = gym.make('SpaceInvaders-v4')\n",
    "env.reset()\n",
    "env.render()\n"
   ]
  },
  {
   "cell_type": "code",
   "execution_count": 80,
   "metadata": {},
   "outputs": [
    {
     "data": {
      "text/html": [
       "<pre style=\"white-space:pre;overflow-x:auto;line-height:normal;font-family:Menlo,'DejaVu Sans Mono',consolas,'Courier New',monospace\"><span style=\"color: #7fbfbf; text-decoration-color: #7fbfbf\">[11:46:27] </span><span style=\"color: #000080; text-decoration-color: #000080\">INFO    </span> parsing file <span style=\"color: #008000; text-decoration-color: #008000\">'resources/jsp_instances/standard/abz8.txt'</span>                                       \n",
       "</pre>\n"
      ],
      "text/plain": [
       "\u001b[2;36m[11:46:27]\u001b[0m\u001b[2;36m \u001b[0m\u001b[34mINFO    \u001b[0m parsing file \u001b[32m'resources/jsp_instances/standard/abz8.txt'\u001b[0m                                       \n"
      ]
     },
     "metadata": {},
     "output_type": "display_data"
    },
    {
     "data": {
      "text/html": [
       "<pre style=\"white-space:pre;overflow-x:auto;line-height:normal;font-family:Menlo,'DejaVu Sans Mono',consolas,'Courier New',monospace\"><span style=\"color: #7fbfbf; text-decoration-color: #7fbfbf\">           </span><span style=\"color: #000080; text-decoration-color: #000080\">INFO    </span> instance appears to contain <span style=\"color: #008080; text-decoration-color: #008080; font-weight: bold\">20</span> jobs, <span style=\"color: #008080; text-decoration-color: #008080; font-weight: bold\">15</span> machines                                               \n",
       "</pre>\n"
      ],
      "text/plain": [
       "\u001b[2;36m          \u001b[0m\u001b[2;36m \u001b[0m\u001b[34mINFO    \u001b[0m instance appears to contain \u001b[1;36m20\u001b[0m jobs, \u001b[1;36m15\u001b[0m machines                                               \n"
      ]
     },
     "metadata": {},
     "output_type": "display_data"
    },
    {
     "data": {
      "text/html": [
       "<pre style=\"white-space:pre;overflow-x:auto;line-height:normal;font-family:Menlo,'DejaVu Sans Mono',consolas,'Courier New',monospace\"><span style=\"color: #7fbfbf; text-decoration-color: #7fbfbf\">           </span><span style=\"color: #000080; text-decoration-color: #000080\">INFO    </span> parsing file <span style=\"color: #008000; text-decoration-color: #008000\">'resources/jsp_instances/standard/abz8.txt'</span>                                       \n",
       "</pre>\n"
      ],
      "text/plain": [
       "\u001b[2;36m          \u001b[0m\u001b[2;36m \u001b[0m\u001b[34mINFO    \u001b[0m parsing file \u001b[32m'resources/jsp_instances/standard/abz8.txt'\u001b[0m                                       \n"
      ]
     },
     "metadata": {},
     "output_type": "display_data"
    },
    {
     "data": {
      "text/html": [
       "<pre style=\"white-space:pre;overflow-x:auto;line-height:normal;font-family:Menlo,'DejaVu Sans Mono',consolas,'Courier New',monospace\"><span style=\"color: #7fbfbf; text-decoration-color: #7fbfbf\">           </span><span style=\"color: #000080; text-decoration-color: #000080\">INFO    </span> instance appears to contain <span style=\"color: #008080; text-decoration-color: #008080; font-weight: bold\">20</span> jobs, <span style=\"color: #008080; text-decoration-color: #008080; font-weight: bold\">15</span> machines                                               \n",
       "</pre>\n"
      ],
      "text/plain": [
       "\u001b[2;36m          \u001b[0m\u001b[2;36m \u001b[0m\u001b[34mINFO    \u001b[0m instance appears to contain \u001b[1;36m20\u001b[0m jobs, \u001b[1;36m15\u001b[0m machines                                               \n"
      ]
     },
     "metadata": {},
     "output_type": "display_data"
    },
    {
     "data": {
      "text/html": [
       "<pre style=\"white-space:pre;overflow-x:auto;line-height:normal;font-family:Menlo,'DejaVu Sans Mono',consolas,'Courier New',monospace\"><span style=\"color: #7fbfbf; text-decoration-color: #7fbfbf\">           </span><span style=\"color: #000080; text-decoration-color: #000080\">INFO    </span> parsing file <span style=\"color: #008000; text-decoration-color: #008000\">'resources/jsp_instances/standard/abz8.txt'</span>                                       \n",
       "</pre>\n"
      ],
      "text/plain": [
       "\u001b[2;36m          \u001b[0m\u001b[2;36m \u001b[0m\u001b[34mINFO    \u001b[0m parsing file \u001b[32m'resources/jsp_instances/standard/abz8.txt'\u001b[0m                                       \n"
      ]
     },
     "metadata": {},
     "output_type": "display_data"
    },
    {
     "data": {
      "text/html": [
       "<pre style=\"white-space:pre;overflow-x:auto;line-height:normal;font-family:Menlo,'DejaVu Sans Mono',consolas,'Courier New',monospace\"><span style=\"color: #7fbfbf; text-decoration-color: #7fbfbf\">           </span><span style=\"color: #000080; text-decoration-color: #000080\">INFO    </span> instance appears to contain <span style=\"color: #008080; text-decoration-color: #008080; font-weight: bold\">20</span> jobs, <span style=\"color: #008080; text-decoration-color: #008080; font-weight: bold\">15</span> machines                                               \n",
       "</pre>\n"
      ],
      "text/plain": [
       "\u001b[2;36m          \u001b[0m\u001b[2;36m \u001b[0m\u001b[34mINFO    \u001b[0m instance appears to contain \u001b[1;36m20\u001b[0m jobs, \u001b[1;36m15\u001b[0m machines                                               \n"
      ]
     },
     "metadata": {},
     "output_type": "display_data"
    },
    {
     "data": {
      "text/html": [
       "<pre style=\"white-space:pre;overflow-x:auto;line-height:normal;font-family:Menlo,'DejaVu Sans Mono',consolas,'Courier New',monospace\"><span style=\"color: #7fbfbf; text-decoration-color: #7fbfbf\">           </span><span style=\"color: #000080; text-decoration-color: #000080\">INFO    </span> parsing file <span style=\"color: #008000; text-decoration-color: #008000\">'resources/jsp_instances/standard/abz8.txt'</span>                                       \n",
       "</pre>\n"
      ],
      "text/plain": [
       "\u001b[2;36m          \u001b[0m\u001b[2;36m \u001b[0m\u001b[34mINFO    \u001b[0m parsing file \u001b[32m'resources/jsp_instances/standard/abz8.txt'\u001b[0m                                       \n"
      ]
     },
     "metadata": {},
     "output_type": "display_data"
    },
    {
     "data": {
      "text/html": [
       "<pre style=\"white-space:pre;overflow-x:auto;line-height:normal;font-family:Menlo,'DejaVu Sans Mono',consolas,'Courier New',monospace\"><span style=\"color: #7fbfbf; text-decoration-color: #7fbfbf\">           </span><span style=\"color: #000080; text-decoration-color: #000080\">INFO    </span> instance appears to contain <span style=\"color: #008080; text-decoration-color: #008080; font-weight: bold\">20</span> jobs, <span style=\"color: #008080; text-decoration-color: #008080; font-weight: bold\">15</span> machines                                               \n",
       "</pre>\n"
      ],
      "text/plain": [
       "\u001b[2;36m          \u001b[0m\u001b[2;36m \u001b[0m\u001b[34mINFO    \u001b[0m instance appears to contain \u001b[1;36m20\u001b[0m jobs, \u001b[1;36m15\u001b[0m machines                                               \n"
      ]
     },
     "metadata": {},
     "output_type": "display_data"
    },
    {
     "data": {
      "text/html": [
       "<pre style=\"white-space:pre;overflow-x:auto;line-height:normal;font-family:Menlo,'DejaVu Sans Mono',consolas,'Courier New',monospace\"><span style=\"color: #7fbfbf; text-decoration-color: #7fbfbf\">           </span><span style=\"color: #000080; text-decoration-color: #000080\">INFO    </span> parsing file <span style=\"color: #008000; text-decoration-color: #008000\">'resources/jsp_instances/standard/abz8.txt'</span>                                       \n",
       "</pre>\n"
      ],
      "text/plain": [
       "\u001b[2;36m          \u001b[0m\u001b[2;36m \u001b[0m\u001b[34mINFO    \u001b[0m parsing file \u001b[32m'resources/jsp_instances/standard/abz8.txt'\u001b[0m                                       \n"
      ]
     },
     "metadata": {},
     "output_type": "display_data"
    },
    {
     "data": {
      "text/html": [
       "<pre style=\"white-space:pre;overflow-x:auto;line-height:normal;font-family:Menlo,'DejaVu Sans Mono',consolas,'Courier New',monospace\"><span style=\"color: #7fbfbf; text-decoration-color: #7fbfbf\">           </span><span style=\"color: #000080; text-decoration-color: #000080\">INFO    </span> instance appears to contain <span style=\"color: #008080; text-decoration-color: #008080; font-weight: bold\">20</span> jobs, <span style=\"color: #008080; text-decoration-color: #008080; font-weight: bold\">15</span> machines                                               \n",
       "</pre>\n"
      ],
      "text/plain": [
       "\u001b[2;36m          \u001b[0m\u001b[2;36m \u001b[0m\u001b[34mINFO    \u001b[0m instance appears to contain \u001b[1;36m20\u001b[0m jobs, \u001b[1;36m15\u001b[0m machines                                               \n"
      ]
     },
     "metadata": {},
     "output_type": "display_data"
    },
    {
     "data": {
      "text/html": [
       "<pre style=\"white-space:pre;overflow-x:auto;line-height:normal;font-family:Menlo,'DejaVu Sans Mono',consolas,'Courier New',monospace\"><span style=\"color: #7fbfbf; text-decoration-color: #7fbfbf\">           </span><span style=\"color: #000080; text-decoration-color: #000080\">INFO    </span> parsing file <span style=\"color: #008000; text-decoration-color: #008000\">'resources/jsp_instances/standard/abz8.txt'</span>                                       \n",
       "</pre>\n"
      ],
      "text/plain": [
       "\u001b[2;36m          \u001b[0m\u001b[2;36m \u001b[0m\u001b[34mINFO    \u001b[0m parsing file \u001b[32m'resources/jsp_instances/standard/abz8.txt'\u001b[0m                                       \n"
      ]
     },
     "metadata": {},
     "output_type": "display_data"
    },
    {
     "data": {
      "text/html": [
       "<pre style=\"white-space:pre;overflow-x:auto;line-height:normal;font-family:Menlo,'DejaVu Sans Mono',consolas,'Courier New',monospace\"><span style=\"color: #7fbfbf; text-decoration-color: #7fbfbf\">           </span><span style=\"color: #000080; text-decoration-color: #000080\">INFO    </span> instance appears to contain <span style=\"color: #008080; text-decoration-color: #008080; font-weight: bold\">20</span> jobs, <span style=\"color: #008080; text-decoration-color: #008080; font-weight: bold\">15</span> machines                                               \n",
       "</pre>\n"
      ],
      "text/plain": [
       "\u001b[2;36m          \u001b[0m\u001b[2;36m \u001b[0m\u001b[34mINFO    \u001b[0m instance appears to contain \u001b[1;36m20\u001b[0m jobs, \u001b[1;36m15\u001b[0m machines                                               \n"
      ]
     },
     "metadata": {},
     "output_type": "display_data"
    },
    {
     "data": {
      "text/html": [
       "<pre style=\"white-space:pre;overflow-x:auto;line-height:normal;font-family:Menlo,'DejaVu Sans Mono',consolas,'Courier New',monospace\"><span style=\"color: #7fbfbf; text-decoration-color: #7fbfbf\">           </span><span style=\"color: #000080; text-decoration-color: #000080\">INFO    </span> parsing file <span style=\"color: #008000; text-decoration-color: #008000\">'resources/jsp_instances/standard/abz8.txt'</span>                                       \n",
       "</pre>\n"
      ],
      "text/plain": [
       "\u001b[2;36m          \u001b[0m\u001b[2;36m \u001b[0m\u001b[34mINFO    \u001b[0m parsing file \u001b[32m'resources/jsp_instances/standard/abz8.txt'\u001b[0m                                       \n"
      ]
     },
     "metadata": {},
     "output_type": "display_data"
    },
    {
     "data": {
      "text/html": [
       "<pre style=\"white-space:pre;overflow-x:auto;line-height:normal;font-family:Menlo,'DejaVu Sans Mono',consolas,'Courier New',monospace\"><span style=\"color: #7fbfbf; text-decoration-color: #7fbfbf\">           </span><span style=\"color: #000080; text-decoration-color: #000080\">INFO    </span> instance appears to contain <span style=\"color: #008080; text-decoration-color: #008080; font-weight: bold\">20</span> jobs, <span style=\"color: #008080; text-decoration-color: #008080; font-weight: bold\">15</span> machines                                               \n",
       "</pre>\n"
      ],
      "text/plain": [
       "\u001b[2;36m          \u001b[0m\u001b[2;36m \u001b[0m\u001b[34mINFO    \u001b[0m instance appears to contain \u001b[1;36m20\u001b[0m jobs, \u001b[1;36m15\u001b[0m machines                                               \n"
      ]
     },
     "metadata": {},
     "output_type": "display_data"
    },
    {
     "data": {
      "text/html": [
       "<pre style=\"white-space:pre;overflow-x:auto;line-height:normal;font-family:Menlo,'DejaVu Sans Mono',consolas,'Courier New',monospace\"><span style=\"color: #7fbfbf; text-decoration-color: #7fbfbf\">           </span><span style=\"color: #000080; text-decoration-color: #000080\">INFO    </span> parsing file <span style=\"color: #008000; text-decoration-color: #008000\">'resources/jsp_instances/standard/abz8.txt'</span>                                       \n",
       "</pre>\n"
      ],
      "text/plain": [
       "\u001b[2;36m          \u001b[0m\u001b[2;36m \u001b[0m\u001b[34mINFO    \u001b[0m parsing file \u001b[32m'resources/jsp_instances/standard/abz8.txt'\u001b[0m                                       \n"
      ]
     },
     "metadata": {},
     "output_type": "display_data"
    },
    {
     "data": {
      "text/html": [
       "<pre style=\"white-space:pre;overflow-x:auto;line-height:normal;font-family:Menlo,'DejaVu Sans Mono',consolas,'Courier New',monospace\"><span style=\"color: #7fbfbf; text-decoration-color: #7fbfbf\">[11:46:28] </span><span style=\"color: #000080; text-decoration-color: #000080\">INFO    </span> instance appears to contain <span style=\"color: #008080; text-decoration-color: #008080; font-weight: bold\">20</span> jobs, <span style=\"color: #008080; text-decoration-color: #008080; font-weight: bold\">15</span> machines                                               \n",
       "</pre>\n"
      ],
      "text/plain": [
       "\u001b[2;36m[11:46:28]\u001b[0m\u001b[2;36m \u001b[0m\u001b[34mINFO    \u001b[0m instance appears to contain \u001b[1;36m20\u001b[0m jobs, \u001b[1;36m15\u001b[0m machines                                               \n"
      ]
     },
     "metadata": {},
     "output_type": "display_data"
    },
    {
     "data": {
      "text/html": [
       "<pre style=\"white-space:pre;overflow-x:auto;line-height:normal;font-family:Menlo,'DejaVu Sans Mono',consolas,'Courier New',monospace\"><span style=\"color: #7fbfbf; text-decoration-color: #7fbfbf\">           </span><span style=\"color: #000080; text-decoration-color: #000080\">INFO    </span> parsing file <span style=\"color: #008000; text-decoration-color: #008000\">'resources/jsp_instances/standard/abz8.txt'</span>                                       \n",
       "</pre>\n"
      ],
      "text/plain": [
       "\u001b[2;36m          \u001b[0m\u001b[2;36m \u001b[0m\u001b[34mINFO    \u001b[0m parsing file \u001b[32m'resources/jsp_instances/standard/abz8.txt'\u001b[0m                                       \n"
      ]
     },
     "metadata": {},
     "output_type": "display_data"
    },
    {
     "data": {
      "text/html": [
       "<pre style=\"white-space:pre;overflow-x:auto;line-height:normal;font-family:Menlo,'DejaVu Sans Mono',consolas,'Courier New',monospace\"><span style=\"color: #7fbfbf; text-decoration-color: #7fbfbf\">           </span><span style=\"color: #000080; text-decoration-color: #000080\">INFO    </span> instance appears to contain <span style=\"color: #008080; text-decoration-color: #008080; font-weight: bold\">20</span> jobs, <span style=\"color: #008080; text-decoration-color: #008080; font-weight: bold\">15</span> machines                                               \n",
       "</pre>\n"
      ],
      "text/plain": [
       "\u001b[2;36m          \u001b[0m\u001b[2;36m \u001b[0m\u001b[34mINFO    \u001b[0m instance appears to contain \u001b[1;36m20\u001b[0m jobs, \u001b[1;36m15\u001b[0m machines                                               \n"
      ]
     },
     "metadata": {},
     "output_type": "display_data"
    },
    {
     "data": {
      "text/html": [
       "<pre style=\"white-space:pre;overflow-x:auto;line-height:normal;font-family:Menlo,'DejaVu Sans Mono',consolas,'Courier New',monospace\"><span style=\"color: #7fbfbf; text-decoration-color: #7fbfbf\">           </span><span style=\"color: #000080; text-decoration-color: #000080\">INFO    </span> parsing file <span style=\"color: #008000; text-decoration-color: #008000\">'resources/jsp_instances/standard/abz8.txt'</span>                                       \n",
       "</pre>\n"
      ],
      "text/plain": [
       "\u001b[2;36m          \u001b[0m\u001b[2;36m \u001b[0m\u001b[34mINFO    \u001b[0m parsing file \u001b[32m'resources/jsp_instances/standard/abz8.txt'\u001b[0m                                       \n"
      ]
     },
     "metadata": {},
     "output_type": "display_data"
    },
    {
     "data": {
      "text/html": [
       "<pre style=\"white-space:pre;overflow-x:auto;line-height:normal;font-family:Menlo,'DejaVu Sans Mono',consolas,'Courier New',monospace\"><span style=\"color: #7fbfbf; text-decoration-color: #7fbfbf\">           </span><span style=\"color: #000080; text-decoration-color: #000080\">INFO    </span> instance appears to contain <span style=\"color: #008080; text-decoration-color: #008080; font-weight: bold\">20</span> jobs, <span style=\"color: #008080; text-decoration-color: #008080; font-weight: bold\">15</span> machines                                               \n",
       "</pre>\n"
      ],
      "text/plain": [
       "\u001b[2;36m          \u001b[0m\u001b[2;36m \u001b[0m\u001b[34mINFO    \u001b[0m instance appears to contain \u001b[1;36m20\u001b[0m jobs, \u001b[1;36m15\u001b[0m machines                                               \n"
      ]
     },
     "metadata": {},
     "output_type": "display_data"
    },
    {
     "data": {
      "text/html": [
       "<pre style=\"white-space:pre;overflow-x:auto;line-height:normal;font-family:Menlo,'DejaVu Sans Mono',consolas,'Courier New',monospace\"><span style=\"color: #7fbfbf; text-decoration-color: #7fbfbf\">           </span><span style=\"color: #000080; text-decoration-color: #000080\">INFO    </span> parsing file <span style=\"color: #008000; text-decoration-color: #008000\">'resources/jsp_instances/standard/abz8.txt'</span>                                       \n",
       "</pre>\n"
      ],
      "text/plain": [
       "\u001b[2;36m          \u001b[0m\u001b[2;36m \u001b[0m\u001b[34mINFO    \u001b[0m parsing file \u001b[32m'resources/jsp_instances/standard/abz8.txt'\u001b[0m                                       \n"
      ]
     },
     "metadata": {},
     "output_type": "display_data"
    },
    {
     "data": {
      "text/html": [
       "<pre style=\"white-space:pre;overflow-x:auto;line-height:normal;font-family:Menlo,'DejaVu Sans Mono',consolas,'Courier New',monospace\"><span style=\"color: #7fbfbf; text-decoration-color: #7fbfbf\">           </span><span style=\"color: #000080; text-decoration-color: #000080\">INFO    </span> instance appears to contain <span style=\"color: #008080; text-decoration-color: #008080; font-weight: bold\">20</span> jobs, <span style=\"color: #008080; text-decoration-color: #008080; font-weight: bold\">15</span> machines                                               \n",
       "</pre>\n"
      ],
      "text/plain": [
       "\u001b[2;36m          \u001b[0m\u001b[2;36m \u001b[0m\u001b[34mINFO    \u001b[0m instance appears to contain \u001b[1;36m20\u001b[0m jobs, \u001b[1;36m15\u001b[0m machines                                               \n"
      ]
     },
     "metadata": {},
     "output_type": "display_data"
    },
    {
     "data": {
      "text/html": [
       "<pre style=\"white-space:pre;overflow-x:auto;line-height:normal;font-family:Menlo,'DejaVu Sans Mono',consolas,'Courier New',monospace\"><span style=\"color: #7fbfbf; text-decoration-color: #7fbfbf\">           </span><span style=\"color: #000080; text-decoration-color: #000080\">INFO    </span> parsing file <span style=\"color: #008000; text-decoration-color: #008000\">'resources/jsp_instances/standard/abz8.txt'</span>                                       \n",
       "</pre>\n"
      ],
      "text/plain": [
       "\u001b[2;36m          \u001b[0m\u001b[2;36m \u001b[0m\u001b[34mINFO    \u001b[0m parsing file \u001b[32m'resources/jsp_instances/standard/abz8.txt'\u001b[0m                                       \n"
      ]
     },
     "metadata": {},
     "output_type": "display_data"
    },
    {
     "data": {
      "text/html": [
       "<pre style=\"white-space:pre;overflow-x:auto;line-height:normal;font-family:Menlo,'DejaVu Sans Mono',consolas,'Courier New',monospace\"><span style=\"color: #7fbfbf; text-decoration-color: #7fbfbf\">           </span><span style=\"color: #000080; text-decoration-color: #000080\">INFO    </span> instance appears to contain <span style=\"color: #008080; text-decoration-color: #008080; font-weight: bold\">20</span> jobs, <span style=\"color: #008080; text-decoration-color: #008080; font-weight: bold\">15</span> machines                                               \n",
       "</pre>\n"
      ],
      "text/plain": [
       "\u001b[2;36m          \u001b[0m\u001b[2;36m \u001b[0m\u001b[34mINFO    \u001b[0m instance appears to contain \u001b[1;36m20\u001b[0m jobs, \u001b[1;36m15\u001b[0m machines                                               \n"
      ]
     },
     "metadata": {},
     "output_type": "display_data"
    },
    {
     "data": {
      "text/html": [
       "<pre style=\"white-space:pre;overflow-x:auto;line-height:normal;font-family:Menlo,'DejaVu Sans Mono',consolas,'Courier New',monospace\"><span style=\"color: #7fbfbf; text-decoration-color: #7fbfbf\">           </span><span style=\"color: #000080; text-decoration-color: #000080\">INFO    </span> parsing file <span style=\"color: #008000; text-decoration-color: #008000\">'resources/jsp_instances/standard/abz8.txt'</span>                                       \n",
       "</pre>\n"
      ],
      "text/plain": [
       "\u001b[2;36m          \u001b[0m\u001b[2;36m \u001b[0m\u001b[34mINFO    \u001b[0m parsing file \u001b[32m'resources/jsp_instances/standard/abz8.txt'\u001b[0m                                       \n"
      ]
     },
     "metadata": {},
     "output_type": "display_data"
    },
    {
     "data": {
      "text/html": [
       "<pre style=\"white-space:pre;overflow-x:auto;line-height:normal;font-family:Menlo,'DejaVu Sans Mono',consolas,'Courier New',monospace\"><span style=\"color: #7fbfbf; text-decoration-color: #7fbfbf\">           </span><span style=\"color: #000080; text-decoration-color: #000080\">INFO    </span> instance appears to contain <span style=\"color: #008080; text-decoration-color: #008080; font-weight: bold\">20</span> jobs, <span style=\"color: #008080; text-decoration-color: #008080; font-weight: bold\">15</span> machines                                               \n",
       "</pre>\n"
      ],
      "text/plain": [
       "\u001b[2;36m          \u001b[0m\u001b[2;36m \u001b[0m\u001b[34mINFO    \u001b[0m instance appears to contain \u001b[1;36m20\u001b[0m jobs, \u001b[1;36m15\u001b[0m machines                                               \n"
      ]
     },
     "metadata": {},
     "output_type": "display_data"
    },
    {
     "data": {
      "text/html": [
       "<pre style=\"white-space:pre;overflow-x:auto;line-height:normal;font-family:Menlo,'DejaVu Sans Mono',consolas,'Courier New',monospace\"><span style=\"color: #7fbfbf; text-decoration-color: #7fbfbf\">           </span><span style=\"color: #000080; text-decoration-color: #000080\">INFO    </span> parsing file <span style=\"color: #008000; text-decoration-color: #008000\">'resources/jsp_instances/standard/abz8.txt'</span>                                       \n",
       "</pre>\n"
      ],
      "text/plain": [
       "\u001b[2;36m          \u001b[0m\u001b[2;36m \u001b[0m\u001b[34mINFO    \u001b[0m parsing file \u001b[32m'resources/jsp_instances/standard/abz8.txt'\u001b[0m                                       \n"
      ]
     },
     "metadata": {},
     "output_type": "display_data"
    },
    {
     "data": {
      "text/html": [
       "<pre style=\"white-space:pre;overflow-x:auto;line-height:normal;font-family:Menlo,'DejaVu Sans Mono',consolas,'Courier New',monospace\"><span style=\"color: #7fbfbf; text-decoration-color: #7fbfbf\">           </span><span style=\"color: #000080; text-decoration-color: #000080\">INFO    </span> instance appears to contain <span style=\"color: #008080; text-decoration-color: #008080; font-weight: bold\">20</span> jobs, <span style=\"color: #008080; text-decoration-color: #008080; font-weight: bold\">15</span> machines                                               \n",
       "</pre>\n"
      ],
      "text/plain": [
       "\u001b[2;36m          \u001b[0m\u001b[2;36m \u001b[0m\u001b[34mINFO    \u001b[0m instance appears to contain \u001b[1;36m20\u001b[0m jobs, \u001b[1;36m15\u001b[0m machines                                               \n"
      ]
     },
     "metadata": {},
     "output_type": "display_data"
    },
    {
     "data": {
      "text/html": [
       "<pre style=\"white-space:pre;overflow-x:auto;line-height:normal;font-family:Menlo,'DejaVu Sans Mono',consolas,'Courier New',monospace\"><span style=\"color: #7fbfbf; text-decoration-color: #7fbfbf\">           </span><span style=\"color: #000080; text-decoration-color: #000080\">INFO    </span> parsing file <span style=\"color: #008000; text-decoration-color: #008000\">'resources/jsp_instances/standard/abz8.txt'</span>                                       \n",
       "</pre>\n"
      ],
      "text/plain": [
       "\u001b[2;36m          \u001b[0m\u001b[2;36m \u001b[0m\u001b[34mINFO    \u001b[0m parsing file \u001b[32m'resources/jsp_instances/standard/abz8.txt'\u001b[0m                                       \n"
      ]
     },
     "metadata": {},
     "output_type": "display_data"
    },
    {
     "data": {
      "text/html": [
       "<pre style=\"white-space:pre;overflow-x:auto;line-height:normal;font-family:Menlo,'DejaVu Sans Mono',consolas,'Courier New',monospace\"><span style=\"color: #7fbfbf; text-decoration-color: #7fbfbf\">           </span><span style=\"color: #000080; text-decoration-color: #000080\">INFO    </span> instance appears to contain <span style=\"color: #008080; text-decoration-color: #008080; font-weight: bold\">20</span> jobs, <span style=\"color: #008080; text-decoration-color: #008080; font-weight: bold\">15</span> machines                                               \n",
       "</pre>\n"
      ],
      "text/plain": [
       "\u001b[2;36m          \u001b[0m\u001b[2;36m \u001b[0m\u001b[34mINFO    \u001b[0m instance appears to contain \u001b[1;36m20\u001b[0m jobs, \u001b[1;36m15\u001b[0m machines                                               \n"
      ]
     },
     "metadata": {},
     "output_type": "display_data"
    },
    {
     "data": {
      "text/html": [
       "<pre style=\"white-space:pre;overflow-x:auto;line-height:normal;font-family:Menlo,'DejaVu Sans Mono',consolas,'Courier New',monospace\"><span style=\"color: #7fbfbf; text-decoration-color: #7fbfbf\">           </span><span style=\"color: #000080; text-decoration-color: #000080\">INFO    </span> parsing file <span style=\"color: #008000; text-decoration-color: #008000\">'resources/jsp_instances/standard/abz8.txt'</span>                                       \n",
       "</pre>\n"
      ],
      "text/plain": [
       "\u001b[2;36m          \u001b[0m\u001b[2;36m \u001b[0m\u001b[34mINFO    \u001b[0m parsing file \u001b[32m'resources/jsp_instances/standard/abz8.txt'\u001b[0m                                       \n"
      ]
     },
     "metadata": {},
     "output_type": "display_data"
    },
    {
     "data": {
      "text/html": [
       "<pre style=\"white-space:pre;overflow-x:auto;line-height:normal;font-family:Menlo,'DejaVu Sans Mono',consolas,'Courier New',monospace\"><span style=\"color: #7fbfbf; text-decoration-color: #7fbfbf\">           </span><span style=\"color: #000080; text-decoration-color: #000080\">INFO    </span> instance appears to contain <span style=\"color: #008080; text-decoration-color: #008080; font-weight: bold\">20</span> jobs, <span style=\"color: #008080; text-decoration-color: #008080; font-weight: bold\">15</span> machines                                               \n",
       "</pre>\n"
      ],
      "text/plain": [
       "\u001b[2;36m          \u001b[0m\u001b[2;36m \u001b[0m\u001b[34mINFO    \u001b[0m instance appears to contain \u001b[1;36m20\u001b[0m jobs, \u001b[1;36m15\u001b[0m machines                                               \n"
      ]
     },
     "metadata": {},
     "output_type": "display_data"
    },
    {
     "data": {
      "text/html": [
       "<pre style=\"white-space:pre;overflow-x:auto;line-height:normal;font-family:Menlo,'DejaVu Sans Mono',consolas,'Courier New',monospace\"><span style=\"color: #7fbfbf; text-decoration-color: #7fbfbf\">           </span><span style=\"color: #000080; text-decoration-color: #000080\">INFO    </span> parsing file <span style=\"color: #008000; text-decoration-color: #008000\">'resources/jsp_instances/standard/abz8.txt'</span>                                       \n",
       "</pre>\n"
      ],
      "text/plain": [
       "\u001b[2;36m          \u001b[0m\u001b[2;36m \u001b[0m\u001b[34mINFO    \u001b[0m parsing file \u001b[32m'resources/jsp_instances/standard/abz8.txt'\u001b[0m                                       \n"
      ]
     },
     "metadata": {},
     "output_type": "display_data"
    },
    {
     "data": {
      "text/html": [
       "<pre style=\"white-space:pre;overflow-x:auto;line-height:normal;font-family:Menlo,'DejaVu Sans Mono',consolas,'Courier New',monospace\"><span style=\"color: #7fbfbf; text-decoration-color: #7fbfbf\">           </span><span style=\"color: #000080; text-decoration-color: #000080\">INFO    </span> instance appears to contain <span style=\"color: #008080; text-decoration-color: #008080; font-weight: bold\">20</span> jobs, <span style=\"color: #008080; text-decoration-color: #008080; font-weight: bold\">15</span> machines                                               \n",
       "</pre>\n"
      ],
      "text/plain": [
       "\u001b[2;36m          \u001b[0m\u001b[2;36m \u001b[0m\u001b[34mINFO    \u001b[0m instance appears to contain \u001b[1;36m20\u001b[0m jobs, \u001b[1;36m15\u001b[0m machines                                               \n"
      ]
     },
     "metadata": {},
     "output_type": "display_data"
    },
    {
     "data": {
      "text/html": [
       "<pre style=\"white-space:pre;overflow-x:auto;line-height:normal;font-family:Menlo,'DejaVu Sans Mono',consolas,'Courier New',monospace\"><span style=\"color: #7fbfbf; text-decoration-color: #7fbfbf\">           </span><span style=\"color: #000080; text-decoration-color: #000080\">INFO    </span> parsing file <span style=\"color: #008000; text-decoration-color: #008000\">'resources/jsp_instances/standard/abz8.txt'</span>                                       \n",
       "</pre>\n"
      ],
      "text/plain": [
       "\u001b[2;36m          \u001b[0m\u001b[2;36m \u001b[0m\u001b[34mINFO    \u001b[0m parsing file \u001b[32m'resources/jsp_instances/standard/abz8.txt'\u001b[0m                                       \n"
      ]
     },
     "metadata": {},
     "output_type": "display_data"
    },
    {
     "data": {
      "text/html": [
       "<pre style=\"white-space:pre;overflow-x:auto;line-height:normal;font-family:Menlo,'DejaVu Sans Mono',consolas,'Courier New',monospace\"><span style=\"color: #7fbfbf; text-decoration-color: #7fbfbf\">           </span><span style=\"color: #000080; text-decoration-color: #000080\">INFO    </span> instance appears to contain <span style=\"color: #008080; text-decoration-color: #008080; font-weight: bold\">20</span> jobs, <span style=\"color: #008080; text-decoration-color: #008080; font-weight: bold\">15</span> machines                                               \n",
       "</pre>\n"
      ],
      "text/plain": [
       "\u001b[2;36m          \u001b[0m\u001b[2;36m \u001b[0m\u001b[34mINFO    \u001b[0m instance appears to contain \u001b[1;36m20\u001b[0m jobs, \u001b[1;36m15\u001b[0m machines                                               \n"
      ]
     },
     "metadata": {},
     "output_type": "display_data"
    },
    {
     "data": {
      "text/html": [
       "<pre style=\"white-space:pre;overflow-x:auto;line-height:normal;font-family:Menlo,'DejaVu Sans Mono',consolas,'Courier New',monospace\"><span style=\"color: #7fbfbf; text-decoration-color: #7fbfbf\">           </span><span style=\"color: #000080; text-decoration-color: #000080\">INFO    </span> parsing file <span style=\"color: #008000; text-decoration-color: #008000\">'resources/jsp_instances/standard/abz8.txt'</span>                                       \n",
       "</pre>\n"
      ],
      "text/plain": [
       "\u001b[2;36m          \u001b[0m\u001b[2;36m \u001b[0m\u001b[34mINFO    \u001b[0m parsing file \u001b[32m'resources/jsp_instances/standard/abz8.txt'\u001b[0m                                       \n"
      ]
     },
     "metadata": {},
     "output_type": "display_data"
    },
    {
     "data": {
      "text/html": [
       "<pre style=\"white-space:pre;overflow-x:auto;line-height:normal;font-family:Menlo,'DejaVu Sans Mono',consolas,'Courier New',monospace\"><span style=\"color: #7fbfbf; text-decoration-color: #7fbfbf\">           </span><span style=\"color: #000080; text-decoration-color: #000080\">INFO    </span> instance appears to contain <span style=\"color: #008080; text-decoration-color: #008080; font-weight: bold\">20</span> jobs, <span style=\"color: #008080; text-decoration-color: #008080; font-weight: bold\">15</span> machines                                               \n",
       "</pre>\n"
      ],
      "text/plain": [
       "\u001b[2;36m          \u001b[0m\u001b[2;36m \u001b[0m\u001b[34mINFO    \u001b[0m instance appears to contain \u001b[1;36m20\u001b[0m jobs, \u001b[1;36m15\u001b[0m machines                                               \n"
      ]
     },
     "metadata": {},
     "output_type": "display_data"
    },
    {
     "data": {
      "text/html": [
       "<pre style=\"white-space:pre;overflow-x:auto;line-height:normal;font-family:Menlo,'DejaVu Sans Mono',consolas,'Courier New',monospace\"><span style=\"color: #7fbfbf; text-decoration-color: #7fbfbf\">           </span><span style=\"color: #000080; text-decoration-color: #000080\">INFO    </span> parsing file <span style=\"color: #008000; text-decoration-color: #008000\">'resources/jsp_instances/standard/abz8.txt'</span>                                       \n",
       "</pre>\n"
      ],
      "text/plain": [
       "\u001b[2;36m          \u001b[0m\u001b[2;36m \u001b[0m\u001b[34mINFO    \u001b[0m parsing file \u001b[32m'resources/jsp_instances/standard/abz8.txt'\u001b[0m                                       \n"
      ]
     },
     "metadata": {},
     "output_type": "display_data"
    },
    {
     "data": {
      "text/html": [
       "<pre style=\"white-space:pre;overflow-x:auto;line-height:normal;font-family:Menlo,'DejaVu Sans Mono',consolas,'Courier New',monospace\"><span style=\"color: #7fbfbf; text-decoration-color: #7fbfbf\">           </span><span style=\"color: #000080; text-decoration-color: #000080\">INFO    </span> instance appears to contain <span style=\"color: #008080; text-decoration-color: #008080; font-weight: bold\">20</span> jobs, <span style=\"color: #008080; text-decoration-color: #008080; font-weight: bold\">15</span> machines                                               \n",
       "</pre>\n"
      ],
      "text/plain": [
       "\u001b[2;36m          \u001b[0m\u001b[2;36m \u001b[0m\u001b[34mINFO    \u001b[0m instance appears to contain \u001b[1;36m20\u001b[0m jobs, \u001b[1;36m15\u001b[0m machines                                               \n"
      ]
     },
     "metadata": {},
     "output_type": "display_data"
    },
    {
     "data": {
      "text/html": [
       "<pre style=\"white-space:pre;overflow-x:auto;line-height:normal;font-family:Menlo,'DejaVu Sans Mono',consolas,'Courier New',monospace\"><span style=\"color: #7fbfbf; text-decoration-color: #7fbfbf\">           </span><span style=\"color: #000080; text-decoration-color: #000080\">INFO    </span> parsing file <span style=\"color: #008000; text-decoration-color: #008000\">'resources/jsp_instances/standard/abz8.txt'</span>                                       \n",
       "</pre>\n"
      ],
      "text/plain": [
       "\u001b[2;36m          \u001b[0m\u001b[2;36m \u001b[0m\u001b[34mINFO    \u001b[0m parsing file \u001b[32m'resources/jsp_instances/standard/abz8.txt'\u001b[0m                                       \n"
      ]
     },
     "metadata": {},
     "output_type": "display_data"
    },
    {
     "data": {
      "text/html": [
       "<pre style=\"white-space:pre;overflow-x:auto;line-height:normal;font-family:Menlo,'DejaVu Sans Mono',consolas,'Courier New',monospace\"><span style=\"color: #7fbfbf; text-decoration-color: #7fbfbf\">           </span><span style=\"color: #000080; text-decoration-color: #000080\">INFO    </span> instance appears to contain <span style=\"color: #008080; text-decoration-color: #008080; font-weight: bold\">20</span> jobs, <span style=\"color: #008080; text-decoration-color: #008080; font-weight: bold\">15</span> machines                                               \n",
       "</pre>\n"
      ],
      "text/plain": [
       "\u001b[2;36m          \u001b[0m\u001b[2;36m \u001b[0m\u001b[34mINFO    \u001b[0m instance appears to contain \u001b[1;36m20\u001b[0m jobs, \u001b[1;36m15\u001b[0m machines                                               \n"
      ]
     },
     "metadata": {},
     "output_type": "display_data"
    },
    {
     "data": {
      "text/html": [
       "<pre style=\"white-space:pre;overflow-x:auto;line-height:normal;font-family:Menlo,'DejaVu Sans Mono',consolas,'Courier New',monospace\"><span style=\"color: #7fbfbf; text-decoration-color: #7fbfbf\">[11:46:29] </span><span style=\"color: #000080; text-decoration-color: #000080\">INFO    </span> parsing file <span style=\"color: #008000; text-decoration-color: #008000\">'resources/jsp_instances/standard/abz8.txt'</span>                                       \n",
       "</pre>\n"
      ],
      "text/plain": [
       "\u001b[2;36m[11:46:29]\u001b[0m\u001b[2;36m \u001b[0m\u001b[34mINFO    \u001b[0m parsing file \u001b[32m'resources/jsp_instances/standard/abz8.txt'\u001b[0m                                       \n"
      ]
     },
     "metadata": {},
     "output_type": "display_data"
    },
    {
     "data": {
      "text/html": [
       "<pre style=\"white-space:pre;overflow-x:auto;line-height:normal;font-family:Menlo,'DejaVu Sans Mono',consolas,'Courier New',monospace\"><span style=\"color: #7fbfbf; text-decoration-color: #7fbfbf\">           </span><span style=\"color: #000080; text-decoration-color: #000080\">INFO    </span> instance appears to contain <span style=\"color: #008080; text-decoration-color: #008080; font-weight: bold\">20</span> jobs, <span style=\"color: #008080; text-decoration-color: #008080; font-weight: bold\">15</span> machines                                               \n",
       "</pre>\n"
      ],
      "text/plain": [
       "\u001b[2;36m          \u001b[0m\u001b[2;36m \u001b[0m\u001b[34mINFO    \u001b[0m instance appears to contain \u001b[1;36m20\u001b[0m jobs, \u001b[1;36m15\u001b[0m machines                                               \n"
      ]
     },
     "metadata": {},
     "output_type": "display_data"
    },
    {
     "data": {
      "text/html": [
       "<pre style=\"white-space:pre;overflow-x:auto;line-height:normal;font-family:Menlo,'DejaVu Sans Mono',consolas,'Courier New',monospace\"><span style=\"color: #7fbfbf; text-decoration-color: #7fbfbf\">           </span><span style=\"color: #000080; text-decoration-color: #000080\">INFO    </span> parsing file <span style=\"color: #008000; text-decoration-color: #008000\">'resources/jsp_instances/standard/abz8.txt'</span>                                       \n",
       "</pre>\n"
      ],
      "text/plain": [
       "\u001b[2;36m          \u001b[0m\u001b[2;36m \u001b[0m\u001b[34mINFO    \u001b[0m parsing file \u001b[32m'resources/jsp_instances/standard/abz8.txt'\u001b[0m                                       \n"
      ]
     },
     "metadata": {},
     "output_type": "display_data"
    },
    {
     "data": {
      "text/html": [
       "<pre style=\"white-space:pre;overflow-x:auto;line-height:normal;font-family:Menlo,'DejaVu Sans Mono',consolas,'Courier New',monospace\"><span style=\"color: #7fbfbf; text-decoration-color: #7fbfbf\">           </span><span style=\"color: #000080; text-decoration-color: #000080\">INFO    </span> instance appears to contain <span style=\"color: #008080; text-decoration-color: #008080; font-weight: bold\">20</span> jobs, <span style=\"color: #008080; text-decoration-color: #008080; font-weight: bold\">15</span> machines                                               \n",
       "</pre>\n"
      ],
      "text/plain": [
       "\u001b[2;36m          \u001b[0m\u001b[2;36m \u001b[0m\u001b[34mINFO    \u001b[0m instance appears to contain \u001b[1;36m20\u001b[0m jobs, \u001b[1;36m15\u001b[0m machines                                               \n"
      ]
     },
     "metadata": {},
     "output_type": "display_data"
    },
    {
     "data": {
      "text/html": [
       "<pre style=\"white-space:pre;overflow-x:auto;line-height:normal;font-family:Menlo,'DejaVu Sans Mono',consolas,'Courier New',monospace\"><span style=\"color: #7fbfbf; text-decoration-color: #7fbfbf\">           </span><span style=\"color: #000080; text-decoration-color: #000080\">INFO    </span> parsing file <span style=\"color: #008000; text-decoration-color: #008000\">'resources/jsp_instances/standard/abz8.txt'</span>                                       \n",
       "</pre>\n"
      ],
      "text/plain": [
       "\u001b[2;36m          \u001b[0m\u001b[2;36m \u001b[0m\u001b[34mINFO    \u001b[0m parsing file \u001b[32m'resources/jsp_instances/standard/abz8.txt'\u001b[0m                                       \n"
      ]
     },
     "metadata": {},
     "output_type": "display_data"
    },
    {
     "data": {
      "text/html": [
       "<pre style=\"white-space:pre;overflow-x:auto;line-height:normal;font-family:Menlo,'DejaVu Sans Mono',consolas,'Courier New',monospace\"><span style=\"color: #7fbfbf; text-decoration-color: #7fbfbf\">           </span><span style=\"color: #000080; text-decoration-color: #000080\">INFO    </span> instance appears to contain <span style=\"color: #008080; text-decoration-color: #008080; font-weight: bold\">20</span> jobs, <span style=\"color: #008080; text-decoration-color: #008080; font-weight: bold\">15</span> machines                                               \n",
       "</pre>\n"
      ],
      "text/plain": [
       "\u001b[2;36m          \u001b[0m\u001b[2;36m \u001b[0m\u001b[34mINFO    \u001b[0m instance appears to contain \u001b[1;36m20\u001b[0m jobs, \u001b[1;36m15\u001b[0m machines                                               \n"
      ]
     },
     "metadata": {},
     "output_type": "display_data"
    },
    {
     "data": {
      "text/html": [
       "<pre style=\"white-space:pre;overflow-x:auto;line-height:normal;font-family:Menlo,'DejaVu Sans Mono',consolas,'Courier New',monospace\"><span style=\"color: #7fbfbf; text-decoration-color: #7fbfbf\">           </span><span style=\"color: #000080; text-decoration-color: #000080\">INFO    </span> parsing file <span style=\"color: #008000; text-decoration-color: #008000\">'resources/jsp_instances/standard/abz8.txt'</span>                                       \n",
       "</pre>\n"
      ],
      "text/plain": [
       "\u001b[2;36m          \u001b[0m\u001b[2;36m \u001b[0m\u001b[34mINFO    \u001b[0m parsing file \u001b[32m'resources/jsp_instances/standard/abz8.txt'\u001b[0m                                       \n"
      ]
     },
     "metadata": {},
     "output_type": "display_data"
    },
    {
     "data": {
      "text/html": [
       "<pre style=\"white-space:pre;overflow-x:auto;line-height:normal;font-family:Menlo,'DejaVu Sans Mono',consolas,'Courier New',monospace\"><span style=\"color: #7fbfbf; text-decoration-color: #7fbfbf\">           </span><span style=\"color: #000080; text-decoration-color: #000080\">INFO    </span> instance appears to contain <span style=\"color: #008080; text-decoration-color: #008080; font-weight: bold\">20</span> jobs, <span style=\"color: #008080; text-decoration-color: #008080; font-weight: bold\">15</span> machines                                               \n",
       "</pre>\n"
      ],
      "text/plain": [
       "\u001b[2;36m          \u001b[0m\u001b[2;36m \u001b[0m\u001b[34mINFO    \u001b[0m instance appears to contain \u001b[1;36m20\u001b[0m jobs, \u001b[1;36m15\u001b[0m machines                                               \n"
      ]
     },
     "metadata": {},
     "output_type": "display_data"
    },
    {
     "data": {
      "text/html": [
       "<pre style=\"white-space:pre;overflow-x:auto;line-height:normal;font-family:Menlo,'DejaVu Sans Mono',consolas,'Courier New',monospace\"><span style=\"color: #7fbfbf; text-decoration-color: #7fbfbf\">           </span><span style=\"color: #000080; text-decoration-color: #000080\">INFO    </span> parsing file <span style=\"color: #008000; text-decoration-color: #008000\">'resources/jsp_instances/standard/abz8.txt'</span>                                       \n",
       "</pre>\n"
      ],
      "text/plain": [
       "\u001b[2;36m          \u001b[0m\u001b[2;36m \u001b[0m\u001b[34mINFO    \u001b[0m parsing file \u001b[32m'resources/jsp_instances/standard/abz8.txt'\u001b[0m                                       \n"
      ]
     },
     "metadata": {},
     "output_type": "display_data"
    },
    {
     "data": {
      "text/html": [
       "<pre style=\"white-space:pre;overflow-x:auto;line-height:normal;font-family:Menlo,'DejaVu Sans Mono',consolas,'Courier New',monospace\"><span style=\"color: #7fbfbf; text-decoration-color: #7fbfbf\">           </span><span style=\"color: #000080; text-decoration-color: #000080\">INFO    </span> instance appears to contain <span style=\"color: #008080; text-decoration-color: #008080; font-weight: bold\">20</span> jobs, <span style=\"color: #008080; text-decoration-color: #008080; font-weight: bold\">15</span> machines                                               \n",
       "</pre>\n"
      ],
      "text/plain": [
       "\u001b[2;36m          \u001b[0m\u001b[2;36m \u001b[0m\u001b[34mINFO    \u001b[0m instance appears to contain \u001b[1;36m20\u001b[0m jobs, \u001b[1;36m15\u001b[0m machines                                               \n"
      ]
     },
     "metadata": {},
     "output_type": "display_data"
    },
    {
     "data": {
      "text/html": [
       "<pre style=\"white-space:pre;overflow-x:auto;line-height:normal;font-family:Menlo,'DejaVu Sans Mono',consolas,'Courier New',monospace\"><span style=\"color: #7fbfbf; text-decoration-color: #7fbfbf\">           </span><span style=\"color: #000080; text-decoration-color: #000080\">INFO    </span> parsing file <span style=\"color: #008000; text-decoration-color: #008000\">'resources/jsp_instances/standard/abz8.txt'</span>                                       \n",
       "</pre>\n"
      ],
      "text/plain": [
       "\u001b[2;36m          \u001b[0m\u001b[2;36m \u001b[0m\u001b[34mINFO    \u001b[0m parsing file \u001b[32m'resources/jsp_instances/standard/abz8.txt'\u001b[0m                                       \n"
      ]
     },
     "metadata": {},
     "output_type": "display_data"
    },
    {
     "data": {
      "text/html": [
       "<pre style=\"white-space:pre;overflow-x:auto;line-height:normal;font-family:Menlo,'DejaVu Sans Mono',consolas,'Courier New',monospace\"><span style=\"color: #7fbfbf; text-decoration-color: #7fbfbf\">           </span><span style=\"color: #000080; text-decoration-color: #000080\">INFO    </span> instance appears to contain <span style=\"color: #008080; text-decoration-color: #008080; font-weight: bold\">20</span> jobs, <span style=\"color: #008080; text-decoration-color: #008080; font-weight: bold\">15</span> machines                                               \n",
       "</pre>\n"
      ],
      "text/plain": [
       "\u001b[2;36m          \u001b[0m\u001b[2;36m \u001b[0m\u001b[34mINFO    \u001b[0m instance appears to contain \u001b[1;36m20\u001b[0m jobs, \u001b[1;36m15\u001b[0m machines                                               \n"
      ]
     },
     "metadata": {},
     "output_type": "display_data"
    },
    {
     "data": {
      "text/html": [
       "<pre style=\"white-space:pre;overflow-x:auto;line-height:normal;font-family:Menlo,'DejaVu Sans Mono',consolas,'Courier New',monospace\"><span style=\"color: #7fbfbf; text-decoration-color: #7fbfbf\">           </span><span style=\"color: #000080; text-decoration-color: #000080\">INFO    </span> parsing file <span style=\"color: #008000; text-decoration-color: #008000\">'resources/jsp_instances/standard/abz8.txt'</span>                                       \n",
       "</pre>\n"
      ],
      "text/plain": [
       "\u001b[2;36m          \u001b[0m\u001b[2;36m \u001b[0m\u001b[34mINFO    \u001b[0m parsing file \u001b[32m'resources/jsp_instances/standard/abz8.txt'\u001b[0m                                       \n"
      ]
     },
     "metadata": {},
     "output_type": "display_data"
    },
    {
     "data": {
      "text/html": [
       "<pre style=\"white-space:pre;overflow-x:auto;line-height:normal;font-family:Menlo,'DejaVu Sans Mono',consolas,'Courier New',monospace\"><span style=\"color: #7fbfbf; text-decoration-color: #7fbfbf\">           </span><span style=\"color: #000080; text-decoration-color: #000080\">INFO    </span> instance appears to contain <span style=\"color: #008080; text-decoration-color: #008080; font-weight: bold\">20</span> jobs, <span style=\"color: #008080; text-decoration-color: #008080; font-weight: bold\">15</span> machines                                               \n",
       "</pre>\n"
      ],
      "text/plain": [
       "\u001b[2;36m          \u001b[0m\u001b[2;36m \u001b[0m\u001b[34mINFO    \u001b[0m instance appears to contain \u001b[1;36m20\u001b[0m jobs, \u001b[1;36m15\u001b[0m machines                                               \n"
      ]
     },
     "metadata": {},
     "output_type": "display_data"
    },
    {
     "data": {
      "text/html": [
       "<pre style=\"white-space:pre;overflow-x:auto;line-height:normal;font-family:Menlo,'DejaVu Sans Mono',consolas,'Courier New',monospace\"><span style=\"color: #7fbfbf; text-decoration-color: #7fbfbf\">           </span><span style=\"color: #000080; text-decoration-color: #000080\">INFO    </span> parsing file <span style=\"color: #008000; text-decoration-color: #008000\">'resources/jsp_instances/standard/abz8.txt'</span>                                       \n",
       "</pre>\n"
      ],
      "text/plain": [
       "\u001b[2;36m          \u001b[0m\u001b[2;36m \u001b[0m\u001b[34mINFO    \u001b[0m parsing file \u001b[32m'resources/jsp_instances/standard/abz8.txt'\u001b[0m                                       \n"
      ]
     },
     "metadata": {},
     "output_type": "display_data"
    },
    {
     "data": {
      "text/html": [
       "<pre style=\"white-space:pre;overflow-x:auto;line-height:normal;font-family:Menlo,'DejaVu Sans Mono',consolas,'Courier New',monospace\"><span style=\"color: #7fbfbf; text-decoration-color: #7fbfbf\">           </span><span style=\"color: #000080; text-decoration-color: #000080\">INFO    </span> instance appears to contain <span style=\"color: #008080; text-decoration-color: #008080; font-weight: bold\">20</span> jobs, <span style=\"color: #008080; text-decoration-color: #008080; font-weight: bold\">15</span> machines                                               \n",
       "</pre>\n"
      ],
      "text/plain": [
       "\u001b[2;36m          \u001b[0m\u001b[2;36m \u001b[0m\u001b[34mINFO    \u001b[0m instance appears to contain \u001b[1;36m20\u001b[0m jobs, \u001b[1;36m15\u001b[0m machines                                               \n"
      ]
     },
     "metadata": {},
     "output_type": "display_data"
    },
    {
     "data": {
      "text/html": [
       "<pre style=\"white-space:pre;overflow-x:auto;line-height:normal;font-family:Menlo,'DejaVu Sans Mono',consolas,'Courier New',monospace\"><span style=\"color: #7fbfbf; text-decoration-color: #7fbfbf\">           </span><span style=\"color: #000080; text-decoration-color: #000080\">INFO    </span> parsing file <span style=\"color: #008000; text-decoration-color: #008000\">'resources/jsp_instances/standard/abz8.txt'</span>                                       \n",
       "</pre>\n"
      ],
      "text/plain": [
       "\u001b[2;36m          \u001b[0m\u001b[2;36m \u001b[0m\u001b[34mINFO    \u001b[0m parsing file \u001b[32m'resources/jsp_instances/standard/abz8.txt'\u001b[0m                                       \n"
      ]
     },
     "metadata": {},
     "output_type": "display_data"
    },
    {
     "data": {
      "text/html": [
       "<pre style=\"white-space:pre;overflow-x:auto;line-height:normal;font-family:Menlo,'DejaVu Sans Mono',consolas,'Courier New',monospace\"><span style=\"color: #7fbfbf; text-decoration-color: #7fbfbf\">           </span><span style=\"color: #000080; text-decoration-color: #000080\">INFO    </span> instance appears to contain <span style=\"color: #008080; text-decoration-color: #008080; font-weight: bold\">20</span> jobs, <span style=\"color: #008080; text-decoration-color: #008080; font-weight: bold\">15</span> machines                                               \n",
       "</pre>\n"
      ],
      "text/plain": [
       "\u001b[2;36m          \u001b[0m\u001b[2;36m \u001b[0m\u001b[34mINFO    \u001b[0m instance appears to contain \u001b[1;36m20\u001b[0m jobs, \u001b[1;36m15\u001b[0m machines                                               \n"
      ]
     },
     "metadata": {},
     "output_type": "display_data"
    },
    {
     "data": {
      "text/html": [
       "<pre style=\"white-space:pre;overflow-x:auto;line-height:normal;font-family:Menlo,'DejaVu Sans Mono',consolas,'Courier New',monospace\"><span style=\"color: #7fbfbf; text-decoration-color: #7fbfbf\">           </span><span style=\"color: #000080; text-decoration-color: #000080\">INFO    </span> parsing file <span style=\"color: #008000; text-decoration-color: #008000\">'resources/jsp_instances/standard/abz8.txt'</span>                                       \n",
       "</pre>\n"
      ],
      "text/plain": [
       "\u001b[2;36m          \u001b[0m\u001b[2;36m \u001b[0m\u001b[34mINFO    \u001b[0m parsing file \u001b[32m'resources/jsp_instances/standard/abz8.txt'\u001b[0m                                       \n"
      ]
     },
     "metadata": {},
     "output_type": "display_data"
    },
    {
     "data": {
      "text/html": [
       "<pre style=\"white-space:pre;overflow-x:auto;line-height:normal;font-family:Menlo,'DejaVu Sans Mono',consolas,'Courier New',monospace\"><span style=\"color: #7fbfbf; text-decoration-color: #7fbfbf\">           </span><span style=\"color: #000080; text-decoration-color: #000080\">INFO    </span> instance appears to contain <span style=\"color: #008080; text-decoration-color: #008080; font-weight: bold\">20</span> jobs, <span style=\"color: #008080; text-decoration-color: #008080; font-weight: bold\">15</span> machines                                               \n",
       "</pre>\n"
      ],
      "text/plain": [
       "\u001b[2;36m          \u001b[0m\u001b[2;36m \u001b[0m\u001b[34mINFO    \u001b[0m instance appears to contain \u001b[1;36m20\u001b[0m jobs, \u001b[1;36m15\u001b[0m machines                                               \n"
      ]
     },
     "metadata": {},
     "output_type": "display_data"
    },
    {
     "data": {
      "text/html": [
       "<pre style=\"white-space:pre;overflow-x:auto;line-height:normal;font-family:Menlo,'DejaVu Sans Mono',consolas,'Courier New',monospace\"><span style=\"color: #7fbfbf; text-decoration-color: #7fbfbf\">           </span><span style=\"color: #000080; text-decoration-color: #000080\">INFO    </span> parsing file <span style=\"color: #008000; text-decoration-color: #008000\">'resources/jsp_instances/standard/abz8.txt'</span>                                       \n",
       "</pre>\n"
      ],
      "text/plain": [
       "\u001b[2;36m          \u001b[0m\u001b[2;36m \u001b[0m\u001b[34mINFO    \u001b[0m parsing file \u001b[32m'resources/jsp_instances/standard/abz8.txt'\u001b[0m                                       \n"
      ]
     },
     "metadata": {},
     "output_type": "display_data"
    },
    {
     "data": {
      "text/html": [
       "<pre style=\"white-space:pre;overflow-x:auto;line-height:normal;font-family:Menlo,'DejaVu Sans Mono',consolas,'Courier New',monospace\"><span style=\"color: #7fbfbf; text-decoration-color: #7fbfbf\">           </span><span style=\"color: #000080; text-decoration-color: #000080\">INFO    </span> instance appears to contain <span style=\"color: #008080; text-decoration-color: #008080; font-weight: bold\">20</span> jobs, <span style=\"color: #008080; text-decoration-color: #008080; font-weight: bold\">15</span> machines                                               \n",
       "</pre>\n"
      ],
      "text/plain": [
       "\u001b[2;36m          \u001b[0m\u001b[2;36m \u001b[0m\u001b[34mINFO    \u001b[0m instance appears to contain \u001b[1;36m20\u001b[0m jobs, \u001b[1;36m15\u001b[0m machines                                               \n"
      ]
     },
     "metadata": {},
     "output_type": "display_data"
    },
    {
     "data": {
      "text/html": [
       "<pre style=\"white-space:pre;overflow-x:auto;line-height:normal;font-family:Menlo,'DejaVu Sans Mono',consolas,'Courier New',monospace\"><span style=\"color: #7fbfbf; text-decoration-color: #7fbfbf\">           </span><span style=\"color: #000080; text-decoration-color: #000080\">INFO    </span> parsing file <span style=\"color: #008000; text-decoration-color: #008000\">'resources/jsp_instances/standard/abz8.txt'</span>                                       \n",
       "</pre>\n"
      ],
      "text/plain": [
       "\u001b[2;36m          \u001b[0m\u001b[2;36m \u001b[0m\u001b[34mINFO    \u001b[0m parsing file \u001b[32m'resources/jsp_instances/standard/abz8.txt'\u001b[0m                                       \n"
      ]
     },
     "metadata": {},
     "output_type": "display_data"
    },
    {
     "data": {
      "text/html": [
       "<pre style=\"white-space:pre;overflow-x:auto;line-height:normal;font-family:Menlo,'DejaVu Sans Mono',consolas,'Courier New',monospace\"><span style=\"color: #7fbfbf; text-decoration-color: #7fbfbf\">           </span><span style=\"color: #000080; text-decoration-color: #000080\">INFO    </span> instance appears to contain <span style=\"color: #008080; text-decoration-color: #008080; font-weight: bold\">20</span> jobs, <span style=\"color: #008080; text-decoration-color: #008080; font-weight: bold\">15</span> machines                                               \n",
       "</pre>\n"
      ],
      "text/plain": [
       "\u001b[2;36m          \u001b[0m\u001b[2;36m \u001b[0m\u001b[34mINFO    \u001b[0m instance appears to contain \u001b[1;36m20\u001b[0m jobs, \u001b[1;36m15\u001b[0m machines                                               \n"
      ]
     },
     "metadata": {},
     "output_type": "display_data"
    },
    {
     "data": {
      "text/html": [
       "<pre style=\"white-space:pre;overflow-x:auto;line-height:normal;font-family:Menlo,'DejaVu Sans Mono',consolas,'Courier New',monospace\"><span style=\"color: #7fbfbf; text-decoration-color: #7fbfbf\">           </span><span style=\"color: #000080; text-decoration-color: #000080\">INFO    </span> parsing file <span style=\"color: #008000; text-decoration-color: #008000\">'resources/jsp_instances/standard/abz8.txt'</span>                                       \n",
       "</pre>\n"
      ],
      "text/plain": [
       "\u001b[2;36m          \u001b[0m\u001b[2;36m \u001b[0m\u001b[34mINFO    \u001b[0m parsing file \u001b[32m'resources/jsp_instances/standard/abz8.txt'\u001b[0m                                       \n"
      ]
     },
     "metadata": {},
     "output_type": "display_data"
    },
    {
     "data": {
      "text/html": [
       "<pre style=\"white-space:pre;overflow-x:auto;line-height:normal;font-family:Menlo,'DejaVu Sans Mono',consolas,'Courier New',monospace\"><span style=\"color: #7fbfbf; text-decoration-color: #7fbfbf\">           </span><span style=\"color: #000080; text-decoration-color: #000080\">INFO    </span> instance appears to contain <span style=\"color: #008080; text-decoration-color: #008080; font-weight: bold\">20</span> jobs, <span style=\"color: #008080; text-decoration-color: #008080; font-weight: bold\">15</span> machines                                               \n",
       "</pre>\n"
      ],
      "text/plain": [
       "\u001b[2;36m          \u001b[0m\u001b[2;36m \u001b[0m\u001b[34mINFO    \u001b[0m instance appears to contain \u001b[1;36m20\u001b[0m jobs, \u001b[1;36m15\u001b[0m machines                                               \n"
      ]
     },
     "metadata": {},
     "output_type": "display_data"
    },
    {
     "data": {
      "text/html": [
       "<pre style=\"white-space:pre;overflow-x:auto;line-height:normal;font-family:Menlo,'DejaVu Sans Mono',consolas,'Courier New',monospace\"><span style=\"color: #7fbfbf; text-decoration-color: #7fbfbf\">           </span><span style=\"color: #000080; text-decoration-color: #000080\">INFO    </span> parsing file <span style=\"color: #008000; text-decoration-color: #008000\">'resources/jsp_instances/standard/abz8.txt'</span>                                       \n",
       "</pre>\n"
      ],
      "text/plain": [
       "\u001b[2;36m          \u001b[0m\u001b[2;36m \u001b[0m\u001b[34mINFO    \u001b[0m parsing file \u001b[32m'resources/jsp_instances/standard/abz8.txt'\u001b[0m                                       \n"
      ]
     },
     "metadata": {},
     "output_type": "display_data"
    },
    {
     "data": {
      "text/html": [
       "<pre style=\"white-space:pre;overflow-x:auto;line-height:normal;font-family:Menlo,'DejaVu Sans Mono',consolas,'Courier New',monospace\"><span style=\"color: #7fbfbf; text-decoration-color: #7fbfbf\">           </span><span style=\"color: #000080; text-decoration-color: #000080\">INFO    </span> instance appears to contain <span style=\"color: #008080; text-decoration-color: #008080; font-weight: bold\">20</span> jobs, <span style=\"color: #008080; text-decoration-color: #008080; font-weight: bold\">15</span> machines                                               \n",
       "</pre>\n"
      ],
      "text/plain": [
       "\u001b[2;36m          \u001b[0m\u001b[2;36m \u001b[0m\u001b[34mINFO    \u001b[0m instance appears to contain \u001b[1;36m20\u001b[0m jobs, \u001b[1;36m15\u001b[0m machines                                               \n"
      ]
     },
     "metadata": {},
     "output_type": "display_data"
    },
    {
     "data": {
      "text/html": [
       "<pre style=\"white-space:pre;overflow-x:auto;line-height:normal;font-family:Menlo,'DejaVu Sans Mono',consolas,'Courier New',monospace\"><span style=\"color: #7fbfbf; text-decoration-color: #7fbfbf\">[11:46:30] </span><span style=\"color: #000080; text-decoration-color: #000080\">INFO    </span> parsing file <span style=\"color: #008000; text-decoration-color: #008000\">'resources/jsp_instances/standard/abz8.txt'</span>                                       \n",
       "</pre>\n"
      ],
      "text/plain": [
       "\u001b[2;36m[11:46:30]\u001b[0m\u001b[2;36m \u001b[0m\u001b[34mINFO    \u001b[0m parsing file \u001b[32m'resources/jsp_instances/standard/abz8.txt'\u001b[0m                                       \n"
      ]
     },
     "metadata": {},
     "output_type": "display_data"
    },
    {
     "data": {
      "text/html": [
       "<pre style=\"white-space:pre;overflow-x:auto;line-height:normal;font-family:Menlo,'DejaVu Sans Mono',consolas,'Courier New',monospace\"><span style=\"color: #7fbfbf; text-decoration-color: #7fbfbf\">           </span><span style=\"color: #000080; text-decoration-color: #000080\">INFO    </span> instance appears to contain <span style=\"color: #008080; text-decoration-color: #008080; font-weight: bold\">20</span> jobs, <span style=\"color: #008080; text-decoration-color: #008080; font-weight: bold\">15</span> machines                                               \n",
       "</pre>\n"
      ],
      "text/plain": [
       "\u001b[2;36m          \u001b[0m\u001b[2;36m \u001b[0m\u001b[34mINFO    \u001b[0m instance appears to contain \u001b[1;36m20\u001b[0m jobs, \u001b[1;36m15\u001b[0m machines                                               \n"
      ]
     },
     "metadata": {},
     "output_type": "display_data"
    },
    {
     "data": {
      "text/html": [
       "<pre style=\"white-space:pre;overflow-x:auto;line-height:normal;font-family:Menlo,'DejaVu Sans Mono',consolas,'Courier New',monospace\"><span style=\"color: #7fbfbf; text-decoration-color: #7fbfbf\">           </span><span style=\"color: #000080; text-decoration-color: #000080\">INFO    </span> parsing file <span style=\"color: #008000; text-decoration-color: #008000\">'resources/jsp_instances/standard/abz8.txt'</span>                                       \n",
       "</pre>\n"
      ],
      "text/plain": [
       "\u001b[2;36m          \u001b[0m\u001b[2;36m \u001b[0m\u001b[34mINFO    \u001b[0m parsing file \u001b[32m'resources/jsp_instances/standard/abz8.txt'\u001b[0m                                       \n"
      ]
     },
     "metadata": {},
     "output_type": "display_data"
    },
    {
     "data": {
      "text/html": [
       "<pre style=\"white-space:pre;overflow-x:auto;line-height:normal;font-family:Menlo,'DejaVu Sans Mono',consolas,'Courier New',monospace\"><span style=\"color: #7fbfbf; text-decoration-color: #7fbfbf\">           </span><span style=\"color: #000080; text-decoration-color: #000080\">INFO    </span> instance appears to contain <span style=\"color: #008080; text-decoration-color: #008080; font-weight: bold\">20</span> jobs, <span style=\"color: #008080; text-decoration-color: #008080; font-weight: bold\">15</span> machines                                               \n",
       "</pre>\n"
      ],
      "text/plain": [
       "\u001b[2;36m          \u001b[0m\u001b[2;36m \u001b[0m\u001b[34mINFO    \u001b[0m instance appears to contain \u001b[1;36m20\u001b[0m jobs, \u001b[1;36m15\u001b[0m machines                                               \n"
      ]
     },
     "metadata": {},
     "output_type": "display_data"
    },
    {
     "data": {
      "text/html": [
       "<pre style=\"white-space:pre;overflow-x:auto;line-height:normal;font-family:Menlo,'DejaVu Sans Mono',consolas,'Courier New',monospace\"><span style=\"color: #7fbfbf; text-decoration-color: #7fbfbf\">           </span><span style=\"color: #000080; text-decoration-color: #000080\">INFO    </span> parsing file <span style=\"color: #008000; text-decoration-color: #008000\">'resources/jsp_instances/standard/abz8.txt'</span>                                       \n",
       "</pre>\n"
      ],
      "text/plain": [
       "\u001b[2;36m          \u001b[0m\u001b[2;36m \u001b[0m\u001b[34mINFO    \u001b[0m parsing file \u001b[32m'resources/jsp_instances/standard/abz8.txt'\u001b[0m                                       \n"
      ]
     },
     "metadata": {},
     "output_type": "display_data"
    },
    {
     "data": {
      "text/html": [
       "<pre style=\"white-space:pre;overflow-x:auto;line-height:normal;font-family:Menlo,'DejaVu Sans Mono',consolas,'Courier New',monospace\"><span style=\"color: #7fbfbf; text-decoration-color: #7fbfbf\">           </span><span style=\"color: #000080; text-decoration-color: #000080\">INFO    </span> instance appears to contain <span style=\"color: #008080; text-decoration-color: #008080; font-weight: bold\">20</span> jobs, <span style=\"color: #008080; text-decoration-color: #008080; font-weight: bold\">15</span> machines                                               \n",
       "</pre>\n"
      ],
      "text/plain": [
       "\u001b[2;36m          \u001b[0m\u001b[2;36m \u001b[0m\u001b[34mINFO    \u001b[0m instance appears to contain \u001b[1;36m20\u001b[0m jobs, \u001b[1;36m15\u001b[0m machines                                               \n"
      ]
     },
     "metadata": {},
     "output_type": "display_data"
    },
    {
     "data": {
      "text/html": [
       "<pre style=\"white-space:pre;overflow-x:auto;line-height:normal;font-family:Menlo,'DejaVu Sans Mono',consolas,'Courier New',monospace\"><span style=\"color: #7fbfbf; text-decoration-color: #7fbfbf\">           </span><span style=\"color: #000080; text-decoration-color: #000080\">INFO    </span> parsing file <span style=\"color: #008000; text-decoration-color: #008000\">'resources/jsp_instances/standard/abz8.txt'</span>                                       \n",
       "</pre>\n"
      ],
      "text/plain": [
       "\u001b[2;36m          \u001b[0m\u001b[2;36m \u001b[0m\u001b[34mINFO    \u001b[0m parsing file \u001b[32m'resources/jsp_instances/standard/abz8.txt'\u001b[0m                                       \n"
      ]
     },
     "metadata": {},
     "output_type": "display_data"
    },
    {
     "data": {
      "text/html": [
       "<pre style=\"white-space:pre;overflow-x:auto;line-height:normal;font-family:Menlo,'DejaVu Sans Mono',consolas,'Courier New',monospace\"><span style=\"color: #7fbfbf; text-decoration-color: #7fbfbf\">           </span><span style=\"color: #000080; text-decoration-color: #000080\">INFO    </span> instance appears to contain <span style=\"color: #008080; text-decoration-color: #008080; font-weight: bold\">20</span> jobs, <span style=\"color: #008080; text-decoration-color: #008080; font-weight: bold\">15</span> machines                                               \n",
       "</pre>\n"
      ],
      "text/plain": [
       "\u001b[2;36m          \u001b[0m\u001b[2;36m \u001b[0m\u001b[34mINFO    \u001b[0m instance appears to contain \u001b[1;36m20\u001b[0m jobs, \u001b[1;36m15\u001b[0m machines                                               \n"
      ]
     },
     "metadata": {},
     "output_type": "display_data"
    },
    {
     "data": {
      "text/html": [
       "<pre style=\"white-space:pre;overflow-x:auto;line-height:normal;font-family:Menlo,'DejaVu Sans Mono',consolas,'Courier New',monospace\"><span style=\"color: #7fbfbf; text-decoration-color: #7fbfbf\">           </span><span style=\"color: #000080; text-decoration-color: #000080\">INFO    </span> parsing file <span style=\"color: #008000; text-decoration-color: #008000\">'resources/jsp_instances/standard/abz8.txt'</span>                                       \n",
       "</pre>\n"
      ],
      "text/plain": [
       "\u001b[2;36m          \u001b[0m\u001b[2;36m \u001b[0m\u001b[34mINFO    \u001b[0m parsing file \u001b[32m'resources/jsp_instances/standard/abz8.txt'\u001b[0m                                       \n"
      ]
     },
     "metadata": {},
     "output_type": "display_data"
    },
    {
     "data": {
      "text/html": [
       "<pre style=\"white-space:pre;overflow-x:auto;line-height:normal;font-family:Menlo,'DejaVu Sans Mono',consolas,'Courier New',monospace\"><span style=\"color: #7fbfbf; text-decoration-color: #7fbfbf\">           </span><span style=\"color: #000080; text-decoration-color: #000080\">INFO    </span> instance appears to contain <span style=\"color: #008080; text-decoration-color: #008080; font-weight: bold\">20</span> jobs, <span style=\"color: #008080; text-decoration-color: #008080; font-weight: bold\">15</span> machines                                               \n",
       "</pre>\n"
      ],
      "text/plain": [
       "\u001b[2;36m          \u001b[0m\u001b[2;36m \u001b[0m\u001b[34mINFO    \u001b[0m instance appears to contain \u001b[1;36m20\u001b[0m jobs, \u001b[1;36m15\u001b[0m machines                                               \n"
      ]
     },
     "metadata": {},
     "output_type": "display_data"
    },
    {
     "data": {
      "text/html": [
       "<pre style=\"white-space:pre;overflow-x:auto;line-height:normal;font-family:Menlo,'DejaVu Sans Mono',consolas,'Courier New',monospace\"><span style=\"color: #7fbfbf; text-decoration-color: #7fbfbf\">           </span><span style=\"color: #000080; text-decoration-color: #000080\">INFO    </span> parsing file <span style=\"color: #008000; text-decoration-color: #008000\">'resources/jsp_instances/standard/abz8.txt'</span>                                       \n",
       "</pre>\n"
      ],
      "text/plain": [
       "\u001b[2;36m          \u001b[0m\u001b[2;36m \u001b[0m\u001b[34mINFO    \u001b[0m parsing file \u001b[32m'resources/jsp_instances/standard/abz8.txt'\u001b[0m                                       \n"
      ]
     },
     "metadata": {},
     "output_type": "display_data"
    },
    {
     "data": {
      "text/html": [
       "<pre style=\"white-space:pre;overflow-x:auto;line-height:normal;font-family:Menlo,'DejaVu Sans Mono',consolas,'Courier New',monospace\"><span style=\"color: #7fbfbf; text-decoration-color: #7fbfbf\">           </span><span style=\"color: #000080; text-decoration-color: #000080\">INFO    </span> instance appears to contain <span style=\"color: #008080; text-decoration-color: #008080; font-weight: bold\">20</span> jobs, <span style=\"color: #008080; text-decoration-color: #008080; font-weight: bold\">15</span> machines                                               \n",
       "</pre>\n"
      ],
      "text/plain": [
       "\u001b[2;36m          \u001b[0m\u001b[2;36m \u001b[0m\u001b[34mINFO    \u001b[0m instance appears to contain \u001b[1;36m20\u001b[0m jobs, \u001b[1;36m15\u001b[0m machines                                               \n"
      ]
     },
     "metadata": {},
     "output_type": "display_data"
    },
    {
     "data": {
      "text/html": [
       "<pre style=\"white-space:pre;overflow-x:auto;line-height:normal;font-family:Menlo,'DejaVu Sans Mono',consolas,'Courier New',monospace\"><span style=\"color: #7fbfbf; text-decoration-color: #7fbfbf\">           </span><span style=\"color: #000080; text-decoration-color: #000080\">INFO    </span> parsing file <span style=\"color: #008000; text-decoration-color: #008000\">'resources/jsp_instances/standard/abz8.txt'</span>                                       \n",
       "</pre>\n"
      ],
      "text/plain": [
       "\u001b[2;36m          \u001b[0m\u001b[2;36m \u001b[0m\u001b[34mINFO    \u001b[0m parsing file \u001b[32m'resources/jsp_instances/standard/abz8.txt'\u001b[0m                                       \n"
      ]
     },
     "metadata": {},
     "output_type": "display_data"
    },
    {
     "data": {
      "text/html": [
       "<pre style=\"white-space:pre;overflow-x:auto;line-height:normal;font-family:Menlo,'DejaVu Sans Mono',consolas,'Courier New',monospace\"><span style=\"color: #7fbfbf; text-decoration-color: #7fbfbf\">           </span><span style=\"color: #000080; text-decoration-color: #000080\">INFO    </span> instance appears to contain <span style=\"color: #008080; text-decoration-color: #008080; font-weight: bold\">20</span> jobs, <span style=\"color: #008080; text-decoration-color: #008080; font-weight: bold\">15</span> machines                                               \n",
       "</pre>\n"
      ],
      "text/plain": [
       "\u001b[2;36m          \u001b[0m\u001b[2;36m \u001b[0m\u001b[34mINFO    \u001b[0m instance appears to contain \u001b[1;36m20\u001b[0m jobs, \u001b[1;36m15\u001b[0m machines                                               \n"
      ]
     },
     "metadata": {},
     "output_type": "display_data"
    },
    {
     "data": {
      "text/html": [
       "<pre style=\"white-space:pre;overflow-x:auto;line-height:normal;font-family:Menlo,'DejaVu Sans Mono',consolas,'Courier New',monospace\"><span style=\"color: #7fbfbf; text-decoration-color: #7fbfbf\">           </span><span style=\"color: #000080; text-decoration-color: #000080\">INFO    </span> parsing file <span style=\"color: #008000; text-decoration-color: #008000\">'resources/jsp_instances/standard/abz8.txt'</span>                                       \n",
       "</pre>\n"
      ],
      "text/plain": [
       "\u001b[2;36m          \u001b[0m\u001b[2;36m \u001b[0m\u001b[34mINFO    \u001b[0m parsing file \u001b[32m'resources/jsp_instances/standard/abz8.txt'\u001b[0m                                       \n"
      ]
     },
     "metadata": {},
     "output_type": "display_data"
    },
    {
     "data": {
      "text/html": [
       "<pre style=\"white-space:pre;overflow-x:auto;line-height:normal;font-family:Menlo,'DejaVu Sans Mono',consolas,'Courier New',monospace\"><span style=\"color: #7fbfbf; text-decoration-color: #7fbfbf\">           </span><span style=\"color: #000080; text-decoration-color: #000080\">INFO    </span> instance appears to contain <span style=\"color: #008080; text-decoration-color: #008080; font-weight: bold\">20</span> jobs, <span style=\"color: #008080; text-decoration-color: #008080; font-weight: bold\">15</span> machines                                               \n",
       "</pre>\n"
      ],
      "text/plain": [
       "\u001b[2;36m          \u001b[0m\u001b[2;36m \u001b[0m\u001b[34mINFO    \u001b[0m instance appears to contain \u001b[1;36m20\u001b[0m jobs, \u001b[1;36m15\u001b[0m machines                                               \n"
      ]
     },
     "metadata": {},
     "output_type": "display_data"
    },
    {
     "data": {
      "text/html": [
       "<pre style=\"white-space:pre;overflow-x:auto;line-height:normal;font-family:Menlo,'DejaVu Sans Mono',consolas,'Courier New',monospace\"><span style=\"color: #7fbfbf; text-decoration-color: #7fbfbf\">           </span><span style=\"color: #000080; text-decoration-color: #000080\">INFO    </span> parsing file <span style=\"color: #008000; text-decoration-color: #008000\">'resources/jsp_instances/standard/abz8.txt'</span>                                       \n",
       "</pre>\n"
      ],
      "text/plain": [
       "\u001b[2;36m          \u001b[0m\u001b[2;36m \u001b[0m\u001b[34mINFO    \u001b[0m parsing file \u001b[32m'resources/jsp_instances/standard/abz8.txt'\u001b[0m                                       \n"
      ]
     },
     "metadata": {},
     "output_type": "display_data"
    },
    {
     "data": {
      "text/html": [
       "<pre style=\"white-space:pre;overflow-x:auto;line-height:normal;font-family:Menlo,'DejaVu Sans Mono',consolas,'Courier New',monospace\"><span style=\"color: #7fbfbf; text-decoration-color: #7fbfbf\">           </span><span style=\"color: #000080; text-decoration-color: #000080\">INFO    </span> instance appears to contain <span style=\"color: #008080; text-decoration-color: #008080; font-weight: bold\">20</span> jobs, <span style=\"color: #008080; text-decoration-color: #008080; font-weight: bold\">15</span> machines                                               \n",
       "</pre>\n"
      ],
      "text/plain": [
       "\u001b[2;36m          \u001b[0m\u001b[2;36m \u001b[0m\u001b[34mINFO    \u001b[0m instance appears to contain \u001b[1;36m20\u001b[0m jobs, \u001b[1;36m15\u001b[0m machines                                               \n"
      ]
     },
     "metadata": {},
     "output_type": "display_data"
    },
    {
     "data": {
      "text/html": [
       "<pre style=\"white-space:pre;overflow-x:auto;line-height:normal;font-family:Menlo,'DejaVu Sans Mono',consolas,'Courier New',monospace\"><span style=\"color: #7fbfbf; text-decoration-color: #7fbfbf\">           </span><span style=\"color: #000080; text-decoration-color: #000080\">INFO    </span> parsing file <span style=\"color: #008000; text-decoration-color: #008000\">'resources/jsp_instances/standard/abz8.txt'</span>                                       \n",
       "</pre>\n"
      ],
      "text/plain": [
       "\u001b[2;36m          \u001b[0m\u001b[2;36m \u001b[0m\u001b[34mINFO    \u001b[0m parsing file \u001b[32m'resources/jsp_instances/standard/abz8.txt'\u001b[0m                                       \n"
      ]
     },
     "metadata": {},
     "output_type": "display_data"
    },
    {
     "data": {
      "text/html": [
       "<pre style=\"white-space:pre;overflow-x:auto;line-height:normal;font-family:Menlo,'DejaVu Sans Mono',consolas,'Courier New',monospace\"><span style=\"color: #7fbfbf; text-decoration-color: #7fbfbf\">           </span><span style=\"color: #000080; text-decoration-color: #000080\">INFO    </span> instance appears to contain <span style=\"color: #008080; text-decoration-color: #008080; font-weight: bold\">20</span> jobs, <span style=\"color: #008080; text-decoration-color: #008080; font-weight: bold\">15</span> machines                                               \n",
       "</pre>\n"
      ],
      "text/plain": [
       "\u001b[2;36m          \u001b[0m\u001b[2;36m \u001b[0m\u001b[34mINFO    \u001b[0m instance appears to contain \u001b[1;36m20\u001b[0m jobs, \u001b[1;36m15\u001b[0m machines                                               \n"
      ]
     },
     "metadata": {},
     "output_type": "display_data"
    },
    {
     "data": {
      "text/html": [
       "<pre style=\"white-space:pre;overflow-x:auto;line-height:normal;font-family:Menlo,'DejaVu Sans Mono',consolas,'Courier New',monospace\"><span style=\"color: #7fbfbf; text-decoration-color: #7fbfbf\">           </span><span style=\"color: #000080; text-decoration-color: #000080\">INFO    </span> parsing file <span style=\"color: #008000; text-decoration-color: #008000\">'resources/jsp_instances/standard/abz8.txt'</span>                                       \n",
       "</pre>\n"
      ],
      "text/plain": [
       "\u001b[2;36m          \u001b[0m\u001b[2;36m \u001b[0m\u001b[34mINFO    \u001b[0m parsing file \u001b[32m'resources/jsp_instances/standard/abz8.txt'\u001b[0m                                       \n"
      ]
     },
     "metadata": {},
     "output_type": "display_data"
    },
    {
     "data": {
      "text/html": [
       "<pre style=\"white-space:pre;overflow-x:auto;line-height:normal;font-family:Menlo,'DejaVu Sans Mono',consolas,'Courier New',monospace\"><span style=\"color: #7fbfbf; text-decoration-color: #7fbfbf\">           </span><span style=\"color: #000080; text-decoration-color: #000080\">INFO    </span> instance appears to contain <span style=\"color: #008080; text-decoration-color: #008080; font-weight: bold\">20</span> jobs, <span style=\"color: #008080; text-decoration-color: #008080; font-weight: bold\">15</span> machines                                               \n",
       "</pre>\n"
      ],
      "text/plain": [
       "\u001b[2;36m          \u001b[0m\u001b[2;36m \u001b[0m\u001b[34mINFO    \u001b[0m instance appears to contain \u001b[1;36m20\u001b[0m jobs, \u001b[1;36m15\u001b[0m machines                                               \n"
      ]
     },
     "metadata": {},
     "output_type": "display_data"
    },
    {
     "data": {
      "text/html": [
       "<pre style=\"white-space:pre;overflow-x:auto;line-height:normal;font-family:Menlo,'DejaVu Sans Mono',consolas,'Courier New',monospace\"><span style=\"color: #7fbfbf; text-decoration-color: #7fbfbf\">           </span><span style=\"color: #000080; text-decoration-color: #000080\">INFO    </span> parsing file <span style=\"color: #008000; text-decoration-color: #008000\">'resources/jsp_instances/standard/abz8.txt'</span>                                       \n",
       "</pre>\n"
      ],
      "text/plain": [
       "\u001b[2;36m          \u001b[0m\u001b[2;36m \u001b[0m\u001b[34mINFO    \u001b[0m parsing file \u001b[32m'resources/jsp_instances/standard/abz8.txt'\u001b[0m                                       \n"
      ]
     },
     "metadata": {},
     "output_type": "display_data"
    },
    {
     "data": {
      "text/html": [
       "<pre style=\"white-space:pre;overflow-x:auto;line-height:normal;font-family:Menlo,'DejaVu Sans Mono',consolas,'Courier New',monospace\"><span style=\"color: #7fbfbf; text-decoration-color: #7fbfbf\">           </span><span style=\"color: #000080; text-decoration-color: #000080\">INFO    </span> instance appears to contain <span style=\"color: #008080; text-decoration-color: #008080; font-weight: bold\">20</span> jobs, <span style=\"color: #008080; text-decoration-color: #008080; font-weight: bold\">15</span> machines                                               \n",
       "</pre>\n"
      ],
      "text/plain": [
       "\u001b[2;36m          \u001b[0m\u001b[2;36m \u001b[0m\u001b[34mINFO    \u001b[0m instance appears to contain \u001b[1;36m20\u001b[0m jobs, \u001b[1;36m15\u001b[0m machines                                               \n"
      ]
     },
     "metadata": {},
     "output_type": "display_data"
    },
    {
     "data": {
      "text/html": [
       "<pre style=\"white-space:pre;overflow-x:auto;line-height:normal;font-family:Menlo,'DejaVu Sans Mono',consolas,'Courier New',monospace\"><span style=\"color: #7fbfbf; text-decoration-color: #7fbfbf\">           </span><span style=\"color: #000080; text-decoration-color: #000080\">INFO    </span> parsing file <span style=\"color: #008000; text-decoration-color: #008000\">'resources/jsp_instances/standard/abz8.txt'</span>                                       \n",
       "</pre>\n"
      ],
      "text/plain": [
       "\u001b[2;36m          \u001b[0m\u001b[2;36m \u001b[0m\u001b[34mINFO    \u001b[0m parsing file \u001b[32m'resources/jsp_instances/standard/abz8.txt'\u001b[0m                                       \n"
      ]
     },
     "metadata": {},
     "output_type": "display_data"
    },
    {
     "data": {
      "text/html": [
       "<pre style=\"white-space:pre;overflow-x:auto;line-height:normal;font-family:Menlo,'DejaVu Sans Mono',consolas,'Courier New',monospace\"><span style=\"color: #7fbfbf; text-decoration-color: #7fbfbf\">           </span><span style=\"color: #000080; text-decoration-color: #000080\">INFO    </span> instance appears to contain <span style=\"color: #008080; text-decoration-color: #008080; font-weight: bold\">20</span> jobs, <span style=\"color: #008080; text-decoration-color: #008080; font-weight: bold\">15</span> machines                                               \n",
       "</pre>\n"
      ],
      "text/plain": [
       "\u001b[2;36m          \u001b[0m\u001b[2;36m \u001b[0m\u001b[34mINFO    \u001b[0m instance appears to contain \u001b[1;36m20\u001b[0m jobs, \u001b[1;36m15\u001b[0m machines                                               \n"
      ]
     },
     "metadata": {},
     "output_type": "display_data"
    },
    {
     "data": {
      "text/html": [
       "<pre style=\"white-space:pre;overflow-x:auto;line-height:normal;font-family:Menlo,'DejaVu Sans Mono',consolas,'Courier New',monospace\"><span style=\"color: #7fbfbf; text-decoration-color: #7fbfbf\">[11:46:31] </span><span style=\"color: #000080; text-decoration-color: #000080\">INFO    </span> parsing file <span style=\"color: #008000; text-decoration-color: #008000\">'resources/jsp_instances/standard/abz8.txt'</span>                                       \n",
       "</pre>\n"
      ],
      "text/plain": [
       "\u001b[2;36m[11:46:31]\u001b[0m\u001b[2;36m \u001b[0m\u001b[34mINFO    \u001b[0m parsing file \u001b[32m'resources/jsp_instances/standard/abz8.txt'\u001b[0m                                       \n"
      ]
     },
     "metadata": {},
     "output_type": "display_data"
    },
    {
     "data": {
      "text/html": [
       "<pre style=\"white-space:pre;overflow-x:auto;line-height:normal;font-family:Menlo,'DejaVu Sans Mono',consolas,'Courier New',monospace\"><span style=\"color: #7fbfbf; text-decoration-color: #7fbfbf\">           </span><span style=\"color: #000080; text-decoration-color: #000080\">INFO    </span> instance appears to contain <span style=\"color: #008080; text-decoration-color: #008080; font-weight: bold\">20</span> jobs, <span style=\"color: #008080; text-decoration-color: #008080; font-weight: bold\">15</span> machines                                               \n",
       "</pre>\n"
      ],
      "text/plain": [
       "\u001b[2;36m          \u001b[0m\u001b[2;36m \u001b[0m\u001b[34mINFO    \u001b[0m instance appears to contain \u001b[1;36m20\u001b[0m jobs, \u001b[1;36m15\u001b[0m machines                                               \n"
      ]
     },
     "metadata": {},
     "output_type": "display_data"
    },
    {
     "data": {
      "text/html": [
       "<pre style=\"white-space:pre;overflow-x:auto;line-height:normal;font-family:Menlo,'DejaVu Sans Mono',consolas,'Courier New',monospace\"><span style=\"color: #7fbfbf; text-decoration-color: #7fbfbf\">           </span><span style=\"color: #000080; text-decoration-color: #000080\">INFO    </span> parsing file <span style=\"color: #008000; text-decoration-color: #008000\">'resources/jsp_instances/standard/abz8.txt'</span>                                       \n",
       "</pre>\n"
      ],
      "text/plain": [
       "\u001b[2;36m          \u001b[0m\u001b[2;36m \u001b[0m\u001b[34mINFO    \u001b[0m parsing file \u001b[32m'resources/jsp_instances/standard/abz8.txt'\u001b[0m                                       \n"
      ]
     },
     "metadata": {},
     "output_type": "display_data"
    },
    {
     "data": {
      "text/html": [
       "<pre style=\"white-space:pre;overflow-x:auto;line-height:normal;font-family:Menlo,'DejaVu Sans Mono',consolas,'Courier New',monospace\"><span style=\"color: #7fbfbf; text-decoration-color: #7fbfbf\">           </span><span style=\"color: #000080; text-decoration-color: #000080\">INFO    </span> instance appears to contain <span style=\"color: #008080; text-decoration-color: #008080; font-weight: bold\">20</span> jobs, <span style=\"color: #008080; text-decoration-color: #008080; font-weight: bold\">15</span> machines                                               \n",
       "</pre>\n"
      ],
      "text/plain": [
       "\u001b[2;36m          \u001b[0m\u001b[2;36m \u001b[0m\u001b[34mINFO    \u001b[0m instance appears to contain \u001b[1;36m20\u001b[0m jobs, \u001b[1;36m15\u001b[0m machines                                               \n"
      ]
     },
     "metadata": {},
     "output_type": "display_data"
    },
    {
     "data": {
      "text/html": [
       "<pre style=\"white-space:pre;overflow-x:auto;line-height:normal;font-family:Menlo,'DejaVu Sans Mono',consolas,'Courier New',monospace\"><span style=\"color: #7fbfbf; text-decoration-color: #7fbfbf\">           </span><span style=\"color: #000080; text-decoration-color: #000080\">INFO    </span> parsing file <span style=\"color: #008000; text-decoration-color: #008000\">'resources/jsp_instances/standard/abz8.txt'</span>                                       \n",
       "</pre>\n"
      ],
      "text/plain": [
       "\u001b[2;36m          \u001b[0m\u001b[2;36m \u001b[0m\u001b[34mINFO    \u001b[0m parsing file \u001b[32m'resources/jsp_instances/standard/abz8.txt'\u001b[0m                                       \n"
      ]
     },
     "metadata": {},
     "output_type": "display_data"
    },
    {
     "data": {
      "text/html": [
       "<pre style=\"white-space:pre;overflow-x:auto;line-height:normal;font-family:Menlo,'DejaVu Sans Mono',consolas,'Courier New',monospace\"><span style=\"color: #7fbfbf; text-decoration-color: #7fbfbf\">           </span><span style=\"color: #000080; text-decoration-color: #000080\">INFO    </span> instance appears to contain <span style=\"color: #008080; text-decoration-color: #008080; font-weight: bold\">20</span> jobs, <span style=\"color: #008080; text-decoration-color: #008080; font-weight: bold\">15</span> machines                                               \n",
       "</pre>\n"
      ],
      "text/plain": [
       "\u001b[2;36m          \u001b[0m\u001b[2;36m \u001b[0m\u001b[34mINFO    \u001b[0m instance appears to contain \u001b[1;36m20\u001b[0m jobs, \u001b[1;36m15\u001b[0m machines                                               \n"
      ]
     },
     "metadata": {},
     "output_type": "display_data"
    },
    {
     "data": {
      "text/html": [
       "<pre style=\"white-space:pre;overflow-x:auto;line-height:normal;font-family:Menlo,'DejaVu Sans Mono',consolas,'Courier New',monospace\"><span style=\"color: #7fbfbf; text-decoration-color: #7fbfbf\">           </span><span style=\"color: #000080; text-decoration-color: #000080\">INFO    </span> parsing file <span style=\"color: #008000; text-decoration-color: #008000\">'resources/jsp_instances/standard/abz8.txt'</span>                                       \n",
       "</pre>\n"
      ],
      "text/plain": [
       "\u001b[2;36m          \u001b[0m\u001b[2;36m \u001b[0m\u001b[34mINFO    \u001b[0m parsing file \u001b[32m'resources/jsp_instances/standard/abz8.txt'\u001b[0m                                       \n"
      ]
     },
     "metadata": {},
     "output_type": "display_data"
    },
    {
     "data": {
      "text/html": [
       "<pre style=\"white-space:pre;overflow-x:auto;line-height:normal;font-family:Menlo,'DejaVu Sans Mono',consolas,'Courier New',monospace\"><span style=\"color: #7fbfbf; text-decoration-color: #7fbfbf\">           </span><span style=\"color: #000080; text-decoration-color: #000080\">INFO    </span> instance appears to contain <span style=\"color: #008080; text-decoration-color: #008080; font-weight: bold\">20</span> jobs, <span style=\"color: #008080; text-decoration-color: #008080; font-weight: bold\">15</span> machines                                               \n",
       "</pre>\n"
      ],
      "text/plain": [
       "\u001b[2;36m          \u001b[0m\u001b[2;36m \u001b[0m\u001b[34mINFO    \u001b[0m instance appears to contain \u001b[1;36m20\u001b[0m jobs, \u001b[1;36m15\u001b[0m machines                                               \n"
      ]
     },
     "metadata": {},
     "output_type": "display_data"
    },
    {
     "data": {
      "text/html": [
       "<pre style=\"white-space:pre;overflow-x:auto;line-height:normal;font-family:Menlo,'DejaVu Sans Mono',consolas,'Courier New',monospace\"><span style=\"color: #7fbfbf; text-decoration-color: #7fbfbf\">           </span><span style=\"color: #000080; text-decoration-color: #000080\">INFO    </span> parsing file <span style=\"color: #008000; text-decoration-color: #008000\">'resources/jsp_instances/standard/abz8.txt'</span>                                       \n",
       "</pre>\n"
      ],
      "text/plain": [
       "\u001b[2;36m          \u001b[0m\u001b[2;36m \u001b[0m\u001b[34mINFO    \u001b[0m parsing file \u001b[32m'resources/jsp_instances/standard/abz8.txt'\u001b[0m                                       \n"
      ]
     },
     "metadata": {},
     "output_type": "display_data"
    },
    {
     "data": {
      "text/html": [
       "<pre style=\"white-space:pre;overflow-x:auto;line-height:normal;font-family:Menlo,'DejaVu Sans Mono',consolas,'Courier New',monospace\"><span style=\"color: #7fbfbf; text-decoration-color: #7fbfbf\">           </span><span style=\"color: #000080; text-decoration-color: #000080\">INFO    </span> instance appears to contain <span style=\"color: #008080; text-decoration-color: #008080; font-weight: bold\">20</span> jobs, <span style=\"color: #008080; text-decoration-color: #008080; font-weight: bold\">15</span> machines                                               \n",
       "</pre>\n"
      ],
      "text/plain": [
       "\u001b[2;36m          \u001b[0m\u001b[2;36m \u001b[0m\u001b[34mINFO    \u001b[0m instance appears to contain \u001b[1;36m20\u001b[0m jobs, \u001b[1;36m15\u001b[0m machines                                               \n"
      ]
     },
     "metadata": {},
     "output_type": "display_data"
    },
    {
     "data": {
      "text/html": [
       "<pre style=\"white-space:pre;overflow-x:auto;line-height:normal;font-family:Menlo,'DejaVu Sans Mono',consolas,'Courier New',monospace\"><span style=\"color: #7fbfbf; text-decoration-color: #7fbfbf\">           </span><span style=\"color: #000080; text-decoration-color: #000080\">INFO    </span> parsing file <span style=\"color: #008000; text-decoration-color: #008000\">'resources/jsp_instances/standard/abz8.txt'</span>                                       \n",
       "</pre>\n"
      ],
      "text/plain": [
       "\u001b[2;36m          \u001b[0m\u001b[2;36m \u001b[0m\u001b[34mINFO    \u001b[0m parsing file \u001b[32m'resources/jsp_instances/standard/abz8.txt'\u001b[0m                                       \n"
      ]
     },
     "metadata": {},
     "output_type": "display_data"
    },
    {
     "data": {
      "text/html": [
       "<pre style=\"white-space:pre;overflow-x:auto;line-height:normal;font-family:Menlo,'DejaVu Sans Mono',consolas,'Courier New',monospace\"><span style=\"color: #7fbfbf; text-decoration-color: #7fbfbf\">           </span><span style=\"color: #000080; text-decoration-color: #000080\">INFO    </span> instance appears to contain <span style=\"color: #008080; text-decoration-color: #008080; font-weight: bold\">20</span> jobs, <span style=\"color: #008080; text-decoration-color: #008080; font-weight: bold\">15</span> machines                                               \n",
       "</pre>\n"
      ],
      "text/plain": [
       "\u001b[2;36m          \u001b[0m\u001b[2;36m \u001b[0m\u001b[34mINFO    \u001b[0m instance appears to contain \u001b[1;36m20\u001b[0m jobs, \u001b[1;36m15\u001b[0m machines                                               \n"
      ]
     },
     "metadata": {},
     "output_type": "display_data"
    },
    {
     "data": {
      "text/html": [
       "<pre style=\"white-space:pre;overflow-x:auto;line-height:normal;font-family:Menlo,'DejaVu Sans Mono',consolas,'Courier New',monospace\"><span style=\"color: #7fbfbf; text-decoration-color: #7fbfbf\">           </span><span style=\"color: #000080; text-decoration-color: #000080\">INFO    </span> parsing file <span style=\"color: #008000; text-decoration-color: #008000\">'resources/jsp_instances/standard/abz8.txt'</span>                                       \n",
       "</pre>\n"
      ],
      "text/plain": [
       "\u001b[2;36m          \u001b[0m\u001b[2;36m \u001b[0m\u001b[34mINFO    \u001b[0m parsing file \u001b[32m'resources/jsp_instances/standard/abz8.txt'\u001b[0m                                       \n"
      ]
     },
     "metadata": {},
     "output_type": "display_data"
    },
    {
     "data": {
      "text/html": [
       "<pre style=\"white-space:pre;overflow-x:auto;line-height:normal;font-family:Menlo,'DejaVu Sans Mono',consolas,'Courier New',monospace\"><span style=\"color: #7fbfbf; text-decoration-color: #7fbfbf\">           </span><span style=\"color: #000080; text-decoration-color: #000080\">INFO    </span> instance appears to contain <span style=\"color: #008080; text-decoration-color: #008080; font-weight: bold\">20</span> jobs, <span style=\"color: #008080; text-decoration-color: #008080; font-weight: bold\">15</span> machines                                               \n",
       "</pre>\n"
      ],
      "text/plain": [
       "\u001b[2;36m          \u001b[0m\u001b[2;36m \u001b[0m\u001b[34mINFO    \u001b[0m instance appears to contain \u001b[1;36m20\u001b[0m jobs, \u001b[1;36m15\u001b[0m machines                                               \n"
      ]
     },
     "metadata": {},
     "output_type": "display_data"
    },
    {
     "data": {
      "text/html": [
       "<pre style=\"white-space:pre;overflow-x:auto;line-height:normal;font-family:Menlo,'DejaVu Sans Mono',consolas,'Courier New',monospace\"><span style=\"color: #7fbfbf; text-decoration-color: #7fbfbf\">           </span><span style=\"color: #000080; text-decoration-color: #000080\">INFO    </span> parsing file <span style=\"color: #008000; text-decoration-color: #008000\">'resources/jsp_instances/standard/abz8.txt'</span>                                       \n",
       "</pre>\n"
      ],
      "text/plain": [
       "\u001b[2;36m          \u001b[0m\u001b[2;36m \u001b[0m\u001b[34mINFO    \u001b[0m parsing file \u001b[32m'resources/jsp_instances/standard/abz8.txt'\u001b[0m                                       \n"
      ]
     },
     "metadata": {},
     "output_type": "display_data"
    },
    {
     "data": {
      "text/html": [
       "<pre style=\"white-space:pre;overflow-x:auto;line-height:normal;font-family:Menlo,'DejaVu Sans Mono',consolas,'Courier New',monospace\"><span style=\"color: #7fbfbf; text-decoration-color: #7fbfbf\">           </span><span style=\"color: #000080; text-decoration-color: #000080\">INFO    </span> instance appears to contain <span style=\"color: #008080; text-decoration-color: #008080; font-weight: bold\">20</span> jobs, <span style=\"color: #008080; text-decoration-color: #008080; font-weight: bold\">15</span> machines                                               \n",
       "</pre>\n"
      ],
      "text/plain": [
       "\u001b[2;36m          \u001b[0m\u001b[2;36m \u001b[0m\u001b[34mINFO    \u001b[0m instance appears to contain \u001b[1;36m20\u001b[0m jobs, \u001b[1;36m15\u001b[0m machines                                               \n"
      ]
     },
     "metadata": {},
     "output_type": "display_data"
    },
    {
     "data": {
      "text/html": [
       "<pre style=\"white-space:pre;overflow-x:auto;line-height:normal;font-family:Menlo,'DejaVu Sans Mono',consolas,'Courier New',monospace\"><span style=\"color: #7fbfbf; text-decoration-color: #7fbfbf\">           </span><span style=\"color: #000080; text-decoration-color: #000080\">INFO    </span> parsing file <span style=\"color: #008000; text-decoration-color: #008000\">'resources/jsp_instances/standard/abz8.txt'</span>                                       \n",
       "</pre>\n"
      ],
      "text/plain": [
       "\u001b[2;36m          \u001b[0m\u001b[2;36m \u001b[0m\u001b[34mINFO    \u001b[0m parsing file \u001b[32m'resources/jsp_instances/standard/abz8.txt'\u001b[0m                                       \n"
      ]
     },
     "metadata": {},
     "output_type": "display_data"
    },
    {
     "data": {
      "text/html": [
       "<pre style=\"white-space:pre;overflow-x:auto;line-height:normal;font-family:Menlo,'DejaVu Sans Mono',consolas,'Courier New',monospace\"><span style=\"color: #7fbfbf; text-decoration-color: #7fbfbf\">           </span><span style=\"color: #000080; text-decoration-color: #000080\">INFO    </span> instance appears to contain <span style=\"color: #008080; text-decoration-color: #008080; font-weight: bold\">20</span> jobs, <span style=\"color: #008080; text-decoration-color: #008080; font-weight: bold\">15</span> machines                                               \n",
       "</pre>\n"
      ],
      "text/plain": [
       "\u001b[2;36m          \u001b[0m\u001b[2;36m \u001b[0m\u001b[34mINFO    \u001b[0m instance appears to contain \u001b[1;36m20\u001b[0m jobs, \u001b[1;36m15\u001b[0m machines                                               \n"
      ]
     },
     "metadata": {},
     "output_type": "display_data"
    },
    {
     "data": {
      "text/html": [
       "<pre style=\"white-space:pre;overflow-x:auto;line-height:normal;font-family:Menlo,'DejaVu Sans Mono',consolas,'Courier New',monospace\"><span style=\"color: #7fbfbf; text-decoration-color: #7fbfbf\">           </span><span style=\"color: #000080; text-decoration-color: #000080\">INFO    </span> parsing file <span style=\"color: #008000; text-decoration-color: #008000\">'resources/jsp_instances/standard/abz8.txt'</span>                                       \n",
       "</pre>\n"
      ],
      "text/plain": [
       "\u001b[2;36m          \u001b[0m\u001b[2;36m \u001b[0m\u001b[34mINFO    \u001b[0m parsing file \u001b[32m'resources/jsp_instances/standard/abz8.txt'\u001b[0m                                       \n"
      ]
     },
     "metadata": {},
     "output_type": "display_data"
    },
    {
     "data": {
      "text/html": [
       "<pre style=\"white-space:pre;overflow-x:auto;line-height:normal;font-family:Menlo,'DejaVu Sans Mono',consolas,'Courier New',monospace\"><span style=\"color: #7fbfbf; text-decoration-color: #7fbfbf\">           </span><span style=\"color: #000080; text-decoration-color: #000080\">INFO    </span> instance appears to contain <span style=\"color: #008080; text-decoration-color: #008080; font-weight: bold\">20</span> jobs, <span style=\"color: #008080; text-decoration-color: #008080; font-weight: bold\">15</span> machines                                               \n",
       "</pre>\n"
      ],
      "text/plain": [
       "\u001b[2;36m          \u001b[0m\u001b[2;36m \u001b[0m\u001b[34mINFO    \u001b[0m instance appears to contain \u001b[1;36m20\u001b[0m jobs, \u001b[1;36m15\u001b[0m machines                                               \n"
      ]
     },
     "metadata": {},
     "output_type": "display_data"
    },
    {
     "data": {
      "text/html": [
       "<pre style=\"white-space:pre;overflow-x:auto;line-height:normal;font-family:Menlo,'DejaVu Sans Mono',consolas,'Courier New',monospace\"><span style=\"color: #7fbfbf; text-decoration-color: #7fbfbf\">           </span><span style=\"color: #000080; text-decoration-color: #000080\">INFO    </span> parsing file <span style=\"color: #008000; text-decoration-color: #008000\">'resources/jsp_instances/standard/abz8.txt'</span>                                       \n",
       "</pre>\n"
      ],
      "text/plain": [
       "\u001b[2;36m          \u001b[0m\u001b[2;36m \u001b[0m\u001b[34mINFO    \u001b[0m parsing file \u001b[32m'resources/jsp_instances/standard/abz8.txt'\u001b[0m                                       \n"
      ]
     },
     "metadata": {},
     "output_type": "display_data"
    },
    {
     "data": {
      "text/html": [
       "<pre style=\"white-space:pre;overflow-x:auto;line-height:normal;font-family:Menlo,'DejaVu Sans Mono',consolas,'Courier New',monospace\"><span style=\"color: #7fbfbf; text-decoration-color: #7fbfbf\">           </span><span style=\"color: #000080; text-decoration-color: #000080\">INFO    </span> instance appears to contain <span style=\"color: #008080; text-decoration-color: #008080; font-weight: bold\">20</span> jobs, <span style=\"color: #008080; text-decoration-color: #008080; font-weight: bold\">15</span> machines                                               \n",
       "</pre>\n"
      ],
      "text/plain": [
       "\u001b[2;36m          \u001b[0m\u001b[2;36m \u001b[0m\u001b[34mINFO    \u001b[0m instance appears to contain \u001b[1;36m20\u001b[0m jobs, \u001b[1;36m15\u001b[0m machines                                               \n"
      ]
     },
     "metadata": {},
     "output_type": "display_data"
    },
    {
     "data": {
      "text/html": [
       "<pre style=\"white-space:pre;overflow-x:auto;line-height:normal;font-family:Menlo,'DejaVu Sans Mono',consolas,'Courier New',monospace\"><span style=\"color: #7fbfbf; text-decoration-color: #7fbfbf\">           </span><span style=\"color: #000080; text-decoration-color: #000080\">INFO    </span> parsing file <span style=\"color: #008000; text-decoration-color: #008000\">'resources/jsp_instances/standard/abz8.txt'</span>                                       \n",
       "</pre>\n"
      ],
      "text/plain": [
       "\u001b[2;36m          \u001b[0m\u001b[2;36m \u001b[0m\u001b[34mINFO    \u001b[0m parsing file \u001b[32m'resources/jsp_instances/standard/abz8.txt'\u001b[0m                                       \n"
      ]
     },
     "metadata": {},
     "output_type": "display_data"
    },
    {
     "data": {
      "text/html": [
       "<pre style=\"white-space:pre;overflow-x:auto;line-height:normal;font-family:Menlo,'DejaVu Sans Mono',consolas,'Courier New',monospace\"><span style=\"color: #7fbfbf; text-decoration-color: #7fbfbf\">           </span><span style=\"color: #000080; text-decoration-color: #000080\">INFO    </span> instance appears to contain <span style=\"color: #008080; text-decoration-color: #008080; font-weight: bold\">20</span> jobs, <span style=\"color: #008080; text-decoration-color: #008080; font-weight: bold\">15</span> machines                                               \n",
       "</pre>\n"
      ],
      "text/plain": [
       "\u001b[2;36m          \u001b[0m\u001b[2;36m \u001b[0m\u001b[34mINFO    \u001b[0m instance appears to contain \u001b[1;36m20\u001b[0m jobs, \u001b[1;36m15\u001b[0m machines                                               \n"
      ]
     },
     "metadata": {},
     "output_type": "display_data"
    },
    {
     "data": {
      "text/html": [
       "<pre style=\"white-space:pre;overflow-x:auto;line-height:normal;font-family:Menlo,'DejaVu Sans Mono',consolas,'Courier New',monospace\"><span style=\"color: #7fbfbf; text-decoration-color: #7fbfbf\">           </span><span style=\"color: #000080; text-decoration-color: #000080\">INFO    </span> parsing file <span style=\"color: #008000; text-decoration-color: #008000\">'resources/jsp_instances/standard/abz8.txt'</span>                                       \n",
       "</pre>\n"
      ],
      "text/plain": [
       "\u001b[2;36m          \u001b[0m\u001b[2;36m \u001b[0m\u001b[34mINFO    \u001b[0m parsing file \u001b[32m'resources/jsp_instances/standard/abz8.txt'\u001b[0m                                       \n"
      ]
     },
     "metadata": {},
     "output_type": "display_data"
    },
    {
     "data": {
      "text/html": [
       "<pre style=\"white-space:pre;overflow-x:auto;line-height:normal;font-family:Menlo,'DejaVu Sans Mono',consolas,'Courier New',monospace\"><span style=\"color: #7fbfbf; text-decoration-color: #7fbfbf\">           </span><span style=\"color: #000080; text-decoration-color: #000080\">INFO    </span> instance appears to contain <span style=\"color: #008080; text-decoration-color: #008080; font-weight: bold\">20</span> jobs, <span style=\"color: #008080; text-decoration-color: #008080; font-weight: bold\">15</span> machines                                               \n",
       "</pre>\n"
      ],
      "text/plain": [
       "\u001b[2;36m          \u001b[0m\u001b[2;36m \u001b[0m\u001b[34mINFO    \u001b[0m instance appears to contain \u001b[1;36m20\u001b[0m jobs, \u001b[1;36m15\u001b[0m machines                                               \n"
      ]
     },
     "metadata": {},
     "output_type": "display_data"
    },
    {
     "data": {
      "text/html": [
       "<pre style=\"white-space:pre;overflow-x:auto;line-height:normal;font-family:Menlo,'DejaVu Sans Mono',consolas,'Courier New',monospace\"><span style=\"color: #7fbfbf; text-decoration-color: #7fbfbf\">           </span><span style=\"color: #000080; text-decoration-color: #000080\">INFO    </span> parsing file <span style=\"color: #008000; text-decoration-color: #008000\">'resources/jsp_instances/standard/abz8.txt'</span>                                       \n",
       "</pre>\n"
      ],
      "text/plain": [
       "\u001b[2;36m          \u001b[0m\u001b[2;36m \u001b[0m\u001b[34mINFO    \u001b[0m parsing file \u001b[32m'resources/jsp_instances/standard/abz8.txt'\u001b[0m                                       \n"
      ]
     },
     "metadata": {},
     "output_type": "display_data"
    },
    {
     "data": {
      "text/html": [
       "<pre style=\"white-space:pre;overflow-x:auto;line-height:normal;font-family:Menlo,'DejaVu Sans Mono',consolas,'Courier New',monospace\"><span style=\"color: #7fbfbf; text-decoration-color: #7fbfbf\">           </span><span style=\"color: #000080; text-decoration-color: #000080\">INFO    </span> instance appears to contain <span style=\"color: #008080; text-decoration-color: #008080; font-weight: bold\">20</span> jobs, <span style=\"color: #008080; text-decoration-color: #008080; font-weight: bold\">15</span> machines                                               \n",
       "</pre>\n"
      ],
      "text/plain": [
       "\u001b[2;36m          \u001b[0m\u001b[2;36m \u001b[0m\u001b[34mINFO    \u001b[0m instance appears to contain \u001b[1;36m20\u001b[0m jobs, \u001b[1;36m15\u001b[0m machines                                               \n"
      ]
     },
     "metadata": {},
     "output_type": "display_data"
    },
    {
     "data": {
      "text/html": [
       "<pre style=\"white-space:pre;overflow-x:auto;line-height:normal;font-family:Menlo,'DejaVu Sans Mono',consolas,'Courier New',monospace\"><span style=\"color: #7fbfbf; text-decoration-color: #7fbfbf\">[11:46:32] </span><span style=\"color: #000080; text-decoration-color: #000080\">INFO    </span> parsing file <span style=\"color: #008000; text-decoration-color: #008000\">'resources/jsp_instances/standard/abz8.txt'</span>                                       \n",
       "</pre>\n"
      ],
      "text/plain": [
       "\u001b[2;36m[11:46:32]\u001b[0m\u001b[2;36m \u001b[0m\u001b[34mINFO    \u001b[0m parsing file \u001b[32m'resources/jsp_instances/standard/abz8.txt'\u001b[0m                                       \n"
      ]
     },
     "metadata": {},
     "output_type": "display_data"
    },
    {
     "data": {
      "text/html": [
       "<pre style=\"white-space:pre;overflow-x:auto;line-height:normal;font-family:Menlo,'DejaVu Sans Mono',consolas,'Courier New',monospace\"><span style=\"color: #7fbfbf; text-decoration-color: #7fbfbf\">           </span><span style=\"color: #000080; text-decoration-color: #000080\">INFO    </span> instance appears to contain <span style=\"color: #008080; text-decoration-color: #008080; font-weight: bold\">20</span> jobs, <span style=\"color: #008080; text-decoration-color: #008080; font-weight: bold\">15</span> machines                                               \n",
       "</pre>\n"
      ],
      "text/plain": [
       "\u001b[2;36m          \u001b[0m\u001b[2;36m \u001b[0m\u001b[34mINFO    \u001b[0m instance appears to contain \u001b[1;36m20\u001b[0m jobs, \u001b[1;36m15\u001b[0m machines                                               \n"
      ]
     },
     "metadata": {},
     "output_type": "display_data"
    },
    {
     "data": {
      "text/html": [
       "<pre style=\"white-space:pre;overflow-x:auto;line-height:normal;font-family:Menlo,'DejaVu Sans Mono',consolas,'Courier New',monospace\"><span style=\"color: #7fbfbf; text-decoration-color: #7fbfbf\">           </span><span style=\"color: #000080; text-decoration-color: #000080\">INFO    </span> parsing file <span style=\"color: #008000; text-decoration-color: #008000\">'resources/jsp_instances/standard/abz8.txt'</span>                                       \n",
       "</pre>\n"
      ],
      "text/plain": [
       "\u001b[2;36m          \u001b[0m\u001b[2;36m \u001b[0m\u001b[34mINFO    \u001b[0m parsing file \u001b[32m'resources/jsp_instances/standard/abz8.txt'\u001b[0m                                       \n"
      ]
     },
     "metadata": {},
     "output_type": "display_data"
    },
    {
     "data": {
      "text/html": [
       "<pre style=\"white-space:pre;overflow-x:auto;line-height:normal;font-family:Menlo,'DejaVu Sans Mono',consolas,'Courier New',monospace\"><span style=\"color: #7fbfbf; text-decoration-color: #7fbfbf\">           </span><span style=\"color: #000080; text-decoration-color: #000080\">INFO    </span> instance appears to contain <span style=\"color: #008080; text-decoration-color: #008080; font-weight: bold\">20</span> jobs, <span style=\"color: #008080; text-decoration-color: #008080; font-weight: bold\">15</span> machines                                               \n",
       "</pre>\n"
      ],
      "text/plain": [
       "\u001b[2;36m          \u001b[0m\u001b[2;36m \u001b[0m\u001b[34mINFO    \u001b[0m instance appears to contain \u001b[1;36m20\u001b[0m jobs, \u001b[1;36m15\u001b[0m machines                                               \n"
      ]
     },
     "metadata": {},
     "output_type": "display_data"
    },
    {
     "data": {
      "text/html": [
       "<pre style=\"white-space:pre;overflow-x:auto;line-height:normal;font-family:Menlo,'DejaVu Sans Mono',consolas,'Courier New',monospace\"><span style=\"color: #7fbfbf; text-decoration-color: #7fbfbf\">           </span><span style=\"color: #000080; text-decoration-color: #000080\">INFO    </span> parsing file <span style=\"color: #008000; text-decoration-color: #008000\">'resources/jsp_instances/standard/abz8.txt'</span>                                       \n",
       "</pre>\n"
      ],
      "text/plain": [
       "\u001b[2;36m          \u001b[0m\u001b[2;36m \u001b[0m\u001b[34mINFO    \u001b[0m parsing file \u001b[32m'resources/jsp_instances/standard/abz8.txt'\u001b[0m                                       \n"
      ]
     },
     "metadata": {},
     "output_type": "display_data"
    },
    {
     "data": {
      "text/html": [
       "<pre style=\"white-space:pre;overflow-x:auto;line-height:normal;font-family:Menlo,'DejaVu Sans Mono',consolas,'Courier New',monospace\"><span style=\"color: #7fbfbf; text-decoration-color: #7fbfbf\">           </span><span style=\"color: #000080; text-decoration-color: #000080\">INFO    </span> instance appears to contain <span style=\"color: #008080; text-decoration-color: #008080; font-weight: bold\">20</span> jobs, <span style=\"color: #008080; text-decoration-color: #008080; font-weight: bold\">15</span> machines                                               \n",
       "</pre>\n"
      ],
      "text/plain": [
       "\u001b[2;36m          \u001b[0m\u001b[2;36m \u001b[0m\u001b[34mINFO    \u001b[0m instance appears to contain \u001b[1;36m20\u001b[0m jobs, \u001b[1;36m15\u001b[0m machines                                               \n"
      ]
     },
     "metadata": {},
     "output_type": "display_data"
    },
    {
     "data": {
      "text/html": [
       "<pre style=\"white-space:pre;overflow-x:auto;line-height:normal;font-family:Menlo,'DejaVu Sans Mono',consolas,'Courier New',monospace\"><span style=\"color: #7fbfbf; text-decoration-color: #7fbfbf\">           </span><span style=\"color: #000080; text-decoration-color: #000080\">INFO    </span> parsing file <span style=\"color: #008000; text-decoration-color: #008000\">'resources/jsp_instances/standard/abz8.txt'</span>                                       \n",
       "</pre>\n"
      ],
      "text/plain": [
       "\u001b[2;36m          \u001b[0m\u001b[2;36m \u001b[0m\u001b[34mINFO    \u001b[0m parsing file \u001b[32m'resources/jsp_instances/standard/abz8.txt'\u001b[0m                                       \n"
      ]
     },
     "metadata": {},
     "output_type": "display_data"
    },
    {
     "data": {
      "text/html": [
       "<pre style=\"white-space:pre;overflow-x:auto;line-height:normal;font-family:Menlo,'DejaVu Sans Mono',consolas,'Courier New',monospace\"><span style=\"color: #7fbfbf; text-decoration-color: #7fbfbf\">           </span><span style=\"color: #000080; text-decoration-color: #000080\">INFO    </span> instance appears to contain <span style=\"color: #008080; text-decoration-color: #008080; font-weight: bold\">20</span> jobs, <span style=\"color: #008080; text-decoration-color: #008080; font-weight: bold\">15</span> machines                                               \n",
       "</pre>\n"
      ],
      "text/plain": [
       "\u001b[2;36m          \u001b[0m\u001b[2;36m \u001b[0m\u001b[34mINFO    \u001b[0m instance appears to contain \u001b[1;36m20\u001b[0m jobs, \u001b[1;36m15\u001b[0m machines                                               \n"
      ]
     },
     "metadata": {},
     "output_type": "display_data"
    },
    {
     "data": {
      "text/html": [
       "<pre style=\"white-space:pre;overflow-x:auto;line-height:normal;font-family:Menlo,'DejaVu Sans Mono',consolas,'Courier New',monospace\"><span style=\"color: #7fbfbf; text-decoration-color: #7fbfbf\">           </span><span style=\"color: #000080; text-decoration-color: #000080\">INFO    </span> parsing file <span style=\"color: #008000; text-decoration-color: #008000\">'resources/jsp_instances/standard/abz8.txt'</span>                                       \n",
       "</pre>\n"
      ],
      "text/plain": [
       "\u001b[2;36m          \u001b[0m\u001b[2;36m \u001b[0m\u001b[34mINFO    \u001b[0m parsing file \u001b[32m'resources/jsp_instances/standard/abz8.txt'\u001b[0m                                       \n"
      ]
     },
     "metadata": {},
     "output_type": "display_data"
    },
    {
     "data": {
      "text/html": [
       "<pre style=\"white-space:pre;overflow-x:auto;line-height:normal;font-family:Menlo,'DejaVu Sans Mono',consolas,'Courier New',monospace\"><span style=\"color: #7fbfbf; text-decoration-color: #7fbfbf\">           </span><span style=\"color: #000080; text-decoration-color: #000080\">INFO    </span> instance appears to contain <span style=\"color: #008080; text-decoration-color: #008080; font-weight: bold\">20</span> jobs, <span style=\"color: #008080; text-decoration-color: #008080; font-weight: bold\">15</span> machines                                               \n",
       "</pre>\n"
      ],
      "text/plain": [
       "\u001b[2;36m          \u001b[0m\u001b[2;36m \u001b[0m\u001b[34mINFO    \u001b[0m instance appears to contain \u001b[1;36m20\u001b[0m jobs, \u001b[1;36m15\u001b[0m machines                                               \n"
      ]
     },
     "metadata": {},
     "output_type": "display_data"
    },
    {
     "data": {
      "text/html": [
       "<pre style=\"white-space:pre;overflow-x:auto;line-height:normal;font-family:Menlo,'DejaVu Sans Mono',consolas,'Courier New',monospace\"><span style=\"color: #7fbfbf; text-decoration-color: #7fbfbf\">           </span><span style=\"color: #000080; text-decoration-color: #000080\">INFO    </span> parsing file <span style=\"color: #008000; text-decoration-color: #008000\">'resources/jsp_instances/standard/abz8.txt'</span>                                       \n",
       "</pre>\n"
      ],
      "text/plain": [
       "\u001b[2;36m          \u001b[0m\u001b[2;36m \u001b[0m\u001b[34mINFO    \u001b[0m parsing file \u001b[32m'resources/jsp_instances/standard/abz8.txt'\u001b[0m                                       \n"
      ]
     },
     "metadata": {},
     "output_type": "display_data"
    },
    {
     "data": {
      "text/html": [
       "<pre style=\"white-space:pre;overflow-x:auto;line-height:normal;font-family:Menlo,'DejaVu Sans Mono',consolas,'Courier New',monospace\"><span style=\"color: #7fbfbf; text-decoration-color: #7fbfbf\">           </span><span style=\"color: #000080; text-decoration-color: #000080\">INFO    </span> instance appears to contain <span style=\"color: #008080; text-decoration-color: #008080; font-weight: bold\">20</span> jobs, <span style=\"color: #008080; text-decoration-color: #008080; font-weight: bold\">15</span> machines                                               \n",
       "</pre>\n"
      ],
      "text/plain": [
       "\u001b[2;36m          \u001b[0m\u001b[2;36m \u001b[0m\u001b[34mINFO    \u001b[0m instance appears to contain \u001b[1;36m20\u001b[0m jobs, \u001b[1;36m15\u001b[0m machines                                               \n"
      ]
     },
     "metadata": {},
     "output_type": "display_data"
    },
    {
     "data": {
      "text/html": [
       "<pre style=\"white-space:pre;overflow-x:auto;line-height:normal;font-family:Menlo,'DejaVu Sans Mono',consolas,'Courier New',monospace\"><span style=\"color: #7fbfbf; text-decoration-color: #7fbfbf\">           </span><span style=\"color: #000080; text-decoration-color: #000080\">INFO    </span> parsing file <span style=\"color: #008000; text-decoration-color: #008000\">'resources/jsp_instances/standard/abz8.txt'</span>                                       \n",
       "</pre>\n"
      ],
      "text/plain": [
       "\u001b[2;36m          \u001b[0m\u001b[2;36m \u001b[0m\u001b[34mINFO    \u001b[0m parsing file \u001b[32m'resources/jsp_instances/standard/abz8.txt'\u001b[0m                                       \n"
      ]
     },
     "metadata": {},
     "output_type": "display_data"
    },
    {
     "data": {
      "text/html": [
       "<pre style=\"white-space:pre;overflow-x:auto;line-height:normal;font-family:Menlo,'DejaVu Sans Mono',consolas,'Courier New',monospace\"><span style=\"color: #7fbfbf; text-decoration-color: #7fbfbf\">           </span><span style=\"color: #000080; text-decoration-color: #000080\">INFO    </span> instance appears to contain <span style=\"color: #008080; text-decoration-color: #008080; font-weight: bold\">20</span> jobs, <span style=\"color: #008080; text-decoration-color: #008080; font-weight: bold\">15</span> machines                                               \n",
       "</pre>\n"
      ],
      "text/plain": [
       "\u001b[2;36m          \u001b[0m\u001b[2;36m \u001b[0m\u001b[34mINFO    \u001b[0m instance appears to contain \u001b[1;36m20\u001b[0m jobs, \u001b[1;36m15\u001b[0m machines                                               \n"
      ]
     },
     "metadata": {},
     "output_type": "display_data"
    },
    {
     "data": {
      "text/html": [
       "<pre style=\"white-space:pre;overflow-x:auto;line-height:normal;font-family:Menlo,'DejaVu Sans Mono',consolas,'Courier New',monospace\"><span style=\"color: #7fbfbf; text-decoration-color: #7fbfbf\">           </span><span style=\"color: #000080; text-decoration-color: #000080\">INFO    </span> parsing file <span style=\"color: #008000; text-decoration-color: #008000\">'resources/jsp_instances/standard/abz8.txt'</span>                                       \n",
       "</pre>\n"
      ],
      "text/plain": [
       "\u001b[2;36m          \u001b[0m\u001b[2;36m \u001b[0m\u001b[34mINFO    \u001b[0m parsing file \u001b[32m'resources/jsp_instances/standard/abz8.txt'\u001b[0m                                       \n"
      ]
     },
     "metadata": {},
     "output_type": "display_data"
    },
    {
     "data": {
      "text/html": [
       "<pre style=\"white-space:pre;overflow-x:auto;line-height:normal;font-family:Menlo,'DejaVu Sans Mono',consolas,'Courier New',monospace\"><span style=\"color: #7fbfbf; text-decoration-color: #7fbfbf\">           </span><span style=\"color: #000080; text-decoration-color: #000080\">INFO    </span> instance appears to contain <span style=\"color: #008080; text-decoration-color: #008080; font-weight: bold\">20</span> jobs, <span style=\"color: #008080; text-decoration-color: #008080; font-weight: bold\">15</span> machines                                               \n",
       "</pre>\n"
      ],
      "text/plain": [
       "\u001b[2;36m          \u001b[0m\u001b[2;36m \u001b[0m\u001b[34mINFO    \u001b[0m instance appears to contain \u001b[1;36m20\u001b[0m jobs, \u001b[1;36m15\u001b[0m machines                                               \n"
      ]
     },
     "metadata": {},
     "output_type": "display_data"
    },
    {
     "data": {
      "text/html": [
       "<pre style=\"white-space:pre;overflow-x:auto;line-height:normal;font-family:Menlo,'DejaVu Sans Mono',consolas,'Courier New',monospace\"><span style=\"color: #7fbfbf; text-decoration-color: #7fbfbf\">           </span><span style=\"color: #000080; text-decoration-color: #000080\">INFO    </span> parsing file <span style=\"color: #008000; text-decoration-color: #008000\">'resources/jsp_instances/standard/abz8.txt'</span>                                       \n",
       "</pre>\n"
      ],
      "text/plain": [
       "\u001b[2;36m          \u001b[0m\u001b[2;36m \u001b[0m\u001b[34mINFO    \u001b[0m parsing file \u001b[32m'resources/jsp_instances/standard/abz8.txt'\u001b[0m                                       \n"
      ]
     },
     "metadata": {},
     "output_type": "display_data"
    },
    {
     "data": {
      "text/html": [
       "<pre style=\"white-space:pre;overflow-x:auto;line-height:normal;font-family:Menlo,'DejaVu Sans Mono',consolas,'Courier New',monospace\"><span style=\"color: #7fbfbf; text-decoration-color: #7fbfbf\">           </span><span style=\"color: #000080; text-decoration-color: #000080\">INFO    </span> instance appears to contain <span style=\"color: #008080; text-decoration-color: #008080; font-weight: bold\">20</span> jobs, <span style=\"color: #008080; text-decoration-color: #008080; font-weight: bold\">15</span> machines                                               \n",
       "</pre>\n"
      ],
      "text/plain": [
       "\u001b[2;36m          \u001b[0m\u001b[2;36m \u001b[0m\u001b[34mINFO    \u001b[0m instance appears to contain \u001b[1;36m20\u001b[0m jobs, \u001b[1;36m15\u001b[0m machines                                               \n"
      ]
     },
     "metadata": {},
     "output_type": "display_data"
    },
    {
     "data": {
      "text/html": [
       "<pre style=\"white-space:pre;overflow-x:auto;line-height:normal;font-family:Menlo,'DejaVu Sans Mono',consolas,'Courier New',monospace\"><span style=\"color: #7fbfbf; text-decoration-color: #7fbfbf\">           </span><span style=\"color: #000080; text-decoration-color: #000080\">INFO    </span> parsing file <span style=\"color: #008000; text-decoration-color: #008000\">'resources/jsp_instances/standard/abz8.txt'</span>                                       \n",
       "</pre>\n"
      ],
      "text/plain": [
       "\u001b[2;36m          \u001b[0m\u001b[2;36m \u001b[0m\u001b[34mINFO    \u001b[0m parsing file \u001b[32m'resources/jsp_instances/standard/abz8.txt'\u001b[0m                                       \n"
      ]
     },
     "metadata": {},
     "output_type": "display_data"
    },
    {
     "data": {
      "text/html": [
       "<pre style=\"white-space:pre;overflow-x:auto;line-height:normal;font-family:Menlo,'DejaVu Sans Mono',consolas,'Courier New',monospace\"><span style=\"color: #7fbfbf; text-decoration-color: #7fbfbf\">           </span><span style=\"color: #000080; text-decoration-color: #000080\">INFO    </span> instance appears to contain <span style=\"color: #008080; text-decoration-color: #008080; font-weight: bold\">20</span> jobs, <span style=\"color: #008080; text-decoration-color: #008080; font-weight: bold\">15</span> machines                                               \n",
       "</pre>\n"
      ],
      "text/plain": [
       "\u001b[2;36m          \u001b[0m\u001b[2;36m \u001b[0m\u001b[34mINFO    \u001b[0m instance appears to contain \u001b[1;36m20\u001b[0m jobs, \u001b[1;36m15\u001b[0m machines                                               \n"
      ]
     },
     "metadata": {},
     "output_type": "display_data"
    },
    {
     "data": {
      "text/html": [
       "<pre style=\"white-space:pre;overflow-x:auto;line-height:normal;font-family:Menlo,'DejaVu Sans Mono',consolas,'Courier New',monospace\"><span style=\"color: #7fbfbf; text-decoration-color: #7fbfbf\">           </span><span style=\"color: #000080; text-decoration-color: #000080\">INFO    </span> parsing file <span style=\"color: #008000; text-decoration-color: #008000\">'resources/jsp_instances/standard/abz8.txt'</span>                                       \n",
       "</pre>\n"
      ],
      "text/plain": [
       "\u001b[2;36m          \u001b[0m\u001b[2;36m \u001b[0m\u001b[34mINFO    \u001b[0m parsing file \u001b[32m'resources/jsp_instances/standard/abz8.txt'\u001b[0m                                       \n"
      ]
     },
     "metadata": {},
     "output_type": "display_data"
    },
    {
     "data": {
      "text/html": [
       "<pre style=\"white-space:pre;overflow-x:auto;line-height:normal;font-family:Menlo,'DejaVu Sans Mono',consolas,'Courier New',monospace\"><span style=\"color: #7fbfbf; text-decoration-color: #7fbfbf\">           </span><span style=\"color: #000080; text-decoration-color: #000080\">INFO    </span> instance appears to contain <span style=\"color: #008080; text-decoration-color: #008080; font-weight: bold\">20</span> jobs, <span style=\"color: #008080; text-decoration-color: #008080; font-weight: bold\">15</span> machines                                               \n",
       "</pre>\n"
      ],
      "text/plain": [
       "\u001b[2;36m          \u001b[0m\u001b[2;36m \u001b[0m\u001b[34mINFO    \u001b[0m instance appears to contain \u001b[1;36m20\u001b[0m jobs, \u001b[1;36m15\u001b[0m machines                                               \n"
      ]
     },
     "metadata": {},
     "output_type": "display_data"
    },
    {
     "data": {
      "text/html": [
       "<pre style=\"white-space:pre;overflow-x:auto;line-height:normal;font-family:Menlo,'DejaVu Sans Mono',consolas,'Courier New',monospace\"><span style=\"color: #7fbfbf; text-decoration-color: #7fbfbf\">           </span><span style=\"color: #000080; text-decoration-color: #000080\">INFO    </span> parsing file <span style=\"color: #008000; text-decoration-color: #008000\">'resources/jsp_instances/standard/abz8.txt'</span>                                       \n",
       "</pre>\n"
      ],
      "text/plain": [
       "\u001b[2;36m          \u001b[0m\u001b[2;36m \u001b[0m\u001b[34mINFO    \u001b[0m parsing file \u001b[32m'resources/jsp_instances/standard/abz8.txt'\u001b[0m                                       \n"
      ]
     },
     "metadata": {},
     "output_type": "display_data"
    },
    {
     "data": {
      "text/html": [
       "<pre style=\"white-space:pre;overflow-x:auto;line-height:normal;font-family:Menlo,'DejaVu Sans Mono',consolas,'Courier New',monospace\"><span style=\"color: #7fbfbf; text-decoration-color: #7fbfbf\">           </span><span style=\"color: #000080; text-decoration-color: #000080\">INFO    </span> instance appears to contain <span style=\"color: #008080; text-decoration-color: #008080; font-weight: bold\">20</span> jobs, <span style=\"color: #008080; text-decoration-color: #008080; font-weight: bold\">15</span> machines                                               \n",
       "</pre>\n"
      ],
      "text/plain": [
       "\u001b[2;36m          \u001b[0m\u001b[2;36m \u001b[0m\u001b[34mINFO    \u001b[0m instance appears to contain \u001b[1;36m20\u001b[0m jobs, \u001b[1;36m15\u001b[0m machines                                               \n"
      ]
     },
     "metadata": {},
     "output_type": "display_data"
    },
    {
     "data": {
      "text/html": [
       "<pre style=\"white-space:pre;overflow-x:auto;line-height:normal;font-family:Menlo,'DejaVu Sans Mono',consolas,'Courier New',monospace\"><span style=\"color: #7fbfbf; text-decoration-color: #7fbfbf\">           </span><span style=\"color: #000080; text-decoration-color: #000080\">INFO    </span> parsing file <span style=\"color: #008000; text-decoration-color: #008000\">'resources/jsp_instances/standard/abz8.txt'</span>                                       \n",
       "</pre>\n"
      ],
      "text/plain": [
       "\u001b[2;36m          \u001b[0m\u001b[2;36m \u001b[0m\u001b[34mINFO    \u001b[0m parsing file \u001b[32m'resources/jsp_instances/standard/abz8.txt'\u001b[0m                                       \n"
      ]
     },
     "metadata": {},
     "output_type": "display_data"
    },
    {
     "data": {
      "text/html": [
       "<pre style=\"white-space:pre;overflow-x:auto;line-height:normal;font-family:Menlo,'DejaVu Sans Mono',consolas,'Courier New',monospace\"><span style=\"color: #7fbfbf; text-decoration-color: #7fbfbf\">           </span><span style=\"color: #000080; text-decoration-color: #000080\">INFO    </span> instance appears to contain <span style=\"color: #008080; text-decoration-color: #008080; font-weight: bold\">20</span> jobs, <span style=\"color: #008080; text-decoration-color: #008080; font-weight: bold\">15</span> machines                                               \n",
       "</pre>\n"
      ],
      "text/plain": [
       "\u001b[2;36m          \u001b[0m\u001b[2;36m \u001b[0m\u001b[34mINFO    \u001b[0m instance appears to contain \u001b[1;36m20\u001b[0m jobs, \u001b[1;36m15\u001b[0m machines                                               \n"
      ]
     },
     "metadata": {},
     "output_type": "display_data"
    },
    {
     "data": {
      "text/html": [
       "<pre style=\"white-space:pre;overflow-x:auto;line-height:normal;font-family:Menlo,'DejaVu Sans Mono',consolas,'Courier New',monospace\"><span style=\"color: #7fbfbf; text-decoration-color: #7fbfbf\">           </span><span style=\"color: #000080; text-decoration-color: #000080\">INFO    </span> parsing file <span style=\"color: #008000; text-decoration-color: #008000\">'resources/jsp_instances/standard/abz8.txt'</span>                                       \n",
       "</pre>\n"
      ],
      "text/plain": [
       "\u001b[2;36m          \u001b[0m\u001b[2;36m \u001b[0m\u001b[34mINFO    \u001b[0m parsing file \u001b[32m'resources/jsp_instances/standard/abz8.txt'\u001b[0m                                       \n"
      ]
     },
     "metadata": {},
     "output_type": "display_data"
    },
    {
     "data": {
      "text/html": [
       "<pre style=\"white-space:pre;overflow-x:auto;line-height:normal;font-family:Menlo,'DejaVu Sans Mono',consolas,'Courier New',monospace\"><span style=\"color: #7fbfbf; text-decoration-color: #7fbfbf\">           </span><span style=\"color: #000080; text-decoration-color: #000080\">INFO    </span> instance appears to contain <span style=\"color: #008080; text-decoration-color: #008080; font-weight: bold\">20</span> jobs, <span style=\"color: #008080; text-decoration-color: #008080; font-weight: bold\">15</span> machines                                               \n",
       "</pre>\n"
      ],
      "text/plain": [
       "\u001b[2;36m          \u001b[0m\u001b[2;36m \u001b[0m\u001b[34mINFO    \u001b[0m instance appears to contain \u001b[1;36m20\u001b[0m jobs, \u001b[1;36m15\u001b[0m machines                                               \n"
      ]
     },
     "metadata": {},
     "output_type": "display_data"
    },
    {
     "data": {
      "text/html": [
       "<pre style=\"white-space:pre;overflow-x:auto;line-height:normal;font-family:Menlo,'DejaVu Sans Mono',consolas,'Courier New',monospace\"><span style=\"color: #7fbfbf; text-decoration-color: #7fbfbf\">[11:46:33] </span><span style=\"color: #000080; text-decoration-color: #000080\">INFO    </span> parsing file <span style=\"color: #008000; text-decoration-color: #008000\">'resources/jsp_instances/standard/abz8.txt'</span>                                       \n",
       "</pre>\n"
      ],
      "text/plain": [
       "\u001b[2;36m[11:46:33]\u001b[0m\u001b[2;36m \u001b[0m\u001b[34mINFO    \u001b[0m parsing file \u001b[32m'resources/jsp_instances/standard/abz8.txt'\u001b[0m                                       \n"
      ]
     },
     "metadata": {},
     "output_type": "display_data"
    },
    {
     "data": {
      "text/html": [
       "<pre style=\"white-space:pre;overflow-x:auto;line-height:normal;font-family:Menlo,'DejaVu Sans Mono',consolas,'Courier New',monospace\"><span style=\"color: #7fbfbf; text-decoration-color: #7fbfbf\">           </span><span style=\"color: #000080; text-decoration-color: #000080\">INFO    </span> instance appears to contain <span style=\"color: #008080; text-decoration-color: #008080; font-weight: bold\">20</span> jobs, <span style=\"color: #008080; text-decoration-color: #008080; font-weight: bold\">15</span> machines                                               \n",
       "</pre>\n"
      ],
      "text/plain": [
       "\u001b[2;36m          \u001b[0m\u001b[2;36m \u001b[0m\u001b[34mINFO    \u001b[0m instance appears to contain \u001b[1;36m20\u001b[0m jobs, \u001b[1;36m15\u001b[0m machines                                               \n"
      ]
     },
     "metadata": {},
     "output_type": "display_data"
    },
    {
     "data": {
      "text/html": [
       "<pre style=\"white-space:pre;overflow-x:auto;line-height:normal;font-family:Menlo,'DejaVu Sans Mono',consolas,'Courier New',monospace\"><span style=\"color: #7fbfbf; text-decoration-color: #7fbfbf\">           </span><span style=\"color: #000080; text-decoration-color: #000080\">INFO    </span> parsing file <span style=\"color: #008000; text-decoration-color: #008000\">'resources/jsp_instances/standard/abz8.txt'</span>                                       \n",
       "</pre>\n"
      ],
      "text/plain": [
       "\u001b[2;36m          \u001b[0m\u001b[2;36m \u001b[0m\u001b[34mINFO    \u001b[0m parsing file \u001b[32m'resources/jsp_instances/standard/abz8.txt'\u001b[0m                                       \n"
      ]
     },
     "metadata": {},
     "output_type": "display_data"
    },
    {
     "data": {
      "text/html": [
       "<pre style=\"white-space:pre;overflow-x:auto;line-height:normal;font-family:Menlo,'DejaVu Sans Mono',consolas,'Courier New',monospace\"><span style=\"color: #7fbfbf; text-decoration-color: #7fbfbf\">           </span><span style=\"color: #000080; text-decoration-color: #000080\">INFO    </span> instance appears to contain <span style=\"color: #008080; text-decoration-color: #008080; font-weight: bold\">20</span> jobs, <span style=\"color: #008080; text-decoration-color: #008080; font-weight: bold\">15</span> machines                                               \n",
       "</pre>\n"
      ],
      "text/plain": [
       "\u001b[2;36m          \u001b[0m\u001b[2;36m \u001b[0m\u001b[34mINFO    \u001b[0m instance appears to contain \u001b[1;36m20\u001b[0m jobs, \u001b[1;36m15\u001b[0m machines                                               \n"
      ]
     },
     "metadata": {},
     "output_type": "display_data"
    },
    {
     "data": {
      "text/html": [
       "<pre style=\"white-space:pre;overflow-x:auto;line-height:normal;font-family:Menlo,'DejaVu Sans Mono',consolas,'Courier New',monospace\"><span style=\"color: #7fbfbf; text-decoration-color: #7fbfbf\">           </span><span style=\"color: #000080; text-decoration-color: #000080\">INFO    </span> parsing file <span style=\"color: #008000; text-decoration-color: #008000\">'resources/jsp_instances/standard/abz8.txt'</span>                                       \n",
       "</pre>\n"
      ],
      "text/plain": [
       "\u001b[2;36m          \u001b[0m\u001b[2;36m \u001b[0m\u001b[34mINFO    \u001b[0m parsing file \u001b[32m'resources/jsp_instances/standard/abz8.txt'\u001b[0m                                       \n"
      ]
     },
     "metadata": {},
     "output_type": "display_data"
    },
    {
     "data": {
      "text/html": [
       "<pre style=\"white-space:pre;overflow-x:auto;line-height:normal;font-family:Menlo,'DejaVu Sans Mono',consolas,'Courier New',monospace\"><span style=\"color: #7fbfbf; text-decoration-color: #7fbfbf\">           </span><span style=\"color: #000080; text-decoration-color: #000080\">INFO    </span> instance appears to contain <span style=\"color: #008080; text-decoration-color: #008080; font-weight: bold\">20</span> jobs, <span style=\"color: #008080; text-decoration-color: #008080; font-weight: bold\">15</span> machines                                               \n",
       "</pre>\n"
      ],
      "text/plain": [
       "\u001b[2;36m          \u001b[0m\u001b[2;36m \u001b[0m\u001b[34mINFO    \u001b[0m instance appears to contain \u001b[1;36m20\u001b[0m jobs, \u001b[1;36m15\u001b[0m machines                                               \n"
      ]
     },
     "metadata": {},
     "output_type": "display_data"
    },
    {
     "data": {
      "text/html": [
       "<pre style=\"white-space:pre;overflow-x:auto;line-height:normal;font-family:Menlo,'DejaVu Sans Mono',consolas,'Courier New',monospace\"><span style=\"color: #7fbfbf; text-decoration-color: #7fbfbf\">           </span><span style=\"color: #000080; text-decoration-color: #000080\">INFO    </span> parsing file <span style=\"color: #008000; text-decoration-color: #008000\">'resources/jsp_instances/standard/abz8.txt'</span>                                       \n",
       "</pre>\n"
      ],
      "text/plain": [
       "\u001b[2;36m          \u001b[0m\u001b[2;36m \u001b[0m\u001b[34mINFO    \u001b[0m parsing file \u001b[32m'resources/jsp_instances/standard/abz8.txt'\u001b[0m                                       \n"
      ]
     },
     "metadata": {},
     "output_type": "display_data"
    },
    {
     "data": {
      "text/html": [
       "<pre style=\"white-space:pre;overflow-x:auto;line-height:normal;font-family:Menlo,'DejaVu Sans Mono',consolas,'Courier New',monospace\"><span style=\"color: #7fbfbf; text-decoration-color: #7fbfbf\">           </span><span style=\"color: #000080; text-decoration-color: #000080\">INFO    </span> instance appears to contain <span style=\"color: #008080; text-decoration-color: #008080; font-weight: bold\">20</span> jobs, <span style=\"color: #008080; text-decoration-color: #008080; font-weight: bold\">15</span> machines                                               \n",
       "</pre>\n"
      ],
      "text/plain": [
       "\u001b[2;36m          \u001b[0m\u001b[2;36m \u001b[0m\u001b[34mINFO    \u001b[0m instance appears to contain \u001b[1;36m20\u001b[0m jobs, \u001b[1;36m15\u001b[0m machines                                               \n"
      ]
     },
     "metadata": {},
     "output_type": "display_data"
    },
    {
     "data": {
      "text/html": [
       "<pre style=\"white-space:pre;overflow-x:auto;line-height:normal;font-family:Menlo,'DejaVu Sans Mono',consolas,'Courier New',monospace\"><span style=\"color: #7fbfbf; text-decoration-color: #7fbfbf\">           </span><span style=\"color: #000080; text-decoration-color: #000080\">INFO    </span> parsing file <span style=\"color: #008000; text-decoration-color: #008000\">'resources/jsp_instances/standard/abz8.txt'</span>                                       \n",
       "</pre>\n"
      ],
      "text/plain": [
       "\u001b[2;36m          \u001b[0m\u001b[2;36m \u001b[0m\u001b[34mINFO    \u001b[0m parsing file \u001b[32m'resources/jsp_instances/standard/abz8.txt'\u001b[0m                                       \n"
      ]
     },
     "metadata": {},
     "output_type": "display_data"
    },
    {
     "data": {
      "text/html": [
       "<pre style=\"white-space:pre;overflow-x:auto;line-height:normal;font-family:Menlo,'DejaVu Sans Mono',consolas,'Courier New',monospace\"><span style=\"color: #7fbfbf; text-decoration-color: #7fbfbf\">           </span><span style=\"color: #000080; text-decoration-color: #000080\">INFO    </span> instance appears to contain <span style=\"color: #008080; text-decoration-color: #008080; font-weight: bold\">20</span> jobs, <span style=\"color: #008080; text-decoration-color: #008080; font-weight: bold\">15</span> machines                                               \n",
       "</pre>\n"
      ],
      "text/plain": [
       "\u001b[2;36m          \u001b[0m\u001b[2;36m \u001b[0m\u001b[34mINFO    \u001b[0m instance appears to contain \u001b[1;36m20\u001b[0m jobs, \u001b[1;36m15\u001b[0m machines                                               \n"
      ]
     },
     "metadata": {},
     "output_type": "display_data"
    },
    {
     "data": {
      "text/html": [
       "<pre style=\"white-space:pre;overflow-x:auto;line-height:normal;font-family:Menlo,'DejaVu Sans Mono',consolas,'Courier New',monospace\"><span style=\"color: #7fbfbf; text-decoration-color: #7fbfbf\">           </span><span style=\"color: #000080; text-decoration-color: #000080\">INFO    </span> parsing file <span style=\"color: #008000; text-decoration-color: #008000\">'resources/jsp_instances/standard/abz8.txt'</span>                                       \n",
       "</pre>\n"
      ],
      "text/plain": [
       "\u001b[2;36m          \u001b[0m\u001b[2;36m \u001b[0m\u001b[34mINFO    \u001b[0m parsing file \u001b[32m'resources/jsp_instances/standard/abz8.txt'\u001b[0m                                       \n"
      ]
     },
     "metadata": {},
     "output_type": "display_data"
    },
    {
     "data": {
      "text/html": [
       "<pre style=\"white-space:pre;overflow-x:auto;line-height:normal;font-family:Menlo,'DejaVu Sans Mono',consolas,'Courier New',monospace\"><span style=\"color: #7fbfbf; text-decoration-color: #7fbfbf\">           </span><span style=\"color: #000080; text-decoration-color: #000080\">INFO    </span> instance appears to contain <span style=\"color: #008080; text-decoration-color: #008080; font-weight: bold\">20</span> jobs, <span style=\"color: #008080; text-decoration-color: #008080; font-weight: bold\">15</span> machines                                               \n",
       "</pre>\n"
      ],
      "text/plain": [
       "\u001b[2;36m          \u001b[0m\u001b[2;36m \u001b[0m\u001b[34mINFO    \u001b[0m instance appears to contain \u001b[1;36m20\u001b[0m jobs, \u001b[1;36m15\u001b[0m machines                                               \n"
      ]
     },
     "metadata": {},
     "output_type": "display_data"
    },
    {
     "data": {
      "text/html": [
       "<pre style=\"white-space:pre;overflow-x:auto;line-height:normal;font-family:Menlo,'DejaVu Sans Mono',consolas,'Courier New',monospace\"><span style=\"color: #7fbfbf; text-decoration-color: #7fbfbf\">           </span><span style=\"color: #000080; text-decoration-color: #000080\">INFO    </span> parsing file <span style=\"color: #008000; text-decoration-color: #008000\">'resources/jsp_instances/standard/abz8.txt'</span>                                       \n",
       "</pre>\n"
      ],
      "text/plain": [
       "\u001b[2;36m          \u001b[0m\u001b[2;36m \u001b[0m\u001b[34mINFO    \u001b[0m parsing file \u001b[32m'resources/jsp_instances/standard/abz8.txt'\u001b[0m                                       \n"
      ]
     },
     "metadata": {},
     "output_type": "display_data"
    },
    {
     "data": {
      "text/html": [
       "<pre style=\"white-space:pre;overflow-x:auto;line-height:normal;font-family:Menlo,'DejaVu Sans Mono',consolas,'Courier New',monospace\"><span style=\"color: #7fbfbf; text-decoration-color: #7fbfbf\">           </span><span style=\"color: #000080; text-decoration-color: #000080\">INFO    </span> instance appears to contain <span style=\"color: #008080; text-decoration-color: #008080; font-weight: bold\">20</span> jobs, <span style=\"color: #008080; text-decoration-color: #008080; font-weight: bold\">15</span> machines                                               \n",
       "</pre>\n"
      ],
      "text/plain": [
       "\u001b[2;36m          \u001b[0m\u001b[2;36m \u001b[0m\u001b[34mINFO    \u001b[0m instance appears to contain \u001b[1;36m20\u001b[0m jobs, \u001b[1;36m15\u001b[0m machines                                               \n"
      ]
     },
     "metadata": {},
     "output_type": "display_data"
    },
    {
     "data": {
      "text/html": [
       "<pre style=\"white-space:pre;overflow-x:auto;line-height:normal;font-family:Menlo,'DejaVu Sans Mono',consolas,'Courier New',monospace\"><span style=\"color: #7fbfbf; text-decoration-color: #7fbfbf\">           </span><span style=\"color: #000080; text-decoration-color: #000080\">INFO    </span> parsing file <span style=\"color: #008000; text-decoration-color: #008000\">'resources/jsp_instances/standard/abz8.txt'</span>                                       \n",
       "</pre>\n"
      ],
      "text/plain": [
       "\u001b[2;36m          \u001b[0m\u001b[2;36m \u001b[0m\u001b[34mINFO    \u001b[0m parsing file \u001b[32m'resources/jsp_instances/standard/abz8.txt'\u001b[0m                                       \n"
      ]
     },
     "metadata": {},
     "output_type": "display_data"
    },
    {
     "data": {
      "text/html": [
       "<pre style=\"white-space:pre;overflow-x:auto;line-height:normal;font-family:Menlo,'DejaVu Sans Mono',consolas,'Courier New',monospace\"><span style=\"color: #7fbfbf; text-decoration-color: #7fbfbf\">           </span><span style=\"color: #000080; text-decoration-color: #000080\">INFO    </span> instance appears to contain <span style=\"color: #008080; text-decoration-color: #008080; font-weight: bold\">20</span> jobs, <span style=\"color: #008080; text-decoration-color: #008080; font-weight: bold\">15</span> machines                                               \n",
       "</pre>\n"
      ],
      "text/plain": [
       "\u001b[2;36m          \u001b[0m\u001b[2;36m \u001b[0m\u001b[34mINFO    \u001b[0m instance appears to contain \u001b[1;36m20\u001b[0m jobs, \u001b[1;36m15\u001b[0m machines                                               \n"
      ]
     },
     "metadata": {},
     "output_type": "display_data"
    },
    {
     "data": {
      "text/html": [
       "<pre style=\"white-space:pre;overflow-x:auto;line-height:normal;font-family:Menlo,'DejaVu Sans Mono',consolas,'Courier New',monospace\"><span style=\"color: #7fbfbf; text-decoration-color: #7fbfbf\">           </span><span style=\"color: #000080; text-decoration-color: #000080\">INFO    </span> parsing file <span style=\"color: #008000; text-decoration-color: #008000\">'resources/jsp_instances/standard/abz8.txt'</span>                                       \n",
       "</pre>\n"
      ],
      "text/plain": [
       "\u001b[2;36m          \u001b[0m\u001b[2;36m \u001b[0m\u001b[34mINFO    \u001b[0m parsing file \u001b[32m'resources/jsp_instances/standard/abz8.txt'\u001b[0m                                       \n"
      ]
     },
     "metadata": {},
     "output_type": "display_data"
    },
    {
     "data": {
      "text/html": [
       "<pre style=\"white-space:pre;overflow-x:auto;line-height:normal;font-family:Menlo,'DejaVu Sans Mono',consolas,'Courier New',monospace\"><span style=\"color: #7fbfbf; text-decoration-color: #7fbfbf\">           </span><span style=\"color: #000080; text-decoration-color: #000080\">INFO    </span> instance appears to contain <span style=\"color: #008080; text-decoration-color: #008080; font-weight: bold\">20</span> jobs, <span style=\"color: #008080; text-decoration-color: #008080; font-weight: bold\">15</span> machines                                               \n",
       "</pre>\n"
      ],
      "text/plain": [
       "\u001b[2;36m          \u001b[0m\u001b[2;36m \u001b[0m\u001b[34mINFO    \u001b[0m instance appears to contain \u001b[1;36m20\u001b[0m jobs, \u001b[1;36m15\u001b[0m machines                                               \n"
      ]
     },
     "metadata": {},
     "output_type": "display_data"
    },
    {
     "data": {
      "text/html": [
       "<pre style=\"white-space:pre;overflow-x:auto;line-height:normal;font-family:Menlo,'DejaVu Sans Mono',consolas,'Courier New',monospace\"><span style=\"color: #7fbfbf; text-decoration-color: #7fbfbf\">           </span><span style=\"color: #000080; text-decoration-color: #000080\">INFO    </span> parsing file <span style=\"color: #008000; text-decoration-color: #008000\">'resources/jsp_instances/standard/abz8.txt'</span>                                       \n",
       "</pre>\n"
      ],
      "text/plain": [
       "\u001b[2;36m          \u001b[0m\u001b[2;36m \u001b[0m\u001b[34mINFO    \u001b[0m parsing file \u001b[32m'resources/jsp_instances/standard/abz8.txt'\u001b[0m                                       \n"
      ]
     },
     "metadata": {},
     "output_type": "display_data"
    },
    {
     "data": {
      "text/html": [
       "<pre style=\"white-space:pre;overflow-x:auto;line-height:normal;font-family:Menlo,'DejaVu Sans Mono',consolas,'Courier New',monospace\"><span style=\"color: #7fbfbf; text-decoration-color: #7fbfbf\">           </span><span style=\"color: #000080; text-decoration-color: #000080\">INFO    </span> instance appears to contain <span style=\"color: #008080; text-decoration-color: #008080; font-weight: bold\">20</span> jobs, <span style=\"color: #008080; text-decoration-color: #008080; font-weight: bold\">15</span> machines                                               \n",
       "</pre>\n"
      ],
      "text/plain": [
       "\u001b[2;36m          \u001b[0m\u001b[2;36m \u001b[0m\u001b[34mINFO    \u001b[0m instance appears to contain \u001b[1;36m20\u001b[0m jobs, \u001b[1;36m15\u001b[0m machines                                               \n"
      ]
     },
     "metadata": {},
     "output_type": "display_data"
    },
    {
     "data": {
      "text/html": [
       "<pre style=\"white-space:pre;overflow-x:auto;line-height:normal;font-family:Menlo,'DejaVu Sans Mono',consolas,'Courier New',monospace\"><span style=\"color: #7fbfbf; text-decoration-color: #7fbfbf\">           </span><span style=\"color: #000080; text-decoration-color: #000080\">INFO    </span> parsing file <span style=\"color: #008000; text-decoration-color: #008000\">'resources/jsp_instances/standard/abz8.txt'</span>                                       \n",
       "</pre>\n"
      ],
      "text/plain": [
       "\u001b[2;36m          \u001b[0m\u001b[2;36m \u001b[0m\u001b[34mINFO    \u001b[0m parsing file \u001b[32m'resources/jsp_instances/standard/abz8.txt'\u001b[0m                                       \n"
      ]
     },
     "metadata": {},
     "output_type": "display_data"
    },
    {
     "data": {
      "text/html": [
       "<pre style=\"white-space:pre;overflow-x:auto;line-height:normal;font-family:Menlo,'DejaVu Sans Mono',consolas,'Courier New',monospace\"><span style=\"color: #7fbfbf; text-decoration-color: #7fbfbf\">           </span><span style=\"color: #000080; text-decoration-color: #000080\">INFO    </span> instance appears to contain <span style=\"color: #008080; text-decoration-color: #008080; font-weight: bold\">20</span> jobs, <span style=\"color: #008080; text-decoration-color: #008080; font-weight: bold\">15</span> machines                                               \n",
       "</pre>\n"
      ],
      "text/plain": [
       "\u001b[2;36m          \u001b[0m\u001b[2;36m \u001b[0m\u001b[34mINFO    \u001b[0m instance appears to contain \u001b[1;36m20\u001b[0m jobs, \u001b[1;36m15\u001b[0m machines                                               \n"
      ]
     },
     "metadata": {},
     "output_type": "display_data"
    },
    {
     "data": {
      "text/html": [
       "<pre style=\"white-space:pre;overflow-x:auto;line-height:normal;font-family:Menlo,'DejaVu Sans Mono',consolas,'Courier New',monospace\"><span style=\"color: #7fbfbf; text-decoration-color: #7fbfbf\">           </span><span style=\"color: #000080; text-decoration-color: #000080\">INFO    </span> parsing file <span style=\"color: #008000; text-decoration-color: #008000\">'resources/jsp_instances/standard/abz8.txt'</span>                                       \n",
       "</pre>\n"
      ],
      "text/plain": [
       "\u001b[2;36m          \u001b[0m\u001b[2;36m \u001b[0m\u001b[34mINFO    \u001b[0m parsing file \u001b[32m'resources/jsp_instances/standard/abz8.txt'\u001b[0m                                       \n"
      ]
     },
     "metadata": {},
     "output_type": "display_data"
    },
    {
     "data": {
      "text/html": [
       "<pre style=\"white-space:pre;overflow-x:auto;line-height:normal;font-family:Menlo,'DejaVu Sans Mono',consolas,'Courier New',monospace\"><span style=\"color: #7fbfbf; text-decoration-color: #7fbfbf\">           </span><span style=\"color: #000080; text-decoration-color: #000080\">INFO    </span> instance appears to contain <span style=\"color: #008080; text-decoration-color: #008080; font-weight: bold\">20</span> jobs, <span style=\"color: #008080; text-decoration-color: #008080; font-weight: bold\">15</span> machines                                               \n",
       "</pre>\n"
      ],
      "text/plain": [
       "\u001b[2;36m          \u001b[0m\u001b[2;36m \u001b[0m\u001b[34mINFO    \u001b[0m instance appears to contain \u001b[1;36m20\u001b[0m jobs, \u001b[1;36m15\u001b[0m machines                                               \n"
      ]
     },
     "metadata": {},
     "output_type": "display_data"
    },
    {
     "data": {
      "text/html": [
       "<pre style=\"white-space:pre;overflow-x:auto;line-height:normal;font-family:Menlo,'DejaVu Sans Mono',consolas,'Courier New',monospace\"><span style=\"color: #7fbfbf; text-decoration-color: #7fbfbf\">           </span><span style=\"color: #000080; text-decoration-color: #000080\">INFO    </span> parsing file <span style=\"color: #008000; text-decoration-color: #008000\">'resources/jsp_instances/standard/abz8.txt'</span>                                       \n",
       "</pre>\n"
      ],
      "text/plain": [
       "\u001b[2;36m          \u001b[0m\u001b[2;36m \u001b[0m\u001b[34mINFO    \u001b[0m parsing file \u001b[32m'resources/jsp_instances/standard/abz8.txt'\u001b[0m                                       \n"
      ]
     },
     "metadata": {},
     "output_type": "display_data"
    },
    {
     "data": {
      "text/html": [
       "<pre style=\"white-space:pre;overflow-x:auto;line-height:normal;font-family:Menlo,'DejaVu Sans Mono',consolas,'Courier New',monospace\"><span style=\"color: #7fbfbf; text-decoration-color: #7fbfbf\">           </span><span style=\"color: #000080; text-decoration-color: #000080\">INFO    </span> instance appears to contain <span style=\"color: #008080; text-decoration-color: #008080; font-weight: bold\">20</span> jobs, <span style=\"color: #008080; text-decoration-color: #008080; font-weight: bold\">15</span> machines                                               \n",
       "</pre>\n"
      ],
      "text/plain": [
       "\u001b[2;36m          \u001b[0m\u001b[2;36m \u001b[0m\u001b[34mINFO    \u001b[0m instance appears to contain \u001b[1;36m20\u001b[0m jobs, \u001b[1;36m15\u001b[0m machines                                               \n"
      ]
     },
     "metadata": {},
     "output_type": "display_data"
    },
    {
     "data": {
      "text/html": [
       "<pre style=\"white-space:pre;overflow-x:auto;line-height:normal;font-family:Menlo,'DejaVu Sans Mono',consolas,'Courier New',monospace\"><span style=\"color: #7fbfbf; text-decoration-color: #7fbfbf\">           </span><span style=\"color: #000080; text-decoration-color: #000080\">INFO    </span> parsing file <span style=\"color: #008000; text-decoration-color: #008000\">'resources/jsp_instances/standard/abz8.txt'</span>                                       \n",
       "</pre>\n"
      ],
      "text/plain": [
       "\u001b[2;36m          \u001b[0m\u001b[2;36m \u001b[0m\u001b[34mINFO    \u001b[0m parsing file \u001b[32m'resources/jsp_instances/standard/abz8.txt'\u001b[0m                                       \n"
      ]
     },
     "metadata": {},
     "output_type": "display_data"
    },
    {
     "data": {
      "text/html": [
       "<pre style=\"white-space:pre;overflow-x:auto;line-height:normal;font-family:Menlo,'DejaVu Sans Mono',consolas,'Courier New',monospace\"><span style=\"color: #7fbfbf; text-decoration-color: #7fbfbf\">           </span><span style=\"color: #000080; text-decoration-color: #000080\">INFO    </span> instance appears to contain <span style=\"color: #008080; text-decoration-color: #008080; font-weight: bold\">20</span> jobs, <span style=\"color: #008080; text-decoration-color: #008080; font-weight: bold\">15</span> machines                                               \n",
       "</pre>\n"
      ],
      "text/plain": [
       "\u001b[2;36m          \u001b[0m\u001b[2;36m \u001b[0m\u001b[34mINFO    \u001b[0m instance appears to contain \u001b[1;36m20\u001b[0m jobs, \u001b[1;36m15\u001b[0m machines                                               \n"
      ]
     },
     "metadata": {},
     "output_type": "display_data"
    },
    {
     "data": {
      "text/html": [
       "<pre style=\"white-space:pre;overflow-x:auto;line-height:normal;font-family:Menlo,'DejaVu Sans Mono',consolas,'Courier New',monospace\"><span style=\"color: #7fbfbf; text-decoration-color: #7fbfbf\">[11:46:34] </span><span style=\"color: #000080; text-decoration-color: #000080\">INFO    </span> parsing file <span style=\"color: #008000; text-decoration-color: #008000\">'resources/jsp_instances/standard/abz8.txt'</span>                                       \n",
       "</pre>\n"
      ],
      "text/plain": [
       "\u001b[2;36m[11:46:34]\u001b[0m\u001b[2;36m \u001b[0m\u001b[34mINFO    \u001b[0m parsing file \u001b[32m'resources/jsp_instances/standard/abz8.txt'\u001b[0m                                       \n"
      ]
     },
     "metadata": {},
     "output_type": "display_data"
    },
    {
     "data": {
      "text/html": [
       "<pre style=\"white-space:pre;overflow-x:auto;line-height:normal;font-family:Menlo,'DejaVu Sans Mono',consolas,'Courier New',monospace\"><span style=\"color: #7fbfbf; text-decoration-color: #7fbfbf\">           </span><span style=\"color: #000080; text-decoration-color: #000080\">INFO    </span> instance appears to contain <span style=\"color: #008080; text-decoration-color: #008080; font-weight: bold\">20</span> jobs, <span style=\"color: #008080; text-decoration-color: #008080; font-weight: bold\">15</span> machines                                               \n",
       "</pre>\n"
      ],
      "text/plain": [
       "\u001b[2;36m          \u001b[0m\u001b[2;36m \u001b[0m\u001b[34mINFO    \u001b[0m instance appears to contain \u001b[1;36m20\u001b[0m jobs, \u001b[1;36m15\u001b[0m machines                                               \n"
      ]
     },
     "metadata": {},
     "output_type": "display_data"
    },
    {
     "data": {
      "text/html": [
       "<pre style=\"white-space:pre;overflow-x:auto;line-height:normal;font-family:Menlo,'DejaVu Sans Mono',consolas,'Courier New',monospace\"><span style=\"color: #7fbfbf; text-decoration-color: #7fbfbf\">           </span><span style=\"color: #000080; text-decoration-color: #000080\">INFO    </span> parsing file <span style=\"color: #008000; text-decoration-color: #008000\">'resources/jsp_instances/standard/abz8.txt'</span>                                       \n",
       "</pre>\n"
      ],
      "text/plain": [
       "\u001b[2;36m          \u001b[0m\u001b[2;36m \u001b[0m\u001b[34mINFO    \u001b[0m parsing file \u001b[32m'resources/jsp_instances/standard/abz8.txt'\u001b[0m                                       \n"
      ]
     },
     "metadata": {},
     "output_type": "display_data"
    },
    {
     "data": {
      "text/html": [
       "<pre style=\"white-space:pre;overflow-x:auto;line-height:normal;font-family:Menlo,'DejaVu Sans Mono',consolas,'Courier New',monospace\"><span style=\"color: #7fbfbf; text-decoration-color: #7fbfbf\">           </span><span style=\"color: #000080; text-decoration-color: #000080\">INFO    </span> instance appears to contain <span style=\"color: #008080; text-decoration-color: #008080; font-weight: bold\">20</span> jobs, <span style=\"color: #008080; text-decoration-color: #008080; font-weight: bold\">15</span> machines                                               \n",
       "</pre>\n"
      ],
      "text/plain": [
       "\u001b[2;36m          \u001b[0m\u001b[2;36m \u001b[0m\u001b[34mINFO    \u001b[0m instance appears to contain \u001b[1;36m20\u001b[0m jobs, \u001b[1;36m15\u001b[0m machines                                               \n"
      ]
     },
     "metadata": {},
     "output_type": "display_data"
    },
    {
     "data": {
      "text/html": [
       "<pre style=\"white-space:pre;overflow-x:auto;line-height:normal;font-family:Menlo,'DejaVu Sans Mono',consolas,'Courier New',monospace\"><span style=\"color: #7fbfbf; text-decoration-color: #7fbfbf\">           </span><span style=\"color: #000080; text-decoration-color: #000080\">INFO    </span> parsing file <span style=\"color: #008000; text-decoration-color: #008000\">'resources/jsp_instances/standard/abz8.txt'</span>                                       \n",
       "</pre>\n"
      ],
      "text/plain": [
       "\u001b[2;36m          \u001b[0m\u001b[2;36m \u001b[0m\u001b[34mINFO    \u001b[0m parsing file \u001b[32m'resources/jsp_instances/standard/abz8.txt'\u001b[0m                                       \n"
      ]
     },
     "metadata": {},
     "output_type": "display_data"
    },
    {
     "data": {
      "text/html": [
       "<pre style=\"white-space:pre;overflow-x:auto;line-height:normal;font-family:Menlo,'DejaVu Sans Mono',consolas,'Courier New',monospace\"><span style=\"color: #7fbfbf; text-decoration-color: #7fbfbf\">           </span><span style=\"color: #000080; text-decoration-color: #000080\">INFO    </span> instance appears to contain <span style=\"color: #008080; text-decoration-color: #008080; font-weight: bold\">20</span> jobs, <span style=\"color: #008080; text-decoration-color: #008080; font-weight: bold\">15</span> machines                                               \n",
       "</pre>\n"
      ],
      "text/plain": [
       "\u001b[2;36m          \u001b[0m\u001b[2;36m \u001b[0m\u001b[34mINFO    \u001b[0m instance appears to contain \u001b[1;36m20\u001b[0m jobs, \u001b[1;36m15\u001b[0m machines                                               \n"
      ]
     },
     "metadata": {},
     "output_type": "display_data"
    },
    {
     "data": {
      "text/html": [
       "<pre style=\"white-space:pre;overflow-x:auto;line-height:normal;font-family:Menlo,'DejaVu Sans Mono',consolas,'Courier New',monospace\"><span style=\"color: #7fbfbf; text-decoration-color: #7fbfbf\">           </span><span style=\"color: #000080; text-decoration-color: #000080\">INFO    </span> parsing file <span style=\"color: #008000; text-decoration-color: #008000\">'resources/jsp_instances/standard/abz8.txt'</span>                                       \n",
       "</pre>\n"
      ],
      "text/plain": [
       "\u001b[2;36m          \u001b[0m\u001b[2;36m \u001b[0m\u001b[34mINFO    \u001b[0m parsing file \u001b[32m'resources/jsp_instances/standard/abz8.txt'\u001b[0m                                       \n"
      ]
     },
     "metadata": {},
     "output_type": "display_data"
    },
    {
     "data": {
      "text/html": [
       "<pre style=\"white-space:pre;overflow-x:auto;line-height:normal;font-family:Menlo,'DejaVu Sans Mono',consolas,'Courier New',monospace\"><span style=\"color: #7fbfbf; text-decoration-color: #7fbfbf\">           </span><span style=\"color: #000080; text-decoration-color: #000080\">INFO    </span> instance appears to contain <span style=\"color: #008080; text-decoration-color: #008080; font-weight: bold\">20</span> jobs, <span style=\"color: #008080; text-decoration-color: #008080; font-weight: bold\">15</span> machines                                               \n",
       "</pre>\n"
      ],
      "text/plain": [
       "\u001b[2;36m          \u001b[0m\u001b[2;36m \u001b[0m\u001b[34mINFO    \u001b[0m instance appears to contain \u001b[1;36m20\u001b[0m jobs, \u001b[1;36m15\u001b[0m machines                                               \n"
      ]
     },
     "metadata": {},
     "output_type": "display_data"
    },
    {
     "data": {
      "text/html": [
       "<pre style=\"white-space:pre;overflow-x:auto;line-height:normal;font-family:Menlo,'DejaVu Sans Mono',consolas,'Courier New',monospace\"><span style=\"color: #7fbfbf; text-decoration-color: #7fbfbf\">           </span><span style=\"color: #000080; text-decoration-color: #000080\">INFO    </span> parsing file <span style=\"color: #008000; text-decoration-color: #008000\">'resources/jsp_instances/standard/abz8.txt'</span>                                       \n",
       "</pre>\n"
      ],
      "text/plain": [
       "\u001b[2;36m          \u001b[0m\u001b[2;36m \u001b[0m\u001b[34mINFO    \u001b[0m parsing file \u001b[32m'resources/jsp_instances/standard/abz8.txt'\u001b[0m                                       \n"
      ]
     },
     "metadata": {},
     "output_type": "display_data"
    },
    {
     "data": {
      "text/html": [
       "<pre style=\"white-space:pre;overflow-x:auto;line-height:normal;font-family:Menlo,'DejaVu Sans Mono',consolas,'Courier New',monospace\"><span style=\"color: #7fbfbf; text-decoration-color: #7fbfbf\">           </span><span style=\"color: #000080; text-decoration-color: #000080\">INFO    </span> instance appears to contain <span style=\"color: #008080; text-decoration-color: #008080; font-weight: bold\">20</span> jobs, <span style=\"color: #008080; text-decoration-color: #008080; font-weight: bold\">15</span> machines                                               \n",
       "</pre>\n"
      ],
      "text/plain": [
       "\u001b[2;36m          \u001b[0m\u001b[2;36m \u001b[0m\u001b[34mINFO    \u001b[0m instance appears to contain \u001b[1;36m20\u001b[0m jobs, \u001b[1;36m15\u001b[0m machines                                               \n"
      ]
     },
     "metadata": {},
     "output_type": "display_data"
    },
    {
     "data": {
      "text/html": [
       "<pre style=\"white-space:pre;overflow-x:auto;line-height:normal;font-family:Menlo,'DejaVu Sans Mono',consolas,'Courier New',monospace\"><span style=\"color: #7fbfbf; text-decoration-color: #7fbfbf\">           </span><span style=\"color: #000080; text-decoration-color: #000080\">INFO    </span> parsing file <span style=\"color: #008000; text-decoration-color: #008000\">'resources/jsp_instances/standard/abz8.txt'</span>                                       \n",
       "</pre>\n"
      ],
      "text/plain": [
       "\u001b[2;36m          \u001b[0m\u001b[2;36m \u001b[0m\u001b[34mINFO    \u001b[0m parsing file \u001b[32m'resources/jsp_instances/standard/abz8.txt'\u001b[0m                                       \n"
      ]
     },
     "metadata": {},
     "output_type": "display_data"
    },
    {
     "data": {
      "text/html": [
       "<pre style=\"white-space:pre;overflow-x:auto;line-height:normal;font-family:Menlo,'DejaVu Sans Mono',consolas,'Courier New',monospace\"><span style=\"color: #7fbfbf; text-decoration-color: #7fbfbf\">           </span><span style=\"color: #000080; text-decoration-color: #000080\">INFO    </span> instance appears to contain <span style=\"color: #008080; text-decoration-color: #008080; font-weight: bold\">20</span> jobs, <span style=\"color: #008080; text-decoration-color: #008080; font-weight: bold\">15</span> machines                                               \n",
       "</pre>\n"
      ],
      "text/plain": [
       "\u001b[2;36m          \u001b[0m\u001b[2;36m \u001b[0m\u001b[34mINFO    \u001b[0m instance appears to contain \u001b[1;36m20\u001b[0m jobs, \u001b[1;36m15\u001b[0m machines                                               \n"
      ]
     },
     "metadata": {},
     "output_type": "display_data"
    },
    {
     "data": {
      "text/html": [
       "<pre style=\"white-space:pre;overflow-x:auto;line-height:normal;font-family:Menlo,'DejaVu Sans Mono',consolas,'Courier New',monospace\"><span style=\"color: #7fbfbf; text-decoration-color: #7fbfbf\">           </span><span style=\"color: #000080; text-decoration-color: #000080\">INFO    </span> parsing file <span style=\"color: #008000; text-decoration-color: #008000\">'resources/jsp_instances/standard/abz8.txt'</span>                                       \n",
       "</pre>\n"
      ],
      "text/plain": [
       "\u001b[2;36m          \u001b[0m\u001b[2;36m \u001b[0m\u001b[34mINFO    \u001b[0m parsing file \u001b[32m'resources/jsp_instances/standard/abz8.txt'\u001b[0m                                       \n"
      ]
     },
     "metadata": {},
     "output_type": "display_data"
    },
    {
     "data": {
      "text/html": [
       "<pre style=\"white-space:pre;overflow-x:auto;line-height:normal;font-family:Menlo,'DejaVu Sans Mono',consolas,'Courier New',monospace\"><span style=\"color: #7fbfbf; text-decoration-color: #7fbfbf\">           </span><span style=\"color: #000080; text-decoration-color: #000080\">INFO    </span> instance appears to contain <span style=\"color: #008080; text-decoration-color: #008080; font-weight: bold\">20</span> jobs, <span style=\"color: #008080; text-decoration-color: #008080; font-weight: bold\">15</span> machines                                               \n",
       "</pre>\n"
      ],
      "text/plain": [
       "\u001b[2;36m          \u001b[0m\u001b[2;36m \u001b[0m\u001b[34mINFO    \u001b[0m instance appears to contain \u001b[1;36m20\u001b[0m jobs, \u001b[1;36m15\u001b[0m machines                                               \n"
      ]
     },
     "metadata": {},
     "output_type": "display_data"
    },
    {
     "data": {
      "text/html": [
       "<pre style=\"white-space:pre;overflow-x:auto;line-height:normal;font-family:Menlo,'DejaVu Sans Mono',consolas,'Courier New',monospace\"><span style=\"color: #7fbfbf; text-decoration-color: #7fbfbf\">           </span><span style=\"color: #000080; text-decoration-color: #000080\">INFO    </span> parsing file <span style=\"color: #008000; text-decoration-color: #008000\">'resources/jsp_instances/standard/abz8.txt'</span>                                       \n",
       "</pre>\n"
      ],
      "text/plain": [
       "\u001b[2;36m          \u001b[0m\u001b[2;36m \u001b[0m\u001b[34mINFO    \u001b[0m parsing file \u001b[32m'resources/jsp_instances/standard/abz8.txt'\u001b[0m                                       \n"
      ]
     },
     "metadata": {},
     "output_type": "display_data"
    },
    {
     "data": {
      "text/html": [
       "<pre style=\"white-space:pre;overflow-x:auto;line-height:normal;font-family:Menlo,'DejaVu Sans Mono',consolas,'Courier New',monospace\"><span style=\"color: #7fbfbf; text-decoration-color: #7fbfbf\">           </span><span style=\"color: #000080; text-decoration-color: #000080\">INFO    </span> instance appears to contain <span style=\"color: #008080; text-decoration-color: #008080; font-weight: bold\">20</span> jobs, <span style=\"color: #008080; text-decoration-color: #008080; font-weight: bold\">15</span> machines                                               \n",
       "</pre>\n"
      ],
      "text/plain": [
       "\u001b[2;36m          \u001b[0m\u001b[2;36m \u001b[0m\u001b[34mINFO    \u001b[0m instance appears to contain \u001b[1;36m20\u001b[0m jobs, \u001b[1;36m15\u001b[0m machines                                               \n"
      ]
     },
     "metadata": {},
     "output_type": "display_data"
    },
    {
     "data": {
      "text/html": [
       "<pre style=\"white-space:pre;overflow-x:auto;line-height:normal;font-family:Menlo,'DejaVu Sans Mono',consolas,'Courier New',monospace\"><span style=\"color: #7fbfbf; text-decoration-color: #7fbfbf\">           </span><span style=\"color: #000080; text-decoration-color: #000080\">INFO    </span> parsing file <span style=\"color: #008000; text-decoration-color: #008000\">'resources/jsp_instances/standard/abz8.txt'</span>                                       \n",
       "</pre>\n"
      ],
      "text/plain": [
       "\u001b[2;36m          \u001b[0m\u001b[2;36m \u001b[0m\u001b[34mINFO    \u001b[0m parsing file \u001b[32m'resources/jsp_instances/standard/abz8.txt'\u001b[0m                                       \n"
      ]
     },
     "metadata": {},
     "output_type": "display_data"
    },
    {
     "data": {
      "text/html": [
       "<pre style=\"white-space:pre;overflow-x:auto;line-height:normal;font-family:Menlo,'DejaVu Sans Mono',consolas,'Courier New',monospace\"><span style=\"color: #7fbfbf; text-decoration-color: #7fbfbf\">           </span><span style=\"color: #000080; text-decoration-color: #000080\">INFO    </span> instance appears to contain <span style=\"color: #008080; text-decoration-color: #008080; font-weight: bold\">20</span> jobs, <span style=\"color: #008080; text-decoration-color: #008080; font-weight: bold\">15</span> machines                                               \n",
       "</pre>\n"
      ],
      "text/plain": [
       "\u001b[2;36m          \u001b[0m\u001b[2;36m \u001b[0m\u001b[34mINFO    \u001b[0m instance appears to contain \u001b[1;36m20\u001b[0m jobs, \u001b[1;36m15\u001b[0m machines                                               \n"
      ]
     },
     "metadata": {},
     "output_type": "display_data"
    },
    {
     "data": {
      "text/html": [
       "<pre style=\"white-space:pre;overflow-x:auto;line-height:normal;font-family:Menlo,'DejaVu Sans Mono',consolas,'Courier New',monospace\"><span style=\"color: #7fbfbf; text-decoration-color: #7fbfbf\">           </span><span style=\"color: #000080; text-decoration-color: #000080\">INFO    </span> parsing file <span style=\"color: #008000; text-decoration-color: #008000\">'resources/jsp_instances/standard/abz8.txt'</span>                                       \n",
       "</pre>\n"
      ],
      "text/plain": [
       "\u001b[2;36m          \u001b[0m\u001b[2;36m \u001b[0m\u001b[34mINFO    \u001b[0m parsing file \u001b[32m'resources/jsp_instances/standard/abz8.txt'\u001b[0m                                       \n"
      ]
     },
     "metadata": {},
     "output_type": "display_data"
    },
    {
     "data": {
      "text/html": [
       "<pre style=\"white-space:pre;overflow-x:auto;line-height:normal;font-family:Menlo,'DejaVu Sans Mono',consolas,'Courier New',monospace\"><span style=\"color: #7fbfbf; text-decoration-color: #7fbfbf\">           </span><span style=\"color: #000080; text-decoration-color: #000080\">INFO    </span> instance appears to contain <span style=\"color: #008080; text-decoration-color: #008080; font-weight: bold\">20</span> jobs, <span style=\"color: #008080; text-decoration-color: #008080; font-weight: bold\">15</span> machines                                               \n",
       "</pre>\n"
      ],
      "text/plain": [
       "\u001b[2;36m          \u001b[0m\u001b[2;36m \u001b[0m\u001b[34mINFO    \u001b[0m instance appears to contain \u001b[1;36m20\u001b[0m jobs, \u001b[1;36m15\u001b[0m machines                                               \n"
      ]
     },
     "metadata": {},
     "output_type": "display_data"
    }
   ],
   "source": [
    "import JSSEnv\n",
    "import src.jss_graph_env.disjunctive_graph_jss_env as jss_env\n",
    "import src.jsp_instance_parser \n",
    "import time\n",
    "import gym\n",
    "import pandas as pd\n",
    "import random\n",
    "import numpy as np\n",
    "index=['klagenfurt','alex']\n",
    "df=pd.DataFrame(np.zeros((2,5)),columns=['setuptime','resettime','10xactiontime','col4','col5'],index=index)\n",
    "#df=pd.DataFrame\n",
    "#df.set_index('index')\n",
    "for i in range(100):\n",
    "\n",
    "    def timer(innerfun):\n",
    "        tmp_t=time.time()\n",
    "        tmp_r=innerfun()\n",
    "        return time.time()-tmp_t,tmp_r\n",
    "\n",
    "    tmp_t=time.time()\n",
    "    env2=gym.make('jss-v1', env_config={'instance_path': 'resources/jsp_instances/standard/abz8.txt'})\n",
    "    t_1=(time.time()-tmp_t)\n",
    "    df['setuptime']['klagenfurt']+=t_1/100\n",
    "    tmp_t=time.time()\n",
    "    path='resources/jsp_instances/standard/abz8.txt'\n",
    "    curr_instance=src.jsp_instance_parser.parse_jps_standard_specification(path)\n",
    "    res,std_matrix=curr_instance\n",
    "    env_alex = jss_env.DisjunctiveGraphJssEnv(res,default_visualisations='gantt_console')\n",
    "    t_2=(time.time()-tmp_t)\n",
    "    df['setuptime']['alex']+=t_2/100\n",
    "    tmp_t=time.time()\n",
    "    t=env2.reset()\n",
    "    t_1=(time.time()-tmp_t)\n",
    "    df['resettime']['klagenfurt']+=t_1/100\n",
    "    tmp_t=time.time()\n",
    "    t2=env_alex.reset()\n",
    "    t_2=(time.time()-tmp_t)\n",
    "    df['resettime']['alex']+=t_2/100\n",
    "\n",
    "\n",
    "    state=env2.reset()\n",
    "    for i in range(10):\n",
    "        legal_action=state['action_mask']\n",
    "        action=np.random.choice(len(legal_action), 1, p=(legal_action / legal_action.sum()))[0]\n",
    "        tmp_t=time.time()\n",
    "        state, reward, done, info=env2.step(action)\n",
    "        t_1=(time.time()-tmp_t)\n",
    "        df['10xactiontime']['klagenfurt']+=t_1/100\n",
    "\n",
    "        if done==True:\n",
    "            print(f\"finished! no legal actions possible after {i} steps\")\n",
    "            break\n",
    "\n",
    "    action_list=np.arange(0,env_alex.n_jobs*env_alex.n_machines)\n",
    "    for i in range(10):\n",
    "        action_mask=env_alex.valid_action_mask()\n",
    "        actions=action_list[action_mask]\n",
    "        next_action=random.choice(actions)\n",
    "        #next_action=actions[action_mask[0]]\n",
    "        #print(next_action)\n",
    "        tmp_t=time.time()\n",
    "        state,reward,done,info =env_alex.step(next_action)\n",
    "        t_2=(time.time()-tmp_t)\n",
    "        df['10xactiontime']['alex']+=t_2/100\n",
    "        if done == True:\n",
    "            print(f\"finished after {i} steps\")\n",
    "            break\n",
    "        #env.render()\n",
    "\n",
    "\n",
    "\n",
    "\n"
   ]
  },
  {
   "cell_type": "code",
   "execution_count": null,
   "metadata": {},
   "outputs": [],
   "source": []
  }
 ],
 "metadata": {
  "kernelspec": {
   "display_name": "Python 3.8.9 64-bit",
   "language": "python",
   "name": "python3"
  },
  "language_info": {
   "codemirror_mode": {
    "name": "ipython",
    "version": 3
   },
   "file_extension": ".py",
   "mimetype": "text/x-python",
   "name": "python",
   "nbconvert_exporter": "python",
   "pygments_lexer": "ipython3",
   "version": "3.8.9"
  },
  "orig_nbformat": 4,
  "vscode": {
   "interpreter": {
    "hash": "31f2aee4e71d21fbe5cf8b01ff0e069b9275f58929596ceb00d14d90e3e16cd6"
   }
  }
 },
 "nbformat": 4,
 "nbformat_minor": 2
}
